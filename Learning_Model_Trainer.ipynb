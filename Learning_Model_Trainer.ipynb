{
 "cells": [
  {
   "cell_type": "code",
   "execution_count": 1,
   "metadata": {
    "collapsed": false
   },
   "outputs": [
    {
     "name": "stderr",
     "output_type": "stream",
     "text": [
      "/home/bigdatas16/anaconda2/lib/python2.7/site-packages/sklearn/cross_validation.py:44: DeprecationWarning: This module was deprecated in version 0.18 in favor of the model_selection module into which all the refactored classes and functions are moved. Also note that the interface of the new CV iterators are different from that of this module. This module will be removed in 0.20.\n",
      "  \"This module will be removed in 0.20.\", DeprecationWarning)\n"
     ]
    },
    {
     "name": "stdout",
     "output_type": "stream",
     "text": [
      "Populating the interactive namespace from numpy and matplotlib\n"
     ]
    }
   ],
   "source": [
    "import pandas as pd\n",
    "import numpy as np\n",
    "from sklearn.ensemble import (RandomForestClassifier, ExtraTreesClassifier, GradientBoostingClassifier)\n",
    "from sklearn import (metrics, cross_validation, linear_model, preprocessing)\n",
    "%pylab inline"
   ]
  },
  {
   "cell_type": "code",
   "execution_count": null,
   "metadata": {
    "collapsed": true
   },
   "outputs": [],
   "source": []
  },
  {
   "cell_type": "code",
   "execution_count": 2,
   "metadata": {
    "collapsed": false
   },
   "outputs": [],
   "source": [
    "SEED = 42\n",
    "def cv_loop_acc(X, y, model, N):\n",
    "    mean_acc = 0.0\n",
    "    for i in range(0,N,1):\n",
    "        X_train, X_cv, y_train, y_cv = cross_validation.train_test_split(\n",
    "                                       X, y, test_size=1.0/float(N), \n",
    "                                       random_state = i*SEED)\n",
    "        model.fit(X_train, y_train)\n",
    "        preds = model.predict(X_cv)\n",
    "        acc = metrics.accuracy_score(y_cv, preds)\n",
    "        #print acc\n",
    "        mean_acc += acc\n",
    "    return mean_acc/N"
   ]
  },
  {
   "cell_type": "code",
   "execution_count": 3,
   "metadata": {
    "collapsed": false
   },
   "outputs": [],
   "source": [
    "SEED = 42\n",
    "def cv_loop_auc(X, y, model, N):\n",
    "    mean_auc = 0.0\n",
    "    for i in range(0,N,1):\n",
    "        X_train, X_cv, y_train, y_cv = cross_validation.train_test_split(\n",
    "                                       X, y, test_size=1.0/float(N), \n",
    "                                       random_state = i*SEED)\n",
    "        model.fit(X_train, y_train)\n",
    "        preds = model.predict_proba(X_cv)[:,1]\n",
    "        auc = metrics.roc_auc_score(y_cv, preds)\n",
    "        #print auc\n",
    "        mean_auc += auc\n",
    "    return mean_auc/N"
   ]
  },
  {
   "cell_type": "code",
   "execution_count": 4,
   "metadata": {
    "collapsed": false,
    "scrolled": true
   },
   "outputs": [],
   "source": [
    "def read_csv(day_trade):\n",
    "    data_up = []\n",
    "    data_down = []\n",
    "    path = '/home/bigdatas16/SGX-OrderBook-Tick-Data-Trading-Strategy-/Train_Test_Data/ML_data_2014'\n",
    "    for j,i in enumerate(day_trade):\n",
    "        for k in range(0,len(i),1):\n",
    "            path_up = path + '_' + str(j+1) + '_' + str(i[k]) + '_' + 'UP' + '.csv'\n",
    "            path_down = path + '_' + str(j+1) + '_' + str(i[k]) + '_' + 'DOWN' + '.csv'\n",
    "            data_up.append(pd.read_csv(path_up))\n",
    "            data_down.append(pd.read_csv(path_down))\n",
    "            #print path_down\n",
    "    return data_up,data_down"
   ]
  },
  {
   "cell_type": "code",
   "execution_count": 7,
   "metadata": {
    "collapsed": true
   },
   "outputs": [],
   "source": [
    "day_trade = [[2,3,6,7,8,10,13,14,15,16,17,20,21,22,23,24,27,28,29,30],\\\n",
    "             [7,10,11,12,13,17,18,19,21,24,25,26,27],\\\n",
    "             [3,4,5,6,7,10,11,13,14,17,18,19,20,24,25,26,27,31]]"
   ]
  },
  {
   "cell_type": "code",
   "execution_count": 8,
   "metadata": {
    "collapsed": false
   },
   "outputs": [],
   "source": [
    "data_2014_up, data_2014_down = read_csv(day_trade)"
   ]
  },
  {
   "cell_type": "code",
   "execution_count": 11,
   "metadata": {
    "collapsed": false,
    "scrolled": false
   },
   "outputs": [
    {
     "data": {
      "text/plain": [
       "[3, 4, 5, 6, 7, 10, 11, 13, 14, 17, 18, 19, 20, 24, 25, 26, 27, 31]"
      ]
     },
     "execution_count": 11,
     "metadata": {},
     "output_type": "execute_result"
    }
   ],
   "source": []
  },
  {
   "cell_type": "code",
   "execution_count": null,
   "metadata": {
    "collapsed": true
   },
   "outputs": [],
   "source": []
  },
  {
   "cell_type": "code",
   "execution_count": 12,
   "metadata": {
    "collapsed": false,
    "scrolled": true
   },
   "outputs": [
    {
     "name": "stdout",
     "output_type": "stream",
     "text": [
      "Traceback (most recent call last):\n",
      "  File \"/home/bigdatas16/anaconda2/lib/python2.7/site-packages/IPython/core/ultratb.py\", line 1118, in get_records\n",
      "    return _fixed_getinnerframes(etb, number_of_lines_of_context, tb_offset)\n",
      "  File \"/home/bigdatas16/anaconda2/lib/python2.7/site-packages/IPython/core/ultratb.py\", line 300, in wrapped\n",
      "    return f(*args, **kwargs)\n",
      "  File \"/home/bigdatas16/anaconda2/lib/python2.7/site-packages/IPython/core/ultratb.py\", line 345, in _fixed_getinnerframes\n",
      "    records = fix_frame_records_filenames(inspect.getinnerframes(etb, context))\n",
      "  File \"/home/bigdatas16/anaconda2/lib/python2.7/inspect.py\", line 1048, in getinnerframes\n",
      "    framelist.append((tb.tb_frame,) + getframeinfo(tb, context))\n",
      "  File \"/home/bigdatas16/anaconda2/lib/python2.7/inspect.py\", line 1008, in getframeinfo\n",
      "    filename = getsourcefile(frame) or getfile(frame)\n",
      "  File \"/home/bigdatas16/anaconda2/lib/python2.7/inspect.py\", line 453, in getsourcefile\n",
      "    if hasattr(getmodule(object, filename), '__loader__'):\n",
      "  File \"/home/bigdatas16/anaconda2/lib/python2.7/inspect.py\", line 496, in getmodule\n",
      "    f = getabsfile(module)\n",
      "  File \"/home/bigdatas16/anaconda2/lib/python2.7/inspect.py\", line 465, in getabsfile\n",
      "    _filename = getsourcefile(object) or getfile(object)\n",
      "  File \"/home/bigdatas16/anaconda2/lib/python2.7/inspect.py\", line 450, in getsourcefile\n",
      "    if os.path.exists(filename):\n",
      "  File \"/home/bigdatas16/anaconda2/lib/python2.7/genericpath.py\", line 26, in exists\n",
      "    os.stat(path)\n",
      "KeyboardInterrupt\n"
     ]
    },
    {
     "name": "stderr",
     "output_type": "stream",
     "text": [
      "ERROR: Internal Python error in the inspect module.\n",
      "Below is the traceback from this internal error.\n",
      "\n",
      "\n",
      "Unfortunately, your original traceback can not be constructed.\n",
      "\n"
     ]
    },
    {
     "ename": "IndexError",
     "evalue": "string index out of range",
     "output_type": "error",
     "traceback": [
      "\u001b[1;31m---------------------------------------------------------------------------\u001b[0m",
      "\u001b[1;31mIndexError\u001b[0m                                Traceback (most recent call last)",
      "\u001b[1;32m/home/bigdatas16/anaconda2/lib/python2.7/site-packages/IPython/core/interactiveshell.pyc\u001b[0m in \u001b[0;36mrun_code\u001b[1;34m(self, code_obj, result)\u001b[0m\n\u001b[0;32m   2900\u001b[0m             \u001b[1;32mif\u001b[0m \u001b[0mresult\u001b[0m \u001b[1;32mis\u001b[0m \u001b[1;32mnot\u001b[0m \u001b[0mNone\u001b[0m\u001b[1;33m:\u001b[0m\u001b[1;33m\u001b[0m\u001b[0m\n\u001b[0;32m   2901\u001b[0m                 \u001b[0mresult\u001b[0m\u001b[1;33m.\u001b[0m\u001b[0merror_in_exec\u001b[0m \u001b[1;33m=\u001b[0m \u001b[0msys\u001b[0m\u001b[1;33m.\u001b[0m\u001b[0mexc_info\u001b[0m\u001b[1;33m(\u001b[0m\u001b[1;33m)\u001b[0m\u001b[1;33m[\u001b[0m\u001b[1;36m1\u001b[0m\u001b[1;33m]\u001b[0m\u001b[1;33m\u001b[0m\u001b[0m\n\u001b[1;32m-> 2902\u001b[1;33m             \u001b[0mself\u001b[0m\u001b[1;33m.\u001b[0m\u001b[0mshowtraceback\u001b[0m\u001b[1;33m(\u001b[0m\u001b[1;33m)\u001b[0m\u001b[1;33m\u001b[0m\u001b[0m\n\u001b[0m\u001b[0;32m   2903\u001b[0m         \u001b[1;32melse\u001b[0m\u001b[1;33m:\u001b[0m\u001b[1;33m\u001b[0m\u001b[0m\n\u001b[0;32m   2904\u001b[0m             \u001b[0moutflag\u001b[0m \u001b[1;33m=\u001b[0m \u001b[1;36m0\u001b[0m\u001b[1;33m\u001b[0m\u001b[0m\n",
      "\u001b[1;32m/home/bigdatas16/anaconda2/lib/python2.7/site-packages/IPython/core/interactiveshell.pyc\u001b[0m in \u001b[0;36mshowtraceback\u001b[1;34m(self, exc_tuple, filename, tb_offset, exception_only)\u001b[0m\n\u001b[0;32m   1828\u001b[0m                     \u001b[1;32mexcept\u001b[0m \u001b[0mException\u001b[0m\u001b[1;33m:\u001b[0m\u001b[1;33m\u001b[0m\u001b[0m\n\u001b[0;32m   1829\u001b[0m                         stb = self.InteractiveTB.structured_traceback(etype,\n\u001b[1;32m-> 1830\u001b[1;33m                                             value, tb, tb_offset=tb_offset)\n\u001b[0m\u001b[0;32m   1831\u001b[0m \u001b[1;33m\u001b[0m\u001b[0m\n\u001b[0;32m   1832\u001b[0m                     \u001b[0mself\u001b[0m\u001b[1;33m.\u001b[0m\u001b[0m_showtraceback\u001b[0m\u001b[1;33m(\u001b[0m\u001b[0metype\u001b[0m\u001b[1;33m,\u001b[0m \u001b[0mvalue\u001b[0m\u001b[1;33m,\u001b[0m \u001b[0mstb\u001b[0m\u001b[1;33m)\u001b[0m\u001b[1;33m\u001b[0m\u001b[0m\n",
      "\u001b[1;32m/home/bigdatas16/anaconda2/lib/python2.7/site-packages/IPython/core/ultratb.pyc\u001b[0m in \u001b[0;36mstructured_traceback\u001b[1;34m(self, etype, value, tb, tb_offset, number_of_lines_of_context)\u001b[0m\n\u001b[0;32m   1390\u001b[0m         \u001b[0mself\u001b[0m\u001b[1;33m.\u001b[0m\u001b[0mtb\u001b[0m \u001b[1;33m=\u001b[0m \u001b[0mtb\u001b[0m\u001b[1;33m\u001b[0m\u001b[0m\n\u001b[0;32m   1391\u001b[0m         return FormattedTB.structured_traceback(\n\u001b[1;32m-> 1392\u001b[1;33m             self, etype, value, tb, tb_offset, number_of_lines_of_context)\n\u001b[0m\u001b[0;32m   1393\u001b[0m \u001b[1;33m\u001b[0m\u001b[0m\n\u001b[0;32m   1394\u001b[0m \u001b[1;33m\u001b[0m\u001b[0m\n",
      "\u001b[1;32m/home/bigdatas16/anaconda2/lib/python2.7/site-packages/IPython/core/ultratb.pyc\u001b[0m in \u001b[0;36mstructured_traceback\u001b[1;34m(self, etype, value, tb, tb_offset, number_of_lines_of_context)\u001b[0m\n\u001b[0;32m   1298\u001b[0m             \u001b[1;31m# Verbose modes need a full traceback\u001b[0m\u001b[1;33m\u001b[0m\u001b[1;33m\u001b[0m\u001b[0m\n\u001b[0;32m   1299\u001b[0m             return VerboseTB.structured_traceback(\n\u001b[1;32m-> 1300\u001b[1;33m                 \u001b[0mself\u001b[0m\u001b[1;33m,\u001b[0m \u001b[0metype\u001b[0m\u001b[1;33m,\u001b[0m \u001b[0mvalue\u001b[0m\u001b[1;33m,\u001b[0m \u001b[0mtb\u001b[0m\u001b[1;33m,\u001b[0m \u001b[0mtb_offset\u001b[0m\u001b[1;33m,\u001b[0m \u001b[0mnumber_of_lines_of_context\u001b[0m\u001b[1;33m\u001b[0m\u001b[0m\n\u001b[0m\u001b[0;32m   1301\u001b[0m             )\n\u001b[0;32m   1302\u001b[0m         \u001b[1;32melse\u001b[0m\u001b[1;33m:\u001b[0m\u001b[1;33m\u001b[0m\u001b[0m\n",
      "\u001b[1;32m/home/bigdatas16/anaconda2/lib/python2.7/site-packages/IPython/core/ultratb.pyc\u001b[0m in \u001b[0;36mstructured_traceback\u001b[1;34m(self, etype, evalue, etb, tb_offset, number_of_lines_of_context)\u001b[0m\n\u001b[0;32m   1182\u001b[0m                 \u001b[0mstructured_traceback_parts\u001b[0m \u001b[1;33m+=\u001b[0m \u001b[0mformatted_exception\u001b[0m\u001b[1;33m\u001b[0m\u001b[0m\n\u001b[0;32m   1183\u001b[0m         \u001b[1;32melse\u001b[0m\u001b[1;33m:\u001b[0m\u001b[1;33m\u001b[0m\u001b[0m\n\u001b[1;32m-> 1184\u001b[1;33m             \u001b[0mstructured_traceback_parts\u001b[0m \u001b[1;33m+=\u001b[0m \u001b[0mformatted_exception\u001b[0m\u001b[1;33m[\u001b[0m\u001b[1;36m0\u001b[0m\u001b[1;33m]\u001b[0m\u001b[1;33m\u001b[0m\u001b[0m\n\u001b[0m\u001b[0;32m   1185\u001b[0m \u001b[1;33m\u001b[0m\u001b[0m\n\u001b[0;32m   1186\u001b[0m         \u001b[1;32mreturn\u001b[0m \u001b[0mstructured_traceback_parts\u001b[0m\u001b[1;33m\u001b[0m\u001b[0m\n",
      "\u001b[1;31mIndexError\u001b[0m: string index out of range"
     ]
    }
   ],
   "source": [
    "# only rise ratio\n",
    "mean_four_day = []\n",
    "for i in range(1,len(day_trade[0])+len(day_trade[1])+len(day_trade[2])-3,1):\n",
    "    #print i\n",
    "    data_train = pd.concat([data_2014_up[i-1],data_2014_up[i],data_2014_up[i+1]\\\n",
    "                           ,data_2014_up[i+2]],axis = 0).reset_index(drop=True)\n",
    "    data_train = data_train#[['0','63']]\n",
    "    Feature_data = data_train.drop([\"0\"],axis=1)\n",
    "    Label = data_train['0']\n",
    "    model = linear_model.LogisticRegression()\n",
    "    CV_AUC = cv_loop_auc(Feature_data, Label, model, 4)\n",
    "    print CV_AUC\n",
    "    mean_four_day.append(CV_AUC)\n",
    "np.mean(mean_four_day),np.std(mean_four_day)"
   ]
  },
  {
   "cell_type": "code",
   "execution_count": null,
   "metadata": {
    "collapsed": true
   },
   "outputs": [],
   "source": []
  },
  {
   "cell_type": "code",
   "execution_count": null,
   "metadata": {
    "collapsed": true
   },
   "outputs": [],
   "source": []
  },
  {
   "cell_type": "code",
   "execution_count": 97,
   "metadata": {
    "collapsed": false,
    "scrolled": false
   },
   "outputs": [
    {
     "name": "stdout",
     "output_type": "stream",
     "text": [
      "0.571798974985\n",
      "0.577569020798\n",
      "0.586861808077\n",
      "0.611873297912\n",
      "0.614223545204\n",
      "0.637848497821\n",
      "0.631198134123\n",
      "0.587979301303\n",
      "0.592348415243\n",
      "0.577784307917\n",
      "0.578350013682\n",
      "0.595428310112\n",
      "0.577624147813\n",
      "0.572466343699\n",
      "0.571395033304\n",
      "0.555353892839\n",
      "0.555709243857\n",
      "0.536442703454\n",
      "0.536958107611\n",
      "0.543134282918\n",
      "0.55132561886\n",
      "0.573089862141\n",
      "0.556103822793\n",
      "0.468330162162\n",
      "0.453868584308\n",
      "0.465242814923\n",
      "0.543699114503\n",
      "0.580054912546\n",
      "0.594955187296\n"
     ]
    },
    {
     "data": {
      "text/plain": [
       "(0.56548336076564998, 0.042991347954555344)"
      ]
     },
     "execution_count": 97,
     "metadata": {},
     "output_type": "execute_result"
    }
   ],
   "source": [
    "# only Depth\n",
    "mean_four_day = []\n",
    "for i in range(1,len(day_trade[0])+len(day_trade[1])-3,1):\n",
    "    #print i\n",
    "    data_train = pd.concat([data_2014_up[i-1],data_2014_up[i],data_2014_up[i+1]\\\n",
    "                           ,data_2014_up[i+2]],axis = 0).reset_index(drop=True)\n",
    "    data_train = data_train[['0','19']]\n",
    "    Feature_data = data_train.drop([\"0\"],axis=1)\n",
    "    Label = data_train['0']\n",
    "    model = linear_model.LogisticRegression()\n",
    "    CV_AUC = cv_loop_auc(Feature_data, Label, model, 4)\n",
    "    print CV_AUC\n",
    "    mean_four_day.append(CV_AUC)\n",
    "np.mean(mean_four_day),np.std(mean_four_day)"
   ]
  },
  {
   "cell_type": "code",
   "execution_count": null,
   "metadata": {
    "collapsed": true
   },
   "outputs": [],
   "source": []
  },
  {
   "cell_type": "code",
   "execution_count": 127,
   "metadata": {
    "collapsed": false
   },
   "outputs": [
    {
     "name": "stdout",
     "output_type": "stream",
     "text": [
      "0.728105146427\n",
      "0.667959425301\n",
      "0.708825113398\n",
      "0.721952538905\n",
      "0.698731035835\n",
      "0.715916258237\n",
      "0.739625646856\n",
      "0.763856132771\n",
      "0.747945620017\n",
      "0.720806560414\n",
      "0.701695280173\n",
      "0.739076742702\n",
      "0.703263457392\n",
      "0.710644971475\n",
      "0.688497197667\n",
      "0.738855172608\n",
      "0.693934176726\n",
      "0.667850679006\n",
      "0.659604812304\n",
      "0.689091790962\n",
      "0.65749258029\n",
      "0.798158028118\n",
      "0.792010756311\n",
      "0.723796839998\n",
      "0.649495592267\n",
      "0.603245143077\n",
      "0.751753531411\n",
      "0.758828696607\n",
      "0.718611290864\n",
      "0.680408325536\n",
      "0.678465241538\n"
     ]
    },
    {
     "data": {
      "text/plain": [
       "(0.71027431565127752, 0.041571884420887821)"
      ]
     },
     "execution_count": 127,
     "metadata": {},
     "output_type": "execute_result"
    }
   ],
   "source": [
    "# only rise ratio\n",
    "mean_four_day = []\n",
    "for i in range(1,len(day_trade[0])+len(day_trade[1])-1,1):\n",
    "    #print i\n",
    "    data_train = pd.concat([data_2014_up[i-1],data_2014_up[i]],axis = 0).reset_index(drop=True)\n",
    "    data_train = data_train#[['0','6']]\n",
    "    Feature_data = data_train.drop([\"0\"],axis=1)\n",
    "    Label = data_train['0']\n",
    "    model = linear_model.LogisticRegression()\n",
    "    CV_AUC = cv_loop_auc(Feature_data, Label, model, 2)\n",
    "    print CV_AUC\n",
    "    mean_four_day.append(CV_AUC)\n",
    "np.mean(mean_four_day),np.std(mean_four_day)"
   ]
  },
  {
   "cell_type": "code",
   "execution_count": 126,
   "metadata": {
    "collapsed": false
   },
   "outputs": [
    {
     "name": "stdout",
     "output_type": "stream",
     "text": [
      "0.67662676151\n",
      "0.672647796252\n",
      "0.697763880051\n",
      "0.697559737842\n",
      "0.696048168644\n",
      "0.714019384577\n",
      "0.728658961634\n",
      "0.702018221394\n",
      "0.682405480155\n",
      "0.681555212583\n",
      "0.692427603355\n",
      "0.69545172047\n",
      "0.666122747076\n",
      "0.682898730968\n",
      "0.685810653739\n",
      "0.635254602904\n",
      "0.654802484114\n",
      "0.634649360295\n",
      "0.656290588752\n",
      "0.635270481531\n",
      "0.679934747308\n",
      "0.762707329983\n",
      "0.710908885134\n",
      "0.672490906954\n",
      "0.621213581257\n",
      "0.658965600004\n",
      "0.73187592294\n",
      "0.712129833339\n",
      "0.664679269567\n",
      "0.671117253994\n"
     ]
    },
    {
     "data": {
      "text/plain": [
       "(0.68247686361088311, 0.030796653504250093)"
      ]
     },
     "execution_count": 126,
     "metadata": {},
     "output_type": "execute_result"
    }
   ],
   "source": [
    "# only rise ratio\n",
    "mean_four_day = []\n",
    "for i in range(1,len(day_trade[0])+len(day_trade[1])-2,1):\n",
    "    #print i\n",
    "    data_train = pd.concat([data_2014_up[i-1],data_2014_up[i],data_2014_up[i+1]],axis = 0).reset_index(drop=True)\n",
    "    data_train = data_train#[['0','6']]\n",
    "    Feature_data = data_train.drop([\"0\"],axis=1)\n",
    "    Label = data_train['0']\n",
    "    model = linear_model.LogisticRegression()\n",
    "    CV_AUC = cv_loop_auc(Feature_data, Label, model, 3)\n",
    "    print CV_AUC\n",
    "    mean_four_day.append(CV_AUC)\n",
    "np.mean(mean_four_day),np.std(mean_four_day)"
   ]
  },
  {
   "cell_type": "code",
   "execution_count": null,
   "metadata": {
    "collapsed": true
   },
   "outputs": [],
   "source": []
  },
  {
   "cell_type": "code",
   "execution_count": null,
   "metadata": {
    "collapsed": true
   },
   "outputs": [],
   "source": []
  },
  {
   "cell_type": "code",
   "execution_count": 107,
   "metadata": {
    "collapsed": false
   },
   "outputs": [
    {
     "name": "stdout",
     "output_type": "stream",
     "text": [
      "0.662241639321\n",
      "0.604646278684\n",
      "0.612827493544\n",
      "0.63447771378\n",
      "0.614835591354\n",
      "0.677633135501\n",
      "0.675110734785\n",
      "0.665476021923\n",
      "0.625026540492\n",
      "0.553040840709\n",
      "0.604451971765\n",
      "0.636904323475\n",
      "0.597316907373\n",
      "0.590800332427\n",
      "0.608003674167\n",
      "0.666288240067\n",
      "0.595670152966\n",
      "0.535329117793\n",
      "0.585819272293\n",
      "0.531895576848\n",
      "0.58655373117\n",
      "0.667107274371\n",
      "0.626122500556\n",
      "0.630126455909\n",
      "0.513283952804\n",
      "0.54708770225\n",
      "0.576118437028\n",
      "0.609411987712\n",
      "0.592878496683\n",
      "0.612564297232\n",
      "0.645273950544\n"
     ]
    },
    {
     "data": {
      "text/plain": [
       "(0.60917175308151872, 0.042552156269468171)"
      ]
     },
     "execution_count": 107,
     "metadata": {},
     "output_type": "execute_result"
    }
   ],
   "source": [
    "# only Depth\n",
    "mean_four_day = []\n",
    "for i in range(1,len(day_trade[0])+len(day_trade[1])-1,1):\n",
    "    #print i\n",
    "    data_train = pd.concat([data_2014_up[i-1],data_2014_up[i]],axis = 0).reset_index(drop=True)\n",
    "    data_train = data_train[['0','6','21']]\n",
    "    Feature_data = data_train.drop([\"0\"],axis=1)\n",
    "    Label = data_train['0']\n",
    "    model = linear_model.LogisticRegression()\n",
    "    CV_AUC = cv_loop_auc(Feature_data, Label, model, 4)\n",
    "    print CV_AUC\n",
    "    mean_four_day.append(CV_AUC)\n",
    "np.mean(mean_four_day),np.std(mean_four_day)"
   ]
  },
  {
   "cell_type": "code",
   "execution_count": null,
   "metadata": {
    "collapsed": true
   },
   "outputs": [],
   "source": []
  },
  {
   "cell_type": "code",
   "execution_count": null,
   "metadata": {
    "collapsed": true
   },
   "outputs": [],
   "source": []
  },
  {
   "cell_type": "code",
   "execution_count": null,
   "metadata": {
    "collapsed": false
   },
   "outputs": [],
   "source": []
  },
  {
   "cell_type": "code",
   "execution_count": null,
   "metadata": {
    "collapsed": true
   },
   "outputs": [],
   "source": []
  },
  {
   "cell_type": "code",
   "execution_count": null,
   "metadata": {
    "collapsed": true
   },
   "outputs": [],
   "source": []
  },
  {
   "cell_type": "code",
   "execution_count": 102,
   "metadata": {
    "collapsed": false,
    "scrolled": true
   },
   "outputs": [
    {
     "name": "stdout",
     "output_type": "stream",
     "text": [
      "1\n",
      "0.661796149777\n",
      "2\n",
      "0.65896797605\n",
      "3\n",
      "0.656377116655\n",
      "4\n",
      "0.692617632446\n",
      "5\n",
      "0.669556707984\n",
      "6\n",
      "0.703189906266\n",
      "7\n",
      "0.680416709499\n",
      "8\n",
      "0.632925147269\n",
      "9\n",
      "0.644213735963\n",
      "10\n",
      "0.652471352805\n",
      "11\n",
      "0.649696372383\n",
      "12\n",
      "0.66341352857\n",
      "13\n",
      "0.656645992271\n",
      "14\n",
      "0.647053826417\n",
      "15\n",
      "0.609376970299\n",
      "16\n",
      "0.626373859826\n",
      "17\n",
      "0.609911759189\n",
      "18\n",
      "0.618564605115\n",
      "19\n",
      "0.617470814273\n",
      "20\n",
      "0.623081198204\n",
      "21\n",
      "0.645653434321\n",
      "22\n",
      "0.671750526776\n",
      "23\n",
      "0.638686942935\n",
      "24\n",
      "0.609493293946\n",
      "25\n",
      "0.620455762396\n",
      "26\n",
      "0.626034650069\n",
      "27\n",
      "0.66431447279\n",
      "28\n",
      "0.660343642736\n",
      "29\n",
      "0.659576439964\n"
     ]
    },
    {
     "data": {
      "text/plain": [
       "(0.64725622507565184, 0.024394034941287109)"
      ]
     },
     "execution_count": 102,
     "metadata": {},
     "output_type": "execute_result"
    }
   ],
   "source": [
    "mean_four_day = []\n",
    "for i in range(1,len(day_trade[0])+len(day_trade[1])-3,1):\n",
    "    print i\n",
    "    data_train = pd.concat([data_2014_up[i-1],data_2014_up[i],data_2014_up[i+1]\\\n",
    "                           ,data_2014_up[i+2]],axis = 0).reset_index(drop=True)\n",
    "    Feature_data = data_train.drop([\"0\"],axis=1)\n",
    "    Label = data_train['0']\n",
    "    model = linear_model.LogisticRegression()\n",
    "    CV_AUC = cv_loop_auc(Feature_data, Label, model, 4)\n",
    "    print CV_AUC\n",
    "    mean_four_day.append(CV_AUC)\n",
    "np.mean(mean_four_day),np.std(mean_four_day)"
   ]
  },
  {
   "cell_type": "code",
   "execution_count": null,
   "metadata": {
    "collapsed": true
   },
   "outputs": [],
   "source": []
  },
  {
   "cell_type": "code",
   "execution_count": 103,
   "metadata": {
    "collapsed": false,
    "scrolled": true
   },
   "outputs": [
    {
     "name": "stdout",
     "output_type": "stream",
     "text": [
      "1\n",
      "0.659518466662\n",
      "2\n",
      "0.661424982142\n",
      "3\n",
      "0.667215201821\n",
      "4\n",
      "0.685159318813\n",
      "5\n",
      "0.680634851736\n",
      "6\n",
      "0.704792795532\n",
      "7\n",
      "0.719143760494\n",
      "8\n",
      "0.684300850517\n",
      "9\n",
      "0.642323442403\n",
      "10\n",
      "0.651659866889\n",
      "11\n",
      "0.668353513135\n",
      "12\n",
      "0.679707509178\n",
      "13\n",
      "0.656806578231\n",
      "14\n",
      "0.667332648194\n",
      "15\n",
      "0.662285975904\n",
      "16\n",
      "0.62696746069\n",
      "17\n",
      "0.626314786522\n",
      "18\n",
      "0.61993030269\n",
      "19\n",
      "0.634715806918\n",
      "20\n",
      "0.615733583688\n",
      "21\n",
      "0.642997260475\n",
      "22\n",
      "0.71069228925\n",
      "23\n",
      "0.658887347901\n",
      "24\n",
      "0.649286809992\n",
      "25\n",
      "0.601635517738\n",
      "26\n",
      "0.627177207163\n",
      "27\n",
      "0.682167767694\n",
      "28\n",
      "0.694424394243\n",
      "29\n",
      "0.647513464161\n",
      "30\n",
      "0.664411205118\n"
     ]
    },
    {
     "data": {
      "text/plain": [
       "(0.65978383219646564, 0.02819964880437361)"
      ]
     },
     "execution_count": 103,
     "metadata": {},
     "output_type": "execute_result"
    }
   ],
   "source": [
    "mean_three_day = []\n",
    "for i in range(1,len(day_trade[0])+len(day_trade[1])-2,1):\n",
    "    print i\n",
    "    data_train = pd.concat([data_2014_up[i-1],data_2014_up[i],data_2014_up[i+1]],\n",
    "                           axis = 0).reset_index(drop=True)\n",
    "    Feature_data = data_train.drop([\"0\"],axis=1)\n",
    "    Label = data_train['0']\n",
    "    model = linear_model.LogisticRegression()\n",
    "    CV_AUC = cv_loop_auc(Feature_data, Label, model, 3)\n",
    "    print CV_AUC\n",
    "    mean_three_day.append(CV_AUC)\n",
    "np.mean(mean_three_day),np.std(mean_three_day)"
   ]
  },
  {
   "cell_type": "code",
   "execution_count": 105,
   "metadata": {
    "collapsed": false,
    "scrolled": true
   },
   "outputs": [
    {
     "name": "stdout",
     "output_type": "stream",
     "text": [
      "1\n",
      "0.683517942246\n",
      "2\n",
      "0.649930451676\n",
      "3\n",
      "0.680837249057\n",
      "4\n",
      "0.699396590947\n",
      "5\n",
      "0.666877703866\n",
      "6\n",
      "0.706550898333\n",
      "7\n",
      "0.723177674344\n",
      "8\n",
      "0.752817256103\n",
      "9\n",
      "0.708492928389\n",
      "10\n",
      "0.686999857662\n",
      "11\n",
      "0.669971584613\n",
      "12\n",
      "0.722716845074\n",
      "13\n",
      "0.677885441002\n",
      "14\n",
      "0.689941651373\n",
      "15\n",
      "0.668652996115\n",
      "16\n",
      "0.719660419611\n",
      "17\n",
      "0.664285331788\n",
      "18\n",
      "0.648851996961\n",
      "19\n",
      "0.633952792674\n",
      "20\n",
      "0.648657512141\n",
      "21\n",
      "0.641612964481\n",
      "22\n",
      "0.723105577174\n",
      "23\n",
      "0.718668400694\n",
      "24\n",
      "0.703365064608\n",
      "25\n",
      "0.638796318995\n",
      "26\n",
      "0.587225776423\n",
      "27\n",
      "0.684657668395\n",
      "28\n",
      "0.722869549913\n",
      "29\n",
      "0.700656713161\n",
      "30\n",
      "0.662512245568\n",
      "31\n",
      "0.667483943522\n"
     ]
    },
    {
     "data": {
      "text/plain": [
       "(0.6823912692550661, 0.034312285040423419)"
      ]
     },
     "execution_count": 105,
     "metadata": {},
     "output_type": "execute_result"
    }
   ],
   "source": [
    "mean_two_day = []\n",
    "for i in range(1,len(day_trade[0])+len(day_trade[1])-1,1):\n",
    "    print i\n",
    "    data_train = pd.concat([data_2014_up[i-1],data_2014_up[i]],axis = 0).reset_index(drop=True)\n",
    "    Feature_data = data_train.drop([\"0\"],axis=1)\n",
    "    Label = data_train['0']\n",
    "    model = linear_model.LogisticRegression()\n",
    "    CV_AUC = cv_loop_auc(Feature_data, Label, model, 3)\n",
    "    print CV_AUC\n",
    "    mean_two_day.append(CV_AUC)\n",
    "np.mean(mean_two_day),np.std(mean_two_day)"
   ]
  },
  {
   "cell_type": "code",
   "execution_count": null,
   "metadata": {
    "collapsed": false
   },
   "outputs": [],
   "source": []
  },
  {
   "cell_type": "code",
   "execution_count": null,
   "metadata": {
    "collapsed": true
   },
   "outputs": [],
   "source": []
  },
  {
   "cell_type": "code",
   "execution_count": null,
   "metadata": {
    "collapsed": true
   },
   "outputs": [],
   "source": []
  },
  {
   "cell_type": "code",
   "execution_count": null,
   "metadata": {
    "collapsed": true
   },
   "outputs": [],
   "source": []
  },
  {
   "cell_type": "code",
   "execution_count": 43,
   "metadata": {
    "collapsed": false
   },
   "outputs": [
    {
     "name": "stdout",
     "output_type": "stream",
     "text": [
      "1\n",
      "0.642997260475\n",
      "2\n",
      "0.71069228925\n",
      "3\n",
      "0.658887347901\n",
      "4\n",
      "0.649286809992\n",
      "5\n",
      "0.601635517738\n",
      "6\n",
      "0.627177207163\n",
      "7\n",
      "0.682167767694\n",
      "8\n",
      "0.694424394243\n",
      "9\n",
      "0.647513464161\n",
      "10\n",
      "0.664411205118\n"
     ]
    },
    {
     "data": {
      "text/plain": [
       "(0.65791932637343109, 0.030441894518751095)"
      ]
     },
     "execution_count": 43,
     "metadata": {},
     "output_type": "execute_result"
    }
   ],
   "source": [
    "mean_three_day = []\n",
    "for i in range(1,len(day_trade_2)-2,1):\n",
    "    print i\n",
    "    data_train = pd.concat([data_2014_2_up[i-1],data_2014_2_up[i],data_2014_2_up[i+1]],axis = 0).reset_index(drop=True)\n",
    "    Feature_data = data_train.drop([\"0\"],axis=1)\n",
    "    Label = data_train['0']\n",
    "    model = linear_model.LogisticRegression()\n",
    "    CV_AUC = cv_loop_auc(Feature_data, Label, model, 3)\n",
    "    print CV_AUC\n",
    "    mean_three_day.append(CV_AUC)\n",
    "np.mean(mean_three_day),np.std(mean_three_day)"
   ]
  },
  {
   "cell_type": "code",
   "execution_count": 44,
   "metadata": {
    "collapsed": false
   },
   "outputs": [
    {
     "name": "stdout",
     "output_type": "stream",
     "text": [
      "1\n",
      "0.641612964481\n",
      "2\n",
      "0.723105577174\n",
      "3\n",
      "0.718668400694\n",
      "4\n",
      "0.703365064608\n",
      "5\n",
      "0.638796318995\n",
      "6\n",
      "0.587225776423\n",
      "7\n",
      "0.684657668395\n",
      "8\n",
      "0.722869549913\n",
      "9\n",
      "0.700656713161\n",
      "10\n",
      "0.662512245568\n",
      "11\n",
      "0.667483943522\n"
     ]
    },
    {
     "data": {
      "text/plain": [
       "(0.67735947481212133, 0.0408429316536204)"
      ]
     },
     "execution_count": 44,
     "metadata": {},
     "output_type": "execute_result"
    }
   ],
   "source": [
    "mean_two_day = []\n",
    "for i in range(1,len(day_trade_2)-1,1):\n",
    "    print i\n",
    "    data_train = pd.concat([data_2014_2_up[i-1],data_2014_2_up[i]],axis = 0).reset_index(drop=True)\n",
    "    Feature_data = data_train.drop([\"0\"],axis=1)\n",
    "    Label = data_train['0']\n",
    "    model = linear_model.LogisticRegression()\n",
    "    CV_AUC = cv_loop_auc(Feature_data, Label, model, 3)\n",
    "    print CV_AUC\n",
    "    mean_two_day.append(CV_AUC)\n",
    "np.mean(mean_two_day),np.std(mean_two_day)"
   ]
  },
  {
   "cell_type": "code",
   "execution_count": null,
   "metadata": {
    "collapsed": true
   },
   "outputs": [],
   "source": []
  },
  {
   "cell_type": "code",
   "execution_count": null,
   "metadata": {
    "collapsed": true
   },
   "outputs": [],
   "source": [
    "mean_two_day = []\n",
    "for i in range(1,len(day_trade_1)+len(day_trade_2)-1,1):\n",
    "    print i\n",
    "    data_train = pd.concat([data_2014_2_up[i-1],data_2014_2_up[i]],axis = 0).reset_index(drop=True)\n",
    "    Feature_data = data_train.drop([\"0\"],axis=1)\n",
    "    Label = data_train['0']\n",
    "    model = linear_model.LogisticRegression()\n",
    "    CV_AUC = cv_loop_auc(Feature_data, Label, model, 3)\n",
    "    print CV_AUC\n",
    "    mean_two_day.append(CV_AUC)\n",
    "np.mean(mean_two_day),np.std(mean_two_day)"
   ]
  },
  {
   "cell_type": "code",
   "execution_count": null,
   "metadata": {
    "collapsed": true
   },
   "outputs": [],
   "source": []
  },
  {
   "cell_type": "code",
   "execution_count": null,
   "metadata": {
    "collapsed": true
   },
   "outputs": [],
   "source": []
  },
  {
   "cell_type": "code",
   "execution_count": null,
   "metadata": {
    "collapsed": true
   },
   "outputs": [],
   "source": []
  },
  {
   "cell_type": "code",
   "execution_count": null,
   "metadata": {
    "collapsed": true
   },
   "outputs": [],
   "source": []
  },
  {
   "cell_type": "code",
   "execution_count": null,
   "metadata": {
    "collapsed": true
   },
   "outputs": [],
   "source": []
  },
  {
   "cell_type": "code",
   "execution_count": null,
   "metadata": {
    "collapsed": false
   },
   "outputs": [],
   "source": []
  },
  {
   "cell_type": "code",
   "execution_count": 18,
   "metadata": {
    "collapsed": false,
    "scrolled": false
   },
   "outputs": [
    {
     "name": "stdout",
     "output_type": "stream",
     "text": [
      "1\n",
      "0.6482665898\n",
      "2\n",
      "0.649234993474\n",
      "3\n",
      "0.657458923811\n",
      "4\n",
      "0.695657786666\n",
      "5\n",
      "0.669368564252\n",
      "6\n",
      "0.69700164744\n",
      "7\n",
      "0.683451704848\n",
      "8\n",
      "0.636732387742\n",
      "9\n",
      "0.64659538748\n",
      "10\n",
      "0.657269752604\n",
      "11\n",
      "0.651986483333\n",
      "12\n",
      "0.659152011559\n",
      "13\n",
      "0.649951651681\n",
      "14\n",
      "0.641743600791\n",
      "15\n",
      "0.609619273847\n",
      "16\n",
      "0.619050797725\n"
     ]
    },
    {
     "data": {
      "text/plain": [
       "(0.65453384731589892, 0.023053038869505375)"
      ]
     },
     "execution_count": 18,
     "metadata": {},
     "output_type": "execute_result"
    }
   ],
   "source": [
    "mean_four_day = []\n",
    "for i in range(1,17,1):\n",
    "    print i\n",
    "    data_train = pd.concat([data_2014_1_up[i-1],data_2014_1_up[i],data_2014_1_up[i+1]\\\n",
    "                           ,data_2014_1_up[i+2]],axis = 0).reset_index(drop=True)\n",
    "    Feature_data = data_train.drop([\"0\"],axis=1)\n",
    "    Label = data_train['0']\n",
    "    model = linear_model.LogisticRegression()\n",
    "    CV_AUC = cv_loop_auc(Feature_data, Label, model, 4)\n",
    "    print CV_AUC\n",
    "    mean_four_day.append(CV_AUC)\n",
    "np.mean(mean_four_day),np.std(mean_four_day)"
   ]
  },
  {
   "cell_type": "code",
   "execution_count": 20,
   "metadata": {
    "collapsed": false,
    "scrolled": true
   },
   "outputs": [
    {
     "name": "stdout",
     "output_type": "stream",
     "text": [
      "1\n",
      "0.638519378179\n",
      "2\n",
      "0.646801742363\n",
      "3\n",
      "0.665250707983\n",
      "4\n",
      "0.686643502692\n",
      "5\n",
      "0.6894535405\n",
      "6\n",
      "0.697338086252\n",
      "7\n",
      "0.714962276135\n",
      "8\n",
      "0.688061732046\n",
      "9\n",
      "0.649769203417\n",
      "10\n",
      "0.65872728623\n",
      "11\n",
      "0.677555790136\n",
      "12\n",
      "0.672687172158\n",
      "13\n",
      "0.656915708696\n",
      "14\n",
      "0.658690195167\n",
      "15\n",
      "0.652191110562\n",
      "16\n",
      "0.632771010633\n"
     ]
    },
    {
     "data": {
      "text/plain": [
       "(0.66789615269685354, 0.022128192068738301)"
      ]
     },
     "execution_count": 20,
     "metadata": {},
     "output_type": "execute_result"
    }
   ],
   "source": [
    "mean_three_day = []\n",
    "for i in range(1,17,1):\n",
    "    print i\n",
    "    data_train = pd.concat([data_2014_1_up[i-1],data_2014_1_up[i],data_2014_1_up[i+1]],axis = 0).reset_index(drop=True)\n",
    "    Feature_data = data_train.drop([\"0\"],axis=1)\n",
    "    Label = data_train['0']\n",
    "    model = linear_model.LogisticRegression()\n",
    "    CV_AUC = cv_loop_auc(Feature_data, Label, model, 3)\n",
    "    print CV_AUC\n",
    "    mean_three_day.append(CV_AUC)\n",
    "np.mean(mean_three_day),np.std(mean_three_day)"
   ]
  },
  {
   "cell_type": "code",
   "execution_count": null,
   "metadata": {
    "collapsed": false
   },
   "outputs": [],
   "source": []
  },
  {
   "cell_type": "code",
   "execution_count": 22,
   "metadata": {
    "collapsed": false,
    "scrolled": true
   },
   "outputs": [
    {
     "name": "stdout",
     "output_type": "stream",
     "text": [
      "1\n",
      "0.661421408394\n",
      "2\n",
      "0.627436084429\n",
      "3\n",
      "0.667353521554\n",
      "4\n",
      "0.703335048355\n",
      "5\n",
      "0.674535300572\n",
      "6\n",
      "0.705139482891\n",
      "7\n",
      "0.726671955058\n",
      "8\n",
      "0.746007567354\n",
      "9\n",
      "0.710333911879\n",
      "10\n",
      "0.68301892679\n",
      "11\n",
      "0.675363645467\n",
      "12\n",
      "0.730878772559\n",
      "13\n",
      "0.675839337698\n",
      "14\n",
      "0.688139193422\n",
      "15\n",
      "0.651607666172\n",
      "16\n",
      "0.708062203476\n"
     ]
    },
    {
     "data": {
      "text/plain": [
       "(0.68969650162931462, 0.030333494929333359)"
      ]
     },
     "execution_count": 22,
     "metadata": {},
     "output_type": "execute_result"
    }
   ],
   "source": [
    "mean_two_day = []\n",
    "for i in range(1,17,1):\n",
    "    print i\n",
    "    data_train = pd.concat([data_2014_1_up[i-1],data_2014_1_up[i]],axis = 0).reset_index(drop=True)\n",
    "    Feature_data = data_train.drop([\"0\"],axis=1)\n",
    "    Label = data_train['0']\n",
    "    model = linear_model.LogisticRegression()\n",
    "    CV_AUC = cv_loop_auc(Feature_data, Label, model, 2)\n",
    "    print CV_AUC\n",
    "    mean_two_day.append(CV_AUC)\n",
    "np.mean(mean_two_day),np.std(mean_two_day)"
   ]
  },
  {
   "cell_type": "code",
   "execution_count": null,
   "metadata": {
    "collapsed": false
   },
   "outputs": [],
   "source": []
  },
  {
   "cell_type": "code",
   "execution_count": 25,
   "metadata": {
    "collapsed": false,
    "scrolled": true
   },
   "outputs": [
    {
     "name": "stdout",
     "output_type": "stream",
     "text": [
      "1\n",
      "0.6995\n",
      "2\n",
      "0.754722222222\n",
      "3\n",
      "0.690722222222\n",
      "4\n",
      "0.673\n",
      "5\n",
      "0.706388888889\n",
      "6\n",
      "0.686222222222\n",
      "7\n",
      "0.663444444444\n",
      "8\n",
      "0.690111111111\n",
      "9\n",
      "0.671833333333\n",
      "10\n",
      "0.633444444444\n",
      "11\n",
      "0.629166666667\n",
      "12\n",
      "0.670388888889\n",
      "13\n",
      "0.6145\n",
      "14\n",
      "0.6435\n",
      "15\n",
      "0.610944444444\n",
      "16\n",
      "0.645222222222\n"
     ]
    },
    {
     "data": {
      "text/plain": [
       "(0.66769444444444448, 0.036509749458953508)"
      ]
     },
     "execution_count": 25,
     "metadata": {},
     "output_type": "execute_result"
    }
   ],
   "source": [
    "mean_two_day_acc = []\n",
    "for i in range(1,17,1):\n",
    "    print i\n",
    "    data_train = pd.concat([data_2014_1_up[i-1],data_2014_1_up[i]],axis = 0).reset_index(drop=True)\n",
    "    Feature_data = data_train.drop([\"0\"],axis=1)\n",
    "    Label = data_train['0']\n",
    "    model = linear_model.LogisticRegression()\n",
    "    CV_ACC = cv_loop_acc(Feature_data, Label, model, 2)\n",
    "    print CV_ACC\n",
    "    mean_two_day_acc.append(CV_ACC)\n",
    "np.mean(mean_two_day_acc),np.std(mean_two_day_acc)"
   ]
  },
  {
   "cell_type": "code",
   "execution_count": 26,
   "metadata": {
    "collapsed": false
   },
   "outputs": [
    {
     "name": "stdout",
     "output_type": "stream",
     "text": [
      "1\n",
      "0.734185185185\n",
      "2\n",
      "0.69337037037\n",
      "3\n",
      "0.69762962963\n",
      "4\n",
      "0.668037037037\n",
      "5\n",
      "0.701814814815\n",
      "6\n",
      "0.658888888889\n",
      "7\n",
      "0.668074074074\n",
      "8\n",
      "0.644444444444\n",
      "9\n",
      "0.62637037037\n",
      "10\n",
      "0.617074074074\n",
      "11\n",
      "0.62637037037\n",
      "12\n",
      "0.623259259259\n",
      "13\n",
      "0.601185185185\n",
      "14\n",
      "0.61262962963\n",
      "15\n",
      "0.595222222222\n",
      "16\n",
      "0.599962962963\n"
     ]
    },
    {
     "data": {
      "text/plain": [
       "(0.64803240740740742, 0.040942852782018514)"
      ]
     },
     "execution_count": 26,
     "metadata": {},
     "output_type": "execute_result"
    }
   ],
   "source": [
    "mean_three_day_acc = []\n",
    "for i in range(1,17,1):\n",
    "    print i\n",
    "    data_train = pd.concat([data_2014_1_up[i-1],data_2014_1_up[i],data_2014_1_up[i+1]],axis = 0).reset_index(drop=True)\n",
    "    Feature_data = data_train.drop([\"0\"],axis=1)\n",
    "    Label = data_train['0']\n",
    "    model = linear_model.LogisticRegression()\n",
    "    CV_ACC = cv_loop_acc(Feature_data, Label, model, 3)\n",
    "    print CV_ACC\n",
    "    mean_three_day_acc.append(CV_ACC)\n",
    "np.mean(mean_three_day_acc),np.std(mean_three_day_acc)"
   ]
  },
  {
   "cell_type": "code",
   "execution_count": null,
   "metadata": {
    "collapsed": true
   },
   "outputs": [],
   "source": []
  },
  {
   "cell_type": "code",
   "execution_count": 27,
   "metadata": {
    "collapsed": false
   },
   "outputs": [
    {
     "name": "stdout",
     "output_type": "stream",
     "text": [
      "1\n",
      "0.674351851852\n",
      "2\n",
      "0.655138888889\n",
      "3\n",
      "0.70875\n",
      "4\n",
      "0.726342592593\n",
      "5\n",
      "0.67837962963\n",
      "6\n",
      "0.671990740741\n",
      "7\n",
      "0.744953703704\n",
      "8\n",
      "0.75662037037\n",
      "9\n",
      "0.739074074074\n",
      "10\n",
      "0.668101851852\n",
      "11\n",
      "0.654166666667\n",
      "12\n",
      "0.722916666667\n",
      "13\n",
      "0.706759259259\n",
      "14\n",
      "0.760555555556\n",
      "15\n",
      "0.681064814815\n",
      "16\n",
      "0.755833333333\n"
     ]
    },
    {
     "data": {
      "text/plain": [
       "(0.70656249999999998, 0.036733115367711823)"
      ]
     },
     "execution_count": 27,
     "metadata": {},
     "output_type": "execute_result"
    }
   ],
   "source": [
    "mean_two_day_acc_down = []\n",
    "for i in range(1,17,1):\n",
    "    print i\n",
    "    data_train = pd.concat([data_2014_1_down[i-1],data_2014_1_down[i]],axis = 0).reset_index(drop=True)\n",
    "    Feature_data = data_train.drop([\"0\"],axis=1)\n",
    "    Label = data_train['0']\n",
    "    model = linear_model.LogisticRegression()\n",
    "    CV_ACC = cv_loop_acc(Feature_data, Label, model, 2)\n",
    "    print CV_ACC\n",
    "    mean_two_day_acc_down.append(CV_ACC)\n",
    "np.mean(mean_two_day_acc_down),np.std(mean_two_day_acc_down)"
   ]
  },
  {
   "cell_type": "code",
   "execution_count": 32,
   "metadata": {
    "collapsed": false
   },
   "outputs": [
    {
     "name": "stdout",
     "output_type": "stream",
     "text": [
      "1\n",
      "0.691635802469\n",
      "2\n",
      "0.661913580247\n",
      "3\n",
      "0.676666666667\n",
      "4\n",
      "0.695555555556\n",
      "5\n",
      "0.660462962963\n",
      "6\n",
      "0.692561728395\n",
      "7\n",
      "0.722777777778\n",
      "8\n",
      "0.746913580247\n",
      "9\n",
      "0.67799382716\n",
      "10\n",
      "0.667901234568\n",
      "11\n",
      "0.658518518519\n",
      "12\n",
      "0.708055555556\n",
      "13\n",
      "0.73487654321\n",
      "14\n",
      "0.689660493827\n",
      "15\n",
      "0.72237654321\n",
      "16\n",
      "0.736327160494\n"
     ]
    },
    {
     "data": {
      "text/plain": [
       "(0.69651234567901232, 0.028142703237994723)"
      ]
     },
     "execution_count": 32,
     "metadata": {},
     "output_type": "execute_result"
    }
   ],
   "source": [
    "mean_three_day_acc_down = []\n",
    "for i in range(1,17,1):\n",
    "    print i\n",
    "    data_train = pd.concat([data_2014_1_down[i-1],data_2014_1_down[i],\\\n",
    "                            data_2014_1_down[i+1]],axis = 0).reset_index(drop=True)\n",
    "    Feature_data = data_train.drop([\"0\"],axis=1)\n",
    "    Label = data_train['0']\n",
    "    model = linear_model.LogisticRegression()\n",
    "    CV_ACC = cv_loop_acc(Feature_data, Label, model, 3)\n",
    "    print CV_ACC\n",
    "    mean_three_day_acc_down.append(CV_ACC)\n",
    "np.mean(mean_three_day_acc_down),np.std(mean_three_day_acc_down)"
   ]
  },
  {
   "cell_type": "code",
   "execution_count": 33,
   "metadata": {
    "collapsed": false
   },
   "outputs": [
    {
     "name": "stdout",
     "output_type": "stream",
     "text": [
      "1\n",
      "0.686759259259\n",
      "2\n",
      "0.656296296296\n",
      "3\n",
      "0.672384259259\n",
      "4\n",
      "0.676875\n",
      "5\n",
      "0.691018518519\n",
      "6\n",
      "0.693009259259\n",
      "7\n",
      "0.718935185185\n",
      "8\n",
      "0.686273148148\n",
      "9\n",
      "0.674884259259\n",
      "10\n",
      "0.662731481481\n",
      "11\n",
      "0.664398148148\n",
      "12\n",
      "0.723726851852\n",
      "13\n",
      "0.69099537037\n",
      "14\n",
      "0.729398148148\n",
      "15\n",
      "0.737453703704\n",
      "16\n",
      "0.766018518519\n"
     ]
    },
    {
     "data": {
      "text/plain": [
       "(0.69569733796296296, 0.029916322768312586)"
      ]
     },
     "execution_count": 33,
     "metadata": {},
     "output_type": "execute_result"
    }
   ],
   "source": [
    "mean_four_day_acc_down = []\n",
    "for i in range(1,17,1):\n",
    "    print i\n",
    "    data_train = pd.concat([data_2014_1_down[i-1],data_2014_1_down[i],\\\n",
    "                            data_2014_1_down[i+1],data_2014_1_down[i+2]],axis = 0).reset_index(drop=True)\n",
    "    Feature_data = data_train.drop([\"0\"],axis=1)\n",
    "    Label = data_train['0']\n",
    "    model = linear_model.LogisticRegression()\n",
    "    CV_ACC = cv_loop_acc(Feature_data, Label, model, 4)\n",
    "    print CV_ACC\n",
    "    mean_four_day_acc_down.append(CV_ACC)\n",
    "np.mean(mean_four_day_acc_down),np.std(mean_four_day_acc_down)"
   ]
  },
  {
   "cell_type": "code",
   "execution_count": 37,
   "metadata": {
    "collapsed": false
   },
   "outputs": [
    {
     "name": "stdout",
     "output_type": "stream",
     "text": [
      "1\n",
      "0.6755\n",
      "2\n",
      "0.652851851852\n",
      "3\n",
      "0.668296296296\n",
      "4\n",
      "0.693777777778\n",
      "5\n",
      "0.689111111111\n",
      "6\n",
      "0.689018518519\n",
      "7\n",
      "0.684018518519\n",
      "8\n",
      "0.686425925926\n",
      "9\n",
      "0.675055555556\n",
      "10\n",
      "0.68087037037\n",
      "11\n",
      "0.676796296296\n",
      "12\n",
      "0.694518518519\n",
      "13\n",
      "0.717611111111\n",
      "14\n",
      "0.739240740741\n",
      "15\n",
      "0.759018518519\n",
      "16\n",
      "0.729814814815\n"
     ]
    },
    {
     "data": {
      "text/plain": [
       "(0.69449537037037046, 0.027202676672366057)"
      ]
     },
     "execution_count": 37,
     "metadata": {},
     "output_type": "execute_result"
    }
   ],
   "source": [
    "mean_five_day_acc_down = []\n",
    "for i in range(1,17,1):\n",
    "    print i\n",
    "    data_train = pd.concat([data_2014_1_down[i-1],data_2014_1_down[i],\\\n",
    "                            data_2014_1_down[i+1],data_2014_1_down[i+2],data_2014_1_down[i+3]],axis = 0).reset_index(drop=True)\n",
    "    Feature_data = data_train.drop([\"0\"],axis=1)\n",
    "    Label = data_train['0']\n",
    "    model = linear_model.LogisticRegression()\n",
    "    CV_ACC = cv_loop_acc(Feature_data, Label, model, 5)\n",
    "    print CV_ACC\n",
    "    mean_five_day_acc_down.append(CV_ACC)\n",
    "np.mean(mean_five_day_acc_down),np.std(mean_five_day_acc_down)"
   ]
  },
  {
   "cell_type": "code",
   "execution_count": 36,
   "metadata": {
    "collapsed": false,
    "scrolled": true
   },
   "outputs": [
    {
     "name": "stdout",
     "output_type": "stream",
     "text": [
      "1\n",
      "0.670262345679\n",
      "2\n",
      "0.643904320988\n",
      "3\n",
      "0.687222222222\n",
      "4\n",
      "0.697546296296\n",
      "5\n",
      "0.694089506173\n",
      "6\n",
      "0.669151234568\n",
      "7\n",
      "0.681882716049\n",
      "8\n",
      "0.686111111111\n",
      "9\n",
      "0.67912037037\n",
      "10\n",
      "0.688441358025\n",
      "11\n",
      "0.665077160494\n",
      "12\n",
      "0.716311728395\n",
      "13\n",
      "0.725848765432\n",
      "14\n",
      "0.75737654321\n",
      "15\n",
      "0.728981481481\n"
     ]
    },
    {
     "data": {
      "text/plain": [
       "(0.69275514403292182, 0.028019201699110586)"
      ]
     },
     "execution_count": 36,
     "metadata": {},
     "output_type": "execute_result"
    }
   ],
   "source": [
    "mean_six_day_acc_down = []\n",
    "for i in range(1,16,1):\n",
    "    print i\n",
    "    data_train = pd.concat([data_2014_1_down[i-1],data_2014_1_down[i],\\\n",
    "                            data_2014_1_down[i+1],data_2014_1_down[i+2],\\\n",
    "                            data_2014_1_down[i+3],data_2014_1_down[i+4]],axis = 0).reset_index(drop=True)\n",
    "    Feature_data = data_train.drop([\"0\"],axis=1)\n",
    "    Label = data_train['0']\n",
    "    model = linear_model.LogisticRegression()\n",
    "    CV_ACC = cv_loop_acc(Feature_data, Label, model, 6)\n",
    "    print CV_ACC\n",
    "    mean_six_day_acc_down.append(CV_ACC)\n",
    "np.mean(mean_six_day_acc_down),np.std(mean_six_day_acc_down)"
   ]
  },
  {
   "cell_type": "code",
   "execution_count": null,
   "metadata": {
    "collapsed": true
   },
   "outputs": [],
   "source": []
  },
  {
   "cell_type": "code",
   "execution_count": null,
   "metadata": {
    "collapsed": true
   },
   "outputs": [],
   "source": []
  },
  {
   "cell_type": "code",
   "execution_count": null,
   "metadata": {
    "collapsed": true
   },
   "outputs": [],
   "source": []
  },
  {
   "cell_type": "code",
   "execution_count": null,
   "metadata": {
    "collapsed": true
   },
   "outputs": [],
   "source": []
  },
  {
   "cell_type": "code",
   "execution_count": null,
   "metadata": {
    "collapsed": true
   },
   "outputs": [],
   "source": []
  },
  {
   "cell_type": "code",
   "execution_count": null,
   "metadata": {
    "collapsed": false
   },
   "outputs": [],
   "source": []
  },
  {
   "cell_type": "code",
   "execution_count": null,
   "metadata": {
    "collapsed": false
   },
   "outputs": [],
   "source": []
  },
  {
   "cell_type": "code",
   "execution_count": null,
   "metadata": {
    "collapsed": true
   },
   "outputs": [],
   "source": []
  },
  {
   "cell_type": "code",
   "execution_count": null,
   "metadata": {
    "collapsed": false
   },
   "outputs": [],
   "source": []
  },
  {
   "cell_type": "code",
   "execution_count": null,
   "metadata": {
    "collapsed": false,
    "scrolled": true
   },
   "outputs": [],
   "source": []
  },
  {
   "cell_type": "code",
   "execution_count": 32,
   "metadata": {
    "collapsed": false
   },
   "outputs": [
    {
     "name": "stdout",
     "output_type": "stream",
     "text": [
      "17\n"
     ]
    },
    {
     "ename": "ValueError",
     "evalue": "Input contains NaN, infinity or a value too large for dtype('float64').",
     "output_type": "error",
     "traceback": [
      "\u001b[1;31m---------------------------------------------------------------------------\u001b[0m",
      "\u001b[1;31mValueError\u001b[0m                                Traceback (most recent call last)",
      "\u001b[1;32m<ipython-input-32-57b61bedd9fa>\u001b[0m in \u001b[0;36m<module>\u001b[1;34m()\u001b[0m\n\u001b[0;32m      5\u001b[0m     \u001b[0mmodel\u001b[0m \u001b[1;33m=\u001b[0m \u001b[0mlinear_model\u001b[0m\u001b[1;33m.\u001b[0m\u001b[0mLogisticRegression\u001b[0m\u001b[1;33m(\u001b[0m\u001b[1;33m)\u001b[0m\u001b[1;33m\u001b[0m\u001b[0m\n\u001b[0;32m      6\u001b[0m     \u001b[1;32mprint\u001b[0m \u001b[0mi\u001b[0m\u001b[1;33m\u001b[0m\u001b[0m\n\u001b[1;32m----> 7\u001b[1;33m     \u001b[1;32mprint\u001b[0m \u001b[0mcv_loop_acc\u001b[0m\u001b[1;33m(\u001b[0m\u001b[0mFeature_data\u001b[0m\u001b[1;33m,\u001b[0m \u001b[0mLabel\u001b[0m\u001b[1;33m,\u001b[0m \u001b[0mmodel\u001b[0m\u001b[1;33m,\u001b[0m \u001b[1;36m10\u001b[0m\u001b[1;33m)\u001b[0m\u001b[1;33m\u001b[0m\u001b[0m\n\u001b[0m",
      "\u001b[1;32m<ipython-input-20-f976a17e9668>\u001b[0m in \u001b[0;36mcv_loop_acc\u001b[1;34m(X, y, model, N)\u001b[0m\n\u001b[0;32m      6\u001b[0m                                        \u001b[0mX\u001b[0m\u001b[1;33m,\u001b[0m \u001b[0my\u001b[0m\u001b[1;33m,\u001b[0m \u001b[0mtest_size\u001b[0m\u001b[1;33m=\u001b[0m\u001b[1;36m1.0\u001b[0m\u001b[1;33m/\u001b[0m\u001b[0mfloat\u001b[0m\u001b[1;33m(\u001b[0m\u001b[0mN\u001b[0m\u001b[1;33m)\u001b[0m\u001b[1;33m,\u001b[0m\u001b[1;33m\u001b[0m\u001b[0m\n\u001b[0;32m      7\u001b[0m                                        random_state = i*SEED)\n\u001b[1;32m----> 8\u001b[1;33m         \u001b[0mmodel\u001b[0m\u001b[1;33m.\u001b[0m\u001b[0mfit\u001b[0m\u001b[1;33m(\u001b[0m\u001b[0mX_train\u001b[0m\u001b[1;33m,\u001b[0m \u001b[0my_train\u001b[0m\u001b[1;33m)\u001b[0m\u001b[1;33m\u001b[0m\u001b[0m\n\u001b[0m\u001b[0;32m      9\u001b[0m         \u001b[0mpreds\u001b[0m \u001b[1;33m=\u001b[0m \u001b[0mmodel\u001b[0m\u001b[1;33m.\u001b[0m\u001b[0mpredict\u001b[0m\u001b[1;33m(\u001b[0m\u001b[0mX_cv\u001b[0m\u001b[1;33m)\u001b[0m\u001b[1;33m\u001b[0m\u001b[0m\n\u001b[0;32m     10\u001b[0m         \u001b[0macc\u001b[0m \u001b[1;33m=\u001b[0m \u001b[0mmetrics\u001b[0m\u001b[1;33m.\u001b[0m\u001b[0maccuracy_score\u001b[0m\u001b[1;33m(\u001b[0m\u001b[0my_cv\u001b[0m\u001b[1;33m,\u001b[0m \u001b[0mpreds\u001b[0m\u001b[1;33m)\u001b[0m\u001b[1;33m\u001b[0m\u001b[0m\n",
      "\u001b[1;32m/home/bigdatas16/anaconda2/lib/python2.7/site-packages/sklearn/linear_model/logistic.pyc\u001b[0m in \u001b[0;36mfit\u001b[1;34m(self, X, y, sample_weight)\u001b[0m\n\u001b[0;32m   1171\u001b[0m \u001b[1;33m\u001b[0m\u001b[0m\n\u001b[0;32m   1172\u001b[0m         X, y = check_X_y(X, y, accept_sparse='csr', dtype=np.float64,\n\u001b[1;32m-> 1173\u001b[1;33m                          order=\"C\")\n\u001b[0m\u001b[0;32m   1174\u001b[0m         \u001b[0mcheck_classification_targets\u001b[0m\u001b[1;33m(\u001b[0m\u001b[0my\u001b[0m\u001b[1;33m)\u001b[0m\u001b[1;33m\u001b[0m\u001b[0m\n\u001b[0;32m   1175\u001b[0m         \u001b[0mself\u001b[0m\u001b[1;33m.\u001b[0m\u001b[0mclasses_\u001b[0m \u001b[1;33m=\u001b[0m \u001b[0mnp\u001b[0m\u001b[1;33m.\u001b[0m\u001b[0munique\u001b[0m\u001b[1;33m(\u001b[0m\u001b[0my\u001b[0m\u001b[1;33m)\u001b[0m\u001b[1;33m\u001b[0m\u001b[0m\n",
      "\u001b[1;32m/home/bigdatas16/anaconda2/lib/python2.7/site-packages/sklearn/utils/validation.pyc\u001b[0m in \u001b[0;36mcheck_X_y\u001b[1;34m(X, y, accept_sparse, dtype, order, copy, force_all_finite, ensure_2d, allow_nd, multi_output, ensure_min_samples, ensure_min_features, y_numeric, warn_on_dtype, estimator)\u001b[0m\n\u001b[0;32m    519\u001b[0m     X = check_array(X, accept_sparse, dtype, order, copy, force_all_finite,\n\u001b[0;32m    520\u001b[0m                     \u001b[0mensure_2d\u001b[0m\u001b[1;33m,\u001b[0m \u001b[0mallow_nd\u001b[0m\u001b[1;33m,\u001b[0m \u001b[0mensure_min_samples\u001b[0m\u001b[1;33m,\u001b[0m\u001b[1;33m\u001b[0m\u001b[0m\n\u001b[1;32m--> 521\u001b[1;33m                     ensure_min_features, warn_on_dtype, estimator)\n\u001b[0m\u001b[0;32m    522\u001b[0m     \u001b[1;32mif\u001b[0m \u001b[0mmulti_output\u001b[0m\u001b[1;33m:\u001b[0m\u001b[1;33m\u001b[0m\u001b[0m\n\u001b[0;32m    523\u001b[0m         y = check_array(y, 'csr', force_all_finite=True, ensure_2d=False,\n",
      "\u001b[1;32m/home/bigdatas16/anaconda2/lib/python2.7/site-packages/sklearn/utils/validation.pyc\u001b[0m in \u001b[0;36mcheck_array\u001b[1;34m(array, accept_sparse, dtype, order, copy, force_all_finite, ensure_2d, allow_nd, ensure_min_samples, ensure_min_features, warn_on_dtype, estimator)\u001b[0m\n\u001b[0;32m    405\u001b[0m                              % (array.ndim, estimator_name))\n\u001b[0;32m    406\u001b[0m         \u001b[1;32mif\u001b[0m \u001b[0mforce_all_finite\u001b[0m\u001b[1;33m:\u001b[0m\u001b[1;33m\u001b[0m\u001b[0m\n\u001b[1;32m--> 407\u001b[1;33m             \u001b[0m_assert_all_finite\u001b[0m\u001b[1;33m(\u001b[0m\u001b[0marray\u001b[0m\u001b[1;33m)\u001b[0m\u001b[1;33m\u001b[0m\u001b[0m\n\u001b[0m\u001b[0;32m    408\u001b[0m \u001b[1;33m\u001b[0m\u001b[0m\n\u001b[0;32m    409\u001b[0m     \u001b[0mshape_repr\u001b[0m \u001b[1;33m=\u001b[0m \u001b[0m_shape_repr\u001b[0m\u001b[1;33m(\u001b[0m\u001b[0marray\u001b[0m\u001b[1;33m.\u001b[0m\u001b[0mshape\u001b[0m\u001b[1;33m)\u001b[0m\u001b[1;33m\u001b[0m\u001b[0m\n",
      "\u001b[1;32m/home/bigdatas16/anaconda2/lib/python2.7/site-packages/sklearn/utils/validation.pyc\u001b[0m in \u001b[0;36m_assert_all_finite\u001b[1;34m(X)\u001b[0m\n\u001b[0;32m     56\u001b[0m             and not np.isfinite(X).all()):\n\u001b[0;32m     57\u001b[0m         raise ValueError(\"Input contains NaN, infinity\"\n\u001b[1;32m---> 58\u001b[1;33m                          \" or a value too large for %r.\" % X.dtype)\n\u001b[0m\u001b[0;32m     59\u001b[0m \u001b[1;33m\u001b[0m\u001b[0m\n\u001b[0;32m     60\u001b[0m \u001b[1;33m\u001b[0m\u001b[0m\n",
      "\u001b[1;31mValueError\u001b[0m: Input contains NaN, infinity or a value too large for dtype('float64')."
     ]
    }
   ],
   "source": [
    "for i in range(17,20,1):\n",
    "    data_train = pd.concat([data_2014_1[i-1],data_2014_1[i]],axis = 0).reset_index(drop=True)\n",
    "    Feature_data = data_train.drop([\"0\"],axis=1)\n",
    "    Label = data_train['0']\n",
    "    model = linear_model.LogisticRegression()\n",
    "    print i\n",
    "    print cv_loop_acc(Feature_data, Label, model, 10)"
   ]
  },
  {
   "cell_type": "code",
   "execution_count": null,
   "metadata": {
    "collapsed": false,
    "scrolled": true
   },
   "outputs": [],
   "source": []
  },
  {
   "cell_type": "code",
   "execution_count": 92,
   "metadata": {
    "collapsed": false
   },
   "outputs": [
    {
     "name": "stdout",
     "output_type": "stream",
     "text": [
      "CPU times: user 5min 38s, sys: 595 ms, total: 5min 38s\n",
      "Wall time: 6min 21s\n"
     ]
    },
    {
     "data": {
      "text/plain": [
       "[mean: 0.52566, std: 0.08123, params: {'min_samples_leaf': 1, 'n_estimators': 10, 'min_samples_split': 3, 'criterion': 'entropy', 'max_features': None, 'max_depth': None},\n",
       " mean: 0.52435, std: 0.08493, params: {'min_samples_leaf': 1, 'n_estimators': 10, 'min_samples_split': 5, 'criterion': 'entropy', 'max_features': None, 'max_depth': None},\n",
       " mean: 0.52158, std: 0.08665, params: {'min_samples_leaf': 3, 'n_estimators': 10, 'min_samples_split': 3, 'criterion': 'entropy', 'max_features': None, 'max_depth': None},\n",
       " mean: 0.52158, std: 0.08665, params: {'min_samples_leaf': 3, 'n_estimators': 10, 'min_samples_split': 5, 'criterion': 'entropy', 'max_features': None, 'max_depth': None},\n",
       " mean: 0.52830, std: 0.08738, params: {'min_samples_leaf': 5, 'n_estimators': 10, 'min_samples_split': 3, 'criterion': 'entropy', 'max_features': None, 'max_depth': None},\n",
       " mean: 0.52830, std: 0.08738, params: {'min_samples_leaf': 5, 'n_estimators': 10, 'min_samples_split': 5, 'criterion': 'entropy', 'max_features': None, 'max_depth': None},\n",
       " mean: 0.52601, std: 0.08483, params: {'min_samples_leaf': 7, 'n_estimators': 10, 'min_samples_split': 3, 'criterion': 'entropy', 'max_features': None, 'max_depth': None},\n",
       " mean: 0.52601, std: 0.08483, params: {'min_samples_leaf': 7, 'n_estimators': 10, 'min_samples_split': 5, 'criterion': 'entropy', 'max_features': None, 'max_depth': None}]"
      ]
     },
     "execution_count": 92,
     "metadata": {},
     "output_type": "execute_result"
    }
   ],
   "source": [
    "from sklearn.grid_search import (GridSearchCV, RandomizedSearchCV)\n",
    "from sklearn.ensemble import RandomForestClassifier\n",
    "\n",
    "Feature_data = data_train.drop([\"0\"],axis=1)\n",
    "Label = data_train['0']\n",
    "\n",
    "num_trees = [10]\n",
    "max_depth = [None]\n",
    "criterion = ['entropy']\n",
    "min_samples_leaf = [1,3,5,7]\n",
    "min_samples_split = [3,5]\n",
    "max_features = [None]\n",
    "\n",
    "model_grid = {'max_features':max_features,'n_estimators':num_trees,'max_depth':max_depth,\\\n",
    "              'min_samples_split':min_samples_split,'criterion':criterion,\\\n",
    "              'min_samples_leaf':min_samples_leaf}\n",
    "\n",
    "model1 = RandomForestClassifier(random_state = 0)\n",
    "Grid = GridSearchCV(model1, model_grid, cv = 5, scoring = 'roc_auc')\n",
    "\n",
    "%time Grid.fit(Feature_data, Label) \n",
    "Grid.grid_scores_"
   ]
  },
  {
   "cell_type": "code",
   "execution_count": 93,
   "metadata": {
    "collapsed": false
   },
   "outputs": [
    {
     "data": {
      "text/plain": [
       "{'criterion': 'entropy',\n",
       " 'max_depth': None,\n",
       " 'max_features': None,\n",
       " 'min_samples_leaf': 5,\n",
       " 'min_samples_split': 3,\n",
       " 'n_estimators': 10}"
      ]
     },
     "execution_count": 93,
     "metadata": {},
     "output_type": "execute_result"
    }
   ],
   "source": [
    "Grid.best_params_"
   ]
  },
  {
   "cell_type": "code",
   "execution_count": null,
   "metadata": {
    "collapsed": true
   },
   "outputs": [],
   "source": []
  },
  {
   "cell_type": "code",
   "execution_count": null,
   "metadata": {
    "collapsed": true
   },
   "outputs": [],
   "source": []
  },
  {
   "cell_type": "code",
   "execution_count": null,
   "metadata": {
    "collapsed": true
   },
   "outputs": [],
   "source": []
  },
  {
   "cell_type": "code",
   "execution_count": null,
   "metadata": {
    "collapsed": true
   },
   "outputs": [],
   "source": []
  },
  {
   "cell_type": "code",
   "execution_count": null,
   "metadata": {
    "collapsed": true
   },
   "outputs": [],
   "source": []
  },
  {
   "cell_type": "code",
   "execution_count": null,
   "metadata": {
    "collapsed": true
   },
   "outputs": [],
   "source": []
  }
 ],
 "metadata": {
  "kernelspec": {
   "display_name": "Python 2",
   "language": "python",
   "name": "python2"
  },
  "language_info": {
   "codemirror_mode": {
    "name": "ipython",
    "version": 2
   },
   "file_extension": ".py",
   "mimetype": "text/x-python",
   "name": "python",
   "nbconvert_exporter": "python",
   "pygments_lexer": "ipython2",
   "version": "2.7.13"
  }
 },
 "nbformat": 4,
 "nbformat_minor": 0
}
