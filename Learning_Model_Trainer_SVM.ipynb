{
 "cells": [
  {
   "cell_type": "code",
   "execution_count": 1,
   "metadata": {
    "collapsed": false
   },
   "outputs": [
    {
     "name": "stdout",
     "output_type": "stream",
     "text": [
      "Populating the interactive namespace from numpy and matplotlib\n"
     ]
    }
   ],
   "source": [
    "import pandas as pd\n",
    "import numpy as np\n",
    "%pylab inline"
   ]
  },
  {
   "cell_type": "code",
   "execution_count": null,
   "metadata": {
    "collapsed": true
   },
   "outputs": [],
   "source": []
  },
  {
   "cell_type": "code",
   "execution_count": 2,
   "metadata": {
    "collapsed": false,
    "scrolled": true
   },
   "outputs": [],
   "source": [
    "def read_csv(day_trade):\n",
    "    data_up = []\n",
    "    data_down = []\n",
    "    path = '/home/bigdatas16/SGX-OrderBook-Tick-Data-Trading-Strategy-/Train_Test_Data/ML_data_2014'\n",
    "    for j,i in enumerate(day_trade):\n",
    "        for k in range(0,len(i),1):\n",
    "            path_up = path + '_' + str(j+1) + '_' + str(i[k]) + '_' + 'UP' + '.csv'\n",
    "            path_down = path + '_' + str(j+1) + '_' + str(i[k]) + '_' + 'DOWN' + '.csv'\n",
    "            data_up.append(pd.read_csv(path_up))\n",
    "            data_down.append(pd.read_csv(path_down))\n",
    "            #print path_down\n",
    "    return data_up,data_down"
   ]
  },
  {
   "cell_type": "code",
   "execution_count": 3,
   "metadata": {
    "collapsed": true
   },
   "outputs": [],
   "source": [
    "day_trade = [[2,3,6,7,8,10,13,14,15,16,17,20,21,22,23,24,27,28,29,30],\\\n",
    "             [7,10,11,12,13,17,18,19,21,24,25,26,27],\\\n",
    "             [3,4,5,6,7,10,11,13,14,17,18,19,20,24,25,26,27,31]]"
   ]
  },
  {
   "cell_type": "code",
   "execution_count": 4,
   "metadata": {
    "collapsed": false
   },
   "outputs": [],
   "source": [
    "data_2014_up, data_2014_down = read_csv(day_trade)"
   ]
  },
  {
   "cell_type": "code",
   "execution_count": null,
   "metadata": {
    "collapsed": false
   },
   "outputs": [],
   "source": []
  },
  {
   "cell_type": "code",
   "execution_count": null,
   "metadata": {
    "collapsed": true
   },
   "outputs": [],
   "source": []
  },
  {
   "cell_type": "code",
   "execution_count": null,
   "metadata": {
    "collapsed": true
   },
   "outputs": [],
   "source": []
  },
  {
   "cell_type": "code",
   "execution_count": null,
   "metadata": {
    "collapsed": true
   },
   "outputs": [],
   "source": []
  },
  {
   "cell_type": "code",
   "execution_count": null,
   "metadata": {
    "collapsed": true
   },
   "outputs": [],
   "source": []
  },
  {
   "cell_type": "code",
   "execution_count": null,
   "metadata": {
    "collapsed": true
   },
   "outputs": [],
   "source": []
  },
  {
   "cell_type": "code",
   "execution_count": null,
   "metadata": {
    "collapsed": false
   },
   "outputs": [],
   "source": []
  },
  {
   "cell_type": "code",
   "execution_count": null,
   "metadata": {
    "collapsed": false
   },
   "outputs": [],
   "source": []
  },
  {
   "cell_type": "code",
   "execution_count": 6,
   "metadata": {
    "collapsed": false
   },
   "outputs": [],
   "source": [
    "from sklearn.grid_search import (GridSearchCV, RandomizedSearchCV)\n",
    "from sklearn import (metrics, cross_validation, linear_model, preprocessing)\n",
    "from sklearn import svm, datasets"
   ]
  },
  {
   "cell_type": "code",
   "execution_count": 7,
   "metadata": {
    "collapsed": false
   },
   "outputs": [],
   "source": [
    "i = 0\n",
    "day = 0\n",
    "latest_min = 60 * 30\n",
    "pred_sec = 5\n",
    "\n",
    "data_train = data_2014_up[day][i:i+latest_min]\n",
    "X_train = data_train.drop([\"0\"],axis=1)\n",
    "y_train = data_train['0']\n",
    "data_test = data_2014_up[day][i+latest_min:i+latest_min+pred_sec]\n",
    "X_test = data_test.drop([\"0\"],axis=1)\n",
    "y_test = data_test['0']"
   ]
  },
  {
   "cell_type": "code",
   "execution_count": null,
   "metadata": {
    "collapsed": false,
    "scrolled": true
   },
   "outputs": [],
   "source": []
  },
  {
   "cell_type": "code",
   "execution_count": 51,
   "metadata": {
    "collapsed": false
   },
   "outputs": [],
   "source": [
    "turned_parameters = [{'kernel':['rbf'],'gamma':[1e-1,1e-2],'C':[1,10]},\n",
    "                     {'kernel':['linear'],'C':[1,10]}]"
   ]
  },
  {
   "cell_type": "code",
   "execution_count": 45,
   "metadata": {
    "collapsed": true
   },
   "outputs": [],
   "source": [
    "svr = svm.SVC(probability=True)"
   ]
  },
  {
   "cell_type": "code",
   "execution_count": 46,
   "metadata": {
    "collapsed": false
   },
   "outputs": [],
   "source": []
  },
  {
   "cell_type": "code",
   "execution_count": null,
   "metadata": {
    "collapsed": false
   },
   "outputs": [],
   "source": []
  },
  {
   "cell_type": "code",
   "execution_count": 47,
   "metadata": {
    "collapsed": false
   },
   "outputs": [
    {
     "data": {
      "text/plain": [
       "<bound method SVC.get_params of SVC(C=1.0, cache_size=200, class_weight=None, coef0=0.0,\n",
       "  decision_function_shape=None, degree=3, gamma='auto', kernel='rbf',\n",
       "  max_iter=-1, probability=True, random_state=None, shrinking=True,\n",
       "  tol=0.001, verbose=False)>"
      ]
     },
     "execution_count": 47,
     "metadata": {},
     "output_type": "execute_result"
    }
   ],
   "source": [
    "Grid.estimator.get_params"
   ]
  },
  {
   "cell_type": "code",
   "execution_count": 48,
   "metadata": {
    "collapsed": false,
    "scrolled": true
   },
   "outputs": [
    {
     "name": "stdout",
     "output_type": "stream",
     "text": [
      "CPU times: user 27.3 s, sys: 0 ns, total: 27.3 s\n",
      "Wall time: 28.1 s\n"
     ]
    },
    {
     "data": {
      "text/plain": [
       "GridSearchCV(cv=5, error_score='raise',\n",
       "       estimator=SVC(C=1.0, cache_size=200, class_weight=None, coef0=0.0,\n",
       "  decision_function_shape=None, degree=3, gamma='auto', kernel='rbf',\n",
       "  max_iter=-1, probability=True, random_state=None, shrinking=True,\n",
       "  tol=0.001, verbose=False),\n",
       "       fit_params={}, iid=True, n_jobs=1,\n",
       "       param_grid=[{'kernel': ['rbf'], 'C': [1, 10, 100], 'gamma': [0.1, 0.01, 0.001]}, {'kernel': ['linear'], 'C': [1, 10, 100]}],\n",
       "       pre_dispatch='2*n_jobs', refit=True, scoring=None, verbose=0)"
      ]
     },
     "execution_count": 48,
     "metadata": {},
     "output_type": "execute_result"
    }
   ],
   "source": [
    "%time Grid.fit(X_train,y_train)"
   ]
  },
  {
   "cell_type": "code",
   "execution_count": 49,
   "metadata": {
    "collapsed": false
   },
   "outputs": [
    {
     "data": {
      "text/plain": [
       "({'C': 1, 'gamma': 0.1, 'kernel': 'rbf'},\n",
       " 0.8194444444444444,\n",
       " [mean: 0.81944, std: 0.12131, params: {'kernel': 'rbf', 'C': 1, 'gamma': 0.1},\n",
       "  mean: 0.79333, std: 0.12063, params: {'kernel': 'rbf', 'C': 1, 'gamma': 0.01},\n",
       "  mean: 0.72500, std: 0.08540, params: {'kernel': 'rbf', 'C': 1, 'gamma': 0.001},\n",
       "  mean: 0.81500, std: 0.11079, params: {'kernel': 'rbf', 'C': 10, 'gamma': 0.1},\n",
       "  mean: 0.81167, std: 0.13923, params: {'kernel': 'rbf', 'C': 10, 'gamma': 0.01},\n",
       "  mean: 0.78167, std: 0.13956, params: {'kernel': 'rbf', 'C': 10, 'gamma': 0.001},\n",
       "  mean: 0.80389, std: 0.11242, params: {'kernel': 'rbf', 'C': 100, 'gamma': 0.1},\n",
       "  mean: 0.78778, std: 0.12189, params: {'kernel': 'rbf', 'C': 100, 'gamma': 0.01},\n",
       "  mean: 0.79667, std: 0.16202, params: {'kernel': 'rbf', 'C': 100, 'gamma': 0.001},\n",
       "  mean: 0.80333, std: 0.10952, params: {'kernel': 'linear', 'C': 1},\n",
       "  mean: 0.81111, std: 0.09755, params: {'kernel': 'linear', 'C': 10},\n",
       "  mean: 0.79111, std: 0.10890, params: {'kernel': 'linear', 'C': 100}])"
      ]
     },
     "execution_count": 49,
     "metadata": {},
     "output_type": "execute_result"
    }
   ],
   "source": [
    "Grid.best_params_,Grid.best_score_,Grid.grid_scores_"
   ]
  },
  {
   "cell_type": "code",
   "execution_count": 50,
   "metadata": {
    "collapsed": false,
    "scrolled": true
   },
   "outputs": [
    {
     "data": {
      "text/plain": [
       "1.0"
      ]
     },
     "execution_count": 50,
     "metadata": {},
     "output_type": "execute_result"
    }
   ],
   "source": [
    "metrics.accuracy_score(Grid.predict(X_test),y_test)"
   ]
  },
  {
   "cell_type": "code",
   "execution_count": null,
   "metadata": {
    "collapsed": false
   },
   "outputs": [],
   "source": []
  },
  {
   "cell_type": "code",
   "execution_count": 106,
   "metadata": {
    "collapsed": false,
    "scrolled": true
   },
   "outputs": [
    {
     "name": "stdout",
     "output_type": "stream",
     "text": [
      "----------------------------Rolling Window Time = 0----------------------------\n",
      "CPU times: user 8.94 s, sys: 38.7 ms, total: 8.98 s\n",
      "Wall time: 11.2 s\n",
      "{'kernel': 'linear', 'C': 10}\n",
      "CV Best Score = 0.863196745489\n",
      "Prediction latest 15 second = [ 1.  1.  1.  1.  1.  1.  1.  1.  1.  1.  1.  1.  1.  1.  1.]\n",
      "Precision = 1.0\n",
      "Kernel is linear and top five importance features = [(28, 9.1075574173486142), (24, 7.1406342083809067), (8, 5.5218908607106814), (25, 5.4318121293271275), (63, 4.8616358288778025)]\n",
      "----------------------------Rolling Window Time = 1----------------------------\n",
      "CPU times: user 7.53 s, sys: 55 ms, total: 7.58 s\n",
      "Wall time: 9.88 s\n",
      "{'kernel': 'linear', 'C': 10}\n",
      "CV Best Score = 0.858673079443\n",
      "Prediction latest 15 second = [ 1.  1.  1.  1.  1.  1.  1.  1.  1.  1.  1.  1.  1.  1.  1.]\n",
      "Precision = 1.0\n",
      "Kernel is linear and top five importance features = [(28, 8.8744125719974196), (24, 7.1142396413621523), (8, 5.593945304661978), (25, 5.4130014616933275), (63, 5.2955458338543497)]\n",
      "----------------------------Rolling Window Time = 2----------------------------\n",
      "CPU times: user 7.29 s, sys: 7.66 ms, total: 7.3 s\n",
      "Wall time: 8.34 s\n",
      "{'kernel': 'linear', 'C': 10}\n",
      "CV Best Score = 0.859995830766\n",
      "Prediction latest 15 second = [ 1.  1.  1.  1.  1.  1.  1.  1.  1.  1.  1.  1.  1.  1.  1.]\n",
      "Precision = 1.0\n",
      "Kernel is linear and top five importance features = [(28, 8.8744209918264492), (24, 7.114222566426049), (8, 5.5939589443290956), (25, 5.412992046706111), (63, 5.2955434847538267)]\n",
      "----------------------------Rolling Window Time = 3----------------------------\n",
      "CPU times: user 4.46 s, sys: 3.5 ms, total: 4.46 s\n",
      "Wall time: 5.69 s\n",
      "{'kernel': 'linear', 'C': 10}\n",
      "CV Best Score = 0.880695853292\n",
      "Prediction latest 15 second = [ 1.  1.  1.  1.  1.  1.  1.  1.  1.  1.  1.  1.  1.  1.  1.]\n",
      "Precision = 1.0\n",
      "Kernel is linear and top five importance features = [(28, 9.2734950889069818), (25, 5.0014662676498416), (8, 4.4679528279281397), (24, 4.2717069886667289), (21, 3.7600278459918286)]\n",
      "----------------------------Rolling Window Time = 4----------------------------\n",
      "CPU times: user 4.21 s, sys: 7.27 ms, total: 4.22 s\n",
      "Wall time: 4.9 s\n",
      "{'kernel': 'linear', 'C': 1}\n",
      "CV Best Score = 0.884035529764\n",
      "Prediction latest 15 second = [ 1.  1.  1.  1.  1.  1.  1.  1.  1.  1.  1.  1.  1.  1.  1.]\n",
      "Precision = 1.0\n",
      "Kernel is linear and top five importance features = [(28, 3.8211841499318506), (24, 2.7124097722775442), (52, 2.0508645595369823), (21, 1.9681319812762357), (18, 1.8710950524526957)]\n",
      "----------------------------Rolling Window Time = 5----------------------------\n",
      "CPU times: user 4.04 s, sys: 23.5 ms, total: 4.06 s\n",
      "Wall time: 4.89 s\n",
      "{'kernel': 'linear', 'C': 1}\n",
      "CV Best Score = 0.88742276644\n",
      "Prediction latest 15 second = [ 1.  1.  1.  1.  1.  1.  1.  1.  1.  1.  1.  1.  1.  1.  1.]\n",
      "Precision = 1.0\n",
      "Kernel is linear and top five importance features = [(28, 3.6976174584994332), (24, 2.6903469212324884), (52, 2.4043100159060939), (8, 1.9381336314085027), (54, 1.9145688444469551)]\n",
      "----------------------------Rolling Window Time = 6----------------------------\n",
      "CPU times: user 3.91 s, sys: 31.4 ms, total: 3.94 s\n",
      "Wall time: 4.59 s\n",
      "{'kernel': 'linear', 'C': 10}\n",
      "CV Best Score = 0.889450523066\n",
      "Prediction latest 15 second = [ 1.  1.  1.  1.  1.  1.  1.  1.  1.  1.  1.  1.  1.  1.  1.]\n",
      "Precision = 1.0\n",
      "Kernel is linear and top five importance features = [(28, 8.8424917629273079), (8, 5.2012624933997769), (25, 5.1771442924677764), (52, 5.0193413846759274), (1, 4.3382592677939762)]\n",
      "----------------------------Rolling Window Time = 7----------------------------\n",
      "CPU times: user 4.17 s, sys: 16 ms, total: 4.19 s\n",
      "Wall time: 4.57 s\n",
      "{'kernel': 'linear', 'C': 10}\n",
      "CV Best Score = 0.889450523066\n",
      "Prediction latest 15 second = [ 1.  1.  1.  1.  1.  1.  1.  1.  1.  1.  1.  1.  1.  1.  1.]\n",
      "Precision = 0.866666666667\n",
      "Kernel is linear and top five importance features = [(28, 8.8424668905511137), (8, 5.2012590357946999), (25, 5.1771393592102379), (52, 5.0193470564117932), (1, 4.3382241055319835)]\n",
      "----------------------------Rolling Window Time = 8----------------------------\n",
      "CPU times: user 4.09 s, sys: 32 µs, total: 4.09 s\n",
      "Wall time: 4.3 s\n",
      "{'kernel': 'linear', 'C': 10}\n",
      "CV Best Score = 0.889450523066\n",
      "Prediction latest 15 second = [ 1.  1.  1.  1.  1.  1.  1.  1.  1.  1.  1.  1.  1.  1.  1.]\n",
      "Precision = 1.0\n",
      "Kernel is linear and top five importance features = [(28, 8.8425196351899302), (8, 5.2012472997508752), (25, 5.1771372071632111), (52, 5.0192851912583611), (1, 4.3382689252460152)]\n",
      "----------------------------Rolling Window Time = 9----------------------------\n",
      "CPU times: user 4 s, sys: 8.13 ms, total: 4.01 s\n",
      "Wall time: 4.13 s\n",
      "{'kernel': 'linear', 'C': 10}\n",
      "CV Best Score = 0.921197367824\n",
      "Prediction latest 15 second = [ 1.  1.  1.  1.  1.  1.  1.  1.  1.  1.  1.  1.  1.  1.  1.]\n",
      "Precision = 1.0\n",
      "Kernel is linear and top five importance features = [(28, 8.842495071325903), (8, 5.2012542418007328), (25, 5.1771259315320259), (52, 5.0193381908220385), (1, 4.3382587134655548)]\n",
      "----------------------------Rolling Window Time = 10----------------------------\n",
      "CPU times: user 2.99 s, sys: 0 ns, total: 2.99 s\n",
      "Wall time: 3.08 s\n",
      "{'kernel': 'linear', 'C': 10}\n",
      "CV Best Score = 0.935057204844\n",
      "Prediction latest 15 second = [ 1.  1.  1.  1.  1.  1.  1.  1.  1.  1.  1.  1.  1.  1.  1.]\n",
      "Precision = 0.533333333333\n",
      "Kernel is linear and top five importance features = [(28, 9.5313060725304091), (25, 5.5110667535856575), (1, 4.9207722753177014), (8, 3.9782091370098422), (24, 3.6337408480140132)]\n",
      "----------------------------Rolling Window Time = 11----------------------------\n",
      "CPU times: user 3.63 s, sys: 46.9 ms, total: 3.68 s\n",
      "Wall time: 4.25 s\n",
      "{'kernel': 'linear', 'C': 10}\n",
      "CV Best Score = 0.934434182413\n",
      "Prediction latest 15 second = [ 1.  1.  1.  1.  1.  1.  1.  1.  1.  1.  1.  1.  1.  1.  1.]\n",
      "Precision = 0.0\n",
      "Kernel is linear and top five importance features = [(28, 9.4939123731913586), (25, 5.5286467506136203), (1, 4.9136152531176878), (8, 3.9467939251208568), (24, 3.5963788763628122)]\n",
      "----------------------------Rolling Window Time = 12----------------------------\n",
      "CPU times: user 3.02 s, sys: 11.9 ms, total: 3.03 s\n",
      "Wall time: 3.16 s\n",
      "{'kernel': 'linear', 'C': 1}\n",
      "CV Best Score = 0.945052976171\n",
      "Prediction latest 15 second = [ 1.  1.  1.  1.  1.  1.  1.  1.  1.  1.  1.  1.  1.  1.  1.]\n",
      "Precision = 0.0\n",
      "Kernel is linear and top five importance features = [(28, 4.2273160223008492), (24, 2.5378420855285251), (25, 2.4650417703210032), (29, 2.4631006371354704), (27, 2.1762446891003959)]\n",
      "----------------------------Rolling Window Time = 13----------------------------\n",
      "CPU times: user 3.11 s, sys: 0 ns, total: 3.11 s\n",
      "Wall time: 3.2 s\n",
      "{'kernel': 'linear', 'C': 1}\n",
      "CV Best Score = 0.945003717514\n",
      "Prediction latest 15 second = [ 1.  1.  1.  1.  1.  1.  1.  1.  1.  1.  1.  1.  1.  1.  1.]\n",
      "Precision = 0.0\n",
      "Kernel is linear and top five importance features = [(28, 4.2273160223008492), (24, 2.5378420855285251), (25, 2.4650417703210032), (29, 2.4631006371354704), (27, 2.1762446891003959)]\n",
      "----------------------------Rolling Window Time = 14----------------------------\n",
      "CPU times: user 3.31 s, sys: 16.1 ms, total: 3.33 s\n",
      "Wall time: 3.53 s\n",
      "{'kernel': 'linear', 'C': 1}\n",
      "CV Best Score = 0.947737290846\n",
      "Prediction latest 15 second = [ 1.  1.  1.  1.  1.  1.  1.  1.  1.  1.  1.  1.  1.  1.  1.]\n",
      "Precision = 0.0\n",
      "Kernel is linear and top five importance features = [(28, 4.2273160223008492), (24, 2.5378420855285251), (25, 2.4650417703210032), (29, 2.4631006371354704), (27, 2.1762446891003959)]\n",
      "----------------------------Rolling Window Time = 15----------------------------\n",
      "CPU times: user 3.89 s, sys: 19.8 ms, total: 3.91 s\n",
      "Wall time: 5.29 s\n",
      "{'kernel': 'linear', 'C': 1}\n",
      "CV Best Score = 0.940467896993\n",
      "Prediction latest 15 second = [ 1.  1.  1.  1.  1.  1.  1.  1.  1.  1.  1.  1.  1.  1.  1.]\n",
      "Precision = 0.266666666667\n",
      "Kernel is linear and top five importance features = [(28, 4.2273160223008492), (24, 2.5378420855285251), (25, 2.4650417703210032), (29, 2.4631006371354704), (27, 2.1762446891003959)]\n",
      "----------------------------Rolling Window Time = 16----------------------------\n",
      "CPU times: user 3.79 s, sys: 23.9 ms, total: 3.81 s\n",
      "Wall time: 4.62 s\n",
      "{'kernel': 'linear', 'C': 10}\n",
      "CV Best Score = 0.939702754282\n",
      "Prediction latest 15 second = [ 1.  1.  1.  1.  1.  1.  1.  1.  1.  1.  1.  1.  1.  1.  1.]\n",
      "Precision = 1.0\n",
      "Kernel is linear and top five importance features = [(28, 9.6976528901889214), (25, 6.3762589030751418), (1, 5.2867262792817726), (0, 3.761571521952364), (24, 3.6162867317668228)]\n",
      "----------------------------Rolling Window Time = 17----------------------------\n",
      "CPU times: user 3.71 s, sys: 11.8 ms, total: 3.72 s\n",
      "Wall time: 4.37 s\n",
      "{'kernel': 'linear', 'C': 10}\n",
      "CV Best Score = 0.939702754282\n",
      "Prediction latest 15 second = [ 1.  1.  1.  1.  1.  1.  1.  1.  1.  1.  1.  1.  1.  1.  1.]\n",
      "Precision = 1.0\n",
      "Kernel is linear and top five importance features = [(28, 9.6976528901889214), (25, 6.3762589030751418), (1, 5.2867262792817726), (0, 3.761571521952364), (24, 3.6162867317668228)]\n",
      "----------------------------Rolling Window Time = 18----------------------------\n",
      "CPU times: user 3.41 s, sys: 19.8 ms, total: 3.43 s\n",
      "Wall time: 4.73 s\n",
      "{'kernel': 'linear', 'C': 1}\n",
      "CV Best Score = 0.939037011253\n",
      "Prediction latest 15 second = [ 1.  1.  1.  1.  1.  1.  1.  1.  1.  1.  1.  1.  1.  1.  1.]\n",
      "Precision = 1.0\n",
      "Kernel is linear and top five importance features = [(28, 4.2273160223008492), (24, 2.5378420855285251), (25, 2.4650417703210032), (29, 2.4631006371354704), (27, 2.1762446891003959)]\n",
      "----------------------------Rolling Window Time = 19----------------------------\n",
      "CPU times: user 3.66 s, sys: 7.32 ms, total: 3.67 s\n",
      "Wall time: 4.5 s\n",
      "{'kernel': 'linear', 'C': 10}\n",
      "CV Best Score = 0.936761270479\n",
      "Prediction latest 15 second = [ 1.  1.  1.  1.  1.  1.  1.  1.  1.  1.  1.  1.  1.  1.  1.]\n",
      "Precision = 1.0\n",
      "Kernel is linear and top five importance features = [(28, 9.6976528901889214), (25, 6.3762589030751418), (1, 5.2867262792817726), (0, 3.761571521952364), (24, 3.6162867317668228)]\n",
      "----------------------------Rolling Window Time = 20----------------------------\n",
      "CPU times: user 3.85 s, sys: 11.2 ms, total: 3.86 s\n",
      "Wall time: 6.93 s\n",
      "{'kernel': 'linear', 'C': 10}\n",
      "CV Best Score = 0.938977720695\n",
      "Prediction latest 15 second = [ 1.  1.  1.  1.  1.  1.  1.  1.  1.  1.  1.  1.  1.  1.  1.]\n",
      "Precision = 1.0\n",
      "Kernel is linear and top five importance features = [(28, 9.6976528901889214), (25, 6.3762589030751418), (1, 5.2867262792817726), (0, 3.761571521952364), (24, 3.6162867317668228)]\n",
      "----------------------------Rolling Window Time = 21----------------------------\n",
      "CPU times: user 3.37 s, sys: 16.1 ms, total: 3.39 s\n",
      "Wall time: 3.97 s\n",
      "{'kernel': 'linear', 'C': 1}\n",
      "CV Best Score = 0.935359371676\n",
      "Prediction latest 15 second = [ 1.  1.  1.  1.  1.  1.  1.  1.  1.  1.  1.  1.  1.  1.  1.]\n",
      "Precision = 1.0\n",
      "Kernel is linear and top five importance features = [(28, 4.2273151663288857), (24, 2.5378456548749755), (25, 2.4650465498274223), (29, 2.4631040060083649), (27, 2.1762514702884372)]\n",
      "----------------------------Rolling Window Time = 22----------------------------\n",
      "CPU times: user 3.86 s, sys: 20.1 ms, total: 3.88 s\n",
      "Wall time: 4.43 s\n",
      "{'kernel': 'linear', 'C': 1}\n",
      "CV Best Score = 0.936893765602\n",
      "Prediction latest 15 second = [ 1.  1.  1.  1.  1.  1.  1.  1.  1.  1.  1.  1.  1.  1.  1.]\n",
      "Precision = 1.0\n",
      "Kernel is linear and top five importance features = [(28, 4.2273151663288857), (24, 2.5378456548749755), (25, 2.4650465498274223), (29, 2.4631040060083649), (27, 2.1762514702884372)]\n",
      "----------------------------Rolling Window Time = 23----------------------------\n",
      "CPU times: user 3.8 s, sys: 8.01 ms, total: 3.81 s\n",
      "Wall time: 4.67 s\n",
      "{'kernel': 'linear', 'C': 1}\n",
      "CV Best Score = 0.936893765602\n",
      "Prediction latest 15 second = [ 1.  1.  1.  1.  1.  1.  1.  1.  1.  1.  1.  1.  1.  1.  1.]\n",
      "Precision = 1.0\n",
      "Kernel is linear and top five importance features = [(28, 4.22730721541725), (24, 2.5378559744958267), (25, 2.4650426864522115), (29, 2.4630927648623775), (27, 2.1762348045512829)]\n",
      "----------------------------Rolling Window Time = 24----------------------------\n",
      "CPU times: user 3.36 s, sys: 15.9 ms, total: 3.38 s\n",
      "Wall time: 4.83 s\n",
      "{'kernel': 'linear', 'C': 1}\n",
      "CV Best Score = 0.936893765602\n",
      "Prediction latest 15 second = [ 1.  1.  1.  1.  1.  1.  1.  1.  1.  1.  1.  1.  1.  1.  1.]\n",
      "Precision = 1.0\n",
      "Kernel is linear and top five importance features = [(28, 4.22730721541725), (24, 2.5378559744958267), (25, 2.4650426864522115), (29, 2.4630927648623775), (27, 2.1762348045512829)]\n",
      "----------------------------Rolling Window Time = 25----------------------------\n",
      "CPU times: user 3.68 s, sys: 18.3 ms, total: 3.7 s\n",
      "Wall time: 10.3 s\n",
      "{'kernel': 'linear', 'C': 1}\n",
      "CV Best Score = 0.936893765602\n",
      "Prediction latest 15 second = [ 1.  1.  1.  1.  1.  1.  1.  1.  1.  1.  1.  1.  1.  1.  1.]\n",
      "Precision = 1.0\n",
      "Kernel is linear and top five importance features = [(28, 4.22730721541725), (24, 2.5378559744958267), (25, 2.4650426864522115), (29, 2.4630927648623775), (27, 2.1762348045512829)]\n",
      "----------------------------Rolling Window Time = 26----------------------------\n",
      "CPU times: user 3.37 s, sys: 3.75 ms, total: 3.37 s\n",
      "Wall time: 7.32 s\n",
      "{'kernel': 'linear', 'C': 1}\n",
      "CV Best Score = 0.936893765602\n",
      "Prediction latest 15 second = [ 1.  1.  1.  1.  1.  1.  1.  1.  1.  1.  1.  1.  1.  1.  1.]\n",
      "Precision = 1.0\n",
      "Kernel is linear and top five importance features = [(28, 4.2273135889367275), (24, 2.5378480666228285), (25, 2.4650559274906327), (29, 2.4630999263146514), (27, 2.1762475256126406)]\n",
      "----------------------------Rolling Window Time = 27----------------------------\n",
      "CPU times: user 3.59 s, sys: 10.8 ms, total: 3.6 s\n",
      "Wall time: 9.09 s\n",
      "{'kernel': 'linear', 'C': 1}\n",
      "CV Best Score = 0.936893765602\n",
      "Prediction latest 15 second = [ 1.  1.  1.  1.  1.  1.  1.  1.  1.  1.  1.  1.  1.  1.  1.]\n",
      "Precision = 1.0\n",
      "Kernel is linear and top five importance features = [(28, 4.2273135889367275), (24, 2.5378480666228285), (25, 2.4650559274906327), (29, 2.4630999263146514), (27, 2.1762475256126406)]\n",
      "----------------------------Rolling Window Time = 28----------------------------\n",
      "CPU times: user 4.28 s, sys: 4.17 ms, total: 4.28 s\n",
      "Wall time: 8.69 s\n",
      "{'kernel': 'linear', 'C': 1}\n",
      "CV Best Score = 0.935633294669\n",
      "Prediction latest 15 second = [ 1.  1.  1.  1.  1.  1.  1.  1.  1.  1.  1.  1.  1.  1.  1.]\n",
      "Precision = 1.0\n",
      "Kernel is linear and top five importance features = [(28, 3.9288437924317479), (24, 2.5713827296874117), (25, 2.3984480268668542), (29, 2.1746958447652514), (27, 1.9927571819568464)]\n",
      "----------------------------Rolling Window Time = 29----------------------------\n",
      "CPU times: user 4.25 s, sys: 271 µs, total: 4.25 s\n",
      "Wall time: 8.63 s\n",
      "{'kernel': 'linear', 'C': 1}\n",
      "CV Best Score = 0.935633294669\n",
      "Prediction latest 15 second = [ 1.  1.  1.  1.  1.  1.  1.  1.  1.  1.  1.  1.  1.  1.  1.]\n",
      "Precision = 1.0\n",
      "Kernel is linear and top five importance features = [(28, 3.9282783115487923), (24, 2.5714922487849607), (25, 2.3985890525692306), (29, 2.1744501157856986), (27, 1.9926841525523276)]\n",
      "----------------------------Rolling Window Time = 30----------------------------\n",
      "CPU times: user 3.93 s, sys: 0 ns, total: 3.93 s\n",
      "Wall time: 7.98 s\n",
      "{'kernel': 'linear', 'C': 1}\n",
      "CV Best Score = 0.935633294669\n",
      "Prediction latest 15 second = [ 1.  1.  1.  1.  1.  1.  1.  1.  1.  1.  1.  1.  1.  1.  1.]\n",
      "Precision = 1.0\n",
      "Kernel is linear and top five importance features = [(28, 3.9288072698209695), (24, 2.5713789011558266), (25, 2.3984457332776183), (29, 2.1746748190273424), (27, 1.9927199801179831)]\n",
      "----------------------------Rolling Window Time = 31----------------------------\n",
      "CPU times: user 5.57 s, sys: 7.43 ms, total: 5.58 s\n",
      "Wall time: 11.6 s\n",
      "{'kernel': 'linear', 'C': 1}\n",
      "CV Best Score = 0.928699964953\n",
      "Prediction latest 15 second = [ 1.  1.  1.  1.  1.  1.  1.  1.  1.  1.  1.  1.  1.  1.  1.]\n",
      "Precision = 1.0\n",
      "Kernel is linear and top five importance features = [(28, 3.4209962963036298), (0, 2.5115080832186214), (25, 2.2681886870565142), (27, 2.183278644047713), (1, 2.1291603061240978)]\n",
      "----------------------------Rolling Window Time = 32----------------------------\n",
      "CPU times: user 5.99 s, sys: 26.6 ms, total: 6.01 s\n",
      "Wall time: 15.6 s\n",
      "{'kernel': 'linear', 'C': 1}\n",
      "CV Best Score = 0.920939201918\n",
      "Prediction latest 15 second = [ 1.  1.  1.  1.  1.  1.  1.  1.  1.  1.  1.  1.  1.  1.  1.]\n",
      "Precision = 1.0\n",
      "Kernel is linear and top five importance features = [(0, 3.5338717073323096), (28, 3.4288355935547292), (1, 2.8940290369549864), (27, 2.6576402647913762), (18, 2.492023881547881)]\n",
      "----------------------------Rolling Window Time = 33----------------------------\n",
      "CPU times: user 8.65 s, sys: 15.2 ms, total: 8.66 s\n",
      "Wall time: 19.4 s\n",
      "{'kernel': 'linear', 'C': 1}\n",
      "CV Best Score = 0.919607289297\n",
      "Prediction latest 15 second = [ 1.  1.  1.  1.  1.  1.  1.  1.  1.  1.  1.  1.  1.  1.  1.]\n",
      "Precision = 1.0\n",
      "Kernel is linear and top five importance features = [(0, 3.4364577537166099), (28, 3.4078634547407081), (1, 3.0541891767340168), (18, 2.6601408048706152), (27, 2.6184487941169925)]\n",
      "----------------------------Rolling Window Time = 34----------------------------\n",
      "CPU times: user 8.84 s, sys: 7.9 ms, total: 8.85 s\n",
      "Wall time: 19.8 s\n",
      "{'kernel': 'linear', 'C': 1}\n",
      "CV Best Score = 0.918591739563\n",
      "Prediction latest 15 second = [ 1.  1.  1.  1.  1.  1.  1.  1.  1.  1.  1.  1.  1.  1.  1.]\n",
      "Precision = 1.0\n",
      "Kernel is linear and top five importance features = [(0, 3.4364561835779162), (28, 3.4078617234863069), (1, 3.0541884633410818), (18, 2.6601408678172711), (27, 2.6184499134969821)]\n",
      "----------------------------Rolling Window Time = 35----------------------------\n",
      "CPU times: user 9.6 s, sys: 4.55 ms, total: 9.61 s\n",
      "Wall time: 19.9 s\n",
      "{'kernel': 'linear', 'C': 1}\n",
      "CV Best Score = 0.910998872069\n",
      "Prediction latest 15 second = [ 1.  1.  1.  1.  1.  1.  1.  1.  1.  1.  1.  1.  1.  1.  1.]\n",
      "Precision = 1.0\n",
      "Kernel is linear and top five importance features = [(0, 3.4872211349491122), (28, 3.4577074842541782), (1, 3.0091766850490007), (18, 2.5960041965576908), (27, 2.5767754218711705)]\n",
      "----------------------------Rolling Window Time = 36----------------------------\n",
      "CPU times: user 12.9 s, sys: 4.41 ms, total: 12.9 s\n",
      "Wall time: 26.7 s\n",
      "{'kernel': 'linear', 'C': 1}\n",
      "CV Best Score = 0.903330474153\n",
      "Prediction latest 15 second = [ 1.  1.  1.  1.  1.  1.  1.  1.  1.  1.  1.  1.  1.  1.  1.]\n",
      "Precision = 1.0\n",
      "Kernel is linear and top five importance features = [(28, 3.4718446593827483), (0, 3.4287441046834242), (1, 3.0013440092886796), (18, 2.7865639319044351), (27, 2.5605669346310118)]\n",
      "----------------------------Rolling Window Time = 37----------------------------\n",
      "CPU times: user 13.6 s, sys: 19.1 ms, total: 13.7 s\n",
      "Wall time: 30.9 s\n",
      "{'kernel': 'linear', 'C': 1}\n",
      "CV Best Score = 0.894832930877\n",
      "Prediction latest 15 second = [ 1.  1.  1.  1.  1.  1.  1.  1.  1.  1.  1.  1.  1.  1.  1.]\n",
      "Precision = 1.0\n",
      "Kernel is linear and top five importance features = [(28, 4.0601312961691649), (0, 3.4452504153907557), (1, 2.9332188391425653), (18, 2.9060554322485941), (27, 2.7607282982479209)]\n",
      "----------------------------Rolling Window Time = 38----------------------------\n",
      "CPU times: user 12.2 s, sys: 13.1 ms, total: 12.2 s\n",
      "Wall time: 29.1 s\n",
      "{'kernel': 'linear', 'C': 1}\n",
      "CV Best Score = 0.887720861967\n",
      "Prediction latest 15 second = [ 1.  1.  1.  1.  1.  1.  1.  1.  1.  1.  1.  1.  1.  1.  1.]\n",
      "Precision = 1.0\n",
      "Kernel is linear and top five importance features = [(28, 4.5114877223715419), (27, 3.7718064672356473), (0, 3.2918752771720015), (18, 3.1012526462657108), (1, 2.940519454564682)]\n",
      "----------------------------Rolling Window Time = 39----------------------------\n",
      "CPU times: user 12.9 s, sys: 0 ns, total: 12.9 s\n",
      "Wall time: 26.8 s\n",
      "{'kernel': 'linear', 'C': 1}\n",
      "CV Best Score = 0.886858149963\n",
      "Prediction latest 15 second = [ 1.  1.  1.  1.  1.  1.  1.  1.  1.  1.  1.  1.  1.  1.  1.]\n",
      "Precision = 1.0\n",
      "Kernel is linear and top five importance features = [(28, 4.3823095419000424), (27, 4.3267587867284156), (18, 3.4307420154128794), (0, 3.0830889948961828), (1, 3.0698871217615773)]\n",
      "----------------------------Rolling Window Time = 40----------------------------\n",
      "CPU times: user 14.6 s, sys: 30.1 ms, total: 14.6 s\n",
      "Wall time: 36.2 s\n",
      "{'kernel': 'linear', 'C': 1}\n",
      "CV Best Score = 0.891080014887\n",
      "Prediction latest 15 second = [ 1.  1.  1.  1.  1.  1.  1.  1.  1.  1.  1.  1.  1.  1.  1.]\n",
      "Precision = 1.0\n",
      "Kernel is linear and top five importance features = [(27, 4.5907508582474748), (28, 4.3006167594180749), (18, 3.5959531212538653), (1, 3.0842944575397846), (0, 3.0629982946488012)]\n",
      "----------------------------Rolling Window Time = 41----------------------------\n",
      "CPU times: user 10.8 s, sys: 248 µs, total: 10.8 s\n",
      "Wall time: 22 s\n",
      "{'kernel': 'linear', 'C': 1}\n",
      "CV Best Score = 0.89238016157\n",
      "Prediction latest 15 second = [ 1.  1.  1.  1.  1.  1.  1.  1.  1.  1.  1.  1.  1.  1.  1.]\n",
      "Precision = 1.0\n",
      "Kernel is linear and top five importance features = [(28, 4.6050887147274393), (27, 4.3924030752455225), (18, 4.0425209172295604), (1, 3.1221362247145406), (0, 2.8585802447394792)]\n",
      "----------------------------Rolling Window Time = 42----------------------------\n",
      "CPU times: user 18 s, sys: 1.3 ms, total: 18 s\n",
      "Wall time: 36.9 s\n",
      "{'kernel': 'linear', 'C': 1}\n",
      "CV Best Score = 0.89510107358\n",
      "Prediction latest 15 second = [ 1.  1.  1.  1.  1.  1.  1.  1.  1.  1.  1.  1.  1.  1.  1.]\n",
      "Precision = 1.0\n",
      "Kernel is linear and top five importance features = [(18, 4.5738416729462044), (28, 4.2723152768666903), (27, 3.5018414465242227), (1, 3.0452248893712928), (0, 2.847893552398896)]\n",
      "----------------------------Rolling Window Time = 43----------------------------\n",
      "CPU times: user 15.9 s, sys: 361 µs, total: 15.9 s\n",
      "Wall time: 32.6 s\n",
      "{'kernel': 'linear', 'C': 1}\n",
      "CV Best Score = 0.895184869569\n",
      "Prediction latest 15 second = [ 1.  1.  1.  1.  1.  1.  1.  1.  1.  1.  1.  1.  1.  1.  1.]\n",
      "Precision = 1.0\n",
      "Kernel is linear and top five importance features = [(18, 4.4328268545897807), (28, 4.2343975610495965), (27, 3.5894909824773644), (0, 3.0964151137704867), (1, 3.0180051618781598)]\n",
      "----------------------------Rolling Window Time = 44----------------------------\n",
      "CPU times: user 13.4 s, sys: 573 µs, total: 13.4 s\n",
      "Wall time: 27.9 s\n",
      "{'kernel': 'linear', 'C': 1}\n",
      "CV Best Score = 0.893337950224\n",
      "Prediction latest 15 second = [ 1.  1.  1.  0.  0.  0.  1.  0.  0.  0.  0.  0.  0.  0.  0.]\n",
      "Precision = 1.0\n",
      "Kernel is linear and top five importance features = [(18, 4.445697445718034), (28, 4.2873474834521863), (27, 3.5531249005122585), (0, 3.1798392633512749), (1, 3.0456218470067737)]\n",
      "----------------------------Rolling Window Time = 45----------------------------\n",
      "CPU times: user 11.9 s, sys: 488 µs, total: 11.9 s\n",
      "Wall time: 24.2 s\n",
      "{'kernel': 'linear', 'C': 1}\n",
      "CV Best Score = 0.891184019546\n",
      "Prediction latest 15 second = [ 0.  1.  1.  1.  1.  1.  0.  0.  0.  0.  0.  0.  0.  0.  0.]\n",
      "Precision = 1.0\n",
      "Kernel is linear and top five importance features = [(18, 4.4255869467744553), (28, 4.315350066047217), (27, 3.5925537976358668), (0, 3.2398228492477452), (1, 3.1210181511102131)]\n",
      "----------------------------Rolling Window Time = 46----------------------------\n",
      "CPU times: user 10.9 s, sys: 308 µs, total: 10.9 s\n",
      "Wall time: 22.7 s\n",
      "{'kernel': 'linear', 'C': 1}\n",
      "CV Best Score = 0.892153930663\n",
      "Prediction latest 15 second = [ 0.  0.  0.  0.  0.  0.  0.  0.  0.  0.  0.  0.  0.  0.  0.]\n",
      "Precision = 0.0\n",
      "Kernel is linear and top five importance features = [(28, 4.46519602321814), (18, 4.2225566909146384), (27, 3.6505637441565502), (1, 3.5245432604768805), (0, 3.4531118109052552)]\n",
      "----------------------------Rolling Window Time = 47----------------------------\n"
     ]
    },
    {
     "name": "stderr",
     "output_type": "stream",
     "text": [
      "/home/bigdatas16/anaconda2/lib/python2.7/site-packages/sklearn/metrics/classification.py:1113: UndefinedMetricWarning: Precision is ill-defined and being set to 0.0 due to no predicted samples.\n",
      "  'precision', 'predicted', average, warn_for)\n"
     ]
    },
    {
     "name": "stdout",
     "output_type": "stream",
     "text": [
      "CPU times: user 16.6 s, sys: 56.9 ms, total: 16.7 s\n",
      "Wall time: 46 s\n",
      "{'kernel': 'linear', 'C': 1}\n",
      "CV Best Score = 0.900333872097\n",
      "Prediction latest 15 second = [ 0.  0.  0.  0.  0.  0.  0.  0.  0.  0.  0.  0.  0.  0.  0.]\n",
      "Precision = 0.0\n",
      "Kernel is linear and top five importance features = [(28, 4.4648815386429606), (18, 4.2227731607911263), (27, 3.6498677743901609), (1, 3.5252080199008655), (0, 3.4523846924710635)]\n",
      "----------------------------Rolling Window Time = 48----------------------------\n"
     ]
    },
    {
     "ename": "KeyboardInterrupt",
     "evalue": "",
     "output_type": "error",
     "traceback": [
      "\u001b[1;31m---------------------------------------------------------------------------\u001b[0m",
      "\u001b[1;31mKeyboardInterrupt\u001b[0m                         Traceback (most recent call last)",
      "\u001b[1;32m<ipython-input-106-75d10d3a3b16>\u001b[0m in \u001b[0;36m<module>\u001b[1;34m()\u001b[0m\n\u001b[0;32m     38\u001b[0m         \u001b[0mmodel\u001b[0m \u001b[1;33m=\u001b[0m \u001b[0msvm\u001b[0m\u001b[1;33m.\u001b[0m\u001b[0mSVC\u001b[0m\u001b[1;33m(\u001b[0m\u001b[0mprobability\u001b[0m\u001b[1;33m=\u001b[0m\u001b[0mTrue\u001b[0m\u001b[1;33m)\u001b[0m\u001b[1;33m\u001b[0m\u001b[0m\n\u001b[0;32m     39\u001b[0m         \u001b[0mGrid\u001b[0m \u001b[1;33m=\u001b[0m \u001b[0mGridSearchCV\u001b[0m\u001b[1;33m(\u001b[0m\u001b[0mmodel\u001b[0m\u001b[1;33m,\u001b[0m\u001b[0mmodel_grid\u001b[0m\u001b[1;33m,\u001b[0m\u001b[0mcv\u001b[0m\u001b[1;33m=\u001b[0m\u001b[1;36m5\u001b[0m\u001b[1;33m,\u001b[0m\u001b[0mscoring\u001b[0m \u001b[1;33m=\u001b[0m \u001b[1;34m'precision'\u001b[0m\u001b[1;33m)\u001b[0m\u001b[1;33m\u001b[0m\u001b[0m\n\u001b[1;32m---> 40\u001b[1;33m         \u001b[0mget_ipython\u001b[0m\u001b[1;33m(\u001b[0m\u001b[1;33m)\u001b[0m\u001b[1;33m.\u001b[0m\u001b[0mmagic\u001b[0m\u001b[1;33m(\u001b[0m\u001b[1;34mu'time Grid.fit(X_train,y_train)'\u001b[0m\u001b[1;33m)\u001b[0m\u001b[1;33m\u001b[0m\u001b[0m\n\u001b[0m\u001b[0;32m     41\u001b[0m         \u001b[1;32mprint\u001b[0m \u001b[0mGrid\u001b[0m\u001b[1;33m.\u001b[0m\u001b[0mbest_params_\u001b[0m\u001b[1;33m\u001b[0m\u001b[0m\n\u001b[0;32m     42\u001b[0m         \u001b[1;32mprint\u001b[0m \u001b[1;34m'CV Best Score = %s'\u001b[0m\u001b[1;33m%\u001b[0m\u001b[1;33m(\u001b[0m\u001b[0mGrid\u001b[0m\u001b[1;33m.\u001b[0m\u001b[0mbest_score_\u001b[0m\u001b[1;33m)\u001b[0m\u001b[1;33m\u001b[0m\u001b[0m\n",
      "\u001b[1;32m/home/bigdatas16/anaconda2/lib/python2.7/site-packages/IPython/core/interactiveshell.pyc\u001b[0m in \u001b[0;36mmagic\u001b[1;34m(self, arg_s)\u001b[0m\n\u001b[0;32m   2161\u001b[0m         \u001b[0mmagic_name\u001b[0m\u001b[1;33m,\u001b[0m \u001b[0m_\u001b[0m\u001b[1;33m,\u001b[0m \u001b[0mmagic_arg_s\u001b[0m \u001b[1;33m=\u001b[0m \u001b[0marg_s\u001b[0m\u001b[1;33m.\u001b[0m\u001b[0mpartition\u001b[0m\u001b[1;33m(\u001b[0m\u001b[1;34m' '\u001b[0m\u001b[1;33m)\u001b[0m\u001b[1;33m\u001b[0m\u001b[0m\n\u001b[0;32m   2162\u001b[0m         \u001b[0mmagic_name\u001b[0m \u001b[1;33m=\u001b[0m \u001b[0mmagic_name\u001b[0m\u001b[1;33m.\u001b[0m\u001b[0mlstrip\u001b[0m\u001b[1;33m(\u001b[0m\u001b[0mprefilter\u001b[0m\u001b[1;33m.\u001b[0m\u001b[0mESC_MAGIC\u001b[0m\u001b[1;33m)\u001b[0m\u001b[1;33m\u001b[0m\u001b[0m\n\u001b[1;32m-> 2163\u001b[1;33m         \u001b[1;32mreturn\u001b[0m \u001b[0mself\u001b[0m\u001b[1;33m.\u001b[0m\u001b[0mrun_line_magic\u001b[0m\u001b[1;33m(\u001b[0m\u001b[0mmagic_name\u001b[0m\u001b[1;33m,\u001b[0m \u001b[0mmagic_arg_s\u001b[0m\u001b[1;33m)\u001b[0m\u001b[1;33m\u001b[0m\u001b[0m\n\u001b[0m\u001b[0;32m   2164\u001b[0m \u001b[1;33m\u001b[0m\u001b[0m\n\u001b[0;32m   2165\u001b[0m     \u001b[1;31m#-------------------------------------------------------------------------\u001b[0m\u001b[1;33m\u001b[0m\u001b[1;33m\u001b[0m\u001b[0m\n",
      "\u001b[1;32m/home/bigdatas16/anaconda2/lib/python2.7/site-packages/IPython/core/interactiveshell.pyc\u001b[0m in \u001b[0;36mrun_line_magic\u001b[1;34m(self, magic_name, line)\u001b[0m\n\u001b[0;32m   2082\u001b[0m                 \u001b[0mkwargs\u001b[0m\u001b[1;33m[\u001b[0m\u001b[1;34m'local_ns'\u001b[0m\u001b[1;33m]\u001b[0m \u001b[1;33m=\u001b[0m \u001b[0msys\u001b[0m\u001b[1;33m.\u001b[0m\u001b[0m_getframe\u001b[0m\u001b[1;33m(\u001b[0m\u001b[0mstack_depth\u001b[0m\u001b[1;33m)\u001b[0m\u001b[1;33m.\u001b[0m\u001b[0mf_locals\u001b[0m\u001b[1;33m\u001b[0m\u001b[0m\n\u001b[0;32m   2083\u001b[0m             \u001b[1;32mwith\u001b[0m \u001b[0mself\u001b[0m\u001b[1;33m.\u001b[0m\u001b[0mbuiltin_trap\u001b[0m\u001b[1;33m:\u001b[0m\u001b[1;33m\u001b[0m\u001b[0m\n\u001b[1;32m-> 2084\u001b[1;33m                 \u001b[0mresult\u001b[0m \u001b[1;33m=\u001b[0m \u001b[0mfn\u001b[0m\u001b[1;33m(\u001b[0m\u001b[1;33m*\u001b[0m\u001b[0margs\u001b[0m\u001b[1;33m,\u001b[0m\u001b[1;33m**\u001b[0m\u001b[0mkwargs\u001b[0m\u001b[1;33m)\u001b[0m\u001b[1;33m\u001b[0m\u001b[0m\n\u001b[0m\u001b[0;32m   2085\u001b[0m             \u001b[1;32mreturn\u001b[0m \u001b[0mresult\u001b[0m\u001b[1;33m\u001b[0m\u001b[0m\n\u001b[0;32m   2086\u001b[0m \u001b[1;33m\u001b[0m\u001b[0m\n",
      "\u001b[1;32m<decorator-gen-60>\u001b[0m in \u001b[0;36mtime\u001b[1;34m(self, line, cell, local_ns)\u001b[0m\n",
      "\u001b[1;32m/home/bigdatas16/anaconda2/lib/python2.7/site-packages/IPython/core/magic.pyc\u001b[0m in \u001b[0;36m<lambda>\u001b[1;34m(f, *a, **k)\u001b[0m\n\u001b[0;32m    191\u001b[0m     \u001b[1;31m# but it's overkill for just that one bit of state.\u001b[0m\u001b[1;33m\u001b[0m\u001b[1;33m\u001b[0m\u001b[0m\n\u001b[0;32m    192\u001b[0m     \u001b[1;32mdef\u001b[0m \u001b[0mmagic_deco\u001b[0m\u001b[1;33m(\u001b[0m\u001b[0marg\u001b[0m\u001b[1;33m)\u001b[0m\u001b[1;33m:\u001b[0m\u001b[1;33m\u001b[0m\u001b[0m\n\u001b[1;32m--> 193\u001b[1;33m         \u001b[0mcall\u001b[0m \u001b[1;33m=\u001b[0m \u001b[1;32mlambda\u001b[0m \u001b[0mf\u001b[0m\u001b[1;33m,\u001b[0m \u001b[1;33m*\u001b[0m\u001b[0ma\u001b[0m\u001b[1;33m,\u001b[0m \u001b[1;33m**\u001b[0m\u001b[0mk\u001b[0m\u001b[1;33m:\u001b[0m \u001b[0mf\u001b[0m\u001b[1;33m(\u001b[0m\u001b[1;33m*\u001b[0m\u001b[0ma\u001b[0m\u001b[1;33m,\u001b[0m \u001b[1;33m**\u001b[0m\u001b[0mk\u001b[0m\u001b[1;33m)\u001b[0m\u001b[1;33m\u001b[0m\u001b[0m\n\u001b[0m\u001b[0;32m    194\u001b[0m \u001b[1;33m\u001b[0m\u001b[0m\n\u001b[0;32m    195\u001b[0m         \u001b[1;32mif\u001b[0m \u001b[0mcallable\u001b[0m\u001b[1;33m(\u001b[0m\u001b[0marg\u001b[0m\u001b[1;33m)\u001b[0m\u001b[1;33m:\u001b[0m\u001b[1;33m\u001b[0m\u001b[0m\n",
      "\u001b[1;32m/home/bigdatas16/anaconda2/lib/python2.7/site-packages/IPython/core/magics/execution.pyc\u001b[0m in \u001b[0;36mtime\u001b[1;34m(self, line, cell, local_ns)\u001b[0m\n\u001b[0;32m   1171\u001b[0m         \u001b[1;32mif\u001b[0m \u001b[0mmode\u001b[0m\u001b[1;33m==\u001b[0m\u001b[1;34m'eval'\u001b[0m\u001b[1;33m:\u001b[0m\u001b[1;33m\u001b[0m\u001b[0m\n\u001b[0;32m   1172\u001b[0m             \u001b[0mst\u001b[0m \u001b[1;33m=\u001b[0m \u001b[0mclock2\u001b[0m\u001b[1;33m(\u001b[0m\u001b[1;33m)\u001b[0m\u001b[1;33m\u001b[0m\u001b[0m\n\u001b[1;32m-> 1173\u001b[1;33m             \u001b[0mout\u001b[0m \u001b[1;33m=\u001b[0m \u001b[0meval\u001b[0m\u001b[1;33m(\u001b[0m\u001b[0mcode\u001b[0m\u001b[1;33m,\u001b[0m \u001b[0mglob\u001b[0m\u001b[1;33m,\u001b[0m \u001b[0mlocal_ns\u001b[0m\u001b[1;33m)\u001b[0m\u001b[1;33m\u001b[0m\u001b[0m\n\u001b[0m\u001b[0;32m   1174\u001b[0m             \u001b[0mend\u001b[0m \u001b[1;33m=\u001b[0m \u001b[0mclock2\u001b[0m\u001b[1;33m(\u001b[0m\u001b[1;33m)\u001b[0m\u001b[1;33m\u001b[0m\u001b[0m\n\u001b[0;32m   1175\u001b[0m         \u001b[1;32melse\u001b[0m\u001b[1;33m:\u001b[0m\u001b[1;33m\u001b[0m\u001b[0m\n",
      "\u001b[1;32m<timed eval>\u001b[0m in \u001b[0;36m<module>\u001b[1;34m()\u001b[0m\n",
      "\u001b[1;32m/home/bigdatas16/anaconda2/lib/python2.7/site-packages/sklearn/grid_search.pyc\u001b[0m in \u001b[0;36mfit\u001b[1;34m(self, X, y)\u001b[0m\n\u001b[0;32m    827\u001b[0m \u001b[1;33m\u001b[0m\u001b[0m\n\u001b[0;32m    828\u001b[0m         \"\"\"\n\u001b[1;32m--> 829\u001b[1;33m         \u001b[1;32mreturn\u001b[0m \u001b[0mself\u001b[0m\u001b[1;33m.\u001b[0m\u001b[0m_fit\u001b[0m\u001b[1;33m(\u001b[0m\u001b[0mX\u001b[0m\u001b[1;33m,\u001b[0m \u001b[0my\u001b[0m\u001b[1;33m,\u001b[0m \u001b[0mParameterGrid\u001b[0m\u001b[1;33m(\u001b[0m\u001b[0mself\u001b[0m\u001b[1;33m.\u001b[0m\u001b[0mparam_grid\u001b[0m\u001b[1;33m)\u001b[0m\u001b[1;33m)\u001b[0m\u001b[1;33m\u001b[0m\u001b[0m\n\u001b[0m\u001b[0;32m    830\u001b[0m \u001b[1;33m\u001b[0m\u001b[0m\n\u001b[0;32m    831\u001b[0m \u001b[1;33m\u001b[0m\u001b[0m\n",
      "\u001b[1;32m/home/bigdatas16/anaconda2/lib/python2.7/site-packages/sklearn/grid_search.pyc\u001b[0m in \u001b[0;36m_fit\u001b[1;34m(self, X, y, parameter_iterable)\u001b[0m\n\u001b[0;32m    571\u001b[0m                                     \u001b[0mself\u001b[0m\u001b[1;33m.\u001b[0m\u001b[0mfit_params\u001b[0m\u001b[1;33m,\u001b[0m \u001b[0mreturn_parameters\u001b[0m\u001b[1;33m=\u001b[0m\u001b[0mTrue\u001b[0m\u001b[1;33m,\u001b[0m\u001b[1;33m\u001b[0m\u001b[0m\n\u001b[0;32m    572\u001b[0m                                     error_score=self.error_score)\n\u001b[1;32m--> 573\u001b[1;33m                 \u001b[1;32mfor\u001b[0m \u001b[0mparameters\u001b[0m \u001b[1;32min\u001b[0m \u001b[0mparameter_iterable\u001b[0m\u001b[1;33m\u001b[0m\u001b[0m\n\u001b[0m\u001b[0;32m    574\u001b[0m                 for train, test in cv)\n\u001b[0;32m    575\u001b[0m \u001b[1;33m\u001b[0m\u001b[0m\n",
      "\u001b[1;32m/home/bigdatas16/anaconda2/lib/python2.7/site-packages/sklearn/externals/joblib/parallel.pyc\u001b[0m in \u001b[0;36m__call__\u001b[1;34m(self, iterable)\u001b[0m\n\u001b[0;32m    756\u001b[0m             \u001b[1;31m# was dispatched. In particular this covers the edge\u001b[0m\u001b[1;33m\u001b[0m\u001b[1;33m\u001b[0m\u001b[0m\n\u001b[0;32m    757\u001b[0m             \u001b[1;31m# case of Parallel used with an exhausted iterator.\u001b[0m\u001b[1;33m\u001b[0m\u001b[1;33m\u001b[0m\u001b[0m\n\u001b[1;32m--> 758\u001b[1;33m             \u001b[1;32mwhile\u001b[0m \u001b[0mself\u001b[0m\u001b[1;33m.\u001b[0m\u001b[0mdispatch_one_batch\u001b[0m\u001b[1;33m(\u001b[0m\u001b[0miterator\u001b[0m\u001b[1;33m)\u001b[0m\u001b[1;33m:\u001b[0m\u001b[1;33m\u001b[0m\u001b[0m\n\u001b[0m\u001b[0;32m    759\u001b[0m                 \u001b[0mself\u001b[0m\u001b[1;33m.\u001b[0m\u001b[0m_iterating\u001b[0m \u001b[1;33m=\u001b[0m \u001b[0mTrue\u001b[0m\u001b[1;33m\u001b[0m\u001b[0m\n\u001b[0;32m    760\u001b[0m             \u001b[1;32melse\u001b[0m\u001b[1;33m:\u001b[0m\u001b[1;33m\u001b[0m\u001b[0m\n",
      "\u001b[1;32m/home/bigdatas16/anaconda2/lib/python2.7/site-packages/sklearn/externals/joblib/parallel.pyc\u001b[0m in \u001b[0;36mdispatch_one_batch\u001b[1;34m(self, iterator)\u001b[0m\n\u001b[0;32m    606\u001b[0m                 \u001b[1;32mreturn\u001b[0m \u001b[0mFalse\u001b[0m\u001b[1;33m\u001b[0m\u001b[0m\n\u001b[0;32m    607\u001b[0m             \u001b[1;32melse\u001b[0m\u001b[1;33m:\u001b[0m\u001b[1;33m\u001b[0m\u001b[0m\n\u001b[1;32m--> 608\u001b[1;33m                 \u001b[0mself\u001b[0m\u001b[1;33m.\u001b[0m\u001b[0m_dispatch\u001b[0m\u001b[1;33m(\u001b[0m\u001b[0mtasks\u001b[0m\u001b[1;33m)\u001b[0m\u001b[1;33m\u001b[0m\u001b[0m\n\u001b[0m\u001b[0;32m    609\u001b[0m                 \u001b[1;32mreturn\u001b[0m \u001b[0mTrue\u001b[0m\u001b[1;33m\u001b[0m\u001b[0m\n\u001b[0;32m    610\u001b[0m \u001b[1;33m\u001b[0m\u001b[0m\n",
      "\u001b[1;32m/home/bigdatas16/anaconda2/lib/python2.7/site-packages/sklearn/externals/joblib/parallel.pyc\u001b[0m in \u001b[0;36m_dispatch\u001b[1;34m(self, batch)\u001b[0m\n\u001b[0;32m    569\u001b[0m         \u001b[0mdispatch_timestamp\u001b[0m \u001b[1;33m=\u001b[0m \u001b[0mtime\u001b[0m\u001b[1;33m.\u001b[0m\u001b[0mtime\u001b[0m\u001b[1;33m(\u001b[0m\u001b[1;33m)\u001b[0m\u001b[1;33m\u001b[0m\u001b[0m\n\u001b[0;32m    570\u001b[0m         \u001b[0mcb\u001b[0m \u001b[1;33m=\u001b[0m \u001b[0mBatchCompletionCallBack\u001b[0m\u001b[1;33m(\u001b[0m\u001b[0mdispatch_timestamp\u001b[0m\u001b[1;33m,\u001b[0m \u001b[0mlen\u001b[0m\u001b[1;33m(\u001b[0m\u001b[0mbatch\u001b[0m\u001b[1;33m)\u001b[0m\u001b[1;33m,\u001b[0m \u001b[0mself\u001b[0m\u001b[1;33m)\u001b[0m\u001b[1;33m\u001b[0m\u001b[0m\n\u001b[1;32m--> 571\u001b[1;33m         \u001b[0mjob\u001b[0m \u001b[1;33m=\u001b[0m \u001b[0mself\u001b[0m\u001b[1;33m.\u001b[0m\u001b[0m_backend\u001b[0m\u001b[1;33m.\u001b[0m\u001b[0mapply_async\u001b[0m\u001b[1;33m(\u001b[0m\u001b[0mbatch\u001b[0m\u001b[1;33m,\u001b[0m \u001b[0mcallback\u001b[0m\u001b[1;33m=\u001b[0m\u001b[0mcb\u001b[0m\u001b[1;33m)\u001b[0m\u001b[1;33m\u001b[0m\u001b[0m\n\u001b[0m\u001b[0;32m    572\u001b[0m         \u001b[0mself\u001b[0m\u001b[1;33m.\u001b[0m\u001b[0m_jobs\u001b[0m\u001b[1;33m.\u001b[0m\u001b[0mappend\u001b[0m\u001b[1;33m(\u001b[0m\u001b[0mjob\u001b[0m\u001b[1;33m)\u001b[0m\u001b[1;33m\u001b[0m\u001b[0m\n\u001b[0;32m    573\u001b[0m \u001b[1;33m\u001b[0m\u001b[0m\n",
      "\u001b[1;32m/home/bigdatas16/anaconda2/lib/python2.7/site-packages/sklearn/externals/joblib/_parallel_backends.pyc\u001b[0m in \u001b[0;36mapply_async\u001b[1;34m(self, func, callback)\u001b[0m\n\u001b[0;32m    107\u001b[0m     \u001b[1;32mdef\u001b[0m \u001b[0mapply_async\u001b[0m\u001b[1;33m(\u001b[0m\u001b[0mself\u001b[0m\u001b[1;33m,\u001b[0m \u001b[0mfunc\u001b[0m\u001b[1;33m,\u001b[0m \u001b[0mcallback\u001b[0m\u001b[1;33m=\u001b[0m\u001b[0mNone\u001b[0m\u001b[1;33m)\u001b[0m\u001b[1;33m:\u001b[0m\u001b[1;33m\u001b[0m\u001b[0m\n\u001b[0;32m    108\u001b[0m         \u001b[1;34m\"\"\"Schedule a func to be run\"\"\"\u001b[0m\u001b[1;33m\u001b[0m\u001b[0m\n\u001b[1;32m--> 109\u001b[1;33m         \u001b[0mresult\u001b[0m \u001b[1;33m=\u001b[0m \u001b[0mImmediateResult\u001b[0m\u001b[1;33m(\u001b[0m\u001b[0mfunc\u001b[0m\u001b[1;33m)\u001b[0m\u001b[1;33m\u001b[0m\u001b[0m\n\u001b[0m\u001b[0;32m    110\u001b[0m         \u001b[1;32mif\u001b[0m \u001b[0mcallback\u001b[0m\u001b[1;33m:\u001b[0m\u001b[1;33m\u001b[0m\u001b[0m\n\u001b[0;32m    111\u001b[0m             \u001b[0mcallback\u001b[0m\u001b[1;33m(\u001b[0m\u001b[0mresult\u001b[0m\u001b[1;33m)\u001b[0m\u001b[1;33m\u001b[0m\u001b[0m\n",
      "\u001b[1;32m/home/bigdatas16/anaconda2/lib/python2.7/site-packages/sklearn/externals/joblib/_parallel_backends.pyc\u001b[0m in \u001b[0;36m__init__\u001b[1;34m(self, batch)\u001b[0m\n\u001b[0;32m    324\u001b[0m         \u001b[1;31m# Don't delay the application, to avoid keeping the input\u001b[0m\u001b[1;33m\u001b[0m\u001b[1;33m\u001b[0m\u001b[0m\n\u001b[0;32m    325\u001b[0m         \u001b[1;31m# arguments in memory\u001b[0m\u001b[1;33m\u001b[0m\u001b[1;33m\u001b[0m\u001b[0m\n\u001b[1;32m--> 326\u001b[1;33m         \u001b[0mself\u001b[0m\u001b[1;33m.\u001b[0m\u001b[0mresults\u001b[0m \u001b[1;33m=\u001b[0m \u001b[0mbatch\u001b[0m\u001b[1;33m(\u001b[0m\u001b[1;33m)\u001b[0m\u001b[1;33m\u001b[0m\u001b[0m\n\u001b[0m\u001b[0;32m    327\u001b[0m \u001b[1;33m\u001b[0m\u001b[0m\n\u001b[0;32m    328\u001b[0m     \u001b[1;32mdef\u001b[0m \u001b[0mget\u001b[0m\u001b[1;33m(\u001b[0m\u001b[0mself\u001b[0m\u001b[1;33m)\u001b[0m\u001b[1;33m:\u001b[0m\u001b[1;33m\u001b[0m\u001b[0m\n",
      "\u001b[1;32m/home/bigdatas16/anaconda2/lib/python2.7/site-packages/sklearn/externals/joblib/parallel.pyc\u001b[0m in \u001b[0;36m__call__\u001b[1;34m(self)\u001b[0m\n\u001b[0;32m    129\u001b[0m \u001b[1;33m\u001b[0m\u001b[0m\n\u001b[0;32m    130\u001b[0m     \u001b[1;32mdef\u001b[0m \u001b[0m__call__\u001b[0m\u001b[1;33m(\u001b[0m\u001b[0mself\u001b[0m\u001b[1;33m)\u001b[0m\u001b[1;33m:\u001b[0m\u001b[1;33m\u001b[0m\u001b[0m\n\u001b[1;32m--> 131\u001b[1;33m         \u001b[1;32mreturn\u001b[0m \u001b[1;33m[\u001b[0m\u001b[0mfunc\u001b[0m\u001b[1;33m(\u001b[0m\u001b[1;33m*\u001b[0m\u001b[0margs\u001b[0m\u001b[1;33m,\u001b[0m \u001b[1;33m**\u001b[0m\u001b[0mkwargs\u001b[0m\u001b[1;33m)\u001b[0m \u001b[1;32mfor\u001b[0m \u001b[0mfunc\u001b[0m\u001b[1;33m,\u001b[0m \u001b[0margs\u001b[0m\u001b[1;33m,\u001b[0m \u001b[0mkwargs\u001b[0m \u001b[1;32min\u001b[0m \u001b[0mself\u001b[0m\u001b[1;33m.\u001b[0m\u001b[0mitems\u001b[0m\u001b[1;33m]\u001b[0m\u001b[1;33m\u001b[0m\u001b[0m\n\u001b[0m\u001b[0;32m    132\u001b[0m \u001b[1;33m\u001b[0m\u001b[0m\n\u001b[0;32m    133\u001b[0m     \u001b[1;32mdef\u001b[0m \u001b[0m__len__\u001b[0m\u001b[1;33m(\u001b[0m\u001b[0mself\u001b[0m\u001b[1;33m)\u001b[0m\u001b[1;33m:\u001b[0m\u001b[1;33m\u001b[0m\u001b[0m\n",
      "\u001b[1;32m/home/bigdatas16/anaconda2/lib/python2.7/site-packages/sklearn/cross_validation.pyc\u001b[0m in \u001b[0;36m_fit_and_score\u001b[1;34m(estimator, X, y, scorer, train, test, verbose, parameters, fit_params, return_train_score, return_parameters, error_score)\u001b[0m\n\u001b[0;32m   1663\u001b[0m             \u001b[0mestimator\u001b[0m\u001b[1;33m.\u001b[0m\u001b[0mfit\u001b[0m\u001b[1;33m(\u001b[0m\u001b[0mX_train\u001b[0m\u001b[1;33m,\u001b[0m \u001b[1;33m**\u001b[0m\u001b[0mfit_params\u001b[0m\u001b[1;33m)\u001b[0m\u001b[1;33m\u001b[0m\u001b[0m\n\u001b[0;32m   1664\u001b[0m         \u001b[1;32melse\u001b[0m\u001b[1;33m:\u001b[0m\u001b[1;33m\u001b[0m\u001b[0m\n\u001b[1;32m-> 1665\u001b[1;33m             \u001b[0mestimator\u001b[0m\u001b[1;33m.\u001b[0m\u001b[0mfit\u001b[0m\u001b[1;33m(\u001b[0m\u001b[0mX_train\u001b[0m\u001b[1;33m,\u001b[0m \u001b[0my_train\u001b[0m\u001b[1;33m,\u001b[0m \u001b[1;33m**\u001b[0m\u001b[0mfit_params\u001b[0m\u001b[1;33m)\u001b[0m\u001b[1;33m\u001b[0m\u001b[0m\n\u001b[0m\u001b[0;32m   1666\u001b[0m \u001b[1;33m\u001b[0m\u001b[0m\n\u001b[0;32m   1667\u001b[0m     \u001b[1;32mexcept\u001b[0m \u001b[0mException\u001b[0m \u001b[1;32mas\u001b[0m \u001b[0me\u001b[0m\u001b[1;33m:\u001b[0m\u001b[1;33m\u001b[0m\u001b[0m\n",
      "\u001b[1;32m/home/bigdatas16/anaconda2/lib/python2.7/site-packages/sklearn/svm/base.pyc\u001b[0m in \u001b[0;36mfit\u001b[1;34m(self, X, y, sample_weight)\u001b[0m\n\u001b[0;32m    187\u001b[0m \u001b[1;33m\u001b[0m\u001b[0m\n\u001b[0;32m    188\u001b[0m         \u001b[0mseed\u001b[0m \u001b[1;33m=\u001b[0m \u001b[0mrnd\u001b[0m\u001b[1;33m.\u001b[0m\u001b[0mrandint\u001b[0m\u001b[1;33m(\u001b[0m\u001b[0mnp\u001b[0m\u001b[1;33m.\u001b[0m\u001b[0miinfo\u001b[0m\u001b[1;33m(\u001b[0m\u001b[1;34m'i'\u001b[0m\u001b[1;33m)\u001b[0m\u001b[1;33m.\u001b[0m\u001b[0mmax\u001b[0m\u001b[1;33m)\u001b[0m\u001b[1;33m\u001b[0m\u001b[0m\n\u001b[1;32m--> 189\u001b[1;33m         \u001b[0mfit\u001b[0m\u001b[1;33m(\u001b[0m\u001b[0mX\u001b[0m\u001b[1;33m,\u001b[0m \u001b[0my\u001b[0m\u001b[1;33m,\u001b[0m \u001b[0msample_weight\u001b[0m\u001b[1;33m,\u001b[0m \u001b[0msolver_type\u001b[0m\u001b[1;33m,\u001b[0m \u001b[0mkernel\u001b[0m\u001b[1;33m,\u001b[0m \u001b[0mrandom_seed\u001b[0m\u001b[1;33m=\u001b[0m\u001b[0mseed\u001b[0m\u001b[1;33m)\u001b[0m\u001b[1;33m\u001b[0m\u001b[0m\n\u001b[0m\u001b[0;32m    190\u001b[0m         \u001b[1;31m# see comment on the other call to np.iinfo in this file\u001b[0m\u001b[1;33m\u001b[0m\u001b[1;33m\u001b[0m\u001b[0m\n\u001b[0;32m    191\u001b[0m \u001b[1;33m\u001b[0m\u001b[0m\n",
      "\u001b[1;32m/home/bigdatas16/anaconda2/lib/python2.7/site-packages/sklearn/svm/base.pyc\u001b[0m in \u001b[0;36m_dense_fit\u001b[1;34m(self, X, y, sample_weight, solver_type, kernel, random_seed)\u001b[0m\n\u001b[0;32m    254\u001b[0m                 \u001b[0mcache_size\u001b[0m\u001b[1;33m=\u001b[0m\u001b[0mself\u001b[0m\u001b[1;33m.\u001b[0m\u001b[0mcache_size\u001b[0m\u001b[1;33m,\u001b[0m \u001b[0mcoef0\u001b[0m\u001b[1;33m=\u001b[0m\u001b[0mself\u001b[0m\u001b[1;33m.\u001b[0m\u001b[0mcoef0\u001b[0m\u001b[1;33m,\u001b[0m\u001b[1;33m\u001b[0m\u001b[0m\n\u001b[0;32m    255\u001b[0m                 \u001b[0mgamma\u001b[0m\u001b[1;33m=\u001b[0m\u001b[0mself\u001b[0m\u001b[1;33m.\u001b[0m\u001b[0m_gamma\u001b[0m\u001b[1;33m,\u001b[0m \u001b[0mepsilon\u001b[0m\u001b[1;33m=\u001b[0m\u001b[0mself\u001b[0m\u001b[1;33m.\u001b[0m\u001b[0mepsilon\u001b[0m\u001b[1;33m,\u001b[0m\u001b[1;33m\u001b[0m\u001b[0m\n\u001b[1;32m--> 256\u001b[1;33m                 max_iter=self.max_iter, random_seed=random_seed)\n\u001b[0m\u001b[0;32m    257\u001b[0m \u001b[1;33m\u001b[0m\u001b[0m\n\u001b[0;32m    258\u001b[0m         \u001b[0mself\u001b[0m\u001b[1;33m.\u001b[0m\u001b[0m_warn_from_fit_status\u001b[0m\u001b[1;33m(\u001b[0m\u001b[1;33m)\u001b[0m\u001b[1;33m\u001b[0m\u001b[0m\n",
      "\u001b[1;31mKeyboardInterrupt\u001b[0m: "
     ]
    }
   ],
   "source": [
    "latest_sec = 60 * 35\n",
    "pred_sec = 15\n",
    "\n",
    "Precision_Mean_Day = []\n",
    "Precision_Std_Day = []\n",
    "Feature_Importance = []\n",
    "Feature_Importance_Day_one = []\n",
    "Feature_Importance_Day_two = []\n",
    "Feature_Importance_Day_three = []\n",
    "Feature_Importance_Day_four = []\n",
    "Feature_Importance_Day_five = []\n",
    "Predict_Values_Day = []\n",
    "True_Values_Day = []\n",
    "for day in range(0,1,1):\n",
    "    Precision = []\n",
    "    Feature_Importance_one = []\n",
    "    Feature_Importance_two = []\n",
    "    Feature_Importance_three = []\n",
    "    Feature_Importance_four = []\n",
    "    Feature_Importance_five = []\n",
    "    predict_values = []\n",
    "    true_values = []\n",
    "    for i in range(0,9000-latest_sec-pred_sec,pred_sec):\n",
    "\n",
    "        print '----------------------------Rolling Window Time = %s----------------------------'%(i/pred_sec)\n",
    "        data_train = data_2014_up[day][i:i+latest_min]\n",
    "        X_train = data_train.drop([\"0\"],axis=1)\n",
    "        y_train = data_train['0']\n",
    "\n",
    "        data_test = data_2014_up[day][i+latest_sec:i+latest_sec+pred_sec]\n",
    "        X_test = data_test.drop([\"0\"],axis=1)\n",
    "        y_test = data_test['0']\n",
    "\n",
    "        # hyper-parameter\n",
    "        model_grid = [#{'kernel':['rbf'],'gamma':[1e-1,1e-2],'C':[1,10]},\n",
    "                      {'kernel':['linear'],'C':[1,10]}]\n",
    "        model = svm.SVC(probability=True)\n",
    "        Grid = GridSearchCV(model,model_grid,cv=5,scoring = 'precision')\n",
    "        %time Grid.fit(X_train,y_train) \n",
    "        print Grid.best_params_\n",
    "        print 'CV Best Score = %s'%(Grid.best_score_)\n",
    "\n",
    "        # training & testing\n",
    "        model.set_params(**Grid.best_params_)\n",
    "        model.fit(X_train, y_train)\n",
    "        predictions = model.predict(X_test)\n",
    "        print 'Prediction latest 15 second = %s'%(predictions)\n",
    "        predict_values.append(predictions.tolist())\n",
    "        true_values.append(y_test.tolist())\n",
    "        prec = metrics.precision_score(y_test, predictions)\n",
    "        print 'Precision = %s'%(prec)\n",
    "        Precision.append(prec)\n",
    "        if Grid.best_params_.values()[0] == 'linear':\n",
    "            feature_imp = dict(zip([i for i in range(0,64,1)],model.coef_[0]))\n",
    "            Top_five = sorted(feature_imp.items(),key = lambda x : x[1] , reverse=True)[0:5]\n",
    "            print 'Kernel is linear and top five importance features = %s'%(Top_five)\n",
    "            Feature_Importance_one.append(Top_five[0][0])\n",
    "            Feature_Importance_two.append(Top_five[1][0])\n",
    "            Feature_Importance_three.append(Top_five[2][0])\n",
    "            Feature_Importance_four.append(Top_five[3][0])\n",
    "            Feature_Importance_five.append(Top_five[4][0])\n",
    "        else:\n",
    "            print 'Kernel is rbf'\n",
    "\n",
    "    print 'Day = %s, mean = %s, std = %s'%(day,np.mean(Precision),np.std(Precision))\n",
    "    Precision_Mean_Day.append(Accuracy)\n",
    "    Precision_Std_Day.append(Accuracy)\n",
    "    Feature_Importance_Day_one.append(Feature_Importance_one)\n",
    "    Feature_Importance_Day_two.append(Feature_Importance_two)\n",
    "    Feature_Importance_Day_three.append(Feature_Importance_three)\n",
    "    Feature_Importance_Day_four.append(Feature_Importance_four)\n",
    "    Feature_Importance_Day_five.append(Feature_Importance_five)\n",
    "    Predict_Values_Day.append(predict_values)\n",
    "    True_Values_Day.append(true_values)"
   ]
  },
  {
   "cell_type": "code",
   "execution_count": 58,
   "metadata": {
    "collapsed": false
   },
   "outputs": [
    {
     "data": {
      "text/plain": [
       "False"
      ]
     },
     "execution_count": 58,
     "metadata": {},
     "output_type": "execute_result"
    }
   ],
   "source": [
    "Grid.best_params_.values()[0] == 'linear'"
   ]
  },
  {
   "cell_type": "code",
   "execution_count": 80,
   "metadata": {
    "collapsed": false
   },
   "outputs": [
    {
     "data": {
      "text/plain": [
       "[1.0, 1.0, 1.0, 1.0, 1.0, 1.0, 1.0, 1.0, 1.0, 1.0, 1.0, 1.0, 1.0, 1.0, 1.0]"
      ]
     },
     "execution_count": 80,
     "metadata": {},
     "output_type": "execute_result"
    }
   ],
   "source": []
  },
  {
   "cell_type": "code",
   "execution_count": 107,
   "metadata": {
    "collapsed": false,
    "scrolled": true
   },
   "outputs": [
    {
     "data": {
      "text/plain": [
       "[[1.0, 1.0, 1.0, 1.0, 1.0, 1.0, 1.0, 1.0, 1.0, 1.0, 1.0, 1.0, 1.0, 1.0, 1.0],\n",
       " [1.0, 1.0, 1.0, 1.0, 1.0, 1.0, 1.0, 1.0, 1.0, 1.0, 1.0, 1.0, 1.0, 1.0, 1.0],\n",
       " [1.0, 1.0, 1.0, 1.0, 1.0, 1.0, 1.0, 1.0, 1.0, 1.0, 1.0, 1.0, 1.0, 1.0, 1.0],\n",
       " [1.0, 1.0, 1.0, 1.0, 1.0, 1.0, 1.0, 1.0, 1.0, 1.0, 1.0, 1.0, 1.0, 1.0, 1.0],\n",
       " [1.0, 1.0, 1.0, 1.0, 1.0, 1.0, 1.0, 1.0, 1.0, 1.0, 1.0, 1.0, 1.0, 1.0, 1.0],\n",
       " [1.0, 1.0, 1.0, 1.0, 1.0, 1.0, 1.0, 1.0, 1.0, 1.0, 1.0, 1.0, 1.0, 1.0, 1.0],\n",
       " [1.0, 1.0, 1.0, 1.0, 1.0, 1.0, 1.0, 1.0, 1.0, 1.0, 1.0, 1.0, 1.0, 1.0, 1.0],\n",
       " [1.0, 1.0, 1.0, 1.0, 1.0, 1.0, 1.0, 1.0, 1.0, 1.0, 1.0, 1.0, 1.0, 1.0, 1.0],\n",
       " [1.0, 1.0, 1.0, 1.0, 1.0, 1.0, 1.0, 1.0, 1.0, 1.0, 1.0, 1.0, 1.0, 1.0, 1.0],\n",
       " [1.0, 1.0, 1.0, 1.0, 1.0, 1.0, 1.0, 1.0, 1.0, 1.0, 1.0, 1.0, 1.0, 1.0, 1.0],\n",
       " [1.0, 1.0, 1.0, 1.0, 1.0, 1.0, 1.0, 1.0, 1.0, 1.0, 1.0, 1.0, 1.0, 1.0, 1.0],\n",
       " [1.0, 1.0, 1.0, 1.0, 1.0, 1.0, 1.0, 1.0, 1.0, 1.0, 1.0, 1.0, 1.0, 1.0, 1.0],\n",
       " [1.0, 1.0, 1.0, 1.0, 1.0, 1.0, 1.0, 1.0, 1.0, 1.0, 1.0, 1.0, 1.0, 1.0, 1.0],\n",
       " [1.0, 1.0, 1.0, 1.0, 1.0, 1.0, 1.0, 1.0, 1.0, 1.0, 1.0, 1.0, 1.0, 1.0, 1.0],\n",
       " [1.0, 1.0, 1.0, 1.0, 1.0, 1.0, 1.0, 1.0, 1.0, 1.0, 1.0, 1.0, 1.0, 1.0, 1.0],\n",
       " [1.0, 1.0, 1.0, 1.0, 1.0, 1.0, 1.0, 1.0, 1.0, 1.0, 1.0, 1.0, 1.0, 1.0, 1.0],\n",
       " [1.0, 1.0, 1.0, 1.0, 1.0, 1.0, 1.0, 1.0, 1.0, 1.0, 1.0, 1.0, 1.0, 1.0, 1.0],\n",
       " [1.0, 1.0, 1.0, 1.0, 1.0, 1.0, 1.0, 1.0, 1.0, 1.0, 1.0, 1.0, 1.0, 1.0, 1.0],\n",
       " [1.0, 1.0, 1.0, 1.0, 1.0, 1.0, 1.0, 1.0, 1.0, 1.0, 1.0, 1.0, 1.0, 1.0, 1.0],\n",
       " [1.0, 1.0, 1.0, 1.0, 1.0, 1.0, 1.0, 1.0, 1.0, 1.0, 1.0, 1.0, 1.0, 1.0, 1.0],\n",
       " [1.0, 1.0, 1.0, 1.0, 1.0, 1.0, 1.0, 1.0, 1.0, 1.0, 1.0, 1.0, 1.0, 1.0, 1.0],\n",
       " [1.0, 1.0, 1.0, 1.0, 1.0, 1.0, 1.0, 1.0, 1.0, 1.0, 1.0, 1.0, 1.0, 1.0, 1.0],\n",
       " [1.0, 1.0, 1.0, 1.0, 1.0, 1.0, 1.0, 1.0, 1.0, 1.0, 1.0, 1.0, 1.0, 1.0, 1.0],\n",
       " [1.0, 1.0, 1.0, 1.0, 1.0, 1.0, 1.0, 1.0, 1.0, 1.0, 1.0, 1.0, 1.0, 1.0, 1.0],\n",
       " [1.0, 1.0, 1.0, 1.0, 1.0, 1.0, 1.0, 1.0, 1.0, 1.0, 1.0, 1.0, 1.0, 1.0, 1.0],\n",
       " [1.0, 1.0, 1.0, 1.0, 1.0, 1.0, 1.0, 1.0, 1.0, 1.0, 1.0, 1.0, 1.0, 1.0, 1.0],\n",
       " [1.0, 1.0, 1.0, 1.0, 1.0, 1.0, 1.0, 1.0, 1.0, 1.0, 1.0, 1.0, 1.0, 1.0, 1.0],\n",
       " [1.0, 1.0, 1.0, 1.0, 1.0, 1.0, 1.0, 1.0, 1.0, 1.0, 1.0, 1.0, 1.0, 1.0, 1.0],\n",
       " [1.0, 1.0, 1.0, 1.0, 1.0, 1.0, 1.0, 1.0, 1.0, 1.0, 1.0, 1.0, 1.0, 1.0, 1.0],\n",
       " [1.0, 1.0, 1.0, 1.0, 1.0, 1.0, 1.0, 1.0, 1.0, 1.0, 1.0, 1.0, 1.0, 1.0, 1.0],\n",
       " [1.0, 1.0, 1.0, 1.0, 1.0, 1.0, 1.0, 1.0, 1.0, 1.0, 1.0, 1.0, 1.0, 1.0, 1.0],\n",
       " [1.0, 1.0, 1.0, 1.0, 1.0, 1.0, 1.0, 1.0, 1.0, 1.0, 1.0, 1.0, 1.0, 1.0, 1.0],\n",
       " [1.0, 1.0, 1.0, 1.0, 1.0, 1.0, 1.0, 1.0, 1.0, 1.0, 1.0, 1.0, 1.0, 1.0, 1.0],\n",
       " [1.0, 1.0, 1.0, 1.0, 1.0, 1.0, 1.0, 1.0, 1.0, 1.0, 1.0, 1.0, 1.0, 1.0, 1.0],\n",
       " [1.0, 1.0, 1.0, 1.0, 1.0, 1.0, 1.0, 1.0, 1.0, 1.0, 1.0, 1.0, 1.0, 1.0, 1.0],\n",
       " [1.0, 1.0, 1.0, 1.0, 1.0, 1.0, 1.0, 1.0, 1.0, 1.0, 1.0, 1.0, 1.0, 1.0, 1.0],\n",
       " [1.0, 1.0, 1.0, 1.0, 1.0, 1.0, 1.0, 1.0, 1.0, 1.0, 1.0, 1.0, 1.0, 1.0, 1.0],\n",
       " [1.0, 1.0, 1.0, 1.0, 1.0, 1.0, 1.0, 1.0, 1.0, 1.0, 1.0, 1.0, 1.0, 1.0, 1.0],\n",
       " [1.0, 1.0, 1.0, 1.0, 1.0, 1.0, 1.0, 1.0, 1.0, 1.0, 1.0, 1.0, 1.0, 1.0, 1.0],\n",
       " [1.0, 1.0, 1.0, 1.0, 1.0, 1.0, 1.0, 1.0, 1.0, 1.0, 1.0, 1.0, 1.0, 1.0, 1.0],\n",
       " [1.0, 1.0, 1.0, 1.0, 1.0, 1.0, 1.0, 1.0, 1.0, 1.0, 1.0, 1.0, 1.0, 1.0, 1.0],\n",
       " [1.0, 1.0, 1.0, 1.0, 1.0, 1.0, 1.0, 1.0, 1.0, 1.0, 1.0, 1.0, 1.0, 1.0, 1.0],\n",
       " [1.0, 1.0, 1.0, 1.0, 1.0, 1.0, 1.0, 1.0, 1.0, 1.0, 1.0, 1.0, 1.0, 1.0, 1.0],\n",
       " [1.0, 1.0, 1.0, 1.0, 1.0, 1.0, 1.0, 1.0, 1.0, 1.0, 1.0, 1.0, 1.0, 1.0, 1.0],\n",
       " [1.0, 1.0, 1.0, 0.0, 0.0, 0.0, 1.0, 0.0, 0.0, 0.0, 0.0, 0.0, 0.0, 0.0, 0.0],\n",
       " [0.0, 1.0, 1.0, 1.0, 1.0, 1.0, 0.0, 0.0, 0.0, 0.0, 0.0, 0.0, 0.0, 0.0, 0.0],\n",
       " [0.0, 0.0, 0.0, 0.0, 0.0, 0.0, 0.0, 0.0, 0.0, 0.0, 0.0, 0.0, 0.0, 0.0, 0.0],\n",
       " [0.0, 0.0, 0.0, 0.0, 0.0, 0.0, 0.0, 0.0, 0.0, 0.0, 0.0, 0.0, 0.0, 0.0, 0.0]]"
      ]
     },
     "execution_count": 107,
     "metadata": {},
     "output_type": "execute_result"
    }
   ],
   "source": [
    "predict_values"
   ]
  },
  {
   "cell_type": "code",
   "execution_count": 108,
   "metadata": {
    "collapsed": false,
    "scrolled": true
   },
   "outputs": [
    {
     "data": {
      "text/plain": [
       "[[1.0, 1.0, 1.0, 1.0, 1.0, 1.0, 1.0, 1.0, 1.0, 1.0, 1.0, 1.0, 1.0, 1.0, 1.0],\n",
       " [1.0, 1.0, 1.0, 1.0, 1.0, 1.0, 1.0, 1.0, 1.0, 1.0, 1.0, 1.0, 1.0, 1.0, 1.0],\n",
       " [1.0, 1.0, 1.0, 1.0, 1.0, 1.0, 1.0, 1.0, 1.0, 1.0, 1.0, 1.0, 1.0, 1.0, 1.0],\n",
       " [1.0, 1.0, 1.0, 1.0, 1.0, 1.0, 1.0, 1.0, 1.0, 1.0, 1.0, 1.0, 1.0, 1.0, 1.0],\n",
       " [1.0, 1.0, 1.0, 1.0, 1.0, 1.0, 1.0, 1.0, 1.0, 1.0, 1.0, 1.0, 1.0, 1.0, 1.0],\n",
       " [1.0, 1.0, 1.0, 1.0, 1.0, 1.0, 1.0, 1.0, 1.0, 1.0, 1.0, 1.0, 1.0, 1.0, 1.0],\n",
       " [1.0, 1.0, 1.0, 1.0, 1.0, 1.0, 1.0, 1.0, 1.0, 1.0, 1.0, 1.0, 1.0, 1.0, 1.0],\n",
       " [1.0, 1.0, 1.0, 1.0, 1.0, 1.0, 0.0, 0.0, 1.0, 1.0, 1.0, 1.0, 1.0, 1.0, 1.0],\n",
       " [1.0, 1.0, 1.0, 1.0, 1.0, 1.0, 1.0, 1.0, 1.0, 1.0, 1.0, 1.0, 1.0, 1.0, 1.0],\n",
       " [1.0, 1.0, 1.0, 1.0, 1.0, 1.0, 1.0, 1.0, 1.0, 1.0, 1.0, 1.0, 1.0, 1.0, 1.0],\n",
       " [1.0, 1.0, 1.0, 1.0, 1.0, 1.0, 1.0, 1.0, 0.0, 0.0, 0.0, 0.0, 0.0, 0.0, 0.0],\n",
       " [0.0, 0.0, 0.0, 0.0, 0.0, 0.0, 0.0, 0.0, 0.0, 0.0, 0.0, 0.0, 0.0, 0.0, 0.0],\n",
       " [0.0, 0.0, 0.0, 0.0, 0.0, 0.0, 0.0, 0.0, 0.0, 0.0, 0.0, 0.0, 0.0, 0.0, 0.0],\n",
       " [0.0, 0.0, 0.0, 0.0, 0.0, 0.0, 0.0, 0.0, 0.0, 0.0, 0.0, 0.0, 0.0, 0.0, 0.0],\n",
       " [0.0, 0.0, 0.0, 0.0, 0.0, 0.0, 0.0, 0.0, 0.0, 0.0, 0.0, 0.0, 0.0, 0.0, 0.0],\n",
       " [0.0, 0.0, 0.0, 0.0, 0.0, 0.0, 0.0, 0.0, 0.0, 0.0, 0.0, 1.0, 1.0, 1.0, 1.0],\n",
       " [1.0, 1.0, 1.0, 1.0, 1.0, 1.0, 1.0, 1.0, 1.0, 1.0, 1.0, 1.0, 1.0, 1.0, 1.0],\n",
       " [1.0, 1.0, 1.0, 1.0, 1.0, 1.0, 1.0, 1.0, 1.0, 1.0, 1.0, 1.0, 1.0, 1.0, 1.0],\n",
       " [1.0, 1.0, 1.0, 1.0, 1.0, 1.0, 1.0, 1.0, 1.0, 1.0, 1.0, 1.0, 1.0, 1.0, 1.0],\n",
       " [1.0, 1.0, 1.0, 1.0, 1.0, 1.0, 1.0, 1.0, 1.0, 1.0, 1.0, 1.0, 1.0, 1.0, 1.0],\n",
       " [1.0, 1.0, 1.0, 1.0, 1.0, 1.0, 1.0, 1.0, 1.0, 1.0, 1.0, 1.0, 1.0, 1.0, 1.0],\n",
       " [1.0, 1.0, 1.0, 1.0, 1.0, 1.0, 1.0, 1.0, 1.0, 1.0, 1.0, 1.0, 1.0, 1.0, 1.0],\n",
       " [1.0, 1.0, 1.0, 1.0, 1.0, 1.0, 1.0, 1.0, 1.0, 1.0, 1.0, 1.0, 1.0, 1.0, 1.0],\n",
       " [1.0, 1.0, 1.0, 1.0, 1.0, 1.0, 1.0, 1.0, 1.0, 1.0, 1.0, 1.0, 1.0, 1.0, 1.0],\n",
       " [1.0, 1.0, 1.0, 1.0, 1.0, 1.0, 1.0, 1.0, 1.0, 1.0, 1.0, 1.0, 1.0, 1.0, 1.0],\n",
       " [1.0, 1.0, 1.0, 1.0, 1.0, 1.0, 1.0, 1.0, 1.0, 1.0, 1.0, 1.0, 1.0, 1.0, 1.0],\n",
       " [1.0, 1.0, 1.0, 1.0, 1.0, 1.0, 1.0, 1.0, 1.0, 1.0, 1.0, 1.0, 1.0, 1.0, 1.0],\n",
       " [1.0, 1.0, 1.0, 1.0, 1.0, 1.0, 1.0, 1.0, 1.0, 1.0, 1.0, 1.0, 1.0, 1.0, 1.0],\n",
       " [1.0, 1.0, 1.0, 1.0, 1.0, 1.0, 1.0, 1.0, 1.0, 1.0, 1.0, 1.0, 1.0, 1.0, 1.0],\n",
       " [1.0, 1.0, 1.0, 1.0, 1.0, 1.0, 1.0, 1.0, 1.0, 1.0, 1.0, 1.0, 1.0, 1.0, 1.0],\n",
       " [1.0, 1.0, 1.0, 1.0, 1.0, 1.0, 1.0, 1.0, 1.0, 1.0, 1.0, 1.0, 1.0, 1.0, 1.0],\n",
       " [1.0, 1.0, 1.0, 1.0, 1.0, 1.0, 1.0, 1.0, 1.0, 1.0, 1.0, 1.0, 1.0, 1.0, 1.0],\n",
       " [1.0, 1.0, 1.0, 1.0, 1.0, 1.0, 1.0, 1.0, 1.0, 1.0, 1.0, 1.0, 1.0, 1.0, 1.0],\n",
       " [1.0, 1.0, 1.0, 1.0, 1.0, 1.0, 1.0, 1.0, 1.0, 1.0, 1.0, 1.0, 1.0, 1.0, 1.0],\n",
       " [1.0, 1.0, 1.0, 1.0, 1.0, 1.0, 1.0, 1.0, 1.0, 1.0, 1.0, 1.0, 1.0, 1.0, 1.0],\n",
       " [1.0, 1.0, 1.0, 1.0, 1.0, 1.0, 1.0, 1.0, 1.0, 1.0, 1.0, 1.0, 1.0, 1.0, 1.0],\n",
       " [1.0, 1.0, 1.0, 1.0, 1.0, 1.0, 1.0, 1.0, 1.0, 1.0, 1.0, 1.0, 1.0, 1.0, 1.0],\n",
       " [1.0, 1.0, 1.0, 1.0, 1.0, 1.0, 1.0, 1.0, 1.0, 1.0, 1.0, 1.0, 1.0, 1.0, 1.0],\n",
       " [1.0, 1.0, 1.0, 1.0, 1.0, 1.0, 1.0, 1.0, 1.0, 1.0, 1.0, 1.0, 1.0, 1.0, 1.0],\n",
       " [1.0, 1.0, 1.0, 1.0, 1.0, 1.0, 1.0, 1.0, 1.0, 1.0, 1.0, 1.0, 1.0, 1.0, 1.0],\n",
       " [1.0, 1.0, 1.0, 1.0, 1.0, 1.0, 1.0, 1.0, 1.0, 1.0, 1.0, 1.0, 1.0, 1.0, 1.0],\n",
       " [1.0, 1.0, 1.0, 1.0, 1.0, 1.0, 1.0, 1.0, 1.0, 1.0, 1.0, 1.0, 1.0, 1.0, 1.0],\n",
       " [1.0, 1.0, 1.0, 1.0, 1.0, 1.0, 1.0, 1.0, 1.0, 1.0, 1.0, 1.0, 1.0, 1.0, 1.0],\n",
       " [1.0, 1.0, 1.0, 1.0, 1.0, 1.0, 1.0, 1.0, 1.0, 1.0, 1.0, 1.0, 1.0, 1.0, 1.0],\n",
       " [1.0, 1.0, 1.0, 1.0, 1.0, 1.0, 1.0, 1.0, 1.0, 1.0, 1.0, 1.0, 1.0, 1.0, 1.0],\n",
       " [1.0, 1.0, 1.0, 1.0, 1.0, 1.0, 1.0, 1.0, 1.0, 1.0, 1.0, 1.0, 1.0, 1.0, 1.0],\n",
       " [1.0, 1.0, 1.0, 1.0, 1.0, 1.0, 1.0, 1.0, 1.0, 1.0, 1.0, 1.0, 1.0, 1.0, 1.0],\n",
       " [1.0, 1.0, 1.0, 1.0, 1.0, 1.0, 1.0, 1.0, 1.0, 1.0, 1.0, 1.0, 1.0, 1.0, 1.0]]"
      ]
     },
     "execution_count": 108,
     "metadata": {},
     "output_type": "execute_result"
    }
   ],
   "source": [
    "true_values"
   ]
  },
  {
   "cell_type": "code",
   "execution_count": null,
   "metadata": {
    "collapsed": true
   },
   "outputs": [],
   "source": []
  },
  {
   "cell_type": "code",
   "execution_count": null,
   "metadata": {
    "collapsed": true
   },
   "outputs": [],
   "source": []
  },
  {
   "cell_type": "code",
   "execution_count": null,
   "metadata": {
    "collapsed": false,
    "scrolled": true
   },
   "outputs": [],
   "source": [
    "latest_sec = 60 * 35\n",
    "pred_sec = 15\n",
    "\n",
    "Accuracy_Mean_Day = []\n",
    "Accuracy_Std_Day = []\n",
    "Feature_Importance = []\n",
    "Feature_Importance_Day_one = []\n",
    "Feature_Importance_Day_two = []\n",
    "Feature_Importance_Day_three = []\n",
    "Feature_Importance_Day_four = []\n",
    "Feature_Importance_Day_five = []\n",
    "Predict_Values_Day = []\n",
    "True_Values_Day = []\n",
    "\n",
    "for day in range(0,1,1):\n",
    "    Accuracy = []\n",
    "    Feature_Importance_one = []\n",
    "    Feature_Importance_two = []\n",
    "    Feature_Importance_three = []\n",
    "    Feature_Importance_four = []\n",
    "    Feature_Importance_five = []\n",
    "    predict_values = []\n",
    "    true_values = []\n",
    "    for i in range(0,9000-latest_sec-pred_sec,pred_sec):\n",
    "\n",
    "        #print '----------------------------Rolling Window Time = %s----------------------------'%(i/pred_sec)\n",
    "        data_train = data_2014_up[day][i:i+latest_min]\n",
    "        X_train = data_train.drop([\"0\"],axis=1)\n",
    "        y_train = data_train['0']\n",
    "\n",
    "        data_test = data_2014_up[day][i+latest_sec:i+latest_sec+pred_sec]\n",
    "        X_test = data_test.drop([\"0\"],axis=1)\n",
    "        y_test = data_test['0']\n",
    "\n",
    "        # hyper-parameter\n",
    "        model_grid = [#{'kernel':['rbf'],'gamma':[1e-1],'C':[1,10]},\n",
    "                      {'kernel':['linear'],'C':[10]}]\n",
    "        model = svm.SVC(probability=True)\n",
    "        Grid = GridSearchCV(model,model_grid,cv=5,scoring = 'accuracy')\n",
    "        #%time \n",
    "        Grid.fit(X_train,y_train) \n",
    "        #print Grid.best_params_\n",
    "        #print 'CV Best Score = %s'%(Grid.best_score_)\n",
    "\n",
    "        # training & testing\n",
    "        model.set_params(**Grid.best_params_)\n",
    "        model.fit(X_train, y_train)\n",
    "        predictions = model.predict(X_test)\n",
    "        #print 'Prediction latest 15 second = %s'%(predictions)\n",
    "        predict_values.append(predictions.tolist())\n",
    "        true_values.append(y_test.tolist())\n",
    "        acc = metrics.accuracy_score(y_test, predictions)\n",
    "        #print 'Accuracy = %s'%(acc)\n",
    "        Accuracy.append(acc)\n",
    "        if Grid.best_params_.values()[0] == 'linear':\n",
    "            feature_imp = dict(zip([i for i in range(0,64,1)],model.coef_[0]))\n",
    "            Top_five = sorted(feature_imp.items(),key = lambda x : x[1] , reverse=True)[0:5]\n",
    "            #print 'Kernel is linear and top five importance features = %s'%(Top_five)\n",
    "            Feature_Importance_one.append(Top_five[0][0])\n",
    "            Feature_Importance_two.append(Top_five[1][0])\n",
    "            Feature_Importance_three.append(Top_five[2][0])\n",
    "            Feature_Importance_four.append(Top_five[3][0])\n",
    "            Feature_Importance_five.append(Top_five[4][0])\n",
    "        else:\n",
    "            print 'Kernel is rbf'\n",
    "\n",
    "    print 'Day = %s, mean = %s, std = %s'%(day,np.mean(Accuracy),np.std(Accuracy))\n",
    "    Accuracy_Mean_Day.append(Accuracy)\n",
    "    Accuracy_Std_Day.append(Accuracy)\n",
    "    Feature_Importance_Day_one.append(Feature_Importance_one)\n",
    "    Feature_Importance_Day_two.append(Feature_Importance_two)\n",
    "    Feature_Importance_Day_three.append(Feature_Importance_three)\n",
    "    Feature_Importance_Day_four.append(Feature_Importance_four)\n",
    "    Feature_Importance_Day_five.append(Feature_Importance_five)\n",
    "    Predict_Values_Day.append(predict_values)\n",
    "    True_Values_Day.append(true_values)"
   ]
  },
  {
   "cell_type": "code",
   "execution_count": null,
   "metadata": {
    "collapsed": true
   },
   "outputs": [],
   "source": []
  },
  {
   "cell_type": "code",
   "execution_count": null,
   "metadata": {
    "collapsed": true
   },
   "outputs": [],
   "source": []
  },
  {
   "cell_type": "code",
   "execution_count": null,
   "metadata": {
    "collapsed": true
   },
   "outputs": [],
   "source": []
  }
 ],
 "metadata": {
  "kernelspec": {
   "display_name": "Python 2",
   "language": "python",
   "name": "python2"
  },
  "language_info": {
   "codemirror_mode": {
    "name": "ipython",
    "version": 2
   },
   "file_extension": ".py",
   "mimetype": "text/x-python",
   "name": "python",
   "nbconvert_exporter": "python",
   "pygments_lexer": "ipython2",
   "version": "2.7.13"
  }
 },
 "nbformat": 4,
 "nbformat_minor": 0
}
