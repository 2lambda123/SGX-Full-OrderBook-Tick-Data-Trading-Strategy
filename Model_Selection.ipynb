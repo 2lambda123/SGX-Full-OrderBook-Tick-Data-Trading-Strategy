{
 "cells": [
  {
   "cell_type": "code",
   "execution_count": 7,
   "metadata": {
    "collapsed": false
   },
   "outputs": [
    {
     "name": "stdout",
     "output_type": "stream",
     "text": [
      "Populating the interactive namespace from numpy and matplotlib\n"
     ]
    }
   ],
   "source": [
    "%pylab inline\n",
    "import pandas as pd\n",
    "import numpy as np\n",
    "import time\n",
    "from sklearn.grid_search import GridSearchCV\n",
    "from sklearn.ensemble import (RandomForestClassifier, ExtraTreesClassifier, AdaBoostClassifier,\\\n",
    "                              GradientBoostingClassifier)\n",
    "from sklearn.tree import DecisionTreeClassifier\n",
    "from sklearn.svm import SVC\n",
    "from sklearn import metrics\n",
    "from sklearn.linear_model import LogisticRegression"
   ]
  },
  {
   "cell_type": "code",
   "execution_count": 2,
   "metadata": {
    "collapsed": true
   },
   "outputs": [],
   "source": [
    "def read_csv(day_trade):\n",
    "    data_up = []\n",
    "    data_down = []\n",
    "    path = '/home/rory/SGX-OrderBook-Tick-Data-Trading-Strategy/Train_Test_Data/ML_data_2014'\n",
    "    for j,i in enumerate(day_trade):\n",
    "        for k in range(0,len(i),1):\n",
    "            path_up = path + '_' + str(j+1) + '_' + str(i[k]) + '_' + 'UP' + '.csv'\n",
    "            path_down = path + '_' + str(j+1) + '_' + str(i[k]) + '_' + 'DOWN' + '.csv'\n",
    "            data_up.append(pd.read_csv(path_up))\n",
    "            data_down.append(pd.read_csv(path_down))\n",
    "            #print path_down\n",
    "    return data_up,data_down"
   ]
  },
  {
   "cell_type": "code",
   "execution_count": 3,
   "metadata": {
    "collapsed": true
   },
   "outputs": [],
   "source": [
    "SEED = 42\n",
    "def latest_day_loop_acc(X_train,y_train,X_test,y_test,model):\n",
    "    model.fit(X_train, y_train)\n",
    "    preds = model.predict(X_test)\n",
    "    acc = metrics.accuracy_score(y_test, preds)\n",
    "    return acc"
   ]
  },
  {
   "cell_type": "code",
   "execution_count": 4,
   "metadata": {
    "collapsed": true
   },
   "outputs": [],
   "source": [
    "day_trade = [[2,3,6,7,8,10,13,14,15,16]]#,17,20,21,22,23,24,27,28,29,30],\\\n",
    "             #[7,10,11,12,13,17,18,19,21,24,25,26,27],\\\n",
    "             #[3,4,5,6,7,10,11,13,14,17,18,19,20,24,25,26,27,31]]"
   ]
  },
  {
   "cell_type": "code",
   "execution_count": 5,
   "metadata": {
    "collapsed": true
   },
   "outputs": [],
   "source": [
    "data_2014_up, data_2014_down = read_csv(day_trade)"
   ]
  },
  {
   "cell_type": "code",
   "execution_count": 84,
   "metadata": {
    "collapsed": false
   },
   "outputs": [],
   "source": [
    "models = {\n",
    "    'RandomForestClassifier': RandomForestClassifier(random_state = 0)#,\n",
    "    #'ExtraTreesClassifier': ExtraTreesClassifier(random_state = 0),\n",
    "    #'AdaBoostClassifier': AdaBoostClassifier(base_estimator = DecisionTreeClassifier,n_estimators = 10),\n",
    "    #'GradientBoostingClassifier': GradientBoostingClassifier(random_state = 0),\n",
    "    #'SVC': SVC(probability=True,random_state = 0),\n",
    "    #'LogisticRegression':LogisticRegression()\n",
    "}"
   ]
  },
  {
   "cell_type": "code",
   "execution_count": 101,
   "metadata": {
    "collapsed": false
   },
   "outputs": [],
   "source": [
    "model_grid_params = {\n",
    "    'RandomForestClassifier': {'max_features':[None],'n_estimators':[10],'max_depth':[10],\\\n",
    "                               'min_samples_split':[2,30],'criterion':['entropy'],\\\n",
    "                               'min_samples_leaf':[5,10]}#,\n",
    "    #'ExtraTreesClassifier': {'max_features':[None],'n_estimators':[10],'max_depth':[10],\\\n",
    "    #                         'min_samples_split':[2,30],'criterion':['entropy'],\\\n",
    "    #                         'min_samples_leaf':[5,10]},\n",
    "    #'AdaBoostClassifier': {\"base_estimator__criterion\" : [\"entropy\"],\\\n",
    "    #                       \"base_estimator__max_depth\": [None],\\\n",
    "    #                       \"base_estimator__min_samples_leaf\" : [5],\\\n",
    "    #                       \"base_estimator__min_samples_split\" : [2],\\\n",
    "    #                       \"base_estimator__max_features\" : [None]},\n",
    "    #'GradientBoostingClassifier': {'max_features':[None],'n_estimators':[10],'max_depth':[10],\\\n",
    "    #                               'min_samples_split':[2,30],'min_samples_leaf':[5,10],\\\n",
    "    #                               'learning_rate':[0.1],'subsample':[1.0]},\n",
    "    #'SVC': [{'kernel':['rbf'],'gamma':[1e-1,1e-2],'C':[1,10]},\\\n",
    "    #        {'kernel':['linear'],'C':[1,10]}]\n",
    "}"
   ]
  },
  {
   "cell_type": "code",
   "execution_count": 97,
   "metadata": {
    "collapsed": false
   },
   "outputs": [],
   "source": [
    "#params['RandomForestClassifier']"
   ]
  },
  {
   "cell_type": "code",
   "execution_count": 164,
   "metadata": {
    "collapsed": false
   },
   "outputs": [],
   "source": [
    "class Model_Selection:\n",
    "    def __init__(self,models,model_grid_params):\n",
    "        self.models = models\n",
    "        self.model_grid = model_grid_params\n",
    "        self.keys = models.keys()\n",
    "        self.Best_Score = {}\n",
    "        \n",
    "    def model_fit(self,X_train,y_test,cv = 5,scoring = 'accuracy'):#,y_train,X_test\n",
    "        \n",
    "        for key in self.keys:\n",
    "            print \"Running GridSearchCV for %s.\" %(key)\n",
    "            model = self.models[key]\n",
    "            model_grid = self.model_grid[key]\n",
    "            Grid = GridSearchCV(model,model_grid,cv=cv,scoring=scoring)\n",
    "            %time Grid.fit(X_train,y_train) \n",
    "            print Grid#.best_params_\n",
    "            #self.Best_Score.\n",
    "            print 'CV Best Score = %s'%(Grid.best_score_)\n",
    "        \n",
    "        \n",
    "        \n",
    "        \n",
    "    def print_(self):\n",
    "        print self.models.keys()"
   ]
  },
  {
   "cell_type": "code",
   "execution_count": 165,
   "metadata": {
    "collapsed": false
   },
   "outputs": [],
   "source": [
    "a = Model_Selection(models,model_grid_params)"
   ]
  },
  {
   "cell_type": "code",
   "execution_count": 166,
   "metadata": {
    "collapsed": false
   },
   "outputs": [
    {
     "name": "stdout",
     "output_type": "stream",
     "text": [
      "Running GridSearchCV for RandomForestClassifier.\n",
      "CPU times: user 3.44 s, sys: 0 ns, total: 3.44 s\n",
      "Wall time: 3.57 s\n",
      "GridSearchCV(cv=5, error_score='raise',\n",
      "       estimator=RandomForestClassifier(bootstrap=True, class_weight=None, criterion='gini',\n",
      "            max_depth=None, max_features='auto', max_leaf_nodes=None,\n",
      "            min_samples_leaf=1, min_samples_split=2,\n",
      "            min_weight_fraction_leaf=0.0, n_estimators=10, n_jobs=1,\n",
      "            oob_score=False, random_state=0, verbose=0, warm_start=False),\n",
      "       fit_params={}, iid=True, n_jobs=1,\n",
      "       param_grid={'min_samples_leaf': [5, 10], 'n_estimators': [10], 'min_samples_split': [2, 30], 'criterion': ['entropy'], 'max_features': [None], 'max_depth': [10]},\n",
      "       pre_dispatch='2*n_jobs', refit=True, scoring='accuracy', verbose=0)\n",
      "CV Best Score = 0.757777777778\n"
     ]
    }
   ],
   "source": [
    "a.model_fit(X_train,y_train)"
   ]
  },
  {
   "cell_type": "code",
   "execution_count": 56,
   "metadata": {
    "collapsed": false
   },
   "outputs": [],
   "source": [
    "latest_sec = 60 * 30\n",
    "pred_sec = 10\n",
    "day = 0\n",
    "for i in range(0,10,pred_sec):#9000-latest_sec-pred_sec,pred_sec):\n",
    "    data_train = data_2014_up[day][i:i+latest_sec]\n",
    "    X_train = data_train.drop([\"0\"],axis=1)\n",
    "    y_train = data_train['0']"
   ]
  },
  {
   "cell_type": "code",
   "execution_count": 156,
   "metadata": {
    "collapsed": false,
    "scrolled": true
   },
   "outputs": [],
   "source": [
    "e = {}"
   ]
  },
  {
   "cell_type": "code",
   "execution_count": null,
   "metadata": {
    "collapsed": false
   },
   "outputs": [],
   "source": []
  },
  {
   "cell_type": "code",
   "execution_count": 155,
   "metadata": {
    "collapsed": false
   },
   "outputs": [
    {
     "data": {
      "text/plain": [
       "{'a': [2, 2, 2]}"
      ]
     },
     "execution_count": 155,
     "metadata": {},
     "output_type": "execute_result"
    }
   ],
   "source": [
    "e['a'].append(2)\n",
    "e"
   ]
  },
  {
   "cell_type": "code",
   "execution_count": null,
   "metadata": {
    "collapsed": false
   },
   "outputs": [],
   "source": []
  }
 ],
 "metadata": {
  "kernelspec": {
   "display_name": "Python 2",
   "language": "python",
   "name": "python2"
  },
  "language_info": {
   "codemirror_mode": {
    "name": "ipython",
    "version": 2
   },
   "file_extension": ".py",
   "mimetype": "text/x-python",
   "name": "python",
   "nbconvert_exporter": "python",
   "pygments_lexer": "ipython2",
   "version": "2.7.11"
  }
 },
 "nbformat": 4,
 "nbformat_minor": 0
}
