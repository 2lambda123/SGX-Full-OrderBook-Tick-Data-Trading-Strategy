{
 "cells": [
  {
   "cell_type": "code",
   "execution_count": 2,
   "metadata": {
    "collapsed": false
   },
   "outputs": [
    {
     "name": "stdout",
     "output_type": "stream",
     "text": [
      "Populating the interactive namespace from numpy and matplotlib\n"
     ]
    }
   ],
   "source": [
    "%pylab inline\n",
    "import numpy as np\n",
    "import pandas as pd\n",
    "import matplotlib.pyplot as plt"
   ]
  },
  {
   "cell_type": "code",
   "execution_count": 3,
   "metadata": {
    "collapsed": true
   },
   "outputs": [],
   "source": [
    "def order_book(month,day):\n",
    "    data = []\n",
    "    datapath = '/home/bigdatas16/SGX-OrderBook-Tick-Data-Trading-Strategy-/High_Frequency_Trading_Strategy_using_machine_learning/Limit_Order_Book_Best_3/order_book_3_2014'\\\n",
    "                + '_' + str(month) + '_' + str(day) + '.csv'\n",
    "    order_book = pd.read_csv(datapath,sep=',')\n",
    "    bid_price_1 = np.array(map(float,order_book['Bid'][1::4]))/100.0\n",
    "    bid_price_2 = np.array(map(float,order_book['Bid'][2::4]))/100.0\n",
    "    bid_price_3 = np.array(map(float,order_book['Bid'][3::4]))/100.0\n",
    "    timestamp = np.array(order_book['Bid_Quantity'][0::4])\n",
    "    bid_quantity_1 = np.array(map(float,order_book['Bid_Quantity'][1::4]))\n",
    "    bid_quantity_2 = np.array(map(float,order_book['Bid_Quantity'][2::4]))\n",
    "    bid_quantity_3 = np.array(map(float,order_book['Bid_Quantity'][3::4]))\n",
    "    ask_price_1 = np.array(map(float,order_book['Ask'][1::4]))/100.0\n",
    "    ask_price_2 = np.array(map(float,order_book['Ask'][2::4]))/100.0\n",
    "    ask_price_3 = np.array(map(float,order_book['Ask'][3::4]))/100.0\n",
    "    ask_quantity_1 = np.array(map(float,order_book['Ask_Quantity'][1::4]))\n",
    "    ask_quantity_2 = np.array(map(float,order_book['Ask_Quantity'][2::4]))\n",
    "    ask_quantity_3 = np.array(map(float,order_book['Ask_Quantity'][3::4]))\n",
    "    \n",
    "    bid_quantity_1[isnan(bid_quantity_1)] = 0\n",
    "    bid_quantity_2[isnan(bid_quantity_2)] = 0\n",
    "    bid_quantity_3[isnan(bid_quantity_3)] = 0\n",
    "    ask_quantity_1[isnan(ask_quantity_1)] = 0\n",
    "    ask_quantity_2[isnan(ask_quantity_2)] = 0\n",
    "    ask_quantity_3[isnan(ask_quantity_3)] = 0\n",
    "    \n",
    "    return timestamp,order_book,bid_price_1,bid_price_2,bid_price_3,bid_quantity_1,\\\n",
    "            bid_quantity_2,bid_quantity_3,ask_price_1,ask_price_2,ask_price_3,ask_quantity_1,\\\n",
    "            ask_quantity_2,ask_quantity_3"
   ]
  },
  {
   "cell_type": "code",
   "execution_count": 4,
   "metadata": {
    "collapsed": true
   },
   "outputs": [],
   "source": [
    "def time_transform(timestamp_time):\n",
    "    time_second_basic = []\n",
    "    time_second = []\n",
    "    for i in range(0,len(timestamp_time),1):\n",
    "        second = float(timestamp_time[i][11])*36000 + float(timestamp_time[i][12])*3600+\\\n",
    "                    float(timestamp_time[i][14])*600 + float(timestamp_time[i][15])*60+\\\n",
    "                    float(timestamp_time[i][17])*10 + float(timestamp_time[i][18])  \n",
    "        time_second_basic.append(second - 32400.0)\n",
    "        time_second.append(second)\n",
    "    return np.array(time_second),np.array(time_second_basic)"
   ]
  },
  {
   "cell_type": "code",
   "execution_count": 129,
   "metadata": {
    "collapsed": true
   },
   "outputs": [],
   "source": [
    "def rise_ask(Ask1,timestamp_time_second,before_time):\n",
    "    Ask1[Ask1 == 0] = mean(Ask1)\n",
    "    rise_ratio = []\n",
    "    index = np.where(timestamp_time_second >= before_time)[0][0]    \n",
    "    #open first before_time mins\n",
    "    for i in range(0,index,1):\n",
    "        rise_ratio_ = round((Ask1[i] - Ask1[0])*(1.0)/Ask1[0]*100,5)\n",
    "        rise_ratio.append(rise_ratio_)\n",
    "    for i in range(index,len(Ask1),1):\n",
    "        index_start = np.where(timestamp_time_second[:i] >= timestamp_time_second[i] - before_time)[0][0]\n",
    "        rise_ratio_ = round((Ask1[i] - Ask1[index_start])*(1.0)/Ask1[index_start]*100,5)\n",
    "        rise_ratio.append(rise_ratio_)\n",
    "    return np.array(rise_ratio)"
   ]
  },
  {
   "cell_type": "code",
   "execution_count": null,
   "metadata": {
    "collapsed": false
   },
   "outputs": [],
   "source": []
  },
  {
   "cell_type": "code",
   "execution_count": 7,
   "metadata": {
    "collapsed": true
   },
   "outputs": [],
   "source": [
    "def weight_pecentage(w1,w2,w3):\n",
    "    Weight_Ask = (w1 * ask_quantity_1 + w2 * ask_quantity_2 + w3 * ask_quantity_3)\n",
    "    Weight_Bid = (w1 * bid_quantity_1 + w2 * bid_quantity_2 + w3 * bid_quantity_3)\n",
    "    W_AB = Weight_Ask/Weight_Bid\n",
    "    W_A_B = (Weight_Ask - Weight_Bid)/(Weight_Ask + Weight_Bid)\n",
    "    return W_AB,W_A_B"
   ]
  },
  {
   "cell_type": "code",
   "execution_count": 8,
   "metadata": {
    "collapsed": true
   },
   "outputs": [],
   "source": [
    "month = 1\n",
    "day = 2\n",
    "timestamp,order_book,bid_price_1,bid_price_2,bid_price_3,\\\n",
    "bid_quantity_1,bid_quantity_2,bid_quantity_3,\\\n",
    "ask_price_1,ask_price_2,ask_price_3,ask_quantity_1,\\\n",
    "ask_quantity_2,ask_quantity_3 = order_book(month,day)"
   ]
  },
  {
   "cell_type": "code",
   "execution_count": 9,
   "metadata": {
    "collapsed": true
   },
   "outputs": [],
   "source": [
    "time_second,time_second_basic = time_transform(timestamp)"
   ]
  },
  {
   "cell_type": "code",
   "execution_count": 11,
   "metadata": {
    "collapsed": false
   },
   "outputs": [],
   "source": [
    "traded_time = 300\n",
    "# 09:00 ~ 09:15\n",
    "time1 = 0\n",
    "time2 = 900\n",
    "traded_micsecond_1,index_1 = traded_label_micsecond(time1,time2,time_second_basic,\\\n",
    "                                                    bid_price_1,ask_price_1,traded_time)            \n",
    "# 09:15 ~ 11:30\n",
    "time1 = 900+1\n",
    "time2 = 9000\n",
    "traded_micsecond_2,index_2 = traded_label_micsecond(time1,time2,time_second_basic,\\\n",
    "                                                    bid_price_1,ask_price_1,traded_time)            \n",
    "# 11:30 ~ 1:00\n",
    "time1 = 9000+1\n",
    "time2 = 14400\n",
    "traded_micsecond_3,index_3 = traded_label_micsecond(time1,time2,time_second_basic,\\\n",
    "                                                    bid_price_1,ask_price_1,traded_time)            \n",
    "# 01:00 ~ 16:00\n",
    "time1 = 14400+1\n",
    "time2 = 25200\n",
    "traded_micsecond_4,index_4 = traded_label_micsecond(time1,time2,time_second_basic,\\\n",
    "                                                    bid_price_1,ask_price_1,traded_time)"
   ]
  },
  {
   "cell_type": "code",
   "execution_count": 186,
   "metadata": {
    "collapsed": false
   },
   "outputs": [
    {
     "name": "stdout",
     "output_type": "stream",
     "text": [
      "Total time = 1.374204\n"
     ]
    }
   ],
   "source": [
    "import time \n",
    "start = time.time()\n",
    "\n",
    "before_time = 60.0 * 5 #second\n",
    "index = np.where(time_second_basic <= 0.0)[0][-1]   \n",
    "Ask1 = ask_price_1[np.where(time_second_basic <= 0.0)[0][-1]:]\n",
    "rise_ratio_ask = rise_ask(Ask1, time_second_basic, before_time)\n",
    "\n",
    "#Weight Depth\n",
    "w1,w2,w3 = [50.0,30.0,20.0]\n",
    "W_AB,W_A_B = weight_pecentage(w1,w2,w3)\n",
    "\n",
    "end = time.time()  \n",
    "print \"Total time = %f\"%(end - start)"
   ]
  },
  {
   "cell_type": "code",
   "execution_count": null,
   "metadata": {
    "collapsed": false
   },
   "outputs": [],
   "source": []
  },
  {
   "cell_type": "code",
   "execution_count": 243,
   "metadata": {
    "collapsed": true
   },
   "outputs": [],
   "source": [
    "def traded_label_one_second(time1, time2, time_second_basic,\\\n",
    "                            bid_price_1, ask_price_1, traded_time,\\\n",
    "                            rise_ratio_ask,W_AB,W_A_B):\n",
    "    traded = []\n",
    "    index_ = []\n",
    "    rise_ratio_second = []\n",
    "    weight_1 = []\n",
    "    weight_2 = []\n",
    "    index_1 = np.where(time_second_basic <= 0)[0][-1]\n",
    "    for i in range(time1, time2, 1):\n",
    "        index = np.where(time_second_basic <= i)[0][-1]\n",
    "\n",
    "        if i == time1:\n",
    "            index_.append(index)\n",
    "        if i == time2 - 1:\n",
    "            index_.append(index)\n",
    "            \n",
    "        if i < 25200 - traded_time:\n",
    "            index_min = np.where(time_second_basic <= i + traded_time)[0][-1]\n",
    "            if bid_price_1[index] > min(ask_price_1[index:index_min]):\n",
    "                traded.append(1)\n",
    "            else:\n",
    "                traded.append(0)\n",
    "        elif i >= 25200 - traded_time:\n",
    "            if bid_price_1[index] > ask_price_1[-1]:\n",
    "                traded.append(1)\n",
    "            else:\n",
    "                traded.append(0)\n",
    "        rise_ratio_second.append(rise_ratio_ask[index - index_1])\n",
    "        weight_1.append(W_AB[index - index_1])\n",
    "        weight_2.append(W_A_B[index - index_1])\n",
    "    return traded, index_, rise_ratio_second,weight_1,weight_2"
   ]
  },
  {
   "cell_type": "code",
   "execution_count": 292,
   "metadata": {
    "collapsed": false,
    "scrolled": true
   },
   "outputs": [
    {
     "data": {
      "text/plain": [
       "(2, 898, 900, [294, 1008])"
      ]
     },
     "execution_count": 292,
     "metadata": {},
     "output_type": "execute_result"
    }
   ],
   "source": [
    "# 09:00 ~ 09:15\n",
    "time1 = 0\n",
    "time2 = 900\n",
    "traded_time = 900\n",
    "traded_1 ,index_1,rise_ratio_second1,WD_11,WD_12 = \\\n",
    "    traded_label_one_second(time1,time2,time_second_basic,bid_price_1,\\\n",
    "                            ask_price_1,traded_time,rise_ratio_ask,W_AB,W_A_B)\n",
    "    \n",
    "len(np.where(np.array(traded_1) == 0)[0]),len(np.where(np.array(traded_1) == 1)[0]),len(traded_1),index_1"
   ]
  },
  {
   "cell_type": "code",
   "execution_count": 293,
   "metadata": {
    "collapsed": false
   },
   "outputs": [
    {
     "data": {
      "text/plain": [
       "(1811, 6289, 8100, [1021, 29797])"
      ]
     },
     "execution_count": 293,
     "metadata": {},
     "output_type": "execute_result"
    }
   ],
   "source": [
    "# 09:00 ~ 09:15\n",
    "time1 = 900\n",
    "time2 = 9000\n",
    "traded_time = 900\n",
    "traded_2 ,index_2, rise_ratio_second2,WD_21,WD_22 = \\\n",
    "    traded_label_one_second(time1,time2,time_second_basic,bid_price_1,\\\n",
    "                            ask_price_1,traded_time,rise_ratio_ask,W_AB,W_A_B)\n",
    "\n",
    "len(np.where(np.array(traded_2) == 0)[0]),len(np.where(np.array(traded_2) == 1)[0]),len(traded_2),index_2"
   ]
  },
  {
   "cell_type": "code",
   "execution_count": 294,
   "metadata": {
    "collapsed": false
   },
   "outputs": [
    {
     "data": {
      "text/plain": [
       "(5400, 0, 5400, [29798, 31268])"
      ]
     },
     "execution_count": 294,
     "metadata": {},
     "output_type": "execute_result"
    }
   ],
   "source": [
    "# 09:00 ~ 09:15\n",
    "time1 = 9000\n",
    "time2 = 14400\n",
    "traded_time = 900\n",
    "traded_3 ,index_3, rise_ratio_second3,WD_31,WD_32 = \\\n",
    "    traded_label_one_second(time1,time2,time_second_basic,bid_price_1,\\\n",
    "                            ask_price_1,traded_time,rise_ratio_ask,W_AB,W_A_B)\n",
    "    \n",
    "len(np.where(np.array(traded_3) == 0)[0]),len(np.where(np.array(traded_3) == 1)[0]),len(traded_3),index_"
   ]
  },
  {
   "cell_type": "code",
   "execution_count": 295,
   "metadata": {
    "collapsed": false,
    "scrolled": true
   },
   "outputs": [
    {
     "data": {
      "text/plain": [
       "(7076, 3724, 10800, [31276, 46681])"
      ]
     },
     "execution_count": 295,
     "metadata": {},
     "output_type": "execute_result"
    }
   ],
   "source": [
    "# 12:00 ~ 16:00\n",
    "time1 = 14400\n",
    "time2 = 25200\n",
    "traded_time = 900\n",
    "traded_4 ,index_4, rise_ratio_second4, WD_41, WD_42 = \\\n",
    "    traded_label_one_second(time1,time2,time_second_basic,bid_price_1,ask_price_1,\\\n",
    "                            traded_time,rise_ratio_ask,W_AB,W_A_B)\n",
    "    \n",
    "len(np.where(np.array(traded_4) == 0)[0]),len(np.where(np.array(traded_4) == 1)[0]),len(traded_4),index_4"
   ]
  },
  {
   "cell_type": "code",
   "execution_count": 313,
   "metadata": {
    "collapsed": false
   },
   "outputs": [
    {
     "data": {
      "text/plain": [
       "(19800, 3)"
      ]
     },
     "execution_count": 313,
     "metadata": {},
     "output_type": "execute_result"
    }
   ],
   "source": [
    "data.shape"
   ]
  },
  {
   "cell_type": "code",
   "execution_count": 316,
   "metadata": {
    "collapsed": false
   },
   "outputs": [],
   "source": [
    "data = np.array([traded_1 + traded_2 + traded_4,\\\n",
    "                rise_ratio_second1 + rise_ratio_second2 + rise_ratio_second4,\\\n",
    "                WD_11 + WD_21 + WD_41,WD_12 + WD_22 + WD_42]).T"
   ]
  },
  {
   "cell_type": "code",
   "execution_count": 317,
   "metadata": {
    "collapsed": false,
    "scrolled": true
   },
   "outputs": [
    {
     "data": {
      "text/html": [
       "<div>\n",
       "<table border=\"1\" class=\"dataframe\">\n",
       "  <thead>\n",
       "    <tr style=\"text-align: right;\">\n",
       "      <th></th>\n",
       "      <th>label</th>\n",
       "      <th>rise</th>\n",
       "      <th>depth_divid</th>\n",
       "      <th>depth_diff</th>\n",
       "    </tr>\n",
       "  </thead>\n",
       "  <tbody>\n",
       "    <tr>\n",
       "      <th>0</th>\n",
       "      <td>0.0</td>\n",
       "      <td>0.00000</td>\n",
       "      <td>0.833333</td>\n",
       "      <td>-0.090909</td>\n",
       "    </tr>\n",
       "    <tr>\n",
       "      <th>1</th>\n",
       "      <td>0.0</td>\n",
       "      <td>0.00000</td>\n",
       "      <td>0.833333</td>\n",
       "      <td>-0.090909</td>\n",
       "    </tr>\n",
       "    <tr>\n",
       "      <th>2</th>\n",
       "      <td>1.0</td>\n",
       "      <td>0.21097</td>\n",
       "      <td>1.002838</td>\n",
       "      <td>0.001417</td>\n",
       "    </tr>\n",
       "    <tr>\n",
       "      <th>3</th>\n",
       "      <td>1.0</td>\n",
       "      <td>0.21097</td>\n",
       "      <td>1.004739</td>\n",
       "      <td>0.002364</td>\n",
       "    </tr>\n",
       "    <tr>\n",
       "      <th>4</th>\n",
       "      <td>1.0</td>\n",
       "      <td>0.21097</td>\n",
       "      <td>1.004739</td>\n",
       "      <td>0.002364</td>\n",
       "    </tr>\n",
       "    <tr>\n",
       "      <th>5</th>\n",
       "      <td>1.0</td>\n",
       "      <td>0.21097</td>\n",
       "      <td>1.010427</td>\n",
       "      <td>0.005186</td>\n",
       "    </tr>\n",
       "    <tr>\n",
       "      <th>6</th>\n",
       "      <td>1.0</td>\n",
       "      <td>0.21097</td>\n",
       "      <td>1.010427</td>\n",
       "      <td>0.005186</td>\n",
       "    </tr>\n",
       "    <tr>\n",
       "      <th>7</th>\n",
       "      <td>1.0</td>\n",
       "      <td>0.21097</td>\n",
       "      <td>1.008515</td>\n",
       "      <td>0.004239</td>\n",
       "    </tr>\n",
       "    <tr>\n",
       "      <th>8</th>\n",
       "      <td>1.0</td>\n",
       "      <td>0.21097</td>\n",
       "      <td>1.008515</td>\n",
       "      <td>0.004239</td>\n",
       "    </tr>\n",
       "    <tr>\n",
       "      <th>9</th>\n",
       "      <td>1.0</td>\n",
       "      <td>0.21097</td>\n",
       "      <td>1.008515</td>\n",
       "      <td>0.004239</td>\n",
       "    </tr>\n",
       "    <tr>\n",
       "      <th>10</th>\n",
       "      <td>1.0</td>\n",
       "      <td>0.21097</td>\n",
       "      <td>1.008515</td>\n",
       "      <td>0.004239</td>\n",
       "    </tr>\n",
       "    <tr>\n",
       "      <th>11</th>\n",
       "      <td>1.0</td>\n",
       "      <td>0.21097</td>\n",
       "      <td>1.008515</td>\n",
       "      <td>0.004239</td>\n",
       "    </tr>\n",
       "    <tr>\n",
       "      <th>12</th>\n",
       "      <td>1.0</td>\n",
       "      <td>0.21097</td>\n",
       "      <td>1.094162</td>\n",
       "      <td>0.044964</td>\n",
       "    </tr>\n",
       "    <tr>\n",
       "      <th>13</th>\n",
       "      <td>1.0</td>\n",
       "      <td>0.21097</td>\n",
       "      <td>1.152542</td>\n",
       "      <td>0.070866</td>\n",
       "    </tr>\n",
       "    <tr>\n",
       "      <th>14</th>\n",
       "      <td>1.0</td>\n",
       "      <td>0.21097</td>\n",
       "      <td>1.152542</td>\n",
       "      <td>0.070866</td>\n",
       "    </tr>\n",
       "    <tr>\n",
       "      <th>15</th>\n",
       "      <td>1.0</td>\n",
       "      <td>0.21097</td>\n",
       "      <td>1.152542</td>\n",
       "      <td>0.070866</td>\n",
       "    </tr>\n",
       "    <tr>\n",
       "      <th>16</th>\n",
       "      <td>1.0</td>\n",
       "      <td>0.21097</td>\n",
       "      <td>1.152542</td>\n",
       "      <td>0.070866</td>\n",
       "    </tr>\n",
       "    <tr>\n",
       "      <th>17</th>\n",
       "      <td>1.0</td>\n",
       "      <td>0.21097</td>\n",
       "      <td>1.152542</td>\n",
       "      <td>0.070866</td>\n",
       "    </tr>\n",
       "    <tr>\n",
       "      <th>18</th>\n",
       "      <td>1.0</td>\n",
       "      <td>0.21097</td>\n",
       "      <td>1.152542</td>\n",
       "      <td>0.070866</td>\n",
       "    </tr>\n",
       "    <tr>\n",
       "      <th>19</th>\n",
       "      <td>1.0</td>\n",
       "      <td>0.21097</td>\n",
       "      <td>1.152542</td>\n",
       "      <td>0.070866</td>\n",
       "    </tr>\n",
       "    <tr>\n",
       "      <th>20</th>\n",
       "      <td>1.0</td>\n",
       "      <td>0.21097</td>\n",
       "      <td>1.152542</td>\n",
       "      <td>0.070866</td>\n",
       "    </tr>\n",
       "    <tr>\n",
       "      <th>21</th>\n",
       "      <td>1.0</td>\n",
       "      <td>0.21097</td>\n",
       "      <td>1.147142</td>\n",
       "      <td>0.068529</td>\n",
       "    </tr>\n",
       "    <tr>\n",
       "      <th>22</th>\n",
       "      <td>1.0</td>\n",
       "      <td>0.21097</td>\n",
       "      <td>1.147142</td>\n",
       "      <td>0.068529</td>\n",
       "    </tr>\n",
       "    <tr>\n",
       "      <th>23</th>\n",
       "      <td>1.0</td>\n",
       "      <td>0.14065</td>\n",
       "      <td>1.147142</td>\n",
       "      <td>0.068529</td>\n",
       "    </tr>\n",
       "    <tr>\n",
       "      <th>24</th>\n",
       "      <td>1.0</td>\n",
       "      <td>0.14065</td>\n",
       "      <td>1.147142</td>\n",
       "      <td>0.068529</td>\n",
       "    </tr>\n",
       "    <tr>\n",
       "      <th>25</th>\n",
       "      <td>1.0</td>\n",
       "      <td>0.14065</td>\n",
       "      <td>1.147142</td>\n",
       "      <td>0.068529</td>\n",
       "    </tr>\n",
       "    <tr>\n",
       "      <th>26</th>\n",
       "      <td>1.0</td>\n",
       "      <td>0.14065</td>\n",
       "      <td>1.147142</td>\n",
       "      <td>0.068529</td>\n",
       "    </tr>\n",
       "    <tr>\n",
       "      <th>27</th>\n",
       "      <td>1.0</td>\n",
       "      <td>0.14065</td>\n",
       "      <td>1.147142</td>\n",
       "      <td>0.068529</td>\n",
       "    </tr>\n",
       "    <tr>\n",
       "      <th>28</th>\n",
       "      <td>1.0</td>\n",
       "      <td>0.14065</td>\n",
       "      <td>1.147142</td>\n",
       "      <td>0.068529</td>\n",
       "    </tr>\n",
       "    <tr>\n",
       "      <th>29</th>\n",
       "      <td>1.0</td>\n",
       "      <td>0.14065</td>\n",
       "      <td>1.147142</td>\n",
       "      <td>0.068529</td>\n",
       "    </tr>\n",
       "    <tr>\n",
       "      <th>...</th>\n",
       "      <td>...</td>\n",
       "      <td>...</td>\n",
       "      <td>...</td>\n",
       "      <td>...</td>\n",
       "    </tr>\n",
       "    <tr>\n",
       "      <th>19770</th>\n",
       "      <td>0.0</td>\n",
       "      <td>0.00000</td>\n",
       "      <td>0.657310</td>\n",
       "      <td>-0.206775</td>\n",
       "    </tr>\n",
       "    <tr>\n",
       "      <th>19771</th>\n",
       "      <td>0.0</td>\n",
       "      <td>0.00000</td>\n",
       "      <td>0.657310</td>\n",
       "      <td>-0.206775</td>\n",
       "    </tr>\n",
       "    <tr>\n",
       "      <th>19772</th>\n",
       "      <td>0.0</td>\n",
       "      <td>0.00000</td>\n",
       "      <td>0.657310</td>\n",
       "      <td>-0.206775</td>\n",
       "    </tr>\n",
       "    <tr>\n",
       "      <th>19773</th>\n",
       "      <td>0.0</td>\n",
       "      <td>0.00000</td>\n",
       "      <td>0.657310</td>\n",
       "      <td>-0.206775</td>\n",
       "    </tr>\n",
       "    <tr>\n",
       "      <th>19774</th>\n",
       "      <td>0.0</td>\n",
       "      <td>0.00000</td>\n",
       "      <td>0.657310</td>\n",
       "      <td>-0.206775</td>\n",
       "    </tr>\n",
       "    <tr>\n",
       "      <th>19775</th>\n",
       "      <td>0.0</td>\n",
       "      <td>0.00000</td>\n",
       "      <td>0.657310</td>\n",
       "      <td>-0.206775</td>\n",
       "    </tr>\n",
       "    <tr>\n",
       "      <th>19776</th>\n",
       "      <td>0.0</td>\n",
       "      <td>0.00000</td>\n",
       "      <td>0.657310</td>\n",
       "      <td>-0.206775</td>\n",
       "    </tr>\n",
       "    <tr>\n",
       "      <th>19777</th>\n",
       "      <td>0.0</td>\n",
       "      <td>0.00000</td>\n",
       "      <td>0.657310</td>\n",
       "      <td>-0.206775</td>\n",
       "    </tr>\n",
       "    <tr>\n",
       "      <th>19778</th>\n",
       "      <td>0.0</td>\n",
       "      <td>0.00000</td>\n",
       "      <td>0.657310</td>\n",
       "      <td>-0.206775</td>\n",
       "    </tr>\n",
       "    <tr>\n",
       "      <th>19779</th>\n",
       "      <td>0.0</td>\n",
       "      <td>0.00000</td>\n",
       "      <td>0.657310</td>\n",
       "      <td>-0.206775</td>\n",
       "    </tr>\n",
       "    <tr>\n",
       "      <th>19780</th>\n",
       "      <td>0.0</td>\n",
       "      <td>0.00000</td>\n",
       "      <td>0.657310</td>\n",
       "      <td>-0.206775</td>\n",
       "    </tr>\n",
       "    <tr>\n",
       "      <th>19781</th>\n",
       "      <td>0.0</td>\n",
       "      <td>0.00000</td>\n",
       "      <td>0.657310</td>\n",
       "      <td>-0.206775</td>\n",
       "    </tr>\n",
       "    <tr>\n",
       "      <th>19782</th>\n",
       "      <td>0.0</td>\n",
       "      <td>0.00000</td>\n",
       "      <td>0.657310</td>\n",
       "      <td>-0.206775</td>\n",
       "    </tr>\n",
       "    <tr>\n",
       "      <th>19783</th>\n",
       "      <td>0.0</td>\n",
       "      <td>0.00000</td>\n",
       "      <td>1.164327</td>\n",
       "      <td>0.075925</td>\n",
       "    </tr>\n",
       "    <tr>\n",
       "      <th>19784</th>\n",
       "      <td>0.0</td>\n",
       "      <td>0.00000</td>\n",
       "      <td>1.164327</td>\n",
       "      <td>0.075925</td>\n",
       "    </tr>\n",
       "    <tr>\n",
       "      <th>19785</th>\n",
       "      <td>0.0</td>\n",
       "      <td>0.00000</td>\n",
       "      <td>1.164327</td>\n",
       "      <td>0.075925</td>\n",
       "    </tr>\n",
       "    <tr>\n",
       "      <th>19786</th>\n",
       "      <td>0.0</td>\n",
       "      <td>0.00000</td>\n",
       "      <td>1.164327</td>\n",
       "      <td>0.075925</td>\n",
       "    </tr>\n",
       "    <tr>\n",
       "      <th>19787</th>\n",
       "      <td>0.0</td>\n",
       "      <td>0.00000</td>\n",
       "      <td>1.164327</td>\n",
       "      <td>0.075925</td>\n",
       "    </tr>\n",
       "    <tr>\n",
       "      <th>19788</th>\n",
       "      <td>0.0</td>\n",
       "      <td>0.00000</td>\n",
       "      <td>1.164327</td>\n",
       "      <td>0.075925</td>\n",
       "    </tr>\n",
       "    <tr>\n",
       "      <th>19789</th>\n",
       "      <td>0.0</td>\n",
       "      <td>0.00000</td>\n",
       "      <td>1.164327</td>\n",
       "      <td>0.075925</td>\n",
       "    </tr>\n",
       "    <tr>\n",
       "      <th>19790</th>\n",
       "      <td>0.0</td>\n",
       "      <td>0.00000</td>\n",
       "      <td>1.164327</td>\n",
       "      <td>0.075925</td>\n",
       "    </tr>\n",
       "    <tr>\n",
       "      <th>19791</th>\n",
       "      <td>0.0</td>\n",
       "      <td>0.00000</td>\n",
       "      <td>1.164327</td>\n",
       "      <td>0.075925</td>\n",
       "    </tr>\n",
       "    <tr>\n",
       "      <th>19792</th>\n",
       "      <td>0.0</td>\n",
       "      <td>0.00000</td>\n",
       "      <td>1.164327</td>\n",
       "      <td>0.075925</td>\n",
       "    </tr>\n",
       "    <tr>\n",
       "      <th>19793</th>\n",
       "      <td>0.0</td>\n",
       "      <td>0.00000</td>\n",
       "      <td>1.164327</td>\n",
       "      <td>0.075925</td>\n",
       "    </tr>\n",
       "    <tr>\n",
       "      <th>19794</th>\n",
       "      <td>0.0</td>\n",
       "      <td>0.00000</td>\n",
       "      <td>1.164327</td>\n",
       "      <td>0.075925</td>\n",
       "    </tr>\n",
       "    <tr>\n",
       "      <th>19795</th>\n",
       "      <td>0.0</td>\n",
       "      <td>0.00000</td>\n",
       "      <td>1.164327</td>\n",
       "      <td>0.075925</td>\n",
       "    </tr>\n",
       "    <tr>\n",
       "      <th>19796</th>\n",
       "      <td>0.0</td>\n",
       "      <td>0.00000</td>\n",
       "      <td>1.164327</td>\n",
       "      <td>0.075925</td>\n",
       "    </tr>\n",
       "    <tr>\n",
       "      <th>19797</th>\n",
       "      <td>0.0</td>\n",
       "      <td>0.00000</td>\n",
       "      <td>1.164327</td>\n",
       "      <td>0.075925</td>\n",
       "    </tr>\n",
       "    <tr>\n",
       "      <th>19798</th>\n",
       "      <td>0.0</td>\n",
       "      <td>0.00000</td>\n",
       "      <td>1.164327</td>\n",
       "      <td>0.075925</td>\n",
       "    </tr>\n",
       "    <tr>\n",
       "      <th>19799</th>\n",
       "      <td>0.0</td>\n",
       "      <td>0.00000</td>\n",
       "      <td>1.164327</td>\n",
       "      <td>0.075925</td>\n",
       "    </tr>\n",
       "  </tbody>\n",
       "</table>\n",
       "<p>19800 rows × 4 columns</p>\n",
       "</div>"
      ],
      "text/plain": [
       "       label     rise  depth_divid  depth_diff\n",
       "0        0.0  0.00000     0.833333   -0.090909\n",
       "1        0.0  0.00000     0.833333   -0.090909\n",
       "2        1.0  0.21097     1.002838    0.001417\n",
       "3        1.0  0.21097     1.004739    0.002364\n",
       "4        1.0  0.21097     1.004739    0.002364\n",
       "5        1.0  0.21097     1.010427    0.005186\n",
       "6        1.0  0.21097     1.010427    0.005186\n",
       "7        1.0  0.21097     1.008515    0.004239\n",
       "8        1.0  0.21097     1.008515    0.004239\n",
       "9        1.0  0.21097     1.008515    0.004239\n",
       "10       1.0  0.21097     1.008515    0.004239\n",
       "11       1.0  0.21097     1.008515    0.004239\n",
       "12       1.0  0.21097     1.094162    0.044964\n",
       "13       1.0  0.21097     1.152542    0.070866\n",
       "14       1.0  0.21097     1.152542    0.070866\n",
       "15       1.0  0.21097     1.152542    0.070866\n",
       "16       1.0  0.21097     1.152542    0.070866\n",
       "17       1.0  0.21097     1.152542    0.070866\n",
       "18       1.0  0.21097     1.152542    0.070866\n",
       "19       1.0  0.21097     1.152542    0.070866\n",
       "20       1.0  0.21097     1.152542    0.070866\n",
       "21       1.0  0.21097     1.147142    0.068529\n",
       "22       1.0  0.21097     1.147142    0.068529\n",
       "23       1.0  0.14065     1.147142    0.068529\n",
       "24       1.0  0.14065     1.147142    0.068529\n",
       "25       1.0  0.14065     1.147142    0.068529\n",
       "26       1.0  0.14065     1.147142    0.068529\n",
       "27       1.0  0.14065     1.147142    0.068529\n",
       "28       1.0  0.14065     1.147142    0.068529\n",
       "29       1.0  0.14065     1.147142    0.068529\n",
       "...      ...      ...          ...         ...\n",
       "19770    0.0  0.00000     0.657310   -0.206775\n",
       "19771    0.0  0.00000     0.657310   -0.206775\n",
       "19772    0.0  0.00000     0.657310   -0.206775\n",
       "19773    0.0  0.00000     0.657310   -0.206775\n",
       "19774    0.0  0.00000     0.657310   -0.206775\n",
       "19775    0.0  0.00000     0.657310   -0.206775\n",
       "19776    0.0  0.00000     0.657310   -0.206775\n",
       "19777    0.0  0.00000     0.657310   -0.206775\n",
       "19778    0.0  0.00000     0.657310   -0.206775\n",
       "19779    0.0  0.00000     0.657310   -0.206775\n",
       "19780    0.0  0.00000     0.657310   -0.206775\n",
       "19781    0.0  0.00000     0.657310   -0.206775\n",
       "19782    0.0  0.00000     0.657310   -0.206775\n",
       "19783    0.0  0.00000     1.164327    0.075925\n",
       "19784    0.0  0.00000     1.164327    0.075925\n",
       "19785    0.0  0.00000     1.164327    0.075925\n",
       "19786    0.0  0.00000     1.164327    0.075925\n",
       "19787    0.0  0.00000     1.164327    0.075925\n",
       "19788    0.0  0.00000     1.164327    0.075925\n",
       "19789    0.0  0.00000     1.164327    0.075925\n",
       "19790    0.0  0.00000     1.164327    0.075925\n",
       "19791    0.0  0.00000     1.164327    0.075925\n",
       "19792    0.0  0.00000     1.164327    0.075925\n",
       "19793    0.0  0.00000     1.164327    0.075925\n",
       "19794    0.0  0.00000     1.164327    0.075925\n",
       "19795    0.0  0.00000     1.164327    0.075925\n",
       "19796    0.0  0.00000     1.164327    0.075925\n",
       "19797    0.0  0.00000     1.164327    0.075925\n",
       "19798    0.0  0.00000     1.164327    0.075925\n",
       "19799    0.0  0.00000     1.164327    0.075925\n",
       "\n",
       "[19800 rows x 4 columns]"
      ]
     },
     "execution_count": 317,
     "metadata": {},
     "output_type": "execute_result"
    }
   ],
   "source": [
    "pd.DataFrame(data, columns = ['label', 'rise', 'depth_divid', 'depth_diff'])"
   ]
  },
  {
   "cell_type": "code",
   "execution_count": null,
   "metadata": {
    "collapsed": false,
    "scrolled": true
   },
   "outputs": [],
   "source": []
  },
  {
   "cell_type": "code",
   "execution_count": null,
   "metadata": {
    "collapsed": false
   },
   "outputs": [],
   "source": []
  },
  {
   "cell_type": "code",
   "execution_count": null,
   "metadata": {
    "collapsed": true
   },
   "outputs": [],
   "source": []
  },
  {
   "cell_type": "code",
   "execution_count": null,
   "metadata": {
    "collapsed": false
   },
   "outputs": [],
   "source": []
  },
  {
   "cell_type": "code",
   "execution_count": null,
   "metadata": {
    "collapsed": false
   },
   "outputs": [],
   "source": []
  },
  {
   "cell_type": "code",
   "execution_count": null,
   "metadata": {
    "collapsed": false
   },
   "outputs": [],
   "source": []
  },
  {
   "cell_type": "code",
   "execution_count": null,
   "metadata": {
    "collapsed": false
   },
   "outputs": [],
   "source": []
  },
  {
   "cell_type": "code",
   "execution_count": null,
   "metadata": {
    "collapsed": false
   },
   "outputs": [],
   "source": []
  },
  {
   "cell_type": "code",
   "execution_count": null,
   "metadata": {
    "collapsed": true
   },
   "outputs": [],
   "source": []
  },
  {
   "cell_type": "code",
   "execution_count": null,
   "metadata": {
    "collapsed": true
   },
   "outputs": [],
   "source": []
  },
  {
   "cell_type": "code",
   "execution_count": null,
   "metadata": {
    "collapsed": true
   },
   "outputs": [],
   "source": []
  },
  {
   "cell_type": "code",
   "execution_count": null,
   "metadata": {
    "collapsed": true
   },
   "outputs": [],
   "source": []
  },
  {
   "cell_type": "code",
   "execution_count": null,
   "metadata": {
    "collapsed": true
   },
   "outputs": [],
   "source": []
  }
 ],
 "metadata": {
  "kernelspec": {
   "display_name": "Python 2",
   "language": "python",
   "name": "python2"
  },
  "language_info": {
   "codemirror_mode": {
    "name": "ipython",
    "version": 2
   },
   "file_extension": ".py",
   "mimetype": "text/x-python",
   "name": "python",
   "nbconvert_exporter": "python",
   "pygments_lexer": "ipython2",
   "version": "2.7.11"
  }
 },
 "nbformat": 4,
 "nbformat_minor": 0
}
