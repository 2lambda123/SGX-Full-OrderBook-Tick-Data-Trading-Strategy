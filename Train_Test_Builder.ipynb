{
 "cells": [
  {
   "cell_type": "code",
   "execution_count": 2,
   "metadata": {
    "collapsed": false
   },
   "outputs": [
    {
     "name": "stdout",
     "output_type": "stream",
     "text": [
      "Populating the interactive namespace from numpy and matplotlib\n"
     ]
    }
   ],
   "source": [
    "%pylab inline\n",
    "import numpy as np\n",
    "import pandas as pd\n",
    "import matplotlib.pyplot as plt"
   ]
  },
  {
   "cell_type": "code",
   "execution_count": 3,
   "metadata": {
    "collapsed": true
   },
   "outputs": [],
   "source": [
    "def order_book(month,day):\n",
    "    data = []\n",
    "    datapath = '/home/bigdatas16/SGX-OrderBook-Tick-Data-Trading-Strategy-/High_Frequency_Trading_Strategy_using_machine_learning/Limit_Order_Book_Best_3/order_book_3_2014'\\\n",
    "                + '_' + str(month) + '_' + str(day) + '.csv'\n",
    "    order_book = pd.read_csv(datapath,sep=',')\n",
    "    bid_price_1 = np.array(map(float,order_book['Bid'][1::4]))/100.0\n",
    "    bid_price_2 = np.array(map(float,order_book['Bid'][2::4]))/100.0\n",
    "    bid_price_3 = np.array(map(float,order_book['Bid'][3::4]))/100.0\n",
    "    timestamp = np.array(order_book['Bid_Quantity'][0::4])\n",
    "    bid_quantity_1 = np.array(map(float,order_book['Bid_Quantity'][1::4]))\n",
    "    bid_quantity_2 = np.array(map(float,order_book['Bid_Quantity'][2::4]))\n",
    "    bid_quantity_3 = np.array(map(float,order_book['Bid_Quantity'][3::4]))\n",
    "    ask_price_1 = np.array(map(float,order_book['Ask'][1::4]))/100.0\n",
    "    ask_price_2 = np.array(map(float,order_book['Ask'][2::4]))/100.0\n",
    "    ask_price_3 = np.array(map(float,order_book['Ask'][3::4]))/100.0\n",
    "    ask_quantity_1 = np.array(map(float,order_book['Ask_Quantity'][1::4]))\n",
    "    ask_quantity_2 = np.array(map(float,order_book['Ask_Quantity'][2::4]))\n",
    "    ask_quantity_3 = np.array(map(float,order_book['Ask_Quantity'][3::4]))\n",
    "    \n",
    "    bid_quantity_1[isnan(bid_quantity_1)] = 0\n",
    "    bid_quantity_2[isnan(bid_quantity_2)] = 0\n",
    "    bid_quantity_3[isnan(bid_quantity_3)] = 0\n",
    "    ask_quantity_1[isnan(ask_quantity_1)] = 0\n",
    "    ask_quantity_2[isnan(ask_quantity_2)] = 0\n",
    "    ask_quantity_3[isnan(ask_quantity_3)] = 0\n",
    "    \n",
    "    return timestamp,order_book,bid_price_1,bid_price_2,bid_price_3,bid_quantity_1,\\\n",
    "            bid_quantity_2,bid_quantity_3,ask_price_1,ask_price_2,ask_price_3,ask_quantity_1,\\\n",
    "            ask_quantity_2,ask_quantity_3"
   ]
  },
  {
   "cell_type": "code",
   "execution_count": 4,
   "metadata": {
    "collapsed": true
   },
   "outputs": [],
   "source": [
    "def time_transform(timestamp_time):\n",
    "    time_second_basic = []\n",
    "    time_second = []\n",
    "    for i in range(0,len(timestamp_time),1):\n",
    "        second = float(timestamp_time[i][11])*36000 + float(timestamp_time[i][12])*3600+\\\n",
    "                    float(timestamp_time[i][14])*600 + float(timestamp_time[i][15])*60+\\\n",
    "                    float(timestamp_time[i][17])*10 + float(timestamp_time[i][18])  \n",
    "        time_second_basic.append(second - 32400.0)\n",
    "        time_second.append(second)\n",
    "    return np.array(time_second),np.array(time_second_basic)"
   ]
  },
  {
   "cell_type": "code",
   "execution_count": 5,
   "metadata": {
    "collapsed": true
   },
   "outputs": [],
   "source": [
    "def weight_pecentage(w1,w2,w3,ask_quantity_1,ask_quantity_2,ask_quantity_3,\\\n",
    "                     bid_quantity_1,bid_quantity_2,bid_quantity_3):\n",
    "    \n",
    "    Weight_Ask = (w1 * ask_quantity_1 + w2 * ask_quantity_2 + w3 * ask_quantity_3)\n",
    "    Weight_Bid = (w1 * bid_quantity_1 + w2 * bid_quantity_2 + w3 * bid_quantity_3)\n",
    "    W_AB = Weight_Ask/Weight_Bid\n",
    "    W_A_B = (Weight_Ask - Weight_Bid)/(Weight_Ask + Weight_Bid)\n",
    "    \n",
    "    return W_AB, W_A_B"
   ]
  },
  {
   "cell_type": "code",
   "execution_count": 7,
   "metadata": {
    "collapsed": true
   },
   "outputs": [],
   "source": [
    "def Feature_DataFrame_UP(traded_time,time_second_basic,bid_price_1,ask_price_1,rise_ratio_ask_3,\\\n",
    "                      rise_ratio_ask_5,rise_ratio_ask_7,rise_ratio_ask_9, rise_ratio_ask_11,\\\n",
    "                      rise_ratio_ask_13,W_AB_100, W_A_B_100, W_AB_010, W_A_B_010, W_AB_001, W_A_B_001,\\\n",
    "                      W_AB_910 , W_A_B_910, W_AB_730 , W_A_B_730 ,W_AB_550 , W_A_B_550,\\\n",
    "                      W_AB_721 , W_A_B_721, W_AB_532 , W_A_B_532, W_AB_111 , W_A_B_111):\n",
    "    # 09:00 ~ 11:30\n",
    "    time1 = 0\n",
    "    time2 = 9000\n",
    "    print len(W_AB_910)\n",
    "    traded_1 ,index_1,rise_ratio_second_1_3, rise_ratio_second_1_5, rise_ratio_second_1_7,\\\n",
    "    rise_ratio_second_1_9, rise_ratio_second_1_11, rise_ratio_second_1_13, w_divid_1_100, w_diff_1_100,\\\n",
    "    w_divid_1_010, w_diff_1_010,w_divid_1_001, w_diff_1_001,w_divid_1_910, w_diff_1_910,w_divid_1_730,\\\n",
    "    w_diff_1_730,w_divid_1_550, w_diff_1_550,w_divid_1_721, w_diff_1_721,w_divid_1_532, w_diff_1_532,\\\n",
    "    w_divid_1_111, w_diff_1_111 =\\\n",
    "        traded_label_one_second(time1,time2,time_second_basic,bid_price_1,\\\n",
    "                                ask_price_1,traded_time,rise_ratio_ask_3, rise_ratio_ask_5,\\\n",
    "                                rise_ratio_ask_7,rise_ratio_ask_9, rise_ratio_ask_11, rise_ratio_ask_13,\\\n",
    "                                W_AB_100, W_A_B_100, W_AB_010, W_A_B_010, W_AB_001, W_A_B_001,\\\n",
    "                                W_AB_910, W_A_B_910, W_AB_730, W_A_B_730,W_AB_550, W_A_B_550,\\\n",
    "                                W_AB_721, W_A_B_721, W_AB_532, W_A_B_532, W_AB_111, W_A_B_111)\n",
    "    \n",
    "    data = np.array([traded_1,rise_ratio_second_1_3,rise_ratio_second_1_5,rise_ratio_second_1_7,\\\n",
    "                     rise_ratio_second_1_9,rise_ratio_second_1_11,rise_ratio_second_1_13,w_divid_1_100,\\\n",
    "                     w_diff_1_100,w_divid_1_010,w_diff_1_010,w_divid_1_001,w_diff_1_001,w_divid_1_910,\\\n",
    "                     w_diff_1_910,w_divid_1_730,w_diff_1_730,w_divid_1_550,w_diff_1_550,w_divid_1_721,\\\n",
    "                     w_diff_1_721,w_divid_1_532,w_diff_1_532,w_divid_1_111,w_diff_1_111]).T\n",
    "\n",
    "    return pd.DataFrame(data)#,traded_1 #, columns = ['label', 'rise', 'depth_divid', 'depth_diff'])\n",
    "\n",
    "\n",
    "def Feature_DataFrame_DOWN(traded_time,time_second_basic,bid_price_1,ask_price_1,rise_ratio_ask_3,\\\n",
    "                          rise_ratio_ask_5,rise_ratio_ask_7,rise_ratio_ask_9, rise_ratio_ask_11,\\\n",
    "                          rise_ratio_ask_13,W_AB_100, W_A_B_100, W_AB_010, W_A_B_010, W_AB_001, W_A_B_001,\\\n",
    "                          W_AB_910 , W_A_B_910, W_AB_730 , W_A_B_730 ,W_AB_550 , W_A_B_550,\\\n",
    "                          W_AB_721 , W_A_B_721, W_AB_532 , W_A_B_532, W_AB_111 , W_A_B_111):\n",
    "    # 13:00 ~ 16:00\n",
    "    time1 = 14400\n",
    "    time2 = 25200\n",
    "    traded_2 ,index_2,rise_ratio_second_2_3, rise_ratio_second_2_5, rise_ratio_second_2_7,\\\n",
    "    rise_ratio_second_2_9, rise_ratio_second_2_11, rise_ratio_second_2_13, w_divid_2_100, w_diff_2_100,\\\n",
    "    w_divid_2_010, w_diff_2_010,w_divid_2_001, w_diff_2_001,w_divid_2_910, w_diff_2_910,w_divid_2_730,\\\n",
    "    w_diff_2_730,w_divid_2_550, w_diff_2_550,w_divid_2_721, w_diff_2_721,w_divid_2_532, w_diff_2_532,\\\n",
    "    w_divid_2_111, w_diff_2_111 =\\\n",
    "        traded_label_one_second(time1,time2,time_second_basic,bid_price_1,\\\n",
    "                                ask_price_1,traded_time,rise_ratio_ask_3, rise_ratio_ask_5,\\\n",
    "                                rise_ratio_ask_7,rise_ratio_ask_9, rise_ratio_ask_11, rise_ratio_ask_13,\\\n",
    "                                W_AB_100, W_A_B_100, W_AB_010, W_A_B_010, W_AB_001, W_A_B_001,\\\n",
    "                                W_AB_910, W_A_B_910, W_AB_730, W_A_B_730 ,W_AB_550, W_A_B_550,\\\n",
    "                                W_AB_721, W_A_B_721, W_AB_532, W_A_B_532, W_AB_111, W_A_B_111)\n",
    "\n",
    "    data = np.array([traded_2,rise_ratio_second_2_3,rise_ratio_second_2_5,rise_ratio_second_2_7,\\\n",
    "                     rise_ratio_second_2_9,rise_ratio_second_2_11,rise_ratio_second_2_13,w_divid_2_100,\\\n",
    "                     w_diff_2_100,w_divid_2_010,w_diff_2_010,w_divid_2_001,w_diff_2_001,w_divid_2_910,\\\n",
    "                     w_diff_2_910,w_divid_2_730,w_diff_2_730,w_divid_2_550,w_diff_2_550,w_divid_2_721,\\\n",
    "                     w_diff_2_721,w_divid_2_532,w_diff_2_532,w_divid_2_111,w_diff_2_111]).T\n",
    "        \n",
    "    return pd.DataFrame(data)#,traded_2 #, columns = ['label', 'rise', 'depth_divid', 'depth_diff'])\n",
    "\n"
   ]
  },
  {
   "cell_type": "code",
   "execution_count": null,
   "metadata": {
    "collapsed": false
   },
   "outputs": [],
   "source": []
  },
  {
   "cell_type": "code",
   "execution_count": 9,
   "metadata": {
    "collapsed": true
   },
   "outputs": [],
   "source": [
    "def rise_ask(Ask1,timestamp_time_second,before_time):\n",
    "    Ask1[Ask1 == 0] = mean(Ask1)\n",
    "    rise_ratio = []\n",
    "    index = np.where(timestamp_time_second >= before_time)[0][0]\n",
    "    #open first before_time mins\n",
    "    for i in range(0,index,1):\n",
    "        rise_ratio_ = round((Ask1[i] - Ask1[0])*(1.0)/Ask1[0]*100,5)\n",
    "        rise_ratio.append(rise_ratio_)\n",
    "    for i in range(index,len(Ask1),1):\n",
    "        #print np.where(timestamp_time_second[:i] >= timestamp_time_second[i] - before_time)\n",
    "        #print timestamp_time_second[i],timestamp_time_second[i] - before_time\n",
    "        index_start = np.where(timestamp_time_second[:i] >= timestamp_time_second[i] - before_time)[0][0]\n",
    "        rise_ratio_ = round((Ask1[i] - Ask1[index_start])*(1.0)/Ask1[index_start]*100,5)\n",
    "        rise_ratio.append(rise_ratio_)\n",
    "    return np.array(rise_ratio)"
   ]
  },
  {
   "cell_type": "code",
   "execution_count": null,
   "metadata": {
    "collapsed": false
   },
   "outputs": [],
   "source": []
  },
  {
   "cell_type": "code",
   "execution_count": null,
   "metadata": {
    "collapsed": false
   },
   "outputs": [],
   "source": []
  },
  {
   "cell_type": "code",
   "execution_count": null,
   "metadata": {
    "collapsed": false
   },
   "outputs": [],
   "source": []
  },
  {
   "cell_type": "code",
   "execution_count": null,
   "metadata": {
    "collapsed": false
   },
   "outputs": [],
   "source": []
  },
  {
   "cell_type": "code",
   "execution_count": null,
   "metadata": {
    "collapsed": true
   },
   "outputs": [],
   "source": []
  },
  {
   "cell_type": "code",
   "execution_count": 28,
   "metadata": {
    "collapsed": false
   },
   "outputs": [],
   "source": [
    "def data(month,day,traded_time):\n",
    "    \n",
    "    timestamp,order_book_ ,bid_price_1, bid_price_2, bid_price_3,\\\n",
    "    bid_quantity_1, bid_quantity_2, bid_quantity_3,\\\n",
    "    ask_price_1, ask_price_2, ask_price_3,ask_quantity_1,\\\n",
    "    ask_quantity_2, ask_quantity_3 = order_book(month,day)\n",
    "    \n",
    "    time_second,time_second_basic = time_transform(timestamp)\n",
    "    Ask1 = ask_price_1[np.where(time_second_basic <= 0.0)[0][-1]:]\n",
    "\n",
    "    before_time = 60.0 * 6\n",
    "    rise_ratio_ask_3 = rise_ask(Ask1, time_second_basic, before_time)\n",
    "    before_time = 60.0 * 8\n",
    "    rise_ratio_ask_5 = rise_ask(Ask1, time_second_basic, before_time)\n",
    "    before_time = 60.0 * 10\n",
    "    rise_ratio_ask_7 = rise_ask(Ask1, time_second_basic, before_time)\n",
    "    before_time = 60.0 * 12\n",
    "    rise_ratio_ask_9 = rise_ask(Ask1, time_second_basic, before_time)\n",
    "    before_time = 60.0 * 14\n",
    "    rise_ratio_ask_11 = rise_ask(Ask1, time_second_basic, before_time)\n",
    "    before_time = 60.0 * 15\n",
    "    rise_ratio_ask_13 = rise_ask(Ask1, time_second_basic, before_time)\n",
    "\n",
    "    #Weight Depth\n",
    "    w1,w2,w3 = [100.0, 0.0, 0.0]\n",
    "    W_AB_100 , W_A_B_100 = weight_pecentage(w1,w2,w3,ask_quantity_1,ask_quantity_2,ask_quantity_3,\\\n",
    "                     bid_quantity_1,bid_quantity_2,bid_quantity_3)\n",
    "    #return W_AB_100 , W_A_B_100\n",
    "    w1,w2,w3 = [0.0, 100.0, 0.0]\n",
    "    W_AB_010 , W_A_B_010 = weight_pecentage(w1,w2,w3,ask_quantity_1,ask_quantity_2,ask_quantity_3,\\\n",
    "                     bid_quantity_1,bid_quantity_2,bid_quantity_3)\n",
    "    w1,w2,w3 = [0.0, 0.0, 100.0]\n",
    "    W_AB_001 , W_A_B_001 = weight_pecentage(w1,w2,w3,ask_quantity_1,ask_quantity_2,ask_quantity_3,\\\n",
    "                     bid_quantity_1,bid_quantity_2,bid_quantity_3)\n",
    "    w1,w2,w3 = [90.0, 10.0, 0.0]\n",
    "    W_AB_910 , W_A_B_910 = weight_pecentage(w1,w2,w3,ask_quantity_1,ask_quantity_2,ask_quantity_3,\\\n",
    "                     bid_quantity_1,bid_quantity_2,bid_quantity_3)\n",
    "    w1,w2,w3 = [70.0, 30.0, 0.0]\n",
    "    W_AB_730 , W_A_B_730 = weight_pecentage(w1,w2,w3,ask_quantity_1,ask_quantity_2,ask_quantity_3,\\\n",
    "                     bid_quantity_1,bid_quantity_2,bid_quantity_3)\n",
    "    w1,w2,w3 = [50.0, 50.0, 0.0]\n",
    "    W_AB_550 , W_A_B_550 = weight_pecentage(w1,w2,w3,ask_quantity_1,ask_quantity_2,ask_quantity_3,\\\n",
    "                     bid_quantity_1,bid_quantity_2,bid_quantity_3)\n",
    "    w1,w2,w3 = [70.0, 20.0, 10.0]\n",
    "    W_AB_721 , W_A_B_721 = weight_pecentage(w1,w2,w3,ask_quantity_1,ask_quantity_2,ask_quantity_3,\\\n",
    "                     bid_quantity_1,bid_quantity_2,bid_quantity_3)\n",
    "    w1,w2,w3 = [50.0, 30.0, 20.0]\n",
    "    W_AB_532 , W_A_B_532 = weight_pecentage(w1,w2,w3,ask_quantity_1,ask_quantity_2,ask_quantity_3,\\\n",
    "                     bid_quantity_1,bid_quantity_2,bid_quantity_3)\n",
    "    w1,w2,w3 = [1.0, 1.0, 1.0]\n",
    "    W_AB_111 , W_A_B_111 = weight_pecentage(w1,w2,w3,ask_quantity_1,ask_quantity_2,ask_quantity_3,\\\n",
    "                     bid_quantity_1,bid_quantity_2,bid_quantity_3)\n",
    "    \n",
    "    data_2014_UP =\\\n",
    "    Feature_DataFrame_UP(traded_time,time_second_basic,bid_price_1,ask_price_1,rise_ratio_ask_3,\\\n",
    "                          rise_ratio_ask_5,rise_ratio_ask_7,rise_ratio_ask_9, rise_ratio_ask_11,\\\n",
    "                          rise_ratio_ask_13,W_AB_100, W_A_B_100, W_AB_010, W_A_B_010, W_AB_001, W_A_B_001,\\\n",
    "                          W_AB_910 , W_A_B_910, W_AB_730 , W_A_B_730 ,W_AB_550 , W_A_B_550,\\\n",
    "                          W_AB_721 , W_A_B_721, W_AB_532 , W_A_B_532, W_AB_111 , W_A_B_111)\n",
    "    data_2014_DOWN =\\\n",
    "    Feature_DataFrame_DOWN(traded_time,time_second_basic,bid_price_1,ask_price_1,rise_ratio_ask_3,\\\n",
    "                          rise_ratio_ask_5,rise_ratio_ask_7,rise_ratio_ask_9, rise_ratio_ask_11,\\\n",
    "                          rise_ratio_ask_13,W_AB_100, W_A_B_100, W_AB_010, W_A_B_010, W_AB_001, W_A_B_001,\\\n",
    "                          W_AB_910 , W_A_B_910, W_AB_730 , W_A_B_730 ,W_AB_550 , W_A_B_550,\\\n",
    "                          W_AB_721 , W_A_B_721, W_AB_532 , W_A_B_532, W_AB_111 , W_A_B_111)\n",
    "    \n",
    "    return data_2014_UP,data_2014_DOWN,len(W_AB_111)#,trade_1,trade_2#,timestamp"
   ]
  },
  {
   "cell_type": "code",
   "execution_count": null,
   "metadata": {
    "collapsed": false
   },
   "outputs": [],
   "source": []
  },
  {
   "cell_type": "code",
   "execution_count": 29,
   "metadata": {
    "collapsed": false
   },
   "outputs": [],
   "source": [
    "def traded_label_one_second(time1, time2, time_second_basic,\\\n",
    "                            bid_price_1, ask_price_1, traded_time,\\\n",
    "                            rise_ratio_ask_3, rise_ratio_ask_5, rise_ratio_ask_7,\\\n",
    "                            rise_ratio_ask_9, rise_ratio_ask_11, rise_ratio_ask_13,\\\n",
    "                            W_AB_100, W_A_B_100, W_AB_010, W_A_B_010, W_AB_001, W_A_B_001,\\\n",
    "                            W_AB_910 , W_A_B_910, W_AB_730 , W_A_B_730 ,W_AB_550 , W_A_B_550,\\\n",
    "                            W_AB_721 , W_A_B_721, W_AB_532 , W_A_B_532, W_AB_111 , W_A_B_111):\n",
    "    global index\n",
    "    \n",
    "    traded = []\n",
    "    index_ = []\n",
    "    \n",
    "    rise_ratio_second_3 = []\n",
    "    rise_ratio_second_5 = []   \n",
    "    rise_ratio_second_7 = []\n",
    "    rise_ratio_second_9 = []\n",
    "    rise_ratio_second_11 = []\n",
    "    rise_ratio_second_13 = []\n",
    "    \n",
    "    w_divid_100 = []\n",
    "    w_diff_100 = []\n",
    "    w_divid_010 = []\n",
    "    w_diff_010 = []\n",
    "    w_divid_001 = []\n",
    "    w_diff_001 = []\n",
    "    w_divid_910 = []\n",
    "    w_diff_910 = []\n",
    "    w_divid_730 = []\n",
    "    w_diff_730 = []\n",
    "    w_divid_550 = []\n",
    "    w_diff_550 = []\n",
    "    w_divid_721 = []\n",
    "    w_diff_721 = []\n",
    "    w_divid_532 = []\n",
    "    w_diff_532 = []\n",
    "    w_divid_111 = []\n",
    "    w_diff_111 = []\n",
    "    \n",
    "    if time1 == 0:\n",
    "        index_one = np.where(time_second_basic <= 0)[0][-1]\n",
    "    elif time1 == 14400:\n",
    "        index_one = np.where(time_second_basic <= 14400)[0][-1]\n",
    "        \n",
    "    for i in range(time1, time2, 1):\n",
    "        if i == 0 or i == 14400:\n",
    "            index_array = np.where(time_second_basic <= i)[-1]\n",
    "        else:\n",
    "            index_array = np.where((time_second_basic < i+1) & (time_second_basic >= i))[-1]\n",
    "        \n",
    "        if len(index_array) > 0:\n",
    "            index = index_array[-1]\n",
    "            if i == time1:\n",
    "                index_.append(index)\n",
    "            if i == time2 - 1:\n",
    "                index_.append(index)\n",
    "            if i < 25200 - traded_time:\n",
    "                index_min = np.where(time_second_basic <= i + traded_time)[0][-1]\n",
    "                traded_min = ask_price_1[index:index_min]\n",
    "                if bid_price_1[index] > min(traded_min):\n",
    "                    traded.append(1)\n",
    "                else:\n",
    "                    traded.append(0)\n",
    "            elif i >= 25200 - traded_time:\n",
    "                if bid_price_1[index] > ask_price_1[-1]:\n",
    "                    traded.append(1)\n",
    "                else:\n",
    "                    traded.append(0)\n",
    "                    \n",
    "            rise_ratio_second_3.append(rise_ratio_ask_3[(index - index_one)])\n",
    "            rise_ratio_second_5.append(rise_ratio_ask_5[(index - index_one)])\n",
    "            rise_ratio_second_7.append(rise_ratio_ask_7[(index - index_one)])\n",
    "            rise_ratio_second_9.append(rise_ratio_ask_9[(index - index_one)])\n",
    "            rise_ratio_second_11.append(rise_ratio_ask_11[(index - index_one)])\n",
    "            rise_ratio_second_13.append(rise_ratio_ask_13[(index - index_one)])\n",
    "\n",
    "            w_divid_100.append(W_AB_100[index_one + (index - index_one)])\n",
    "            w_diff_100.append(W_A_B_100[index_one + (index - index_one)])\n",
    "            w_divid_010.append(W_AB_010[index_one + (index - index_one)])\n",
    "            w_diff_010.append(W_A_B_010[index_one + (index - index_one)])\n",
    "            w_divid_001.append(W_AB_001[index_one + (index - index_one)])\n",
    "            w_diff_001.append(W_A_B_001[index_one + (index - index_one)])\n",
    "            w_divid_910.append(W_AB_910[index_one + (index - index_one)])\n",
    "            w_diff_910.append(W_A_B_910[index_one + (index - index_one)])\n",
    "            w_divid_730.append(W_AB_730[index_one + (index - index_one)])\n",
    "            w_diff_730.append(W_A_B_730[index_one + (index - index_one)])\n",
    "            w_divid_550.append(W_AB_550[index_one + (index - index_one)])\n",
    "            w_diff_550.append(W_A_B_550[index_one + (index - index_one)])\n",
    "            w_divid_721.append(W_AB_721[index_one + (index - index_one)])\n",
    "            w_diff_721.append(W_A_B_721[index_one + (index - index_one)])\n",
    "            w_divid_532.append(W_AB_532[index_one + (index - index_one)])\n",
    "            w_diff_532.append(W_A_B_532[index_one + (index - index_one)])\n",
    "            w_divid_111.append(W_AB_111[index_one + (index - index_one)])\n",
    "            w_diff_111.append(W_A_B_111[index_one + (index - index_one)])\n",
    "        \n",
    "        elif len(index_array) == 0:\n",
    "            if i < 25200 - traded_time:\n",
    "                index_min = np.where(time_second_basic <= i + traded_time)[0][-1]\n",
    "                traded_min = ask_price_1[index:index_min]\n",
    "                if bid_price_1[index] > min(traded_min):\n",
    "                    traded.append(1)\n",
    "                else:\n",
    "                    traded.append(0)\n",
    "            elif i >= 25200 - traded_time:\n",
    "                if bid_price_1[index] > ask_price_1[-1]:\n",
    "                    traded.append(1)\n",
    "                else:\n",
    "                    traded.append(0)\n",
    "            rise_ratio_second_3.append(rise_ratio_second_3[-1])\n",
    "            rise_ratio_second_5.append(rise_ratio_second_5[-1])\n",
    "            rise_ratio_second_7.append(rise_ratio_second_7[-1])\n",
    "            rise_ratio_second_9.append(rise_ratio_second_9[-1])\n",
    "            rise_ratio_second_11.append(rise_ratio_second_11[-1])\n",
    "            rise_ratio_second_13.append(rise_ratio_second_13[-1])\n",
    "            \n",
    "            w_divid_100.append(w_divid_100[-1])\n",
    "            w_diff_100.append(w_diff_100[-1])\n",
    "            w_divid_010.append(w_divid_010[-1])\n",
    "            w_diff_010.append(w_diff_010[-1])\n",
    "            w_divid_001.append(w_divid_001[-1])\n",
    "            w_diff_001.append(w_diff_001[-1])\n",
    "            w_divid_910.append(w_divid_910[-1])\n",
    "            w_diff_910.append(w_diff_910[-1])\n",
    "            w_divid_730.append(w_divid_730[-1])\n",
    "            w_diff_730.append(w_diff_730[-1])\n",
    "            w_divid_550.append(w_divid_550[-1])\n",
    "            w_diff_550.append(w_diff_550[-1])\n",
    "            w_divid_721.append(w_divid_721[-1])\n",
    "            w_diff_721.append(w_diff_721[-1])\n",
    "            w_divid_532.append(w_divid_532[-1])\n",
    "            w_diff_532.append(w_diff_532[-1])\n",
    "            w_divid_111.append(w_divid_111[-1])\n",
    "            w_diff_111.append(w_diff_111[-1])\n",
    "\n",
    "    return traded, index_, rise_ratio_second_3, rise_ratio_second_5, rise_ratio_second_7,\\\n",
    "            rise_ratio_second_9, rise_ratio_second_11, rise_ratio_second_13, w_divid_100, w_diff_100,\\\n",
    "            w_divid_010, w_diff_010,w_divid_001, w_diff_001,w_divid_910, w_diff_910,w_divid_730, w_diff_730,\\\n",
    "            w_divid_550, w_diff_550,w_divid_721, w_diff_721,w_divid_532, w_diff_532,w_divid_111, w_diff_111"
   ]
  },
  {
   "cell_type": "code",
   "execution_count": 26,
   "metadata": {
    "collapsed": false,
    "scrolled": false
   },
   "outputs": [],
   "source": [
    "#data_1_14_UP,data_1_14_DOWN,len_ = data(1,14,600)"
   ]
  },
  {
   "cell_type": "code",
   "execution_count": null,
   "metadata": {
    "collapsed": true
   },
   "outputs": [],
   "source": []
  },
  {
   "cell_type": "code",
   "execution_count": 133,
   "metadata": {
    "collapsed": false,
    "scrolled": true
   },
   "outputs": [
    {
     "name": "stdout",
     "output_type": "stream",
     "text": [
      "46683\n",
      "46683\n",
      "62044\n",
      "62044\n",
      "63705\n",
      "63705\n",
      "61692\n",
      "61692\n",
      "69391\n",
      "69391\n",
      "66714\n",
      "66714\n",
      "63885\n",
      "63885\n",
      "65478\n",
      "65478\n",
      "54647\n",
      "54647\n",
      "56664\n",
      "56664\n",
      "73068\n",
      "73068\n",
      "64396\n",
      "64396\n",
      "66853\n",
      "66853\n",
      "70454\n",
      "70454\n",
      "50831\n",
      "50831\n",
      "63207\n",
      "63207\n",
      "50063\n",
      "50063\n",
      "50627\n",
      "50627\n",
      "25308\n",
      "25308\n",
      "38741\n",
      "38741\n",
      "Total time = 396.951565\n"
     ]
    }
   ],
   "source": [
    "import time \n",
    "start = time.time()\n",
    "\n",
    "traded_time = 600\n",
    "data_1_2_UP,data_1_2_DOWN,len_ = data(1,2,traded_time)\n",
    "data_1_3_UP,data_1_3_DOWN,len_ = data(1,3,traded_time)\n",
    "data_1_6_UP,data_1_6_DOWN,len_ = data(1,6,traded_time)\n",
    "data_1_7_UP,data_1_7_DOWN,len_ = data(1,7,traded_time)\n",
    "data_1_8_UP,data_1_8_DOWN,len_ = data(1,8,traded_time)\n",
    "data_1_10_UP,data_1_10_DOWN,len_ = data(1,10,traded_time)\n",
    "data_1_13_UP,data_1_13_DOWN,len_ = data(1,13,traded_time)\n",
    "data_1_14_UP,data_1_14_DOWN,len_ = data(1,14,traded_time)\n",
    "data_1_15_UP,data_1_15_DOWN,len_ = data(1,15,traded_time)\n",
    "data_1_16_UP,data_1_16_DOWN,len_ = data(1,16,traded_time)\n",
    "data_1_17_UP,data_1_17_DOWN,len_ = data(1,17,traded_time)\n",
    "data_1_20_UP,data_1_20_DOWN,len_ = data(1,20,traded_time)\n",
    "data_1_21_UP,data_1_21_DOWN,len_ = data(1,21,traded_time)\n",
    "data_1_22_UP,data_1_22_DOWN,len_ = data(1,22,traded_time)\n",
    "data_1_23_UP,data_1_23_DOWN,len_ = data(1,23,traded_time)\n",
    "data_1_24_UP,data_1_24_DOWN,len_ = data(1,24,traded_time)\n",
    "data_1_27_UP,data_1_27_DOWN,len_ = data(1,27,traded_time)\n",
    "data_1_28_UP,data_1_28_DOWN,len_ = data(1,28,traded_time)\n",
    "data_1_29_UP,data_1_29_DOWN,len_ = data(1,29,traded_time)\n",
    "data_1_30_UP,data_1_30_DOWN,len_ = data(1,30,traded_time)\n",
    "end = time.time()  \n",
    "print \"Total time = %f\"%(end - start)"
   ]
  },
  {
   "cell_type": "code",
   "execution_count": null,
   "metadata": {
    "collapsed": false,
    "scrolled": true
   },
   "outputs": [],
   "source": []
  },
  {
   "cell_type": "code",
   "execution_count": null,
   "metadata": {
    "collapsed": true
   },
   "outputs": [],
   "source": []
  },
  {
   "cell_type": "code",
   "execution_count": null,
   "metadata": {
    "collapsed": true
   },
   "outputs": [],
   "source": []
  },
  {
   "cell_type": "code",
   "execution_count": 12,
   "metadata": {
    "collapsed": false
   },
   "outputs": [],
   "source": [
    "def train_test_to_csv(month,day,traded_time):\n",
    "    data_UP,data_DOWN,len_ = data(month,day,traded_time)\n",
    "    path_up = '/home/bigdatas16/SGX-OrderBook-Tick-Data-Trading-Strategy-/Train_Test_Data/ML_data_2014'\\\n",
    "            +'_'+str(month)+'_'+str(day)+'_'+'UP'+'.csv'\n",
    "    path_down = '/home/bigdatas16/SGX-OrderBook-Tick-Data-Trading-Strategy-/Train_Test_Data/ML_data_2014'\\\n",
    "            +'_'+str(month)+'_'+str(day)+'_'+'DOWN'+'.csv'\n",
    "    data_UP.to_csv(path_up, index = False)\n",
    "    data_DOWN.to_csv(path_down, index = False)    "
   ]
  },
  {
   "cell_type": "code",
   "execution_count": 31,
   "metadata": {
    "collapsed": false
   },
   "outputs": [],
   "source": [
    "day_trade_1 = [2,3,6,7,8,10,13,14,15,16,17,20,21,22,23,24,27,28,29,30]"
   ]
  },
  {
   "cell_type": "code",
   "execution_count": 34,
   "metadata": {
    "collapsed": false,
    "scrolled": true
   },
   "outputs": [
    {
     "name": "stdout",
     "output_type": "stream",
     "text": [
      "2\n",
      "46683\n",
      "3\n",
      "62044\n",
      "6\n",
      "63705\n",
      "7\n",
      "61692\n",
      "8\n",
      "69391\n",
      "10\n",
      "66714\n",
      "13\n",
      "63885\n",
      "14\n",
      "65478\n",
      "15\n",
      "54647\n",
      "16\n",
      "56664\n",
      "17\n",
      "73068\n",
      "20\n",
      "64396\n",
      "21\n",
      "66853\n",
      "22\n",
      "70454\n",
      "23\n",
      "50831\n",
      "24\n",
      "63207\n",
      "27\n",
      "50063\n",
      "28\n",
      "50627\n",
      "29\n",
      "25308\n",
      "30\n",
      "38741\n"
     ]
    }
   ],
   "source": [
    "for i in day_trade_1:\n",
    "    print i\n",
    "    train_test_to_csv(1,i,600)"
   ]
  },
  {
   "cell_type": "code",
   "execution_count": 25,
   "metadata": {
    "collapsed": true
   },
   "outputs": [],
   "source": [
    "day_trade_2 = [7,10,11,12,13,17,18,19,21,24,25,26,27]"
   ]
  },
  {
   "cell_type": "code",
   "execution_count": 30,
   "metadata": {
    "collapsed": false,
    "scrolled": true
   },
   "outputs": [
    {
     "name": "stdout",
     "output_type": "stream",
     "text": [
      "7\n",
      "47312\n",
      "10\n",
      "58239\n",
      "11\n",
      "49717\n",
      "12\n",
      "52838\n",
      "13\n",
      "47850\n",
      "17\n",
      "57541\n",
      "18\n",
      "59639\n",
      "19\n",
      "67225\n",
      "21\n",
      "63295\n",
      "24\n",
      "81482\n",
      "25\n",
      "69004\n",
      "26\n",
      "55271\n",
      "27\n",
      "38425\n"
     ]
    }
   ],
   "source": [
    "for i in day_trade_2:\n",
    "    print i\n",
    "    train_test_to_csv(2,i,600)"
   ]
  },
  {
   "cell_type": "code",
   "execution_count": null,
   "metadata": {
    "collapsed": true
   },
   "outputs": [],
   "source": []
  },
  {
   "cell_type": "code",
   "execution_count": null,
   "metadata": {
    "collapsed": true
   },
   "outputs": [],
   "source": []
  },
  {
   "cell_type": "code",
   "execution_count": null,
   "metadata": {
    "collapsed": true
   },
   "outputs": [],
   "source": []
  },
  {
   "cell_type": "code",
   "execution_count": null,
   "metadata": {
    "collapsed": false
   },
   "outputs": [],
   "source": []
  },
  {
   "cell_type": "code",
   "execution_count": null,
   "metadata": {
    "collapsed": false
   },
   "outputs": [],
   "source": []
  },
  {
   "cell_type": "code",
   "execution_count": null,
   "metadata": {
    "collapsed": true
   },
   "outputs": [],
   "source": []
  },
  {
   "cell_type": "code",
   "execution_count": null,
   "metadata": {
    "collapsed": true
   },
   "outputs": [],
   "source": []
  },
  {
   "cell_type": "code",
   "execution_count": null,
   "metadata": {
    "collapsed": true
   },
   "outputs": [],
   "source": []
  }
 ],
 "metadata": {
  "kernelspec": {
   "display_name": "Python 2",
   "language": "python",
   "name": "python2"
  },
  "language_info": {
   "codemirror_mode": {
    "name": "ipython",
    "version": 2
   },
   "file_extension": ".py",
   "mimetype": "text/x-python",
   "name": "python",
   "nbconvert_exporter": "python",
   "pygments_lexer": "ipython2",
   "version": "2.7.13"
  }
 },
 "nbformat": 4,
 "nbformat_minor": 0
}
