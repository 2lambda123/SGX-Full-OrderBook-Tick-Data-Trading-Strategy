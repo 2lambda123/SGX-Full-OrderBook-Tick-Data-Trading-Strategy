{
 "cells": [
  {
   "cell_type": "code",
   "execution_count": 16,
   "metadata": {
    "collapsed": false
   },
   "outputs": [
    {
     "name": "stdout",
     "output_type": "stream",
     "text": [
      "Populating the interactive namespace from numpy and matplotlib\n"
     ]
    }
   ],
   "source": [
    "%pylab inline\n",
    "import numpy as np\n",
    "import pandas as pd\n",
    "import matplotlib.pyplot as plt"
   ]
  },
  {
   "cell_type": "code",
   "execution_count": 17,
   "metadata": {
    "collapsed": true
   },
   "outputs": [],
   "source": [
    "def order_book(month,day):\n",
    "    data = []\n",
    "    datapath = '/home/bigdatas16/SGX-OrderBook-Tick-Data-Trading-Strategy-/High_Frequency_Trading_Strategy_using_machine_learning/Limit_Order_Book_Best_3/order_book_3_2014'\\\n",
    "                + '_' + str(month) + '_' + str(day) + '.csv'\n",
    "    order_book = pd.read_csv(datapath,sep=',')\n",
    "    bid_price_1 = np.array(map(float,order_book['Bid'][1::4]))/100.0\n",
    "    bid_price_2 = np.array(map(float,order_book['Bid'][2::4]))/100.0\n",
    "    bid_price_3 = np.array(map(float,order_book['Bid'][3::4]))/100.0\n",
    "    timestamp = np.array(order_book['Bid_Quantity'][0::4])\n",
    "    bid_quantity_1 = np.array(map(float,order_book['Bid_Quantity'][1::4]))\n",
    "    bid_quantity_2 = np.array(map(float,order_book['Bid_Quantity'][2::4]))\n",
    "    bid_quantity_3 = np.array(map(float,order_book['Bid_Quantity'][3::4]))\n",
    "    ask_price_1 = np.array(map(float,order_book['Ask'][1::4]))/100.0\n",
    "    ask_price_2 = np.array(map(float,order_book['Ask'][2::4]))/100.0\n",
    "    ask_price_3 = np.array(map(float,order_book['Ask'][3::4]))/100.0\n",
    "    ask_quantity_1 = np.array(map(float,order_book['Ask_Quantity'][1::4]))\n",
    "    ask_quantity_2 = np.array(map(float,order_book['Ask_Quantity'][2::4]))\n",
    "    ask_quantity_3 = np.array(map(float,order_book['Ask_Quantity'][3::4]))\n",
    "    \n",
    "    bid_quantity_1[isnan(bid_quantity_1)] = 0\n",
    "    bid_quantity_2[isnan(bid_quantity_2)] = 0\n",
    "    bid_quantity_3[isnan(bid_quantity_3)] = 0\n",
    "    ask_quantity_1[isnan(ask_quantity_1)] = 0\n",
    "    ask_quantity_2[isnan(ask_quantity_2)] = 0\n",
    "    ask_quantity_3[isnan(ask_quantity_3)] = 0\n",
    "    \n",
    "    return timestamp,order_book,bid_price_1,bid_price_2,bid_price_3,bid_quantity_1,\\\n",
    "            bid_quantity_2,bid_quantity_3,ask_price_1,ask_price_2,ask_price_3,ask_quantity_1,\\\n",
    "            ask_quantity_2,ask_quantity_3"
   ]
  },
  {
   "cell_type": "code",
   "execution_count": 18,
   "metadata": {
    "collapsed": true
   },
   "outputs": [],
   "source": [
    "def time_transform(timestamp_time):\n",
    "    time_second_basic = []\n",
    "    time_second = []\n",
    "    for i in range(0,len(timestamp_time),1):\n",
    "        second = float(timestamp_time[i][11])*36000 + float(timestamp_time[i][12])*3600+\\\n",
    "                    float(timestamp_time[i][14])*600 + float(timestamp_time[i][15])*60+\\\n",
    "                    float(timestamp_time[i][17])*10 + float(timestamp_time[i][18])  \n",
    "        time_second_basic.append(second - 32400.0)\n",
    "        time_second.append(second)\n",
    "    return np.array(time_second),np.array(time_second_basic)"
   ]
  },
  {
   "cell_type": "code",
   "execution_count": 19,
   "metadata": {
    "collapsed": true
   },
   "outputs": [],
   "source": [
    "def weight_pecentage(w1,w2,w3,ask_quantity_1,ask_quantity_2,ask_quantity_3,\\\n",
    "                     bid_quantity_1,bid_quantity_2,bid_quantity_3):\n",
    "    Weight_Ask = (w1 * ask_quantity_1 + w2 * ask_quantity_2 + w3 * ask_quantity_3)\n",
    "    Weight_Bid = (w1 * bid_quantity_1 + w2 * bid_quantity_2 + w3 * bid_quantity_3)\n",
    "    W_AB = Weight_Ask/Weight_Bid\n",
    "    W_A_B = (Weight_Ask - Weight_Bid)/(Weight_Ask + Weight_Bid)\n",
    "    return W_AB,W_A_B"
   ]
  },
  {
   "cell_type": "code",
   "execution_count": 20,
   "metadata": {
    "collapsed": true
   },
   "outputs": [],
   "source": [
    "def Feature_DataFrame(traded_time,time_second_basic,bid_price_1,ask_price_1,rise_ratio_ask_3,\\\n",
    "                      rise_ratio_ask_5,rise_ratio_ask_7,rise_ratio_ask_9, rise_ratio_ask_11,\\\n",
    "                      rise_ratio_ask_13,W_AB_100, W_A_B_100, W_AB_010, W_A_B_010, W_AB_001, W_A_B_001,\\\n",
    "                      W_AB_910 , W_A_B_910, W_AB_730 , W_A_B_730 ,W_AB_550 , W_A_B_550,\\\n",
    "                      W_AB_721 , W_A_B_721, W_AB_532 , W_A_B_532, W_AB_111 , W_A_B_111):\n",
    "    \n",
    "    # 09:00 ~ 11:30\n",
    "    time1 = 0\n",
    "    time2 = 9000\n",
    "    print len(W_AB_910)\n",
    "    traded_1 ,index_1,rise_ratio_second_1_3, rise_ratio_second_1_5, rise_ratio_second_1_7,\\\n",
    "    rise_ratio_second_1_9, rise_ratio_second_1_11, rise_ratio_second_1_13, w_divid_1_100, w_diff_1_100,\\\n",
    "    w_divid_1_010, w_diff_1_010,w_divid_1_001, w_diff_1_001,w_divid_1_910, w_diff_1_910,w_divid_1_730,\\\n",
    "    w_diff_1_730,w_divid_1_550, w_diff_1_550,w_divid_1_721, w_diff_1_721,w_divid_1_532, w_diff_1_532,\\\n",
    "    w_divid_1_111, w_diff_1_111 =\\\n",
    "        traded_label_one_second(time1,time2,time_second_basic,bid_price_1,\\\n",
    "                                ask_price_1,traded_time,rise_ratio_ask_3, rise_ratio_ask_5,\\\n",
    "                                rise_ratio_ask_7,rise_ratio_ask_9, rise_ratio_ask_11, rise_ratio_ask_13,\\\n",
    "                                W_AB_100, W_A_B_100, W_AB_010, W_A_B_010, W_AB_001, W_A_B_001,\\\n",
    "                                W_AB_910, W_A_B_910, W_AB_730, W_A_B_730,W_AB_550, W_A_B_550,\\\n",
    "                                W_AB_721, W_A_B_721, W_AB_532, W_A_B_532, W_AB_111, W_A_B_111)\n",
    "    # 13:00 ~ 16:00\n",
    "    time1 = 14400\n",
    "    time2 = 25200\n",
    "    traded_2 ,index_2,rise_ratio_second_2_3, rise_ratio_second_2_5, rise_ratio_second_2_7,\\\n",
    "    rise_ratio_second_2_9, rise_ratio_second_2_11, rise_ratio_second_2_13, w_divid_2_100, w_diff_2_100,\\\n",
    "    w_divid_2_010, w_diff_2_010,w_divid_2_001, w_diff_2_001,w_divid_2_910, w_diff_2_910,w_divid_2_730,\\\n",
    "    w_diff_2_730,w_divid_2_550, w_diff_2_550,w_divid_2_721, w_diff_2_721,w_divid_2_532, w_diff_2_532,\\\n",
    "    w_divid_2_111, w_diff_2_111 =\\\n",
    "        traded_label_one_second(time1,time2,time_second_basic,bid_price_1,\\\n",
    "                                ask_price_1,traded_time,rise_ratio_ask_3, rise_ratio_ask_5,\\\n",
    "                                rise_ratio_ask_7,rise_ratio_ask_9, rise_ratio_ask_11, rise_ratio_ask_13,\\\n",
    "                                W_AB_100, W_A_B_100, W_AB_010, W_A_B_010, W_AB_001, W_A_B_001,\\\n",
    "                                W_AB_910, W_A_B_910, W_AB_730, W_A_B_730 ,W_AB_550, W_A_B_550,\\\n",
    "                                W_AB_721, W_A_B_721, W_AB_532, W_A_B_532, W_AB_111, W_A_B_111)\n",
    "\n",
    "    data = np.array([traded_1 + traded_2,rise_ratio_second_1_3 + rise_ratio_second_2_3,\\\n",
    "                     rise_ratio_second_1_5+rise_ratio_second_2_5,rise_ratio_second_1_7+rise_ratio_second_2_7,\\\n",
    "                     rise_ratio_second_1_9+rise_ratio_second_2_9,rise_ratio_second_1_11+rise_ratio_second_2_11,\\\n",
    "                     rise_ratio_second_1_13+rise_ratio_second_2_13,w_divid_1_100+w_divid_2_100,\\\n",
    "                     w_diff_1_100+w_diff_2_100,w_divid_1_010+w_divid_2_010,w_diff_1_010+w_diff_2_010,\\\n",
    "                     w_divid_1_001+w_divid_2_001,w_diff_1_001+w_diff_2_001,w_divid_1_910+w_divid_2_910,\\\n",
    "                     w_diff_1_910+w_diff_2_910,w_divid_1_730+w_divid_2_730,w_diff_1_730+w_diff_2_730,\\\n",
    "                     w_divid_1_550+w_divid_2_550,w_diff_1_550+w_diff_2_550,w_divid_1_721+w_divid_2_721,\\\n",
    "                     w_diff_1_721+w_diff_2_721,w_divid_1_532+w_divid_2_532,w_diff_1_532+w_diff_2_532,\\\n",
    "                     w_divid_1_111+w_divid_2_111,w_diff_1_111+w_diff_2_111]).T\n",
    "        \n",
    "    return pd.DataFrame(data)#, columns = ['label', 'rise', 'depth_divid', 'depth_diff'])"
   ]
  },
  {
   "cell_type": "code",
   "execution_count": 21,
   "metadata": {
    "collapsed": true
   },
   "outputs": [],
   "source": [
    "def rise_ask(Ask1,timestamp_time_second,before_time):\n",
    "    Ask1[Ask1 == 0] = mean(Ask1)\n",
    "    rise_ratio = []\n",
    "    index = np.where(timestamp_time_second >= before_time)[0][0]\n",
    "    #open first before_time mins\n",
    "    for i in range(0,index,1):\n",
    "        rise_ratio_ = round((Ask1[i] - Ask1[0])*(1.0)/Ask1[0]*100,5)\n",
    "        rise_ratio.append(rise_ratio_)\n",
    "    for i in range(index,len(Ask1),1):\n",
    "        index_start = np.where(timestamp_time_second[:i] >= timestamp_time_second[i] - before_time)[0][0]\n",
    "        rise_ratio_ = round((Ask1[i] - Ask1[index_start])*(1.0)/Ask1[index_start]*100,5)\n",
    "        rise_ratio.append(rise_ratio_)\n",
    "    return np.array(rise_ratio)"
   ]
  },
  {
   "cell_type": "code",
   "execution_count": 22,
   "metadata": {
    "collapsed": false
   },
   "outputs": [],
   "source": [
    "def data(month,day,traded_time):\n",
    "    \n",
    "    timestamp,order_book_,bid_price_1,bid_price_2,bid_price_3,\\\n",
    "    bid_quantity_1,bid_quantity_2,bid_quantity_3,\\\n",
    "    ask_price_1,ask_price_2,ask_price_3,ask_quantity_1,\\\n",
    "    ask_quantity_2,ask_quantity_3 = order_book(month,day)\n",
    "    \n",
    "    time_second,time_second_basic = time_transform(timestamp)\n",
    "    print len(time_second)\n",
    "    \n",
    "    Ask1 = ask_price_1[np.where(time_second_basic <= 0.0)[0][-1]:]\n",
    "    #before_time = 60.0 * 1\n",
    "    #rise_ratio_ask_1 = rise_ask(Ask1, time_second_basic, before_time)\n",
    "    before_time = 60.0 * 6\n",
    "    rise_ratio_ask_3 = rise_ask(Ask1, time_second_basic, before_time)\n",
    "    before_time = 60.0 * 5\n",
    "    rise_ratio_ask_5 = rise_ask(Ask1, time_second_basic, before_time)\n",
    "    before_time = 60.0 * 7\n",
    "    rise_ratio_ask_7 = rise_ask(Ask1, time_second_basic, before_time)\n",
    "    before_time = 60.0 * 9\n",
    "    rise_ratio_ask_9 = rise_ask(Ask1, time_second_basic, before_time)\n",
    "    before_time = 60.0 * 11\n",
    "    rise_ratio_ask_11 = rise_ask(Ask1, time_second_basic, before_time)\n",
    "    before_time = 60.0 * 13\n",
    "    rise_ratio_ask_13 = rise_ask(Ask1, time_second_basic, before_time)\n",
    "\n",
    "    #Weight Depth\n",
    "    w1,w2,w3 = [100.0, 0.0, 0.0]\n",
    "    W_AB_100 , W_A_B_100 = weight_pecentage(w1,w2,w3,ask_quantity_1,ask_quantity_2,ask_quantity_3,\\\n",
    "                     bid_quantity_1,bid_quantity_2,bid_quantity_3)\n",
    "\n",
    "    w1,w2,w3 = [0.0, 100.0, 0.0]\n",
    "    W_AB_010 , W_A_B_010 = weight_pecentage(w1,w2,w3,ask_quantity_1,ask_quantity_2,ask_quantity_3,\\\n",
    "                     bid_quantity_1,bid_quantity_2,bid_quantity_3)\n",
    "\n",
    "    w1,w2,w3 = [0.0, 0.0, 100.0]\n",
    "    W_AB_001 , W_A_B_001 = weight_pecentage(w1,w2,w3,ask_quantity_1,ask_quantity_2,ask_quantity_3,\\\n",
    "                     bid_quantity_1,bid_quantity_2,bid_quantity_3)\n",
    "\n",
    "    w1,w2,w3 = [90.0, 10.0, 0.0]\n",
    "    W_AB_910 , W_A_B_910 = weight_pecentage(w1,w2,w3,ask_quantity_1,ask_quantity_2,ask_quantity_3,\\\n",
    "                     bid_quantity_1,bid_quantity_2,bid_quantity_3)\n",
    "\n",
    "    w1,w2,w3 = [70.0, 30.0, 0.0]\n",
    "    W_AB_730 , W_A_B_730 = weight_pecentage(w1,w2,w3,ask_quantity_1,ask_quantity_2,ask_quantity_3,\\\n",
    "                     bid_quantity_1,bid_quantity_2,bid_quantity_3)\n",
    "\n",
    "    w1,w2,w3 = [50.0, 50.0, 0.0]\n",
    "    W_AB_550 , W_A_B_550 = weight_pecentage(w1,w2,w3,ask_quantity_1,ask_quantity_2,ask_quantity_3,\\\n",
    "                     bid_quantity_1,bid_quantity_2,bid_quantity_3)\n",
    "\n",
    "    w1,w2,w3 = [70.0, 20.0, 10.0]\n",
    "    W_AB_721 , W_A_B_721 = weight_pecentage(w1,w2,w3,ask_quantity_1,ask_quantity_2,ask_quantity_3,\\\n",
    "                     bid_quantity_1,bid_quantity_2,bid_quantity_3)\n",
    "\n",
    "    w1,w2,w3 = [50.0, 30.0, 20.0]\n",
    "    W_AB_532 , W_A_B_532 = weight_pecentage(w1,w2,w3,ask_quantity_1,ask_quantity_2,ask_quantity_3,\\\n",
    "                     bid_quantity_1,bid_quantity_2,bid_quantity_3)\n",
    "\n",
    "    w1,w2,w3 = [1.0, 1.0, 1.0]\n",
    "    W_AB_111 , W_A_B_111 = weight_pecentage(w1,w2,w3,ask_quantity_1,ask_quantity_2,ask_quantity_3,\\\n",
    "                     bid_quantity_1,bid_quantity_2,bid_quantity_3)\n",
    "\n",
    "    data_2014 =\\\n",
    "    Feature_DataFrame(traded_time,time_second_basic,bid_price_1,ask_price_1,rise_ratio_ask_3,\\\n",
    "                      rise_ratio_ask_5,rise_ratio_ask_7,rise_ratio_ask_9, rise_ratio_ask_11,\\\n",
    "                      rise_ratio_ask_13,W_AB_100, W_A_B_100, W_AB_010, W_A_B_010, W_AB_001, W_A_B_001,\\\n",
    "                      W_AB_910 , W_A_B_910, W_AB_730 , W_A_B_730 ,W_AB_550 , W_A_B_550,\\\n",
    "                      W_AB_721 , W_A_B_721, W_AB_532 , W_A_B_532, W_AB_111 , W_A_B_111)\n",
    "    \n",
    "    return data_2014,len(W_AB_111)#,timestamp"
   ]
  },
  {
   "cell_type": "code",
   "execution_count": 23,
   "metadata": {
    "collapsed": true
   },
   "outputs": [],
   "source": [
    "def traded_label_one_second(time1, time2, time_second_basic,\\\n",
    "                            bid_price_1, ask_price_1, traded_time,\\\n",
    "                            rise_ratio_ask_3, rise_ratio_ask_5, rise_ratio_ask_7,\\\n",
    "                            rise_ratio_ask_9, rise_ratio_ask_11, rise_ratio_ask_13,\\\n",
    "                            W_AB_100, W_A_B_100, W_AB_010, W_A_B_010, W_AB_001, W_A_B_001,\\\n",
    "                            W_AB_910 , W_A_B_910, W_AB_730 , W_A_B_730 ,W_AB_550 , W_A_B_550,\\\n",
    "                            W_AB_721 , W_A_B_721, W_AB_532 , W_A_B_532, W_AB_111 , W_A_B_111):\n",
    "    traded = []\n",
    "    index_ = []\n",
    "    rise_ratio_second_3 = []\n",
    "    rise_ratio_second_5 = []   \n",
    "    rise_ratio_second_7 = []\n",
    "    rise_ratio_second_9 = []\n",
    "    rise_ratio_second_11 = []\n",
    "    rise_ratio_second_13 = []\n",
    "    \n",
    "    w_divid_100 = []\n",
    "    w_diff_100 = []\n",
    "    w_divid_010 = []\n",
    "    w_diff_010 = []\n",
    "    w_divid_001 = []\n",
    "    w_diff_001 = []\n",
    "    w_divid_910 = []\n",
    "    w_diff_910 = []\n",
    "    w_divid_730 = []\n",
    "    w_diff_730 = []\n",
    "    w_divid_550 = []\n",
    "    w_diff_550 = []\n",
    "    w_divid_721 = []\n",
    "    w_diff_721 = []\n",
    "    w_divid_532 = []\n",
    "    w_diff_532 = []\n",
    "    w_divid_111 = []\n",
    "    w_diff_111 = []\n",
    "    \n",
    "    index_one = np.where(time_second_basic <= 0)[0][-1]\n",
    "    for i in range(time1, time2, 1):\n",
    "        #print i\n",
    "        index = np.where(time_second_basic <= i)[0][-1]\n",
    "            \n",
    "        if i == time1:\n",
    "            index_.append(index)\n",
    "        if i == time2 - 1:\n",
    "            index_.append(index)\n",
    "            \n",
    "        if i < 25200 - traded_time:\n",
    "            #print i\n",
    "            index_min = np.where(time_second_basic <= i + traded_time)[0][-1]\n",
    "            #print index,index_min\n",
    "            #print time_second_basic[index],time_second_basic[index_min]\n",
    "            traded_min = ask_price_1[index:index_min]\n",
    "            \n",
    "            #if len(traded_min) > 0:\n",
    "            if bid_price_1[index] > min(traded_min):\n",
    "                traded.append(1)\n",
    "            else:\n",
    "                traded.append(0)\n",
    "                \n",
    "        elif i >= 25200 - traded_time:\n",
    "            if bid_price_1[index] > ask_price_1[-1]:\n",
    "                traded.append(1)\n",
    "            else:\n",
    "                traded.append(0)\n",
    "                \n",
    "        rise_ratio_second_3.append(rise_ratio_ask_3[index - index_one])\n",
    "        rise_ratio_second_5.append(rise_ratio_ask_5[index - index_one])\n",
    "        rise_ratio_second_7.append(rise_ratio_ask_7[index - index_one])\n",
    "        rise_ratio_second_9.append(rise_ratio_ask_9[index - index_one])\n",
    "        rise_ratio_second_11.append(rise_ratio_ask_11[index - index_one])\n",
    "        rise_ratio_second_13.append(rise_ratio_ask_13[index - index_one])\n",
    "        \n",
    "        w_divid_100.append(W_AB_100[index - index_one])\n",
    "        w_diff_100.append(W_A_B_100[index - index_one])\n",
    "        w_divid_010.append(W_AB_010[index - index_one])\n",
    "        w_diff_010.append(W_A_B_010[index - index_one])\n",
    "        w_divid_001.append(W_AB_001[index - index_one])\n",
    "        w_diff_001.append(W_A_B_001[index - index_one])\n",
    "        w_divid_910.append(W_AB_910[index - index_one])\n",
    "        w_diff_910.append(W_A_B_910[index - index_one])\n",
    "        w_divid_730.append(W_AB_730[index - index_one])\n",
    "        w_diff_730.append(W_A_B_730[index - index_one])\n",
    "        w_divid_550.append(W_AB_550[index - index_one])\n",
    "        w_diff_550.append(W_A_B_550[index - index_one])\n",
    "        w_divid_721.append(W_AB_721[index - index_one])\n",
    "        w_diff_721.append(W_A_B_721[index - index_one])\n",
    "        w_divid_532.append(W_AB_532[index - index_one])\n",
    "        w_diff_532.append(W_A_B_532[index - index_one])\n",
    "        w_divid_111.append(W_AB_111[index - index_one])\n",
    "        w_diff_111.append(W_A_B_111[index - index_one])\n",
    "        \n",
    "    return traded, index_, rise_ratio_second_3, rise_ratio_second_5, rise_ratio_second_7,\\\n",
    "            rise_ratio_second_9, rise_ratio_second_11, rise_ratio_second_13, w_divid_100, w_diff_100,\\\n",
    "            w_divid_010, w_diff_010,w_divid_001, w_diff_001,w_divid_910, w_diff_910,w_divid_730, w_diff_730,\\\n",
    "            w_divid_550, w_diff_550,w_divid_721, w_diff_721,w_divid_532, w_diff_532,w_divid_111, w_diff_111"
   ]
  },
  {
   "cell_type": "code",
   "execution_count": null,
   "metadata": {
    "collapsed": false
   },
   "outputs": [],
   "source": []
  },
  {
   "cell_type": "code",
   "execution_count": 44,
   "metadata": {
    "collapsed": false,
    "scrolled": true
   },
   "outputs": [
    {
     "name": "stdout",
     "output_type": "stream",
     "text": [
      "Total time = 0.000050\n"
     ]
    }
   ],
   "source": [
    "import time \n",
    "start = time.time()\n",
    "\n",
    "traded_time = 600\n",
    "#data_1_2,len_ = data(1,2,traded_time)\n",
    "#data_1_3,len_ = data(1,3,traded_time)\n",
    "#data_1_6,len_ = data(1,6,traded_time)\n",
    "#data_1_7,len_ = data(1,7,traded_time)\n",
    "#data_1_8,len_ = data(1,8,traded_time)\n",
    "#data_1_10,len_ = data(1,10,traded_time)\n",
    "#data_1_13,len_ = data(1,13,traded_time)\n",
    "#data_1_14,len_ = data(1,14,traded_time)\n",
    "#data_1_15,len_ = data(1,15,traded_time)\n",
    "#data_1_16,len_ = data(1,16,traded_time)\n",
    "#data_1_17,len_ = data(1,17,traded_time)\n",
    "#data_1_20,len_ = data(1,20,traded_time)\n",
    "#data_1_21,len_ = data(1,21,traded_time)\n",
    "#data_1_22,len_ = data(1,22,traded_time)\n",
    "#data_1_23,len_ = data(1,23,traded_time)\n",
    "#data_1_24,len_ = data(1,24,traded_time)\n",
    "#data_1_27,len_ = data(1,27,traded_time)\n",
    "#data_1_28,len_ = data(1,28,traded_time)\n",
    "#data_1_29,len_ = data(1,29,traded_time)\n",
    "#data_1_30,len_ = data(1,30,traded_time)\n",
    "\n",
    "end = time.time()  \n",
    "print \"Total time = %f\"%(end - start)"
   ]
  },
  {
   "cell_type": "code",
   "execution_count": null,
   "metadata": {
    "collapsed": true
   },
   "outputs": [],
   "source": []
  },
  {
   "cell_type": "code",
   "execution_count": 94,
   "metadata": {
    "collapsed": false,
    "scrolled": true
   },
   "outputs": [],
   "source": [
    "data_1_2.to_csv('/home/bigdatas16/SGX-OrderBook-Tick-Data-Trading-Strategy-/Train_Test_Data/ML_data_2014_1_1.csv', index = False)"
   ]
  },
  {
   "cell_type": "code",
   "execution_count": 95,
   "metadata": {
    "collapsed": true
   },
   "outputs": [],
   "source": [
    "data_1_3.to_csv('/home/bigdatas16/SGX-OrderBook-Tick-Data-Trading-Strategy-/Train_Test_Data/ML_data_2014_1_2.csv', index = False)"
   ]
  },
  {
   "cell_type": "code",
   "execution_count": 96,
   "metadata": {
    "collapsed": false,
    "scrolled": true
   },
   "outputs": [],
   "source": [
    "data_1_6.to_csv('/home/bigdatas16/SGX-OrderBook-Tick-Data-Trading-Strategy-/Train_Test_Data/ML_data_2014_1_3.csv', index = False)"
   ]
  },
  {
   "cell_type": "code",
   "execution_count": 97,
   "metadata": {
    "collapsed": true
   },
   "outputs": [],
   "source": [
    "data_1_7.to_csv('/home/bigdatas16/SGX-OrderBook-Tick-Data-Trading-Strategy-/Train_Test_Data/ML_data_2014_1_4.csv', index = False)"
   ]
  },
  {
   "cell_type": "code",
   "execution_count": 98,
   "metadata": {
    "collapsed": false,
    "scrolled": true
   },
   "outputs": [],
   "source": [
    "data_1_8.to_csv('/home/bigdatas16/SGX-OrderBook-Tick-Data-Trading-Strategy-/Train_Test_Data/ML_data_2014_1_5.csv', index = False)"
   ]
  },
  {
   "cell_type": "code",
   "execution_count": 100,
   "metadata": {
    "collapsed": true
   },
   "outputs": [],
   "source": [
    "data_1_10.to_csv('/home/bigdatas16/SGX-OrderBook-Tick-Data-Trading-Strategy-/Train_Test_Data/ML_data_2014_1_6.csv', index = False)"
   ]
  },
  {
   "cell_type": "code",
   "execution_count": 101,
   "metadata": {
    "collapsed": false,
    "scrolled": true
   },
   "outputs": [],
   "source": [
    "data_1_13.to_csv('/home/bigdatas16/SGX-OrderBook-Tick-Data-Trading-Strategy-/Train_Test_Data/ML_data_2014_1_7.csv', index = False)"
   ]
  },
  {
   "cell_type": "code",
   "execution_count": 102,
   "metadata": {
    "collapsed": true
   },
   "outputs": [],
   "source": [
    "data_1_14.to_csv('/home/bigdatas16/SGX-OrderBook-Tick-Data-Trading-Strategy-/Train_Test_Data/ML_data_2014_1_8.csv', index = False)"
   ]
  },
  {
   "cell_type": "code",
   "execution_count": 103,
   "metadata": {
    "collapsed": true
   },
   "outputs": [],
   "source": [
    "data_1_15.to_csv('/home/bigdatas16/SGX-OrderBook-Tick-Data-Trading-Strategy-/Train_Test_Data/ML_data_2014_1_9.csv', index = False)"
   ]
  },
  {
   "cell_type": "code",
   "execution_count": 104,
   "metadata": {
    "collapsed": true
   },
   "outputs": [],
   "source": [
    "data_1_16.to_csv('/home/bigdatas16/SGX-OrderBook-Tick-Data-Trading-Strategy-/Train_Test_Data/ML_data_2014_1_10.csv', index = False)"
   ]
  },
  {
   "cell_type": "code",
   "execution_count": 105,
   "metadata": {
    "collapsed": true
   },
   "outputs": [],
   "source": [
    "data_1_17.to_csv('/home/bigdatas16/SGX-OrderBook-Tick-Data-Trading-Strategy-/Train_Test_Data/ML_data_2014_1_11.csv', index = False)"
   ]
  },
  {
   "cell_type": "code",
   "execution_count": 106,
   "metadata": {
    "collapsed": true
   },
   "outputs": [],
   "source": [
    "data_1_20.to_csv('/home/bigdatas16/SGX-OrderBook-Tick-Data-Trading-Strategy-/Train_Test_Data/ML_data_2014_1_12.csv', index = False)"
   ]
  },
  {
   "cell_type": "code",
   "execution_count": 107,
   "metadata": {
    "collapsed": true
   },
   "outputs": [],
   "source": [
    "data_1_21.to_csv('/home/bigdatas16/SGX-OrderBook-Tick-Data-Trading-Strategy-/Train_Test_Data/ML_data_2014_1_13.csv', index = False)"
   ]
  },
  {
   "cell_type": "code",
   "execution_count": 108,
   "metadata": {
    "collapsed": false
   },
   "outputs": [],
   "source": [
    "data_1_22.to_csv('/home/bigdatas16/SGX-OrderBook-Tick-Data-Trading-Strategy-/Train_Test_Data/ML_data_2014_1_14.csv', index = False)"
   ]
  },
  {
   "cell_type": "code",
   "execution_count": 109,
   "metadata": {
    "collapsed": false
   },
   "outputs": [],
   "source": [
    "data_1_23.to_csv('/home/bigdatas16/SGX-OrderBook-Tick-Data-Trading-Strategy-/Train_Test_Data/ML_data_2014_1_15.csv', index = False)"
   ]
  },
  {
   "cell_type": "code",
   "execution_count": 110,
   "metadata": {
    "collapsed": true
   },
   "outputs": [],
   "source": [
    "data_1_24.to_csv('/home/bigdatas16/SGX-OrderBook-Tick-Data-Trading-Strategy-/Train_Test_Data/ML_data_2014_1_16.csv', index = False)"
   ]
  },
  {
   "cell_type": "code",
   "execution_count": 111,
   "metadata": {
    "collapsed": true
   },
   "outputs": [],
   "source": [
    "data_1_27.to_csv('/home/bigdatas16/SGX-OrderBook-Tick-Data-Trading-Strategy-/Train_Test_Data/ML_data_2014_1_17.csv', index = False)"
   ]
  },
  {
   "cell_type": "code",
   "execution_count": 112,
   "metadata": {
    "collapsed": true
   },
   "outputs": [],
   "source": [
    "data_1_28.to_csv('/home/bigdatas16/SGX-OrderBook-Tick-Data-Trading-Strategy-/Train_Test_Data/ML_data_2014_1_18.csv', index = False)"
   ]
  },
  {
   "cell_type": "code",
   "execution_count": 113,
   "metadata": {
    "collapsed": true
   },
   "outputs": [],
   "source": [
    "data_1_29.to_csv('/home/bigdatas16/SGX-OrderBook-Tick-Data-Trading-Strategy-/Train_Test_Data/ML_data_2014_1_19.csv', index = False)"
   ]
  },
  {
   "cell_type": "code",
   "execution_count": 114,
   "metadata": {
    "collapsed": true
   },
   "outputs": [],
   "source": [
    "data_1_30.to_csv('/home/bigdatas16/SGX-OrderBook-Tick-Data-Trading-Strategy-/Train_Test_Data/ML_data_2014_1_20.csv', index = False)"
   ]
  },
  {
   "cell_type": "code",
   "execution_count": null,
   "metadata": {
    "collapsed": true
   },
   "outputs": [],
   "source": []
  },
  {
   "cell_type": "code",
   "execution_count": null,
   "metadata": {
    "collapsed": true
   },
   "outputs": [],
   "source": []
  },
  {
   "cell_type": "code",
   "execution_count": null,
   "metadata": {
    "collapsed": true
   },
   "outputs": [],
   "source": []
  },
  {
   "cell_type": "code",
   "execution_count": null,
   "metadata": {
    "collapsed": true
   },
   "outputs": [],
   "source": []
  }
 ],
 "metadata": {
  "kernelspec": {
   "display_name": "Python 2",
   "language": "python",
   "name": "python2"
  },
  "language_info": {
   "codemirror_mode": {
    "name": "ipython",
    "version": 2
   },
   "file_extension": ".py",
   "mimetype": "text/x-python",
   "name": "python",
   "nbconvert_exporter": "python",
   "pygments_lexer": "ipython2",
   "version": "2.7.13"
  }
 },
 "nbformat": 4,
 "nbformat_minor": 0
}
