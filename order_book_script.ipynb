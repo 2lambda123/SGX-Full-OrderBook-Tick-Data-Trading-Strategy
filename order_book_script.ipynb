{
 "cells": [
  {
   "cell_type": "code",
   "execution_count": 6,
   "metadata": {
    "collapsed": false
   },
   "outputs": [],
   "source": [
    "file_name = ''"
   ]
  },
  {
   "cell_type": "code",
   "execution_count": null,
   "metadata": {
    "collapsed": true
   },
   "outputs": [],
   "source": [
    "%pylab inline\n",
    "import numpy as np\n",
    "import pandas as pd\n",
    "data = []\n",
    "\n",
    "datapath = '/home/bigdatas16/SGX-OrderBook-Tick-Data-Trading-Strategy-/' + file_name + '.csv'\n",
    "data = pd.read_csv(datapath)"
   ]
  },
  {
   "cell_type": "code",
   "execution_count": null,
   "metadata": {
    "collapsed": true
   },
   "outputs": [],
   "source": [
    "data.Series.unique()"
   ]
  },
  {
   "cell_type": "code",
   "execution_count": null,
   "metadata": {
    "collapsed": true
   },
   "outputs": [],
   "source": [
    "data[1]"
   ]
  },
  {
   "cell_type": "code",
   "execution_count": null,
   "metadata": {
    "collapsed": true
   },
   "outputs": [],
   "source": [
    "month = ''\n",
    "data_CN14 = data[data.Series == 'CN' + month + '14']\n",
    "data = data_CN14"
   ]
  },
  {
   "cell_type": "code",
   "execution_count": null,
   "metadata": {
    "collapsed": true
   },
   "outputs": [],
   "source": [
    "import time \n",
    "\n",
    "start = time.time()\n",
    "\n",
    "order_book_bid = []\n",
    "order_book_ask = []\n",
    "bid = []\n",
    "ask = []\n",
    "timestamp_ = []\n",
    "x = data.TimeStamp.unique()\n",
    "#a = range(0,len(data.TimeStamp.unique()),1000)\n",
    "\n",
    "for i in range(0,len(x),1):\n",
    "    timestamp_.append(x[i])\n",
    "    y = data[data['TimeStamp'].str.contains(x[i])]\n",
    "    bid.append(y[(y.BidOrAsk == 'B')][[\"Price\",\"QuantityDifference\"]]) # bid\n",
    "    ask.append(y[(y.BidOrAsk == 'A')][[\"Price\",\"QuantityDifference\"]]) # ask\n",
    "    if i == 0:\n",
    "        a = bid[i].groupby(by=['Price'],as_index = False).sum().sort(['Price'],ascending = [False])\n",
    "        b = ask[i].groupby(by=['Price'],as_index = False).sum().sort(['Price'],ascending = [True])\n",
    "    elif i > 0:\n",
    "        a = pd.concat([order_book_bid[i-1],bid[i]]).groupby(by=['Price'],as_index = False).sum().sort(['Price'],ascending = [False])\n",
    "        b = pd.concat([order_book_ask[i-1],ask[i]]).groupby(by=['Price'],as_index = False).sum().sort(['Price'],ascending = [True])\n",
    "    order_book_bid.append(a[a.QuantityDifference != 0])\n",
    "    order_book_ask.append(b[b.QuantityDifference != 0])\n",
    "    \n",
    "    if i == 1000:\n",
    "        print i\n",
    "    elif i == 5000:\n",
    "        print i\n",
    "    elif i == 10000:\n",
    "        print i        \n",
    "    elif i == 20000:\n",
    "        print i\n",
    "    elif i == 30000:\n",
    "        print i\n",
    "    elif i == 40000:\n",
    "        print i\n",
    "    elif i == 50000:\n",
    "        print i\n",
    "    elif i == 60000:\n",
    "        print i\n",
    "    elif i == 70000:\n",
    "        print i\n",
    "    elif i == 80000:\n",
    "        print i\n",
    "    elif i == 90000:\n",
    "        print i\n",
    "    elif i == 100000:\n",
    "        print i\n",
    "    elif i == 110000:\n",
    "        print i\n",
    "    elif i == 120000:\n",
    "        print i        \n",
    "    elif i == 130000:\n",
    "        print i\n",
    "    elif i == 140000:\n",
    "        print i        \n",
    "        \n",
    "end = time.time()  \n",
    "print \"Total time = %f\"%(end - start)"
   ]
  },
  {
   "cell_type": "code",
   "execution_count": null,
   "metadata": {
    "collapsed": true
   },
   "outputs": [],
   "source": [
    "import time \n",
    "\n",
    "start = time.time()\n",
    "a = 0\n",
    "v = pd.DataFrame([['TimeStamp',timestamp_[a][11:29],'','']])\n",
    "c = pd.DataFrame(pd.concat([pd.DataFrame(order_book_bid[a][0:5].values),pd.DataFrame(order_book_ask[a][0:5].values)],axis = 1).values)\n",
    "order_book = pd.concat([v,c],axis = 0)\n",
    "\n",
    "for a in range(1,len(order_book_bid),1):\n",
    "    v = pd.DataFrame([['TimeStamp',timestamp_[a][11:29],'','']])\n",
    "    c = pd.DataFrame(pd.concat([pd.DataFrame(order_book_bid[a][0:5].values),pd.DataFrame(order_book_ask[a][0:5].values)],axis = 1).values)\n",
    "    b = pd.concat([v,c],axis = 0)\n",
    "    order_book = pd.concat([order_book,b])\n",
    "    \n",
    "end = time.time()  \n",
    "print \"Total time = %f\"%(end - start)"
   ]
  },
  {
   "cell_type": "code",
   "execution_count": null,
   "metadata": {
    "collapsed": true
   },
   "outputs": [],
   "source": [
    "order_book = pd.DataFrame(order_book.values)\n",
    "order_book.to_csv('CNF14_01_22_order_book.csv',sep = '\\t',encoding = 'utf-8')"
   ]
  },
  {
   "cell_type": "code",
   "execution_count": 12,
   "metadata": {
    "collapsed": false
   },
   "outputs": [
    {
     "data": {
      "text/plain": [
       "7133.333333333333"
      ]
     },
     "execution_count": 12,
     "metadata": {},
     "output_type": "execute_result"
    }
   ],
   "source": [
    "100000*240*1.07/60/60\n"
   ]
  },
  {
   "cell_type": "code",
   "execution_count": null,
   "metadata": {
    "collapsed": true
   },
   "outputs": [],
   "source": []
  },
  {
   "cell_type": "code",
   "execution_count": null,
   "metadata": {
    "collapsed": true
   },
   "outputs": [],
   "source": []
  }
 ],
 "metadata": {
  "kernelspec": {
   "display_name": "Python 2",
   "language": "python",
   "name": "python2"
  },
  "language_info": {
   "codemirror_mode": {
    "name": "ipython",
    "version": 2
   },
   "file_extension": ".py",
   "mimetype": "text/x-python",
   "name": "python",
   "nbconvert_exporter": "python",
   "pygments_lexer": "ipython2",
   "version": "2.7.11"
  }
 },
 "nbformat": 4,
 "nbformat_minor": 0
}
