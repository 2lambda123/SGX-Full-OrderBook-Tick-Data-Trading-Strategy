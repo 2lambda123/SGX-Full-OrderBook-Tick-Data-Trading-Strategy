{
 "cells": [
  {
   "cell_type": "code",
   "execution_count": 1,
   "metadata": {
    "collapsed": false
   },
   "outputs": [
    {
     "name": "stdout",
     "output_type": "stream",
     "text": [
      "Populating the interactive namespace from numpy and matplotlib\n"
     ]
    }
   ],
   "source": [
    "%pylab inline\n",
    "import numpy as np\n",
    "import pandas as pd\n",
    "import matplotlib.pyplot as plt"
   ]
  },
  {
   "cell_type": "code",
   "execution_count": 2,
   "metadata": {
    "collapsed": true
   },
   "outputs": [],
   "source": [
    "def order_book(month,day):\n",
    "    data1 = []\n",
    "    datapath = '/home/bigdatas16/SGX-OrderBook-Tick-Data-Trading-Strategy-/stat_order_book/CNF14_0'+str(month)+'_'+str(day)+'_order_book_final.csv'\n",
    "    data1 = pd.read_csv(datapath,sep='\\t',encoding = 'utf-8')\n",
    "    data_book = data1[['0','1','2','3']]\n",
    "    return data_book"
   ]
  },
  {
   "cell_type": "code",
   "execution_count": 3,
   "metadata": {
    "collapsed": true
   },
   "outputs": [],
   "source": [
    "def day_time(month,day):\n",
    "    data = []\n",
    "    datapath = '/home/bigdatas16/SGX-OrderBook-Tick-Data-Trading-Strategy-/CN_Futures_2014.0'+str(month)+'.'+str(day)+'.csv'\n",
    "    data = pd.read_csv(datapath)\n",
    "    data_CNF14 = data[data.Series == 'CNF14']\n",
    "    data = data_CNF14\n",
    "    market_open_time = data[data['TimeStamp'].str.contains('2014-0'+str(month)+'-'+str(day)+'D09:00')].index.tolist()[0] \n",
    "    market_close_time = data[data['TimeStamp'].str.contains('2014-0'+str(month)+'-'+str(day)+'D16:00')].index.tolist()[0] \n",
    "    data_open = data[market_open_time:market_close_time+1]\n",
    "    timestamp_ = data_open.TimeStamp.unique()\n",
    "    return timestamp_"
   ]
  },
  {
   "cell_type": "code",
   "execution_count": 4,
   "metadata": {
    "collapsed": true
   },
   "outputs": [],
   "source": [
    "def time_transform(timestamp_time):\n",
    "    time_second = []\n",
    "    for i in range(0,len(timestamp_time),1):\n",
    "        second = float(timestamp_time[i][11])*36000 + float(timestamp_time[i][12])*3600 \\\n",
    "                +float(timestamp_time[i][14])*600 + float(timestamp_time[i][15])*60\\\n",
    "                +float(timestamp_time[i][17])*10 + float(timestamp_time[i][18])  \n",
    "        time_second.append(second - 32400.0)\n",
    "    return  time_second"
   ]
  },
  {
   "cell_type": "code",
   "execution_count": 5,
   "metadata": {
    "collapsed": true
   },
   "outputs": [],
   "source": [
    "def bid123_ask123_Q(data_book_28_open):\n",
    "    Bid1 = []\n",
    "    Bid2 = []\n",
    "    Bid3 = []\n",
    "    Bid1_Quantity = []\n",
    "    Bid2_Quantity = []\n",
    "    Bid3_Quantity = []\n",
    "    Ask1 = []\n",
    "    Ask2 = []\n",
    "    Ask3 = []\n",
    "    Ask1_Quantity = []\n",
    "    Ask2_Quantity = []\n",
    "    Ask3_Quantity = []\n",
    "\n",
    "    TimeStamp = []\n",
    "    for i in range(1,len(data_book_28_open),4):\n",
    "        #print data_book_28_open.iloc[i]['0']\n",
    "        #print data_book_28_open.iloc[i]['2']\n",
    "        Bid1.append(float(data_book_28_open.iloc[i]['0'])/100.0)\n",
    "        Bid1_Quantity.append(float(data_book_28_open.iloc[i]['1']))\n",
    "\n",
    "        Bid2.append(float(data_book_28_open.iloc[i + 1]['0'])/100.0)\n",
    "        Bid2_Quantity.append(float(data_book_28_open.iloc[i + 1]['1']))  \n",
    "\n",
    "        Bid3.append(float(data_book_28_open.iloc[i + 2]['0'])/100.0)\n",
    "        Bid3_Quantity.append(float(data_book_28_open.iloc[i + 2]['1']))  \n",
    "\n",
    "        Ask1.append(float(data_book_28_open.iloc[i]['2'])/100.0) \n",
    "        Ask1_Quantity.append(float(data_book_28_open.iloc[i]['3']))\n",
    "\n",
    "        Ask2.append(float(data_book_28_open.iloc[i + 1]['2'])/100.0) \n",
    "        Ask2_Quantity.append(float(data_book_28_open.iloc[i + 1]['3']))    \n",
    "\n",
    "        Ask3.append(float(data_book_28_open.iloc[i + 2]['2'])/100.0) \n",
    "        Ask3_Quantity.append(float(data_book_28_open.iloc[i + 2]['3']))    \n",
    "        TimeStamp.append(data_book_28_open.iloc[i-1][1])\n",
    "    return Bid1,Bid1_Quantity,Bid2,Bid2_Quantity,Bid3,Bid3_Quantity,Ask1,Ask1_Quantity,Ask2,Ask2_Quantity,Ask3,Ask3_Quantity,    "
   ]
  },
  {
   "cell_type": "code",
   "execution_count": 6,
   "metadata": {
    "collapsed": true
   },
   "outputs": [],
   "source": [
    "def rise_bid(Bid1,timestamp_time_second):\n",
    "    rise_ratio = []\n",
    "    index = np.where(np.array(timestamp_time_second) >= 600)[0][0]\n",
    "    for i in range(0,index):\n",
    "        rise_ratio_ = round((Bid1[i] - Bid1[0])*(1.0)/Bid1[0]*100,5)\n",
    "        rise_ratio.append(rise_ratio_)\n",
    "    for i in range(index,len(Bid1),1):\n",
    "        index_start = np.where(np.array(timestamp_time_second[:i]) >= timestamp_time_second[i] - 600)[0][0]\n",
    "        rise_ratio_ = round((Bid1[i] - Bid1[index_start])*(1.0)/Bid1[index_start]*100,5)\n",
    "        rise_ratio.append(rise_ratio_)\n",
    "    return rise_ratio"
   ]
  },
  {
   "cell_type": "code",
   "execution_count": 7,
   "metadata": {
    "collapsed": true
   },
   "outputs": [],
   "source": [
    "def rise_cal(i,rise_ratio_bid,timestamp_time_second,Bid,Ask,index,index_15_min,close_price,\\\n",
    "             N_1,N_2,N_3,N_4,N_5,N_1_T,N_2_T,N_3_T,N_4_T,N_5_T,\\\n",
    "             N_1_E,N_2_E,N_3_E,N_4_E,N_5_E,N_1_M,N_2_M,N_3_M,N_4_M,N_5_M,\\\n",
    "             N_1_TI,N_2_TI,N_3_TI,N_4_TI,N_5_TI):\n",
    "    \n",
    "    if rise_ratio_bid[index] <= -0.4:\n",
    "        N_1 = N_1 + 1\n",
    "        #print rise_ratio_ask[index]\n",
    "        #Ask1[i] < max_Bid1_time_series[i+1]\n",
    "        if Ask[index] < max(Bid[(index+1):index + index_15_min + 1]):\n",
    "            N_1_T = N_1_T + 1\n",
    "            N_1_E = N_1_E + (Ask[index] - Bid[index])*(1.0)/(5.0)\n",
    "            #print N_1_E\n",
    "            first_max_index = np.where(np.array(Bid[(index + 1):index + 1 + index_15_min + 1 ]) > Ask[index])[0][0]\n",
    "            N_1_M = N_1_M + (Ask[index] - min(Bid[(index + 1):(index + 1 + first_max_index + 1)]))*(1.0)/(5.0) \n",
    "            \n",
    "            time_start = timestamp_time_second[index]\n",
    "            time_traded = timestamp_time_second[index + first_max_index + 1]\n",
    "            N_1_TI = N_1_TI + (time_traded - time_start)\n",
    "            #print N_1_TI\n",
    "            pass\n",
    "        elif Ask[index] >= max(Bid[(index+1):index + index_15_min + 1]):\n",
    "            if i < 25200 - 900:\n",
    "                N_1_E = N_1_E + (Bid[index + index_15_min] - Bid[index])*(1.0)/(5.0)\n",
    "                N_1_M = N_1_M + (Ask[index] - min(Bid[(index+1):(index + 1 + index_15_min + 1 )]))*(1.0)/(5.0) \n",
    "                #print N_1_M\n",
    "                N_1_TI = N_1_TI + (900.0)\n",
    "                #print N_1_TI\n",
    "            elif i > 25200 - 900:\n",
    "                N_1_E = N_1_E + (close_price - Bid[index])*(1.0)/(5.0)\n",
    "                N_1_M = N_1_M + (Ask[index] - min(Bid[(index+1):]))*(1.0)/(5.0) \n",
    "                time_start = timestamp_time_second[index]\n",
    "                time_traded = 25200              \n",
    "                N_1_TI = N_1_TI + (time_traded - time_start)\n",
    "                #print N_1_TI\n",
    "                pass\n",
    "            pass\n",
    "\n",
    "    elif -0.4 < rise_ratio_bid[index] <= -0.15:\n",
    "        N_2 = N_2 + 1\n",
    "        #print rise_ratio_ask[index]\n",
    "        if Ask[index] < max(Bid[(index+1):index + index_15_min + 1]):\n",
    "            #print 3\n",
    "            N_2_T = N_2_T + 1\n",
    "            N_2_E = N_2_E + (Ask[index] - Bid[index])*(1.0)/(5.0)\n",
    "            #print N_2_E\n",
    "            first_max_index = np.where(np.array(Bid[(index+1):index + 1 + index_15_min + 1 ]) > Ask[index])[0][0]\n",
    "            N_2_M = N_2_M + (Ask[index] - min(Bid[(index + 1):(index + 1 + first_max_index + 1)]))*(1.0)/(5.0) \n",
    "            \n",
    "            time_start = timestamp_time_second[index]\n",
    "            time_traded = timestamp_time_second[index + first_max_index + 1]\n",
    "            N_2_TI = N_2_TI + (time_traded - time_start)\n",
    "            #print N_2_TI\n",
    "            pass\n",
    "        elif Ask[index] >= max(Bid[(index+1):index + index_15_min + 1]):\n",
    "            if i < 25200 - 900:\n",
    "                N_2_E = N_2_E + (Bid[index + index_15_min] - Bid[index])*(1.0)/(5.0)\n",
    "                N_2_M = N_2_M + (Ask[index] - min(Bid[(index+1):(index + 1 + index_15_min + 1 )]))*(1.0)/(5.0) \n",
    "                N_2_TI = N_2_TI + (900.0)\n",
    "                #print N_2_TI\n",
    "            elif i >= 25200 - 900:\n",
    "                N_2_E = N_2_E + (close_price - Bid[index])*(1.0)/(5.0)\n",
    "                N_2_M = N_2_M + (Ask[index] - min(Bid[(index+1):]))*(1.0)/(5.0)\n",
    "                time_start = timestamp_time_second[index]\n",
    "                time_traded = 25200               \n",
    "                N_2_TI = N_2_TI + (time_traded - time_start)\n",
    "                #print N_2_TI\n",
    "                pass\n",
    "            pass\n",
    "\n",
    "    elif -0.15 < rise_ratio_bid[index] <= 0.15:\n",
    "        N_3 = N_3 + 1\n",
    "        #print rise_ratio_ask[index]\n",
    "        if Ask[index] < max(Bid[(index+1):index + index_15_min + 1]):\n",
    "            #print 5\n",
    "            N_3_T = N_3_T + 1\n",
    "            N_3_E = N_3_E + (Ask[index] - Bid[index])*(1.0)/(5.0)\n",
    "            #print N_3_E\n",
    "            first_max_index = np.where(np.array(Bid[(index + 1):index + 1 + index_15_min + 1]) > Ask[index])[0][0]\n",
    "            N_3_M = N_3_M + (Ask[index] - min(Bid[(index + 1):(index + 1 + first_max_index + 1)]))*(1.0)/(5.0) \n",
    "            time_start = timestamp_time_second[index]\n",
    "            time_traded = timestamp_time_second[index + first_max_index + 1]\n",
    "            N_3_TI = N_3_TI + (time_traded - time_start)\n",
    "            #print N_3_TI\n",
    "            pass\n",
    "        elif Ask[index] >= max(Bid[(index+1):index + index_15_min + 1]):\n",
    "            if i < 25200 - 900:\n",
    "                N_3_E = N_3_E + (Bid[index + index_15_min] - Bid[index])*(1.0)/(5.0)\n",
    "                N_3_M = N_3_M + (Ask[index] - min(Bid[(index+1):(index + 1 + index_15_min + 1 )]))*(1.0)/(5.0) \n",
    "                N_3_TI = N_3_TI + (900.0)\n",
    "                #print N_3_TI\n",
    "            elif i >= 25200 - 900:\n",
    "                N_3_E = N_3_E + (close_price - Bid[index])*(1.0)/(5.0)\n",
    "                N_3_M = N_3_M + (Ask[index] - min(Bid[(index+1):]))*(1.0)/(5.0)\n",
    "                time_start = timestamp_time_second[index]\n",
    "                time_traded = 25200              \n",
    "                N_3_TI = N_3_TI + (time_traded - time_start)\n",
    "                #print N_3_TI\n",
    "                pass\n",
    "            pass\n",
    "\n",
    "    elif 0.15 < rise_ratio_bid[index] < 0.4:\n",
    "        N_4 = N_4 + 1\n",
    "        #print rise_ratio_ask[index]\n",
    "        if Ask[index] < max(Bid[(index+1):index + index_15_min + 1]):\n",
    "            #print 7\n",
    "            N_4_T = N_4_T + 1\n",
    "            N_4_E = N_4_E + (Ask[index] - Bid[index])*(1.0)/(5.0)\n",
    "            #print N_4_E\n",
    "            first_max_index = np.where(np.array(Bid[(index+1):index + 1 + index_15_min + 1 ]) > Ask[index])[0][0]\n",
    "            N_4_M = N_4_M + (Ask[index] - min(Bid[(index + 1):(index + 1 + first_max_index + 1)]))*(1.0)/(5.0) \n",
    "            time_start = timestamp_time_second[index]\n",
    "            time_traded = timestamp_time_second[index + first_max_index + 1]\n",
    "            N_4_TI = N_4_TI + (time_traded - time_start)\n",
    "            #print N_4_TI\n",
    "            pass\n",
    "        else:\n",
    "            if i < 25200 - 900:\n",
    "                N_4_E = N_4_E + (Bid[index + index_15_min] - Bid[index])*(1.0)/(5.0)\n",
    "                N_4_M = N_4_M + (Ask[index] - min(Bid[(index+1):(index + 1 + index_15_min + 1 )]))*(1.0)/(5.0) \n",
    "                N_4_TI = N_4_TI + (900.0)\n",
    "                #print N_4_TI\n",
    "            elif i >= 25200 - 900:\n",
    "                N_4_E = N_4_E + (close_price - Bid[index])*(1.0)/(5.0)\n",
    "                N_4_M = N_4_M + (Ask[index] - min(Bid[(index+1):]))*(1.0)/(5.0)\n",
    "                time_start = timestamp_time_second[index]\n",
    "                time_traded = 25200              \n",
    "                N_4_TI = N_4_TI + (time_traded - time_start)\n",
    "                #print N_4_TI\n",
    "                pass\n",
    "            pass\n",
    "    elif 0.4 <= rise_ratio_bid[index]:\n",
    "        N_5 = N_5 + 1\n",
    "        #print rise_ratio_ask[index]\n",
    "        if Ask[index] < max(Bid[(index+1):index + index_15_min + 1]):\n",
    "            N_5_T = N_5_T + 1\n",
    "            N_5_E = N_5_E + (Ask[index] - Bid[index])*(1.0)/(5.0)\n",
    "            #print N_5_E      \n",
    "            first_max_index = np.where(np.array(Bid[(index+1):index + 1 + index_15_min + 1 ]) > Ask[index])[0][0]\n",
    "            N_5_M = N_5_M + (Ask[index] - min(Bid[(index + 1):(index + 1 + first_max_index + 1)]))*(1.0)/(5.0) \n",
    "            \n",
    "            time_start = timestamp_time_second[index]\n",
    "            time_traded = timestamp_time_second[index + first_max_index + 1]\n",
    "            N_5_TI = N_5_TI + (time_traded - time_start)\n",
    "            #print N_5_TI\n",
    "            pass\n",
    "        elif Ask[index] >= max(Bid[(index+1):index + index_15_min + 1]):\n",
    "            if i < 25200 - 900:\n",
    "                N_5_E = N_5_E + (Bid[index + index_15_min] - Bid[index])*(1.0)/(5.0)\n",
    "                N_5_M = N_5_M + (Ask[index] - min(Bid[(index+1):(index + 1 + index_15_min + 1)]))*(1.0)/(5.0) \n",
    "                N_1_TI = N_1_TI + (900.0)\n",
    "                #print N_5_TI\n",
    "            elif i >= 25200 - 900:\n",
    "                N_5_E = N_5_E + (close_price - Bid[index])*(1.0)/(5.0)\n",
    "                N_5_M = N_5_M + (Ask[index] - min(Bid[(index+1):]))*(1.0)/(5.0)\n",
    "                time_start = timestamp_time_second[index]\n",
    "                time_traded = 25200             \n",
    "                N_5_TI = N_5_TI + (time_traded - time_start)\n",
    "                #print N_5_TI \n",
    "                pass\n",
    "            pass\n",
    "        \n",
    "    return N_1,N_2,N_3,N_4,N_5,N_1_T,N_2_T,N_3_T,N_4_T,N_5_T,N_1_E,N_2_E,N_3_E,N_4_E,N_5_E,N_1_M,N_2_M,N_3_M,N_4_M,N_5_M,\\\n",
    "           N_1_TI,N_2_TI,N_3_TI,N_4_TI,N_5_TI"
   ]
  },
  {
   "cell_type": "code",
   "execution_count": 8,
   "metadata": {
    "collapsed": true
   },
   "outputs": [],
   "source": [
    "def ask(time1,time2,Bid,Ask,close_price,timestamp_time_second,Bid1_Quantity,Bid2_Quantity,Bid3_Quantity,\\\n",
    "        Ask1_Quantity,Ask2_Quantity,Ask3_Quantity,weigth1,weigth2,weigth3):\n",
    "    [N_11,N_12,N_13,N_14,N_15,N_11_T,N_12_T,N_13_T,N_14_T,N_15_T,N_11_E,N_12_E,N_13_E,N_14_E,N_15_E,\\\n",
    "     N_11_M,N_12_M,N_13_M,N_14_M,N_15_M,N_11_TI,N_12_TI,N_13_TI,N_14_TI,N_15_TI] = [0 for i in  range(0,25,1)]\n",
    "    [N_21,N_22,N_23,N_24,N_25,N_21_T,N_22_T,N_23_T,N_24_T,N_25_T,N_21_E,N_22_E,N_23_E,N_24_E,N_25_E,\\\n",
    "     N_21_M,N_22_M,N_23_M,N_24_M,N_25_M,N_21_TI,N_22_TI,N_23_TI,N_24_TI,N_25_TI] = [0 for i in  range(0,25,1)]\n",
    "    [N_31,N_32,N_33,N_34,N_35,N_31_T,N_32_T,N_33_T,N_34_T,N_35_T,N_31_E,N_32_E,N_33_E,N_34_E,N_35_E,\\\n",
    "     N_31_M,N_32_M,N_33_M,N_34_M,N_35_M,N_31_TI,N_32_TI,N_33_TI,N_34_TI,N_35_TI] = [0 for i in  range(0,25,1)]\n",
    "    [N_41,N_42,N_43,N_44,N_45,N_41_T,N_42_T,N_43_T,N_44_T,N_45_T,N_41_E,N_42_E,N_43_E,N_44_E,N_45_E,\\\n",
    "     N_41_M,N_42_M,N_43_M,N_44_M,N_45_M,N_41_TI,N_42_TI,N_43_TI,N_44_TI,N_45_TI] = [0 for i in  range(0,25,1)]\n",
    "    [N_51,N_52,N_53,N_54,N_55,N_51_T,N_52_T,N_53_T,N_54_T,N_55_T,N_51_E,N_52_E,N_53_E,N_54_E,N_55_E,\\\n",
    "     N_51_M,N_52_M,N_53_M,N_54_M,N_55_M,N_51_TI,N_52_TI,N_53_TI,N_54_TI,N_55_TI] = [0 for i in  range(0,25,1)]\n",
    "\n",
    "    for i in range(time1,time2,1):\n",
    "        index = np.where(array(timestamp_time_second) <= i)[0][-1]\n",
    "        if i < 25200 - 900:\n",
    "            index_15_min = np.where(np.array(timestamp_time_second[index:]) >= i + 900)[0][0]\n",
    "\n",
    "        weighted_Bid = Bid1_Quantity[index] * weight1 + Bid2_Quantity[index] * weight2 + Bid3_Quantity[index] * weight3\n",
    "        weighted_Ask = Ask1_Quantity[index] * weight1 + Ask2_Quantity[index] * weight2 + Ask3_Quantity[index] * weight3  \n",
    "        if (weighted_Bid*(1.0) / weighted_Ask) <= 0.7:\n",
    "            N_11,N_12,N_13,N_14,N_15,N_11_T,N_12_T,N_13_T,N_14_T,N_15_T,N_11_E,N_12_E,N_13_E,N_14_E,N_15_E,\\\n",
    "            N_11_M,N_12_M,N_13_M,N_14_M,N_15_M,N_11_TI,N_12_TI,N_13_TI,N_14_TI,N_15_TI = rise_cal(i,rise_ratio_bid,timestamp_time_second,Bid,Ask,index,index_15_min,\\\n",
    "                                                          close_price,N_11,N_12,N_13,N_14,N_15,N_11_T,N_12_T,N_13_T,N_14_T,N_15_T,\\\n",
    "                                                          N_11_E,N_12_E,N_13_E,N_14_E,N_15_E,N_11_M,N_12_M,N_13_M,N_14_M,N_15_M,\\\n",
    "                                                          N_11_TI,N_12_TI,N_13_TI,N_14_TI,N_15_TI)                                               \n",
    "        elif 0.7 < (weighted_Bid*(1.0) / weighted_Ask) <= 0.9:\n",
    "            N_21,N_22,N_23,N_24,N_25,N_21_T,N_22_T,N_23_T,N_24_T,N_25_T,N_21_E,N_22_E,N_23_E,N_24_E,N_25_E,\\\n",
    "            N_21_M,N_22_M,N_23_M,N_24_M,N_25_M,N_21_TI,N_22_TI,N_23_TI,N_24_TI,N_25_TI = rise_cal(i,rise_ratio_bid,timestamp_time_second,Bid,Ask,index,index_15_min,\\\n",
    "                                                          close_price,N_21,N_22,N_23,N_24,N_25,N_21_T,N_22_T,N_23_T,N_24_T,N_25_T,\\\n",
    "                                                          N_21_E,N_22_E,N_23_E,N_24_E,N_25_E,N_21_M,N_22_M,N_23_M,N_24_M,N_25_M,\\\n",
    "                                                          N_21_TI,N_22_TI,N_23_TI,N_24_TI,N_25_TI)                                                \n",
    "        elif 0.9 < (weighted_Bid*(1.0) / weighted_Ask) <= 1.1:\n",
    "            N_31,N_32,N_33,N_34,N_35,N_31_T,N_32_T,N_33_T,N_34_T,N_35_T,N_31_E,N_32_E,N_33_E,N_34_E,N_35_E,\\\n",
    "            N_31_M,N_32_M,N_33_M,N_34_M,N_35_M,N_31_TI,N_32_TI,N_33_TI,N_34_TI,N_35_TI = rise_cal(i,rise_ratio_bid,timestamp_time_second,Bid,Ask,index,index_15_min,\\\n",
    "                                                          close_price,N_31,N_32,N_33,N_34,N_35,N_31_T,N_32_T,N_33_T,N_34_T,N_35_T,\\\n",
    "                                                          N_31_E,N_32_E,N_33_E,N_34_E,N_35_E,N_31_M,N_32_M,N_33_M,N_34_M,N_35_M,\\\n",
    "                                                          N_31_TI,N_32_TI,N_33_TI,N_34_TI,N_35_TI)                                    \n",
    "        elif 1.1 < (weighted_Bid*(1.0) / weighted_Ask) <= 1.3:\n",
    "            N_41,N_42,N_43,N_44,N_45,N_41_T,N_42_T,N_43_T,N_44_T,N_45_T,N_41_E,N_42_E,N_43_E,N_44_E,N_45_E,\\\n",
    "            N_41_M,N_42_M,N_43_M,N_44_M,N_45_M,N_41_TI,N_42_TI,N_43_TI,N_44_TI,N_45_TI = rise_cal(i,rise_ratio_bid,timestamp_time_second,Bid,Ask,index,index_15_min,\\\n",
    "                                                          close_price,N_41,N_42,N_43,N_44,N_45,N_41_T,N_42_T,N_43_T,N_44_T,N_45_T,\\\n",
    "                                                          N_41_E,N_42_E,N_43_E,N_44_E,N_45_E,N_41_M,N_42_M,N_43_M,N_44_M,N_45_M,\\\n",
    "                                                          N_41_TI,N_42_TI,N_43_TI,N_44_TI,N_45_TI)                              \n",
    "        elif 1.30 < (weighted_Bid*(1.0) / weighted_Ask):\n",
    "            N_51,N_52,N_53,N_54,N_55,N_51_T,N_52_T,N_53_T,N_54_T,N_55_T,N_51_E,N_52_E,N_53_E,N_54_E,N_55_E,\\\n",
    "            N_51_M,N_52_M,N_53_M,N_54_M,N_55_M,N_51_TI,N_52_TI,N_53_TI,N_54_TI,N_55_TI = rise_cal(i,rise_ratio_bid,timestamp_time_second,Bid,Ask,index,index_15_min,\\\n",
    "                                                          close_price,N_51,N_52,N_53,N_54,N_55,N_51_T,N_52_T,N_53_T,N_54_T,N_55_T,\\\n",
    "                                                          N_51_E,N_52_E,N_53_E,N_54_E,N_55_E,N_51_M,N_52_M,N_53_M,N_54_M,N_55_M,\\\n",
    "                                                          N_51_TI,N_52_TI,N_53_TI,N_54_TI,N_55_TI)                 \n",
    "    return [[N_11,N_12,N_13,N_14,N_15],[N_11_T,N_12_T,N_13_T,N_14_T,N_15_T],[N_11_E,N_12_E,N_13_E,N_14_E,N_15_E],\\\n",
    "             [N_11_M,N_12_M,N_13_M,N_14_M,N_15_M],[N_11_TI,N_12_TI,N_13_TI,N_14_TI,N_15_TI],\\\n",
    "            [N_21,N_22,N_23,N_24,N_25],[N_21_T,N_22_T,N_23_T,N_24_T,N_25_T],[N_21_E,N_22_E,N_23_E,N_24_E,N_25_E],\\\n",
    "             [N_21_M,N_22_M,N_23_M,N_24_M,N_25_M],[N_21_TI,N_22_TI,N_23_TI,N_24_TI,N_25_TI],\\\n",
    "            [N_31,N_32,N_33,N_34,N_35],[N_31_T,N_32_T,N_33_T,N_34_T,N_35_T],[N_31_E,N_32_E,N_33_E,N_34_E,N_35_E],\\\n",
    "             [N_31_M,N_32_M,N_33_M,N_34_M,N_35_M],[N_31_TI,N_32_TI,N_33_TI,N_34_TI,N_35_TI],\\\n",
    "            [N_41,N_42,N_43,N_44,N_45],[N_41_T,N_42_T,N_43_T,N_44_T,N_45_T],[N_41_E,N_42_E,N_43_E,N_44_E,N_45_E],\\\n",
    "             [N_41_M,N_42_M,N_43_M,N_44_M,N_45_M],[N_41_TI,N_42_TI,N_43_TI,N_44_TI,N_45_TI],\\\n",
    "            [N_51,N_52,N_53,N_54,N_55],[N_51_T,N_52_T,N_53_T,N_54_T,N_55_T],[N_51_E,N_52_E,N_53_E,N_54_E,N_55_E],\\\n",
    "             [N_51_M,N_52_M,N_53_M,N_54_M,N_55_M],[N_51_TI,N_52_TI,N_53_TI,N_54_TI,N_55_TI]] \n",
    "\n",
    "\n"
   ]
  },
  {
   "cell_type": "code",
   "execution_count": null,
   "metadata": {
    "collapsed": true
   },
   "outputs": [],
   "source": []
  },
  {
   "cell_type": "markdown",
   "metadata": {},
   "source": [
    "### Day 1/15"
   ]
  },
  {
   "cell_type": "code",
   "execution_count": 9,
   "metadata": {
    "collapsed": true
   },
   "outputs": [],
   "source": [
    "data_book = order_book(1,15)\n",
    "data_book_open = data_book[1108:275559+1]\n",
    "data_book_open = data_book_open.reset_index(drop = True)\n",
    "timestamp_time = day_time(1,15)\n",
    "timestamp_time_second = time_transform(timestamp_time)"
   ]
  },
  {
   "cell_type": "code",
   "execution_count": 10,
   "metadata": {
    "collapsed": false
   },
   "outputs": [
    {
     "name": "stdout",
     "output_type": "stream",
     "text": [
      "Total time = 104.846992\n"
     ]
    }
   ],
   "source": [
    "import time \n",
    "start = time.time()\n",
    "Bid1,Bid1_Quantity,Bid2,Bid2_Quantity,Bid3,Bid3_Quantity,Ask1,Ask1_Quantity,Ask2,Ask2_Quantity,Ask3,Ask3_Quantity = bid123_ask123_Q(data_book_open)\n",
    "end = time.time()  \n",
    "print \"Total time = %f\"%(end - start)"
   ]
  },
  {
   "cell_type": "code",
   "execution_count": 11,
   "metadata": {
    "collapsed": false
   },
   "outputs": [
    {
     "name": "stdout",
     "output_type": "stream",
     "text": [
      "Total time = 74.060694\n"
     ]
    }
   ],
   "source": [
    "import time \n",
    "start = time.time()\n",
    "rise_ratio_bid = rise_bid(Bid1,timestamp_time_second)\n",
    "end = time.time()  \n",
    "print \"Total time = %f\"%(end - start) "
   ]
  },
  {
   "cell_type": "code",
   "execution_count": 12,
   "metadata": {
    "collapsed": false
   },
   "outputs": [],
   "source": [
    "close_price = 6740\n",
    "weight1 = 0.50\n",
    "weight2 = 0.30\n",
    "weight3 = 0.20"
   ]
  },
  {
   "cell_type": "code",
   "execution_count": 13,
   "metadata": {
    "collapsed": true
   },
   "outputs": [],
   "source": [
    "time1 = 0\n",
    "time2 = 600\n",
    "mat28_1_15 = ask(time1,time2,Bid1,Ask1,close_price,timestamp_time_second,Bid1_Quantity,Bid2_Quantity,Bid3_Quantity,Ask1_Quantity,Ask2_Quantity,Ask3_Quantity,weight1,weight2,weight3)\n",
    "mat28_2_15 = ask(time1,time2,Bid1,Ask2,close_price,timestamp_time_second,Bid1_Quantity,Bid2_Quantity,Bid3_Quantity,Ask1_Quantity,Ask2_Quantity,Ask3_Quantity,weight1,weight2,weight3)\n",
    "mat28_3_15 = ask(time1,time2,Bid1,Ask3,close_price,timestamp_time_second,Bid1_Quantity,Bid2_Quantity,Bid3_Quantity,Ask1_Quantity,Ask2_Quantity,Ask3_Quantity,weight1,weight2,weight3)"
   ]
  },
  {
   "cell_type": "code",
   "execution_count": 20,
   "metadata": {
    "collapsed": false,
    "scrolled": true
   },
   "outputs": [],
   "source": [
    "#mat28_3_15 "
   ]
  },
  {
   "cell_type": "code",
   "execution_count": 14,
   "metadata": {
    "collapsed": false
   },
   "outputs": [],
   "source": [
    "time1 = 600\n",
    "time2 = 7200\n",
    "mat28_1_11 = ask(time1,time2,Bid1,Ask1,close_price,timestamp_time_second,Bid1_Quantity,Bid2_Quantity,Bid3_Quantity,Ask1_Quantity,Ask2_Quantity,Ask3_Quantity,weight1,weight2,weight3)\n",
    "mat28_2_11 = ask(time1,time2,Bid1,Ask2,close_price,timestamp_time_second,Bid1_Quantity,Bid2_Quantity,Bid3_Quantity,Ask1_Quantity,Ask2_Quantity,Ask3_Quantity,weight1,weight2,weight3)\n",
    "mat28_3_11 = ask(time1,time2,Bid1,Ask3,close_price,timestamp_time_second,Bid1_Quantity,Bid2_Quantity,Bid3_Quantity,Ask1_Quantity,Ask2_Quantity,Ask3_Quantity,weight1,weight2,weight3)"
   ]
  },
  {
   "cell_type": "code",
   "execution_count": 15,
   "metadata": {
    "collapsed": false,
    "scrolled": true
   },
   "outputs": [],
   "source": [
    "#mat28_3_11"
   ]
  },
  {
   "cell_type": "code",
   "execution_count": 15,
   "metadata": {
    "collapsed": true
   },
   "outputs": [],
   "source": [
    "time1 = 7200\n",
    "time2 = 14400\n",
    "mat28_1_13 = ask(time1,time2,Bid1,Ask1,close_price,timestamp_time_second,Bid1_Quantity,Bid2_Quantity,Bid3_Quantity,Ask1_Quantity,Ask2_Quantity,Ask3_Quantity,weight1,weight2,weight3)\n",
    "mat28_2_13 = ask(time1,time2,Bid1,Ask2,close_price,timestamp_time_second,Bid1_Quantity,Bid2_Quantity,Bid3_Quantity,Ask1_Quantity,Ask2_Quantity,Ask3_Quantity,weight1,weight2,weight3)\n",
    "mat28_3_13 = ask(time1,time2,Bid1,Ask3,close_price,timestamp_time_second,Bid1_Quantity,Bid2_Quantity,Bid3_Quantity,Ask1_Quantity,Ask2_Quantity,Ask3_Quantity,weight1,weight2,weight3)"
   ]
  },
  {
   "cell_type": "code",
   "execution_count": 16,
   "metadata": {
    "collapsed": true
   },
   "outputs": [],
   "source": [
    "time1 = 14400\n",
    "time2 = 25200\n",
    "mat28_1_16 = ask(time1,time2,Bid1,Ask1,close_price,timestamp_time_second,Bid1_Quantity,Bid2_Quantity,Bid3_Quantity,Ask1_Quantity,Ask2_Quantity,Ask3_Quantity,weight1,weight2,weight3)\n",
    "mat28_2_16 = ask(time1,time2,Bid1,Ask2,close_price,timestamp_time_second,Bid1_Quantity,Bid2_Quantity,Bid3_Quantity,Ask1_Quantity,Ask2_Quantity,Ask3_Quantity,weight1,weight2,weight3)\n",
    "mat28_3_16 = ask(time1,time2,Bid1,Ask3,close_price,timestamp_time_second,Bid1_Quantity,Bid2_Quantity,Bid3_Quantity,Ask1_Quantity,Ask2_Quantity,Ask3_Quantity,weight1,weight2,weight3)"
   ]
  },
  {
   "cell_type": "code",
   "execution_count": 69,
   "metadata": {
    "collapsed": false,
    "scrolled": true
   },
   "outputs": [],
   "source": [
    "#mat28_3_16"
   ]
  },
  {
   "cell_type": "code",
   "execution_count": null,
   "metadata": {
    "collapsed": true
   },
   "outputs": [],
   "source": []
  },
  {
   "cell_type": "markdown",
   "metadata": {},
   "source": [
    "### Day 1/14"
   ]
  },
  {
   "cell_type": "code",
   "execution_count": 17,
   "metadata": {
    "collapsed": true
   },
   "outputs": [],
   "source": [
    "data_book = order_book(1,14)\n",
    "data_book_open = data_book[880:336307+1] # 9:00 ~ 16:00\n",
    "data_book_open = data_book_open.reset_index(drop = True)\n",
    "timestamp_time = day_time(1,14)\n",
    "timestamp_time_second = time_transform(timestamp_time)"
   ]
  },
  {
   "cell_type": "code",
   "execution_count": 18,
   "metadata": {
    "collapsed": false
   },
   "outputs": [
    {
     "name": "stdout",
     "output_type": "stream",
     "text": [
      "Total time = 167.486132\n"
     ]
    }
   ],
   "source": [
    "import time \n",
    "start = time.time()\n",
    "Bid1,Bid1_Quantity,Bid2,Bid2_Quantity,Bid3,Bid3_Quantity,Ask1,Ask1_Quantity,Ask2,Ask2_Quantity,Ask3,Ask3_Quantity = bid123_ask123_Q(data_book_open)\n",
    "end = time.time()  \n",
    "print \"Total time = %f\"%(end - start)"
   ]
  },
  {
   "cell_type": "code",
   "execution_count": 19,
   "metadata": {
    "collapsed": false
   },
   "outputs": [
    {
     "name": "stdout",
     "output_type": "stream",
     "text": [
      "Total time = 151.127659\n"
     ]
    }
   ],
   "source": [
    "import time \n",
    "start = time.time()\n",
    "rise_ratio_bid = rise_bid(Bid1,timestamp_time_second)\n",
    "end = time.time()  \n",
    "print \"Total time = %f\"%(end - start) "
   ]
  },
  {
   "cell_type": "code",
   "execution_count": 20,
   "metadata": {
    "collapsed": true
   },
   "outputs": [],
   "source": [
    "close_price = 6780\n",
    "weight1 = 0.50\n",
    "weight2 = 0.30\n",
    "weight3 = 0.20"
   ]
  },
  {
   "cell_type": "code",
   "execution_count": 21,
   "metadata": {
    "collapsed": true
   },
   "outputs": [],
   "source": [
    "time1 = 0\n",
    "time2 = 600\n",
    "mat29_1_15 = ask(time1,time2,Bid1,Ask1,close_price,timestamp_time_second,Bid1_Quantity,Bid2_Quantity,Bid3_Quantity,Ask1_Quantity,Ask2_Quantity,Ask3_Quantity,weight1,weight2,weight3)\n",
    "mat29_2_15 = ask(time1,time2,Bid1,Ask2,close_price,timestamp_time_second,Bid1_Quantity,Bid2_Quantity,Bid3_Quantity,Ask1_Quantity,Ask2_Quantity,Ask3_Quantity,weight1,weight2,weight3)\n",
    "mat29_3_15 = ask(time1,time2,Bid1,Ask3,close_price,timestamp_time_second,Bid1_Quantity,Bid2_Quantity,Bid3_Quantity,Ask1_Quantity,Ask2_Quantity,Ask3_Quantity,weight1,weight2,weight3)"
   ]
  },
  {
   "cell_type": "code",
   "execution_count": 48,
   "metadata": {
    "collapsed": false
   },
   "outputs": [],
   "source": [
    "#mat29_3_15"
   ]
  },
  {
   "cell_type": "code",
   "execution_count": 22,
   "metadata": {
    "collapsed": true
   },
   "outputs": [],
   "source": [
    "time1 = 600\n",
    "time2 = 7200\n",
    "mat29_1_11 = ask(time1,time2,Bid1,Ask1,close_price,timestamp_time_second,Bid1_Quantity,Bid2_Quantity,Bid3_Quantity,Ask1_Quantity,Ask2_Quantity,Ask3_Quantity,weight1,weight2,weight3)\n",
    "mat29_2_11 = ask(time1,time2,Bid1,Ask2,close_price,timestamp_time_second,Bid1_Quantity,Bid2_Quantity,Bid3_Quantity,Ask1_Quantity,Ask2_Quantity,Ask3_Quantity,weight1,weight2,weight3)\n",
    "mat29_3_11 = ask(time1,time2,Bid1,Ask3,close_price,timestamp_time_second,Bid1_Quantity,Bid2_Quantity,Bid3_Quantity,Ask1_Quantity,Ask2_Quantity,Ask3_Quantity,weight1,weight2,weight3)"
   ]
  },
  {
   "cell_type": "code",
   "execution_count": 23,
   "metadata": {
    "collapsed": true
   },
   "outputs": [],
   "source": [
    "time1 = 7200\n",
    "time2 = 14400\n",
    "mat29_1_13 = ask(time1,time2,Bid1,Ask1,close_price,timestamp_time_second,Bid1_Quantity,Bid2_Quantity,Bid3_Quantity,Ask1_Quantity,Ask2_Quantity,Ask3_Quantity,weight1,weight2,weight3)\n",
    "mat29_2_13 = ask(time1,time2,Bid1,Ask2,close_price,timestamp_time_second,Bid1_Quantity,Bid2_Quantity,Bid3_Quantity,Ask1_Quantity,Ask2_Quantity,Ask3_Quantity,weight1,weight2,weight3)\n",
    "mat29_3_13 = ask(time1,time2,Bid1,Ask3,close_price,timestamp_time_second,Bid1_Quantity,Bid2_Quantity,Bid3_Quantity,Ask1_Quantity,Ask2_Quantity,Ask3_Quantity,weight1,weight2,weight3)"
   ]
  },
  {
   "cell_type": "code",
   "execution_count": 24,
   "metadata": {
    "collapsed": true
   },
   "outputs": [],
   "source": [
    "time1 = 14400\n",
    "time2 = 25200\n",
    "mat29_1_16 = ask(time1,time2,Bid1,Ask1,close_price,timestamp_time_second,Bid1_Quantity,Bid2_Quantity,Bid3_Quantity,Ask1_Quantity,Ask2_Quantity,Ask3_Quantity,weight1,weight2,weight3)\n",
    "mat29_2_16 = ask(time1,time2,Bid1,Ask2,close_price,timestamp_time_second,Bid1_Quantity,Bid2_Quantity,Bid3_Quantity,Ask1_Quantity,Ask2_Quantity,Ask3_Quantity,weight1,weight2,weight3)\n",
    "mat29_3_16 = ask(time1,time2,Bid1,Ask3,close_price,timestamp_time_second,Bid1_Quantity,Bid2_Quantity,Bid3_Quantity,Ask1_Quantity,Ask2_Quantity,Ask3_Quantity,weight1,weight2,weight3)"
   ]
  },
  {
   "cell_type": "code",
   "execution_count": 25,
   "metadata": {
    "collapsed": false
   },
   "outputs": [],
   "source": [
    "#mat29_3_16"
   ]
  },
  {
   "cell_type": "markdown",
   "metadata": {},
   "source": [
    "### Day 1/13"
   ]
  },
  {
   "cell_type": "code",
   "execution_count": 26,
   "metadata": {
    "collapsed": true
   },
   "outputs": [],
   "source": [
    "data_book = order_book(1,13)\n",
    "data_book_open = data_book[1136:331583+1] # 9:00 ~ 16:00\n",
    "data_book_open = data_book_open.reset_index(drop = True)\n",
    "timestamp_time = day_time(1,13)\n",
    "timestamp_time_second = time_transform(timestamp_time)"
   ]
  },
  {
   "cell_type": "code",
   "execution_count": 27,
   "metadata": {
    "collapsed": false
   },
   "outputs": [
    {
     "name": "stdout",
     "output_type": "stream",
     "text": [
      "Total time = 149.952572\n"
     ]
    }
   ],
   "source": [
    "import time \n",
    "start = time.time()\n",
    "Bid1,Bid1_Quantity,Bid2,Bid2_Quantity,Bid3,Bid3_Quantity,Ask1,Ask1_Quantity,Ask2,Ask2_Quantity,Ask3,Ask3_Quantity = bid123_ask123_Q(data_book_open)\n",
    "end = time.time()  \n",
    "print \"Total time = %f\"%(end - start)"
   ]
  },
  {
   "cell_type": "code",
   "execution_count": 28,
   "metadata": {
    "collapsed": false
   },
   "outputs": [
    {
     "name": "stdout",
     "output_type": "stream",
     "text": [
      "Total time = 141.576651\n"
     ]
    }
   ],
   "source": [
    "import time \n",
    "start = time.time()\n",
    "rise_ratio_bid = rise_bid(Bid1,timestamp_time_second)\n",
    "end = time.time()  \n",
    "print \"Total time = %f\"%(end - start) "
   ]
  },
  {
   "cell_type": "code",
   "execution_count": 29,
   "metadata": {
    "collapsed": true
   },
   "outputs": [],
   "source": [
    "close_price = 6740\n",
    "weight1 = 0.50\n",
    "weight2 = 0.30\n",
    "weight3 = 0.20"
   ]
  },
  {
   "cell_type": "code",
   "execution_count": 30,
   "metadata": {
    "collapsed": true
   },
   "outputs": [],
   "source": [
    "time1 = 0\n",
    "time2 = 600\n",
    "mat27_1_15 = ask(time1,time2,Bid1,Ask1,close_price,timestamp_time_second,Bid1_Quantity,Bid2_Quantity,Bid3_Quantity,Ask1_Quantity,Ask2_Quantity,Ask3_Quantity,weight1,weight2,weight3)\n",
    "mat27_2_15 = ask(time1,time2,Bid1,Ask2,close_price,timestamp_time_second,Bid1_Quantity,Bid2_Quantity,Bid3_Quantity,Ask1_Quantity,Ask2_Quantity,Ask3_Quantity,weight1,weight2,weight3)\n",
    "mat27_3_15 = ask(time1,time2,Bid1,Ask3,close_price,timestamp_time_second,Bid1_Quantity,Bid2_Quantity,Bid3_Quantity,Ask1_Quantity,Ask2_Quantity,Ask3_Quantity,weight1,weight2,weight3)"
   ]
  },
  {
   "cell_type": "code",
   "execution_count": 31,
   "metadata": {
    "collapsed": true
   },
   "outputs": [],
   "source": [
    "time1 = 600\n",
    "time2 = 7200\n",
    "mat27_1_11 = ask(time1,time2,Bid1,Ask1,close_price,timestamp_time_second,Bid1_Quantity,Bid2_Quantity,Bid3_Quantity,Ask1_Quantity,Ask2_Quantity,Ask3_Quantity,weight1,weight2,weight3)\n",
    "mat27_2_11 = ask(time1,time2,Bid1,Ask2,close_price,timestamp_time_second,Bid1_Quantity,Bid2_Quantity,Bid3_Quantity,Ask1_Quantity,Ask2_Quantity,Ask3_Quantity,weight1,weight2,weight3)\n",
    "mat27_3_11 = ask(time1,time2,Bid1,Ask3,close_price,timestamp_time_second,Bid1_Quantity,Bid2_Quantity,Bid3_Quantity,Ask1_Quantity,Ask2_Quantity,Ask3_Quantity,weight1,weight2,weight3)"
   ]
  },
  {
   "cell_type": "code",
   "execution_count": 32,
   "metadata": {
    "collapsed": true
   },
   "outputs": [],
   "source": [
    "time1 = 7200\n",
    "time2 = 14400\n",
    "mat27_1_13 = ask(time1,time2,Bid1,Ask1,close_price,timestamp_time_second,Bid1_Quantity,Bid2_Quantity,Bid3_Quantity,Ask1_Quantity,Ask2_Quantity,Ask3_Quantity,weight1,weight2,weight3)\n",
    "mat27_2_13 = ask(time1,time2,Bid1,Ask2,close_price,timestamp_time_second,Bid1_Quantity,Bid2_Quantity,Bid3_Quantity,Ask1_Quantity,Ask2_Quantity,Ask3_Quantity,weight1,weight2,weight3)\n",
    "mat27_3_13 = ask(time1,time2,Bid1,Ask3,close_price,timestamp_time_second,Bid1_Quantity,Bid2_Quantity,Bid3_Quantity,Ask1_Quantity,Ask2_Quantity,Ask3_Quantity,weight1,weight2,weight3)"
   ]
  },
  {
   "cell_type": "code",
   "execution_count": 33,
   "metadata": {
    "collapsed": true
   },
   "outputs": [],
   "source": [
    "time1 = 14400\n",
    "time2 = 25200\n",
    "mat27_1_16 = ask(time1,time2,Bid1,Ask1,close_price,timestamp_time_second,Bid1_Quantity,Bid2_Quantity,Bid3_Quantity,Ask1_Quantity,Ask2_Quantity,Ask3_Quantity,weight1,weight2,weight3)\n",
    "mat27_2_16 = ask(time1,time2,Bid1,Ask2,close_price,timestamp_time_second,Bid1_Quantity,Bid2_Quantity,Bid3_Quantity,Ask1_Quantity,Ask2_Quantity,Ask3_Quantity,weight1,weight2,weight3)\n",
    "mat27_3_16 = ask(time1,time2,Bid1,Ask3,close_price,timestamp_time_second,Bid1_Quantity,Bid2_Quantity,Bid3_Quantity,Ask1_Quantity,Ask2_Quantity,Ask3_Quantity,weight1,weight2,weight3)"
   ]
  },
  {
   "cell_type": "code",
   "execution_count": 97,
   "metadata": {
    "collapsed": false
   },
   "outputs": [],
   "source": [
    "#mat27_2_16"
   ]
  },
  {
   "cell_type": "markdown",
   "metadata": {},
   "source": [
    "### Day 1/10"
   ]
  },
  {
   "cell_type": "code",
   "execution_count": 34,
   "metadata": {
    "collapsed": true
   },
   "outputs": [],
   "source": [
    "data_book = order_book(1,10)\n",
    "data_book_open = data_book[904:351239+1] # 9:00 ~ 16:00\n",
    "data_book_open = data_book_open.reset_index(drop = True)\n",
    "timestamp_time = day_time(1,10)\n",
    "timestamp_time_second = time_transform(timestamp_time)"
   ]
  },
  {
   "cell_type": "code",
   "execution_count": 35,
   "metadata": {
    "collapsed": false
   },
   "outputs": [
    {
     "name": "stdout",
     "output_type": "stream",
     "text": [
      "Total time = 143.389477\n"
     ]
    }
   ],
   "source": [
    "import time \n",
    "start = time.time()\n",
    "Bid1,Bid1_Quantity,Bid2,Bid2_Quantity,Bid3,Bid3_Quantity,Ask1,Ask1_Quantity,Ask2,Ask2_Quantity,Ask3,Ask3_Quantity = bid123_ask123_Q(data_book_open)\n",
    "end = time.time()  \n",
    "print \"Total time = %f\"%(end - start)"
   ]
  },
  {
   "cell_type": "code",
   "execution_count": 36,
   "metadata": {
    "collapsed": false
   },
   "outputs": [
    {
     "name": "stdout",
     "output_type": "stream",
     "text": [
      "Total time = 387.690488\n"
     ]
    }
   ],
   "source": [
    "import time \n",
    "start = time.time()\n",
    "rise_ratio_bid = rise_bid(Bid1,timestamp_time_second)\n",
    "end = time.time()  \n",
    "print \"Total time = %f\"%(end - start) "
   ]
  },
  {
   "cell_type": "code",
   "execution_count": 37,
   "metadata": {
    "collapsed": true
   },
   "outputs": [],
   "source": [
    "close_price = 6760\n",
    "weight1 = 0.50\n",
    "weight2 = 0.30\n",
    "weight3 = 0.20"
   ]
  },
  {
   "cell_type": "code",
   "execution_count": 38,
   "metadata": {
    "collapsed": true
   },
   "outputs": [],
   "source": [
    "time1 = 0\n",
    "time2 = 600\n",
    "mat24_1_15 = ask(time1,time2,Bid1,Ask1,close_price,timestamp_time_second,Bid1_Quantity,Bid2_Quantity,Bid3_Quantity,Ask1_Quantity,Ask2_Quantity,Ask3_Quantity,weight1,weight2,weight3)\n",
    "mat24_2_15 = ask(time1,time2,Bid1,Ask2,close_price,timestamp_time_second,Bid1_Quantity,Bid2_Quantity,Bid3_Quantity,Ask1_Quantity,Ask2_Quantity,Ask3_Quantity,weight1,weight2,weight3)\n",
    "mat24_3_15 = ask(time1,time2,Bid1,Ask3,close_price,timestamp_time_second,Bid1_Quantity,Bid2_Quantity,Bid3_Quantity,Ask1_Quantity,Ask2_Quantity,Ask3_Quantity,weight1,weight2,weight3)"
   ]
  },
  {
   "cell_type": "code",
   "execution_count": 39,
   "metadata": {
    "collapsed": true
   },
   "outputs": [],
   "source": [
    "time1 = 600\n",
    "time2 = 7200\n",
    "mat24_1_11 = ask(time1,time2,Bid1,Ask1,close_price,timestamp_time_second,Bid1_Quantity,Bid2_Quantity,Bid3_Quantity,Ask1_Quantity,Ask2_Quantity,Ask3_Quantity,weight1,weight2,weight3)\n",
    "mat24_2_11 = ask(time1,time2,Bid1,Ask2,close_price,timestamp_time_second,Bid1_Quantity,Bid2_Quantity,Bid3_Quantity,Ask1_Quantity,Ask2_Quantity,Ask3_Quantity,weight1,weight2,weight3)\n",
    "mat24_3_11 = ask(time1,time2,Bid1,Ask3,close_price,timestamp_time_second,Bid1_Quantity,Bid2_Quantity,Bid3_Quantity,Ask1_Quantity,Ask2_Quantity,Ask3_Quantity,weight1,weight2,weight3)"
   ]
  },
  {
   "cell_type": "code",
   "execution_count": 40,
   "metadata": {
    "collapsed": true
   },
   "outputs": [],
   "source": [
    "time1 = 7200\n",
    "time2 = 14400\n",
    "mat24_1_13 = ask(time1,time2,Bid1,Ask1,close_price,timestamp_time_second,Bid1_Quantity,Bid2_Quantity,Bid3_Quantity,Ask1_Quantity,Ask2_Quantity,Ask3_Quantity,weight1,weight2,weight3)\n",
    "mat24_2_13 = ask(time1,time2,Bid1,Ask2,close_price,timestamp_time_second,Bid1_Quantity,Bid2_Quantity,Bid3_Quantity,Ask1_Quantity,Ask2_Quantity,Ask3_Quantity,weight1,weight2,weight3)\n",
    "mat24_3_13 = ask(time1,time2,Bid1,Ask3,close_price,timestamp_time_second,Bid1_Quantity,Bid2_Quantity,Bid3_Quantity,Ask1_Quantity,Ask2_Quantity,Ask3_Quantity,weight1,weight2,weight3)"
   ]
  },
  {
   "cell_type": "code",
   "execution_count": 41,
   "metadata": {
    "collapsed": true
   },
   "outputs": [],
   "source": [
    "time1 = 14400\n",
    "time2 = 25200\n",
    "mat24_1_16 = ask(time1,time2,Bid1,Ask1,close_price,timestamp_time_second,Bid1_Quantity,Bid2_Quantity,Bid3_Quantity,Ask1_Quantity,Ask2_Quantity,Ask3_Quantity,weight1,weight2,weight3)\n",
    "mat24_2_16 = ask(time1,time2,Bid1,Ask2,close_price,timestamp_time_second,Bid1_Quantity,Bid2_Quantity,Bid3_Quantity,Ask1_Quantity,Ask2_Quantity,Ask3_Quantity,weight1,weight2,weight3)\n",
    "mat24_3_16 = ask(time1,time2,Bid1,Ask3,close_price,timestamp_time_second,Bid1_Quantity,Bid2_Quantity,Bid3_Quantity,Ask1_Quantity,Ask2_Quantity,Ask3_Quantity,weight1,weight2,weight3)"
   ]
  },
  {
   "cell_type": "code",
   "execution_count": null,
   "metadata": {
    "collapsed": false
   },
   "outputs": [],
   "source": []
  },
  {
   "cell_type": "markdown",
   "metadata": {},
   "source": [
    "### Day 1/09"
   ]
  },
  {
   "cell_type": "code",
   "execution_count": 42,
   "metadata": {
    "collapsed": true
   },
   "outputs": [],
   "source": [
    "data_book = order_book(1,'09')\n",
    "data_book_open = data_book[856:366355+1] # 9:00 ~ 16:00\n",
    "data_book_open = data_book_open.reset_index(drop = True)\n",
    "timestamp_time = day_time(1,'09')\n",
    "timestamp_time_second = time_transform(timestamp_time)"
   ]
  },
  {
   "cell_type": "code",
   "execution_count": 43,
   "metadata": {
    "collapsed": false
   },
   "outputs": [
    {
     "name": "stdout",
     "output_type": "stream",
     "text": [
      "Total time = 168.374224\n"
     ]
    }
   ],
   "source": [
    "import time \n",
    "start = time.time()\n",
    "Bid1,Bid1_Quantity,Bid2,Bid2_Quantity,Bid3,Bid3_Quantity,Ask1,Ask1_Quantity,Ask2,Ask2_Quantity,Ask3,Ask3_Quantity = bid123_ask123_Q(data_book_open)\n",
    "end = time.time()  \n",
    "print \"Total time = %f\"%(end - start)"
   ]
  },
  {
   "cell_type": "code",
   "execution_count": 44,
   "metadata": {
    "collapsed": false
   },
   "outputs": [
    {
     "name": "stdout",
     "output_type": "stream",
     "text": [
      "Total time = 403.099445\n"
     ]
    }
   ],
   "source": [
    "import time \n",
    "start = time.time()\n",
    "rise_ratio_bid = rise_bid(Bid1,timestamp_time_second)\n",
    "end = time.time()  \n",
    "print \"Total time = %f\"%(end - start) "
   ]
  },
  {
   "cell_type": "code",
   "execution_count": 45,
   "metadata": {
    "collapsed": true
   },
   "outputs": [],
   "source": [
    "close_price = 6770\n",
    "weight1 = 0.50\n",
    "weight2 = 0.30\n",
    "weight3 = 0.20"
   ]
  },
  {
   "cell_type": "code",
   "execution_count": 46,
   "metadata": {
    "collapsed": true
   },
   "outputs": [],
   "source": [
    "time1 = 0\n",
    "time2 = 600\n",
    "mat22_1_15 = ask(time1,time2,Bid1,Ask1,close_price,timestamp_time_second,Bid1_Quantity,Bid2_Quantity,Bid3_Quantity,Ask1_Quantity,Ask2_Quantity,Ask3_Quantity,weight1,weight2,weight3)\n",
    "mat22_2_15 = ask(time1,time2,Bid1,Ask2,close_price,timestamp_time_second,Bid1_Quantity,Bid2_Quantity,Bid3_Quantity,Ask1_Quantity,Ask2_Quantity,Ask3_Quantity,weight1,weight2,weight3)\n",
    "mat22_3_15 = ask(time1,time2,Bid1,Ask3,close_price,timestamp_time_second,Bid1_Quantity,Bid2_Quantity,Bid3_Quantity,Ask1_Quantity,Ask2_Quantity,Ask3_Quantity,weight1,weight2,weight3)"
   ]
  },
  {
   "cell_type": "code",
   "execution_count": 47,
   "metadata": {
    "collapsed": true
   },
   "outputs": [],
   "source": [
    "time1 = 600\n",
    "time2 = 7200\n",
    "mat22_1_11 = ask(time1,time2,Bid1,Ask1,close_price,timestamp_time_second,Bid1_Quantity,Bid2_Quantity,Bid3_Quantity,Ask1_Quantity,Ask2_Quantity,Ask3_Quantity,weight1,weight2,weight3)\n",
    "mat22_2_11 = ask(time1,time2,Bid1,Ask2,close_price,timestamp_time_second,Bid1_Quantity,Bid2_Quantity,Bid3_Quantity,Ask1_Quantity,Ask2_Quantity,Ask3_Quantity,weight1,weight2,weight3)\n",
    "mat22_3_11 = ask(time1,time2,Bid1,Ask3,close_price,timestamp_time_second,Bid1_Quantity,Bid2_Quantity,Bid3_Quantity,Ask1_Quantity,Ask2_Quantity,Ask3_Quantity,weight1,weight2,weight3)"
   ]
  },
  {
   "cell_type": "code",
   "execution_count": 48,
   "metadata": {
    "collapsed": true
   },
   "outputs": [],
   "source": [
    "time1 = 7200\n",
    "time2 = 14400\n",
    "mat22_1_13 = ask(time1,time2,Bid1,Ask1,close_price,timestamp_time_second,Bid1_Quantity,Bid2_Quantity,Bid3_Quantity,Ask1_Quantity,Ask2_Quantity,Ask3_Quantity,weight1,weight2,weight3)\n",
    "mat22_2_13 = ask(time1,time2,Bid1,Ask2,close_price,timestamp_time_second,Bid1_Quantity,Bid2_Quantity,Bid3_Quantity,Ask1_Quantity,Ask2_Quantity,Ask3_Quantity,weight1,weight2,weight3)\n",
    "mat22_3_13 = ask(time1,time2,Bid1,Ask3,close_price,timestamp_time_second,Bid1_Quantity,Bid2_Quantity,Bid3_Quantity,Ask1_Quantity,Ask2_Quantity,Ask3_Quantity,weight1,weight2,weight3)"
   ]
  },
  {
   "cell_type": "code",
   "execution_count": 49,
   "metadata": {
    "collapsed": true
   },
   "outputs": [],
   "source": [
    "time1 = 14400\n",
    "time2 = 25200\n",
    "mat22_1_16 = ask(time1,time2,Bid1,Ask1,close_price,timestamp_time_second,Bid1_Quantity,Bid2_Quantity,Bid3_Quantity,Ask1_Quantity,Ask2_Quantity,Ask3_Quantity,weight1,weight2,weight3)\n",
    "mat22_2_16 = ask(time1,time2,Bid1,Ask2,close_price,timestamp_time_second,Bid1_Quantity,Bid2_Quantity,Bid3_Quantity,Ask1_Quantity,Ask2_Quantity,Ask3_Quantity,weight1,weight2,weight3)\n",
    "mat22_3_16 = ask(time1,time2,Bid1,Ask3,close_price,timestamp_time_second,Bid1_Quantity,Bid2_Quantity,Bid3_Quantity,Ask1_Quantity,Ask2_Quantity,Ask3_Quantity,weight1,weight2,weight3)"
   ]
  },
  {
   "cell_type": "code",
   "execution_count": null,
   "metadata": {
    "collapsed": true
   },
   "outputs": [],
   "source": []
  },
  {
   "cell_type": "code",
   "execution_count": 128,
   "metadata": {
    "collapsed": false,
    "scrolled": false
   },
   "outputs": [],
   "source": [
    "#mat22_3_15"
   ]
  },
  {
   "cell_type": "markdown",
   "metadata": {},
   "source": [
    "### Day 1/08"
   ]
  },
  {
   "cell_type": "code",
   "execution_count": 50,
   "metadata": {
    "collapsed": true
   },
   "outputs": [],
   "source": [
    "data_book = order_book(1,'08')\n",
    "data_book_open = data_book[1236:356399+1] # 9:00 ~ 16:00\n",
    "data_book_open = data_book_open.reset_index(drop = True)\n",
    "timestamp_time = day_time(1,'08')\n",
    "timestamp_time_second = time_transform(timestamp_time)"
   ]
  },
  {
   "cell_type": "code",
   "execution_count": 51,
   "metadata": {
    "collapsed": false
   },
   "outputs": [
    {
     "name": "stdout",
     "output_type": "stream",
     "text": [
      "Total time = 169.020950\n"
     ]
    }
   ],
   "source": [
    "import time \n",
    "start = time.time()\n",
    "Bid1,Bid1_Quantity,Bid2,Bid2_Quantity,Bid3,Bid3_Quantity,Ask1,Ask1_Quantity,Ask2,Ask2_Quantity,Ask3,Ask3_Quantity = bid123_ask123_Q(data_book_open)\n",
    "end = time.time()  \n",
    "print \"Total time = %f\"%(end - start)"
   ]
  },
  {
   "cell_type": "code",
   "execution_count": 52,
   "metadata": {
    "collapsed": false
   },
   "outputs": [
    {
     "name": "stdout",
     "output_type": "stream",
     "text": [
      "Total time = 487.949712\n"
     ]
    }
   ],
   "source": [
    "import time \n",
    "start = time.time()\n",
    "rise_ratio_bid = rise_bid(Bid1,timestamp_time_second)\n",
    "end = time.time()  \n",
    "print \"Total time = %f\"%(end - start) "
   ]
  },
  {
   "cell_type": "code",
   "execution_count": 53,
   "metadata": {
    "collapsed": true
   },
   "outputs": [],
   "source": [
    "close_price = 6810\n",
    "weight1 = 0.50\n",
    "weight2 = 0.30\n",
    "weight3 = 0.20"
   ]
  },
  {
   "cell_type": "code",
   "execution_count": 54,
   "metadata": {
    "collapsed": true
   },
   "outputs": [],
   "source": [
    "time1 = 0\n",
    "time2 = 600\n",
    "mat21_1_15 = ask(time1,time2,Bid1,Ask1,close_price,timestamp_time_second,Bid1_Quantity,Bid2_Quantity,Bid3_Quantity,Ask1_Quantity,Ask2_Quantity,Ask3_Quantity,weight1,weight2,weight3)\n",
    "mat21_2_15 = ask(time1,time2,Bid1,Ask2,close_price,timestamp_time_second,Bid1_Quantity,Bid2_Quantity,Bid3_Quantity,Ask1_Quantity,Ask2_Quantity,Ask3_Quantity,weight1,weight2,weight3)\n",
    "mat21_3_15 = ask(time1,time2,Bid1,Ask3,close_price,timestamp_time_second,Bid1_Quantity,Bid2_Quantity,Bid3_Quantity,Ask1_Quantity,Ask2_Quantity,Ask3_Quantity,weight1,weight2,weight3)"
   ]
  },
  {
   "cell_type": "code",
   "execution_count": 55,
   "metadata": {
    "collapsed": true
   },
   "outputs": [],
   "source": [
    "time1 = 600\n",
    "time2 = 7200\n",
    "mat21_1_11 = ask(time1,time2,Bid1,Ask1,close_price,timestamp_time_second,Bid1_Quantity,Bid2_Quantity,Bid3_Quantity,Ask1_Quantity,Ask2_Quantity,Ask3_Quantity,weight1,weight2,weight3)\n",
    "mat21_2_11 = ask(time1,time2,Bid1,Ask2,close_price,timestamp_time_second,Bid1_Quantity,Bid2_Quantity,Bid3_Quantity,Ask1_Quantity,Ask2_Quantity,Ask3_Quantity,weight1,weight2,weight3)\n",
    "mat21_3_11 = ask(time1,time2,Bid1,Ask3,close_price,timestamp_time_second,Bid1_Quantity,Bid2_Quantity,Bid3_Quantity,Ask1_Quantity,Ask2_Quantity,Ask3_Quantity,weight1,weight2,weight3)"
   ]
  },
  {
   "cell_type": "code",
   "execution_count": 56,
   "metadata": {
    "collapsed": true
   },
   "outputs": [],
   "source": [
    "time1 = 7200\n",
    "time2 = 14400\n",
    "mat21_1_13 = ask(time1,time2,Bid1,Ask1,close_price,timestamp_time_second,Bid1_Quantity,Bid2_Quantity,Bid3_Quantity,Ask1_Quantity,Ask2_Quantity,Ask3_Quantity,weight1,weight2,weight3)\n",
    "mat21_2_13 = ask(time1,time2,Bid1,Ask2,close_price,timestamp_time_second,Bid1_Quantity,Bid2_Quantity,Bid3_Quantity,Ask1_Quantity,Ask2_Quantity,Ask3_Quantity,weight1,weight2,weight3)\n",
    "mat21_3_13 = ask(time1,time2,Bid1,Ask3,close_price,timestamp_time_second,Bid1_Quantity,Bid2_Quantity,Bid3_Quantity,Ask1_Quantity,Ask2_Quantity,Ask3_Quantity,weight1,weight2,weight3)"
   ]
  },
  {
   "cell_type": "code",
   "execution_count": 57,
   "metadata": {
    "collapsed": true
   },
   "outputs": [],
   "source": [
    "time1 = 14400\n",
    "time2 = 25200\n",
    "mat21_1_16 = ask(time1,time2,Bid1,Ask1,close_price,timestamp_time_second,Bid1_Quantity,Bid2_Quantity,Bid3_Quantity,Ask1_Quantity,Ask2_Quantity,Ask3_Quantity,weight1,weight2,weight3)\n",
    "mat21_2_16 = ask(time1,time2,Bid1,Ask2,close_price,timestamp_time_second,Bid1_Quantity,Bid2_Quantity,Bid3_Quantity,Ask1_Quantity,Ask2_Quantity,Ask3_Quantity,weight1,weight2,weight3)\n",
    "mat21_3_16 = ask(time1,time2,Bid1,Ask3,close_price,timestamp_time_second,Bid1_Quantity,Bid2_Quantity,Bid3_Quantity,Ask1_Quantity,Ask2_Quantity,Ask3_Quantity,weight1,weight2,weight3)"
   ]
  },
  {
   "cell_type": "code",
   "execution_count": null,
   "metadata": {
    "collapsed": true
   },
   "outputs": [],
   "source": []
  },
  {
   "cell_type": "markdown",
   "metadata": {},
   "source": [
    "### Day 1/07"
   ]
  },
  {
   "cell_type": "code",
   "execution_count": 58,
   "metadata": {
    "collapsed": true
   },
   "outputs": [],
   "source": [
    "data_book = order_book(1,'07')\n",
    "data_book_open = data_book[1040:325879+1] # 9:00 ~ 16:00\n",
    "data_book_open = data_book_open.reset_index(drop = True)\n",
    "timestamp_time = day_time(1,'07')\n",
    "timestamp_time_second = time_transform(timestamp_time)"
   ]
  },
  {
   "cell_type": "code",
   "execution_count": 59,
   "metadata": {
    "collapsed": false
   },
   "outputs": [
    {
     "name": "stdout",
     "output_type": "stream",
     "text": [
      "Total time = 113.045803\n"
     ]
    }
   ],
   "source": [
    "import time \n",
    "start = time.time()\n",
    "Bid1,Bid1_Quantity,Bid2,Bid2_Quantity,Bid3,Bid3_Quantity,Ask1,Ask1_Quantity,Ask2,Ask2_Quantity,Ask3,Ask3_Quantity = bid123_ask123_Q(data_book_open)\n",
    "end = time.time()  \n",
    "print \"Total time = %f\"%(end - start)"
   ]
  },
  {
   "cell_type": "code",
   "execution_count": 60,
   "metadata": {
    "collapsed": false
   },
   "outputs": [
    {
     "name": "stdout",
     "output_type": "stream",
     "text": [
      "Total time = 354.429260\n"
     ]
    }
   ],
   "source": [
    "import time \n",
    "start = time.time()\n",
    "rise_ratio_bid = rise_bid(Bid1,timestamp_time_second)\n",
    "end = time.time()  \n",
    "print \"Total time = %f\"%(end - start) "
   ]
  },
  {
   "cell_type": "code",
   "execution_count": 61,
   "metadata": {
    "collapsed": true
   },
   "outputs": [],
   "source": [
    "close_price = 6790\n",
    "weight1 = 0.50\n",
    "weight2 = 0.30\n",
    "weight3 = 0.20"
   ]
  },
  {
   "cell_type": "code",
   "execution_count": 62,
   "metadata": {
    "collapsed": true
   },
   "outputs": [],
   "source": [
    "time1 = 0\n",
    "time2 = 600\n",
    "mat20_1_15 = ask(time1,time2,Bid1,Ask1,close_price,timestamp_time_second,Bid1_Quantity,Bid2_Quantity,Bid3_Quantity,Ask1_Quantity,Ask2_Quantity,Ask3_Quantity,weight1,weight2,weight3)\n",
    "mat20_2_15 = ask(time1,time2,Bid1,Ask2,close_price,timestamp_time_second,Bid1_Quantity,Bid2_Quantity,Bid3_Quantity,Ask1_Quantity,Ask2_Quantity,Ask3_Quantity,weight1,weight2,weight3)\n",
    "mat20_3_15 = ask(time1,time2,Bid1,Ask3,close_price,timestamp_time_second,Bid1_Quantity,Bid2_Quantity,Bid3_Quantity,Ask1_Quantity,Ask2_Quantity,Ask3_Quantity,weight1,weight2,weight3)"
   ]
  },
  {
   "cell_type": "code",
   "execution_count": 63,
   "metadata": {
    "collapsed": true
   },
   "outputs": [],
   "source": [
    "time1 = 600\n",
    "time2 = 7200\n",
    "mat20_1_11 = ask(time1,time2,Bid1,Ask1,close_price,timestamp_time_second,Bid1_Quantity,Bid2_Quantity,Bid3_Quantity,Ask1_Quantity,Ask2_Quantity,Ask3_Quantity,weight1,weight2,weight3)\n",
    "mat20_2_11 = ask(time1,time2,Bid1,Ask2,close_price,timestamp_time_second,Bid1_Quantity,Bid2_Quantity,Bid3_Quantity,Ask1_Quantity,Ask2_Quantity,Ask3_Quantity,weight1,weight2,weight3)\n",
    "mat20_3_11 = ask(time1,time2,Bid1,Ask3,close_price,timestamp_time_second,Bid1_Quantity,Bid2_Quantity,Bid3_Quantity,Ask1_Quantity,Ask2_Quantity,Ask3_Quantity,weight1,weight2,weight3)"
   ]
  },
  {
   "cell_type": "code",
   "execution_count": 64,
   "metadata": {
    "collapsed": true
   },
   "outputs": [],
   "source": [
    "time1 = 7200\n",
    "time2 = 14400\n",
    "mat20_1_13 = ask(time1,time2,Bid1,Ask1,close_price,timestamp_time_second,Bid1_Quantity,Bid2_Quantity,Bid3_Quantity,Ask1_Quantity,Ask2_Quantity,Ask3_Quantity,weight1,weight2,weight3)\n",
    "mat20_2_13 = ask(time1,time2,Bid1,Ask2,close_price,timestamp_time_second,Bid1_Quantity,Bid2_Quantity,Bid3_Quantity,Ask1_Quantity,Ask2_Quantity,Ask3_Quantity,weight1,weight2,weight3)\n",
    "mat20_3_13 = ask(time1,time2,Bid1,Ask3,close_price,timestamp_time_second,Bid1_Quantity,Bid2_Quantity,Bid3_Quantity,Ask1_Quantity,Ask2_Quantity,Ask3_Quantity,weight1,weight2,weight3)"
   ]
  },
  {
   "cell_type": "code",
   "execution_count": 65,
   "metadata": {
    "collapsed": true
   },
   "outputs": [],
   "source": [
    "time1 = 14400\n",
    "time2 = 25200\n",
    "mat20_1_16 = ask(time1,time2,Bid1,Ask1,close_price,timestamp_time_second,Bid1_Quantity,Bid2_Quantity,Bid3_Quantity,Ask1_Quantity,Ask2_Quantity,Ask3_Quantity,weight1,weight2,weight3)\n",
    "mat20_2_16 = ask(time1,time2,Bid1,Ask2,close_price,timestamp_time_second,Bid1_Quantity,Bid2_Quantity,Bid3_Quantity,Ask1_Quantity,Ask2_Quantity,Ask3_Quantity,weight1,weight2,weight3)\n",
    "mat20_3_16 = ask(time1,time2,Bid1,Ask3,close_price,timestamp_time_second,Bid1_Quantity,Bid2_Quantity,Bid3_Quantity,Ask1_Quantity,Ask2_Quantity,Ask3_Quantity,weight1,weight2,weight3)"
   ]
  },
  {
   "cell_type": "code",
   "execution_count": null,
   "metadata": {
    "collapsed": true
   },
   "outputs": [],
   "source": []
  },
  {
   "cell_type": "markdown",
   "metadata": {},
   "source": [
    "### Day 1/06"
   ]
  },
  {
   "cell_type": "code",
   "execution_count": 66,
   "metadata": {
    "collapsed": true
   },
   "outputs": [],
   "source": [
    "data_book = order_book(1,'06')\n",
    "data_book_open = data_book[800:332843+1] # 9:00 ~ 16:00\n",
    "data_book_open = data_book_open.reset_index(drop = True)\n",
    "timestamp_time = day_time(1,'06')\n",
    "timestamp_time_second = time_transform(timestamp_time)"
   ]
  },
  {
   "cell_type": "code",
   "execution_count": 67,
   "metadata": {
    "collapsed": false
   },
   "outputs": [
    {
     "name": "stdout",
     "output_type": "stream",
     "text": [
      "Total time = 115.696991\n"
     ]
    }
   ],
   "source": [
    "import time \n",
    "start = time.time()\n",
    "Bid1,Bid1_Quantity,Bid2,Bid2_Quantity,Bid3,Bid3_Quantity,Ask1,Ask1_Quantity,Ask2,Ask2_Quantity,Ask3,Ask3_Quantity = bid123_ask123_Q(data_book_open)\n",
    "end = time.time()  \n",
    "print \"Total time = %f\"%(end - start)"
   ]
  },
  {
   "cell_type": "code",
   "execution_count": 68,
   "metadata": {
    "collapsed": false
   },
   "outputs": [
    {
     "name": "stdout",
     "output_type": "stream",
     "text": [
      "Total time = 127.249800\n"
     ]
    }
   ],
   "source": [
    "import time \n",
    "start = time.time()\n",
    "rise_ratio_bid = rise_bid(Bid1,timestamp_time_second)\n",
    "end = time.time()  \n",
    "print \"Total time = %f\"%(end - start) "
   ]
  },
  {
   "cell_type": "code",
   "execution_count": 69,
   "metadata": {
    "collapsed": true
   },
   "outputs": [],
   "source": [
    "close_price = 6806\n",
    "weight1 = 0.50\n",
    "weight2 = 0.30\n",
    "weight3 = 0.20"
   ]
  },
  {
   "cell_type": "code",
   "execution_count": 70,
   "metadata": {
    "collapsed": true
   },
   "outputs": [],
   "source": [
    "time1 = 0\n",
    "time2 = 600\n",
    "mat17_1_11 = ask(time1,time2,Bid1,Ask1,close_price,timestamp_time_second,Bid1_Quantity,Bid2_Quantity,Bid3_Quantity,Ask1_Quantity,Ask2_Quantity,Ask3_Quantity,weight1,weight2,weight3)\n",
    "mat17_2_11 = ask(time1,time2,Bid1,Ask2,close_price,timestamp_time_second,Bid1_Quantity,Bid2_Quantity,Bid3_Quantity,Ask1_Quantity,Ask2_Quantity,Ask3_Quantity,weight1,weight2,weight3)\n",
    "mat17_3_11 = ask(time1,time2,Bid1,Ask3,close_price,timestamp_time_second,Bid1_Quantity,Bid2_Quantity,Bid3_Quantity,Ask1_Quantity,Ask2_Quantity,Ask3_Quantity,weight1,weight2,weight3)"
   ]
  },
  {
   "cell_type": "code",
   "execution_count": 71,
   "metadata": {
    "collapsed": true
   },
   "outputs": [],
   "source": [
    "time1 = 600\n",
    "time2 = 7200\n",
    "mat17_1_15 = ask(time1,time2,Bid1,Ask1,close_price,timestamp_time_second,Bid1_Quantity,Bid2_Quantity,Bid3_Quantity,Ask1_Quantity,Ask2_Quantity,Ask3_Quantity,weight1,weight2,weight3)\n",
    "mat17_2_15 = ask(time1,time2,Bid1,Ask2,close_price,timestamp_time_second,Bid1_Quantity,Bid2_Quantity,Bid3_Quantity,Ask1_Quantity,Ask2_Quantity,Ask3_Quantity,weight1,weight2,weight3)\n",
    "mat17_3_15 = ask(time1,time2,Bid1,Ask3,close_price,timestamp_time_second,Bid1_Quantity,Bid2_Quantity,Bid3_Quantity,Ask1_Quantity,Ask2_Quantity,Ask3_Quantity,weight1,weight2,weight3)"
   ]
  },
  {
   "cell_type": "code",
   "execution_count": 72,
   "metadata": {
    "collapsed": true
   },
   "outputs": [],
   "source": [
    "time1 = 7200\n",
    "time2 = 14400\n",
    "mat17_1_13 = ask(time1,time2,Bid1,Ask1,close_price,timestamp_time_second,Bid1_Quantity,Bid2_Quantity,Bid3_Quantity,Ask1_Quantity,Ask2_Quantity,Ask3_Quantity,weight1,weight2,weight3)\n",
    "mat17_2_13 = ask(time1,time2,Bid1,Ask2,close_price,timestamp_time_second,Bid1_Quantity,Bid2_Quantity,Bid3_Quantity,Ask1_Quantity,Ask2_Quantity,Ask3_Quantity,weight1,weight2,weight3)\n",
    "mat17_3_13 = ask(time1,time2,Bid1,Ask3,close_price,timestamp_time_second,Bid1_Quantity,Bid2_Quantity,Bid3_Quantity,Ask1_Quantity,Ask2_Quantity,Ask3_Quantity,weight1,weight2,weight3)"
   ]
  },
  {
   "cell_type": "code",
   "execution_count": 73,
   "metadata": {
    "collapsed": true
   },
   "outputs": [],
   "source": [
    "time1 = 14400\n",
    "time2 = 25200\n",
    "mat17_1_16 = ask(time1,time2,Bid1,Ask1,close_price,timestamp_time_second,Bid1_Quantity,Bid2_Quantity,Bid3_Quantity,Ask1_Quantity,Ask2_Quantity,Ask3_Quantity,weight1,weight2,weight3)\n",
    "mat17_2_16 = ask(time1,time2,Bid1,Ask2,close_price,timestamp_time_second,Bid1_Quantity,Bid2_Quantity,Bid3_Quantity,Ask1_Quantity,Ask2_Quantity,Ask3_Quantity,weight1,weight2,weight3)\n",
    "mat17_3_16 = ask(time1,time2,Bid1,Ask3,close_price,timestamp_time_second,Bid1_Quantity,Bid2_Quantity,Bid3_Quantity,Ask1_Quantity,Ask2_Quantity,Ask3_Quantity,weight1,weight2,weight3)"
   ]
  },
  {
   "cell_type": "code",
   "execution_count": null,
   "metadata": {
    "collapsed": true
   },
   "outputs": [],
   "source": []
  },
  {
   "cell_type": "markdown",
   "metadata": {},
   "source": [
    "### Day 1/03"
   ]
  },
  {
   "cell_type": "code",
   "execution_count": 74,
   "metadata": {
    "collapsed": true
   },
   "outputs": [],
   "source": [
    "data_book = order_book(1,'03')\n",
    "data_book_open = data_book[984:318387+1] # 9:00 ~ 16:00\n",
    "data_book_open = data_book_open.reset_index(drop = True)\n",
    "timestamp_time = day_time(1,'03')\n",
    "timestamp_time_second = time_transform(timestamp_time)"
   ]
  },
  {
   "cell_type": "code",
   "execution_count": 75,
   "metadata": {
    "collapsed": false
   },
   "outputs": [
    {
     "name": "stdout",
     "output_type": "stream",
     "text": [
      "Total time = 110.710095\n"
     ]
    }
   ],
   "source": [
    "import time \n",
    "start = time.time()\n",
    "Bid1,Bid1_Quantity,Bid2,Bid2_Quantity,Bid3,Bid3_Quantity,Ask1,Ask1_Quantity,Ask2,Ask2_Quantity,Ask3,Ask3_Quantity = bid123_ask123_Q(data_book_open)\n",
    "end = time.time()  \n",
    "print \"Total time = %f\"%(end - start)"
   ]
  },
  {
   "cell_type": "code",
   "execution_count": 76,
   "metadata": {
    "collapsed": false
   },
   "outputs": [
    {
     "name": "stdout",
     "output_type": "stream",
     "text": [
      "Total time = 315.078904\n"
     ]
    }
   ],
   "source": [
    "import time \n",
    "start = time.time()\n",
    "rise_ratio_bid = rise_bid(Bid1,timestamp_time_second)\n",
    "end = time.time()  \n",
    "print \"Total time = %f\"%(end - start)"
   ]
  },
  {
   "cell_type": "code",
   "execution_count": 77,
   "metadata": {
    "collapsed": true
   },
   "outputs": [],
   "source": [
    "close_price = 6915\n",
    "weight1 = 0.50\n",
    "weight2 = 0.30\n",
    "weight3 = 0.20"
   ]
  },
  {
   "cell_type": "code",
   "execution_count": 78,
   "metadata": {
    "collapsed": true
   },
   "outputs": [],
   "source": [
    "time1 = 0\n",
    "time2 = 600\n",
    "mat16_1_15 = ask(time1,time2,Bid1,Ask1,close_price,timestamp_time_second,Bid1_Quantity,Bid2_Quantity,Bid3_Quantity,Ask1_Quantity,Ask2_Quantity,Ask3_Quantity,weight1,weight2,weight3)\n",
    "mat16_2_15 = ask(time1,time2,Bid1,Ask2,close_price,timestamp_time_second,Bid1_Quantity,Bid2_Quantity,Bid3_Quantity,Ask1_Quantity,Ask2_Quantity,Ask3_Quantity,weight1,weight2,weight3)\n",
    "mat16_3_15 = ask(time1,time2,Bid1,Ask3,close_price,timestamp_time_second,Bid1_Quantity,Bid2_Quantity,Bid3_Quantity,Ask1_Quantity,Ask2_Quantity,Ask3_Quantity,weight1,weight2,weight3)"
   ]
  },
  {
   "cell_type": "code",
   "execution_count": 79,
   "metadata": {
    "collapsed": true
   },
   "outputs": [],
   "source": [
    "time1 = 600\n",
    "time2 = 7200\n",
    "mat16_1_11 = ask(time1,time2,Bid1,Ask1,close_price,timestamp_time_second,Bid1_Quantity,Bid2_Quantity,Bid3_Quantity,Ask1_Quantity,Ask2_Quantity,Ask3_Quantity,weight1,weight2,weight3)\n",
    "mat16_2_11 = ask(time1,time2,Bid1,Ask2,close_price,timestamp_time_second,Bid1_Quantity,Bid2_Quantity,Bid3_Quantity,Ask1_Quantity,Ask2_Quantity,Ask3_Quantity,weight1,weight2,weight3)\n",
    "mat16_3_11 = ask(time1,time2,Bid1,Ask3,close_price,timestamp_time_second,Bid1_Quantity,Bid2_Quantity,Bid3_Quantity,Ask1_Quantity,Ask2_Quantity,Ask3_Quantity,weight1,weight2,weight3)"
   ]
  },
  {
   "cell_type": "code",
   "execution_count": 80,
   "metadata": {
    "collapsed": true
   },
   "outputs": [],
   "source": [
    "time1 = 7200\n",
    "time2 = 14400\n",
    "mat16_1_13 = ask(time1,time2,Bid1,Ask1,close_price,timestamp_time_second,Bid1_Quantity,Bid2_Quantity,Bid3_Quantity,Ask1_Quantity,Ask2_Quantity,Ask3_Quantity,weight1,weight2,weight3)\n",
    "mat16_2_13 = ask(time1,time2,Bid1,Ask2,close_price,timestamp_time_second,Bid1_Quantity,Bid2_Quantity,Bid3_Quantity,Ask1_Quantity,Ask2_Quantity,Ask3_Quantity,weight1,weight2,weight3)\n",
    "mat16_3_13 = ask(time1,time2,Bid1,Ask3,close_price,timestamp_time_second,Bid1_Quantity,Bid2_Quantity,Bid3_Quantity,Ask1_Quantity,Ask2_Quantity,Ask3_Quantity,weight1,weight2,weight3)"
   ]
  },
  {
   "cell_type": "code",
   "execution_count": 81,
   "metadata": {
    "collapsed": true
   },
   "outputs": [],
   "source": [
    "time1 = 14400\n",
    "time2 = 25200\n",
    "mat16_1_16 = ask(time1,time2,Bid1,Ask1,close_price,timestamp_time_second,Bid1_Quantity,Bid2_Quantity,Bid3_Quantity,Ask1_Quantity,Ask2_Quantity,Ask3_Quantity,weight1,weight2,weight3)\n",
    "mat16_2_16 = ask(time1,time2,Bid1,Ask2,close_price,timestamp_time_second,Bid1_Quantity,Bid2_Quantity,Bid3_Quantity,Ask1_Quantity,Ask2_Quantity,Ask3_Quantity,weight1,weight2,weight3)\n",
    "mat16_3_16 = ask(time1,time2,Bid1,Ask3,close_price,timestamp_time_second,Bid1_Quantity,Bid2_Quantity,Bid3_Quantity,Ask1_Quantity,Ask2_Quantity,Ask3_Quantity,weight1,weight2,weight3)"
   ]
  },
  {
   "cell_type": "code",
   "execution_count": null,
   "metadata": {
    "collapsed": true
   },
   "outputs": [],
   "source": []
  },
  {
   "cell_type": "markdown",
   "metadata": {},
   "source": [
    "### Day 1/02"
   ]
  },
  {
   "cell_type": "code",
   "execution_count": 82,
   "metadata": {
    "collapsed": true
   },
   "outputs": [],
   "source": [
    "data_book = order_book(1,'02')\n",
    "data_book_open = data_book[1172:234835+1] # 9:00 ~ 16:00\n",
    "data_book_open = data_book_open.reset_index(drop = True)\n",
    "timestamp_time = day_time(1,'02')\n",
    "timestamp_time_second = time_transform(timestamp_time)"
   ]
  },
  {
   "cell_type": "code",
   "execution_count": 83,
   "metadata": {
    "collapsed": false
   },
   "outputs": [
    {
     "name": "stdout",
     "output_type": "stream",
     "text": [
      "Total time = 82.308868\n"
     ]
    }
   ],
   "source": [
    "import time \n",
    "start = time.time()\n",
    "Bid1,Bid1_Quantity,Bid2,Bid2_Quantity,Bid3,Bid3_Quantity,Ask1,Ask1_Quantity,Ask2,Ask2_Quantity,Ask3,Ask3_Quantity = bid123_ask123_Q(data_book_open)\n",
    "end = time.time()  \n",
    "print \"Total time = %f\"%(end - start)"
   ]
  },
  {
   "cell_type": "code",
   "execution_count": 84,
   "metadata": {
    "collapsed": false
   },
   "outputs": [
    {
     "name": "stdout",
     "output_type": "stream",
     "text": [
      "Total time = 166.693876\n"
     ]
    }
   ],
   "source": [
    "import time \n",
    "start = time.time()\n",
    "rise_ratio_bid = rise_bid(Bid1,timestamp_time_second)\n",
    "end = time.time()  \n",
    "print \"Total time = %f\"%(end - start)"
   ]
  },
  {
   "cell_type": "code",
   "execution_count": 85,
   "metadata": {
    "collapsed": true
   },
   "outputs": [],
   "source": [
    "close_price = 7030\n",
    "weight1 = 0.50\n",
    "weight2 = 0.30\n",
    "weight3 = 0.20"
   ]
  },
  {
   "cell_type": "code",
   "execution_count": 86,
   "metadata": {
    "collapsed": true
   },
   "outputs": [],
   "source": [
    "time1 = 0\n",
    "time2 = 600\n",
    "mat02_1_15 = ask(time1,time2,Bid1,Ask1,close_price,timestamp_time_second,Bid1_Quantity,Bid2_Quantity,Bid3_Quantity,Ask1_Quantity,Ask2_Quantity,Ask3_Quantity,weight1,weight2,weight3)\n",
    "mat02_2_15 = ask(time1,time2,Bid1,Ask2,close_price,timestamp_time_second,Bid1_Quantity,Bid2_Quantity,Bid3_Quantity,Ask1_Quantity,Ask2_Quantity,Ask3_Quantity,weight1,weight2,weight3)\n",
    "mat02_3_15 = ask(time1,time2,Bid1,Ask3,close_price,timestamp_time_second,Bid1_Quantity,Bid2_Quantity,Bid3_Quantity,Ask1_Quantity,Ask2_Quantity,Ask3_Quantity,weight1,weight2,weight3)"
   ]
  },
  {
   "cell_type": "code",
   "execution_count": 87,
   "metadata": {
    "collapsed": true
   },
   "outputs": [],
   "source": [
    "time1 = 600\n",
    "time2 = 7200\n",
    "mat02_1_11 = ask(time1,time2,Bid1,Ask1,close_price,timestamp_time_second,Bid1_Quantity,Bid2_Quantity,Bid3_Quantity,Ask1_Quantity,Ask2_Quantity,Ask3_Quantity,weight1,weight2,weight3)\n",
    "mat02_2_11 = ask(time1,time2,Bid1,Ask2,close_price,timestamp_time_second,Bid1_Quantity,Bid2_Quantity,Bid3_Quantity,Ask1_Quantity,Ask2_Quantity,Ask3_Quantity,weight1,weight2,weight3)\n",
    "mat02_3_11 = ask(time1,time2,Bid1,Ask3,close_price,timestamp_time_second,Bid1_Quantity,Bid2_Quantity,Bid3_Quantity,Ask1_Quantity,Ask2_Quantity,Ask3_Quantity,weight1,weight2,weight3)"
   ]
  },
  {
   "cell_type": "code",
   "execution_count": 88,
   "metadata": {
    "collapsed": true
   },
   "outputs": [],
   "source": [
    "time1 = 7200\n",
    "time2 = 14400\n",
    "mat02_1_13 = ask(time1,time2,Bid1,Ask1,close_price,timestamp_time_second,Bid1_Quantity,Bid2_Quantity,Bid3_Quantity,Ask1_Quantity,Ask2_Quantity,Ask3_Quantity,weight1,weight2,weight3)\n",
    "mat02_2_13 = ask(time1,time2,Bid1,Ask2,close_price,timestamp_time_second,Bid1_Quantity,Bid2_Quantity,Bid3_Quantity,Ask1_Quantity,Ask2_Quantity,Ask3_Quantity,weight1,weight2,weight3)\n",
    "mat02_3_13 = ask(time1,time2,Bid1,Ask3,close_price,timestamp_time_second,Bid1_Quantity,Bid2_Quantity,Bid3_Quantity,Ask1_Quantity,Ask2_Quantity,Ask3_Quantity,weight1,weight2,weight3)"
   ]
  },
  {
   "cell_type": "code",
   "execution_count": 89,
   "metadata": {
    "collapsed": true
   },
   "outputs": [],
   "source": [
    "time1 = 14400\n",
    "time2 = 25200\n",
    "mat02_1_16 = ask(time1,time2,Bid1,Ask1,close_price,timestamp_time_second,Bid1_Quantity,Bid2_Quantity,Bid3_Quantity,Ask1_Quantity,Ask2_Quantity,Ask3_Quantity,weight1,weight2,weight3)\n",
    "mat02_2_16 = ask(time1,time2,Bid1,Ask2,close_price,timestamp_time_second,Bid1_Quantity,Bid2_Quantity,Bid3_Quantity,Ask1_Quantity,Ask2_Quantity,Ask3_Quantity,weight1,weight2,weight3)\n",
    "mat02_3_16 = ask(time1,time2,Bid1,Ask3,close_price,timestamp_time_second,Bid1_Quantity,Bid2_Quantity,Bid3_Quantity,Ask1_Quantity,Ask2_Quantity,Ask3_Quantity,weight1,weight2,weight3)"
   ]
  },
  {
   "cell_type": "code",
   "execution_count": 91,
   "metadata": {
    "collapsed": false,
    "scrolled": true
   },
   "outputs": [],
   "source": [
    "#mat02_3_16"
   ]
  },
  {
   "cell_type": "code",
   "execution_count": null,
   "metadata": {
    "collapsed": true
   },
   "outputs": [],
   "source": []
  },
  {
   "cell_type": "code",
   "execution_count": null,
   "metadata": {
    "collapsed": true
   },
   "outputs": [],
   "source": []
  },
  {
   "cell_type": "code",
   "execution_count": null,
   "metadata": {
    "collapsed": true
   },
   "outputs": [],
   "source": []
  },
  {
   "cell_type": "code",
   "execution_count": null,
   "metadata": {
    "collapsed": true
   },
   "outputs": [],
   "source": []
  },
  {
   "cell_type": "code",
   "execution_count": 165,
   "metadata": {
    "collapsed": false
   },
   "outputs": [],
   "source": [
    "#mat17_2_16"
   ]
  },
  {
   "cell_type": "code",
   "execution_count": 92,
   "metadata": {
    "collapsed": true
   },
   "outputs": [],
   "source": [
    "SUM_Ask1_15 = \\\n",
    "array(mat02_1_15)+array(mat16_1_15)+array(mat17_1_15)+array(mat20_1_15)+array(mat21_1_15)+array(mat22_1_15)+\\\n",
    "array(mat24_1_15)+array(mat27_1_15)+array(mat28_1_15)+array(mat29_1_15)\n",
    "SUM_Ask2_15 = \\\n",
    "array(mat02_2_15)+array(mat16_2_15)+array(mat17_2_15)+array(mat20_2_15)+array(mat21_2_15)+array(mat22_2_15)+\\\n",
    "array(mat24_2_15)+array(mat27_2_15)+array(mat28_2_15)+array(mat29_2_15)\n",
    "SUM_Ask3_15 = \\\n",
    "array(mat02_3_15)+array(mat16_3_15)+array(mat17_3_15)+array(mat20_3_15)+array(mat21_3_15)+array(mat22_3_15)+\\\n",
    "array(mat24_3_15)+array(mat27_3_15)+array(mat28_3_15)+array(mat29_3_15)"
   ]
  },
  {
   "cell_type": "code",
   "execution_count": 170,
   "metadata": {
    "collapsed": false
   },
   "outputs": [],
   "source": [
    "#SUM_Bid3_15"
   ]
  },
  {
   "cell_type": "code",
   "execution_count": 93,
   "metadata": {
    "collapsed": true
   },
   "outputs": [],
   "source": [
    "SUM_Ask1_11 = \\\n",
    "array(mat02_1_11)+array(mat16_1_11)+array(mat17_1_11)+array(mat20_1_11)+array(mat21_1_11)+array(mat22_1_11)+\\\n",
    "array(mat24_1_11)+array(mat27_1_11)+array(mat28_1_11)+array(mat29_1_11)\n",
    "SUM_Ask2_11 = \\\n",
    "array(mat02_2_11)+array(mat16_2_11)+array(mat17_2_11)+array(mat20_2_11)+array(mat21_2_11)+array(mat22_2_11)+\\\n",
    "array(mat24_2_11)+array(mat27_2_11)+array(mat28_2_11)+array(mat29_2_11)\n",
    "SUM_Ask3_11 = \\\n",
    "array(mat02_3_11)+array(mat16_3_11)+array(mat17_3_11)+array(mat20_3_11)+array(mat21_3_11)+array(mat22_3_11)+\\\n",
    "array(mat24_3_11)+array(mat27_3_11)+array(mat28_3_11)+array(mat29_3_11)"
   ]
  },
  {
   "cell_type": "code",
   "execution_count": 175,
   "metadata": {
    "collapsed": false,
    "scrolled": true
   },
   "outputs": [],
   "source": [
    "#SUM_Bid3_11"
   ]
  },
  {
   "cell_type": "code",
   "execution_count": 94,
   "metadata": {
    "collapsed": true
   },
   "outputs": [],
   "source": [
    "SUM_Ask1_13 = \\\n",
    "array(mat02_1_13)+array(mat16_1_13)+array(mat17_1_13)+array(mat20_1_13)+array(mat21_1_13)+array(mat22_1_13)+\\\n",
    "array(mat24_1_13)+array(mat27_1_13)+array(mat28_1_13)+array(mat29_1_13)\n",
    "SUM_Ask2_13 = \\\n",
    "array(mat02_2_13)+array(mat16_2_13)+array(mat17_2_13)+array(mat20_2_13)+array(mat21_2_13)+array(mat22_2_13)+\\\n",
    "array(mat24_2_13)+array(mat27_2_13)+array(mat28_2_13)+array(mat29_2_13)\n",
    "SUM_Ask3_13 = \\\n",
    "array(mat02_3_13)+array(mat16_3_13)+array(mat17_3_13)+array(mat20_3_13)+array(mat21_3_13)+array(mat22_3_13)+\\\n",
    "array(mat24_3_13)+array(mat27_3_13)+array(mat28_3_13)+array(mat29_3_13)"
   ]
  },
  {
   "cell_type": "code",
   "execution_count": 180,
   "metadata": {
    "collapsed": false
   },
   "outputs": [],
   "source": [
    "#SUM_Bid3_13"
   ]
  },
  {
   "cell_type": "code",
   "execution_count": 95,
   "metadata": {
    "collapsed": true
   },
   "outputs": [],
   "source": [
    "SUM_Ask1_16 = \\\n",
    "array(mat02_1_16)+array(mat16_1_16)+array(mat17_1_16)+array(mat20_1_16)+array(mat21_1_16)+array(mat22_1_16)+\\\n",
    "array(mat24_1_16)+array(mat27_1_16)+array(mat28_1_16)+array(mat29_1_16)\n",
    "SUM_Ask2_16 = \\\n",
    "array(mat02_2_16)+array(mat16_2_16)+array(mat17_2_16)+array(mat20_2_16)+array(mat21_2_16)+array(mat22_2_16)+\\\n",
    "array(mat24_2_16)+array(mat27_2_16)+array(mat28_2_16)+array(mat29_2_16)\n",
    "SUM_Ask3_16 = \\\n",
    "array(mat02_3_16)+array(mat16_3_16)+array(mat17_3_16)+array(mat20_3_16)+array(mat21_3_16)+array(mat22_3_16)+\\\n",
    "array(mat24_3_16)+array(mat27_3_16)+array(mat28_3_16)+array(mat29_3_16)"
   ]
  },
  {
   "cell_type": "code",
   "execution_count": 185,
   "metadata": {
    "collapsed": false
   },
   "outputs": [],
   "source": [
    "#SUM_Bid3_16"
   ]
  },
  {
   "cell_type": "code",
   "execution_count": 96,
   "metadata": {
    "collapsed": false
   },
   "outputs": [],
   "source": [
    "a = 0\n",
    "Ask1_15_1 = pd.DataFrame([SUM_Ask1_15[a],SUM_Ask1_15[a+1]/SUM_Ask1_15[a],SUM_Ask1_15[a+2]/SUM_Ask1_15[a],SUM_Ask1_15[a+3]/SUM_Ask1_15[a],SUM_Ask1_15[a+4]/SUM_Ask1_15[a]])"
   ]
  },
  {
   "cell_type": "code",
   "execution_count": 97,
   "metadata": {
    "collapsed": false
   },
   "outputs": [
    {
     "data": {
      "text/html": [
       "<div>\n",
       "<table border=\"1\" class=\"dataframe\">\n",
       "  <thead>\n",
       "    <tr style=\"text-align: right;\">\n",
       "      <th></th>\n",
       "      <th>0</th>\n",
       "      <th>1</th>\n",
       "      <th>2</th>\n",
       "      <th>3</th>\n",
       "      <th>4</th>\n",
       "    </tr>\n",
       "  </thead>\n",
       "  <tbody>\n",
       "    <tr>\n",
       "      <th>0</th>\n",
       "      <td>305.000000</td>\n",
       "      <td>346.000000</td>\n",
       "      <td>3002.000000</td>\n",
       "      <td>382.000000</td>\n",
       "      <td>98.000000</td>\n",
       "    </tr>\n",
       "    <tr>\n",
       "      <th>1</th>\n",
       "      <td>0.547541</td>\n",
       "      <td>0.604046</td>\n",
       "      <td>0.392738</td>\n",
       "      <td>0.256545</td>\n",
       "      <td>0.000000</td>\n",
       "    </tr>\n",
       "    <tr>\n",
       "      <th>2</th>\n",
       "      <td>-2.216393</td>\n",
       "      <td>-0.794798</td>\n",
       "      <td>-2.924384</td>\n",
       "      <td>-3.565445</td>\n",
       "      <td>-7.979592</td>\n",
       "    </tr>\n",
       "    <tr>\n",
       "      <th>3</th>\n",
       "      <td>5.724590</td>\n",
       "      <td>5.578035</td>\n",
       "      <td>6.392405</td>\n",
       "      <td>8.730366</td>\n",
       "      <td>10.000000</td>\n",
       "    </tr>\n",
       "    <tr>\n",
       "      <th>4</th>\n",
       "      <td>834.816393</td>\n",
       "      <td>663.731214</td>\n",
       "      <td>720.077282</td>\n",
       "      <td>824.947644</td>\n",
       "      <td>0.000000</td>\n",
       "    </tr>\n",
       "  </tbody>\n",
       "</table>\n",
       "</div>"
      ],
      "text/plain": [
       "            0           1            2           3          4\n",
       "0  305.000000  346.000000  3002.000000  382.000000  98.000000\n",
       "1    0.547541    0.604046     0.392738    0.256545   0.000000\n",
       "2   -2.216393   -0.794798    -2.924384   -3.565445  -7.979592\n",
       "3    5.724590    5.578035     6.392405    8.730366  10.000000\n",
       "4  834.816393  663.731214   720.077282  824.947644   0.000000"
      ]
     },
     "execution_count": 97,
     "metadata": {},
     "output_type": "execute_result"
    }
   ],
   "source": [
    "Ask1_15_1"
   ]
  },
  {
   "cell_type": "code",
   "execution_count": 98,
   "metadata": {
    "collapsed": false
   },
   "outputs": [],
   "source": [
    "a = 5\n",
    "Ask1_15_2 = pd.DataFrame([SUM_Ask1_15[a],SUM_Ask1_15[a+1]/SUM_Ask1_15[a],SUM_Ask1_15[a+2]/SUM_Ask1_15[a],SUM_Ask1_15[a+3]/SUM_Ask1_15[a],SUM_Ask1_15[a+4]/SUM_Ask1_15[a]])"
   ]
  },
  {
   "cell_type": "code",
   "execution_count": 99,
   "metadata": {
    "collapsed": false
   },
   "outputs": [
    {
     "data": {
      "text/html": [
       "<div>\n",
       "<table border=\"1\" class=\"dataframe\">\n",
       "  <thead>\n",
       "    <tr style=\"text-align: right;\">\n",
       "      <th></th>\n",
       "      <th>0</th>\n",
       "      <th>1</th>\n",
       "      <th>2</th>\n",
       "      <th>3</th>\n",
       "      <th>4</th>\n",
       "    </tr>\n",
       "  </thead>\n",
       "  <tbody>\n",
       "    <tr>\n",
       "      <th>0</th>\n",
       "      <td>408.000000</td>\n",
       "      <td>493.000000</td>\n",
       "      <td>943.000000</td>\n",
       "      <td>143.000000</td>\n",
       "      <td>9.000000</td>\n",
       "    </tr>\n",
       "    <tr>\n",
       "      <th>1</th>\n",
       "      <td>0.350490</td>\n",
       "      <td>0.626775</td>\n",
       "      <td>0.417815</td>\n",
       "      <td>0.454545</td>\n",
       "      <td>1.000000</td>\n",
       "    </tr>\n",
       "    <tr>\n",
       "      <th>2</th>\n",
       "      <td>-3.549020</td>\n",
       "      <td>-1.279919</td>\n",
       "      <td>-3.884411</td>\n",
       "      <td>-2.965035</td>\n",
       "      <td>1.000000</td>\n",
       "    </tr>\n",
       "    <tr>\n",
       "      <th>3</th>\n",
       "      <td>6.987745</td>\n",
       "      <td>5.675456</td>\n",
       "      <td>7.262990</td>\n",
       "      <td>6.874126</td>\n",
       "      <td>5.000000</td>\n",
       "    </tr>\n",
       "    <tr>\n",
       "      <th>4</th>\n",
       "      <td>652.237745</td>\n",
       "      <td>540.797160</td>\n",
       "      <td>612.732768</td>\n",
       "      <td>602.237762</td>\n",
       "      <td>213.444444</td>\n",
       "    </tr>\n",
       "  </tbody>\n",
       "</table>\n",
       "</div>"
      ],
      "text/plain": [
       "            0           1           2           3           4\n",
       "0  408.000000  493.000000  943.000000  143.000000    9.000000\n",
       "1    0.350490    0.626775    0.417815    0.454545    1.000000\n",
       "2   -3.549020   -1.279919   -3.884411   -2.965035    1.000000\n",
       "3    6.987745    5.675456    7.262990    6.874126    5.000000\n",
       "4  652.237745  540.797160  612.732768  602.237762  213.444444"
      ]
     },
     "execution_count": 99,
     "metadata": {},
     "output_type": "execute_result"
    }
   ],
   "source": [
    "Ask1_15_2"
   ]
  },
  {
   "cell_type": "code",
   "execution_count": 101,
   "metadata": {
    "collapsed": false
   },
   "outputs": [],
   "source": [
    "a = 10\n",
    "Ask1_15_3 = pd.DataFrame([SUM_Ask1_15[a],SUM_Ask1_15[a+1]/SUM_Ask1_15[a],SUM_Ask1_15[a+2]/SUM_Ask1_15[a],SUM_Ask1_15[a+3]/SUM_Ask1_15[a],SUM_Ask1_15[a+4]/SUM_Ask1_15[a]])"
   ]
  },
  {
   "cell_type": "code",
   "execution_count": 102,
   "metadata": {
    "collapsed": false
   },
   "outputs": [
    {
     "data": {
      "text/html": [
       "<div>\n",
       "<table border=\"1\" class=\"dataframe\">\n",
       "  <thead>\n",
       "    <tr style=\"text-align: right;\">\n",
       "      <th></th>\n",
       "      <th>0</th>\n",
       "      <th>1</th>\n",
       "      <th>2</th>\n",
       "      <th>3</th>\n",
       "      <th>4</th>\n",
       "    </tr>\n",
       "  </thead>\n",
       "  <tbody>\n",
       "    <tr>\n",
       "      <th>0</th>\n",
       "      <td>340.000000</td>\n",
       "      <td>461.000000</td>\n",
       "      <td>859.000000</td>\n",
       "      <td>115.000000</td>\n",
       "      <td>0.0</td>\n",
       "    </tr>\n",
       "    <tr>\n",
       "      <th>1</th>\n",
       "      <td>0.288235</td>\n",
       "      <td>0.694143</td>\n",
       "      <td>0.604191</td>\n",
       "      <td>0.565217</td>\n",
       "      <td>NaN</td>\n",
       "    </tr>\n",
       "    <tr>\n",
       "      <th>2</th>\n",
       "      <td>-4.473529</td>\n",
       "      <td>-0.550976</td>\n",
       "      <td>-1.263097</td>\n",
       "      <td>-1.252174</td>\n",
       "      <td>NaN</td>\n",
       "    </tr>\n",
       "    <tr>\n",
       "      <th>3</th>\n",
       "      <td>8.117647</td>\n",
       "      <td>5.013015</td>\n",
       "      <td>5.110594</td>\n",
       "      <td>5.791304</td>\n",
       "      <td>NaN</td>\n",
       "    </tr>\n",
       "    <tr>\n",
       "      <th>4</th>\n",
       "      <td>717.652941</td>\n",
       "      <td>465.763557</td>\n",
       "      <td>530.689173</td>\n",
       "      <td>530.113043</td>\n",
       "      <td>NaN</td>\n",
       "    </tr>\n",
       "  </tbody>\n",
       "</table>\n",
       "</div>"
      ],
      "text/plain": [
       "            0           1           2           3    4\n",
       "0  340.000000  461.000000  859.000000  115.000000  0.0\n",
       "1    0.288235    0.694143    0.604191    0.565217  NaN\n",
       "2   -4.473529   -0.550976   -1.263097   -1.252174  NaN\n",
       "3    8.117647    5.013015    5.110594    5.791304  NaN\n",
       "4  717.652941  465.763557  530.689173  530.113043  NaN"
      ]
     },
     "execution_count": 102,
     "metadata": {},
     "output_type": "execute_result"
    }
   ],
   "source": [
    "Ask1_15_3"
   ]
  },
  {
   "cell_type": "code",
   "execution_count": 103,
   "metadata": {
    "collapsed": false
   },
   "outputs": [],
   "source": [
    "a = 15\n",
    "Ask1_15_4 = pd.DataFrame([SUM_Ask1_15[a],SUM_Ask1_15[a+1]/SUM_Ask1_15[a],SUM_Ask1_15[a+2]/SUM_Ask1_15[a],SUM_Ask1_15[a+3]/SUM_Ask1_15[a],SUM_Ask1_15[a+4]/SUM_Ask1_15[a]])"
   ]
  },
  {
   "cell_type": "code",
   "execution_count": 104,
   "metadata": {
    "collapsed": false
   },
   "outputs": [
    {
     "data": {
      "text/html": [
       "<div>\n",
       "<table border=\"1\" class=\"dataframe\">\n",
       "  <thead>\n",
       "    <tr style=\"text-align: right;\">\n",
       "      <th></th>\n",
       "      <th>0</th>\n",
       "      <th>1</th>\n",
       "      <th>2</th>\n",
       "      <th>3</th>\n",
       "      <th>4</th>\n",
       "    </tr>\n",
       "  </thead>\n",
       "  <tbody>\n",
       "    <tr>\n",
       "      <th>0</th>\n",
       "      <td>188.000000</td>\n",
       "      <td>241.000000</td>\n",
       "      <td>622.000000</td>\n",
       "      <td>84.000000</td>\n",
       "      <td>0.0</td>\n",
       "    </tr>\n",
       "    <tr>\n",
       "      <th>1</th>\n",
       "      <td>0.367021</td>\n",
       "      <td>0.647303</td>\n",
       "      <td>0.602894</td>\n",
       "      <td>0.273810</td>\n",
       "      <td>NaN</td>\n",
       "    </tr>\n",
       "    <tr>\n",
       "      <th>2</th>\n",
       "      <td>-4.287234</td>\n",
       "      <td>-1.597510</td>\n",
       "      <td>-1.572347</td>\n",
       "      <td>-4.630952</td>\n",
       "      <td>NaN</td>\n",
       "    </tr>\n",
       "    <tr>\n",
       "      <th>3</th>\n",
       "      <td>7.526596</td>\n",
       "      <td>5.477178</td>\n",
       "      <td>5.151125</td>\n",
       "      <td>8.142857</td>\n",
       "      <td>NaN</td>\n",
       "    </tr>\n",
       "    <tr>\n",
       "      <th>4</th>\n",
       "      <td>636.031915</td>\n",
       "      <td>441.174274</td>\n",
       "      <td>517.940514</td>\n",
       "      <td>720.964286</td>\n",
       "      <td>NaN</td>\n",
       "    </tr>\n",
       "  </tbody>\n",
       "</table>\n",
       "</div>"
      ],
      "text/plain": [
       "            0           1           2           3    4\n",
       "0  188.000000  241.000000  622.000000   84.000000  0.0\n",
       "1    0.367021    0.647303    0.602894    0.273810  NaN\n",
       "2   -4.287234   -1.597510   -1.572347   -4.630952  NaN\n",
       "3    7.526596    5.477178    5.151125    8.142857  NaN\n",
       "4  636.031915  441.174274  517.940514  720.964286  NaN"
      ]
     },
     "execution_count": 104,
     "metadata": {},
     "output_type": "execute_result"
    }
   ],
   "source": [
    "Ask1_15_4"
   ]
  },
  {
   "cell_type": "code",
   "execution_count": 105,
   "metadata": {
    "collapsed": false
   },
   "outputs": [],
   "source": [
    "a = 20\n",
    "Ask1_15_5 = pd.DataFrame([SUM_Ask1_15[a],SUM_Ask1_15[a+1]/SUM_Ask1_15[a],SUM_Ask1_15[a+2]/SUM_Ask1_15[a],SUM_Ask1_15[a+3]/SUM_Ask1_15[a],SUM_Ask1_15[a+4]/SUM_Ask1_15[a]])"
   ]
  },
  {
   "cell_type": "code",
   "execution_count": 106,
   "metadata": {
    "collapsed": false
   },
   "outputs": [
    {
     "data": {
      "text/html": [
       "<div>\n",
       "<table border=\"1\" class=\"dataframe\">\n",
       "  <thead>\n",
       "    <tr style=\"text-align: right;\">\n",
       "      <th></th>\n",
       "      <th>0</th>\n",
       "      <th>1</th>\n",
       "      <th>2</th>\n",
       "      <th>3</th>\n",
       "      <th>4</th>\n",
       "    </tr>\n",
       "  </thead>\n",
       "  <tbody>\n",
       "    <tr>\n",
       "      <th>0</th>\n",
       "      <td>402.000000</td>\n",
       "      <td>517.000000</td>\n",
       "      <td>1578.000000</td>\n",
       "      <td>462.000000</td>\n",
       "      <td>2.0</td>\n",
       "    </tr>\n",
       "    <tr>\n",
       "      <th>1</th>\n",
       "      <td>0.308458</td>\n",
       "      <td>0.702128</td>\n",
       "      <td>0.726869</td>\n",
       "      <td>0.623377</td>\n",
       "      <td>0.0</td>\n",
       "    </tr>\n",
       "    <tr>\n",
       "      <th>2</th>\n",
       "      <td>-5.101990</td>\n",
       "      <td>-0.978723</td>\n",
       "      <td>-0.657161</td>\n",
       "      <td>-1.474026</td>\n",
       "      <td>-1.5</td>\n",
       "    </tr>\n",
       "    <tr>\n",
       "      <th>3</th>\n",
       "      <td>8.457711</td>\n",
       "      <td>4.597679</td>\n",
       "      <td>4.504436</td>\n",
       "      <td>4.439394</td>\n",
       "      <td>7.0</td>\n",
       "    </tr>\n",
       "    <tr>\n",
       "      <th>4</th>\n",
       "      <td>670.054726</td>\n",
       "      <td>389.444874</td>\n",
       "      <td>450.773764</td>\n",
       "      <td>443.170996</td>\n",
       "      <td>0.0</td>\n",
       "    </tr>\n",
       "  </tbody>\n",
       "</table>\n",
       "</div>"
      ],
      "text/plain": [
       "            0           1            2           3    4\n",
       "0  402.000000  517.000000  1578.000000  462.000000  2.0\n",
       "1    0.308458    0.702128     0.726869    0.623377  0.0\n",
       "2   -5.101990   -0.978723    -0.657161   -1.474026 -1.5\n",
       "3    8.457711    4.597679     4.504436    4.439394  7.0\n",
       "4  670.054726  389.444874   450.773764  443.170996  0.0"
      ]
     },
     "execution_count": 106,
     "metadata": {},
     "output_type": "execute_result"
    }
   ],
   "source": [
    "Ask1_15_5"
   ]
  },
  {
   "cell_type": "code",
   "execution_count": 107,
   "metadata": {
    "collapsed": false,
    "scrolled": true
   },
   "outputs": [
    {
     "data": {
      "text/html": [
       "<div>\n",
       "<table border=\"1\" class=\"dataframe\">\n",
       "  <thead>\n",
       "    <tr style=\"text-align: right;\">\n",
       "      <th></th>\n",
       "      <th>0</th>\n",
       "      <th>1</th>\n",
       "      <th>2</th>\n",
       "      <th>3</th>\n",
       "      <th>4</th>\n",
       "    </tr>\n",
       "  </thead>\n",
       "  <tbody>\n",
       "    <tr>\n",
       "      <th>0</th>\n",
       "      <td>305.000000</td>\n",
       "      <td>346.000000</td>\n",
       "      <td>3002.000000</td>\n",
       "      <td>382.000000</td>\n",
       "      <td>98.000000</td>\n",
       "    </tr>\n",
       "    <tr>\n",
       "      <th>1</th>\n",
       "      <td>0.547541</td>\n",
       "      <td>0.604046</td>\n",
       "      <td>0.392738</td>\n",
       "      <td>0.256545</td>\n",
       "      <td>0.000000</td>\n",
       "    </tr>\n",
       "    <tr>\n",
       "      <th>2</th>\n",
       "      <td>-2.216393</td>\n",
       "      <td>-0.794798</td>\n",
       "      <td>-2.924384</td>\n",
       "      <td>-3.565445</td>\n",
       "      <td>-7.979592</td>\n",
       "    </tr>\n",
       "    <tr>\n",
       "      <th>3</th>\n",
       "      <td>5.724590</td>\n",
       "      <td>5.578035</td>\n",
       "      <td>6.392405</td>\n",
       "      <td>8.730366</td>\n",
       "      <td>10.000000</td>\n",
       "    </tr>\n",
       "    <tr>\n",
       "      <th>4</th>\n",
       "      <td>834.816393</td>\n",
       "      <td>663.731214</td>\n",
       "      <td>720.077282</td>\n",
       "      <td>824.947644</td>\n",
       "      <td>0.000000</td>\n",
       "    </tr>\n",
       "    <tr>\n",
       "      <th>0</th>\n",
       "      <td>408.000000</td>\n",
       "      <td>493.000000</td>\n",
       "      <td>943.000000</td>\n",
       "      <td>143.000000</td>\n",
       "      <td>9.000000</td>\n",
       "    </tr>\n",
       "    <tr>\n",
       "      <th>1</th>\n",
       "      <td>0.350490</td>\n",
       "      <td>0.626775</td>\n",
       "      <td>0.417815</td>\n",
       "      <td>0.454545</td>\n",
       "      <td>1.000000</td>\n",
       "    </tr>\n",
       "    <tr>\n",
       "      <th>2</th>\n",
       "      <td>-3.549020</td>\n",
       "      <td>-1.279919</td>\n",
       "      <td>-3.884411</td>\n",
       "      <td>-2.965035</td>\n",
       "      <td>1.000000</td>\n",
       "    </tr>\n",
       "    <tr>\n",
       "      <th>3</th>\n",
       "      <td>6.987745</td>\n",
       "      <td>5.675456</td>\n",
       "      <td>7.262990</td>\n",
       "      <td>6.874126</td>\n",
       "      <td>5.000000</td>\n",
       "    </tr>\n",
       "    <tr>\n",
       "      <th>4</th>\n",
       "      <td>652.237745</td>\n",
       "      <td>540.797160</td>\n",
       "      <td>612.732768</td>\n",
       "      <td>602.237762</td>\n",
       "      <td>213.444444</td>\n",
       "    </tr>\n",
       "    <tr>\n",
       "      <th>0</th>\n",
       "      <td>340.000000</td>\n",
       "      <td>461.000000</td>\n",
       "      <td>859.000000</td>\n",
       "      <td>115.000000</td>\n",
       "      <td>0.000000</td>\n",
       "    </tr>\n",
       "    <tr>\n",
       "      <th>1</th>\n",
       "      <td>0.288235</td>\n",
       "      <td>0.694143</td>\n",
       "      <td>0.604191</td>\n",
       "      <td>0.565217</td>\n",
       "      <td>NaN</td>\n",
       "    </tr>\n",
       "    <tr>\n",
       "      <th>2</th>\n",
       "      <td>-4.473529</td>\n",
       "      <td>-0.550976</td>\n",
       "      <td>-1.263097</td>\n",
       "      <td>-1.252174</td>\n",
       "      <td>NaN</td>\n",
       "    </tr>\n",
       "    <tr>\n",
       "      <th>3</th>\n",
       "      <td>8.117647</td>\n",
       "      <td>5.013015</td>\n",
       "      <td>5.110594</td>\n",
       "      <td>5.791304</td>\n",
       "      <td>NaN</td>\n",
       "    </tr>\n",
       "    <tr>\n",
       "      <th>4</th>\n",
       "      <td>717.652941</td>\n",
       "      <td>465.763557</td>\n",
       "      <td>530.689173</td>\n",
       "      <td>530.113043</td>\n",
       "      <td>NaN</td>\n",
       "    </tr>\n",
       "    <tr>\n",
       "      <th>0</th>\n",
       "      <td>188.000000</td>\n",
       "      <td>241.000000</td>\n",
       "      <td>622.000000</td>\n",
       "      <td>84.000000</td>\n",
       "      <td>0.000000</td>\n",
       "    </tr>\n",
       "    <tr>\n",
       "      <th>1</th>\n",
       "      <td>0.367021</td>\n",
       "      <td>0.647303</td>\n",
       "      <td>0.602894</td>\n",
       "      <td>0.273810</td>\n",
       "      <td>NaN</td>\n",
       "    </tr>\n",
       "    <tr>\n",
       "      <th>2</th>\n",
       "      <td>-4.287234</td>\n",
       "      <td>-1.597510</td>\n",
       "      <td>-1.572347</td>\n",
       "      <td>-4.630952</td>\n",
       "      <td>NaN</td>\n",
       "    </tr>\n",
       "    <tr>\n",
       "      <th>3</th>\n",
       "      <td>7.526596</td>\n",
       "      <td>5.477178</td>\n",
       "      <td>5.151125</td>\n",
       "      <td>8.142857</td>\n",
       "      <td>NaN</td>\n",
       "    </tr>\n",
       "    <tr>\n",
       "      <th>4</th>\n",
       "      <td>636.031915</td>\n",
       "      <td>441.174274</td>\n",
       "      <td>517.940514</td>\n",
       "      <td>720.964286</td>\n",
       "      <td>NaN</td>\n",
       "    </tr>\n",
       "    <tr>\n",
       "      <th>0</th>\n",
       "      <td>402.000000</td>\n",
       "      <td>517.000000</td>\n",
       "      <td>1578.000000</td>\n",
       "      <td>462.000000</td>\n",
       "      <td>2.000000</td>\n",
       "    </tr>\n",
       "    <tr>\n",
       "      <th>1</th>\n",
       "      <td>0.308458</td>\n",
       "      <td>0.702128</td>\n",
       "      <td>0.726869</td>\n",
       "      <td>0.623377</td>\n",
       "      <td>0.000000</td>\n",
       "    </tr>\n",
       "    <tr>\n",
       "      <th>2</th>\n",
       "      <td>-5.101990</td>\n",
       "      <td>-0.978723</td>\n",
       "      <td>-0.657161</td>\n",
       "      <td>-1.474026</td>\n",
       "      <td>-1.500000</td>\n",
       "    </tr>\n",
       "    <tr>\n",
       "      <th>3</th>\n",
       "      <td>8.457711</td>\n",
       "      <td>4.597679</td>\n",
       "      <td>4.504436</td>\n",
       "      <td>4.439394</td>\n",
       "      <td>7.000000</td>\n",
       "    </tr>\n",
       "    <tr>\n",
       "      <th>4</th>\n",
       "      <td>670.054726</td>\n",
       "      <td>389.444874</td>\n",
       "      <td>450.773764</td>\n",
       "      <td>443.170996</td>\n",
       "      <td>0.000000</td>\n",
       "    </tr>\n",
       "  </tbody>\n",
       "</table>\n",
       "</div>"
      ],
      "text/plain": [
       "            0           1            2           3           4\n",
       "0  305.000000  346.000000  3002.000000  382.000000   98.000000\n",
       "1    0.547541    0.604046     0.392738    0.256545    0.000000\n",
       "2   -2.216393   -0.794798    -2.924384   -3.565445   -7.979592\n",
       "3    5.724590    5.578035     6.392405    8.730366   10.000000\n",
       "4  834.816393  663.731214   720.077282  824.947644    0.000000\n",
       "0  408.000000  493.000000   943.000000  143.000000    9.000000\n",
       "1    0.350490    0.626775     0.417815    0.454545    1.000000\n",
       "2   -3.549020   -1.279919    -3.884411   -2.965035    1.000000\n",
       "3    6.987745    5.675456     7.262990    6.874126    5.000000\n",
       "4  652.237745  540.797160   612.732768  602.237762  213.444444\n",
       "0  340.000000  461.000000   859.000000  115.000000    0.000000\n",
       "1    0.288235    0.694143     0.604191    0.565217         NaN\n",
       "2   -4.473529   -0.550976    -1.263097   -1.252174         NaN\n",
       "3    8.117647    5.013015     5.110594    5.791304         NaN\n",
       "4  717.652941  465.763557   530.689173  530.113043         NaN\n",
       "0  188.000000  241.000000   622.000000   84.000000    0.000000\n",
       "1    0.367021    0.647303     0.602894    0.273810         NaN\n",
       "2   -4.287234   -1.597510    -1.572347   -4.630952         NaN\n",
       "3    7.526596    5.477178     5.151125    8.142857         NaN\n",
       "4  636.031915  441.174274   517.940514  720.964286         NaN\n",
       "0  402.000000  517.000000  1578.000000  462.000000    2.000000\n",
       "1    0.308458    0.702128     0.726869    0.623377    0.000000\n",
       "2   -5.101990   -0.978723    -0.657161   -1.474026   -1.500000\n",
       "3    8.457711    4.597679     4.504436    4.439394    7.000000\n",
       "4  670.054726  389.444874   450.773764  443.170996    0.000000"
      ]
     },
     "execution_count": 107,
     "metadata": {},
     "output_type": "execute_result"
    }
   ],
   "source": [
    "pd.concat([Ask1_15_1,Ask1_15_2,Ask1_15_3,Ask1_15_4,Ask1_15_5])"
   ]
  },
  {
   "cell_type": "code",
   "execution_count": 108,
   "metadata": {
    "collapsed": true
   },
   "outputs": [],
   "source": [
    "pd.concat([Ask1_15_1,Ask1_15_2,Ask1_15_3,Ask1_15_4,Ask1_15_5]).to_csv('ask1_15_115_102.csv')"
   ]
  },
  {
   "cell_type": "code",
   "execution_count": null,
   "metadata": {
    "collapsed": true
   },
   "outputs": [],
   "source": []
  },
  {
   "cell_type": "code",
   "execution_count": null,
   "metadata": {
    "collapsed": true
   },
   "outputs": [],
   "source": []
  },
  {
   "cell_type": "code",
   "execution_count": null,
   "metadata": {
    "collapsed": true
   },
   "outputs": [],
   "source": []
  },
  {
   "cell_type": "code",
   "execution_count": null,
   "metadata": {
    "collapsed": true
   },
   "outputs": [],
   "source": []
  },
  {
   "cell_type": "code",
   "execution_count": null,
   "metadata": {
    "collapsed": true
   },
   "outputs": [],
   "source": []
  },
  {
   "cell_type": "code",
   "execution_count": 109,
   "metadata": {
    "collapsed": false
   },
   "outputs": [],
   "source": [
    "a = 0\n",
    "Ask2_15_1 = pd.DataFrame([SUM_Ask2_15[a],SUM_Ask2_15[a+1]/SUM_Ask2_15[a],SUM_Ask2_15[a+2]/SUM_Ask2_15[a],SUM_Ask2_15[a+3]/SUM_Ask2_15[a],SUM_Ask2_15[a+4]/SUM_Ask2_15[a]])"
   ]
  },
  {
   "cell_type": "code",
   "execution_count": 110,
   "metadata": {
    "collapsed": false
   },
   "outputs": [],
   "source": [
    "a = 5\n",
    "Ask2_15_2 = pd.DataFrame([SUM_Ask2_15[a],SUM_Ask2_15[a+1]/SUM_Ask2_15[a],SUM_Ask2_15[a+2]/SUM_Ask2_15[a],SUM_Ask2_15[a+3]/SUM_Ask2_15[a],SUM_Ask2_15[a+4]/SUM_Ask2_15[a]])"
   ]
  },
  {
   "cell_type": "code",
   "execution_count": 111,
   "metadata": {
    "collapsed": false
   },
   "outputs": [],
   "source": [
    "a = 10\n",
    "Ask2_15_3 = pd.DataFrame([SUM_Ask2_15[a],SUM_Ask2_15[a+1]/SUM_Ask2_15[a],SUM_Ask2_15[a+2]/SUM_Ask2_15[a],SUM_Ask2_15[a+3]/SUM_Ask2_15[a],SUM_Ask2_15[a+4]/SUM_Ask2_15[a]])"
   ]
  },
  {
   "cell_type": "code",
   "execution_count": 112,
   "metadata": {
    "collapsed": false
   },
   "outputs": [],
   "source": [
    "a = 15\n",
    "Ask2_15_4 = pd.DataFrame([SUM_Ask2_15[a],SUM_Ask2_15[a+1]/SUM_Ask2_15[a],SUM_Ask2_15[a+2]/SUM_Ask2_15[a],SUM_Ask2_15[a+3]/SUM_Ask2_15[a],SUM_Ask2_15[a+4]/SUM_Ask2_15[a]])"
   ]
  },
  {
   "cell_type": "code",
   "execution_count": 113,
   "metadata": {
    "collapsed": false
   },
   "outputs": [],
   "source": [
    "a = 20\n",
    "Ask2_15_5 = pd.DataFrame([SUM_Ask2_15[a],SUM_Ask2_15[a+1]/SUM_Ask2_15[a],SUM_Ask2_15[a+2]/SUM_Ask2_15[a],SUM_Ask2_15[a+3]/SUM_Ask2_15[a],SUM_Ask2_15[a+4]/SUM_Ask2_15[a]])"
   ]
  },
  {
   "cell_type": "code",
   "execution_count": 114,
   "metadata": {
    "collapsed": false,
    "scrolled": true
   },
   "outputs": [
    {
     "data": {
      "text/html": [
       "<div>\n",
       "<table border=\"1\" class=\"dataframe\">\n",
       "  <thead>\n",
       "    <tr style=\"text-align: right;\">\n",
       "      <th></th>\n",
       "      <th>0</th>\n",
       "      <th>1</th>\n",
       "      <th>2</th>\n",
       "      <th>3</th>\n",
       "      <th>4</th>\n",
       "    </tr>\n",
       "  </thead>\n",
       "  <tbody>\n",
       "    <tr>\n",
       "      <th>0</th>\n",
       "      <td>305.000000</td>\n",
       "      <td>346.000000</td>\n",
       "      <td>3002.000000</td>\n",
       "      <td>382.000000</td>\n",
       "      <td>98.000000</td>\n",
       "    </tr>\n",
       "    <tr>\n",
       "      <th>1</th>\n",
       "      <td>0.459016</td>\n",
       "      <td>0.488439</td>\n",
       "      <td>0.131246</td>\n",
       "      <td>0.060209</td>\n",
       "      <td>0.000000</td>\n",
       "    </tr>\n",
       "    <tr>\n",
       "      <th>2</th>\n",
       "      <td>-2.068852</td>\n",
       "      <td>-0.497110</td>\n",
       "      <td>-3.222518</td>\n",
       "      <td>-4.806283</td>\n",
       "      <td>-7.979592</td>\n",
       "    </tr>\n",
       "    <tr>\n",
       "      <th>3</th>\n",
       "      <td>7.062295</td>\n",
       "      <td>6.748555</td>\n",
       "      <td>7.872751</td>\n",
       "      <td>9.971204</td>\n",
       "      <td>11.000000</td>\n",
       "    </tr>\n",
       "    <tr>\n",
       "      <th>4</th>\n",
       "      <td>945.478689</td>\n",
       "      <td>712.549133</td>\n",
       "      <td>844.343105</td>\n",
       "      <td>873.366492</td>\n",
       "      <td>0.000000</td>\n",
       "    </tr>\n",
       "    <tr>\n",
       "      <th>0</th>\n",
       "      <td>408.000000</td>\n",
       "      <td>493.000000</td>\n",
       "      <td>943.000000</td>\n",
       "      <td>143.000000</td>\n",
       "      <td>9.000000</td>\n",
       "    </tr>\n",
       "    <tr>\n",
       "      <th>1</th>\n",
       "      <td>0.205882</td>\n",
       "      <td>0.578093</td>\n",
       "      <td>0.232238</td>\n",
       "      <td>0.356643</td>\n",
       "      <td>1.000000</td>\n",
       "    </tr>\n",
       "    <tr>\n",
       "      <th>2</th>\n",
       "      <td>-3.901961</td>\n",
       "      <td>-0.880325</td>\n",
       "      <td>-4.292683</td>\n",
       "      <td>-3.069930</td>\n",
       "      <td>2.000000</td>\n",
       "    </tr>\n",
       "    <tr>\n",
       "      <th>3</th>\n",
       "      <td>8.647059</td>\n",
       "      <td>6.971602</td>\n",
       "      <td>8.869565</td>\n",
       "      <td>8.601399</td>\n",
       "      <td>6.000000</td>\n",
       "    </tr>\n",
       "    <tr>\n",
       "      <th>4</th>\n",
       "      <td>788.379902</td>\n",
       "      <td>592.947262</td>\n",
       "      <td>766.735949</td>\n",
       "      <td>677.783217</td>\n",
       "      <td>216.444444</td>\n",
       "    </tr>\n",
       "    <tr>\n",
       "      <th>0</th>\n",
       "      <td>340.000000</td>\n",
       "      <td>461.000000</td>\n",
       "      <td>859.000000</td>\n",
       "      <td>115.000000</td>\n",
       "      <td>0.000000</td>\n",
       "    </tr>\n",
       "    <tr>\n",
       "      <th>1</th>\n",
       "      <td>0.129412</td>\n",
       "      <td>0.609544</td>\n",
       "      <td>0.413271</td>\n",
       "      <td>0.347826</td>\n",
       "      <td>NaN</td>\n",
       "    </tr>\n",
       "    <tr>\n",
       "      <th>2</th>\n",
       "      <td>-4.952941</td>\n",
       "      <td>-0.876356</td>\n",
       "      <td>-1.552969</td>\n",
       "      <td>-2.434783</td>\n",
       "      <td>NaN</td>\n",
       "    </tr>\n",
       "    <tr>\n",
       "      <th>3</th>\n",
       "      <td>9.732353</td>\n",
       "      <td>7.049892</td>\n",
       "      <td>6.825378</td>\n",
       "      <td>8.017391</td>\n",
       "      <td>NaN</td>\n",
       "    </tr>\n",
       "    <tr>\n",
       "      <th>4</th>\n",
       "      <td>838.323529</td>\n",
       "      <td>557.639913</td>\n",
       "      <td>684.398137</td>\n",
       "      <td>672.817391</td>\n",
       "      <td>NaN</td>\n",
       "    </tr>\n",
       "    <tr>\n",
       "      <th>0</th>\n",
       "      <td>188.000000</td>\n",
       "      <td>241.000000</td>\n",
       "      <td>622.000000</td>\n",
       "      <td>84.000000</td>\n",
       "      <td>0.000000</td>\n",
       "    </tr>\n",
       "    <tr>\n",
       "      <th>1</th>\n",
       "      <td>0.175532</td>\n",
       "      <td>0.510373</td>\n",
       "      <td>0.429260</td>\n",
       "      <td>0.142857</td>\n",
       "      <td>NaN</td>\n",
       "    </tr>\n",
       "    <tr>\n",
       "      <th>2</th>\n",
       "      <td>-4.925532</td>\n",
       "      <td>-1.775934</td>\n",
       "      <td>-1.786174</td>\n",
       "      <td>-4.988095</td>\n",
       "      <td>NaN</td>\n",
       "    </tr>\n",
       "    <tr>\n",
       "      <th>3</th>\n",
       "      <td>9.271277</td>\n",
       "      <td>7.261411</td>\n",
       "      <td>6.927653</td>\n",
       "      <td>9.892857</td>\n",
       "      <td>NaN</td>\n",
       "    </tr>\n",
       "    <tr>\n",
       "      <th>4</th>\n",
       "      <td>783.707447</td>\n",
       "      <td>552.273859</td>\n",
       "      <td>673.131833</td>\n",
       "      <td>806.035714</td>\n",
       "      <td>NaN</td>\n",
       "    </tr>\n",
       "    <tr>\n",
       "      <th>0</th>\n",
       "      <td>402.000000</td>\n",
       "      <td>517.000000</td>\n",
       "      <td>1578.000000</td>\n",
       "      <td>462.000000</td>\n",
       "      <td>2.000000</td>\n",
       "    </tr>\n",
       "    <tr>\n",
       "      <th>1</th>\n",
       "      <td>0.119403</td>\n",
       "      <td>0.539652</td>\n",
       "      <td>0.500000</td>\n",
       "      <td>0.158009</td>\n",
       "      <td>0.000000</td>\n",
       "    </tr>\n",
       "    <tr>\n",
       "      <th>2</th>\n",
       "      <td>-5.786070</td>\n",
       "      <td>-1.189555</td>\n",
       "      <td>-1.045627</td>\n",
       "      <td>-4.398268</td>\n",
       "      <td>-1.500000</td>\n",
       "    </tr>\n",
       "    <tr>\n",
       "      <th>3</th>\n",
       "      <td>10.184080</td>\n",
       "      <td>6.419729</td>\n",
       "      <td>6.465779</td>\n",
       "      <td>9.075758</td>\n",
       "      <td>8.000000</td>\n",
       "    </tr>\n",
       "    <tr>\n",
       "      <th>4</th>\n",
       "      <td>815.203980</td>\n",
       "      <td>529.145068</td>\n",
       "      <td>639.209125</td>\n",
       "      <td>796.677489</td>\n",
       "      <td>0.000000</td>\n",
       "    </tr>\n",
       "  </tbody>\n",
       "</table>\n",
       "</div>"
      ],
      "text/plain": [
       "            0           1            2           3           4\n",
       "0  305.000000  346.000000  3002.000000  382.000000   98.000000\n",
       "1    0.459016    0.488439     0.131246    0.060209    0.000000\n",
       "2   -2.068852   -0.497110    -3.222518   -4.806283   -7.979592\n",
       "3    7.062295    6.748555     7.872751    9.971204   11.000000\n",
       "4  945.478689  712.549133   844.343105  873.366492    0.000000\n",
       "0  408.000000  493.000000   943.000000  143.000000    9.000000\n",
       "1    0.205882    0.578093     0.232238    0.356643    1.000000\n",
       "2   -3.901961   -0.880325    -4.292683   -3.069930    2.000000\n",
       "3    8.647059    6.971602     8.869565    8.601399    6.000000\n",
       "4  788.379902  592.947262   766.735949  677.783217  216.444444\n",
       "0  340.000000  461.000000   859.000000  115.000000    0.000000\n",
       "1    0.129412    0.609544     0.413271    0.347826         NaN\n",
       "2   -4.952941   -0.876356    -1.552969   -2.434783         NaN\n",
       "3    9.732353    7.049892     6.825378    8.017391         NaN\n",
       "4  838.323529  557.639913   684.398137  672.817391         NaN\n",
       "0  188.000000  241.000000   622.000000   84.000000    0.000000\n",
       "1    0.175532    0.510373     0.429260    0.142857         NaN\n",
       "2   -4.925532   -1.775934    -1.786174   -4.988095         NaN\n",
       "3    9.271277    7.261411     6.927653    9.892857         NaN\n",
       "4  783.707447  552.273859   673.131833  806.035714         NaN\n",
       "0  402.000000  517.000000  1578.000000  462.000000    2.000000\n",
       "1    0.119403    0.539652     0.500000    0.158009    0.000000\n",
       "2   -5.786070   -1.189555    -1.045627   -4.398268   -1.500000\n",
       "3   10.184080    6.419729     6.465779    9.075758    8.000000\n",
       "4  815.203980  529.145068   639.209125  796.677489    0.000000"
      ]
     },
     "execution_count": 114,
     "metadata": {},
     "output_type": "execute_result"
    }
   ],
   "source": [
    "pd.concat([Ask2_15_1,Ask2_15_2,Ask2_15_3,Ask2_15_4,Ask2_15_5])"
   ]
  },
  {
   "cell_type": "code",
   "execution_count": 115,
   "metadata": {
    "collapsed": true
   },
   "outputs": [],
   "source": [
    "pd.concat([Ask2_15_1,Ask2_15_2,Ask2_15_3,Ask2_15_4,Ask2_15_5]).to_csv('ask2_15_115_102.csv')"
   ]
  },
  {
   "cell_type": "code",
   "execution_count": null,
   "metadata": {
    "collapsed": true
   },
   "outputs": [],
   "source": []
  },
  {
   "cell_type": "code",
   "execution_count": null,
   "metadata": {
    "collapsed": true
   },
   "outputs": [],
   "source": []
  },
  {
   "cell_type": "code",
   "execution_count": 116,
   "metadata": {
    "collapsed": false
   },
   "outputs": [],
   "source": [
    "a = 0\n",
    "Ask3_15_1 = pd.DataFrame([SUM_Ask3_15[a],SUM_Ask3_15[a+1]/SUM_Ask3_15[a],SUM_Ask3_15[a+2]/SUM_Ask3_15[a],SUM_Ask3_15[a+3]/SUM_Ask3_15[a],SUM_Ask3_15[a+4]/SUM_Ask3_15[a]])"
   ]
  },
  {
   "cell_type": "code",
   "execution_count": 117,
   "metadata": {
    "collapsed": false
   },
   "outputs": [],
   "source": [
    "a = 5\n",
    "Ask3_15_2 = pd.DataFrame([SUM_Ask3_15[a],SUM_Ask3_15[a+1]/SUM_Ask3_15[a],SUM_Ask3_15[a+2]/SUM_Ask3_15[a],SUM_Ask3_15[a+3]/SUM_Ask3_15[a],SUM_Ask3_15[a+4]/SUM_Ask3_15[a]])"
   ]
  },
  {
   "cell_type": "code",
   "execution_count": 118,
   "metadata": {
    "collapsed": false
   },
   "outputs": [],
   "source": [
    "a = 10\n",
    "Ask3_15_3 = pd.DataFrame([SUM_Ask3_15[a],SUM_Ask3_15[a+1]/SUM_Ask3_15[a],SUM_Ask3_15[a+2]/SUM_Ask3_15[a],SUM_Ask3_15[a+3]/SUM_Ask3_15[a],SUM_Ask3_15[a+4]/SUM_Ask3_15[a]])"
   ]
  },
  {
   "cell_type": "code",
   "execution_count": 119,
   "metadata": {
    "collapsed": false
   },
   "outputs": [],
   "source": [
    "a = 15\n",
    "Ask3_15_4 = pd.DataFrame([SUM_Ask3_15[a],SUM_Ask3_15[a+1]/SUM_Ask3_15[a],SUM_Ask3_15[a+2]/SUM_Ask3_15[a],SUM_Ask3_15[a+3]/SUM_Ask3_15[a],SUM_Ask3_15[a+4]/SUM_Ask3_15[a]])"
   ]
  },
  {
   "cell_type": "code",
   "execution_count": 120,
   "metadata": {
    "collapsed": false
   },
   "outputs": [],
   "source": [
    "a = 20\n",
    "Ask3_15_5 = pd.DataFrame([SUM_Ask3_15[a],SUM_Ask3_15[a+1]/SUM_Ask3_15[a],SUM_Ask3_15[a+2]/SUM_Ask3_15[a],SUM_Ask3_15[a+3]/SUM_Ask3_15[a],SUM_Ask3_15[a+4]/SUM_Ask3_15[a]])"
   ]
  },
  {
   "cell_type": "code",
   "execution_count": 121,
   "metadata": {
    "collapsed": false,
    "scrolled": true
   },
   "outputs": [
    {
     "data": {
      "text/html": [
       "<div>\n",
       "<table border=\"1\" class=\"dataframe\">\n",
       "  <thead>\n",
       "    <tr style=\"text-align: right;\">\n",
       "      <th></th>\n",
       "      <th>0</th>\n",
       "      <th>1</th>\n",
       "      <th>2</th>\n",
       "      <th>3</th>\n",
       "      <th>4</th>\n",
       "    </tr>\n",
       "  </thead>\n",
       "  <tbody>\n",
       "    <tr>\n",
       "      <th>0</th>\n",
       "      <td>305.000000</td>\n",
       "      <td>346.000000</td>\n",
       "      <td>3002.000000</td>\n",
       "      <td>382.000000</td>\n",
       "      <td>98.000000</td>\n",
       "    </tr>\n",
       "    <tr>\n",
       "      <th>1</th>\n",
       "      <td>0.308197</td>\n",
       "      <td>0.115607</td>\n",
       "      <td>0.099933</td>\n",
       "      <td>0.026178</td>\n",
       "      <td>0.000000</td>\n",
       "    </tr>\n",
       "    <tr>\n",
       "      <th>2</th>\n",
       "      <td>-1.908197</td>\n",
       "      <td>-1.127168</td>\n",
       "      <td>-3.225849</td>\n",
       "      <td>-5.086387</td>\n",
       "      <td>-7.979592</td>\n",
       "    </tr>\n",
       "    <tr>\n",
       "      <th>3</th>\n",
       "      <td>8.127869</td>\n",
       "      <td>7.760116</td>\n",
       "      <td>8.922385</td>\n",
       "      <td>11.107330</td>\n",
       "      <td>12.000000</td>\n",
       "    </tr>\n",
       "    <tr>\n",
       "      <th>4</th>\n",
       "      <td>1047.737705</td>\n",
       "      <td>832.193642</td>\n",
       "      <td>869.523984</td>\n",
       "      <td>892.811518</td>\n",
       "      <td>0.000000</td>\n",
       "    </tr>\n",
       "    <tr>\n",
       "      <th>0</th>\n",
       "      <td>408.000000</td>\n",
       "      <td>493.000000</td>\n",
       "      <td>943.000000</td>\n",
       "      <td>143.000000</td>\n",
       "      <td>9.000000</td>\n",
       "    </tr>\n",
       "    <tr>\n",
       "      <th>1</th>\n",
       "      <td>0.132353</td>\n",
       "      <td>0.176471</td>\n",
       "      <td>0.121951</td>\n",
       "      <td>0.153846</td>\n",
       "      <td>0.000000</td>\n",
       "    </tr>\n",
       "    <tr>\n",
       "      <th>2</th>\n",
       "      <td>-3.848039</td>\n",
       "      <td>-1.184584</td>\n",
       "      <td>-4.612937</td>\n",
       "      <td>-4.762238</td>\n",
       "      <td>-7.000000</td>\n",
       "    </tr>\n",
       "    <tr>\n",
       "      <th>3</th>\n",
       "      <td>9.678922</td>\n",
       "      <td>8.056795</td>\n",
       "      <td>10.065748</td>\n",
       "      <td>10.412587</td>\n",
       "      <td>11.000000</td>\n",
       "    </tr>\n",
       "    <tr>\n",
       "      <th>4</th>\n",
       "      <td>851.811275</td>\n",
       "      <td>791.387424</td>\n",
       "      <td>844.670201</td>\n",
       "      <td>802.419580</td>\n",
       "      <td>0.000000</td>\n",
       "    </tr>\n",
       "    <tr>\n",
       "      <th>0</th>\n",
       "      <td>340.000000</td>\n",
       "      <td>461.000000</td>\n",
       "      <td>859.000000</td>\n",
       "      <td>115.000000</td>\n",
       "      <td>0.000000</td>\n",
       "    </tr>\n",
       "    <tr>\n",
       "      <th>1</th>\n",
       "      <td>0.061765</td>\n",
       "      <td>0.197397</td>\n",
       "      <td>0.239814</td>\n",
       "      <td>0.234783</td>\n",
       "      <td>NaN</td>\n",
       "    </tr>\n",
       "    <tr>\n",
       "      <th>2</th>\n",
       "      <td>-4.958824</td>\n",
       "      <td>-1.266811</td>\n",
       "      <td>-1.931315</td>\n",
       "      <td>-3.313043</td>\n",
       "      <td>NaN</td>\n",
       "    </tr>\n",
       "    <tr>\n",
       "      <th>3</th>\n",
       "      <td>10.744118</td>\n",
       "      <td>8.375271</td>\n",
       "      <td>7.980210</td>\n",
       "      <td>9.469565</td>\n",
       "      <td>NaN</td>\n",
       "    </tr>\n",
       "    <tr>\n",
       "      <th>4</th>\n",
       "      <td>863.952941</td>\n",
       "      <td>811.275488</td>\n",
       "      <td>781.338766</td>\n",
       "      <td>752.626087</td>\n",
       "      <td>NaN</td>\n",
       "    </tr>\n",
       "    <tr>\n",
       "      <th>0</th>\n",
       "      <td>188.000000</td>\n",
       "      <td>241.000000</td>\n",
       "      <td>622.000000</td>\n",
       "      <td>84.000000</td>\n",
       "      <td>0.000000</td>\n",
       "    </tr>\n",
       "    <tr>\n",
       "      <th>1</th>\n",
       "      <td>0.095745</td>\n",
       "      <td>0.298755</td>\n",
       "      <td>0.141479</td>\n",
       "      <td>0.142857</td>\n",
       "      <td>NaN</td>\n",
       "    </tr>\n",
       "    <tr>\n",
       "      <th>2</th>\n",
       "      <td>-4.968085</td>\n",
       "      <td>-1.921162</td>\n",
       "      <td>-2.729904</td>\n",
       "      <td>-4.845238</td>\n",
       "      <td>NaN</td>\n",
       "    </tr>\n",
       "    <tr>\n",
       "      <th>3</th>\n",
       "      <td>10.430851</td>\n",
       "      <td>8.792531</td>\n",
       "      <td>8.344051</td>\n",
       "      <td>10.940476</td>\n",
       "      <td>NaN</td>\n",
       "    </tr>\n",
       "    <tr>\n",
       "      <th>4</th>\n",
       "      <td>834.297872</td>\n",
       "      <td>717.282158</td>\n",
       "      <td>834.327974</td>\n",
       "      <td>810.607143</td>\n",
       "      <td>NaN</td>\n",
       "    </tr>\n",
       "    <tr>\n",
       "      <th>0</th>\n",
       "      <td>402.000000</td>\n",
       "      <td>517.000000</td>\n",
       "      <td>1578.000000</td>\n",
       "      <td>462.000000</td>\n",
       "      <td>2.000000</td>\n",
       "    </tr>\n",
       "    <tr>\n",
       "      <th>1</th>\n",
       "      <td>0.064677</td>\n",
       "      <td>0.390716</td>\n",
       "      <td>0.271229</td>\n",
       "      <td>0.116883</td>\n",
       "      <td>0.000000</td>\n",
       "    </tr>\n",
       "    <tr>\n",
       "      <th>2</th>\n",
       "      <td>-5.893035</td>\n",
       "      <td>-1.156673</td>\n",
       "      <td>-1.653992</td>\n",
       "      <td>-4.357143</td>\n",
       "      <td>-1.500000</td>\n",
       "    </tr>\n",
       "    <tr>\n",
       "      <th>3</th>\n",
       "      <td>11.430348</td>\n",
       "      <td>7.911025</td>\n",
       "      <td>8.021546</td>\n",
       "      <td>10.378788</td>\n",
       "      <td>9.000000</td>\n",
       "    </tr>\n",
       "    <tr>\n",
       "      <th>4</th>\n",
       "      <td>865.539801</td>\n",
       "      <td>656.311412</td>\n",
       "      <td>783.000000</td>\n",
       "      <td>827.619048</td>\n",
       "      <td>0.000000</td>\n",
       "    </tr>\n",
       "  </tbody>\n",
       "</table>\n",
       "</div>"
      ],
      "text/plain": [
       "             0           1            2           3          4\n",
       "0   305.000000  346.000000  3002.000000  382.000000  98.000000\n",
       "1     0.308197    0.115607     0.099933    0.026178   0.000000\n",
       "2    -1.908197   -1.127168    -3.225849   -5.086387  -7.979592\n",
       "3     8.127869    7.760116     8.922385   11.107330  12.000000\n",
       "4  1047.737705  832.193642   869.523984  892.811518   0.000000\n",
       "0   408.000000  493.000000   943.000000  143.000000   9.000000\n",
       "1     0.132353    0.176471     0.121951    0.153846   0.000000\n",
       "2    -3.848039   -1.184584    -4.612937   -4.762238  -7.000000\n",
       "3     9.678922    8.056795    10.065748   10.412587  11.000000\n",
       "4   851.811275  791.387424   844.670201  802.419580   0.000000\n",
       "0   340.000000  461.000000   859.000000  115.000000   0.000000\n",
       "1     0.061765    0.197397     0.239814    0.234783        NaN\n",
       "2    -4.958824   -1.266811    -1.931315   -3.313043        NaN\n",
       "3    10.744118    8.375271     7.980210    9.469565        NaN\n",
       "4   863.952941  811.275488   781.338766  752.626087        NaN\n",
       "0   188.000000  241.000000   622.000000   84.000000   0.000000\n",
       "1     0.095745    0.298755     0.141479    0.142857        NaN\n",
       "2    -4.968085   -1.921162    -2.729904   -4.845238        NaN\n",
       "3    10.430851    8.792531     8.344051   10.940476        NaN\n",
       "4   834.297872  717.282158   834.327974  810.607143        NaN\n",
       "0   402.000000  517.000000  1578.000000  462.000000   2.000000\n",
       "1     0.064677    0.390716     0.271229    0.116883   0.000000\n",
       "2    -5.893035   -1.156673    -1.653992   -4.357143  -1.500000\n",
       "3    11.430348    7.911025     8.021546   10.378788   9.000000\n",
       "4   865.539801  656.311412   783.000000  827.619048   0.000000"
      ]
     },
     "execution_count": 121,
     "metadata": {},
     "output_type": "execute_result"
    }
   ],
   "source": [
    "pd.concat([Ask3_15_1,Ask3_15_2,Ask3_15_3,Ask3_15_4,Ask3_15_5])"
   ]
  },
  {
   "cell_type": "code",
   "execution_count": 122,
   "metadata": {
    "collapsed": true
   },
   "outputs": [],
   "source": [
    "pd.concat([Ask3_15_1,Ask3_15_2,Ask3_15_3,Ask3_15_4,Ask3_15_5]).to_csv('ask3_15_115_102.csv')"
   ]
  },
  {
   "cell_type": "code",
   "execution_count": null,
   "metadata": {
    "collapsed": true
   },
   "outputs": [],
   "source": []
  },
  {
   "cell_type": "code",
   "execution_count": null,
   "metadata": {
    "collapsed": true
   },
   "outputs": [],
   "source": []
  },
  {
   "cell_type": "code",
   "execution_count": null,
   "metadata": {
    "collapsed": true
   },
   "outputs": [],
   "source": []
  },
  {
   "cell_type": "code",
   "execution_count": 123,
   "metadata": {
    "collapsed": false
   },
   "outputs": [],
   "source": [
    "a = 0\n",
    "Ask1_11_1 = pd.DataFrame([SUM_Ask1_11[a],SUM_Ask1_11[a+1]/SUM_Ask1_11[a],SUM_Ask1_11[a+2]/SUM_Ask1_11[a],SUM_Ask1_11[a+3]/SUM_Ask1_11[a],SUM_Ask1_11[a+4]/SUM_Ask1_11[a]])"
   ]
  },
  {
   "cell_type": "code",
   "execution_count": 124,
   "metadata": {
    "collapsed": false
   },
   "outputs": [],
   "source": [
    "a = 5\n",
    "Ask1_11_2 = pd.DataFrame([SUM_Ask1_11[a],SUM_Ask1_11[a+1]/SUM_Ask1_11[a],SUM_Ask1_11[a+2]/SUM_Ask1_11[a],SUM_Ask1_11[a+3]/SUM_Ask1_11[a],SUM_Ask1_11[a+4]/SUM_Ask1_11[a]])"
   ]
  },
  {
   "cell_type": "code",
   "execution_count": 125,
   "metadata": {
    "collapsed": false
   },
   "outputs": [],
   "source": [
    "a = 10\n",
    "Ask1_11_3 = pd.DataFrame([SUM_Ask1_11[a],SUM_Ask1_11[a+1]/SUM_Ask1_11[a],SUM_Ask1_11[a+2]/SUM_Ask1_11[a],SUM_Ask1_11[a+3]/SUM_Ask1_11[a],SUM_Ask1_11[a+4]/SUM_Ask1_11[a]])"
   ]
  },
  {
   "cell_type": "code",
   "execution_count": 126,
   "metadata": {
    "collapsed": false
   },
   "outputs": [],
   "source": [
    "a = 15\n",
    "Ask1_11_4 = pd.DataFrame([SUM_Ask1_11[a],SUM_Ask1_11[a+1]/SUM_Ask1_11[a],SUM_Ask1_11[a+2]/SUM_Ask1_11[a],SUM_Ask1_11[a+3]/SUM_Ask1_11[a],SUM_Ask1_11[a+4]/SUM_Ask1_11[a]])"
   ]
  },
  {
   "cell_type": "code",
   "execution_count": 127,
   "metadata": {
    "collapsed": false
   },
   "outputs": [],
   "source": [
    "a = 20\n",
    "Ask1_11_5 = pd.DataFrame([SUM_Ask1_11[a],SUM_Ask1_11[a+1]/SUM_Ask1_11[a],SUM_Ask1_11[a+2]/SUM_Ask1_11[a],SUM_Ask1_11[a+3]/SUM_Ask1_11[a],SUM_Ask1_11[a+4]/SUM_Ask1_11[a]])"
   ]
  },
  {
   "cell_type": "code",
   "execution_count": 128,
   "metadata": {
    "collapsed": false,
    "scrolled": true
   },
   "outputs": [
    {
     "data": {
      "text/html": [
       "<div>\n",
       "<table border=\"1\" class=\"dataframe\">\n",
       "  <thead>\n",
       "    <tr style=\"text-align: right;\">\n",
       "      <th></th>\n",
       "      <th>0</th>\n",
       "      <th>1</th>\n",
       "      <th>2</th>\n",
       "      <th>3</th>\n",
       "      <th>4</th>\n",
       "    </tr>\n",
       "  </thead>\n",
       "  <tbody>\n",
       "    <tr>\n",
       "      <th>0</th>\n",
       "      <td>668.000000</td>\n",
       "      <td>2242.000000</td>\n",
       "      <td>5021.000000</td>\n",
       "      <td>840.000000</td>\n",
       "      <td>625.000000</td>\n",
       "    </tr>\n",
       "    <tr>\n",
       "      <th>1</th>\n",
       "      <td>0.583832</td>\n",
       "      <td>0.331401</td>\n",
       "      <td>0.512249</td>\n",
       "      <td>0.630952</td>\n",
       "      <td>0.547200</td>\n",
       "    </tr>\n",
       "    <tr>\n",
       "      <th>2</th>\n",
       "      <td>-0.467066</td>\n",
       "      <td>-2.165477</td>\n",
       "      <td>-1.392551</td>\n",
       "      <td>-1.054762</td>\n",
       "      <td>-1.460800</td>\n",
       "    </tr>\n",
       "    <tr>\n",
       "      <th>3</th>\n",
       "      <td>5.432635</td>\n",
       "      <td>5.574041</td>\n",
       "      <td>4.740092</td>\n",
       "      <td>4.591667</td>\n",
       "      <td>4.489600</td>\n",
       "    </tr>\n",
       "    <tr>\n",
       "      <th>4</th>\n",
       "      <td>1014.568862</td>\n",
       "      <td>681.876896</td>\n",
       "      <td>573.552280</td>\n",
       "      <td>459.502381</td>\n",
       "      <td>63.670400</td>\n",
       "    </tr>\n",
       "    <tr>\n",
       "      <th>0</th>\n",
       "      <td>699.000000</td>\n",
       "      <td>2327.000000</td>\n",
       "      <td>6631.000000</td>\n",
       "      <td>1105.000000</td>\n",
       "      <td>680.000000</td>\n",
       "    </tr>\n",
       "    <tr>\n",
       "      <th>1</th>\n",
       "      <td>0.625179</td>\n",
       "      <td>0.494628</td>\n",
       "      <td>0.601870</td>\n",
       "      <td>0.594570</td>\n",
       "      <td>0.686765</td>\n",
       "    </tr>\n",
       "    <tr>\n",
       "      <th>2</th>\n",
       "      <td>-0.349070</td>\n",
       "      <td>-1.078642</td>\n",
       "      <td>-0.836073</td>\n",
       "      <td>-0.586425</td>\n",
       "      <td>-0.641176</td>\n",
       "    </tr>\n",
       "    <tr>\n",
       "      <th>3</th>\n",
       "      <td>4.570815</td>\n",
       "      <td>4.162011</td>\n",
       "      <td>4.257126</td>\n",
       "      <td>4.200000</td>\n",
       "      <td>3.939706</td>\n",
       "    </tr>\n",
       "    <tr>\n",
       "      <th>4</th>\n",
       "      <td>825.821173</td>\n",
       "      <td>558.807907</td>\n",
       "      <td>530.772433</td>\n",
       "      <td>498.084163</td>\n",
       "      <td>113.066176</td>\n",
       "    </tr>\n",
       "    <tr>\n",
       "      <th>0</th>\n",
       "      <td>674.000000</td>\n",
       "      <td>2767.000000</td>\n",
       "      <td>7973.000000</td>\n",
       "      <td>1212.000000</td>\n",
       "      <td>682.000000</td>\n",
       "    </tr>\n",
       "    <tr>\n",
       "      <th>1</th>\n",
       "      <td>0.741840</td>\n",
       "      <td>0.539574</td>\n",
       "      <td>0.586856</td>\n",
       "      <td>0.636139</td>\n",
       "      <td>0.589443</td>\n",
       "    </tr>\n",
       "    <tr>\n",
       "      <th>2</th>\n",
       "      <td>-0.103858</td>\n",
       "      <td>-0.544995</td>\n",
       "      <td>-0.761570</td>\n",
       "      <td>-0.391089</td>\n",
       "      <td>-1.428152</td>\n",
       "    </tr>\n",
       "    <tr>\n",
       "      <th>3</th>\n",
       "      <td>3.913947</td>\n",
       "      <td>3.666426</td>\n",
       "      <td>4.093691</td>\n",
       "      <td>3.554455</td>\n",
       "      <td>4.659824</td>\n",
       "    </tr>\n",
       "    <tr>\n",
       "      <th>4</th>\n",
       "      <td>790.559347</td>\n",
       "      <td>520.887604</td>\n",
       "      <td>529.613947</td>\n",
       "      <td>457.625413</td>\n",
       "      <td>80.890029</td>\n",
       "    </tr>\n",
       "    <tr>\n",
       "      <th>0</th>\n",
       "      <td>531.000000</td>\n",
       "      <td>2092.000000</td>\n",
       "      <td>6138.000000</td>\n",
       "      <td>973.000000</td>\n",
       "      <td>351.000000</td>\n",
       "    </tr>\n",
       "    <tr>\n",
       "      <th>1</th>\n",
       "      <td>0.854991</td>\n",
       "      <td>0.657744</td>\n",
       "      <td>0.656566</td>\n",
       "      <td>0.639260</td>\n",
       "      <td>0.663818</td>\n",
       "    </tr>\n",
       "    <tr>\n",
       "      <th>2</th>\n",
       "      <td>0.465160</td>\n",
       "      <td>-0.083174</td>\n",
       "      <td>-0.327305</td>\n",
       "      <td>-0.280576</td>\n",
       "      <td>-1.264957</td>\n",
       "    </tr>\n",
       "    <tr>\n",
       "      <th>3</th>\n",
       "      <td>3.024482</td>\n",
       "      <td>3.233270</td>\n",
       "      <td>3.559466</td>\n",
       "      <td>3.198356</td>\n",
       "      <td>4.225071</td>\n",
       "    </tr>\n",
       "    <tr>\n",
       "      <th>4</th>\n",
       "      <td>494.962335</td>\n",
       "      <td>464.605163</td>\n",
       "      <td>483.210329</td>\n",
       "      <td>449.260021</td>\n",
       "      <td>89.193732</td>\n",
       "    </tr>\n",
       "    <tr>\n",
       "      <th>0</th>\n",
       "      <td>1043.000000</td>\n",
       "      <td>3464.000000</td>\n",
       "      <td>9058.000000</td>\n",
       "      <td>1814.000000</td>\n",
       "      <td>390.000000</td>\n",
       "    </tr>\n",
       "    <tr>\n",
       "      <th>1</th>\n",
       "      <td>0.832215</td>\n",
       "      <td>0.754042</td>\n",
       "      <td>0.754471</td>\n",
       "      <td>0.725469</td>\n",
       "      <td>0.653846</td>\n",
       "    </tr>\n",
       "    <tr>\n",
       "      <th>2</th>\n",
       "      <td>0.178332</td>\n",
       "      <td>0.212471</td>\n",
       "      <td>0.036432</td>\n",
       "      <td>-0.100882</td>\n",
       "      <td>-1.456410</td>\n",
       "    </tr>\n",
       "    <tr>\n",
       "      <th>3</th>\n",
       "      <td>2.722915</td>\n",
       "      <td>2.885970</td>\n",
       "      <td>3.028814</td>\n",
       "      <td>2.815325</td>\n",
       "      <td>3.994872</td>\n",
       "    </tr>\n",
       "    <tr>\n",
       "      <th>4</th>\n",
       "      <td>390.573346</td>\n",
       "      <td>406.524538</td>\n",
       "      <td>397.506293</td>\n",
       "      <td>386.719405</td>\n",
       "      <td>59.561538</td>\n",
       "    </tr>\n",
       "  </tbody>\n",
       "</table>\n",
       "</div>"
      ],
      "text/plain": [
       "             0            1            2            3           4\n",
       "0   668.000000  2242.000000  5021.000000   840.000000  625.000000\n",
       "1     0.583832     0.331401     0.512249     0.630952    0.547200\n",
       "2    -0.467066    -2.165477    -1.392551    -1.054762   -1.460800\n",
       "3     5.432635     5.574041     4.740092     4.591667    4.489600\n",
       "4  1014.568862   681.876896   573.552280   459.502381   63.670400\n",
       "0   699.000000  2327.000000  6631.000000  1105.000000  680.000000\n",
       "1     0.625179     0.494628     0.601870     0.594570    0.686765\n",
       "2    -0.349070    -1.078642    -0.836073    -0.586425   -0.641176\n",
       "3     4.570815     4.162011     4.257126     4.200000    3.939706\n",
       "4   825.821173   558.807907   530.772433   498.084163  113.066176\n",
       "0   674.000000  2767.000000  7973.000000  1212.000000  682.000000\n",
       "1     0.741840     0.539574     0.586856     0.636139    0.589443\n",
       "2    -0.103858    -0.544995    -0.761570    -0.391089   -1.428152\n",
       "3     3.913947     3.666426     4.093691     3.554455    4.659824\n",
       "4   790.559347   520.887604   529.613947   457.625413   80.890029\n",
       "0   531.000000  2092.000000  6138.000000   973.000000  351.000000\n",
       "1     0.854991     0.657744     0.656566     0.639260    0.663818\n",
       "2     0.465160    -0.083174    -0.327305    -0.280576   -1.264957\n",
       "3     3.024482     3.233270     3.559466     3.198356    4.225071\n",
       "4   494.962335   464.605163   483.210329   449.260021   89.193732\n",
       "0  1043.000000  3464.000000  9058.000000  1814.000000  390.000000\n",
       "1     0.832215     0.754042     0.754471     0.725469    0.653846\n",
       "2     0.178332     0.212471     0.036432    -0.100882   -1.456410\n",
       "3     2.722915     2.885970     3.028814     2.815325    3.994872\n",
       "4   390.573346   406.524538   397.506293   386.719405   59.561538"
      ]
     },
     "execution_count": 128,
     "metadata": {},
     "output_type": "execute_result"
    }
   ],
   "source": [
    "pd.concat([Ask1_11_1,Ask1_11_2,Ask1_11_3,Ask1_11_4,Ask1_11_5])"
   ]
  },
  {
   "cell_type": "code",
   "execution_count": 130,
   "metadata": {
    "collapsed": true
   },
   "outputs": [],
   "source": [
    "pd.concat([Ask1_11_1,Ask1_11_2,Ask1_11_3,Ask1_11_4,Ask1_11_5]).to_csv('ask1_11_115_102.csv')"
   ]
  },
  {
   "cell_type": "code",
   "execution_count": null,
   "metadata": {
    "collapsed": true
   },
   "outputs": [],
   "source": []
  },
  {
   "cell_type": "code",
   "execution_count": null,
   "metadata": {
    "collapsed": true
   },
   "outputs": [],
   "source": []
  },
  {
   "cell_type": "code",
   "execution_count": 131,
   "metadata": {
    "collapsed": false
   },
   "outputs": [],
   "source": [
    "a = 0\n",
    "Ask2_11_1 = pd.DataFrame([SUM_Ask2_11[a],SUM_Ask2_11[a+1]/SUM_Ask2_11[a],SUM_Ask2_11[a+2]/SUM_Ask2_11[a],SUM_Ask2_11[a+3]/SUM_Ask2_11[a],SUM_Ask2_11[a+4]/SUM_Ask2_11[a]])"
   ]
  },
  {
   "cell_type": "code",
   "execution_count": 132,
   "metadata": {
    "collapsed": false
   },
   "outputs": [],
   "source": [
    "a = 5\n",
    "Ask2_11_2 = pd.DataFrame([SUM_Ask2_11[a],SUM_Ask2_11[a+1]/SUM_Ask2_11[a],SUM_Ask2_11[a+2]/SUM_Ask2_11[a],SUM_Ask2_11[a+3]/SUM_Ask2_11[a],SUM_Ask2_11[a+4]/SUM_Ask2_11[a]])"
   ]
  },
  {
   "cell_type": "code",
   "execution_count": 133,
   "metadata": {
    "collapsed": false
   },
   "outputs": [],
   "source": [
    "a = 10\n",
    "Ask2_11_3 = pd.DataFrame([SUM_Ask2_11[a],SUM_Ask2_11[a+1]/SUM_Ask2_11[a],SUM_Ask2_11[a+2]/SUM_Ask2_11[a],SUM_Ask2_11[a+3]/SUM_Ask2_11[a],SUM_Ask2_11[a+4]/SUM_Ask2_11[a]])"
   ]
  },
  {
   "cell_type": "code",
   "execution_count": 134,
   "metadata": {
    "collapsed": false
   },
   "outputs": [],
   "source": [
    "a = 15\n",
    "Ask2_11_4 = pd.DataFrame([SUM_Ask2_11[a],SUM_Ask2_11[a+1]/SUM_Ask2_11[a],SUM_Ask2_11[a+2]/SUM_Ask2_11[a],SUM_Ask2_11[a+3]/SUM_Ask2_11[a],SUM_Ask2_11[a+4]/SUM_Ask2_11[a]])"
   ]
  },
  {
   "cell_type": "code",
   "execution_count": 135,
   "metadata": {
    "collapsed": false
   },
   "outputs": [],
   "source": [
    "a = 20\n",
    "Ask2_11_5 = pd.DataFrame([SUM_Ask2_11[a],SUM_Ask2_11[a+1]/SUM_Ask2_11[a],SUM_Ask2_11[a+2]/SUM_Ask2_11[a],SUM_Ask2_11[a+3]/SUM_Ask2_11[a],SUM_Ask2_11[a+4]/SUM_Ask2_11[a]])"
   ]
  },
  {
   "cell_type": "code",
   "execution_count": 136,
   "metadata": {
    "collapsed": false,
    "scrolled": true
   },
   "outputs": [
    {
     "data": {
      "text/html": [
       "<div>\n",
       "<table border=\"1\" class=\"dataframe\">\n",
       "  <thead>\n",
       "    <tr style=\"text-align: right;\">\n",
       "      <th></th>\n",
       "      <th>0</th>\n",
       "      <th>1</th>\n",
       "      <th>2</th>\n",
       "      <th>3</th>\n",
       "      <th>4</th>\n",
       "    </tr>\n",
       "  </thead>\n",
       "  <tbody>\n",
       "    <tr>\n",
       "      <th>0</th>\n",
       "      <td>668.000000</td>\n",
       "      <td>2242.000000</td>\n",
       "      <td>5021.000000</td>\n",
       "      <td>840.000000</td>\n",
       "      <td>625.000000</td>\n",
       "    </tr>\n",
       "    <tr>\n",
       "      <th>1</th>\n",
       "      <td>0.296407</td>\n",
       "      <td>0.172168</td>\n",
       "      <td>0.363872</td>\n",
       "      <td>0.401190</td>\n",
       "      <td>0.435200</td>\n",
       "    </tr>\n",
       "    <tr>\n",
       "      <th>2</th>\n",
       "      <td>-1.004491</td>\n",
       "      <td>-2.389831</td>\n",
       "      <td>-1.330014</td>\n",
       "      <td>-1.426190</td>\n",
       "      <td>-1.689600</td>\n",
       "    </tr>\n",
       "    <tr>\n",
       "      <th>3</th>\n",
       "      <td>7.007485</td>\n",
       "      <td>6.858608</td>\n",
       "      <td>6.030472</td>\n",
       "      <td>6.379762</td>\n",
       "      <td>6.113600</td>\n",
       "    </tr>\n",
       "    <tr>\n",
       "      <th>4</th>\n",
       "      <td>1266.965569</td>\n",
       "      <td>795.842105</td>\n",
       "      <td>702.037841</td>\n",
       "      <td>643.465476</td>\n",
       "      <td>68.996800</td>\n",
       "    </tr>\n",
       "    <tr>\n",
       "      <th>0</th>\n",
       "      <td>699.000000</td>\n",
       "      <td>2327.000000</td>\n",
       "      <td>6631.000000</td>\n",
       "      <td>1105.000000</td>\n",
       "      <td>680.000000</td>\n",
       "    </tr>\n",
       "    <tr>\n",
       "      <th>1</th>\n",
       "      <td>0.426323</td>\n",
       "      <td>0.312419</td>\n",
       "      <td>0.373850</td>\n",
       "      <td>0.436199</td>\n",
       "      <td>0.535294</td>\n",
       "    </tr>\n",
       "    <tr>\n",
       "      <th>2</th>\n",
       "      <td>-0.286123</td>\n",
       "      <td>-1.342501</td>\n",
       "      <td>-1.007691</td>\n",
       "      <td>-0.505882</td>\n",
       "      <td>-0.707353</td>\n",
       "    </tr>\n",
       "    <tr>\n",
       "      <th>3</th>\n",
       "      <td>5.882690</td>\n",
       "      <td>5.608509</td>\n",
       "      <td>5.762328</td>\n",
       "      <td>5.495023</td>\n",
       "      <td>5.575000</td>\n",
       "    </tr>\n",
       "    <tr>\n",
       "      <th>4</th>\n",
       "      <td>1088.752504</td>\n",
       "      <td>711.948861</td>\n",
       "      <td>707.085809</td>\n",
       "      <td>627.485973</td>\n",
       "      <td>114.285294</td>\n",
       "    </tr>\n",
       "    <tr>\n",
       "      <th>0</th>\n",
       "      <td>674.000000</td>\n",
       "      <td>2767.000000</td>\n",
       "      <td>7973.000000</td>\n",
       "      <td>1212.000000</td>\n",
       "      <td>682.000000</td>\n",
       "    </tr>\n",
       "    <tr>\n",
       "      <th>1</th>\n",
       "      <td>0.520772</td>\n",
       "      <td>0.376943</td>\n",
       "      <td>0.390443</td>\n",
       "      <td>0.432343</td>\n",
       "      <td>0.513196</td>\n",
       "    </tr>\n",
       "    <tr>\n",
       "      <th>2</th>\n",
       "      <td>-0.259644</td>\n",
       "      <td>-0.714492</td>\n",
       "      <td>-0.810235</td>\n",
       "      <td>-0.371287</td>\n",
       "      <td>-1.164223</td>\n",
       "    </tr>\n",
       "    <tr>\n",
       "      <th>3</th>\n",
       "      <td>5.615727</td>\n",
       "      <td>5.125045</td>\n",
       "      <td>5.537439</td>\n",
       "      <td>4.958746</td>\n",
       "      <td>6.036657</td>\n",
       "    </tr>\n",
       "    <tr>\n",
       "      <th>4</th>\n",
       "      <td>1045.706231</td>\n",
       "      <td>673.097940</td>\n",
       "      <td>702.145240</td>\n",
       "      <td>627.040429</td>\n",
       "      <td>109.997067</td>\n",
       "    </tr>\n",
       "    <tr>\n",
       "      <th>0</th>\n",
       "      <td>531.000000</td>\n",
       "      <td>2092.000000</td>\n",
       "      <td>6138.000000</td>\n",
       "      <td>973.000000</td>\n",
       "      <td>351.000000</td>\n",
       "    </tr>\n",
       "    <tr>\n",
       "      <th>1</th>\n",
       "      <td>0.696798</td>\n",
       "      <td>0.447897</td>\n",
       "      <td>0.442001</td>\n",
       "      <td>0.488181</td>\n",
       "      <td>0.527066</td>\n",
       "    </tr>\n",
       "    <tr>\n",
       "      <th>2</th>\n",
       "      <td>0.809793</td>\n",
       "      <td>-0.113289</td>\n",
       "      <td>-0.327631</td>\n",
       "      <td>-0.056526</td>\n",
       "      <td>-1.065527</td>\n",
       "    </tr>\n",
       "    <tr>\n",
       "      <th>3</th>\n",
       "      <td>4.623352</td>\n",
       "      <td>4.680210</td>\n",
       "      <td>5.030466</td>\n",
       "      <td>4.543679</td>\n",
       "      <td>5.723647</td>\n",
       "    </tr>\n",
       "    <tr>\n",
       "      <th>4</th>\n",
       "      <td>758.118644</td>\n",
       "      <td>640.145793</td>\n",
       "      <td>673.821114</td>\n",
       "      <td>580.679342</td>\n",
       "      <td>115.028490</td>\n",
       "    </tr>\n",
       "    <tr>\n",
       "      <th>0</th>\n",
       "      <td>1043.000000</td>\n",
       "      <td>3464.000000</td>\n",
       "      <td>9058.000000</td>\n",
       "      <td>1814.000000</td>\n",
       "      <td>390.000000</td>\n",
       "    </tr>\n",
       "    <tr>\n",
       "      <th>1</th>\n",
       "      <td>0.710451</td>\n",
       "      <td>0.506640</td>\n",
       "      <td>0.583021</td>\n",
       "      <td>0.446527</td>\n",
       "      <td>0.582051</td>\n",
       "    </tr>\n",
       "    <tr>\n",
       "      <th>2</th>\n",
       "      <td>0.547459</td>\n",
       "      <td>0.254042</td>\n",
       "      <td>0.216052</td>\n",
       "      <td>-1.142778</td>\n",
       "      <td>-1.176923</td>\n",
       "    </tr>\n",
       "    <tr>\n",
       "      <th>3</th>\n",
       "      <td>4.178332</td>\n",
       "      <td>4.400115</td>\n",
       "      <td>4.459373</td>\n",
       "      <td>5.319735</td>\n",
       "      <td>5.438462</td>\n",
       "    </tr>\n",
       "    <tr>\n",
       "      <th>4</th>\n",
       "      <td>568.884947</td>\n",
       "      <td>592.107679</td>\n",
       "      <td>568.314970</td>\n",
       "      <td>654.689636</td>\n",
       "      <td>116.743590</td>\n",
       "    </tr>\n",
       "  </tbody>\n",
       "</table>\n",
       "</div>"
      ],
      "text/plain": [
       "             0            1            2            3           4\n",
       "0   668.000000  2242.000000  5021.000000   840.000000  625.000000\n",
       "1     0.296407     0.172168     0.363872     0.401190    0.435200\n",
       "2    -1.004491    -2.389831    -1.330014    -1.426190   -1.689600\n",
       "3     7.007485     6.858608     6.030472     6.379762    6.113600\n",
       "4  1266.965569   795.842105   702.037841   643.465476   68.996800\n",
       "0   699.000000  2327.000000  6631.000000  1105.000000  680.000000\n",
       "1     0.426323     0.312419     0.373850     0.436199    0.535294\n",
       "2    -0.286123    -1.342501    -1.007691    -0.505882   -0.707353\n",
       "3     5.882690     5.608509     5.762328     5.495023    5.575000\n",
       "4  1088.752504   711.948861   707.085809   627.485973  114.285294\n",
       "0   674.000000  2767.000000  7973.000000  1212.000000  682.000000\n",
       "1     0.520772     0.376943     0.390443     0.432343    0.513196\n",
       "2    -0.259644    -0.714492    -0.810235    -0.371287   -1.164223\n",
       "3     5.615727     5.125045     5.537439     4.958746    6.036657\n",
       "4  1045.706231   673.097940   702.145240   627.040429  109.997067\n",
       "0   531.000000  2092.000000  6138.000000   973.000000  351.000000\n",
       "1     0.696798     0.447897     0.442001     0.488181    0.527066\n",
       "2     0.809793    -0.113289    -0.327631    -0.056526   -1.065527\n",
       "3     4.623352     4.680210     5.030466     4.543679    5.723647\n",
       "4   758.118644   640.145793   673.821114   580.679342  115.028490\n",
       "0  1043.000000  3464.000000  9058.000000  1814.000000  390.000000\n",
       "1     0.710451     0.506640     0.583021     0.446527    0.582051\n",
       "2     0.547459     0.254042     0.216052    -1.142778   -1.176923\n",
       "3     4.178332     4.400115     4.459373     5.319735    5.438462\n",
       "4   568.884947   592.107679   568.314970   654.689636  116.743590"
      ]
     },
     "execution_count": 136,
     "metadata": {},
     "output_type": "execute_result"
    }
   ],
   "source": [
    "pd.concat([Ask2_11_1,Ask2_11_2,Ask2_11_3,Ask2_11_4,Ask2_11_5])"
   ]
  },
  {
   "cell_type": "code",
   "execution_count": 137,
   "metadata": {
    "collapsed": true
   },
   "outputs": [],
   "source": [
    "pd.concat([Ask2_11_1,Ask2_11_2,Ask2_11_3,Ask2_11_4,Ask2_11_5]).to_csv('ask2_11_115_102.csv')"
   ]
  },
  {
   "cell_type": "code",
   "execution_count": null,
   "metadata": {
    "collapsed": true
   },
   "outputs": [],
   "source": []
  },
  {
   "cell_type": "code",
   "execution_count": null,
   "metadata": {
    "collapsed": true
   },
   "outputs": [],
   "source": []
  },
  {
   "cell_type": "code",
   "execution_count": null,
   "metadata": {
    "collapsed": true
   },
   "outputs": [],
   "source": []
  },
  {
   "cell_type": "code",
   "execution_count": 138,
   "metadata": {
    "collapsed": false
   },
   "outputs": [],
   "source": [
    "a = 0\n",
    "Ask3_11_1 = pd.DataFrame([SUM_Ask3_11[a],SUM_Ask3_11[a+1]/SUM_Ask3_11[a],SUM_Ask3_11[a+2]/SUM_Ask3_11[a],SUM_Ask3_11[a+3]/SUM_Ask3_11[a],SUM_Ask3_11[a+4]/SUM_Ask3_11[a]])"
   ]
  },
  {
   "cell_type": "code",
   "execution_count": 139,
   "metadata": {
    "collapsed": false
   },
   "outputs": [],
   "source": [
    "a = 5\n",
    "Ask3_11_2 = pd.DataFrame([SUM_Ask3_11[a],SUM_Ask3_11[a+1]/SUM_Ask3_11[a],SUM_Ask3_11[a+2]/SUM_Ask3_11[a],SUM_Ask3_11[a+3]/SUM_Ask3_11[a],SUM_Ask3_11[a+4]/SUM_Ask3_11[a]])"
   ]
  },
  {
   "cell_type": "code",
   "execution_count": 140,
   "metadata": {
    "collapsed": false
   },
   "outputs": [],
   "source": [
    "a = 10\n",
    "Ask3_11_3 = pd.DataFrame([SUM_Ask3_11[a],SUM_Ask3_11[a+1]/SUM_Ask3_11[a],SUM_Ask3_11[a+2]/SUM_Ask3_11[a],SUM_Ask3_11[a+3]/SUM_Ask3_11[a],SUM_Ask3_11[a+4]/SUM_Ask3_11[a]])"
   ]
  },
  {
   "cell_type": "code",
   "execution_count": 141,
   "metadata": {
    "collapsed": false
   },
   "outputs": [],
   "source": [
    "a = 15\n",
    "Ask3_11_4 = pd.DataFrame([SUM_Ask3_11[a],SUM_Ask3_11[a+1]/SUM_Ask3_11[a],SUM_Ask3_11[a+2]/SUM_Ask3_11[a],SUM_Ask3_11[a+3]/SUM_Ask3_11[a],SUM_Ask3_11[a+4]/SUM_Ask3_11[a]])"
   ]
  },
  {
   "cell_type": "code",
   "execution_count": 142,
   "metadata": {
    "collapsed": false
   },
   "outputs": [],
   "source": [
    "a = 20\n",
    "Ask3_11_5 = pd.DataFrame([SUM_Ask3_11[a],SUM_Ask3_11[a+1]/SUM_Ask3_11[a],SUM_Ask3_11[a+2]/SUM_Ask3_11[a],SUM_Ask3_11[a+3]/SUM_Ask3_11[a],SUM_Ask3_11[a+4]/SUM_Ask3_11[a]])"
   ]
  },
  {
   "cell_type": "code",
   "execution_count": 143,
   "metadata": {
    "collapsed": false,
    "scrolled": true
   },
   "outputs": [
    {
     "data": {
      "text/html": [
       "<div>\n",
       "<table border=\"1\" class=\"dataframe\">\n",
       "  <thead>\n",
       "    <tr style=\"text-align: right;\">\n",
       "      <th></th>\n",
       "      <th>0</th>\n",
       "      <th>1</th>\n",
       "      <th>2</th>\n",
       "      <th>3</th>\n",
       "      <th>4</th>\n",
       "    </tr>\n",
       "  </thead>\n",
       "  <tbody>\n",
       "    <tr>\n",
       "      <th>0</th>\n",
       "      <td>668.000000</td>\n",
       "      <td>2242.000000</td>\n",
       "      <td>5021.000000</td>\n",
       "      <td>840.000000</td>\n",
       "      <td>625.000000</td>\n",
       "    </tr>\n",
       "    <tr>\n",
       "      <th>1</th>\n",
       "      <td>0.184132</td>\n",
       "      <td>0.126227</td>\n",
       "      <td>0.245967</td>\n",
       "      <td>0.334524</td>\n",
       "      <td>0.382400</td>\n",
       "    </tr>\n",
       "    <tr>\n",
       "      <th>2</th>\n",
       "      <td>-0.820359</td>\n",
       "      <td>-2.330508</td>\n",
       "      <td>-1.372237</td>\n",
       "      <td>-1.303571</td>\n",
       "      <td>-1.609600</td>\n",
       "    </tr>\n",
       "    <tr>\n",
       "      <th>3</th>\n",
       "      <td>8.011976</td>\n",
       "      <td>7.878680</td>\n",
       "      <td>7.180044</td>\n",
       "      <td>7.601190</td>\n",
       "      <td>7.395200</td>\n",
       "    </tr>\n",
       "    <tr>\n",
       "      <th>4</th>\n",
       "      <td>1332.934132</td>\n",
       "      <td>830.848350</td>\n",
       "      <td>776.100578</td>\n",
       "      <td>711.379762</td>\n",
       "      <td>81.297600</td>\n",
       "    </tr>\n",
       "    <tr>\n",
       "      <th>0</th>\n",
       "      <td>699.000000</td>\n",
       "      <td>2327.000000</td>\n",
       "      <td>6631.000000</td>\n",
       "      <td>1105.000000</td>\n",
       "      <td>680.000000</td>\n",
       "    </tr>\n",
       "    <tr>\n",
       "      <th>1</th>\n",
       "      <td>0.337625</td>\n",
       "      <td>0.220885</td>\n",
       "      <td>0.252752</td>\n",
       "      <td>0.344796</td>\n",
       "      <td>0.466176</td>\n",
       "    </tr>\n",
       "    <tr>\n",
       "      <th>2</th>\n",
       "      <td>0.032904</td>\n",
       "      <td>-1.258702</td>\n",
       "      <td>-0.941487</td>\n",
       "      <td>-0.322172</td>\n",
       "      <td>-0.608824</td>\n",
       "    </tr>\n",
       "    <tr>\n",
       "      <th>3</th>\n",
       "      <td>6.915594</td>\n",
       "      <td>6.679845</td>\n",
       "      <td>6.899563</td>\n",
       "      <td>6.646154</td>\n",
       "      <td>6.848529</td>\n",
       "    </tr>\n",
       "    <tr>\n",
       "      <th>4</th>\n",
       "      <td>1190.274678</td>\n",
       "      <td>784.220026</td>\n",
       "      <td>784.482883</td>\n",
       "      <td>720.619910</td>\n",
       "      <td>130.270588</td>\n",
       "    </tr>\n",
       "    <tr>\n",
       "      <th>0</th>\n",
       "      <td>674.000000</td>\n",
       "      <td>2767.000000</td>\n",
       "      <td>7973.000000</td>\n",
       "      <td>1212.000000</td>\n",
       "      <td>682.000000</td>\n",
       "    </tr>\n",
       "    <tr>\n",
       "      <th>1</th>\n",
       "      <td>0.410979</td>\n",
       "      <td>0.268883</td>\n",
       "      <td>0.258874</td>\n",
       "      <td>0.352310</td>\n",
       "      <td>0.489736</td>\n",
       "    </tr>\n",
       "    <tr>\n",
       "      <th>2</th>\n",
       "      <td>0.002967</td>\n",
       "      <td>-0.695338</td>\n",
       "      <td>-0.827543</td>\n",
       "      <td>-0.116337</td>\n",
       "      <td>-0.837243</td>\n",
       "    </tr>\n",
       "    <tr>\n",
       "      <th>3</th>\n",
       "      <td>6.713650</td>\n",
       "      <td>6.256234</td>\n",
       "      <td>6.709394</td>\n",
       "      <td>6.045380</td>\n",
       "      <td>7.165689</td>\n",
       "    </tr>\n",
       "    <tr>\n",
       "      <th>4</th>\n",
       "      <td>1138.844214</td>\n",
       "      <td>755.211059</td>\n",
       "      <td>783.848739</td>\n",
       "      <td>696.638614</td>\n",
       "      <td>134.099707</td>\n",
       "    </tr>\n",
       "    <tr>\n",
       "      <th>0</th>\n",
       "      <td>531.000000</td>\n",
       "      <td>2092.000000</td>\n",
       "      <td>6138.000000</td>\n",
       "      <td>973.000000</td>\n",
       "      <td>351.000000</td>\n",
       "    </tr>\n",
       "    <tr>\n",
       "      <th>1</th>\n",
       "      <td>0.593220</td>\n",
       "      <td>0.295889</td>\n",
       "      <td>0.307918</td>\n",
       "      <td>0.362795</td>\n",
       "      <td>0.501425</td>\n",
       "    </tr>\n",
       "    <tr>\n",
       "      <th>2</th>\n",
       "      <td>1.259887</td>\n",
       "      <td>-0.141969</td>\n",
       "      <td>-0.263278</td>\n",
       "      <td>0.084275</td>\n",
       "      <td>-0.689459</td>\n",
       "    </tr>\n",
       "    <tr>\n",
       "      <th>3</th>\n",
       "      <td>5.711864</td>\n",
       "      <td>5.841300</td>\n",
       "      <td>6.185565</td>\n",
       "      <td>5.712230</td>\n",
       "      <td>6.817664</td>\n",
       "    </tr>\n",
       "    <tr>\n",
       "      <th>4</th>\n",
       "      <td>851.436911</td>\n",
       "      <td>740.537285</td>\n",
       "      <td>760.535842</td>\n",
       "      <td>690.463515</td>\n",
       "      <td>139.045584</td>\n",
       "    </tr>\n",
       "    <tr>\n",
       "      <th>0</th>\n",
       "      <td>1043.000000</td>\n",
       "      <td>3464.000000</td>\n",
       "      <td>9058.000000</td>\n",
       "      <td>1814.000000</td>\n",
       "      <td>390.000000</td>\n",
       "    </tr>\n",
       "    <tr>\n",
       "      <th>1</th>\n",
       "      <td>0.604986</td>\n",
       "      <td>0.324480</td>\n",
       "      <td>0.396666</td>\n",
       "      <td>0.361632</td>\n",
       "      <td>0.546154</td>\n",
       "    </tr>\n",
       "    <tr>\n",
       "      <th>2</th>\n",
       "      <td>1.011505</td>\n",
       "      <td>0.247402</td>\n",
       "      <td>0.226982</td>\n",
       "      <td>-0.945424</td>\n",
       "      <td>-0.864103</td>\n",
       "    </tr>\n",
       "    <tr>\n",
       "      <th>3</th>\n",
       "      <td>5.362416</td>\n",
       "      <td>5.568995</td>\n",
       "      <td>5.682711</td>\n",
       "      <td>6.453142</td>\n",
       "      <td>6.694872</td>\n",
       "    </tr>\n",
       "    <tr>\n",
       "      <th>4</th>\n",
       "      <td>683.416107</td>\n",
       "      <td>720.175231</td>\n",
       "      <td>708.020645</td>\n",
       "      <td>708.778942</td>\n",
       "      <td>165.902564</td>\n",
       "    </tr>\n",
       "  </tbody>\n",
       "</table>\n",
       "</div>"
      ],
      "text/plain": [
       "             0            1            2            3           4\n",
       "0   668.000000  2242.000000  5021.000000   840.000000  625.000000\n",
       "1     0.184132     0.126227     0.245967     0.334524    0.382400\n",
       "2    -0.820359    -2.330508    -1.372237    -1.303571   -1.609600\n",
       "3     8.011976     7.878680     7.180044     7.601190    7.395200\n",
       "4  1332.934132   830.848350   776.100578   711.379762   81.297600\n",
       "0   699.000000  2327.000000  6631.000000  1105.000000  680.000000\n",
       "1     0.337625     0.220885     0.252752     0.344796    0.466176\n",
       "2     0.032904    -1.258702    -0.941487    -0.322172   -0.608824\n",
       "3     6.915594     6.679845     6.899563     6.646154    6.848529\n",
       "4  1190.274678   784.220026   784.482883   720.619910  130.270588\n",
       "0   674.000000  2767.000000  7973.000000  1212.000000  682.000000\n",
       "1     0.410979     0.268883     0.258874     0.352310    0.489736\n",
       "2     0.002967    -0.695338    -0.827543    -0.116337   -0.837243\n",
       "3     6.713650     6.256234     6.709394     6.045380    7.165689\n",
       "4  1138.844214   755.211059   783.848739   696.638614  134.099707\n",
       "0   531.000000  2092.000000  6138.000000   973.000000  351.000000\n",
       "1     0.593220     0.295889     0.307918     0.362795    0.501425\n",
       "2     1.259887    -0.141969    -0.263278     0.084275   -0.689459\n",
       "3     5.711864     5.841300     6.185565     5.712230    6.817664\n",
       "4   851.436911   740.537285   760.535842   690.463515  139.045584\n",
       "0  1043.000000  3464.000000  9058.000000  1814.000000  390.000000\n",
       "1     0.604986     0.324480     0.396666     0.361632    0.546154\n",
       "2     1.011505     0.247402     0.226982    -0.945424   -0.864103\n",
       "3     5.362416     5.568995     5.682711     6.453142    6.694872\n",
       "4   683.416107   720.175231   708.020645   708.778942  165.902564"
      ]
     },
     "execution_count": 143,
     "metadata": {},
     "output_type": "execute_result"
    }
   ],
   "source": [
    "pd.concat([Ask3_11_1,Ask3_11_2,Ask3_11_3,Ask3_11_4,Ask3_11_5])"
   ]
  },
  {
   "cell_type": "code",
   "execution_count": 144,
   "metadata": {
    "collapsed": true
   },
   "outputs": [],
   "source": [
    "pd.concat([Ask3_11_1,Ask3_11_2,Ask3_11_3,Ask3_11_4,Ask3_11_5]).to_csv('ask3_11_115_102.csv')"
   ]
  },
  {
   "cell_type": "code",
   "execution_count": null,
   "metadata": {
    "collapsed": true
   },
   "outputs": [],
   "source": []
  },
  {
   "cell_type": "code",
   "execution_count": null,
   "metadata": {
    "collapsed": true
   },
   "outputs": [],
   "source": []
  },
  {
   "cell_type": "code",
   "execution_count": 145,
   "metadata": {
    "collapsed": false
   },
   "outputs": [],
   "source": [
    "a = 0\n",
    "Ask1_13_1 = pd.DataFrame([SUM_Ask1_13[a],SUM_Ask1_13[a+1]/SUM_Ask1_13[a],SUM_Ask1_13[a+2]/SUM_Ask1_13[a],SUM_Ask1_13[a+3]/SUM_Ask1_13[a],SUM_Ask1_13[a+4]/SUM_Ask1_13[a]])"
   ]
  },
  {
   "cell_type": "code",
   "execution_count": 146,
   "metadata": {
    "collapsed": false
   },
   "outputs": [],
   "source": [
    "a = 5\n",
    "Ask1_13_2 = pd.DataFrame([SUM_Ask1_13[a],SUM_Ask1_13[a+1]/SUM_Ask1_13[a],SUM_Ask1_13[a+2]/SUM_Ask1_13[a],SUM_Ask1_13[a+3]/SUM_Ask1_13[a],SUM_Ask1_13[a+4]/SUM_Ask1_13[a]])"
   ]
  },
  {
   "cell_type": "code",
   "execution_count": 147,
   "metadata": {
    "collapsed": false
   },
   "outputs": [],
   "source": [
    "a = 10\n",
    "Ask1_13_3 = pd.DataFrame([SUM_Ask1_13[a],SUM_Ask1_13[a+1]/SUM_Ask1_13[a],SUM_Ask1_13[a+2]/SUM_Ask1_13[a],SUM_Ask1_13[a+3]/SUM_Ask1_13[a],SUM_Ask1_13[a+4]/SUM_Ask1_13[a]])"
   ]
  },
  {
   "cell_type": "code",
   "execution_count": 148,
   "metadata": {
    "collapsed": false
   },
   "outputs": [],
   "source": [
    "a = 15\n",
    "Ask1_13_4 = pd.DataFrame([SUM_Ask1_13[a],SUM_Ask1_13[a+1]/SUM_Ask1_13[a],SUM_Ask1_13[a+2]/SUM_Ask1_13[a],SUM_Ask1_13[a+3]/SUM_Ask1_13[a],SUM_Ask1_13[a+4]/SUM_Ask1_13[a]])"
   ]
  },
  {
   "cell_type": "code",
   "execution_count": 149,
   "metadata": {
    "collapsed": false
   },
   "outputs": [],
   "source": [
    "a = 20\n",
    "Ask1_13_5 = pd.DataFrame([SUM_Ask1_13[a],SUM_Ask1_13[a+1]/SUM_Ask1_13[a],SUM_Ask1_13[a+2]/SUM_Ask1_13[a],SUM_Ask1_13[a+3]/SUM_Ask1_13[a],SUM_Ask1_13[a+4]/SUM_Ask1_13[a]])"
   ]
  },
  {
   "cell_type": "code",
   "execution_count": 150,
   "metadata": {
    "collapsed": false,
    "scrolled": true
   },
   "outputs": [
    {
     "data": {
      "text/html": [
       "<div>\n",
       "<table border=\"1\" class=\"dataframe\">\n",
       "  <thead>\n",
       "    <tr style=\"text-align: right;\">\n",
       "      <th></th>\n",
       "      <th>0</th>\n",
       "      <th>1</th>\n",
       "      <th>2</th>\n",
       "      <th>3</th>\n",
       "      <th>4</th>\n",
       "    </tr>\n",
       "  </thead>\n",
       "  <tbody>\n",
       "    <tr>\n",
       "      <th>0</th>\n",
       "      <td>76.000000</td>\n",
       "      <td>218.000000</td>\n",
       "      <td>18626.000000</td>\n",
       "      <td>870.000000</td>\n",
       "      <td>95.000000</td>\n",
       "    </tr>\n",
       "    <tr>\n",
       "      <th>1</th>\n",
       "      <td>1.000000</td>\n",
       "      <td>0.330275</td>\n",
       "      <td>0.155052</td>\n",
       "      <td>0.127586</td>\n",
       "      <td>0.242105</td>\n",
       "    </tr>\n",
       "    <tr>\n",
       "      <th>2</th>\n",
       "      <td>1.000000</td>\n",
       "      <td>-0.362385</td>\n",
       "      <td>-0.085848</td>\n",
       "      <td>-0.996552</td>\n",
       "      <td>-1.821053</td>\n",
       "    </tr>\n",
       "    <tr>\n",
       "      <th>3</th>\n",
       "      <td>2.644737</td>\n",
       "      <td>2.188073</td>\n",
       "      <td>1.771019</td>\n",
       "      <td>2.875862</td>\n",
       "      <td>4.210526</td>\n",
       "    </tr>\n",
       "    <tr>\n",
       "      <th>4</th>\n",
       "      <td>1121.078947</td>\n",
       "      <td>675.000000</td>\n",
       "      <td>830.022657</td>\n",
       "      <td>825.860920</td>\n",
       "      <td>11.136842</td>\n",
       "    </tr>\n",
       "    <tr>\n",
       "      <th>0</th>\n",
       "      <td>55.000000</td>\n",
       "      <td>288.000000</td>\n",
       "      <td>14589.000000</td>\n",
       "      <td>580.000000</td>\n",
       "      <td>193.000000</td>\n",
       "    </tr>\n",
       "    <tr>\n",
       "      <th>1</th>\n",
       "      <td>1.000000</td>\n",
       "      <td>0.607639</td>\n",
       "      <td>0.068682</td>\n",
       "      <td>0.358621</td>\n",
       "      <td>0.248705</td>\n",
       "    </tr>\n",
       "    <tr>\n",
       "      <th>2</th>\n",
       "      <td>1.218182</td>\n",
       "      <td>0.375000</td>\n",
       "      <td>-0.171979</td>\n",
       "      <td>-0.915517</td>\n",
       "      <td>-1.683938</td>\n",
       "    </tr>\n",
       "    <tr>\n",
       "      <th>3</th>\n",
       "      <td>2.400000</td>\n",
       "      <td>2.041667</td>\n",
       "      <td>1.606896</td>\n",
       "      <td>3.491379</td>\n",
       "      <td>3.507772</td>\n",
       "    </tr>\n",
       "    <tr>\n",
       "      <th>4</th>\n",
       "      <td>2634.418182</td>\n",
       "      <td>497.135417</td>\n",
       "      <td>853.982932</td>\n",
       "      <td>692.334483</td>\n",
       "      <td>13.227979</td>\n",
       "    </tr>\n",
       "    <tr>\n",
       "      <th>0</th>\n",
       "      <td>93.000000</td>\n",
       "      <td>634.000000</td>\n",
       "      <td>6964.000000</td>\n",
       "      <td>738.000000</td>\n",
       "      <td>130.000000</td>\n",
       "    </tr>\n",
       "    <tr>\n",
       "      <th>1</th>\n",
       "      <td>1.000000</td>\n",
       "      <td>0.421136</td>\n",
       "      <td>0.248708</td>\n",
       "      <td>0.569106</td>\n",
       "      <td>0.430769</td>\n",
       "    </tr>\n",
       "    <tr>\n",
       "      <th>2</th>\n",
       "      <td>1.193548</td>\n",
       "      <td>0.050473</td>\n",
       "      <td>-0.191987</td>\n",
       "      <td>-0.291328</td>\n",
       "      <td>-0.930769</td>\n",
       "    </tr>\n",
       "    <tr>\n",
       "      <th>3</th>\n",
       "      <td>2.086022</td>\n",
       "      <td>2.135647</td>\n",
       "      <td>2.185095</td>\n",
       "      <td>3.199187</td>\n",
       "      <td>3.284615</td>\n",
       "    </tr>\n",
       "    <tr>\n",
       "      <th>4</th>\n",
       "      <td>931.021505</td>\n",
       "      <td>600.067823</td>\n",
       "      <td>743.241671</td>\n",
       "      <td>595.307588</td>\n",
       "      <td>21.807692</td>\n",
       "    </tr>\n",
       "    <tr>\n",
       "      <th>0</th>\n",
       "      <td>81.000000</td>\n",
       "      <td>511.000000</td>\n",
       "      <td>5877.000000</td>\n",
       "      <td>457.000000</td>\n",
       "      <td>114.000000</td>\n",
       "    </tr>\n",
       "    <tr>\n",
       "      <th>1</th>\n",
       "      <td>0.987654</td>\n",
       "      <td>0.414873</td>\n",
       "      <td>0.368896</td>\n",
       "      <td>0.682713</td>\n",
       "      <td>0.412281</td>\n",
       "    </tr>\n",
       "    <tr>\n",
       "      <th>2</th>\n",
       "      <td>1.172840</td>\n",
       "      <td>0.342466</td>\n",
       "      <td>-0.121320</td>\n",
       "      <td>0.004376</td>\n",
       "      <td>-0.833333</td>\n",
       "    </tr>\n",
       "    <tr>\n",
       "      <th>3</th>\n",
       "      <td>2.148148</td>\n",
       "      <td>2.027397</td>\n",
       "      <td>2.328059</td>\n",
       "      <td>3.328228</td>\n",
       "      <td>2.964912</td>\n",
       "    </tr>\n",
       "    <tr>\n",
       "      <th>4</th>\n",
       "      <td>946.160494</td>\n",
       "      <td>588.336595</td>\n",
       "      <td>707.684022</td>\n",
       "      <td>536.006565</td>\n",
       "      <td>46.956140</td>\n",
       "    </tr>\n",
       "    <tr>\n",
       "      <th>0</th>\n",
       "      <td>130.000000</td>\n",
       "      <td>1114.000000</td>\n",
       "      <td>18834.000000</td>\n",
       "      <td>587.000000</td>\n",
       "      <td>146.000000</td>\n",
       "    </tr>\n",
       "    <tr>\n",
       "      <th>1</th>\n",
       "      <td>1.000000</td>\n",
       "      <td>0.456912</td>\n",
       "      <td>0.194223</td>\n",
       "      <td>0.679727</td>\n",
       "      <td>0.513699</td>\n",
       "    </tr>\n",
       "    <tr>\n",
       "      <th>2</th>\n",
       "      <td>1.000000</td>\n",
       "      <td>0.633752</td>\n",
       "      <td>-0.042954</td>\n",
       "      <td>0.015332</td>\n",
       "      <td>-0.178082</td>\n",
       "    </tr>\n",
       "    <tr>\n",
       "      <th>3</th>\n",
       "      <td>1.530769</td>\n",
       "      <td>1.981149</td>\n",
       "      <td>1.787831</td>\n",
       "      <td>2.700170</td>\n",
       "      <td>2.212329</td>\n",
       "    </tr>\n",
       "    <tr>\n",
       "      <th>4</th>\n",
       "      <td>621.407692</td>\n",
       "      <td>602.739677</td>\n",
       "      <td>781.844483</td>\n",
       "      <td>497.931857</td>\n",
       "      <td>66.363014</td>\n",
       "    </tr>\n",
       "  </tbody>\n",
       "</table>\n",
       "</div>"
      ],
      "text/plain": [
       "             0            1             2           3           4\n",
       "0    76.000000   218.000000  18626.000000  870.000000   95.000000\n",
       "1     1.000000     0.330275      0.155052    0.127586    0.242105\n",
       "2     1.000000    -0.362385     -0.085848   -0.996552   -1.821053\n",
       "3     2.644737     2.188073      1.771019    2.875862    4.210526\n",
       "4  1121.078947   675.000000    830.022657  825.860920   11.136842\n",
       "0    55.000000   288.000000  14589.000000  580.000000  193.000000\n",
       "1     1.000000     0.607639      0.068682    0.358621    0.248705\n",
       "2     1.218182     0.375000     -0.171979   -0.915517   -1.683938\n",
       "3     2.400000     2.041667      1.606896    3.491379    3.507772\n",
       "4  2634.418182   497.135417    853.982932  692.334483   13.227979\n",
       "0    93.000000   634.000000   6964.000000  738.000000  130.000000\n",
       "1     1.000000     0.421136      0.248708    0.569106    0.430769\n",
       "2     1.193548     0.050473     -0.191987   -0.291328   -0.930769\n",
       "3     2.086022     2.135647      2.185095    3.199187    3.284615\n",
       "4   931.021505   600.067823    743.241671  595.307588   21.807692\n",
       "0    81.000000   511.000000   5877.000000  457.000000  114.000000\n",
       "1     0.987654     0.414873      0.368896    0.682713    0.412281\n",
       "2     1.172840     0.342466     -0.121320    0.004376   -0.833333\n",
       "3     2.148148     2.027397      2.328059    3.328228    2.964912\n",
       "4   946.160494   588.336595    707.684022  536.006565   46.956140\n",
       "0   130.000000  1114.000000  18834.000000  587.000000  146.000000\n",
       "1     1.000000     0.456912      0.194223    0.679727    0.513699\n",
       "2     1.000000     0.633752     -0.042954    0.015332   -0.178082\n",
       "3     1.530769     1.981149      1.787831    2.700170    2.212329\n",
       "4   621.407692   602.739677    781.844483  497.931857   66.363014"
      ]
     },
     "execution_count": 150,
     "metadata": {},
     "output_type": "execute_result"
    }
   ],
   "source": [
    "pd.concat([Ask1_13_1,Ask1_13_2,Ask1_13_3,Ask1_13_4,Ask1_13_5])"
   ]
  },
  {
   "cell_type": "code",
   "execution_count": 151,
   "metadata": {
    "collapsed": true
   },
   "outputs": [],
   "source": [
    "pd.concat([Ask1_13_1,Ask1_13_2,Ask1_13_3,Ask1_13_4,Ask1_13_5]).to_csv('ask1_13_115_102.csv')"
   ]
  },
  {
   "cell_type": "code",
   "execution_count": null,
   "metadata": {
    "collapsed": true
   },
   "outputs": [],
   "source": []
  },
  {
   "cell_type": "code",
   "execution_count": null,
   "metadata": {
    "collapsed": true
   },
   "outputs": [],
   "source": []
  },
  {
   "cell_type": "code",
   "execution_count": 152,
   "metadata": {
    "collapsed": false
   },
   "outputs": [],
   "source": [
    "a = 0\n",
    "Ask2_13_1 = pd.DataFrame([SUM_Ask2_13[a],SUM_Ask2_13[a+1]/SUM_Ask2_13[a],SUM_Ask2_13[a+2]/SUM_Ask2_13[a],SUM_Ask2_13[a+3]/SUM_Ask2_13[a],SUM_Ask2_13[a+4]/SUM_Ask2_13[a]])"
   ]
  },
  {
   "cell_type": "code",
   "execution_count": 153,
   "metadata": {
    "collapsed": false
   },
   "outputs": [],
   "source": [
    "a = 5\n",
    "Ask2_13_2 =pd.DataFrame([SUM_Ask2_13[a],SUM_Ask2_13[a+1]/SUM_Ask2_13[a],SUM_Ask2_13[a+2]/SUM_Ask2_13[a],SUM_Ask2_13[a+3]/SUM_Ask2_13[a],SUM_Ask2_13[a+4]/SUM_Ask2_13[a]])"
   ]
  },
  {
   "cell_type": "code",
   "execution_count": 154,
   "metadata": {
    "collapsed": false
   },
   "outputs": [],
   "source": [
    "a = 10\n",
    "Ask2_13_3 =pd.DataFrame([SUM_Ask2_13[a],SUM_Ask2_13[a+1]/SUM_Ask2_13[a],SUM_Ask2_13[a+2]/SUM_Ask2_13[a],SUM_Ask2_13[a+3]/SUM_Ask2_13[a],SUM_Ask2_13[a+4]/SUM_Ask2_13[a]])"
   ]
  },
  {
   "cell_type": "code",
   "execution_count": 155,
   "metadata": {
    "collapsed": false
   },
   "outputs": [],
   "source": [
    "a = 15\n",
    "Ask2_13_4 =pd.DataFrame([SUM_Ask2_13[a],SUM_Ask2_13[a+1]/SUM_Ask2_13[a],SUM_Ask2_13[a+2]/SUM_Ask2_13[a],SUM_Ask2_13[a+3]/SUM_Ask2_13[a],SUM_Ask2_13[a+4]/SUM_Ask2_13[a]])"
   ]
  },
  {
   "cell_type": "code",
   "execution_count": 156,
   "metadata": {
    "collapsed": false
   },
   "outputs": [],
   "source": [
    "a = 20\n",
    "Ask2_13_5 =pd.DataFrame([SUM_Ask2_13[a],SUM_Ask2_13[a+1]/SUM_Ask2_13[a],SUM_Ask2_13[a+2]/SUM_Ask2_13[a],SUM_Ask2_13[a+3]/SUM_Ask2_13[a],SUM_Ask2_13[a+4]/SUM_Ask2_13[a]])"
   ]
  },
  {
   "cell_type": "code",
   "execution_count": 157,
   "metadata": {
    "collapsed": false,
    "scrolled": true
   },
   "outputs": [
    {
     "data": {
      "text/html": [
       "<div>\n",
       "<table border=\"1\" class=\"dataframe\">\n",
       "  <thead>\n",
       "    <tr style=\"text-align: right;\">\n",
       "      <th></th>\n",
       "      <th>0</th>\n",
       "      <th>1</th>\n",
       "      <th>2</th>\n",
       "      <th>3</th>\n",
       "      <th>4</th>\n",
       "    </tr>\n",
       "  </thead>\n",
       "  <tbody>\n",
       "    <tr>\n",
       "      <th>0</th>\n",
       "      <td>76.000000</td>\n",
       "      <td>218.000000</td>\n",
       "      <td>18626.000000</td>\n",
       "      <td>870.000000</td>\n",
       "      <td>95.000000</td>\n",
       "    </tr>\n",
       "    <tr>\n",
       "      <th>1</th>\n",
       "      <td>1.000000</td>\n",
       "      <td>0.238532</td>\n",
       "      <td>0.107323</td>\n",
       "      <td>0.085057</td>\n",
       "      <td>0.231579</td>\n",
       "    </tr>\n",
       "    <tr>\n",
       "      <th>2</th>\n",
       "      <td>2.000000</td>\n",
       "      <td>-0.279817</td>\n",
       "      <td>-0.015033</td>\n",
       "      <td>-1.002299</td>\n",
       "      <td>-1.631579</td>\n",
       "    </tr>\n",
       "    <tr>\n",
       "      <th>3</th>\n",
       "      <td>3.644737</td>\n",
       "      <td>3.215596</td>\n",
       "      <td>2.787448</td>\n",
       "      <td>3.921839</td>\n",
       "      <td>5.252632</td>\n",
       "    </tr>\n",
       "    <tr>\n",
       "      <th>4</th>\n",
       "      <td>1264.986842</td>\n",
       "      <td>722.151376</td>\n",
       "      <td>857.626597</td>\n",
       "      <td>855.654023</td>\n",
       "      <td>14.515789</td>\n",
       "    </tr>\n",
       "    <tr>\n",
       "      <th>0</th>\n",
       "      <td>55.000000</td>\n",
       "      <td>288.000000</td>\n",
       "      <td>14589.000000</td>\n",
       "      <td>580.000000</td>\n",
       "      <td>193.000000</td>\n",
       "    </tr>\n",
       "    <tr>\n",
       "      <th>1</th>\n",
       "      <td>0.945455</td>\n",
       "      <td>0.246528</td>\n",
       "      <td>0.042361</td>\n",
       "      <td>0.198276</td>\n",
       "      <td>0.222798</td>\n",
       "    </tr>\n",
       "    <tr>\n",
       "      <th>2</th>\n",
       "      <td>2.054545</td>\n",
       "      <td>0.350694</td>\n",
       "      <td>-0.166290</td>\n",
       "      <td>-1.082759</td>\n",
       "      <td>-1.538860</td>\n",
       "    </tr>\n",
       "    <tr>\n",
       "      <th>3</th>\n",
       "      <td>3.454545</td>\n",
       "      <td>3.177083</td>\n",
       "      <td>2.637124</td>\n",
       "      <td>4.736207</td>\n",
       "      <td>4.554404</td>\n",
       "    </tr>\n",
       "    <tr>\n",
       "      <th>4</th>\n",
       "      <td>2851.854545</td>\n",
       "      <td>742.423611</td>\n",
       "      <td>874.193570</td>\n",
       "      <td>800.043103</td>\n",
       "      <td>13.704663</td>\n",
       "    </tr>\n",
       "    <tr>\n",
       "      <th>0</th>\n",
       "      <td>93.000000</td>\n",
       "      <td>634.000000</td>\n",
       "      <td>6964.000000</td>\n",
       "      <td>738.000000</td>\n",
       "      <td>130.000000</td>\n",
       "    </tr>\n",
       "    <tr>\n",
       "      <th>1</th>\n",
       "      <td>0.924731</td>\n",
       "      <td>0.187697</td>\n",
       "      <td>0.142734</td>\n",
       "      <td>0.311653</td>\n",
       "      <td>0.392308</td>\n",
       "    </tr>\n",
       "    <tr>\n",
       "      <th>2</th>\n",
       "      <td>1.967742</td>\n",
       "      <td>-0.102524</td>\n",
       "      <td>-0.169156</td>\n",
       "      <td>-0.582656</td>\n",
       "      <td>-0.638462</td>\n",
       "    </tr>\n",
       "    <tr>\n",
       "      <th>3</th>\n",
       "      <td>3.161290</td>\n",
       "      <td>3.268139</td>\n",
       "      <td>3.299540</td>\n",
       "      <td>4.612466</td>\n",
       "      <td>4.353846</td>\n",
       "    </tr>\n",
       "    <tr>\n",
       "      <th>4</th>\n",
       "      <td>1158.032258</td>\n",
       "      <td>778.804416</td>\n",
       "      <td>817.132252</td>\n",
       "      <td>750.962060</td>\n",
       "      <td>24.684615</td>\n",
       "    </tr>\n",
       "    <tr>\n",
       "      <th>0</th>\n",
       "      <td>81.000000</td>\n",
       "      <td>511.000000</td>\n",
       "      <td>5877.000000</td>\n",
       "      <td>457.000000</td>\n",
       "      <td>114.000000</td>\n",
       "    </tr>\n",
       "    <tr>\n",
       "      <th>1</th>\n",
       "      <td>0.987654</td>\n",
       "      <td>0.260274</td>\n",
       "      <td>0.203675</td>\n",
       "      <td>0.407002</td>\n",
       "      <td>0.254386</td>\n",
       "    </tr>\n",
       "    <tr>\n",
       "      <th>2</th>\n",
       "      <td>2.160494</td>\n",
       "      <td>0.436399</td>\n",
       "      <td>-0.055811</td>\n",
       "      <td>-0.258206</td>\n",
       "      <td>-1.000000</td>\n",
       "    </tr>\n",
       "    <tr>\n",
       "      <th>3</th>\n",
       "      <td>3.172840</td>\n",
       "      <td>3.093933</td>\n",
       "      <td>3.436447</td>\n",
       "      <td>4.778993</td>\n",
       "      <td>4.245614</td>\n",
       "    </tr>\n",
       "    <tr>\n",
       "      <th>4</th>\n",
       "      <td>1322.851852</td>\n",
       "      <td>745.371820</td>\n",
       "      <td>798.513527</td>\n",
       "      <td>720.628009</td>\n",
       "      <td>17.596491</td>\n",
       "    </tr>\n",
       "    <tr>\n",
       "      <th>0</th>\n",
       "      <td>130.000000</td>\n",
       "      <td>1114.000000</td>\n",
       "      <td>18834.000000</td>\n",
       "      <td>587.000000</td>\n",
       "      <td>146.000000</td>\n",
       "    </tr>\n",
       "    <tr>\n",
       "      <th>1</th>\n",
       "      <td>0.976923</td>\n",
       "      <td>0.227110</td>\n",
       "      <td>0.091430</td>\n",
       "      <td>0.618399</td>\n",
       "      <td>0.136986</td>\n",
       "    </tr>\n",
       "    <tr>\n",
       "      <th>2</th>\n",
       "      <td>1.953846</td>\n",
       "      <td>0.921005</td>\n",
       "      <td>-0.077626</td>\n",
       "      <td>0.488927</td>\n",
       "      <td>-1.047945</td>\n",
       "    </tr>\n",
       "    <tr>\n",
       "      <th>3</th>\n",
       "      <td>2.538462</td>\n",
       "      <td>3.015260</td>\n",
       "      <td>2.906446</td>\n",
       "      <td>3.858603</td>\n",
       "      <td>3.876712</td>\n",
       "    </tr>\n",
       "    <tr>\n",
       "      <th>4</th>\n",
       "      <td>1144.669231</td>\n",
       "      <td>775.775583</td>\n",
       "      <td>844.524105</td>\n",
       "      <td>625.422487</td>\n",
       "      <td>10.212329</td>\n",
       "    </tr>\n",
       "  </tbody>\n",
       "</table>\n",
       "</div>"
      ],
      "text/plain": [
       "             0            1             2           3           4\n",
       "0    76.000000   218.000000  18626.000000  870.000000   95.000000\n",
       "1     1.000000     0.238532      0.107323    0.085057    0.231579\n",
       "2     2.000000    -0.279817     -0.015033   -1.002299   -1.631579\n",
       "3     3.644737     3.215596      2.787448    3.921839    5.252632\n",
       "4  1264.986842   722.151376    857.626597  855.654023   14.515789\n",
       "0    55.000000   288.000000  14589.000000  580.000000  193.000000\n",
       "1     0.945455     0.246528      0.042361    0.198276    0.222798\n",
       "2     2.054545     0.350694     -0.166290   -1.082759   -1.538860\n",
       "3     3.454545     3.177083      2.637124    4.736207    4.554404\n",
       "4  2851.854545   742.423611    874.193570  800.043103   13.704663\n",
       "0    93.000000   634.000000   6964.000000  738.000000  130.000000\n",
       "1     0.924731     0.187697      0.142734    0.311653    0.392308\n",
       "2     1.967742    -0.102524     -0.169156   -0.582656   -0.638462\n",
       "3     3.161290     3.268139      3.299540    4.612466    4.353846\n",
       "4  1158.032258   778.804416    817.132252  750.962060   24.684615\n",
       "0    81.000000   511.000000   5877.000000  457.000000  114.000000\n",
       "1     0.987654     0.260274      0.203675    0.407002    0.254386\n",
       "2     2.160494     0.436399     -0.055811   -0.258206   -1.000000\n",
       "3     3.172840     3.093933      3.436447    4.778993    4.245614\n",
       "4  1322.851852   745.371820    798.513527  720.628009   17.596491\n",
       "0   130.000000  1114.000000  18834.000000  587.000000  146.000000\n",
       "1     0.976923     0.227110      0.091430    0.618399    0.136986\n",
       "2     1.953846     0.921005     -0.077626    0.488927   -1.047945\n",
       "3     2.538462     3.015260      2.906446    3.858603    3.876712\n",
       "4  1144.669231   775.775583    844.524105  625.422487   10.212329"
      ]
     },
     "execution_count": 157,
     "metadata": {},
     "output_type": "execute_result"
    }
   ],
   "source": [
    "pd.concat([Ask2_13_1,Ask2_13_2,Ask2_13_3,Ask2_13_4,Ask2_13_5])"
   ]
  },
  {
   "cell_type": "code",
   "execution_count": 158,
   "metadata": {
    "collapsed": true
   },
   "outputs": [],
   "source": [
    "pd.concat([Ask2_13_1,Ask2_13_2,Ask2_13_3,Ask2_13_4,Ask2_13_5]).to_csv('ask2_13_115_102.csv')"
   ]
  },
  {
   "cell_type": "code",
   "execution_count": null,
   "metadata": {
    "collapsed": true
   },
   "outputs": [],
   "source": []
  },
  {
   "cell_type": "code",
   "execution_count": null,
   "metadata": {
    "collapsed": true
   },
   "outputs": [],
   "source": []
  },
  {
   "cell_type": "code",
   "execution_count": 159,
   "metadata": {
    "collapsed": false
   },
   "outputs": [],
   "source": [
    "a = 0\n",
    "Ask3_13_1 = pd.DataFrame([SUM_Ask3_13[a],SUM_Ask3_13[a+1]/SUM_Ask3_13[a],SUM_Ask3_13[a+2]/SUM_Ask3_13[a],SUM_Ask3_13[a+3]/SUM_Ask3_13[a],SUM_Ask3_13[a+4]/SUM_Ask3_13[a]])"
   ]
  },
  {
   "cell_type": "code",
   "execution_count": 160,
   "metadata": {
    "collapsed": false
   },
   "outputs": [],
   "source": [
    "a = 5\n",
    "Ask3_13_2 = pd.DataFrame([SUM_Ask3_13[a],SUM_Ask3_13[a+1]/SUM_Ask3_13[a],SUM_Ask3_13[a+2]/SUM_Ask3_13[a],SUM_Ask3_13[a+3]/SUM_Ask3_13[a],SUM_Ask3_13[a+4]/SUM_Ask3_13[a]])"
   ]
  },
  {
   "cell_type": "code",
   "execution_count": 161,
   "metadata": {
    "collapsed": false
   },
   "outputs": [],
   "source": [
    "a = 10\n",
    "Ask3_13_3 = pd.DataFrame([SUM_Ask3_13[a],SUM_Ask3_13[a+1]/SUM_Ask3_13[a],SUM_Ask3_13[a+2]/SUM_Ask3_13[a],SUM_Ask3_13[a+3]/SUM_Ask3_13[a],SUM_Ask3_13[a+4]/SUM_Ask3_13[a]])"
   ]
  },
  {
   "cell_type": "code",
   "execution_count": 162,
   "metadata": {
    "collapsed": false
   },
   "outputs": [],
   "source": [
    "a = 15\n",
    "Ask3_13_4 = pd.DataFrame([SUM_Ask3_13[a],SUM_Ask3_13[a+1]/SUM_Ask3_13[a],SUM_Ask3_13[a+2]/SUM_Ask3_13[a],SUM_Ask3_13[a+3]/SUM_Ask3_13[a],SUM_Ask3_13[a+4]/SUM_Ask3_13[a]])"
   ]
  },
  {
   "cell_type": "code",
   "execution_count": 163,
   "metadata": {
    "collapsed": false
   },
   "outputs": [],
   "source": [
    "a = 20\n",
    "Ask3_13_5 = pd.DataFrame([SUM_Ask3_13[a],SUM_Ask3_13[a+1]/SUM_Ask3_13[a],SUM_Ask3_13[a+2]/SUM_Ask3_13[a],SUM_Ask3_13[a+3]/SUM_Ask3_13[a],SUM_Ask3_13[a+4]/SUM_Ask3_13[a]])"
   ]
  },
  {
   "cell_type": "code",
   "execution_count": 164,
   "metadata": {
    "collapsed": false,
    "scrolled": true
   },
   "outputs": [
    {
     "data": {
      "text/html": [
       "<div>\n",
       "<table border=\"1\" class=\"dataframe\">\n",
       "  <thead>\n",
       "    <tr style=\"text-align: right;\">\n",
       "      <th></th>\n",
       "      <th>0</th>\n",
       "      <th>1</th>\n",
       "      <th>2</th>\n",
       "      <th>3</th>\n",
       "      <th>4</th>\n",
       "    </tr>\n",
       "  </thead>\n",
       "  <tbody>\n",
       "    <tr>\n",
       "      <th>0</th>\n",
       "      <td>76.000000</td>\n",
       "      <td>218.000000</td>\n",
       "      <td>18626.000000</td>\n",
       "      <td>870.000000</td>\n",
       "      <td>95.000000</td>\n",
       "    </tr>\n",
       "    <tr>\n",
       "      <th>1</th>\n",
       "      <td>0.894737</td>\n",
       "      <td>0.004587</td>\n",
       "      <td>0.068184</td>\n",
       "      <td>0.021839</td>\n",
       "      <td>0.231579</td>\n",
       "    </tr>\n",
       "    <tr>\n",
       "      <th>2</th>\n",
       "      <td>2.763158</td>\n",
       "      <td>-0.435780</td>\n",
       "      <td>0.032750</td>\n",
       "      <td>-1.078161</td>\n",
       "      <td>-1.400000</td>\n",
       "    </tr>\n",
       "    <tr>\n",
       "      <th>3</th>\n",
       "      <td>4.644737</td>\n",
       "      <td>4.261468</td>\n",
       "      <td>3.790615</td>\n",
       "      <td>4.955172</td>\n",
       "      <td>6.252632</td>\n",
       "    </tr>\n",
       "    <tr>\n",
       "      <th>4</th>\n",
       "      <td>1312.486842</td>\n",
       "      <td>896.807339</td>\n",
       "      <td>873.741598</td>\n",
       "      <td>889.245977</td>\n",
       "      <td>16.705263</td>\n",
       "    </tr>\n",
       "    <tr>\n",
       "      <th>0</th>\n",
       "      <td>55.000000</td>\n",
       "      <td>288.000000</td>\n",
       "      <td>14589.000000</td>\n",
       "      <td>580.000000</td>\n",
       "      <td>193.000000</td>\n",
       "    </tr>\n",
       "    <tr>\n",
       "      <th>1</th>\n",
       "      <td>0.690909</td>\n",
       "      <td>0.052083</td>\n",
       "      <td>0.027212</td>\n",
       "      <td>0.139655</td>\n",
       "      <td>0.207254</td>\n",
       "    </tr>\n",
       "    <tr>\n",
       "      <th>2</th>\n",
       "      <td>2.472727</td>\n",
       "      <td>0.343750</td>\n",
       "      <td>-0.160121</td>\n",
       "      <td>-1.046552</td>\n",
       "      <td>-1.393782</td>\n",
       "    </tr>\n",
       "    <tr>\n",
       "      <th>3</th>\n",
       "      <td>4.454545</td>\n",
       "      <td>4.215278</td>\n",
       "      <td>3.642745</td>\n",
       "      <td>5.755172</td>\n",
       "      <td>5.601036</td>\n",
       "    </tr>\n",
       "    <tr>\n",
       "      <th>4</th>\n",
       "      <td>3077.490909</td>\n",
       "      <td>874.225694</td>\n",
       "      <td>886.200356</td>\n",
       "      <td>832.474138</td>\n",
       "      <td>16.388601</td>\n",
       "    </tr>\n",
       "    <tr>\n",
       "      <th>0</th>\n",
       "      <td>93.000000</td>\n",
       "      <td>634.000000</td>\n",
       "      <td>6964.000000</td>\n",
       "      <td>738.000000</td>\n",
       "      <td>130.000000</td>\n",
       "    </tr>\n",
       "    <tr>\n",
       "      <th>1</th>\n",
       "      <td>0.849462</td>\n",
       "      <td>0.096215</td>\n",
       "      <td>0.092188</td>\n",
       "      <td>0.177507</td>\n",
       "      <td>0.369231</td>\n",
       "    </tr>\n",
       "    <tr>\n",
       "      <th>2</th>\n",
       "      <td>2.731183</td>\n",
       "      <td>-0.164038</td>\n",
       "      <td>-0.121482</td>\n",
       "      <td>-0.604336</td>\n",
       "      <td>-0.361538</td>\n",
       "    </tr>\n",
       "    <tr>\n",
       "      <th>3</th>\n",
       "      <td>4.161290</td>\n",
       "      <td>4.367508</td>\n",
       "      <td>4.321798</td>\n",
       "      <td>5.626016</td>\n",
       "      <td>5.415385</td>\n",
       "    </tr>\n",
       "    <tr>\n",
       "      <th>4</th>\n",
       "      <td>1267.838710</td>\n",
       "      <td>843.454259</td>\n",
       "      <td>850.602671</td>\n",
       "      <td>816.223577</td>\n",
       "      <td>30.338462</td>\n",
       "    </tr>\n",
       "    <tr>\n",
       "      <th>0</th>\n",
       "      <td>81.000000</td>\n",
       "      <td>511.000000</td>\n",
       "      <td>5877.000000</td>\n",
       "      <td>457.000000</td>\n",
       "      <td>114.000000</td>\n",
       "    </tr>\n",
       "    <tr>\n",
       "      <th>1</th>\n",
       "      <td>0.975309</td>\n",
       "      <td>0.195695</td>\n",
       "      <td>0.108048</td>\n",
       "      <td>0.129103</td>\n",
       "      <td>0.228070</td>\n",
       "    </tr>\n",
       "    <tr>\n",
       "      <th>2</th>\n",
       "      <td>3.123457</td>\n",
       "      <td>0.575342</td>\n",
       "      <td>0.016675</td>\n",
       "      <td>-0.547046</td>\n",
       "      <td>-0.877193</td>\n",
       "    </tr>\n",
       "    <tr>\n",
       "      <th>3</th>\n",
       "      <td>4.172840</td>\n",
       "      <td>4.138943</td>\n",
       "      <td>4.465033</td>\n",
       "      <td>5.840263</td>\n",
       "      <td>5.324561</td>\n",
       "    </tr>\n",
       "    <tr>\n",
       "      <th>4</th>\n",
       "      <td>1447.753086</td>\n",
       "      <td>796.201566</td>\n",
       "      <td>848.208270</td>\n",
       "      <td>835.387309</td>\n",
       "      <td>19.526316</td>\n",
       "    </tr>\n",
       "    <tr>\n",
       "      <th>0</th>\n",
       "      <td>130.000000</td>\n",
       "      <td>1114.000000</td>\n",
       "      <td>18834.000000</td>\n",
       "      <td>587.000000</td>\n",
       "      <td>146.000000</td>\n",
       "    </tr>\n",
       "    <tr>\n",
       "      <th>1</th>\n",
       "      <td>0.976923</td>\n",
       "      <td>0.166966</td>\n",
       "      <td>0.049697</td>\n",
       "      <td>0.417376</td>\n",
       "      <td>0.130137</td>\n",
       "    </tr>\n",
       "    <tr>\n",
       "      <th>2</th>\n",
       "      <td>2.930769</td>\n",
       "      <td>1.130162</td>\n",
       "      <td>-0.059785</td>\n",
       "      <td>0.526405</td>\n",
       "      <td>-0.945205</td>\n",
       "    </tr>\n",
       "    <tr>\n",
       "      <th>3</th>\n",
       "      <td>3.538462</td>\n",
       "      <td>4.020646</td>\n",
       "      <td>3.930604</td>\n",
       "      <td>4.901193</td>\n",
       "      <td>4.897260</td>\n",
       "    </tr>\n",
       "    <tr>\n",
       "      <th>4</th>\n",
       "      <td>1254.930769</td>\n",
       "      <td>814.157092</td>\n",
       "      <td>871.734947</td>\n",
       "      <td>728.103918</td>\n",
       "      <td>12.609589</td>\n",
       "    </tr>\n",
       "  </tbody>\n",
       "</table>\n",
       "</div>"
      ],
      "text/plain": [
       "             0            1             2           3           4\n",
       "0    76.000000   218.000000  18626.000000  870.000000   95.000000\n",
       "1     0.894737     0.004587      0.068184    0.021839    0.231579\n",
       "2     2.763158    -0.435780      0.032750   -1.078161   -1.400000\n",
       "3     4.644737     4.261468      3.790615    4.955172    6.252632\n",
       "4  1312.486842   896.807339    873.741598  889.245977   16.705263\n",
       "0    55.000000   288.000000  14589.000000  580.000000  193.000000\n",
       "1     0.690909     0.052083      0.027212    0.139655    0.207254\n",
       "2     2.472727     0.343750     -0.160121   -1.046552   -1.393782\n",
       "3     4.454545     4.215278      3.642745    5.755172    5.601036\n",
       "4  3077.490909   874.225694    886.200356  832.474138   16.388601\n",
       "0    93.000000   634.000000   6964.000000  738.000000  130.000000\n",
       "1     0.849462     0.096215      0.092188    0.177507    0.369231\n",
       "2     2.731183    -0.164038     -0.121482   -0.604336   -0.361538\n",
       "3     4.161290     4.367508      4.321798    5.626016    5.415385\n",
       "4  1267.838710   843.454259    850.602671  816.223577   30.338462\n",
       "0    81.000000   511.000000   5877.000000  457.000000  114.000000\n",
       "1     0.975309     0.195695      0.108048    0.129103    0.228070\n",
       "2     3.123457     0.575342      0.016675   -0.547046   -0.877193\n",
       "3     4.172840     4.138943      4.465033    5.840263    5.324561\n",
       "4  1447.753086   796.201566    848.208270  835.387309   19.526316\n",
       "0   130.000000  1114.000000  18834.000000  587.000000  146.000000\n",
       "1     0.976923     0.166966      0.049697    0.417376    0.130137\n",
       "2     2.930769     1.130162     -0.059785    0.526405   -0.945205\n",
       "3     3.538462     4.020646      3.930604    4.901193    4.897260\n",
       "4  1254.930769   814.157092    871.734947  728.103918   12.609589"
      ]
     },
     "execution_count": 164,
     "metadata": {},
     "output_type": "execute_result"
    }
   ],
   "source": [
    "pd.concat([Ask3_13_1,Ask3_13_2,Ask3_13_3,Ask3_13_4,Ask3_13_5])"
   ]
  },
  {
   "cell_type": "code",
   "execution_count": 165,
   "metadata": {
    "collapsed": true
   },
   "outputs": [],
   "source": [
    "pd.concat([Ask3_13_1,Ask3_13_2,Ask3_13_3,Ask3_13_4,Ask3_13_5]).to_csv('ask3_13_115_102.csv')"
   ]
  },
  {
   "cell_type": "code",
   "execution_count": null,
   "metadata": {
    "collapsed": true
   },
   "outputs": [],
   "source": []
  },
  {
   "cell_type": "code",
   "execution_count": 166,
   "metadata": {
    "collapsed": false
   },
   "outputs": [],
   "source": [
    "a = 0\n",
    "Ask1_16_1 = pd.DataFrame([SUM_Ask1_16[a],SUM_Ask1_16[a+1]/SUM_Ask1_16[a],SUM_Ask1_16[a+2]/SUM_Ask1_16[a],SUM_Ask1_16[a+3]/SUM_Ask1_16[a],SUM_Ask1_16[a+4]/SUM_Ask1_16[a]])"
   ]
  },
  {
   "cell_type": "code",
   "execution_count": 167,
   "metadata": {
    "collapsed": false
   },
   "outputs": [],
   "source": [
    "a = 5\n",
    "Ask1_16_2 = pd.DataFrame([SUM_Ask1_16[a],SUM_Ask1_16[a+1]/SUM_Ask1_16[a],SUM_Ask1_16[a+2]/SUM_Ask1_16[a],SUM_Ask1_16[a+3]/SUM_Ask1_16[a],SUM_Ask1_16[a+4]/SUM_Ask1_16[a]])"
   ]
  },
  {
   "cell_type": "code",
   "execution_count": 169,
   "metadata": {
    "collapsed": false
   },
   "outputs": [],
   "source": [
    "a = 10\n",
    "Ask1_16_3 = pd.DataFrame([SUM_Ask1_16[a],SUM_Ask1_16[a+1]/SUM_Ask1_16[a],SUM_Ask1_16[a+2]/SUM_Ask1_16[a],SUM_Ask1_16[a+3]/SUM_Ask1_16[a],SUM_Ask1_16[a+4]/SUM_Ask1_16[a]])"
   ]
  },
  {
   "cell_type": "code",
   "execution_count": 170,
   "metadata": {
    "collapsed": false
   },
   "outputs": [],
   "source": [
    "a = 15\n",
    "Ask1_16_4 = pd.DataFrame([SUM_Ask1_16[a],SUM_Ask1_16[a+1]/SUM_Ask1_16[a],SUM_Ask1_16[a+2]/SUM_Ask1_16[a],SUM_Ask1_16[a+3]/SUM_Ask1_16[a],SUM_Ask1_16[a+4]/SUM_Ask1_16[a]])"
   ]
  },
  {
   "cell_type": "code",
   "execution_count": 171,
   "metadata": {
    "collapsed": false
   },
   "outputs": [],
   "source": [
    "a = 20\n",
    "Ask1_16_5 = pd.DataFrame([SUM_Ask1_16[a],SUM_Ask1_16[a+1]/SUM_Ask1_16[a],SUM_Ask1_16[a+2]/SUM_Ask1_16[a],SUM_Ask1_16[a+3]/SUM_Ask1_16[a],SUM_Ask1_16[a+4]/SUM_Ask1_16[a]])"
   ]
  },
  {
   "cell_type": "code",
   "execution_count": 172,
   "metadata": {
    "collapsed": false,
    "scrolled": true
   },
   "outputs": [
    {
     "data": {
      "text/html": [
       "<div>\n",
       "<table border=\"1\" class=\"dataframe\">\n",
       "  <thead>\n",
       "    <tr style=\"text-align: right;\">\n",
       "      <th></th>\n",
       "      <th>0</th>\n",
       "      <th>1</th>\n",
       "      <th>2</th>\n",
       "      <th>3</th>\n",
       "      <th>4</th>\n",
       "    </tr>\n",
       "  </thead>\n",
       "  <tbody>\n",
       "    <tr>\n",
       "      <th>0</th>\n",
       "      <td>2.000000</td>\n",
       "      <td>463.000000</td>\n",
       "      <td>20260.000000</td>\n",
       "      <td>2152.000000</td>\n",
       "      <td>357.000000</td>\n",
       "    </tr>\n",
       "    <tr>\n",
       "      <th>1</th>\n",
       "      <td>0.000000</td>\n",
       "      <td>0.291577</td>\n",
       "      <td>0.270780</td>\n",
       "      <td>0.347584</td>\n",
       "      <td>0.445378</td>\n",
       "    </tr>\n",
       "    <tr>\n",
       "      <th>2</th>\n",
       "      <td>-2.000000</td>\n",
       "      <td>-0.442765</td>\n",
       "      <td>-0.573820</td>\n",
       "      <td>-0.339498</td>\n",
       "      <td>0.644258</td>\n",
       "    </tr>\n",
       "    <tr>\n",
       "      <th>3</th>\n",
       "      <td>3.000000</td>\n",
       "      <td>3.038877</td>\n",
       "      <td>2.808835</td>\n",
       "      <td>2.618030</td>\n",
       "      <td>1.408964</td>\n",
       "    </tr>\n",
       "    <tr>\n",
       "      <th>4</th>\n",
       "      <td>31950.000000</td>\n",
       "      <td>799.190065</td>\n",
       "      <td>722.249901</td>\n",
       "      <td>670.065520</td>\n",
       "      <td>135.778711</td>\n",
       "    </tr>\n",
       "    <tr>\n",
       "      <th>0</th>\n",
       "      <td>8.000000</td>\n",
       "      <td>1077.000000</td>\n",
       "      <td>17933.000000</td>\n",
       "      <td>1635.000000</td>\n",
       "      <td>165.000000</td>\n",
       "    </tr>\n",
       "    <tr>\n",
       "      <th>1</th>\n",
       "      <td>0.875000</td>\n",
       "      <td>0.305478</td>\n",
       "      <td>0.366754</td>\n",
       "      <td>0.275229</td>\n",
       "      <td>0.618182</td>\n",
       "    </tr>\n",
       "    <tr>\n",
       "      <th>2</th>\n",
       "      <td>0.750000</td>\n",
       "      <td>-0.414113</td>\n",
       "      <td>-0.190989</td>\n",
       "      <td>-0.413456</td>\n",
       "      <td>0.036364</td>\n",
       "    </tr>\n",
       "    <tr>\n",
       "      <th>3</th>\n",
       "      <td>1.375000</td>\n",
       "      <td>2.962860</td>\n",
       "      <td>2.703619</td>\n",
       "      <td>2.815902</td>\n",
       "      <td>2.454545</td>\n",
       "    </tr>\n",
       "    <tr>\n",
       "      <th>4</th>\n",
       "      <td>6045.125000</td>\n",
       "      <td>724.149489</td>\n",
       "      <td>703.432833</td>\n",
       "      <td>729.913761</td>\n",
       "      <td>115.036364</td>\n",
       "    </tr>\n",
       "    <tr>\n",
       "      <th>0</th>\n",
       "      <td>8.000000</td>\n",
       "      <td>1748.000000</td>\n",
       "      <td>17966.000000</td>\n",
       "      <td>1241.000000</td>\n",
       "      <td>133.000000</td>\n",
       "    </tr>\n",
       "    <tr>\n",
       "      <th>1</th>\n",
       "      <td>0.125000</td>\n",
       "      <td>0.398169</td>\n",
       "      <td>0.400646</td>\n",
       "      <td>0.239323</td>\n",
       "      <td>0.481203</td>\n",
       "    </tr>\n",
       "    <tr>\n",
       "      <th>2</th>\n",
       "      <td>-1.125000</td>\n",
       "      <td>-0.147025</td>\n",
       "      <td>-0.036513</td>\n",
       "      <td>-0.718775</td>\n",
       "      <td>-2.045113</td>\n",
       "    </tr>\n",
       "    <tr>\n",
       "      <th>3</th>\n",
       "      <td>2.500000</td>\n",
       "      <td>2.783753</td>\n",
       "      <td>2.539686</td>\n",
       "      <td>3.029009</td>\n",
       "      <td>4.263158</td>\n",
       "    </tr>\n",
       "    <tr>\n",
       "      <th>4</th>\n",
       "      <td>7997.125000</td>\n",
       "      <td>648.364416</td>\n",
       "      <td>680.215129</td>\n",
       "      <td>723.819500</td>\n",
       "      <td>55.736842</td>\n",
       "    </tr>\n",
       "    <tr>\n",
       "      <th>0</th>\n",
       "      <td>4.000000</td>\n",
       "      <td>1184.000000</td>\n",
       "      <td>12338.000000</td>\n",
       "      <td>1074.000000</td>\n",
       "      <td>126.000000</td>\n",
       "    </tr>\n",
       "    <tr>\n",
       "      <th>1</th>\n",
       "      <td>0.250000</td>\n",
       "      <td>0.445101</td>\n",
       "      <td>0.465878</td>\n",
       "      <td>0.452514</td>\n",
       "      <td>0.388889</td>\n",
       "    </tr>\n",
       "    <tr>\n",
       "      <th>2</th>\n",
       "      <td>-0.500000</td>\n",
       "      <td>-0.054899</td>\n",
       "      <td>0.007376</td>\n",
       "      <td>-0.307263</td>\n",
       "      <td>-1.404762</td>\n",
       "    </tr>\n",
       "    <tr>\n",
       "      <th>3</th>\n",
       "      <td>2.750000</td>\n",
       "      <td>2.570101</td>\n",
       "      <td>2.378100</td>\n",
       "      <td>2.713222</td>\n",
       "      <td>3.436508</td>\n",
       "    </tr>\n",
       "    <tr>\n",
       "      <th>4</th>\n",
       "      <td>12880.250000</td>\n",
       "      <td>609.072635</td>\n",
       "      <td>630.639083</td>\n",
       "      <td>611.018622</td>\n",
       "      <td>32.936508</td>\n",
       "    </tr>\n",
       "    <tr>\n",
       "      <th>0</th>\n",
       "      <td>54.000000</td>\n",
       "      <td>2925.000000</td>\n",
       "      <td>23671.000000</td>\n",
       "      <td>1260.000000</td>\n",
       "      <td>216.000000</td>\n",
       "    </tr>\n",
       "    <tr>\n",
       "      <th>1</th>\n",
       "      <td>0.777778</td>\n",
       "      <td>0.483077</td>\n",
       "      <td>0.534494</td>\n",
       "      <td>0.330159</td>\n",
       "      <td>0.268519</td>\n",
       "    </tr>\n",
       "    <tr>\n",
       "      <th>2</th>\n",
       "      <td>0.351852</td>\n",
       "      <td>0.221880</td>\n",
       "      <td>0.184530</td>\n",
       "      <td>-0.310317</td>\n",
       "      <td>-3.120370</td>\n",
       "    </tr>\n",
       "    <tr>\n",
       "      <th>3</th>\n",
       "      <td>1.444444</td>\n",
       "      <td>1.993504</td>\n",
       "      <td>2.033712</td>\n",
       "      <td>2.456349</td>\n",
       "      <td>5.500000</td>\n",
       "    </tr>\n",
       "    <tr>\n",
       "      <th>4</th>\n",
       "      <td>2877.000000</td>\n",
       "      <td>595.834188</td>\n",
       "      <td>587.575345</td>\n",
       "      <td>676.499206</td>\n",
       "      <td>9.745370</td>\n",
       "    </tr>\n",
       "  </tbody>\n",
       "</table>\n",
       "</div>"
      ],
      "text/plain": [
       "              0            1             2            3           4\n",
       "0      2.000000   463.000000  20260.000000  2152.000000  357.000000\n",
       "1      0.000000     0.291577      0.270780     0.347584    0.445378\n",
       "2     -2.000000    -0.442765     -0.573820    -0.339498    0.644258\n",
       "3      3.000000     3.038877      2.808835     2.618030    1.408964\n",
       "4  31950.000000   799.190065    722.249901   670.065520  135.778711\n",
       "0      8.000000  1077.000000  17933.000000  1635.000000  165.000000\n",
       "1      0.875000     0.305478      0.366754     0.275229    0.618182\n",
       "2      0.750000    -0.414113     -0.190989    -0.413456    0.036364\n",
       "3      1.375000     2.962860      2.703619     2.815902    2.454545\n",
       "4   6045.125000   724.149489    703.432833   729.913761  115.036364\n",
       "0      8.000000  1748.000000  17966.000000  1241.000000  133.000000\n",
       "1      0.125000     0.398169      0.400646     0.239323    0.481203\n",
       "2     -1.125000    -0.147025     -0.036513    -0.718775   -2.045113\n",
       "3      2.500000     2.783753      2.539686     3.029009    4.263158\n",
       "4   7997.125000   648.364416    680.215129   723.819500   55.736842\n",
       "0      4.000000  1184.000000  12338.000000  1074.000000  126.000000\n",
       "1      0.250000     0.445101      0.465878     0.452514    0.388889\n",
       "2     -0.500000    -0.054899      0.007376    -0.307263   -1.404762\n",
       "3      2.750000     2.570101      2.378100     2.713222    3.436508\n",
       "4  12880.250000   609.072635    630.639083   611.018622   32.936508\n",
       "0     54.000000  2925.000000  23671.000000  1260.000000  216.000000\n",
       "1      0.777778     0.483077      0.534494     0.330159    0.268519\n",
       "2      0.351852     0.221880      0.184530    -0.310317   -3.120370\n",
       "3      1.444444     1.993504      2.033712     2.456349    5.500000\n",
       "4   2877.000000   595.834188    587.575345   676.499206    9.745370"
      ]
     },
     "execution_count": 172,
     "metadata": {},
     "output_type": "execute_result"
    }
   ],
   "source": [
    "pd.concat([Ask1_16_1,Ask1_16_2,Ask1_16_3,Ask1_16_4,Ask1_16_5])"
   ]
  },
  {
   "cell_type": "code",
   "execution_count": 173,
   "metadata": {
    "collapsed": true
   },
   "outputs": [],
   "source": [
    "pd.concat([Ask1_16_1,Ask1_16_2,Ask1_16_3,Ask1_16_4,Ask1_16_5]).to_csv('ask1_16_115_102.csv')"
   ]
  },
  {
   "cell_type": "code",
   "execution_count": null,
   "metadata": {
    "collapsed": true
   },
   "outputs": [],
   "source": []
  },
  {
   "cell_type": "code",
   "execution_count": null,
   "metadata": {
    "collapsed": true
   },
   "outputs": [],
   "source": []
  },
  {
   "cell_type": "code",
   "execution_count": null,
   "metadata": {
    "collapsed": true
   },
   "outputs": [],
   "source": []
  },
  {
   "cell_type": "code",
   "execution_count": null,
   "metadata": {
    "collapsed": true
   },
   "outputs": [],
   "source": []
  },
  {
   "cell_type": "code",
   "execution_count": null,
   "metadata": {
    "collapsed": true
   },
   "outputs": [],
   "source": []
  },
  {
   "cell_type": "code",
   "execution_count": null,
   "metadata": {
    "collapsed": true
   },
   "outputs": [],
   "source": []
  },
  {
   "cell_type": "code",
   "execution_count": 174,
   "metadata": {
    "collapsed": false
   },
   "outputs": [],
   "source": [
    "a = 0\n",
    "Ask2_16_1 = pd.DataFrame([SUM_Ask2_16[a],SUM_Ask2_16[a+1]/SUM_Ask2_16[a],SUM_Ask2_16[a+2]/SUM_Ask2_16[a],SUM_Ask2_16[a+3]/SUM_Ask2_16[a],SUM_Ask2_16[a+4]/SUM_Ask2_16[a]])"
   ]
  },
  {
   "cell_type": "code",
   "execution_count": 175,
   "metadata": {
    "collapsed": false
   },
   "outputs": [],
   "source": [
    "a = 5\n",
    "Ask2_16_2 = pd.DataFrame([SUM_Ask2_16[a],SUM_Ask2_16[a+1]/SUM_Ask2_16[a],SUM_Ask2_16[a+2]/SUM_Ask2_16[a],SUM_Ask2_16[a+3]/SUM_Ask2_16[a],SUM_Ask2_16[a+4]/SUM_Ask2_16[a]])"
   ]
  },
  {
   "cell_type": "code",
   "execution_count": 176,
   "metadata": {
    "collapsed": false
   },
   "outputs": [],
   "source": [
    "a = 10\n",
    "Ask2_16_3 = pd.DataFrame([SUM_Ask2_16[a],SUM_Ask2_16[a+1]/SUM_Ask2_16[a],SUM_Ask2_16[a+2]/SUM_Ask2_16[a],SUM_Ask2_16[a+3]/SUM_Ask2_16[a],SUM_Ask2_16[a+4]/SUM_Ask2_16[a]])"
   ]
  },
  {
   "cell_type": "code",
   "execution_count": 177,
   "metadata": {
    "collapsed": false
   },
   "outputs": [],
   "source": [
    "a = 15\n",
    "Ask2_16_4 = pd.DataFrame([SUM_Ask2_16[a],SUM_Ask2_16[a+1]/SUM_Ask2_16[a],SUM_Ask2_16[a+2]/SUM_Ask2_16[a],SUM_Ask2_16[a+3]/SUM_Ask2_16[a],SUM_Ask2_16[a+4]/SUM_Ask2_16[a]])"
   ]
  },
  {
   "cell_type": "code",
   "execution_count": 178,
   "metadata": {
    "collapsed": false
   },
   "outputs": [],
   "source": [
    "a = 20\n",
    "Ask2_16_5 = pd.DataFrame([SUM_Ask2_16[a],SUM_Ask2_16[a+1]/SUM_Ask2_16[a],SUM_Ask2_16[a+2]/SUM_Ask2_16[a],SUM_Ask2_16[a+3]/SUM_Ask2_16[a],SUM_Ask2_16[a+4]/SUM_Ask2_16[a]])"
   ]
  },
  {
   "cell_type": "code",
   "execution_count": 179,
   "metadata": {
    "collapsed": false,
    "scrolled": true
   },
   "outputs": [
    {
     "data": {
      "text/html": [
       "<div>\n",
       "<table border=\"1\" class=\"dataframe\">\n",
       "  <thead>\n",
       "    <tr style=\"text-align: right;\">\n",
       "      <th></th>\n",
       "      <th>0</th>\n",
       "      <th>1</th>\n",
       "      <th>2</th>\n",
       "      <th>3</th>\n",
       "      <th>4</th>\n",
       "    </tr>\n",
       "  </thead>\n",
       "  <tbody>\n",
       "    <tr>\n",
       "      <th>0</th>\n",
       "      <td>2.000000</td>\n",
       "      <td>463.000000</td>\n",
       "      <td>20260.000000</td>\n",
       "      <td>2152.000000</td>\n",
       "      <td>357.000000</td>\n",
       "    </tr>\n",
       "    <tr>\n",
       "      <th>1</th>\n",
       "      <td>0.000000</td>\n",
       "      <td>0.187905</td>\n",
       "      <td>0.099753</td>\n",
       "      <td>0.091078</td>\n",
       "      <td>0.372549</td>\n",
       "    </tr>\n",
       "    <tr>\n",
       "      <th>2</th>\n",
       "      <td>-2.000000</td>\n",
       "      <td>-0.272138</td>\n",
       "      <td>-0.416496</td>\n",
       "      <td>-0.213569</td>\n",
       "      <td>0.932773</td>\n",
       "    </tr>\n",
       "    <tr>\n",
       "      <th>3</th>\n",
       "      <td>4.000000</td>\n",
       "      <td>4.066955</td>\n",
       "      <td>3.858391</td>\n",
       "      <td>3.640799</td>\n",
       "      <td>2.470588</td>\n",
       "    </tr>\n",
       "    <tr>\n",
       "      <th>4</th>\n",
       "      <td>43650.000000</td>\n",
       "      <td>853.805616</td>\n",
       "      <td>793.405726</td>\n",
       "      <td>787.440056</td>\n",
       "      <td>139.591036</td>\n",
       "    </tr>\n",
       "    <tr>\n",
       "      <th>0</th>\n",
       "      <td>8.000000</td>\n",
       "      <td>1077.000000</td>\n",
       "      <td>17933.000000</td>\n",
       "      <td>1635.000000</td>\n",
       "      <td>165.000000</td>\n",
       "    </tr>\n",
       "    <tr>\n",
       "      <th>1</th>\n",
       "      <td>0.000000</td>\n",
       "      <td>0.168059</td>\n",
       "      <td>0.178888</td>\n",
       "      <td>0.125994</td>\n",
       "      <td>0.569697</td>\n",
       "    </tr>\n",
       "    <tr>\n",
       "      <th>2</th>\n",
       "      <td>0.000000</td>\n",
       "      <td>-0.315692</td>\n",
       "      <td>-0.026342</td>\n",
       "      <td>-0.346177</td>\n",
       "      <td>0.460606</td>\n",
       "    </tr>\n",
       "    <tr>\n",
       "      <th>3</th>\n",
       "      <td>3.875000</td>\n",
       "      <td>4.066852</td>\n",
       "      <td>3.776390</td>\n",
       "      <td>3.856269</td>\n",
       "      <td>3.521212</td>\n",
       "    </tr>\n",
       "    <tr>\n",
       "      <th>4</th>\n",
       "      <td>7650.000000</td>\n",
       "      <td>827.623027</td>\n",
       "      <td>805.547259</td>\n",
       "      <td>820.525994</td>\n",
       "      <td>136.660606</td>\n",
       "    </tr>\n",
       "    <tr>\n",
       "      <th>0</th>\n",
       "      <td>8.000000</td>\n",
       "      <td>1748.000000</td>\n",
       "      <td>17966.000000</td>\n",
       "      <td>1241.000000</td>\n",
       "      <td>133.000000</td>\n",
       "    </tr>\n",
       "    <tr>\n",
       "      <th>1</th>\n",
       "      <td>0.000000</td>\n",
       "      <td>0.229977</td>\n",
       "      <td>0.215963</td>\n",
       "      <td>0.125705</td>\n",
       "      <td>0.443609</td>\n",
       "    </tr>\n",
       "    <tr>\n",
       "      <th>2</th>\n",
       "      <td>-1.250000</td>\n",
       "      <td>0.007437</td>\n",
       "      <td>0.187365</td>\n",
       "      <td>-0.703465</td>\n",
       "      <td>-1.796992</td>\n",
       "    </tr>\n",
       "    <tr>\n",
       "      <th>3</th>\n",
       "      <td>3.750000</td>\n",
       "      <td>3.867849</td>\n",
       "      <td>3.598853</td>\n",
       "      <td>4.098308</td>\n",
       "      <td>5.443609</td>\n",
       "    </tr>\n",
       "    <tr>\n",
       "      <th>4</th>\n",
       "      <td>8662.500000</td>\n",
       "      <td>797.470252</td>\n",
       "      <td>788.687465</td>\n",
       "      <td>792.152297</td>\n",
       "      <td>65.150376</td>\n",
       "    </tr>\n",
       "    <tr>\n",
       "      <th>0</th>\n",
       "      <td>4.000000</td>\n",
       "      <td>1184.000000</td>\n",
       "      <td>12338.000000</td>\n",
       "      <td>1074.000000</td>\n",
       "      <td>126.000000</td>\n",
       "    </tr>\n",
       "    <tr>\n",
       "      <th>1</th>\n",
       "      <td>0.000000</td>\n",
       "      <td>0.329392</td>\n",
       "      <td>0.260496</td>\n",
       "      <td>0.179702</td>\n",
       "      <td>0.373016</td>\n",
       "    </tr>\n",
       "    <tr>\n",
       "      <th>2</th>\n",
       "      <td>-0.500000</td>\n",
       "      <td>0.234797</td>\n",
       "      <td>0.245307</td>\n",
       "      <td>-0.346369</td>\n",
       "      <td>-1.126984</td>\n",
       "    </tr>\n",
       "    <tr>\n",
       "      <th>3</th>\n",
       "      <td>3.750000</td>\n",
       "      <td>3.673986</td>\n",
       "      <td>3.449506</td>\n",
       "      <td>3.838920</td>\n",
       "      <td>4.531746</td>\n",
       "    </tr>\n",
       "    <tr>\n",
       "      <th>4</th>\n",
       "      <td>13500.000000</td>\n",
       "      <td>747.916385</td>\n",
       "      <td>766.588750</td>\n",
       "      <td>771.668529</td>\n",
       "      <td>40.293651</td>\n",
       "    </tr>\n",
       "    <tr>\n",
       "      <th>0</th>\n",
       "      <td>54.000000</td>\n",
       "      <td>2925.000000</td>\n",
       "      <td>23671.000000</td>\n",
       "      <td>1260.000000</td>\n",
       "      <td>216.000000</td>\n",
       "    </tr>\n",
       "    <tr>\n",
       "      <th>1</th>\n",
       "      <td>0.000000</td>\n",
       "      <td>0.271111</td>\n",
       "      <td>0.274513</td>\n",
       "      <td>0.200000</td>\n",
       "      <td>0.245370</td>\n",
       "    </tr>\n",
       "    <tr>\n",
       "      <th>2</th>\n",
       "      <td>-0.722222</td>\n",
       "      <td>0.427350</td>\n",
       "      <td>0.614372</td>\n",
       "      <td>-0.219841</td>\n",
       "      <td>-3.013889</td>\n",
       "    </tr>\n",
       "    <tr>\n",
       "      <th>3</th>\n",
       "      <td>4.000000</td>\n",
       "      <td>3.147350</td>\n",
       "      <td>3.186895</td>\n",
       "      <td>3.532540</td>\n",
       "      <td>6.638889</td>\n",
       "    </tr>\n",
       "    <tr>\n",
       "      <th>4</th>\n",
       "      <td>3616.666667</td>\n",
       "      <td>784.360684</td>\n",
       "      <td>743.393055</td>\n",
       "      <td>773.144444</td>\n",
       "      <td>18.856481</td>\n",
       "    </tr>\n",
       "  </tbody>\n",
       "</table>\n",
       "</div>"
      ],
      "text/plain": [
       "              0            1             2            3           4\n",
       "0      2.000000   463.000000  20260.000000  2152.000000  357.000000\n",
       "1      0.000000     0.187905      0.099753     0.091078    0.372549\n",
       "2     -2.000000    -0.272138     -0.416496    -0.213569    0.932773\n",
       "3      4.000000     4.066955      3.858391     3.640799    2.470588\n",
       "4  43650.000000   853.805616    793.405726   787.440056  139.591036\n",
       "0      8.000000  1077.000000  17933.000000  1635.000000  165.000000\n",
       "1      0.000000     0.168059      0.178888     0.125994    0.569697\n",
       "2      0.000000    -0.315692     -0.026342    -0.346177    0.460606\n",
       "3      3.875000     4.066852      3.776390     3.856269    3.521212\n",
       "4   7650.000000   827.623027    805.547259   820.525994  136.660606\n",
       "0      8.000000  1748.000000  17966.000000  1241.000000  133.000000\n",
       "1      0.000000     0.229977      0.215963     0.125705    0.443609\n",
       "2     -1.250000     0.007437      0.187365    -0.703465   -1.796992\n",
       "3      3.750000     3.867849      3.598853     4.098308    5.443609\n",
       "4   8662.500000   797.470252    788.687465   792.152297   65.150376\n",
       "0      4.000000  1184.000000  12338.000000  1074.000000  126.000000\n",
       "1      0.000000     0.329392      0.260496     0.179702    0.373016\n",
       "2     -0.500000     0.234797      0.245307    -0.346369   -1.126984\n",
       "3      3.750000     3.673986      3.449506     3.838920    4.531746\n",
       "4  13500.000000   747.916385    766.588750   771.668529   40.293651\n",
       "0     54.000000  2925.000000  23671.000000  1260.000000  216.000000\n",
       "1      0.000000     0.271111      0.274513     0.200000    0.245370\n",
       "2     -0.722222     0.427350      0.614372    -0.219841   -3.013889\n",
       "3      4.000000     3.147350      3.186895     3.532540    6.638889\n",
       "4   3616.666667   784.360684    743.393055   773.144444   18.856481"
      ]
     },
     "execution_count": 179,
     "metadata": {},
     "output_type": "execute_result"
    }
   ],
   "source": [
    "pd.concat([Ask2_16_1,Ask2_16_2,Ask2_16_3,Ask2_16_4,Ask2_16_5])"
   ]
  },
  {
   "cell_type": "code",
   "execution_count": 180,
   "metadata": {
    "collapsed": true
   },
   "outputs": [],
   "source": [
    "pd.concat([Ask2_16_1,Ask2_16_2,Ask2_16_3,Ask2_16_4,Ask2_16_5]).to_csv('ask2_16_115_102.csv')"
   ]
  },
  {
   "cell_type": "code",
   "execution_count": null,
   "metadata": {
    "collapsed": true
   },
   "outputs": [],
   "source": []
  },
  {
   "cell_type": "code",
   "execution_count": 181,
   "metadata": {
    "collapsed": false
   },
   "outputs": [],
   "source": [
    "a = 0\n",
    "Ask3_16_1 = pd.DataFrame([SUM_Ask3_16[a],SUM_Ask3_16[a+1]/SUM_Ask3_16[a],SUM_Ask3_16[a+2]/SUM_Ask3_16[a],SUM_Ask3_16[a+3]/SUM_Ask3_16[a],SUM_Ask3_16[a+4]/SUM_Ask3_16[a]])"
   ]
  },
  {
   "cell_type": "code",
   "execution_count": 182,
   "metadata": {
    "collapsed": false
   },
   "outputs": [],
   "source": [
    "a = 5\n",
    "Ask3_16_2 = pd.DataFrame([SUM_Ask3_16[a],SUM_Ask3_16[a+1]/SUM_Ask3_16[a],SUM_Ask3_16[a+2]/SUM_Ask3_16[a],SUM_Ask3_16[a+3]/SUM_Ask3_16[a],SUM_Ask3_16[a+4]/SUM_Ask3_16[a]])"
   ]
  },
  {
   "cell_type": "code",
   "execution_count": 183,
   "metadata": {
    "collapsed": false
   },
   "outputs": [],
   "source": [
    "a = 10\n",
    "Ask3_16_3 = pd.DataFrame([SUM_Ask3_16[a],SUM_Ask3_16[a+1]/SUM_Ask3_16[a],SUM_Ask3_16[a+2]/SUM_Ask3_16[a],SUM_Ask3_16[a+3]/SUM_Ask3_16[a],SUM_Ask3_16[a+4]/SUM_Ask3_16[a]])"
   ]
  },
  {
   "cell_type": "code",
   "execution_count": 184,
   "metadata": {
    "collapsed": false
   },
   "outputs": [],
   "source": [
    "a = 15\n",
    "Ask3_16_4 = pd.DataFrame([SUM_Ask3_16[a],SUM_Ask3_16[a+1]/SUM_Ask3_16[a],SUM_Ask3_16[a+2]/SUM_Ask3_16[a],SUM_Ask3_16[a+3]/SUM_Ask3_16[a],SUM_Ask3_16[a+4]/SUM_Ask3_16[a]])"
   ]
  },
  {
   "cell_type": "code",
   "execution_count": 185,
   "metadata": {
    "collapsed": false
   },
   "outputs": [],
   "source": [
    "a = 20\n",
    "Ask3_16_5 = pd.DataFrame([SUM_Ask3_16[a],SUM_Ask3_16[a+1]/SUM_Ask3_16[a],SUM_Ask3_16[a+2]/SUM_Ask3_16[a],SUM_Ask3_16[a+3]/SUM_Ask3_16[a],SUM_Ask3_16[a+4]/SUM_Ask3_16[a]])"
   ]
  },
  {
   "cell_type": "code",
   "execution_count": 186,
   "metadata": {
    "collapsed": false,
    "scrolled": true
   },
   "outputs": [
    {
     "data": {
      "text/html": [
       "<div>\n",
       "<table border=\"1\" class=\"dataframe\">\n",
       "  <thead>\n",
       "    <tr style=\"text-align: right;\">\n",
       "      <th></th>\n",
       "      <th>0</th>\n",
       "      <th>1</th>\n",
       "      <th>2</th>\n",
       "      <th>3</th>\n",
       "      <th>4</th>\n",
       "    </tr>\n",
       "  </thead>\n",
       "  <tbody>\n",
       "    <tr>\n",
       "      <th>0</th>\n",
       "      <td>2.000000</td>\n",
       "      <td>463.000000</td>\n",
       "      <td>20260.000000</td>\n",
       "      <td>2152.000000</td>\n",
       "      <td>357.000000</td>\n",
       "    </tr>\n",
       "    <tr>\n",
       "      <th>1</th>\n",
       "      <td>0.000000</td>\n",
       "      <td>0.079914</td>\n",
       "      <td>0.054393</td>\n",
       "      <td>0.030669</td>\n",
       "      <td>0.291317</td>\n",
       "    </tr>\n",
       "    <tr>\n",
       "      <th>2</th>\n",
       "      <td>-2.000000</td>\n",
       "      <td>-0.207343</td>\n",
       "      <td>-0.373425</td>\n",
       "      <td>-0.207993</td>\n",
       "      <td>0.924370</td>\n",
       "    </tr>\n",
       "    <tr>\n",
       "      <th>3</th>\n",
       "      <td>5.000000</td>\n",
       "      <td>5.066955</td>\n",
       "      <td>4.860711</td>\n",
       "      <td>4.640799</td>\n",
       "      <td>3.661064</td>\n",
       "    </tr>\n",
       "    <tr>\n",
       "      <th>4</th>\n",
       "      <td>56700.000000</td>\n",
       "      <td>886.470842</td>\n",
       "      <td>814.716140</td>\n",
       "      <td>817.110130</td>\n",
       "      <td>128.445378</td>\n",
       "    </tr>\n",
       "    <tr>\n",
       "      <th>0</th>\n",
       "      <td>8.000000</td>\n",
       "      <td>1077.000000</td>\n",
       "      <td>17933.000000</td>\n",
       "      <td>1635.000000</td>\n",
       "      <td>165.000000</td>\n",
       "    </tr>\n",
       "    <tr>\n",
       "      <th>1</th>\n",
       "      <td>0.000000</td>\n",
       "      <td>0.075209</td>\n",
       "      <td>0.081191</td>\n",
       "      <td>0.052599</td>\n",
       "      <td>0.290909</td>\n",
       "    </tr>\n",
       "    <tr>\n",
       "      <th>2</th>\n",
       "      <td>0.000000</td>\n",
       "      <td>-0.292479</td>\n",
       "      <td>0.095400</td>\n",
       "      <td>-0.313150</td>\n",
       "      <td>0.206061</td>\n",
       "    </tr>\n",
       "    <tr>\n",
       "      <th>3</th>\n",
       "      <td>4.875000</td>\n",
       "      <td>5.066852</td>\n",
       "      <td>4.785424</td>\n",
       "      <td>4.856269</td>\n",
       "      <td>4.763636</td>\n",
       "    </tr>\n",
       "    <tr>\n",
       "      <th>4</th>\n",
       "      <td>12825.000000</td>\n",
       "      <td>876.228412</td>\n",
       "      <td>842.997379</td>\n",
       "      <td>852.740061</td>\n",
       "      <td>52.581818</td>\n",
       "    </tr>\n",
       "    <tr>\n",
       "      <th>0</th>\n",
       "      <td>8.000000</td>\n",
       "      <td>1748.000000</td>\n",
       "      <td>17966.000000</td>\n",
       "      <td>1241.000000</td>\n",
       "      <td>133.000000</td>\n",
       "    </tr>\n",
       "    <tr>\n",
       "      <th>1</th>\n",
       "      <td>0.000000</td>\n",
       "      <td>0.129863</td>\n",
       "      <td>0.096905</td>\n",
       "      <td>0.058018</td>\n",
       "      <td>0.360902</td>\n",
       "    </tr>\n",
       "    <tr>\n",
       "      <th>2</th>\n",
       "      <td>-1.250000</td>\n",
       "      <td>0.084096</td>\n",
       "      <td>0.255316</td>\n",
       "      <td>-0.687349</td>\n",
       "      <td>-1.857143</td>\n",
       "    </tr>\n",
       "    <tr>\n",
       "      <th>3</th>\n",
       "      <td>4.750000</td>\n",
       "      <td>4.867849</td>\n",
       "      <td>4.618446</td>\n",
       "      <td>5.098308</td>\n",
       "      <td>6.744361</td>\n",
       "    </tr>\n",
       "    <tr>\n",
       "      <th>4</th>\n",
       "      <td>9900.000000</td>\n",
       "      <td>859.136156</td>\n",
       "      <td>843.557108</td>\n",
       "      <td>836.812248</td>\n",
       "      <td>67.105263</td>\n",
       "    </tr>\n",
       "    <tr>\n",
       "      <th>0</th>\n",
       "      <td>4.000000</td>\n",
       "      <td>1184.000000</td>\n",
       "      <td>12338.000000</td>\n",
       "      <td>1074.000000</td>\n",
       "      <td>126.000000</td>\n",
       "    </tr>\n",
       "    <tr>\n",
       "      <th>1</th>\n",
       "      <td>0.000000</td>\n",
       "      <td>0.146959</td>\n",
       "      <td>0.107878</td>\n",
       "      <td>0.076350</td>\n",
       "      <td>0.325397</td>\n",
       "    </tr>\n",
       "    <tr>\n",
       "      <th>2</th>\n",
       "      <td>-0.500000</td>\n",
       "      <td>0.239865</td>\n",
       "      <td>0.352699</td>\n",
       "      <td>-0.404097</td>\n",
       "      <td>-1.087302</td>\n",
       "    </tr>\n",
       "    <tr>\n",
       "      <th>3</th>\n",
       "      <td>4.750000</td>\n",
       "      <td>4.673986</td>\n",
       "      <td>4.457854</td>\n",
       "      <td>4.838920</td>\n",
       "      <td>5.769841</td>\n",
       "    </tr>\n",
       "    <tr>\n",
       "      <th>4</th>\n",
       "      <td>14850.000000</td>\n",
       "      <td>851.448480</td>\n",
       "      <td>836.192089</td>\n",
       "      <td>847.097765</td>\n",
       "      <td>50.333333</td>\n",
       "    </tr>\n",
       "    <tr>\n",
       "      <th>0</th>\n",
       "      <td>54.000000</td>\n",
       "      <td>2925.000000</td>\n",
       "      <td>23671.000000</td>\n",
       "      <td>1260.000000</td>\n",
       "      <td>216.000000</td>\n",
       "    </tr>\n",
       "    <tr>\n",
       "      <th>1</th>\n",
       "      <td>0.000000</td>\n",
       "      <td>0.121709</td>\n",
       "      <td>0.133116</td>\n",
       "      <td>0.082540</td>\n",
       "      <td>0.217593</td>\n",
       "    </tr>\n",
       "    <tr>\n",
       "      <th>2</th>\n",
       "      <td>-0.722222</td>\n",
       "      <td>0.489573</td>\n",
       "      <td>0.826784</td>\n",
       "      <td>-0.274603</td>\n",
       "      <td>-2.962963</td>\n",
       "    </tr>\n",
       "    <tr>\n",
       "      <th>3</th>\n",
       "      <td>5.000000</td>\n",
       "      <td>4.152137</td>\n",
       "      <td>4.205399</td>\n",
       "      <td>4.532540</td>\n",
       "      <td>7.777778</td>\n",
       "    </tr>\n",
       "    <tr>\n",
       "      <th>4</th>\n",
       "      <td>3716.666667</td>\n",
       "      <td>862.800342</td>\n",
       "      <td>805.718136</td>\n",
       "      <td>855.818254</td>\n",
       "      <td>24.708333</td>\n",
       "    </tr>\n",
       "  </tbody>\n",
       "</table>\n",
       "</div>"
      ],
      "text/plain": [
       "              0            1             2            3           4\n",
       "0      2.000000   463.000000  20260.000000  2152.000000  357.000000\n",
       "1      0.000000     0.079914      0.054393     0.030669    0.291317\n",
       "2     -2.000000    -0.207343     -0.373425    -0.207993    0.924370\n",
       "3      5.000000     5.066955      4.860711     4.640799    3.661064\n",
       "4  56700.000000   886.470842    814.716140   817.110130  128.445378\n",
       "0      8.000000  1077.000000  17933.000000  1635.000000  165.000000\n",
       "1      0.000000     0.075209      0.081191     0.052599    0.290909\n",
       "2      0.000000    -0.292479      0.095400    -0.313150    0.206061\n",
       "3      4.875000     5.066852      4.785424     4.856269    4.763636\n",
       "4  12825.000000   876.228412    842.997379   852.740061   52.581818\n",
       "0      8.000000  1748.000000  17966.000000  1241.000000  133.000000\n",
       "1      0.000000     0.129863      0.096905     0.058018    0.360902\n",
       "2     -1.250000     0.084096      0.255316    -0.687349   -1.857143\n",
       "3      4.750000     4.867849      4.618446     5.098308    6.744361\n",
       "4   9900.000000   859.136156    843.557108   836.812248   67.105263\n",
       "0      4.000000  1184.000000  12338.000000  1074.000000  126.000000\n",
       "1      0.000000     0.146959      0.107878     0.076350    0.325397\n",
       "2     -0.500000     0.239865      0.352699    -0.404097   -1.087302\n",
       "3      4.750000     4.673986      4.457854     4.838920    5.769841\n",
       "4  14850.000000   851.448480    836.192089   847.097765   50.333333\n",
       "0     54.000000  2925.000000  23671.000000  1260.000000  216.000000\n",
       "1      0.000000     0.121709      0.133116     0.082540    0.217593\n",
       "2     -0.722222     0.489573      0.826784    -0.274603   -2.962963\n",
       "3      5.000000     4.152137      4.205399     4.532540    7.777778\n",
       "4   3716.666667   862.800342    805.718136   855.818254   24.708333"
      ]
     },
     "execution_count": 186,
     "metadata": {},
     "output_type": "execute_result"
    }
   ],
   "source": [
    "pd.concat([Ask3_16_1,Ask3_16_2,Ask3_16_3,Ask3_16_4,Ask3_16_5])"
   ]
  },
  {
   "cell_type": "code",
   "execution_count": 335,
   "metadata": {
    "collapsed": true
   },
   "outputs": [],
   "source": [
    "pd.concat([Ask3_16_1,Ask3_16_2,Ask3_16_3,Ask3_16_4,Ask3_16_5]).to_csv('ask3_16_115_102.csv')"
   ]
  },
  {
   "cell_type": "code",
   "execution_count": null,
   "metadata": {
    "collapsed": true
   },
   "outputs": [],
   "source": []
  },
  {
   "cell_type": "code",
   "execution_count": null,
   "metadata": {
    "collapsed": true
   },
   "outputs": [],
   "source": []
  },
  {
   "cell_type": "code",
   "execution_count": null,
   "metadata": {
    "collapsed": true
   },
   "outputs": [],
   "source": []
  },
  {
   "cell_type": "code",
   "execution_count": null,
   "metadata": {
    "collapsed": true
   },
   "outputs": [],
   "source": []
  }
 ],
 "metadata": {
  "kernelspec": {
   "display_name": "Python 2",
   "language": "python",
   "name": "python2"
  },
  "language_info": {
   "codemirror_mode": {
    "name": "ipython",
    "version": 2
   },
   "file_extension": ".py",
   "mimetype": "text/x-python",
   "name": "python",
   "nbconvert_exporter": "python",
   "pygments_lexer": "ipython2",
   "version": "2.7.11"
  }
 },
 "nbformat": 4,
 "nbformat_minor": 0
}
