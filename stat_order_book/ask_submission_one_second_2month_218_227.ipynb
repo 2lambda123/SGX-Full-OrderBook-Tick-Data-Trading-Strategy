{
 "cells": [
  {
   "cell_type": "code",
   "execution_count": 27,
   "metadata": {
    "collapsed": false
   },
   "outputs": [
    {
     "name": "stdout",
     "output_type": "stream",
     "text": [
      "Populating the interactive namespace from numpy and matplotlib\n"
     ]
    }
   ],
   "source": [
    "%pylab inline\n",
    "import numpy as np\n",
    "import pandas as pd\n",
    "import matplotlib.pyplot as plt"
   ]
  },
  {
   "cell_type": "code",
   "execution_count": 28,
   "metadata": {
    "collapsed": true
   },
   "outputs": [],
   "source": [
    "def order_book(month,day):\n",
    "    data1 = []\n",
    "    datapath = '/home/bigdatas16/SGX-OrderBook-Tick-Data-Trading-Strategy-/stat_order_book/CNF14_0'+str(month)+'_'+str(day)+'_order_book_final.csv'\n",
    "    data1 = pd.read_csv(datapath,sep='\\t',encoding = 'utf-8')\n",
    "    data_book = data1[['0','1','2','3']]\n",
    "    return data_book"
   ]
  },
  {
   "cell_type": "code",
   "execution_count": 29,
   "metadata": {
    "collapsed": true
   },
   "outputs": [],
   "source": [
    "def day_time(month,day):\n",
    "    data = []\n",
    "    datapath = '/home/bigdatas16/SGX-OrderBook-Tick-Data-Trading-Strategy-/CN_Futures_2014.0'+str(month)+'.'+str(day)+'.csv'\n",
    "    data = pd.read_csv(datapath)\n",
    "    data_CNG14 = data[data.Series == 'CNG14']\n",
    "    data = data_CNG14\n",
    "    market_open_time = data[data['TimeStamp'].str.contains('2014-0'+str(month)+'-'+str(day)+'D09:00')].index.tolist()[0] \n",
    "    market_close_time = data[data['TimeStamp'].str.contains('2014-0'+str(month)+'-'+str(day)+'D16:00')].index.tolist()[0] \n",
    "    data_open = data[market_open_time:market_close_time+1]\n",
    "    timestamp_ = data_open.TimeStamp.unique()\n",
    "    return timestamp_"
   ]
  },
  {
   "cell_type": "code",
   "execution_count": 30,
   "metadata": {
    "collapsed": true
   },
   "outputs": [],
   "source": [
    "def time_transform(timestamp_time):\n",
    "    time_second = []\n",
    "    for i in range(0,len(timestamp_time),1):\n",
    "        second = float(timestamp_time[i][11])*36000 + float(timestamp_time[i][12])*3600 \\\n",
    "                +float(timestamp_time[i][14])*600 + float(timestamp_time[i][15])*60\\\n",
    "                +float(timestamp_time[i][17])*10 + float(timestamp_time[i][18])  \n",
    "        time_second.append(second - 32400.0)\n",
    "    return  time_second"
   ]
  },
  {
   "cell_type": "code",
   "execution_count": 31,
   "metadata": {
    "collapsed": true
   },
   "outputs": [],
   "source": [
    "def bid123_ask123_Q(data_book_28_open):\n",
    "    Bid1 = []\n",
    "    Bid2 = []\n",
    "    Bid3 = []\n",
    "    Bid1_Quantity = []\n",
    "    Bid2_Quantity = []\n",
    "    Bid3_Quantity = []\n",
    "    Ask1 = []\n",
    "    Ask2 = []\n",
    "    Ask3 = []\n",
    "    Ask1_Quantity = []\n",
    "    Ask2_Quantity = []\n",
    "    Ask3_Quantity = []\n",
    "\n",
    "    TimeStamp = []\n",
    "    for i in range(1,len(data_book_28_open),4):\n",
    "        #print data_book_28_open.iloc[i]['0']\n",
    "        #print data_book_28_open.iloc[i]['2']\n",
    "        Bid1.append(float(data_book_28_open.iloc[i]['0'])/100.0)\n",
    "        Bid1_Quantity.append(float(data_book_28_open.iloc[i]['1']))\n",
    "\n",
    "        Bid2.append(float(data_book_28_open.iloc[i + 1]['0'])/100.0)\n",
    "        Bid2_Quantity.append(float(data_book_28_open.iloc[i + 1]['1']))  \n",
    "\n",
    "        Bid3.append(float(data_book_28_open.iloc[i + 2]['0'])/100.0)\n",
    "        Bid3_Quantity.append(float(data_book_28_open.iloc[i + 2]['1']))  \n",
    "\n",
    "        Ask1.append(float(data_book_28_open.iloc[i]['2'])/100.0) \n",
    "        Ask1_Quantity.append(float(data_book_28_open.iloc[i]['3']))\n",
    "\n",
    "        Ask2.append(float(data_book_28_open.iloc[i + 1]['2'])/100.0) \n",
    "        Ask2_Quantity.append(float(data_book_28_open.iloc[i + 1]['3']))    \n",
    "\n",
    "        Ask3.append(float(data_book_28_open.iloc[i + 2]['2'])/100.0) \n",
    "        Ask3_Quantity.append(float(data_book_28_open.iloc[i + 2]['3']))    \n",
    "        TimeStamp.append(data_book_28_open.iloc[i-1][1])\n",
    "    return Bid1,Bid1_Quantity,Bid2,Bid2_Quantity,Bid3,Bid3_Quantity,Ask1,Ask1_Quantity,Ask2,Ask2_Quantity,Ask3,Ask3_Quantity,    "
   ]
  },
  {
   "cell_type": "code",
   "execution_count": 32,
   "metadata": {
    "collapsed": true
   },
   "outputs": [],
   "source": [
    "def rise_bid(Bid1,timestamp_time_second):\n",
    "    rise_ratio = []\n",
    "    index = np.where(np.array(timestamp_time_second) >= 600)[0][0]\n",
    "    for i in range(0,index):\n",
    "        rise_ratio_ = round((Bid1[i] - Bid1[0])*(1.0)/Bid1[0]*100,5)\n",
    "        rise_ratio.append(rise_ratio_)\n",
    "    for i in range(index,len(Bid1),1):\n",
    "        index_start = np.where(np.array(timestamp_time_second[:i]) >= timestamp_time_second[i] - 600)[0][0]\n",
    "        rise_ratio_ = round((Bid1[i] - Bid1[index_start])*(1.0)/Bid1[index_start]*100,5)\n",
    "        rise_ratio.append(rise_ratio_)\n",
    "    return rise_ratio"
   ]
  },
  {
   "cell_type": "code",
   "execution_count": 33,
   "metadata": {
    "collapsed": true
   },
   "outputs": [],
   "source": [
    "def rise_cal(i,rise_ratio_bid,timestamp_time_second,Bid,Ask,index,index_15_min,close_price,\\\n",
    "             N_1,N_2,N_3,N_4,N_5,N_1_T,N_2_T,N_3_T,N_4_T,N_5_T,\\\n",
    "             N_1_E,N_2_E,N_3_E,N_4_E,N_5_E,N_1_M,N_2_M,N_3_M,N_4_M,N_5_M,\\\n",
    "             N_1_TI,N_2_TI,N_3_TI,N_4_TI,N_5_TI):\n",
    "    \n",
    "    if rise_ratio_bid[index] <= -0.4:\n",
    "        N_1 = N_1 + 1\n",
    "        #print rise_ratio_ask[index]\n",
    "        #Ask1[i] < max_Bid1_time_series[i+1]\n",
    "        if Ask[index] < max(Bid[(index+1):index + index_15_min + 1]):\n",
    "            N_1_T = N_1_T + 1\n",
    "            N_1_E = N_1_E + (Ask[index] - Bid[index])*(1.0)/(5.0)\n",
    "            #print N_1_E\n",
    "            first_max_index = np.where(np.array(Bid[(index + 1):index + 1 + index_15_min + 1 ]) > Ask[index])[0][0]\n",
    "            N_1_M = N_1_M + (Ask[index] - min(Bid[(index + 1):(index + 1 + first_max_index + 1)]))*(1.0)/(5.0) \n",
    "            \n",
    "            time_start = timestamp_time_second[index]\n",
    "            time_traded = timestamp_time_second[index + first_max_index + 1]\n",
    "            N_1_TI = N_1_TI + (time_traded - time_start)\n",
    "            #print N_1_TI\n",
    "            pass\n",
    "        else:\n",
    "            if i < 25200 - 900:\n",
    "                N_1_E = N_1_E + (Bid[index + index_15_min] - Bid[index])*(1.0)/(5.0)\n",
    "                N_1_M = N_1_M + (Ask[index] - min(Bid[(index+1):(index + 1 + index_15_min + 1 )]))*(1.0)/(5.0) \n",
    "                #print N_1_M\n",
    "                N_1_TI = N_1_TI + (900.0)\n",
    "                #print N_1_TI\n",
    "            else:\n",
    "                N_1_E = N_1_E + (close_price - Bid[index])*(1.0)/(5.0)\n",
    "                N_1_M = N_1_M + (Ask[index] - min(Bid[(index+1):]))*(1.0)/(5.0) \n",
    "                time_start = timestamp_time_second[index]\n",
    "                time_traded = timestamp_time_second[len(timestamp_time_second)-1]                \n",
    "                N_1_TI = N_1_TI + (time_traded - time_start)\n",
    "                #print N_1_TI\n",
    "            pass\n",
    "\n",
    "    elif -0.4 < rise_ratio_bid[index] <= -0.15:\n",
    "        N_2 = N_2 + 1\n",
    "        #print rise_ratio_ask[index]\n",
    "        if Ask[index] < max(Bid[(index+1):index + index_15_min + 1]):\n",
    "            #print 3\n",
    "            N_2_T = N_2_T + 1\n",
    "            N_2_E = N_2_E + (Ask[index] - Bid[index])*(1.0)/(5.0)\n",
    "            #print N_2_E\n",
    "            first_max_index = np.where(np.array(Bid[(index+1):index + 1 + index_15_min + 1 ]) > Ask[index])[0][0]\n",
    "            N_2_M = N_2_M + (Ask[index] - min(Bid[(index + 1):(index + 1 + first_max_index + 1)]))*(1.0)/(5.0) \n",
    "            \n",
    "            time_start = timestamp_time_second[index]\n",
    "            time_traded = timestamp_time_second[index + first_max_index + 1]\n",
    "            N_2_TI = N_2_TI + (time_traded - time_start)\n",
    "            #print N_2_TI\n",
    "            pass\n",
    "        else:\n",
    "            if i < 25200 - 900:\n",
    "                N_2_E = N_2_E + (Bid[index + index_15_min] - Bid[index])*(1.0)/(5.0)\n",
    "                N_2_M = N_2_M + (Ask[index] - min(Bid[(index+1):(index + 1 + index_15_min + 1 )]))*(1.0)/(5.0) \n",
    "                N_2_TI = N_2_TI + (900.0)\n",
    "                #print N_2_TI\n",
    "            else:\n",
    "                N_2_E = N_2_E + (close_price - Bid[index])*(1.0)/(5.0)\n",
    "                N_2_M = N_2_M + (Ask[index] - min(Bid[(index+1):]))*(1.0)/(5.0)\n",
    "                time_start = timestamp_time_second[index]\n",
    "                time_traded = timestamp_time_second[len(timestamp_time_second)-1]                \n",
    "                N_2_TI = N_2_TI + (time_traded - time_start)\n",
    "                #print N_2_TI\n",
    "            pass\n",
    "\n",
    "    elif -0.15 < rise_ratio_bid[index] <= 0.15:\n",
    "        N_3 = N_3 + 1\n",
    "        #print rise_ratio_ask[index]\n",
    "        if Ask[index] < max(Bid[(index+1):index + index_15_min + 1]):\n",
    "            #print 5\n",
    "            N_3_T = N_3_T + 1\n",
    "            N_3_E = N_3_E + (Ask[index] - Bid[index])*(1.0)/(5.0)\n",
    "            #print N_3_E\n",
    "            first_max_index = np.where(np.array(Bid[(index + 1):index + 1 + index_15_min + 1]) > Ask[index])[0][0]\n",
    "            N_3_M = N_3_M + (Ask[index] - min(Bid[(index + 1):(index + 1 + first_max_index + 1)]))*(1.0)/(5.0) \n",
    "            time_start = timestamp_time_second[index]\n",
    "            time_traded = timestamp_time_second[index + first_max_index + 1]\n",
    "            N_3_TI = N_3_TI + (time_traded - time_start)\n",
    "            #print N_3_TI\n",
    "            pass\n",
    "        else:\n",
    "            if i < 25200 - 900:\n",
    "                N_3_E = N_3_E + (Bid[index + index_15_min] - Bid[index])*(1.0)/(5.0)\n",
    "                N_3_M = N_3_M + (Ask[index] - min(Bid[(index+1):(index + 1 + index_15_min + 1 )]))*(1.0)/(5.0) \n",
    "                N_3_TI = N_3_TI + (900.0)\n",
    "                #print N_3_TI\n",
    "            else:\n",
    "                N_3_E = N_3_E + (close_price - Bid[index])*(1.0)/(5.0)\n",
    "                N_3_M = N_3_M + (Ask[index] - min(Bid[(index+1):]))*(1.0)/(5.0)\n",
    "                time_start = timestamp_time_second[index]\n",
    "                time_traded = timestamp_time_second[len(timestamp_time_second)-1]                \n",
    "                N_3_TI = N_3_TI + (time_traded - time_start)\n",
    "                #print N_3_TI\n",
    "            pass\n",
    "\n",
    "    elif 0.15 < rise_ratio_bid[index] < 0.4:\n",
    "        N_4 = N_4 + 1\n",
    "        #print rise_ratio_ask[index]\n",
    "        if Ask[index] < max(Bid[(index+1):index + index_15_min + 1]):\n",
    "            #print 7\n",
    "            N_4_T = N_4_T + 1\n",
    "            N_4_E = N_4_E + (Ask[index] - Bid[index])*(1.0)/(5.0)\n",
    "            #print N_4_E\n",
    "            first_max_index = np.where(np.array(Bid[(index+1):index + 1 + index_15_min + 1 ]) > Ask[index])[0][0]\n",
    "            N_4_M = N_4_M + (Ask[index] - min(Bid[(index + 1):(index + 1 + first_max_index + 1)]))*(1.0)/(5.0) \n",
    "            time_start = timestamp_time_second[index]\n",
    "            time_traded = timestamp_time_second[index + first_max_index + 1]\n",
    "            N_4_TI = N_4_TI + (time_traded - time_start)\n",
    "            #print N_4_TI\n",
    "            pass\n",
    "        else:\n",
    "            if i < 25200 - 900:\n",
    "                N_4_E = N_4_E + (Bid[index + index_15_min] - Bid[index])*(1.0)/(5.0)\n",
    "                N_4_M = N_4_M + (Ask[index] - min(Bid[(index+1):(index + 1 + index_15_min + 1 )]))*(1.0)/(5.0) \n",
    "                N_4_TI = N_4_TI + (900.0)\n",
    "                #print N_4_TI\n",
    "            else:\n",
    "                N_4_E = N_4_E + (close_price - Bid[index])*(1.0)/(5.0)\n",
    "                N_4_M = N_4_M + (Ask[index] - min(Bid[(index+1):]))*(1.0)/(5.0)\n",
    "                time_start = timestamp_time_second[index]\n",
    "                time_traded = timestamp_time_second[len(timestamp_time_second)-1]                \n",
    "                N_4_TI = N_4_TI + (time_traded - time_start)\n",
    "                #print N_4_TI\n",
    "            pass\n",
    "\n",
    "    elif 0.4 <= rise_ratio_bid[index]:\n",
    "        N_5 = N_5 + 1\n",
    "        #print rise_ratio_ask[index]\n",
    "        if Ask[index] < max(Bid[(index+1):index + index_15_min + 1]):\n",
    "            N_5_T = N_5_T + 1\n",
    "            N_5_E = N_5_E + (Ask[index] - Bid[index])*(1.0)/(5.0)\n",
    "            #print N_5_E      \n",
    "            first_max_index = np.where(np.array(Bid[(index+1):index + 1 + index_15_min + 1 ]) > Ask[index])[0][0]\n",
    "            N_5_M = N_5_M + (Ask[index] - min(Bid[(index + 1):(index + 1 + first_max_index + 1)]))*(1.0)/(5.0) \n",
    "            \n",
    "            time_start = timestamp_time_second[index]\n",
    "            time_traded = timestamp_time_second[index + first_max_index + 1]\n",
    "            N_5_TI = N_5_TI + (time_traded - time_start)\n",
    "            #print N_5_TI\n",
    "            pass\n",
    "        else:\n",
    "            if i < 25200 - 900:\n",
    "                N_5_E = N_5_E + (Bid[index + index_15_min] - Bid[index])*(1.0)/(5.0)\n",
    "                N_5_M = N_5_M + (Ask[index] - min(Bid[(index+1):(index + 1 + index_15_min + 1)]))*(1.0)/(5.0) \n",
    "                N_1_TI = N_1_TI + (900.0)\n",
    "                #print N_5_TI\n",
    "            else:\n",
    "                N_5_E = N_5_E + (close_price - Bid[index])*(1.0)/(5.0)\n",
    "                N_5_M = N_5_M + (Ask[index] - min(Bid[(index+1):]))*(1.0)/(5.0)\n",
    "                time_start = timestamp_time_second[index]\n",
    "                time_traded = timestamp_time_second[len(timestamp_time_second)-1]                \n",
    "                N_5_TI = N_5_TI + (time_traded - time_start)\n",
    "                #print N_5_TI \n",
    "            pass\n",
    "        \n",
    "    return N_1,N_2,N_3,N_4,N_5,N_1_T,N_2_T,N_3_T,N_4_T,N_5_T,N_1_E,N_2_E,N_3_E,N_4_E,N_5_E,N_1_M,N_2_M,N_3_M,N_4_M,N_5_M,\\\n",
    "           N_1_TI,N_2_TI,N_3_TI,N_4_TI,N_5_TI"
   ]
  },
  {
   "cell_type": "code",
   "execution_count": 34,
   "metadata": {
    "collapsed": true
   },
   "outputs": [],
   "source": [
    "def ask(time1,time2,Bid,Ask,close_price,timestamp_time_second,Bid1_Quantity,Bid2_Quantity,Bid3_Quantity,\\\n",
    "        Ask1_Quantity,Ask2_Quantity,Ask3_Quantity,weigth1,weigth2,weigth3):\n",
    "    [N_11,N_12,N_13,N_14,N_15,N_11_T,N_12_T,N_13_T,N_14_T,N_15_T,N_11_E,N_12_E,N_13_E,N_14_E,N_15_E,\\\n",
    "     N_11_M,N_12_M,N_13_M,N_14_M,N_15_M,N_11_TI,N_12_TI,N_13_TI,N_14_TI,N_15_TI] = [0 for i in  range(0,25,1)]\n",
    "    [N_21,N_22,N_23,N_24,N_25,N_21_T,N_22_T,N_23_T,N_24_T,N_25_T,N_21_E,N_22_E,N_23_E,N_24_E,N_25_E,\\\n",
    "     N_21_M,N_22_M,N_23_M,N_24_M,N_25_M,N_21_TI,N_22_TI,N_23_TI,N_24_TI,N_25_TI] = [0 for i in  range(0,25,1)]\n",
    "    [N_31,N_32,N_33,N_34,N_35,N_31_T,N_32_T,N_33_T,N_34_T,N_35_T,N_31_E,N_32_E,N_33_E,N_34_E,N_35_E,\\\n",
    "     N_31_M,N_32_M,N_33_M,N_34_M,N_35_M,N_31_TI,N_32_TI,N_33_TI,N_34_TI,N_35_TI] = [0 for i in  range(0,25,1)]\n",
    "    [N_41,N_42,N_43,N_44,N_45,N_41_T,N_42_T,N_43_T,N_44_T,N_45_T,N_41_E,N_42_E,N_43_E,N_44_E,N_45_E,\\\n",
    "     N_41_M,N_42_M,N_43_M,N_44_M,N_45_M,N_41_TI,N_42_TI,N_43_TI,N_44_TI,N_45_TI] = [0 for i in  range(0,25,1)]\n",
    "    [N_51,N_52,N_53,N_54,N_55,N_51_T,N_52_T,N_53_T,N_54_T,N_55_T,N_51_E,N_52_E,N_53_E,N_54_E,N_55_E,\\\n",
    "     N_51_M,N_52_M,N_53_M,N_54_M,N_55_M,N_51_TI,N_52_TI,N_53_TI,N_54_TI,N_55_TI] = [0 for i in  range(0,25,1)]\n",
    "\n",
    "    for i in range(time1,time2,1):\n",
    "        index = np.where(array(timestamp_time_second) <= i)[0][-1]\n",
    "        if i < 25200 - 900:\n",
    "            index_15_min = np.where(np.array(timestamp_time_second[index:]) >= i + 900)[0][0]\n",
    "\n",
    "        weighted_Bid = Bid1_Quantity[index] * weight1 + Bid2_Quantity[index] * weight2 + Bid3_Quantity[index] * weight3\n",
    "        weighted_Ask = Ask1_Quantity[index] * weight1 + Ask2_Quantity[index] * weight2 + Ask3_Quantity[index] * weight3  \n",
    "        if (weighted_Bid*(1.0) / weighted_Ask) <= 0.7:\n",
    "            N_11,N_12,N_13,N_14,N_15,N_11_T,N_12_T,N_13_T,N_14_T,N_15_T,N_11_E,N_12_E,N_13_E,N_14_E,N_15_E,\\\n",
    "            N_11_M,N_12_M,N_13_M,N_14_M,N_15_M,N_11_TI,N_12_TI,N_13_TI,N_14_TI,N_15_TI = rise_cal(i,rise_ratio_bid,timestamp_time_second,Bid,Ask,index,index_15_min,\\\n",
    "                                                          close_price,N_11,N_12,N_13,N_14,N_15,N_11_T,N_12_T,N_13_T,N_14_T,N_15_T,\\\n",
    "                                                          N_11_E,N_12_E,N_13_E,N_14_E,N_15_E,N_11_M,N_12_M,N_13_M,N_14_M,N_15_M,\\\n",
    "                                                          N_11_TI,N_12_TI,N_13_TI,N_14_TI,N_15_TI)                                               \n",
    "        elif 0.7 < (weighted_Bid*(1.0) / weighted_Ask) <= 0.9:\n",
    "            N_21,N_22,N_23,N_24,N_25,N_21_T,N_22_T,N_23_T,N_24_T,N_25_T,N_21_E,N_22_E,N_23_E,N_24_E,N_25_E,\\\n",
    "            N_21_M,N_22_M,N_23_M,N_24_M,N_25_M,N_21_TI,N_22_TI,N_23_TI,N_24_TI,N_25_TI = rise_cal(i,rise_ratio_bid,timestamp_time_second,Bid,Ask,index,index_15_min,\\\n",
    "                                                          close_price,N_21,N_22,N_23,N_24,N_25,N_21_T,N_22_T,N_23_T,N_24_T,N_25_T,\\\n",
    "                                                          N_21_E,N_22_E,N_23_E,N_24_E,N_25_E,N_21_M,N_22_M,N_23_M,N_24_M,N_25_M,\\\n",
    "                                                          N_21_TI,N_22_TI,N_23_TI,N_24_TI,N_25_TI)                                                \n",
    "        elif 0.9 < (weighted_Bid*(1.0) / weighted_Ask) <= 1.1:\n",
    "            N_31,N_32,N_33,N_34,N_35,N_31_T,N_32_T,N_33_T,N_34_T,N_35_T,N_31_E,N_32_E,N_33_E,N_34_E,N_35_E,\\\n",
    "            N_31_M,N_32_M,N_33_M,N_34_M,N_35_M,N_31_TI,N_32_TI,N_33_TI,N_34_TI,N_35_TI = rise_cal(i,rise_ratio_bid,timestamp_time_second,Bid,Ask,index,index_15_min,\\\n",
    "                                                          close_price,N_31,N_32,N_33,N_34,N_35,N_31_T,N_32_T,N_33_T,N_34_T,N_35_T,\\\n",
    "                                                          N_31_E,N_32_E,N_33_E,N_34_E,N_35_E,N_31_M,N_32_M,N_33_M,N_34_M,N_35_M,\\\n",
    "                                                          N_31_TI,N_32_TI,N_33_TI,N_34_TI,N_35_TI)                                    \n",
    "        elif 1.1 < (weighted_Bid*(1.0) / weighted_Ask) <= 1.3:\n",
    "            N_41,N_42,N_43,N_44,N_45,N_41_T,N_42_T,N_43_T,N_44_T,N_45_T,N_41_E,N_42_E,N_43_E,N_44_E,N_45_E,\\\n",
    "            N_41_M,N_42_M,N_43_M,N_44_M,N_45_M,N_41_TI,N_42_TI,N_43_TI,N_44_TI,N_45_TI = rise_cal(i,rise_ratio_bid,timestamp_time_second,Bid,Ask,index,index_15_min,\\\n",
    "                                                          close_price,N_41,N_42,N_43,N_44,N_45,N_41_T,N_42_T,N_43_T,N_44_T,N_45_T,\\\n",
    "                                                          N_41_E,N_42_E,N_43_E,N_44_E,N_45_E,N_41_M,N_42_M,N_43_M,N_44_M,N_45_M,\\\n",
    "                                                          N_41_TI,N_42_TI,N_43_TI,N_44_TI,N_45_TI)                              \n",
    "        elif 1.30 < (weighted_Bid*(1.0) / weighted_Ask):\n",
    "            N_51,N_52,N_53,N_54,N_55,N_51_T,N_52_T,N_53_T,N_54_T,N_55_T,N_51_E,N_52_E,N_53_E,N_54_E,N_55_E,\\\n",
    "            N_51_M,N_52_M,N_53_M,N_54_M,N_55_M,N_51_TI,N_52_TI,N_53_TI,N_54_TI,N_55_TI = rise_cal(i,rise_ratio_bid,timestamp_time_second,Bid,Ask,index,index_15_min,\\\n",
    "                                                          close_price,N_51,N_52,N_53,N_54,N_55,N_51_T,N_52_T,N_53_T,N_54_T,N_55_T,\\\n",
    "                                                          N_51_E,N_52_E,N_53_E,N_54_E,N_55_E,N_51_M,N_52_M,N_53_M,N_54_M,N_55_M,\\\n",
    "                                                          N_51_TI,N_52_TI,N_53_TI,N_54_TI,N_55_TI)                 \n",
    "    return [[N_11,N_12,N_13,N_14,N_15],[N_11_T,N_12_T,N_13_T,N_14_T,N_15_T],[N_11_E,N_12_E,N_13_E,N_14_E,N_15_E],\\\n",
    "             [N_11_M,N_12_M,N_13_M,N_14_M,N_15_M],[N_11_TI,N_12_TI,N_13_TI,N_14_TI,N_15_TI],\\\n",
    "            [N_21,N_22,N_23,N_24,N_25],[N_21_T,N_22_T,N_23_T,N_24_T,N_25_T],[N_21_E,N_22_E,N_23_E,N_24_E,N_25_E],\\\n",
    "             [N_21_M,N_22_M,N_23_M,N_24_M,N_25_M],[N_21_TI,N_22_TI,N_23_TI,N_24_TI,N_25_TI],\\\n",
    "            [N_31,N_32,N_33,N_34,N_35],[N_31_T,N_32_T,N_33_T,N_34_T,N_35_T],[N_31_E,N_32_E,N_33_E,N_34_E,N_35_E],\\\n",
    "             [N_31_M,N_32_M,N_33_M,N_34_M,N_35_M],[N_31_TI,N_32_TI,N_33_TI,N_34_TI,N_35_TI],\\\n",
    "            [N_41,N_42,N_43,N_44,N_45],[N_41_T,N_42_T,N_43_T,N_44_T,N_45_T],[N_41_E,N_42_E,N_43_E,N_44_E,N_45_E],\\\n",
    "             [N_41_M,N_42_M,N_43_M,N_44_M,N_45_M],[N_41_TI,N_42_TI,N_43_TI,N_44_TI,N_45_TI],\\\n",
    "            [N_51,N_52,N_53,N_54,N_55],[N_51_T,N_52_T,N_53_T,N_54_T,N_55_T],[N_51_E,N_52_E,N_53_E,N_54_E,N_55_E],\\\n",
    "             [N_51_M,N_52_M,N_53_M,N_54_M,N_55_M],[N_51_TI,N_52_TI,N_53_TI,N_54_TI,N_55_TI]] \n",
    "\n",
    "\n"
   ]
  },
  {
   "cell_type": "code",
   "execution_count": null,
   "metadata": {
    "collapsed": true
   },
   "outputs": [],
   "source": []
  },
  {
   "cell_type": "markdown",
   "metadata": {},
   "source": [
    "### Day 2/07"
   ]
  },
  {
   "cell_type": "code",
   "execution_count": 35,
   "metadata": {
    "collapsed": true
   },
   "outputs": [],
   "source": [
    "data_book = order_book(2,'18')\n",
    "data_book_open = data_book[1028:301211+1]\n",
    "data_book_open = data_book_open.reset_index(drop = True)\n",
    "timestamp_time = day_time(2,'18')\n",
    "timestamp_time_second = time_transform(timestamp_time)"
   ]
  },
  {
   "cell_type": "code",
   "execution_count": 36,
   "metadata": {
    "collapsed": false,
    "scrolled": true
   },
   "outputs": [],
   "source": [
    "#data_book_open"
   ]
  },
  {
   "cell_type": "code",
   "execution_count": 37,
   "metadata": {
    "collapsed": false
   },
   "outputs": [
    {
     "name": "stdout",
     "output_type": "stream",
     "text": [
      "Total time = 113.567939\n"
     ]
    }
   ],
   "source": [
    "import time \n",
    "start = time.time()\n",
    "Bid1,Bid1_Quantity,Bid2,Bid2_Quantity,Bid3,Bid3_Quantity,Ask1,Ask1_Quantity,Ask2,Ask2_Quantity,Ask3,Ask3_Quantity = bid123_ask123_Q(data_book_open)\n",
    "end = time.time()  \n",
    "print \"Total time = %f\"%(end - start)"
   ]
  },
  {
   "cell_type": "code",
   "execution_count": 38,
   "metadata": {
    "collapsed": false
   },
   "outputs": [
    {
     "name": "stdout",
     "output_type": "stream",
     "text": [
      "Total time = 88.695432\n"
     ]
    }
   ],
   "source": [
    "import time \n",
    "start = time.time()\n",
    "rise_ratio_bid = rise_bid(Bid1,timestamp_time_second)\n",
    "end = time.time()  \n",
    "print \"Total time = %f\"%(end - start) "
   ]
  },
  {
   "cell_type": "code",
   "execution_count": 39,
   "metadata": {
    "collapsed": false
   },
   "outputs": [],
   "source": [
    "close_price = 6809\n",
    "weight1 = 0.50\n",
    "weight2 = 0.30\n",
    "weight3 = 0.20"
   ]
  },
  {
   "cell_type": "code",
   "execution_count": 40,
   "metadata": {
    "collapsed": true
   },
   "outputs": [],
   "source": [
    "time1 = 0\n",
    "time2 = 600\n",
    "mat28_1_15 = ask(time1,time2,Bid1,Ask1,close_price,timestamp_time_second,Bid1_Quantity,Bid2_Quantity,Bid3_Quantity,Ask1_Quantity,Ask2_Quantity,Ask3_Quantity,weight1,weight2,weight3)\n",
    "mat28_2_15 = ask(time1,time2,Bid1,Ask2,close_price,timestamp_time_second,Bid1_Quantity,Bid2_Quantity,Bid3_Quantity,Ask1_Quantity,Ask2_Quantity,Ask3_Quantity,weight1,weight2,weight3)\n",
    "mat28_3_15 = ask(time1,time2,Bid1,Ask3,close_price,timestamp_time_second,Bid1_Quantity,Bid2_Quantity,Bid3_Quantity,Ask1_Quantity,Ask2_Quantity,Ask3_Quantity,weight1,weight2,weight3)"
   ]
  },
  {
   "cell_type": "code",
   "execution_count": 41,
   "metadata": {
    "collapsed": false,
    "scrolled": true
   },
   "outputs": [],
   "source": [
    "#mat28_3_15 "
   ]
  },
  {
   "cell_type": "code",
   "execution_count": 42,
   "metadata": {
    "collapsed": false
   },
   "outputs": [],
   "source": [
    "time1 = 600\n",
    "time2 = 7200\n",
    "mat28_1_11 = ask(time1,time2,Bid1,Ask1,close_price,timestamp_time_second,Bid1_Quantity,Bid2_Quantity,Bid3_Quantity,Ask1_Quantity,Ask2_Quantity,Ask3_Quantity,weight1,weight2,weight3)\n",
    "mat28_2_11 = ask(time1,time2,Bid1,Ask2,close_price,timestamp_time_second,Bid1_Quantity,Bid2_Quantity,Bid3_Quantity,Ask1_Quantity,Ask2_Quantity,Ask3_Quantity,weight1,weight2,weight3)\n",
    "mat28_3_11 = ask(time1,time2,Bid1,Ask3,close_price,timestamp_time_second,Bid1_Quantity,Bid2_Quantity,Bid3_Quantity,Ask1_Quantity,Ask2_Quantity,Ask3_Quantity,weight1,weight2,weight3)"
   ]
  },
  {
   "cell_type": "code",
   "execution_count": 43,
   "metadata": {
    "collapsed": false,
    "scrolled": true
   },
   "outputs": [],
   "source": [
    "#mat28_3_11"
   ]
  },
  {
   "cell_type": "code",
   "execution_count": 44,
   "metadata": {
    "collapsed": true
   },
   "outputs": [],
   "source": [
    "time1 = 7200\n",
    "time2 = 14400\n",
    "mat28_1_13 = ask(time1,time2,Bid1,Ask1,close_price,timestamp_time_second,Bid1_Quantity,Bid2_Quantity,Bid3_Quantity,Ask1_Quantity,Ask2_Quantity,Ask3_Quantity,weight1,weight2,weight3)\n",
    "mat28_2_13 = ask(time1,time2,Bid1,Ask2,close_price,timestamp_time_second,Bid1_Quantity,Bid2_Quantity,Bid3_Quantity,Ask1_Quantity,Ask2_Quantity,Ask3_Quantity,weight1,weight2,weight3)\n",
    "mat28_3_13 = ask(time1,time2,Bid1,Ask3,close_price,timestamp_time_second,Bid1_Quantity,Bid2_Quantity,Bid3_Quantity,Ask1_Quantity,Ask2_Quantity,Ask3_Quantity,weight1,weight2,weight3)"
   ]
  },
  {
   "cell_type": "code",
   "execution_count": 45,
   "metadata": {
    "collapsed": true
   },
   "outputs": [],
   "source": [
    "time1 = 14400\n",
    "time2 = 25200\n",
    "mat28_1_16 = ask(time1,time2,Bid1,Ask1,close_price,timestamp_time_second,Bid1_Quantity,Bid2_Quantity,Bid3_Quantity,Ask1_Quantity,Ask2_Quantity,Ask3_Quantity,weight1,weight2,weight3)\n",
    "mat28_2_16 = ask(time1,time2,Bid1,Ask2,close_price,timestamp_time_second,Bid1_Quantity,Bid2_Quantity,Bid3_Quantity,Ask1_Quantity,Ask2_Quantity,Ask3_Quantity,weight1,weight2,weight3)\n",
    "mat28_3_16 = ask(time1,time2,Bid1,Ask3,close_price,timestamp_time_second,Bid1_Quantity,Bid2_Quantity,Bid3_Quantity,Ask1_Quantity,Ask2_Quantity,Ask3_Quantity,weight1,weight2,weight3)"
   ]
  },
  {
   "cell_type": "code",
   "execution_count": 46,
   "metadata": {
    "collapsed": false,
    "scrolled": true
   },
   "outputs": [],
   "source": [
    "#mat28_3_16"
   ]
  },
  {
   "cell_type": "code",
   "execution_count": null,
   "metadata": {
    "collapsed": true
   },
   "outputs": [],
   "source": []
  },
  {
   "cell_type": "markdown",
   "metadata": {},
   "source": [
    "### Day 2/19"
   ]
  },
  {
   "cell_type": "code",
   "execution_count": 47,
   "metadata": {
    "collapsed": true
   },
   "outputs": [],
   "source": [
    "data_book = order_book(2,19)\n",
    "data_book_open = data_book[1152:344127+1] # 9:00 ~ 16:00\n",
    "data_book_open = data_book_open.reset_index(drop = True)\n",
    "timestamp_time = day_time(2,19)\n",
    "timestamp_time_second = time_transform(timestamp_time)"
   ]
  },
  {
   "cell_type": "code",
   "execution_count": 48,
   "metadata": {
    "collapsed": false,
    "scrolled": true
   },
   "outputs": [],
   "source": [
    "#data_book_open "
   ]
  },
  {
   "cell_type": "code",
   "execution_count": 49,
   "metadata": {
    "collapsed": false
   },
   "outputs": [
    {
     "name": "stdout",
     "output_type": "stream",
     "text": [
      "Total time = 117.987819\n"
     ]
    }
   ],
   "source": [
    "import time \n",
    "start = time.time()\n",
    "Bid1,Bid1_Quantity,Bid2,Bid2_Quantity,Bid3,Bid3_Quantity,Ask1,Ask1_Quantity,Ask2,Ask2_Quantity,Ask3,Ask3_Quantity = bid123_ask123_Q(data_book_open)\n",
    "end = time.time()  \n",
    "print \"Total time = %f\"%(end - start)"
   ]
  },
  {
   "cell_type": "code",
   "execution_count": 50,
   "metadata": {
    "collapsed": false
   },
   "outputs": [
    {
     "name": "stdout",
     "output_type": "stream",
     "text": [
      "Total time = 119.904182\n"
     ]
    }
   ],
   "source": [
    "import time \n",
    "start = time.time()\n",
    "rise_ratio_bid = rise_bid(Bid1,timestamp_time_second)\n",
    "end = time.time()  \n",
    "print \"Total time = %f\"%(end - start) "
   ]
  },
  {
   "cell_type": "code",
   "execution_count": 51,
   "metadata": {
    "collapsed": true
   },
   "outputs": [],
   "source": [
    "close_price = 6941\n",
    "weight1 = 0.50\n",
    "weight2 = 0.30\n",
    "weight3 = 0.20"
   ]
  },
  {
   "cell_type": "code",
   "execution_count": 52,
   "metadata": {
    "collapsed": true
   },
   "outputs": [],
   "source": [
    "time1 = 0\n",
    "time2 = 600\n",
    "mat29_1_15 = ask(time1,time2,Bid1,Ask1,close_price,timestamp_time_second,Bid1_Quantity,Bid2_Quantity,Bid3_Quantity,Ask1_Quantity,Ask2_Quantity,Ask3_Quantity,weight1,weight2,weight3)\n",
    "mat29_2_15 = ask(time1,time2,Bid1,Ask2,close_price,timestamp_time_second,Bid1_Quantity,Bid2_Quantity,Bid3_Quantity,Ask1_Quantity,Ask2_Quantity,Ask3_Quantity,weight1,weight2,weight3)\n",
    "mat29_3_15 = ask(time1,time2,Bid1,Ask3,close_price,timestamp_time_second,Bid1_Quantity,Bid2_Quantity,Bid3_Quantity,Ask1_Quantity,Ask2_Quantity,Ask3_Quantity,weight1,weight2,weight3)"
   ]
  },
  {
   "cell_type": "code",
   "execution_count": 53,
   "metadata": {
    "collapsed": false
   },
   "outputs": [],
   "source": [
    "#mat29_3_15"
   ]
  },
  {
   "cell_type": "code",
   "execution_count": 54,
   "metadata": {
    "collapsed": true
   },
   "outputs": [],
   "source": [
    "time1 = 600\n",
    "time2 = 7200\n",
    "mat29_1_11 = ask(time1,time2,Bid1,Ask1,close_price,timestamp_time_second,Bid1_Quantity,Bid2_Quantity,Bid3_Quantity,Ask1_Quantity,Ask2_Quantity,Ask3_Quantity,weight1,weight2,weight3)\n",
    "mat29_2_11 = ask(time1,time2,Bid1,Ask2,close_price,timestamp_time_second,Bid1_Quantity,Bid2_Quantity,Bid3_Quantity,Ask1_Quantity,Ask2_Quantity,Ask3_Quantity,weight1,weight2,weight3)\n",
    "mat29_3_11 = ask(time1,time2,Bid1,Ask3,close_price,timestamp_time_second,Bid1_Quantity,Bid2_Quantity,Bid3_Quantity,Ask1_Quantity,Ask2_Quantity,Ask3_Quantity,weight1,weight2,weight3)"
   ]
  },
  {
   "cell_type": "code",
   "execution_count": 55,
   "metadata": {
    "collapsed": true
   },
   "outputs": [],
   "source": [
    "time1 = 7200\n",
    "time2 = 14400\n",
    "mat29_1_13 = ask(time1,time2,Bid1,Ask1,close_price,timestamp_time_second,Bid1_Quantity,Bid2_Quantity,Bid3_Quantity,Ask1_Quantity,Ask2_Quantity,Ask3_Quantity,weight1,weight2,weight3)\n",
    "mat29_2_13 = ask(time1,time2,Bid1,Ask2,close_price,timestamp_time_second,Bid1_Quantity,Bid2_Quantity,Bid3_Quantity,Ask1_Quantity,Ask2_Quantity,Ask3_Quantity,weight1,weight2,weight3)\n",
    "mat29_3_13 = ask(time1,time2,Bid1,Ask3,close_price,timestamp_time_second,Bid1_Quantity,Bid2_Quantity,Bid3_Quantity,Ask1_Quantity,Ask2_Quantity,Ask3_Quantity,weight1,weight2,weight3)"
   ]
  },
  {
   "cell_type": "code",
   "execution_count": 56,
   "metadata": {
    "collapsed": true
   },
   "outputs": [],
   "source": [
    "time1 = 14400\n",
    "time2 = 25200\n",
    "mat29_1_16 = ask(time1,time2,Bid1,Ask1,close_price,timestamp_time_second,Bid1_Quantity,Bid2_Quantity,Bid3_Quantity,Ask1_Quantity,Ask2_Quantity,Ask3_Quantity,weight1,weight2,weight3)\n",
    "mat29_2_16 = ask(time1,time2,Bid1,Ask2,close_price,timestamp_time_second,Bid1_Quantity,Bid2_Quantity,Bid3_Quantity,Ask1_Quantity,Ask2_Quantity,Ask3_Quantity,weight1,weight2,weight3)\n",
    "mat29_3_16 = ask(time1,time2,Bid1,Ask3,close_price,timestamp_time_second,Bid1_Quantity,Bid2_Quantity,Bid3_Quantity,Ask1_Quantity,Ask2_Quantity,Ask3_Quantity,weight1,weight2,weight3)"
   ]
  },
  {
   "cell_type": "code",
   "execution_count": 57,
   "metadata": {
    "collapsed": false,
    "scrolled": true
   },
   "outputs": [],
   "source": [
    "#mat29_2_13"
   ]
  },
  {
   "cell_type": "markdown",
   "metadata": {},
   "source": [
    "### Day 2/24"
   ]
  },
  {
   "cell_type": "code",
   "execution_count": 58,
   "metadata": {
    "collapsed": true
   },
   "outputs": [],
   "source": [
    "data_book = order_book(2,'24')\n",
    "data_book_open = data_book[660:438423+1] # 9:00 ~ 16:00\n",
    "data_book_open = data_book_open.reset_index(drop = True)\n",
    "timestamp_time = day_time(2,'24')\n",
    "timestamp_time_second = time_transform(timestamp_time)"
   ]
  },
  {
   "cell_type": "code",
   "execution_count": 59,
   "metadata": {
    "collapsed": false,
    "scrolled": true
   },
   "outputs": [],
   "source": [
    "#data_book_open"
   ]
  },
  {
   "cell_type": "code",
   "execution_count": 60,
   "metadata": {
    "collapsed": false
   },
   "outputs": [
    {
     "name": "stdout",
     "output_type": "stream",
     "text": [
      "Total time = 149.386833\n"
     ]
    }
   ],
   "source": [
    "import time \n",
    "start = time.time()\n",
    "Bid1,Bid1_Quantity,Bid2,Bid2_Quantity,Bid3,Bid3_Quantity,Ask1,Ask1_Quantity,Ask2,Ask2_Quantity,Ask3,Ask3_Quantity = bid123_ask123_Q(data_book_open)\n",
    "end = time.time()  \n",
    "print \"Total time = %f\"%(end - start)"
   ]
  },
  {
   "cell_type": "code",
   "execution_count": 61,
   "metadata": {
    "collapsed": false
   },
   "outputs": [
    {
     "name": "stdout",
     "output_type": "stream",
     "text": [
      "Total time = 234.051818\n"
     ]
    }
   ],
   "source": [
    "import time \n",
    "start = time.time()\n",
    "rise_ratio_bid = rise_bid(Bid1,timestamp_time_second)\n",
    "end = time.time()  \n",
    "print \"Total time = %f\"%(end - start) "
   ]
  },
  {
   "cell_type": "code",
   "execution_count": 62,
   "metadata": {
    "collapsed": true
   },
   "outputs": [],
   "source": [
    "close_price = 6625\n",
    "weight1 = 0.50\n",
    "weight2 = 0.30\n",
    "weight3 = 0.20"
   ]
  },
  {
   "cell_type": "code",
   "execution_count": 63,
   "metadata": {
    "collapsed": true
   },
   "outputs": [],
   "source": [
    "time1 = 0\n",
    "time2 = 600\n",
    "mat27_1_15 = ask(time1,time2,Bid1,Ask1,close_price,timestamp_time_second,Bid1_Quantity,Bid2_Quantity,Bid3_Quantity,Ask1_Quantity,Ask2_Quantity,Ask3_Quantity,weight1,weight2,weight3)\n",
    "mat27_2_15 = ask(time1,time2,Bid1,Ask2,close_price,timestamp_time_second,Bid1_Quantity,Bid2_Quantity,Bid3_Quantity,Ask1_Quantity,Ask2_Quantity,Ask3_Quantity,weight1,weight2,weight3)\n",
    "mat27_3_15 = ask(time1,time2,Bid1,Ask3,close_price,timestamp_time_second,Bid1_Quantity,Bid2_Quantity,Bid3_Quantity,Ask1_Quantity,Ask2_Quantity,Ask3_Quantity,weight1,weight2,weight3)"
   ]
  },
  {
   "cell_type": "code",
   "execution_count": 64,
   "metadata": {
    "collapsed": true
   },
   "outputs": [],
   "source": [
    "time1 = 600\n",
    "time2 = 7200\n",
    "mat27_1_11 = ask(time1,time2,Bid1,Ask1,close_price,timestamp_time_second,Bid1_Quantity,Bid2_Quantity,Bid3_Quantity,Ask1_Quantity,Ask2_Quantity,Ask3_Quantity,weight1,weight2,weight3)\n",
    "mat27_2_11 = ask(time1,time2,Bid1,Ask2,close_price,timestamp_time_second,Bid1_Quantity,Bid2_Quantity,Bid3_Quantity,Ask1_Quantity,Ask2_Quantity,Ask3_Quantity,weight1,weight2,weight3)\n",
    "mat27_3_11 = ask(time1,time2,Bid1,Ask3,close_price,timestamp_time_second,Bid1_Quantity,Bid2_Quantity,Bid3_Quantity,Ask1_Quantity,Ask2_Quantity,Ask3_Quantity,weight1,weight2,weight3)"
   ]
  },
  {
   "cell_type": "code",
   "execution_count": 65,
   "metadata": {
    "collapsed": true
   },
   "outputs": [],
   "source": [
    "time1 = 7200\n",
    "time2 = 14400\n",
    "mat27_1_13 = ask(time1,time2,Bid1,Ask1,close_price,timestamp_time_second,Bid1_Quantity,Bid2_Quantity,Bid3_Quantity,Ask1_Quantity,Ask2_Quantity,Ask3_Quantity,weight1,weight2,weight3)\n",
    "mat27_2_13 = ask(time1,time2,Bid1,Ask2,close_price,timestamp_time_second,Bid1_Quantity,Bid2_Quantity,Bid3_Quantity,Ask1_Quantity,Ask2_Quantity,Ask3_Quantity,weight1,weight2,weight3)\n",
    "mat27_3_13 = ask(time1,time2,Bid1,Ask3,close_price,timestamp_time_second,Bid1_Quantity,Bid2_Quantity,Bid3_Quantity,Ask1_Quantity,Ask2_Quantity,Ask3_Quantity,weight1,weight2,weight3)"
   ]
  },
  {
   "cell_type": "code",
   "execution_count": 66,
   "metadata": {
    "collapsed": false
   },
   "outputs": [],
   "source": [
    "time1 = 14400\n",
    "time2 = 25200\n",
    "mat27_1_16 = ask(time1,time2,Bid1,Ask1,close_price,timestamp_time_second,Bid1_Quantity,Bid2_Quantity,Bid3_Quantity,Ask1_Quantity,Ask2_Quantity,Ask3_Quantity,weight1,weight2,weight3)\n",
    "mat27_2_16 = ask(time1,time2,Bid1,Ask2,close_price,timestamp_time_second,Bid1_Quantity,Bid2_Quantity,Bid3_Quantity,Ask1_Quantity,Ask2_Quantity,Ask3_Quantity,weight1,weight2,weight3)\n",
    "mat27_3_16 = ask(time1,time2,Bid1,Ask3,close_price,timestamp_time_second,Bid1_Quantity,Bid2_Quantity,Bid3_Quantity,Ask1_Quantity,Ask2_Quantity,Ask3_Quantity,weight1,weight2,weight3)"
   ]
  },
  {
   "cell_type": "code",
   "execution_count": 67,
   "metadata": {
    "collapsed": false,
    "scrolled": false
   },
   "outputs": [],
   "source": [
    "#mat27_2_16"
   ]
  },
  {
   "cell_type": "markdown",
   "metadata": {},
   "source": [
    "### Day 2/25"
   ]
  },
  {
   "cell_type": "code",
   "execution_count": 68,
   "metadata": {
    "collapsed": true
   },
   "outputs": [],
   "source": [
    "data_book = order_book(2,25)\n",
    "data_book_open = data_book[1028:380387+1] # 9:00 ~ 16:00\n",
    "data_book_open = data_book_open.reset_index(drop = True)\n",
    "timestamp_time = day_time(2,25)\n",
    "timestamp_time_second = time_transform(timestamp_time)"
   ]
  },
  {
   "cell_type": "code",
   "execution_count": 69,
   "metadata": {
    "collapsed": false,
    "scrolled": true
   },
   "outputs": [],
   "source": [
    "#data_book_open"
   ]
  },
  {
   "cell_type": "code",
   "execution_count": 70,
   "metadata": {
    "collapsed": false
   },
   "outputs": [
    {
     "name": "stdout",
     "output_type": "stream",
     "text": [
      "Total time = 130.017340\n"
     ]
    }
   ],
   "source": [
    "import time \n",
    "start = time.time()\n",
    "Bid1,Bid1_Quantity,Bid2,Bid2_Quantity,Bid3,Bid3_Quantity,Ask1,Ask1_Quantity,Ask2,Ask2_Quantity,Ask3,Ask3_Quantity = bid123_ask123_Q(data_book_open)\n",
    "end = time.time()  \n",
    "print \"Total time = %f\"%(end - start)"
   ]
  },
  {
   "cell_type": "code",
   "execution_count": 71,
   "metadata": {
    "collapsed": false
   },
   "outputs": [
    {
     "name": "stdout",
     "output_type": "stream",
     "text": [
      "Total time = 324.544566\n"
     ]
    }
   ],
   "source": [
    "import time \n",
    "start = time.time()\n",
    "rise_ratio_bid = rise_bid(Bid1,timestamp_time_second)\n",
    "end = time.time()  \n",
    "print \"Total time = %f\"%(end - start) "
   ]
  },
  {
   "cell_type": "code",
   "execution_count": 72,
   "metadata": {
    "collapsed": true
   },
   "outputs": [],
   "source": [
    "close_price = 6497\n",
    "weight1 = 0.50\n",
    "weight2 = 0.30\n",
    "weight3 = 0.20"
   ]
  },
  {
   "cell_type": "code",
   "execution_count": 73,
   "metadata": {
    "collapsed": true
   },
   "outputs": [],
   "source": [
    "time1 = 0\n",
    "time2 = 600\n",
    "mat24_1_15 = ask(time1,time2,Bid1,Ask1,close_price,timestamp_time_second,Bid1_Quantity,Bid2_Quantity,Bid3_Quantity,Ask1_Quantity,Ask2_Quantity,Ask3_Quantity,weight1,weight2,weight3)\n",
    "mat24_2_15 = ask(time1,time2,Bid1,Ask2,close_price,timestamp_time_second,Bid1_Quantity,Bid2_Quantity,Bid3_Quantity,Ask1_Quantity,Ask2_Quantity,Ask3_Quantity,weight1,weight2,weight3)\n",
    "mat24_3_15 = ask(time1,time2,Bid1,Ask3,close_price,timestamp_time_second,Bid1_Quantity,Bid2_Quantity,Bid3_Quantity,Ask1_Quantity,Ask2_Quantity,Ask3_Quantity,weight1,weight2,weight3)"
   ]
  },
  {
   "cell_type": "code",
   "execution_count": 74,
   "metadata": {
    "collapsed": true
   },
   "outputs": [],
   "source": [
    "time1 = 600\n",
    "time2 = 7200\n",
    "mat24_1_11 = ask(time1,time2,Bid1,Ask1,close_price,timestamp_time_second,Bid1_Quantity,Bid2_Quantity,Bid3_Quantity,Ask1_Quantity,Ask2_Quantity,Ask3_Quantity,weight1,weight2,weight3)\n",
    "mat24_2_11 = ask(time1,time2,Bid1,Ask2,close_price,timestamp_time_second,Bid1_Quantity,Bid2_Quantity,Bid3_Quantity,Ask1_Quantity,Ask2_Quantity,Ask3_Quantity,weight1,weight2,weight3)\n",
    "mat24_3_11 = ask(time1,time2,Bid1,Ask3,close_price,timestamp_time_second,Bid1_Quantity,Bid2_Quantity,Bid3_Quantity,Ask1_Quantity,Ask2_Quantity,Ask3_Quantity,weight1,weight2,weight3)"
   ]
  },
  {
   "cell_type": "code",
   "execution_count": 75,
   "metadata": {
    "collapsed": true
   },
   "outputs": [],
   "source": [
    "time1 = 7200\n",
    "time2 = 14400\n",
    "mat24_1_13 = ask(time1,time2,Bid1,Ask1,close_price,timestamp_time_second,Bid1_Quantity,Bid2_Quantity,Bid3_Quantity,Ask1_Quantity,Ask2_Quantity,Ask3_Quantity,weight1,weight2,weight3)\n",
    "mat24_2_13 = ask(time1,time2,Bid1,Ask2,close_price,timestamp_time_second,Bid1_Quantity,Bid2_Quantity,Bid3_Quantity,Ask1_Quantity,Ask2_Quantity,Ask3_Quantity,weight1,weight2,weight3)\n",
    "mat24_3_13 = ask(time1,time2,Bid1,Ask3,close_price,timestamp_time_second,Bid1_Quantity,Bid2_Quantity,Bid3_Quantity,Ask1_Quantity,Ask2_Quantity,Ask3_Quantity,weight1,weight2,weight3)"
   ]
  },
  {
   "cell_type": "code",
   "execution_count": 76,
   "metadata": {
    "collapsed": true
   },
   "outputs": [],
   "source": [
    "time1 = 14400\n",
    "time2 = 25200\n",
    "mat24_1_16 = ask(time1,time2,Bid1,Ask1,close_price,timestamp_time_second,Bid1_Quantity,Bid2_Quantity,Bid3_Quantity,Ask1_Quantity,Ask2_Quantity,Ask3_Quantity,weight1,weight2,weight3)\n",
    "mat24_2_16 = ask(time1,time2,Bid1,Ask2,close_price,timestamp_time_second,Bid1_Quantity,Bid2_Quantity,Bid3_Quantity,Ask1_Quantity,Ask2_Quantity,Ask3_Quantity,weight1,weight2,weight3)\n",
    "mat24_3_16 = ask(time1,time2,Bid1,Ask3,close_price,timestamp_time_second,Bid1_Quantity,Bid2_Quantity,Bid3_Quantity,Ask1_Quantity,Ask2_Quantity,Ask3_Quantity,weight1,weight2,weight3)"
   ]
  },
  {
   "cell_type": "code",
   "execution_count": null,
   "metadata": {
    "collapsed": false
   },
   "outputs": [],
   "source": []
  },
  {
   "cell_type": "markdown",
   "metadata": {},
   "source": [
    "### Day 2/26"
   ]
  },
  {
   "cell_type": "code",
   "execution_count": 77,
   "metadata": {
    "collapsed": true
   },
   "outputs": [],
   "source": [
    "data_book = order_book(2,26)\n",
    "data_book_open = data_book[892:312443+1] # 9:00 ~ 16:00\n",
    "data_book_open = data_book_open.reset_index(drop = True)\n",
    "timestamp_time = day_time(2,26)\n",
    "timestamp_time_second = time_transform(timestamp_time)"
   ]
  },
  {
   "cell_type": "code",
   "execution_count": 78,
   "metadata": {
    "collapsed": false,
    "scrolled": true
   },
   "outputs": [],
   "source": [
    "#data_book_open"
   ]
  },
  {
   "cell_type": "code",
   "execution_count": 79,
   "metadata": {
    "collapsed": false
   },
   "outputs": [
    {
     "name": "stdout",
     "output_type": "stream",
     "text": [
      "Total time = 105.906990\n"
     ]
    }
   ],
   "source": [
    "import time \n",
    "start = time.time()\n",
    "Bid1,Bid1_Quantity,Bid2,Bid2_Quantity,Bid3,Bid3_Quantity,Ask1,Ask1_Quantity,Ask2,Ask2_Quantity,Ask3,Ask3_Quantity = bid123_ask123_Q(data_book_open)\n",
    "end = time.time()  \n",
    "print \"Total time = %f\"%(end - start)"
   ]
  },
  {
   "cell_type": "code",
   "execution_count": 80,
   "metadata": {
    "collapsed": false
   },
   "outputs": [
    {
     "name": "stdout",
     "output_type": "stream",
     "text": [
      "Total time = 211.285702\n"
     ]
    }
   ],
   "source": [
    "import time \n",
    "start = time.time()\n",
    "rise_ratio_bid = rise_bid(Bid1,timestamp_time_second)\n",
    "end = time.time()  \n",
    "print \"Total time = %f\"%(end - start) "
   ]
  },
  {
   "cell_type": "code",
   "execution_count": 81,
   "metadata": {
    "collapsed": true
   },
   "outputs": [],
   "source": [
    "close_price = 6503\n",
    "weight1 = 0.50\n",
    "weight2 = 0.30\n",
    "weight3 = 0.20"
   ]
  },
  {
   "cell_type": "code",
   "execution_count": 82,
   "metadata": {
    "collapsed": true
   },
   "outputs": [],
   "source": [
    "time1 = 0\n",
    "time2 = 600\n",
    "mat22_1_15 = ask(time1,time2,Bid1,Ask1,close_price,timestamp_time_second,Bid1_Quantity,Bid2_Quantity,Bid3_Quantity,Ask1_Quantity,Ask2_Quantity,Ask3_Quantity,weight1,weight2,weight3)\n",
    "mat22_2_15 = ask(time1,time2,Bid1,Ask2,close_price,timestamp_time_second,Bid1_Quantity,Bid2_Quantity,Bid3_Quantity,Ask1_Quantity,Ask2_Quantity,Ask3_Quantity,weight1,weight2,weight3)\n",
    "mat22_3_15 = ask(time1,time2,Bid1,Ask3,close_price,timestamp_time_second,Bid1_Quantity,Bid2_Quantity,Bid3_Quantity,Ask1_Quantity,Ask2_Quantity,Ask3_Quantity,weight1,weight2,weight3)"
   ]
  },
  {
   "cell_type": "code",
   "execution_count": 83,
   "metadata": {
    "collapsed": true
   },
   "outputs": [],
   "source": [
    "time1 = 600\n",
    "time2 = 7200\n",
    "mat22_1_11 = ask(time1,time2,Bid1,Ask1,close_price,timestamp_time_second,Bid1_Quantity,Bid2_Quantity,Bid3_Quantity,Ask1_Quantity,Ask2_Quantity,Ask3_Quantity,weight1,weight2,weight3)\n",
    "mat22_2_11 = ask(time1,time2,Bid1,Ask2,close_price,timestamp_time_second,Bid1_Quantity,Bid2_Quantity,Bid3_Quantity,Ask1_Quantity,Ask2_Quantity,Ask3_Quantity,weight1,weight2,weight3)\n",
    "mat22_3_11 = ask(time1,time2,Bid1,Ask3,close_price,timestamp_time_second,Bid1_Quantity,Bid2_Quantity,Bid3_Quantity,Ask1_Quantity,Ask2_Quantity,Ask3_Quantity,weight1,weight2,weight3)"
   ]
  },
  {
   "cell_type": "code",
   "execution_count": 84,
   "metadata": {
    "collapsed": true
   },
   "outputs": [],
   "source": [
    "time1 = 7200\n",
    "time2 = 14400\n",
    "mat22_1_13 = ask(time1,time2,Bid1,Ask1,close_price,timestamp_time_second,Bid1_Quantity,Bid2_Quantity,Bid3_Quantity,Ask1_Quantity,Ask2_Quantity,Ask3_Quantity,weight1,weight2,weight3)\n",
    "mat22_2_13 = ask(time1,time2,Bid1,Ask2,close_price,timestamp_time_second,Bid1_Quantity,Bid2_Quantity,Bid3_Quantity,Ask1_Quantity,Ask2_Quantity,Ask3_Quantity,weight1,weight2,weight3)\n",
    "mat22_3_13 = ask(time1,time2,Bid1,Ask3,close_price,timestamp_time_second,Bid1_Quantity,Bid2_Quantity,Bid3_Quantity,Ask1_Quantity,Ask2_Quantity,Ask3_Quantity,weight1,weight2,weight3)"
   ]
  },
  {
   "cell_type": "code",
   "execution_count": 85,
   "metadata": {
    "collapsed": true
   },
   "outputs": [],
   "source": [
    "time1 = 14400\n",
    "time2 = 25200\n",
    "mat22_1_16 = ask(time1,time2,Bid1,Ask1,close_price,timestamp_time_second,Bid1_Quantity,Bid2_Quantity,Bid3_Quantity,Ask1_Quantity,Ask2_Quantity,Ask3_Quantity,weight1,weight2,weight3)\n",
    "mat22_2_16 = ask(time1,time2,Bid1,Ask2,close_price,timestamp_time_second,Bid1_Quantity,Bid2_Quantity,Bid3_Quantity,Ask1_Quantity,Ask2_Quantity,Ask3_Quantity,weight1,weight2,weight3)\n",
    "mat22_3_16 = ask(time1,time2,Bid1,Ask3,close_price,timestamp_time_second,Bid1_Quantity,Bid2_Quantity,Bid3_Quantity,Ask1_Quantity,Ask2_Quantity,Ask3_Quantity,weight1,weight2,weight3)"
   ]
  },
  {
   "cell_type": "code",
   "execution_count": null,
   "metadata": {
    "collapsed": true
   },
   "outputs": [],
   "source": []
  },
  {
   "cell_type": "code",
   "execution_count": 86,
   "metadata": {
    "collapsed": false,
    "scrolled": false
   },
   "outputs": [],
   "source": [
    "#mat22_3_15"
   ]
  },
  {
   "cell_type": "markdown",
   "metadata": {},
   "source": [
    "### Day 2/27"
   ]
  },
  {
   "cell_type": "code",
   "execution_count": 87,
   "metadata": {
    "collapsed": true
   },
   "outputs": [],
   "source": [
    "data_book = order_book(2,27)\n",
    "data_book_open = data_book[444:212171+1] # 9:00 ~ 16:00\n",
    "data_book_open = data_book_open.reset_index(drop = True)\n",
    "timestamp_time = day_time(2,27)\n",
    "timestamp_time_second = time_transform(timestamp_time)"
   ]
  },
  {
   "cell_type": "code",
   "execution_count": 88,
   "metadata": {
    "collapsed": false,
    "scrolled": true
   },
   "outputs": [],
   "source": [
    "#data_book_open"
   ]
  },
  {
   "cell_type": "code",
   "execution_count": 89,
   "metadata": {
    "collapsed": false
   },
   "outputs": [
    {
     "name": "stdout",
     "output_type": "stream",
     "text": [
      "Total time = 72.087187\n"
     ]
    }
   ],
   "source": [
    "import time \n",
    "start = time.time()\n",
    "Bid1,Bid1_Quantity,Bid2,Bid2_Quantity,Bid3,Bid3_Quantity,Ask1,Ask1_Quantity,Ask2,Ask2_Quantity,Ask3,Ask3_Quantity = bid123_ask123_Q(data_book_open)\n",
    "end = time.time()  \n",
    "print \"Total time = %f\"%(end - start)"
   ]
  },
  {
   "cell_type": "code",
   "execution_count": 90,
   "metadata": {
    "collapsed": false
   },
   "outputs": [
    {
     "name": "stdout",
     "output_type": "stream",
     "text": [
      "Total time = 120.179301\n"
     ]
    }
   ],
   "source": [
    "import time \n",
    "start = time.time()\n",
    "rise_ratio_bid = rise_bid(Bid1,timestamp_time_second)\n",
    "end = time.time()  \n",
    "print \"Total time = %f\"%(end - start) "
   ]
  },
  {
   "cell_type": "code",
   "execution_count": 91,
   "metadata": {
    "collapsed": true
   },
   "outputs": [],
   "source": [
    "close_price = 6535\n",
    "weight1 = 0.50\n",
    "weight2 = 0.30\n",
    "weight3 = 0.20"
   ]
  },
  {
   "cell_type": "code",
   "execution_count": 92,
   "metadata": {
    "collapsed": true
   },
   "outputs": [],
   "source": [
    "time1 = 0\n",
    "time2 = 600\n",
    "mat21_1_15 = ask(time1,time2,Bid1,Ask1,close_price,timestamp_time_second,Bid1_Quantity,Bid2_Quantity,Bid3_Quantity,Ask1_Quantity,Ask2_Quantity,Ask3_Quantity,weight1,weight2,weight3)\n",
    "mat21_2_15 = ask(time1,time2,Bid1,Ask2,close_price,timestamp_time_second,Bid1_Quantity,Bid2_Quantity,Bid3_Quantity,Ask1_Quantity,Ask2_Quantity,Ask3_Quantity,weight1,weight2,weight3)\n",
    "mat21_3_15 = ask(time1,time2,Bid1,Ask3,close_price,timestamp_time_second,Bid1_Quantity,Bid2_Quantity,Bid3_Quantity,Ask1_Quantity,Ask2_Quantity,Ask3_Quantity,weight1,weight2,weight3)"
   ]
  },
  {
   "cell_type": "code",
   "execution_count": 93,
   "metadata": {
    "collapsed": true
   },
   "outputs": [],
   "source": [
    "time1 = 600\n",
    "time2 = 7200\n",
    "mat21_1_11 = ask(time1,time2,Bid1,Ask1,close_price,timestamp_time_second,Bid1_Quantity,Bid2_Quantity,Bid3_Quantity,Ask1_Quantity,Ask2_Quantity,Ask3_Quantity,weight1,weight2,weight3)\n",
    "mat21_2_11 = ask(time1,time2,Bid1,Ask2,close_price,timestamp_time_second,Bid1_Quantity,Bid2_Quantity,Bid3_Quantity,Ask1_Quantity,Ask2_Quantity,Ask3_Quantity,weight1,weight2,weight3)\n",
    "mat21_3_11 = ask(time1,time2,Bid1,Ask3,close_price,timestamp_time_second,Bid1_Quantity,Bid2_Quantity,Bid3_Quantity,Ask1_Quantity,Ask2_Quantity,Ask3_Quantity,weight1,weight2,weight3)"
   ]
  },
  {
   "cell_type": "code",
   "execution_count": 94,
   "metadata": {
    "collapsed": true
   },
   "outputs": [],
   "source": [
    "time1 = 7200\n",
    "time2 = 14400\n",
    "mat21_1_13 = ask(time1,time2,Bid1,Ask1,close_price,timestamp_time_second,Bid1_Quantity,Bid2_Quantity,Bid3_Quantity,Ask1_Quantity,Ask2_Quantity,Ask3_Quantity,weight1,weight2,weight3)\n",
    "mat21_2_13 = ask(time1,time2,Bid1,Ask2,close_price,timestamp_time_second,Bid1_Quantity,Bid2_Quantity,Bid3_Quantity,Ask1_Quantity,Ask2_Quantity,Ask3_Quantity,weight1,weight2,weight3)\n",
    "mat21_3_13 = ask(time1,time2,Bid1,Ask3,close_price,timestamp_time_second,Bid1_Quantity,Bid2_Quantity,Bid3_Quantity,Ask1_Quantity,Ask2_Quantity,Ask3_Quantity,weight1,weight2,weight3)"
   ]
  },
  {
   "cell_type": "code",
   "execution_count": 95,
   "metadata": {
    "collapsed": true
   },
   "outputs": [],
   "source": [
    "time1 = 14400\n",
    "time2 = 25200\n",
    "mat21_1_16 = ask(time1,time2,Bid1,Ask1,close_price,timestamp_time_second,Bid1_Quantity,Bid2_Quantity,Bid3_Quantity,Ask1_Quantity,Ask2_Quantity,Ask3_Quantity,weight1,weight2,weight3)\n",
    "mat21_2_16 = ask(time1,time2,Bid1,Ask2,close_price,timestamp_time_second,Bid1_Quantity,Bid2_Quantity,Bid3_Quantity,Ask1_Quantity,Ask2_Quantity,Ask3_Quantity,weight1,weight2,weight3)\n",
    "mat21_3_16 = ask(time1,time2,Bid1,Ask3,close_price,timestamp_time_second,Bid1_Quantity,Bid2_Quantity,Bid3_Quantity,Ask1_Quantity,Ask2_Quantity,Ask3_Quantity,weight1,weight2,weight3)"
   ]
  },
  {
   "cell_type": "code",
   "execution_count": null,
   "metadata": {
    "collapsed": true
   },
   "outputs": [],
   "source": []
  },
  {
   "cell_type": "markdown",
   "metadata": {},
   "source": [
    "### Day 2/17"
   ]
  },
  {
   "cell_type": "code",
   "execution_count": 96,
   "metadata": {
    "collapsed": true
   },
   "outputs": [],
   "source": [
    "data_book = order_book(2,17)\n",
    "data_book_open = data_book[668:299679+1] # 9:00 ~ 16:00\n",
    "data_book_open = data_book_open.reset_index(drop = True)\n",
    "timestamp_time = day_time(2,17)\n",
    "timestamp_time_second = time_transform(timestamp_time)"
   ]
  },
  {
   "cell_type": "code",
   "execution_count": 97,
   "metadata": {
    "collapsed": false,
    "scrolled": true
   },
   "outputs": [],
   "source": [
    "#data_book_open"
   ]
  },
  {
   "cell_type": "code",
   "execution_count": 98,
   "metadata": {
    "collapsed": false
   },
   "outputs": [
    {
     "name": "stdout",
     "output_type": "stream",
     "text": [
      "Total time = 102.166364\n"
     ]
    }
   ],
   "source": [
    "import time \n",
    "start = time.time()\n",
    "Bid1,Bid1_Quantity,Bid2,Bid2_Quantity,Bid3,Bid3_Quantity,Ask1,Ask1_Quantity,Ask2,Ask2_Quantity,Ask3,Ask3_Quantity = bid123_ask123_Q(data_book_open)\n",
    "end = time.time()  \n",
    "print \"Total time = %f\"%(end - start)"
   ]
  },
  {
   "cell_type": "code",
   "execution_count": 99,
   "metadata": {
    "collapsed": false
   },
   "outputs": [
    {
     "name": "stdout",
     "output_type": "stream",
     "text": [
      "Total time = 261.611485\n"
     ]
    }
   ],
   "source": [
    "import time \n",
    "start = time.time()\n",
    "rise_ratio_bid = rise_bid(Bid1,timestamp_time_second)\n",
    "end = time.time()  \n",
    "print \"Total time = %f\"%(end - start) "
   ]
  },
  {
   "cell_type": "code",
   "execution_count": 100,
   "metadata": {
    "collapsed": true
   },
   "outputs": [],
   "source": [
    "close_price = 6936\n",
    "weight1 = 0.50\n",
    "weight2 = 0.30\n",
    "weight3 = 0.20"
   ]
  },
  {
   "cell_type": "code",
   "execution_count": 101,
   "metadata": {
    "collapsed": true
   },
   "outputs": [],
   "source": [
    "time1 = 0\n",
    "time2 = 600\n",
    "mat20_1_15 = ask(time1,time2,Bid1,Ask1,close_price,timestamp_time_second,Bid1_Quantity,Bid2_Quantity,Bid3_Quantity,Ask1_Quantity,Ask2_Quantity,Ask3_Quantity,weight1,weight2,weight3)\n",
    "mat20_2_15 = ask(time1,time2,Bid1,Ask2,close_price,timestamp_time_second,Bid1_Quantity,Bid2_Quantity,Bid3_Quantity,Ask1_Quantity,Ask2_Quantity,Ask3_Quantity,weight1,weight2,weight3)\n",
    "mat20_3_15 = ask(time1,time2,Bid1,Ask3,close_price,timestamp_time_second,Bid1_Quantity,Bid2_Quantity,Bid3_Quantity,Ask1_Quantity,Ask2_Quantity,Ask3_Quantity,weight1,weight2,weight3)"
   ]
  },
  {
   "cell_type": "code",
   "execution_count": 102,
   "metadata": {
    "collapsed": true
   },
   "outputs": [],
   "source": [
    "time1 = 600\n",
    "time2 = 7200\n",
    "mat20_1_11 = ask(time1,time2,Bid1,Ask1,close_price,timestamp_time_second,Bid1_Quantity,Bid2_Quantity,Bid3_Quantity,Ask1_Quantity,Ask2_Quantity,Ask3_Quantity,weight1,weight2,weight3)\n",
    "mat20_2_11 = ask(time1,time2,Bid1,Ask2,close_price,timestamp_time_second,Bid1_Quantity,Bid2_Quantity,Bid3_Quantity,Ask1_Quantity,Ask2_Quantity,Ask3_Quantity,weight1,weight2,weight3)\n",
    "mat20_3_11 = ask(time1,time2,Bid1,Ask3,close_price,timestamp_time_second,Bid1_Quantity,Bid2_Quantity,Bid3_Quantity,Ask1_Quantity,Ask2_Quantity,Ask3_Quantity,weight1,weight2,weight3)"
   ]
  },
  {
   "cell_type": "code",
   "execution_count": 103,
   "metadata": {
    "collapsed": true
   },
   "outputs": [],
   "source": [
    "time1 = 7200\n",
    "time2 = 14400\n",
    "mat20_1_13 = ask(time1,time2,Bid1,Ask1,close_price,timestamp_time_second,Bid1_Quantity,Bid2_Quantity,Bid3_Quantity,Ask1_Quantity,Ask2_Quantity,Ask3_Quantity,weight1,weight2,weight3)\n",
    "mat20_2_13 = ask(time1,time2,Bid1,Ask2,close_price,timestamp_time_second,Bid1_Quantity,Bid2_Quantity,Bid3_Quantity,Ask1_Quantity,Ask2_Quantity,Ask3_Quantity,weight1,weight2,weight3)\n",
    "mat20_3_13 = ask(time1,time2,Bid1,Ask3,close_price,timestamp_time_second,Bid1_Quantity,Bid2_Quantity,Bid3_Quantity,Ask1_Quantity,Ask2_Quantity,Ask3_Quantity,weight1,weight2,weight3)"
   ]
  },
  {
   "cell_type": "code",
   "execution_count": 104,
   "metadata": {
    "collapsed": true
   },
   "outputs": [],
   "source": [
    "time1 = 14400\n",
    "time2 = 25200\n",
    "mat20_1_16 = ask(time1,time2,Bid1,Ask1,close_price,timestamp_time_second,Bid1_Quantity,Bid2_Quantity,Bid3_Quantity,Ask1_Quantity,Ask2_Quantity,Ask3_Quantity,weight1,weight2,weight3)\n",
    "mat20_2_16 = ask(time1,time2,Bid1,Ask2,close_price,timestamp_time_second,Bid1_Quantity,Bid2_Quantity,Bid3_Quantity,Ask1_Quantity,Ask2_Quantity,Ask3_Quantity,weight1,weight2,weight3)\n",
    "mat20_3_16 = ask(time1,time2,Bid1,Ask3,close_price,timestamp_time_second,Bid1_Quantity,Bid2_Quantity,Bid3_Quantity,Ask1_Quantity,Ask2_Quantity,Ask3_Quantity,weight1,weight2,weight3)"
   ]
  },
  {
   "cell_type": "code",
   "execution_count": null,
   "metadata": {
    "collapsed": true
   },
   "outputs": [],
   "source": []
  },
  {
   "cell_type": "code",
   "execution_count": 105,
   "metadata": {
    "collapsed": false,
    "scrolled": true
   },
   "outputs": [],
   "source": [
    "#mat20_2_15"
   ]
  },
  {
   "cell_type": "code",
   "execution_count": null,
   "metadata": {
    "collapsed": true
   },
   "outputs": [],
   "source": []
  },
  {
   "cell_type": "code",
   "execution_count": null,
   "metadata": {
    "collapsed": true
   },
   "outputs": [],
   "source": []
  },
  {
   "cell_type": "code",
   "execution_count": null,
   "metadata": {
    "collapsed": true
   },
   "outputs": [],
   "source": []
  },
  {
   "cell_type": "code",
   "execution_count": 106,
   "metadata": {
    "collapsed": true
   },
   "outputs": [],
   "source": [
    "SUM_Ask1_15 = \\\n",
    "array(mat20_1_15)+array(mat21_1_15)+array(mat22_1_15)+\\\n",
    "array(mat24_1_15)+array(mat27_1_15)+array(mat28_1_15)+array(mat29_1_15)\n",
    "SUM_Ask2_15 = \\\n",
    "array(mat20_2_15)+array(mat21_2_15)+array(mat22_2_15)+\\\n",
    "array(mat24_2_15)+array(mat27_2_15)+array(mat28_2_15)+array(mat29_2_15)\n",
    "SUM_Ask3_15 = \\\n",
    "array(mat20_3_15)+array(mat21_3_15)+array(mat22_3_15)+\\\n",
    "array(mat24_3_15)+array(mat27_3_15)+array(mat28_3_15)+array(mat29_3_15)"
   ]
  },
  {
   "cell_type": "code",
   "execution_count": 107,
   "metadata": {
    "collapsed": false
   },
   "outputs": [],
   "source": [
    "#SUM_Bid3_15"
   ]
  },
  {
   "cell_type": "code",
   "execution_count": 108,
   "metadata": {
    "collapsed": true
   },
   "outputs": [],
   "source": [
    "SUM_Ask1_11 = \\\n",
    "array(mat20_1_11)+array(mat21_1_11)+array(mat22_1_11)+\\\n",
    "array(mat24_1_11)+array(mat27_1_11)+array(mat28_1_11)+array(mat29_1_11)\n",
    "SUM_Ask2_11 = \\\n",
    "array(mat20_2_11)+array(mat21_2_11)+array(mat22_2_11)+\\\n",
    "array(mat24_2_11)+array(mat27_2_11)+array(mat28_2_11)+array(mat29_2_11)\n",
    "SUM_Ask3_11 = \\\n",
    "+array(mat20_3_11)+array(mat21_3_11)+array(mat22_3_11)+\\\n",
    "array(mat24_3_11)+array(mat27_3_11)+array(mat28_3_11)+array(mat29_3_11)"
   ]
  },
  {
   "cell_type": "code",
   "execution_count": 109,
   "metadata": {
    "collapsed": false,
    "scrolled": true
   },
   "outputs": [],
   "source": [
    "#SUM_Ask3_11"
   ]
  },
  {
   "cell_type": "code",
   "execution_count": 110,
   "metadata": {
    "collapsed": true
   },
   "outputs": [],
   "source": [
    "SUM_Ask1_13 = \\\n",
    "array(mat20_1_13)+array(mat21_1_13)+array(mat22_1_13)+\\\n",
    "array(mat24_1_13)+array(mat27_1_13)+array(mat28_1_13)+array(mat29_1_13)\n",
    "SUM_Ask2_13 = \\\n",
    "array(mat20_2_13)+array(mat21_2_13)+array(mat22_2_13)+\\\n",
    "array(mat24_2_13)+array(mat27_2_13)+array(mat28_2_13)+array(mat29_2_13)\n",
    "SUM_Ask3_13 = \\\n",
    "array(mat20_3_13)+array(mat21_3_13)+array(mat22_3_13)+\\\n",
    "array(mat24_3_13)+array(mat27_3_13)+array(mat28_3_13)+array(mat29_3_13)"
   ]
  },
  {
   "cell_type": "code",
   "execution_count": 111,
   "metadata": {
    "collapsed": false
   },
   "outputs": [],
   "source": [
    "#SUM_Bid3_13"
   ]
  },
  {
   "cell_type": "code",
   "execution_count": 112,
   "metadata": {
    "collapsed": true
   },
   "outputs": [],
   "source": [
    "SUM_Ask1_16 = \\\n",
    "array(mat20_1_16)+array(mat21_1_16)+array(mat22_1_16)+\\\n",
    "array(mat24_1_16)+array(mat27_1_16)+array(mat28_1_16)+array(mat29_1_16)\n",
    "SUM_Ask2_16 = \\\n",
    "array(mat20_2_16)+array(mat21_2_16)+array(mat22_2_16)+\\\n",
    "array(mat24_2_16)+array(mat27_2_16)+array(mat28_2_16)+array(mat29_2_16)\n",
    "SUM_Ask3_16 = \\\n",
    "array(mat20_3_16)+array(mat21_3_16)+array(mat22_3_16)+\\\n",
    "array(mat24_3_16)+array(mat27_3_16)+array(mat28_3_16)+array(mat29_3_16)"
   ]
  },
  {
   "cell_type": "code",
   "execution_count": 113,
   "metadata": {
    "collapsed": false
   },
   "outputs": [],
   "source": [
    "#SUM_Bid3_16"
   ]
  },
  {
   "cell_type": "code",
   "execution_count": 114,
   "metadata": {
    "collapsed": false
   },
   "outputs": [],
   "source": [
    "a = 0\n",
    "Ask1_15_1 = pd.DataFrame([SUM_Ask1_15[a],SUM_Ask1_15[a+1]/SUM_Ask1_15[a],SUM_Ask1_15[a+2]/SUM_Ask1_15[a],SUM_Ask1_15[a+3]/SUM_Ask1_15[a],SUM_Ask1_15[a+4]/SUM_Ask1_15[a]])"
   ]
  },
  {
   "cell_type": "code",
   "execution_count": 115,
   "metadata": {
    "collapsed": false
   },
   "outputs": [],
   "source": [
    "a = 5\n",
    "Ask1_15_2 = pd.DataFrame([SUM_Ask1_15[a],SUM_Ask1_15[a+1]/SUM_Ask1_15[a],SUM_Ask1_15[a+2]/SUM_Ask1_15[a],SUM_Ask1_15[a+3]/SUM_Ask1_15[a],SUM_Ask1_15[a+4]/SUM_Ask1_15[a]])"
   ]
  },
  {
   "cell_type": "code",
   "execution_count": 116,
   "metadata": {
    "collapsed": false
   },
   "outputs": [],
   "source": [
    "a = 10\n",
    "Ask1_15_3 = pd.DataFrame([SUM_Ask1_15[a],SUM_Ask1_15[a+1]/SUM_Ask1_15[a],SUM_Ask1_15[a+2]/SUM_Ask1_15[a],SUM_Ask1_15[a+3]/SUM_Ask1_15[a],SUM_Ask1_15[a+4]/SUM_Ask1_15[a]])"
   ]
  },
  {
   "cell_type": "code",
   "execution_count": 117,
   "metadata": {
    "collapsed": false
   },
   "outputs": [],
   "source": [
    "a = 15\n",
    "Ask1_15_4 = pd.DataFrame([SUM_Ask1_15[a],SUM_Ask1_15[a+1]/SUM_Ask1_15[a],SUM_Ask1_15[a+2]/SUM_Ask1_15[a],SUM_Ask1_15[a+3]/SUM_Ask1_15[a],SUM_Ask1_15[a+4]/SUM_Ask1_15[a]])"
   ]
  },
  {
   "cell_type": "code",
   "execution_count": 118,
   "metadata": {
    "collapsed": false
   },
   "outputs": [],
   "source": [
    "a = 20\n",
    "Ask1_15_5 = pd.DataFrame([SUM_Ask1_15[a],SUM_Ask1_15[a+1]/SUM_Ask1_15[a],SUM_Ask1_15[a+2]/SUM_Ask1_15[a],SUM_Ask1_15[a+3]/SUM_Ask1_15[a],SUM_Ask1_15[a+4]/SUM_Ask1_15[a]])"
   ]
  },
  {
   "cell_type": "code",
   "execution_count": 119,
   "metadata": {
    "collapsed": false,
    "scrolled": true
   },
   "outputs": [
    {
     "data": {
      "text/html": [
       "<div>\n",
       "<table border=\"1\" class=\"dataframe\">\n",
       "  <thead>\n",
       "    <tr style=\"text-align: right;\">\n",
       "      <th></th>\n",
       "      <th>0</th>\n",
       "      <th>1</th>\n",
       "      <th>2</th>\n",
       "      <th>3</th>\n",
       "      <th>4</th>\n",
       "    </tr>\n",
       "  </thead>\n",
       "  <tbody>\n",
       "    <tr>\n",
       "      <th>0</th>\n",
       "      <td>0.0</td>\n",
       "      <td>338.000000</td>\n",
       "      <td>1177.000000</td>\n",
       "      <td>503.000000</td>\n",
       "      <td>0.0</td>\n",
       "    </tr>\n",
       "    <tr>\n",
       "      <th>1</th>\n",
       "      <td>NaN</td>\n",
       "      <td>0.997041</td>\n",
       "      <td>0.424809</td>\n",
       "      <td>0.564612</td>\n",
       "      <td>NaN</td>\n",
       "    </tr>\n",
       "    <tr>\n",
       "      <th>2</th>\n",
       "      <td>NaN</td>\n",
       "      <td>2.600592</td>\n",
       "      <td>-4.823280</td>\n",
       "      <td>-0.502982</td>\n",
       "      <td>NaN</td>\n",
       "    </tr>\n",
       "    <tr>\n",
       "      <th>3</th>\n",
       "      <td>NaN</td>\n",
       "      <td>3.233728</td>\n",
       "      <td>7.564996</td>\n",
       "      <td>3.351889</td>\n",
       "      <td>NaN</td>\n",
       "    </tr>\n",
       "    <tr>\n",
       "      <th>4</th>\n",
       "      <td>NaN</td>\n",
       "      <td>502.863905</td>\n",
       "      <td>737.293968</td>\n",
       "      <td>736.113320</td>\n",
       "      <td>NaN</td>\n",
       "    </tr>\n",
       "    <tr>\n",
       "      <th>0</th>\n",
       "      <td>0.0</td>\n",
       "      <td>0.000000</td>\n",
       "      <td>274.000000</td>\n",
       "      <td>247.000000</td>\n",
       "      <td>0.0</td>\n",
       "    </tr>\n",
       "    <tr>\n",
       "      <th>1</th>\n",
       "      <td>NaN</td>\n",
       "      <td>NaN</td>\n",
       "      <td>0.270073</td>\n",
       "      <td>0.785425</td>\n",
       "      <td>NaN</td>\n",
       "    </tr>\n",
       "    <tr>\n",
       "      <th>2</th>\n",
       "      <td>NaN</td>\n",
       "      <td>NaN</td>\n",
       "      <td>-1.708029</td>\n",
       "      <td>0.748988</td>\n",
       "      <td>NaN</td>\n",
       "    </tr>\n",
       "    <tr>\n",
       "      <th>3</th>\n",
       "      <td>NaN</td>\n",
       "      <td>NaN</td>\n",
       "      <td>5.521898</td>\n",
       "      <td>1.870445</td>\n",
       "      <td>NaN</td>\n",
       "    </tr>\n",
       "    <tr>\n",
       "      <th>4</th>\n",
       "      <td>NaN</td>\n",
       "      <td>NaN</td>\n",
       "      <td>800.645985</td>\n",
       "      <td>598.943320</td>\n",
       "      <td>NaN</td>\n",
       "    </tr>\n",
       "    <tr>\n",
       "      <th>0</th>\n",
       "      <td>0.0</td>\n",
       "      <td>2.000000</td>\n",
       "      <td>478.000000</td>\n",
       "      <td>318.000000</td>\n",
       "      <td>0.0</td>\n",
       "    </tr>\n",
       "    <tr>\n",
       "      <th>1</th>\n",
       "      <td>NaN</td>\n",
       "      <td>0.000000</td>\n",
       "      <td>0.562762</td>\n",
       "      <td>0.905660</td>\n",
       "      <td>NaN</td>\n",
       "    </tr>\n",
       "    <tr>\n",
       "      <th>2</th>\n",
       "      <td>NaN</td>\n",
       "      <td>5.000000</td>\n",
       "      <td>-0.414226</td>\n",
       "      <td>1.185535</td>\n",
       "      <td>NaN</td>\n",
       "    </tr>\n",
       "    <tr>\n",
       "      <th>3</th>\n",
       "      <td>NaN</td>\n",
       "      <td>6.000000</td>\n",
       "      <td>3.506276</td>\n",
       "      <td>1.553459</td>\n",
       "      <td>NaN</td>\n",
       "    </tr>\n",
       "    <tr>\n",
       "      <th>4</th>\n",
       "      <td>NaN</td>\n",
       "      <td>900.000000</td>\n",
       "      <td>695.719665</td>\n",
       "      <td>541.399371</td>\n",
       "      <td>NaN</td>\n",
       "    </tr>\n",
       "    <tr>\n",
       "      <th>0</th>\n",
       "      <td>0.0</td>\n",
       "      <td>0.000000</td>\n",
       "      <td>379.000000</td>\n",
       "      <td>69.000000</td>\n",
       "      <td>0.0</td>\n",
       "    </tr>\n",
       "    <tr>\n",
       "      <th>1</th>\n",
       "      <td>NaN</td>\n",
       "      <td>NaN</td>\n",
       "      <td>0.488127</td>\n",
       "      <td>0.550725</td>\n",
       "      <td>NaN</td>\n",
       "    </tr>\n",
       "    <tr>\n",
       "      <th>2</th>\n",
       "      <td>NaN</td>\n",
       "      <td>NaN</td>\n",
       "      <td>-2.511873</td>\n",
       "      <td>0.869565</td>\n",
       "      <td>NaN</td>\n",
       "    </tr>\n",
       "    <tr>\n",
       "      <th>3</th>\n",
       "      <td>NaN</td>\n",
       "      <td>NaN</td>\n",
       "      <td>5.295515</td>\n",
       "      <td>2.507246</td>\n",
       "      <td>NaN</td>\n",
       "    </tr>\n",
       "    <tr>\n",
       "      <th>4</th>\n",
       "      <td>NaN</td>\n",
       "      <td>NaN</td>\n",
       "      <td>815.501319</td>\n",
       "      <td>749.159420</td>\n",
       "      <td>NaN</td>\n",
       "    </tr>\n",
       "    <tr>\n",
       "      <th>0</th>\n",
       "      <td>0.0</td>\n",
       "      <td>0.000000</td>\n",
       "      <td>195.000000</td>\n",
       "      <td>220.000000</td>\n",
       "      <td>0.0</td>\n",
       "    </tr>\n",
       "    <tr>\n",
       "      <th>1</th>\n",
       "      <td>NaN</td>\n",
       "      <td>NaN</td>\n",
       "      <td>0.892308</td>\n",
       "      <td>0.995455</td>\n",
       "      <td>NaN</td>\n",
       "    </tr>\n",
       "    <tr>\n",
       "      <th>2</th>\n",
       "      <td>NaN</td>\n",
       "      <td>NaN</td>\n",
       "      <td>0.687179</td>\n",
       "      <td>1.086364</td>\n",
       "      <td>NaN</td>\n",
       "    </tr>\n",
       "    <tr>\n",
       "      <th>3</th>\n",
       "      <td>NaN</td>\n",
       "      <td>NaN</td>\n",
       "      <td>1.815385</td>\n",
       "      <td>1.100000</td>\n",
       "      <td>NaN</td>\n",
       "    </tr>\n",
       "    <tr>\n",
       "      <th>4</th>\n",
       "      <td>NaN</td>\n",
       "      <td>NaN</td>\n",
       "      <td>339.800000</td>\n",
       "      <td>282.890909</td>\n",
       "      <td>NaN</td>\n",
       "    </tr>\n",
       "  </tbody>\n",
       "</table>\n",
       "</div>"
      ],
      "text/plain": [
       "     0           1            2           3    4\n",
       "0  0.0  338.000000  1177.000000  503.000000  0.0\n",
       "1  NaN    0.997041     0.424809    0.564612  NaN\n",
       "2  NaN    2.600592    -4.823280   -0.502982  NaN\n",
       "3  NaN    3.233728     7.564996    3.351889  NaN\n",
       "4  NaN  502.863905   737.293968  736.113320  NaN\n",
       "0  0.0    0.000000   274.000000  247.000000  0.0\n",
       "1  NaN         NaN     0.270073    0.785425  NaN\n",
       "2  NaN         NaN    -1.708029    0.748988  NaN\n",
       "3  NaN         NaN     5.521898    1.870445  NaN\n",
       "4  NaN         NaN   800.645985  598.943320  NaN\n",
       "0  0.0    2.000000   478.000000  318.000000  0.0\n",
       "1  NaN    0.000000     0.562762    0.905660  NaN\n",
       "2  NaN    5.000000    -0.414226    1.185535  NaN\n",
       "3  NaN    6.000000     3.506276    1.553459  NaN\n",
       "4  NaN  900.000000   695.719665  541.399371  NaN\n",
       "0  0.0    0.000000   379.000000   69.000000  0.0\n",
       "1  NaN         NaN     0.488127    0.550725  NaN\n",
       "2  NaN         NaN    -2.511873    0.869565  NaN\n",
       "3  NaN         NaN     5.295515    2.507246  NaN\n",
       "4  NaN         NaN   815.501319  749.159420  NaN\n",
       "0  0.0    0.000000   195.000000  220.000000  0.0\n",
       "1  NaN         NaN     0.892308    0.995455  NaN\n",
       "2  NaN         NaN     0.687179    1.086364  NaN\n",
       "3  NaN         NaN     1.815385    1.100000  NaN\n",
       "4  NaN         NaN   339.800000  282.890909  NaN"
      ]
     },
     "execution_count": 119,
     "metadata": {},
     "output_type": "execute_result"
    }
   ],
   "source": [
    "pd.concat([Ask1_15_1,Ask1_15_2,Ask1_15_3,Ask1_15_4,Ask1_15_5])"
   ]
  },
  {
   "cell_type": "code",
   "execution_count": 120,
   "metadata": {
    "collapsed": true
   },
   "outputs": [],
   "source": [
    "pd.concat([Ask1_15_1,Ask1_15_2,Ask1_15_3,Ask1_15_4,Ask1_15_5]).to_csv('ask1_15_218_227.csv')"
   ]
  },
  {
   "cell_type": "code",
   "execution_count": 122,
   "metadata": {
    "collapsed": false
   },
   "outputs": [],
   "source": [
    "#218_227218_227"
   ]
  },
  {
   "cell_type": "code",
   "execution_count": null,
   "metadata": {
    "collapsed": true
   },
   "outputs": [],
   "source": []
  },
  {
   "cell_type": "code",
   "execution_count": null,
   "metadata": {
    "collapsed": true
   },
   "outputs": [],
   "source": []
  },
  {
   "cell_type": "code",
   "execution_count": null,
   "metadata": {
    "collapsed": true
   },
   "outputs": [],
   "source": []
  },
  {
   "cell_type": "code",
   "execution_count": null,
   "metadata": {
    "collapsed": true
   },
   "outputs": [],
   "source": []
  },
  {
   "cell_type": "code",
   "execution_count": 123,
   "metadata": {
    "collapsed": false
   },
   "outputs": [],
   "source": [
    "a = 0\n",
    "Ask2_15_1 = pd.DataFrame([SUM_Ask2_15[a],SUM_Ask2_15[a+1]/SUM_Ask2_15[a],SUM_Ask2_15[a+2]/SUM_Ask2_15[a],SUM_Ask2_15[a+3]/SUM_Ask2_15[a],SUM_Ask2_15[a+4]/SUM_Ask2_15[a]])"
   ]
  },
  {
   "cell_type": "code",
   "execution_count": 124,
   "metadata": {
    "collapsed": false
   },
   "outputs": [],
   "source": [
    "a = 5\n",
    "Ask2_15_2 = pd.DataFrame([SUM_Ask2_15[a],SUM_Ask2_15[a+1]/SUM_Ask2_15[a],SUM_Ask2_15[a+2]/SUM_Ask2_15[a],SUM_Ask2_15[a+3]/SUM_Ask2_15[a],SUM_Ask2_15[a+4]/SUM_Ask2_15[a]])"
   ]
  },
  {
   "cell_type": "code",
   "execution_count": 125,
   "metadata": {
    "collapsed": false
   },
   "outputs": [],
   "source": [
    "a = 10\n",
    "Ask2_15_3 = pd.DataFrame([SUM_Ask2_15[a],SUM_Ask2_15[a+1]/SUM_Ask2_15[a],SUM_Ask2_15[a+2]/SUM_Ask2_15[a],SUM_Ask2_15[a+3]/SUM_Ask2_15[a],SUM_Ask2_15[a+4]/SUM_Ask2_15[a]])"
   ]
  },
  {
   "cell_type": "code",
   "execution_count": 126,
   "metadata": {
    "collapsed": false
   },
   "outputs": [],
   "source": [
    "a = 15\n",
    "Ask2_15_4 = pd.DataFrame([SUM_Ask2_15[a],SUM_Ask2_15[a+1]/SUM_Ask2_15[a],SUM_Ask2_15[a+2]/SUM_Ask2_15[a],SUM_Ask2_15[a+3]/SUM_Ask2_15[a],SUM_Ask2_15[a+4]/SUM_Ask2_15[a]])"
   ]
  },
  {
   "cell_type": "code",
   "execution_count": 127,
   "metadata": {
    "collapsed": false
   },
   "outputs": [],
   "source": [
    "a = 20\n",
    "Ask2_15_5 = pd.DataFrame([SUM_Ask2_15[a],SUM_Ask2_15[a+1]/SUM_Ask2_15[a],SUM_Ask2_15[a+2]/SUM_Ask2_15[a],SUM_Ask2_15[a+3]/SUM_Ask2_15[a],SUM_Ask2_15[a+4]/SUM_Ask2_15[a]])"
   ]
  },
  {
   "cell_type": "code",
   "execution_count": 128,
   "metadata": {
    "collapsed": false,
    "scrolled": true
   },
   "outputs": [
    {
     "data": {
      "text/html": [
       "<div>\n",
       "<table border=\"1\" class=\"dataframe\">\n",
       "  <thead>\n",
       "    <tr style=\"text-align: right;\">\n",
       "      <th></th>\n",
       "      <th>0</th>\n",
       "      <th>1</th>\n",
       "      <th>2</th>\n",
       "      <th>3</th>\n",
       "      <th>4</th>\n",
       "    </tr>\n",
       "  </thead>\n",
       "  <tbody>\n",
       "    <tr>\n",
       "      <th>0</th>\n",
       "      <td>0.0</td>\n",
       "      <td>338.000000</td>\n",
       "      <td>1177.000000</td>\n",
       "      <td>503.000000</td>\n",
       "      <td>0.0</td>\n",
       "    </tr>\n",
       "    <tr>\n",
       "      <th>1</th>\n",
       "      <td>NaN</td>\n",
       "      <td>0.994083</td>\n",
       "      <td>0.412914</td>\n",
       "      <td>0.453280</td>\n",
       "      <td>NaN</td>\n",
       "    </tr>\n",
       "    <tr>\n",
       "      <th>2</th>\n",
       "      <td>NaN</td>\n",
       "      <td>3.597633</td>\n",
       "      <td>-4.414613</td>\n",
       "      <td>-0.375746</td>\n",
       "      <td>NaN</td>\n",
       "    </tr>\n",
       "    <tr>\n",
       "      <th>3</th>\n",
       "      <td>NaN</td>\n",
       "      <td>4.233728</td>\n",
       "      <td>8.644010</td>\n",
       "      <td>4.886680</td>\n",
       "      <td>NaN</td>\n",
       "    </tr>\n",
       "    <tr>\n",
       "      <th>4</th>\n",
       "      <td>NaN</td>\n",
       "      <td>656.642012</td>\n",
       "      <td>772.828377</td>\n",
       "      <td>780.679920</td>\n",
       "      <td>NaN</td>\n",
       "    </tr>\n",
       "    <tr>\n",
       "      <th>0</th>\n",
       "      <td>0.0</td>\n",
       "      <td>0.000000</td>\n",
       "      <td>274.000000</td>\n",
       "      <td>247.000000</td>\n",
       "      <td>0.0</td>\n",
       "    </tr>\n",
       "    <tr>\n",
       "      <th>1</th>\n",
       "      <td>NaN</td>\n",
       "      <td>NaN</td>\n",
       "      <td>0.262774</td>\n",
       "      <td>0.340081</td>\n",
       "      <td>NaN</td>\n",
       "    </tr>\n",
       "    <tr>\n",
       "      <th>2</th>\n",
       "      <td>NaN</td>\n",
       "      <td>NaN</td>\n",
       "      <td>-1.452555</td>\n",
       "      <td>-0.214575</td>\n",
       "      <td>NaN</td>\n",
       "    </tr>\n",
       "    <tr>\n",
       "      <th>3</th>\n",
       "      <td>NaN</td>\n",
       "      <td>NaN</td>\n",
       "      <td>6.777372</td>\n",
       "      <td>5.048583</td>\n",
       "      <td>NaN</td>\n",
       "    </tr>\n",
       "    <tr>\n",
       "      <th>4</th>\n",
       "      <td>NaN</td>\n",
       "      <td>NaN</td>\n",
       "      <td>862.222628</td>\n",
       "      <td>818.368421</td>\n",
       "      <td>NaN</td>\n",
       "    </tr>\n",
       "    <tr>\n",
       "      <th>0</th>\n",
       "      <td>0.0</td>\n",
       "      <td>2.000000</td>\n",
       "      <td>478.000000</td>\n",
       "      <td>318.000000</td>\n",
       "      <td>0.0</td>\n",
       "    </tr>\n",
       "    <tr>\n",
       "      <th>1</th>\n",
       "      <td>NaN</td>\n",
       "      <td>0.000000</td>\n",
       "      <td>0.529289</td>\n",
       "      <td>0.710692</td>\n",
       "      <td>NaN</td>\n",
       "    </tr>\n",
       "    <tr>\n",
       "      <th>2</th>\n",
       "      <td>NaN</td>\n",
       "      <td>5.000000</td>\n",
       "      <td>0.140167</td>\n",
       "      <td>1.355346</td>\n",
       "      <td>NaN</td>\n",
       "    </tr>\n",
       "    <tr>\n",
       "      <th>3</th>\n",
       "      <td>NaN</td>\n",
       "      <td>7.000000</td>\n",
       "      <td>4.633891</td>\n",
       "      <td>3.525157</td>\n",
       "      <td>NaN</td>\n",
       "    </tr>\n",
       "    <tr>\n",
       "      <th>4</th>\n",
       "      <td>NaN</td>\n",
       "      <td>900.000000</td>\n",
       "      <td>752.882845</td>\n",
       "      <td>642.330189</td>\n",
       "      <td>NaN</td>\n",
       "    </tr>\n",
       "    <tr>\n",
       "      <th>0</th>\n",
       "      <td>0.0</td>\n",
       "      <td>0.000000</td>\n",
       "      <td>379.000000</td>\n",
       "      <td>69.000000</td>\n",
       "      <td>0.0</td>\n",
       "    </tr>\n",
       "    <tr>\n",
       "      <th>1</th>\n",
       "      <td>NaN</td>\n",
       "      <td>NaN</td>\n",
       "      <td>0.414248</td>\n",
       "      <td>0.289855</td>\n",
       "      <td>NaN</td>\n",
       "    </tr>\n",
       "    <tr>\n",
       "      <th>2</th>\n",
       "      <td>NaN</td>\n",
       "      <td>NaN</td>\n",
       "      <td>-2.166227</td>\n",
       "      <td>0.362319</td>\n",
       "      <td>NaN</td>\n",
       "    </tr>\n",
       "    <tr>\n",
       "      <th>3</th>\n",
       "      <td>NaN</td>\n",
       "      <td>NaN</td>\n",
       "      <td>6.300792</td>\n",
       "      <td>4.782609</td>\n",
       "      <td>NaN</td>\n",
       "    </tr>\n",
       "    <tr>\n",
       "      <th>4</th>\n",
       "      <td>NaN</td>\n",
       "      <td>NaN</td>\n",
       "      <td>867.287599</td>\n",
       "      <td>876.652174</td>\n",
       "      <td>NaN</td>\n",
       "    </tr>\n",
       "    <tr>\n",
       "      <th>0</th>\n",
       "      <td>0.0</td>\n",
       "      <td>0.000000</td>\n",
       "      <td>195.000000</td>\n",
       "      <td>220.000000</td>\n",
       "      <td>0.0</td>\n",
       "    </tr>\n",
       "    <tr>\n",
       "      <th>1</th>\n",
       "      <td>NaN</td>\n",
       "      <td>NaN</td>\n",
       "      <td>0.800000</td>\n",
       "      <td>0.145455</td>\n",
       "      <td>NaN</td>\n",
       "    </tr>\n",
       "    <tr>\n",
       "      <th>2</th>\n",
       "      <td>NaN</td>\n",
       "      <td>NaN</td>\n",
       "      <td>1.010256</td>\n",
       "      <td>-1.627273</td>\n",
       "      <td>NaN</td>\n",
       "    </tr>\n",
       "    <tr>\n",
       "      <th>3</th>\n",
       "      <td>NaN</td>\n",
       "      <td>NaN</td>\n",
       "      <td>3.528205</td>\n",
       "      <td>6.259091</td>\n",
       "      <td>NaN</td>\n",
       "    </tr>\n",
       "    <tr>\n",
       "      <th>4</th>\n",
       "      <td>NaN</td>\n",
       "      <td>NaN</td>\n",
       "      <td>516.984615</td>\n",
       "      <td>876.095455</td>\n",
       "      <td>NaN</td>\n",
       "    </tr>\n",
       "  </tbody>\n",
       "</table>\n",
       "</div>"
      ],
      "text/plain": [
       "     0           1            2           3    4\n",
       "0  0.0  338.000000  1177.000000  503.000000  0.0\n",
       "1  NaN    0.994083     0.412914    0.453280  NaN\n",
       "2  NaN    3.597633    -4.414613   -0.375746  NaN\n",
       "3  NaN    4.233728     8.644010    4.886680  NaN\n",
       "4  NaN  656.642012   772.828377  780.679920  NaN\n",
       "0  0.0    0.000000   274.000000  247.000000  0.0\n",
       "1  NaN         NaN     0.262774    0.340081  NaN\n",
       "2  NaN         NaN    -1.452555   -0.214575  NaN\n",
       "3  NaN         NaN     6.777372    5.048583  NaN\n",
       "4  NaN         NaN   862.222628  818.368421  NaN\n",
       "0  0.0    2.000000   478.000000  318.000000  0.0\n",
       "1  NaN    0.000000     0.529289    0.710692  NaN\n",
       "2  NaN    5.000000     0.140167    1.355346  NaN\n",
       "3  NaN    7.000000     4.633891    3.525157  NaN\n",
       "4  NaN  900.000000   752.882845  642.330189  NaN\n",
       "0  0.0    0.000000   379.000000   69.000000  0.0\n",
       "1  NaN         NaN     0.414248    0.289855  NaN\n",
       "2  NaN         NaN    -2.166227    0.362319  NaN\n",
       "3  NaN         NaN     6.300792    4.782609  NaN\n",
       "4  NaN         NaN   867.287599  876.652174  NaN\n",
       "0  0.0    0.000000   195.000000  220.000000  0.0\n",
       "1  NaN         NaN     0.800000    0.145455  NaN\n",
       "2  NaN         NaN     1.010256   -1.627273  NaN\n",
       "3  NaN         NaN     3.528205    6.259091  NaN\n",
       "4  NaN         NaN   516.984615  876.095455  NaN"
      ]
     },
     "execution_count": 128,
     "metadata": {},
     "output_type": "execute_result"
    }
   ],
   "source": [
    "pd.concat([Ask2_15_1,Ask2_15_2,Ask2_15_3,Ask2_15_4,Ask2_15_5])"
   ]
  },
  {
   "cell_type": "code",
   "execution_count": 130,
   "metadata": {
    "collapsed": true
   },
   "outputs": [],
   "source": [
    "pd.concat([Ask2_15_1,Ask2_15_2,Ask2_15_3,Ask2_15_4,Ask2_15_5]).to_csv('ask2_15_218_227.csv')"
   ]
  },
  {
   "cell_type": "code",
   "execution_count": null,
   "metadata": {
    "collapsed": true
   },
   "outputs": [],
   "source": []
  },
  {
   "cell_type": "code",
   "execution_count": null,
   "metadata": {
    "collapsed": true
   },
   "outputs": [],
   "source": []
  },
  {
   "cell_type": "code",
   "execution_count": 131,
   "metadata": {
    "collapsed": false
   },
   "outputs": [],
   "source": [
    "a = 0\n",
    "Ask3_15_1 = pd.DataFrame([SUM_Ask3_15[a],SUM_Ask3_15[a+1]/SUM_Ask3_15[a],SUM_Ask3_15[a+2]/SUM_Ask3_15[a],SUM_Ask3_15[a+3]/SUM_Ask3_15[a],SUM_Ask3_15[a+4]/SUM_Ask3_15[a]])"
   ]
  },
  {
   "cell_type": "code",
   "execution_count": 132,
   "metadata": {
    "collapsed": false
   },
   "outputs": [],
   "source": [
    "a = 5\n",
    "Ask3_15_2 = pd.DataFrame([SUM_Ask3_15[a],SUM_Ask3_15[a+1]/SUM_Ask3_15[a],SUM_Ask3_15[a+2]/SUM_Ask3_15[a],SUM_Ask3_15[a+3]/SUM_Ask3_15[a],SUM_Ask3_15[a+4]/SUM_Ask3_15[a]])"
   ]
  },
  {
   "cell_type": "code",
   "execution_count": 133,
   "metadata": {
    "collapsed": false
   },
   "outputs": [],
   "source": [
    "a = 10\n",
    "Ask3_15_3 = pd.DataFrame([SUM_Ask3_15[a],SUM_Ask3_15[a+1]/SUM_Ask3_15[a],SUM_Ask3_15[a+2]/SUM_Ask3_15[a],SUM_Ask3_15[a+3]/SUM_Ask3_15[a],SUM_Ask3_15[a+4]/SUM_Ask3_15[a]])"
   ]
  },
  {
   "cell_type": "code",
   "execution_count": 134,
   "metadata": {
    "collapsed": false
   },
   "outputs": [],
   "source": [
    "a = 15\n",
    "Ask3_15_4 = pd.DataFrame([SUM_Ask3_15[a],SUM_Ask3_15[a+1]/SUM_Ask3_15[a],SUM_Ask3_15[a+2]/SUM_Ask3_15[a],SUM_Ask3_15[a+3]/SUM_Ask3_15[a],SUM_Ask3_15[a+4]/SUM_Ask3_15[a]])"
   ]
  },
  {
   "cell_type": "code",
   "execution_count": 135,
   "metadata": {
    "collapsed": false
   },
   "outputs": [],
   "source": [
    "a = 20\n",
    "Ask3_15_5 = pd.DataFrame([SUM_Ask3_15[a],SUM_Ask3_15[a+1]/SUM_Ask3_15[a],SUM_Ask3_15[a+2]/SUM_Ask3_15[a],SUM_Ask3_15[a+3]/SUM_Ask3_15[a],SUM_Ask3_15[a+4]/SUM_Ask3_15[a]])"
   ]
  },
  {
   "cell_type": "code",
   "execution_count": 136,
   "metadata": {
    "collapsed": false,
    "scrolled": true
   },
   "outputs": [
    {
     "data": {
      "text/html": [
       "<div>\n",
       "<table border=\"1\" class=\"dataframe\">\n",
       "  <thead>\n",
       "    <tr style=\"text-align: right;\">\n",
       "      <th></th>\n",
       "      <th>0</th>\n",
       "      <th>1</th>\n",
       "      <th>2</th>\n",
       "      <th>3</th>\n",
       "      <th>4</th>\n",
       "    </tr>\n",
       "  </thead>\n",
       "  <tbody>\n",
       "    <tr>\n",
       "      <th>0</th>\n",
       "      <td>0.0</td>\n",
       "      <td>338.000000</td>\n",
       "      <td>1177.000000</td>\n",
       "      <td>503.000000</td>\n",
       "      <td>0.0</td>\n",
       "    </tr>\n",
       "    <tr>\n",
       "      <th>1</th>\n",
       "      <td>NaN</td>\n",
       "      <td>0.994083</td>\n",
       "      <td>0.201359</td>\n",
       "      <td>0.445328</td>\n",
       "      <td>NaN</td>\n",
       "    </tr>\n",
       "    <tr>\n",
       "      <th>2</th>\n",
       "      <td>NaN</td>\n",
       "      <td>4.591716</td>\n",
       "      <td>-4.588785</td>\n",
       "      <td>0.073559</td>\n",
       "      <td>NaN</td>\n",
       "    </tr>\n",
       "    <tr>\n",
       "      <th>3</th>\n",
       "      <td>NaN</td>\n",
       "      <td>5.233728</td>\n",
       "      <td>9.644010</td>\n",
       "      <td>5.886680</td>\n",
       "      <td>NaN</td>\n",
       "    </tr>\n",
       "    <tr>\n",
       "      <th>4</th>\n",
       "      <td>NaN</td>\n",
       "      <td>707.177515</td>\n",
       "      <td>841.606627</td>\n",
       "      <td>781.771372</td>\n",
       "      <td>NaN</td>\n",
       "    </tr>\n",
       "    <tr>\n",
       "      <th>0</th>\n",
       "      <td>0.0</td>\n",
       "      <td>0.000000</td>\n",
       "      <td>274.000000</td>\n",
       "      <td>247.000000</td>\n",
       "      <td>0.0</td>\n",
       "    </tr>\n",
       "    <tr>\n",
       "      <th>1</th>\n",
       "      <td>NaN</td>\n",
       "      <td>NaN</td>\n",
       "      <td>0.014599</td>\n",
       "      <td>0.340081</td>\n",
       "      <td>NaN</td>\n",
       "    </tr>\n",
       "    <tr>\n",
       "      <th>2</th>\n",
       "      <td>NaN</td>\n",
       "      <td>NaN</td>\n",
       "      <td>-1.890511</td>\n",
       "      <td>0.125506</td>\n",
       "      <td>NaN</td>\n",
       "    </tr>\n",
       "    <tr>\n",
       "      <th>3</th>\n",
       "      <td>NaN</td>\n",
       "      <td>NaN</td>\n",
       "      <td>7.777372</td>\n",
       "      <td>6.048583</td>\n",
       "      <td>NaN</td>\n",
       "    </tr>\n",
       "    <tr>\n",
       "      <th>4</th>\n",
       "      <td>NaN</td>\n",
       "      <td>NaN</td>\n",
       "      <td>897.755474</td>\n",
       "      <td>819.048583</td>\n",
       "      <td>NaN</td>\n",
       "    </tr>\n",
       "    <tr>\n",
       "      <th>0</th>\n",
       "      <td>0.0</td>\n",
       "      <td>2.000000</td>\n",
       "      <td>478.000000</td>\n",
       "      <td>318.000000</td>\n",
       "      <td>0.0</td>\n",
       "    </tr>\n",
       "    <tr>\n",
       "      <th>1</th>\n",
       "      <td>NaN</td>\n",
       "      <td>0.000000</td>\n",
       "      <td>0.347280</td>\n",
       "      <td>0.710692</td>\n",
       "      <td>NaN</td>\n",
       "    </tr>\n",
       "    <tr>\n",
       "      <th>2</th>\n",
       "      <td>NaN</td>\n",
       "      <td>5.000000</td>\n",
       "      <td>0.265690</td>\n",
       "      <td>2.066038</td>\n",
       "      <td>NaN</td>\n",
       "    </tr>\n",
       "    <tr>\n",
       "      <th>3</th>\n",
       "      <td>NaN</td>\n",
       "      <td>8.000000</td>\n",
       "      <td>5.633891</td>\n",
       "      <td>4.525157</td>\n",
       "      <td>NaN</td>\n",
       "    </tr>\n",
       "    <tr>\n",
       "      <th>4</th>\n",
       "      <td>NaN</td>\n",
       "      <td>900.000000</td>\n",
       "      <td>784.535565</td>\n",
       "      <td>643.751572</td>\n",
       "      <td>NaN</td>\n",
       "    </tr>\n",
       "    <tr>\n",
       "      <th>0</th>\n",
       "      <td>0.0</td>\n",
       "      <td>0.000000</td>\n",
       "      <td>379.000000</td>\n",
       "      <td>69.000000</td>\n",
       "      <td>0.0</td>\n",
       "    </tr>\n",
       "    <tr>\n",
       "      <th>1</th>\n",
       "      <td>NaN</td>\n",
       "      <td>NaN</td>\n",
       "      <td>0.408971</td>\n",
       "      <td>0.289855</td>\n",
       "      <td>NaN</td>\n",
       "    </tr>\n",
       "    <tr>\n",
       "      <th>2</th>\n",
       "      <td>NaN</td>\n",
       "      <td>NaN</td>\n",
       "      <td>-1.757256</td>\n",
       "      <td>0.652174</td>\n",
       "      <td>NaN</td>\n",
       "    </tr>\n",
       "    <tr>\n",
       "      <th>3</th>\n",
       "      <td>NaN</td>\n",
       "      <td>NaN</td>\n",
       "      <td>7.300792</td>\n",
       "      <td>5.782609</td>\n",
       "      <td>NaN</td>\n",
       "    </tr>\n",
       "    <tr>\n",
       "      <th>4</th>\n",
       "      <td>NaN</td>\n",
       "      <td>NaN</td>\n",
       "      <td>869.846966</td>\n",
       "      <td>877.231884</td>\n",
       "      <td>NaN</td>\n",
       "    </tr>\n",
       "    <tr>\n",
       "      <th>0</th>\n",
       "      <td>0.0</td>\n",
       "      <td>0.000000</td>\n",
       "      <td>195.000000</td>\n",
       "      <td>220.000000</td>\n",
       "      <td>0.0</td>\n",
       "    </tr>\n",
       "    <tr>\n",
       "      <th>1</th>\n",
       "      <td>NaN</td>\n",
       "      <td>NaN</td>\n",
       "      <td>0.579487</td>\n",
       "      <td>0.113636</td>\n",
       "      <td>NaN</td>\n",
       "    </tr>\n",
       "    <tr>\n",
       "      <th>2</th>\n",
       "      <td>NaN</td>\n",
       "      <td>NaN</td>\n",
       "      <td>1.215385</td>\n",
       "      <td>-1.640909</td>\n",
       "      <td>NaN</td>\n",
       "    </tr>\n",
       "    <tr>\n",
       "      <th>3</th>\n",
       "      <td>NaN</td>\n",
       "      <td>NaN</td>\n",
       "      <td>4.528205</td>\n",
       "      <td>7.386364</td>\n",
       "      <td>NaN</td>\n",
       "    </tr>\n",
       "    <tr>\n",
       "      <th>4</th>\n",
       "      <td>NaN</td>\n",
       "      <td>NaN</td>\n",
       "      <td>613.138462</td>\n",
       "      <td>884.900000</td>\n",
       "      <td>NaN</td>\n",
       "    </tr>\n",
       "  </tbody>\n",
       "</table>\n",
       "</div>"
      ],
      "text/plain": [
       "     0           1            2           3    4\n",
       "0  0.0  338.000000  1177.000000  503.000000  0.0\n",
       "1  NaN    0.994083     0.201359    0.445328  NaN\n",
       "2  NaN    4.591716    -4.588785    0.073559  NaN\n",
       "3  NaN    5.233728     9.644010    5.886680  NaN\n",
       "4  NaN  707.177515   841.606627  781.771372  NaN\n",
       "0  0.0    0.000000   274.000000  247.000000  0.0\n",
       "1  NaN         NaN     0.014599    0.340081  NaN\n",
       "2  NaN         NaN    -1.890511    0.125506  NaN\n",
       "3  NaN         NaN     7.777372    6.048583  NaN\n",
       "4  NaN         NaN   897.755474  819.048583  NaN\n",
       "0  0.0    2.000000   478.000000  318.000000  0.0\n",
       "1  NaN    0.000000     0.347280    0.710692  NaN\n",
       "2  NaN    5.000000     0.265690    2.066038  NaN\n",
       "3  NaN    8.000000     5.633891    4.525157  NaN\n",
       "4  NaN  900.000000   784.535565  643.751572  NaN\n",
       "0  0.0    0.000000   379.000000   69.000000  0.0\n",
       "1  NaN         NaN     0.408971    0.289855  NaN\n",
       "2  NaN         NaN    -1.757256    0.652174  NaN\n",
       "3  NaN         NaN     7.300792    5.782609  NaN\n",
       "4  NaN         NaN   869.846966  877.231884  NaN\n",
       "0  0.0    0.000000   195.000000  220.000000  0.0\n",
       "1  NaN         NaN     0.579487    0.113636  NaN\n",
       "2  NaN         NaN     1.215385   -1.640909  NaN\n",
       "3  NaN         NaN     4.528205    7.386364  NaN\n",
       "4  NaN         NaN   613.138462  884.900000  NaN"
      ]
     },
     "execution_count": 136,
     "metadata": {},
     "output_type": "execute_result"
    }
   ],
   "source": [
    "pd.concat([Ask3_15_1,Ask3_15_2,Ask3_15_3,Ask3_15_4,Ask3_15_5])"
   ]
  },
  {
   "cell_type": "code",
   "execution_count": 137,
   "metadata": {
    "collapsed": true
   },
   "outputs": [],
   "source": [
    "pd.concat([Ask3_15_1,Ask3_15_2,Ask3_15_3,Ask3_15_4,Ask3_15_5]).to_csv('ask3_15_218_227.csv')"
   ]
  },
  {
   "cell_type": "code",
   "execution_count": null,
   "metadata": {
    "collapsed": true
   },
   "outputs": [],
   "source": []
  },
  {
   "cell_type": "code",
   "execution_count": null,
   "metadata": {
    "collapsed": true
   },
   "outputs": [],
   "source": []
  },
  {
   "cell_type": "code",
   "execution_count": null,
   "metadata": {
    "collapsed": true
   },
   "outputs": [],
   "source": []
  },
  {
   "cell_type": "code",
   "execution_count": 138,
   "metadata": {
    "collapsed": false
   },
   "outputs": [],
   "source": [
    "a = 0\n",
    "Ask1_11_1 = pd.DataFrame([SUM_Ask1_11[a],SUM_Ask1_11[a+1]/SUM_Ask1_11[a],SUM_Ask1_11[a+2]/SUM_Ask1_11[a],SUM_Ask1_11[a+3]/SUM_Ask1_11[a],SUM_Ask1_11[a+4]/SUM_Ask1_11[a]])"
   ]
  },
  {
   "cell_type": "code",
   "execution_count": 139,
   "metadata": {
    "collapsed": false
   },
   "outputs": [],
   "source": [
    "a = 5\n",
    "Ask1_11_2 = pd.DataFrame([SUM_Ask1_11[a],SUM_Ask1_11[a+1]/SUM_Ask1_11[a],SUM_Ask1_11[a+2]/SUM_Ask1_11[a],SUM_Ask1_11[a+3]/SUM_Ask1_11[a],SUM_Ask1_11[a+4]/SUM_Ask1_11[a]])"
   ]
  },
  {
   "cell_type": "code",
   "execution_count": 140,
   "metadata": {
    "collapsed": false
   },
   "outputs": [],
   "source": [
    "a = 10\n",
    "Ask1_11_3 = pd.DataFrame([SUM_Ask1_11[a],SUM_Ask1_11[a+1]/SUM_Ask1_11[a],SUM_Ask1_11[a+2]/SUM_Ask1_11[a],SUM_Ask1_11[a+3]/SUM_Ask1_11[a],SUM_Ask1_11[a+4]/SUM_Ask1_11[a]])"
   ]
  },
  {
   "cell_type": "code",
   "execution_count": 141,
   "metadata": {
    "collapsed": false
   },
   "outputs": [],
   "source": [
    "a = 15\n",
    "Ask1_11_4 = pd.DataFrame([SUM_Ask1_11[a],SUM_Ask1_11[a+1]/SUM_Ask1_11[a],SUM_Ask1_11[a+2]/SUM_Ask1_11[a],SUM_Ask1_11[a+3]/SUM_Ask1_11[a],SUM_Ask1_11[a+4]/SUM_Ask1_11[a]])"
   ]
  },
  {
   "cell_type": "code",
   "execution_count": 142,
   "metadata": {
    "collapsed": false
   },
   "outputs": [],
   "source": [
    "a = 20\n",
    "Ask1_11_5 = pd.DataFrame([SUM_Ask1_11[a],SUM_Ask1_11[a+1]/SUM_Ask1_11[a],SUM_Ask1_11[a+2]/SUM_Ask1_11[a],SUM_Ask1_11[a+3]/SUM_Ask1_11[a],SUM_Ask1_11[a+4]/SUM_Ask1_11[a]])"
   ]
  },
  {
   "cell_type": "code",
   "execution_count": 143,
   "metadata": {
    "collapsed": false,
    "scrolled": true
   },
   "outputs": [
    {
     "data": {
      "text/html": [
       "<div>\n",
       "<table border=\"1\" class=\"dataframe\">\n",
       "  <thead>\n",
       "    <tr style=\"text-align: right;\">\n",
       "      <th></th>\n",
       "      <th>0</th>\n",
       "      <th>1</th>\n",
       "      <th>2</th>\n",
       "      <th>3</th>\n",
       "      <th>4</th>\n",
       "    </tr>\n",
       "  </thead>\n",
       "  <tbody>\n",
       "    <tr>\n",
       "      <th>0</th>\n",
       "      <td>375.000000</td>\n",
       "      <td>1187.000000</td>\n",
       "      <td>4205.000000</td>\n",
       "      <td>872.000000</td>\n",
       "      <td>435.000000</td>\n",
       "    </tr>\n",
       "    <tr>\n",
       "      <th>1</th>\n",
       "      <td>0.357333</td>\n",
       "      <td>0.396799</td>\n",
       "      <td>0.372176</td>\n",
       "      <td>0.378440</td>\n",
       "      <td>0.577011</td>\n",
       "    </tr>\n",
       "    <tr>\n",
       "      <th>2</th>\n",
       "      <td>-3.173333</td>\n",
       "      <td>-2.165965</td>\n",
       "      <td>-2.074911</td>\n",
       "      <td>-1.511468</td>\n",
       "      <td>-1.590805</td>\n",
       "    </tr>\n",
       "    <tr>\n",
       "      <th>3</th>\n",
       "      <td>5.938667</td>\n",
       "      <td>5.312553</td>\n",
       "      <td>4.770749</td>\n",
       "      <td>4.529817</td>\n",
       "      <td>4.308046</td>\n",
       "    </tr>\n",
       "    <tr>\n",
       "      <th>4</th>\n",
       "      <td>1106.029333</td>\n",
       "      <td>685.037911</td>\n",
       "      <td>681.668252</td>\n",
       "      <td>654.873853</td>\n",
       "      <td>131.563218</td>\n",
       "    </tr>\n",
       "    <tr>\n",
       "      <th>0</th>\n",
       "      <td>546.000000</td>\n",
       "      <td>2056.000000</td>\n",
       "      <td>4919.000000</td>\n",
       "      <td>1119.000000</td>\n",
       "      <td>392.000000</td>\n",
       "    </tr>\n",
       "    <tr>\n",
       "      <th>1</th>\n",
       "      <td>0.441392</td>\n",
       "      <td>0.447471</td>\n",
       "      <td>0.435861</td>\n",
       "      <td>0.461126</td>\n",
       "      <td>0.625000</td>\n",
       "    </tr>\n",
       "    <tr>\n",
       "      <th>2</th>\n",
       "      <td>-2.717949</td>\n",
       "      <td>-1.302529</td>\n",
       "      <td>-1.248018</td>\n",
       "      <td>-1.151028</td>\n",
       "      <td>-0.959184</td>\n",
       "    </tr>\n",
       "    <tr>\n",
       "      <th>3</th>\n",
       "      <td>5.736264</td>\n",
       "      <td>4.472763</td>\n",
       "      <td>4.048790</td>\n",
       "      <td>4.118856</td>\n",
       "      <td>4.099490</td>\n",
       "    </tr>\n",
       "    <tr>\n",
       "      <th>4</th>\n",
       "      <td>851.712454</td>\n",
       "      <td>628.062743</td>\n",
       "      <td>658.554788</td>\n",
       "      <td>592.650581</td>\n",
       "      <td>163.265306</td>\n",
       "    </tr>\n",
       "    <tr>\n",
       "      <th>0</th>\n",
       "      <td>583.000000</td>\n",
       "      <td>2723.000000</td>\n",
       "      <td>5477.000000</td>\n",
       "      <td>1253.000000</td>\n",
       "      <td>338.000000</td>\n",
       "    </tr>\n",
       "    <tr>\n",
       "      <th>1</th>\n",
       "      <td>0.468268</td>\n",
       "      <td>0.436651</td>\n",
       "      <td>0.474895</td>\n",
       "      <td>0.528332</td>\n",
       "      <td>0.795858</td>\n",
       "    </tr>\n",
       "    <tr>\n",
       "      <th>2</th>\n",
       "      <td>-2.217839</td>\n",
       "      <td>-1.101726</td>\n",
       "      <td>-0.933540</td>\n",
       "      <td>-0.902634</td>\n",
       "      <td>-0.094675</td>\n",
       "    </tr>\n",
       "    <tr>\n",
       "      <th>3</th>\n",
       "      <td>5.262436</td>\n",
       "      <td>4.230261</td>\n",
       "      <td>3.766843</td>\n",
       "      <td>4.013567</td>\n",
       "      <td>3.020710</td>\n",
       "    </tr>\n",
       "    <tr>\n",
       "      <th>4</th>\n",
       "      <td>716.361921</td>\n",
       "      <td>636.671686</td>\n",
       "      <td>638.621873</td>\n",
       "      <td>576.902634</td>\n",
       "      <td>254.124260</td>\n",
       "    </tr>\n",
       "    <tr>\n",
       "      <th>0</th>\n",
       "      <td>395.000000</td>\n",
       "      <td>2031.000000</td>\n",
       "      <td>4078.000000</td>\n",
       "      <td>729.000000</td>\n",
       "      <td>239.000000</td>\n",
       "    </tr>\n",
       "    <tr>\n",
       "      <th>1</th>\n",
       "      <td>0.562025</td>\n",
       "      <td>0.497292</td>\n",
       "      <td>0.489946</td>\n",
       "      <td>0.580247</td>\n",
       "      <td>0.631799</td>\n",
       "    </tr>\n",
       "    <tr>\n",
       "      <th>2</th>\n",
       "      <td>-2.703797</td>\n",
       "      <td>-1.175283</td>\n",
       "      <td>-0.722658</td>\n",
       "      <td>-0.901235</td>\n",
       "      <td>-1.046025</td>\n",
       "    </tr>\n",
       "    <tr>\n",
       "      <th>3</th>\n",
       "      <td>5.526582</td>\n",
       "      <td>4.048252</td>\n",
       "      <td>3.341344</td>\n",
       "      <td>3.866941</td>\n",
       "      <td>3.585774</td>\n",
       "    </tr>\n",
       "    <tr>\n",
       "      <th>4</th>\n",
       "      <td>738.777215</td>\n",
       "      <td>602.878385</td>\n",
       "      <td>610.472781</td>\n",
       "      <td>542.884774</td>\n",
       "      <td>174.184100</td>\n",
       "    </tr>\n",
       "    <tr>\n",
       "      <th>0</th>\n",
       "      <td>609.000000</td>\n",
       "      <td>3015.000000</td>\n",
       "      <td>6798.000000</td>\n",
       "      <td>1476.000000</td>\n",
       "      <td>350.000000</td>\n",
       "    </tr>\n",
       "    <tr>\n",
       "      <th>1</th>\n",
       "      <td>0.569787</td>\n",
       "      <td>0.591376</td>\n",
       "      <td>0.575022</td>\n",
       "      <td>0.656504</td>\n",
       "      <td>0.708571</td>\n",
       "    </tr>\n",
       "    <tr>\n",
       "      <th>2</th>\n",
       "      <td>-2.075534</td>\n",
       "      <td>-0.772139</td>\n",
       "      <td>-0.466461</td>\n",
       "      <td>-0.541328</td>\n",
       "      <td>-0.465714</td>\n",
       "    </tr>\n",
       "    <tr>\n",
       "      <th>3</th>\n",
       "      <td>4.623974</td>\n",
       "      <td>3.319403</td>\n",
       "      <td>2.910415</td>\n",
       "      <td>3.435637</td>\n",
       "      <td>3.240000</td>\n",
       "    </tr>\n",
       "    <tr>\n",
       "      <th>4</th>\n",
       "      <td>663.244663</td>\n",
       "      <td>526.288557</td>\n",
       "      <td>504.705796</td>\n",
       "      <td>478.782520</td>\n",
       "      <td>196.794286</td>\n",
       "    </tr>\n",
       "  </tbody>\n",
       "</table>\n",
       "</div>"
      ],
      "text/plain": [
       "             0            1            2            3           4\n",
       "0   375.000000  1187.000000  4205.000000   872.000000  435.000000\n",
       "1     0.357333     0.396799     0.372176     0.378440    0.577011\n",
       "2    -3.173333    -2.165965    -2.074911    -1.511468   -1.590805\n",
       "3     5.938667     5.312553     4.770749     4.529817    4.308046\n",
       "4  1106.029333   685.037911   681.668252   654.873853  131.563218\n",
       "0   546.000000  2056.000000  4919.000000  1119.000000  392.000000\n",
       "1     0.441392     0.447471     0.435861     0.461126    0.625000\n",
       "2    -2.717949    -1.302529    -1.248018    -1.151028   -0.959184\n",
       "3     5.736264     4.472763     4.048790     4.118856    4.099490\n",
       "4   851.712454   628.062743   658.554788   592.650581  163.265306\n",
       "0   583.000000  2723.000000  5477.000000  1253.000000  338.000000\n",
       "1     0.468268     0.436651     0.474895     0.528332    0.795858\n",
       "2    -2.217839    -1.101726    -0.933540    -0.902634   -0.094675\n",
       "3     5.262436     4.230261     3.766843     4.013567    3.020710\n",
       "4   716.361921   636.671686   638.621873   576.902634  254.124260\n",
       "0   395.000000  2031.000000  4078.000000   729.000000  239.000000\n",
       "1     0.562025     0.497292     0.489946     0.580247    0.631799\n",
       "2    -2.703797    -1.175283    -0.722658    -0.901235   -1.046025\n",
       "3     5.526582     4.048252     3.341344     3.866941    3.585774\n",
       "4   738.777215   602.878385   610.472781   542.884774  174.184100\n",
       "0   609.000000  3015.000000  6798.000000  1476.000000  350.000000\n",
       "1     0.569787     0.591376     0.575022     0.656504    0.708571\n",
       "2    -2.075534    -0.772139    -0.466461    -0.541328   -0.465714\n",
       "3     4.623974     3.319403     2.910415     3.435637    3.240000\n",
       "4   663.244663   526.288557   504.705796   478.782520  196.794286"
      ]
     },
     "execution_count": 143,
     "metadata": {},
     "output_type": "execute_result"
    }
   ],
   "source": [
    "pd.concat([Ask1_11_1,Ask1_11_2,Ask1_11_3,Ask1_11_4,Ask1_11_5])"
   ]
  },
  {
   "cell_type": "code",
   "execution_count": 144,
   "metadata": {
    "collapsed": true
   },
   "outputs": [],
   "source": [
    "pd.concat([Ask1_11_1,Ask1_11_2,Ask1_11_3,Ask1_11_4,Ask1_11_5]).to_csv('ask1_11_218_227.csv')"
   ]
  },
  {
   "cell_type": "code",
   "execution_count": null,
   "metadata": {
    "collapsed": true
   },
   "outputs": [],
   "source": []
  },
  {
   "cell_type": "code",
   "execution_count": null,
   "metadata": {
    "collapsed": true
   },
   "outputs": [],
   "source": []
  },
  {
   "cell_type": "code",
   "execution_count": 145,
   "metadata": {
    "collapsed": false
   },
   "outputs": [],
   "source": [
    "a = 0\n",
    "Ask2_11_1 = pd.DataFrame([SUM_Ask2_11[a],SUM_Ask2_11[a+1]/SUM_Ask2_11[a],SUM_Ask2_11[a+2]/SUM_Ask2_11[a],SUM_Ask2_11[a+3]/SUM_Ask2_11[a],SUM_Ask2_11[a+4]/SUM_Ask2_11[a]])"
   ]
  },
  {
   "cell_type": "code",
   "execution_count": 146,
   "metadata": {
    "collapsed": false
   },
   "outputs": [],
   "source": [
    "a = 5\n",
    "Ask2_11_2 = pd.DataFrame([SUM_Ask2_11[a],SUM_Ask2_11[a+1]/SUM_Ask2_11[a],SUM_Ask2_11[a+2]/SUM_Ask2_11[a],SUM_Ask2_11[a+3]/SUM_Ask2_11[a],SUM_Ask2_11[a+4]/SUM_Ask2_11[a]])"
   ]
  },
  {
   "cell_type": "code",
   "execution_count": 147,
   "metadata": {
    "collapsed": false
   },
   "outputs": [],
   "source": [
    "a = 10\n",
    "Ask2_11_3 = pd.DataFrame([SUM_Ask2_11[a],SUM_Ask2_11[a+1]/SUM_Ask2_11[a],SUM_Ask2_11[a+2]/SUM_Ask2_11[a],SUM_Ask2_11[a+3]/SUM_Ask2_11[a],SUM_Ask2_11[a+4]/SUM_Ask2_11[a]])"
   ]
  },
  {
   "cell_type": "code",
   "execution_count": 148,
   "metadata": {
    "collapsed": false
   },
   "outputs": [],
   "source": [
    "a = 15\n",
    "Ask2_11_4 = pd.DataFrame([SUM_Ask2_11[a],SUM_Ask2_11[a+1]/SUM_Ask2_11[a],SUM_Ask2_11[a+2]/SUM_Ask2_11[a],SUM_Ask2_11[a+3]/SUM_Ask2_11[a],SUM_Ask2_11[a+4]/SUM_Ask2_11[a]])"
   ]
  },
  {
   "cell_type": "code",
   "execution_count": 149,
   "metadata": {
    "collapsed": false
   },
   "outputs": [],
   "source": [
    "a = 20\n",
    "Ask2_11_5 = pd.DataFrame([SUM_Ask2_11[a],SUM_Ask2_11[a+1]/SUM_Ask2_11[a],SUM_Ask2_11[a+2]/SUM_Ask2_11[a],SUM_Ask2_11[a+3]/SUM_Ask2_11[a],SUM_Ask2_11[a+4]/SUM_Ask2_11[a]])"
   ]
  },
  {
   "cell_type": "code",
   "execution_count": 150,
   "metadata": {
    "collapsed": false,
    "scrolled": true
   },
   "outputs": [
    {
     "data": {
      "text/html": [
       "<div>\n",
       "<table border=\"1\" class=\"dataframe\">\n",
       "  <thead>\n",
       "    <tr style=\"text-align: right;\">\n",
       "      <th></th>\n",
       "      <th>0</th>\n",
       "      <th>1</th>\n",
       "      <th>2</th>\n",
       "      <th>3</th>\n",
       "      <th>4</th>\n",
       "    </tr>\n",
       "  </thead>\n",
       "  <tbody>\n",
       "    <tr>\n",
       "      <th>0</th>\n",
       "      <td>375.000000</td>\n",
       "      <td>1187.000000</td>\n",
       "      <td>4205.000000</td>\n",
       "      <td>872.000000</td>\n",
       "      <td>435.000000</td>\n",
       "    </tr>\n",
       "    <tr>\n",
       "      <th>1</th>\n",
       "      <td>0.216000</td>\n",
       "      <td>0.292334</td>\n",
       "      <td>0.200476</td>\n",
       "      <td>0.191514</td>\n",
       "      <td>0.310345</td>\n",
       "    </tr>\n",
       "    <tr>\n",
       "      <th>2</th>\n",
       "      <td>-3.296000</td>\n",
       "      <td>-2.005897</td>\n",
       "      <td>-2.028537</td>\n",
       "      <td>-1.863532</td>\n",
       "      <td>-3.131034</td>\n",
       "    </tr>\n",
       "    <tr>\n",
       "      <th>3</th>\n",
       "      <td>7.330667</td>\n",
       "      <td>6.385847</td>\n",
       "      <td>5.891558</td>\n",
       "      <td>5.876147</td>\n",
       "      <td>6.834483</td>\n",
       "    </tr>\n",
       "    <tr>\n",
       "      <th>4</th>\n",
       "      <td>1515.570667</td>\n",
       "      <td>762.195451</td>\n",
       "      <td>790.061831</td>\n",
       "      <td>781.363532</td>\n",
       "      <td>78.779310</td>\n",
       "    </tr>\n",
       "    <tr>\n",
       "      <th>0</th>\n",
       "      <td>546.000000</td>\n",
       "      <td>2056.000000</td>\n",
       "      <td>4919.000000</td>\n",
       "      <td>1119.000000</td>\n",
       "      <td>392.000000</td>\n",
       "    </tr>\n",
       "    <tr>\n",
       "      <th>1</th>\n",
       "      <td>0.305861</td>\n",
       "      <td>0.324903</td>\n",
       "      <td>0.243545</td>\n",
       "      <td>0.262735</td>\n",
       "      <td>0.331633</td>\n",
       "    </tr>\n",
       "    <tr>\n",
       "      <th>2</th>\n",
       "      <td>-2.706960</td>\n",
       "      <td>-1.190175</td>\n",
       "      <td>-1.152470</td>\n",
       "      <td>-1.393208</td>\n",
       "      <td>-2.673469</td>\n",
       "    </tr>\n",
       "    <tr>\n",
       "      <th>3</th>\n",
       "      <td>7.089744</td>\n",
       "      <td>5.615759</td>\n",
       "      <td>5.197195</td>\n",
       "      <td>5.468275</td>\n",
       "      <td>6.892857</td>\n",
       "    </tr>\n",
       "    <tr>\n",
       "      <th>4</th>\n",
       "      <td>1177.879121</td>\n",
       "      <td>743.144942</td>\n",
       "      <td>781.105103</td>\n",
       "      <td>739.086685</td>\n",
       "      <td>102.627551</td>\n",
       "    </tr>\n",
       "    <tr>\n",
       "      <th>0</th>\n",
       "      <td>583.000000</td>\n",
       "      <td>2723.000000</td>\n",
       "      <td>5477.000000</td>\n",
       "      <td>1253.000000</td>\n",
       "      <td>338.000000</td>\n",
       "    </tr>\n",
       "    <tr>\n",
       "      <th>1</th>\n",
       "      <td>0.234991</td>\n",
       "      <td>0.283511</td>\n",
       "      <td>0.269491</td>\n",
       "      <td>0.391061</td>\n",
       "      <td>0.624260</td>\n",
       "    </tr>\n",
       "    <tr>\n",
       "      <th>2</th>\n",
       "      <td>-2.584906</td>\n",
       "      <td>-1.048843</td>\n",
       "      <td>-0.878035</td>\n",
       "      <td>-0.764565</td>\n",
       "      <td>-0.446746</td>\n",
       "    </tr>\n",
       "    <tr>\n",
       "      <th>3</th>\n",
       "      <td>6.967410</td>\n",
       "      <td>5.390011</td>\n",
       "      <td>4.924411</td>\n",
       "      <td>5.218675</td>\n",
       "      <td>5.044379</td>\n",
       "    </tr>\n",
       "    <tr>\n",
       "      <th>4</th>\n",
       "      <td>998.137221</td>\n",
       "      <td>757.751010</td>\n",
       "      <td>760.927150</td>\n",
       "      <td>686.967279</td>\n",
       "      <td>283.029586</td>\n",
       "    </tr>\n",
       "    <tr>\n",
       "      <th>0</th>\n",
       "      <td>395.000000</td>\n",
       "      <td>2031.000000</td>\n",
       "      <td>4078.000000</td>\n",
       "      <td>729.000000</td>\n",
       "      <td>239.000000</td>\n",
       "    </tr>\n",
       "    <tr>\n",
       "      <th>1</th>\n",
       "      <td>0.260759</td>\n",
       "      <td>0.304284</td>\n",
       "      <td>0.287151</td>\n",
       "      <td>0.421125</td>\n",
       "      <td>0.481172</td>\n",
       "    </tr>\n",
       "    <tr>\n",
       "      <th>2</th>\n",
       "      <td>-3.263291</td>\n",
       "      <td>-1.104874</td>\n",
       "      <td>-0.663315</td>\n",
       "      <td>-0.924554</td>\n",
       "      <td>-1.071130</td>\n",
       "    </tr>\n",
       "    <tr>\n",
       "      <th>3</th>\n",
       "      <td>7.301266</td>\n",
       "      <td>5.236337</td>\n",
       "      <td>4.515694</td>\n",
       "      <td>5.197531</td>\n",
       "      <td>5.263598</td>\n",
       "    </tr>\n",
       "    <tr>\n",
       "      <th>4</th>\n",
       "      <td>1067.926582</td>\n",
       "      <td>739.714426</td>\n",
       "      <td>746.836439</td>\n",
       "      <td>681.139918</td>\n",
       "      <td>205.799163</td>\n",
       "    </tr>\n",
       "    <tr>\n",
       "      <th>0</th>\n",
       "      <td>609.000000</td>\n",
       "      <td>3015.000000</td>\n",
       "      <td>6798.000000</td>\n",
       "      <td>1476.000000</td>\n",
       "      <td>350.000000</td>\n",
       "    </tr>\n",
       "    <tr>\n",
       "      <th>1</th>\n",
       "      <td>0.213465</td>\n",
       "      <td>0.311111</td>\n",
       "      <td>0.405119</td>\n",
       "      <td>0.552846</td>\n",
       "      <td>0.622857</td>\n",
       "    </tr>\n",
       "    <tr>\n",
       "      <th>2</th>\n",
       "      <td>-2.798030</td>\n",
       "      <td>-0.832172</td>\n",
       "      <td>-0.309944</td>\n",
       "      <td>-0.260163</td>\n",
       "      <td>-0.280000</td>\n",
       "    </tr>\n",
       "    <tr>\n",
       "      <th>3</th>\n",
       "      <td>6.556650</td>\n",
       "      <td>4.661692</td>\n",
       "      <td>4.171374</td>\n",
       "      <td>4.674119</td>\n",
       "      <td>4.640000</td>\n",
       "    </tr>\n",
       "    <tr>\n",
       "      <th>4</th>\n",
       "      <td>984.456486</td>\n",
       "      <td>728.129353</td>\n",
       "      <td>657.018094</td>\n",
       "      <td>602.639566</td>\n",
       "      <td>236.657143</td>\n",
       "    </tr>\n",
       "  </tbody>\n",
       "</table>\n",
       "</div>"
      ],
      "text/plain": [
       "             0            1            2            3           4\n",
       "0   375.000000  1187.000000  4205.000000   872.000000  435.000000\n",
       "1     0.216000     0.292334     0.200476     0.191514    0.310345\n",
       "2    -3.296000    -2.005897    -2.028537    -1.863532   -3.131034\n",
       "3     7.330667     6.385847     5.891558     5.876147    6.834483\n",
       "4  1515.570667   762.195451   790.061831   781.363532   78.779310\n",
       "0   546.000000  2056.000000  4919.000000  1119.000000  392.000000\n",
       "1     0.305861     0.324903     0.243545     0.262735    0.331633\n",
       "2    -2.706960    -1.190175    -1.152470    -1.393208   -2.673469\n",
       "3     7.089744     5.615759     5.197195     5.468275    6.892857\n",
       "4  1177.879121   743.144942   781.105103   739.086685  102.627551\n",
       "0   583.000000  2723.000000  5477.000000  1253.000000  338.000000\n",
       "1     0.234991     0.283511     0.269491     0.391061    0.624260\n",
       "2    -2.584906    -1.048843    -0.878035    -0.764565   -0.446746\n",
       "3     6.967410     5.390011     4.924411     5.218675    5.044379\n",
       "4   998.137221   757.751010   760.927150   686.967279  283.029586\n",
       "0   395.000000  2031.000000  4078.000000   729.000000  239.000000\n",
       "1     0.260759     0.304284     0.287151     0.421125    0.481172\n",
       "2    -3.263291    -1.104874    -0.663315    -0.924554   -1.071130\n",
       "3     7.301266     5.236337     4.515694     5.197531    5.263598\n",
       "4  1067.926582   739.714426   746.836439   681.139918  205.799163\n",
       "0   609.000000  3015.000000  6798.000000  1476.000000  350.000000\n",
       "1     0.213465     0.311111     0.405119     0.552846    0.622857\n",
       "2    -2.798030    -0.832172    -0.309944    -0.260163   -0.280000\n",
       "3     6.556650     4.661692     4.171374     4.674119    4.640000\n",
       "4   984.456486   728.129353   657.018094   602.639566  236.657143"
      ]
     },
     "execution_count": 150,
     "metadata": {},
     "output_type": "execute_result"
    }
   ],
   "source": [
    "pd.concat([Ask2_11_1,Ask2_11_2,Ask2_11_3,Ask2_11_4,Ask2_11_5])"
   ]
  },
  {
   "cell_type": "code",
   "execution_count": 152,
   "metadata": {
    "collapsed": true
   },
   "outputs": [],
   "source": [
    "pd.concat([Ask2_11_1,Ask2_11_2,Ask2_11_3,Ask2_11_4,Ask2_11_5]).to_csv('ask2_11_218_227.csv')"
   ]
  },
  {
   "cell_type": "code",
   "execution_count": null,
   "metadata": {
    "collapsed": true
   },
   "outputs": [],
   "source": []
  },
  {
   "cell_type": "code",
   "execution_count": null,
   "metadata": {
    "collapsed": true
   },
   "outputs": [],
   "source": []
  },
  {
   "cell_type": "code",
   "execution_count": null,
   "metadata": {
    "collapsed": true
   },
   "outputs": [],
   "source": []
  },
  {
   "cell_type": "code",
   "execution_count": 153,
   "metadata": {
    "collapsed": false
   },
   "outputs": [],
   "source": [
    "a = 0\n",
    "Ask3_11_1 = pd.DataFrame([SUM_Ask3_11[a],SUM_Ask3_11[a+1]/SUM_Ask3_11[a],SUM_Ask3_11[a+2]/SUM_Ask3_11[a],SUM_Ask3_11[a+3]/SUM_Ask3_11[a],SUM_Ask3_11[a+4]/SUM_Ask3_11[a]])"
   ]
  },
  {
   "cell_type": "code",
   "execution_count": 154,
   "metadata": {
    "collapsed": false
   },
   "outputs": [],
   "source": [
    "a = 5\n",
    "Ask3_11_2 = pd.DataFrame([SUM_Ask3_11[a],SUM_Ask3_11[a+1]/SUM_Ask3_11[a],SUM_Ask3_11[a+2]/SUM_Ask3_11[a],SUM_Ask3_11[a+3]/SUM_Ask3_11[a],SUM_Ask3_11[a+4]/SUM_Ask3_11[a]])"
   ]
  },
  {
   "cell_type": "code",
   "execution_count": 155,
   "metadata": {
    "collapsed": false
   },
   "outputs": [],
   "source": [
    "a = 10\n",
    "Ask3_11_3 = pd.DataFrame([SUM_Ask3_11[a],SUM_Ask3_11[a+1]/SUM_Ask3_11[a],SUM_Ask3_11[a+2]/SUM_Ask3_11[a],SUM_Ask3_11[a+3]/SUM_Ask3_11[a],SUM_Ask3_11[a+4]/SUM_Ask3_11[a]])"
   ]
  },
  {
   "cell_type": "code",
   "execution_count": 156,
   "metadata": {
    "collapsed": false
   },
   "outputs": [],
   "source": [
    "a = 15\n",
    "Ask3_11_4 = pd.DataFrame([SUM_Ask3_11[a],SUM_Ask3_11[a+1]/SUM_Ask3_11[a],SUM_Ask3_11[a+2]/SUM_Ask3_11[a],SUM_Ask3_11[a+3]/SUM_Ask3_11[a],SUM_Ask3_11[a+4]/SUM_Ask3_11[a]])"
   ]
  },
  {
   "cell_type": "code",
   "execution_count": 157,
   "metadata": {
    "collapsed": false
   },
   "outputs": [],
   "source": [
    "a = 20\n",
    "Ask3_11_5 = pd.DataFrame([SUM_Ask3_11[a],SUM_Ask3_11[a+1]/SUM_Ask3_11[a],SUM_Ask3_11[a+2]/SUM_Ask3_11[a],SUM_Ask3_11[a+3]/SUM_Ask3_11[a],SUM_Ask3_11[a+4]/SUM_Ask3_11[a]])"
   ]
  },
  {
   "cell_type": "code",
   "execution_count": 158,
   "metadata": {
    "collapsed": false,
    "scrolled": true
   },
   "outputs": [
    {
     "data": {
      "text/html": [
       "<div>\n",
       "<table border=\"1\" class=\"dataframe\">\n",
       "  <thead>\n",
       "    <tr style=\"text-align: right;\">\n",
       "      <th></th>\n",
       "      <th>0</th>\n",
       "      <th>1</th>\n",
       "      <th>2</th>\n",
       "      <th>3</th>\n",
       "      <th>4</th>\n",
       "    </tr>\n",
       "  </thead>\n",
       "  <tbody>\n",
       "    <tr>\n",
       "      <th>0</th>\n",
       "      <td>375.000000</td>\n",
       "      <td>1187.000000</td>\n",
       "      <td>4205.000000</td>\n",
       "      <td>872.000000</td>\n",
       "      <td>435.000000</td>\n",
       "    </tr>\n",
       "    <tr>\n",
       "      <th>1</th>\n",
       "      <td>0.112000</td>\n",
       "      <td>0.202190</td>\n",
       "      <td>0.079191</td>\n",
       "      <td>0.167431</td>\n",
       "      <td>0.137931</td>\n",
       "    </tr>\n",
       "    <tr>\n",
       "      <th>2</th>\n",
       "      <td>-3.357333</td>\n",
       "      <td>-1.887110</td>\n",
       "      <td>-2.169798</td>\n",
       "      <td>-1.712156</td>\n",
       "      <td>-3.685057</td>\n",
       "    </tr>\n",
       "    <tr>\n",
       "      <th>3</th>\n",
       "      <td>8.445333</td>\n",
       "      <td>7.422915</td>\n",
       "      <td>6.913912</td>\n",
       "      <td>6.876147</td>\n",
       "      <td>8.142529</td>\n",
       "    </tr>\n",
       "    <tr>\n",
       "      <th>4</th>\n",
       "      <td>1749.856000</td>\n",
       "      <td>817.381634</td>\n",
       "      <td>861.297979</td>\n",
       "      <td>827.846330</td>\n",
       "      <td>11.211494</td>\n",
       "    </tr>\n",
       "    <tr>\n",
       "      <th>0</th>\n",
       "      <td>546.000000</td>\n",
       "      <td>2056.000000</td>\n",
       "      <td>4919.000000</td>\n",
       "      <td>1119.000000</td>\n",
       "      <td>392.000000</td>\n",
       "    </tr>\n",
       "    <tr>\n",
       "      <th>1</th>\n",
       "      <td>0.249084</td>\n",
       "      <td>0.233463</td>\n",
       "      <td>0.106119</td>\n",
       "      <td>0.158177</td>\n",
       "      <td>0.117347</td>\n",
       "    </tr>\n",
       "    <tr>\n",
       "      <th>2</th>\n",
       "      <td>-2.538462</td>\n",
       "      <td>-1.013619</td>\n",
       "      <td>-1.242529</td>\n",
       "      <td>-1.492404</td>\n",
       "      <td>-3.507653</td>\n",
       "    </tr>\n",
       "    <tr>\n",
       "      <th>3</th>\n",
       "      <td>8.142857</td>\n",
       "      <td>6.636187</td>\n",
       "      <td>6.238463</td>\n",
       "      <td>6.599643</td>\n",
       "      <td>8.528061</td>\n",
       "    </tr>\n",
       "    <tr>\n",
       "      <th>4</th>\n",
       "      <td>1360.664835</td>\n",
       "      <td>809.842412</td>\n",
       "      <td>849.940435</td>\n",
       "      <td>817.303843</td>\n",
       "      <td>26.882653</td>\n",
       "    </tr>\n",
       "    <tr>\n",
       "      <th>0</th>\n",
       "      <td>583.000000</td>\n",
       "      <td>2723.000000</td>\n",
       "      <td>5477.000000</td>\n",
       "      <td>1253.000000</td>\n",
       "      <td>338.000000</td>\n",
       "    </tr>\n",
       "    <tr>\n",
       "      <th>1</th>\n",
       "      <td>0.156089</td>\n",
       "      <td>0.180683</td>\n",
       "      <td>0.121965</td>\n",
       "      <td>0.270551</td>\n",
       "      <td>0.245562</td>\n",
       "    </tr>\n",
       "    <tr>\n",
       "      <th>2</th>\n",
       "      <td>-2.559177</td>\n",
       "      <td>-0.968050</td>\n",
       "      <td>-0.952529</td>\n",
       "      <td>-0.723065</td>\n",
       "      <td>-1.627219</td>\n",
       "    </tr>\n",
       "    <tr>\n",
       "      <th>3</th>\n",
       "      <td>8.018868</td>\n",
       "      <td>6.407639</td>\n",
       "      <td>5.971517</td>\n",
       "      <td>6.322426</td>\n",
       "      <td>6.890533</td>\n",
       "    </tr>\n",
       "    <tr>\n",
       "      <th>4</th>\n",
       "      <td>1236.257290</td>\n",
       "      <td>822.420125</td>\n",
       "      <td>840.296695</td>\n",
       "      <td>756.750998</td>\n",
       "      <td>103.736686</td>\n",
       "    </tr>\n",
       "    <tr>\n",
       "      <th>0</th>\n",
       "      <td>395.000000</td>\n",
       "      <td>2031.000000</td>\n",
       "      <td>4078.000000</td>\n",
       "      <td>729.000000</td>\n",
       "      <td>239.000000</td>\n",
       "    </tr>\n",
       "    <tr>\n",
       "      <th>1</th>\n",
       "      <td>0.167089</td>\n",
       "      <td>0.184146</td>\n",
       "      <td>0.138303</td>\n",
       "      <td>0.290809</td>\n",
       "      <td>0.188285</td>\n",
       "    </tr>\n",
       "    <tr>\n",
       "      <th>2</th>\n",
       "      <td>-3.336709</td>\n",
       "      <td>-1.024618</td>\n",
       "      <td>-0.678519</td>\n",
       "      <td>-0.932785</td>\n",
       "      <td>-2.142259</td>\n",
       "    </tr>\n",
       "    <tr>\n",
       "      <th>3</th>\n",
       "      <td>8.427848</td>\n",
       "      <td>6.270310</td>\n",
       "      <td>5.578960</td>\n",
       "      <td>6.326475</td>\n",
       "      <td>7.000000</td>\n",
       "    </tr>\n",
       "    <tr>\n",
       "      <th>4</th>\n",
       "      <td>1271.977215</td>\n",
       "      <td>819.486460</td>\n",
       "      <td>825.973516</td>\n",
       "      <td>772.510288</td>\n",
       "      <td>84.414226</td>\n",
       "    </tr>\n",
       "    <tr>\n",
       "      <th>0</th>\n",
       "      <td>609.000000</td>\n",
       "      <td>3015.000000</td>\n",
       "      <td>6798.000000</td>\n",
       "      <td>1476.000000</td>\n",
       "      <td>350.000000</td>\n",
       "    </tr>\n",
       "    <tr>\n",
       "      <th>1</th>\n",
       "      <td>0.126437</td>\n",
       "      <td>0.211609</td>\n",
       "      <td>0.263460</td>\n",
       "      <td>0.340108</td>\n",
       "      <td>0.351429</td>\n",
       "    </tr>\n",
       "    <tr>\n",
       "      <th>2</th>\n",
       "      <td>-2.932677</td>\n",
       "      <td>-0.718408</td>\n",
       "      <td>-0.234334</td>\n",
       "      <td>-0.462737</td>\n",
       "      <td>-1.062857</td>\n",
       "    </tr>\n",
       "    <tr>\n",
       "      <th>3</th>\n",
       "      <td>7.812808</td>\n",
       "      <td>5.719735</td>\n",
       "      <td>5.263460</td>\n",
       "      <td>5.867886</td>\n",
       "      <td>6.300000</td>\n",
       "    </tr>\n",
       "    <tr>\n",
       "      <th>4</th>\n",
       "      <td>1189.714286</td>\n",
       "      <td>810.769818</td>\n",
       "      <td>752.070021</td>\n",
       "      <td>725.914634</td>\n",
       "      <td>166.554286</td>\n",
       "    </tr>\n",
       "  </tbody>\n",
       "</table>\n",
       "</div>"
      ],
      "text/plain": [
       "             0            1            2            3           4\n",
       "0   375.000000  1187.000000  4205.000000   872.000000  435.000000\n",
       "1     0.112000     0.202190     0.079191     0.167431    0.137931\n",
       "2    -3.357333    -1.887110    -2.169798    -1.712156   -3.685057\n",
       "3     8.445333     7.422915     6.913912     6.876147    8.142529\n",
       "4  1749.856000   817.381634   861.297979   827.846330   11.211494\n",
       "0   546.000000  2056.000000  4919.000000  1119.000000  392.000000\n",
       "1     0.249084     0.233463     0.106119     0.158177    0.117347\n",
       "2    -2.538462    -1.013619    -1.242529    -1.492404   -3.507653\n",
       "3     8.142857     6.636187     6.238463     6.599643    8.528061\n",
       "4  1360.664835   809.842412   849.940435   817.303843   26.882653\n",
       "0   583.000000  2723.000000  5477.000000  1253.000000  338.000000\n",
       "1     0.156089     0.180683     0.121965     0.270551    0.245562\n",
       "2    -2.559177    -0.968050    -0.952529    -0.723065   -1.627219\n",
       "3     8.018868     6.407639     5.971517     6.322426    6.890533\n",
       "4  1236.257290   822.420125   840.296695   756.750998  103.736686\n",
       "0   395.000000  2031.000000  4078.000000   729.000000  239.000000\n",
       "1     0.167089     0.184146     0.138303     0.290809    0.188285\n",
       "2    -3.336709    -1.024618    -0.678519    -0.932785   -2.142259\n",
       "3     8.427848     6.270310     5.578960     6.326475    7.000000\n",
       "4  1271.977215   819.486460   825.973516   772.510288   84.414226\n",
       "0   609.000000  3015.000000  6798.000000  1476.000000  350.000000\n",
       "1     0.126437     0.211609     0.263460     0.340108    0.351429\n",
       "2    -2.932677    -0.718408    -0.234334    -0.462737   -1.062857\n",
       "3     7.812808     5.719735     5.263460     5.867886    6.300000\n",
       "4  1189.714286   810.769818   752.070021   725.914634  166.554286"
      ]
     },
     "execution_count": 158,
     "metadata": {},
     "output_type": "execute_result"
    }
   ],
   "source": [
    "pd.concat([Ask3_11_1,Ask3_11_2,Ask3_11_3,Ask3_11_4,Ask3_11_5])"
   ]
  },
  {
   "cell_type": "code",
   "execution_count": 160,
   "metadata": {
    "collapsed": true
   },
   "outputs": [],
   "source": [
    "pd.concat([Ask3_11_1,Ask3_11_2,Ask3_11_3,Ask3_11_4,Ask3_11_5]).to_csv('ask3_11_218_227.csv')"
   ]
  },
  {
   "cell_type": "code",
   "execution_count": null,
   "metadata": {
    "collapsed": true
   },
   "outputs": [],
   "source": []
  },
  {
   "cell_type": "code",
   "execution_count": null,
   "metadata": {
    "collapsed": true
   },
   "outputs": [],
   "source": []
  },
  {
   "cell_type": "code",
   "execution_count": 161,
   "metadata": {
    "collapsed": false
   },
   "outputs": [],
   "source": [
    "a = 0\n",
    "Ask1_13_1 = pd.DataFrame([SUM_Ask1_13[a],SUM_Ask1_13[a+1]/SUM_Ask1_13[a],SUM_Ask1_13[a+2]/SUM_Ask1_13[a],SUM_Ask1_13[a+3]/SUM_Ask1_13[a],SUM_Ask1_13[a+4]/SUM_Ask1_13[a]])"
   ]
  },
  {
   "cell_type": "code",
   "execution_count": 162,
   "metadata": {
    "collapsed": false
   },
   "outputs": [],
   "source": [
    "a = 5\n",
    "Ask1_13_2 = pd.DataFrame([SUM_Ask1_13[a],SUM_Ask1_13[a+1]/SUM_Ask1_13[a],SUM_Ask1_13[a+2]/SUM_Ask1_13[a],SUM_Ask1_13[a+3]/SUM_Ask1_13[a],SUM_Ask1_13[a+4]/SUM_Ask1_13[a]])"
   ]
  },
  {
   "cell_type": "code",
   "execution_count": 163,
   "metadata": {
    "collapsed": false
   },
   "outputs": [],
   "source": [
    "a = 10\n",
    "Ask1_13_3 = pd.DataFrame([SUM_Ask1_13[a],SUM_Ask1_13[a+1]/SUM_Ask1_13[a],SUM_Ask1_13[a+2]/SUM_Ask1_13[a],SUM_Ask1_13[a+3]/SUM_Ask1_13[a],SUM_Ask1_13[a+4]/SUM_Ask1_13[a]])"
   ]
  },
  {
   "cell_type": "code",
   "execution_count": 164,
   "metadata": {
    "collapsed": false
   },
   "outputs": [],
   "source": [
    "a = 15\n",
    "Ask1_13_4 = pd.DataFrame([SUM_Ask1_13[a],SUM_Ask1_13[a+1]/SUM_Ask1_13[a],SUM_Ask1_13[a+2]/SUM_Ask1_13[a],SUM_Ask1_13[a+3]/SUM_Ask1_13[a],SUM_Ask1_13[a+4]/SUM_Ask1_13[a]])"
   ]
  },
  {
   "cell_type": "code",
   "execution_count": 165,
   "metadata": {
    "collapsed": false
   },
   "outputs": [],
   "source": [
    "a = 20\n",
    "Ask1_13_5 = pd.DataFrame([SUM_Ask1_13[a],SUM_Ask1_13[a+1]/SUM_Ask1_13[a],SUM_Ask1_13[a+2]/SUM_Ask1_13[a],SUM_Ask1_13[a+3]/SUM_Ask1_13[a],SUM_Ask1_13[a+4]/SUM_Ask1_13[a]])"
   ]
  },
  {
   "cell_type": "code",
   "execution_count": 166,
   "metadata": {
    "collapsed": false,
    "scrolled": true
   },
   "outputs": [
    {
     "data": {
      "text/html": [
       "<div>\n",
       "<table border=\"1\" class=\"dataframe\">\n",
       "  <thead>\n",
       "    <tr style=\"text-align: right;\">\n",
       "      <th></th>\n",
       "      <th>0</th>\n",
       "      <th>1</th>\n",
       "      <th>2</th>\n",
       "      <th>3</th>\n",
       "      <th>4</th>\n",
       "    </tr>\n",
       "  </thead>\n",
       "  <tbody>\n",
       "    <tr>\n",
       "      <th>0</th>\n",
       "      <td>8.000000</td>\n",
       "      <td>133.000000</td>\n",
       "      <td>11906.000000</td>\n",
       "      <td>1235.000000</td>\n",
       "      <td>13.000000</td>\n",
       "    </tr>\n",
       "    <tr>\n",
       "      <th>1</th>\n",
       "      <td>1.000000</td>\n",
       "      <td>0.924812</td>\n",
       "      <td>0.215942</td>\n",
       "      <td>0.302834</td>\n",
       "      <td>0.153846</td>\n",
       "    </tr>\n",
       "    <tr>\n",
       "      <th>2</th>\n",
       "      <td>1.000000</td>\n",
       "      <td>0.984962</td>\n",
       "      <td>0.099194</td>\n",
       "      <td>-0.462348</td>\n",
       "      <td>-1.153846</td>\n",
       "    </tr>\n",
       "    <tr>\n",
       "      <th>3</th>\n",
       "      <td>1.875000</td>\n",
       "      <td>2.187970</td>\n",
       "      <td>1.343692</td>\n",
       "      <td>2.148988</td>\n",
       "      <td>2.923077</td>\n",
       "    </tr>\n",
       "    <tr>\n",
       "      <th>4</th>\n",
       "      <td>1891.875000</td>\n",
       "      <td>426.857143</td>\n",
       "      <td>811.246262</td>\n",
       "      <td>694.801619</td>\n",
       "      <td>100.307692</td>\n",
       "    </tr>\n",
       "    <tr>\n",
       "      <th>0</th>\n",
       "      <td>19.000000</td>\n",
       "      <td>297.000000</td>\n",
       "      <td>2771.000000</td>\n",
       "      <td>1207.000000</td>\n",
       "      <td>6.000000</td>\n",
       "    </tr>\n",
       "    <tr>\n",
       "      <th>1</th>\n",
       "      <td>1.000000</td>\n",
       "      <td>0.686869</td>\n",
       "      <td>0.407434</td>\n",
       "      <td>0.346313</td>\n",
       "      <td>0.000000</td>\n",
       "    </tr>\n",
       "    <tr>\n",
       "      <th>2</th>\n",
       "      <td>1.000000</td>\n",
       "      <td>0.855219</td>\n",
       "      <td>0.345724</td>\n",
       "      <td>0.106877</td>\n",
       "      <td>0.000000</td>\n",
       "    </tr>\n",
       "    <tr>\n",
       "      <th>3</th>\n",
       "      <td>1.578947</td>\n",
       "      <td>2.101010</td>\n",
       "      <td>2.048358</td>\n",
       "      <td>2.241922</td>\n",
       "      <td>2.000000</td>\n",
       "    </tr>\n",
       "    <tr>\n",
       "      <th>4</th>\n",
       "      <td>713.842105</td>\n",
       "      <td>472.006734</td>\n",
       "      <td>722.848791</td>\n",
       "      <td>685.996686</td>\n",
       "      <td>0.000000</td>\n",
       "    </tr>\n",
       "    <tr>\n",
       "      <th>0</th>\n",
       "      <td>20.000000</td>\n",
       "      <td>506.000000</td>\n",
       "      <td>7596.000000</td>\n",
       "      <td>880.000000</td>\n",
       "      <td>0.000000</td>\n",
       "    </tr>\n",
       "    <tr>\n",
       "      <th>1</th>\n",
       "      <td>1.000000</td>\n",
       "      <td>0.922925</td>\n",
       "      <td>0.194708</td>\n",
       "      <td>0.398864</td>\n",
       "      <td>NaN</td>\n",
       "    </tr>\n",
       "    <tr>\n",
       "      <th>2</th>\n",
       "      <td>1.800000</td>\n",
       "      <td>1.308300</td>\n",
       "      <td>0.042654</td>\n",
       "      <td>-0.387500</td>\n",
       "      <td>NaN</td>\n",
       "    </tr>\n",
       "    <tr>\n",
       "      <th>3</th>\n",
       "      <td>2.050000</td>\n",
       "      <td>1.964427</td>\n",
       "      <td>1.835440</td>\n",
       "      <td>2.952273</td>\n",
       "      <td>NaN</td>\n",
       "    </tr>\n",
       "    <tr>\n",
       "      <th>4</th>\n",
       "      <td>433.350000</td>\n",
       "      <td>344.814229</td>\n",
       "      <td>819.106767</td>\n",
       "      <td>637.984091</td>\n",
       "      <td>NaN</td>\n",
       "    </tr>\n",
       "    <tr>\n",
       "      <th>0</th>\n",
       "      <td>13.000000</td>\n",
       "      <td>411.000000</td>\n",
       "      <td>5243.000000</td>\n",
       "      <td>595.000000</td>\n",
       "      <td>0.000000</td>\n",
       "    </tr>\n",
       "    <tr>\n",
       "      <th>1</th>\n",
       "      <td>1.000000</td>\n",
       "      <td>0.603406</td>\n",
       "      <td>0.333588</td>\n",
       "      <td>0.485714</td>\n",
       "      <td>NaN</td>\n",
       "    </tr>\n",
       "    <tr>\n",
       "      <th>2</th>\n",
       "      <td>1.307692</td>\n",
       "      <td>0.681265</td>\n",
       "      <td>0.132558</td>\n",
       "      <td>-0.149580</td>\n",
       "      <td>NaN</td>\n",
       "    </tr>\n",
       "    <tr>\n",
       "      <th>3</th>\n",
       "      <td>1.846154</td>\n",
       "      <td>1.807786</td>\n",
       "      <td>1.663170</td>\n",
       "      <td>2.821849</td>\n",
       "      <td>NaN</td>\n",
       "    </tr>\n",
       "    <tr>\n",
       "      <th>4</th>\n",
       "      <td>378.307692</td>\n",
       "      <td>596.727494</td>\n",
       "      <td>749.643334</td>\n",
       "      <td>583.630252</td>\n",
       "      <td>NaN</td>\n",
       "    </tr>\n",
       "    <tr>\n",
       "      <th>0</th>\n",
       "      <td>57.000000</td>\n",
       "      <td>712.000000</td>\n",
       "      <td>15775.000000</td>\n",
       "      <td>997.000000</td>\n",
       "      <td>0.000000</td>\n",
       "    </tr>\n",
       "    <tr>\n",
       "      <th>1</th>\n",
       "      <td>1.000000</td>\n",
       "      <td>0.740169</td>\n",
       "      <td>0.260792</td>\n",
       "      <td>0.313942</td>\n",
       "      <td>NaN</td>\n",
       "    </tr>\n",
       "    <tr>\n",
       "      <th>2</th>\n",
       "      <td>1.070175</td>\n",
       "      <td>0.560393</td>\n",
       "      <td>0.310618</td>\n",
       "      <td>0.080241</td>\n",
       "      <td>NaN</td>\n",
       "    </tr>\n",
       "    <tr>\n",
       "      <th>3</th>\n",
       "      <td>1.631579</td>\n",
       "      <td>1.797753</td>\n",
       "      <td>1.309667</td>\n",
       "      <td>2.002006</td>\n",
       "      <td>NaN</td>\n",
       "    </tr>\n",
       "    <tr>\n",
       "      <th>4</th>\n",
       "      <td>408.894737</td>\n",
       "      <td>474.202247</td>\n",
       "      <td>773.562536</td>\n",
       "      <td>696.330993</td>\n",
       "      <td>NaN</td>\n",
       "    </tr>\n",
       "  </tbody>\n",
       "</table>\n",
       "</div>"
      ],
      "text/plain": [
       "             0           1             2            3           4\n",
       "0     8.000000  133.000000  11906.000000  1235.000000   13.000000\n",
       "1     1.000000    0.924812      0.215942     0.302834    0.153846\n",
       "2     1.000000    0.984962      0.099194    -0.462348   -1.153846\n",
       "3     1.875000    2.187970      1.343692     2.148988    2.923077\n",
       "4  1891.875000  426.857143    811.246262   694.801619  100.307692\n",
       "0    19.000000  297.000000   2771.000000  1207.000000    6.000000\n",
       "1     1.000000    0.686869      0.407434     0.346313    0.000000\n",
       "2     1.000000    0.855219      0.345724     0.106877    0.000000\n",
       "3     1.578947    2.101010      2.048358     2.241922    2.000000\n",
       "4   713.842105  472.006734    722.848791   685.996686    0.000000\n",
       "0    20.000000  506.000000   7596.000000   880.000000    0.000000\n",
       "1     1.000000    0.922925      0.194708     0.398864         NaN\n",
       "2     1.800000    1.308300      0.042654    -0.387500         NaN\n",
       "3     2.050000    1.964427      1.835440     2.952273         NaN\n",
       "4   433.350000  344.814229    819.106767   637.984091         NaN\n",
       "0    13.000000  411.000000   5243.000000   595.000000    0.000000\n",
       "1     1.000000    0.603406      0.333588     0.485714         NaN\n",
       "2     1.307692    0.681265      0.132558    -0.149580         NaN\n",
       "3     1.846154    1.807786      1.663170     2.821849         NaN\n",
       "4   378.307692  596.727494    749.643334   583.630252         NaN\n",
       "0    57.000000  712.000000  15775.000000   997.000000    0.000000\n",
       "1     1.000000    0.740169      0.260792     0.313942         NaN\n",
       "2     1.070175    0.560393      0.310618     0.080241         NaN\n",
       "3     1.631579    1.797753      1.309667     2.002006         NaN\n",
       "4   408.894737  474.202247    773.562536   696.330993         NaN"
      ]
     },
     "execution_count": 166,
     "metadata": {},
     "output_type": "execute_result"
    }
   ],
   "source": [
    "pd.concat([Ask1_13_1,Ask1_13_2,Ask1_13_3,Ask1_13_4,Ask1_13_5])"
   ]
  },
  {
   "cell_type": "code",
   "execution_count": 167,
   "metadata": {
    "collapsed": true
   },
   "outputs": [],
   "source": [
    "pd.concat([Ask1_13_1,Ask1_13_2,Ask1_13_3,Ask1_13_4,Ask1_13_5]).to_csv('ask1_13_218_227.csv')"
   ]
  },
  {
   "cell_type": "code",
   "execution_count": null,
   "metadata": {
    "collapsed": true
   },
   "outputs": [],
   "source": []
  },
  {
   "cell_type": "code",
   "execution_count": null,
   "metadata": {
    "collapsed": true
   },
   "outputs": [],
   "source": []
  },
  {
   "cell_type": "code",
   "execution_count": 168,
   "metadata": {
    "collapsed": false
   },
   "outputs": [],
   "source": [
    "a = 0\n",
    "Ask2_13_1 = pd.DataFrame([SUM_Ask2_13[a],SUM_Ask2_13[a+1]/SUM_Ask2_13[a],SUM_Ask2_13[a+2]/SUM_Ask2_13[a],SUM_Ask2_13[a+3]/SUM_Ask2_13[a],SUM_Ask2_13[a+4]/SUM_Ask2_13[a]])"
   ]
  },
  {
   "cell_type": "code",
   "execution_count": 169,
   "metadata": {
    "collapsed": false
   },
   "outputs": [],
   "source": [
    "a = 5\n",
    "Ask2_13_2 =pd.DataFrame([SUM_Ask2_13[a],SUM_Ask2_13[a+1]/SUM_Ask2_13[a],SUM_Ask2_13[a+2]/SUM_Ask2_13[a],SUM_Ask2_13[a+3]/SUM_Ask2_13[a],SUM_Ask2_13[a+4]/SUM_Ask2_13[a]])"
   ]
  },
  {
   "cell_type": "code",
   "execution_count": 170,
   "metadata": {
    "collapsed": false
   },
   "outputs": [],
   "source": [
    "a = 10\n",
    "Ask2_13_3 =pd.DataFrame([SUM_Ask2_13[a],SUM_Ask2_13[a+1]/SUM_Ask2_13[a],SUM_Ask2_13[a+2]/SUM_Ask2_13[a],SUM_Ask2_13[a+3]/SUM_Ask2_13[a],SUM_Ask2_13[a+4]/SUM_Ask2_13[a]])"
   ]
  },
  {
   "cell_type": "code",
   "execution_count": 171,
   "metadata": {
    "collapsed": false
   },
   "outputs": [],
   "source": [
    "a = 15\n",
    "Ask2_13_4 =pd.DataFrame([SUM_Ask2_13[a],SUM_Ask2_13[a+1]/SUM_Ask2_13[a],SUM_Ask2_13[a+2]/SUM_Ask2_13[a],SUM_Ask2_13[a+3]/SUM_Ask2_13[a],SUM_Ask2_13[a+4]/SUM_Ask2_13[a]])"
   ]
  },
  {
   "cell_type": "code",
   "execution_count": 172,
   "metadata": {
    "collapsed": false
   },
   "outputs": [],
   "source": [
    "a = 20\n",
    "Ask2_13_5 =pd.DataFrame([SUM_Ask2_13[a],SUM_Ask2_13[a+1]/SUM_Ask2_13[a],SUM_Ask2_13[a+2]/SUM_Ask2_13[a],SUM_Ask2_13[a+3]/SUM_Ask2_13[a],SUM_Ask2_13[a+4]/SUM_Ask2_13[a]])"
   ]
  },
  {
   "cell_type": "code",
   "execution_count": 173,
   "metadata": {
    "collapsed": false,
    "scrolled": true
   },
   "outputs": [
    {
     "data": {
      "text/html": [
       "<div>\n",
       "<table border=\"1\" class=\"dataframe\">\n",
       "  <thead>\n",
       "    <tr style=\"text-align: right;\">\n",
       "      <th></th>\n",
       "      <th>0</th>\n",
       "      <th>1</th>\n",
       "      <th>2</th>\n",
       "      <th>3</th>\n",
       "      <th>4</th>\n",
       "    </tr>\n",
       "  </thead>\n",
       "  <tbody>\n",
       "    <tr>\n",
       "      <th>0</th>\n",
       "      <td>8.000000</td>\n",
       "      <td>133.000000</td>\n",
       "      <td>11906.000000</td>\n",
       "      <td>1235.000000</td>\n",
       "      <td>13.000000</td>\n",
       "    </tr>\n",
       "    <tr>\n",
       "      <th>1</th>\n",
       "      <td>1.000000</td>\n",
       "      <td>0.796992</td>\n",
       "      <td>0.047791</td>\n",
       "      <td>0.148988</td>\n",
       "      <td>0.153846</td>\n",
       "    </tr>\n",
       "    <tr>\n",
       "      <th>2</th>\n",
       "      <td>2.000000</td>\n",
       "      <td>1.706767</td>\n",
       "      <td>0.050059</td>\n",
       "      <td>-0.436437</td>\n",
       "      <td>-1.000000</td>\n",
       "    </tr>\n",
       "    <tr>\n",
       "      <th>3</th>\n",
       "      <td>2.875000</td>\n",
       "      <td>3.263158</td>\n",
       "      <td>2.417521</td>\n",
       "      <td>3.165992</td>\n",
       "      <td>3.923077</td>\n",
       "    </tr>\n",
       "    <tr>\n",
       "      <th>4</th>\n",
       "      <td>1908.875000</td>\n",
       "      <td>524.270677</td>\n",
       "      <td>877.442802</td>\n",
       "      <td>823.653441</td>\n",
       "      <td>103.846154</td>\n",
       "    </tr>\n",
       "    <tr>\n",
       "      <th>0</th>\n",
       "      <td>19.000000</td>\n",
       "      <td>297.000000</td>\n",
       "      <td>2771.000000</td>\n",
       "      <td>1207.000000</td>\n",
       "      <td>6.000000</td>\n",
       "    </tr>\n",
       "    <tr>\n",
       "      <th>1</th>\n",
       "      <td>1.000000</td>\n",
       "      <td>0.609428</td>\n",
       "      <td>0.278239</td>\n",
       "      <td>0.269263</td>\n",
       "      <td>0.000000</td>\n",
       "    </tr>\n",
       "    <tr>\n",
       "      <th>2</th>\n",
       "      <td>2.000000</td>\n",
       "      <td>1.478114</td>\n",
       "      <td>0.686756</td>\n",
       "      <td>0.304888</td>\n",
       "      <td>0.000000</td>\n",
       "    </tr>\n",
       "    <tr>\n",
       "      <th>3</th>\n",
       "      <td>2.578947</td>\n",
       "      <td>3.134680</td>\n",
       "      <td>3.064237</td>\n",
       "      <td>3.293289</td>\n",
       "      <td>3.000000</td>\n",
       "    </tr>\n",
       "    <tr>\n",
       "      <th>4</th>\n",
       "      <td>933.947368</td>\n",
       "      <td>554.488215</td>\n",
       "      <td>800.675208</td>\n",
       "      <td>767.821044</td>\n",
       "      <td>0.000000</td>\n",
       "    </tr>\n",
       "    <tr>\n",
       "      <th>0</th>\n",
       "      <td>20.000000</td>\n",
       "      <td>506.000000</td>\n",
       "      <td>7596.000000</td>\n",
       "      <td>880.000000</td>\n",
       "      <td>0.000000</td>\n",
       "    </tr>\n",
       "    <tr>\n",
       "      <th>1</th>\n",
       "      <td>1.000000</td>\n",
       "      <td>0.782609</td>\n",
       "      <td>0.110058</td>\n",
       "      <td>0.329545</td>\n",
       "      <td>NaN</td>\n",
       "    </tr>\n",
       "    <tr>\n",
       "      <th>2</th>\n",
       "      <td>2.800000</td>\n",
       "      <td>2.106719</td>\n",
       "      <td>0.165219</td>\n",
       "      <td>-0.106818</td>\n",
       "      <td>NaN</td>\n",
       "    </tr>\n",
       "    <tr>\n",
       "      <th>3</th>\n",
       "      <td>3.050000</td>\n",
       "      <td>3.009881</td>\n",
       "      <td>2.842944</td>\n",
       "      <td>4.032955</td>\n",
       "      <td>NaN</td>\n",
       "    </tr>\n",
       "    <tr>\n",
       "      <th>4</th>\n",
       "      <td>580.350000</td>\n",
       "      <td>467.011858</td>\n",
       "      <td>858.503291</td>\n",
       "      <td>735.067045</td>\n",
       "      <td>NaN</td>\n",
       "    </tr>\n",
       "    <tr>\n",
       "      <th>0</th>\n",
       "      <td>13.000000</td>\n",
       "      <td>411.000000</td>\n",
       "      <td>5243.000000</td>\n",
       "      <td>595.000000</td>\n",
       "      <td>0.000000</td>\n",
       "    </tr>\n",
       "    <tr>\n",
       "      <th>1</th>\n",
       "      <td>1.000000</td>\n",
       "      <td>0.374696</td>\n",
       "      <td>0.187870</td>\n",
       "      <td>0.433613</td>\n",
       "      <td>NaN</td>\n",
       "    </tr>\n",
       "    <tr>\n",
       "      <th>2</th>\n",
       "      <td>2.307692</td>\n",
       "      <td>1.058394</td>\n",
       "      <td>0.308411</td>\n",
       "      <td>0.262185</td>\n",
       "      <td>NaN</td>\n",
       "    </tr>\n",
       "    <tr>\n",
       "      <th>3</th>\n",
       "      <td>2.846154</td>\n",
       "      <td>2.895377</td>\n",
       "      <td>2.666603</td>\n",
       "      <td>3.875630</td>\n",
       "      <td>NaN</td>\n",
       "    </tr>\n",
       "    <tr>\n",
       "      <th>4</th>\n",
       "      <td>615.615385</td>\n",
       "      <td>679.890511</td>\n",
       "      <td>816.470532</td>\n",
       "      <td>673.667227</td>\n",
       "      <td>NaN</td>\n",
       "    </tr>\n",
       "    <tr>\n",
       "      <th>0</th>\n",
       "      <td>57.000000</td>\n",
       "      <td>712.000000</td>\n",
       "      <td>15775.000000</td>\n",
       "      <td>997.000000</td>\n",
       "      <td>0.000000</td>\n",
       "    </tr>\n",
       "    <tr>\n",
       "      <th>1</th>\n",
       "      <td>1.000000</td>\n",
       "      <td>0.634831</td>\n",
       "      <td>0.130396</td>\n",
       "      <td>0.278837</td>\n",
       "      <td>NaN</td>\n",
       "    </tr>\n",
       "    <tr>\n",
       "      <th>2</th>\n",
       "      <td>2.070175</td>\n",
       "      <td>1.200843</td>\n",
       "      <td>0.298827</td>\n",
       "      <td>0.316951</td>\n",
       "      <td>NaN</td>\n",
       "    </tr>\n",
       "    <tr>\n",
       "      <th>3</th>\n",
       "      <td>2.631579</td>\n",
       "      <td>2.801966</td>\n",
       "      <td>2.474612</td>\n",
       "      <td>3.025075</td>\n",
       "      <td>NaN</td>\n",
       "    </tr>\n",
       "    <tr>\n",
       "      <th>4</th>\n",
       "      <td>654.754386</td>\n",
       "      <td>522.053371</td>\n",
       "      <td>847.296292</td>\n",
       "      <td>745.974925</td>\n",
       "      <td>NaN</td>\n",
       "    </tr>\n",
       "  </tbody>\n",
       "</table>\n",
       "</div>"
      ],
      "text/plain": [
       "             0           1             2            3           4\n",
       "0     8.000000  133.000000  11906.000000  1235.000000   13.000000\n",
       "1     1.000000    0.796992      0.047791     0.148988    0.153846\n",
       "2     2.000000    1.706767      0.050059    -0.436437   -1.000000\n",
       "3     2.875000    3.263158      2.417521     3.165992    3.923077\n",
       "4  1908.875000  524.270677    877.442802   823.653441  103.846154\n",
       "0    19.000000  297.000000   2771.000000  1207.000000    6.000000\n",
       "1     1.000000    0.609428      0.278239     0.269263    0.000000\n",
       "2     2.000000    1.478114      0.686756     0.304888    0.000000\n",
       "3     2.578947    3.134680      3.064237     3.293289    3.000000\n",
       "4   933.947368  554.488215    800.675208   767.821044    0.000000\n",
       "0    20.000000  506.000000   7596.000000   880.000000    0.000000\n",
       "1     1.000000    0.782609      0.110058     0.329545         NaN\n",
       "2     2.800000    2.106719      0.165219    -0.106818         NaN\n",
       "3     3.050000    3.009881      2.842944     4.032955         NaN\n",
       "4   580.350000  467.011858    858.503291   735.067045         NaN\n",
       "0    13.000000  411.000000   5243.000000   595.000000    0.000000\n",
       "1     1.000000    0.374696      0.187870     0.433613         NaN\n",
       "2     2.307692    1.058394      0.308411     0.262185         NaN\n",
       "3     2.846154    2.895377      2.666603     3.875630         NaN\n",
       "4   615.615385  679.890511    816.470532   673.667227         NaN\n",
       "0    57.000000  712.000000  15775.000000   997.000000    0.000000\n",
       "1     1.000000    0.634831      0.130396     0.278837         NaN\n",
       "2     2.070175    1.200843      0.298827     0.316951         NaN\n",
       "3     2.631579    2.801966      2.474612     3.025075         NaN\n",
       "4   654.754386  522.053371    847.296292   745.974925         NaN"
      ]
     },
     "execution_count": 173,
     "metadata": {},
     "output_type": "execute_result"
    }
   ],
   "source": [
    "pd.concat([Ask2_13_1,Ask2_13_2,Ask2_13_3,Ask2_13_4,Ask2_13_5])"
   ]
  },
  {
   "cell_type": "code",
   "execution_count": 174,
   "metadata": {
    "collapsed": true
   },
   "outputs": [],
   "source": [
    "pd.concat([Ask2_13_1,Ask2_13_2,Ask2_13_3,Ask2_13_4,Ask2_13_5]).to_csv('ask2_13_218_227.csv')"
   ]
  },
  {
   "cell_type": "code",
   "execution_count": null,
   "metadata": {
    "collapsed": true
   },
   "outputs": [],
   "source": []
  },
  {
   "cell_type": "code",
   "execution_count": null,
   "metadata": {
    "collapsed": true
   },
   "outputs": [],
   "source": []
  },
  {
   "cell_type": "code",
   "execution_count": 175,
   "metadata": {
    "collapsed": false
   },
   "outputs": [],
   "source": [
    "a = 0\n",
    "Ask3_13_1 = pd.DataFrame([SUM_Ask3_13[a],SUM_Ask3_13[a+1]/SUM_Ask3_13[a],SUM_Ask3_13[a+2]/SUM_Ask3_13[a],SUM_Ask3_13[a+3]/SUM_Ask3_13[a],SUM_Ask3_13[a+4]/SUM_Ask3_13[a]])"
   ]
  },
  {
   "cell_type": "code",
   "execution_count": 176,
   "metadata": {
    "collapsed": false
   },
   "outputs": [],
   "source": [
    "a = 5\n",
    "Ask3_13_2 = pd.DataFrame([SUM_Ask3_13[a],SUM_Ask3_13[a+1]/SUM_Ask3_13[a],SUM_Ask3_13[a+2]/SUM_Ask3_13[a],SUM_Ask3_13[a+3]/SUM_Ask3_13[a],SUM_Ask3_13[a+4]/SUM_Ask3_13[a]])"
   ]
  },
  {
   "cell_type": "code",
   "execution_count": 177,
   "metadata": {
    "collapsed": false
   },
   "outputs": [],
   "source": [
    "a = 10\n",
    "Ask3_13_3 = pd.DataFrame([SUM_Ask3_13[a],SUM_Ask3_13[a+1]/SUM_Ask3_13[a],SUM_Ask3_13[a+2]/SUM_Ask3_13[a],SUM_Ask3_13[a+3]/SUM_Ask3_13[a],SUM_Ask3_13[a+4]/SUM_Ask3_13[a]])"
   ]
  },
  {
   "cell_type": "code",
   "execution_count": 178,
   "metadata": {
    "collapsed": false
   },
   "outputs": [],
   "source": [
    "a = 15\n",
    "Ask3_13_4 = pd.DataFrame([SUM_Ask3_13[a],SUM_Ask3_13[a+1]/SUM_Ask3_13[a],SUM_Ask3_13[a+2]/SUM_Ask3_13[a],SUM_Ask3_13[a+3]/SUM_Ask3_13[a],SUM_Ask3_13[a+4]/SUM_Ask3_13[a]])"
   ]
  },
  {
   "cell_type": "code",
   "execution_count": 179,
   "metadata": {
    "collapsed": false
   },
   "outputs": [],
   "source": [
    "a = 20\n",
    "Ask3_13_5 = pd.DataFrame([SUM_Ask3_13[a],SUM_Ask3_13[a+1]/SUM_Ask3_13[a],SUM_Ask3_13[a+2]/SUM_Ask3_13[a],SUM_Ask3_13[a+3]/SUM_Ask3_13[a],SUM_Ask3_13[a+4]/SUM_Ask3_13[a]])"
   ]
  },
  {
   "cell_type": "code",
   "execution_count": 180,
   "metadata": {
    "collapsed": false,
    "scrolled": true
   },
   "outputs": [
    {
     "data": {
      "text/html": [
       "<div>\n",
       "<table border=\"1\" class=\"dataframe\">\n",
       "  <thead>\n",
       "    <tr style=\"text-align: right;\">\n",
       "      <th></th>\n",
       "      <th>0</th>\n",
       "      <th>1</th>\n",
       "      <th>2</th>\n",
       "      <th>3</th>\n",
       "      <th>4</th>\n",
       "    </tr>\n",
       "  </thead>\n",
       "  <tbody>\n",
       "    <tr>\n",
       "      <th>0</th>\n",
       "      <td>8.000000</td>\n",
       "      <td>133.000000</td>\n",
       "      <td>11906.000000</td>\n",
       "      <td>1235.000000</td>\n",
       "      <td>13.000000</td>\n",
       "    </tr>\n",
       "    <tr>\n",
       "      <th>1</th>\n",
       "      <td>1.000000</td>\n",
       "      <td>0.308271</td>\n",
       "      <td>0.040988</td>\n",
       "      <td>0.083401</td>\n",
       "      <td>0.000000</td>\n",
       "    </tr>\n",
       "    <tr>\n",
       "      <th>2</th>\n",
       "      <td>3.000000</td>\n",
       "      <td>1.586466</td>\n",
       "      <td>0.089115</td>\n",
       "      <td>-0.381377</td>\n",
       "      <td>-1.000000</td>\n",
       "    </tr>\n",
       "    <tr>\n",
       "      <th>3</th>\n",
       "      <td>3.875000</td>\n",
       "      <td>4.443609</td>\n",
       "      <td>3.418109</td>\n",
       "      <td>4.165992</td>\n",
       "      <td>4.923077</td>\n",
       "    </tr>\n",
       "    <tr>\n",
       "      <th>4</th>\n",
       "      <td>2215.875000</td>\n",
       "      <td>843.150376</td>\n",
       "      <td>884.454225</td>\n",
       "      <td>868.249393</td>\n",
       "      <td>0.000000</td>\n",
       "    </tr>\n",
       "    <tr>\n",
       "      <th>0</th>\n",
       "      <td>19.000000</td>\n",
       "      <td>297.000000</td>\n",
       "      <td>2771.000000</td>\n",
       "      <td>1207.000000</td>\n",
       "      <td>6.000000</td>\n",
       "    </tr>\n",
       "    <tr>\n",
       "      <th>1</th>\n",
       "      <td>1.000000</td>\n",
       "      <td>0.077441</td>\n",
       "      <td>0.239264</td>\n",
       "      <td>0.140845</td>\n",
       "      <td>0.000000</td>\n",
       "    </tr>\n",
       "    <tr>\n",
       "      <th>2</th>\n",
       "      <td>3.000000</td>\n",
       "      <td>1.127946</td>\n",
       "      <td>0.915915</td>\n",
       "      <td>0.386081</td>\n",
       "      <td>0.000000</td>\n",
       "    </tr>\n",
       "    <tr>\n",
       "      <th>3</th>\n",
       "      <td>3.578947</td>\n",
       "      <td>4.383838</td>\n",
       "      <td>4.068206</td>\n",
       "      <td>4.296603</td>\n",
       "      <td>4.000000</td>\n",
       "    </tr>\n",
       "    <tr>\n",
       "      <th>4</th>\n",
       "      <td>988.578947</td>\n",
       "      <td>877.531987</td>\n",
       "      <td>834.661855</td>\n",
       "      <td>841.931234</td>\n",
       "      <td>0.000000</td>\n",
       "    </tr>\n",
       "    <tr>\n",
       "      <th>0</th>\n",
       "      <td>20.000000</td>\n",
       "      <td>506.000000</td>\n",
       "      <td>7596.000000</td>\n",
       "      <td>880.000000</td>\n",
       "      <td>0.000000</td>\n",
       "    </tr>\n",
       "    <tr>\n",
       "      <th>1</th>\n",
       "      <td>0.200000</td>\n",
       "      <td>0.322134</td>\n",
       "      <td>0.067272</td>\n",
       "      <td>0.248864</td>\n",
       "      <td>NaN</td>\n",
       "    </tr>\n",
       "    <tr>\n",
       "      <th>2</th>\n",
       "      <td>3.100000</td>\n",
       "      <td>2.088933</td>\n",
       "      <td>0.230911</td>\n",
       "      <td>0.113636</td>\n",
       "      <td>NaN</td>\n",
       "    </tr>\n",
       "    <tr>\n",
       "      <th>3</th>\n",
       "      <td>4.050000</td>\n",
       "      <td>4.164032</td>\n",
       "      <td>3.848078</td>\n",
       "      <td>5.055682</td>\n",
       "      <td>NaN</td>\n",
       "    </tr>\n",
       "    <tr>\n",
       "      <th>4</th>\n",
       "      <td>857.150000</td>\n",
       "      <td>837.804348</td>\n",
       "      <td>874.092022</td>\n",
       "      <td>792.675000</td>\n",
       "      <td>NaN</td>\n",
       "    </tr>\n",
       "    <tr>\n",
       "      <th>0</th>\n",
       "      <td>13.000000</td>\n",
       "      <td>411.000000</td>\n",
       "      <td>5243.000000</td>\n",
       "      <td>595.000000</td>\n",
       "      <td>0.000000</td>\n",
       "    </tr>\n",
       "    <tr>\n",
       "      <th>1</th>\n",
       "      <td>0.692308</td>\n",
       "      <td>0.143552</td>\n",
       "      <td>0.056075</td>\n",
       "      <td>0.363025</td>\n",
       "      <td>NaN</td>\n",
       "    </tr>\n",
       "    <tr>\n",
       "      <th>2</th>\n",
       "      <td>2.769231</td>\n",
       "      <td>1.046229</td>\n",
       "      <td>0.382033</td>\n",
       "      <td>0.621849</td>\n",
       "      <td>NaN</td>\n",
       "    </tr>\n",
       "    <tr>\n",
       "      <th>3</th>\n",
       "      <td>3.846154</td>\n",
       "      <td>3.968370</td>\n",
       "      <td>3.670227</td>\n",
       "      <td>4.875630</td>\n",
       "      <td>NaN</td>\n",
       "    </tr>\n",
       "    <tr>\n",
       "      <th>4</th>\n",
       "      <td>665.846154</td>\n",
       "      <td>846.216545</td>\n",
       "      <td>874.879840</td>\n",
       "      <td>726.144538</td>\n",
       "      <td>NaN</td>\n",
       "    </tr>\n",
       "    <tr>\n",
       "      <th>0</th>\n",
       "      <td>57.000000</td>\n",
       "      <td>712.000000</td>\n",
       "      <td>15775.000000</td>\n",
       "      <td>997.000000</td>\n",
       "      <td>0.000000</td>\n",
       "    </tr>\n",
       "    <tr>\n",
       "      <th>1</th>\n",
       "      <td>0.929825</td>\n",
       "      <td>0.370787</td>\n",
       "      <td>0.071696</td>\n",
       "      <td>0.214644</td>\n",
       "      <td>NaN</td>\n",
       "    </tr>\n",
       "    <tr>\n",
       "      <th>2</th>\n",
       "      <td>3.052632</td>\n",
       "      <td>1.466292</td>\n",
       "      <td>0.395182</td>\n",
       "      <td>0.533601</td>\n",
       "      <td>NaN</td>\n",
       "    </tr>\n",
       "    <tr>\n",
       "      <th>3</th>\n",
       "      <td>3.631579</td>\n",
       "      <td>3.870787</td>\n",
       "      <td>3.476260</td>\n",
       "      <td>4.025075</td>\n",
       "      <td>NaN</td>\n",
       "    </tr>\n",
       "    <tr>\n",
       "      <th>4</th>\n",
       "      <td>705.157895</td>\n",
       "      <td>708.471910</td>\n",
       "      <td>875.028146</td>\n",
       "      <td>795.833501</td>\n",
       "      <td>NaN</td>\n",
       "    </tr>\n",
       "  </tbody>\n",
       "</table>\n",
       "</div>"
      ],
      "text/plain": [
       "             0           1             2            3          4\n",
       "0     8.000000  133.000000  11906.000000  1235.000000  13.000000\n",
       "1     1.000000    0.308271      0.040988     0.083401   0.000000\n",
       "2     3.000000    1.586466      0.089115    -0.381377  -1.000000\n",
       "3     3.875000    4.443609      3.418109     4.165992   4.923077\n",
       "4  2215.875000  843.150376    884.454225   868.249393   0.000000\n",
       "0    19.000000  297.000000   2771.000000  1207.000000   6.000000\n",
       "1     1.000000    0.077441      0.239264     0.140845   0.000000\n",
       "2     3.000000    1.127946      0.915915     0.386081   0.000000\n",
       "3     3.578947    4.383838      4.068206     4.296603   4.000000\n",
       "4   988.578947  877.531987    834.661855   841.931234   0.000000\n",
       "0    20.000000  506.000000   7596.000000   880.000000   0.000000\n",
       "1     0.200000    0.322134      0.067272     0.248864        NaN\n",
       "2     3.100000    2.088933      0.230911     0.113636        NaN\n",
       "3     4.050000    4.164032      3.848078     5.055682        NaN\n",
       "4   857.150000  837.804348    874.092022   792.675000        NaN\n",
       "0    13.000000  411.000000   5243.000000   595.000000   0.000000\n",
       "1     0.692308    0.143552      0.056075     0.363025        NaN\n",
       "2     2.769231    1.046229      0.382033     0.621849        NaN\n",
       "3     3.846154    3.968370      3.670227     4.875630        NaN\n",
       "4   665.846154  846.216545    874.879840   726.144538        NaN\n",
       "0    57.000000  712.000000  15775.000000   997.000000   0.000000\n",
       "1     0.929825    0.370787      0.071696     0.214644        NaN\n",
       "2     3.052632    1.466292      0.395182     0.533601        NaN\n",
       "3     3.631579    3.870787      3.476260     4.025075        NaN\n",
       "4   705.157895  708.471910    875.028146   795.833501        NaN"
      ]
     },
     "execution_count": 180,
     "metadata": {},
     "output_type": "execute_result"
    }
   ],
   "source": [
    "pd.concat([Ask3_13_1,Ask3_13_2,Ask3_13_3,Ask3_13_4,Ask3_13_5])"
   ]
  },
  {
   "cell_type": "code",
   "execution_count": 181,
   "metadata": {
    "collapsed": true
   },
   "outputs": [],
   "source": [
    "pd.concat([Ask3_13_1,Ask3_13_2,Ask3_13_3,Ask3_13_4,Ask3_13_5]).to_csv('ask3_13_218_227.csv')"
   ]
  },
  {
   "cell_type": "code",
   "execution_count": null,
   "metadata": {
    "collapsed": true
   },
   "outputs": [],
   "source": []
  },
  {
   "cell_type": "code",
   "execution_count": 182,
   "metadata": {
    "collapsed": false
   },
   "outputs": [],
   "source": [
    "a = 0\n",
    "Ask1_16_1 = pd.DataFrame([SUM_Ask1_16[a],SUM_Ask1_16[a+1]/SUM_Ask1_16[a],SUM_Ask1_16[a+2]/SUM_Ask1_16[a],SUM_Ask1_16[a+3]/SUM_Ask1_16[a],SUM_Ask1_16[a+4]/SUM_Ask1_16[a]])"
   ]
  },
  {
   "cell_type": "code",
   "execution_count": 183,
   "metadata": {
    "collapsed": false
   },
   "outputs": [],
   "source": [
    "a = 5\n",
    "Ask1_16_2 = pd.DataFrame([SUM_Ask1_16[a],SUM_Ask1_16[a+1]/SUM_Ask1_16[a],SUM_Ask1_16[a+2]/SUM_Ask1_16[a],SUM_Ask1_16[a+3]/SUM_Ask1_16[a],SUM_Ask1_16[a+4]/SUM_Ask1_16[a]])"
   ]
  },
  {
   "cell_type": "code",
   "execution_count": 184,
   "metadata": {
    "collapsed": false
   },
   "outputs": [],
   "source": [
    "a = 10\n",
    "Ask1_16_3 = pd.DataFrame([SUM_Ask1_16[a],SUM_Ask1_16[a+1]/SUM_Ask1_16[a],SUM_Ask1_16[a+2]/SUM_Ask1_16[a],SUM_Ask1_16[a+3]/SUM_Ask1_16[a],SUM_Ask1_16[a+4]/SUM_Ask1_16[a]])"
   ]
  },
  {
   "cell_type": "code",
   "execution_count": 185,
   "metadata": {
    "collapsed": false
   },
   "outputs": [],
   "source": [
    "a = 15\n",
    "Ask1_16_4 = pd.DataFrame([SUM_Ask1_16[a],SUM_Ask1_16[a+1]/SUM_Ask1_16[a],SUM_Ask1_16[a+2]/SUM_Ask1_16[a],SUM_Ask1_16[a+3]/SUM_Ask1_16[a],SUM_Ask1_16[a+4]/SUM_Ask1_16[a]])"
   ]
  },
  {
   "cell_type": "code",
   "execution_count": 186,
   "metadata": {
    "collapsed": false
   },
   "outputs": [],
   "source": [
    "a = 20\n",
    "Ask1_16_5 = pd.DataFrame([SUM_Ask1_16[a],SUM_Ask1_16[a+1]/SUM_Ask1_16[a],SUM_Ask1_16[a+2]/SUM_Ask1_16[a],SUM_Ask1_16[a+3]/SUM_Ask1_16[a],SUM_Ask1_16[a+4]/SUM_Ask1_16[a]])"
   ]
  },
  {
   "cell_type": "code",
   "execution_count": 187,
   "metadata": {
    "collapsed": false,
    "scrolled": true
   },
   "outputs": [
    {
     "data": {
      "text/html": [
       "<div>\n",
       "<table border=\"1\" class=\"dataframe\">\n",
       "  <thead>\n",
       "    <tr style=\"text-align: right;\">\n",
       "      <th></th>\n",
       "      <th>0</th>\n",
       "      <th>1</th>\n",
       "      <th>2</th>\n",
       "      <th>3</th>\n",
       "      <th>4</th>\n",
       "    </tr>\n",
       "  </thead>\n",
       "  <tbody>\n",
       "    <tr>\n",
       "      <th>0</th>\n",
       "      <td>47.000000</td>\n",
       "      <td>1458.000000</td>\n",
       "      <td>7747.000000</td>\n",
       "      <td>1522.000000</td>\n",
       "      <td>389.000000</td>\n",
       "    </tr>\n",
       "    <tr>\n",
       "      <th>1</th>\n",
       "      <td>1.000000</td>\n",
       "      <td>0.518519</td>\n",
       "      <td>0.220602</td>\n",
       "      <td>0.264126</td>\n",
       "      <td>0.411311</td>\n",
       "    </tr>\n",
       "    <tr>\n",
       "      <th>2</th>\n",
       "      <td>1.000000</td>\n",
       "      <td>-0.537037</td>\n",
       "      <td>-0.760475</td>\n",
       "      <td>-1.080815</td>\n",
       "      <td>-0.501285</td>\n",
       "    </tr>\n",
       "    <tr>\n",
       "      <th>3</th>\n",
       "      <td>2.489362</td>\n",
       "      <td>3.448560</td>\n",
       "      <td>3.131277</td>\n",
       "      <td>3.498686</td>\n",
       "      <td>2.925450</td>\n",
       "    </tr>\n",
       "    <tr>\n",
       "      <th>4</th>\n",
       "      <td>4756.893617</td>\n",
       "      <td>622.137860</td>\n",
       "      <td>735.104040</td>\n",
       "      <td>732.124836</td>\n",
       "      <td>40.776350</td>\n",
       "    </tr>\n",
       "    <tr>\n",
       "      <th>0</th>\n",
       "      <td>67.000000</td>\n",
       "      <td>2108.000000</td>\n",
       "      <td>11021.000000</td>\n",
       "      <td>1571.000000</td>\n",
       "      <td>373.000000</td>\n",
       "    </tr>\n",
       "    <tr>\n",
       "      <th>1</th>\n",
       "      <td>1.000000</td>\n",
       "      <td>0.476281</td>\n",
       "      <td>0.245622</td>\n",
       "      <td>0.356461</td>\n",
       "      <td>0.672922</td>\n",
       "    </tr>\n",
       "    <tr>\n",
       "      <th>2</th>\n",
       "      <td>1.343284</td>\n",
       "      <td>-0.595351</td>\n",
       "      <td>-0.417821</td>\n",
       "      <td>-0.478039</td>\n",
       "      <td>-0.117962</td>\n",
       "    </tr>\n",
       "    <tr>\n",
       "      <th>3</th>\n",
       "      <td>3.194030</td>\n",
       "      <td>3.472011</td>\n",
       "      <td>2.746393</td>\n",
       "      <td>2.955442</td>\n",
       "      <td>2.638070</td>\n",
       "    </tr>\n",
       "    <tr>\n",
       "      <th>4</th>\n",
       "      <td>2027.671642</td>\n",
       "      <td>654.778937</td>\n",
       "      <td>740.958806</td>\n",
       "      <td>708.577976</td>\n",
       "      <td>81.954424</td>\n",
       "    </tr>\n",
       "    <tr>\n",
       "      <th>0</th>\n",
       "      <td>93.000000</td>\n",
       "      <td>3027.000000</td>\n",
       "      <td>12811.000000</td>\n",
       "      <td>1489.000000</td>\n",
       "      <td>286.000000</td>\n",
       "    </tr>\n",
       "    <tr>\n",
       "      <th>1</th>\n",
       "      <td>1.000000</td>\n",
       "      <td>0.465147</td>\n",
       "      <td>0.219421</td>\n",
       "      <td>0.343183</td>\n",
       "      <td>0.716783</td>\n",
       "    </tr>\n",
       "    <tr>\n",
       "      <th>2</th>\n",
       "      <td>1.118280</td>\n",
       "      <td>-0.439049</td>\n",
       "      <td>-0.427164</td>\n",
       "      <td>-0.658160</td>\n",
       "      <td>0.031469</td>\n",
       "    </tr>\n",
       "    <tr>\n",
       "      <th>3</th>\n",
       "      <td>3.838710</td>\n",
       "      <td>3.298646</td>\n",
       "      <td>2.470689</td>\n",
       "      <td>2.920081</td>\n",
       "      <td>2.615385</td>\n",
       "    </tr>\n",
       "    <tr>\n",
       "      <th>4</th>\n",
       "      <td>1053.494624</td>\n",
       "      <td>647.167493</td>\n",
       "      <td>768.458278</td>\n",
       "      <td>740.958361</td>\n",
       "      <td>75.181818</td>\n",
       "    </tr>\n",
       "    <tr>\n",
       "      <th>0</th>\n",
       "      <td>179.000000</td>\n",
       "      <td>2725.000000</td>\n",
       "      <td>9329.000000</td>\n",
       "      <td>1376.000000</td>\n",
       "      <td>228.000000</td>\n",
       "    </tr>\n",
       "    <tr>\n",
       "      <th>1</th>\n",
       "      <td>0.899441</td>\n",
       "      <td>0.468257</td>\n",
       "      <td>0.308393</td>\n",
       "      <td>0.440407</td>\n",
       "      <td>0.539474</td>\n",
       "    </tr>\n",
       "    <tr>\n",
       "      <th>2</th>\n",
       "      <td>0.910615</td>\n",
       "      <td>-0.376514</td>\n",
       "      <td>0.055440</td>\n",
       "      <td>-0.354651</td>\n",
       "      <td>-0.526316</td>\n",
       "    </tr>\n",
       "    <tr>\n",
       "      <th>3</th>\n",
       "      <td>3.480447</td>\n",
       "      <td>2.921101</td>\n",
       "      <td>2.213956</td>\n",
       "      <td>2.874273</td>\n",
       "      <td>3.355263</td>\n",
       "    </tr>\n",
       "    <tr>\n",
       "      <th>4</th>\n",
       "      <td>853.737430</td>\n",
       "      <td>655.196330</td>\n",
       "      <td>694.406689</td>\n",
       "      <td>705.589390</td>\n",
       "      <td>48.912281</td>\n",
       "    </tr>\n",
       "    <tr>\n",
       "      <th>0</th>\n",
       "      <td>325.000000</td>\n",
       "      <td>3696.000000</td>\n",
       "      <td>11338.000000</td>\n",
       "      <td>1931.000000</td>\n",
       "      <td>464.000000</td>\n",
       "    </tr>\n",
       "    <tr>\n",
       "      <th>1</th>\n",
       "      <td>0.901538</td>\n",
       "      <td>0.525162</td>\n",
       "      <td>0.451226</td>\n",
       "      <td>0.524599</td>\n",
       "      <td>0.454741</td>\n",
       "    </tr>\n",
       "    <tr>\n",
       "      <th>2</th>\n",
       "      <td>0.744615</td>\n",
       "      <td>-0.521645</td>\n",
       "      <td>0.255019</td>\n",
       "      <td>0.127395</td>\n",
       "      <td>-0.530172</td>\n",
       "    </tr>\n",
       "    <tr>\n",
       "      <th>3</th>\n",
       "      <td>2.470769</td>\n",
       "      <td>3.159091</td>\n",
       "      <td>2.115982</td>\n",
       "      <td>2.125324</td>\n",
       "      <td>3.448276</td>\n",
       "    </tr>\n",
       "    <tr>\n",
       "      <th>4</th>\n",
       "      <td>970.276923</td>\n",
       "      <td>547.928842</td>\n",
       "      <td>584.363468</td>\n",
       "      <td>534.391507</td>\n",
       "      <td>51.269397</td>\n",
       "    </tr>\n",
       "  </tbody>\n",
       "</table>\n",
       "</div>"
      ],
      "text/plain": [
       "             0            1             2            3           4\n",
       "0    47.000000  1458.000000   7747.000000  1522.000000  389.000000\n",
       "1     1.000000     0.518519      0.220602     0.264126    0.411311\n",
       "2     1.000000    -0.537037     -0.760475    -1.080815   -0.501285\n",
       "3     2.489362     3.448560      3.131277     3.498686    2.925450\n",
       "4  4756.893617   622.137860    735.104040   732.124836   40.776350\n",
       "0    67.000000  2108.000000  11021.000000  1571.000000  373.000000\n",
       "1     1.000000     0.476281      0.245622     0.356461    0.672922\n",
       "2     1.343284    -0.595351     -0.417821    -0.478039   -0.117962\n",
       "3     3.194030     3.472011      2.746393     2.955442    2.638070\n",
       "4  2027.671642   654.778937    740.958806   708.577976   81.954424\n",
       "0    93.000000  3027.000000  12811.000000  1489.000000  286.000000\n",
       "1     1.000000     0.465147      0.219421     0.343183    0.716783\n",
       "2     1.118280    -0.439049     -0.427164    -0.658160    0.031469\n",
       "3     3.838710     3.298646      2.470689     2.920081    2.615385\n",
       "4  1053.494624   647.167493    768.458278   740.958361   75.181818\n",
       "0   179.000000  2725.000000   9329.000000  1376.000000  228.000000\n",
       "1     0.899441     0.468257      0.308393     0.440407    0.539474\n",
       "2     0.910615    -0.376514      0.055440    -0.354651   -0.526316\n",
       "3     3.480447     2.921101      2.213956     2.874273    3.355263\n",
       "4   853.737430   655.196330    694.406689   705.589390   48.912281\n",
       "0   325.000000  3696.000000  11338.000000  1931.000000  464.000000\n",
       "1     0.901538     0.525162      0.451226     0.524599    0.454741\n",
       "2     0.744615    -0.521645      0.255019     0.127395   -0.530172\n",
       "3     2.470769     3.159091      2.115982     2.125324    3.448276\n",
       "4   970.276923   547.928842    584.363468   534.391507   51.269397"
      ]
     },
     "execution_count": 187,
     "metadata": {},
     "output_type": "execute_result"
    }
   ],
   "source": [
    "pd.concat([Ask1_16_1,Ask1_16_2,Ask1_16_3,Ask1_16_4,Ask1_16_5])"
   ]
  },
  {
   "cell_type": "code",
   "execution_count": 188,
   "metadata": {
    "collapsed": true
   },
   "outputs": [],
   "source": [
    "pd.concat([Ask1_16_1,Ask1_16_2,Ask1_16_3,Ask1_16_4,Ask1_16_5]).to_csv('ask1_16_218_227.csv')"
   ]
  },
  {
   "cell_type": "code",
   "execution_count": null,
   "metadata": {
    "collapsed": true
   },
   "outputs": [],
   "source": []
  },
  {
   "cell_type": "code",
   "execution_count": null,
   "metadata": {
    "collapsed": true
   },
   "outputs": [],
   "source": []
  },
  {
   "cell_type": "code",
   "execution_count": null,
   "metadata": {
    "collapsed": true
   },
   "outputs": [],
   "source": []
  },
  {
   "cell_type": "code",
   "execution_count": null,
   "metadata": {
    "collapsed": true
   },
   "outputs": [],
   "source": []
  },
  {
   "cell_type": "code",
   "execution_count": null,
   "metadata": {
    "collapsed": true
   },
   "outputs": [],
   "source": []
  },
  {
   "cell_type": "code",
   "execution_count": null,
   "metadata": {
    "collapsed": true
   },
   "outputs": [],
   "source": []
  },
  {
   "cell_type": "code",
   "execution_count": 189,
   "metadata": {
    "collapsed": false
   },
   "outputs": [],
   "source": [
    "a = 0\n",
    "Ask2_16_1 = pd.DataFrame([SUM_Ask2_16[a],SUM_Ask2_16[a+1]/SUM_Ask2_16[a],SUM_Ask2_16[a+2]/SUM_Ask2_16[a],SUM_Ask2_16[a+3]/SUM_Ask2_16[a],SUM_Ask2_16[a+4]/SUM_Ask2_16[a]])"
   ]
  },
  {
   "cell_type": "code",
   "execution_count": 190,
   "metadata": {
    "collapsed": false
   },
   "outputs": [],
   "source": [
    "a = 5\n",
    "Ask2_16_2 = pd.DataFrame([SUM_Ask2_16[a],SUM_Ask2_16[a+1]/SUM_Ask2_16[a],SUM_Ask2_16[a+2]/SUM_Ask2_16[a],SUM_Ask2_16[a+3]/SUM_Ask2_16[a],SUM_Ask2_16[a+4]/SUM_Ask2_16[a]])"
   ]
  },
  {
   "cell_type": "code",
   "execution_count": 191,
   "metadata": {
    "collapsed": false
   },
   "outputs": [],
   "source": [
    "a = 10\n",
    "Ask2_16_3 = pd.DataFrame([SUM_Ask2_16[a],SUM_Ask2_16[a+1]/SUM_Ask2_16[a],SUM_Ask2_16[a+2]/SUM_Ask2_16[a],SUM_Ask2_16[a+3]/SUM_Ask2_16[a],SUM_Ask2_16[a+4]/SUM_Ask2_16[a]])"
   ]
  },
  {
   "cell_type": "code",
   "execution_count": 192,
   "metadata": {
    "collapsed": false
   },
   "outputs": [],
   "source": [
    "a = 15\n",
    "Ask2_16_4 = pd.DataFrame([SUM_Ask2_16[a],SUM_Ask2_16[a+1]/SUM_Ask2_16[a],SUM_Ask2_16[a+2]/SUM_Ask2_16[a],SUM_Ask2_16[a+3]/SUM_Ask2_16[a],SUM_Ask2_16[a+4]/SUM_Ask2_16[a]])"
   ]
  },
  {
   "cell_type": "code",
   "execution_count": 193,
   "metadata": {
    "collapsed": false
   },
   "outputs": [],
   "source": [
    "a = 20\n",
    "Ask2_16_5 = pd.DataFrame([SUM_Ask2_16[a],SUM_Ask2_16[a+1]/SUM_Ask2_16[a],SUM_Ask2_16[a+2]/SUM_Ask2_16[a],SUM_Ask2_16[a+3]/SUM_Ask2_16[a],SUM_Ask2_16[a+4]/SUM_Ask2_16[a]])"
   ]
  },
  {
   "cell_type": "code",
   "execution_count": 194,
   "metadata": {
    "collapsed": false,
    "scrolled": true
   },
   "outputs": [
    {
     "data": {
      "text/html": [
       "<div>\n",
       "<table border=\"1\" class=\"dataframe\">\n",
       "  <thead>\n",
       "    <tr style=\"text-align: right;\">\n",
       "      <th></th>\n",
       "      <th>0</th>\n",
       "      <th>1</th>\n",
       "      <th>2</th>\n",
       "      <th>3</th>\n",
       "      <th>4</th>\n",
       "    </tr>\n",
       "  </thead>\n",
       "  <tbody>\n",
       "    <tr>\n",
       "      <th>0</th>\n",
       "      <td>47.000000</td>\n",
       "      <td>1458.000000</td>\n",
       "      <td>7747.000000</td>\n",
       "      <td>1522.000000</td>\n",
       "      <td>389.000000</td>\n",
       "    </tr>\n",
       "    <tr>\n",
       "      <th>1</th>\n",
       "      <td>0.978723</td>\n",
       "      <td>0.204390</td>\n",
       "      <td>0.088034</td>\n",
       "      <td>0.107096</td>\n",
       "      <td>0.377892</td>\n",
       "    </tr>\n",
       "    <tr>\n",
       "      <th>2</th>\n",
       "      <td>1.978723</td>\n",
       "      <td>-0.617284</td>\n",
       "      <td>-0.726036</td>\n",
       "      <td>-0.971748</td>\n",
       "      <td>-0.182519</td>\n",
       "    </tr>\n",
       "    <tr>\n",
       "      <th>3</th>\n",
       "      <td>3.702128</td>\n",
       "      <td>4.575446</td>\n",
       "      <td>4.185104</td>\n",
       "      <td>4.572930</td>\n",
       "      <td>3.925450</td>\n",
       "    </tr>\n",
       "    <tr>\n",
       "      <th>4</th>\n",
       "      <td>5042.638298</td>\n",
       "      <td>786.087791</td>\n",
       "      <td>805.186266</td>\n",
       "      <td>809.626150</td>\n",
       "      <td>59.850900</td>\n",
       "    </tr>\n",
       "    <tr>\n",
       "      <th>0</th>\n",
       "      <td>67.000000</td>\n",
       "      <td>2108.000000</td>\n",
       "      <td>11021.000000</td>\n",
       "      <td>1571.000000</td>\n",
       "      <td>373.000000</td>\n",
       "    </tr>\n",
       "    <tr>\n",
       "      <th>1</th>\n",
       "      <td>0.820896</td>\n",
       "      <td>0.173624</td>\n",
       "      <td>0.086018</td>\n",
       "      <td>0.181413</td>\n",
       "      <td>0.619303</td>\n",
       "    </tr>\n",
       "    <tr>\n",
       "      <th>2</th>\n",
       "      <td>1.955224</td>\n",
       "      <td>-0.852941</td>\n",
       "      <td>-0.342056</td>\n",
       "      <td>-0.341820</td>\n",
       "      <td>0.404826</td>\n",
       "    </tr>\n",
       "    <tr>\n",
       "      <th>3</th>\n",
       "      <td>4.388060</td>\n",
       "      <td>4.646110</td>\n",
       "      <td>3.815806</td>\n",
       "      <td>3.986633</td>\n",
       "      <td>3.707775</td>\n",
       "    </tr>\n",
       "    <tr>\n",
       "      <th>4</th>\n",
       "      <td>2419.477612</td>\n",
       "      <td>819.643264</td>\n",
       "      <td>811.013701</td>\n",
       "      <td>785.201146</td>\n",
       "      <td>98.069705</td>\n",
       "    </tr>\n",
       "    <tr>\n",
       "      <th>0</th>\n",
       "      <td>93.000000</td>\n",
       "      <td>3027.000000</td>\n",
       "      <td>12811.000000</td>\n",
       "      <td>1489.000000</td>\n",
       "      <td>286.000000</td>\n",
       "    </tr>\n",
       "    <tr>\n",
       "      <th>1</th>\n",
       "      <td>0.892473</td>\n",
       "      <td>0.245127</td>\n",
       "      <td>0.077668</td>\n",
       "      <td>0.114842</td>\n",
       "      <td>0.674825</td>\n",
       "    </tr>\n",
       "    <tr>\n",
       "      <th>2</th>\n",
       "      <td>1.989247</td>\n",
       "      <td>-0.434093</td>\n",
       "      <td>-0.436219</td>\n",
       "      <td>-0.583613</td>\n",
       "      <td>0.636364</td>\n",
       "    </tr>\n",
       "    <tr>\n",
       "      <th>3</th>\n",
       "      <td>5.161290</td>\n",
       "      <td>4.478031</td>\n",
       "      <td>3.593084</td>\n",
       "      <td>4.042982</td>\n",
       "      <td>3.678322</td>\n",
       "    </tr>\n",
       "    <tr>\n",
       "      <th>4</th>\n",
       "      <td>1267.569892</td>\n",
       "      <td>803.657747</td>\n",
       "      <td>841.945828</td>\n",
       "      <td>837.003358</td>\n",
       "      <td>105.486014</td>\n",
       "    </tr>\n",
       "    <tr>\n",
       "      <th>0</th>\n",
       "      <td>179.000000</td>\n",
       "      <td>2725.000000</td>\n",
       "      <td>9329.000000</td>\n",
       "      <td>1376.000000</td>\n",
       "      <td>228.000000</td>\n",
       "    </tr>\n",
       "    <tr>\n",
       "      <th>1</th>\n",
       "      <td>0.759777</td>\n",
       "      <td>0.264220</td>\n",
       "      <td>0.142781</td>\n",
       "      <td>0.159157</td>\n",
       "      <td>0.364035</td>\n",
       "    </tr>\n",
       "    <tr>\n",
       "      <th>2</th>\n",
       "      <td>1.407821</td>\n",
       "      <td>-0.287339</td>\n",
       "      <td>0.141623</td>\n",
       "      <td>-0.181686</td>\n",
       "      <td>-0.434211</td>\n",
       "    </tr>\n",
       "    <tr>\n",
       "      <th>3</th>\n",
       "      <td>4.983240</td>\n",
       "      <td>4.062385</td>\n",
       "      <td>3.324150</td>\n",
       "      <td>3.957122</td>\n",
       "      <td>4.824561</td>\n",
       "    </tr>\n",
       "    <tr>\n",
       "      <th>4</th>\n",
       "      <td>1186.435754</td>\n",
       "      <td>803.881835</td>\n",
       "      <td>784.838782</td>\n",
       "      <td>808.895349</td>\n",
       "      <td>50.855263</td>\n",
       "    </tr>\n",
       "    <tr>\n",
       "      <th>0</th>\n",
       "      <td>325.000000</td>\n",
       "      <td>3696.000000</td>\n",
       "      <td>11338.000000</td>\n",
       "      <td>1931.000000</td>\n",
       "      <td>464.000000</td>\n",
       "    </tr>\n",
       "    <tr>\n",
       "      <th>1</th>\n",
       "      <td>0.643077</td>\n",
       "      <td>0.255141</td>\n",
       "      <td>0.242900</td>\n",
       "      <td>0.310202</td>\n",
       "      <td>0.202586</td>\n",
       "    </tr>\n",
       "    <tr>\n",
       "      <th>2</th>\n",
       "      <td>1.046154</td>\n",
       "      <td>-0.692100</td>\n",
       "      <td>0.409561</td>\n",
       "      <td>0.448472</td>\n",
       "      <td>-0.887931</td>\n",
       "    </tr>\n",
       "    <tr>\n",
       "      <th>3</th>\n",
       "      <td>4.040000</td>\n",
       "      <td>4.550054</td>\n",
       "      <td>3.267155</td>\n",
       "      <td>3.186950</td>\n",
       "      <td>5.232759</td>\n",
       "    </tr>\n",
       "    <tr>\n",
       "      <th>4</th>\n",
       "      <td>1511.329231</td>\n",
       "      <td>759.964286</td>\n",
       "      <td>724.660346</td>\n",
       "      <td>698.358881</td>\n",
       "      <td>32.299569</td>\n",
       "    </tr>\n",
       "  </tbody>\n",
       "</table>\n",
       "</div>"
      ],
      "text/plain": [
       "             0            1             2            3           4\n",
       "0    47.000000  1458.000000   7747.000000  1522.000000  389.000000\n",
       "1     0.978723     0.204390      0.088034     0.107096    0.377892\n",
       "2     1.978723    -0.617284     -0.726036    -0.971748   -0.182519\n",
       "3     3.702128     4.575446      4.185104     4.572930    3.925450\n",
       "4  5042.638298   786.087791    805.186266   809.626150   59.850900\n",
       "0    67.000000  2108.000000  11021.000000  1571.000000  373.000000\n",
       "1     0.820896     0.173624      0.086018     0.181413    0.619303\n",
       "2     1.955224    -0.852941     -0.342056    -0.341820    0.404826\n",
       "3     4.388060     4.646110      3.815806     3.986633    3.707775\n",
       "4  2419.477612   819.643264    811.013701   785.201146   98.069705\n",
       "0    93.000000  3027.000000  12811.000000  1489.000000  286.000000\n",
       "1     0.892473     0.245127      0.077668     0.114842    0.674825\n",
       "2     1.989247    -0.434093     -0.436219    -0.583613    0.636364\n",
       "3     5.161290     4.478031      3.593084     4.042982    3.678322\n",
       "4  1267.569892   803.657747    841.945828   837.003358  105.486014\n",
       "0   179.000000  2725.000000   9329.000000  1376.000000  228.000000\n",
       "1     0.759777     0.264220      0.142781     0.159157    0.364035\n",
       "2     1.407821    -0.287339      0.141623    -0.181686   -0.434211\n",
       "3     4.983240     4.062385      3.324150     3.957122    4.824561\n",
       "4  1186.435754   803.881835    784.838782   808.895349   50.855263\n",
       "0   325.000000  3696.000000  11338.000000  1931.000000  464.000000\n",
       "1     0.643077     0.255141      0.242900     0.310202    0.202586\n",
       "2     1.046154    -0.692100      0.409561     0.448472   -0.887931\n",
       "3     4.040000     4.550054      3.267155     3.186950    5.232759\n",
       "4  1511.329231   759.964286    724.660346   698.358881   32.299569"
      ]
     },
     "execution_count": 194,
     "metadata": {},
     "output_type": "execute_result"
    }
   ],
   "source": [
    "pd.concat([Ask2_16_1,Ask2_16_2,Ask2_16_3,Ask2_16_4,Ask2_16_5])"
   ]
  },
  {
   "cell_type": "code",
   "execution_count": 195,
   "metadata": {
    "collapsed": true
   },
   "outputs": [],
   "source": [
    "pd.concat([Ask2_16_1,Ask2_16_2,Ask2_16_3,Ask2_16_4,Ask2_16_5]).to_csv('ask2_16_218_227.csv')"
   ]
  },
  {
   "cell_type": "code",
   "execution_count": null,
   "metadata": {
    "collapsed": true
   },
   "outputs": [],
   "source": []
  },
  {
   "cell_type": "code",
   "execution_count": 196,
   "metadata": {
    "collapsed": false
   },
   "outputs": [],
   "source": [
    "a = 0\n",
    "Ask3_16_1 = pd.DataFrame([SUM_Ask3_16[a],SUM_Ask3_16[a+1]/SUM_Ask3_16[a],SUM_Ask3_16[a+2]/SUM_Ask3_16[a],SUM_Ask3_16[a+3]/SUM_Ask3_16[a],SUM_Ask3_16[a+4]/SUM_Ask3_16[a]])"
   ]
  },
  {
   "cell_type": "code",
   "execution_count": 197,
   "metadata": {
    "collapsed": false
   },
   "outputs": [],
   "source": [
    "a = 5\n",
    "Ask3_16_2 = pd.DataFrame([SUM_Ask3_16[a],SUM_Ask3_16[a+1]/SUM_Ask3_16[a],SUM_Ask3_16[a+2]/SUM_Ask3_16[a],SUM_Ask3_16[a+3]/SUM_Ask3_16[a],SUM_Ask3_16[a+4]/SUM_Ask3_16[a]])"
   ]
  },
  {
   "cell_type": "code",
   "execution_count": 198,
   "metadata": {
    "collapsed": false
   },
   "outputs": [],
   "source": [
    "a = 10\n",
    "Ask3_16_3 = pd.DataFrame([SUM_Ask3_16[a],SUM_Ask3_16[a+1]/SUM_Ask3_16[a],SUM_Ask3_16[a+2]/SUM_Ask3_16[a],SUM_Ask3_16[a+3]/SUM_Ask3_16[a],SUM_Ask3_16[a+4]/SUM_Ask3_16[a]])"
   ]
  },
  {
   "cell_type": "code",
   "execution_count": 199,
   "metadata": {
    "collapsed": false
   },
   "outputs": [],
   "source": [
    "a = 15\n",
    "Ask3_16_4 = pd.DataFrame([SUM_Ask3_16[a],SUM_Ask3_16[a+1]/SUM_Ask3_16[a],SUM_Ask3_16[a+2]/SUM_Ask3_16[a],SUM_Ask3_16[a+3]/SUM_Ask3_16[a],SUM_Ask3_16[a+4]/SUM_Ask3_16[a]])"
   ]
  },
  {
   "cell_type": "code",
   "execution_count": 200,
   "metadata": {
    "collapsed": false
   },
   "outputs": [],
   "source": [
    "a = 20\n",
    "Ask3_16_5 = pd.DataFrame([SUM_Ask3_16[a],SUM_Ask3_16[a+1]/SUM_Ask3_16[a],SUM_Ask3_16[a+2]/SUM_Ask3_16[a],SUM_Ask3_16[a+3]/SUM_Ask3_16[a],SUM_Ask3_16[a+4]/SUM_Ask3_16[a]])"
   ]
  },
  {
   "cell_type": "code",
   "execution_count": 201,
   "metadata": {
    "collapsed": false,
    "scrolled": true
   },
   "outputs": [
    {
     "data": {
      "text/html": [
       "<div>\n",
       "<table border=\"1\" class=\"dataframe\">\n",
       "  <thead>\n",
       "    <tr style=\"text-align: right;\">\n",
       "      <th></th>\n",
       "      <th>0</th>\n",
       "      <th>1</th>\n",
       "      <th>2</th>\n",
       "      <th>3</th>\n",
       "      <th>4</th>\n",
       "    </tr>\n",
       "  </thead>\n",
       "  <tbody>\n",
       "    <tr>\n",
       "      <th>0</th>\n",
       "      <td>47.000000</td>\n",
       "      <td>1458.000000</td>\n",
       "      <td>7747.000000</td>\n",
       "      <td>1522.000000</td>\n",
       "      <td>389.000000</td>\n",
       "    </tr>\n",
       "    <tr>\n",
       "      <th>1</th>\n",
       "      <td>0.957447</td>\n",
       "      <td>0.061043</td>\n",
       "      <td>0.057571</td>\n",
       "      <td>0.047306</td>\n",
       "      <td>0.352185</td>\n",
       "    </tr>\n",
       "    <tr>\n",
       "      <th>2</th>\n",
       "      <td>2.893617</td>\n",
       "      <td>-0.909465</td>\n",
       "      <td>-0.711966</td>\n",
       "      <td>-0.944152</td>\n",
       "      <td>0.141388</td>\n",
       "    </tr>\n",
       "    <tr>\n",
       "      <th>3</th>\n",
       "      <td>4.702128</td>\n",
       "      <td>5.681756</td>\n",
       "      <td>5.195818</td>\n",
       "      <td>5.572930</td>\n",
       "      <td>4.935733</td>\n",
       "    </tr>\n",
       "    <tr>\n",
       "      <th>4</th>\n",
       "      <td>5352.553191</td>\n",
       "      <td>871.867627</td>\n",
       "      <td>819.854524</td>\n",
       "      <td>845.846912</td>\n",
       "      <td>78.953728</td>\n",
       "    </tr>\n",
       "    <tr>\n",
       "      <th>0</th>\n",
       "      <td>67.000000</td>\n",
       "      <td>2108.000000</td>\n",
       "      <td>11021.000000</td>\n",
       "      <td>1571.000000</td>\n",
       "      <td>373.000000</td>\n",
       "    </tr>\n",
       "    <tr>\n",
       "      <th>1</th>\n",
       "      <td>0.820896</td>\n",
       "      <td>0.031784</td>\n",
       "      <td>0.059886</td>\n",
       "      <td>0.110121</td>\n",
       "      <td>0.576408</td>\n",
       "    </tr>\n",
       "    <tr>\n",
       "      <th>2</th>\n",
       "      <td>2.776119</td>\n",
       "      <td>-1.128083</td>\n",
       "      <td>-0.301679</td>\n",
       "      <td>-0.254615</td>\n",
       "      <td>0.849866</td>\n",
       "    </tr>\n",
       "    <tr>\n",
       "      <th>3</th>\n",
       "      <td>5.388060</td>\n",
       "      <td>5.774668</td>\n",
       "      <td>4.817076</td>\n",
       "      <td>4.986633</td>\n",
       "      <td>4.823056</td>\n",
       "    </tr>\n",
       "    <tr>\n",
       "      <th>4</th>\n",
       "      <td>2704.074627</td>\n",
       "      <td>884.443548</td>\n",
       "      <td>827.498503</td>\n",
       "      <td>823.371101</td>\n",
       "      <td>119.458445</td>\n",
       "    </tr>\n",
       "    <tr>\n",
       "      <th>0</th>\n",
       "      <td>93.000000</td>\n",
       "      <td>3027.000000</td>\n",
       "      <td>12811.000000</td>\n",
       "      <td>1489.000000</td>\n",
       "      <td>286.000000</td>\n",
       "    </tr>\n",
       "    <tr>\n",
       "      <th>1</th>\n",
       "      <td>0.763441</td>\n",
       "      <td>0.086224</td>\n",
       "      <td>0.031145</td>\n",
       "      <td>0.067831</td>\n",
       "      <td>0.618881</td>\n",
       "    </tr>\n",
       "    <tr>\n",
       "      <th>2</th>\n",
       "      <td>2.580645</td>\n",
       "      <td>-0.534853</td>\n",
       "      <td>-0.431067</td>\n",
       "      <td>-0.515782</td>\n",
       "      <td>1.080420</td>\n",
       "    </tr>\n",
       "    <tr>\n",
       "      <th>3</th>\n",
       "      <td>6.204301</td>\n",
       "      <td>5.579121</td>\n",
       "      <td>4.594099</td>\n",
       "      <td>5.042982</td>\n",
       "      <td>4.860140</td>\n",
       "    </tr>\n",
       "    <tr>\n",
       "      <th>4</th>\n",
       "      <td>1576.634409</td>\n",
       "      <td>872.104724</td>\n",
       "      <td>861.451643</td>\n",
       "      <td>857.615178</td>\n",
       "      <td>121.741259</td>\n",
       "    </tr>\n",
       "    <tr>\n",
       "      <th>0</th>\n",
       "      <td>179.000000</td>\n",
       "      <td>2725.000000</td>\n",
       "      <td>9329.000000</td>\n",
       "      <td>1376.000000</td>\n",
       "      <td>228.000000</td>\n",
       "    </tr>\n",
       "    <tr>\n",
       "      <th>1</th>\n",
       "      <td>0.709497</td>\n",
       "      <td>0.126606</td>\n",
       "      <td>0.056276</td>\n",
       "      <td>0.058866</td>\n",
       "      <td>0.254386</td>\n",
       "    </tr>\n",
       "    <tr>\n",
       "      <th>2</th>\n",
       "      <td>2.094972</td>\n",
       "      <td>-0.294312</td>\n",
       "      <td>0.160596</td>\n",
       "      <td>-0.138081</td>\n",
       "      <td>-0.447368</td>\n",
       "    </tr>\n",
       "    <tr>\n",
       "      <th>3</th>\n",
       "      <td>5.983240</td>\n",
       "      <td>5.143486</td>\n",
       "      <td>4.328545</td>\n",
       "      <td>4.957122</td>\n",
       "      <td>6.105263</td>\n",
       "    </tr>\n",
       "    <tr>\n",
       "      <th>4</th>\n",
       "      <td>1407.726257</td>\n",
       "      <td>864.006239</td>\n",
       "      <td>824.665988</td>\n",
       "      <td>862.374273</td>\n",
       "      <td>48.017544</td>\n",
       "    </tr>\n",
       "    <tr>\n",
       "      <th>0</th>\n",
       "      <td>325.000000</td>\n",
       "      <td>3696.000000</td>\n",
       "      <td>11338.000000</td>\n",
       "      <td>1931.000000</td>\n",
       "      <td>464.000000</td>\n",
       "    </tr>\n",
       "    <tr>\n",
       "      <th>1</th>\n",
       "      <td>0.606154</td>\n",
       "      <td>0.138799</td>\n",
       "      <td>0.120127</td>\n",
       "      <td>0.247022</td>\n",
       "      <td>0.140086</td>\n",
       "    </tr>\n",
       "    <tr>\n",
       "      <th>2</th>\n",
       "      <td>1.618462</td>\n",
       "      <td>-0.738366</td>\n",
       "      <td>0.472535</td>\n",
       "      <td>0.640601</td>\n",
       "      <td>-0.879310</td>\n",
       "    </tr>\n",
       "    <tr>\n",
       "      <th>3</th>\n",
       "      <td>5.089231</td>\n",
       "      <td>5.606331</td>\n",
       "      <td>4.310372</td>\n",
       "      <td>4.186950</td>\n",
       "      <td>6.301724</td>\n",
       "    </tr>\n",
       "    <tr>\n",
       "      <th>4</th>\n",
       "      <td>1644.430769</td>\n",
       "      <td>839.359037</td>\n",
       "      <td>777.058300</td>\n",
       "      <td>762.396686</td>\n",
       "      <td>30.637931</td>\n",
       "    </tr>\n",
       "  </tbody>\n",
       "</table>\n",
       "</div>"
      ],
      "text/plain": [
       "             0            1             2            3           4\n",
       "0    47.000000  1458.000000   7747.000000  1522.000000  389.000000\n",
       "1     0.957447     0.061043      0.057571     0.047306    0.352185\n",
       "2     2.893617    -0.909465     -0.711966    -0.944152    0.141388\n",
       "3     4.702128     5.681756      5.195818     5.572930    4.935733\n",
       "4  5352.553191   871.867627    819.854524   845.846912   78.953728\n",
       "0    67.000000  2108.000000  11021.000000  1571.000000  373.000000\n",
       "1     0.820896     0.031784      0.059886     0.110121    0.576408\n",
       "2     2.776119    -1.128083     -0.301679    -0.254615    0.849866\n",
       "3     5.388060     5.774668      4.817076     4.986633    4.823056\n",
       "4  2704.074627   884.443548    827.498503   823.371101  119.458445\n",
       "0    93.000000  3027.000000  12811.000000  1489.000000  286.000000\n",
       "1     0.763441     0.086224      0.031145     0.067831    0.618881\n",
       "2     2.580645    -0.534853     -0.431067    -0.515782    1.080420\n",
       "3     6.204301     5.579121      4.594099     5.042982    4.860140\n",
       "4  1576.634409   872.104724    861.451643   857.615178  121.741259\n",
       "0   179.000000  2725.000000   9329.000000  1376.000000  228.000000\n",
       "1     0.709497     0.126606      0.056276     0.058866    0.254386\n",
       "2     2.094972    -0.294312      0.160596    -0.138081   -0.447368\n",
       "3     5.983240     5.143486      4.328545     4.957122    6.105263\n",
       "4  1407.726257   864.006239    824.665988   862.374273   48.017544\n",
       "0   325.000000  3696.000000  11338.000000  1931.000000  464.000000\n",
       "1     0.606154     0.138799      0.120127     0.247022    0.140086\n",
       "2     1.618462    -0.738366      0.472535     0.640601   -0.879310\n",
       "3     5.089231     5.606331      4.310372     4.186950    6.301724\n",
       "4  1644.430769   839.359037    777.058300   762.396686   30.637931"
      ]
     },
     "execution_count": 201,
     "metadata": {},
     "output_type": "execute_result"
    }
   ],
   "source": [
    "pd.concat([Ask3_16_1,Ask3_16_2,Ask3_16_3,Ask3_16_4,Ask3_16_5])"
   ]
  },
  {
   "cell_type": "code",
   "execution_count": 203,
   "metadata": {
    "collapsed": true
   },
   "outputs": [],
   "source": [
    "pd.concat([Ask3_16_1,Ask3_16_2,Ask3_16_3,Ask3_16_4,Ask3_16_5]).to_csv('ask3_16_218_227.csv')"
   ]
  },
  {
   "cell_type": "code",
   "execution_count": null,
   "metadata": {
    "collapsed": true
   },
   "outputs": [],
   "source": []
  },
  {
   "cell_type": "code",
   "execution_count": null,
   "metadata": {
    "collapsed": true
   },
   "outputs": [],
   "source": []
  },
  {
   "cell_type": "code",
   "execution_count": null,
   "metadata": {
    "collapsed": true
   },
   "outputs": [],
   "source": []
  },
  {
   "cell_type": "code",
   "execution_count": null,
   "metadata": {
    "collapsed": true
   },
   "outputs": [],
   "source": []
  }
 ],
 "metadata": {
  "kernelspec": {
   "display_name": "Python 2",
   "language": "python",
   "name": "python2"
  },
  "language_info": {
   "codemirror_mode": {
    "name": "ipython",
    "version": 2
   },
   "file_extension": ".py",
   "mimetype": "text/x-python",
   "name": "python",
   "nbconvert_exporter": "python",
   "pygments_lexer": "ipython2",
   "version": "2.7.11"
  }
 },
 "nbformat": 4,
 "nbformat_minor": 0
}
