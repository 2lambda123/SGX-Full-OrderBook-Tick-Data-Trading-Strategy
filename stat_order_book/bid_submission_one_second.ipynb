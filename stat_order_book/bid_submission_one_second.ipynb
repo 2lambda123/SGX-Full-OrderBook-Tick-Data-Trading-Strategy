{
 "cells": [
  {
   "cell_type": "code",
   "execution_count": 1,
   "metadata": {
    "collapsed": false
   },
   "outputs": [
    {
     "name": "stdout",
     "output_type": "stream",
     "text": [
      "Populating the interactive namespace from numpy and matplotlib\n"
     ]
    }
   ],
   "source": [
    "%pylab inline\n",
    "import numpy as np\n",
    "import pandas as pd\n",
    "import matplotlib.pyplot as plt"
   ]
  },
  {
   "cell_type": "code",
   "execution_count": 2,
   "metadata": {
    "collapsed": true
   },
   "outputs": [],
   "source": [
    "def order_book(month,day):\n",
    "    data1 = []\n",
    "    datapath = '/home/bigdatas16/SGX-OrderBook-Tick-Data-Trading-Strategy-/stat_order_book/CNF14_0'+str(month)+'_'+str(day)+'_order_book_final.csv'\n",
    "    data1 = pd.read_csv(datapath,sep='\\t',encoding = 'utf-8')\n",
    "    data_book = data1[['0','1','2','3']]\n",
    "    return data_book"
   ]
  },
  {
   "cell_type": "code",
   "execution_count": 3,
   "metadata": {
    "collapsed": true
   },
   "outputs": [],
   "source": [
    "def day_time(month,day):\n",
    "    data = []\n",
    "    datapath = '/home/bigdatas16/SGX-OrderBook-Tick-Data-Trading-Strategy-/CN_Futures_2014.0'+str(month)+'.'+str(day)+'.csv'\n",
    "    data = pd.read_csv(datapath)\n",
    "    data_CNF14 = data[data.Series == 'CNF14']\n",
    "    data = data_CNF14\n",
    "    market_open_time = data[data['TimeStamp'].str.contains('2014-0'+str(month)+'-'+str(day)+'D09:00')].index.tolist()[0] \n",
    "    market_close_time = data[data['TimeStamp'].str.contains('2014-0'+str(month)+'-'+str(day)+'D16:00')].index.tolist()[0] \n",
    "    data_open = data[market_open_time:market_close_time + 1]\n",
    "    timestamp_ = data_open.TimeStamp.unique()\n",
    "    return timestamp_"
   ]
  },
  {
   "cell_type": "code",
   "execution_count": 4,
   "metadata": {
    "collapsed": true
   },
   "outputs": [],
   "source": [
    "def time_transform(timestamp_time):\n",
    "    time_second = []\n",
    "    for i in range(0,len(timestamp_time),1):\n",
    "        second = float(timestamp_time[i][11])*36000 + float(timestamp_time[i][12])*3600 \\\n",
    "                +float(timestamp_time[i][14])*600 + float(timestamp_time[i][15])*60\\\n",
    "                +float(timestamp_time[i][17])*10 + float(timestamp_time[i][18])  \n",
    "        time_second.append(second - 32400.0)\n",
    "    return  time_second"
   ]
  },
  {
   "cell_type": "code",
   "execution_count": 5,
   "metadata": {
    "collapsed": true
   },
   "outputs": [],
   "source": [
    "def bid123_ask123_Q(data_book_28_open):\n",
    "    Bid1 = []\n",
    "    Bid2 = []\n",
    "    Bid3 = []\n",
    "    Bid1_Quantity = []\n",
    "    Bid2_Quantity = []\n",
    "    Bid3_Quantity = []\n",
    "    Ask1 = []\n",
    "    Ask2 = []\n",
    "    Ask3 = []\n",
    "    Ask1_Quantity = []\n",
    "    Ask2_Quantity = []\n",
    "    Ask3_Quantity = []\n",
    "\n",
    "    TimeStamp = []\n",
    "    for i in range(1,len(data_book_28_open),4):\n",
    "        #print data_book_28_open.iloc[i]['0']\n",
    "        #print data_book_28_open.iloc[i]['2']\n",
    "        Bid1.append(float(data_book_28_open.iloc[i]['0'])/100.0)\n",
    "        Bid1_Quantity.append(float(data_book_28_open.iloc[i]['1']))\n",
    "\n",
    "        Bid2.append(float(data_book_28_open.iloc[i + 1]['0'])/100.0)\n",
    "        Bid2_Quantity.append(float(data_book_28_open.iloc[i + 1]['1']))  \n",
    "\n",
    "        Bid3.append(float(data_book_28_open.iloc[i + 2]['0'])/100.0)\n",
    "        Bid3_Quantity.append(float(data_book_28_open.iloc[i + 2]['1']))  \n",
    "\n",
    "        Ask1.append(float(data_book_28_open.iloc[i]['2'])/100.0) \n",
    "        Ask1_Quantity.append(float(data_book_28_open.iloc[i]['3']))\n",
    "\n",
    "        Ask2.append(float(data_book_28_open.iloc[i + 1]['2'])/100.0) \n",
    "        Ask2_Quantity.append(float(data_book_28_open.iloc[i + 1]['3']))    \n",
    "\n",
    "        Ask3.append(float(data_book_28_open.iloc[i + 2]['2'])/100.0) \n",
    "        Ask3_Quantity.append(float(data_book_28_open.iloc[i + 2]['3']))    \n",
    "        TimeStamp.append(data_book_28_open.iloc[i-1][1])\n",
    "    return Bid1,Bid1_Quantity,Bid2,Bid2_Quantity,Bid3,Bid3_Quantity,Ask1,Ask1_Quantity,Ask2,Ask2_Quantity,Ask3,Ask3_Quantity,    "
   ]
  },
  {
   "cell_type": "code",
   "execution_count": 6,
   "metadata": {
    "collapsed": true
   },
   "outputs": [],
   "source": [
    "def rise_ask(Ask1,timestamp_time_second):\n",
    "    rise_ratio = []\n",
    "    index = np.where(np.array(timestamp_time_second) >= 600)[0][0]\n",
    "    for i in range(0,index):\n",
    "        rise_ratio_ = round((Ask1[i] - Ask1[0])*(1.0)/Ask1[0]*100,5)\n",
    "        rise_ratio.append(rise_ratio_)\n",
    "    for i in range(index,len(Ask1),1):\n",
    "        #print timestamp_time_second[:i]\n",
    "        #print timestamp_time_second[i] - 600\n",
    "        #print np.where(np.array(timestamp_time_second[:i]) >= timestamp_time_second[i] - 600)[0][0]\n",
    "        index_start = np.where(np.array(timestamp_time_second[:i]) >= timestamp_time_second[i] - 600)[0][0]\n",
    "        rise_ratio_ = round((Ask1[i] - Ask1[index_start])*(1.0)/Ask1[index_start]*100,5)\n",
    "        rise_ratio.append(rise_ratio_)\n",
    "    return rise_ratio\n"
   ]
  },
  {
   "cell_type": "code",
   "execution_count": 7,
   "metadata": {
    "collapsed": true
   },
   "outputs": [],
   "source": [
    "def rise_cal(i,rise_ratio_ask,timestamp_time_second,Bid,Ask,index,index_15_min,close_price,\\\n",
    "             N_1,N_2,N_3,N_4,N_5,N_1_T,N_2_T,N_3_T,N_4_T,N_5_T,\\\n",
    "             N_1_E,N_2_E,N_3_E,N_4_E,N_5_E,N_1_M,N_2_M,N_3_M,N_4_M,N_5_M,\\\n",
    "             N_1_TI,N_2_TI,N_3_TI,N_4_TI,N_5_TI):\n",
    "    \n",
    "    if rise_ratio_ask[index] <= -0.4:\n",
    "        N_1 = N_1 + 1\n",
    "        #print rise_ratio_ask[index]\n",
    "        if Bid[index] > min(Ask[(index+1):index + 1 + index_15_min + 1]):\n",
    "            N_1_T = N_1_T + 1\n",
    "            N_1_E = N_1_E + (Ask[index] - Bid[index])*(1.0)/(5.0)\n",
    "            #print N_1_E\n",
    "            first_min_index = np.where(np.array(Ask[(index+1):index + 1 + index_15_min + 1]) < Bid[index])[0][0]\n",
    "            N_1_M = N_1_M + (max(Ask[(index + 1):(index + 1 + first_min_index + 1)]) - Bid[index])*(1.0)/(5.0) \n",
    "            \n",
    "            time_start = timestamp_time_second[index]\n",
    "            time_traded = timestamp_time_second[index + first_min_index + 1]\n",
    "            N_1_TI = N_1_TI + (time_traded - time_start)\n",
    "            #print N_1_TI\n",
    "            pass\n",
    "\n",
    "        else:\n",
    "            if i < 25200 - 900:\n",
    "                N_1_E = N_1_E + (Ask[index] - Ask[index + index_15_min])*(1.0)/(5.0)\n",
    "                N_1_M = N_1_M + (max(Ask[(index + 1):(index + 1 + index_15_min + 1)]) - Bid[index])*(1.0)/(5.0) \n",
    "                #print N_1_M\n",
    "                N_1_TI = N_1_TI + (900.0)\n",
    "                #print N_1_TI\n",
    "            else:\n",
    "                N_1_E = N_1_E + (Ask[index] - close_price)*(1.0)/(5.0)\n",
    "                N_1_M = N_1_M + (max(Ask[(index+1):]) - Bid[index])*(1.0)/(5.0) \n",
    "                time_start = timestamp_time_second[index]\n",
    "                time_traded = timestamp_time_second[len(timestamp_time_second)-1]                \n",
    "                N_1_TI = N_1_TI + (time_traded - time_start)\n",
    "                #print N_1_TI\n",
    "            pass\n",
    "\n",
    "    elif -0.4 < rise_ratio_ask[index] <= -0.15:\n",
    "        N_2 = N_2 + 1\n",
    "        #print rise_ratio_ask[index]\n",
    "        if Bid[index] > min(Ask[(index+1):index + 1 + index_15_min + 1]):\n",
    "            #print 3\n",
    "            N_2_T = N_2_T + 1\n",
    "            N_2_E = N_2_E + (Ask[index] - Bid[index])*(1.0)/(5.0)\n",
    "            #print N_2_E\n",
    "            first_min_index = np.where(np.array(Ask[(index+1):index + 1 + index_15_min + 1]) < Bid[index])[0][0]\n",
    "            N_2_M = N_2_M + (max(Ask[(index + 1):(index + 1 + first_min_index + 1)]) - Bid[index])*(1.0)/(5.0) \n",
    "            \n",
    "            time_start = timestamp_time_second[index]\n",
    "            time_traded = timestamp_time_second[index + first_min_index + 1]\n",
    "            N_2_TI = N_2_TI + (time_traded - time_start)\n",
    "            #print N_2_TI\n",
    "            pass\n",
    "        else:\n",
    "            if i < 25200 - 900:\n",
    "                N_2_E = N_2_E + (Ask[index] - Ask[index + index_15_min])*(1.0)/(5.0)\n",
    "                N_2_M = N_2_M + (max(Ask[(index + 1):(index + 1 + index_15_min + 1)]) - Bid[index])*(1.0)/(5.0) \n",
    "                N_2_TI = N_2_TI + (900.0)\n",
    "                #print N_2_TI\n",
    "            else:\n",
    "                N_2_E = N_2_E + (Ask[index] - close_price)*(1.0)/(5.0)\n",
    "                N_2_M = N_3_M + (max(Ask[(index+1):]) - Bid[index])*(1.0)/(5.0)\n",
    "                time_start = timestamp_time_second[index]\n",
    "                time_traded = timestamp_time_second[len(timestamp_time_second)-1]                \n",
    "                N_2_TI = N_2_TI + (time_traded - time_start)\n",
    "                #print N_2_TI\n",
    "            pass\n",
    "\n",
    "    elif -0.15 < rise_ratio_ask[index] <= 0.15:\n",
    "        N_3 = N_3 + 1\n",
    "        #print rise_ratio_ask[index]\n",
    "        if Bid[index] > min(Ask[(index+1):index + 1 + index_15_min + 1]):\n",
    "            #print 5\n",
    "            N_3_T = N_3_T + 1\n",
    "            N_3_E = N_3_E + (Ask[index] - Bid[index])*(1.0)/(5.0)\n",
    "            #print N_3_E\n",
    "            first_min_index = np.where(np.array(Ask[(index+1):index + 1 + index_15_min + 1]) < Bid[index])[0][0]\n",
    "            N_3_M = N_3_M + (max(Ask[(index + 1):(index + 1 + first_min_index + 1)]) - Bid[index])*(1.0)/(5.0) \n",
    "            time_start = timestamp_time_second[index]\n",
    "            time_traded = timestamp_time_second[index + first_min_index + 1]\n",
    "            N_3_TI = N_3_TI + (time_traded - time_start)\n",
    "            #print N_3_TI\n",
    "            pass\n",
    "        else:\n",
    "            if i < 25200 - 900:\n",
    "                N_3_E = N_3_E + (Ask[index] - Ask[index + index_15_min])*(1.0)/(5.0)\n",
    "                N_3_M = N_3_M + (max(Ask[(index + 1):(index + 1 + index_15_min + 1)]) - Bid[index])*(1.0)/(5.0) \n",
    "                N_3_TI = N_3_TI + (900.0)\n",
    "                #print N_3_TI\n",
    "            else:\n",
    "                N_3_E = N_3_E + (Ask[index] - close_price)*(1.0)/(5.0)\n",
    "                N_3_M = N_3_M + (max(Ask[(index+1):]) - Bid[index])*(1.0)/(5.0)\n",
    "                time_start = timestamp_time_second[index]\n",
    "                time_traded = timestamp_time_second[len(timestamp_time_second)-1]                \n",
    "                N_3_TI = N_3_TI + (time_traded - time_start)\n",
    "                #print N_3_TI\n",
    "            pass\n",
    "\n",
    "    elif 0.15 < rise_ratio_ask[index] < 0.4:\n",
    "        N_4 = N_4 + 1\n",
    "        #print rise_ratio_ask[index]\n",
    "        if Bid[index] > min(Ask[(index+1):index + 1 + index_15_min + 1]):\n",
    "            #print 7\n",
    "            N_4_T = N_4_T + 1\n",
    "            N_4_E = N_4_E + (Ask[index] - Bid[index])*(1.0)/(5.0)\n",
    "            #print N_4_E\n",
    "            first_min_index = np.where(np.array(Ask[(index+1):index + 1 + index_15_min + 1]) < Bid[index])[0][0]\n",
    "            N_4_M = N_4_M + (max(Ask[(index + 1):(index + 1 + first_min_index + 1)]) - Bid[index])*(1.0)/(5.0) \n",
    "            time_start = timestamp_time_second[index]\n",
    "            time_traded = timestamp_time_second[index + first_min_index + 1]\n",
    "            N_4_TI = N_4_TI + (time_traded - time_start)\n",
    "            #print N_4_TI\n",
    "            pass\n",
    "        else:\n",
    "            if i < 25200 - 900:\n",
    "                N_4_E = N_4_E + (Ask[index] - Ask[index + index_15_min])*(1.0)/(5.0)\n",
    "                N_4_M = N_4_M + (max(Ask[(index + 1):(index + 1 + index_15_min + 1)]) - Bid[index])*(1.0)/(5.0) \n",
    "                N_4_TI = N_4_TI + (900.0)\n",
    "                #print N_4_TI\n",
    "            else:\n",
    "                N_4_E = N_4_E + (Ask[index] - close_price)*(1.0)/(5.0)\n",
    "                N_4_M = N_4_M + (max(Ask[(index+1):]) - Bid[index])*(1.0)/(5.0)\n",
    "                time_start = timestamp_time_second[index]\n",
    "                time_traded = timestamp_time_second[len(timestamp_time_second)-1]                \n",
    "                N_4_TI = N_4_TI + (time_traded - time_start)\n",
    "                #print N_4_TI\n",
    "            pass\n",
    "\n",
    "    elif 0.4 <= rise_ratio_ask[index]:\n",
    "        N_5 = N_5 + 1\n",
    "        #print rise_ratio_ask[index]\n",
    "        if Bid[index] > min(Ask[(index+1):index + 1 + index_15_min + 1]):\n",
    "            N_5_T = N_5_T + 1\n",
    "            N_5_E = N_5_E + (Ask[index] - Bid[index])*(1.0)/(5.0)\n",
    "            #print N_5_E      \n",
    "            first_min_index = np.where(np.array(Ask[(index+1):index + 1 + index_15_min + 1]) < Bid[index])[0][0]\n",
    "            N_5_M = N_5_M + (max(Ask[(index + 1):(index + 1 + first_min_index + 1)]) - Bid[index])*(1.0)/(5.0) \n",
    "            \n",
    "            time_start = timestamp_time_second[index]\n",
    "            time_traded = timestamp_time_second[index + first_min_index + 1]\n",
    "            N_5_TI = N_5_TI + (time_traded - time_start)\n",
    "            #print N_5_TI\n",
    "            pass\n",
    "        else:\n",
    "            if i < 25200 - 900:\n",
    "                N_5_E = N_5_E + (Ask[index] - Ask[index + index_15_min])*(1.0)/(5.0)\n",
    "                N_5_M = N_5_M + (max(Ask[(index + 1):(index + 1 + index_15_min + 1)]) - Bid[index])*(1.0)/(5.0) \n",
    "                N_1_TI = N_1_TI + (900.0)\n",
    "                #print N_5_TI\n",
    "            else:\n",
    "                N_5_E = N_5_E + (Ask[index] - close_price)*(1.0)/(5.0)\n",
    "                N_5_M = N_5_M + (max(Ask[(index+1):]) - Bid[index])*(1.0)/(5.0)\n",
    "                time_start = timestamp_time_second[index]\n",
    "                time_traded = timestamp_time_second[len(timestamp_time_second)-1]                \n",
    "                N_5_TI = N_5_TI + (time_traded - time_start)\n",
    "                #print N_5_TI \n",
    "            pass\n",
    "        \n",
    "    return N_1,N_2,N_3,N_4,N_5,N_1_T,N_2_T,N_3_T,N_4_T,N_5_T,N_1_E,N_2_E,N_3_E,N_4_E,N_5_E,N_1_M,N_2_M,N_3_M,N_4_M,N_5_M,\\\n",
    "           N_1_TI,N_2_TI,N_3_TI,N_4_TI,N_5_TI\n"
   ]
  },
  {
   "cell_type": "code",
   "execution_count": 16,
   "metadata": {
    "collapsed": true
   },
   "outputs": [],
   "source": [
    "def bid(time1,time2,Bid,Ask,close_price,timestamp_time_second,Bid1_Quantity,Bid2_Quantity,Bid3_Quantity,\\\n",
    "        Ask1_Quantity,Ask2_Quantity,Ask3_Quantity,weigth1,weigth2,weigth3):\n",
    "    [N_11,N_12,N_13,N_14,N_15,N_11_T,N_12_T,N_13_T,N_14_T,N_15_T,N_11_E,N_12_E,N_13_E,N_14_E,N_15_E,\\\n",
    "     N_11_M,N_12_M,N_13_M,N_14_M,N_15_M,N_11_TI,N_12_TI,N_13_TI,N_14_TI,N_15_TI] = [0 for i in  range(0,25,1)]\n",
    "    [N_21,N_22,N_23,N_24,N_25,N_21_T,N_22_T,N_23_T,N_24_T,N_25_T,N_21_E,N_22_E,N_23_E,N_24_E,N_25_E,\\\n",
    "     N_21_M,N_22_M,N_23_M,N_24_M,N_25_M,N_21_TI,N_22_TI,N_23_TI,N_24_TI,N_25_TI] = [0 for i in  range(0,25,1)]\n",
    "    [N_31,N_32,N_33,N_34,N_35,N_31_T,N_32_T,N_33_T,N_34_T,N_35_T,N_31_E,N_32_E,N_33_E,N_34_E,N_35_E,\\\n",
    "     N_31_M,N_32_M,N_33_M,N_34_M,N_35_M,N_31_TI,N_32_TI,N_33_TI,N_34_TI,N_35_TI] = [0 for i in  range(0,25,1)]\n",
    "    [N_41,N_42,N_43,N_44,N_45,N_41_T,N_42_T,N_43_T,N_44_T,N_45_T,N_41_E,N_42_E,N_43_E,N_44_E,N_45_E,\\\n",
    "     N_41_M,N_42_M,N_43_M,N_44_M,N_45_M,N_41_TI,N_42_TI,N_43_TI,N_44_TI,N_45_TI] = [0 for i in  range(0,25,1)]\n",
    "    [N_51,N_52,N_53,N_54,N_55,N_51_T,N_52_T,N_53_T,N_54_T,N_55_T,N_51_E,N_52_E,N_53_E,N_54_E,N_55_E,\\\n",
    "     N_51_M,N_52_M,N_53_M,N_54_M,N_55_M,N_51_TI,N_52_TI,N_53_TI,N_54_TI,N_55_TI] = [0 for i in  range(0,25,1)]\n",
    "\n",
    "    for i in range(time1,time2,1):\n",
    "        #print i\n",
    "        #print np.where(array(timestamp_time_second) <= i)[0]\n",
    "        index = np.where(array(timestamp_time_second) <= i)[0][-1]\n",
    "        #print i\n",
    "        #print index\n",
    "        #print timestamp_time_second[index]\n",
    "        if i < 25200 - 900:\n",
    "            index_15_min = np.where(np.array(timestamp_time_second[index:]) >= i + 900)[0][0]\n",
    "            #print index_15_min\n",
    "            #print timestamp_time_second[index+index_15_min]\n",
    "        #print 'time stamp = %d'%(timestamp_time_second[index])\n",
    "        #print index\n",
    "        #print index + index_15_min \n",
    "        #rint Bid1[index]\n",
    "        #print Ask1[index]\n",
    "        #print len(Ask1[(index+1):index + index_15_min])\n",
    "\n",
    "        #if Bid1[index] > min(Ask1[(index+1):index + index_15_min]):\n",
    "        #    first_min_index = np.where(np.array(Ask1[(index+1):index + index_15_min]) < Bid1[index])[0][0]\n",
    "        #    print 'mdd = %d'%((max(Ask1[(index + 1):(index + 1 + first_min_index)]) - Bid1[index])*(1.0)/(5.0))\n",
    "        #print min_Ask1_time_series[index + 1]\n",
    "        weighted_Bid = Bid1_Quantity[index] * weight1 + Bid2_Quantity[index] * weight2 + Bid3_Quantity[index] * weight3\n",
    "        weighted_Ask = Ask1_Quantity[index] * weight1 + Ask2_Quantity[index] * weight2 + Ask3_Quantity[index] * weight3  \n",
    "        #print weighted_Bid \n",
    "        #print weighted_Ask\n",
    "        #print (weighted_Bid*(1.0) / weighted_Ask)\n",
    "\n",
    "        if (weighted_Bid*(1.0) / weighted_Ask) <= 0.7:\n",
    "            N_11,N_12,N_13,N_14,N_15,N_11_T,N_12_T,N_13_T,N_14_T,N_15_T,N_11_E,N_12_E,N_13_E,N_14_E,N_15_E,\\\n",
    "            N_11_M,N_12_M,N_13_M,N_14_M,N_15_M,N_11_TI,N_12_TI,N_13_TI,N_14_TI,N_15_TI = rise_cal(i,rise_ratio_ask,timestamp_time_second,Bid,Ask,index,index_15_min,\\\n",
    "                                                          close_price,N_11,N_12,N_13,N_14,N_15,N_11_T,N_12_T,N_13_T,N_14_T,N_15_T,\\\n",
    "                                                          N_11_E,N_12_E,N_13_E,N_14_E,N_15_E,N_11_M,N_12_M,N_13_M,N_14_M,N_15_M,\\\n",
    "                                                          N_11_TI,N_12_TI,N_13_TI,N_14_TI,N_15_TI)                                               \n",
    "\n",
    "        elif 0.7 < (weighted_Bid*(1.0) / weighted_Ask) <= 0.9:\n",
    "            N_21,N_22,N_23,N_24,N_25,N_21_T,N_22_T,N_23_T,N_24_T,N_25_T,N_21_E,N_22_E,N_23_E,N_24_E,N_25_E,\\\n",
    "            N_21_M,N_22_M,N_23_M,N_24_M,N_25_M,N_21_TI,N_22_TI,N_23_TI,N_24_TI,N_25_TI = rise_cal(i,rise_ratio_ask,timestamp_time_second,Bid,Ask,index,index_15_min,\\\n",
    "                                                          close_price,N_21,N_22,N_23,N_24,N_25,N_21_T,N_22_T,N_23_T,N_24_T,N_25_T,\\\n",
    "                                                          N_21_E,N_22_E,N_23_E,N_24_E,N_25_E,N_21_M,N_22_M,N_23_M,N_24_M,N_25_M,\\\n",
    "                                                          N_21_TI,N_22_TI,N_23_TI,N_24_TI,N_25_TI)                                                \n",
    "\n",
    "        elif 0.9 < (weighted_Bid*(1.0) / weighted_Ask) <= 1.1:\n",
    "            N_31,N_32,N_33,N_34,N_35,N_31_T,N_32_T,N_33_T,N_34_T,N_35_T,N_31_E,N_32_E,N_33_E,N_34_E,N_35_E,\\\n",
    "            N_31_M,N_32_M,N_33_M,N_34_M,N_35_M,N_31_TI,N_32_TI,N_33_TI,N_34_TI,N_35_TI = rise_cal(i,rise_ratio_ask,timestamp_time_second,Bid,Ask,index,index_15_min,\\\n",
    "                                                          close_price,N_31,N_32,N_33,N_34,N_35,N_31_T,N_32_T,N_33_T,N_34_T,N_35_T,\\\n",
    "                                                          N_31_E,N_32_E,N_33_E,N_34_E,N_35_E,N_31_M,N_32_M,N_33_M,N_34_M,N_35_M,\\\n",
    "                                                          N_31_TI,N_32_TI,N_33_TI,N_34_TI,N_35_TI)                                    \n",
    "\n",
    "        elif 1.1 < (weighted_Bid*(1.0) / weighted_Ask) <= 1.3:\n",
    "            N_41,N_42,N_43,N_44,N_45,N_41_T,N_42_T,N_43_T,N_44_T,N_45_T,N_41_E,N_42_E,N_43_E,N_44_E,N_45_E,\\\n",
    "            N_41_M,N_42_M,N_43_M,N_44_M,N_45_M,N_41_TI,N_42_TI,N_43_TI,N_44_TI,N_45_TI = rise_cal(i,rise_ratio_ask,timestamp_time_second,Bid,Ask,index,index_15_min,\\\n",
    "                                                          close_price,N_41,N_42,N_43,N_44,N_45,N_41_T,N_42_T,N_43_T,N_44_T,N_45_T,\\\n",
    "                                                          N_41_E,N_42_E,N_43_E,N_44_E,N_45_E,N_41_M,N_42_M,N_43_M,N_44_M,N_45_M,\\\n",
    "                                                          N_41_TI,N_42_TI,N_43_TI,N_44_TI,N_45_TI)                              \n",
    "\n",
    "        elif 1.30 < (weighted_Bid*(1.0) / weighted_Ask):\n",
    "            N_51,N_52,N_53,N_54,N_55,N_51_T,N_52_T,N_53_T,N_54_T,N_55_T,N_51_E,N_52_E,N_53_E,N_54_E,N_55_E,\\\n",
    "            N_51_M,N_52_M,N_53_M,N_54_M,N_55_M,N_51_TI,N_52_TI,N_53_TI,N_54_TI,N_55_TI = rise_cal(i,rise_ratio_ask,timestamp_time_second,Bid,Ask,index,index_15_min,\\\n",
    "                                                          close_price,N_51,N_52,N_53,N_54,N_55,N_51_T,N_52_T,N_53_T,N_54_T,N_55_T,\\\n",
    "                                                          N_51_E,N_52_E,N_53_E,N_54_E,N_55_E,N_51_M,N_52_M,N_53_M,N_54_M,N_55_M,\\\n",
    "                                                          N_51_TI,N_52_TI,N_53_TI,N_54_TI,N_55_TI)                 \n",
    "\n",
    "    return [[N_11,N_12,N_13,N_14,N_15],[N_11_T,N_12_T,N_13_T,N_14_T,N_15_T],[N_11_E,N_12_E,N_13_E,N_14_E,N_15_E],\\\n",
    "             [N_11_M,N_12_M,N_13_M,N_14_M,N_15_M],[N_11_TI,N_12_TI,N_13_TI,N_14_TI,N_15_TI],\\\n",
    "            [N_21,N_22,N_23,N_24,N_25],[N_21_T,N_22_T,N_23_T,N_24_T,N_25_T],[N_21_E,N_22_E,N_23_E,N_24_E,N_25_E],\\\n",
    "             [N_21_M,N_22_M,N_23_M,N_24_M,N_25_M],[N_21_TI,N_22_TI,N_23_TI,N_24_TI,N_25_TI],\\\n",
    "            [N_31,N_32,N_33,N_34,N_35],[N_31_T,N_32_T,N_33_T,N_34_T,N_35_T],[N_31_E,N_32_E,N_33_E,N_34_E,N_35_E],\\\n",
    "             [N_31_M,N_32_M,N_33_M,N_34_M,N_35_M],[N_31_TI,N_32_TI,N_33_TI,N_34_TI,N_35_TI],\\\n",
    "            [N_41,N_42,N_43,N_44,N_45],[N_41_T,N_42_T,N_43_T,N_44_T,N_45_T],[N_41_E,N_42_E,N_43_E,N_44_E,N_45_E],\\\n",
    "             [N_41_M,N_42_M,N_43_M,N_44_M,N_45_M],[N_41_TI,N_42_TI,N_43_TI,N_44_TI,N_45_TI],\\\n",
    "            [N_51,N_52,N_53,N_54,N_55],[N_51_T,N_52_T,N_53_T,N_54_T,N_55_T],[N_51_E,N_52_E,N_53_E,N_54_E,N_55_E],\\\n",
    "             [N_51_M,N_52_M,N_53_M,N_54_M,N_55_M],[N_51_TI,N_52_TI,N_53_TI,N_54_TI,N_55_TI]] \n"
   ]
  },
  {
   "cell_type": "markdown",
   "metadata": {},
   "source": [
    "### day 1/28"
   ]
  },
  {
   "cell_type": "code",
   "execution_count": 42,
   "metadata": {
    "collapsed": true
   },
   "outputs": [],
   "source": [
    "data_book = order_book(1,28)\n",
    "data_book_open = data_book[213*4-3:67229*4+1]\n",
    "data_book_open = data_book_open.reset_index(drop = True)\n",
    "timestamp_time = day_time(1,28)\n",
    "timestamp_time_second = time_transform(timestamp_time)"
   ]
  },
  {
   "cell_type": "code",
   "execution_count": 43,
   "metadata": {
    "collapsed": false
   },
   "outputs": [
    {
     "name": "stdout",
     "output_type": "stream",
     "text": [
      "Total time = 100.754322\n"
     ]
    }
   ],
   "source": [
    "import time \n",
    "start = time.time()\n",
    "Bid1,Bid1_Quantity,Bid2,Bid2_Quantity,Bid3,Bid3_Quantity,Ask1,Ask1_Quantity,Ask2,Ask2_Quantity,Ask3,Ask3_Quantity = bid123_ask123_Q(data_book_open)\n",
    "end = time.time()  \n",
    "print \"Total time = %f\"%(end - start)"
   ]
  },
  {
   "cell_type": "code",
   "execution_count": 44,
   "metadata": {
    "collapsed": false
   },
   "outputs": [
    {
     "name": "stdout",
     "output_type": "stream",
     "text": [
      "Total time = 70.863560\n"
     ]
    }
   ],
   "source": [
    "import time \n",
    "start = time.time()\n",
    "rise_ratio_ask = rise_ask(Ask1,timestamp_time_second)\n",
    "end = time.time()  \n",
    "print \"Total time = %f\"%(end - start) "
   ]
  },
  {
   "cell_type": "markdown",
   "metadata": {},
   "source": [
    "9:00~9:15"
   ]
  },
  {
   "cell_type": "code",
   "execution_count": 45,
   "metadata": {
    "collapsed": false
   },
   "outputs": [],
   "source": [
    "close_price = 6750\n",
    "weight1 = 0.50\n",
    "weight2 = 0.30\n",
    "weight3 = 0.20"
   ]
  },
  {
   "cell_type": "code",
   "execution_count": 46,
   "metadata": {
    "collapsed": false
   },
   "outputs": [],
   "source": [
    "time1 = 0\n",
    "time2 = 600\n",
    "mat28_1_15 = bid(time1,time2,Bid1,Ask1,close_price,timestamp_time_second,Bid1_Quantity,Bid2_Quantity,Bid3_Quantity,Ask1_Quantity,Ask2_Quantity,Ask3_Quantity,weight1,weight2,weight3)\n",
    "mat28_2_15 = bid(time1,time2,Bid2,Ask1,close_price,timestamp_time_second,Bid1_Quantity,Bid2_Quantity,Bid3_Quantity,Ask1_Quantity,Ask2_Quantity,Ask3_Quantity,weight1,weight2,weight3)\n",
    "mat28_3_15 = bid(time1,time2,Bid3,Ask1,close_price,timestamp_time_second,Bid1_Quantity,Bid2_Quantity,Bid3_Quantity,Ask1_Quantity,Ask2_Quantity,Ask3_Quantity,weight1,weight2,weight3)"
   ]
  },
  {
   "cell_type": "code",
   "execution_count": 47,
   "metadata": {
    "collapsed": false,
    "scrolled": true
   },
   "outputs": [
    {
     "data": {
      "text/plain": [
       "([[0, 0, 0, 11, 0],\n",
       "  [0, 0, 0, 1, 0],\n",
       "  [0, 0, 0, -43.0, 0],\n",
       "  [0, 0, 0, 61.0, 0],\n",
       "  [0, 0, 0, 9405.0, 0],\n",
       "  [0, 0, 3, 41, 0],\n",
       "  [0, 0, 0, 39, 0],\n",
       "  [0, 0, -15.0, 31.0, 0],\n",
       "  [0, 0, 21.0, 53.0, 0],\n",
       "  [0, 0, 2700.0, 22819.0, 0],\n",
       "  [0, 0, 0, 57, 0],\n",
       "  [0, 0, 0, 11, 0],\n",
       "  [0, 0, 0, -246.0, 0],\n",
       "  [0, 0, 0, 328.0, 0],\n",
       "  [0, 0, 0, 47553.0, 0],\n",
       "  [0, 0, 0, 164, 0],\n",
       "  [0, 0, 0, 0, 0],\n",
       "  [0, 0, 0, -789.0, 0],\n",
       "  [0, 0, 0, 1093.0, 0],\n",
       "  [0, 0, 0, 147600.0, 0],\n",
       "  [0, 0, 113, 211, 0],\n",
       "  [0, 0, 0, 19, 0],\n",
       "  [0, 0, -660.0, -830.0, 0],\n",
       "  [0, 0, 882.0, 1326.0, 0],\n",
       "  [0, 0, 101700.0, 180728.0, 0]],\n",
       " [[0, 0, 0, 11, 0],\n",
       "  [0, 0, 0, 0, 0],\n",
       "  [0, 0, 0, -48.0, 0],\n",
       "  [0, 0, 0, 77.0, 0],\n",
       "  [0, 0, 0, 9900.0, 0],\n",
       "  [0, 0, 3, 41, 0],\n",
       "  [0, 0, 0, 0, 0],\n",
       "  [0, 0, -15.0, -170.0, 0],\n",
       "  [0, 0, 24.0, 279.0, 0],\n",
       "  [0, 0, 2700.0, 36900.0, 0],\n",
       "  [0, 0, 0, 57, 0],\n",
       "  [0, 0, 0, 0, 0],\n",
       "  [0, 0, 0, -301.0, 0],\n",
       "  [0, 0, 0, 429.0, 0],\n",
       "  [0, 0, 0, 51300.0, 0],\n",
       "  [0, 0, 0, 164, 0],\n",
       "  [0, 0, 0, 0, 0],\n",
       "  [0, 0, 0, -789.0, 0],\n",
       "  [0, 0, 0, 1257.0, 0],\n",
       "  [0, 0, 0, 147600.0, 0],\n",
       "  [0, 0, 113, 211, 0],\n",
       "  [0, 0, 0, 0, 0],\n",
       "  [0, 0, -660.0, -925.0, 0],\n",
       "  [0, 0, 995.0, 1632.0, 0],\n",
       "  [0, 0, 101700.0, 189900.0, 0]],\n",
       " [[0, 0, 0, 11, 0],\n",
       "  [0, 0, 0, 0, 0],\n",
       "  [0, 0, 0, -48.0, 0],\n",
       "  [0, 0, 0, 88.0, 0],\n",
       "  [0, 0, 0, 9900.0, 0],\n",
       "  [0, 0, 3, 41, 0],\n",
       "  [0, 0, 0, 0, 0],\n",
       "  [0, 0, -15.0, -170.0, 0],\n",
       "  [0, 0, 27.0, 320.0, 0],\n",
       "  [0, 0, 2700.0, 36900.0, 0],\n",
       "  [0, 0, 0, 57, 0],\n",
       "  [0, 0, 0, 0, 0],\n",
       "  [0, 0, 0, -301.0, 0],\n",
       "  [0, 0, 0, 486.0, 0],\n",
       "  [0, 0, 0, 51300.0, 0],\n",
       "  [0, 0, 0, 164, 0],\n",
       "  [0, 0, 0, 0, 0],\n",
       "  [0, 0, 0, -789.0, 0],\n",
       "  [0, 0, 0, 1421.0, 0],\n",
       "  [0, 0, 0, 147600.0, 0],\n",
       "  [0, 0, 113, 211, 0],\n",
       "  [0, 0, 0, 0, 0],\n",
       "  [0, 0, -660.0, -925.0, 0],\n",
       "  [0, 0, 1108.0, 1843.0, 0],\n",
       "  [0, 0, 101700.0, 189900.0, 0]])"
      ]
     },
     "execution_count": 47,
     "metadata": {},
     "output_type": "execute_result"
    }
   ],
   "source": [
    "mat28_1_15,mat28_2_15, mat28_3_15"
   ]
  },
  {
   "cell_type": "markdown",
   "metadata": {},
   "source": [
    "9:15~11:00"
   ]
  },
  {
   "cell_type": "code",
   "execution_count": 48,
   "metadata": {
    "collapsed": true
   },
   "outputs": [],
   "source": [
    "time1 = 600\n",
    "time2 = 7200\n",
    "mat28_1_11 = bid(time1,time2,Bid1,Ask1,close_price,timestamp_time_second,Bid1_Quantity,Bid2_Quantity,Bid3_Quantity,Ask1_Quantity,Ask2_Quantity,Ask3_Quantity,weight1,weight2,weight3)\n",
    "mat28_2_11 = bid(time1,time2,Bid2,Ask1,close_price,timestamp_time_second,Bid1_Quantity,Bid2_Quantity,Bid3_Quantity,Ask1_Quantity,Ask2_Quantity,Ask3_Quantity,weight1,weight2,weight3)\n",
    "mat28_3_11 = bid(time1,time2,Bid3,Ask1,close_price,timestamp_time_second,Bid1_Quantity,Bid2_Quantity,Bid3_Quantity,Ask1_Quantity,Ask2_Quantity,Ask3_Quantity,weight1,weight2,weight3)"
   ]
  },
  {
   "cell_type": "markdown",
   "metadata": {},
   "source": [
    "11:00~13:00"
   ]
  },
  {
   "cell_type": "code",
   "execution_count": 49,
   "metadata": {
    "collapsed": true
   },
   "outputs": [],
   "source": [
    "time1 = 7200\n",
    "time2 = 14400\n",
    "mat28_1_13 = bid(time1,time2,Bid1,Ask1,close_price,timestamp_time_second,Bid1_Quantity,Bid2_Quantity,Bid3_Quantity,Ask1_Quantity,Ask2_Quantity,Ask3_Quantity,weight1,weight2,weight3)\n",
    "mat28_2_13 = bid(time1,time2,Bid2,Ask1,close_price,timestamp_time_second,Bid1_Quantity,Bid2_Quantity,Bid3_Quantity,Ask1_Quantity,Ask2_Quantity,Ask3_Quantity,weight1,weight2,weight3)\n",
    "mat28_3_13 = bid(time1,time2,Bid3,Ask1,close_price,timestamp_time_second,Bid1_Quantity,Bid2_Quantity,Bid3_Quantity,Ask1_Quantity,Ask2_Quantity,Ask3_Quantity,weight1,weight2,weight3)"
   ]
  },
  {
   "cell_type": "markdown",
   "metadata": {},
   "source": [
    "13:00~16:00"
   ]
  },
  {
   "cell_type": "code",
   "execution_count": 50,
   "metadata": {
    "collapsed": true
   },
   "outputs": [],
   "source": [
    "time1 = 14400\n",
    "time2 = 25200\n",
    "mat28_1_16 = bid(time1,time2,Bid1,Ask1,close_price,timestamp_time_second,Bid1_Quantity,Bid2_Quantity,Bid3_Quantity,Ask1_Quantity,Ask2_Quantity,Ask3_Quantity,weight1,weight2,weight3)\n",
    "mat28_2_16 = bid(time1,time2,Bid2,Ask1,close_price,timestamp_time_second,Bid1_Quantity,Bid2_Quantity,Bid3_Quantity,Ask1_Quantity,Ask2_Quantity,Ask3_Quantity,weight1,weight2,weight3)\n",
    "mat28_3_16 = bid(time1,time2,Bid3,Ask1,close_price,timestamp_time_second,Bid1_Quantity,Bid2_Quantity,Bid3_Quantity,Ask1_Quantity,Ask2_Quantity,Ask3_Quantity,weight1,weight2,weight3)"
   ]
  },
  {
   "cell_type": "code",
   "execution_count": 23,
   "metadata": {
    "collapsed": false,
    "scrolled": true
   },
   "outputs": [],
   "source": []
  },
  {
   "cell_type": "code",
   "execution_count": null,
   "metadata": {
    "collapsed": true
   },
   "outputs": [],
   "source": []
  },
  {
   "cell_type": "code",
   "execution_count": null,
   "metadata": {
    "collapsed": true
   },
   "outputs": [],
   "source": []
  },
  {
   "cell_type": "markdown",
   "metadata": {},
   "source": [
    "### Day 1/29"
   ]
  },
  {
   "cell_type": "code",
   "execution_count": 51,
   "metadata": {
    "collapsed": true
   },
   "outputs": [],
   "source": [
    "data_book = order_book(1,29)\n",
    "data_book_open = data_book[602:128801+1] # 9:00 ~ 16:00\n",
    "data_book_open = data_book_open.reset_index(drop = True)\n",
    "timestamp_time = day_time(1,29)\n",
    "timestamp_time_second = time_transform(timestamp_time)"
   ]
  },
  {
   "cell_type": "code",
   "execution_count": 52,
   "metadata": {
    "collapsed": false
   },
   "outputs": [
    {
     "name": "stdout",
     "output_type": "stream",
     "text": [
      "Total time = 44.927615\n"
     ]
    }
   ],
   "source": [
    "import time \n",
    "start = time.time()\n",
    "Bid1,Bid1_Quantity,Bid2,Bid2_Quantity,Bid3,Bid3_Quantity,Ask1,Ask1_Quantity,Ask2,Ask2_Quantity,Ask3,Ask3_Quantity = bid123_ask123_Q(data_book_open)\n",
    "end = time.time()  \n",
    "print \"Total time = %f\"%(end - start)"
   ]
  },
  {
   "cell_type": "code",
   "execution_count": 53,
   "metadata": {
    "collapsed": false,
    "scrolled": true
   },
   "outputs": [
    {
     "name": "stdout",
     "output_type": "stream",
     "text": [
      "Total time = 31.245102\n"
     ]
    }
   ],
   "source": [
    "import time \n",
    "start = time.time()\n",
    "rise_ratio_ask = rise_ask(Ask1,timestamp_time_second)\n",
    "end = time.time()  \n",
    "print \"Total time = %f\"%(end - start) "
   ]
  },
  {
   "cell_type": "code",
   "execution_count": 54,
   "metadata": {
    "collapsed": true
   },
   "outputs": [],
   "source": [
    "close_price = 6775\n",
    "weight1 = 0.50\n",
    "weight2 = 0.30\n",
    "weight3 = 0.20"
   ]
  },
  {
   "cell_type": "code",
   "execution_count": 55,
   "metadata": {
    "collapsed": true
   },
   "outputs": [],
   "source": [
    "time1 = 0\n",
    "time2 = 600\n",
    "mat29_1_15 = bid(time1,time2,Bid1,Ask1,close_price,timestamp_time_second,Bid1_Quantity,Bid2_Quantity,Bid3_Quantity,Ask1_Quantity,Ask2_Quantity,Ask3_Quantity,weight1,weight2,weight3)\n",
    "mat29_2_15 = bid(time1,time2,Bid2,Ask1,close_price,timestamp_time_second,Bid1_Quantity,Bid2_Quantity,Bid3_Quantity,Ask1_Quantity,Ask2_Quantity,Ask3_Quantity,weight1,weight2,weight3)\n",
    "mat29_3_15 = bid(time1,time2,Bid3,Ask1,close_price,timestamp_time_second,Bid1_Quantity,Bid2_Quantity,Bid3_Quantity,Ask1_Quantity,Ask2_Quantity,Ask3_Quantity,weight1,weight2,weight3)"
   ]
  },
  {
   "cell_type": "code",
   "execution_count": 56,
   "metadata": {
    "collapsed": false,
    "scrolled": true
   },
   "outputs": [
    {
     "data": {
      "text/plain": [
       "([[0, 0, 406, 0, 0],\n",
       "  [0, 0, 12, 0, 0],\n",
       "  [0, 0, -1101.0, 0, 0],\n",
       "  [0, 0, 2112.0, 0, 0],\n",
       "  [0, 0, 357841.0, 0, 0],\n",
       "  [0, 0, 37, 0, 0],\n",
       "  [0, 0, 13, 0, 0],\n",
       "  [0, 0, -88.0, 0, 0],\n",
       "  [0, 0, 193.0, 0, 0],\n",
       "  [0, 0, 25689.0, 0, 0],\n",
       "  [0, 0, 9, 0, 0],\n",
       "  [0, 0, 0, 0, 0],\n",
       "  [0, 0, -32.0, 0, 0],\n",
       "  [0, 0, 54.0, 0, 0],\n",
       "  [0, 0, 8100.0, 0, 0],\n",
       "  [0, 0, 105, 0, 0],\n",
       "  [0, 0, 0, 0, 0],\n",
       "  [0, 0, -268.0, 0, 0],\n",
       "  [0, 0, 613.0, 0, 0],\n",
       "  [0, 0, 94500.0, 0, 0],\n",
       "  [0, 0, 43, 0, 0],\n",
       "  [0, 0, 0, 0, 0],\n",
       "  [0, 0, -55.0, 0, 0],\n",
       "  [0, 0, 255.0, 0, 0],\n",
       "  [0, 0, 38700.0, 0, 0]],\n",
       " [[0, 0, 406, 0, 0],\n",
       "  [0, 0, 0, 0, 0],\n",
       "  [0, 0, -1117.0, 0, 0],\n",
       "  [0, 0, 2554.0, 0, 0],\n",
       "  [0, 0, 365400.0, 0, 0],\n",
       "  [0, 0, 37, 0, 0],\n",
       "  [0, 0, 0, 0, 0],\n",
       "  [0, 0, -128.0, 0, 0],\n",
       "  [0, 0, 230.0, 0, 0],\n",
       "  [0, 0, 33300.0, 0, 0],\n",
       "  [0, 0, 9, 0, 0],\n",
       "  [0, 0, 0, 0, 0],\n",
       "  [0, 0, -32.0, 0, 0],\n",
       "  [0, 0, 63.0, 0, 0],\n",
       "  [0, 0, 8100.0, 0, 0],\n",
       "  [0, 0, 105, 0, 0],\n",
       "  [0, 0, 0, 0, 0],\n",
       "  [0, 0, -268.0, 0, 0],\n",
       "  [0, 0, 718.0, 0, 0],\n",
       "  [0, 0, 94500.0, 0, 0],\n",
       "  [0, 0, 43, 0, 0],\n",
       "  [0, 0, 0, 0, 0],\n",
       "  [0, 0, -55.0, 0, 0],\n",
       "  [0, 0, 298.0, 0, 0],\n",
       "  [0, 0, 38700.0, 0, 0]],\n",
       " [[0, 0, 406, 0, 0],\n",
       "  [0, 0, 0, 0, 0],\n",
       "  [0, 0, -1117.0, 0, 0],\n",
       "  [0, 0, 2960.0, 0, 0],\n",
       "  [0, 0, 365400.0, 0, 0],\n",
       "  [0, 0, 37, 0, 0],\n",
       "  [0, 0, 0, 0, 0],\n",
       "  [0, 0, -128.0, 0, 0],\n",
       "  [0, 0, 267.0, 0, 0],\n",
       "  [0, 0, 33300.0, 0, 0],\n",
       "  [0, 0, 9, 0, 0],\n",
       "  [0, 0, 0, 0, 0],\n",
       "  [0, 0, -32.0, 0, 0],\n",
       "  [0, 0, 72.0, 0, 0],\n",
       "  [0, 0, 8100.0, 0, 0],\n",
       "  [0, 0, 105, 0, 0],\n",
       "  [0, 0, 0, 0, 0],\n",
       "  [0, 0, -268.0, 0, 0],\n",
       "  [0, 0, 823.0, 0, 0],\n",
       "  [0, 0, 94500.0, 0, 0],\n",
       "  [0, 0, 43, 0, 0],\n",
       "  [0, 0, 0, 0, 0],\n",
       "  [0, 0, -55.0, 0, 0],\n",
       "  [0, 0, 341.0, 0, 0],\n",
       "  [0, 0, 38700.0, 0, 0]])"
      ]
     },
     "execution_count": 56,
     "metadata": {},
     "output_type": "execute_result"
    }
   ],
   "source": [
    "mat29_1_15,mat29_2_15,mat29_3_15"
   ]
  },
  {
   "cell_type": "code",
   "execution_count": 57,
   "metadata": {
    "collapsed": true
   },
   "outputs": [],
   "source": [
    "time1 = 600\n",
    "time2 = 7200\n",
    "mat29_1_11 = bid(time1,time2,Bid1,Ask1,close_price,timestamp_time_second,Bid1_Quantity,Bid2_Quantity,Bid3_Quantity,Ask1_Quantity,Ask2_Quantity,Ask3_Quantity,weight1,weight2,weight3)\n",
    "mat29_2_11 = bid(time1,time2,Bid2,Ask1,close_price,timestamp_time_second,Bid1_Quantity,Bid2_Quantity,Bid3_Quantity,Ask1_Quantity,Ask2_Quantity,Ask3_Quantity,weight1,weight2,weight3)\n",
    "mat29_3_11 = bid(time1,time2,Bid3,Ask1,close_price,timestamp_time_second,Bid1_Quantity,Bid2_Quantity,Bid3_Quantity,Ask1_Quantity,Ask2_Quantity,Ask3_Quantity,weight1,weight2,weight3)"
   ]
  },
  {
   "cell_type": "code",
   "execution_count": 58,
   "metadata": {
    "collapsed": true
   },
   "outputs": [],
   "source": [
    "time1 = 7200\n",
    "time2 = 14400\n",
    "mat29_1_13 = bid(time1,time2,Bid1,Ask1,close_price,timestamp_time_second,Bid1_Quantity,Bid2_Quantity,Bid3_Quantity,Ask1_Quantity,Ask2_Quantity,Ask3_Quantity,weight1,weight2,weight3)\n",
    "mat29_2_13 = bid(time1,time2,Bid2,Ask1,close_price,timestamp_time_second,Bid1_Quantity,Bid2_Quantity,Bid3_Quantity,Ask1_Quantity,Ask2_Quantity,Ask3_Quantity,weight1,weight2,weight3)\n",
    "mat29_3_13 = bid(time1,time2,Bid3,Ask1,close_price,timestamp_time_second,Bid1_Quantity,Bid2_Quantity,Bid3_Quantity,Ask1_Quantity,Ask2_Quantity,Ask3_Quantity,weight1,weight2,weight3)"
   ]
  },
  {
   "cell_type": "code",
   "execution_count": 59,
   "metadata": {
    "collapsed": true
   },
   "outputs": [],
   "source": [
    "time1 = 14400\n",
    "time2 = 25200\n",
    "mat29_1_16 = bid(time1,time2,Bid1,Ask1,close_price,timestamp_time_second,Bid1_Quantity,Bid2_Quantity,Bid3_Quantity,Ask1_Quantity,Ask2_Quantity,Ask3_Quantity,weight1,weight2,weight3)\n",
    "mat29_2_16 = bid(time1,time2,Bid2,Ask1,close_price,timestamp_time_second,Bid1_Quantity,Bid2_Quantity,Bid3_Quantity,Ask1_Quantity,Ask2_Quantity,Ask3_Quantity,weight1,weight2,weight3)\n",
    "mat29_3_16 = bid(time1,time2,Bid3,Ask1,close_price,timestamp_time_second,Bid1_Quantity,Bid2_Quantity,Bid3_Quantity,Ask1_Quantity,Ask2_Quantity,Ask3_Quantity,weight1,weight2,weight3)"
   ]
  },
  {
   "cell_type": "code",
   "execution_count": null,
   "metadata": {
    "collapsed": true
   },
   "outputs": [],
   "source": []
  },
  {
   "cell_type": "code",
   "execution_count": null,
   "metadata": {
    "collapsed": true
   },
   "outputs": [],
   "source": []
  },
  {
   "cell_type": "markdown",
   "metadata": {},
   "source": [
    "### Day 1/27"
   ]
  },
  {
   "cell_type": "code",
   "execution_count": 60,
   "metadata": {
    "collapsed": true
   },
   "outputs": [],
   "source": [
    "data_book = order_book(1,27)\n",
    "data_book_open = data_book[1112:266575+1] # 9:00 ~ 16:00\n",
    "data_book_open = data_book_open.reset_index(drop = True)\n",
    "timestamp_time = day_time(1,27)\n",
    "timestamp_time_second = time_transform(timestamp_time)"
   ]
  },
  {
   "cell_type": "code",
   "execution_count": 61,
   "metadata": {
    "collapsed": false
   },
   "outputs": [
    {
     "data": {
      "text/plain": [
       "66366"
      ]
     },
     "execution_count": 61,
     "metadata": {},
     "output_type": "execute_result"
    }
   ],
   "source": [
    "len(timestamp_time_second)"
   ]
  },
  {
   "cell_type": "code",
   "execution_count": 62,
   "metadata": {
    "collapsed": false
   },
   "outputs": [
    {
     "name": "stdout",
     "output_type": "stream",
     "text": [
      "Total time = 90.740464\n"
     ]
    }
   ],
   "source": [
    "import time \n",
    "start = time.time()\n",
    "Bid1,Bid1_Quantity,Bid2,Bid2_Quantity,Bid3,Bid3_Quantity,Ask1,Ask1_Quantity,Ask2,Ask2_Quantity,Ask3,Ask3_Quantity = bid123_ask123_Q(data_book_open)\n",
    "end = time.time()  \n",
    "print \"Total time = %f\"%(end - start)"
   ]
  },
  {
   "cell_type": "code",
   "execution_count": 63,
   "metadata": {
    "collapsed": false
   },
   "outputs": [
    {
     "name": "stdout",
     "output_type": "stream",
     "text": [
      "Total time = 154.496044\n"
     ]
    }
   ],
   "source": [
    "import time \n",
    "start = time.time()\n",
    "rise_ratio_ask = rise_ask(Ask1,timestamp_time_second)\n",
    "end = time.time()  \n",
    "print \"Total time = %f\"%(end - start) "
   ]
  },
  {
   "cell_type": "code",
   "execution_count": 64,
   "metadata": {
    "collapsed": true
   },
   "outputs": [],
   "source": [
    "close_price = 6710\n",
    "weight1 = 0.50\n",
    "weight2 = 0.30\n",
    "weight3 = 0.20"
   ]
  },
  {
   "cell_type": "code",
   "execution_count": 65,
   "metadata": {
    "collapsed": true
   },
   "outputs": [],
   "source": [
    "time1 = 0\n",
    "time2 = 600\n",
    "mat27_1_15 = bid(time1,time2,Bid1,Ask1,close_price,timestamp_time_second,Bid1_Quantity,Bid2_Quantity,Bid3_Quantity,Ask1_Quantity,Ask2_Quantity,Ask3_Quantity,weight1,weight2,weight3)\n",
    "mat27_2_15 = bid(time1,time2,Bid2,Ask1,close_price,timestamp_time_second,Bid1_Quantity,Bid2_Quantity,Bid3_Quantity,Ask1_Quantity,Ask2_Quantity,Ask3_Quantity,weight1,weight2,weight3)\n",
    "mat27_3_15 = bid(time1,time2,Bid3,Ask1,close_price,timestamp_time_second,Bid1_Quantity,Bid2_Quantity,Bid3_Quantity,Ask1_Quantity,Ask2_Quantity,Ask3_Quantity,weight1,weight2,weight3)"
   ]
  },
  {
   "cell_type": "code",
   "execution_count": 66,
   "metadata": {
    "collapsed": false,
    "scrolled": true
   },
   "outputs": [],
   "source": [
    "time1 = 600\n",
    "time2 = 7200\n",
    "mat27_1_11 = bid(time1,time2,Bid1,Ask1,close_price,timestamp_time_second,Bid1_Quantity,Bid2_Quantity,Bid3_Quantity,Ask1_Quantity,Ask2_Quantity,Ask3_Quantity,weight1,weight2,weight3)\n",
    "mat27_2_11 = bid(time1,time2,Bid2,Ask1,close_price,timestamp_time_second,Bid1_Quantity,Bid2_Quantity,Bid3_Quantity,Ask1_Quantity,Ask2_Quantity,Ask3_Quantity,weight1,weight2,weight3)\n",
    "mat27_3_11 = bid(time1,time2,Bid3,Ask1,close_price,timestamp_time_second,Bid1_Quantity,Bid2_Quantity,Bid3_Quantity,Ask1_Quantity,Ask2_Quantity,Ask3_Quantity,weight1,weight2,weight3)"
   ]
  },
  {
   "cell_type": "code",
   "execution_count": 67,
   "metadata": {
    "collapsed": false,
    "scrolled": true
   },
   "outputs": [],
   "source": [
    "time1 = 7200\n",
    "time2 = 14400\n",
    "mat27_1_13 = bid(time1,time2,Bid1,Ask1,close_price,timestamp_time_second,Bid1_Quantity,Bid2_Quantity,Bid3_Quantity,Ask1_Quantity,Ask2_Quantity,Ask3_Quantity,weight1,weight2,weight3)\n",
    "mat27_2_13 = bid(time1,time2,Bid2,Ask1,close_price,timestamp_time_second,Bid1_Quantity,Bid2_Quantity,Bid3_Quantity,Ask1_Quantity,Ask2_Quantity,Ask3_Quantity,weight1,weight2,weight3)\n",
    "mat27_3_13 = bid(time1,time2,Bid3,Ask1,close_price,timestamp_time_second,Bid1_Quantity,Bid2_Quantity,Bid3_Quantity,Ask1_Quantity,Ask2_Quantity,Ask3_Quantity,weight1,weight2,weight3)"
   ]
  },
  {
   "cell_type": "code",
   "execution_count": 68,
   "metadata": {
    "collapsed": true
   },
   "outputs": [],
   "source": [
    "time1 = 14400\n",
    "time2 = 25200\n",
    "mat27_1_16 = bid(time1,time2,Bid1,Ask1,close_price,timestamp_time_second,Bid1_Quantity,Bid2_Quantity,Bid3_Quantity,Ask1_Quantity,Ask2_Quantity,Ask3_Quantity,weight1,weight2,weight3)\n",
    "mat27_2_16 = bid(time1,time2,Bid2,Ask1,close_price,timestamp_time_second,Bid1_Quantity,Bid2_Quantity,Bid3_Quantity,Ask1_Quantity,Ask2_Quantity,Ask3_Quantity,weight1,weight2,weight3)\n",
    "mat27_3_16 = bid(time1,time2,Bid3,Ask1,close_price,timestamp_time_second,Bid1_Quantity,Bid2_Quantity,Bid3_Quantity,Ask1_Quantity,Ask2_Quantity,Ask3_Quantity,weight1,weight2,weight3)"
   ]
  },
  {
   "cell_type": "code",
   "execution_count": null,
   "metadata": {
    "collapsed": true
   },
   "outputs": [],
   "source": []
  },
  {
   "cell_type": "code",
   "execution_count": null,
   "metadata": {
    "collapsed": false,
    "scrolled": true
   },
   "outputs": [],
   "source": []
  },
  {
   "cell_type": "code",
   "execution_count": 39,
   "metadata": {
    "collapsed": false,
    "scrolled": true
   },
   "outputs": [],
   "source": [
    "#pd.DataFrame(array(mat29_1)+array(mat28_1)+array(mat27_1))"
   ]
  },
  {
   "cell_type": "code",
   "execution_count": 69,
   "metadata": {
    "collapsed": false
   },
   "outputs": [
    {
     "data": {
      "text/plain": [
       "(array([ 0.5297619 ,  0.31147541,  0.54868819,  0.88974359,  1.        ]),\n",
       " array([-0.88095238, -0.22404372,  0.40665994,  0.96282051,  1.        ]),\n",
       " array([ 3.07738095,  3.01639344,  2.01437941,  2.08717949,  1.        ]),\n",
       " array([ 450.7202381 ,  657.93989071,  555.90792129,  428.22051282,\n",
       "         163.85714286]))"
      ]
     },
     "execution_count": 69,
     "metadata": {},
     "output_type": "execute_result"
    }
   ],
   "source": [
    "a = 0\n",
    "array(mat[a+1])*1.0/array(mat[a]),array(mat[a+2])/array(mat[a]),array(mat[a+3])/array(mat[a]),array(mat[a+4])/array(mat[a])"
   ]
  },
  {
   "cell_type": "code",
   "execution_count": null,
   "metadata": {
    "collapsed": true
   },
   "outputs": [],
   "source": []
  },
  {
   "cell_type": "code",
   "execution_count": null,
   "metadata": {
    "collapsed": true
   },
   "outputs": [],
   "source": []
  },
  {
   "cell_type": "code",
   "execution_count": null,
   "metadata": {
    "collapsed": true
   },
   "outputs": [],
   "source": []
  },
  {
   "cell_type": "markdown",
   "metadata": {},
   "source": [
    "### Day 1/24"
   ]
  },
  {
   "cell_type": "code",
   "execution_count": 69,
   "metadata": {
    "collapsed": true
   },
   "outputs": [],
   "source": [
    "data_book = order_book(1,24)\n",
    "data_book_open = data_book[920:331143+1] # 9:00 ~ 16:00\n",
    "data_book_open = data_book_open.reset_index(drop = True)\n",
    "timestamp_time = day_time(1,24)\n",
    "timestamp_time_second = time_transform(timestamp_time)"
   ]
  },
  {
   "cell_type": "code",
   "execution_count": 81,
   "metadata": {
    "collapsed": false,
    "scrolled": false
   },
   "outputs": [],
   "source": [
    "#data_book_open"
   ]
  },
  {
   "cell_type": "code",
   "execution_count": 75,
   "metadata": {
    "collapsed": false,
    "scrolled": true
   },
   "outputs": [
    {
     "data": {
      "text/plain": [
       "82556"
      ]
     },
     "execution_count": 75,
     "metadata": {},
     "output_type": "execute_result"
    }
   ],
   "source": [
    "len(timestamp_time_second)"
   ]
  },
  {
   "cell_type": "code",
   "execution_count": 71,
   "metadata": {
    "collapsed": false
   },
   "outputs": [
    {
     "name": "stdout",
     "output_type": "stream",
     "text": [
      "Total time = 165.940777\n"
     ]
    }
   ],
   "source": [
    "import time \n",
    "start = time.time()\n",
    "Bid1,Bid1_Quantity,Bid2,Bid2_Quantity,Bid3,Bid3_Quantity,Ask1,Ask1_Quantity,Ask2,Ask2_Quantity,Ask3,Ask3_Quantity = bid123_ask123_Q(data_book_open)\n",
    "end = time.time()  \n",
    "print \"Total time = %f\"%(end - start)"
   ]
  },
  {
   "cell_type": "code",
   "execution_count": 83,
   "metadata": {
    "collapsed": false
   },
   "outputs": [
    {
     "data": {
      "text/plain": [
       "82556"
      ]
     },
     "execution_count": 83,
     "metadata": {},
     "output_type": "execute_result"
    }
   ],
   "source": [
    "len(Ask1)"
   ]
  },
  {
   "cell_type": "code",
   "execution_count": 72,
   "metadata": {
    "collapsed": false
   },
   "outputs": [
    {
     "name": "stdout",
     "output_type": "stream",
     "text": [
      "Total time = 386.123375\n"
     ]
    }
   ],
   "source": [
    "import time \n",
    "start = time.time()\n",
    "rise_ratio_ask = rise_ask(Ask1,timestamp_time_second)\n",
    "end = time.time()  \n",
    "print \"Total time = %f\"%(end - start) "
   ]
  },
  {
   "cell_type": "code",
   "execution_count": 73,
   "metadata": {
    "collapsed": true
   },
   "outputs": [],
   "source": [
    "close_price = 6815\n",
    "weight1 = 0.50\n",
    "weight2 = 0.30\n",
    "weight3 = 0.20"
   ]
  },
  {
   "cell_type": "code",
   "execution_count": 74,
   "metadata": {
    "collapsed": true
   },
   "outputs": [],
   "source": [
    "time1 = 0\n",
    "time2 = 600\n",
    "mat24_1_15 = bid(time1,time2,Bid1,Ask1,close_price,timestamp_time_second,Bid1_Quantity,Bid2_Quantity,Bid3_Quantity,Ask1_Quantity,Ask2_Quantity,Ask3_Quantity,weight1,weight2,weight3)\n",
    "mat24_2_15 = bid(time1,time2,Bid2,Ask1,close_price,timestamp_time_second,Bid1_Quantity,Bid2_Quantity,Bid3_Quantity,Ask1_Quantity,Ask2_Quantity,Ask3_Quantity,weight1,weight2,weight3)\n",
    "mat24_3_15 = bid(time1,time2,Bid3,Ask1,close_price,timestamp_time_second,Bid1_Quantity,Bid2_Quantity,Bid3_Quantity,Ask1_Quantity,Ask2_Quantity,Ask3_Quantity,weight1,weight2,weight3)"
   ]
  },
  {
   "cell_type": "code",
   "execution_count": 75,
   "metadata": {
    "collapsed": true
   },
   "outputs": [],
   "source": [
    "time1 = 600\n",
    "time2 = 7200\n",
    "mat24_1_11 = bid(time1,time2,Bid1,Ask1,close_price,timestamp_time_second,Bid1_Quantity,Bid2_Quantity,Bid3_Quantity,Ask1_Quantity,Ask2_Quantity,Ask3_Quantity,weight1,weight2,weight3)\n",
    "mat24_2_11 = bid(time1,time2,Bid2,Ask1,close_price,timestamp_time_second,Bid1_Quantity,Bid2_Quantity,Bid3_Quantity,Ask1_Quantity,Ask2_Quantity,Ask3_Quantity,weight1,weight2,weight3)\n",
    "mat24_3_11 = bid(time1,time2,Bid3,Ask1,close_price,timestamp_time_second,Bid1_Quantity,Bid2_Quantity,Bid3_Quantity,Ask1_Quantity,Ask2_Quantity,Ask3_Quantity,weight1,weight2,weight3)"
   ]
  },
  {
   "cell_type": "code",
   "execution_count": 76,
   "metadata": {
    "collapsed": true
   },
   "outputs": [],
   "source": [
    "time1 = 7200\n",
    "time2 = 14400\n",
    "mat24_1_13 = bid(time1,time2,Bid1,Ask1,close_price,timestamp_time_second,Bid1_Quantity,Bid2_Quantity,Bid3_Quantity,Ask1_Quantity,Ask2_Quantity,Ask3_Quantity,weight1,weight2,weight3)\n",
    "mat24_2_13 = bid(time1,time2,Bid2,Ask1,close_price,timestamp_time_second,Bid1_Quantity,Bid2_Quantity,Bid3_Quantity,Ask1_Quantity,Ask2_Quantity,Ask3_Quantity,weight1,weight2,weight3)\n",
    "mat24_3_13 = bid(time1,time2,Bid3,Ask1,close_price,timestamp_time_second,Bid1_Quantity,Bid2_Quantity,Bid3_Quantity,Ask1_Quantity,Ask2_Quantity,Ask3_Quantity,weight1,weight2,weight3)"
   ]
  },
  {
   "cell_type": "code",
   "execution_count": 77,
   "metadata": {
    "collapsed": true
   },
   "outputs": [],
   "source": [
    "time1 = 14400\n",
    "time2 = 25200\n",
    "mat24_1_16 = bid(time1,time2,Bid1,Ask1,close_price,timestamp_time_second,Bid1_Quantity,Bid2_Quantity,Bid3_Quantity,Ask1_Quantity,Ask2_Quantity,Ask3_Quantity,weight1,weight2,weight3)\n",
    "mat24_2_16 = bid(time1,time2,Bid2,Ask1,close_price,timestamp_time_second,Bid1_Quantity,Bid2_Quantity,Bid3_Quantity,Ask1_Quantity,Ask2_Quantity,Ask3_Quantity,weight1,weight2,weight3)\n",
    "mat24_3_16 = bid(time1,time2,Bid3,Ask1,close_price,timestamp_time_second,Bid1_Quantity,Bid2_Quantity,Bid3_Quantity,Ask1_Quantity,Ask2_Quantity,Ask3_Quantity,weight1,weight2,weight3)"
   ]
  },
  {
   "cell_type": "code",
   "execution_count": null,
   "metadata": {
    "collapsed": true
   },
   "outputs": [],
   "source": []
  },
  {
   "cell_type": "markdown",
   "metadata": {},
   "source": [
    "### Day 1/22"
   ]
  },
  {
   "cell_type": "code",
   "execution_count": 78,
   "metadata": {
    "collapsed": true
   },
   "outputs": [],
   "source": [
    "data_book = order_book(1,22)\n",
    "data_book_open = data_book[1304:368779+1] # 9:00 ~ 16:00\n",
    "data_book_open = data_book_open.reset_index(drop = True)\n",
    "timestamp_time = day_time(1,22)\n",
    "timestamp_time_second = time_transform(timestamp_time)"
   ]
  },
  {
   "cell_type": "code",
   "execution_count": null,
   "metadata": {
    "collapsed": true
   },
   "outputs": [],
   "source": []
  },
  {
   "cell_type": "code",
   "execution_count": 79,
   "metadata": {
    "collapsed": false
   },
   "outputs": [
    {
     "name": "stdout",
     "output_type": "stream",
     "text": [
      "Total time = 125.253136\n"
     ]
    }
   ],
   "source": [
    "import time \n",
    "start = time.time()\n",
    "Bid1,Bid1_Quantity,Bid2,Bid2_Quantity,Bid3,Bid3_Quantity,Ask1,Ask1_Quantity,Ask2,Ask2_Quantity,Ask3,Ask3_Quantity = bid123_ask123_Q(data_book_open)\n",
    "end = time.time()  \n",
    "print \"Total time = %f\"%(end - start)"
   ]
  },
  {
   "cell_type": "code",
   "execution_count": 80,
   "metadata": {
    "collapsed": false
   },
   "outputs": [
    {
     "name": "stdout",
     "output_type": "stream",
     "text": [
      "Total time = 393.654061\n"
     ]
    }
   ],
   "source": [
    "import time \n",
    "start = time.time()\n",
    "rise_ratio_ask = rise_ask(Ask1,timestamp_time_second)\n",
    "end = time.time()  \n",
    "print \"Total time = %f\"%(end - start) "
   ]
  },
  {
   "cell_type": "code",
   "execution_count": 81,
   "metadata": {
    "collapsed": true
   },
   "outputs": [],
   "source": [
    "close_price = 6870\n",
    "weight1 = 0.50\n",
    "weight2 = 0.30\n",
    "weight3 = 0.20"
   ]
  },
  {
   "cell_type": "code",
   "execution_count": 82,
   "metadata": {
    "collapsed": true
   },
   "outputs": [],
   "source": [
    "time1 = 0\n",
    "time2 = 600\n",
    "mat22_1_15 = bid(time1,time2,Bid1,Ask1,close_price,timestamp_time_second,Bid1_Quantity,Bid2_Quantity,Bid3_Quantity,Ask1_Quantity,Ask2_Quantity,Ask3_Quantity,weight1,weight2,weight3)\n",
    "mat22_2_15 = bid(time1,time2,Bid2,Ask1,close_price,timestamp_time_second,Bid1_Quantity,Bid2_Quantity,Bid3_Quantity,Ask1_Quantity,Ask2_Quantity,Ask3_Quantity,weight1,weight2,weight3)\n",
    "mat22_3_15 = bid(time1,time2,Bid3,Ask1,close_price,timestamp_time_second,Bid1_Quantity,Bid2_Quantity,Bid3_Quantity,Ask1_Quantity,Ask2_Quantity,Ask3_Quantity,weight1,weight2,weight3)"
   ]
  },
  {
   "cell_type": "code",
   "execution_count": 83,
   "metadata": {
    "collapsed": true
   },
   "outputs": [],
   "source": [
    "time1 = 600\n",
    "time2 = 7200\n",
    "mat22_1_11 = bid(time1,time2,Bid1,Ask1,close_price,timestamp_time_second,Bid1_Quantity,Bid2_Quantity,Bid3_Quantity,Ask1_Quantity,Ask2_Quantity,Ask3_Quantity,weight1,weight2,weight3)\n",
    "mat22_2_11 = bid(time1,time2,Bid2,Ask1,close_price,timestamp_time_second,Bid1_Quantity,Bid2_Quantity,Bid3_Quantity,Ask1_Quantity,Ask2_Quantity,Ask3_Quantity,weight1,weight2,weight3)\n",
    "mat22_3_11 = bid(time1,time2,Bid3,Ask1,close_price,timestamp_time_second,Bid1_Quantity,Bid2_Quantity,Bid3_Quantity,Ask1_Quantity,Ask2_Quantity,Ask3_Quantity,weight1,weight2,weight3)"
   ]
  },
  {
   "cell_type": "code",
   "execution_count": 84,
   "metadata": {
    "collapsed": true
   },
   "outputs": [],
   "source": [
    "time1 = 7200\n",
    "time2 = 14400\n",
    "mat22_1_13 = bid(time1,time2,Bid1,Ask1,close_price,timestamp_time_second,Bid1_Quantity,Bid2_Quantity,Bid3_Quantity,Ask1_Quantity,Ask2_Quantity,Ask3_Quantity,weight1,weight2,weight3)\n",
    "mat22_2_13 = bid(time1,time2,Bid2,Ask1,close_price,timestamp_time_second,Bid1_Quantity,Bid2_Quantity,Bid3_Quantity,Ask1_Quantity,Ask2_Quantity,Ask3_Quantity,weight1,weight2,weight3)\n",
    "mat22_3_13 = bid(time1,time2,Bid3,Ask1,close_price,timestamp_time_second,Bid1_Quantity,Bid2_Quantity,Bid3_Quantity,Ask1_Quantity,Ask2_Quantity,Ask3_Quantity,weight1,weight2,weight3)"
   ]
  },
  {
   "cell_type": "code",
   "execution_count": 85,
   "metadata": {
    "collapsed": true
   },
   "outputs": [],
   "source": [
    "time1 = 14400\n",
    "time2 = 25200\n",
    "mat22_1_16 = bid(time1,time2,Bid1,Ask1,close_price,timestamp_time_second,Bid1_Quantity,Bid2_Quantity,Bid3_Quantity,Ask1_Quantity,Ask2_Quantity,Ask3_Quantity,weight1,weight2,weight3)\n",
    "mat22_2_16 = bid(time1,time2,Bid2,Ask1,close_price,timestamp_time_second,Bid1_Quantity,Bid2_Quantity,Bid3_Quantity,Ask1_Quantity,Ask2_Quantity,Ask3_Quantity,weight1,weight2,weight3)\n",
    "mat22_3_16 = bid(time1,time2,Bid3,Ask1,close_price,timestamp_time_second,Bid1_Quantity,Bid2_Quantity,Bid3_Quantity,Ask1_Quantity,Ask2_Quantity,Ask3_Quantity,weight1,weight2,weight3)"
   ]
  },
  {
   "cell_type": "code",
   "execution_count": null,
   "metadata": {
    "collapsed": true
   },
   "outputs": [],
   "source": []
  },
  {
   "cell_type": "code",
   "execution_count": null,
   "metadata": {
    "collapsed": true
   },
   "outputs": [],
   "source": []
  },
  {
   "cell_type": "code",
   "execution_count": null,
   "metadata": {
    "collapsed": true
   },
   "outputs": [],
   "source": []
  },
  {
   "cell_type": "markdown",
   "metadata": {},
   "source": [
    "### Day 1/21"
   ]
  },
  {
   "cell_type": "code",
   "execution_count": 86,
   "metadata": {
    "collapsed": true
   },
   "outputs": [],
   "source": [
    "data_book = order_book(1,21)\n",
    "data_book_open = data_book[1236:351679+1] # 9:00 ~ 16:00\n",
    "data_book_open = data_book_open.reset_index(drop = True)\n",
    "timestamp_time = day_time(1,21)\n",
    "timestamp_time_second = time_transform(timestamp_time)"
   ]
  },
  {
   "cell_type": "code",
   "execution_count": null,
   "metadata": {
    "collapsed": true
   },
   "outputs": [],
   "source": []
  },
  {
   "cell_type": "code",
   "execution_count": 87,
   "metadata": {
    "collapsed": false
   },
   "outputs": [
    {
     "name": "stdout",
     "output_type": "stream",
     "text": [
      "Total time = 121.217293\n"
     ]
    }
   ],
   "source": [
    "import time \n",
    "start = time.time()\n",
    "Bid1,Bid1_Quantity,Bid2,Bid2_Quantity,Bid3,Bid3_Quantity,Ask1,Ask1_Quantity,Ask2,Ask2_Quantity,Ask3,Ask3_Quantity = bid123_ask123_Q(data_book_open)\n",
    "end = time.time()  \n",
    "print \"Total time = %f\"%(end - start)"
   ]
  },
  {
   "cell_type": "code",
   "execution_count": 88,
   "metadata": {
    "collapsed": false
   },
   "outputs": [
    {
     "name": "stdout",
     "output_type": "stream",
     "text": [
      "Total time = 409.557436\n"
     ]
    }
   ],
   "source": [
    "import time \n",
    "start = time.time()\n",
    "rise_ratio_ask = rise_ask(Ask1,timestamp_time_second)\n",
    "end = time.time()  \n",
    "print \"Total time = %f\"%(end - start) "
   ]
  },
  {
   "cell_type": "code",
   "execution_count": 89,
   "metadata": {
    "collapsed": true
   },
   "outputs": [],
   "source": [
    "close_price = 6710\n",
    "weight1 = 0.50\n",
    "weight2 = 0.30\n",
    "weight3 = 0.20"
   ]
  },
  {
   "cell_type": "code",
   "execution_count": 90,
   "metadata": {
    "collapsed": true
   },
   "outputs": [],
   "source": [
    "time1 = 0\n",
    "time2 = 600\n",
    "mat21_1_15 = bid(time1,time2,Bid1,Ask1,close_price,timestamp_time_second,Bid1_Quantity,Bid2_Quantity,Bid3_Quantity,Ask1_Quantity,Ask2_Quantity,Ask3_Quantity,weight1,weight2,weight3)\n",
    "mat21_2_15 = bid(time1,time2,Bid2,Ask1,close_price,timestamp_time_second,Bid1_Quantity,Bid2_Quantity,Bid3_Quantity,Ask1_Quantity,Ask2_Quantity,Ask3_Quantity,weight1,weight2,weight3)\n",
    "mat21_3_15 = bid(time1,time2,Bid3,Ask1,close_price,timestamp_time_second,Bid1_Quantity,Bid2_Quantity,Bid3_Quantity,Ask1_Quantity,Ask2_Quantity,Ask3_Quantity,weight1,weight2,weight3)"
   ]
  },
  {
   "cell_type": "code",
   "execution_count": 91,
   "metadata": {
    "collapsed": true
   },
   "outputs": [],
   "source": [
    "time1 = 600\n",
    "time2 = 7200\n",
    "mat21_1_11 = bid(time1,time2,Bid1,Ask1,close_price,timestamp_time_second,Bid1_Quantity,Bid2_Quantity,Bid3_Quantity,Ask1_Quantity,Ask2_Quantity,Ask3_Quantity,weight1,weight2,weight3)\n",
    "mat21_2_11 = bid(time1,time2,Bid2,Ask1,close_price,timestamp_time_second,Bid1_Quantity,Bid2_Quantity,Bid3_Quantity,Ask1_Quantity,Ask2_Quantity,Ask3_Quantity,weight1,weight2,weight3)\n",
    "mat21_3_11 = bid(time1,time2,Bid3,Ask1,close_price,timestamp_time_second,Bid1_Quantity,Bid2_Quantity,Bid3_Quantity,Ask1_Quantity,Ask2_Quantity,Ask3_Quantity,weight1,weight2,weight3)"
   ]
  },
  {
   "cell_type": "code",
   "execution_count": 92,
   "metadata": {
    "collapsed": true
   },
   "outputs": [],
   "source": [
    "time1 = 7200\n",
    "time2 = 14400\n",
    "mat21_1_13 = bid(time1,time2,Bid1,Ask1,close_price,timestamp_time_second,Bid1_Quantity,Bid2_Quantity,Bid3_Quantity,Ask1_Quantity,Ask2_Quantity,Ask3_Quantity,weight1,weight2,weight3)\n",
    "mat21_2_13 = bid(time1,time2,Bid2,Ask1,close_price,timestamp_time_second,Bid1_Quantity,Bid2_Quantity,Bid3_Quantity,Ask1_Quantity,Ask2_Quantity,Ask3_Quantity,weight1,weight2,weight3)\n",
    "mat21_3_13 = bid(time1,time2,Bid3,Ask1,close_price,timestamp_time_second,Bid1_Quantity,Bid2_Quantity,Bid3_Quantity,Ask1_Quantity,Ask2_Quantity,Ask3_Quantity,weight1,weight2,weight3)"
   ]
  },
  {
   "cell_type": "code",
   "execution_count": 93,
   "metadata": {
    "collapsed": true
   },
   "outputs": [],
   "source": [
    "time1 = 14400\n",
    "time2 = 25200\n",
    "mat21_1_16 = bid(time1,time2,Bid1,Ask1,close_price,timestamp_time_second,Bid1_Quantity,Bid2_Quantity,Bid3_Quantity,Ask1_Quantity,Ask2_Quantity,Ask3_Quantity,weight1,weight2,weight3)\n",
    "mat21_2_16 = bid(time1,time2,Bid2,Ask1,close_price,timestamp_time_second,Bid1_Quantity,Bid2_Quantity,Bid3_Quantity,Ask1_Quantity,Ask2_Quantity,Ask3_Quantity,weight1,weight2,weight3)\n",
    "mat21_3_16 = bid(time1,time2,Bid3,Ask1,close_price,timestamp_time_second,Bid1_Quantity,Bid2_Quantity,Bid3_Quantity,Ask1_Quantity,Ask2_Quantity,Ask3_Quantity,weight1,weight2,weight3)"
   ]
  },
  {
   "cell_type": "code",
   "execution_count": null,
   "metadata": {
    "collapsed": true
   },
   "outputs": [],
   "source": []
  },
  {
   "cell_type": "code",
   "execution_count": null,
   "metadata": {
    "collapsed": true
   },
   "outputs": [],
   "source": []
  },
  {
   "cell_type": "code",
   "execution_count": null,
   "metadata": {
    "collapsed": true
   },
   "outputs": [],
   "source": []
  },
  {
   "cell_type": "markdown",
   "metadata": {},
   "source": [
    "### Day 1/20"
   ]
  },
  {
   "cell_type": "code",
   "execution_count": 94,
   "metadata": {
    "collapsed": true
   },
   "outputs": [],
   "source": [
    "data_book = order_book(1,20)\n",
    "data_book_open = data_book[1300:332255+1] # 9:00 ~ 16:00\n",
    "data_book_open = data_book_open.reset_index(drop = True)\n",
    "timestamp_time = day_time(1,20)\n",
    "timestamp_time_second = time_transform(timestamp_time)"
   ]
  },
  {
   "cell_type": "code",
   "execution_count": null,
   "metadata": {
    "collapsed": true
   },
   "outputs": [],
   "source": []
  },
  {
   "cell_type": "code",
   "execution_count": 95,
   "metadata": {
    "collapsed": false
   },
   "outputs": [
    {
     "name": "stdout",
     "output_type": "stream",
     "text": [
      "Total time = 112.028675\n"
     ]
    }
   ],
   "source": [
    "import time \n",
    "start = time.time()\n",
    "Bid1,Bid1_Quantity,Bid2,Bid2_Quantity,Bid3,Bid3_Quantity,Ask1,Ask1_Quantity,Ask2,Ask2_Quantity,Ask3,Ask3_Quantity = bid123_ask123_Q(data_book_open)\n",
    "end = time.time()  \n",
    "print \"Total time = %f\"%(end - start)"
   ]
  },
  {
   "cell_type": "code",
   "execution_count": 96,
   "metadata": {
    "collapsed": false
   },
   "outputs": [
    {
     "name": "stdout",
     "output_type": "stream",
     "text": [
      "Total time = 237.243867\n"
     ]
    }
   ],
   "source": [
    "import time \n",
    "start = time.time()\n",
    "rise_ratio_ask = rise_ask(Ask1,timestamp_time_second)\n",
    "end = time.time()  \n",
    "print \"Total time = %f\"%(end - start) "
   ]
  },
  {
   "cell_type": "code",
   "execution_count": 97,
   "metadata": {
    "collapsed": true
   },
   "outputs": [],
   "source": [
    "close_price = 6655\n",
    "weight1 = 0.50\n",
    "weight2 = 0.30\n",
    "weight3 = 0.20"
   ]
  },
  {
   "cell_type": "code",
   "execution_count": 98,
   "metadata": {
    "collapsed": true
   },
   "outputs": [],
   "source": [
    "time1 = 0\n",
    "time2 = 600\n",
    "mat20_1_15 = bid(time1,time2,Bid1,Ask1,close_price,timestamp_time_second,Bid1_Quantity,Bid2_Quantity,Bid3_Quantity,Ask1_Quantity,Ask2_Quantity,Ask3_Quantity,weight1,weight2,weight3)\n",
    "mat20_2_15 = bid(time1,time2,Bid2,Ask1,close_price,timestamp_time_second,Bid1_Quantity,Bid2_Quantity,Bid3_Quantity,Ask1_Quantity,Ask2_Quantity,Ask3_Quantity,weight1,weight2,weight3)\n",
    "mat20_3_15 = bid(time1,time2,Bid3,Ask1,close_price,timestamp_time_second,Bid1_Quantity,Bid2_Quantity,Bid3_Quantity,Ask1_Quantity,Ask2_Quantity,Ask3_Quantity,weight1,weight2,weight3)"
   ]
  },
  {
   "cell_type": "code",
   "execution_count": 99,
   "metadata": {
    "collapsed": true
   },
   "outputs": [],
   "source": [
    "time1 = 600\n",
    "time2 = 7200\n",
    "mat20_1_11 = bid(time1,time2,Bid1,Ask1,close_price,timestamp_time_second,Bid1_Quantity,Bid2_Quantity,Bid3_Quantity,Ask1_Quantity,Ask2_Quantity,Ask3_Quantity,weight1,weight2,weight3)\n",
    "mat20_2_11 = bid(time1,time2,Bid2,Ask1,close_price,timestamp_time_second,Bid1_Quantity,Bid2_Quantity,Bid3_Quantity,Ask1_Quantity,Ask2_Quantity,Ask3_Quantity,weight1,weight2,weight3)\n",
    "mat20_3_11 = bid(time1,time2,Bid3,Ask1,close_price,timestamp_time_second,Bid1_Quantity,Bid2_Quantity,Bid3_Quantity,Ask1_Quantity,Ask2_Quantity,Ask3_Quantity,weight1,weight2,weight3)"
   ]
  },
  {
   "cell_type": "code",
   "execution_count": 100,
   "metadata": {
    "collapsed": true
   },
   "outputs": [],
   "source": [
    "time1 = 7200\n",
    "time2 = 14400\n",
    "mat20_1_13 = bid(time1,time2,Bid1,Ask1,close_price,timestamp_time_second,Bid1_Quantity,Bid2_Quantity,Bid3_Quantity,Ask1_Quantity,Ask2_Quantity,Ask3_Quantity,weight1,weight2,weight3)\n",
    "mat20_2_13 = bid(time1,time2,Bid2,Ask1,close_price,timestamp_time_second,Bid1_Quantity,Bid2_Quantity,Bid3_Quantity,Ask1_Quantity,Ask2_Quantity,Ask3_Quantity,weight1,weight2,weight3)\n",
    "mat20_3_13 = bid(time1,time2,Bid3,Ask1,close_price,timestamp_time_second,Bid1_Quantity,Bid2_Quantity,Bid3_Quantity,Ask1_Quantity,Ask2_Quantity,Ask3_Quantity,weight1,weight2,weight3)"
   ]
  },
  {
   "cell_type": "code",
   "execution_count": 101,
   "metadata": {
    "collapsed": true
   },
   "outputs": [],
   "source": [
    "time1 = 14400\n",
    "time2 = 25200\n",
    "mat20_1_16 = bid(time1,time2,Bid1,Ask1,close_price,timestamp_time_second,Bid1_Quantity,Bid2_Quantity,Bid3_Quantity,Ask1_Quantity,Ask2_Quantity,Ask3_Quantity,weight1,weight2,weight3)\n",
    "mat20_2_16 = bid(time1,time2,Bid2,Ask1,close_price,timestamp_time_second,Bid1_Quantity,Bid2_Quantity,Bid3_Quantity,Ask1_Quantity,Ask2_Quantity,Ask3_Quantity,weight1,weight2,weight3)\n",
    "mat20_3_16 = bid(time1,time2,Bid3,Ask1,close_price,timestamp_time_second,Bid1_Quantity,Bid2_Quantity,Bid3_Quantity,Ask1_Quantity,Ask2_Quantity,Ask3_Quantity,weight1,weight2,weight3)"
   ]
  },
  {
   "cell_type": "code",
   "execution_count": null,
   "metadata": {
    "collapsed": true
   },
   "outputs": [],
   "source": []
  },
  {
   "cell_type": "code",
   "execution_count": null,
   "metadata": {
    "collapsed": true
   },
   "outputs": [],
   "source": []
  },
  {
   "cell_type": "code",
   "execution_count": null,
   "metadata": {
    "collapsed": true
   },
   "outputs": [],
   "source": []
  },
  {
   "cell_type": "markdown",
   "metadata": {},
   "source": [
    "### Day 1/17"
   ]
  },
  {
   "cell_type": "code",
   "execution_count": 170,
   "metadata": {
    "collapsed": true
   },
   "outputs": [],
   "source": [
    "data_book = order_book(1,17)\n",
    "data_book_open = data_book[968:377687+1] # 9:00 ~ 16:00\n",
    "data_book_open = data_book_open.reset_index(drop = True)\n",
    "timestamp_time = day_time(1,17)\n",
    "timestamp_time_second = time_transform(timestamp_time)"
   ]
  },
  {
   "cell_type": "code",
   "execution_count": 107,
   "metadata": {
    "collapsed": false,
    "scrolled": true
   },
   "outputs": [],
   "source": [
    "#data_book_open"
   ]
  },
  {
   "cell_type": "code",
   "execution_count": 171,
   "metadata": {
    "collapsed": false
   },
   "outputs": [
    {
     "name": "stdout",
     "output_type": "stream",
     "text": [
      "Total time = 183.318054\n"
     ]
    }
   ],
   "source": [
    "import time \n",
    "start = time.time()\n",
    "Bid1,Bid1_Quantity,Bid2,Bid2_Quantity,Bid3,Bid3_Quantity,Ask1,Ask1_Quantity,Ask2,Ask2_Quantity,Ask3,Ask3_Quantity = bid123_ask123_Q(data_book_open)\n",
    "end = time.time()  \n",
    "print \"Total time = %f\"%(end - start)"
   ]
  },
  {
   "cell_type": "code",
   "execution_count": 172,
   "metadata": {
    "collapsed": false
   },
   "outputs": [
    {
     "name": "stdout",
     "output_type": "stream",
     "text": [
      "Total time = 542.924225\n"
     ]
    }
   ],
   "source": [
    "import time \n",
    "start = time.time()\n",
    "rise_ratio_ask = rise_ask(Ask1,timestamp_time_second)\n",
    "end = time.time()  \n",
    "print \"Total time = %f\"%(end - start) "
   ]
  },
  {
   "cell_type": "code",
   "execution_count": 173,
   "metadata": {
    "collapsed": true
   },
   "outputs": [],
   "source": [
    "close_price = 6680\n",
    "weight1 = 0.50\n",
    "weight2 = 0.30\n",
    "weight3 = 0.20"
   ]
  },
  {
   "cell_type": "code",
   "execution_count": 174,
   "metadata": {
    "collapsed": true
   },
   "outputs": [],
   "source": [
    "time1 = 0\n",
    "time2 = 600\n",
    "mat17_1_11 = bid(time1,time2,Bid1,Ask1,close_price,timestamp_time_second,Bid1_Quantity,Bid2_Quantity,Bid3_Quantity,Ask1_Quantity,Ask2_Quantity,Ask3_Quantity,weight1,weight2,weight3)\n",
    "mat17_2_11 = bid(time1,time2,Bid2,Ask1,close_price,timestamp_time_second,Bid1_Quantity,Bid2_Quantity,Bid3_Quantity,Ask1_Quantity,Ask2_Quantity,Ask3_Quantity,weight1,weight2,weight3)\n",
    "mat17_3_11 = bid(time1,time2,Bid3,Ask1,close_price,timestamp_time_second,Bid1_Quantity,Bid2_Quantity,Bid3_Quantity,Ask1_Quantity,Ask2_Quantity,Ask3_Quantity,weight1,weight2,weight3)"
   ]
  },
  {
   "cell_type": "code",
   "execution_count": 112,
   "metadata": {
    "collapsed": true
   },
   "outputs": [],
   "source": [
    "time1 = 600\n",
    "time2 = 7200\n",
    "mat17_1_15 = bid(time1,time2,Bid1,Ask1,close_price,timestamp_time_second,Bid1_Quantity,Bid2_Quantity,Bid3_Quantity,Ask1_Quantity,Ask2_Quantity,Ask3_Quantity,weight1,weight2,weight3)\n",
    "mat17_2_15 = bid(time1,time2,Bid2,Ask1,close_price,timestamp_time_second,Bid1_Quantity,Bid2_Quantity,Bid3_Quantity,Ask1_Quantity,Ask2_Quantity,Ask3_Quantity,weight1,weight2,weight3)\n",
    "mat17_3_15 = bid(time1,time2,Bid3,Ask1,close_price,timestamp_time_second,Bid1_Quantity,Bid2_Quantity,Bid3_Quantity,Ask1_Quantity,Ask2_Quantity,Ask3_Quantity,weight1,weight2,weight3)"
   ]
  },
  {
   "cell_type": "code",
   "execution_count": 113,
   "metadata": {
    "collapsed": true
   },
   "outputs": [],
   "source": [
    "time1 = 7200\n",
    "time2 = 14400\n",
    "mat17_1_13 = bid(time1,time2,Bid1,Ask1,close_price,timestamp_time_second,Bid1_Quantity,Bid2_Quantity,Bid3_Quantity,Ask1_Quantity,Ask2_Quantity,Ask3_Quantity,weight1,weight2,weight3)\n",
    "mat17_2_13 = bid(time1,time2,Bid2,Ask1,close_price,timestamp_time_second,Bid1_Quantity,Bid2_Quantity,Bid3_Quantity,Ask1_Quantity,Ask2_Quantity,Ask3_Quantity,weight1,weight2,weight3)\n",
    "mat17_3_13 = bid(time1,time2,Bid3,Ask1,close_price,timestamp_time_second,Bid1_Quantity,Bid2_Quantity,Bid3_Quantity,Ask1_Quantity,Ask2_Quantity,Ask3_Quantity,weight1,weight2,weight3)"
   ]
  },
  {
   "cell_type": "code",
   "execution_count": 114,
   "metadata": {
    "collapsed": true
   },
   "outputs": [],
   "source": [
    "time1 = 14400\n",
    "time2 = 25200\n",
    "mat17_1_16 = bid(time1,time2,Bid1,Ask1,close_price,timestamp_time_second,Bid1_Quantity,Bid2_Quantity,Bid3_Quantity,Ask1_Quantity,Ask2_Quantity,Ask3_Quantity,weight1,weight2,weight3)\n",
    "mat17_2_16 = bid(time1,time2,Bid2,Ask1,close_price,timestamp_time_second,Bid1_Quantity,Bid2_Quantity,Bid3_Quantity,Ask1_Quantity,Ask2_Quantity,Ask3_Quantity,weight1,weight2,weight3)\n",
    "mat17_3_16 = bid(time1,time2,Bid3,Ask1,close_price,timestamp_time_second,Bid1_Quantity,Bid2_Quantity,Bid3_Quantity,Ask1_Quantity,Ask2_Quantity,Ask3_Quantity,weight1,weight2,weight3)"
   ]
  },
  {
   "cell_type": "code",
   "execution_count": null,
   "metadata": {
    "collapsed": true
   },
   "outputs": [],
   "source": []
  },
  {
   "cell_type": "code",
   "execution_count": null,
   "metadata": {
    "collapsed": true
   },
   "outputs": [],
   "source": []
  },
  {
   "cell_type": "code",
   "execution_count": null,
   "metadata": {
    "collapsed": true
   },
   "outputs": [],
   "source": []
  },
  {
   "cell_type": "markdown",
   "metadata": {},
   "source": [
    "### Day 1/16"
   ]
  },
  {
   "cell_type": "code",
   "execution_count": 115,
   "metadata": {
    "collapsed": true
   },
   "outputs": [],
   "source": [
    "data_book = order_book(1,16)\n",
    "data_book_open = data_book[1380:285495+1] # 9:00 ~ 16:00\n",
    "data_book_open = data_book_open.reset_index(drop = True)\n",
    "timestamp_time = day_time(1,16)\n",
    "timestamp_time_second = time_transform(timestamp_time)"
   ]
  },
  {
   "cell_type": "code",
   "execution_count": 116,
   "metadata": {
    "collapsed": false,
    "scrolled": true
   },
   "outputs": [
    {
     "data": {
      "text/html": [
       "<div>\n",
       "<table border=\"1\" class=\"dataframe\">\n",
       "  <thead>\n",
       "    <tr style=\"text-align: right;\">\n",
       "      <th></th>\n",
       "      <th>0</th>\n",
       "      <th>1</th>\n",
       "      <th>2</th>\n",
       "      <th>3</th>\n",
       "    </tr>\n",
       "  </thead>\n",
       "  <tbody>\n",
       "    <tr>\n",
       "      <th>0</th>\n",
       "      <td>TimeStamp</td>\n",
       "      <td>09:00:00.045499800</td>\n",
       "      <td>NaN</td>\n",
       "      <td>NaN</td>\n",
       "    </tr>\n",
       "    <tr>\n",
       "      <th>1</th>\n",
       "      <td>677000</td>\n",
       "      <td>5</td>\n",
       "      <td>677500.0</td>\n",
       "      <td>5.0</td>\n",
       "    </tr>\n",
       "    <tr>\n",
       "      <th>2</th>\n",
       "      <td>676500</td>\n",
       "      <td>28</td>\n",
       "      <td>678000.0</td>\n",
       "      <td>76.0</td>\n",
       "    </tr>\n",
       "    <tr>\n",
       "      <th>3</th>\n",
       "      <td>676000</td>\n",
       "      <td>28</td>\n",
       "      <td>678500.0</td>\n",
       "      <td>68.0</td>\n",
       "    </tr>\n",
       "    <tr>\n",
       "      <th>4</th>\n",
       "      <td>TimeStamp</td>\n",
       "      <td>09:00:00.046499800</td>\n",
       "      <td>NaN</td>\n",
       "      <td>NaN</td>\n",
       "    </tr>\n",
       "    <tr>\n",
       "      <th>5</th>\n",
       "      <td>677000</td>\n",
       "      <td>5</td>\n",
       "      <td>677500.0</td>\n",
       "      <td>5.0</td>\n",
       "    </tr>\n",
       "    <tr>\n",
       "      <th>6</th>\n",
       "      <td>676500</td>\n",
       "      <td>28</td>\n",
       "      <td>678000.0</td>\n",
       "      <td>76.0</td>\n",
       "    </tr>\n",
       "    <tr>\n",
       "      <th>7</th>\n",
       "      <td>676000</td>\n",
       "      <td>38</td>\n",
       "      <td>678500.0</td>\n",
       "      <td>68.0</td>\n",
       "    </tr>\n",
       "    <tr>\n",
       "      <th>8</th>\n",
       "      <td>TimeStamp</td>\n",
       "      <td>09:00:00.099498400</td>\n",
       "      <td>NaN</td>\n",
       "      <td>NaN</td>\n",
       "    </tr>\n",
       "    <tr>\n",
       "      <th>9</th>\n",
       "      <td>677000</td>\n",
       "      <td>5</td>\n",
       "      <td>677500.0</td>\n",
       "      <td>5.0</td>\n",
       "    </tr>\n",
       "    <tr>\n",
       "      <th>10</th>\n",
       "      <td>676500</td>\n",
       "      <td>28</td>\n",
       "      <td>678000.0</td>\n",
       "      <td>76.0</td>\n",
       "    </tr>\n",
       "    <tr>\n",
       "      <th>11</th>\n",
       "      <td>676000</td>\n",
       "      <td>38</td>\n",
       "      <td>678500.0</td>\n",
       "      <td>78.0</td>\n",
       "    </tr>\n",
       "    <tr>\n",
       "      <th>12</th>\n",
       "      <td>TimeStamp</td>\n",
       "      <td>09:00:00.100498300</td>\n",
       "      <td>NaN</td>\n",
       "      <td>NaN</td>\n",
       "    </tr>\n",
       "    <tr>\n",
       "      <th>13</th>\n",
       "      <td>677000</td>\n",
       "      <td>5</td>\n",
       "      <td>677500.0</td>\n",
       "      <td>5.0</td>\n",
       "    </tr>\n",
       "    <tr>\n",
       "      <th>14</th>\n",
       "      <td>676500</td>\n",
       "      <td>28</td>\n",
       "      <td>678000.0</td>\n",
       "      <td>76.0</td>\n",
       "    </tr>\n",
       "    <tr>\n",
       "      <th>15</th>\n",
       "      <td>676000</td>\n",
       "      <td>38</td>\n",
       "      <td>678500.0</td>\n",
       "      <td>78.0</td>\n",
       "    </tr>\n",
       "    <tr>\n",
       "      <th>16</th>\n",
       "      <td>TimeStamp</td>\n",
       "      <td>09:00:00.686487800</td>\n",
       "      <td>NaN</td>\n",
       "      <td>NaN</td>\n",
       "    </tr>\n",
       "    <tr>\n",
       "      <th>17</th>\n",
       "      <td>677000</td>\n",
       "      <td>5</td>\n",
       "      <td>677500.0</td>\n",
       "      <td>5.0</td>\n",
       "    </tr>\n",
       "    <tr>\n",
       "      <th>18</th>\n",
       "      <td>676500</td>\n",
       "      <td>28</td>\n",
       "      <td>678000.0</td>\n",
       "      <td>76.0</td>\n",
       "    </tr>\n",
       "    <tr>\n",
       "      <th>19</th>\n",
       "      <td>676000</td>\n",
       "      <td>38</td>\n",
       "      <td>678500.0</td>\n",
       "      <td>78.0</td>\n",
       "    </tr>\n",
       "    <tr>\n",
       "      <th>20</th>\n",
       "      <td>TimeStamp</td>\n",
       "      <td>09:00:00.715487800</td>\n",
       "      <td>NaN</td>\n",
       "      <td>NaN</td>\n",
       "    </tr>\n",
       "    <tr>\n",
       "      <th>21</th>\n",
       "      <td>677000</td>\n",
       "      <td>5</td>\n",
       "      <td>677500.0</td>\n",
       "      <td>5.0</td>\n",
       "    </tr>\n",
       "    <tr>\n",
       "      <th>22</th>\n",
       "      <td>676500</td>\n",
       "      <td>28</td>\n",
       "      <td>678000.0</td>\n",
       "      <td>76.0</td>\n",
       "    </tr>\n",
       "    <tr>\n",
       "      <th>23</th>\n",
       "      <td>676000</td>\n",
       "      <td>38</td>\n",
       "      <td>678500.0</td>\n",
       "      <td>78.0</td>\n",
       "    </tr>\n",
       "    <tr>\n",
       "      <th>24</th>\n",
       "      <td>TimeStamp</td>\n",
       "      <td>09:00:00.753487800</td>\n",
       "      <td>NaN</td>\n",
       "      <td>NaN</td>\n",
       "    </tr>\n",
       "    <tr>\n",
       "      <th>25</th>\n",
       "      <td>677000</td>\n",
       "      <td>5</td>\n",
       "      <td>677500.0</td>\n",
       "      <td>5.0</td>\n",
       "    </tr>\n",
       "    <tr>\n",
       "      <th>26</th>\n",
       "      <td>676500</td>\n",
       "      <td>28</td>\n",
       "      <td>678000.0</td>\n",
       "      <td>76.0</td>\n",
       "    </tr>\n",
       "    <tr>\n",
       "      <th>27</th>\n",
       "      <td>676000</td>\n",
       "      <td>38</td>\n",
       "      <td>678500.0</td>\n",
       "      <td>78.0</td>\n",
       "    </tr>\n",
       "    <tr>\n",
       "      <th>28</th>\n",
       "      <td>TimeStamp</td>\n",
       "      <td>09:00:01.753475800</td>\n",
       "      <td>NaN</td>\n",
       "      <td>NaN</td>\n",
       "    </tr>\n",
       "    <tr>\n",
       "      <th>29</th>\n",
       "      <td>677000</td>\n",
       "      <td>5</td>\n",
       "      <td>677500.0</td>\n",
       "      <td>5.0</td>\n",
       "    </tr>\n",
       "    <tr>\n",
       "      <th>...</th>\n",
       "      <td>...</td>\n",
       "      <td>...</td>\n",
       "      <td>...</td>\n",
       "      <td>...</td>\n",
       "    </tr>\n",
       "    <tr>\n",
       "      <th>284086</th>\n",
       "      <td>674000</td>\n",
       "      <td>182</td>\n",
       "      <td>675000.0</td>\n",
       "      <td>37.0</td>\n",
       "    </tr>\n",
       "    <tr>\n",
       "      <th>284087</th>\n",
       "      <td>673500</td>\n",
       "      <td>20</td>\n",
       "      <td>675500.0</td>\n",
       "      <td>82.0</td>\n",
       "    </tr>\n",
       "    <tr>\n",
       "      <th>284088</th>\n",
       "      <td>TimeStamp</td>\n",
       "      <td>15:59:53.803372900</td>\n",
       "      <td>NaN</td>\n",
       "      <td>NaN</td>\n",
       "    </tr>\n",
       "    <tr>\n",
       "      <th>284089</th>\n",
       "      <td>674500</td>\n",
       "      <td>450</td>\n",
       "      <td>674500.0</td>\n",
       "      <td>374.0</td>\n",
       "    </tr>\n",
       "    <tr>\n",
       "      <th>284090</th>\n",
       "      <td>674000</td>\n",
       "      <td>182</td>\n",
       "      <td>675000.0</td>\n",
       "      <td>37.0</td>\n",
       "    </tr>\n",
       "    <tr>\n",
       "      <th>284091</th>\n",
       "      <td>673500</td>\n",
       "      <td>20</td>\n",
       "      <td>675500.0</td>\n",
       "      <td>82.0</td>\n",
       "    </tr>\n",
       "    <tr>\n",
       "      <th>284092</th>\n",
       "      <td>TimeStamp</td>\n",
       "      <td>15:59:53.963372900</td>\n",
       "      <td>NaN</td>\n",
       "      <td>NaN</td>\n",
       "    </tr>\n",
       "    <tr>\n",
       "      <th>284093</th>\n",
       "      <td>674500</td>\n",
       "      <td>450</td>\n",
       "      <td>674500.0</td>\n",
       "      <td>401.0</td>\n",
       "    </tr>\n",
       "    <tr>\n",
       "      <th>284094</th>\n",
       "      <td>674000</td>\n",
       "      <td>182</td>\n",
       "      <td>675000.0</td>\n",
       "      <td>37.0</td>\n",
       "    </tr>\n",
       "    <tr>\n",
       "      <th>284095</th>\n",
       "      <td>673500</td>\n",
       "      <td>20</td>\n",
       "      <td>675500.0</td>\n",
       "      <td>82.0</td>\n",
       "    </tr>\n",
       "    <tr>\n",
       "      <th>284096</th>\n",
       "      <td>TimeStamp</td>\n",
       "      <td>15:59:55.587359900</td>\n",
       "      <td>NaN</td>\n",
       "      <td>NaN</td>\n",
       "    </tr>\n",
       "    <tr>\n",
       "      <th>284097</th>\n",
       "      <td>674500</td>\n",
       "      <td>460</td>\n",
       "      <td>674500.0</td>\n",
       "      <td>401.0</td>\n",
       "    </tr>\n",
       "    <tr>\n",
       "      <th>284098</th>\n",
       "      <td>674000</td>\n",
       "      <td>182</td>\n",
       "      <td>675000.0</td>\n",
       "      <td>37.0</td>\n",
       "    </tr>\n",
       "    <tr>\n",
       "      <th>284099</th>\n",
       "      <td>673500</td>\n",
       "      <td>20</td>\n",
       "      <td>675500.0</td>\n",
       "      <td>82.0</td>\n",
       "    </tr>\n",
       "    <tr>\n",
       "      <th>284100</th>\n",
       "      <td>TimeStamp</td>\n",
       "      <td>15:59:55.608359900</td>\n",
       "      <td>NaN</td>\n",
       "      <td>NaN</td>\n",
       "    </tr>\n",
       "    <tr>\n",
       "      <th>284101</th>\n",
       "      <td>674500</td>\n",
       "      <td>475</td>\n",
       "      <td>674500.0</td>\n",
       "      <td>401.0</td>\n",
       "    </tr>\n",
       "    <tr>\n",
       "      <th>284102</th>\n",
       "      <td>674000</td>\n",
       "      <td>182</td>\n",
       "      <td>675000.0</td>\n",
       "      <td>37.0</td>\n",
       "    </tr>\n",
       "    <tr>\n",
       "      <th>284103</th>\n",
       "      <td>673500</td>\n",
       "      <td>20</td>\n",
       "      <td>675500.0</td>\n",
       "      <td>82.0</td>\n",
       "    </tr>\n",
       "    <tr>\n",
       "      <th>284104</th>\n",
       "      <td>TimeStamp</td>\n",
       "      <td>15:59:55.691352500</td>\n",
       "      <td>NaN</td>\n",
       "      <td>NaN</td>\n",
       "    </tr>\n",
       "    <tr>\n",
       "      <th>284105</th>\n",
       "      <td>674500</td>\n",
       "      <td>478</td>\n",
       "      <td>674500.0</td>\n",
       "      <td>401.0</td>\n",
       "    </tr>\n",
       "    <tr>\n",
       "      <th>284106</th>\n",
       "      <td>674000</td>\n",
       "      <td>182</td>\n",
       "      <td>675000.0</td>\n",
       "      <td>37.0</td>\n",
       "    </tr>\n",
       "    <tr>\n",
       "      <th>284107</th>\n",
       "      <td>673500</td>\n",
       "      <td>20</td>\n",
       "      <td>675500.0</td>\n",
       "      <td>82.0</td>\n",
       "    </tr>\n",
       "    <tr>\n",
       "      <th>284108</th>\n",
       "      <td>TimeStamp</td>\n",
       "      <td>15:59:58.828307900</td>\n",
       "      <td>NaN</td>\n",
       "      <td>NaN</td>\n",
       "    </tr>\n",
       "    <tr>\n",
       "      <th>284109</th>\n",
       "      <td>674500</td>\n",
       "      <td>440</td>\n",
       "      <td>674500.0</td>\n",
       "      <td>362.0</td>\n",
       "    </tr>\n",
       "    <tr>\n",
       "      <th>284110</th>\n",
       "      <td>674000</td>\n",
       "      <td>182</td>\n",
       "      <td>675000.0</td>\n",
       "      <td>37.0</td>\n",
       "    </tr>\n",
       "    <tr>\n",
       "      <th>284111</th>\n",
       "      <td>673500</td>\n",
       "      <td>20</td>\n",
       "      <td>675500.0</td>\n",
       "      <td>82.0</td>\n",
       "    </tr>\n",
       "    <tr>\n",
       "      <th>284112</th>\n",
       "      <td>TimeStamp</td>\n",
       "      <td>16:00:00.024294900</td>\n",
       "      <td>NaN</td>\n",
       "      <td>NaN</td>\n",
       "    </tr>\n",
       "    <tr>\n",
       "      <th>284113</th>\n",
       "      <td>674500</td>\n",
       "      <td>79</td>\n",
       "      <td>675000.0</td>\n",
       "      <td>37.0</td>\n",
       "    </tr>\n",
       "    <tr>\n",
       "      <th>284114</th>\n",
       "      <td>674000</td>\n",
       "      <td>182</td>\n",
       "      <td>675500.0</td>\n",
       "      <td>82.0</td>\n",
       "    </tr>\n",
       "    <tr>\n",
       "      <th>284115</th>\n",
       "      <td>673500</td>\n",
       "      <td>20</td>\n",
       "      <td>676000.0</td>\n",
       "      <td>93.0</td>\n",
       "    </tr>\n",
       "  </tbody>\n",
       "</table>\n",
       "<p>284116 rows × 4 columns</p>\n",
       "</div>"
      ],
      "text/plain": [
       "                0                   1         2      3\n",
       "0       TimeStamp  09:00:00.045499800       NaN    NaN\n",
       "1          677000                   5  677500.0    5.0\n",
       "2          676500                  28  678000.0   76.0\n",
       "3          676000                  28  678500.0   68.0\n",
       "4       TimeStamp  09:00:00.046499800       NaN    NaN\n",
       "5          677000                   5  677500.0    5.0\n",
       "6          676500                  28  678000.0   76.0\n",
       "7          676000                  38  678500.0   68.0\n",
       "8       TimeStamp  09:00:00.099498400       NaN    NaN\n",
       "9          677000                   5  677500.0    5.0\n",
       "10         676500                  28  678000.0   76.0\n",
       "11         676000                  38  678500.0   78.0\n",
       "12      TimeStamp  09:00:00.100498300       NaN    NaN\n",
       "13         677000                   5  677500.0    5.0\n",
       "14         676500                  28  678000.0   76.0\n",
       "15         676000                  38  678500.0   78.0\n",
       "16      TimeStamp  09:00:00.686487800       NaN    NaN\n",
       "17         677000                   5  677500.0    5.0\n",
       "18         676500                  28  678000.0   76.0\n",
       "19         676000                  38  678500.0   78.0\n",
       "20      TimeStamp  09:00:00.715487800       NaN    NaN\n",
       "21         677000                   5  677500.0    5.0\n",
       "22         676500                  28  678000.0   76.0\n",
       "23         676000                  38  678500.0   78.0\n",
       "24      TimeStamp  09:00:00.753487800       NaN    NaN\n",
       "25         677000                   5  677500.0    5.0\n",
       "26         676500                  28  678000.0   76.0\n",
       "27         676000                  38  678500.0   78.0\n",
       "28      TimeStamp  09:00:01.753475800       NaN    NaN\n",
       "29         677000                   5  677500.0    5.0\n",
       "...           ...                 ...       ...    ...\n",
       "284086     674000                 182  675000.0   37.0\n",
       "284087     673500                  20  675500.0   82.0\n",
       "284088  TimeStamp  15:59:53.803372900       NaN    NaN\n",
       "284089     674500                 450  674500.0  374.0\n",
       "284090     674000                 182  675000.0   37.0\n",
       "284091     673500                  20  675500.0   82.0\n",
       "284092  TimeStamp  15:59:53.963372900       NaN    NaN\n",
       "284093     674500                 450  674500.0  401.0\n",
       "284094     674000                 182  675000.0   37.0\n",
       "284095     673500                  20  675500.0   82.0\n",
       "284096  TimeStamp  15:59:55.587359900       NaN    NaN\n",
       "284097     674500                 460  674500.0  401.0\n",
       "284098     674000                 182  675000.0   37.0\n",
       "284099     673500                  20  675500.0   82.0\n",
       "284100  TimeStamp  15:59:55.608359900       NaN    NaN\n",
       "284101     674500                 475  674500.0  401.0\n",
       "284102     674000                 182  675000.0   37.0\n",
       "284103     673500                  20  675500.0   82.0\n",
       "284104  TimeStamp  15:59:55.691352500       NaN    NaN\n",
       "284105     674500                 478  674500.0  401.0\n",
       "284106     674000                 182  675000.0   37.0\n",
       "284107     673500                  20  675500.0   82.0\n",
       "284108  TimeStamp  15:59:58.828307900       NaN    NaN\n",
       "284109     674500                 440  674500.0  362.0\n",
       "284110     674000                 182  675000.0   37.0\n",
       "284111     673500                  20  675500.0   82.0\n",
       "284112  TimeStamp  16:00:00.024294900       NaN    NaN\n",
       "284113     674500                  79  675000.0   37.0\n",
       "284114     674000                 182  675500.0   82.0\n",
       "284115     673500                  20  676000.0   93.0\n",
       "\n",
       "[284116 rows x 4 columns]"
      ]
     },
     "execution_count": 116,
     "metadata": {},
     "output_type": "execute_result"
    }
   ],
   "source": [
    "#data_book_open"
   ]
  },
  {
   "cell_type": "code",
   "execution_count": 117,
   "metadata": {
    "collapsed": false
   },
   "outputs": [
    {
     "name": "stdout",
     "output_type": "stream",
     "text": [
      "Total time = 101.965176\n"
     ]
    }
   ],
   "source": [
    "import time \n",
    "start = time.time()\n",
    "Bid1,Bid1_Quantity,Bid2,Bid2_Quantity,Bid3,Bid3_Quantity,Ask1,Ask1_Quantity,Ask2,Ask2_Quantity,Ask3,Ask3_Quantity = bid123_ask123_Q(data_book_open)\n",
    "end = time.time()  \n",
    "print \"Total time = %f\"%(end - start)"
   ]
  },
  {
   "cell_type": "code",
   "execution_count": 118,
   "metadata": {
    "collapsed": false
   },
   "outputs": [
    {
     "name": "stdout",
     "output_type": "stream",
     "text": [
      "Total time = 261.835881\n"
     ]
    }
   ],
   "source": [
    "import time \n",
    "start = time.time()\n",
    "rise_ratio_ask = rise_ask(Ask1,timestamp_time_second)\n",
    "end = time.time()  \n",
    "print \"Total time = %f\"%(end - start) "
   ]
  },
  {
   "cell_type": "code",
   "execution_count": 119,
   "metadata": {
    "collapsed": true
   },
   "outputs": [],
   "source": [
    "close_price = 6750\n",
    "weight1 = 0.50\n",
    "weight2 = 0.30\n",
    "weight3 = 0.20"
   ]
  },
  {
   "cell_type": "code",
   "execution_count": 120,
   "metadata": {
    "collapsed": true
   },
   "outputs": [],
   "source": [
    "time1 = 0\n",
    "time2 = 600\n",
    "mat16_1_15 = bid(time1,time2,Bid1,Ask1,close_price,timestamp_time_second,Bid1_Quantity,Bid2_Quantity,Bid3_Quantity,Ask1_Quantity,Ask2_Quantity,Ask3_Quantity,weight1,weight2,weight3)\n",
    "mat16_2_15 = bid(time1,time2,Bid2,Ask1,close_price,timestamp_time_second,Bid1_Quantity,Bid2_Quantity,Bid3_Quantity,Ask1_Quantity,Ask2_Quantity,Ask3_Quantity,weight1,weight2,weight3)\n",
    "mat16_3_15 = bid(time1,time2,Bid3,Ask1,close_price,timestamp_time_second,Bid1_Quantity,Bid2_Quantity,Bid3_Quantity,Ask1_Quantity,Ask2_Quantity,Ask3_Quantity,weight1,weight2,weight3)"
   ]
  },
  {
   "cell_type": "code",
   "execution_count": 121,
   "metadata": {
    "collapsed": true
   },
   "outputs": [],
   "source": [
    "time1 = 600\n",
    "time2 = 7200\n",
    "mat16_1_11 = bid(time1,time2,Bid1,Ask1,close_price,timestamp_time_second,Bid1_Quantity,Bid2_Quantity,Bid3_Quantity,Ask1_Quantity,Ask2_Quantity,Ask3_Quantity,weight1,weight2,weight3)\n",
    "mat16_2_11 = bid(time1,time2,Bid2,Ask1,close_price,timestamp_time_second,Bid1_Quantity,Bid2_Quantity,Bid3_Quantity,Ask1_Quantity,Ask2_Quantity,Ask3_Quantity,weight1,weight2,weight3)\n",
    "mat16_3_11 = bid(time1,time2,Bid3,Ask1,close_price,timestamp_time_second,Bid1_Quantity,Bid2_Quantity,Bid3_Quantity,Ask1_Quantity,Ask2_Quantity,Ask3_Quantity,weight1,weight2,weight3)"
   ]
  },
  {
   "cell_type": "code",
   "execution_count": 122,
   "metadata": {
    "collapsed": true
   },
   "outputs": [],
   "source": [
    "time1 = 7200\n",
    "time2 = 14400\n",
    "mat16_1_13 = bid(time1,time2,Bid1,Ask1,close_price,timestamp_time_second,Bid1_Quantity,Bid2_Quantity,Bid3_Quantity,Ask1_Quantity,Ask2_Quantity,Ask3_Quantity,weight1,weight2,weight3)\n",
    "mat16_2_13 = bid(time1,time2,Bid2,Ask1,close_price,timestamp_time_second,Bid1_Quantity,Bid2_Quantity,Bid3_Quantity,Ask1_Quantity,Ask2_Quantity,Ask3_Quantity,weight1,weight2,weight3)\n",
    "mat16_3_13 = bid(time1,time2,Bid3,Ask1,close_price,timestamp_time_second,Bid1_Quantity,Bid2_Quantity,Bid3_Quantity,Ask1_Quantity,Ask2_Quantity,Ask3_Quantity,weight1,weight2,weight3)"
   ]
  },
  {
   "cell_type": "code",
   "execution_count": 123,
   "metadata": {
    "collapsed": true
   },
   "outputs": [],
   "source": [
    "time1 = 14400\n",
    "time2 = 25200\n",
    "mat16_1_16 = bid(time1,time2,Bid1,Ask1,close_price,timestamp_time_second,Bid1_Quantity,Bid2_Quantity,Bid3_Quantity,Ask1_Quantity,Ask2_Quantity,Ask3_Quantity,weight1,weight2,weight3)\n",
    "mat16_2_16 = bid(time1,time2,Bid2,Ask1,close_price,timestamp_time_second,Bid1_Quantity,Bid2_Quantity,Bid3_Quantity,Ask1_Quantity,Ask2_Quantity,Ask3_Quantity,weight1,weight2,weight3)\n",
    "mat16_3_16 = bid(time1,time2,Bid3,Ask1,close_price,timestamp_time_second,Bid1_Quantity,Bid2_Quantity,Bid3_Quantity,Ask1_Quantity,Ask2_Quantity,Ask3_Quantity,weight1,weight2,weight3)"
   ]
  },
  {
   "cell_type": "code",
   "execution_count": 124,
   "metadata": {
    "collapsed": true
   },
   "outputs": [],
   "source": [
    "SUM_Bid1_15 = \\\n",
    "array(mat16_1_15)+array(mat17_1_15)+array(mat20_1_15)+array(mat21_1_15)+array(mat22_1_15)+\\\n",
    "array(mat24_1_15)+array(mat27_1_15)+array(mat28_1_15)+array(mat29_1_15)\n",
    "SUM_Bid2_15 = \\\n",
    "array(mat16_2_15)+array(mat17_2_15)+array(mat20_2_15)+array(mat21_2_15)+array(mat22_2_15)+\\\n",
    "array(mat24_2_15)+array(mat27_2_15)+array(mat28_2_15)+array(mat29_2_15)\n",
    "SUM_Bid3_15 = \\\n",
    "array(mat16_3_15)+array(mat17_3_15)+array(mat20_3_15)+array(mat21_3_15)+array(mat22_3_15)+\\\n",
    "array(mat24_3_15)+array(mat27_3_15)+array(mat28_3_15)+array(mat29_3_15)"
   ]
  },
  {
   "cell_type": "code",
   "execution_count": 175,
   "metadata": {
    "collapsed": false
   },
   "outputs": [],
   "source": [
    "SUM_Bid1_11 = \\\n",
    "array(mat16_1_11)+array(mat17_1_11)+array(mat20_1_11)+array(mat21_1_11)+array(mat22_1_11)+\\\n",
    "array(mat24_1_11)+array(mat27_1_11)+array(mat28_1_11)+array(mat29_1_11)\n",
    "SUM_Bid2_11 = \\\n",
    "array(mat16_2_11)+array(mat17_2_11)+array(mat20_2_11)+array(mat21_2_11)+array(mat22_2_11)+\\\n",
    "array(mat24_2_11)+array(mat27_2_11)+array(mat28_2_11)+array(mat29_2_11)\n",
    "SUM_Bid3_11 = \\\n",
    "array(mat16_3_11)+array(mat17_3_11)+array(mat20_3_11)+array(mat21_3_11)+array(mat22_3_11)+\\\n",
    "array(mat24_3_11)+array(mat27_3_11)+array(mat28_3_11)+array(mat29_3_11)"
   ]
  },
  {
   "cell_type": "code",
   "execution_count": 127,
   "metadata": {
    "collapsed": true
   },
   "outputs": [],
   "source": [
    "SUM_Bid1_13 = \\\n",
    "array(mat16_1_13)+array(mat17_1_13)+array(mat20_1_13)+array(mat21_1_13)+array(mat22_1_13)+\\\n",
    "array(mat24_1_13)+array(mat27_1_13)+array(mat28_1_13)+array(mat29_1_13)\n",
    "SUM_Bid2_13 = \\\n",
    "array(mat16_2_13)+array(mat17_2_13)+array(mat20_2_13)+array(mat21_2_13)+array(mat22_2_13)+\\\n",
    "array(mat24_2_13)+array(mat27_2_13)+array(mat28_2_13)+array(mat29_2_13)\n",
    "SUM_Bid3_13 = \\\n",
    "array(mat16_3_13)+array(mat17_3_13)+array(mat20_3_13)+array(mat21_3_13)+array(mat22_3_13)+\\\n",
    "array(mat24_3_13)+array(mat27_3_13)+array(mat28_3_13)+array(mat29_3_13)"
   ]
  },
  {
   "cell_type": "code",
   "execution_count": 141,
   "metadata": {
    "collapsed": true
   },
   "outputs": [],
   "source": [
    "SUM_Bid1_16 = \\\n",
    "array(mat16_1_16)+array(mat17_1_16)+array(mat20_1_16)+array(mat21_1_16)+array(mat22_1_16)+\\\n",
    "array(mat24_1_16)+array(mat27_1_16)+array(mat28_1_16)+array(mat29_1_16)\n",
    "SUM_Bid2_16 = \\\n",
    "array(mat16_2_16)+array(mat17_2_16)+array(mat20_2_16)+array(mat21_2_16)+array(mat22_2_16)+\\\n",
    "array(mat24_2_16)+array(mat27_2_16)+array(mat28_2_16)+array(mat29_2_16)\n",
    "SUM_Bid3_16 = \\\n",
    "array(mat16_3_16)+array(mat17_3_16)+array(mat20_3_16)+array(mat21_3_16)+array(mat22_3_16)+\\\n",
    "array(mat24_3_16)+array(mat27_3_16)+array(mat28_3_16)+array(mat29_3_16)"
   ]
  },
  {
   "cell_type": "code",
   "execution_count": 129,
   "metadata": {
    "collapsed": false,
    "scrolled": true
   },
   "outputs": [
    {
     "data": {
      "text/plain": [
       "array([[  1.20000000e+02,   2.64000000e+02,   1.67800000e+03,\n",
       "          3.09000000e+02,   2.10000000e+01],\n",
       "       [  2.10000000e+01,   2.47000000e+02,   7.97000000e+02,\n",
       "          2.81000000e+02,   2.10000000e+01],\n",
       "       [ -1.90000000e+02,   1.68000000e+02,  -5.39000000e+02,\n",
       "          1.93000000e+02,   2.30000000e+01],\n",
       "       [  5.27000000e+02,   4.18000000e+02,   5.57600000e+03,\n",
       "          8.17000000e+02,   2.80000000e+01],\n",
       "       [  9.20430000e+04,   7.37300000e+04,   1.03451900e+06,\n",
       "          1.09316000e+05,   1.40300000e+03],\n",
       "       [  1.57000000e+02,   3.24000000e+02,   1.04700000e+03,\n",
       "          2.28000000e+02,   1.90000000e+01],\n",
       "       [  4.80000000e+01,   2.75000000e+02,   8.01000000e+02,\n",
       "          1.81000000e+02,   1.90000000e+01],\n",
       "       [ -2.60000000e+02,   7.50000000e+01,   4.01000000e+02,\n",
       "          9.30000000e+01,   2.00000000e+01],\n",
       "       [  6.84000000e+02,   7.99000000e+02,   3.08100000e+03,\n",
       "          6.30000000e+02,   2.80000000e+01],\n",
       "       [  1.04804000e+05,   9.28400000e+04,   5.04146000e+05,\n",
       "          1.01309000e+05,   1.20900000e+03],\n",
       "       [  1.70000000e+02,   4.18000000e+02,   1.18000000e+03,\n",
       "          2.09000000e+02,   1.30000000e+01],\n",
       "       [  6.10000000e+01,   3.40000000e+02,   9.56000000e+02,\n",
       "          1.39000000e+02,   1.20000000e+01],\n",
       "       [ -2.69000000e+02,   1.03000000e+02,   6.55000000e+02,\n",
       "         -1.65000000e+02,   1.20000000e+01],\n",
       "       [  7.47000000e+02,   1.19000000e+03,   3.38700000e+03,\n",
       "          7.46000000e+02,   2.30000000e+01],\n",
       "       [  1.11260000e+05,   1.51709000e+05,   5.52183000e+05,\n",
       "          1.09636000e+05,   9.50000000e+02],\n",
       "       [  1.25000000e+02,   3.79000000e+02,   1.09400000e+03,\n",
       "          2.59000000e+02,   5.00000000e+00],\n",
       "       [  5.10000000e+01,   3.08000000e+02,   7.92000000e+02,\n",
       "          8.70000000e+01,   5.00000000e+00],\n",
       "       [ -1.81000000e+02,   7.60000000e+01,   3.99000000e+02,\n",
       "         -7.19000000e+02,   5.00000000e+00],\n",
       "       [  5.06000000e+02,   1.03100000e+03,   3.36600000e+03,\n",
       "          1.31300000e+03,   7.00000000e+00],\n",
       "       [  7.54660000e+04,   1.48813000e+05,   5.85707000e+05,\n",
       "          1.79897000e+05,   3.83000000e+02],\n",
       "       [  2.39000000e+02,   4.94000000e+02,   1.90000000e+03,\n",
       "          7.44000000e+02,   4.00000000e+00],\n",
       "       [  1.38000000e+02,   4.09000000e+02,   1.41000000e+03,\n",
       "          5.03000000e+02,   4.00000000e+00],\n",
       "       [ -1.46000000e+02,   1.07000000e+02,   5.32000000e+02,\n",
       "         -8.40000000e+01,   4.00000000e+00],\n",
       "       [  8.44000000e+02,   1.46400000e+03,   6.28200000e+03,\n",
       "          2.30100000e+03,   7.00000000e+00],\n",
       "       [  1.20599000e+05,   1.69325000e+05,   1.07746400e+06,\n",
       "          4.91333000e+05,   3.13000000e+02]])"
      ]
     },
     "execution_count": 129,
     "metadata": {},
     "output_type": "execute_result"
    }
   ],
   "source": [
    "SUM_Bid1_15"
   ]
  },
  {
   "cell_type": "code",
   "execution_count": 130,
   "metadata": {
    "collapsed": false,
    "scrolled": true
   },
   "outputs": [
    {
     "data": {
      "text/plain": [
       "array([[  1.20000000e+02,   2.64000000e+02,   1.67800000e+03,\n",
       "          3.09000000e+02,   2.10000000e+01],\n",
       "       [  5.00000000e+00,   2.31000000e+02,   6.96000000e+02,\n",
       "          1.31000000e+02,   1.60000000e+01],\n",
       "       [ -2.45000000e+02,   3.75000000e+02,  -2.30000000e+01,\n",
       "         -4.00000000e+01,   4.10000000e+01],\n",
       "       [  7.03000000e+02,   7.07000000e+02,   7.60400000e+03,\n",
       "          1.31900000e+03,   5.40000000e+01],\n",
       "       [  1.10493000e+05,   1.01509000e+05,   1.15196500e+06,\n",
       "          2.21399000e+05,   1.67800000e+03],\n",
       "       [  1.57000000e+02,   3.24000000e+02,   1.04700000e+03,\n",
       "          2.28000000e+02,   1.90000000e+01],\n",
       "       [  3.00000000e+01,   2.31000000e+02,   6.86000000e+02,\n",
       "          1.19000000e+02,   1.00000000e+01],\n",
       "       [ -2.86000000e+02,   2.23000000e+02,   7.98000000e+02,\n",
       "         -1.40000000e+01,   3.00000000e+01],\n",
       "       [  8.97000000e+02,   1.20700000e+03,   4.54500000e+03,\n",
       "          1.12100000e+03,   5.40000000e+01],\n",
       "       [  1.31471000e+05,   1.38270000e+05,   6.21867000e+05,\n",
       "          1.43039000e+05,   1.89800000e+03],\n",
       "       [  1.70000000e+02,   4.18000000e+02,   1.18000000e+03,\n",
       "          2.09000000e+02,   1.30000000e+01],\n",
       "       [  3.90000000e+01,   2.26000000e+02,   8.57000000e+02,\n",
       "          1.13000000e+02,   5.00000000e+00],\n",
       "       [ -2.76000000e+02,   3.80000000e+01,   1.37500000e+03,\n",
       "         -9.90000000e+01,   1.70000000e+01],\n",
       "       [  9.49000000e+02,   1.80500000e+03,   4.84500000e+03,\n",
       "          1.00500000e+03,   4.00000000e+01],\n",
       "       [  1.34731000e+05,   2.35480000e+05,   6.95285000e+05,\n",
       "          1.32194000e+05,   1.02400000e+03],\n",
       "       [  1.25000000e+02,   3.79000000e+02,   1.09400000e+03,\n",
       "          2.59000000e+02,   5.00000000e+00],\n",
       "       [  2.90000000e+01,   1.39000000e+02,   7.36000000e+02,\n",
       "          7.20000000e+01,   2.00000000e+00],\n",
       "       [ -2.04000000e+02,  -1.79000000e+02,   1.06100000e+03,\n",
       "         -6.54000000e+02,   7.00000000e+00],\n",
       "       [  6.65000000e+02,   1.92800000e+03,   4.57700000e+03,\n",
       "          1.58000000e+03,   1.40000000e+01],\n",
       "       [  9.90530000e+04,   2.57670000e+05,   6.93822000e+05,\n",
       "          1.92579000e+05,   4.58000000e+02],\n",
       "       [  2.39000000e+02,   4.94000000e+02,   1.90000000e+03,\n",
       "          7.44000000e+02,   4.00000000e+00],\n",
       "       [  7.90000000e+01,   3.05000000e+02,   1.13700000e+03,\n",
       "          4.52000000e+02,   0.00000000e+00],\n",
       "       [ -1.90000000e+02,  -6.00000000e+00,   1.59400000e+03,\n",
       "          2.88000000e+02,   4.00000000e+00],\n",
       "       [  1.15400000e+03,   2.31100000e+03,   8.38900000e+03,\n",
       "          4.24900000e+03,   1.40000000e+01],\n",
       "       [  1.80744000e+05,   2.83761000e+05,   1.27931000e+06,\n",
       "          5.74084000e+05,   0.00000000e+00]])"
      ]
     },
     "execution_count": 130,
     "metadata": {},
     "output_type": "execute_result"
    }
   ],
   "source": [
    "SUM_Bid2_15"
   ]
  },
  {
   "cell_type": "code",
   "execution_count": 131,
   "metadata": {
    "collapsed": false,
    "scrolled": true
   },
   "outputs": [
    {
     "data": {
      "text/plain": [
       "array([[  1.20000000e+02,   2.64000000e+02,   1.67800000e+03,\n",
       "          3.09000000e+02,   2.10000000e+01],\n",
       "       [  1.00000000e+00,   8.60000000e+01,   6.49000000e+02,\n",
       "          8.40000000e+01,   3.00000000e+00],\n",
       "       [ -2.52000000e+02,   1.74000000e+02,   4.79000000e+02,\n",
       "          3.40000000e+01,   4.20000000e+01],\n",
       "       [  8.23000000e+02,   1.36300000e+03,   9.42800000e+03,\n",
       "          1.64300000e+03,   7.50000000e+01],\n",
       "       [  1.23315000e+05,   1.78283000e+05,   1.21512700e+06,\n",
       "          2.48226000e+05,   9.88000000e+02],\n",
       "       [  1.57000000e+02,   3.24000000e+02,   1.04700000e+03,\n",
       "          2.28000000e+02,   1.90000000e+01],\n",
       "       [  1.20000000e+01,   1.69000000e+02,   5.38000000e+02,\n",
       "          9.40000000e+01,   8.00000000e+00],\n",
       "       [ -3.14000000e+02,   2.54000000e+02,   9.55000000e+02,\n",
       "          8.20000000e+01,   3.80000000e+01],\n",
       "       [  1.06000000e+03,   1.64300000e+03,   5.85400000e+03,\n",
       "          1.34900000e+03,   7.30000000e+01],\n",
       "       [  1.43182000e+05,   1.78656000e+05,   7.15836000e+05,\n",
       "          1.74549000e+05,   3.57900000e+03],\n",
       "       [  1.70000000e+02,   4.18000000e+02,   1.18000000e+03,\n",
       "          2.09000000e+02,   1.30000000e+01],\n",
       "       [  1.80000000e+01,   1.32000000e+02,   7.03000000e+02,\n",
       "          1.02000000e+02,   2.00000000e+00],\n",
       "       [ -3.10000000e+02,  -5.50000000e+01,   1.86900000e+03,\n",
       "          3.00000000e+00,   1.90000000e+01],\n",
       "       [  1.12600000e+03,   2.27200000e+03,   6.19600000e+03,\n",
       "          1.21400000e+03,   5.30000000e+01],\n",
       "       [  1.47456000e+05,   2.95189000e+05,   7.89893000e+05,\n",
       "          1.50355000e+05,   1.59300000e+03],\n",
       "       [  1.25000000e+02,   3.79000000e+02,   1.09400000e+03,\n",
       "          2.59000000e+02,   5.00000000e+00],\n",
       "       [  1.20000000e+01,   8.80000000e+01,   5.36000000e+02,\n",
       "          6.40000000e+01,   1.00000000e+00],\n",
       "       [ -2.30000000e+02,  -2.03000000e+02,   1.39000000e+03,\n",
       "         -5.86000000e+02,   8.00000000e+00],\n",
       "       [  7.93000000e+02,   2.34500000e+03,   5.80600000e+03,\n",
       "          1.83900000e+03,   1.90000000e+01],\n",
       "       [  1.07737000e+05,   2.94911000e+05,   7.89854000e+05,\n",
       "          2.11581000e+05,   7.95000000e+02],\n",
       "       [  2.39000000e+02,   4.94000000e+02,   1.90000000e+03,\n",
       "          7.44000000e+02,   4.00000000e+00],\n",
       "       [  2.00000000e+01,   1.40000000e+02,   6.93000000e+02,\n",
       "          3.25000000e+02,   0.00000000e+00],\n",
       "       [ -3.00000000e+02,  -3.17000000e+02,   1.46800000e+03,\n",
       "          7.14000000e+02,   4.00000000e+00],\n",
       "       [  1.39900000e+03,   2.97500000e+03,   1.08430000e+04,\n",
       "          4.99300000e+03,   1.80000000e+01],\n",
       "       [  2.03002000e+05,   3.74928000e+05,   1.51098100e+06,\n",
       "          6.19268000e+05,   0.00000000e+00]])"
      ]
     },
     "execution_count": 131,
     "metadata": {},
     "output_type": "execute_result"
    }
   ],
   "source": [
    "SUM_Bid3_15"
   ]
  },
  {
   "cell_type": "code",
   "execution_count": 176,
   "metadata": {
    "collapsed": false,
    "scrolled": true
   },
   "outputs": [
    {
     "data": {
      "text/plain": [
       "array([[  1.95000000e+02,   6.74000000e+02,   5.40600000e+03,\n",
       "          2.26200000e+03,   5.34000000e+02],\n",
       "       [  1.10000000e+02,   4.61000000e+02,   4.29800000e+03,\n",
       "          1.65400000e+03,   4.68000000e+02],\n",
       "       [ -1.53000000e+02,  -3.30000000e+01,   1.67700000e+03,\n",
       "         -4.29000000e+02,   3.59000000e+02],\n",
       "       [  6.02000000e+02,   1.81900000e+03,   1.44110000e+04,\n",
       "          7.52800000e+03,   1.38200000e+03],\n",
       "       [  1.46067000e+05,   2.88837000e+05,   2.17490000e+06,\n",
       "          1.00707200e+06,   8.43070000e+04],\n",
       "       [  1.84000000e+02,   1.23100000e+03,   5.76600000e+03,\n",
       "          2.22100000e+03,   6.28000000e+02],\n",
       "       [  9.90000000e+01,   8.23000000e+02,   3.61500000e+03,\n",
       "          1.43600000e+03,   5.67000000e+02],\n",
       "       [ -1.69000000e+02,  -5.70000000e+01,  -2.85400000e+03,\n",
       "         -1.27200000e+03,   4.63000000e+02],\n",
       "       [  6.69000000e+02,   3.58500000e+03,   1.99450000e+04,\n",
       "          8.23000000e+03,   1.87300000e+03],\n",
       "       [  1.58612000e+05,   5.67531000e+05,   2.84957400e+06,\n",
       "          1.10156900e+06,   1.21785000e+05],\n",
       "       [  2.29000000e+02,   1.56300000e+03,   6.31900000e+03,\n",
       "          2.73700000e+03,   7.42000000e+02],\n",
       "       [  9.10000000e+01,   9.72000000e+02,   3.64600000e+03,\n",
       "          1.39800000e+03,   6.26000000e+02],\n",
       "       [ -3.79000000e+02,  -7.23000000e+02,  -6.51900000e+03,\n",
       "         -3.13700000e+03,   4.38000000e+02],\n",
       "       [  9.92000000e+02,   5.12000000e+03,   2.66710000e+04,\n",
       "          1.22860000e+04,   2.56800000e+03],\n",
       "       [  2.55845000e+05,   7.80254000e+05,   3.42539100e+06,\n",
       "          1.65660300e+06,   1.50152000e+05],\n",
       "       [  1.79000000e+02,   1.45900000e+03,   5.13700000e+03,\n",
       "          1.67400000e+03,   4.26000000e+02],\n",
       "       [  7.80000000e+01,   8.31000000e+02,   2.74800000e+03,\n",
       "          8.16000000e+02,   3.27000000e+02],\n",
       "       [ -2.81000000e+02,  -4.55000000e+02,  -6.41900000e+03,\n",
       "         -2.23200000e+03,   1.03000000e+02],\n",
       "       [  6.98000000e+02,   4.77100000e+03,   2.29430000e+04,\n",
       "          7.81200000e+03,   1.60500000e+03],\n",
       "       [  1.97781000e+05,   8.00818000e+05,   2.90367600e+06,\n",
       "          1.04819800e+06,   8.95320000e+04],\n",
       "       [  2.69000000e+02,   2.63300000e+03,   8.56000000e+03,\n",
       "          1.95900000e+03,   4.13000000e+02],\n",
       "       [  1.66000000e+02,   1.46200000e+03,   4.76500000e+03,\n",
       "          9.45000000e+02,   3.16000000e+02],\n",
       "       [ -1.73000000e+02,  -1.10300000e+03,  -8.46700000e+03,\n",
       "         -2.37000000e+03,   2.03000000e+02],\n",
       "       [  1.14300000e+03,   8.64600000e+03,   3.55310000e+04,\n",
       "          8.88200000e+03,   1.51200000e+03],\n",
       "       [  2.41495000e+05,   1.55238400e+06,   4.74500400e+06,\n",
       "          1.24595400e+06,   8.90890000e+04]])"
      ]
     },
     "execution_count": 176,
     "metadata": {},
     "output_type": "execute_result"
    }
   ],
   "source": [
    "SUM_Bid1_11"
   ]
  },
  {
   "cell_type": "code",
   "execution_count": 177,
   "metadata": {
    "collapsed": false,
    "scrolled": true
   },
   "outputs": [
    {
     "data": {
      "text/plain": [
       "array([[  1.95000000e+02,   6.74000000e+02,   5.40600000e+03,\n",
       "          2.26200000e+03,   5.34000000e+02],\n",
       "       [  8.20000000e+01,   3.10000000e+02,   3.20900000e+03,\n",
       "          1.34200000e+03,   3.81000000e+02],\n",
       "       [ -1.43000000e+02,  -4.40000000e+01,   2.67800000e+03,\n",
       "          1.47000000e+02,   5.54000000e+02],\n",
       "       [  8.72000000e+02,   2.81500000e+03,   2.17610000e+04,\n",
       "          1.06110000e+04,   2.30500000e+03],\n",
       "       [  2.54639000e+05,   4.13436000e+05,   3.18980900e+06,\n",
       "          1.49955000e+06,   1.19742000e+05],\n",
       "       [  1.84000000e+02,   1.23100000e+03,   5.76600000e+03,\n",
       "          2.22100000e+03,   6.28000000e+02],\n",
       "       [  8.30000000e+01,   6.01000000e+02,   2.59200000e+03,\n",
       "          8.38000000e+02,   4.59000000e+02],\n",
       "       [ -1.27000000e+02,   1.45000000e+02,  -2.94900000e+03,\n",
       "         -2.07100000e+03,   6.56000000e+02],\n",
       "       [  8.94000000e+02,   5.14800000e+03,   2.79510000e+04,\n",
       "          1.21700000e+04,   2.94400000e+03],\n",
       "       [  2.79908000e+05,   7.97029000e+05,   3.71473000e+06,\n",
       "          1.59819500e+06,   1.62121000e+05],\n",
       "       [  2.29000000e+02,   1.56300000e+03,   6.31900000e+03,\n",
       "          2.73700000e+03,   7.42000000e+02],\n",
       "       [  6.30000000e+01,   6.56000000e+02,   2.42600000e+03,\n",
       "          7.71000000e+02,   4.37000000e+02],\n",
       "       [ -3.34000000e+02,  -8.01000000e+02,  -7.19400000e+03,\n",
       "         -3.98400000e+03,   3.65000000e+02],\n",
       "       [  1.23800000e+03,   7.37500000e+03,   3.55870000e+04,\n",
       "          1.66900000e+04,   3.89700000e+03],\n",
       "       [  4.58291000e+05,   1.03677700e+06,   4.40963800e+06,\n",
       "          2.12521200e+06,   1.64048000e+05],\n",
       "       [  1.79000000e+02,   1.45900000e+03,   5.13700000e+03,\n",
       "          1.67400000e+03,   4.26000000e+02],\n",
       "       [  3.70000000e+01,   5.35000000e+02,   1.82700000e+03,\n",
       "          4.33000000e+02,   1.98000000e+02],\n",
       "       [ -3.18000000e+02,  -3.58000000e+02,  -7.12400000e+03,\n",
       "         -2.91500000e+03,   4.00000000e+00],\n",
       "       [  9.82000000e+02,   6.71100000e+03,   3.05020000e+04,\n",
       "          1.04420000e+04,   2.34400000e+03],\n",
       "       [  3.53672000e+05,   1.03319000e+06,   3.72666100e+06,\n",
       "          1.29405900e+06,   8.40790000e+04],\n",
       "       [  2.69000000e+02,   2.63300000e+03,   8.56000000e+03,\n",
       "          1.95900000e+03,   4.13000000e+02],\n",
       "       [  1.39000000e+02,   1.08600000e+03,   3.32500000e+03,\n",
       "          4.46000000e+02,   2.18000000e+02],\n",
       "       [ -2.00000000e+01,  -6.63000000e+02,  -8.64000000e+03,\n",
       "         -3.12300000e+03,   3.15000000e+02],\n",
       "       [  1.41500000e+03,   1.17580000e+04,   4.75840000e+04,\n",
       "          1.18630000e+04,   2.03000000e+03],\n",
       "       [  3.52451000e+05,   1.87569700e+06,   6.10477100e+06,\n",
       "          1.58020600e+06,   7.82880000e+04]])"
      ]
     },
     "execution_count": 177,
     "metadata": {},
     "output_type": "execute_result"
    }
   ],
   "source": [
    "SUM_Bid2_11"
   ]
  },
  {
   "cell_type": "code",
   "execution_count": 178,
   "metadata": {
    "collapsed": false,
    "scrolled": true
   },
   "outputs": [
    {
     "data": {
      "text/plain": [
       "array([[  1.95000000e+02,   6.74000000e+02,   5.40600000e+03,\n",
       "          2.26200000e+03,   5.34000000e+02],\n",
       "       [  1.80000000e+01,   2.65000000e+02,   2.66600000e+03,\n",
       "          5.76000000e+02,   3.52000000e+02],\n",
       "       [ -3.01000000e+02,   1.53000000e+02,   4.20000000e+03,\n",
       "          2.20000000e+01,   8.78000000e+02],\n",
       "       [  1.23800000e+03,   3.53400000e+03,   2.79480000e+04,\n",
       "          1.32440000e+04,   2.87700000e+03],\n",
       "       [  3.29842000e+05,   4.80179000e+05,   3.72975700e+06,\n",
       "          1.80924200e+06,   1.61939000e+05],\n",
       "       [  1.84000000e+02,   1.23100000e+03,   5.76600000e+03,\n",
       "          2.22100000e+03,   6.28000000e+02],\n",
       "       [  5.90000000e+01,   3.52000000e+02,   1.95500000e+03,\n",
       "          4.96000000e+02,   4.10000000e+02],\n",
       "       [ -6.90000000e+01,   2.24000000e+02,  -2.28300000e+03,\n",
       "         -2.24000000e+03,   1.01100000e+03],\n",
       "       [  1.09200000e+03,   6.48600000e+03,   3.45530000e+04,\n",
       "          1.49900000e+04,   3.61800000e+03],\n",
       "       [  3.36000000e+05,   9.85344000e+05,   4.25547500e+06,\n",
       "          1.83363600e+06,   1.92705000e+05],\n",
       "       [  2.29000000e+02,   1.56300000e+03,   6.31900000e+03,\n",
       "          2.73700000e+03,   7.42000000e+02],\n",
       "       [  3.70000000e+01,   3.94000000e+02,   1.90900000e+03,\n",
       "          3.25000000e+02,   3.58000000e+02],\n",
       "       [ -2.98000000e+02,  -8.08000000e+02,  -6.28500000e+03,\n",
       "         -4.70000000e+03,   6.58000000e+02],\n",
       "       [  1.47400000e+03,   9.12500000e+03,   4.25980000e+04,\n",
       "          2.02520000e+04,   4.67900000e+03],\n",
       "       [  5.37921000e+05,   1.24066800e+06,   4.86207700e+06,\n",
       "          2.36311600e+06,   1.70698000e+05],\n",
       "       [  1.79000000e+02,   1.45900000e+03,   5.13700000e+03,\n",
       "          1.67400000e+03,   4.26000000e+02],\n",
       "       [  7.00000000e+00,   3.28000000e+02,   1.28900000e+03,\n",
       "          2.17000000e+02,   1.46000000e+02],\n",
       "       [ -3.06000000e+02,  -3.99000000e+02,  -6.38500000e+03,\n",
       "         -3.02200000e+03,   8.80000000e+01],\n",
       "       [  1.16600000e+03,   8.33600000e+03,   3.59360000e+04,\n",
       "          1.24530000e+04,   2.77600000e+03],\n",
       "       [  4.11810000e+05,   1.18695600e+06,   4.05080700e+06,\n",
       "          1.46357400e+06,   6.94240000e+04],\n",
       "       [  2.69000000e+02,   2.63300000e+03,   8.56000000e+03,\n",
       "          1.95900000e+03,   4.13000000e+02],\n",
       "       [  9.00000000e+00,   5.64000000e+02,   1.97500000e+03,\n",
       "          1.57000000e+02,   1.81000000e+02],\n",
       "       [ -2.59000000e+02,  -1.36500000e+03,  -8.77600000e+03,\n",
       "         -3.27000000e+03,   4.53000000e+02],\n",
       "       [  1.75200000e+03,   1.49230000e+04,   5.71410000e+04,\n",
       "          1.40290000e+04,   2.46100000e+03],\n",
       "       [  4.47086000e+05,   2.18516100e+06,   6.88430000e+06,\n",
       "          1.73357500e+06,   7.55630000e+04]])"
      ]
     },
     "execution_count": 178,
     "metadata": {},
     "output_type": "execute_result"
    }
   ],
   "source": [
    "SUM_Bid3_11"
   ]
  },
  {
   "cell_type": "code",
   "execution_count": 135,
   "metadata": {
    "collapsed": false,
    "scrolled": true
   },
   "outputs": [
    {
     "data": {
      "text/plain": [
       "array([[  5.80000000e+01,   2.02000000e+02,   1.51590000e+04,\n",
       "          8.87000000e+02,   1.05000000e+02],\n",
       "       [  0.00000000e+00,   8.20000000e+01,   4.89100000e+03,\n",
       "          4.68000000e+02,   9.60000000e+01],\n",
       "       [ -2.39000000e+02,  -2.47000000e+02,   5.86000000e+03,\n",
       "          3.90000000e+01,   9.30000000e+01],\n",
       "       [  3.30000000e+02,   6.01000000e+02,   2.53440000e+04,\n",
       "          2.14100000e+03,   1.39000000e+02],\n",
       "       [  6.03000000e+04,   1.26772000e+05,   1.17126420e+07,\n",
       "          5.04225000e+05,   1.14620000e+04],\n",
       "       [  4.90000000e+01,   3.00000000e+02,   6.68200000e+03,\n",
       "          7.07000000e+02,   1.44000000e+02],\n",
       "       [  0.00000000e+00,   9.20000000e+01,   1.90700000e+03,\n",
       "          3.79000000e+02,   1.21000000e+02],\n",
       "       [ -2.14000000e+02,  -3.68000000e+02,  -9.48000000e+02,\n",
       "          2.07000000e+02,   1.10000000e+02],\n",
       "       [  3.03000000e+02,   9.00000000e+02,   1.61600000e+04,\n",
       "          2.30200000e+03,   2.46000000e+02],\n",
       "       [  6.48000000e+04,   2.07568000e+05,   4.94257600e+06,\n",
       "          4.40079000e+05,   2.67650000e+04],\n",
       "       [  3.30000000e+01,   2.96000000e+02,   6.94000000e+03,\n",
       "          5.23000000e+02,   1.10000000e+02],\n",
       "       [  0.00000000e+00,   1.51000000e+02,   2.57900000e+03,\n",
       "          2.57000000e+02,   1.00000000e+02],\n",
       "       [ -1.59000000e+02,  -2.51000000e+02,   4.66000000e+02,\n",
       "          7.00000000e+01,   1.15000000e+02],\n",
       "       [  2.01000000e+02,   9.30000000e+02,   1.56950000e+04,\n",
       "          1.53500000e+03,   1.97000000e+02],\n",
       "       [  3.87000000e+04,   1.70498000e+05,   5.02840900e+06,\n",
       "          3.20059000e+05,   2.33140000e+04],\n",
       "       [  1.90000000e+01,   3.18000000e+02,   6.33000000e+03,\n",
       "          4.09000000e+02,   2.00000000e+01],\n",
       "       [  0.00000000e+00,   1.62000000e+02,   1.92500000e+03,\n",
       "          1.91000000e+02,   1.90000000e+01],\n",
       "       [ -9.80000000e+01,  -3.05000000e+02,  -3.90000000e+02,\n",
       "          2.40000000e+02,   1.70000000e+01],\n",
       "       [  1.20000000e+02,   1.07300000e+03,   1.30190000e+04,\n",
       "          8.96000000e+02,   3.40000000e+01],\n",
       "       [  1.80000000e+04,   1.76096000e+05,   4.77699400e+06,\n",
       "          2.62237000e+05,   4.80100000e+03],\n",
       "       [  1.70000000e+01,   1.52300000e+03,   2.37660000e+04,\n",
       "          1.84000000e+02,   1.90000000e+01],\n",
       "       [  2.00000000e+00,   3.13000000e+02,   2.20000000e+03,\n",
       "          1.24000000e+02,   1.90000000e+01],\n",
       "       [ -9.00000000e+01,  -6.92000000e+02,  -8.33800000e+03,\n",
       "         -5.00000000e+00,   1.90000000e+01],\n",
       "       [  1.13000000e+02,   4.06700000e+03,   5.08530000e+04,\n",
       "          5.63000000e+02,   3.20000000e+01],\n",
       "       [  1.36180000e+04,   1.14690100e+06,   2.02489950e+07,\n",
       "          9.88830000e+04,   7.20600000e+03]])"
      ]
     },
     "execution_count": 135,
     "metadata": {},
     "output_type": "execute_result"
    }
   ],
   "source": [
    "SUM_Bid1_13"
   ]
  },
  {
   "cell_type": "code",
   "execution_count": 136,
   "metadata": {
    "collapsed": false,
    "scrolled": true
   },
   "outputs": [
    {
     "data": {
      "text/plain": [
       "array([[  5.80000000e+01,   2.02000000e+02,   1.51590000e+04,\n",
       "          8.87000000e+02,   1.05000000e+02],\n",
       "       [  0.00000000e+00,   1.50000000e+01,   1.04300000e+03,\n",
       "          2.49000000e+02,   8.00000000e+01],\n",
       "       [ -2.39000000e+02,  -3.62000000e+02,   6.13700000e+03,\n",
       "          9.90000000e+01,   1.55000000e+02],\n",
       "       [  3.88000000e+02,   8.59000000e+02,   4.11760000e+04,\n",
       "          3.14900000e+03,   2.50000000e+02],\n",
       "       [  7.47000000e+04,   1.69259000e+05,   1.31939070e+07,\n",
       "          6.52315000e+05,   2.34260000e+04],\n",
       "       [  4.90000000e+01,   3.00000000e+02,   6.68200000e+03,\n",
       "          7.07000000e+02,   1.44000000e+02],\n",
       "       [  0.00000000e+00,   1.80000000e+01,   7.35000000e+02,\n",
       "          2.33000000e+02,   1.01000000e+02],\n",
       "       [ -2.14000000e+02,  -4.82000000e+02,  -1.37000000e+03,\n",
       "          2.59000000e+02,   1.97000000e+02],\n",
       "       [  3.52000000e+02,   1.28600000e+03,   2.37390000e+04,\n",
       "          3.13000000e+03,   4.15000000e+02],\n",
       "       [  8.28000000e+04,   2.59510000e+05,   5.69312500e+06,\n",
       "          5.30360000e+05,   4.52070000e+04],\n",
       "       [  3.30000000e+01,   2.96000000e+02,   6.94000000e+03,\n",
       "          5.23000000e+02,   1.10000000e+02],\n",
       "       [  0.00000000e+00,   3.00000000e+01,   1.20200000e+03,\n",
       "          2.04000000e+02,   8.20000000e+01],\n",
       "       [ -1.59000000e+02,  -4.06000000e+02,   9.62000000e+02,\n",
       "          2.59000000e+02,   1.81000000e+02],\n",
       "       [  2.34000000e+02,   1.36200000e+03,   2.36010000e+04,\n",
       "          2.13400000e+03,   3.15000000e+02],\n",
       "       [  5.49000000e+04,   2.45784000e+05,   5.74364500e+06,\n",
       "          3.63674000e+05,   4.23740000e+04],\n",
       "       [  1.90000000e+01,   3.18000000e+02,   6.33000000e+03,\n",
       "          4.09000000e+02,   2.00000000e+01],\n",
       "       [  0.00000000e+00,   1.80000000e+01,   8.62000000e+02,\n",
       "          1.14000000e+02,   1.40000000e+01],\n",
       "       [ -9.80000000e+01,  -5.93000000e+02,  -2.70000000e+01,\n",
       "          3.33000000e+02,   2.70000000e+01],\n",
       "       [  1.39000000e+02,   1.56000000e+03,   1.97650000e+04,\n",
       "          1.36600000e+03,   5.90000000e+01],\n",
       "       [  2.25000000e+04,   2.72770000e+05,   5.43804300e+06,\n",
       "          2.99451000e+05,   6.42600000e+03],\n",
       "       [  1.70000000e+01,   1.52300000e+03,   2.37660000e+04,\n",
       "          1.84000000e+02,   1.90000000e+01],\n",
       "       [  0.00000000e+00,   5.80000000e+01,   8.01000000e+02,\n",
       "          8.20000000e+01,   1.10000000e+01],\n",
       "       [ -9.60000000e+01,  -8.52000000e+02,  -8.18400000e+03,\n",
       "          6.90000000e+01,   1.60000000e+01],\n",
       "       [  1.34000000e+02,   5.72500000e+03,   7.51720000e+04,\n",
       "          7.64000000e+02,   5.70000000e+01],\n",
       "       [  2.25000000e+04,   1.32608300e+06,   2.09931450e+07,\n",
       "          1.16856000e+05,   7.01900000e+03]])"
      ]
     },
     "execution_count": 136,
     "metadata": {},
     "output_type": "execute_result"
    }
   ],
   "source": [
    "SUM_Bid2_13"
   ]
  },
  {
   "cell_type": "code",
   "execution_count": 137,
   "metadata": {
    "collapsed": false,
    "scrolled": true
   },
   "outputs": [
    {
     "data": {
      "text/plain": [
       "array([[  0.00000000e+00,   7.13000000e+02,   1.89160000e+04,\n",
       "          1.75400000e+03,   1.60000000e+01],\n",
       "       [  0.00000000e+00,   7.50000000e+01,   1.44400000e+03,\n",
       "          2.38000000e+02,   6.00000000e+00],\n",
       "       [  0.00000000e+00,  -5.29000000e+02,  -5.04400000e+03,\n",
       "          5.29000000e+02,   3.80000000e+01],\n",
       "       [  0.00000000e+00,   1.17570000e+04,   7.59690000e+04,\n",
       "          7.66100000e+03,   5.80000000e+01],\n",
       "       [  9.00000000e+03,   5.47873000e+05,   1.56463660e+07,\n",
       "          1.33333600e+06,   3.41900000e+03],\n",
       "       [  3.00000000e+00,   1.54900000e+03,   1.83710000e+04,\n",
       "          1.44500000e+03,   1.00000000e+01],\n",
       "       [  0.00000000e+00,   9.80000000e+01,   1.91700000e+03,\n",
       "          2.55000000e+02,   9.00000000e+00],\n",
       "       [ -1.20000000e+01,  -3.36000000e+02,  -2.13200000e+03,\n",
       "          9.52000000e+02,   3.00000000e+01],\n",
       "       [  2.40000000e+01,   1.71120000e+04,   7.90210000e+04,\n",
       "          6.70400000e+03,   3.20000000e+01],\n",
       "       [  3.60000000e+03,   1.34746100e+06,   1.53487090e+07,\n",
       "          1.17708100e+06,   3.95800000e+03],\n",
       "       [  5.00000000e+00,   2.19700000e+03,   1.65570000e+04,\n",
       "          1.72400000e+03,   9.00000000e+00],\n",
       "       [  0.00000000e+00,   2.47000000e+02,   1.64000000e+03,\n",
       "          2.28000000e+02,   9.00000000e+00],\n",
       "       [ -2.00000000e+01,  -8.21000000e+02,  -4.51700000e+03,\n",
       "          7.38000000e+02,   2.70000000e+01],\n",
       "       [  4.00000000e+01,   1.92820000e+04,   7.46110000e+04,\n",
       "          8.49800000e+03,   3.00000000e+01],\n",
       "       [  4.50000000e+03,   1.86744600e+06,   1.38672260e+07,\n",
       "          1.44515100e+06,   2.76300000e+03],\n",
       "       [  1.00000000e+00,   1.45500000e+03,   9.48200000e+03,\n",
       "          7.19000000e+02,   9.00000000e+00],\n",
       "       [  0.00000000e+00,   1.67000000e+02,   9.33000000e+02,\n",
       "          1.45000000e+02,   9.00000000e+00],\n",
       "       [ -4.00000000e+00,  -7.54000000e+02,   2.30000000e+02,\n",
       "          6.58000000e+02,   2.80000000e+01],\n",
       "       [  8.00000000e+00,   1.05940000e+04,   4.32850000e+04,\n",
       "          3.52100000e+03,   3.40000000e+01],\n",
       "       [  9.00000000e+02,   1.25078400e+06,   8.15293600e+06,\n",
       "          5.90619000e+05,   3.11100000e+03],\n",
       "       [  7.00000000e+00,   2.12600000e+03,   1.92560000e+04,\n",
       "          8.55000000e+02,   2.10000000e+01],\n",
       "       [  0.00000000e+00,   1.68000000e+02,   8.81000000e+02,\n",
       "          1.91000000e+02,   2.10000000e+01],\n",
       "       [ -9.00000000e+00,  -2.39200000e+03,  -1.17510000e+04,\n",
       "          9.17000000e+02,   6.30000000e+01],\n",
       "       [  3.50000000e+01,   2.58520000e+04,   8.38470000e+04,\n",
       "          3.94400000e+03,   8.40000000e+01],\n",
       "       [  6.30000000e+03,   1.81866700e+06,   1.60496880e+07,\n",
       "          6.63136000e+05,   7.59400000e+03]])"
      ]
     },
     "execution_count": 137,
     "metadata": {},
     "output_type": "execute_result"
    }
   ],
   "source": [
    "SUM_Bid3_13"
   ]
  },
  {
   "cell_type": "code",
   "execution_count": 138,
   "metadata": {
    "collapsed": false,
    "scrolled": true
   },
   "outputs": [
    {
     "data": {
      "text/plain": [
       "array([[  0.00000000e+00,   7.13000000e+02,   1.89160000e+04,\n",
       "          1.75400000e+03,   1.60000000e+01],\n",
       "       [  0.00000000e+00,   3.87000000e+02,   7.34500000e+03,\n",
       "          9.34000000e+02,   1.60000000e+01],\n",
       "       [  0.00000000e+00,  -5.23000000e+02,  -2.12100000e+03,\n",
       "          2.53000000e+02,   1.60000000e+01],\n",
       "       [  0.00000000e+00,   5.75400000e+03,   3.42120000e+04,\n",
       "          3.69300000e+03,   1.60000000e+01],\n",
       "       [  0.00000000e+00,   3.24220000e+05,   1.22983390e+07,\n",
       "          8.62108000e+05,   1.39500000e+03],\n",
       "       [  3.00000000e+00,   1.54900000e+03,   1.83710000e+04,\n",
       "          1.44500000e+03,   1.00000000e+01],\n",
       "       [  0.00000000e+00,   6.82000000e+02,   7.53300000e+03,\n",
       "          9.27000000e+02,   1.00000000e+01],\n",
       "       [ -1.20000000e+01,  -2.75000000e+02,  -4.61100000e+03,\n",
       "          4.31000000e+02,   1.10000000e+01],\n",
       "       [  1.80000000e+01,   4.00700000e+03,   4.06460000e+04,\n",
       "          3.52900000e+03,   1.10000000e+01],\n",
       "       [  2.70000000e+03,   9.57618000e+05,   1.21616450e+07,\n",
       "          7.39530000e+05,   9.94000000e+02],\n",
       "       [  5.00000000e+00,   2.19700000e+03,   1.65570000e+04,\n",
       "          1.72400000e+03,   9.00000000e+00],\n",
       "       [  0.00000000e+00,   7.75000000e+02,   5.73600000e+03,\n",
       "          9.85000000e+02,   9.00000000e+00],\n",
       "       [ -2.00000000e+01,  -9.72000000e+02,  -6.71500000e+03,\n",
       "          5.47000000e+02,   9.00000000e+00],\n",
       "       [  3.00000000e+01,   5.87200000e+03,   3.99230000e+04,\n",
       "          4.48900000e+03,   1.20000000e+01],\n",
       "       [  4.50000000e+03,   1.55223400e+06,   1.14784570e+07,\n",
       "          1.00319400e+06,   9.13000000e+02],\n",
       "       [  1.00000000e+00,   1.45500000e+03,   9.48200000e+03,\n",
       "          7.19000000e+02,   9.00000000e+00],\n",
       "       [  0.00000000e+00,   5.03000000e+02,   3.81600000e+03,\n",
       "          4.51000000e+02,   9.00000000e+00],\n",
       "       [ -4.00000000e+00,  -9.40000000e+02,  -2.09400000e+03,\n",
       "          2.42000000e+02,   1.00000000e+01],\n",
       "       [  6.00000000e+00,   4.11400000e+03,   2.37050000e+04,\n",
       "          1.87400000e+03,   1.60000000e+01],\n",
       "       [  9.00000000e+02,   1.02494200e+06,   6.45109500e+06,\n",
       "          3.79059000e+05,   1.71000000e+03],\n",
       "       [  7.00000000e+00,   2.12600000e+03,   1.92560000e+04,\n",
       "          8.55000000e+02,   2.10000000e+01],\n",
       "       [  0.00000000e+00,   7.42000000e+02,   5.14300000e+03,\n",
       "          6.05000000e+02,   2.10000000e+01],\n",
       "       [ -9.00000000e+00,  -1.17700000e+03,  -6.80500000e+03,\n",
       "          3.53000000e+02,   2.10000000e+01],\n",
       "       [  2.10000000e+01,   1.23540000e+04,   4.47740000e+04,\n",
       "          2.02600000e+03,   4.20000000e+01],\n",
       "       [  6.30000000e+03,   1.55187600e+06,   1.42560350e+07,\n",
       "          4.04154000e+05,   5.01100000e+03]])"
      ]
     },
     "execution_count": 138,
     "metadata": {},
     "output_type": "execute_result"
    }
   ],
   "source": [
    "SUM_Bid1_16"
   ]
  },
  {
   "cell_type": "code",
   "execution_count": 139,
   "metadata": {
    "collapsed": false,
    "scrolled": true
   },
   "outputs": [
    {
     "data": {
      "text/plain": [
       "array([[  0.00000000e+00,   7.13000000e+02,   1.89160000e+04,\n",
       "          1.75400000e+03,   1.60000000e+01],\n",
       "       [  0.00000000e+00,   1.71000000e+02,   2.55100000e+03,\n",
       "          4.43000000e+02,   1.60000000e+01],\n",
       "       [  0.00000000e+00,  -6.04000000e+02,  -5.61900000e+03,\n",
       "          4.22000000e+02,   3.20000000e+01],\n",
       "       [  0.00000000e+00,   9.05600000e+03,   5.59440000e+04,\n",
       "          5.88800000e+03,   3.20000000e+01],\n",
       "       [  0.00000000e+00,   5.05807000e+05,   1.49538110e+07,\n",
       "          1.21662000e+06,   4.29100000e+03],\n",
       "       [  3.00000000e+00,   1.54900000e+03,   1.83710000e+04,\n",
       "          1.44500000e+03,   1.00000000e+01],\n",
       "       [  0.00000000e+00,   3.69000000e+02,   3.27700000e+03,\n",
       "          5.54000000e+02,   1.00000000e+01],\n",
       "       [ -1.20000000e+01,  -6.10000000e+01,  -3.80900000e+03,\n",
       "          7.84000000e+02,   2.10000000e+01],\n",
       "       [  2.10000000e+01,   5.63900000e+03,   6.05720000e+04,\n",
       "          5.25300000e+03,   2.10000000e+01],\n",
       "       [  2.70000000e+03,   1.21480400e+06,   1.46267830e+07,\n",
       "          1.01905800e+06,   3.44200000e+03],\n",
       "       [  5.00000000e+00,   2.19700000e+03,   1.65570000e+04,\n",
       "          1.72400000e+03,   9.00000000e+00],\n",
       "       [  0.00000000e+00,   4.88000000e+02,   2.66300000e+03,\n",
       "          4.63000000e+02,   9.00000000e+00],\n",
       "       [ -2.00000000e+01,  -6.05000000e+02,  -5.77900000e+03,\n",
       "          5.02000000e+02,   1.80000000e+01],\n",
       "       [  3.50000000e+01,   8.08400000e+03,   5.77840000e+04,\n",
       "          6.75200000e+03,   2.10000000e+01],\n",
       "       [  4.50000000e+03,   1.75683200e+06,   1.32390820e+07,\n",
       "          1.33499500e+06,   2.16700000e+03],\n",
       "       [  1.00000000e+00,   1.45500000e+03,   9.48200000e+03,\n",
       "          7.19000000e+02,   9.00000000e+00],\n",
       "       [  0.00000000e+00,   2.75000000e+02,   1.71700000e+03,\n",
       "          2.77000000e+02,   9.00000000e+00],\n",
       "       [ -4.00000000e+00,  -7.79000000e+02,  -7.22000000e+02,\n",
       "          5.28000000e+02,   1.90000000e+01],\n",
       "       [  7.00000000e+00,   5.58400000e+03,   3.37750000e+04,\n",
       "          2.77200000e+03,   2.50000000e+01],\n",
       "       [  9.00000000e+02,   1.19018900e+06,   7.80203300e+06,\n",
       "          5.13719000e+05,   2.58500000e+03],\n",
       "       [  7.00000000e+00,   2.12600000e+03,   1.92560000e+04,\n",
       "          8.55000000e+02,   2.10000000e+01],\n",
       "       [  0.00000000e+00,   5.00000000e+02,   2.41500000e+03,\n",
       "          3.44000000e+02,   2.10000000e+01],\n",
       "       [ -9.00000000e+00,  -9.77000000e+02,  -8.76700000e+03,\n",
       "          7.18000000e+02,   4.20000000e+01],\n",
       "       [  2.80000000e+01,   1.96580000e+04,   6.45040000e+04,\n",
       "          3.07200000e+03,   6.30000000e+01],\n",
       "       [  6.30000000e+03,   1.69883000e+06,   1.56122190e+07,\n",
       "          5.91539000e+05,   6.41800000e+03]])"
      ]
     },
     "execution_count": 139,
     "metadata": {},
     "output_type": "execute_result"
    }
   ],
   "source": [
    "SUM_Bid2_16"
   ]
  },
  {
   "cell_type": "code",
   "execution_count": null,
   "metadata": {
    "collapsed": true
   },
   "outputs": [],
   "source": []
  },
  {
   "cell_type": "code",
   "execution_count": null,
   "metadata": {
    "collapsed": true
   },
   "outputs": [],
   "source": []
  },
  {
   "cell_type": "code",
   "execution_count": null,
   "metadata": {
    "collapsed": true
   },
   "outputs": [],
   "source": []
  },
  {
   "cell_type": "code",
   "execution_count": null,
   "metadata": {
    "collapsed": true
   },
   "outputs": [],
   "source": []
  },
  {
   "cell_type": "code",
   "execution_count": null,
   "metadata": {
    "collapsed": true
   },
   "outputs": [],
   "source": []
  },
  {
   "cell_type": "code",
   "execution_count": 224,
   "metadata": {
    "collapsed": false
   },
   "outputs": [
    {
     "data": {
      "text/html": [
       "<div>\n",
       "<table border=\"1\" class=\"dataframe\">\n",
       "  <thead>\n",
       "    <tr style=\"text-align: right;\">\n",
       "      <th></th>\n",
       "      <th>0</th>\n",
       "      <th>1</th>\n",
       "      <th>2</th>\n",
       "      <th>3</th>\n",
       "      <th>4</th>\n",
       "    </tr>\n",
       "  </thead>\n",
       "  <tbody>\n",
       "    <tr>\n",
       "      <th>0</th>\n",
       "      <td>120.000000</td>\n",
       "      <td>264.000000</td>\n",
       "      <td>1678.000000</td>\n",
       "      <td>309.000000</td>\n",
       "      <td>21.000000</td>\n",
       "    </tr>\n",
       "    <tr>\n",
       "      <th>1</th>\n",
       "      <td>0.175000</td>\n",
       "      <td>0.935606</td>\n",
       "      <td>0.474970</td>\n",
       "      <td>0.909385</td>\n",
       "      <td>1.000000</td>\n",
       "    </tr>\n",
       "    <tr>\n",
       "      <th>2</th>\n",
       "      <td>-1.583333</td>\n",
       "      <td>0.636364</td>\n",
       "      <td>-0.321216</td>\n",
       "      <td>0.624595</td>\n",
       "      <td>1.095238</td>\n",
       "    </tr>\n",
       "    <tr>\n",
       "      <th>3</th>\n",
       "      <td>4.391667</td>\n",
       "      <td>1.583333</td>\n",
       "      <td>3.323004</td>\n",
       "      <td>2.644013</td>\n",
       "      <td>1.333333</td>\n",
       "    </tr>\n",
       "    <tr>\n",
       "      <th>4</th>\n",
       "      <td>767.025000</td>\n",
       "      <td>279.280303</td>\n",
       "      <td>616.519070</td>\n",
       "      <td>353.773463</td>\n",
       "      <td>66.809524</td>\n",
       "    </tr>\n",
       "  </tbody>\n",
       "</table>\n",
       "</div>"
      ],
      "text/plain": [
       "            0           1            2           3          4\n",
       "0  120.000000  264.000000  1678.000000  309.000000  21.000000\n",
       "1    0.175000    0.935606     0.474970    0.909385   1.000000\n",
       "2   -1.583333    0.636364    -0.321216    0.624595   1.095238\n",
       "3    4.391667    1.583333     3.323004    2.644013   1.333333\n",
       "4  767.025000  279.280303   616.519070  353.773463  66.809524"
      ]
     },
     "execution_count": 224,
     "metadata": {},
     "output_type": "execute_result"
    }
   ],
   "source": [
    "a = 0\n",
    "pd.DataFrame([SUM_Bid1_15[a],SUM_Bid1_15[a+1]/SUM_Bid1_15[a],SUM_Bid1_15[a+2]/SUM_Bid1_15[a],SUM_Bid1_15[a+3]/SUM_Bid1_15[a],SUM_Bid1_15[a+4]/SUM_Bid1_15[a]])"
   ]
  },
  {
   "cell_type": "code",
   "execution_count": 225,
   "metadata": {
    "collapsed": false
   },
   "outputs": [
    {
     "data": {
      "text/html": [
       "<div>\n",
       "<table border=\"1\" class=\"dataframe\">\n",
       "  <thead>\n",
       "    <tr style=\"text-align: right;\">\n",
       "      <th></th>\n",
       "      <th>0</th>\n",
       "      <th>1</th>\n",
       "      <th>2</th>\n",
       "      <th>3</th>\n",
       "      <th>4</th>\n",
       "    </tr>\n",
       "  </thead>\n",
       "  <tbody>\n",
       "    <tr>\n",
       "      <th>0</th>\n",
       "      <td>157.000000</td>\n",
       "      <td>324.000000</td>\n",
       "      <td>1047.000000</td>\n",
       "      <td>228.000000</td>\n",
       "      <td>19.000000</td>\n",
       "    </tr>\n",
       "    <tr>\n",
       "      <th>1</th>\n",
       "      <td>0.305732</td>\n",
       "      <td>0.848765</td>\n",
       "      <td>0.765043</td>\n",
       "      <td>0.793860</td>\n",
       "      <td>1.000000</td>\n",
       "    </tr>\n",
       "    <tr>\n",
       "      <th>2</th>\n",
       "      <td>-1.656051</td>\n",
       "      <td>0.231481</td>\n",
       "      <td>0.382999</td>\n",
       "      <td>0.407895</td>\n",
       "      <td>1.052632</td>\n",
       "    </tr>\n",
       "    <tr>\n",
       "      <th>3</th>\n",
       "      <td>4.356688</td>\n",
       "      <td>2.466049</td>\n",
       "      <td>2.942693</td>\n",
       "      <td>2.763158</td>\n",
       "      <td>1.473684</td>\n",
       "    </tr>\n",
       "    <tr>\n",
       "      <th>4</th>\n",
       "      <td>667.541401</td>\n",
       "      <td>286.543210</td>\n",
       "      <td>481.514804</td>\n",
       "      <td>444.337719</td>\n",
       "      <td>63.631579</td>\n",
       "    </tr>\n",
       "  </tbody>\n",
       "</table>\n",
       "</div>"
      ],
      "text/plain": [
       "            0           1            2           3          4\n",
       "0  157.000000  324.000000  1047.000000  228.000000  19.000000\n",
       "1    0.305732    0.848765     0.765043    0.793860   1.000000\n",
       "2   -1.656051    0.231481     0.382999    0.407895   1.052632\n",
       "3    4.356688    2.466049     2.942693    2.763158   1.473684\n",
       "4  667.541401  286.543210   481.514804  444.337719  63.631579"
      ]
     },
     "execution_count": 225,
     "metadata": {},
     "output_type": "execute_result"
    }
   ],
   "source": [
    "a = 5\n",
    "pd.DataFrame([SUM_Bid1_15[a],SUM_Bid1_15[a+1]/SUM_Bid1_15[a],SUM_Bid1_15[a+2]/SUM_Bid1_15[a],SUM_Bid1_15[a+3]/SUM_Bid1_15[a],SUM_Bid1_15[a+4]/SUM_Bid1_15[a]])"
   ]
  },
  {
   "cell_type": "code",
   "execution_count": 226,
   "metadata": {
    "collapsed": false
   },
   "outputs": [
    {
     "data": {
      "text/html": [
       "<div>\n",
       "<table border=\"1\" class=\"dataframe\">\n",
       "  <thead>\n",
       "    <tr style=\"text-align: right;\">\n",
       "      <th></th>\n",
       "      <th>0</th>\n",
       "      <th>1</th>\n",
       "      <th>2</th>\n",
       "      <th>3</th>\n",
       "      <th>4</th>\n",
       "    </tr>\n",
       "  </thead>\n",
       "  <tbody>\n",
       "    <tr>\n",
       "      <th>0</th>\n",
       "      <td>170.000000</td>\n",
       "      <td>418.000000</td>\n",
       "      <td>1180.000000</td>\n",
       "      <td>209.000000</td>\n",
       "      <td>13.000000</td>\n",
       "    </tr>\n",
       "    <tr>\n",
       "      <th>1</th>\n",
       "      <td>0.358824</td>\n",
       "      <td>0.813397</td>\n",
       "      <td>0.810169</td>\n",
       "      <td>0.665072</td>\n",
       "      <td>0.923077</td>\n",
       "    </tr>\n",
       "    <tr>\n",
       "      <th>2</th>\n",
       "      <td>-1.582353</td>\n",
       "      <td>0.246411</td>\n",
       "      <td>0.555085</td>\n",
       "      <td>-0.789474</td>\n",
       "      <td>0.923077</td>\n",
       "    </tr>\n",
       "    <tr>\n",
       "      <th>3</th>\n",
       "      <td>4.394118</td>\n",
       "      <td>2.846890</td>\n",
       "      <td>2.870339</td>\n",
       "      <td>3.569378</td>\n",
       "      <td>1.769231</td>\n",
       "    </tr>\n",
       "    <tr>\n",
       "      <th>4</th>\n",
       "      <td>654.470588</td>\n",
       "      <td>362.940191</td>\n",
       "      <td>467.951695</td>\n",
       "      <td>524.574163</td>\n",
       "      <td>73.076923</td>\n",
       "    </tr>\n",
       "  </tbody>\n",
       "</table>\n",
       "</div>"
      ],
      "text/plain": [
       "            0           1            2           3          4\n",
       "0  170.000000  418.000000  1180.000000  209.000000  13.000000\n",
       "1    0.358824    0.813397     0.810169    0.665072   0.923077\n",
       "2   -1.582353    0.246411     0.555085   -0.789474   0.923077\n",
       "3    4.394118    2.846890     2.870339    3.569378   1.769231\n",
       "4  654.470588  362.940191   467.951695  524.574163  73.076923"
      ]
     },
     "execution_count": 226,
     "metadata": {},
     "output_type": "execute_result"
    }
   ],
   "source": [
    "a = 10\n",
    "pd.DataFrame([SUM_Bid1_15[a],SUM_Bid1_15[a+1]/SUM_Bid1_15[a],SUM_Bid1_15[a+2]/SUM_Bid1_15[a],SUM_Bid1_15[a+3]/SUM_Bid1_15[a],SUM_Bid1_15[a+4]/SUM_Bid1_15[a]])"
   ]
  },
  {
   "cell_type": "code",
   "execution_count": 227,
   "metadata": {
    "collapsed": false
   },
   "outputs": [
    {
     "data": {
      "text/html": [
       "<div>\n",
       "<table border=\"1\" class=\"dataframe\">\n",
       "  <thead>\n",
       "    <tr style=\"text-align: right;\">\n",
       "      <th></th>\n",
       "      <th>0</th>\n",
       "      <th>1</th>\n",
       "      <th>2</th>\n",
       "      <th>3</th>\n",
       "      <th>4</th>\n",
       "    </tr>\n",
       "  </thead>\n",
       "  <tbody>\n",
       "    <tr>\n",
       "      <th>0</th>\n",
       "      <td>125.000</td>\n",
       "      <td>379.000000</td>\n",
       "      <td>1094.000000</td>\n",
       "      <td>259.000000</td>\n",
       "      <td>5.0</td>\n",
       "    </tr>\n",
       "    <tr>\n",
       "      <th>1</th>\n",
       "      <td>0.408</td>\n",
       "      <td>0.812665</td>\n",
       "      <td>0.723949</td>\n",
       "      <td>0.335907</td>\n",
       "      <td>1.0</td>\n",
       "    </tr>\n",
       "    <tr>\n",
       "      <th>2</th>\n",
       "      <td>-1.448</td>\n",
       "      <td>0.200528</td>\n",
       "      <td>0.364717</td>\n",
       "      <td>-2.776062</td>\n",
       "      <td>1.0</td>\n",
       "    </tr>\n",
       "    <tr>\n",
       "      <th>3</th>\n",
       "      <td>4.048</td>\n",
       "      <td>2.720317</td>\n",
       "      <td>3.076782</td>\n",
       "      <td>5.069498</td>\n",
       "      <td>1.4</td>\n",
       "    </tr>\n",
       "    <tr>\n",
       "      <th>4</th>\n",
       "      <td>603.728</td>\n",
       "      <td>392.646438</td>\n",
       "      <td>535.381170</td>\n",
       "      <td>694.583012</td>\n",
       "      <td>76.6</td>\n",
       "    </tr>\n",
       "  </tbody>\n",
       "</table>\n",
       "</div>"
      ],
      "text/plain": [
       "         0           1            2           3     4\n",
       "0  125.000  379.000000  1094.000000  259.000000   5.0\n",
       "1    0.408    0.812665     0.723949    0.335907   1.0\n",
       "2   -1.448    0.200528     0.364717   -2.776062   1.0\n",
       "3    4.048    2.720317     3.076782    5.069498   1.4\n",
       "4  603.728  392.646438   535.381170  694.583012  76.6"
      ]
     },
     "execution_count": 227,
     "metadata": {},
     "output_type": "execute_result"
    }
   ],
   "source": [
    "a = 15\n",
    "pd.DataFrame([SUM_Bid1_15[a],SUM_Bid1_15[a+1]/SUM_Bid1_15[a],SUM_Bid1_15[a+2]/SUM_Bid1_15[a],SUM_Bid1_15[a+3]/SUM_Bid1_15[a],SUM_Bid1_15[a+4]/SUM_Bid1_15[a]])"
   ]
  },
  {
   "cell_type": "code",
   "execution_count": 228,
   "metadata": {
    "collapsed": false
   },
   "outputs": [
    {
     "data": {
      "text/html": [
       "<div>\n",
       "<table border=\"1\" class=\"dataframe\">\n",
       "  <thead>\n",
       "    <tr style=\"text-align: right;\">\n",
       "      <th></th>\n",
       "      <th>0</th>\n",
       "      <th>1</th>\n",
       "      <th>2</th>\n",
       "      <th>3</th>\n",
       "      <th>4</th>\n",
       "    </tr>\n",
       "  </thead>\n",
       "  <tbody>\n",
       "    <tr>\n",
       "      <th>0</th>\n",
       "      <td>239.000000</td>\n",
       "      <td>494.000000</td>\n",
       "      <td>1900.000000</td>\n",
       "      <td>744.000000</td>\n",
       "      <td>4.00</td>\n",
       "    </tr>\n",
       "    <tr>\n",
       "      <th>1</th>\n",
       "      <td>0.577406</td>\n",
       "      <td>0.827935</td>\n",
       "      <td>0.742105</td>\n",
       "      <td>0.676075</td>\n",
       "      <td>1.00</td>\n",
       "    </tr>\n",
       "    <tr>\n",
       "      <th>2</th>\n",
       "      <td>-0.610879</td>\n",
       "      <td>0.216599</td>\n",
       "      <td>0.280000</td>\n",
       "      <td>-0.112903</td>\n",
       "      <td>1.00</td>\n",
       "    </tr>\n",
       "    <tr>\n",
       "      <th>3</th>\n",
       "      <td>3.531381</td>\n",
       "      <td>2.963563</td>\n",
       "      <td>3.306316</td>\n",
       "      <td>3.092742</td>\n",
       "      <td>1.75</td>\n",
       "    </tr>\n",
       "    <tr>\n",
       "      <th>4</th>\n",
       "      <td>504.598326</td>\n",
       "      <td>342.763158</td>\n",
       "      <td>567.086316</td>\n",
       "      <td>660.393817</td>\n",
       "      <td>78.25</td>\n",
       "    </tr>\n",
       "  </tbody>\n",
       "</table>\n",
       "</div>"
      ],
      "text/plain": [
       "            0           1            2           3      4\n",
       "0  239.000000  494.000000  1900.000000  744.000000   4.00\n",
       "1    0.577406    0.827935     0.742105    0.676075   1.00\n",
       "2   -0.610879    0.216599     0.280000   -0.112903   1.00\n",
       "3    3.531381    2.963563     3.306316    3.092742   1.75\n",
       "4  504.598326  342.763158   567.086316  660.393817  78.25"
      ]
     },
     "execution_count": 228,
     "metadata": {},
     "output_type": "execute_result"
    }
   ],
   "source": [
    "a = 20\n",
    "pd.DataFrame([SUM_Bid1_15[a],SUM_Bid1_15[a+1]/SUM_Bid1_15[a],SUM_Bid1_15[a+2]/SUM_Bid1_15[a],SUM_Bid1_15[a+3]/SUM_Bid1_15[a],SUM_Bid1_15[a+4]/SUM_Bid1_15[a]])"
   ]
  },
  {
   "cell_type": "code",
   "execution_count": 229,
   "metadata": {
    "collapsed": false
   },
   "outputs": [
    {
     "data": {
      "text/html": [
       "<div>\n",
       "<table border=\"1\" class=\"dataframe\">\n",
       "  <thead>\n",
       "    <tr style=\"text-align: right;\">\n",
       "      <th></th>\n",
       "      <th>0</th>\n",
       "      <th>1</th>\n",
       "      <th>2</th>\n",
       "      <th>3</th>\n",
       "      <th>4</th>\n",
       "    </tr>\n",
       "  </thead>\n",
       "  <tbody>\n",
       "    <tr>\n",
       "      <th>0</th>\n",
       "      <td>120.000000</td>\n",
       "      <td>264.000000</td>\n",
       "      <td>1678.000000</td>\n",
       "      <td>309.000000</td>\n",
       "      <td>21.000000</td>\n",
       "    </tr>\n",
       "    <tr>\n",
       "      <th>1</th>\n",
       "      <td>0.041667</td>\n",
       "      <td>0.875000</td>\n",
       "      <td>0.414779</td>\n",
       "      <td>0.423948</td>\n",
       "      <td>0.761905</td>\n",
       "    </tr>\n",
       "    <tr>\n",
       "      <th>2</th>\n",
       "      <td>-2.041667</td>\n",
       "      <td>1.420455</td>\n",
       "      <td>-0.013707</td>\n",
       "      <td>-0.129450</td>\n",
       "      <td>1.952381</td>\n",
       "    </tr>\n",
       "    <tr>\n",
       "      <th>3</th>\n",
       "      <td>5.858333</td>\n",
       "      <td>2.678030</td>\n",
       "      <td>4.531585</td>\n",
       "      <td>4.268608</td>\n",
       "      <td>2.571429</td>\n",
       "    </tr>\n",
       "    <tr>\n",
       "      <th>4</th>\n",
       "      <td>920.775000</td>\n",
       "      <td>384.503788</td>\n",
       "      <td>686.510727</td>\n",
       "      <td>716.501618</td>\n",
       "      <td>79.904762</td>\n",
       "    </tr>\n",
       "  </tbody>\n",
       "</table>\n",
       "</div>"
      ],
      "text/plain": [
       "            0           1            2           3          4\n",
       "0  120.000000  264.000000  1678.000000  309.000000  21.000000\n",
       "1    0.041667    0.875000     0.414779    0.423948   0.761905\n",
       "2   -2.041667    1.420455    -0.013707   -0.129450   1.952381\n",
       "3    5.858333    2.678030     4.531585    4.268608   2.571429\n",
       "4  920.775000  384.503788   686.510727  716.501618  79.904762"
      ]
     },
     "execution_count": 229,
     "metadata": {},
     "output_type": "execute_result"
    }
   ],
   "source": [
    "a = 0\n",
    "pd.DataFrame([SUM_Bid2_15[a],SUM_Bid2_15[a+1]/SUM_Bid2_15[a],SUM_Bid2_15[a+2]/SUM_Bid2_15[a],SUM_Bid2_15[a+3]/SUM_Bid2_15[a],SUM_Bid2_15[a+4]/SUM_Bid2_15[a]])"
   ]
  },
  {
   "cell_type": "code",
   "execution_count": 230,
   "metadata": {
    "collapsed": false
   },
   "outputs": [
    {
     "data": {
      "text/html": [
       "<div>\n",
       "<table border=\"1\" class=\"dataframe\">\n",
       "  <thead>\n",
       "    <tr style=\"text-align: right;\">\n",
       "      <th></th>\n",
       "      <th>0</th>\n",
       "      <th>1</th>\n",
       "      <th>2</th>\n",
       "      <th>3</th>\n",
       "      <th>4</th>\n",
       "    </tr>\n",
       "  </thead>\n",
       "  <tbody>\n",
       "    <tr>\n",
       "      <th>0</th>\n",
       "      <td>157.000000</td>\n",
       "      <td>324.000000</td>\n",
       "      <td>1047.000000</td>\n",
       "      <td>228.000000</td>\n",
       "      <td>19.000000</td>\n",
       "    </tr>\n",
       "    <tr>\n",
       "      <th>1</th>\n",
       "      <td>0.191083</td>\n",
       "      <td>0.712963</td>\n",
       "      <td>0.655205</td>\n",
       "      <td>0.521930</td>\n",
       "      <td>0.526316</td>\n",
       "    </tr>\n",
       "    <tr>\n",
       "      <th>2</th>\n",
       "      <td>-1.821656</td>\n",
       "      <td>0.688272</td>\n",
       "      <td>0.762178</td>\n",
       "      <td>-0.061404</td>\n",
       "      <td>1.578947</td>\n",
       "    </tr>\n",
       "    <tr>\n",
       "      <th>3</th>\n",
       "      <td>5.713376</td>\n",
       "      <td>3.725309</td>\n",
       "      <td>4.340974</td>\n",
       "      <td>4.916667</td>\n",
       "      <td>2.842105</td>\n",
       "    </tr>\n",
       "    <tr>\n",
       "      <th>4</th>\n",
       "      <td>837.394904</td>\n",
       "      <td>426.759259</td>\n",
       "      <td>593.951289</td>\n",
       "      <td>627.364035</td>\n",
       "      <td>99.894737</td>\n",
       "    </tr>\n",
       "  </tbody>\n",
       "</table>\n",
       "</div>"
      ],
      "text/plain": [
       "            0           1            2           3          4\n",
       "0  157.000000  324.000000  1047.000000  228.000000  19.000000\n",
       "1    0.191083    0.712963     0.655205    0.521930   0.526316\n",
       "2   -1.821656    0.688272     0.762178   -0.061404   1.578947\n",
       "3    5.713376    3.725309     4.340974    4.916667   2.842105\n",
       "4  837.394904  426.759259   593.951289  627.364035  99.894737"
      ]
     },
     "execution_count": 230,
     "metadata": {},
     "output_type": "execute_result"
    }
   ],
   "source": [
    "a = 5\n",
    "pd.DataFrame([SUM_Bid2_15[a],SUM_Bid2_15[a+1]/SUM_Bid2_15[a],SUM_Bid2_15[a+2]/SUM_Bid2_15[a],SUM_Bid2_15[a+3]/SUM_Bid2_15[a],SUM_Bid2_15[a+4]/SUM_Bid2_15[a]])"
   ]
  },
  {
   "cell_type": "code",
   "execution_count": 231,
   "metadata": {
    "collapsed": false
   },
   "outputs": [
    {
     "data": {
      "text/html": [
       "<div>\n",
       "<table border=\"1\" class=\"dataframe\">\n",
       "  <thead>\n",
       "    <tr style=\"text-align: right;\">\n",
       "      <th></th>\n",
       "      <th>0</th>\n",
       "      <th>1</th>\n",
       "      <th>2</th>\n",
       "      <th>3</th>\n",
       "      <th>4</th>\n",
       "    </tr>\n",
       "  </thead>\n",
       "  <tbody>\n",
       "    <tr>\n",
       "      <th>0</th>\n",
       "      <td>170.000000</td>\n",
       "      <td>418.000000</td>\n",
       "      <td>1180.000000</td>\n",
       "      <td>209.000000</td>\n",
       "      <td>13.000000</td>\n",
       "    </tr>\n",
       "    <tr>\n",
       "      <th>1</th>\n",
       "      <td>0.229412</td>\n",
       "      <td>0.540670</td>\n",
       "      <td>0.726271</td>\n",
       "      <td>0.540670</td>\n",
       "      <td>0.384615</td>\n",
       "    </tr>\n",
       "    <tr>\n",
       "      <th>2</th>\n",
       "      <td>-1.623529</td>\n",
       "      <td>0.090909</td>\n",
       "      <td>1.165254</td>\n",
       "      <td>-0.473684</td>\n",
       "      <td>1.307692</td>\n",
       "    </tr>\n",
       "    <tr>\n",
       "      <th>3</th>\n",
       "      <td>5.582353</td>\n",
       "      <td>4.318182</td>\n",
       "      <td>4.105932</td>\n",
       "      <td>4.808612</td>\n",
       "      <td>3.076923</td>\n",
       "    </tr>\n",
       "    <tr>\n",
       "      <th>4</th>\n",
       "      <td>792.535294</td>\n",
       "      <td>563.349282</td>\n",
       "      <td>589.224576</td>\n",
       "      <td>632.507177</td>\n",
       "      <td>78.769231</td>\n",
       "    </tr>\n",
       "  </tbody>\n",
       "</table>\n",
       "</div>"
      ],
      "text/plain": [
       "            0           1            2           3          4\n",
       "0  170.000000  418.000000  1180.000000  209.000000  13.000000\n",
       "1    0.229412    0.540670     0.726271    0.540670   0.384615\n",
       "2   -1.623529    0.090909     1.165254   -0.473684   1.307692\n",
       "3    5.582353    4.318182     4.105932    4.808612   3.076923\n",
       "4  792.535294  563.349282   589.224576  632.507177  78.769231"
      ]
     },
     "execution_count": 231,
     "metadata": {},
     "output_type": "execute_result"
    }
   ],
   "source": [
    "a = 10\n",
    "pd.DataFrame([SUM_Bid2_15[a],SUM_Bid2_15[a+1]/SUM_Bid2_15[a],SUM_Bid2_15[a+2]/SUM_Bid2_15[a],SUM_Bid2_15[a+3]/SUM_Bid2_15[a],SUM_Bid2_15[a+4]/SUM_Bid2_15[a]])"
   ]
  },
  {
   "cell_type": "code",
   "execution_count": 232,
   "metadata": {
    "collapsed": false
   },
   "outputs": [
    {
     "data": {
      "text/html": [
       "<div>\n",
       "<table border=\"1\" class=\"dataframe\">\n",
       "  <thead>\n",
       "    <tr style=\"text-align: right;\">\n",
       "      <th></th>\n",
       "      <th>0</th>\n",
       "      <th>1</th>\n",
       "      <th>2</th>\n",
       "      <th>3</th>\n",
       "      <th>4</th>\n",
       "    </tr>\n",
       "  </thead>\n",
       "  <tbody>\n",
       "    <tr>\n",
       "      <th>0</th>\n",
       "      <td>125.000</td>\n",
       "      <td>379.000000</td>\n",
       "      <td>1094.000000</td>\n",
       "      <td>259.000000</td>\n",
       "      <td>5.0</td>\n",
       "    </tr>\n",
       "    <tr>\n",
       "      <th>1</th>\n",
       "      <td>0.232</td>\n",
       "      <td>0.366755</td>\n",
       "      <td>0.672761</td>\n",
       "      <td>0.277992</td>\n",
       "      <td>0.4</td>\n",
       "    </tr>\n",
       "    <tr>\n",
       "      <th>2</th>\n",
       "      <td>-1.632</td>\n",
       "      <td>-0.472296</td>\n",
       "      <td>0.969835</td>\n",
       "      <td>-2.525097</td>\n",
       "      <td>1.4</td>\n",
       "    </tr>\n",
       "    <tr>\n",
       "      <th>3</th>\n",
       "      <td>5.320</td>\n",
       "      <td>5.087071</td>\n",
       "      <td>4.183729</td>\n",
       "      <td>6.100386</td>\n",
       "      <td>2.8</td>\n",
       "    </tr>\n",
       "    <tr>\n",
       "      <th>4</th>\n",
       "      <td>792.424</td>\n",
       "      <td>679.868074</td>\n",
       "      <td>634.206581</td>\n",
       "      <td>743.548263</td>\n",
       "      <td>91.6</td>\n",
       "    </tr>\n",
       "  </tbody>\n",
       "</table>\n",
       "</div>"
      ],
      "text/plain": [
       "         0           1            2           3     4\n",
       "0  125.000  379.000000  1094.000000  259.000000   5.0\n",
       "1    0.232    0.366755     0.672761    0.277992   0.4\n",
       "2   -1.632   -0.472296     0.969835   -2.525097   1.4\n",
       "3    5.320    5.087071     4.183729    6.100386   2.8\n",
       "4  792.424  679.868074   634.206581  743.548263  91.6"
      ]
     },
     "execution_count": 232,
     "metadata": {},
     "output_type": "execute_result"
    }
   ],
   "source": [
    "a = 15\n",
    "pd.DataFrame([SUM_Bid2_15[a],SUM_Bid2_15[a+1]/SUM_Bid2_15[a],SUM_Bid2_15[a+2]/SUM_Bid2_15[a],SUM_Bid2_15[a+3]/SUM_Bid2_15[a],SUM_Bid2_15[a+4]/SUM_Bid2_15[a]])"
   ]
  },
  {
   "cell_type": "code",
   "execution_count": 233,
   "metadata": {
    "collapsed": false
   },
   "outputs": [
    {
     "data": {
      "text/html": [
       "<div>\n",
       "<table border=\"1\" class=\"dataframe\">\n",
       "  <thead>\n",
       "    <tr style=\"text-align: right;\">\n",
       "      <th></th>\n",
       "      <th>0</th>\n",
       "      <th>1</th>\n",
       "      <th>2</th>\n",
       "      <th>3</th>\n",
       "      <th>4</th>\n",
       "    </tr>\n",
       "  </thead>\n",
       "  <tbody>\n",
       "    <tr>\n",
       "      <th>0</th>\n",
       "      <td>239.000000</td>\n",
       "      <td>494.000000</td>\n",
       "      <td>1900.000000</td>\n",
       "      <td>744.000000</td>\n",
       "      <td>4.0</td>\n",
       "    </tr>\n",
       "    <tr>\n",
       "      <th>1</th>\n",
       "      <td>0.330544</td>\n",
       "      <td>0.617409</td>\n",
       "      <td>0.598421</td>\n",
       "      <td>0.607527</td>\n",
       "      <td>0.0</td>\n",
       "    </tr>\n",
       "    <tr>\n",
       "      <th>2</th>\n",
       "      <td>-0.794979</td>\n",
       "      <td>-0.012146</td>\n",
       "      <td>0.838947</td>\n",
       "      <td>0.387097</td>\n",
       "      <td>1.0</td>\n",
       "    </tr>\n",
       "    <tr>\n",
       "      <th>3</th>\n",
       "      <td>4.828452</td>\n",
       "      <td>4.678138</td>\n",
       "      <td>4.415263</td>\n",
       "      <td>5.711022</td>\n",
       "      <td>3.5</td>\n",
       "    </tr>\n",
       "    <tr>\n",
       "      <th>4</th>\n",
       "      <td>756.251046</td>\n",
       "      <td>574.414980</td>\n",
       "      <td>673.321053</td>\n",
       "      <td>771.618280</td>\n",
       "      <td>0.0</td>\n",
       "    </tr>\n",
       "  </tbody>\n",
       "</table>\n",
       "</div>"
      ],
      "text/plain": [
       "            0           1            2           3    4\n",
       "0  239.000000  494.000000  1900.000000  744.000000  4.0\n",
       "1    0.330544    0.617409     0.598421    0.607527  0.0\n",
       "2   -0.794979   -0.012146     0.838947    0.387097  1.0\n",
       "3    4.828452    4.678138     4.415263    5.711022  3.5\n",
       "4  756.251046  574.414980   673.321053  771.618280  0.0"
      ]
     },
     "execution_count": 233,
     "metadata": {},
     "output_type": "execute_result"
    }
   ],
   "source": [
    "a = 20\n",
    "pd.DataFrame([SUM_Bid2_15[a],SUM_Bid2_15[a+1]/SUM_Bid2_15[a],SUM_Bid2_15[a+2]/SUM_Bid2_15[a],SUM_Bid2_15[a+3]/SUM_Bid2_15[a],SUM_Bid2_15[a+4]/SUM_Bid2_15[a]])"
   ]
  },
  {
   "cell_type": "code",
   "execution_count": null,
   "metadata": {
    "collapsed": true
   },
   "outputs": [],
   "source": []
  },
  {
   "cell_type": "code",
   "execution_count": 234,
   "metadata": {
    "collapsed": false
   },
   "outputs": [
    {
     "data": {
      "text/html": [
       "<div>\n",
       "<table border=\"1\" class=\"dataframe\">\n",
       "  <thead>\n",
       "    <tr style=\"text-align: right;\">\n",
       "      <th></th>\n",
       "      <th>0</th>\n",
       "      <th>1</th>\n",
       "      <th>2</th>\n",
       "      <th>3</th>\n",
       "      <th>4</th>\n",
       "    </tr>\n",
       "  </thead>\n",
       "  <tbody>\n",
       "    <tr>\n",
       "      <th>0</th>\n",
       "      <td>120.000000</td>\n",
       "      <td>264.000000</td>\n",
       "      <td>1678.000000</td>\n",
       "      <td>309.000000</td>\n",
       "      <td>21.000000</td>\n",
       "    </tr>\n",
       "    <tr>\n",
       "      <th>1</th>\n",
       "      <td>0.008333</td>\n",
       "      <td>0.325758</td>\n",
       "      <td>0.386770</td>\n",
       "      <td>0.271845</td>\n",
       "      <td>0.142857</td>\n",
       "    </tr>\n",
       "    <tr>\n",
       "      <th>2</th>\n",
       "      <td>-2.100000</td>\n",
       "      <td>0.659091</td>\n",
       "      <td>0.285459</td>\n",
       "      <td>0.110032</td>\n",
       "      <td>2.000000</td>\n",
       "    </tr>\n",
       "    <tr>\n",
       "      <th>3</th>\n",
       "      <td>6.858333</td>\n",
       "      <td>5.162879</td>\n",
       "      <td>5.618594</td>\n",
       "      <td>5.317152</td>\n",
       "      <td>3.571429</td>\n",
       "    </tr>\n",
       "    <tr>\n",
       "      <th>4</th>\n",
       "      <td>1027.625000</td>\n",
       "      <td>675.314394</td>\n",
       "      <td>724.151967</td>\n",
       "      <td>803.320388</td>\n",
       "      <td>47.047619</td>\n",
       "    </tr>\n",
       "  </tbody>\n",
       "</table>\n",
       "</div>"
      ],
      "text/plain": [
       "             0           1            2           3          4\n",
       "0   120.000000  264.000000  1678.000000  309.000000  21.000000\n",
       "1     0.008333    0.325758     0.386770    0.271845   0.142857\n",
       "2    -2.100000    0.659091     0.285459    0.110032   2.000000\n",
       "3     6.858333    5.162879     5.618594    5.317152   3.571429\n",
       "4  1027.625000  675.314394   724.151967  803.320388  47.047619"
      ]
     },
     "execution_count": 234,
     "metadata": {},
     "output_type": "execute_result"
    }
   ],
   "source": [
    "a = 0\n",
    "pd.DataFrame([SUM_Bid3_15[a],SUM_Bid3_15[a+1]/SUM_Bid3_15[a],SUM_Bid3_15[a+2]/SUM_Bid3_15[a],SUM_Bid3_15[a+3]/SUM_Bid3_15[a],SUM_Bid3_15[a+4]/SUM_Bid3_15[a]])"
   ]
  },
  {
   "cell_type": "code",
   "execution_count": 235,
   "metadata": {
    "collapsed": false
   },
   "outputs": [
    {
     "data": {
      "text/html": [
       "<div>\n",
       "<table border=\"1\" class=\"dataframe\">\n",
       "  <thead>\n",
       "    <tr style=\"text-align: right;\">\n",
       "      <th></th>\n",
       "      <th>0</th>\n",
       "      <th>1</th>\n",
       "      <th>2</th>\n",
       "      <th>3</th>\n",
       "      <th>4</th>\n",
       "    </tr>\n",
       "  </thead>\n",
       "  <tbody>\n",
       "    <tr>\n",
       "      <th>0</th>\n",
       "      <td>157.000000</td>\n",
       "      <td>324.000000</td>\n",
       "      <td>1047.000000</td>\n",
       "      <td>228.000000</td>\n",
       "      <td>19.000000</td>\n",
       "    </tr>\n",
       "    <tr>\n",
       "      <th>1</th>\n",
       "      <td>0.076433</td>\n",
       "      <td>0.521605</td>\n",
       "      <td>0.513849</td>\n",
       "      <td>0.412281</td>\n",
       "      <td>0.421053</td>\n",
       "    </tr>\n",
       "    <tr>\n",
       "      <th>2</th>\n",
       "      <td>-2.000000</td>\n",
       "      <td>0.783951</td>\n",
       "      <td>0.912130</td>\n",
       "      <td>0.359649</td>\n",
       "      <td>2.000000</td>\n",
       "    </tr>\n",
       "    <tr>\n",
       "      <th>3</th>\n",
       "      <td>6.751592</td>\n",
       "      <td>5.070988</td>\n",
       "      <td>5.591213</td>\n",
       "      <td>5.916667</td>\n",
       "      <td>3.842105</td>\n",
       "    </tr>\n",
       "    <tr>\n",
       "      <th>4</th>\n",
       "      <td>911.987261</td>\n",
       "      <td>551.407407</td>\n",
       "      <td>683.702006</td>\n",
       "      <td>765.565789</td>\n",
       "      <td>188.368421</td>\n",
       "    </tr>\n",
       "  </tbody>\n",
       "</table>\n",
       "</div>"
      ],
      "text/plain": [
       "            0           1            2           3           4\n",
       "0  157.000000  324.000000  1047.000000  228.000000   19.000000\n",
       "1    0.076433    0.521605     0.513849    0.412281    0.421053\n",
       "2   -2.000000    0.783951     0.912130    0.359649    2.000000\n",
       "3    6.751592    5.070988     5.591213    5.916667    3.842105\n",
       "4  911.987261  551.407407   683.702006  765.565789  188.368421"
      ]
     },
     "execution_count": 235,
     "metadata": {},
     "output_type": "execute_result"
    }
   ],
   "source": [
    "a = 5\n",
    "pd.DataFrame([SUM_Bid3_15[a],SUM_Bid3_15[a+1]/SUM_Bid3_15[a],SUM_Bid3_15[a+2]/SUM_Bid3_15[a],SUM_Bid3_15[a+3]/SUM_Bid3_15[a],SUM_Bid3_15[a+4]/SUM_Bid3_15[a]])"
   ]
  },
  {
   "cell_type": "code",
   "execution_count": 236,
   "metadata": {
    "collapsed": false
   },
   "outputs": [
    {
     "data": {
      "text/html": [
       "<div>\n",
       "<table border=\"1\" class=\"dataframe\">\n",
       "  <thead>\n",
       "    <tr style=\"text-align: right;\">\n",
       "      <th></th>\n",
       "      <th>0</th>\n",
       "      <th>1</th>\n",
       "      <th>2</th>\n",
       "      <th>3</th>\n",
       "      <th>4</th>\n",
       "    </tr>\n",
       "  </thead>\n",
       "  <tbody>\n",
       "    <tr>\n",
       "      <th>0</th>\n",
       "      <td>170.000000</td>\n",
       "      <td>418.000000</td>\n",
       "      <td>1180.000000</td>\n",
       "      <td>209.000000</td>\n",
       "      <td>13.000000</td>\n",
       "    </tr>\n",
       "    <tr>\n",
       "      <th>1</th>\n",
       "      <td>0.105882</td>\n",
       "      <td>0.315789</td>\n",
       "      <td>0.595763</td>\n",
       "      <td>0.488038</td>\n",
       "      <td>0.153846</td>\n",
       "    </tr>\n",
       "    <tr>\n",
       "      <th>2</th>\n",
       "      <td>-1.823529</td>\n",
       "      <td>-0.131579</td>\n",
       "      <td>1.583898</td>\n",
       "      <td>0.014354</td>\n",
       "      <td>1.461538</td>\n",
       "    </tr>\n",
       "    <tr>\n",
       "      <th>3</th>\n",
       "      <td>6.623529</td>\n",
       "      <td>5.435407</td>\n",
       "      <td>5.250847</td>\n",
       "      <td>5.808612</td>\n",
       "      <td>4.076923</td>\n",
       "    </tr>\n",
       "    <tr>\n",
       "      <th>4</th>\n",
       "      <td>867.388235</td>\n",
       "      <td>706.193780</td>\n",
       "      <td>669.400847</td>\n",
       "      <td>719.401914</td>\n",
       "      <td>122.538462</td>\n",
       "    </tr>\n",
       "  </tbody>\n",
       "</table>\n",
       "</div>"
      ],
      "text/plain": [
       "            0           1            2           3           4\n",
       "0  170.000000  418.000000  1180.000000  209.000000   13.000000\n",
       "1    0.105882    0.315789     0.595763    0.488038    0.153846\n",
       "2   -1.823529   -0.131579     1.583898    0.014354    1.461538\n",
       "3    6.623529    5.435407     5.250847    5.808612    4.076923\n",
       "4  867.388235  706.193780   669.400847  719.401914  122.538462"
      ]
     },
     "execution_count": 236,
     "metadata": {},
     "output_type": "execute_result"
    }
   ],
   "source": [
    "a = 10\n",
    "pd.DataFrame([SUM_Bid3_15[a],SUM_Bid3_15[a+1]/SUM_Bid3_15[a],SUM_Bid3_15[a+2]/SUM_Bid3_15[a],SUM_Bid3_15[a+3]/SUM_Bid3_15[a],SUM_Bid3_15[a+4]/SUM_Bid3_15[a]])"
   ]
  },
  {
   "cell_type": "code",
   "execution_count": 237,
   "metadata": {
    "collapsed": false
   },
   "outputs": [
    {
     "data": {
      "text/html": [
       "<div>\n",
       "<table border=\"1\" class=\"dataframe\">\n",
       "  <thead>\n",
       "    <tr style=\"text-align: right;\">\n",
       "      <th></th>\n",
       "      <th>0</th>\n",
       "      <th>1</th>\n",
       "      <th>2</th>\n",
       "      <th>3</th>\n",
       "      <th>4</th>\n",
       "    </tr>\n",
       "  </thead>\n",
       "  <tbody>\n",
       "    <tr>\n",
       "      <th>0</th>\n",
       "      <td>125.000</td>\n",
       "      <td>379.000000</td>\n",
       "      <td>1094.000000</td>\n",
       "      <td>259.000000</td>\n",
       "      <td>5.0</td>\n",
       "    </tr>\n",
       "    <tr>\n",
       "      <th>1</th>\n",
       "      <td>0.096</td>\n",
       "      <td>0.232190</td>\n",
       "      <td>0.489945</td>\n",
       "      <td>0.247104</td>\n",
       "      <td>0.2</td>\n",
       "    </tr>\n",
       "    <tr>\n",
       "      <th>2</th>\n",
       "      <td>-1.840</td>\n",
       "      <td>-0.535620</td>\n",
       "      <td>1.270567</td>\n",
       "      <td>-2.262548</td>\n",
       "      <td>1.6</td>\n",
       "    </tr>\n",
       "    <tr>\n",
       "      <th>3</th>\n",
       "      <td>6.344</td>\n",
       "      <td>6.187335</td>\n",
       "      <td>5.307130</td>\n",
       "      <td>7.100386</td>\n",
       "      <td>3.8</td>\n",
       "    </tr>\n",
       "    <tr>\n",
       "      <th>4</th>\n",
       "      <td>861.896</td>\n",
       "      <td>778.129288</td>\n",
       "      <td>721.987203</td>\n",
       "      <td>816.915058</td>\n",
       "      <td>159.0</td>\n",
       "    </tr>\n",
       "  </tbody>\n",
       "</table>\n",
       "</div>"
      ],
      "text/plain": [
       "         0           1            2           3      4\n",
       "0  125.000  379.000000  1094.000000  259.000000    5.0\n",
       "1    0.096    0.232190     0.489945    0.247104    0.2\n",
       "2   -1.840   -0.535620     1.270567   -2.262548    1.6\n",
       "3    6.344    6.187335     5.307130    7.100386    3.8\n",
       "4  861.896  778.129288   721.987203  816.915058  159.0"
      ]
     },
     "execution_count": 237,
     "metadata": {},
     "output_type": "execute_result"
    }
   ],
   "source": [
    "a = 15\n",
    "pd.DataFrame([SUM_Bid3_15[a],SUM_Bid3_15[a+1]/SUM_Bid3_15[a],SUM_Bid3_15[a+2]/SUM_Bid3_15[a],SUM_Bid3_15[a+3]/SUM_Bid3_15[a],SUM_Bid3_15[a+4]/SUM_Bid3_15[a]])"
   ]
  },
  {
   "cell_type": "code",
   "execution_count": 238,
   "metadata": {
    "collapsed": false
   },
   "outputs": [
    {
     "data": {
      "text/html": [
       "<div>\n",
       "<table border=\"1\" class=\"dataframe\">\n",
       "  <thead>\n",
       "    <tr style=\"text-align: right;\">\n",
       "      <th></th>\n",
       "      <th>0</th>\n",
       "      <th>1</th>\n",
       "      <th>2</th>\n",
       "      <th>3</th>\n",
       "      <th>4</th>\n",
       "    </tr>\n",
       "  </thead>\n",
       "  <tbody>\n",
       "    <tr>\n",
       "      <th>0</th>\n",
       "      <td>239.000000</td>\n",
       "      <td>494.000000</td>\n",
       "      <td>1900.000000</td>\n",
       "      <td>744.000000</td>\n",
       "      <td>4.0</td>\n",
       "    </tr>\n",
       "    <tr>\n",
       "      <th>1</th>\n",
       "      <td>0.083682</td>\n",
       "      <td>0.283401</td>\n",
       "      <td>0.364737</td>\n",
       "      <td>0.436828</td>\n",
       "      <td>0.0</td>\n",
       "    </tr>\n",
       "    <tr>\n",
       "      <th>2</th>\n",
       "      <td>-1.255230</td>\n",
       "      <td>-0.641700</td>\n",
       "      <td>0.772632</td>\n",
       "      <td>0.959677</td>\n",
       "      <td>1.0</td>\n",
       "    </tr>\n",
       "    <tr>\n",
       "      <th>3</th>\n",
       "      <td>5.853556</td>\n",
       "      <td>6.022267</td>\n",
       "      <td>5.706842</td>\n",
       "      <td>6.711022</td>\n",
       "      <td>4.5</td>\n",
       "    </tr>\n",
       "    <tr>\n",
       "      <th>4</th>\n",
       "      <td>849.380753</td>\n",
       "      <td>758.963563</td>\n",
       "      <td>795.253158</td>\n",
       "      <td>832.349462</td>\n",
       "      <td>0.0</td>\n",
       "    </tr>\n",
       "  </tbody>\n",
       "</table>\n",
       "</div>"
      ],
      "text/plain": [
       "            0           1            2           3    4\n",
       "0  239.000000  494.000000  1900.000000  744.000000  4.0\n",
       "1    0.083682    0.283401     0.364737    0.436828  0.0\n",
       "2   -1.255230   -0.641700     0.772632    0.959677  1.0\n",
       "3    5.853556    6.022267     5.706842    6.711022  4.5\n",
       "4  849.380753  758.963563   795.253158  832.349462  0.0"
      ]
     },
     "execution_count": 238,
     "metadata": {},
     "output_type": "execute_result"
    }
   ],
   "source": [
    "a = 20\n",
    "pd.DataFrame([SUM_Bid3_15[a],SUM_Bid3_15[a+1]/SUM_Bid3_15[a],SUM_Bid3_15[a+2]/SUM_Bid3_15[a],SUM_Bid3_15[a+3]/SUM_Bid3_15[a],SUM_Bid3_15[a+4]/SUM_Bid3_15[a]])"
   ]
  },
  {
   "cell_type": "code",
   "execution_count": null,
   "metadata": {
    "collapsed": true
   },
   "outputs": [],
   "source": []
  },
  {
   "cell_type": "code",
   "execution_count": 194,
   "metadata": {
    "collapsed": false
   },
   "outputs": [
    {
     "data": {
      "text/html": [
       "<div>\n",
       "<table border=\"1\" class=\"dataframe\">\n",
       "  <thead>\n",
       "    <tr style=\"text-align: right;\">\n",
       "      <th></th>\n",
       "      <th>0</th>\n",
       "      <th>1</th>\n",
       "      <th>2</th>\n",
       "      <th>3</th>\n",
       "      <th>4</th>\n",
       "    </tr>\n",
       "  </thead>\n",
       "  <tbody>\n",
       "    <tr>\n",
       "      <th>0</th>\n",
       "      <td>195.000000</td>\n",
       "      <td>674.000000</td>\n",
       "      <td>5406.000000</td>\n",
       "      <td>2262.000000</td>\n",
       "      <td>534.000000</td>\n",
       "    </tr>\n",
       "    <tr>\n",
       "      <th>1</th>\n",
       "      <td>0.564103</td>\n",
       "      <td>0.683976</td>\n",
       "      <td>0.795043</td>\n",
       "      <td>0.731211</td>\n",
       "      <td>0.876404</td>\n",
       "    </tr>\n",
       "    <tr>\n",
       "      <th>2</th>\n",
       "      <td>-0.784615</td>\n",
       "      <td>-0.048961</td>\n",
       "      <td>0.310211</td>\n",
       "      <td>-0.189655</td>\n",
       "      <td>0.672285</td>\n",
       "    </tr>\n",
       "    <tr>\n",
       "      <th>3</th>\n",
       "      <td>3.087179</td>\n",
       "      <td>2.698813</td>\n",
       "      <td>2.665742</td>\n",
       "      <td>3.328028</td>\n",
       "      <td>2.588015</td>\n",
       "    </tr>\n",
       "    <tr>\n",
       "      <th>4</th>\n",
       "      <td>749.061538</td>\n",
       "      <td>428.541543</td>\n",
       "      <td>402.312246</td>\n",
       "      <td>445.213086</td>\n",
       "      <td>157.878277</td>\n",
       "    </tr>\n",
       "  </tbody>\n",
       "</table>\n",
       "</div>"
      ],
      "text/plain": [
       "            0           1            2            3           4\n",
       "0  195.000000  674.000000  5406.000000  2262.000000  534.000000\n",
       "1    0.564103    0.683976     0.795043     0.731211    0.876404\n",
       "2   -0.784615   -0.048961     0.310211    -0.189655    0.672285\n",
       "3    3.087179    2.698813     2.665742     3.328028    2.588015\n",
       "4  749.061538  428.541543   402.312246   445.213086  157.878277"
      ]
     },
     "execution_count": 194,
     "metadata": {},
     "output_type": "execute_result"
    }
   ],
   "source": [
    "a = 0\n",
    "pd.DataFrame([SUM_Bid1_11[a],SUM_Bid1_11[a+1]/SUM_Bid1_11[a],SUM_Bid1_11[a+2]/SUM_Bid1_11[a],SUM_Bid1_11[a+3]/SUM_Bid1_11[a],SUM_Bid1_11[a+4]/SUM_Bid1_11[a]])"
   ]
  },
  {
   "cell_type": "code",
   "execution_count": 195,
   "metadata": {
    "collapsed": false
   },
   "outputs": [
    {
     "data": {
      "text/html": [
       "<div>\n",
       "<table border=\"1\" class=\"dataframe\">\n",
       "  <thead>\n",
       "    <tr style=\"text-align: right;\">\n",
       "      <th></th>\n",
       "      <th>0</th>\n",
       "      <th>1</th>\n",
       "      <th>2</th>\n",
       "      <th>3</th>\n",
       "      <th>4</th>\n",
       "    </tr>\n",
       "  </thead>\n",
       "  <tbody>\n",
       "    <tr>\n",
       "      <th>0</th>\n",
       "      <td>184.000000</td>\n",
       "      <td>1231.000000</td>\n",
       "      <td>5766.000000</td>\n",
       "      <td>2221.000000</td>\n",
       "      <td>628.000000</td>\n",
       "    </tr>\n",
       "    <tr>\n",
       "      <th>1</th>\n",
       "      <td>0.538043</td>\n",
       "      <td>0.668562</td>\n",
       "      <td>0.626951</td>\n",
       "      <td>0.646556</td>\n",
       "      <td>0.902866</td>\n",
       "    </tr>\n",
       "    <tr>\n",
       "      <th>2</th>\n",
       "      <td>-0.918478</td>\n",
       "      <td>-0.046304</td>\n",
       "      <td>-0.494971</td>\n",
       "      <td>-0.572715</td>\n",
       "      <td>0.737261</td>\n",
       "    </tr>\n",
       "    <tr>\n",
       "      <th>3</th>\n",
       "      <td>3.635870</td>\n",
       "      <td>2.912266</td>\n",
       "      <td>3.459070</td>\n",
       "      <td>3.705538</td>\n",
       "      <td>2.982484</td>\n",
       "    </tr>\n",
       "    <tr>\n",
       "      <th>4</th>\n",
       "      <td>862.021739</td>\n",
       "      <td>461.032494</td>\n",
       "      <td>494.202914</td>\n",
       "      <td>495.978838</td>\n",
       "      <td>193.925159</td>\n",
       "    </tr>\n",
       "  </tbody>\n",
       "</table>\n",
       "</div>"
      ],
      "text/plain": [
       "            0            1            2            3           4\n",
       "0  184.000000  1231.000000  5766.000000  2221.000000  628.000000\n",
       "1    0.538043     0.668562     0.626951     0.646556    0.902866\n",
       "2   -0.918478    -0.046304    -0.494971    -0.572715    0.737261\n",
       "3    3.635870     2.912266     3.459070     3.705538    2.982484\n",
       "4  862.021739   461.032494   494.202914   495.978838  193.925159"
      ]
     },
     "execution_count": 195,
     "metadata": {},
     "output_type": "execute_result"
    }
   ],
   "source": [
    "a = 5\n",
    "pd.DataFrame([SUM_Bid1_11[a],SUM_Bid1_11[a+1]/SUM_Bid1_11[a],SUM_Bid1_11[a+2]/SUM_Bid1_11[a],SUM_Bid1_11[a+3]/SUM_Bid1_11[a],SUM_Bid1_11[a+4]/SUM_Bid1_11[a]])"
   ]
  },
  {
   "cell_type": "code",
   "execution_count": 196,
   "metadata": {
    "collapsed": false
   },
   "outputs": [
    {
     "data": {
      "text/html": [
       "<div>\n",
       "<table border=\"1\" class=\"dataframe\">\n",
       "  <thead>\n",
       "    <tr style=\"text-align: right;\">\n",
       "      <th></th>\n",
       "      <th>0</th>\n",
       "      <th>1</th>\n",
       "      <th>2</th>\n",
       "      <th>3</th>\n",
       "      <th>4</th>\n",
       "    </tr>\n",
       "  </thead>\n",
       "  <tbody>\n",
       "    <tr>\n",
       "      <th>0</th>\n",
       "      <td>229.000000</td>\n",
       "      <td>1563.000000</td>\n",
       "      <td>6319.000000</td>\n",
       "      <td>2737.000000</td>\n",
       "      <td>742.000000</td>\n",
       "    </tr>\n",
       "    <tr>\n",
       "      <th>1</th>\n",
       "      <td>0.397380</td>\n",
       "      <td>0.621881</td>\n",
       "      <td>0.576990</td>\n",
       "      <td>0.510778</td>\n",
       "      <td>0.843666</td>\n",
       "    </tr>\n",
       "    <tr>\n",
       "      <th>2</th>\n",
       "      <td>-1.655022</td>\n",
       "      <td>-0.462572</td>\n",
       "      <td>-1.031651</td>\n",
       "      <td>-1.146145</td>\n",
       "      <td>0.590296</td>\n",
       "    </tr>\n",
       "    <tr>\n",
       "      <th>3</th>\n",
       "      <td>4.331878</td>\n",
       "      <td>3.275752</td>\n",
       "      <td>4.220763</td>\n",
       "      <td>4.488856</td>\n",
       "      <td>3.460916</td>\n",
       "    </tr>\n",
       "    <tr>\n",
       "      <th>4</th>\n",
       "      <td>1117.227074</td>\n",
       "      <td>499.202815</td>\n",
       "      <td>542.078019</td>\n",
       "      <td>605.262331</td>\n",
       "      <td>202.361186</td>\n",
       "    </tr>\n",
       "  </tbody>\n",
       "</table>\n",
       "</div>"
      ],
      "text/plain": [
       "             0            1            2            3           4\n",
       "0   229.000000  1563.000000  6319.000000  2737.000000  742.000000\n",
       "1     0.397380     0.621881     0.576990     0.510778    0.843666\n",
       "2    -1.655022    -0.462572    -1.031651    -1.146145    0.590296\n",
       "3     4.331878     3.275752     4.220763     4.488856    3.460916\n",
       "4  1117.227074   499.202815   542.078019   605.262331  202.361186"
      ]
     },
     "execution_count": 196,
     "metadata": {},
     "output_type": "execute_result"
    }
   ],
   "source": [
    "a = 10\n",
    "pd.DataFrame([SUM_Bid1_11[a],SUM_Bid1_11[a+1]/SUM_Bid1_11[a],SUM_Bid1_11[a+2]/SUM_Bid1_11[a],SUM_Bid1_11[a+3]/SUM_Bid1_11[a],SUM_Bid1_11[a+4]/SUM_Bid1_11[a]])"
   ]
  },
  {
   "cell_type": "code",
   "execution_count": 197,
   "metadata": {
    "collapsed": false
   },
   "outputs": [
    {
     "data": {
      "text/html": [
       "<div>\n",
       "<table border=\"1\" class=\"dataframe\">\n",
       "  <thead>\n",
       "    <tr style=\"text-align: right;\">\n",
       "      <th></th>\n",
       "      <th>0</th>\n",
       "      <th>1</th>\n",
       "      <th>2</th>\n",
       "      <th>3</th>\n",
       "      <th>4</th>\n",
       "    </tr>\n",
       "  </thead>\n",
       "  <tbody>\n",
       "    <tr>\n",
       "      <th>0</th>\n",
       "      <td>179.000000</td>\n",
       "      <td>1459.000000</td>\n",
       "      <td>5137.000000</td>\n",
       "      <td>1674.000000</td>\n",
       "      <td>426.000000</td>\n",
       "    </tr>\n",
       "    <tr>\n",
       "      <th>1</th>\n",
       "      <td>0.435754</td>\n",
       "      <td>0.569568</td>\n",
       "      <td>0.534943</td>\n",
       "      <td>0.487455</td>\n",
       "      <td>0.767606</td>\n",
       "    </tr>\n",
       "    <tr>\n",
       "      <th>2</th>\n",
       "      <td>-1.569832</td>\n",
       "      <td>-0.311857</td>\n",
       "      <td>-1.249562</td>\n",
       "      <td>-1.333333</td>\n",
       "      <td>0.241784</td>\n",
       "    </tr>\n",
       "    <tr>\n",
       "      <th>3</th>\n",
       "      <td>3.899441</td>\n",
       "      <td>3.270048</td>\n",
       "      <td>4.466225</td>\n",
       "      <td>4.666667</td>\n",
       "      <td>3.767606</td>\n",
       "    </tr>\n",
       "    <tr>\n",
       "      <th>4</th>\n",
       "      <td>1104.921788</td>\n",
       "      <td>548.881426</td>\n",
       "      <td>565.247421</td>\n",
       "      <td>626.163680</td>\n",
       "      <td>210.169014</td>\n",
       "    </tr>\n",
       "  </tbody>\n",
       "</table>\n",
       "</div>"
      ],
      "text/plain": [
       "             0            1            2            3           4\n",
       "0   179.000000  1459.000000  5137.000000  1674.000000  426.000000\n",
       "1     0.435754     0.569568     0.534943     0.487455    0.767606\n",
       "2    -1.569832    -0.311857    -1.249562    -1.333333    0.241784\n",
       "3     3.899441     3.270048     4.466225     4.666667    3.767606\n",
       "4  1104.921788   548.881426   565.247421   626.163680  210.169014"
      ]
     },
     "execution_count": 197,
     "metadata": {},
     "output_type": "execute_result"
    }
   ],
   "source": [
    "a = 15\n",
    "pd.DataFrame([SUM_Bid1_11[a],SUM_Bid1_11[a+1]/SUM_Bid1_11[a],SUM_Bid1_11[a+2]/SUM_Bid1_11[a],SUM_Bid1_11[a+3]/SUM_Bid1_11[a],SUM_Bid1_11[a+4]/SUM_Bid1_11[a]])"
   ]
  },
  {
   "cell_type": "code",
   "execution_count": 198,
   "metadata": {
    "collapsed": false
   },
   "outputs": [
    {
     "data": {
      "text/html": [
       "<div>\n",
       "<table border=\"1\" class=\"dataframe\">\n",
       "  <thead>\n",
       "    <tr style=\"text-align: right;\">\n",
       "      <th></th>\n",
       "      <th>0</th>\n",
       "      <th>1</th>\n",
       "      <th>2</th>\n",
       "      <th>3</th>\n",
       "      <th>4</th>\n",
       "    </tr>\n",
       "  </thead>\n",
       "  <tbody>\n",
       "    <tr>\n",
       "      <th>0</th>\n",
       "      <td>269.000000</td>\n",
       "      <td>2633.000000</td>\n",
       "      <td>8560.000000</td>\n",
       "      <td>1959.000000</td>\n",
       "      <td>413.000000</td>\n",
       "    </tr>\n",
       "    <tr>\n",
       "      <th>1</th>\n",
       "      <td>0.617100</td>\n",
       "      <td>0.555260</td>\n",
       "      <td>0.556659</td>\n",
       "      <td>0.482389</td>\n",
       "      <td>0.765133</td>\n",
       "    </tr>\n",
       "    <tr>\n",
       "      <th>2</th>\n",
       "      <td>-0.643123</td>\n",
       "      <td>-0.418914</td>\n",
       "      <td>-0.989136</td>\n",
       "      <td>-1.209801</td>\n",
       "      <td>0.491525</td>\n",
       "    </tr>\n",
       "    <tr>\n",
       "      <th>3</th>\n",
       "      <td>4.249071</td>\n",
       "      <td>3.283707</td>\n",
       "      <td>4.150818</td>\n",
       "      <td>4.533946</td>\n",
       "      <td>3.661017</td>\n",
       "    </tr>\n",
       "    <tr>\n",
       "      <th>4</th>\n",
       "      <td>897.750929</td>\n",
       "      <td>589.587543</td>\n",
       "      <td>554.322897</td>\n",
       "      <td>636.015314</td>\n",
       "      <td>215.711864</td>\n",
       "    </tr>\n",
       "  </tbody>\n",
       "</table>\n",
       "</div>"
      ],
      "text/plain": [
       "            0            1            2            3           4\n",
       "0  269.000000  2633.000000  8560.000000  1959.000000  413.000000\n",
       "1    0.617100     0.555260     0.556659     0.482389    0.765133\n",
       "2   -0.643123    -0.418914    -0.989136    -1.209801    0.491525\n",
       "3    4.249071     3.283707     4.150818     4.533946    3.661017\n",
       "4  897.750929   589.587543   554.322897   636.015314  215.711864"
      ]
     },
     "execution_count": 198,
     "metadata": {},
     "output_type": "execute_result"
    }
   ],
   "source": [
    "a = 20\n",
    "pd.DataFrame([SUM_Bid1_11[a],SUM_Bid1_11[a+1]/SUM_Bid1_11[a],SUM_Bid1_11[a+2]/SUM_Bid1_11[a],SUM_Bid1_11[a+3]/SUM_Bid1_11[a],SUM_Bid1_11[a+4]/SUM_Bid1_11[a]])"
   ]
  },
  {
   "cell_type": "code",
   "execution_count": null,
   "metadata": {
    "collapsed": true
   },
   "outputs": [],
   "source": []
  },
  {
   "cell_type": "code",
   "execution_count": 218,
   "metadata": {
    "collapsed": false
   },
   "outputs": [
    {
     "data": {
      "text/html": [
       "<div>\n",
       "<table border=\"1\" class=\"dataframe\">\n",
       "  <thead>\n",
       "    <tr style=\"text-align: right;\">\n",
       "      <th></th>\n",
       "      <th>0</th>\n",
       "      <th>1</th>\n",
       "      <th>2</th>\n",
       "      <th>3</th>\n",
       "      <th>4</th>\n",
       "    </tr>\n",
       "  </thead>\n",
       "  <tbody>\n",
       "    <tr>\n",
       "      <th>0</th>\n",
       "      <td>195.000000</td>\n",
       "      <td>674.000000</td>\n",
       "      <td>5406.000000</td>\n",
       "      <td>2262.000000</td>\n",
       "      <td>534.000000</td>\n",
       "    </tr>\n",
       "    <tr>\n",
       "      <th>1</th>\n",
       "      <td>0.420513</td>\n",
       "      <td>0.459941</td>\n",
       "      <td>0.593600</td>\n",
       "      <td>0.593280</td>\n",
       "      <td>0.713483</td>\n",
       "    </tr>\n",
       "    <tr>\n",
       "      <th>2</th>\n",
       "      <td>-0.733333</td>\n",
       "      <td>-0.065282</td>\n",
       "      <td>0.495376</td>\n",
       "      <td>0.064987</td>\n",
       "      <td>1.037453</td>\n",
       "    </tr>\n",
       "    <tr>\n",
       "      <th>3</th>\n",
       "      <td>4.471795</td>\n",
       "      <td>4.176558</td>\n",
       "      <td>4.025342</td>\n",
       "      <td>4.690981</td>\n",
       "      <td>4.316479</td>\n",
       "    </tr>\n",
       "    <tr>\n",
       "      <th>4</th>\n",
       "      <td>1305.841026</td>\n",
       "      <td>613.406528</td>\n",
       "      <td>590.049760</td>\n",
       "      <td>662.931034</td>\n",
       "      <td>224.235955</td>\n",
       "    </tr>\n",
       "  </tbody>\n",
       "</table>\n",
       "</div>"
      ],
      "text/plain": [
       "             0           1            2            3           4\n",
       "0   195.000000  674.000000  5406.000000  2262.000000  534.000000\n",
       "1     0.420513    0.459941     0.593600     0.593280    0.713483\n",
       "2    -0.733333   -0.065282     0.495376     0.064987    1.037453\n",
       "3     4.471795    4.176558     4.025342     4.690981    4.316479\n",
       "4  1305.841026  613.406528   590.049760   662.931034  224.235955"
      ]
     },
     "execution_count": 218,
     "metadata": {},
     "output_type": "execute_result"
    }
   ],
   "source": [
    "a = 0\n",
    "pd.DataFrame([SUM_Bid2_11[a],SUM_Bid2_11[a+1]/SUM_Bid2_11[a],SUM_Bid2_11[a+2]/SUM_Bid2_11[a],SUM_Bid2_11[a+3]/SUM_Bid2_11[a],SUM_Bid2_11[a+4]/SUM_Bid2_11[a]])"
   ]
  },
  {
   "cell_type": "code",
   "execution_count": 217,
   "metadata": {
    "collapsed": false
   },
   "outputs": [
    {
     "data": {
      "text/html": [
       "<div>\n",
       "<table border=\"1\" class=\"dataframe\">\n",
       "  <thead>\n",
       "    <tr style=\"text-align: right;\">\n",
       "      <th></th>\n",
       "      <th>0</th>\n",
       "      <th>1</th>\n",
       "      <th>2</th>\n",
       "      <th>3</th>\n",
       "      <th>4</th>\n",
       "    </tr>\n",
       "  </thead>\n",
       "  <tbody>\n",
       "    <tr>\n",
       "      <th>0</th>\n",
       "      <td>184.000000</td>\n",
       "      <td>1231.000000</td>\n",
       "      <td>5766.000000</td>\n",
       "      <td>2221.000000</td>\n",
       "      <td>628.000000</td>\n",
       "    </tr>\n",
       "    <tr>\n",
       "      <th>1</th>\n",
       "      <td>0.451087</td>\n",
       "      <td>0.488221</td>\n",
       "      <td>0.449532</td>\n",
       "      <td>0.377308</td>\n",
       "      <td>0.730892</td>\n",
       "    </tr>\n",
       "    <tr>\n",
       "      <th>2</th>\n",
       "      <td>-0.690217</td>\n",
       "      <td>0.117790</td>\n",
       "      <td>-0.511446</td>\n",
       "      <td>-0.932463</td>\n",
       "      <td>1.044586</td>\n",
       "    </tr>\n",
       "    <tr>\n",
       "      <th>3</th>\n",
       "      <td>4.858696</td>\n",
       "      <td>4.181966</td>\n",
       "      <td>4.847555</td>\n",
       "      <td>5.479514</td>\n",
       "      <td>4.687898</td>\n",
       "    </tr>\n",
       "    <tr>\n",
       "      <th>4</th>\n",
       "      <td>1521.239130</td>\n",
       "      <td>647.464663</td>\n",
       "      <td>644.247312</td>\n",
       "      <td>719.583521</td>\n",
       "      <td>258.154459</td>\n",
       "    </tr>\n",
       "  </tbody>\n",
       "</table>\n",
       "</div>"
      ],
      "text/plain": [
       "             0            1            2            3           4\n",
       "0   184.000000  1231.000000  5766.000000  2221.000000  628.000000\n",
       "1     0.451087     0.488221     0.449532     0.377308    0.730892\n",
       "2    -0.690217     0.117790    -0.511446    -0.932463    1.044586\n",
       "3     4.858696     4.181966     4.847555     5.479514    4.687898\n",
       "4  1521.239130   647.464663   644.247312   719.583521  258.154459"
      ]
     },
     "execution_count": 217,
     "metadata": {},
     "output_type": "execute_result"
    }
   ],
   "source": [
    "a = 5\n",
    "pd.DataFrame([SUM_Bid2_11[a],SUM_Bid2_11[a+1]/SUM_Bid2_11[a],SUM_Bid2_11[a+2]/SUM_Bid2_11[a],SUM_Bid2_11[a+3]/SUM_Bid2_11[a],SUM_Bid2_11[a+4]/SUM_Bid2_11[a]])"
   ]
  },
  {
   "cell_type": "code",
   "execution_count": 216,
   "metadata": {
    "collapsed": false
   },
   "outputs": [
    {
     "data": {
      "text/html": [
       "<div>\n",
       "<table border=\"1\" class=\"dataframe\">\n",
       "  <thead>\n",
       "    <tr style=\"text-align: right;\">\n",
       "      <th></th>\n",
       "      <th>0</th>\n",
       "      <th>1</th>\n",
       "      <th>2</th>\n",
       "      <th>3</th>\n",
       "      <th>4</th>\n",
       "    </tr>\n",
       "  </thead>\n",
       "  <tbody>\n",
       "    <tr>\n",
       "      <th>0</th>\n",
       "      <td>229.000000</td>\n",
       "      <td>1563.000000</td>\n",
       "      <td>6319.000000</td>\n",
       "      <td>2737.000000</td>\n",
       "      <td>742.000000</td>\n",
       "    </tr>\n",
       "    <tr>\n",
       "      <th>1</th>\n",
       "      <td>0.275109</td>\n",
       "      <td>0.419706</td>\n",
       "      <td>0.383922</td>\n",
       "      <td>0.281695</td>\n",
       "      <td>0.588949</td>\n",
       "    </tr>\n",
       "    <tr>\n",
       "      <th>2</th>\n",
       "      <td>-1.458515</td>\n",
       "      <td>-0.512476</td>\n",
       "      <td>-1.138471</td>\n",
       "      <td>-1.455608</td>\n",
       "      <td>0.491914</td>\n",
       "    </tr>\n",
       "    <tr>\n",
       "      <th>3</th>\n",
       "      <td>5.406114</td>\n",
       "      <td>4.718490</td>\n",
       "      <td>5.631746</td>\n",
       "      <td>6.097917</td>\n",
       "      <td>5.252022</td>\n",
       "    </tr>\n",
       "    <tr>\n",
       "      <th>4</th>\n",
       "      <td>2001.270742</td>\n",
       "      <td>663.325016</td>\n",
       "      <td>697.837949</td>\n",
       "      <td>776.474973</td>\n",
       "      <td>221.088949</td>\n",
       "    </tr>\n",
       "  </tbody>\n",
       "</table>\n",
       "</div>"
      ],
      "text/plain": [
       "             0            1            2            3           4\n",
       "0   229.000000  1563.000000  6319.000000  2737.000000  742.000000\n",
       "1     0.275109     0.419706     0.383922     0.281695    0.588949\n",
       "2    -1.458515    -0.512476    -1.138471    -1.455608    0.491914\n",
       "3     5.406114     4.718490     5.631746     6.097917    5.252022\n",
       "4  2001.270742   663.325016   697.837949   776.474973  221.088949"
      ]
     },
     "execution_count": 216,
     "metadata": {},
     "output_type": "execute_result"
    }
   ],
   "source": [
    "a = 10\n",
    "pd.DataFrame([SUM_Bid2_11[a],SUM_Bid2_11[a+1]/SUM_Bid2_11[a],SUM_Bid2_11[a+2]/SUM_Bid2_11[a],SUM_Bid2_11[a+3]/SUM_Bid2_11[a],SUM_Bid2_11[a+4]/SUM_Bid2_11[a]])"
   ]
  },
  {
   "cell_type": "code",
   "execution_count": 215,
   "metadata": {
    "collapsed": false
   },
   "outputs": [
    {
     "data": {
      "text/html": [
       "<div>\n",
       "<table border=\"1\" class=\"dataframe\">\n",
       "  <thead>\n",
       "    <tr style=\"text-align: right;\">\n",
       "      <th></th>\n",
       "      <th>0</th>\n",
       "      <th>1</th>\n",
       "      <th>2</th>\n",
       "      <th>3</th>\n",
       "      <th>4</th>\n",
       "    </tr>\n",
       "  </thead>\n",
       "  <tbody>\n",
       "    <tr>\n",
       "      <th>0</th>\n",
       "      <td>179.000000</td>\n",
       "      <td>1459.000000</td>\n",
       "      <td>5137.000000</td>\n",
       "      <td>1674.000000</td>\n",
       "      <td>426.000000</td>\n",
       "    </tr>\n",
       "    <tr>\n",
       "      <th>1</th>\n",
       "      <td>0.206704</td>\n",
       "      <td>0.366690</td>\n",
       "      <td>0.355655</td>\n",
       "      <td>0.258662</td>\n",
       "      <td>0.464789</td>\n",
       "    </tr>\n",
       "    <tr>\n",
       "      <th>2</th>\n",
       "      <td>-1.776536</td>\n",
       "      <td>-0.245374</td>\n",
       "      <td>-1.386802</td>\n",
       "      <td>-1.741338</td>\n",
       "      <td>0.009390</td>\n",
       "    </tr>\n",
       "    <tr>\n",
       "      <th>3</th>\n",
       "      <td>5.486034</td>\n",
       "      <td>4.599726</td>\n",
       "      <td>5.937707</td>\n",
       "      <td>6.237754</td>\n",
       "      <td>5.502347</td>\n",
       "    </tr>\n",
       "    <tr>\n",
       "      <th>4</th>\n",
       "      <td>1975.821229</td>\n",
       "      <td>708.149417</td>\n",
       "      <td>725.454740</td>\n",
       "      <td>773.034050</td>\n",
       "      <td>197.368545</td>\n",
       "    </tr>\n",
       "  </tbody>\n",
       "</table>\n",
       "</div>"
      ],
      "text/plain": [
       "             0            1            2            3           4\n",
       "0   179.000000  1459.000000  5137.000000  1674.000000  426.000000\n",
       "1     0.206704     0.366690     0.355655     0.258662    0.464789\n",
       "2    -1.776536    -0.245374    -1.386802    -1.741338    0.009390\n",
       "3     5.486034     4.599726     5.937707     6.237754    5.502347\n",
       "4  1975.821229   708.149417   725.454740   773.034050  197.368545"
      ]
     },
     "execution_count": 215,
     "metadata": {},
     "output_type": "execute_result"
    }
   ],
   "source": [
    "a = 15\n",
    "pd.DataFrame([SUM_Bid2_11[a],SUM_Bid2_11[a+1]/SUM_Bid2_11[a],SUM_Bid2_11[a+2]/SUM_Bid2_11[a],SUM_Bid2_11[a+3]/SUM_Bid2_11[a],SUM_Bid2_11[a+4]/SUM_Bid2_11[a]])"
   ]
  },
  {
   "cell_type": "code",
   "execution_count": 214,
   "metadata": {
    "collapsed": false
   },
   "outputs": [
    {
     "data": {
      "text/html": [
       "<div>\n",
       "<table border=\"1\" class=\"dataframe\">\n",
       "  <thead>\n",
       "    <tr style=\"text-align: right;\">\n",
       "      <th></th>\n",
       "      <th>0</th>\n",
       "      <th>1</th>\n",
       "      <th>2</th>\n",
       "      <th>3</th>\n",
       "      <th>4</th>\n",
       "    </tr>\n",
       "  </thead>\n",
       "  <tbody>\n",
       "    <tr>\n",
       "      <th>0</th>\n",
       "      <td>269.000000</td>\n",
       "      <td>2633.000000</td>\n",
       "      <td>8560.000000</td>\n",
       "      <td>1959.000000</td>\n",
       "      <td>413.000000</td>\n",
       "    </tr>\n",
       "    <tr>\n",
       "      <th>1</th>\n",
       "      <td>0.516729</td>\n",
       "      <td>0.412457</td>\n",
       "      <td>0.388435</td>\n",
       "      <td>0.227667</td>\n",
       "      <td>0.527845</td>\n",
       "    </tr>\n",
       "    <tr>\n",
       "      <th>2</th>\n",
       "      <td>-0.074349</td>\n",
       "      <td>-0.251804</td>\n",
       "      <td>-1.009346</td>\n",
       "      <td>-1.594181</td>\n",
       "      <td>0.762712</td>\n",
       "    </tr>\n",
       "    <tr>\n",
       "      <th>3</th>\n",
       "      <td>5.260223</td>\n",
       "      <td>4.465629</td>\n",
       "      <td>5.558879</td>\n",
       "      <td>6.055641</td>\n",
       "      <td>4.915254</td>\n",
       "    </tr>\n",
       "    <tr>\n",
       "      <th>4</th>\n",
       "      <td>1310.226766</td>\n",
       "      <td>712.380175</td>\n",
       "      <td>713.174182</td>\n",
       "      <td>806.639102</td>\n",
       "      <td>189.559322</td>\n",
       "    </tr>\n",
       "  </tbody>\n",
       "</table>\n",
       "</div>"
      ],
      "text/plain": [
       "             0            1            2            3           4\n",
       "0   269.000000  2633.000000  8560.000000  1959.000000  413.000000\n",
       "1     0.516729     0.412457     0.388435     0.227667    0.527845\n",
       "2    -0.074349    -0.251804    -1.009346    -1.594181    0.762712\n",
       "3     5.260223     4.465629     5.558879     6.055641    4.915254\n",
       "4  1310.226766   712.380175   713.174182   806.639102  189.559322"
      ]
     },
     "execution_count": 214,
     "metadata": {},
     "output_type": "execute_result"
    }
   ],
   "source": [
    "a = 20\n",
    "pd.DataFrame([SUM_Bid2_11[a],SUM_Bid2_11[a+1]/SUM_Bid2_11[a],SUM_Bid2_11[a+2]/SUM_Bid2_11[a],SUM_Bid2_11[a+3]/SUM_Bid2_11[a],SUM_Bid2_11[a+4]/SUM_Bid2_11[a]])"
   ]
  },
  {
   "cell_type": "code",
   "execution_count": null,
   "metadata": {
    "collapsed": true
   },
   "outputs": [],
   "source": []
  },
  {
   "cell_type": "code",
   "execution_count": 219,
   "metadata": {
    "collapsed": false
   },
   "outputs": [
    {
     "data": {
      "text/html": [
       "<div>\n",
       "<table border=\"1\" class=\"dataframe\">\n",
       "  <thead>\n",
       "    <tr style=\"text-align: right;\">\n",
       "      <th></th>\n",
       "      <th>0</th>\n",
       "      <th>1</th>\n",
       "      <th>2</th>\n",
       "      <th>3</th>\n",
       "      <th>4</th>\n",
       "    </tr>\n",
       "  </thead>\n",
       "  <tbody>\n",
       "    <tr>\n",
       "      <th>0</th>\n",
       "      <td>195.000000</td>\n",
       "      <td>674.000000</td>\n",
       "      <td>5406.000000</td>\n",
       "      <td>2262.000000</td>\n",
       "      <td>534.000000</td>\n",
       "    </tr>\n",
       "    <tr>\n",
       "      <th>1</th>\n",
       "      <td>0.092308</td>\n",
       "      <td>0.393175</td>\n",
       "      <td>0.493156</td>\n",
       "      <td>0.254642</td>\n",
       "      <td>0.659176</td>\n",
       "    </tr>\n",
       "    <tr>\n",
       "      <th>2</th>\n",
       "      <td>-1.543590</td>\n",
       "      <td>0.227003</td>\n",
       "      <td>0.776915</td>\n",
       "      <td>0.009726</td>\n",
       "      <td>1.644195</td>\n",
       "    </tr>\n",
       "    <tr>\n",
       "      <th>3</th>\n",
       "      <td>6.348718</td>\n",
       "      <td>5.243323</td>\n",
       "      <td>5.169811</td>\n",
       "      <td>5.854996</td>\n",
       "      <td>5.387640</td>\n",
       "    </tr>\n",
       "    <tr>\n",
       "      <th>4</th>\n",
       "      <td>1691.497436</td>\n",
       "      <td>712.431751</td>\n",
       "      <td>689.929153</td>\n",
       "      <td>799.841733</td>\n",
       "      <td>303.256554</td>\n",
       "    </tr>\n",
       "  </tbody>\n",
       "</table>\n",
       "</div>"
      ],
      "text/plain": [
       "             0           1            2            3           4\n",
       "0   195.000000  674.000000  5406.000000  2262.000000  534.000000\n",
       "1     0.092308    0.393175     0.493156     0.254642    0.659176\n",
       "2    -1.543590    0.227003     0.776915     0.009726    1.644195\n",
       "3     6.348718    5.243323     5.169811     5.854996    5.387640\n",
       "4  1691.497436  712.431751   689.929153   799.841733  303.256554"
      ]
     },
     "execution_count": 219,
     "metadata": {},
     "output_type": "execute_result"
    }
   ],
   "source": [
    "a = 0\n",
    "pd.DataFrame([SUM_Bid3_11[a],SUM_Bid3_11[a+1]/SUM_Bid3_11[a],SUM_Bid3_11[a+2]/SUM_Bid3_11[a],SUM_Bid3_11[a+3]/SUM_Bid3_11[a],SUM_Bid3_11[a+4]/SUM_Bid3_11[a]])"
   ]
  },
  {
   "cell_type": "code",
   "execution_count": 220,
   "metadata": {
    "collapsed": false
   },
   "outputs": [
    {
     "data": {
      "text/html": [
       "<div>\n",
       "<table border=\"1\" class=\"dataframe\">\n",
       "  <thead>\n",
       "    <tr style=\"text-align: right;\">\n",
       "      <th></th>\n",
       "      <th>0</th>\n",
       "      <th>1</th>\n",
       "      <th>2</th>\n",
       "      <th>3</th>\n",
       "      <th>4</th>\n",
       "    </tr>\n",
       "  </thead>\n",
       "  <tbody>\n",
       "    <tr>\n",
       "      <th>0</th>\n",
       "      <td>184.000000</td>\n",
       "      <td>1231.000000</td>\n",
       "      <td>5766.000000</td>\n",
       "      <td>2221.000000</td>\n",
       "      <td>628.000000</td>\n",
       "    </tr>\n",
       "    <tr>\n",
       "      <th>1</th>\n",
       "      <td>0.320652</td>\n",
       "      <td>0.285946</td>\n",
       "      <td>0.339057</td>\n",
       "      <td>0.223323</td>\n",
       "      <td>0.652866</td>\n",
       "    </tr>\n",
       "    <tr>\n",
       "      <th>2</th>\n",
       "      <td>-0.375000</td>\n",
       "      <td>0.181966</td>\n",
       "      <td>-0.395942</td>\n",
       "      <td>-1.008555</td>\n",
       "      <td>1.609873</td>\n",
       "    </tr>\n",
       "    <tr>\n",
       "      <th>3</th>\n",
       "      <td>5.934783</td>\n",
       "      <td>5.268887</td>\n",
       "      <td>5.992542</td>\n",
       "      <td>6.749212</td>\n",
       "      <td>5.761146</td>\n",
       "    </tr>\n",
       "    <tr>\n",
       "      <th>4</th>\n",
       "      <td>1826.086957</td>\n",
       "      <td>800.441917</td>\n",
       "      <td>738.028963</td>\n",
       "      <td>825.590275</td>\n",
       "      <td>306.855096</td>\n",
       "    </tr>\n",
       "  </tbody>\n",
       "</table>\n",
       "</div>"
      ],
      "text/plain": [
       "             0            1            2            3           4\n",
       "0   184.000000  1231.000000  5766.000000  2221.000000  628.000000\n",
       "1     0.320652     0.285946     0.339057     0.223323    0.652866\n",
       "2    -0.375000     0.181966    -0.395942    -1.008555    1.609873\n",
       "3     5.934783     5.268887     5.992542     6.749212    5.761146\n",
       "4  1826.086957   800.441917   738.028963   825.590275  306.855096"
      ]
     },
     "execution_count": 220,
     "metadata": {},
     "output_type": "execute_result"
    }
   ],
   "source": [
    "a = 5\n",
    "pd.DataFrame([SUM_Bid3_11[a],SUM_Bid3_11[a+1]/SUM_Bid3_11[a],SUM_Bid3_11[a+2]/SUM_Bid3_11[a],SUM_Bid3_11[a+3]/SUM_Bid3_11[a],SUM_Bid3_11[a+4]/SUM_Bid3_11[a]])"
   ]
  },
  {
   "cell_type": "code",
   "execution_count": 221,
   "metadata": {
    "collapsed": false
   },
   "outputs": [
    {
     "data": {
      "text/html": [
       "<div>\n",
       "<table border=\"1\" class=\"dataframe\">\n",
       "  <thead>\n",
       "    <tr style=\"text-align: right;\">\n",
       "      <th></th>\n",
       "      <th>0</th>\n",
       "      <th>1</th>\n",
       "      <th>2</th>\n",
       "      <th>3</th>\n",
       "      <th>4</th>\n",
       "    </tr>\n",
       "  </thead>\n",
       "  <tbody>\n",
       "    <tr>\n",
       "      <th>0</th>\n",
       "      <td>229.000000</td>\n",
       "      <td>1563.000000</td>\n",
       "      <td>6319.000000</td>\n",
       "      <td>2737.000000</td>\n",
       "      <td>742.000000</td>\n",
       "    </tr>\n",
       "    <tr>\n",
       "      <th>1</th>\n",
       "      <td>0.161572</td>\n",
       "      <td>0.252079</td>\n",
       "      <td>0.302105</td>\n",
       "      <td>0.118743</td>\n",
       "      <td>0.482480</td>\n",
       "    </tr>\n",
       "    <tr>\n",
       "      <th>2</th>\n",
       "      <td>-1.301310</td>\n",
       "      <td>-0.516955</td>\n",
       "      <td>-0.994619</td>\n",
       "      <td>-1.717209</td>\n",
       "      <td>0.886792</td>\n",
       "    </tr>\n",
       "    <tr>\n",
       "      <th>3</th>\n",
       "      <td>6.436681</td>\n",
       "      <td>5.838132</td>\n",
       "      <td>6.741257</td>\n",
       "      <td>7.399342</td>\n",
       "      <td>6.305930</td>\n",
       "    </tr>\n",
       "    <tr>\n",
       "      <th>4</th>\n",
       "      <td>2349.000000</td>\n",
       "      <td>793.773512</td>\n",
       "      <td>769.437727</td>\n",
       "      <td>863.396419</td>\n",
       "      <td>230.051213</td>\n",
       "    </tr>\n",
       "  </tbody>\n",
       "</table>\n",
       "</div>"
      ],
      "text/plain": [
       "             0            1            2            3           4\n",
       "0   229.000000  1563.000000  6319.000000  2737.000000  742.000000\n",
       "1     0.161572     0.252079     0.302105     0.118743    0.482480\n",
       "2    -1.301310    -0.516955    -0.994619    -1.717209    0.886792\n",
       "3     6.436681     5.838132     6.741257     7.399342    6.305930\n",
       "4  2349.000000   793.773512   769.437727   863.396419  230.051213"
      ]
     },
     "execution_count": 221,
     "metadata": {},
     "output_type": "execute_result"
    }
   ],
   "source": [
    "a = 10\n",
    "pd.DataFrame([SUM_Bid3_11[a],SUM_Bid3_11[a+1]/SUM_Bid3_11[a],SUM_Bid3_11[a+2]/SUM_Bid3_11[a],SUM_Bid3_11[a+3]/SUM_Bid3_11[a],SUM_Bid3_11[a+4]/SUM_Bid3_11[a]])"
   ]
  },
  {
   "cell_type": "code",
   "execution_count": 222,
   "metadata": {
    "collapsed": false
   },
   "outputs": [
    {
     "data": {
      "text/html": [
       "<div>\n",
       "<table border=\"1\" class=\"dataframe\">\n",
       "  <thead>\n",
       "    <tr style=\"text-align: right;\">\n",
       "      <th></th>\n",
       "      <th>0</th>\n",
       "      <th>1</th>\n",
       "      <th>2</th>\n",
       "      <th>3</th>\n",
       "      <th>4</th>\n",
       "    </tr>\n",
       "  </thead>\n",
       "  <tbody>\n",
       "    <tr>\n",
       "      <th>0</th>\n",
       "      <td>179.000000</td>\n",
       "      <td>1459.000000</td>\n",
       "      <td>5137.000000</td>\n",
       "      <td>1674.000000</td>\n",
       "      <td>426.000000</td>\n",
       "    </tr>\n",
       "    <tr>\n",
       "      <th>1</th>\n",
       "      <td>0.039106</td>\n",
       "      <td>0.224812</td>\n",
       "      <td>0.250925</td>\n",
       "      <td>0.129630</td>\n",
       "      <td>0.342723</td>\n",
       "    </tr>\n",
       "    <tr>\n",
       "      <th>2</th>\n",
       "      <td>-1.709497</td>\n",
       "      <td>-0.273475</td>\n",
       "      <td>-1.242943</td>\n",
       "      <td>-1.805257</td>\n",
       "      <td>0.206573</td>\n",
       "    </tr>\n",
       "    <tr>\n",
       "      <th>3</th>\n",
       "      <td>6.513966</td>\n",
       "      <td>5.713502</td>\n",
       "      <td>6.995523</td>\n",
       "      <td>7.439068</td>\n",
       "      <td>6.516432</td>\n",
       "    </tr>\n",
       "    <tr>\n",
       "      <th>4</th>\n",
       "      <td>2300.614525</td>\n",
       "      <td>813.540781</td>\n",
       "      <td>788.554993</td>\n",
       "      <td>874.297491</td>\n",
       "      <td>162.967136</td>\n",
       "    </tr>\n",
       "  </tbody>\n",
       "</table>\n",
       "</div>"
      ],
      "text/plain": [
       "             0            1            2            3           4\n",
       "0   179.000000  1459.000000  5137.000000  1674.000000  426.000000\n",
       "1     0.039106     0.224812     0.250925     0.129630    0.342723\n",
       "2    -1.709497    -0.273475    -1.242943    -1.805257    0.206573\n",
       "3     6.513966     5.713502     6.995523     7.439068    6.516432\n",
       "4  2300.614525   813.540781   788.554993   874.297491  162.967136"
      ]
     },
     "execution_count": 222,
     "metadata": {},
     "output_type": "execute_result"
    }
   ],
   "source": [
    "a = 15\n",
    "pd.DataFrame([SUM_Bid3_11[a],SUM_Bid3_11[a+1]/SUM_Bid3_11[a],SUM_Bid3_11[a+2]/SUM_Bid3_11[a],SUM_Bid3_11[a+3]/SUM_Bid3_11[a],SUM_Bid3_11[a+4]/SUM_Bid3_11[a]])"
   ]
  },
  {
   "cell_type": "code",
   "execution_count": 223,
   "metadata": {
    "collapsed": false
   },
   "outputs": [
    {
     "data": {
      "text/html": [
       "<div>\n",
       "<table border=\"1\" class=\"dataframe\">\n",
       "  <thead>\n",
       "    <tr style=\"text-align: right;\">\n",
       "      <th></th>\n",
       "      <th>0</th>\n",
       "      <th>1</th>\n",
       "      <th>2</th>\n",
       "      <th>3</th>\n",
       "      <th>4</th>\n",
       "    </tr>\n",
       "  </thead>\n",
       "  <tbody>\n",
       "    <tr>\n",
       "      <th>0</th>\n",
       "      <td>269.000000</td>\n",
       "      <td>2633.000000</td>\n",
       "      <td>8560.000000</td>\n",
       "      <td>1959.000000</td>\n",
       "      <td>413.000000</td>\n",
       "    </tr>\n",
       "    <tr>\n",
       "      <th>1</th>\n",
       "      <td>0.033457</td>\n",
       "      <td>0.214204</td>\n",
       "      <td>0.230724</td>\n",
       "      <td>0.080143</td>\n",
       "      <td>0.438257</td>\n",
       "    </tr>\n",
       "    <tr>\n",
       "      <th>2</th>\n",
       "      <td>-0.962825</td>\n",
       "      <td>-0.518420</td>\n",
       "      <td>-1.025234</td>\n",
       "      <td>-1.669219</td>\n",
       "      <td>1.096852</td>\n",
       "    </tr>\n",
       "    <tr>\n",
       "      <th>3</th>\n",
       "      <td>6.513011</td>\n",
       "      <td>5.667679</td>\n",
       "      <td>6.675350</td>\n",
       "      <td>7.161307</td>\n",
       "      <td>5.958838</td>\n",
       "    </tr>\n",
       "    <tr>\n",
       "      <th>4</th>\n",
       "      <td>1662.029740</td>\n",
       "      <td>829.913027</td>\n",
       "      <td>804.240654</td>\n",
       "      <td>884.928535</td>\n",
       "      <td>182.961259</td>\n",
       "    </tr>\n",
       "  </tbody>\n",
       "</table>\n",
       "</div>"
      ],
      "text/plain": [
       "             0            1            2            3           4\n",
       "0   269.000000  2633.000000  8560.000000  1959.000000  413.000000\n",
       "1     0.033457     0.214204     0.230724     0.080143    0.438257\n",
       "2    -0.962825    -0.518420    -1.025234    -1.669219    1.096852\n",
       "3     6.513011     5.667679     6.675350     7.161307    5.958838\n",
       "4  1662.029740   829.913027   804.240654   884.928535  182.961259"
      ]
     },
     "execution_count": 223,
     "metadata": {},
     "output_type": "execute_result"
    }
   ],
   "source": [
    "a = 20\n",
    "pd.DataFrame([SUM_Bid3_11[a],SUM_Bid3_11[a+1]/SUM_Bid3_11[a],SUM_Bid3_11[a+2]/SUM_Bid3_11[a],SUM_Bid3_11[a+3]/SUM_Bid3_11[a],SUM_Bid3_11[a+4]/SUM_Bid3_11[a]])"
   ]
  },
  {
   "cell_type": "code",
   "execution_count": null,
   "metadata": {
    "collapsed": true
   },
   "outputs": [],
   "source": []
  },
  {
   "cell_type": "code",
   "execution_count": 179,
   "metadata": {
    "collapsed": false
   },
   "outputs": [
    {
     "data": {
      "text/html": [
       "<div>\n",
       "<table border=\"1\" class=\"dataframe\">\n",
       "  <thead>\n",
       "    <tr style=\"text-align: right;\">\n",
       "      <th></th>\n",
       "      <th>0</th>\n",
       "      <th>1</th>\n",
       "      <th>2</th>\n",
       "      <th>3</th>\n",
       "      <th>4</th>\n",
       "    </tr>\n",
       "  </thead>\n",
       "  <tbody>\n",
       "    <tr>\n",
       "      <th>0</th>\n",
       "      <td>58.000000</td>\n",
       "      <td>202.000000</td>\n",
       "      <td>15159.000000</td>\n",
       "      <td>887.000000</td>\n",
       "      <td>105.000000</td>\n",
       "    </tr>\n",
       "    <tr>\n",
       "      <th>1</th>\n",
       "      <td>0.000000</td>\n",
       "      <td>0.405941</td>\n",
       "      <td>0.322647</td>\n",
       "      <td>0.527621</td>\n",
       "      <td>0.914286</td>\n",
       "    </tr>\n",
       "    <tr>\n",
       "      <th>2</th>\n",
       "      <td>-4.120690</td>\n",
       "      <td>-1.222772</td>\n",
       "      <td>0.386569</td>\n",
       "      <td>0.043968</td>\n",
       "      <td>0.885714</td>\n",
       "    </tr>\n",
       "    <tr>\n",
       "      <th>3</th>\n",
       "      <td>5.689655</td>\n",
       "      <td>2.975248</td>\n",
       "      <td>1.671878</td>\n",
       "      <td>2.413754</td>\n",
       "      <td>1.323810</td>\n",
       "    </tr>\n",
       "    <tr>\n",
       "      <th>4</th>\n",
       "      <td>1039.655172</td>\n",
       "      <td>627.584158</td>\n",
       "      <td>772.652682</td>\n",
       "      <td>568.461105</td>\n",
       "      <td>109.161905</td>\n",
       "    </tr>\n",
       "  </tbody>\n",
       "</table>\n",
       "</div>"
      ],
      "text/plain": [
       "             0           1             2           3           4\n",
       "0    58.000000  202.000000  15159.000000  887.000000  105.000000\n",
       "1     0.000000    0.405941      0.322647    0.527621    0.914286\n",
       "2    -4.120690   -1.222772      0.386569    0.043968    0.885714\n",
       "3     5.689655    2.975248      1.671878    2.413754    1.323810\n",
       "4  1039.655172  627.584158    772.652682  568.461105  109.161905"
      ]
     },
     "execution_count": 179,
     "metadata": {},
     "output_type": "execute_result"
    }
   ],
   "source": [
    "a = 0\n",
    "pd.DataFrame([SUM_Bid1_13[a],SUM_Bid1_13[a+1]/SUM_Bid1_13[a],SUM_Bid1_13[a+2]/SUM_Bid1_13[a],SUM_Bid1_13[a+3]/SUM_Bid1_13[a],SUM_Bid1_13[a+4]/SUM_Bid1_13[a]])"
   ]
  },
  {
   "cell_type": "code",
   "execution_count": 180,
   "metadata": {
    "collapsed": false
   },
   "outputs": [
    {
     "data": {
      "text/html": [
       "<div>\n",
       "<table border=\"1\" class=\"dataframe\">\n",
       "  <thead>\n",
       "    <tr style=\"text-align: right;\">\n",
       "      <th></th>\n",
       "      <th>0</th>\n",
       "      <th>1</th>\n",
       "      <th>2</th>\n",
       "      <th>3</th>\n",
       "      <th>4</th>\n",
       "    </tr>\n",
       "  </thead>\n",
       "  <tbody>\n",
       "    <tr>\n",
       "      <th>0</th>\n",
       "      <td>49.000000</td>\n",
       "      <td>300.000000</td>\n",
       "      <td>6682.000000</td>\n",
       "      <td>707.000000</td>\n",
       "      <td>144.000000</td>\n",
       "    </tr>\n",
       "    <tr>\n",
       "      <th>1</th>\n",
       "      <td>0.000000</td>\n",
       "      <td>0.306667</td>\n",
       "      <td>0.285394</td>\n",
       "      <td>0.536068</td>\n",
       "      <td>0.840278</td>\n",
       "    </tr>\n",
       "    <tr>\n",
       "      <th>2</th>\n",
       "      <td>-4.367347</td>\n",
       "      <td>-1.226667</td>\n",
       "      <td>-0.141874</td>\n",
       "      <td>0.292786</td>\n",
       "      <td>0.763889</td>\n",
       "    </tr>\n",
       "    <tr>\n",
       "      <th>3</th>\n",
       "      <td>6.183673</td>\n",
       "      <td>3.000000</td>\n",
       "      <td>2.418438</td>\n",
       "      <td>3.256011</td>\n",
       "      <td>1.708333</td>\n",
       "    </tr>\n",
       "    <tr>\n",
       "      <th>4</th>\n",
       "      <td>1322.448980</td>\n",
       "      <td>691.893333</td>\n",
       "      <td>739.685124</td>\n",
       "      <td>622.459689</td>\n",
       "      <td>185.868056</td>\n",
       "    </tr>\n",
       "  </tbody>\n",
       "</table>\n",
       "</div>"
      ],
      "text/plain": [
       "             0           1            2           3           4\n",
       "0    49.000000  300.000000  6682.000000  707.000000  144.000000\n",
       "1     0.000000    0.306667     0.285394    0.536068    0.840278\n",
       "2    -4.367347   -1.226667    -0.141874    0.292786    0.763889\n",
       "3     6.183673    3.000000     2.418438    3.256011    1.708333\n",
       "4  1322.448980  691.893333   739.685124  622.459689  185.868056"
      ]
     },
     "execution_count": 180,
     "metadata": {},
     "output_type": "execute_result"
    }
   ],
   "source": [
    "a = 5\n",
    "pd.DataFrame([SUM_Bid1_13[a],SUM_Bid1_13[a+1]/SUM_Bid1_13[a],SUM_Bid1_13[a+2]/SUM_Bid1_13[a],SUM_Bid1_13[a+3]/SUM_Bid1_13[a],SUM_Bid1_13[a+4]/SUM_Bid1_13[a]])"
   ]
  },
  {
   "cell_type": "code",
   "execution_count": 181,
   "metadata": {
    "collapsed": false
   },
   "outputs": [
    {
     "data": {
      "text/html": [
       "<div>\n",
       "<table border=\"1\" class=\"dataframe\">\n",
       "  <thead>\n",
       "    <tr style=\"text-align: right;\">\n",
       "      <th></th>\n",
       "      <th>0</th>\n",
       "      <th>1</th>\n",
       "      <th>2</th>\n",
       "      <th>3</th>\n",
       "      <th>4</th>\n",
       "    </tr>\n",
       "  </thead>\n",
       "  <tbody>\n",
       "    <tr>\n",
       "      <th>0</th>\n",
       "      <td>33.000000</td>\n",
       "      <td>296.000000</td>\n",
       "      <td>6940.000000</td>\n",
       "      <td>523.000000</td>\n",
       "      <td>110.000000</td>\n",
       "    </tr>\n",
       "    <tr>\n",
       "      <th>1</th>\n",
       "      <td>0.000000</td>\n",
       "      <td>0.510135</td>\n",
       "      <td>0.371614</td>\n",
       "      <td>0.491396</td>\n",
       "      <td>0.909091</td>\n",
       "    </tr>\n",
       "    <tr>\n",
       "      <th>2</th>\n",
       "      <td>-4.818182</td>\n",
       "      <td>-0.847973</td>\n",
       "      <td>0.067147</td>\n",
       "      <td>0.133843</td>\n",
       "      <td>1.045455</td>\n",
       "    </tr>\n",
       "    <tr>\n",
       "      <th>3</th>\n",
       "      <td>6.090909</td>\n",
       "      <td>3.141892</td>\n",
       "      <td>2.261527</td>\n",
       "      <td>2.934990</td>\n",
       "      <td>1.790909</td>\n",
       "    </tr>\n",
       "    <tr>\n",
       "      <th>4</th>\n",
       "      <td>1172.727273</td>\n",
       "      <td>576.006757</td>\n",
       "      <td>724.554611</td>\n",
       "      <td>611.967495</td>\n",
       "      <td>211.945455</td>\n",
       "    </tr>\n",
       "  </tbody>\n",
       "</table>\n",
       "</div>"
      ],
      "text/plain": [
       "             0           1            2           3           4\n",
       "0    33.000000  296.000000  6940.000000  523.000000  110.000000\n",
       "1     0.000000    0.510135     0.371614    0.491396    0.909091\n",
       "2    -4.818182   -0.847973     0.067147    0.133843    1.045455\n",
       "3     6.090909    3.141892     2.261527    2.934990    1.790909\n",
       "4  1172.727273  576.006757   724.554611  611.967495  211.945455"
      ]
     },
     "execution_count": 181,
     "metadata": {},
     "output_type": "execute_result"
    }
   ],
   "source": [
    "a = 10\n",
    "pd.DataFrame([SUM_Bid1_13[a],SUM_Bid1_13[a+1]/SUM_Bid1_13[a],SUM_Bid1_13[a+2]/SUM_Bid1_13[a],SUM_Bid1_13[a+3]/SUM_Bid1_13[a],SUM_Bid1_13[a+4]/SUM_Bid1_13[a]])"
   ]
  },
  {
   "cell_type": "code",
   "execution_count": 182,
   "metadata": {
    "collapsed": false
   },
   "outputs": [
    {
     "data": {
      "text/html": [
       "<div>\n",
       "<table border=\"1\" class=\"dataframe\">\n",
       "  <thead>\n",
       "    <tr style=\"text-align: right;\">\n",
       "      <th></th>\n",
       "      <th>0</th>\n",
       "      <th>1</th>\n",
       "      <th>2</th>\n",
       "      <th>3</th>\n",
       "      <th>4</th>\n",
       "    </tr>\n",
       "  </thead>\n",
       "  <tbody>\n",
       "    <tr>\n",
       "      <th>0</th>\n",
       "      <td>19.000000</td>\n",
       "      <td>318.000000</td>\n",
       "      <td>6330.000000</td>\n",
       "      <td>409.000000</td>\n",
       "      <td>20.00</td>\n",
       "    </tr>\n",
       "    <tr>\n",
       "      <th>1</th>\n",
       "      <td>0.000000</td>\n",
       "      <td>0.509434</td>\n",
       "      <td>0.304107</td>\n",
       "      <td>0.466993</td>\n",
       "      <td>0.95</td>\n",
       "    </tr>\n",
       "    <tr>\n",
       "      <th>2</th>\n",
       "      <td>-5.157895</td>\n",
       "      <td>-0.959119</td>\n",
       "      <td>-0.061611</td>\n",
       "      <td>0.586797</td>\n",
       "      <td>0.85</td>\n",
       "    </tr>\n",
       "    <tr>\n",
       "      <th>3</th>\n",
       "      <td>6.315789</td>\n",
       "      <td>3.374214</td>\n",
       "      <td>2.056714</td>\n",
       "      <td>2.190709</td>\n",
       "      <td>1.70</td>\n",
       "    </tr>\n",
       "    <tr>\n",
       "      <th>4</th>\n",
       "      <td>947.368421</td>\n",
       "      <td>553.761006</td>\n",
       "      <td>754.659400</td>\n",
       "      <td>641.166259</td>\n",
       "      <td>240.05</td>\n",
       "    </tr>\n",
       "  </tbody>\n",
       "</table>\n",
       "</div>"
      ],
      "text/plain": [
       "            0           1            2           3       4\n",
       "0   19.000000  318.000000  6330.000000  409.000000   20.00\n",
       "1    0.000000    0.509434     0.304107    0.466993    0.95\n",
       "2   -5.157895   -0.959119    -0.061611    0.586797    0.85\n",
       "3    6.315789    3.374214     2.056714    2.190709    1.70\n",
       "4  947.368421  553.761006   754.659400  641.166259  240.05"
      ]
     },
     "execution_count": 182,
     "metadata": {},
     "output_type": "execute_result"
    }
   ],
   "source": [
    "a = 15\n",
    "pd.DataFrame([SUM_Bid1_13[a],SUM_Bid1_13[a+1]/SUM_Bid1_13[a],SUM_Bid1_13[a+2]/SUM_Bid1_13[a],SUM_Bid1_13[a+3]/SUM_Bid1_13[a],SUM_Bid1_13[a+4]/SUM_Bid1_13[a]])"
   ]
  },
  {
   "cell_type": "code",
   "execution_count": 183,
   "metadata": {
    "collapsed": false
   },
   "outputs": [
    {
     "data": {
      "text/html": [
       "<div>\n",
       "<table border=\"1\" class=\"dataframe\">\n",
       "  <thead>\n",
       "    <tr style=\"text-align: right;\">\n",
       "      <th></th>\n",
       "      <th>0</th>\n",
       "      <th>1</th>\n",
       "      <th>2</th>\n",
       "      <th>3</th>\n",
       "      <th>4</th>\n",
       "    </tr>\n",
       "  </thead>\n",
       "  <tbody>\n",
       "    <tr>\n",
       "      <th>0</th>\n",
       "      <td>17.000000</td>\n",
       "      <td>1523.000000</td>\n",
       "      <td>23766.000000</td>\n",
       "      <td>184.000000</td>\n",
       "      <td>19.000000</td>\n",
       "    </tr>\n",
       "    <tr>\n",
       "      <th>1</th>\n",
       "      <td>0.117647</td>\n",
       "      <td>0.205515</td>\n",
       "      <td>0.092569</td>\n",
       "      <td>0.673913</td>\n",
       "      <td>1.000000</td>\n",
       "    </tr>\n",
       "    <tr>\n",
       "      <th>2</th>\n",
       "      <td>-5.294118</td>\n",
       "      <td>-0.454366</td>\n",
       "      <td>-0.350837</td>\n",
       "      <td>-0.027174</td>\n",
       "      <td>1.000000</td>\n",
       "    </tr>\n",
       "    <tr>\n",
       "      <th>3</th>\n",
       "      <td>6.647059</td>\n",
       "      <td>2.670387</td>\n",
       "      <td>2.139737</td>\n",
       "      <td>3.059783</td>\n",
       "      <td>1.684211</td>\n",
       "    </tr>\n",
       "    <tr>\n",
       "      <th>4</th>\n",
       "      <td>801.058824</td>\n",
       "      <td>753.053841</td>\n",
       "      <td>852.015274</td>\n",
       "      <td>537.407609</td>\n",
       "      <td>379.263158</td>\n",
       "    </tr>\n",
       "  </tbody>\n",
       "</table>\n",
       "</div>"
      ],
      "text/plain": [
       "            0            1             2           3           4\n",
       "0   17.000000  1523.000000  23766.000000  184.000000   19.000000\n",
       "1    0.117647     0.205515      0.092569    0.673913    1.000000\n",
       "2   -5.294118    -0.454366     -0.350837   -0.027174    1.000000\n",
       "3    6.647059     2.670387      2.139737    3.059783    1.684211\n",
       "4  801.058824   753.053841    852.015274  537.407609  379.263158"
      ]
     },
     "execution_count": 183,
     "metadata": {},
     "output_type": "execute_result"
    }
   ],
   "source": [
    "a = 20\n",
    "pd.DataFrame([SUM_Bid1_13[a],SUM_Bid1_13[a+1]/SUM_Bid1_13[a],SUM_Bid1_13[a+2]/SUM_Bid1_13[a],SUM_Bid1_13[a+3]/SUM_Bid1_13[a],SUM_Bid1_13[a+4]/SUM_Bid1_13[a]])"
   ]
  },
  {
   "cell_type": "code",
   "execution_count": null,
   "metadata": {
    "collapsed": true
   },
   "outputs": [],
   "source": []
  },
  {
   "cell_type": "code",
   "execution_count": 184,
   "metadata": {
    "collapsed": false
   },
   "outputs": [
    {
     "data": {
      "text/html": [
       "<div>\n",
       "<table border=\"1\" class=\"dataframe\">\n",
       "  <thead>\n",
       "    <tr style=\"text-align: right;\">\n",
       "      <th></th>\n",
       "      <th>0</th>\n",
       "      <th>1</th>\n",
       "      <th>2</th>\n",
       "      <th>3</th>\n",
       "      <th>4</th>\n",
       "    </tr>\n",
       "  </thead>\n",
       "  <tbody>\n",
       "    <tr>\n",
       "      <th>0</th>\n",
       "      <td>58.000000</td>\n",
       "      <td>202.000000</td>\n",
       "      <td>15159.000000</td>\n",
       "      <td>887.000000</td>\n",
       "      <td>105.000000</td>\n",
       "    </tr>\n",
       "    <tr>\n",
       "      <th>1</th>\n",
       "      <td>0.000000</td>\n",
       "      <td>0.074257</td>\n",
       "      <td>0.068804</td>\n",
       "      <td>0.280722</td>\n",
       "      <td>0.761905</td>\n",
       "    </tr>\n",
       "    <tr>\n",
       "      <th>2</th>\n",
       "      <td>-4.120690</td>\n",
       "      <td>-1.792079</td>\n",
       "      <td>0.404842</td>\n",
       "      <td>0.111612</td>\n",
       "      <td>1.476190</td>\n",
       "    </tr>\n",
       "    <tr>\n",
       "      <th>3</th>\n",
       "      <td>6.689655</td>\n",
       "      <td>4.252475</td>\n",
       "      <td>2.716274</td>\n",
       "      <td>3.550169</td>\n",
       "      <td>2.380952</td>\n",
       "    </tr>\n",
       "    <tr>\n",
       "      <th>4</th>\n",
       "      <td>1287.931034</td>\n",
       "      <td>837.915842</td>\n",
       "      <td>870.367900</td>\n",
       "      <td>735.417136</td>\n",
       "      <td>223.104762</td>\n",
       "    </tr>\n",
       "  </tbody>\n",
       "</table>\n",
       "</div>"
      ],
      "text/plain": [
       "             0           1             2           3           4\n",
       "0    58.000000  202.000000  15159.000000  887.000000  105.000000\n",
       "1     0.000000    0.074257      0.068804    0.280722    0.761905\n",
       "2    -4.120690   -1.792079      0.404842    0.111612    1.476190\n",
       "3     6.689655    4.252475      2.716274    3.550169    2.380952\n",
       "4  1287.931034  837.915842    870.367900  735.417136  223.104762"
      ]
     },
     "execution_count": 184,
     "metadata": {},
     "output_type": "execute_result"
    }
   ],
   "source": [
    "a = 0\n",
    "pd.DataFrame([SUM_Bid2_13[a],SUM_Bid2_13[a+1]/SUM_Bid2_13[a],SUM_Bid2_13[a+2]/SUM_Bid2_13[a],SUM_Bid2_13[a+3]/SUM_Bid2_13[a],SUM_Bid2_13[a+4]/SUM_Bid2_13[a]])"
   ]
  },
  {
   "cell_type": "code",
   "execution_count": 185,
   "metadata": {
    "collapsed": false
   },
   "outputs": [
    {
     "data": {
      "text/html": [
       "<div>\n",
       "<table border=\"1\" class=\"dataframe\">\n",
       "  <thead>\n",
       "    <tr style=\"text-align: right;\">\n",
       "      <th></th>\n",
       "      <th>0</th>\n",
       "      <th>1</th>\n",
       "      <th>2</th>\n",
       "      <th>3</th>\n",
       "      <th>4</th>\n",
       "    </tr>\n",
       "  </thead>\n",
       "  <tbody>\n",
       "    <tr>\n",
       "      <th>0</th>\n",
       "      <td>49.000000</td>\n",
       "      <td>300.000000</td>\n",
       "      <td>6682.000000</td>\n",
       "      <td>707.000000</td>\n",
       "      <td>144.000000</td>\n",
       "    </tr>\n",
       "    <tr>\n",
       "      <th>1</th>\n",
       "      <td>0.000000</td>\n",
       "      <td>0.060000</td>\n",
       "      <td>0.109997</td>\n",
       "      <td>0.329562</td>\n",
       "      <td>0.701389</td>\n",
       "    </tr>\n",
       "    <tr>\n",
       "      <th>2</th>\n",
       "      <td>-4.367347</td>\n",
       "      <td>-1.606667</td>\n",
       "      <td>-0.205028</td>\n",
       "      <td>0.366337</td>\n",
       "      <td>1.368056</td>\n",
       "    </tr>\n",
       "    <tr>\n",
       "      <th>3</th>\n",
       "      <td>7.183673</td>\n",
       "      <td>4.286667</td>\n",
       "      <td>3.552679</td>\n",
       "      <td>4.427157</td>\n",
       "      <td>2.881944</td>\n",
       "    </tr>\n",
       "    <tr>\n",
       "      <th>4</th>\n",
       "      <td>1689.795918</td>\n",
       "      <td>865.033333</td>\n",
       "      <td>852.009129</td>\n",
       "      <td>750.155587</td>\n",
       "      <td>313.937500</td>\n",
       "    </tr>\n",
       "  </tbody>\n",
       "</table>\n",
       "</div>"
      ],
      "text/plain": [
       "             0           1            2           3           4\n",
       "0    49.000000  300.000000  6682.000000  707.000000  144.000000\n",
       "1     0.000000    0.060000     0.109997    0.329562    0.701389\n",
       "2    -4.367347   -1.606667    -0.205028    0.366337    1.368056\n",
       "3     7.183673    4.286667     3.552679    4.427157    2.881944\n",
       "4  1689.795918  865.033333   852.009129  750.155587  313.937500"
      ]
     },
     "execution_count": 185,
     "metadata": {},
     "output_type": "execute_result"
    }
   ],
   "source": [
    "a = 5\n",
    "pd.DataFrame([SUM_Bid2_13[a],SUM_Bid2_13[a+1]/SUM_Bid2_13[a],SUM_Bid2_13[a+2]/SUM_Bid2_13[a],SUM_Bid2_13[a+3]/SUM_Bid2_13[a],SUM_Bid2_13[a+4]/SUM_Bid2_13[a]])"
   ]
  },
  {
   "cell_type": "code",
   "execution_count": 186,
   "metadata": {
    "collapsed": false
   },
   "outputs": [
    {
     "data": {
      "text/html": [
       "<div>\n",
       "<table border=\"1\" class=\"dataframe\">\n",
       "  <thead>\n",
       "    <tr style=\"text-align: right;\">\n",
       "      <th></th>\n",
       "      <th>0</th>\n",
       "      <th>1</th>\n",
       "      <th>2</th>\n",
       "      <th>3</th>\n",
       "      <th>4</th>\n",
       "    </tr>\n",
       "  </thead>\n",
       "  <tbody>\n",
       "    <tr>\n",
       "      <th>0</th>\n",
       "      <td>33.000000</td>\n",
       "      <td>296.000000</td>\n",
       "      <td>6940.000000</td>\n",
       "      <td>523.000000</td>\n",
       "      <td>110.000000</td>\n",
       "    </tr>\n",
       "    <tr>\n",
       "      <th>1</th>\n",
       "      <td>0.000000</td>\n",
       "      <td>0.101351</td>\n",
       "      <td>0.173199</td>\n",
       "      <td>0.390057</td>\n",
       "      <td>0.745455</td>\n",
       "    </tr>\n",
       "    <tr>\n",
       "      <th>2</th>\n",
       "      <td>-4.818182</td>\n",
       "      <td>-1.371622</td>\n",
       "      <td>0.138617</td>\n",
       "      <td>0.495220</td>\n",
       "      <td>1.645455</td>\n",
       "    </tr>\n",
       "    <tr>\n",
       "      <th>3</th>\n",
       "      <td>7.090909</td>\n",
       "      <td>4.601351</td>\n",
       "      <td>3.400720</td>\n",
       "      <td>4.080306</td>\n",
       "      <td>2.863636</td>\n",
       "    </tr>\n",
       "    <tr>\n",
       "      <th>4</th>\n",
       "      <td>1663.636364</td>\n",
       "      <td>830.351351</td>\n",
       "      <td>827.614553</td>\n",
       "      <td>695.361377</td>\n",
       "      <td>385.218182</td>\n",
       "    </tr>\n",
       "  </tbody>\n",
       "</table>\n",
       "</div>"
      ],
      "text/plain": [
       "             0           1            2           3           4\n",
       "0    33.000000  296.000000  6940.000000  523.000000  110.000000\n",
       "1     0.000000    0.101351     0.173199    0.390057    0.745455\n",
       "2    -4.818182   -1.371622     0.138617    0.495220    1.645455\n",
       "3     7.090909    4.601351     3.400720    4.080306    2.863636\n",
       "4  1663.636364  830.351351   827.614553  695.361377  385.218182"
      ]
     },
     "execution_count": 186,
     "metadata": {},
     "output_type": "execute_result"
    }
   ],
   "source": [
    "a = 10\n",
    "pd.DataFrame([SUM_Bid2_13[a],SUM_Bid2_13[a+1]/SUM_Bid2_13[a],SUM_Bid2_13[a+2]/SUM_Bid2_13[a],SUM_Bid2_13[a+3]/SUM_Bid2_13[a],SUM_Bid2_13[a+4]/SUM_Bid2_13[a]])"
   ]
  },
  {
   "cell_type": "code",
   "execution_count": 187,
   "metadata": {
    "collapsed": false
   },
   "outputs": [
    {
     "data": {
      "text/html": [
       "<div>\n",
       "<table border=\"1\" class=\"dataframe\">\n",
       "  <thead>\n",
       "    <tr style=\"text-align: right;\">\n",
       "      <th></th>\n",
       "      <th>0</th>\n",
       "      <th>1</th>\n",
       "      <th>2</th>\n",
       "      <th>3</th>\n",
       "      <th>4</th>\n",
       "    </tr>\n",
       "  </thead>\n",
       "  <tbody>\n",
       "    <tr>\n",
       "      <th>0</th>\n",
       "      <td>19.000000</td>\n",
       "      <td>318.000000</td>\n",
       "      <td>6330.000000</td>\n",
       "      <td>409.000000</td>\n",
       "      <td>20.00</td>\n",
       "    </tr>\n",
       "    <tr>\n",
       "      <th>1</th>\n",
       "      <td>0.000000</td>\n",
       "      <td>0.056604</td>\n",
       "      <td>0.136177</td>\n",
       "      <td>0.278729</td>\n",
       "      <td>0.70</td>\n",
       "    </tr>\n",
       "    <tr>\n",
       "      <th>2</th>\n",
       "      <td>-5.157895</td>\n",
       "      <td>-1.864780</td>\n",
       "      <td>-0.004265</td>\n",
       "      <td>0.814181</td>\n",
       "      <td>1.35</td>\n",
       "    </tr>\n",
       "    <tr>\n",
       "      <th>3</th>\n",
       "      <td>7.315789</td>\n",
       "      <td>4.905660</td>\n",
       "      <td>3.122433</td>\n",
       "      <td>3.339853</td>\n",
       "      <td>2.95</td>\n",
       "    </tr>\n",
       "    <tr>\n",
       "      <th>4</th>\n",
       "      <td>1184.210526</td>\n",
       "      <td>857.767296</td>\n",
       "      <td>859.090521</td>\n",
       "      <td>732.154034</td>\n",
       "      <td>321.30</td>\n",
       "    </tr>\n",
       "  </tbody>\n",
       "</table>\n",
       "</div>"
      ],
      "text/plain": [
       "             0           1            2           3       4\n",
       "0    19.000000  318.000000  6330.000000  409.000000   20.00\n",
       "1     0.000000    0.056604     0.136177    0.278729    0.70\n",
       "2    -5.157895   -1.864780    -0.004265    0.814181    1.35\n",
       "3     7.315789    4.905660     3.122433    3.339853    2.95\n",
       "4  1184.210526  857.767296   859.090521  732.154034  321.30"
      ]
     },
     "execution_count": 187,
     "metadata": {},
     "output_type": "execute_result"
    }
   ],
   "source": [
    "a = 15\n",
    "pd.DataFrame([SUM_Bid2_13[a],SUM_Bid2_13[a+1]/SUM_Bid2_13[a],SUM_Bid2_13[a+2]/SUM_Bid2_13[a],SUM_Bid2_13[a+3]/SUM_Bid2_13[a],SUM_Bid2_13[a+4]/SUM_Bid2_13[a]])"
   ]
  },
  {
   "cell_type": "code",
   "execution_count": 188,
   "metadata": {
    "collapsed": false
   },
   "outputs": [
    {
     "data": {
      "text/html": [
       "<div>\n",
       "<table border=\"1\" class=\"dataframe\">\n",
       "  <thead>\n",
       "    <tr style=\"text-align: right;\">\n",
       "      <th></th>\n",
       "      <th>0</th>\n",
       "      <th>1</th>\n",
       "      <th>2</th>\n",
       "      <th>3</th>\n",
       "      <th>4</th>\n",
       "    </tr>\n",
       "  </thead>\n",
       "  <tbody>\n",
       "    <tr>\n",
       "      <th>0</th>\n",
       "      <td>17.000000</td>\n",
       "      <td>1523.000000</td>\n",
       "      <td>23766.000000</td>\n",
       "      <td>184.000000</td>\n",
       "      <td>19.000000</td>\n",
       "    </tr>\n",
       "    <tr>\n",
       "      <th>1</th>\n",
       "      <td>0.000000</td>\n",
       "      <td>0.038083</td>\n",
       "      <td>0.033704</td>\n",
       "      <td>0.445652</td>\n",
       "      <td>0.578947</td>\n",
       "    </tr>\n",
       "    <tr>\n",
       "      <th>2</th>\n",
       "      <td>-5.647059</td>\n",
       "      <td>-0.559422</td>\n",
       "      <td>-0.344357</td>\n",
       "      <td>0.375000</td>\n",
       "      <td>0.842105</td>\n",
       "    </tr>\n",
       "    <tr>\n",
       "      <th>3</th>\n",
       "      <td>7.882353</td>\n",
       "      <td>3.759028</td>\n",
       "      <td>3.163006</td>\n",
       "      <td>4.152174</td>\n",
       "      <td>3.000000</td>\n",
       "    </tr>\n",
       "    <tr>\n",
       "      <th>4</th>\n",
       "      <td>1323.529412</td>\n",
       "      <td>870.704531</td>\n",
       "      <td>883.326811</td>\n",
       "      <td>635.086957</td>\n",
       "      <td>369.421053</td>\n",
       "    </tr>\n",
       "  </tbody>\n",
       "</table>\n",
       "</div>"
      ],
      "text/plain": [
       "             0            1             2           3           4\n",
       "0    17.000000  1523.000000  23766.000000  184.000000   19.000000\n",
       "1     0.000000     0.038083      0.033704    0.445652    0.578947\n",
       "2    -5.647059    -0.559422     -0.344357    0.375000    0.842105\n",
       "3     7.882353     3.759028      3.163006    4.152174    3.000000\n",
       "4  1323.529412   870.704531    883.326811  635.086957  369.421053"
      ]
     },
     "execution_count": 188,
     "metadata": {},
     "output_type": "execute_result"
    }
   ],
   "source": [
    "a = 20\n",
    "pd.DataFrame([SUM_Bid2_13[a],SUM_Bid2_13[a+1]/SUM_Bid2_13[a],SUM_Bid2_13[a+2]/SUM_Bid2_13[a],SUM_Bid2_13[a+3]/SUM_Bid2_13[a],SUM_Bid2_13[a+4]/SUM_Bid2_13[a]])"
   ]
  },
  {
   "cell_type": "code",
   "execution_count": null,
   "metadata": {
    "collapsed": true
   },
   "outputs": [],
   "source": []
  },
  {
   "cell_type": "code",
   "execution_count": 189,
   "metadata": {
    "collapsed": false
   },
   "outputs": [
    {
     "data": {
      "text/html": [
       "<div>\n",
       "<table border=\"1\" class=\"dataframe\">\n",
       "  <thead>\n",
       "    <tr style=\"text-align: right;\">\n",
       "      <th></th>\n",
       "      <th>0</th>\n",
       "      <th>1</th>\n",
       "      <th>2</th>\n",
       "      <th>3</th>\n",
       "      <th>4</th>\n",
       "    </tr>\n",
       "  </thead>\n",
       "  <tbody>\n",
       "    <tr>\n",
       "      <th>0</th>\n",
       "      <td>0.000000</td>\n",
       "      <td>713.000000</td>\n",
       "      <td>18916.000000</td>\n",
       "      <td>1754.000000</td>\n",
       "      <td>16.0000</td>\n",
       "    </tr>\n",
       "    <tr>\n",
       "      <th>1</th>\n",
       "      <td>NaN</td>\n",
       "      <td>0.105189</td>\n",
       "      <td>0.076337</td>\n",
       "      <td>0.135690</td>\n",
       "      <td>0.3750</td>\n",
       "    </tr>\n",
       "    <tr>\n",
       "      <th>2</th>\n",
       "      <td>NaN</td>\n",
       "      <td>-0.741935</td>\n",
       "      <td>-0.266653</td>\n",
       "      <td>0.301596</td>\n",
       "      <td>2.3750</td>\n",
       "    </tr>\n",
       "    <tr>\n",
       "      <th>3</th>\n",
       "      <td>NaN</td>\n",
       "      <td>16.489481</td>\n",
       "      <td>4.016124</td>\n",
       "      <td>4.367731</td>\n",
       "      <td>3.6250</td>\n",
       "    </tr>\n",
       "    <tr>\n",
       "      <th>4</th>\n",
       "      <td>inf</td>\n",
       "      <td>768.405330</td>\n",
       "      <td>827.149820</td>\n",
       "      <td>760.168757</td>\n",
       "      <td>213.6875</td>\n",
       "    </tr>\n",
       "  </tbody>\n",
       "</table>\n",
       "</div>"
      ],
      "text/plain": [
       "          0           1             2            3         4\n",
       "0  0.000000  713.000000  18916.000000  1754.000000   16.0000\n",
       "1       NaN    0.105189      0.076337     0.135690    0.3750\n",
       "2       NaN   -0.741935     -0.266653     0.301596    2.3750\n",
       "3       NaN   16.489481      4.016124     4.367731    3.6250\n",
       "4       inf  768.405330    827.149820   760.168757  213.6875"
      ]
     },
     "execution_count": 189,
     "metadata": {},
     "output_type": "execute_result"
    }
   ],
   "source": [
    "a = 0\n",
    "pd.DataFrame([SUM_Bid3_13[a],SUM_Bid3_13[a+1]/SUM_Bid3_13[a],SUM_Bid3_13[a+2]/SUM_Bid3_13[a],SUM_Bid3_13[a+3]/SUM_Bid3_13[a],SUM_Bid3_13[a+4]/SUM_Bid3_13[a]])"
   ]
  },
  {
   "cell_type": "code",
   "execution_count": 190,
   "metadata": {
    "collapsed": false
   },
   "outputs": [
    {
     "data": {
      "text/html": [
       "<div>\n",
       "<table border=\"1\" class=\"dataframe\">\n",
       "  <thead>\n",
       "    <tr style=\"text-align: right;\">\n",
       "      <th></th>\n",
       "      <th>0</th>\n",
       "      <th>1</th>\n",
       "      <th>2</th>\n",
       "      <th>3</th>\n",
       "      <th>4</th>\n",
       "    </tr>\n",
       "  </thead>\n",
       "  <tbody>\n",
       "    <tr>\n",
       "      <th>0</th>\n",
       "      <td>3.0</td>\n",
       "      <td>1549.000000</td>\n",
       "      <td>18371.000000</td>\n",
       "      <td>1445.000000</td>\n",
       "      <td>10.0</td>\n",
       "    </tr>\n",
       "    <tr>\n",
       "      <th>1</th>\n",
       "      <td>0.0</td>\n",
       "      <td>0.063267</td>\n",
       "      <td>0.104349</td>\n",
       "      <td>0.176471</td>\n",
       "      <td>0.9</td>\n",
       "    </tr>\n",
       "    <tr>\n",
       "      <th>2</th>\n",
       "      <td>-4.0</td>\n",
       "      <td>-0.216914</td>\n",
       "      <td>-0.116052</td>\n",
       "      <td>0.658824</td>\n",
       "      <td>3.0</td>\n",
       "    </tr>\n",
       "    <tr>\n",
       "      <th>3</th>\n",
       "      <td>8.0</td>\n",
       "      <td>11.047127</td>\n",
       "      <td>4.301399</td>\n",
       "      <td>4.639446</td>\n",
       "      <td>3.2</td>\n",
       "    </tr>\n",
       "    <tr>\n",
       "      <th>4</th>\n",
       "      <td>1200.0</td>\n",
       "      <td>869.890897</td>\n",
       "      <td>835.485766</td>\n",
       "      <td>814.588927</td>\n",
       "      <td>395.8</td>\n",
       "    </tr>\n",
       "  </tbody>\n",
       "</table>\n",
       "</div>"
      ],
      "text/plain": [
       "        0            1             2            3      4\n",
       "0     3.0  1549.000000  18371.000000  1445.000000   10.0\n",
       "1     0.0     0.063267      0.104349     0.176471    0.9\n",
       "2    -4.0    -0.216914     -0.116052     0.658824    3.0\n",
       "3     8.0    11.047127      4.301399     4.639446    3.2\n",
       "4  1200.0   869.890897    835.485766   814.588927  395.8"
      ]
     },
     "execution_count": 190,
     "metadata": {},
     "output_type": "execute_result"
    }
   ],
   "source": [
    "a = 5\n",
    "pd.DataFrame([SUM_Bid3_13[a],SUM_Bid3_13[a+1]/SUM_Bid3_13[a],SUM_Bid3_13[a+2]/SUM_Bid3_13[a],SUM_Bid3_13[a+3]/SUM_Bid3_13[a],SUM_Bid3_13[a+4]/SUM_Bid3_13[a]])"
   ]
  },
  {
   "cell_type": "code",
   "execution_count": 191,
   "metadata": {
    "collapsed": false
   },
   "outputs": [
    {
     "data": {
      "text/html": [
       "<div>\n",
       "<table border=\"1\" class=\"dataframe\">\n",
       "  <thead>\n",
       "    <tr style=\"text-align: right;\">\n",
       "      <th></th>\n",
       "      <th>0</th>\n",
       "      <th>1</th>\n",
       "      <th>2</th>\n",
       "      <th>3</th>\n",
       "      <th>4</th>\n",
       "    </tr>\n",
       "  </thead>\n",
       "  <tbody>\n",
       "    <tr>\n",
       "      <th>0</th>\n",
       "      <td>5.0</td>\n",
       "      <td>2197.000000</td>\n",
       "      <td>16557.000000</td>\n",
       "      <td>1724.000000</td>\n",
       "      <td>9.000000</td>\n",
       "    </tr>\n",
       "    <tr>\n",
       "      <th>1</th>\n",
       "      <td>0.0</td>\n",
       "      <td>0.112426</td>\n",
       "      <td>0.099052</td>\n",
       "      <td>0.132251</td>\n",
       "      <td>1.000000</td>\n",
       "    </tr>\n",
       "    <tr>\n",
       "      <th>2</th>\n",
       "      <td>-4.0</td>\n",
       "      <td>-0.373691</td>\n",
       "      <td>-0.272815</td>\n",
       "      <td>0.428074</td>\n",
       "      <td>3.000000</td>\n",
       "    </tr>\n",
       "    <tr>\n",
       "      <th>3</th>\n",
       "      <td>8.0</td>\n",
       "      <td>8.776513</td>\n",
       "      <td>4.506312</td>\n",
       "      <td>4.929234</td>\n",
       "      <td>3.333333</td>\n",
       "    </tr>\n",
       "    <tr>\n",
       "      <th>4</th>\n",
       "      <td>900.0</td>\n",
       "      <td>849.998179</td>\n",
       "      <td>837.544603</td>\n",
       "      <td>838.254640</td>\n",
       "      <td>307.000000</td>\n",
       "    </tr>\n",
       "  </tbody>\n",
       "</table>\n",
       "</div>"
      ],
      "text/plain": [
       "       0            1             2            3           4\n",
       "0    5.0  2197.000000  16557.000000  1724.000000    9.000000\n",
       "1    0.0     0.112426      0.099052     0.132251    1.000000\n",
       "2   -4.0    -0.373691     -0.272815     0.428074    3.000000\n",
       "3    8.0     8.776513      4.506312     4.929234    3.333333\n",
       "4  900.0   849.998179    837.544603   838.254640  307.000000"
      ]
     },
     "execution_count": 191,
     "metadata": {},
     "output_type": "execute_result"
    }
   ],
   "source": [
    "a = 10\n",
    "pd.DataFrame([SUM_Bid3_13[a],SUM_Bid3_13[a+1]/SUM_Bid3_13[a],SUM_Bid3_13[a+2]/SUM_Bid3_13[a],SUM_Bid3_13[a+3]/SUM_Bid3_13[a],SUM_Bid3_13[a+4]/SUM_Bid3_13[a]])"
   ]
  },
  {
   "cell_type": "code",
   "execution_count": 192,
   "metadata": {
    "collapsed": false
   },
   "outputs": [
    {
     "data": {
      "text/html": [
       "<div>\n",
       "<table border=\"1\" class=\"dataframe\">\n",
       "  <thead>\n",
       "    <tr style=\"text-align: right;\">\n",
       "      <th></th>\n",
       "      <th>0</th>\n",
       "      <th>1</th>\n",
       "      <th>2</th>\n",
       "      <th>3</th>\n",
       "      <th>4</th>\n",
       "    </tr>\n",
       "  </thead>\n",
       "  <tbody>\n",
       "    <tr>\n",
       "      <th>0</th>\n",
       "      <td>1.0</td>\n",
       "      <td>1455.000000</td>\n",
       "      <td>9482.000000</td>\n",
       "      <td>719.000000</td>\n",
       "      <td>9.000000</td>\n",
       "    </tr>\n",
       "    <tr>\n",
       "      <th>1</th>\n",
       "      <td>0.0</td>\n",
       "      <td>0.114777</td>\n",
       "      <td>0.098397</td>\n",
       "      <td>0.201669</td>\n",
       "      <td>1.000000</td>\n",
       "    </tr>\n",
       "    <tr>\n",
       "      <th>2</th>\n",
       "      <td>-4.0</td>\n",
       "      <td>-0.518213</td>\n",
       "      <td>0.024256</td>\n",
       "      <td>0.915160</td>\n",
       "      <td>3.111111</td>\n",
       "    </tr>\n",
       "    <tr>\n",
       "      <th>3</th>\n",
       "      <td>8.0</td>\n",
       "      <td>7.281100</td>\n",
       "      <td>4.564965</td>\n",
       "      <td>4.897079</td>\n",
       "      <td>3.777778</td>\n",
       "    </tr>\n",
       "    <tr>\n",
       "      <th>4</th>\n",
       "      <td>900.0</td>\n",
       "      <td>859.645361</td>\n",
       "      <td>859.832947</td>\n",
       "      <td>821.445063</td>\n",
       "      <td>345.666667</td>\n",
       "    </tr>\n",
       "  </tbody>\n",
       "</table>\n",
       "</div>"
      ],
      "text/plain": [
       "       0            1            2           3           4\n",
       "0    1.0  1455.000000  9482.000000  719.000000    9.000000\n",
       "1    0.0     0.114777     0.098397    0.201669    1.000000\n",
       "2   -4.0    -0.518213     0.024256    0.915160    3.111111\n",
       "3    8.0     7.281100     4.564965    4.897079    3.777778\n",
       "4  900.0   859.645361   859.832947  821.445063  345.666667"
      ]
     },
     "execution_count": 192,
     "metadata": {},
     "output_type": "execute_result"
    }
   ],
   "source": [
    "a = 15\n",
    "pd.DataFrame([SUM_Bid3_13[a],SUM_Bid3_13[a+1]/SUM_Bid3_13[a],SUM_Bid3_13[a+2]/SUM_Bid3_13[a],SUM_Bid3_13[a+3]/SUM_Bid3_13[a],SUM_Bid3_13[a+4]/SUM_Bid3_13[a]])"
   ]
  },
  {
   "cell_type": "code",
   "execution_count": 193,
   "metadata": {
    "collapsed": false
   },
   "outputs": [
    {
     "data": {
      "text/html": [
       "<div>\n",
       "<table border=\"1\" class=\"dataframe\">\n",
       "  <thead>\n",
       "    <tr style=\"text-align: right;\">\n",
       "      <th></th>\n",
       "      <th>0</th>\n",
       "      <th>1</th>\n",
       "      <th>2</th>\n",
       "      <th>3</th>\n",
       "      <th>4</th>\n",
       "    </tr>\n",
       "  </thead>\n",
       "  <tbody>\n",
       "    <tr>\n",
       "      <th>0</th>\n",
       "      <td>7.000000</td>\n",
       "      <td>2126.000000</td>\n",
       "      <td>19256.000000</td>\n",
       "      <td>855.000000</td>\n",
       "      <td>21.000000</td>\n",
       "    </tr>\n",
       "    <tr>\n",
       "      <th>1</th>\n",
       "      <td>0.000000</td>\n",
       "      <td>0.079022</td>\n",
       "      <td>0.045752</td>\n",
       "      <td>0.223392</td>\n",
       "      <td>1.000000</td>\n",
       "    </tr>\n",
       "    <tr>\n",
       "      <th>2</th>\n",
       "      <td>-1.285714</td>\n",
       "      <td>-1.125118</td>\n",
       "      <td>-0.610251</td>\n",
       "      <td>1.072515</td>\n",
       "      <td>3.000000</td>\n",
       "    </tr>\n",
       "    <tr>\n",
       "      <th>3</th>\n",
       "      <td>5.000000</td>\n",
       "      <td>12.159925</td>\n",
       "      <td>4.354331</td>\n",
       "      <td>4.612865</td>\n",
       "      <td>4.000000</td>\n",
       "    </tr>\n",
       "    <tr>\n",
       "      <th>4</th>\n",
       "      <td>900.000000</td>\n",
       "      <td>855.440734</td>\n",
       "      <td>833.490237</td>\n",
       "      <td>775.597661</td>\n",
       "      <td>361.619048</td>\n",
       "    </tr>\n",
       "  </tbody>\n",
       "</table>\n",
       "</div>"
      ],
      "text/plain": [
       "            0            1             2           3           4\n",
       "0    7.000000  2126.000000  19256.000000  855.000000   21.000000\n",
       "1    0.000000     0.079022      0.045752    0.223392    1.000000\n",
       "2   -1.285714    -1.125118     -0.610251    1.072515    3.000000\n",
       "3    5.000000    12.159925      4.354331    4.612865    4.000000\n",
       "4  900.000000   855.440734    833.490237  775.597661  361.619048"
      ]
     },
     "execution_count": 193,
     "metadata": {},
     "output_type": "execute_result"
    }
   ],
   "source": [
    "a = 20\n",
    "pd.DataFrame([SUM_Bid3_13[a],SUM_Bid3_13[a+1]/SUM_Bid3_13[a],SUM_Bid3_13[a+2]/SUM_Bid3_13[a],SUM_Bid3_13[a+3]/SUM_Bid3_13[a],SUM_Bid3_13[a+4]/SUM_Bid3_13[a]])"
   ]
  },
  {
   "cell_type": "code",
   "execution_count": null,
   "metadata": {
    "collapsed": true
   },
   "outputs": [],
   "source": []
  },
  {
   "cell_type": "code",
   "execution_count": 199,
   "metadata": {
    "collapsed": false
   },
   "outputs": [
    {
     "data": {
      "text/html": [
       "<div>\n",
       "<table border=\"1\" class=\"dataframe\">\n",
       "  <thead>\n",
       "    <tr style=\"text-align: right;\">\n",
       "      <th></th>\n",
       "      <th>0</th>\n",
       "      <th>1</th>\n",
       "      <th>2</th>\n",
       "      <th>3</th>\n",
       "      <th>4</th>\n",
       "    </tr>\n",
       "  </thead>\n",
       "  <tbody>\n",
       "    <tr>\n",
       "      <th>0</th>\n",
       "      <td>0.0</td>\n",
       "      <td>713.000000</td>\n",
       "      <td>18916.000000</td>\n",
       "      <td>1754.000000</td>\n",
       "      <td>16.0000</td>\n",
       "    </tr>\n",
       "    <tr>\n",
       "      <th>1</th>\n",
       "      <td>NaN</td>\n",
       "      <td>0.542777</td>\n",
       "      <td>0.388296</td>\n",
       "      <td>0.532497</td>\n",
       "      <td>1.0000</td>\n",
       "    </tr>\n",
       "    <tr>\n",
       "      <th>2</th>\n",
       "      <td>NaN</td>\n",
       "      <td>-0.733520</td>\n",
       "      <td>-0.112127</td>\n",
       "      <td>0.144242</td>\n",
       "      <td>1.0000</td>\n",
       "    </tr>\n",
       "    <tr>\n",
       "      <th>3</th>\n",
       "      <td>NaN</td>\n",
       "      <td>8.070126</td>\n",
       "      <td>1.808628</td>\n",
       "      <td>2.105473</td>\n",
       "      <td>1.0000</td>\n",
       "    </tr>\n",
       "    <tr>\n",
       "      <th>4</th>\n",
       "      <td>NaN</td>\n",
       "      <td>454.726508</td>\n",
       "      <td>650.155371</td>\n",
       "      <td>491.509692</td>\n",
       "      <td>87.1875</td>\n",
       "    </tr>\n",
       "  </tbody>\n",
       "</table>\n",
       "</div>"
      ],
      "text/plain": [
       "     0           1             2            3        4\n",
       "0  0.0  713.000000  18916.000000  1754.000000  16.0000\n",
       "1  NaN    0.542777      0.388296     0.532497   1.0000\n",
       "2  NaN   -0.733520     -0.112127     0.144242   1.0000\n",
       "3  NaN    8.070126      1.808628     2.105473   1.0000\n",
       "4  NaN  454.726508    650.155371   491.509692  87.1875"
      ]
     },
     "execution_count": 199,
     "metadata": {},
     "output_type": "execute_result"
    }
   ],
   "source": [
    "a = 0\n",
    "pd.DataFrame([SUM_Bid1_16[a],SUM_Bid1_16[a+1]/SUM_Bid1_16[a],SUM_Bid1_16[a+2]/SUM_Bid1_16[a],SUM_Bid1_16[a+3]/SUM_Bid1_16[a],SUM_Bid1_16[a+4]/SUM_Bid1_16[a]])"
   ]
  },
  {
   "cell_type": "code",
   "execution_count": 200,
   "metadata": {
    "collapsed": false
   },
   "outputs": [
    {
     "data": {
      "text/html": [
       "<div>\n",
       "<table border=\"1\" class=\"dataframe\">\n",
       "  <thead>\n",
       "    <tr style=\"text-align: right;\">\n",
       "      <th></th>\n",
       "      <th>0</th>\n",
       "      <th>1</th>\n",
       "      <th>2</th>\n",
       "      <th>3</th>\n",
       "      <th>4</th>\n",
       "    </tr>\n",
       "  </thead>\n",
       "  <tbody>\n",
       "    <tr>\n",
       "      <th>0</th>\n",
       "      <td>3.0</td>\n",
       "      <td>1549.000000</td>\n",
       "      <td>18371.000000</td>\n",
       "      <td>1445.000000</td>\n",
       "      <td>10.0</td>\n",
       "    </tr>\n",
       "    <tr>\n",
       "      <th>1</th>\n",
       "      <td>0.0</td>\n",
       "      <td>0.440284</td>\n",
       "      <td>0.410048</td>\n",
       "      <td>0.641522</td>\n",
       "      <td>1.0</td>\n",
       "    </tr>\n",
       "    <tr>\n",
       "      <th>2</th>\n",
       "      <td>-4.0</td>\n",
       "      <td>-0.177534</td>\n",
       "      <td>-0.250993</td>\n",
       "      <td>0.298270</td>\n",
       "      <td>1.1</td>\n",
       "    </tr>\n",
       "    <tr>\n",
       "      <th>3</th>\n",
       "      <td>6.0</td>\n",
       "      <td>2.586830</td>\n",
       "      <td>2.212509</td>\n",
       "      <td>2.442215</td>\n",
       "      <td>1.1</td>\n",
       "    </tr>\n",
       "    <tr>\n",
       "      <th>4</th>\n",
       "      <td>900.0</td>\n",
       "      <td>618.216914</td>\n",
       "      <td>662.002341</td>\n",
       "      <td>511.785467</td>\n",
       "      <td>99.4</td>\n",
       "    </tr>\n",
       "  </tbody>\n",
       "</table>\n",
       "</div>"
      ],
      "text/plain": [
       "       0            1             2            3     4\n",
       "0    3.0  1549.000000  18371.000000  1445.000000  10.0\n",
       "1    0.0     0.440284      0.410048     0.641522   1.0\n",
       "2   -4.0    -0.177534     -0.250993     0.298270   1.1\n",
       "3    6.0     2.586830      2.212509     2.442215   1.1\n",
       "4  900.0   618.216914    662.002341   511.785467  99.4"
      ]
     },
     "execution_count": 200,
     "metadata": {},
     "output_type": "execute_result"
    }
   ],
   "source": [
    "a = 5\n",
    "pd.DataFrame([SUM_Bid1_16[a],SUM_Bid1_16[a+1]/SUM_Bid1_16[a],SUM_Bid1_16[a+2]/SUM_Bid1_16[a],SUM_Bid1_16[a+3]/SUM_Bid1_16[a],SUM_Bid1_16[a+4]/SUM_Bid1_16[a]])"
   ]
  },
  {
   "cell_type": "code",
   "execution_count": 201,
   "metadata": {
    "collapsed": false
   },
   "outputs": [
    {
     "data": {
      "text/html": [
       "<div>\n",
       "<table border=\"1\" class=\"dataframe\">\n",
       "  <thead>\n",
       "    <tr style=\"text-align: right;\">\n",
       "      <th></th>\n",
       "      <th>0</th>\n",
       "      <th>1</th>\n",
       "      <th>2</th>\n",
       "      <th>3</th>\n",
       "      <th>4</th>\n",
       "    </tr>\n",
       "  </thead>\n",
       "  <tbody>\n",
       "    <tr>\n",
       "      <th>0</th>\n",
       "      <td>5.0</td>\n",
       "      <td>2197.000000</td>\n",
       "      <td>16557.000000</td>\n",
       "      <td>1724.000000</td>\n",
       "      <td>9.000000</td>\n",
       "    </tr>\n",
       "    <tr>\n",
       "      <th>1</th>\n",
       "      <td>0.0</td>\n",
       "      <td>0.352754</td>\n",
       "      <td>0.346440</td>\n",
       "      <td>0.571346</td>\n",
       "      <td>1.000000</td>\n",
       "    </tr>\n",
       "    <tr>\n",
       "      <th>2</th>\n",
       "      <td>-4.0</td>\n",
       "      <td>-0.442421</td>\n",
       "      <td>-0.405569</td>\n",
       "      <td>0.317285</td>\n",
       "      <td>1.000000</td>\n",
       "    </tr>\n",
       "    <tr>\n",
       "      <th>3</th>\n",
       "      <td>6.0</td>\n",
       "      <td>2.672736</td>\n",
       "      <td>2.411246</td>\n",
       "      <td>2.603828</td>\n",
       "      <td>1.333333</td>\n",
       "    </tr>\n",
       "    <tr>\n",
       "      <th>4</th>\n",
       "      <td>900.0</td>\n",
       "      <td>706.524351</td>\n",
       "      <td>693.269131</td>\n",
       "      <td>581.899072</td>\n",
       "      <td>101.444444</td>\n",
       "    </tr>\n",
       "  </tbody>\n",
       "</table>\n",
       "</div>"
      ],
      "text/plain": [
       "       0            1             2            3           4\n",
       "0    5.0  2197.000000  16557.000000  1724.000000    9.000000\n",
       "1    0.0     0.352754      0.346440     0.571346    1.000000\n",
       "2   -4.0    -0.442421     -0.405569     0.317285    1.000000\n",
       "3    6.0     2.672736      2.411246     2.603828    1.333333\n",
       "4  900.0   706.524351    693.269131   581.899072  101.444444"
      ]
     },
     "execution_count": 201,
     "metadata": {},
     "output_type": "execute_result"
    }
   ],
   "source": [
    "a = 10\n",
    "pd.DataFrame([SUM_Bid1_16[a],SUM_Bid1_16[a+1]/SUM_Bid1_16[a],SUM_Bid1_16[a+2]/SUM_Bid1_16[a],SUM_Bid1_16[a+3]/SUM_Bid1_16[a],SUM_Bid1_16[a+4]/SUM_Bid1_16[a]])"
   ]
  },
  {
   "cell_type": "code",
   "execution_count": 202,
   "metadata": {
    "collapsed": false
   },
   "outputs": [
    {
     "data": {
      "text/html": [
       "<div>\n",
       "<table border=\"1\" class=\"dataframe\">\n",
       "  <thead>\n",
       "    <tr style=\"text-align: right;\">\n",
       "      <th></th>\n",
       "      <th>0</th>\n",
       "      <th>1</th>\n",
       "      <th>2</th>\n",
       "      <th>3</th>\n",
       "      <th>4</th>\n",
       "    </tr>\n",
       "  </thead>\n",
       "  <tbody>\n",
       "    <tr>\n",
       "      <th>0</th>\n",
       "      <td>1.0</td>\n",
       "      <td>1455.000000</td>\n",
       "      <td>9482.000000</td>\n",
       "      <td>719.000000</td>\n",
       "      <td>9.000000</td>\n",
       "    </tr>\n",
       "    <tr>\n",
       "      <th>1</th>\n",
       "      <td>0.0</td>\n",
       "      <td>0.345704</td>\n",
       "      <td>0.402447</td>\n",
       "      <td>0.627260</td>\n",
       "      <td>1.000000</td>\n",
       "    </tr>\n",
       "    <tr>\n",
       "      <th>2</th>\n",
       "      <td>-4.0</td>\n",
       "      <td>-0.646048</td>\n",
       "      <td>-0.220839</td>\n",
       "      <td>0.336579</td>\n",
       "      <td>1.111111</td>\n",
       "    </tr>\n",
       "    <tr>\n",
       "      <th>3</th>\n",
       "      <td>6.0</td>\n",
       "      <td>2.827491</td>\n",
       "      <td>2.500000</td>\n",
       "      <td>2.606398</td>\n",
       "      <td>1.777778</td>\n",
       "    </tr>\n",
       "    <tr>\n",
       "      <th>4</th>\n",
       "      <td>900.0</td>\n",
       "      <td>704.427491</td>\n",
       "      <td>680.351719</td>\n",
       "      <td>527.203060</td>\n",
       "      <td>190.000000</td>\n",
       "    </tr>\n",
       "  </tbody>\n",
       "</table>\n",
       "</div>"
      ],
      "text/plain": [
       "       0            1            2           3           4\n",
       "0    1.0  1455.000000  9482.000000  719.000000    9.000000\n",
       "1    0.0     0.345704     0.402447    0.627260    1.000000\n",
       "2   -4.0    -0.646048    -0.220839    0.336579    1.111111\n",
       "3    6.0     2.827491     2.500000    2.606398    1.777778\n",
       "4  900.0   704.427491   680.351719  527.203060  190.000000"
      ]
     },
     "execution_count": 202,
     "metadata": {},
     "output_type": "execute_result"
    }
   ],
   "source": [
    "a = 15\n",
    "pd.DataFrame([SUM_Bid1_16[a],SUM_Bid1_16[a+1]/SUM_Bid1_16[a],SUM_Bid1_16[a+2]/SUM_Bid1_16[a],SUM_Bid1_16[a+3]/SUM_Bid1_16[a],SUM_Bid1_16[a+4]/SUM_Bid1_16[a]])"
   ]
  },
  {
   "cell_type": "code",
   "execution_count": 203,
   "metadata": {
    "collapsed": false
   },
   "outputs": [
    {
     "data": {
      "text/html": [
       "<div>\n",
       "<table border=\"1\" class=\"dataframe\">\n",
       "  <thead>\n",
       "    <tr style=\"text-align: right;\">\n",
       "      <th></th>\n",
       "      <th>0</th>\n",
       "      <th>1</th>\n",
       "      <th>2</th>\n",
       "      <th>3</th>\n",
       "      <th>4</th>\n",
       "    </tr>\n",
       "  </thead>\n",
       "  <tbody>\n",
       "    <tr>\n",
       "      <th>0</th>\n",
       "      <td>7.000000</td>\n",
       "      <td>2126.000000</td>\n",
       "      <td>19256.000000</td>\n",
       "      <td>855.000000</td>\n",
       "      <td>21.000000</td>\n",
       "    </tr>\n",
       "    <tr>\n",
       "      <th>1</th>\n",
       "      <td>0.000000</td>\n",
       "      <td>0.349012</td>\n",
       "      <td>0.267086</td>\n",
       "      <td>0.707602</td>\n",
       "      <td>1.000000</td>\n",
       "    </tr>\n",
       "    <tr>\n",
       "      <th>2</th>\n",
       "      <td>-1.285714</td>\n",
       "      <td>-0.553622</td>\n",
       "      <td>-0.353396</td>\n",
       "      <td>0.412865</td>\n",
       "      <td>1.000000</td>\n",
       "    </tr>\n",
       "    <tr>\n",
       "      <th>3</th>\n",
       "      <td>3.000000</td>\n",
       "      <td>5.810913</td>\n",
       "      <td>2.325197</td>\n",
       "      <td>2.369591</td>\n",
       "      <td>2.000000</td>\n",
       "    </tr>\n",
       "    <tr>\n",
       "      <th>4</th>\n",
       "      <td>900.000000</td>\n",
       "      <td>729.951082</td>\n",
       "      <td>740.342491</td>\n",
       "      <td>472.694737</td>\n",
       "      <td>238.619048</td>\n",
       "    </tr>\n",
       "  </tbody>\n",
       "</table>\n",
       "</div>"
      ],
      "text/plain": [
       "            0            1             2           3           4\n",
       "0    7.000000  2126.000000  19256.000000  855.000000   21.000000\n",
       "1    0.000000     0.349012      0.267086    0.707602    1.000000\n",
       "2   -1.285714    -0.553622     -0.353396    0.412865    1.000000\n",
       "3    3.000000     5.810913      2.325197    2.369591    2.000000\n",
       "4  900.000000   729.951082    740.342491  472.694737  238.619048"
      ]
     },
     "execution_count": 203,
     "metadata": {},
     "output_type": "execute_result"
    }
   ],
   "source": [
    "a = 20\n",
    "pd.DataFrame([SUM_Bid1_16[a],SUM_Bid1_16[a+1]/SUM_Bid1_16[a],SUM_Bid1_16[a+2]/SUM_Bid1_16[a],SUM_Bid1_16[a+3]/SUM_Bid1_16[a],SUM_Bid1_16[a+4]/SUM_Bid1_16[a]])"
   ]
  },
  {
   "cell_type": "code",
   "execution_count": null,
   "metadata": {
    "collapsed": true
   },
   "outputs": [],
   "source": []
  },
  {
   "cell_type": "code",
   "execution_count": 204,
   "metadata": {
    "collapsed": false
   },
   "outputs": [
    {
     "data": {
      "text/html": [
       "<div>\n",
       "<table border=\"1\" class=\"dataframe\">\n",
       "  <thead>\n",
       "    <tr style=\"text-align: right;\">\n",
       "      <th></th>\n",
       "      <th>0</th>\n",
       "      <th>1</th>\n",
       "      <th>2</th>\n",
       "      <th>3</th>\n",
       "      <th>4</th>\n",
       "    </tr>\n",
       "  </thead>\n",
       "  <tbody>\n",
       "    <tr>\n",
       "      <th>0</th>\n",
       "      <td>0.0</td>\n",
       "      <td>713.000000</td>\n",
       "      <td>18916.000000</td>\n",
       "      <td>1754.000000</td>\n",
       "      <td>16.0000</td>\n",
       "    </tr>\n",
       "    <tr>\n",
       "      <th>1</th>\n",
       "      <td>NaN</td>\n",
       "      <td>0.239832</td>\n",
       "      <td>0.134859</td>\n",
       "      <td>0.252566</td>\n",
       "      <td>1.0000</td>\n",
       "    </tr>\n",
       "    <tr>\n",
       "      <th>2</th>\n",
       "      <td>NaN</td>\n",
       "      <td>-0.847125</td>\n",
       "      <td>-0.297050</td>\n",
       "      <td>0.240593</td>\n",
       "      <td>2.0000</td>\n",
       "    </tr>\n",
       "    <tr>\n",
       "      <th>3</th>\n",
       "      <td>NaN</td>\n",
       "      <td>12.701262</td>\n",
       "      <td>2.957496</td>\n",
       "      <td>3.356899</td>\n",
       "      <td>2.0000</td>\n",
       "    </tr>\n",
       "    <tr>\n",
       "      <th>4</th>\n",
       "      <td>NaN</td>\n",
       "      <td>709.406732</td>\n",
       "      <td>790.537693</td>\n",
       "      <td>693.625998</td>\n",
       "      <td>268.1875</td>\n",
       "    </tr>\n",
       "  </tbody>\n",
       "</table>\n",
       "</div>"
      ],
      "text/plain": [
       "     0           1             2            3         4\n",
       "0  0.0  713.000000  18916.000000  1754.000000   16.0000\n",
       "1  NaN    0.239832      0.134859     0.252566    1.0000\n",
       "2  NaN   -0.847125     -0.297050     0.240593    2.0000\n",
       "3  NaN   12.701262      2.957496     3.356899    2.0000\n",
       "4  NaN  709.406732    790.537693   693.625998  268.1875"
      ]
     },
     "execution_count": 204,
     "metadata": {},
     "output_type": "execute_result"
    }
   ],
   "source": [
    "a = 0\n",
    "pd.DataFrame([SUM_Bid2_16[a],SUM_Bid2_16[a+1]/SUM_Bid2_16[a],SUM_Bid2_16[a+2]/SUM_Bid2_16[a],SUM_Bid2_16[a+3]/SUM_Bid2_16[a],SUM_Bid2_16[a+4]/SUM_Bid2_16[a]])"
   ]
  },
  {
   "cell_type": "code",
   "execution_count": 205,
   "metadata": {
    "collapsed": false
   },
   "outputs": [
    {
     "data": {
      "text/html": [
       "<div>\n",
       "<table border=\"1\" class=\"dataframe\">\n",
       "  <thead>\n",
       "    <tr style=\"text-align: right;\">\n",
       "      <th></th>\n",
       "      <th>0</th>\n",
       "      <th>1</th>\n",
       "      <th>2</th>\n",
       "      <th>3</th>\n",
       "      <th>4</th>\n",
       "    </tr>\n",
       "  </thead>\n",
       "  <tbody>\n",
       "    <tr>\n",
       "      <th>0</th>\n",
       "      <td>3.0</td>\n",
       "      <td>1549.000000</td>\n",
       "      <td>18371.000000</td>\n",
       "      <td>1445.000000</td>\n",
       "      <td>10.0</td>\n",
       "    </tr>\n",
       "    <tr>\n",
       "      <th>1</th>\n",
       "      <td>0.0</td>\n",
       "      <td>0.238218</td>\n",
       "      <td>0.178379</td>\n",
       "      <td>0.383391</td>\n",
       "      <td>1.0</td>\n",
       "    </tr>\n",
       "    <tr>\n",
       "      <th>2</th>\n",
       "      <td>-4.0</td>\n",
       "      <td>-0.039380</td>\n",
       "      <td>-0.207338</td>\n",
       "      <td>0.542561</td>\n",
       "      <td>2.1</td>\n",
       "    </tr>\n",
       "    <tr>\n",
       "      <th>3</th>\n",
       "      <td>7.0</td>\n",
       "      <td>3.640413</td>\n",
       "      <td>3.297153</td>\n",
       "      <td>3.635294</td>\n",
       "      <td>2.1</td>\n",
       "    </tr>\n",
       "    <tr>\n",
       "      <th>4</th>\n",
       "      <td>900.0</td>\n",
       "      <td>784.250484</td>\n",
       "      <td>796.188721</td>\n",
       "      <td>705.230450</td>\n",
       "      <td>344.2</td>\n",
       "    </tr>\n",
       "  </tbody>\n",
       "</table>\n",
       "</div>"
      ],
      "text/plain": [
       "       0            1             2            3      4\n",
       "0    3.0  1549.000000  18371.000000  1445.000000   10.0\n",
       "1    0.0     0.238218      0.178379     0.383391    1.0\n",
       "2   -4.0    -0.039380     -0.207338     0.542561    2.1\n",
       "3    7.0     3.640413      3.297153     3.635294    2.1\n",
       "4  900.0   784.250484    796.188721   705.230450  344.2"
      ]
     },
     "execution_count": 205,
     "metadata": {},
     "output_type": "execute_result"
    }
   ],
   "source": [
    "a = 5\n",
    "pd.DataFrame([SUM_Bid2_16[a],SUM_Bid2_16[a+1]/SUM_Bid2_16[a],SUM_Bid2_16[a+2]/SUM_Bid2_16[a],SUM_Bid2_16[a+3]/SUM_Bid2_16[a],SUM_Bid2_16[a+4]/SUM_Bid2_16[a]])"
   ]
  },
  {
   "cell_type": "code",
   "execution_count": 206,
   "metadata": {
    "collapsed": false
   },
   "outputs": [
    {
     "data": {
      "text/html": [
       "<div>\n",
       "<table border=\"1\" class=\"dataframe\">\n",
       "  <thead>\n",
       "    <tr style=\"text-align: right;\">\n",
       "      <th></th>\n",
       "      <th>0</th>\n",
       "      <th>1</th>\n",
       "      <th>2</th>\n",
       "      <th>3</th>\n",
       "      <th>4</th>\n",
       "    </tr>\n",
       "  </thead>\n",
       "  <tbody>\n",
       "    <tr>\n",
       "      <th>0</th>\n",
       "      <td>5.0</td>\n",
       "      <td>2197.000000</td>\n",
       "      <td>16557.000000</td>\n",
       "      <td>1724.000000</td>\n",
       "      <td>9.000000</td>\n",
       "    </tr>\n",
       "    <tr>\n",
       "      <th>1</th>\n",
       "      <td>0.0</td>\n",
       "      <td>0.222121</td>\n",
       "      <td>0.160838</td>\n",
       "      <td>0.268561</td>\n",
       "      <td>1.000000</td>\n",
       "    </tr>\n",
       "    <tr>\n",
       "      <th>2</th>\n",
       "      <td>-4.0</td>\n",
       "      <td>-0.275376</td>\n",
       "      <td>-0.349037</td>\n",
       "      <td>0.291183</td>\n",
       "      <td>2.000000</td>\n",
       "    </tr>\n",
       "    <tr>\n",
       "      <th>3</th>\n",
       "      <td>7.0</td>\n",
       "      <td>3.679563</td>\n",
       "      <td>3.490004</td>\n",
       "      <td>3.916473</td>\n",
       "      <td>2.333333</td>\n",
       "    </tr>\n",
       "    <tr>\n",
       "      <th>4</th>\n",
       "      <td>900.0</td>\n",
       "      <td>799.650432</td>\n",
       "      <td>799.606330</td>\n",
       "      <td>774.359049</td>\n",
       "      <td>240.777778</td>\n",
       "    </tr>\n",
       "  </tbody>\n",
       "</table>\n",
       "</div>"
      ],
      "text/plain": [
       "       0            1             2            3           4\n",
       "0    5.0  2197.000000  16557.000000  1724.000000    9.000000\n",
       "1    0.0     0.222121      0.160838     0.268561    1.000000\n",
       "2   -4.0    -0.275376     -0.349037     0.291183    2.000000\n",
       "3    7.0     3.679563      3.490004     3.916473    2.333333\n",
       "4  900.0   799.650432    799.606330   774.359049  240.777778"
      ]
     },
     "execution_count": 206,
     "metadata": {},
     "output_type": "execute_result"
    }
   ],
   "source": [
    "a = 10\n",
    "pd.DataFrame([SUM_Bid2_16[a],SUM_Bid2_16[a+1]/SUM_Bid2_16[a],SUM_Bid2_16[a+2]/SUM_Bid2_16[a],SUM_Bid2_16[a+3]/SUM_Bid2_16[a],SUM_Bid2_16[a+4]/SUM_Bid2_16[a]])"
   ]
  },
  {
   "cell_type": "code",
   "execution_count": 207,
   "metadata": {
    "collapsed": false
   },
   "outputs": [
    {
     "data": {
      "text/html": [
       "<div>\n",
       "<table border=\"1\" class=\"dataframe\">\n",
       "  <thead>\n",
       "    <tr style=\"text-align: right;\">\n",
       "      <th></th>\n",
       "      <th>0</th>\n",
       "      <th>1</th>\n",
       "      <th>2</th>\n",
       "      <th>3</th>\n",
       "      <th>4</th>\n",
       "    </tr>\n",
       "  </thead>\n",
       "  <tbody>\n",
       "    <tr>\n",
       "      <th>0</th>\n",
       "      <td>1.0</td>\n",
       "      <td>1455.000000</td>\n",
       "      <td>9482.000000</td>\n",
       "      <td>719.000000</td>\n",
       "      <td>9.000000</td>\n",
       "    </tr>\n",
       "    <tr>\n",
       "      <th>1</th>\n",
       "      <td>0.0</td>\n",
       "      <td>0.189003</td>\n",
       "      <td>0.181080</td>\n",
       "      <td>0.385257</td>\n",
       "      <td>1.000000</td>\n",
       "    </tr>\n",
       "    <tr>\n",
       "      <th>2</th>\n",
       "      <td>-4.0</td>\n",
       "      <td>-0.535395</td>\n",
       "      <td>-0.076144</td>\n",
       "      <td>0.734353</td>\n",
       "      <td>2.111111</td>\n",
       "    </tr>\n",
       "    <tr>\n",
       "      <th>3</th>\n",
       "      <td>7.0</td>\n",
       "      <td>3.837801</td>\n",
       "      <td>3.562012</td>\n",
       "      <td>3.855355</td>\n",
       "      <td>2.777778</td>\n",
       "    </tr>\n",
       "    <tr>\n",
       "      <th>4</th>\n",
       "      <td>900.0</td>\n",
       "      <td>817.999313</td>\n",
       "      <td>822.825670</td>\n",
       "      <td>714.490960</td>\n",
       "      <td>287.222222</td>\n",
       "    </tr>\n",
       "  </tbody>\n",
       "</table>\n",
       "</div>"
      ],
      "text/plain": [
       "       0            1            2           3           4\n",
       "0    1.0  1455.000000  9482.000000  719.000000    9.000000\n",
       "1    0.0     0.189003     0.181080    0.385257    1.000000\n",
       "2   -4.0    -0.535395    -0.076144    0.734353    2.111111\n",
       "3    7.0     3.837801     3.562012    3.855355    2.777778\n",
       "4  900.0   817.999313   822.825670  714.490960  287.222222"
      ]
     },
     "execution_count": 207,
     "metadata": {},
     "output_type": "execute_result"
    }
   ],
   "source": [
    "a = 15\n",
    "pd.DataFrame([SUM_Bid2_16[a],SUM_Bid2_16[a+1]/SUM_Bid2_16[a],SUM_Bid2_16[a+2]/SUM_Bid2_16[a],SUM_Bid2_16[a+3]/SUM_Bid2_16[a],SUM_Bid2_16[a+4]/SUM_Bid2_16[a]])"
   ]
  },
  {
   "cell_type": "code",
   "execution_count": 208,
   "metadata": {
    "collapsed": false
   },
   "outputs": [
    {
     "data": {
      "text/html": [
       "<div>\n",
       "<table border=\"1\" class=\"dataframe\">\n",
       "  <thead>\n",
       "    <tr style=\"text-align: right;\">\n",
       "      <th></th>\n",
       "      <th>0</th>\n",
       "      <th>1</th>\n",
       "      <th>2</th>\n",
       "      <th>3</th>\n",
       "      <th>4</th>\n",
       "    </tr>\n",
       "  </thead>\n",
       "  <tbody>\n",
       "    <tr>\n",
       "      <th>0</th>\n",
       "      <td>7.000000</td>\n",
       "      <td>2126.000000</td>\n",
       "      <td>19256.000000</td>\n",
       "      <td>855.000000</td>\n",
       "      <td>21.000000</td>\n",
       "    </tr>\n",
       "    <tr>\n",
       "      <th>1</th>\n",
       "      <td>0.000000</td>\n",
       "      <td>0.235183</td>\n",
       "      <td>0.125415</td>\n",
       "      <td>0.402339</td>\n",
       "      <td>1.000000</td>\n",
       "    </tr>\n",
       "    <tr>\n",
       "      <th>2</th>\n",
       "      <td>-1.285714</td>\n",
       "      <td>-0.459548</td>\n",
       "      <td>-0.455287</td>\n",
       "      <td>0.839766</td>\n",
       "      <td>2.000000</td>\n",
       "    </tr>\n",
       "    <tr>\n",
       "      <th>3</th>\n",
       "      <td>4.000000</td>\n",
       "      <td>9.246472</td>\n",
       "      <td>3.349813</td>\n",
       "      <td>3.592982</td>\n",
       "      <td>3.000000</td>\n",
       "    </tr>\n",
       "    <tr>\n",
       "      <th>4</th>\n",
       "      <td>900.000000</td>\n",
       "      <td>799.073377</td>\n",
       "      <td>810.771656</td>\n",
       "      <td>691.858480</td>\n",
       "      <td>305.619048</td>\n",
       "    </tr>\n",
       "  </tbody>\n",
       "</table>\n",
       "</div>"
      ],
      "text/plain": [
       "            0            1             2           3           4\n",
       "0    7.000000  2126.000000  19256.000000  855.000000   21.000000\n",
       "1    0.000000     0.235183      0.125415    0.402339    1.000000\n",
       "2   -1.285714    -0.459548     -0.455287    0.839766    2.000000\n",
       "3    4.000000     9.246472      3.349813    3.592982    3.000000\n",
       "4  900.000000   799.073377    810.771656  691.858480  305.619048"
      ]
     },
     "execution_count": 208,
     "metadata": {},
     "output_type": "execute_result"
    }
   ],
   "source": [
    "a = 20\n",
    "pd.DataFrame([SUM_Bid2_16[a],SUM_Bid2_16[a+1]/SUM_Bid2_16[a],SUM_Bid2_16[a+2]/SUM_Bid2_16[a],SUM_Bid2_16[a+3]/SUM_Bid2_16[a],SUM_Bid2_16[a+4]/SUM_Bid2_16[a]])"
   ]
  },
  {
   "cell_type": "code",
   "execution_count": null,
   "metadata": {
    "collapsed": true
   },
   "outputs": [],
   "source": []
  },
  {
   "cell_type": "code",
   "execution_count": 169,
   "metadata": {
    "collapsed": false,
    "scrolled": true
   },
   "outputs": [
    {
     "data": {
      "text/html": [
       "<div>\n",
       "<table border=\"1\" class=\"dataframe\">\n",
       "  <thead>\n",
       "    <tr style=\"text-align: right;\">\n",
       "      <th></th>\n",
       "      <th>0</th>\n",
       "      <th>1</th>\n",
       "      <th>2</th>\n",
       "      <th>3</th>\n",
       "      <th>4</th>\n",
       "    </tr>\n",
       "  </thead>\n",
       "  <tbody>\n",
       "    <tr>\n",
       "      <th>0</th>\n",
       "      <td>0.000000</td>\n",
       "      <td>713.000000</td>\n",
       "      <td>18916.000000</td>\n",
       "      <td>1754.000000</td>\n",
       "      <td>16.0000</td>\n",
       "    </tr>\n",
       "    <tr>\n",
       "      <th>1</th>\n",
       "      <td>NaN</td>\n",
       "      <td>0.105189</td>\n",
       "      <td>0.076337</td>\n",
       "      <td>0.135690</td>\n",
       "      <td>0.3750</td>\n",
       "    </tr>\n",
       "    <tr>\n",
       "      <th>2</th>\n",
       "      <td>NaN</td>\n",
       "      <td>-0.741935</td>\n",
       "      <td>-0.266653</td>\n",
       "      <td>0.301596</td>\n",
       "      <td>2.3750</td>\n",
       "    </tr>\n",
       "    <tr>\n",
       "      <th>3</th>\n",
       "      <td>NaN</td>\n",
       "      <td>16.489481</td>\n",
       "      <td>4.016124</td>\n",
       "      <td>4.367731</td>\n",
       "      <td>3.6250</td>\n",
       "    </tr>\n",
       "    <tr>\n",
       "      <th>4</th>\n",
       "      <td>inf</td>\n",
       "      <td>768.405330</td>\n",
       "      <td>827.149820</td>\n",
       "      <td>760.168757</td>\n",
       "      <td>213.6875</td>\n",
       "    </tr>\n",
       "  </tbody>\n",
       "</table>\n",
       "</div>"
      ],
      "text/plain": [
       "          0           1             2            3         4\n",
       "0  0.000000  713.000000  18916.000000  1754.000000   16.0000\n",
       "1       NaN    0.105189      0.076337     0.135690    0.3750\n",
       "2       NaN   -0.741935     -0.266653     0.301596    2.3750\n",
       "3       NaN   16.489481      4.016124     4.367731    3.6250\n",
       "4       inf  768.405330    827.149820   760.168757  213.6875"
      ]
     },
     "execution_count": 169,
     "metadata": {},
     "output_type": "execute_result"
    }
   ],
   "source": [
    "a = 0\n",
    "pd.DataFrame([SUM_Bid3_16[a],SUM_Bid3_16[a+1]/SUM_Bid3_16[a],SUM_Bid3_16[a+2]/SUM_Bid3_16[a],SUM_Bid3_16[a+3]/SUM_Bid3_16[a],SUM_Bid3_16[a+4]/SUM_Bid3_16[a]])"
   ]
  },
  {
   "cell_type": "code",
   "execution_count": 168,
   "metadata": {
    "collapsed": false
   },
   "outputs": [
    {
     "data": {
      "text/html": [
       "<div>\n",
       "<table border=\"1\" class=\"dataframe\">\n",
       "  <thead>\n",
       "    <tr style=\"text-align: right;\">\n",
       "      <th></th>\n",
       "      <th>0</th>\n",
       "      <th>1</th>\n",
       "      <th>2</th>\n",
       "      <th>3</th>\n",
       "      <th>4</th>\n",
       "    </tr>\n",
       "  </thead>\n",
       "  <tbody>\n",
       "    <tr>\n",
       "      <th>0</th>\n",
       "      <td>3.0</td>\n",
       "      <td>1549.000000</td>\n",
       "      <td>18371.000000</td>\n",
       "      <td>1445.000000</td>\n",
       "      <td>10.0</td>\n",
       "    </tr>\n",
       "    <tr>\n",
       "      <th>1</th>\n",
       "      <td>0.0</td>\n",
       "      <td>0.063267</td>\n",
       "      <td>0.104349</td>\n",
       "      <td>0.176471</td>\n",
       "      <td>0.9</td>\n",
       "    </tr>\n",
       "    <tr>\n",
       "      <th>2</th>\n",
       "      <td>-4.0</td>\n",
       "      <td>-0.216914</td>\n",
       "      <td>-0.116052</td>\n",
       "      <td>0.658824</td>\n",
       "      <td>3.0</td>\n",
       "    </tr>\n",
       "    <tr>\n",
       "      <th>3</th>\n",
       "      <td>8.0</td>\n",
       "      <td>11.047127</td>\n",
       "      <td>4.301399</td>\n",
       "      <td>4.639446</td>\n",
       "      <td>3.2</td>\n",
       "    </tr>\n",
       "    <tr>\n",
       "      <th>4</th>\n",
       "      <td>1200.0</td>\n",
       "      <td>869.890897</td>\n",
       "      <td>835.485766</td>\n",
       "      <td>814.588927</td>\n",
       "      <td>395.8</td>\n",
       "    </tr>\n",
       "  </tbody>\n",
       "</table>\n",
       "</div>"
      ],
      "text/plain": [
       "        0            1             2            3      4\n",
       "0     3.0  1549.000000  18371.000000  1445.000000   10.0\n",
       "1     0.0     0.063267      0.104349     0.176471    0.9\n",
       "2    -4.0    -0.216914     -0.116052     0.658824    3.0\n",
       "3     8.0    11.047127      4.301399     4.639446    3.2\n",
       "4  1200.0   869.890897    835.485766   814.588927  395.8"
      ]
     },
     "execution_count": 168,
     "metadata": {},
     "output_type": "execute_result"
    }
   ],
   "source": [
    "a = 5\n",
    "pd.DataFrame([SUM_Bid3_16[a],SUM_Bid3_16[a+1]/SUM_Bid3_16[a],SUM_Bid3_16[a+2]/SUM_Bid3_16[a],SUM_Bid3_16[a+3]/SUM_Bid3_16[a],SUM_Bid3_16[a+4]/SUM_Bid3_16[a]])"
   ]
  },
  {
   "cell_type": "code",
   "execution_count": 167,
   "metadata": {
    "collapsed": false
   },
   "outputs": [
    {
     "data": {
      "text/html": [
       "<div>\n",
       "<table border=\"1\" class=\"dataframe\">\n",
       "  <thead>\n",
       "    <tr style=\"text-align: right;\">\n",
       "      <th></th>\n",
       "      <th>0</th>\n",
       "      <th>1</th>\n",
       "      <th>2</th>\n",
       "      <th>3</th>\n",
       "      <th>4</th>\n",
       "    </tr>\n",
       "  </thead>\n",
       "  <tbody>\n",
       "    <tr>\n",
       "      <th>0</th>\n",
       "      <td>5.0</td>\n",
       "      <td>2197.000000</td>\n",
       "      <td>16557.000000</td>\n",
       "      <td>1724.000000</td>\n",
       "      <td>9.000000</td>\n",
       "    </tr>\n",
       "    <tr>\n",
       "      <th>1</th>\n",
       "      <td>0.0</td>\n",
       "      <td>0.112426</td>\n",
       "      <td>0.099052</td>\n",
       "      <td>0.132251</td>\n",
       "      <td>1.000000</td>\n",
       "    </tr>\n",
       "    <tr>\n",
       "      <th>2</th>\n",
       "      <td>-4.0</td>\n",
       "      <td>-0.373691</td>\n",
       "      <td>-0.272815</td>\n",
       "      <td>0.428074</td>\n",
       "      <td>3.000000</td>\n",
       "    </tr>\n",
       "    <tr>\n",
       "      <th>3</th>\n",
       "      <td>8.0</td>\n",
       "      <td>8.776513</td>\n",
       "      <td>4.506312</td>\n",
       "      <td>4.929234</td>\n",
       "      <td>3.333333</td>\n",
       "    </tr>\n",
       "    <tr>\n",
       "      <th>4</th>\n",
       "      <td>900.0</td>\n",
       "      <td>849.998179</td>\n",
       "      <td>837.544603</td>\n",
       "      <td>838.254640</td>\n",
       "      <td>307.000000</td>\n",
       "    </tr>\n",
       "  </tbody>\n",
       "</table>\n",
       "</div>"
      ],
      "text/plain": [
       "       0            1             2            3           4\n",
       "0    5.0  2197.000000  16557.000000  1724.000000    9.000000\n",
       "1    0.0     0.112426      0.099052     0.132251    1.000000\n",
       "2   -4.0    -0.373691     -0.272815     0.428074    3.000000\n",
       "3    8.0     8.776513      4.506312     4.929234    3.333333\n",
       "4  900.0   849.998179    837.544603   838.254640  307.000000"
      ]
     },
     "execution_count": 167,
     "metadata": {},
     "output_type": "execute_result"
    }
   ],
   "source": [
    "a = 10\n",
    "pd.DataFrame([SUM_Bid3_16[a],SUM_Bid3_16[a+1]/SUM_Bid3_16[a],SUM_Bid3_16[a+2]/SUM_Bid3_16[a],SUM_Bid3_16[a+3]/SUM_Bid3_16[a],SUM_Bid3_16[a+4]/SUM_Bid3_16[a]])"
   ]
  },
  {
   "cell_type": "code",
   "execution_count": 166,
   "metadata": {
    "collapsed": false
   },
   "outputs": [
    {
     "data": {
      "text/html": [
       "<div>\n",
       "<table border=\"1\" class=\"dataframe\">\n",
       "  <thead>\n",
       "    <tr style=\"text-align: right;\">\n",
       "      <th></th>\n",
       "      <th>0</th>\n",
       "      <th>1</th>\n",
       "      <th>2</th>\n",
       "      <th>3</th>\n",
       "      <th>4</th>\n",
       "    </tr>\n",
       "  </thead>\n",
       "  <tbody>\n",
       "    <tr>\n",
       "      <th>0</th>\n",
       "      <td>1.0</td>\n",
       "      <td>1455.000000</td>\n",
       "      <td>9482.000000</td>\n",
       "      <td>719.000000</td>\n",
       "      <td>9.000000</td>\n",
       "    </tr>\n",
       "    <tr>\n",
       "      <th>1</th>\n",
       "      <td>0.0</td>\n",
       "      <td>0.114777</td>\n",
       "      <td>0.098397</td>\n",
       "      <td>0.201669</td>\n",
       "      <td>1.000000</td>\n",
       "    </tr>\n",
       "    <tr>\n",
       "      <th>2</th>\n",
       "      <td>-4.0</td>\n",
       "      <td>-0.518213</td>\n",
       "      <td>0.024256</td>\n",
       "      <td>0.915160</td>\n",
       "      <td>3.111111</td>\n",
       "    </tr>\n",
       "    <tr>\n",
       "      <th>3</th>\n",
       "      <td>8.0</td>\n",
       "      <td>7.281100</td>\n",
       "      <td>4.564965</td>\n",
       "      <td>4.897079</td>\n",
       "      <td>3.777778</td>\n",
       "    </tr>\n",
       "    <tr>\n",
       "      <th>4</th>\n",
       "      <td>900.0</td>\n",
       "      <td>859.645361</td>\n",
       "      <td>859.832947</td>\n",
       "      <td>821.445063</td>\n",
       "      <td>345.666667</td>\n",
       "    </tr>\n",
       "  </tbody>\n",
       "</table>\n",
       "</div>"
      ],
      "text/plain": [
       "       0            1            2           3           4\n",
       "0    1.0  1455.000000  9482.000000  719.000000    9.000000\n",
       "1    0.0     0.114777     0.098397    0.201669    1.000000\n",
       "2   -4.0    -0.518213     0.024256    0.915160    3.111111\n",
       "3    8.0     7.281100     4.564965    4.897079    3.777778\n",
       "4  900.0   859.645361   859.832947  821.445063  345.666667"
      ]
     },
     "execution_count": 166,
     "metadata": {},
     "output_type": "execute_result"
    }
   ],
   "source": [
    "a = 15\n",
    "pd.DataFrame([SUM_Bid3_16[a],SUM_Bid3_16[a+1]/SUM_Bid3_16[a],SUM_Bid3_16[a+2]/SUM_Bid3_16[a],SUM_Bid3_16[a+3]/SUM_Bid3_16[a],SUM_Bid3_16[a+4]/SUM_Bid3_16[a]])"
   ]
  },
  {
   "cell_type": "code",
   "execution_count": 165,
   "metadata": {
    "collapsed": false
   },
   "outputs": [
    {
     "data": {
      "text/html": [
       "<div>\n",
       "<table border=\"1\" class=\"dataframe\">\n",
       "  <thead>\n",
       "    <tr style=\"text-align: right;\">\n",
       "      <th></th>\n",
       "      <th>0</th>\n",
       "      <th>1</th>\n",
       "      <th>2</th>\n",
       "      <th>3</th>\n",
       "      <th>4</th>\n",
       "    </tr>\n",
       "  </thead>\n",
       "  <tbody>\n",
       "    <tr>\n",
       "      <th>0</th>\n",
       "      <td>7.000000</td>\n",
       "      <td>2126.000000</td>\n",
       "      <td>19256.000000</td>\n",
       "      <td>855.000000</td>\n",
       "      <td>21.000000</td>\n",
       "    </tr>\n",
       "    <tr>\n",
       "      <th>1</th>\n",
       "      <td>0.000000</td>\n",
       "      <td>0.079022</td>\n",
       "      <td>0.045752</td>\n",
       "      <td>0.223392</td>\n",
       "      <td>1.000000</td>\n",
       "    </tr>\n",
       "    <tr>\n",
       "      <th>2</th>\n",
       "      <td>-1.285714</td>\n",
       "      <td>-1.125118</td>\n",
       "      <td>-0.610251</td>\n",
       "      <td>1.072515</td>\n",
       "      <td>3.000000</td>\n",
       "    </tr>\n",
       "    <tr>\n",
       "      <th>3</th>\n",
       "      <td>5.000000</td>\n",
       "      <td>12.159925</td>\n",
       "      <td>4.354331</td>\n",
       "      <td>4.612865</td>\n",
       "      <td>4.000000</td>\n",
       "    </tr>\n",
       "    <tr>\n",
       "      <th>4</th>\n",
       "      <td>900.000000</td>\n",
       "      <td>855.440734</td>\n",
       "      <td>833.490237</td>\n",
       "      <td>775.597661</td>\n",
       "      <td>361.619048</td>\n",
       "    </tr>\n",
       "  </tbody>\n",
       "</table>\n",
       "</div>"
      ],
      "text/plain": [
       "            0            1             2           3           4\n",
       "0    7.000000  2126.000000  19256.000000  855.000000   21.000000\n",
       "1    0.000000     0.079022      0.045752    0.223392    1.000000\n",
       "2   -1.285714    -1.125118     -0.610251    1.072515    3.000000\n",
       "3    5.000000    12.159925      4.354331    4.612865    4.000000\n",
       "4  900.000000   855.440734    833.490237  775.597661  361.619048"
      ]
     },
     "execution_count": 165,
     "metadata": {},
     "output_type": "execute_result"
    }
   ],
   "source": [
    "a = 20\n",
    "pd.DataFrame([SUM_Bid3_16[a],SUM_Bid3_16[a+1]/SUM_Bid3_16[a],SUM_Bid3_16[a+2]/SUM_Bid3_16[a],SUM_Bid3_16[a+3]/SUM_Bid3_16[a],SUM_Bid3_16[a+4]/SUM_Bid3_16[a]])"
   ]
  },
  {
   "cell_type": "code",
   "execution_count": null,
   "metadata": {
    "collapsed": true
   },
   "outputs": [],
   "source": []
  },
  {
   "cell_type": "code",
   "execution_count": null,
   "metadata": {
    "collapsed": true
   },
   "outputs": [],
   "source": []
  },
  {
   "cell_type": "code",
   "execution_count": null,
   "metadata": {
    "collapsed": true
   },
   "outputs": [],
   "source": []
  },
  {
   "cell_type": "code",
   "execution_count": null,
   "metadata": {
    "collapsed": true
   },
   "outputs": [],
   "source": []
  },
  {
   "cell_type": "code",
   "execution_count": null,
   "metadata": {
    "collapsed": true
   },
   "outputs": [],
   "source": []
  },
  {
   "cell_type": "code",
   "execution_count": null,
   "metadata": {
    "collapsed": true
   },
   "outputs": [],
   "source": []
  },
  {
   "cell_type": "code",
   "execution_count": null,
   "metadata": {
    "collapsed": true
   },
   "outputs": [],
   "source": []
  },
  {
   "cell_type": "code",
   "execution_count": null,
   "metadata": {
    "collapsed": true
   },
   "outputs": [],
   "source": []
  },
  {
   "cell_type": "code",
   "execution_count": null,
   "metadata": {
    "collapsed": true
   },
   "outputs": [],
   "source": []
  },
  {
   "cell_type": "code",
   "execution_count": null,
   "metadata": {
    "collapsed": true
   },
   "outputs": [],
   "source": []
  },
  {
   "cell_type": "code",
   "execution_count": null,
   "metadata": {
    "collapsed": true
   },
   "outputs": [],
   "source": []
  },
  {
   "cell_type": "code",
   "execution_count": null,
   "metadata": {
    "collapsed": true
   },
   "outputs": [],
   "source": []
  },
  {
   "cell_type": "code",
   "execution_count": null,
   "metadata": {
    "collapsed": true
   },
   "outputs": [],
   "source": []
  },
  {
   "cell_type": "code",
   "execution_count": null,
   "metadata": {
    "collapsed": true
   },
   "outputs": [],
   "source": []
  }
 ],
 "metadata": {
  "kernelspec": {
   "display_name": "Python 2",
   "language": "python",
   "name": "python2"
  },
  "language_info": {
   "codemirror_mode": {
    "name": "ipython",
    "version": 2
   },
   "file_extension": ".py",
   "mimetype": "text/x-python",
   "name": "python",
   "nbconvert_exporter": "python",
   "pygments_lexer": "ipython2",
   "version": "2.7.11"
  }
 },
 "nbformat": 4,
 "nbformat_minor": 0
}
