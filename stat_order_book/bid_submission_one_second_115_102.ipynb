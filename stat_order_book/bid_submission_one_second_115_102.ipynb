{
 "cells": [
  {
   "cell_type": "code",
   "execution_count": 1,
   "metadata": {
    "collapsed": false
   },
   "outputs": [
    {
     "name": "stdout",
     "output_type": "stream",
     "text": [
      "Populating the interactive namespace from numpy and matplotlib\n"
     ]
    }
   ],
   "source": [
    "%pylab inline\n",
    "import numpy as np\n",
    "import pandas as pd\n",
    "import matplotlib.pyplot as plt"
   ]
  },
  {
   "cell_type": "code",
   "execution_count": 2,
   "metadata": {
    "collapsed": true
   },
   "outputs": [],
   "source": [
    "def order_book(month,day):\n",
    "    data1 = []\n",
    "    datapath = '/home/bigdatas16/SGX-OrderBook-Tick-Data-Trading-Strategy-/stat_order_book/CNF14_0'+str(month)+'_'+str(day)+'_order_book_final.csv'\n",
    "    data1 = pd.read_csv(datapath,sep='\\t',encoding = 'utf-8')\n",
    "    data_book = data1[['0','1','2','3']]\n",
    "    return data_book"
   ]
  },
  {
   "cell_type": "code",
   "execution_count": 3,
   "metadata": {
    "collapsed": true
   },
   "outputs": [],
   "source": [
    "def day_time(month,day):\n",
    "    data = []\n",
    "    datapath = '/home/bigdatas16/SGX-OrderBook-Tick-Data-Trading-Strategy-/CN_Futures_2014.0'+str(month)+'.'+str(day)+'.csv'\n",
    "    data = pd.read_csv(datapath)\n",
    "    data_CNF14 = data[data.Series == 'CNF14']\n",
    "    data = data_CNF14\n",
    "    market_open_time = data[data['TimeStamp'].str.contains('2014-0'+str(month)+'-'+str(day)+'D09:00')].index.tolist()[0] \n",
    "    market_close_time = data[data['TimeStamp'].str.contains('2014-0'+str(month)+'-'+str(day)+'D16:00')].index.tolist()[0] \n",
    "    data_open = data[market_open_time:market_close_time + 1]\n",
    "    timestamp_ = data_open.TimeStamp.unique()\n",
    "    return timestamp_"
   ]
  },
  {
   "cell_type": "code",
   "execution_count": 4,
   "metadata": {
    "collapsed": true
   },
   "outputs": [],
   "source": [
    "def time_transform(timestamp_time):\n",
    "    time_second = []\n",
    "    for i in range(0,len(timestamp_time),1):\n",
    "        second = float(timestamp_time[i][11])*36000 + float(timestamp_time[i][12])*3600 \\\n",
    "                +float(timestamp_time[i][14])*600 + float(timestamp_time[i][15])*60\\\n",
    "                +float(timestamp_time[i][17])*10 + float(timestamp_time[i][18])  \n",
    "        time_second.append(second - 32400.0)\n",
    "    return  time_second"
   ]
  },
  {
   "cell_type": "code",
   "execution_count": 5,
   "metadata": {
    "collapsed": true
   },
   "outputs": [],
   "source": [
    "def bid123_ask123_Q(data_book_28_open):\n",
    "    Bid1 = []\n",
    "    Bid2 = []\n",
    "    Bid3 = []\n",
    "    Bid1_Quantity = []\n",
    "    Bid2_Quantity = []\n",
    "    Bid3_Quantity = []\n",
    "    Ask1 = []\n",
    "    Ask2 = []\n",
    "    Ask3 = []\n",
    "    Ask1_Quantity = []\n",
    "    Ask2_Quantity = []\n",
    "    Ask3_Quantity = []\n",
    "\n",
    "    TimeStamp = []\n",
    "    for i in range(1,len(data_book_28_open),4):\n",
    "        #print data_book_28_open.iloc[i]['0']\n",
    "        #print data_book_28_open.iloc[i]['2']\n",
    "        Bid1.append(float(data_book_28_open.iloc[i]['0'])/100.0)\n",
    "        Bid1_Quantity.append(float(data_book_28_open.iloc[i]['1']))\n",
    "\n",
    "        Bid2.append(float(data_book_28_open.iloc[i + 1]['0'])/100.0)\n",
    "        Bid2_Quantity.append(float(data_book_28_open.iloc[i + 1]['1']))  \n",
    "\n",
    "        Bid3.append(float(data_book_28_open.iloc[i + 2]['0'])/100.0)\n",
    "        Bid3_Quantity.append(float(data_book_28_open.iloc[i + 2]['1']))  \n",
    "\n",
    "        Ask1.append(float(data_book_28_open.iloc[i]['2'])/100.0) \n",
    "        Ask1_Quantity.append(float(data_book_28_open.iloc[i]['3']))\n",
    "\n",
    "        Ask2.append(float(data_book_28_open.iloc[i + 1]['2'])/100.0) \n",
    "        Ask2_Quantity.append(float(data_book_28_open.iloc[i + 1]['3']))    \n",
    "\n",
    "        Ask3.append(float(data_book_28_open.iloc[i + 2]['2'])/100.0) \n",
    "        Ask3_Quantity.append(float(data_book_28_open.iloc[i + 2]['3']))    \n",
    "        TimeStamp.append(data_book_28_open.iloc[i-1][1])\n",
    "    return Bid1,Bid1_Quantity,Bid2,Bid2_Quantity,Bid3,Bid3_Quantity,Ask1,Ask1_Quantity,Ask2,Ask2_Quantity,Ask3,Ask3_Quantity,    "
   ]
  },
  {
   "cell_type": "code",
   "execution_count": 6,
   "metadata": {
    "collapsed": true
   },
   "outputs": [],
   "source": [
    "def rise_ask(Ask1,timestamp_time_second):\n",
    "    rise_ratio = []\n",
    "    index = np.where(np.array(timestamp_time_second) >= 600)[0][0]\n",
    "    for i in range(0,index):\n",
    "        rise_ratio_ = round((Ask1[i] - Ask1[0])*(1.0)/Ask1[0]*100,5)\n",
    "        rise_ratio.append(rise_ratio_)\n",
    "    for i in range(index,len(Ask1),1):\n",
    "        #print timestamp_time_second[:i]\n",
    "        #print timestamp_time_second[i] - 600\n",
    "        #print np.where(np.array(timestamp_time_second[:i]) >= timestamp_time_second[i] - 600)[0][0]\n",
    "        index_start = np.where(np.array(timestamp_time_second[:i]) >= timestamp_time_second[i] - 600)[0][0]\n",
    "        rise_ratio_ = round((Ask1[i] - Ask1[index_start])*(1.0)/Ask1[index_start]*100,5)\n",
    "        rise_ratio.append(rise_ratio_)\n",
    "    return rise_ratio\n"
   ]
  },
  {
   "cell_type": "code",
   "execution_count": 7,
   "metadata": {
    "collapsed": true
   },
   "outputs": [],
   "source": [
    "def rise_cal(i,rise_ratio_ask,timestamp_time_second,Bid,Ask,index,index_15_min,close_price,\\\n",
    "             N_1,N_2,N_3,N_4,N_5,N_1_T,N_2_T,N_3_T,N_4_T,N_5_T,\\\n",
    "             N_1_E,N_2_E,N_3_E,N_4_E,N_5_E,N_1_M,N_2_M,N_3_M,N_4_M,N_5_M,\\\n",
    "             N_1_TI,N_2_TI,N_3_TI,N_4_TI,N_5_TI):\n",
    "    \n",
    "    if rise_ratio_ask[index] <= -0.4:\n",
    "        N_1 = N_1 + 1\n",
    "        #print rise_ratio_ask[index]\n",
    "        if Bid[index] > min(Ask[(index+1):index + 1 + index_15_min + 1]):\n",
    "            N_1_T = N_1_T + 1\n",
    "            N_1_E = N_1_E + (Ask[index] - Bid[index])*(1.0)/(5.0)\n",
    "            #print N_1_E\n",
    "            first_min_index = np.where(np.array(Ask[(index+1):index + 1 + index_15_min + 1]) < Bid[index])[0][0]\n",
    "            N_1_M = N_1_M + (max(Ask[(index + 1):(index + 1 + first_min_index + 1)]) - Bid[index])*(1.0)/(5.0) \n",
    "            \n",
    "            time_start = timestamp_time_second[index]\n",
    "            time_traded = timestamp_time_second[index + first_min_index + 1]\n",
    "            N_1_TI = N_1_TI + (time_traded - time_start)\n",
    "            #print N_1_TI\n",
    "            pass\n",
    "\n",
    "        else:\n",
    "            if i < 25200 - 900:\n",
    "                N_1_E = N_1_E + (Ask[index] - Ask[index + index_15_min])*(1.0)/(5.0)\n",
    "                N_1_M = N_1_M + (max(Ask[(index + 1):(index + 1 + index_15_min + 1)]) - Bid[index])*(1.0)/(5.0) \n",
    "                #print N_1_M\n",
    "                N_1_TI = N_1_TI + (900.0)\n",
    "                #print N_1_TI\n",
    "            else:\n",
    "                N_1_E = N_1_E + (Ask[index] - close_price)*(1.0)/(5.0)\n",
    "                N_1_M = N_1_M + (max(Ask[(index+1):]) - Bid[index])*(1.0)/(5.0) \n",
    "                time_start = timestamp_time_second[index]\n",
    "                time_traded = timestamp_time_second[len(timestamp_time_second)-1]                \n",
    "                N_1_TI = N_1_TI + (time_traded - time_start)\n",
    "                #print N_1_TI\n",
    "            pass\n",
    "\n",
    "    elif -0.4 < rise_ratio_ask[index] <= -0.15:\n",
    "        N_2 = N_2 + 1\n",
    "        #print rise_ratio_ask[index]\n",
    "        if Bid[index] > min(Ask[(index+1):index + 1 + index_15_min + 1]):\n",
    "            #print 3\n",
    "            N_2_T = N_2_T + 1\n",
    "            N_2_E = N_2_E + (Ask[index] - Bid[index])*(1.0)/(5.0)\n",
    "            #print N_2_E\n",
    "            first_min_index = np.where(np.array(Ask[(index+1):index + 1 + index_15_min + 1]) < Bid[index])[0][0]\n",
    "            N_2_M = N_2_M + (max(Ask[(index + 1):(index + 1 + first_min_index + 1)]) - Bid[index])*(1.0)/(5.0) \n",
    "            \n",
    "            time_start = timestamp_time_second[index]\n",
    "            time_traded = timestamp_time_second[index + first_min_index + 1]\n",
    "            N_2_TI = N_2_TI + (time_traded - time_start)\n",
    "            #print N_2_TI\n",
    "            pass\n",
    "        else:\n",
    "            if i < 25200 - 900:\n",
    "                N_2_E = N_2_E + (Ask[index] - Ask[index + index_15_min])*(1.0)/(5.0)\n",
    "                N_2_M = N_2_M + (max(Ask[(index + 1):(index + 1 + index_15_min + 1)]) - Bid[index])*(1.0)/(5.0) \n",
    "                N_2_TI = N_2_TI + (900.0)\n",
    "                #print N_2_TI\n",
    "            else:\n",
    "                N_2_E = N_2_E + (Ask[index] - close_price)*(1.0)/(5.0)\n",
    "                N_2_M = N_3_M + (max(Ask[(index+1):]) - Bid[index])*(1.0)/(5.0)\n",
    "                time_start = timestamp_time_second[index]\n",
    "                time_traded = timestamp_time_second[len(timestamp_time_second)-1]                \n",
    "                N_2_TI = N_2_TI + (time_traded - time_start)\n",
    "                #print N_2_TI\n",
    "            pass\n",
    "\n",
    "    elif -0.15 < rise_ratio_ask[index] <= 0.15:\n",
    "        N_3 = N_3 + 1\n",
    "        #print rise_ratio_ask[index]\n",
    "        if Bid[index] > min(Ask[(index+1):index + 1 + index_15_min + 1]):\n",
    "            #print 5\n",
    "            N_3_T = N_3_T + 1\n",
    "            N_3_E = N_3_E + (Ask[index] - Bid[index])*(1.0)/(5.0)\n",
    "            #print N_3_E\n",
    "            first_min_index = np.where(np.array(Ask[(index+1):index + 1 + index_15_min + 1]) < Bid[index])[0][0]\n",
    "            N_3_M = N_3_M + (max(Ask[(index + 1):(index + 1 + first_min_index + 1)]) - Bid[index])*(1.0)/(5.0) \n",
    "            time_start = timestamp_time_second[index]\n",
    "            time_traded = timestamp_time_second[index + first_min_index + 1]\n",
    "            N_3_TI = N_3_TI + (time_traded - time_start)\n",
    "            #print N_3_TI\n",
    "            pass\n",
    "        else:\n",
    "            if i < 25200 - 900:\n",
    "                N_3_E = N_3_E + (Ask[index] - Ask[index + index_15_min])*(1.0)/(5.0)\n",
    "                N_3_M = N_3_M + (max(Ask[(index + 1):(index + 1 + index_15_min + 1)]) - Bid[index])*(1.0)/(5.0) \n",
    "                N_3_TI = N_3_TI + (900.0)\n",
    "                #print N_3_TI\n",
    "            else:\n",
    "                N_3_E = N_3_E + (Ask[index] - close_price)*(1.0)/(5.0)\n",
    "                N_3_M = N_3_M + (max(Ask[(index+1):]) - Bid[index])*(1.0)/(5.0)\n",
    "                time_start = timestamp_time_second[index]\n",
    "                time_traded = timestamp_time_second[len(timestamp_time_second)-1]                \n",
    "                N_3_TI = N_3_TI + (time_traded - time_start)\n",
    "                #print N_3_TI\n",
    "            pass\n",
    "\n",
    "    elif 0.15 < rise_ratio_ask[index] < 0.4:\n",
    "        N_4 = N_4 + 1\n",
    "        #print rise_ratio_ask[index]\n",
    "        if Bid[index] > min(Ask[(index+1):index + 1 + index_15_min + 1]):\n",
    "            #print 7\n",
    "            N_4_T = N_4_T + 1\n",
    "            N_4_E = N_4_E + (Ask[index] - Bid[index])*(1.0)/(5.0)\n",
    "            #print N_4_E\n",
    "            first_min_index = np.where(np.array(Ask[(index+1):index + 1 + index_15_min + 1]) < Bid[index])[0][0]\n",
    "            N_4_M = N_4_M + (max(Ask[(index + 1):(index + 1 + first_min_index + 1)]) - Bid[index])*(1.0)/(5.0) \n",
    "            time_start = timestamp_time_second[index]\n",
    "            time_traded = timestamp_time_second[index + first_min_index + 1]\n",
    "            N_4_TI = N_4_TI + (time_traded - time_start)\n",
    "            #print N_4_TI\n",
    "            pass\n",
    "        else:\n",
    "            if i < 25200 - 900:\n",
    "                N_4_E = N_4_E + (Ask[index] - Ask[index + index_15_min])*(1.0)/(5.0)\n",
    "                N_4_M = N_4_M + (max(Ask[(index + 1):(index + 1 + index_15_min + 1)]) - Bid[index])*(1.0)/(5.0) \n",
    "                N_4_TI = N_4_TI + (900.0)\n",
    "                #print N_4_TI\n",
    "            else:\n",
    "                N_4_E = N_4_E + (Ask[index] - close_price)*(1.0)/(5.0)\n",
    "                N_4_M = N_4_M + (max(Ask[(index+1):]) - Bid[index])*(1.0)/(5.0)\n",
    "                time_start = timestamp_time_second[index]\n",
    "                time_traded = timestamp_time_second[len(timestamp_time_second)-1]                \n",
    "                N_4_TI = N_4_TI + (time_traded - time_start)\n",
    "                #print N_4_TI\n",
    "            pass\n",
    "\n",
    "    elif 0.4 <= rise_ratio_ask[index]:\n",
    "        N_5 = N_5 + 1\n",
    "        #print rise_ratio_ask[index]\n",
    "        if Bid[index] > min(Ask[(index+1):index + 1 + index_15_min + 1]):\n",
    "            N_5_T = N_5_T + 1\n",
    "            N_5_E = N_5_E + (Ask[index] - Bid[index])*(1.0)/(5.0)\n",
    "            #print N_5_E      \n",
    "            first_min_index = np.where(np.array(Ask[(index+1):index + 1 + index_15_min + 1]) < Bid[index])[0][0]\n",
    "            N_5_M = N_5_M + (max(Ask[(index + 1):(index + 1 + first_min_index + 1)]) - Bid[index])*(1.0)/(5.0) \n",
    "            \n",
    "            time_start = timestamp_time_second[index]\n",
    "            time_traded = timestamp_time_second[index + first_min_index + 1]\n",
    "            N_5_TI = N_5_TI + (time_traded - time_start)\n",
    "            #print N_5_TI\n",
    "            pass\n",
    "        else:\n",
    "            if i < 25200 - 900:\n",
    "                N_5_E = N_5_E + (Ask[index] - Ask[index + index_15_min])*(1.0)/(5.0)\n",
    "                N_5_M = N_5_M + (max(Ask[(index + 1):(index + 1 + index_15_min + 1)]) - Bid[index])*(1.0)/(5.0) \n",
    "                N_1_TI = N_1_TI + (900.0)\n",
    "                #print N_5_TI\n",
    "            else:\n",
    "                N_5_E = N_5_E + (Ask[index] - close_price)*(1.0)/(5.0)\n",
    "                N_5_M = N_5_M + (max(Ask[(index+1):]) - Bid[index])*(1.0)/(5.0)\n",
    "                time_start = timestamp_time_second[index]\n",
    "                time_traded = timestamp_time_second[len(timestamp_time_second)-1]                \n",
    "                N_5_TI = N_5_TI + (time_traded - time_start)\n",
    "                #print N_5_TI \n",
    "            pass\n",
    "        \n",
    "    return N_1,N_2,N_3,N_4,N_5,N_1_T,N_2_T,N_3_T,N_4_T,N_5_T,N_1_E,N_2_E,N_3_E,N_4_E,N_5_E,N_1_M,N_2_M,N_3_M,N_4_M,N_5_M,\\\n",
    "           N_1_TI,N_2_TI,N_3_TI,N_4_TI,N_5_TI\n"
   ]
  },
  {
   "cell_type": "code",
   "execution_count": 8,
   "metadata": {
    "collapsed": true
   },
   "outputs": [],
   "source": [
    "def bid(time1,time2,Bid,Ask,close_price,timestamp_time_second,Bid1_Quantity,Bid2_Quantity,Bid3_Quantity,\\\n",
    "        Ask1_Quantity,Ask2_Quantity,Ask3_Quantity,weigth1,weigth2,weigth3):\n",
    "    [N_11,N_12,N_13,N_14,N_15,N_11_T,N_12_T,N_13_T,N_14_T,N_15_T,N_11_E,N_12_E,N_13_E,N_14_E,N_15_E,\\\n",
    "     N_11_M,N_12_M,N_13_M,N_14_M,N_15_M,N_11_TI,N_12_TI,N_13_TI,N_14_TI,N_15_TI] = [0 for i in  range(0,25,1)]\n",
    "    [N_21,N_22,N_23,N_24,N_25,N_21_T,N_22_T,N_23_T,N_24_T,N_25_T,N_21_E,N_22_E,N_23_E,N_24_E,N_25_E,\\\n",
    "     N_21_M,N_22_M,N_23_M,N_24_M,N_25_M,N_21_TI,N_22_TI,N_23_TI,N_24_TI,N_25_TI] = [0 for i in  range(0,25,1)]\n",
    "    [N_31,N_32,N_33,N_34,N_35,N_31_T,N_32_T,N_33_T,N_34_T,N_35_T,N_31_E,N_32_E,N_33_E,N_34_E,N_35_E,\\\n",
    "     N_31_M,N_32_M,N_33_M,N_34_M,N_35_M,N_31_TI,N_32_TI,N_33_TI,N_34_TI,N_35_TI] = [0 for i in  range(0,25,1)]\n",
    "    [N_41,N_42,N_43,N_44,N_45,N_41_T,N_42_T,N_43_T,N_44_T,N_45_T,N_41_E,N_42_E,N_43_E,N_44_E,N_45_E,\\\n",
    "     N_41_M,N_42_M,N_43_M,N_44_M,N_45_M,N_41_TI,N_42_TI,N_43_TI,N_44_TI,N_45_TI] = [0 for i in  range(0,25,1)]\n",
    "    [N_51,N_52,N_53,N_54,N_55,N_51_T,N_52_T,N_53_T,N_54_T,N_55_T,N_51_E,N_52_E,N_53_E,N_54_E,N_55_E,\\\n",
    "     N_51_M,N_52_M,N_53_M,N_54_M,N_55_M,N_51_TI,N_52_TI,N_53_TI,N_54_TI,N_55_TI] = [0 for i in  range(0,25,1)]\n",
    "\n",
    "    for i in range(time1,time2,1):\n",
    "        #print i\n",
    "        #print np.where(array(timestamp_time_second) <= i)[0]\n",
    "        index = np.where(array(timestamp_time_second) <= i)[0][-1]\n",
    "        #print i\n",
    "        #print index\n",
    "        #print timestamp_time_second[index]\n",
    "        if i < 25200 - 900:\n",
    "            index_15_min = np.where(np.array(timestamp_time_second[index:]) >= i + 900)[0][0]\n",
    "            #print index_15_min\n",
    "            #print timestamp_time_second[index+index_15_min]\n",
    "        #print 'time stamp = %d'%(timestamp_time_second[index])\n",
    "        #print index\n",
    "        #print index + index_15_min \n",
    "        #rint Bid1[index]\n",
    "        #print Ask1[index]\n",
    "        #print len(Ask1[(index+1):index + index_15_min])\n",
    "\n",
    "        #if Bid1[index] > min(Ask1[(index+1):index + index_15_min]):\n",
    "        #    first_min_index = np.where(np.array(Ask1[(index+1):index + index_15_min]) < Bid1[index])[0][0]\n",
    "        #    print 'mdd = %d'%((max(Ask1[(index + 1):(index + 1 + first_min_index)]) - Bid1[index])*(1.0)/(5.0))\n",
    "        #print min_Ask1_time_series[index + 1]\n",
    "        weighted_Bid = Bid1_Quantity[index] * weight1 + Bid2_Quantity[index] * weight2 + Bid3_Quantity[index] * weight3\n",
    "        weighted_Ask = Ask1_Quantity[index] * weight1 + Ask2_Quantity[index] * weight2 + Ask3_Quantity[index] * weight3  \n",
    "        #print weighted_Bid \n",
    "        #print weighted_Ask\n",
    "        #print (weighted_Bid*(1.0) / weighted_Ask)\n",
    "\n",
    "        if (weighted_Bid*(1.0) / weighted_Ask) <= 0.7:\n",
    "            N_11,N_12,N_13,N_14,N_15,N_11_T,N_12_T,N_13_T,N_14_T,N_15_T,N_11_E,N_12_E,N_13_E,N_14_E,N_15_E,\\\n",
    "            N_11_M,N_12_M,N_13_M,N_14_M,N_15_M,N_11_TI,N_12_TI,N_13_TI,N_14_TI,N_15_TI = rise_cal(i,rise_ratio_ask,timestamp_time_second,Bid,Ask,index,index_15_min,\\\n",
    "                                                          close_price,N_11,N_12,N_13,N_14,N_15,N_11_T,N_12_T,N_13_T,N_14_T,N_15_T,\\\n",
    "                                                          N_11_E,N_12_E,N_13_E,N_14_E,N_15_E,N_11_M,N_12_M,N_13_M,N_14_M,N_15_M,\\\n",
    "                                                          N_11_TI,N_12_TI,N_13_TI,N_14_TI,N_15_TI)                                               \n",
    "\n",
    "        elif 0.7 < (weighted_Bid*(1.0) / weighted_Ask) <= 0.9:\n",
    "            N_21,N_22,N_23,N_24,N_25,N_21_T,N_22_T,N_23_T,N_24_T,N_25_T,N_21_E,N_22_E,N_23_E,N_24_E,N_25_E,\\\n",
    "            N_21_M,N_22_M,N_23_M,N_24_M,N_25_M,N_21_TI,N_22_TI,N_23_TI,N_24_TI,N_25_TI = rise_cal(i,rise_ratio_ask,timestamp_time_second,Bid,Ask,index,index_15_min,\\\n",
    "                                                          close_price,N_21,N_22,N_23,N_24,N_25,N_21_T,N_22_T,N_23_T,N_24_T,N_25_T,\\\n",
    "                                                          N_21_E,N_22_E,N_23_E,N_24_E,N_25_E,N_21_M,N_22_M,N_23_M,N_24_M,N_25_M,\\\n",
    "                                                          N_21_TI,N_22_TI,N_23_TI,N_24_TI,N_25_TI)                                                \n",
    "\n",
    "        elif 0.9 < (weighted_Bid*(1.0) / weighted_Ask) <= 1.1:\n",
    "            N_31,N_32,N_33,N_34,N_35,N_31_T,N_32_T,N_33_T,N_34_T,N_35_T,N_31_E,N_32_E,N_33_E,N_34_E,N_35_E,\\\n",
    "            N_31_M,N_32_M,N_33_M,N_34_M,N_35_M,N_31_TI,N_32_TI,N_33_TI,N_34_TI,N_35_TI = rise_cal(i,rise_ratio_ask,timestamp_time_second,Bid,Ask,index,index_15_min,\\\n",
    "                                                          close_price,N_31,N_32,N_33,N_34,N_35,N_31_T,N_32_T,N_33_T,N_34_T,N_35_T,\\\n",
    "                                                          N_31_E,N_32_E,N_33_E,N_34_E,N_35_E,N_31_M,N_32_M,N_33_M,N_34_M,N_35_M,\\\n",
    "                                                          N_31_TI,N_32_TI,N_33_TI,N_34_TI,N_35_TI)                                    \n",
    "\n",
    "        elif 1.1 < (weighted_Bid*(1.0) / weighted_Ask) <= 1.3:\n",
    "            N_41,N_42,N_43,N_44,N_45,N_41_T,N_42_T,N_43_T,N_44_T,N_45_T,N_41_E,N_42_E,N_43_E,N_44_E,N_45_E,\\\n",
    "            N_41_M,N_42_M,N_43_M,N_44_M,N_45_M,N_41_TI,N_42_TI,N_43_TI,N_44_TI,N_45_TI = rise_cal(i,rise_ratio_ask,timestamp_time_second,Bid,Ask,index,index_15_min,\\\n",
    "                                                          close_price,N_41,N_42,N_43,N_44,N_45,N_41_T,N_42_T,N_43_T,N_44_T,N_45_T,\\\n",
    "                                                          N_41_E,N_42_E,N_43_E,N_44_E,N_45_E,N_41_M,N_42_M,N_43_M,N_44_M,N_45_M,\\\n",
    "                                                          N_41_TI,N_42_TI,N_43_TI,N_44_TI,N_45_TI)                              \n",
    "\n",
    "        elif 1.30 < (weighted_Bid*(1.0) / weighted_Ask):\n",
    "            N_51,N_52,N_53,N_54,N_55,N_51_T,N_52_T,N_53_T,N_54_T,N_55_T,N_51_E,N_52_E,N_53_E,N_54_E,N_55_E,\\\n",
    "            N_51_M,N_52_M,N_53_M,N_54_M,N_55_M,N_51_TI,N_52_TI,N_53_TI,N_54_TI,N_55_TI = rise_cal(i,rise_ratio_ask,timestamp_time_second,Bid,Ask,index,index_15_min,\\\n",
    "                                                          close_price,N_51,N_52,N_53,N_54,N_55,N_51_T,N_52_T,N_53_T,N_54_T,N_55_T,\\\n",
    "                                                          N_51_E,N_52_E,N_53_E,N_54_E,N_55_E,N_51_M,N_52_M,N_53_M,N_54_M,N_55_M,\\\n",
    "                                                          N_51_TI,N_52_TI,N_53_TI,N_54_TI,N_55_TI)                 \n",
    "\n",
    "    return [[N_11,N_12,N_13,N_14,N_15],[N_11_T,N_12_T,N_13_T,N_14_T,N_15_T],[N_11_E,N_12_E,N_13_E,N_14_E,N_15_E],\\\n",
    "             [N_11_M,N_12_M,N_13_M,N_14_M,N_15_M],[N_11_TI,N_12_TI,N_13_TI,N_14_TI,N_15_TI],\\\n",
    "            [N_21,N_22,N_23,N_24,N_25],[N_21_T,N_22_T,N_23_T,N_24_T,N_25_T],[N_21_E,N_22_E,N_23_E,N_24_E,N_25_E],\\\n",
    "             [N_21_M,N_22_M,N_23_M,N_24_M,N_25_M],[N_21_TI,N_22_TI,N_23_TI,N_24_TI,N_25_TI],\\\n",
    "            [N_31,N_32,N_33,N_34,N_35],[N_31_T,N_32_T,N_33_T,N_34_T,N_35_T],[N_31_E,N_32_E,N_33_E,N_34_E,N_35_E],\\\n",
    "             [N_31_M,N_32_M,N_33_M,N_34_M,N_35_M],[N_31_TI,N_32_TI,N_33_TI,N_34_TI,N_35_TI],\\\n",
    "            [N_41,N_42,N_43,N_44,N_45],[N_41_T,N_42_T,N_43_T,N_44_T,N_45_T],[N_41_E,N_42_E,N_43_E,N_44_E,N_45_E],\\\n",
    "             [N_41_M,N_42_M,N_43_M,N_44_M,N_45_M],[N_41_TI,N_42_TI,N_43_TI,N_44_TI,N_45_TI],\\\n",
    "            [N_51,N_52,N_53,N_54,N_55],[N_51_T,N_52_T,N_53_T,N_54_T,N_55_T],[N_51_E,N_52_E,N_53_E,N_54_E,N_55_E],\\\n",
    "             [N_51_M,N_52_M,N_53_M,N_54_M,N_55_M],[N_51_TI,N_52_TI,N_53_TI,N_54_TI,N_55_TI]] \n"
   ]
  },
  {
   "cell_type": "markdown",
   "metadata": {},
   "source": [
    "### day 1/15"
   ]
  },
  {
   "cell_type": "code",
   "execution_count": 9,
   "metadata": {
    "collapsed": true
   },
   "outputs": [],
   "source": [
    "data_book = order_book(1,15)\n",
    "data_book_open = data_book[1108:275559+1]\n",
    "data_book_open = data_book_open.reset_index(drop = True)\n",
    "timestamp_time = day_time(1,15)\n",
    "timestamp_time_second = time_transform(timestamp_time)"
   ]
  },
  {
   "cell_type": "code",
   "execution_count": 11,
   "metadata": {
    "collapsed": false,
    "scrolled": true
   },
   "outputs": [],
   "source": [
    "#data_book_open"
   ]
  },
  {
   "cell_type": "code",
   "execution_count": 10,
   "metadata": {
    "collapsed": false
   },
   "outputs": [
    {
     "name": "stdout",
     "output_type": "stream",
     "text": [
      "Total time = 114.778342\n"
     ]
    }
   ],
   "source": [
    "import time \n",
    "start = time.time()\n",
    "Bid1,Bid1_Quantity,Bid2,Bid2_Quantity,Bid3,Bid3_Quantity,Ask1,Ask1_Quantity,Ask2,Ask2_Quantity,Ask3,Ask3_Quantity = bid123_ask123_Q(data_book_open)\n",
    "end = time.time()  \n",
    "print \"Total time = %f\"%(end - start)"
   ]
  },
  {
   "cell_type": "code",
   "execution_count": 11,
   "metadata": {
    "collapsed": false
   },
   "outputs": [
    {
     "name": "stdout",
     "output_type": "stream",
     "text": [
      "Total time = 83.009253\n"
     ]
    }
   ],
   "source": [
    "import time \n",
    "start = time.time()\n",
    "rise_ratio_ask = rise_ask(Ask1,timestamp_time_second)\n",
    "end = time.time()  \n",
    "print \"Total time = %f\"%(end - start) "
   ]
  },
  {
   "cell_type": "markdown",
   "metadata": {},
   "source": [
    "9:00~9:15"
   ]
  },
  {
   "cell_type": "code",
   "execution_count": 12,
   "metadata": {
    "collapsed": false
   },
   "outputs": [],
   "source": [
    "close_price = 6740\n",
    "weight1 = 0.50\n",
    "weight2 = 0.30\n",
    "weight3 = 0.20"
   ]
  },
  {
   "cell_type": "code",
   "execution_count": 13,
   "metadata": {
    "collapsed": false
   },
   "outputs": [],
   "source": [
    "time1 = 0\n",
    "time2 = 600\n",
    "mat28_1_15 = bid(time1,time2,Bid1,Ask1,close_price,timestamp_time_second,Bid1_Quantity,Bid2_Quantity,Bid3_Quantity,Ask1_Quantity,Ask2_Quantity,Ask3_Quantity,weight1,weight2,weight3)\n",
    "mat28_2_15 = bid(time1,time2,Bid2,Ask1,close_price,timestamp_time_second,Bid1_Quantity,Bid2_Quantity,Bid3_Quantity,Ask1_Quantity,Ask2_Quantity,Ask3_Quantity,weight1,weight2,weight3)\n",
    "mat28_3_15 = bid(time1,time2,Bid3,Ask1,close_price,timestamp_time_second,Bid1_Quantity,Bid2_Quantity,Bid3_Quantity,Ask1_Quantity,Ask2_Quantity,Ask3_Quantity,weight1,weight2,weight3)"
   ]
  },
  {
   "cell_type": "markdown",
   "metadata": {},
   "source": [
    "9:15~11:00"
   ]
  },
  {
   "cell_type": "code",
   "execution_count": 14,
   "metadata": {
    "collapsed": true
   },
   "outputs": [],
   "source": [
    "time1 = 600\n",
    "time2 = 7200\n",
    "mat28_1_11 = bid(time1,time2,Bid1,Ask1,close_price,timestamp_time_second,Bid1_Quantity,Bid2_Quantity,Bid3_Quantity,Ask1_Quantity,Ask2_Quantity,Ask3_Quantity,weight1,weight2,weight3)\n",
    "mat28_2_11 = bid(time1,time2,Bid2,Ask1,close_price,timestamp_time_second,Bid1_Quantity,Bid2_Quantity,Bid3_Quantity,Ask1_Quantity,Ask2_Quantity,Ask3_Quantity,weight1,weight2,weight3)\n",
    "mat28_3_11 = bid(time1,time2,Bid3,Ask1,close_price,timestamp_time_second,Bid1_Quantity,Bid2_Quantity,Bid3_Quantity,Ask1_Quantity,Ask2_Quantity,Ask3_Quantity,weight1,weight2,weight3)"
   ]
  },
  {
   "cell_type": "markdown",
   "metadata": {},
   "source": [
    "11:00~13:00"
   ]
  },
  {
   "cell_type": "code",
   "execution_count": 15,
   "metadata": {
    "collapsed": true
   },
   "outputs": [],
   "source": [
    "time1 = 7200\n",
    "time2 = 14400\n",
    "mat28_1_13 = bid(time1,time2,Bid1,Ask1,close_price,timestamp_time_second,Bid1_Quantity,Bid2_Quantity,Bid3_Quantity,Ask1_Quantity,Ask2_Quantity,Ask3_Quantity,weight1,weight2,weight3)\n",
    "mat28_2_13 = bid(time1,time2,Bid2,Ask1,close_price,timestamp_time_second,Bid1_Quantity,Bid2_Quantity,Bid3_Quantity,Ask1_Quantity,Ask2_Quantity,Ask3_Quantity,weight1,weight2,weight3)\n",
    "mat28_3_13 = bid(time1,time2,Bid3,Ask1,close_price,timestamp_time_second,Bid1_Quantity,Bid2_Quantity,Bid3_Quantity,Ask1_Quantity,Ask2_Quantity,Ask3_Quantity,weight1,weight2,weight3)"
   ]
  },
  {
   "cell_type": "markdown",
   "metadata": {},
   "source": [
    "13:00~16:00"
   ]
  },
  {
   "cell_type": "code",
   "execution_count": 16,
   "metadata": {
    "collapsed": true
   },
   "outputs": [],
   "source": [
    "time1 = 14400\n",
    "time2 = 25200\n",
    "mat28_1_16 = bid(time1,time2,Bid1,Ask1,close_price,timestamp_time_second,Bid1_Quantity,Bid2_Quantity,Bid3_Quantity,Ask1_Quantity,Ask2_Quantity,Ask3_Quantity,weight1,weight2,weight3)\n",
    "mat28_2_16 = bid(time1,time2,Bid2,Ask1,close_price,timestamp_time_second,Bid1_Quantity,Bid2_Quantity,Bid3_Quantity,Ask1_Quantity,Ask2_Quantity,Ask3_Quantity,weight1,weight2,weight3)\n",
    "mat28_3_16 = bid(time1,time2,Bid3,Ask1,close_price,timestamp_time_second,Bid1_Quantity,Bid2_Quantity,Bid3_Quantity,Ask1_Quantity,Ask2_Quantity,Ask3_Quantity,weight1,weight2,weight3)"
   ]
  },
  {
   "cell_type": "code",
   "execution_count": 24,
   "metadata": {
    "collapsed": false,
    "scrolled": false
   },
   "outputs": [],
   "source": [
    "#mat28_3_15"
   ]
  },
  {
   "cell_type": "code",
   "execution_count": null,
   "metadata": {
    "collapsed": true
   },
   "outputs": [],
   "source": []
  },
  {
   "cell_type": "code",
   "execution_count": null,
   "metadata": {
    "collapsed": true
   },
   "outputs": [],
   "source": []
  },
  {
   "cell_type": "markdown",
   "metadata": {},
   "source": [
    "### Day 1/14"
   ]
  },
  {
   "cell_type": "code",
   "execution_count": 25,
   "metadata": {
    "collapsed": true
   },
   "outputs": [],
   "source": [
    "data_book = order_book(1,14)\n",
    "data_book_open = data_book[880:336307+1] # 9:00 ~ 16:00\n",
    "data_book_open = data_book_open.reset_index(drop = True)\n",
    "timestamp_time = day_time(1,14)\n",
    "timestamp_time_second = time_transform(timestamp_time)"
   ]
  },
  {
   "cell_type": "code",
   "execution_count": 14,
   "metadata": {
    "collapsed": false,
    "scrolled": true
   },
   "outputs": [],
   "source": [
    "#data_book_open"
   ]
  },
  {
   "cell_type": "code",
   "execution_count": 26,
   "metadata": {
    "collapsed": false
   },
   "outputs": [
    {
     "name": "stdout",
     "output_type": "stream",
     "text": [
      "Total time = 136.307194\n"
     ]
    }
   ],
   "source": [
    "import time \n",
    "start = time.time()\n",
    "Bid1,Bid1_Quantity,Bid2,Bid2_Quantity,Bid3,Bid3_Quantity,Ask1,Ask1_Quantity,Ask2,Ask2_Quantity,Ask3,Ask3_Quantity = bid123_ask123_Q(data_book_open)\n",
    "end = time.time()  \n",
    "print \"Total time = %f\"%(end - start)"
   ]
  },
  {
   "cell_type": "code",
   "execution_count": 27,
   "metadata": {
    "collapsed": false,
    "scrolled": true
   },
   "outputs": [
    {
     "name": "stdout",
     "output_type": "stream",
     "text": [
      "Total time = 126.092943\n"
     ]
    }
   ],
   "source": [
    "import time \n",
    "start = time.time()\n",
    "rise_ratio_ask = rise_ask(Ask1,timestamp_time_second)\n",
    "end = time.time()  \n",
    "print \"Total time = %f\"%(end - start) "
   ]
  },
  {
   "cell_type": "code",
   "execution_count": 28,
   "metadata": {
    "collapsed": true
   },
   "outputs": [],
   "source": [
    "close_price = 6780\n",
    "weight1 = 0.50\n",
    "weight2 = 0.30\n",
    "weight3 = 0.20"
   ]
  },
  {
   "cell_type": "code",
   "execution_count": 29,
   "metadata": {
    "collapsed": true
   },
   "outputs": [],
   "source": [
    "time1 = 0\n",
    "time2 = 600\n",
    "mat29_1_15 = bid(time1,time2,Bid1,Ask1,close_price,timestamp_time_second,Bid1_Quantity,Bid2_Quantity,Bid3_Quantity,Ask1_Quantity,Ask2_Quantity,Ask3_Quantity,weight1,weight2,weight3)\n",
    "mat29_2_15 = bid(time1,time2,Bid2,Ask1,close_price,timestamp_time_second,Bid1_Quantity,Bid2_Quantity,Bid3_Quantity,Ask1_Quantity,Ask2_Quantity,Ask3_Quantity,weight1,weight2,weight3)\n",
    "mat29_3_15 = bid(time1,time2,Bid3,Ask1,close_price,timestamp_time_second,Bid1_Quantity,Bid2_Quantity,Bid3_Quantity,Ask1_Quantity,Ask2_Quantity,Ask3_Quantity,weight1,weight2,weight3)"
   ]
  },
  {
   "cell_type": "code",
   "execution_count": 30,
   "metadata": {
    "collapsed": true
   },
   "outputs": [],
   "source": [
    "time1 = 600\n",
    "time2 = 7200\n",
    "mat29_1_11 = bid(time1,time2,Bid1,Ask1,close_price,timestamp_time_second,Bid1_Quantity,Bid2_Quantity,Bid3_Quantity,Ask1_Quantity,Ask2_Quantity,Ask3_Quantity,weight1,weight2,weight3)\n",
    "mat29_2_11 = bid(time1,time2,Bid2,Ask1,close_price,timestamp_time_second,Bid1_Quantity,Bid2_Quantity,Bid3_Quantity,Ask1_Quantity,Ask2_Quantity,Ask3_Quantity,weight1,weight2,weight3)\n",
    "mat29_3_11 = bid(time1,time2,Bid3,Ask1,close_price,timestamp_time_second,Bid1_Quantity,Bid2_Quantity,Bid3_Quantity,Ask1_Quantity,Ask2_Quantity,Ask3_Quantity,weight1,weight2,weight3)"
   ]
  },
  {
   "cell_type": "code",
   "execution_count": 31,
   "metadata": {
    "collapsed": true
   },
   "outputs": [],
   "source": [
    "time1 = 7200\n",
    "time2 = 14400\n",
    "mat29_1_13 = bid(time1,time2,Bid1,Ask1,close_price,timestamp_time_second,Bid1_Quantity,Bid2_Quantity,Bid3_Quantity,Ask1_Quantity,Ask2_Quantity,Ask3_Quantity,weight1,weight2,weight3)\n",
    "mat29_2_13 = bid(time1,time2,Bid2,Ask1,close_price,timestamp_time_second,Bid1_Quantity,Bid2_Quantity,Bid3_Quantity,Ask1_Quantity,Ask2_Quantity,Ask3_Quantity,weight1,weight2,weight3)\n",
    "mat29_3_13 = bid(time1,time2,Bid3,Ask1,close_price,timestamp_time_second,Bid1_Quantity,Bid2_Quantity,Bid3_Quantity,Ask1_Quantity,Ask2_Quantity,Ask3_Quantity,weight1,weight2,weight3)"
   ]
  },
  {
   "cell_type": "code",
   "execution_count": 32,
   "metadata": {
    "collapsed": true
   },
   "outputs": [],
   "source": [
    "time1 = 14400\n",
    "time2 = 25200\n",
    "mat29_1_16 = bid(time1,time2,Bid1,Ask1,close_price,timestamp_time_second,Bid1_Quantity,Bid2_Quantity,Bid3_Quantity,Ask1_Quantity,Ask2_Quantity,Ask3_Quantity,weight1,weight2,weight3)\n",
    "mat29_2_16 = bid(time1,time2,Bid2,Ask1,close_price,timestamp_time_second,Bid1_Quantity,Bid2_Quantity,Bid3_Quantity,Ask1_Quantity,Ask2_Quantity,Ask3_Quantity,weight1,weight2,weight3)\n",
    "mat29_3_16 = bid(time1,time2,Bid3,Ask1,close_price,timestamp_time_second,Bid1_Quantity,Bid2_Quantity,Bid3_Quantity,Ask1_Quantity,Ask2_Quantity,Ask3_Quantity,weight1,weight2,weight3)"
   ]
  },
  {
   "cell_type": "code",
   "execution_count": 42,
   "metadata": {
    "collapsed": false,
    "scrolled": true
   },
   "outputs": [],
   "source": [
    "#mat29_1_15"
   ]
  },
  {
   "cell_type": "code",
   "execution_count": null,
   "metadata": {
    "collapsed": true
   },
   "outputs": [],
   "source": []
  },
  {
   "cell_type": "markdown",
   "metadata": {},
   "source": [
    "### Day 1/13"
   ]
  },
  {
   "cell_type": "code",
   "execution_count": 43,
   "metadata": {
    "collapsed": false,
    "scrolled": true
   },
   "outputs": [],
   "source": [
    "data_book = order_book(1,13)\n",
    "data_book_open = data_book[1136:331583+1] # 9:00 ~ 16:00\n",
    "data_book_open = data_book_open.reset_index(drop = True)\n",
    "timestamp_time = day_time(1,13)\n",
    "timestamp_time_second = time_transform(timestamp_time)"
   ]
  },
  {
   "cell_type": "code",
   "execution_count": 44,
   "metadata": {
    "collapsed": false,
    "scrolled": true
   },
   "outputs": [],
   "source": [
    "#data_book_open\n",
    "#len(timestamp_time_second)"
   ]
  },
  {
   "cell_type": "code",
   "execution_count": 45,
   "metadata": {
    "collapsed": false
   },
   "outputs": [
    {
     "name": "stdout",
     "output_type": "stream",
     "text": [
      "Total time = 134.038121\n"
     ]
    }
   ],
   "source": [
    "import time \n",
    "start = time.time()\n",
    "Bid1,Bid1_Quantity,Bid2,Bid2_Quantity,Bid3,Bid3_Quantity,Ask1,Ask1_Quantity,Ask2,Ask2_Quantity,Ask3,Ask3_Quantity = bid123_ask123_Q(data_book_open)\n",
    "end = time.time()  \n",
    "print \"Total time = %f\"%(end - start)"
   ]
  },
  {
   "cell_type": "code",
   "execution_count": 46,
   "metadata": {
    "collapsed": false
   },
   "outputs": [
    {
     "name": "stdout",
     "output_type": "stream",
     "text": [
      "Total time = 127.971429\n"
     ]
    }
   ],
   "source": [
    "import time \n",
    "start = time.time()\n",
    "rise_ratio_ask = rise_ask(Ask1,timestamp_time_second)\n",
    "end = time.time()  \n",
    "print \"Total time = %f\"%(end - start) "
   ]
  },
  {
   "cell_type": "code",
   "execution_count": 47,
   "metadata": {
    "collapsed": true
   },
   "outputs": [],
   "source": [
    "close_price = 6740\n",
    "weight1 = 0.50\n",
    "weight2 = 0.30\n",
    "weight3 = 0.20"
   ]
  },
  {
   "cell_type": "code",
   "execution_count": 48,
   "metadata": {
    "collapsed": true
   },
   "outputs": [],
   "source": [
    "time1 = 0\n",
    "time2 = 600\n",
    "mat27_1_15 = bid(time1,time2,Bid1,Ask1,close_price,timestamp_time_second,Bid1_Quantity,Bid2_Quantity,Bid3_Quantity,Ask1_Quantity,Ask2_Quantity,Ask3_Quantity,weight1,weight2,weight3)\n",
    "mat27_2_15 = bid(time1,time2,Bid2,Ask1,close_price,timestamp_time_second,Bid1_Quantity,Bid2_Quantity,Bid3_Quantity,Ask1_Quantity,Ask2_Quantity,Ask3_Quantity,weight1,weight2,weight3)\n",
    "mat27_3_15 = bid(time1,time2,Bid3,Ask1,close_price,timestamp_time_second,Bid1_Quantity,Bid2_Quantity,Bid3_Quantity,Ask1_Quantity,Ask2_Quantity,Ask3_Quantity,weight1,weight2,weight3)"
   ]
  },
  {
   "cell_type": "code",
   "execution_count": 49,
   "metadata": {
    "collapsed": false,
    "scrolled": true
   },
   "outputs": [],
   "source": [
    "time1 = 600\n",
    "time2 = 7200\n",
    "mat27_1_11 = bid(time1,time2,Bid1,Ask1,close_price,timestamp_time_second,Bid1_Quantity,Bid2_Quantity,Bid3_Quantity,Ask1_Quantity,Ask2_Quantity,Ask3_Quantity,weight1,weight2,weight3)\n",
    "mat27_2_11 = bid(time1,time2,Bid2,Ask1,close_price,timestamp_time_second,Bid1_Quantity,Bid2_Quantity,Bid3_Quantity,Ask1_Quantity,Ask2_Quantity,Ask3_Quantity,weight1,weight2,weight3)\n",
    "mat27_3_11 = bid(time1,time2,Bid3,Ask1,close_price,timestamp_time_second,Bid1_Quantity,Bid2_Quantity,Bid3_Quantity,Ask1_Quantity,Ask2_Quantity,Ask3_Quantity,weight1,weight2,weight3)"
   ]
  },
  {
   "cell_type": "code",
   "execution_count": 50,
   "metadata": {
    "collapsed": false,
    "scrolled": true
   },
   "outputs": [],
   "source": [
    "time1 = 7200\n",
    "time2 = 14400\n",
    "mat27_1_13 = bid(time1,time2,Bid1,Ask1,close_price,timestamp_time_second,Bid1_Quantity,Bid2_Quantity,Bid3_Quantity,Ask1_Quantity,Ask2_Quantity,Ask3_Quantity,weight1,weight2,weight3)\n",
    "mat27_2_13 = bid(time1,time2,Bid2,Ask1,close_price,timestamp_time_second,Bid1_Quantity,Bid2_Quantity,Bid3_Quantity,Ask1_Quantity,Ask2_Quantity,Ask3_Quantity,weight1,weight2,weight3)\n",
    "mat27_3_13 = bid(time1,time2,Bid3,Ask1,close_price,timestamp_time_second,Bid1_Quantity,Bid2_Quantity,Bid3_Quantity,Ask1_Quantity,Ask2_Quantity,Ask3_Quantity,weight1,weight2,weight3)"
   ]
  },
  {
   "cell_type": "code",
   "execution_count": 51,
   "metadata": {
    "collapsed": true
   },
   "outputs": [],
   "source": [
    "time1 = 14400\n",
    "time2 = 25200\n",
    "mat27_1_16 = bid(time1,time2,Bid1,Ask1,close_price,timestamp_time_second,Bid1_Quantity,Bid2_Quantity,Bid3_Quantity,Ask1_Quantity,Ask2_Quantity,Ask3_Quantity,weight1,weight2,weight3)\n",
    "mat27_2_16 = bid(time1,time2,Bid2,Ask1,close_price,timestamp_time_second,Bid1_Quantity,Bid2_Quantity,Bid3_Quantity,Ask1_Quantity,Ask2_Quantity,Ask3_Quantity,weight1,weight2,weight3)\n",
    "mat27_3_16 = bid(time1,time2,Bid3,Ask1,close_price,timestamp_time_second,Bid1_Quantity,Bid2_Quantity,Bid3_Quantity,Ask1_Quantity,Ask2_Quantity,Ask3_Quantity,weight1,weight2,weight3)"
   ]
  },
  {
   "cell_type": "code",
   "execution_count": null,
   "metadata": {
    "collapsed": true
   },
   "outputs": [],
   "source": []
  },
  {
   "cell_type": "code",
   "execution_count": null,
   "metadata": {
    "collapsed": false,
    "scrolled": true
   },
   "outputs": [],
   "source": []
  },
  {
   "cell_type": "code",
   "execution_count": null,
   "metadata": {
    "collapsed": true
   },
   "outputs": [],
   "source": []
  },
  {
   "cell_type": "markdown",
   "metadata": {},
   "source": [
    "### Day 1/10"
   ]
  },
  {
   "cell_type": "code",
   "execution_count": 52,
   "metadata": {
    "collapsed": true
   },
   "outputs": [],
   "source": [
    "data_book = order_book(1,10)\n",
    "data_book_open = data_book[904:351239+1] # 9:00 ~ 16:00\n",
    "data_book_open = data_book_open.reset_index(drop = True)\n",
    "timestamp_time = day_time(1,10)\n",
    "timestamp_time_second = time_transform(timestamp_time)"
   ]
  },
  {
   "cell_type": "code",
   "execution_count": 24,
   "metadata": {
    "collapsed": false,
    "scrolled": true
   },
   "outputs": [],
   "source": [
    "#data_book_open"
   ]
  },
  {
   "cell_type": "code",
   "execution_count": 22,
   "metadata": {
    "collapsed": false,
    "scrolled": true
   },
   "outputs": [
    {
     "data": {
      "text/plain": [
       "87584"
      ]
     },
     "execution_count": 22,
     "metadata": {},
     "output_type": "execute_result"
    }
   ],
   "source": [
    "len(timestamp_time_second)"
   ]
  },
  {
   "cell_type": "code",
   "execution_count": 53,
   "metadata": {
    "collapsed": false
   },
   "outputs": [
    {
     "name": "stdout",
     "output_type": "stream",
     "text": [
      "Total time = 142.267832\n"
     ]
    }
   ],
   "source": [
    "import time \n",
    "start = time.time()\n",
    "Bid1,Bid1_Quantity,Bid2,Bid2_Quantity,Bid3,Bid3_Quantity,Ask1,Ask1_Quantity,Ask2,Ask2_Quantity,Ask3,Ask3_Quantity = bid123_ask123_Q(data_book_open)\n",
    "end = time.time()  \n",
    "print \"Total time = %f\"%(end - start)"
   ]
  },
  {
   "cell_type": "code",
   "execution_count": 83,
   "metadata": {
    "collapsed": false
   },
   "outputs": [
    {
     "data": {
      "text/plain": [
       "82556"
      ]
     },
     "execution_count": 83,
     "metadata": {},
     "output_type": "execute_result"
    }
   ],
   "source": [
    "len(Ask1)"
   ]
  },
  {
   "cell_type": "code",
   "execution_count": 54,
   "metadata": {
    "collapsed": false
   },
   "outputs": [
    {
     "name": "stdout",
     "output_type": "stream",
     "text": [
      "Total time = 332.848180\n"
     ]
    }
   ],
   "source": [
    "import time \n",
    "start = time.time()\n",
    "rise_ratio_ask = rise_ask(Ask1,timestamp_time_second)\n",
    "end = time.time()  \n",
    "print \"Total time = %f\"%(end - start) "
   ]
  },
  {
   "cell_type": "code",
   "execution_count": 55,
   "metadata": {
    "collapsed": true
   },
   "outputs": [],
   "source": [
    "close_price = 6760\n",
    "weight1 = 0.50\n",
    "weight2 = 0.30\n",
    "weight3 = 0.20"
   ]
  },
  {
   "cell_type": "code",
   "execution_count": 56,
   "metadata": {
    "collapsed": true
   },
   "outputs": [],
   "source": [
    "time1 = 0\n",
    "time2 = 600\n",
    "mat24_1_15 = bid(time1,time2,Bid1,Ask1,close_price,timestamp_time_second,Bid1_Quantity,Bid2_Quantity,Bid3_Quantity,Ask1_Quantity,Ask2_Quantity,Ask3_Quantity,weight1,weight2,weight3)\n",
    "mat24_2_15 = bid(time1,time2,Bid2,Ask1,close_price,timestamp_time_second,Bid1_Quantity,Bid2_Quantity,Bid3_Quantity,Ask1_Quantity,Ask2_Quantity,Ask3_Quantity,weight1,weight2,weight3)\n",
    "mat24_3_15 = bid(time1,time2,Bid3,Ask1,close_price,timestamp_time_second,Bid1_Quantity,Bid2_Quantity,Bid3_Quantity,Ask1_Quantity,Ask2_Quantity,Ask3_Quantity,weight1,weight2,weight3)"
   ]
  },
  {
   "cell_type": "code",
   "execution_count": 57,
   "metadata": {
    "collapsed": true
   },
   "outputs": [],
   "source": [
    "time1 = 600\n",
    "time2 = 7200\n",
    "mat24_1_11 = bid(time1,time2,Bid1,Ask1,close_price,timestamp_time_second,Bid1_Quantity,Bid2_Quantity,Bid3_Quantity,Ask1_Quantity,Ask2_Quantity,Ask3_Quantity,weight1,weight2,weight3)\n",
    "mat24_2_11 = bid(time1,time2,Bid2,Ask1,close_price,timestamp_time_second,Bid1_Quantity,Bid2_Quantity,Bid3_Quantity,Ask1_Quantity,Ask2_Quantity,Ask3_Quantity,weight1,weight2,weight3)\n",
    "mat24_3_11 = bid(time1,time2,Bid3,Ask1,close_price,timestamp_time_second,Bid1_Quantity,Bid2_Quantity,Bid3_Quantity,Ask1_Quantity,Ask2_Quantity,Ask3_Quantity,weight1,weight2,weight3)"
   ]
  },
  {
   "cell_type": "code",
   "execution_count": 58,
   "metadata": {
    "collapsed": true
   },
   "outputs": [],
   "source": [
    "time1 = 7200\n",
    "time2 = 14400\n",
    "mat24_1_13 = bid(time1,time2,Bid1,Ask1,close_price,timestamp_time_second,Bid1_Quantity,Bid2_Quantity,Bid3_Quantity,Ask1_Quantity,Ask2_Quantity,Ask3_Quantity,weight1,weight2,weight3)\n",
    "mat24_2_13 = bid(time1,time2,Bid2,Ask1,close_price,timestamp_time_second,Bid1_Quantity,Bid2_Quantity,Bid3_Quantity,Ask1_Quantity,Ask2_Quantity,Ask3_Quantity,weight1,weight2,weight3)\n",
    "mat24_3_13 = bid(time1,time2,Bid3,Ask1,close_price,timestamp_time_second,Bid1_Quantity,Bid2_Quantity,Bid3_Quantity,Ask1_Quantity,Ask2_Quantity,Ask3_Quantity,weight1,weight2,weight3)"
   ]
  },
  {
   "cell_type": "code",
   "execution_count": 59,
   "metadata": {
    "collapsed": true
   },
   "outputs": [],
   "source": [
    "time1 = 14400\n",
    "time2 = 25200\n",
    "mat24_1_16 = bid(time1,time2,Bid1,Ask1,close_price,timestamp_time_second,Bid1_Quantity,Bid2_Quantity,Bid3_Quantity,Ask1_Quantity,Ask2_Quantity,Ask3_Quantity,weight1,weight2,weight3)\n",
    "mat24_2_16 = bid(time1,time2,Bid2,Ask1,close_price,timestamp_time_second,Bid1_Quantity,Bid2_Quantity,Bid3_Quantity,Ask1_Quantity,Ask2_Quantity,Ask3_Quantity,weight1,weight2,weight3)\n",
    "mat24_3_16 = bid(time1,time2,Bid3,Ask1,close_price,timestamp_time_second,Bid1_Quantity,Bid2_Quantity,Bid3_Quantity,Ask1_Quantity,Ask2_Quantity,Ask3_Quantity,weight1,weight2,weight3)"
   ]
  },
  {
   "cell_type": "code",
   "execution_count": 66,
   "metadata": {
    "collapsed": false
   },
   "outputs": [],
   "source": [
    "#mat24_3_11"
   ]
  },
  {
   "cell_type": "markdown",
   "metadata": {},
   "source": [
    "### Day 1/09"
   ]
  },
  {
   "cell_type": "code",
   "execution_count": 67,
   "metadata": {
    "collapsed": false,
    "scrolled": true
   },
   "outputs": [],
   "source": [
    "data_book = order_book(1,'09')\n",
    "data_book_open = data_book[856:366355+1] # 9:00 ~ 16:00\n",
    "data_book_open = data_book_open.reset_index(drop = True)\n",
    "timestamp_time = day_time(1,'09')\n",
    "timestamp_time_second = time_transform(timestamp_time)"
   ]
  },
  {
   "cell_type": "code",
   "execution_count": 32,
   "metadata": {
    "collapsed": false,
    "scrolled": true
   },
   "outputs": [],
   "source": [
    "#data_book_open"
   ]
  },
  {
   "cell_type": "code",
   "execution_count": 68,
   "metadata": {
    "collapsed": false
   },
   "outputs": [
    {
     "name": "stdout",
     "output_type": "stream",
     "text": [
      "Total time = 162.233027\n"
     ]
    }
   ],
   "source": [
    "import time \n",
    "start = time.time()\n",
    "Bid1,Bid1_Quantity,Bid2,Bid2_Quantity,Bid3,Bid3_Quantity,Ask1,Ask1_Quantity,Ask2,Ask2_Quantity,Ask3,Ask3_Quantity = bid123_ask123_Q(data_book_open)\n",
    "end = time.time()  \n",
    "print \"Total time = %f\"%(end - start)"
   ]
  },
  {
   "cell_type": "code",
   "execution_count": 69,
   "metadata": {
    "collapsed": false
   },
   "outputs": [
    {
     "name": "stdout",
     "output_type": "stream",
     "text": [
      "Total time = 356.347721\n"
     ]
    }
   ],
   "source": [
    "import time \n",
    "start = time.time()\n",
    "rise_ratio_ask = rise_ask(Ask1,timestamp_time_second)\n",
    "end = time.time()  \n",
    "print \"Total time = %f\"%(end - start) "
   ]
  },
  {
   "cell_type": "code",
   "execution_count": 70,
   "metadata": {
    "collapsed": true
   },
   "outputs": [],
   "source": [
    "close_price = 6770\n",
    "weight1 = 0.50\n",
    "weight2 = 0.30\n",
    "weight3 = 0.20"
   ]
  },
  {
   "cell_type": "code",
   "execution_count": 71,
   "metadata": {
    "collapsed": true
   },
   "outputs": [],
   "source": [
    "time1 = 0\n",
    "time2 = 600\n",
    "mat22_1_15 = bid(time1,time2,Bid1,Ask1,close_price,timestamp_time_second,Bid1_Quantity,Bid2_Quantity,Bid3_Quantity,Ask1_Quantity,Ask2_Quantity,Ask3_Quantity,weight1,weight2,weight3)\n",
    "mat22_2_15 = bid(time1,time2,Bid2,Ask1,close_price,timestamp_time_second,Bid1_Quantity,Bid2_Quantity,Bid3_Quantity,Ask1_Quantity,Ask2_Quantity,Ask3_Quantity,weight1,weight2,weight3)\n",
    "mat22_3_15 = bid(time1,time2,Bid3,Ask1,close_price,timestamp_time_second,Bid1_Quantity,Bid2_Quantity,Bid3_Quantity,Ask1_Quantity,Ask2_Quantity,Ask3_Quantity,weight1,weight2,weight3)"
   ]
  },
  {
   "cell_type": "code",
   "execution_count": 72,
   "metadata": {
    "collapsed": true
   },
   "outputs": [],
   "source": [
    "time1 = 600\n",
    "time2 = 7200\n",
    "mat22_1_11 = bid(time1,time2,Bid1,Ask1,close_price,timestamp_time_second,Bid1_Quantity,Bid2_Quantity,Bid3_Quantity,Ask1_Quantity,Ask2_Quantity,Ask3_Quantity,weight1,weight2,weight3)\n",
    "mat22_2_11 = bid(time1,time2,Bid2,Ask1,close_price,timestamp_time_second,Bid1_Quantity,Bid2_Quantity,Bid3_Quantity,Ask1_Quantity,Ask2_Quantity,Ask3_Quantity,weight1,weight2,weight3)\n",
    "mat22_3_11 = bid(time1,time2,Bid3,Ask1,close_price,timestamp_time_second,Bid1_Quantity,Bid2_Quantity,Bid3_Quantity,Ask1_Quantity,Ask2_Quantity,Ask3_Quantity,weight1,weight2,weight3)"
   ]
  },
  {
   "cell_type": "code",
   "execution_count": 73,
   "metadata": {
    "collapsed": true
   },
   "outputs": [],
   "source": [
    "time1 = 7200\n",
    "time2 = 14400\n",
    "mat22_1_13 = bid(time1,time2,Bid1,Ask1,close_price,timestamp_time_second,Bid1_Quantity,Bid2_Quantity,Bid3_Quantity,Ask1_Quantity,Ask2_Quantity,Ask3_Quantity,weight1,weight2,weight3)\n",
    "mat22_2_13 = bid(time1,time2,Bid2,Ask1,close_price,timestamp_time_second,Bid1_Quantity,Bid2_Quantity,Bid3_Quantity,Ask1_Quantity,Ask2_Quantity,Ask3_Quantity,weight1,weight2,weight3)\n",
    "mat22_3_13 = bid(time1,time2,Bid3,Ask1,close_price,timestamp_time_second,Bid1_Quantity,Bid2_Quantity,Bid3_Quantity,Ask1_Quantity,Ask2_Quantity,Ask3_Quantity,weight1,weight2,weight3)"
   ]
  },
  {
   "cell_type": "code",
   "execution_count": 74,
   "metadata": {
    "collapsed": true
   },
   "outputs": [],
   "source": [
    "time1 = 14400\n",
    "time2 = 25200\n",
    "mat22_1_16 = bid(time1,time2,Bid1,Ask1,close_price,timestamp_time_second,Bid1_Quantity,Bid2_Quantity,Bid3_Quantity,Ask1_Quantity,Ask2_Quantity,Ask3_Quantity,weight1,weight2,weight3)\n",
    "mat22_2_16 = bid(time1,time2,Bid2,Ask1,close_price,timestamp_time_second,Bid1_Quantity,Bid2_Quantity,Bid3_Quantity,Ask1_Quantity,Ask2_Quantity,Ask3_Quantity,weight1,weight2,weight3)\n",
    "mat22_3_16 = bid(time1,time2,Bid3,Ask1,close_price,timestamp_time_second,Bid1_Quantity,Bid2_Quantity,Bid3_Quantity,Ask1_Quantity,Ask2_Quantity,Ask3_Quantity,weight1,weight2,weight3)"
   ]
  },
  {
   "cell_type": "code",
   "execution_count": null,
   "metadata": {
    "collapsed": true
   },
   "outputs": [],
   "source": []
  },
  {
   "cell_type": "code",
   "execution_count": null,
   "metadata": {
    "collapsed": true
   },
   "outputs": [],
   "source": []
  },
  {
   "cell_type": "code",
   "execution_count": null,
   "metadata": {
    "collapsed": true
   },
   "outputs": [],
   "source": []
  },
  {
   "cell_type": "markdown",
   "metadata": {},
   "source": [
    "### Day 1/08"
   ]
  },
  {
   "cell_type": "code",
   "execution_count": 75,
   "metadata": {
    "collapsed": true
   },
   "outputs": [],
   "source": [
    "data_book = order_book(1,'08')\n",
    "data_book_open = data_book[1236:356399+1] # 9:00 ~ 16:00\n",
    "data_book_open = data_book_open.reset_index(drop = True)\n",
    "timestamp_time = day_time(1,'08')\n",
    "timestamp_time_second = time_transform(timestamp_time)"
   ]
  },
  {
   "cell_type": "code",
   "execution_count": 37,
   "metadata": {
    "collapsed": false,
    "scrolled": true
   },
   "outputs": [],
   "source": [
    "#data_book_open"
   ]
  },
  {
   "cell_type": "code",
   "execution_count": 76,
   "metadata": {
    "collapsed": false
   },
   "outputs": [
    {
     "name": "stdout",
     "output_type": "stream",
     "text": [
      "Total time = 119.563197\n"
     ]
    }
   ],
   "source": [
    "import time \n",
    "start = time.time()\n",
    "Bid1,Bid1_Quantity,Bid2,Bid2_Quantity,Bid3,Bid3_Quantity,Ask1,Ask1_Quantity,Ask2,Ask2_Quantity,Ask3,Ask3_Quantity = bid123_ask123_Q(data_book_open)\n",
    "end = time.time()  \n",
    "print \"Total time = %f\"%(end - start)"
   ]
  },
  {
   "cell_type": "code",
   "execution_count": 77,
   "metadata": {
    "collapsed": false
   },
   "outputs": [
    {
     "name": "stdout",
     "output_type": "stream",
     "text": [
      "Total time = 283.613185\n"
     ]
    }
   ],
   "source": [
    "import time \n",
    "start = time.time()\n",
    "rise_ratio_ask = rise_ask(Ask1,timestamp_time_second)\n",
    "end = time.time()  \n",
    "print \"Total time = %f\"%(end - start) "
   ]
  },
  {
   "cell_type": "code",
   "execution_count": 78,
   "metadata": {
    "collapsed": true
   },
   "outputs": [],
   "source": [
    "close_price = 6810\n",
    "weight1 = 0.50\n",
    "weight2 = 0.30\n",
    "weight3 = 0.20"
   ]
  },
  {
   "cell_type": "code",
   "execution_count": 79,
   "metadata": {
    "collapsed": true
   },
   "outputs": [],
   "source": [
    "time1 = 0\n",
    "time2 = 600\n",
    "mat21_1_15 = bid(time1,time2,Bid1,Ask1,close_price,timestamp_time_second,Bid1_Quantity,Bid2_Quantity,Bid3_Quantity,Ask1_Quantity,Ask2_Quantity,Ask3_Quantity,weight1,weight2,weight3)\n",
    "mat21_2_15 = bid(time1,time2,Bid2,Ask1,close_price,timestamp_time_second,Bid1_Quantity,Bid2_Quantity,Bid3_Quantity,Ask1_Quantity,Ask2_Quantity,Ask3_Quantity,weight1,weight2,weight3)\n",
    "mat21_3_15 = bid(time1,time2,Bid3,Ask1,close_price,timestamp_time_second,Bid1_Quantity,Bid2_Quantity,Bid3_Quantity,Ask1_Quantity,Ask2_Quantity,Ask3_Quantity,weight1,weight2,weight3)"
   ]
  },
  {
   "cell_type": "code",
   "execution_count": 80,
   "metadata": {
    "collapsed": true
   },
   "outputs": [],
   "source": [
    "time1 = 600\n",
    "time2 = 7200\n",
    "mat21_1_11 = bid(time1,time2,Bid1,Ask1,close_price,timestamp_time_second,Bid1_Quantity,Bid2_Quantity,Bid3_Quantity,Ask1_Quantity,Ask2_Quantity,Ask3_Quantity,weight1,weight2,weight3)\n",
    "mat21_2_11 = bid(time1,time2,Bid2,Ask1,close_price,timestamp_time_second,Bid1_Quantity,Bid2_Quantity,Bid3_Quantity,Ask1_Quantity,Ask2_Quantity,Ask3_Quantity,weight1,weight2,weight3)\n",
    "mat21_3_11 = bid(time1,time2,Bid3,Ask1,close_price,timestamp_time_second,Bid1_Quantity,Bid2_Quantity,Bid3_Quantity,Ask1_Quantity,Ask2_Quantity,Ask3_Quantity,weight1,weight2,weight3)"
   ]
  },
  {
   "cell_type": "code",
   "execution_count": 81,
   "metadata": {
    "collapsed": true
   },
   "outputs": [],
   "source": [
    "time1 = 7200\n",
    "time2 = 14400\n",
    "mat21_1_13 = bid(time1,time2,Bid1,Ask1,close_price,timestamp_time_second,Bid1_Quantity,Bid2_Quantity,Bid3_Quantity,Ask1_Quantity,Ask2_Quantity,Ask3_Quantity,weight1,weight2,weight3)\n",
    "mat21_2_13 = bid(time1,time2,Bid2,Ask1,close_price,timestamp_time_second,Bid1_Quantity,Bid2_Quantity,Bid3_Quantity,Ask1_Quantity,Ask2_Quantity,Ask3_Quantity,weight1,weight2,weight3)\n",
    "mat21_3_13 = bid(time1,time2,Bid3,Ask1,close_price,timestamp_time_second,Bid1_Quantity,Bid2_Quantity,Bid3_Quantity,Ask1_Quantity,Ask2_Quantity,Ask3_Quantity,weight1,weight2,weight3)"
   ]
  },
  {
   "cell_type": "code",
   "execution_count": 82,
   "metadata": {
    "collapsed": true
   },
   "outputs": [],
   "source": [
    "time1 = 14400\n",
    "time2 = 25200\n",
    "mat21_1_16 = bid(time1,time2,Bid1,Ask1,close_price,timestamp_time_second,Bid1_Quantity,Bid2_Quantity,Bid3_Quantity,Ask1_Quantity,Ask2_Quantity,Ask3_Quantity,weight1,weight2,weight3)\n",
    "mat21_2_16 = bid(time1,time2,Bid2,Ask1,close_price,timestamp_time_second,Bid1_Quantity,Bid2_Quantity,Bid3_Quantity,Ask1_Quantity,Ask2_Quantity,Ask3_Quantity,weight1,weight2,weight3)\n",
    "mat21_3_16 = bid(time1,time2,Bid3,Ask1,close_price,timestamp_time_second,Bid1_Quantity,Bid2_Quantity,Bid3_Quantity,Ask1_Quantity,Ask2_Quantity,Ask3_Quantity,weight1,weight2,weight3)"
   ]
  },
  {
   "cell_type": "code",
   "execution_count": null,
   "metadata": {
    "collapsed": true
   },
   "outputs": [],
   "source": []
  },
  {
   "cell_type": "code",
   "execution_count": null,
   "metadata": {
    "collapsed": true
   },
   "outputs": [],
   "source": []
  },
  {
   "cell_type": "code",
   "execution_count": null,
   "metadata": {
    "collapsed": true
   },
   "outputs": [],
   "source": []
  },
  {
   "cell_type": "markdown",
   "metadata": {},
   "source": [
    "### Day 1/07"
   ]
  },
  {
   "cell_type": "code",
   "execution_count": 83,
   "metadata": {
    "collapsed": true
   },
   "outputs": [],
   "source": [
    "data_book = order_book(1,'07')\n",
    "data_book_open = data_book[1040:325879+1] # 9:00 ~ 16:00\n",
    "data_book_open = data_book_open.reset_index(drop = True)\n",
    "timestamp_time = day_time(1,'07')\n",
    "timestamp_time_second = time_transform(timestamp_time)"
   ]
  },
  {
   "cell_type": "code",
   "execution_count": 40,
   "metadata": {
    "collapsed": false,
    "scrolled": true
   },
   "outputs": [],
   "source": [
    "#data_book_open"
   ]
  },
  {
   "cell_type": "code",
   "execution_count": 84,
   "metadata": {
    "collapsed": false
   },
   "outputs": [
    {
     "name": "stdout",
     "output_type": "stream",
     "text": [
      "Total time = 109.099198\n"
     ]
    }
   ],
   "source": [
    "import time \n",
    "start = time.time()\n",
    "Bid1,Bid1_Quantity,Bid2,Bid2_Quantity,Bid3,Bid3_Quantity,Ask1,Ask1_Quantity,Ask2,Ask2_Quantity,Ask3,Ask3_Quantity = bid123_ask123_Q(data_book_open)\n",
    "end = time.time()  \n",
    "print \"Total time = %f\"%(end - start)"
   ]
  },
  {
   "cell_type": "code",
   "execution_count": 85,
   "metadata": {
    "collapsed": false
   },
   "outputs": [
    {
     "name": "stdout",
     "output_type": "stream",
     "text": [
      "Total time = 335.189806\n"
     ]
    }
   ],
   "source": [
    "import time \n",
    "start = time.time()\n",
    "rise_ratio_ask = rise_ask(Ask1,timestamp_time_second)\n",
    "end = time.time()  \n",
    "print \"Total time = %f\"%(end - start) "
   ]
  },
  {
   "cell_type": "code",
   "execution_count": 86,
   "metadata": {
    "collapsed": true
   },
   "outputs": [],
   "source": [
    "close_price = 6790\n",
    "weight1 = 0.50\n",
    "weight2 = 0.30\n",
    "weight3 = 0.20"
   ]
  },
  {
   "cell_type": "code",
   "execution_count": 87,
   "metadata": {
    "collapsed": true
   },
   "outputs": [],
   "source": [
    "time1 = 0\n",
    "time2 = 600\n",
    "mat20_1_15 = bid(time1,time2,Bid1,Ask1,close_price,timestamp_time_second,Bid1_Quantity,Bid2_Quantity,Bid3_Quantity,Ask1_Quantity,Ask2_Quantity,Ask3_Quantity,weight1,weight2,weight3)\n",
    "mat20_2_15 = bid(time1,time2,Bid2,Ask1,close_price,timestamp_time_second,Bid1_Quantity,Bid2_Quantity,Bid3_Quantity,Ask1_Quantity,Ask2_Quantity,Ask3_Quantity,weight1,weight2,weight3)\n",
    "mat20_3_15 = bid(time1,time2,Bid3,Ask1,close_price,timestamp_time_second,Bid1_Quantity,Bid2_Quantity,Bid3_Quantity,Ask1_Quantity,Ask2_Quantity,Ask3_Quantity,weight1,weight2,weight3)"
   ]
  },
  {
   "cell_type": "code",
   "execution_count": 88,
   "metadata": {
    "collapsed": true
   },
   "outputs": [],
   "source": [
    "time1 = 600\n",
    "time2 = 7200\n",
    "mat20_1_11 = bid(time1,time2,Bid1,Ask1,close_price,timestamp_time_second,Bid1_Quantity,Bid2_Quantity,Bid3_Quantity,Ask1_Quantity,Ask2_Quantity,Ask3_Quantity,weight1,weight2,weight3)\n",
    "mat20_2_11 = bid(time1,time2,Bid2,Ask1,close_price,timestamp_time_second,Bid1_Quantity,Bid2_Quantity,Bid3_Quantity,Ask1_Quantity,Ask2_Quantity,Ask3_Quantity,weight1,weight2,weight3)\n",
    "mat20_3_11 = bid(time1,time2,Bid3,Ask1,close_price,timestamp_time_second,Bid1_Quantity,Bid2_Quantity,Bid3_Quantity,Ask1_Quantity,Ask2_Quantity,Ask3_Quantity,weight1,weight2,weight3)"
   ]
  },
  {
   "cell_type": "code",
   "execution_count": 89,
   "metadata": {
    "collapsed": true
   },
   "outputs": [],
   "source": [
    "time1 = 7200\n",
    "time2 = 14400\n",
    "mat20_1_13 = bid(time1,time2,Bid1,Ask1,close_price,timestamp_time_second,Bid1_Quantity,Bid2_Quantity,Bid3_Quantity,Ask1_Quantity,Ask2_Quantity,Ask3_Quantity,weight1,weight2,weight3)\n",
    "mat20_2_13 = bid(time1,time2,Bid2,Ask1,close_price,timestamp_time_second,Bid1_Quantity,Bid2_Quantity,Bid3_Quantity,Ask1_Quantity,Ask2_Quantity,Ask3_Quantity,weight1,weight2,weight3)\n",
    "mat20_3_13 = bid(time1,time2,Bid3,Ask1,close_price,timestamp_time_second,Bid1_Quantity,Bid2_Quantity,Bid3_Quantity,Ask1_Quantity,Ask2_Quantity,Ask3_Quantity,weight1,weight2,weight3)"
   ]
  },
  {
   "cell_type": "code",
   "execution_count": 90,
   "metadata": {
    "collapsed": true
   },
   "outputs": [],
   "source": [
    "time1 = 14400\n",
    "time2 = 25200\n",
    "mat20_1_16 = bid(time1,time2,Bid1,Ask1,close_price,timestamp_time_second,Bid1_Quantity,Bid2_Quantity,Bid3_Quantity,Ask1_Quantity,Ask2_Quantity,Ask3_Quantity,weight1,weight2,weight3)\n",
    "mat20_2_16 = bid(time1,time2,Bid2,Ask1,close_price,timestamp_time_second,Bid1_Quantity,Bid2_Quantity,Bid3_Quantity,Ask1_Quantity,Ask2_Quantity,Ask3_Quantity,weight1,weight2,weight3)\n",
    "mat20_3_16 = bid(time1,time2,Bid3,Ask1,close_price,timestamp_time_second,Bid1_Quantity,Bid2_Quantity,Bid3_Quantity,Ask1_Quantity,Ask2_Quantity,Ask3_Quantity,weight1,weight2,weight3)"
   ]
  },
  {
   "cell_type": "code",
   "execution_count": null,
   "metadata": {
    "collapsed": true
   },
   "outputs": [],
   "source": []
  },
  {
   "cell_type": "code",
   "execution_count": null,
   "metadata": {
    "collapsed": true
   },
   "outputs": [],
   "source": []
  },
  {
   "cell_type": "code",
   "execution_count": null,
   "metadata": {
    "collapsed": true
   },
   "outputs": [],
   "source": []
  },
  {
   "cell_type": "markdown",
   "metadata": {},
   "source": [
    "### Day 1/06"
   ]
  },
  {
   "cell_type": "code",
   "execution_count": 91,
   "metadata": {
    "collapsed": true
   },
   "outputs": [],
   "source": [
    "data_book = order_book(1,'06')\n",
    "data_book_open = data_book[800:332843+1] # 9:00 ~ 16:00\n",
    "data_book_open = data_book_open.reset_index(drop = True)\n",
    "timestamp_time = day_time(1,'06')\n",
    "timestamp_time_second = time_transform(timestamp_time)"
   ]
  },
  {
   "cell_type": "code",
   "execution_count": 92,
   "metadata": {
    "collapsed": false,
    "scrolled": true
   },
   "outputs": [],
   "source": [
    "#data_book_open"
   ]
  },
  {
   "cell_type": "code",
   "execution_count": 93,
   "metadata": {
    "collapsed": false
   },
   "outputs": [
    {
     "name": "stdout",
     "output_type": "stream",
     "text": [
      "Total time = 125.940732\n"
     ]
    }
   ],
   "source": [
    "import time \n",
    "\n",
    "start = time.time()\n",
    "Bid1,Bid1_Quantity,Bid2,Bid2_Quantity,Bid3,Bid3_Quantity,Ask1,Ask1_Quantity,Ask2,Ask2_Quantity,Ask3,Ask3_Quantity = bid123_ask123_Q(data_book_open)\n",
    "end = time.time()  \n",
    "print \"Total time = %f\"%(end - start)"
   ]
  },
  {
   "cell_type": "code",
   "execution_count": 94,
   "metadata": {
    "collapsed": false
   },
   "outputs": [
    {
     "name": "stdout",
     "output_type": "stream",
     "text": [
      "Total time = 364.051424\n"
     ]
    }
   ],
   "source": [
    "import time \n",
    "start = time.time()\n",
    "rise_ratio_ask = rise_ask(Ask1,timestamp_time_second)\n",
    "end = time.time()  \n",
    "print \"Total time = %f\"%(end - start) "
   ]
  },
  {
   "cell_type": "code",
   "execution_count": 95,
   "metadata": {
    "collapsed": true
   },
   "outputs": [],
   "source": [
    "close_price = 6806\n",
    "weight1 = 0.50\n",
    "weight2 = 0.30\n",
    "weight3 = 0.20"
   ]
  },
  {
   "cell_type": "code",
   "execution_count": 96,
   "metadata": {
    "collapsed": true
   },
   "outputs": [],
   "source": [
    "time1 = 0\n",
    "time2 = 600\n",
    "mat17_1_11 = bid(time1,time2,Bid1,Ask1,close_price,timestamp_time_second,Bid1_Quantity,Bid2_Quantity,Bid3_Quantity,Ask1_Quantity,Ask2_Quantity,Ask3_Quantity,weight1,weight2,weight3)\n",
    "mat17_2_11 = bid(time1,time2,Bid2,Ask1,close_price,timestamp_time_second,Bid1_Quantity,Bid2_Quantity,Bid3_Quantity,Ask1_Quantity,Ask2_Quantity,Ask3_Quantity,weight1,weight2,weight3)\n",
    "mat17_3_11 = bid(time1,time2,Bid3,Ask1,close_price,timestamp_time_second,Bid1_Quantity,Bid2_Quantity,Bid3_Quantity,Ask1_Quantity,Ask2_Quantity,Ask3_Quantity,weight1,weight2,weight3)"
   ]
  },
  {
   "cell_type": "code",
   "execution_count": 97,
   "metadata": {
    "collapsed": true
   },
   "outputs": [],
   "source": [
    "time1 = 600\n",
    "time2 = 7200\n",
    "mat17_1_15 = bid(time1,time2,Bid1,Ask1,close_price,timestamp_time_second,Bid1_Quantity,Bid2_Quantity,Bid3_Quantity,Ask1_Quantity,Ask2_Quantity,Ask3_Quantity,weight1,weight2,weight3)\n",
    "mat17_2_15 = bid(time1,time2,Bid2,Ask1,close_price,timestamp_time_second,Bid1_Quantity,Bid2_Quantity,Bid3_Quantity,Ask1_Quantity,Ask2_Quantity,Ask3_Quantity,weight1,weight2,weight3)\n",
    "mat17_3_15 = bid(time1,time2,Bid3,Ask1,close_price,timestamp_time_second,Bid1_Quantity,Bid2_Quantity,Bid3_Quantity,Ask1_Quantity,Ask2_Quantity,Ask3_Quantity,weight1,weight2,weight3)"
   ]
  },
  {
   "cell_type": "code",
   "execution_count": 98,
   "metadata": {
    "collapsed": true
   },
   "outputs": [],
   "source": [
    "time1 = 7200\n",
    "time2 = 14400\n",
    "mat17_1_13 = bid(time1,time2,Bid1,Ask1,close_price,timestamp_time_second,Bid1_Quantity,Bid2_Quantity,Bid3_Quantity,Ask1_Quantity,Ask2_Quantity,Ask3_Quantity,weight1,weight2,weight3)\n",
    "mat17_2_13 = bid(time1,time2,Bid2,Ask1,close_price,timestamp_time_second,Bid1_Quantity,Bid2_Quantity,Bid3_Quantity,Ask1_Quantity,Ask2_Quantity,Ask3_Quantity,weight1,weight2,weight3)\n",
    "mat17_3_13 = bid(time1,time2,Bid3,Ask1,close_price,timestamp_time_second,Bid1_Quantity,Bid2_Quantity,Bid3_Quantity,Ask1_Quantity,Ask2_Quantity,Ask3_Quantity,weight1,weight2,weight3)"
   ]
  },
  {
   "cell_type": "code",
   "execution_count": 99,
   "metadata": {
    "collapsed": true
   },
   "outputs": [],
   "source": [
    "time1 = 14400\n",
    "time2 = 25200\n",
    "mat17_1_16 = bid(time1,time2,Bid1,Ask1,close_price,timestamp_time_second,Bid1_Quantity,Bid2_Quantity,Bid3_Quantity,Ask1_Quantity,Ask2_Quantity,Ask3_Quantity,weight1,weight2,weight3)\n",
    "mat17_2_16 = bid(time1,time2,Bid2,Ask1,close_price,timestamp_time_second,Bid1_Quantity,Bid2_Quantity,Bid3_Quantity,Ask1_Quantity,Ask2_Quantity,Ask3_Quantity,weight1,weight2,weight3)\n",
    "mat17_3_16 = bid(time1,time2,Bid3,Ask1,close_price,timestamp_time_second,Bid1_Quantity,Bid2_Quantity,Bid3_Quantity,Ask1_Quantity,Ask2_Quantity,Ask3_Quantity,weight1,weight2,weight3)"
   ]
  },
  {
   "cell_type": "code",
   "execution_count": null,
   "metadata": {
    "collapsed": true
   },
   "outputs": [],
   "source": []
  },
  {
   "cell_type": "code",
   "execution_count": null,
   "metadata": {
    "collapsed": true
   },
   "outputs": [],
   "source": []
  },
  {
   "cell_type": "code",
   "execution_count": null,
   "metadata": {
    "collapsed": true
   },
   "outputs": [],
   "source": []
  },
  {
   "cell_type": "markdown",
   "metadata": {},
   "source": [
    "### Day 1/03"
   ]
  },
  {
   "cell_type": "code",
   "execution_count": 100,
   "metadata": {
    "collapsed": true
   },
   "outputs": [],
   "source": [
    "data_book = order_book(1,'03')\n",
    "data_book_open = data_book[984:318387+1] # 9:00 ~ 16:00\n",
    "data_book_open = data_book_open.reset_index(drop = True)\n",
    "timestamp_time = day_time(1,'03')\n",
    "timestamp_time_second = time_transform(timestamp_time)"
   ]
  },
  {
   "cell_type": "code",
   "execution_count": 46,
   "metadata": {
    "collapsed": false,
    "scrolled": true
   },
   "outputs": [],
   "source": [
    "#data_book_open"
   ]
  },
  {
   "cell_type": "code",
   "execution_count": 101,
   "metadata": {
    "collapsed": false
   },
   "outputs": [
    {
     "name": "stdout",
     "output_type": "stream",
     "text": [
      "Total time = 106.708166\n"
     ]
    }
   ],
   "source": [
    "import time \n",
    "start = time.time()\n",
    "Bid1,Bid1_Quantity,Bid2,Bid2_Quantity,Bid3,Bid3_Quantity,Ask1,Ask1_Quantity,Ask2,Ask2_Quantity,Ask3,Ask3_Quantity = bid123_ask123_Q(data_book_open)\n",
    "end = time.time()  \n",
    "print \"Total time = %f\"%(end - start)"
   ]
  },
  {
   "cell_type": "code",
   "execution_count": 102,
   "metadata": {
    "collapsed": false
   },
   "outputs": [
    {
     "name": "stdout",
     "output_type": "stream",
     "text": [
      "Total time = 303.926843\n"
     ]
    }
   ],
   "source": [
    "import time \n",
    "start = time.time()\n",
    "rise_ratio_ask = rise_ask(Ask1,timestamp_time_second)\n",
    "end = time.time()  \n",
    "print \"Total time = %f\"%(end - start) "
   ]
  },
  {
   "cell_type": "code",
   "execution_count": 103,
   "metadata": {
    "collapsed": true
   },
   "outputs": [],
   "source": [
    "close_price = 6915\n",
    "weight1 = 0.50\n",
    "weight2 = 0.30\n",
    "weight3 = 0.20"
   ]
  },
  {
   "cell_type": "code",
   "execution_count": 104,
   "metadata": {
    "collapsed": true
   },
   "outputs": [],
   "source": [
    "time1 = 0\n",
    "time2 = 600\n",
    "mat16_1_15 = bid(time1,time2,Bid1,Ask1,close_price,timestamp_time_second,Bid1_Quantity,Bid2_Quantity,Bid3_Quantity,Ask1_Quantity,Ask2_Quantity,Ask3_Quantity,weight1,weight2,weight3)\n",
    "mat16_2_15 = bid(time1,time2,Bid2,Ask1,close_price,timestamp_time_second,Bid1_Quantity,Bid2_Quantity,Bid3_Quantity,Ask1_Quantity,Ask2_Quantity,Ask3_Quantity,weight1,weight2,weight3)\n",
    "mat16_3_15 = bid(time1,time2,Bid3,Ask1,close_price,timestamp_time_second,Bid1_Quantity,Bid2_Quantity,Bid3_Quantity,Ask1_Quantity,Ask2_Quantity,Ask3_Quantity,weight1,weight2,weight3)"
   ]
  },
  {
   "cell_type": "code",
   "execution_count": 105,
   "metadata": {
    "collapsed": true
   },
   "outputs": [],
   "source": [
    "time1 = 600\n",
    "time2 = 7200\n",
    "mat16_1_11 = bid(time1,time2,Bid1,Ask1,close_price,timestamp_time_second,Bid1_Quantity,Bid2_Quantity,Bid3_Quantity,Ask1_Quantity,Ask2_Quantity,Ask3_Quantity,weight1,weight2,weight3)\n",
    "mat16_2_11 = bid(time1,time2,Bid2,Ask1,close_price,timestamp_time_second,Bid1_Quantity,Bid2_Quantity,Bid3_Quantity,Ask1_Quantity,Ask2_Quantity,Ask3_Quantity,weight1,weight2,weight3)\n",
    "mat16_3_11 = bid(time1,time2,Bid3,Ask1,close_price,timestamp_time_second,Bid1_Quantity,Bid2_Quantity,Bid3_Quantity,Ask1_Quantity,Ask2_Quantity,Ask3_Quantity,weight1,weight2,weight3)"
   ]
  },
  {
   "cell_type": "code",
   "execution_count": 106,
   "metadata": {
    "collapsed": true
   },
   "outputs": [],
   "source": [
    "time1 = 7200\n",
    "time2 = 14400\n",
    "mat16_1_13 = bid(time1,time2,Bid1,Ask1,close_price,timestamp_time_second,Bid1_Quantity,Bid2_Quantity,Bid3_Quantity,Ask1_Quantity,Ask2_Quantity,Ask3_Quantity,weight1,weight2,weight3)\n",
    "mat16_2_13 = bid(time1,time2,Bid2,Ask1,close_price,timestamp_time_second,Bid1_Quantity,Bid2_Quantity,Bid3_Quantity,Ask1_Quantity,Ask2_Quantity,Ask3_Quantity,weight1,weight2,weight3)\n",
    "mat16_3_13 = bid(time1,time2,Bid3,Ask1,close_price,timestamp_time_second,Bid1_Quantity,Bid2_Quantity,Bid3_Quantity,Ask1_Quantity,Ask2_Quantity,Ask3_Quantity,weight1,weight2,weight3)"
   ]
  },
  {
   "cell_type": "code",
   "execution_count": 107,
   "metadata": {
    "collapsed": true
   },
   "outputs": [],
   "source": [
    "time1 = 14400\n",
    "time2 = 25200\n",
    "mat16_1_16 = bid(time1,time2,Bid1,Ask1,close_price,timestamp_time_second,Bid1_Quantity,Bid2_Quantity,Bid3_Quantity,Ask1_Quantity,Ask2_Quantity,Ask3_Quantity,weight1,weight2,weight3)\n",
    "mat16_2_16 = bid(time1,time2,Bid2,Ask1,close_price,timestamp_time_second,Bid1_Quantity,Bid2_Quantity,Bid3_Quantity,Ask1_Quantity,Ask2_Quantity,Ask3_Quantity,weight1,weight2,weight3)\n",
    "mat16_3_16 = bid(time1,time2,Bid3,Ask1,close_price,timestamp_time_second,Bid1_Quantity,Bid2_Quantity,Bid3_Quantity,Ask1_Quantity,Ask2_Quantity,Ask3_Quantity,weight1,weight2,weight3)"
   ]
  },
  {
   "cell_type": "code",
   "execution_count": null,
   "metadata": {
    "collapsed": true
   },
   "outputs": [],
   "source": []
  },
  {
   "cell_type": "markdown",
   "metadata": {},
   "source": [
    "### Day 1/02"
   ]
  },
  {
   "cell_type": "code",
   "execution_count": 108,
   "metadata": {
    "collapsed": true
   },
   "outputs": [],
   "source": [
    "data_book = order_book(1,'02')\n",
    "data_book_open = data_book[1172:234835+1] # 9:00 ~ 16:00\n",
    "data_book_open = data_book_open.reset_index(drop = True)\n",
    "timestamp_time = day_time(1,'02')\n",
    "timestamp_time_second = time_transform(timestamp_time)"
   ]
  },
  {
   "cell_type": "code",
   "execution_count": 49,
   "metadata": {
    "collapsed": false,
    "scrolled": true
   },
   "outputs": [],
   "source": [
    "#data_book_open"
   ]
  },
  {
   "cell_type": "code",
   "execution_count": 109,
   "metadata": {
    "collapsed": false
   },
   "outputs": [
    {
     "name": "stdout",
     "output_type": "stream",
     "text": [
      "Total time = 78.434215\n"
     ]
    }
   ],
   "source": [
    "import time \n",
    "start = time.time()\n",
    "Bid1,Bid1_Quantity,Bid2,Bid2_Quantity,Bid3,Bid3_Quantity,Ask1,Ask1_Quantity,Ask2,Ask2_Quantity,Ask3,Ask3_Quantity = bid123_ask123_Q(data_book_open)\n",
    "end = time.time()  \n",
    "print \"Total time = %f\"%(end - start)"
   ]
  },
  {
   "cell_type": "code",
   "execution_count": 110,
   "metadata": {
    "collapsed": false
   },
   "outputs": [
    {
     "name": "stdout",
     "output_type": "stream",
     "text": [
      "Total time = 171.014962\n"
     ]
    }
   ],
   "source": [
    "import time \n",
    "start = time.time()\n",
    "rise_ratio_ask = rise_ask(Ask1,timestamp_time_second)\n",
    "end = time.time()  \n",
    "print \"Total time = %f\"%(end - start) "
   ]
  },
  {
   "cell_type": "code",
   "execution_count": 111,
   "metadata": {
    "collapsed": true
   },
   "outputs": [],
   "source": [
    "close_price = 7030\n",
    "weight1 = 0.50\n",
    "weight2 = 0.30\n",
    "weight3 = 0.20"
   ]
  },
  {
   "cell_type": "code",
   "execution_count": 112,
   "metadata": {
    "collapsed": true
   },
   "outputs": [],
   "source": [
    "time1 = 0\n",
    "time2 = 600\n",
    "mat02_1_15 = bid(time1,time2,Bid1,Ask1,close_price,timestamp_time_second,Bid1_Quantity,Bid2_Quantity,Bid3_Quantity,Ask1_Quantity,Ask2_Quantity,Ask3_Quantity,weight1,weight2,weight3)\n",
    "mat02_2_15 = bid(time1,time2,Bid2,Ask1,close_price,timestamp_time_second,Bid1_Quantity,Bid2_Quantity,Bid3_Quantity,Ask1_Quantity,Ask2_Quantity,Ask3_Quantity,weight1,weight2,weight3)\n",
    "mat02_3_15 = bid(time1,time2,Bid3,Ask1,close_price,timestamp_time_second,Bid1_Quantity,Bid2_Quantity,Bid3_Quantity,Ask1_Quantity,Ask2_Quantity,Ask3_Quantity,weight1,weight2,weight3)"
   ]
  },
  {
   "cell_type": "code",
   "execution_count": 113,
   "metadata": {
    "collapsed": true
   },
   "outputs": [],
   "source": [
    "time1 = 600\n",
    "time2 = 7200\n",
    "mat02_1_11 = bid(time1,time2,Bid1,Ask1,close_price,timestamp_time_second,Bid1_Quantity,Bid2_Quantity,Bid3_Quantity,Ask1_Quantity,Ask2_Quantity,Ask3_Quantity,weight1,weight2,weight3)\n",
    "mat02_2_11 = bid(time1,time2,Bid2,Ask1,close_price,timestamp_time_second,Bid1_Quantity,Bid2_Quantity,Bid3_Quantity,Ask1_Quantity,Ask2_Quantity,Ask3_Quantity,weight1,weight2,weight3)\n",
    "mat02_3_11 = bid(time1,time2,Bid3,Ask1,close_price,timestamp_time_second,Bid1_Quantity,Bid2_Quantity,Bid3_Quantity,Ask1_Quantity,Ask2_Quantity,Ask3_Quantity,weight1,weight2,weight3)"
   ]
  },
  {
   "cell_type": "code",
   "execution_count": 114,
   "metadata": {
    "collapsed": true
   },
   "outputs": [],
   "source": [
    "time1 = 7200\n",
    "time2 = 14400\n",
    "mat02_1_13 = bid(time1,time2,Bid1,Ask1,close_price,timestamp_time_second,Bid1_Quantity,Bid2_Quantity,Bid3_Quantity,Ask1_Quantity,Ask2_Quantity,Ask3_Quantity,weight1,weight2,weight3)\n",
    "mat02_2_13 = bid(time1,time2,Bid2,Ask1,close_price,timestamp_time_second,Bid1_Quantity,Bid2_Quantity,Bid3_Quantity,Ask1_Quantity,Ask2_Quantity,Ask3_Quantity,weight1,weight2,weight3)\n",
    "mat02_3_13 = bid(time1,time2,Bid3,Ask1,close_price,timestamp_time_second,Bid1_Quantity,Bid2_Quantity,Bid3_Quantity,Ask1_Quantity,Ask2_Quantity,Ask3_Quantity,weight1,weight2,weight3)"
   ]
  },
  {
   "cell_type": "code",
   "execution_count": 115,
   "metadata": {
    "collapsed": true
   },
   "outputs": [],
   "source": [
    "time1 = 14400\n",
    "time2 = 25200\n",
    "mat02_1_16 = bid(time1,time2,Bid1,Ask1,close_price,timestamp_time_second,Bid1_Quantity,Bid2_Quantity,Bid3_Quantity,Ask1_Quantity,Ask2_Quantity,Ask3_Quantity,weight1,weight2,weight3)\n",
    "mat02_2_16 = bid(time1,time2,Bid2,Ask1,close_price,timestamp_time_second,Bid1_Quantity,Bid2_Quantity,Bid3_Quantity,Ask1_Quantity,Ask2_Quantity,Ask3_Quantity,weight1,weight2,weight3)\n",
    "mat02_3_16 = bid(time1,time2,Bid3,Ask1,close_price,timestamp_time_second,Bid1_Quantity,Bid2_Quantity,Bid3_Quantity,Ask1_Quantity,Ask2_Quantity,Ask3_Quantity,weight1,weight2,weight3)"
   ]
  },
  {
   "cell_type": "code",
   "execution_count": null,
   "metadata": {
    "collapsed": true
   },
   "outputs": [],
   "source": []
  },
  {
   "cell_type": "code",
   "execution_count": null,
   "metadata": {
    "collapsed": true
   },
   "outputs": [],
   "source": []
  },
  {
   "cell_type": "code",
   "execution_count": null,
   "metadata": {
    "collapsed": true
   },
   "outputs": [],
   "source": []
  },
  {
   "cell_type": "code",
   "execution_count": null,
   "metadata": {
    "collapsed": true
   },
   "outputs": [],
   "source": []
  },
  {
   "cell_type": "code",
   "execution_count": 116,
   "metadata": {
    "collapsed": true
   },
   "outputs": [],
   "source": [
    "SUM_Bid1_15 = \\\n",
    "array(mat02_1_15)+array(mat16_1_15)+array(mat17_1_15)+array(mat20_1_15)+array(mat21_1_15)+array(mat22_1_15)+\\\n",
    "array(mat24_1_15)+array(mat27_1_15)+array(mat28_1_15)+array(mat29_1_15)\n",
    "SUM_Bid2_15 = \\\n",
    "array(mat02_2_15)+array(mat16_2_15)+array(mat17_2_15)+array(mat20_2_15)+array(mat21_2_15)+array(mat22_2_15)+\\\n",
    "array(mat24_2_15)+array(mat27_2_15)+array(mat28_2_15)+array(mat29_2_15)\n",
    "SUM_Bid3_15 = \\\n",
    "array(mat02_3_15)+array(mat16_3_15)+array(mat17_3_15)+array(mat20_3_15)+array(mat21_3_15)+array(mat22_3_15)+\\\n",
    "array(mat24_3_15)+array(mat27_3_15)+array(mat28_3_15)+array(mat29_3_15)"
   ]
  },
  {
   "cell_type": "code",
   "execution_count": 117,
   "metadata": {
    "collapsed": false
   },
   "outputs": [],
   "source": [
    "SUM_Bid1_11 = \\\n",
    "array(mat02_1_11)+array(mat16_1_11)+array(mat17_1_11)+array(mat20_1_11)+array(mat21_1_11)+array(mat22_1_11)+\\\n",
    "array(mat24_1_11)+array(mat27_1_11)+array(mat28_1_11)+array(mat29_1_11)\n",
    "SUM_Bid2_11 = \\\n",
    "array(mat02_2_11)+array(mat16_2_11)+array(mat17_2_11)+array(mat20_2_11)+array(mat21_2_11)+array(mat22_2_11)+\\\n",
    "array(mat24_2_11)+array(mat27_2_11)+array(mat28_2_11)+array(mat29_2_11)\n",
    "SUM_Bid3_11 = \\\n",
    "array(mat02_3_11)+array(mat16_3_11)+array(mat17_3_11)+array(mat20_3_11)+array(mat21_3_11)+array(mat22_3_11)+\\\n",
    "array(mat24_3_11)+array(mat27_3_11)+array(mat28_3_11)+array(mat29_3_11)"
   ]
  },
  {
   "cell_type": "code",
   "execution_count": 118,
   "metadata": {
    "collapsed": true
   },
   "outputs": [],
   "source": [
    "SUM_Bid1_13 = \\\n",
    "array(mat02_1_13)+array(mat16_1_13)+array(mat17_1_13)+array(mat20_1_13)+array(mat21_1_13)+array(mat22_1_13)+\\\n",
    "array(mat24_1_13)+array(mat27_1_13)+array(mat28_1_13)+array(mat29_1_13)\n",
    "SUM_Bid2_13 = \\\n",
    "array(mat02_2_13)+array(mat16_2_13)+array(mat17_2_13)+array(mat20_2_13)+array(mat21_2_13)+array(mat22_2_13)+\\\n",
    "array(mat24_2_13)+array(mat27_2_13)+array(mat28_2_13)+array(mat29_2_13)\n",
    "SUM_Bid3_13 = \\\n",
    "array(mat02_3_13)+array(mat16_3_13)+array(mat17_3_13)+array(mat20_3_13)+array(mat21_3_13)+array(mat22_3_13)+\\\n",
    "array(mat24_3_13)+array(mat27_3_13)+array(mat28_3_13)+array(mat29_3_13)"
   ]
  },
  {
   "cell_type": "code",
   "execution_count": 119,
   "metadata": {
    "collapsed": true
   },
   "outputs": [],
   "source": [
    "SUM_Bid1_16 = \\\n",
    "array(mat02_1_16)+array(mat16_1_16)+array(mat17_1_16)+array(mat20_1_16)+array(mat21_1_16)+array(mat22_1_16)+\\\n",
    "array(mat24_1_16)+array(mat27_1_16)+array(mat28_1_16)+array(mat29_1_16)\n",
    "SUM_Bid2_16 = \\\n",
    "array(mat02_2_16)+array(mat16_2_16)+array(mat17_2_16)+array(mat20_2_16)+array(mat21_2_16)+array(mat22_2_16)+\\\n",
    "array(mat24_2_16)+array(mat27_2_16)+array(mat28_2_16)+array(mat29_2_16)\n",
    "SUM_Bid3_16 = \\\n",
    "array(mat02_3_16)+array(mat16_3_16)+array(mat17_3_16)+array(mat20_3_16)+array(mat21_3_16)+array(mat22_3_16)+\\\n",
    "array(mat24_3_16)+array(mat27_3_16)+array(mat28_3_16)+array(mat29_3_16)"
   ]
  },
  {
   "cell_type": "code",
   "execution_count": 120,
   "metadata": {
    "collapsed": false,
    "scrolled": true
   },
   "outputs": [
    {
     "data": {
      "text/plain": [
       "array([[  3.07000000e+02,   3.23000000e+02,   3.18500000e+03,\n",
       "          2.96000000e+02,   2.20000000e+01],\n",
       "       [  2.13000000e+02,   2.89000000e+02,   2.93700000e+03,\n",
       "          2.67000000e+02,   2.20000000e+01],\n",
       "       [ -4.30000000e+01,   2.54000000e+02,   3.12800000e+03,\n",
       "          2.56000000e+02,   2.20000000e+01],\n",
       "       [  9.08000000e+02,   5.56000000e+02,   7.10800000e+03,\n",
       "          4.71000000e+02,   2.20000000e+01],\n",
       "       [  1.08704000e+05,   1.10766000e+05,   1.29522200e+06,\n",
       "          5.71660000e+04,   2.17400000e+03],\n",
       "       [  3.95000000e+02,   5.01000000e+02,   9.77000000e+02,\n",
       "          1.19000000e+02,   4.00000000e+00],\n",
       "       [  3.47000000e+02,   4.38000000e+02,   9.04000000e+02,\n",
       "          1.17000000e+02,   4.00000000e+00],\n",
       "       [  2.26000000e+02,   3.55000000e+02,   9.41000000e+02,\n",
       "          1.56000000e+02,   4.00000000e+00],\n",
       "       [  9.02000000e+02,   1.01800000e+03,   2.27400000e+03,\n",
       "          2.62000000e+02,   8.00000000e+00],\n",
       "       [  1.03971000e+05,   1.50729000e+05,   3.03538000e+05,\n",
       "          1.99970000e+04,   2.56000000e+02],\n",
       "       [  3.39000000e+02,   4.88000000e+02,   8.32000000e+02,\n",
       "          1.16000000e+02,   0.00000000e+00],\n",
       "       [  3.22000000e+02,   4.51000000e+02,   7.64000000e+02,\n",
       "          1.16000000e+02,   0.00000000e+00],\n",
       "       [  3.03000000e+02,   4.11000000e+02,   8.19000000e+02,\n",
       "          1.66000000e+02,   0.00000000e+00],\n",
       "       [  6.80000000e+02,   9.48000000e+02,   2.81800000e+03,\n",
       "          2.73000000e+02,   0.00000000e+00],\n",
       "       [  6.93100000e+04,   1.39480000e+05,   3.15308000e+05,\n",
       "          2.38790000e+04,   0.00000000e+00],\n",
       "       [  1.87000000e+02,   3.15000000e+02,   5.49000000e+02,\n",
       "          8.40000000e+01,   0.00000000e+00],\n",
       "       [  1.73000000e+02,   2.62000000e+02,   4.96000000e+02,\n",
       "          8.40000000e+01,   0.00000000e+00],\n",
       "       [  1.64000000e+02,   1.12000000e+02,   4.44000000e+02,\n",
       "          9.50000000e+01,   0.00000000e+00],\n",
       "       [  4.77000000e+02,   8.25000000e+02,   1.53500000e+03,\n",
       "          1.62000000e+02,   0.00000000e+00],\n",
       "       [  4.97680000e+04,   1.03537000e+05,   1.82161000e+05,\n",
       "          1.58260000e+04,   0.00000000e+00],\n",
       "       [  3.61000000e+02,   8.90000000e+02,   1.43200000e+03,\n",
       "          2.78000000e+02,   0.00000000e+00],\n",
       "       [  3.51000000e+02,   7.56000000e+02,   1.34000000e+03,\n",
       "          2.73000000e+02,   0.00000000e+00],\n",
       "       [  3.47000000e+02,   4.59000000e+02,   1.22000000e+03,\n",
       "          3.44000000e+02,   0.00000000e+00],\n",
       "       [  8.61000000e+02,   3.19400000e+03,   4.37900000e+03,\n",
       "          7.38000000e+02,   0.00000000e+00],\n",
       "       [  8.20250000e+04,   3.74002000e+05,   5.91064000e+05,\n",
       "          7.99070000e+04,   0.00000000e+00]])"
      ]
     },
     "execution_count": 120,
     "metadata": {},
     "output_type": "execute_result"
    }
   ],
   "source": [
    "SUM_Bid1_15"
   ]
  },
  {
   "cell_type": "code",
   "execution_count": 121,
   "metadata": {
    "collapsed": false,
    "scrolled": true
   },
   "outputs": [
    {
     "data": {
      "text/plain": [
       "array([[  3.07000000e+02,   3.23000000e+02,   3.18500000e+03,\n",
       "          2.96000000e+02,   2.20000000e+01],\n",
       "       [  2.13000000e+02,   2.78000000e+02,   2.83200000e+03,\n",
       "          2.57000000e+02,   2.20000000e+01],\n",
       "       [  1.70000000e+02,   5.01000000e+02,   5.97600000e+03,\n",
       "          5.12000000e+02,   4.40000000e+01],\n",
       "       [  1.22500000e+03,   9.43000000e+02,   1.03780000e+04,\n",
       "          8.35000000e+02,   4.40000000e+01],\n",
       "       [  1.27318000e+05,   1.34770000e+05,   1.62482600e+06,\n",
       "          8.85820000e+04,   4.00000000e+03],\n",
       "       [  3.95000000e+02,   5.01000000e+02,   9.77000000e+02,\n",
       "          1.19000000e+02,   4.00000000e+00],\n",
       "       [  3.45000000e+02,   4.10000000e+02,   8.42000000e+02,\n",
       "          1.14000000e+02,   4.00000000e+00],\n",
       "       [  5.63000000e+02,   7.18000000e+02,   1.75100000e+03,\n",
       "          2.73000000e+02,   8.00000000e+00],\n",
       "       [  1.33600000e+03,   1.67200000e+03,   3.32600000e+03,\n",
       "          3.94000000e+02,   1.20000000e+01],\n",
       "       [  1.40314000e+05,   2.00654000e+05,   4.10200000e+05,\n",
       "          2.95330000e+04,   3.40000000e+02],\n",
       "       [  3.39000000e+02,   4.88000000e+02,   8.32000000e+02,\n",
       "          1.16000000e+02,   0.00000000e+00],\n",
       "       [  3.21000000e+02,   4.09000000e+02,   6.24000000e+02,\n",
       "          1.14000000e+02,   0.00000000e+00],\n",
       "       [  6.20000000e+02,   7.77000000e+02,   1.47300000e+03,\n",
       "          2.82000000e+02,   0.00000000e+00],\n",
       "       [  1.06700000e+03,   1.70400000e+03,   3.74200000e+03,\n",
       "          3.99000000e+02,   0.00000000e+00],\n",
       "       [  1.12686000e+05,   1.96229000e+05,   4.01158000e+05,\n",
       "          3.46020000e+04,   0.00000000e+00],\n",
       "       [  1.87000000e+02,   3.15000000e+02,   5.49000000e+02,\n",
       "          8.40000000e+01,   0.00000000e+00],\n",
       "       [  1.73000000e+02,   2.38000000e+02,   4.28000000e+02,\n",
       "          8.40000000e+01,   0.00000000e+00],\n",
       "       [  3.37000000e+02,   3.00000000e+02,   8.63000000e+02,\n",
       "          1.79000000e+02,   0.00000000e+00],\n",
       "       [  6.86000000e+02,   1.40100000e+03,   2.17900000e+03,\n",
       "          2.61000000e+02,   0.00000000e+00],\n",
       "       [  6.91900000e+04,   1.40997000e+05,   2.35862000e+05,\n",
       "          3.03800000e+04,   0.00000000e+00],\n",
       "       [  3.61000000e+02,   8.90000000e+02,   1.43200000e+03,\n",
       "          2.78000000e+02,   0.00000000e+00],\n",
       "       [  3.51000000e+02,   6.84000000e+02,   1.15600000e+03,\n",
       "          2.73000000e+02,   0.00000000e+00],\n",
       "       [  6.98000000e+02,   1.02900000e+03,   2.26300000e+03,\n",
       "          6.17000000e+02,   0.00000000e+00],\n",
       "       [  1.25100000e+03,   4.60900000e+03,   6.03800000e+03,\n",
       "          1.14800000e+03,   0.00000000e+00],\n",
       "       [  1.17551000e+05,   4.84261000e+05,   7.56644000e+05,\n",
       "          1.42147000e+05,   0.00000000e+00]])"
      ]
     },
     "execution_count": 121,
     "metadata": {},
     "output_type": "execute_result"
    }
   ],
   "source": [
    "SUM_Bid2_15"
   ]
  },
  {
   "cell_type": "code",
   "execution_count": 122,
   "metadata": {
    "collapsed": false,
    "scrolled": true
   },
   "outputs": [
    {
     "data": {
      "text/plain": [
       "array([[  3.07000000e+02,   3.23000000e+02,   3.18500000e+03,\n",
       "          2.96000000e+02,   2.20000000e+01],\n",
       "       [  2.11000000e+02,   1.54000000e+02,   2.22500000e+03,\n",
       "          2.57000000e+02,   2.20000000e+01],\n",
       "       [  3.76000000e+02,   3.82000000e+02,   7.32200000e+03,\n",
       "          7.69000000e+02,   6.60000000e+01],\n",
       "       [  1.55200000e+03,   1.63800000e+03,   1.37680000e+04,\n",
       "          1.13600000e+03,   6.60000000e+01],\n",
       "       [  1.47033000e+05,   2.13728000e+05,   1.96117000e+06,\n",
       "          1.17549000e+05,   4.00000000e+03],\n",
       "       [  3.95000000e+02,   5.01000000e+02,   9.77000000e+02,\n",
       "          1.19000000e+02,   4.00000000e+00],\n",
       "       [  3.41000000e+02,   2.27000000e+02,   7.38000000e+02,\n",
       "          1.14000000e+02,   4.00000000e+00],\n",
       "       [  8.88000000e+02,   3.91000000e+02,   2.45000000e+03,\n",
       "          3.87000000e+02,   1.20000000e+01],\n",
       "       [  1.75500000e+03,   2.71500000e+03,   4.38300000e+03,\n",
       "          5.57000000e+02,   1.60000000e+01],\n",
       "       [  1.60018000e+05,   3.28982000e+05,   5.07710000e+05,\n",
       "          4.50050000e+04,   4.28000000e+02],\n",
       "       [  3.39000000e+02,   4.88000000e+02,   8.32000000e+02,\n",
       "          1.16000000e+02,   0.00000000e+00],\n",
       "       [  3.18000000e+02,   2.25000000e+02,   4.87000000e+02,\n",
       "          1.14000000e+02,   0.00000000e+00],\n",
       "       [  9.32000000e+02,   4.52000000e+02,   1.85200000e+03,\n",
       "          3.96000000e+02,   0.00000000e+00],\n",
       "       [  1.41200000e+03,   2.77100000e+03,   4.68600000e+03,\n",
       "          5.67000000e+02,   0.00000000e+00],\n",
       "       [  1.32742000e+05,   3.36806000e+05,   4.91745000e+05,\n",
       "          5.54390000e+04,   0.00000000e+00],\n",
       "       [  1.87000000e+02,   3.15000000e+02,   5.49000000e+02,\n",
       "          8.40000000e+01,   0.00000000e+00],\n",
       "       [  1.73000000e+02,   2.24000000e+02,   3.55000000e+02,\n",
       "          8.40000000e+01,   0.00000000e+00],\n",
       "       [  5.10000000e+02,   4.97000000e+02,   1.14100000e+03,\n",
       "          2.63000000e+02,   0.00000000e+00],\n",
       "       [  8.74000000e+02,   1.81900000e+03,   2.81100000e+03,\n",
       "          3.67000000e+02,   0.00000000e+00],\n",
       "       [  8.14170000e+04,   1.77755000e+05,   3.10851000e+05,\n",
       "          4.58390000e+04,   0.00000000e+00],\n",
       "       [  3.61000000e+02,   8.90000000e+02,   1.43200000e+03,\n",
       "          2.78000000e+02,   0.00000000e+00],\n",
       "       [  3.43000000e+02,   6.06000000e+02,   1.04500000e+03,\n",
       "          2.73000000e+02,   0.00000000e+00],\n",
       "       [  1.00900000e+03,   1.57900000e+03,   3.24000000e+03,\n",
       "          8.90000000e+02,   0.00000000e+00],\n",
       "       [  1.64800000e+03,   5.57100000e+03,   7.60100000e+03,\n",
       "          1.45400000e+03,   0.00000000e+00],\n",
       "       [  1.44570000e+05,   5.42526000e+05,   8.77802000e+05,\n",
       "          1.71068000e+05,   0.00000000e+00]])"
      ]
     },
     "execution_count": 122,
     "metadata": {},
     "output_type": "execute_result"
    }
   ],
   "source": [
    "SUM_Bid3_15"
   ]
  },
  {
   "cell_type": "code",
   "execution_count": 123,
   "metadata": {
    "collapsed": false,
    "scrolled": true
   },
   "outputs": [
    {
     "data": {
      "text/plain": [
       "array([[  6.81000000e+02,   2.27200000e+03,   5.03200000e+03,\n",
       "          8.14000000e+02,   5.97000000e+02],\n",
       "       [  6.11000000e+02,   1.99700000e+03,   4.29500000e+03,\n",
       "          6.88000000e+02,   4.85000000e+02],\n",
       "       [  4.38000000e+02,   1.45000000e+03,   2.34800000e+03,\n",
       "          4.50000000e+02,   2.79000000e+02],\n",
       "       [  1.36800000e+03,   4.89900000e+03,   1.30230000e+04,\n",
       "          2.67600000e+03,   2.21900000e+03],\n",
       "       [  3.06597000e+05,   5.72221000e+05,   1.48155600e+06,\n",
       "          2.85690000e+05,   7.91150000e+04],\n",
       "       [  6.71000000e+02,   2.38300000e+03,   6.59000000e+03,\n",
       "          1.12700000e+03,   6.71000000e+02],\n",
       "       [  5.30000000e+02,   1.93700000e+03,   5.24200000e+03,\n",
       "          8.36000000e+02,   5.22000000e+02],\n",
       "       [ -1.45000000e+02,   7.05000000e+02,   1.67700000e+03,\n",
       "          1.24000000e+02,   2.85000000e+02],\n",
       "       [  2.24100000e+03,   6.67200000e+03,   1.88450000e+04,\n",
       "          3.88100000e+03,   2.79100000e+03],\n",
       "       [  4.10603000e+05,   8.92947000e+05,   2.38203900e+06,\n",
       "          4.31745000e+05,   1.07201000e+05],\n",
       "       [  6.58000000e+02,   2.74600000e+03,   7.92600000e+03,\n",
       "          1.30500000e+03,   6.73000000e+02],\n",
       "       [  4.53000000e+02,   2.09900000e+03,   5.97900000e+03,\n",
       "          9.20000000e+02,   5.57000000e+02],\n",
       "       [ -4.67000000e+02,  -9.00000000e+01,   1.41500000e+03,\n",
       "         -7.20000000e+01,   3.68000000e+02],\n",
       "       [  2.68300000e+03,   8.96400000e+03,   2.47510000e+04,\n",
       "          5.03100000e+03,   2.69100000e+03],\n",
       "       [  4.36868000e+05,   1.19521600e+06,   3.26247100e+06,\n",
       "          5.61127000e+05,   1.15769000e+05],\n",
       "       [  5.32000000e+02,   2.02800000e+03,   6.17300000e+03,\n",
       "          1.01900000e+03,   3.33000000e+02],\n",
       "       [  3.03000000e+02,   1.43900000e+03,   4.22800000e+03,\n",
       "          7.01000000e+02,   2.39000000e+02],\n",
       "       [ -9.05000000e+02,  -2.40000000e+02,  -1.09700000e+03,\n",
       "         -2.02000000e+02,   8.00000000e+01],\n",
       "       [  2.91000000e+03,   6.98000000e+03,   2.15390000e+04,\n",
       "          4.19100000e+03,   1.59700000e+03],\n",
       "       [  3.91885000e+05,   9.97038000e+05,   2.87993800e+06,\n",
       "          4.86126000e+05,   5.71600000e+04],\n",
       "       [  1.05300000e+03,   3.43100000e+03,   9.10000000e+03,\n",
       "          1.81200000e+03,   3.73000000e+02],\n",
       "       [  4.72000000e+02,   2.18800000e+03,   5.46500000e+03,\n",
       "          1.21300000e+03,   2.74000000e+02],\n",
       "       [ -3.08100000e+03,  -1.81400000e+03,  -5.37600000e+03,\n",
       "         -9.62000000e+02,   7.00000000e+00],\n",
       "       [  6.78800000e+03,   1.31450000e+04,   3.63830000e+04,\n",
       "          7.19300000e+03,   1.67700000e+03],\n",
       "       [  7.61707000e+05,   1.76006300e+06,   4.81826100e+06,\n",
       "          8.83083000e+05,   5.17820000e+04]])"
      ]
     },
     "execution_count": 123,
     "metadata": {},
     "output_type": "execute_result"
    }
   ],
   "source": [
    "SUM_Bid1_11"
   ]
  },
  {
   "cell_type": "code",
   "execution_count": 124,
   "metadata": {
    "collapsed": false,
    "scrolled": true
   },
   "outputs": [
    {
     "data": {
      "text/plain": [
       "array([[  6.81000000e+02,   2.27200000e+03,   5.03200000e+03,\n",
       "          8.14000000e+02,   5.97000000e+02],\n",
       "       [  4.64000000e+02,   1.79300000e+03,   3.80600000e+03,\n",
       "          6.09000000e+02,   4.63000000e+02],\n",
       "       [  7.10000000e+02,   2.58400000e+03,   5.36200000e+03,\n",
       "          8.59000000e+02,   6.97000000e+02],\n",
       "       [  2.49600000e+03,   7.99600000e+03,   1.97880000e+04,\n",
       "          3.79400000e+03,   3.03700000e+03],\n",
       "       [  4.57018000e+05,   9.63459000e+05,   2.19073500e+06,\n",
       "          3.86826000e+05,   1.40097000e+05],\n",
       "       [  6.71000000e+02,   2.38300000e+03,   6.59000000e+03,\n",
       "          1.12700000e+03,   6.71000000e+02],\n",
       "       [  3.87000000e+02,   1.58300000e+03,   4.33500000e+03,\n",
       "          6.36000000e+02,   4.83000000e+02],\n",
       "       [ -3.45000000e+02,   1.15400000e+03,   4.33800000e+03,\n",
       "          5.28000000e+02,   7.12000000e+02],\n",
       "       [  3.67200000e+03,   1.03370000e+04,   2.78290000e+04,\n",
       "          5.35300000e+03,   3.64300000e+03],\n",
       "       [  5.88769000e+05,   1.35722200e+06,   3.40822300e+06,\n",
       "          6.32272000e+05,   1.38014000e+05],\n",
       "       [  6.58000000e+02,   2.74600000e+03,   7.92600000e+03,\n",
       "          1.30500000e+03,   6.73000000e+02],\n",
       "       [  3.42000000e+02,   1.67500000e+03,   4.58300000e+03,\n",
       "          6.55000000e+02,   5.21000000e+02],\n",
       "       [ -5.70000000e+02,   5.27000000e+02,   3.36500000e+03,\n",
       "          2.80000000e+02,   8.53000000e+02],\n",
       "       [  3.85800000e+03,   1.29260000e+04,   3.52310000e+04,\n",
       "          6.72900000e+03,   3.52300000e+03],\n",
       "       [  5.58605000e+05,   1.67775400e+06,   4.49661200e+06,\n",
       "          8.02401000e+05,   1.49587000e+05],\n",
       "       [  5.32000000e+02,   2.02800000e+03,   6.17300000e+03,\n",
       "          1.01900000e+03,   3.33000000e+02],\n",
       "       [  2.06000000e+02,   1.00700000e+03,   3.08100000e+03,\n",
       "          4.60000000e+02,   2.14000000e+02],\n",
       "       [ -1.21700000e+03,  -3.59000000e+02,   6.10000000e+01,\n",
       "          4.10000000e+01,   2.83000000e+02],\n",
       "       [  3.94300000e+03,   1.01910000e+04,   2.95530000e+04,\n",
       "          5.39000000e+03,   1.97800000e+03],\n",
       "       [  4.95863000e+05,   1.32705200e+06,   3.84031500e+06,\n",
       "          6.70534000e+05,   6.38370000e+04],\n",
       "       [  1.05300000e+03,   3.43100000e+03,   9.10000000e+03,\n",
       "          1.81200000e+03,   3.73000000e+02],\n",
       "       [  3.20000000e+02,   1.54400000e+03,   3.89500000e+03,\n",
       "          9.31000000e+02,   2.55000000e+02],\n",
       "       [ -3.37300000e+03,  -2.08800000e+03,  -4.15900000e+03,\n",
       "         -3.50000000e+02,   2.39000000e+02],\n",
       "       [  8.57600000e+03,   1.84580000e+04,   4.86450000e+04,\n",
       "          9.30500000e+03,   2.15100000e+03],\n",
       "       [  8.85957000e+05,   2.29623300e+06,   6.20942700e+06,\n",
       "          1.11266900e+06,   6.55610000e+04]])"
      ]
     },
     "execution_count": 124,
     "metadata": {},
     "output_type": "execute_result"
    }
   ],
   "source": [
    "SUM_Bid2_11"
   ]
  },
  {
   "cell_type": "code",
   "execution_count": 125,
   "metadata": {
    "collapsed": false,
    "scrolled": true
   },
   "outputs": [
    {
     "data": {
      "text/plain": [
       "array([[  6.81000000e+02,   2.27200000e+03,   5.03200000e+03,\n",
       "          8.14000000e+02,   5.97000000e+02],\n",
       "       [  3.42000000e+02,   1.41900000e+03,   2.90800000e+03,\n",
       "          5.33000000e+02,   4.26000000e+02],\n",
       "       [  1.05400000e+03,   3.21700000e+03,   6.64000000e+03,\n",
       "          1.31300000e+03,   1.10200000e+03],\n",
       "       [  3.21200000e+03,   1.09100000e+04,   2.59970000e+04,\n",
       "          4.66500000e+03,   3.64600000e+03],\n",
       "       [  5.45745000e+05,   1.32030700e+06,   2.96199800e+06,\n",
       "          4.84770000e+05,   1.55777000e+05],\n",
       "       [  6.71000000e+02,   2.38300000e+03,   6.59000000e+03,\n",
       "          1.12700000e+03,   6.71000000e+02],\n",
       "       [  2.52000000e+02,   1.12800000e+03,   3.26600000e+03,\n",
       "          5.25000000e+02,   4.18000000e+02],\n",
       "       [ -1.25000000e+02,   1.49800000e+03,   5.74300000e+03,\n",
       "          9.24000000e+02,   1.02700000e+03],\n",
       "       [  4.41800000e+03,   1.32640000e+04,   3.60410000e+04,\n",
       "          6.56700000e+03,   4.37000000e+03],\n",
       "       [  6.85185000e+05,   1.69410000e+06,   4.33451400e+06,\n",
       "          7.36770000e+05,   1.49415000e+05],\n",
       "       [  6.58000000e+02,   2.74600000e+03,   7.92600000e+03,\n",
       "          1.30500000e+03,   6.73000000e+02],\n",
       "       [  2.37000000e+02,   1.21400000e+03,   3.63500000e+03,\n",
       "          4.59000000e+02,   4.52000000e+02],\n",
       "       [ -3.76000000e+02,   6.44000000e+02,   5.76300000e+03,\n",
       "          4.68000000e+02,   1.17900000e+03],\n",
       "       [  4.58500000e+03,   1.65470000e+04,   4.40230000e+04,\n",
       "          8.12800000e+03,   4.26300000e+03],\n",
       "       [  6.55372000e+05,   2.04390200e+06,   5.34007800e+06,\n",
       "          9.35497000e+05,   1.56273000e+05],\n",
       "       [  5.32000000e+02,   2.02800000e+03,   6.17300000e+03,\n",
       "          1.01900000e+03,   3.33000000e+02],\n",
       "       [  1.46000000e+02,   7.18000000e+02,   2.44600000e+03,\n",
       "          3.26000000e+02,   1.55000000e+02],\n",
       "       [ -1.15300000e+03,  -1.01000000e+02,   1.84500000e+03,\n",
       "          1.91000000e+02,   3.14000000e+02],\n",
       "       [  4.57100000e+03,   1.25880000e+04,   3.62340000e+04,\n",
       "          6.47600000e+03,   2.36100000e+03],\n",
       "       [  5.67667000e+05,   1.54440200e+06,   4.39230400e+06,\n",
       "          7.64247000e+05,   4.55220000e+04],\n",
       "       [  1.05300000e+03,   3.43100000e+03,   9.10000000e+03,\n",
       "          1.81200000e+03,   3.73000000e+02],\n",
       "       [  2.63000000e+02,   1.00500000e+03,   3.06400000e+03,\n",
       "          7.03000000e+02,   2.23000000e+02],\n",
       "       [ -3.12400000e+03,  -2.01200000e+03,  -1.85400000e+03,\n",
       "          1.04000000e+02,   3.69000000e+02],\n",
       "       [  9.65700000e+03,   2.25060000e+04,   5.85040000e+04,\n",
       "          1.12310000e+04,   2.57500000e+03],\n",
       "       [  9.42291000e+05,   2.67955800e+06,   6.82570500e+06,\n",
       "          1.26861500e+06,   7.24990000e+04]])"
      ]
     },
     "execution_count": 125,
     "metadata": {},
     "output_type": "execute_result"
    }
   ],
   "source": [
    "SUM_Bid3_11"
   ]
  },
  {
   "cell_type": "code",
   "execution_count": 126,
   "metadata": {
    "collapsed": false,
    "scrolled": true
   },
   "outputs": [
    {
     "data": {
      "text/plain": [
       "array([[  7.60000000e+01,   2.32000000e+02,   1.87280000e+04,\n",
       "          7.57000000e+02,   9.20000000e+01],\n",
       "       [  2.30000000e+01,   3.20000000e+01,   3.08100000e+03,\n",
       "          2.78000000e+02,   7.40000000e+01],\n",
       "       [ -1.01000000e+02,   8.00000000e+01,  -4.88000000e+03,\n",
       "          5.03000000e+02,   5.80000000e+01],\n",
       "       [  2.95000000e+02,   4.66000000e+02,   3.47580000e+04,\n",
       "          1.04600000e+03,   2.26000000e+02],\n",
       "       [  6.47080000e+04,   1.89330000e+05,   1.54237720e+07,\n",
       "          4.81045000e+05,   6.03600000e+03],\n",
       "       [  4.30000000e+01,   3.34000000e+02,   1.45650000e+04,\n",
       "          5.73000000e+02,   1.90000000e+02],\n",
       "       [  1.20000000e+01,   7.10000000e+01,   1.62400000e+03,\n",
       "          4.11000000e+02,   1.60000000e+02],\n",
       "       [ -6.60000000e+01,   1.80000000e+01,   1.00500000e+03,\n",
       "          2.30000000e+01,   1.39000000e+02],\n",
       "       [  1.85000000e+02,   9.02000000e+02,   1.90880000e+04,\n",
       "          1.51900000e+03,   5.01000000e+02],\n",
       "       [  5.53340000e+04,   2.48071000e+05,   1.22266020e+07,\n",
       "          2.35038000e+05,   4.20780000e+04],\n",
       "       [  8.90000000e+01,   5.60000000e+02,   6.97900000e+03,\n",
       "          7.84000000e+02,   1.47000000e+02],\n",
       "       [  2.40000000e+01,   1.00000000e+02,   2.00100000e+03,\n",
       "          5.84000000e+02,   8.40000000e+01],\n",
       "       [ -8.10000000e+01,   2.05000000e+02,   3.10000000e+02,\n",
       "          6.50000000e+01,   9.00000000e+01],\n",
       "       [  3.77000000e+02,   1.52900000e+03,   1.50040000e+04,\n",
       "          2.48800000e+03,   5.36000000e+02],\n",
       "       [  1.15914000e+05,   4.43135000e+05,   5.07533500e+06,\n",
       "          3.89259000e+05,   1.49050000e+04],\n",
       "       [  7.90000000e+01,   4.59000000e+02,   5.92000000e+03,\n",
       "          4.76000000e+02,   1.06000000e+02],\n",
       "       [  3.00000000e+01,   5.80000000e+01,   1.78400000e+03,\n",
       "          3.65000000e+02,   7.70000000e+01],\n",
       "       [ -9.60000000e+01,   5.60000000e+01,  -5.86000000e+02,\n",
       "          2.11000000e+02,   7.30000000e+01],\n",
       "       [  3.36000000e+02,   1.39600000e+03,   1.44460000e+04,\n",
       "          1.37800000e+03,   3.59000000e+02],\n",
       "       [  7.18420000e+04,   3.75047000e+05,   4.35507000e+06,\n",
       "          2.16839000e+05,   2.27180000e+04],\n",
       "       [  1.30000000e+02,   1.04800000e+03,   1.89390000e+04,\n",
       "          5.48000000e+02,   1.46000000e+02],\n",
       "       [  2.00000000e+01,   1.75000000e+02,   3.80600000e+03,\n",
       "          2.91000000e+02,   1.09000000e+02],\n",
       "       [ -3.07000000e+02,  -7.20000000e+02,  -1.00600000e+03,\n",
       "         -1.14700000e+03,   1.04000000e+02],\n",
       "       [  6.96000000e+02,   3.36200000e+03,   3.91270000e+04,\n",
       "          3.05400000e+03,   4.47000000e+02],\n",
       "       [  1.33336000e+05,   8.33108000e+05,   1.53170790e+07,\n",
       "          3.33837000e+05,   4.51780000e+04]])"
      ]
     },
     "execution_count": 126,
     "metadata": {},
     "output_type": "execute_result"
    }
   ],
   "source": [
    "SUM_Bid1_13"
   ]
  },
  {
   "cell_type": "code",
   "execution_count": 127,
   "metadata": {
    "collapsed": false,
    "scrolled": true
   },
   "outputs": [
    {
     "data": {
      "text/plain": [
       "array([[  7.60000000e+01,   2.32000000e+02,   1.87280000e+04,\n",
       "          7.57000000e+02,   9.20000000e+01],\n",
       "       [  1.80000000e+01,   1.00000000e+01,   1.29200000e+03,\n",
       "          2.39000000e+02,   6.40000000e+01],\n",
       "       [ -1.03000000e+02,   8.40000000e+01,  -5.73800000e+03,\n",
       "          6.97000000e+02,   1.26000000e+02],\n",
       "       [  3.91000000e+02,   7.20000000e+02,   5.62790000e+04,\n",
       "          1.89200000e+03,   3.33000000e+02],\n",
       "       [  7.80070000e+04,   2.00195000e+05,   1.62795340e+07,\n",
       "          5.48083000e+05,   1.88060000e+04],\n",
       "       [  4.30000000e+01,   3.34000000e+02,   1.45650000e+04,\n",
       "          5.73000000e+02,   1.90000000e+02],\n",
       "       [  9.00000000e+00,   1.20000000e+01,   8.19000000e+02,\n",
       "          3.57000000e+02,   1.03000000e+02],\n",
       "       [ -6.90000000e+01,  -7.30000000e+01,   1.52000000e+03,\n",
       "          3.18000000e+02,   2.90000000e+02],\n",
       "       [  2.40000000e+02,   1.28300000e+03,   3.44280000e+04,\n",
       "          2.23600000e+03,   7.00000000e+02],\n",
       "       [  1.09391000e+05,   2.90524000e+05,   1.26770060e+07,\n",
       "          3.43250000e+05,   3.56300000e+04],\n",
       "       [  8.90000000e+01,   5.60000000e+02,   6.97900000e+03,\n",
       "          7.84000000e+02,   1.47000000e+02],\n",
       "       [  1.60000000e+01,   3.80000000e+01,   1.39000000e+03,\n",
       "          4.36000000e+02,   6.80000000e+01],\n",
       "       [ -9.70000000e+01,   2.23000000e+02,   1.08700000e+03,\n",
       "          2.41000000e+02,   1.69000000e+02],\n",
       "       [  4.99000000e+02,   2.12400000e+03,   2.27620000e+04,\n",
       "          3.64700000e+03,   6.84000000e+02],\n",
       "       [  1.37696000e+05,   4.84541000e+05,   5.63550400e+06,\n",
       "          5.56219000e+05,   2.20000000e+04],\n",
       "       [  7.90000000e+01,   4.59000000e+02,   5.92000000e+03,\n",
       "          4.76000000e+02,   1.06000000e+02],\n",
       "       [  3.00000000e+00,   3.20000000e+01,   1.09000000e+03,\n",
       "          2.67000000e+02,   4.50000000e+01],\n",
       "       [ -2.01000000e+02,   5.10000000e+01,   5.50000000e+01,\n",
       "          3.04000000e+02,   1.37000000e+02],\n",
       "       [  5.25000000e+02,   1.88400000e+03,   2.10900000e+04,\n",
       "          2.09100000e+03,   4.71000000e+02],\n",
       "       [  1.23628000e+05,   3.93901000e+05,   4.88542900e+06,\n",
       "          3.21092000e+05,   2.04700000e+04],\n",
       "       [  1.30000000e+02,   1.04800000e+03,   1.89390000e+04,\n",
       "          5.48000000e+02,   1.46000000e+02],\n",
       "       [  3.00000000e+00,   1.36000000e+02,   1.84900000e+03,\n",
       "          2.10000000e+02,   2.40000000e+01],\n",
       "       [ -3.72000000e+02,  -6.71000000e+02,   3.21000000e+02,\n",
       "         -1.03900000e+03,   1.69000000e+02],\n",
       "       [  8.96000000e+02,   4.51600000e+03,   5.86330000e+04,\n",
       "          3.76600000e+03,   5.93000000e+02],\n",
       "       [  2.24459000e+05,   8.71267000e+05,   1.63038010e+07,\n",
       "          4.28944000e+05,   6.51800000e+03]])"
      ]
     },
     "execution_count": 127,
     "metadata": {},
     "output_type": "execute_result"
    }
   ],
   "source": [
    "SUM_Bid2_13"
   ]
  },
  {
   "cell_type": "code",
   "execution_count": 128,
   "metadata": {
    "collapsed": false,
    "scrolled": true
   },
   "outputs": [
    {
     "data": {
      "text/plain": [
       "array([[  7.60000000e+01,   2.32000000e+02,   1.87280000e+04,\n",
       "          7.57000000e+02,   9.20000000e+01],\n",
       "       [  8.00000000e+00,   1.00000000e+01,   5.21000000e+02,\n",
       "          2.11000000e+02,   4.40000000e+01],\n",
       "       [ -1.35000000e+02,   9.40000000e+01,  -6.04800000e+03,\n",
       "          8.82000000e+02,   1.87000000e+02],\n",
       "       [  5.07000000e+02,   9.52000000e+02,   7.51630000e+04,\n",
       "          2.65700000e+03,   4.25000000e+02],\n",
       "       [  1.05299000e+05,   2.00265000e+05,   1.66102150e+07,\n",
       "          5.91859000e+05,   1.15110000e+04],\n",
       "       [  4.30000000e+01,   3.34000000e+02,   1.45650000e+04,\n",
       "          5.73000000e+02,   1.90000000e+02],\n",
       "       [  2.00000000e+00,   1.00000000e+01,   5.26000000e+02,\n",
       "          2.41000000e+02,   5.50000000e+01],\n",
       "       [ -9.50000000e+01,  -6.90000000e+01,   1.83000000e+03,\n",
       "          4.86000000e+02,   3.83000000e+02],\n",
       "       [  3.11000000e+02,   1.62400000e+03,   4.91150000e+04,\n",
       "          2.82700000e+03,   8.90000000e+02],\n",
       "       [  1.58616000e+05,   2.92468000e+05,   1.28762360e+07,\n",
       "          4.19945000e+05,   1.97580000e+04],\n",
       "       [  8.90000000e+01,   5.60000000e+02,   6.97900000e+03,\n",
       "          7.84000000e+02,   1.47000000e+02],\n",
       "       [  1.00000000e+00,   1.30000000e+01,   9.03000000e+02,\n",
       "          2.12000000e+02,   4.40000000e+01],\n",
       "       [ -1.54000000e+02,   2.25000000e+02,   1.80000000e+03,\n",
       "          3.26000000e+02,   2.26000000e+02],\n",
       "       [  6.46000000e+02,   2.69100000e+03,   2.98790000e+04,\n",
       "          4.49000000e+03,   8.31000000e+02],\n",
       "       [  1.72011000e+05,   4.93299000e+05,   5.96737700e+06,\n",
       "          6.38482000e+05,   1.05700000e+04],\n",
       "       [  7.90000000e+01,   4.59000000e+02,   5.92000000e+03,\n",
       "          4.76000000e+02,   1.06000000e+02],\n",
       "       [  0.00000000e+00,   6.00000000e+00,   5.46000000e+02,\n",
       "          1.56000000e+02,   1.20000000e+01],\n",
       "       [ -2.13000000e+02,   4.90000000e+01,   6.58000000e+02,\n",
       "          4.14000000e+02,   1.67000000e+02],\n",
       "       [  6.15000000e+02,   2.34300000e+03,   2.71120000e+04,\n",
       "          2.57900000e+03,   5.77000000e+02],\n",
       "       [  1.55700000e+05,   4.08085000e+05,   5.09683300e+06,\n",
       "          3.66289000e+05,   3.70900000e+03],\n",
       "       [  1.30000000e+02,   1.04800000e+03,   1.89390000e+04,\n",
       "          5.48000000e+02,   1.46000000e+02],\n",
       "       [  0.00000000e+00,   2.00000000e+00,   8.84000000e+02,\n",
       "          1.10000000e+02,   1.00000000e+01],\n",
       "       [ -3.82000000e+02,  -7.81000000e+02,   8.51000000e+02,\n",
       "         -9.39000000e+02,   1.81000000e+02],\n",
       "       [  1.03500000e+03,   5.56800000e+03,   7.76380000e+04,\n",
       "          4.33200000e+03,   7.39000000e+02],\n",
       "       [  2.39400000e+05,   9.41539000e+05,   1.67832640e+07,\n",
       "          4.61736000e+05,   3.05900000e+03]])"
      ]
     },
     "execution_count": 128,
     "metadata": {},
     "output_type": "execute_result"
    }
   ],
   "source": [
    "SUM_Bid3_13"
   ]
  },
  {
   "cell_type": "code",
   "execution_count": 129,
   "metadata": {
    "collapsed": false,
    "scrolled": true
   },
   "outputs": [
    {
     "data": {
      "text/plain": [
       "array([[  2.00000000e+00,   5.65000000e+02,   2.03760000e+04,\n",
       "          2.05200000e+03,   2.39000000e+02],\n",
       "       [  2.00000000e+00,   2.71000000e+02,   1.15910000e+04,\n",
       "          1.00100000e+03,   7.10000000e+01],\n",
       "       [  2.00000000e+00,  -1.14000000e+02,   5.61620000e+03,\n",
       "         -7.20000000e+01,  -3.57000000e+02],\n",
       "       [  4.00000000e+00,   5.59100000e+03,   3.48820000e+04,\n",
       "          4.07900000e+03,   1.25000000e+03],\n",
       "       [  1.52985000e+05,   2.86746000e+05,   1.12475190e+07,\n",
       "          1.18168000e+06,   3.05760000e+04],\n",
       "       [  7.00000000e+00,   1.11100000e+03,   1.78990000e+04,\n",
       "          1.64300000e+03,   1.58000000e+02],\n",
       "       [  7.00000000e+00,   6.37000000e+02,   9.39500000e+03,\n",
       "          8.71000000e+02,   6.50000000e+01],\n",
       "       [  7.00000000e+00,   2.77000000e+02,   1.30440000e+03,\n",
       "          1.81000000e+02,  -7.50000000e+01],\n",
       "       [  2.00000000e+01,   2.64300000e+03,   3.97450000e+04,\n",
       "          3.70900000e+03,   6.48000000e+02],\n",
       "       [  8.92500000e+04,   6.29678000e+05,   1.09015150e+07,\n",
       "          1.03081000e+06,   2.81710000e+04],\n",
       "       [  6.00000000e+00,   1.62800000e+03,   1.80160000e+04,\n",
       "          1.31900000e+03,   1.27000000e+02],\n",
       "       [  6.00000000e+00,   8.97000000e+02,   8.04000000e+03,\n",
       "          7.59000000e+02,   8.00000000e+01],\n",
       "       [  6.00000000e+00,  -2.47000000e+02,  -1.64880000e+03,\n",
       "          3.66000000e+02,   2.00000000e+00],\n",
       "       [  1.30000000e+01,   4.35400000e+03,   4.50050000e+04,\n",
       "          2.97800000e+03,   4.90000000e+02],\n",
       "       [  4.74720000e+04,   9.57479000e+05,   1.19781090e+07,\n",
       "          7.24421000e+05,   2.34560000e+04],\n",
       "       [  1.00000000e+00,   1.15600000e+03,   1.23210000e+04,\n",
       "          1.14500000e+03,   1.03000000e+02],\n",
       "       [  1.00000000e+00,   5.07000000e+02,   5.31900000e+03,\n",
       "          5.17000000e+02,   6.60000000e+01],\n",
       "       [  1.00000000e+00,  -2.41000000e+02,  -2.10100000e+03,\n",
       "          5.10000000e+01,   9.00000000e+00],\n",
       "       [  2.00000000e+00,   3.41600000e+03,   3.31200000e+04,\n",
       "          2.88500000e+03,   4.05000000e+02],\n",
       "       [  3.41780000e+04,   7.44383000e+05,   8.42508400e+06,\n",
       "          6.88594000e+05,   2.13520000e+04],\n",
       "       [  5.30000000e+01,   3.17000000e+03,   2.34960000e+04,\n",
       "          1.19100000e+03,   2.16000000e+02],\n",
       "       [  5.30000000e+01,   9.28000000e+02,   8.48900000e+03,\n",
       "          3.74000000e+02,   1.98000000e+02],\n",
       "       [  5.30000000e+01,  -2.52400000e+03,  -1.48760000e+04,\n",
       "         -1.24000000e+02,   1.78000000e+02],\n",
       "       [  1.48000000e+02,   1.33380000e+04,   6.56630000e+04,\n",
       "          3.25900000e+03,   5.89000000e+02],\n",
       "       [  5.98970000e+04,   2.14116400e+06,   1.64248240e+07,\n",
       "          8.36351000e+05,   6.56410000e+04]])"
      ]
     },
     "execution_count": 129,
     "metadata": {},
     "output_type": "execute_result"
    }
   ],
   "source": [
    "SUM_Bid1_16"
   ]
  },
  {
   "cell_type": "code",
   "execution_count": 130,
   "metadata": {
    "collapsed": false,
    "scrolled": true
   },
   "outputs": [
    {
     "data": {
      "text/plain": [
       "array([[  2.00000000e+00,   5.65000000e+02,   2.03760000e+04,\n",
       "          2.05200000e+03,   2.39000000e+02],\n",
       "       [  0.00000000e+00,   2.06000000e+02,   5.60900000e+03,\n",
       "          5.61000000e+02,   3.30000000e+01],\n",
       "       [  4.00000000e+00,   7.00000000e+01,   7.14960000e+03,\n",
       "          4.99000000e+02,  -3.32000000e+02],\n",
       "       [  6.00000000e+00,   8.88100000e+03,   5.89080000e+04,\n",
       "          6.26400000e+03,   1.48900000e+03],\n",
       "       [  1.87200000e+05,   3.80714000e+05,   1.48509420e+07,\n",
       "          1.52306700e+06,   2.29730000e+04],\n",
       "       [  7.00000000e+00,   1.11100000e+03,   1.78990000e+04,\n",
       "          1.64300000e+03,   1.58000000e+02],\n",
       "       [  0.00000000e+00,   4.03000000e+02,   3.98500000e+03,\n",
       "          3.89000000e+02,   4.70000000e+01],\n",
       "       [  2.00000000e+00,   5.54000000e+02,  -2.76000000e+01,\n",
       "          5.68000000e+02,  -4.60000000e+01],\n",
       "       [  2.70000000e+01,   3.80900000e+03,   6.02580000e+04,\n",
       "          5.46000000e+03,   8.06000000e+02],\n",
       "       [  1.06200000e+05,   8.18370000e+05,   1.39084180e+07,\n",
       "          1.29422500e+06,   2.85960000e+04],\n",
       "       [  6.00000000e+00,   1.62800000e+03,   1.80160000e+04,\n",
       "          1.31900000e+03,   1.27000000e+02],\n",
       "       [  0.00000000e+00,   5.31000000e+02,   3.50500000e+03,\n",
       "          3.94000000e+02,   7.70000000e+01],\n",
       "       [  1.00000000e+01,   1.31000000e+02,  -1.83300000e+03,\n",
       "          6.63000000e+02,   7.90000000e+01],\n",
       "       [  1.90000000e+01,   6.02900000e+03,   6.46380000e+04,\n",
       "          4.39100000e+03,   6.17000000e+02],\n",
       "       [  5.04000000e+04,   1.21249100e+06,   1.43934240e+07,\n",
       "          9.66876000e+05,   3.07480000e+04],\n",
       "       [  1.00000000e+00,   1.15600000e+03,   1.23210000e+04,\n",
       "          1.14500000e+03,   1.03000000e+02],\n",
       "       [  0.00000000e+00,   2.89000000e+02,   1.90100000e+03,\n",
       "          3.04000000e+02,   6.60000000e+01],\n",
       "       [  2.00000000e+00,  -1.31000000e+02,  -2.49960000e+03,\n",
       "          2.26000000e+02,   7.50000000e+01],\n",
       "       [  3.00000000e+00,   4.59600000e+03,   4.63420000e+04,\n",
       "          4.14600000e+03,   5.08000000e+02],\n",
       "       [  3.42000000e+04,   8.82509000e+05,   1.00329670e+07,\n",
       "          8.44770000e+05,   3.02100000e+04],\n",
       "       [  5.30000000e+01,   3.17000000e+03,   2.34960000e+04,\n",
       "          1.19100000e+03,   2.16000000e+02],\n",
       "       [  0.00000000e+00,   3.69000000e+02,   2.62600000e+03,\n",
       "          2.56000000e+02,   1.90000000e+02],\n",
       "       [  3.80000000e+01,  -2.60300000e+03,  -1.80408000e+04,\n",
       "          7.70000000e+01,   3.68000000e+02],\n",
       "       [  2.01000000e+02,   1.80310000e+04,   9.03680000e+04,\n",
       "          4.46400000e+03,   8.05000000e+02],\n",
       "       [  7.11000000e+04,   2.49774200e+06,   1.89439630e+07,\n",
       "          9.36582000e+05,   8.60630000e+04]])"
      ]
     },
     "execution_count": 130,
     "metadata": {},
     "output_type": "execute_result"
    }
   ],
   "source": [
    "SUM_Bid2_16"
   ]
  },
  {
   "cell_type": "code",
   "execution_count": null,
   "metadata": {
    "collapsed": true
   },
   "outputs": [],
   "source": []
  },
  {
   "cell_type": "code",
   "execution_count": null,
   "metadata": {
    "collapsed": true
   },
   "outputs": [],
   "source": []
  },
  {
   "cell_type": "code",
   "execution_count": null,
   "metadata": {
    "collapsed": true
   },
   "outputs": [],
   "source": []
  },
  {
   "cell_type": "code",
   "execution_count": null,
   "metadata": {
    "collapsed": true
   },
   "outputs": [],
   "source": []
  },
  {
   "cell_type": "code",
   "execution_count": null,
   "metadata": {
    "collapsed": true
   },
   "outputs": [],
   "source": []
  },
  {
   "cell_type": "code",
   "execution_count": 131,
   "metadata": {
    "collapsed": false
   },
   "outputs": [
    {
     "data": {
      "text/html": [
       "<div>\n",
       "<table border=\"1\" class=\"dataframe\">\n",
       "  <thead>\n",
       "    <tr style=\"text-align: right;\">\n",
       "      <th></th>\n",
       "      <th>0</th>\n",
       "      <th>1</th>\n",
       "      <th>2</th>\n",
       "      <th>3</th>\n",
       "      <th>4</th>\n",
       "    </tr>\n",
       "  </thead>\n",
       "  <tbody>\n",
       "    <tr>\n",
       "      <th>0</th>\n",
       "      <td>307.000000</td>\n",
       "      <td>323.000000</td>\n",
       "      <td>3185.000000</td>\n",
       "      <td>296.000000</td>\n",
       "      <td>22.000000</td>\n",
       "    </tr>\n",
       "    <tr>\n",
       "      <th>1</th>\n",
       "      <td>0.693811</td>\n",
       "      <td>0.894737</td>\n",
       "      <td>0.922135</td>\n",
       "      <td>0.902027</td>\n",
       "      <td>1.000000</td>\n",
       "    </tr>\n",
       "    <tr>\n",
       "      <th>2</th>\n",
       "      <td>-0.140065</td>\n",
       "      <td>0.786378</td>\n",
       "      <td>0.982104</td>\n",
       "      <td>0.864865</td>\n",
       "      <td>1.000000</td>\n",
       "    </tr>\n",
       "    <tr>\n",
       "      <th>3</th>\n",
       "      <td>2.957655</td>\n",
       "      <td>1.721362</td>\n",
       "      <td>2.231711</td>\n",
       "      <td>1.591216</td>\n",
       "      <td>1.000000</td>\n",
       "    </tr>\n",
       "    <tr>\n",
       "      <th>4</th>\n",
       "      <td>354.084691</td>\n",
       "      <td>342.928793</td>\n",
       "      <td>406.663108</td>\n",
       "      <td>193.128378</td>\n",
       "      <td>98.818182</td>\n",
       "    </tr>\n",
       "  </tbody>\n",
       "</table>\n",
       "</div>"
      ],
      "text/plain": [
       "            0           1            2           3          4\n",
       "0  307.000000  323.000000  3185.000000  296.000000  22.000000\n",
       "1    0.693811    0.894737     0.922135    0.902027   1.000000\n",
       "2   -0.140065    0.786378     0.982104    0.864865   1.000000\n",
       "3    2.957655    1.721362     2.231711    1.591216   1.000000\n",
       "4  354.084691  342.928793   406.663108  193.128378  98.818182"
      ]
     },
     "execution_count": 131,
     "metadata": {},
     "output_type": "execute_result"
    }
   ],
   "source": [
    "a = 0\n",
    "pd.DataFrame([SUM_Bid1_15[a],SUM_Bid1_15[a+1]/SUM_Bid1_15[a],SUM_Bid1_15[a+2]/SUM_Bid1_15[a],SUM_Bid1_15[a+3]/SUM_Bid1_15[a],SUM_Bid1_15[a+4]/SUM_Bid1_15[a]])"
   ]
  },
  {
   "cell_type": "code",
   "execution_count": 132,
   "metadata": {
    "collapsed": false
   },
   "outputs": [
    {
     "data": {
      "text/html": [
       "<div>\n",
       "<table border=\"1\" class=\"dataframe\">\n",
       "  <thead>\n",
       "    <tr style=\"text-align: right;\">\n",
       "      <th></th>\n",
       "      <th>0</th>\n",
       "      <th>1</th>\n",
       "      <th>2</th>\n",
       "      <th>3</th>\n",
       "      <th>4</th>\n",
       "    </tr>\n",
       "  </thead>\n",
       "  <tbody>\n",
       "    <tr>\n",
       "      <th>0</th>\n",
       "      <td>395.000000</td>\n",
       "      <td>501.000000</td>\n",
       "      <td>977.000000</td>\n",
       "      <td>119.000000</td>\n",
       "      <td>4.0</td>\n",
       "    </tr>\n",
       "    <tr>\n",
       "      <th>1</th>\n",
       "      <td>0.878481</td>\n",
       "      <td>0.874251</td>\n",
       "      <td>0.925281</td>\n",
       "      <td>0.983193</td>\n",
       "      <td>1.0</td>\n",
       "    </tr>\n",
       "    <tr>\n",
       "      <th>2</th>\n",
       "      <td>0.572152</td>\n",
       "      <td>0.708583</td>\n",
       "      <td>0.963153</td>\n",
       "      <td>1.310924</td>\n",
       "      <td>1.0</td>\n",
       "    </tr>\n",
       "    <tr>\n",
       "      <th>3</th>\n",
       "      <td>2.283544</td>\n",
       "      <td>2.031936</td>\n",
       "      <td>2.327533</td>\n",
       "      <td>2.201681</td>\n",
       "      <td>2.0</td>\n",
       "    </tr>\n",
       "    <tr>\n",
       "      <th>4</th>\n",
       "      <td>263.217722</td>\n",
       "      <td>300.856287</td>\n",
       "      <td>310.683726</td>\n",
       "      <td>168.042017</td>\n",
       "      <td>64.0</td>\n",
       "    </tr>\n",
       "  </tbody>\n",
       "</table>\n",
       "</div>"
      ],
      "text/plain": [
       "            0           1           2           3     4\n",
       "0  395.000000  501.000000  977.000000  119.000000   4.0\n",
       "1    0.878481    0.874251    0.925281    0.983193   1.0\n",
       "2    0.572152    0.708583    0.963153    1.310924   1.0\n",
       "3    2.283544    2.031936    2.327533    2.201681   2.0\n",
       "4  263.217722  300.856287  310.683726  168.042017  64.0"
      ]
     },
     "execution_count": 132,
     "metadata": {},
     "output_type": "execute_result"
    }
   ],
   "source": [
    "a = 5\n",
    "pd.DataFrame([SUM_Bid1_15[a],SUM_Bid1_15[a+1]/SUM_Bid1_15[a],SUM_Bid1_15[a+2]/SUM_Bid1_15[a],SUM_Bid1_15[a+3]/SUM_Bid1_15[a],SUM_Bid1_15[a+4]/SUM_Bid1_15[a]])"
   ]
  },
  {
   "cell_type": "code",
   "execution_count": 133,
   "metadata": {
    "collapsed": false
   },
   "outputs": [
    {
     "data": {
      "text/html": [
       "<div>\n",
       "<table border=\"1\" class=\"dataframe\">\n",
       "  <thead>\n",
       "    <tr style=\"text-align: right;\">\n",
       "      <th></th>\n",
       "      <th>0</th>\n",
       "      <th>1</th>\n",
       "      <th>2</th>\n",
       "      <th>3</th>\n",
       "      <th>4</th>\n",
       "    </tr>\n",
       "  </thead>\n",
       "  <tbody>\n",
       "    <tr>\n",
       "      <th>0</th>\n",
       "      <td>339.000000</td>\n",
       "      <td>488.000000</td>\n",
       "      <td>832.000000</td>\n",
       "      <td>116.000000</td>\n",
       "      <td>0.0</td>\n",
       "    </tr>\n",
       "    <tr>\n",
       "      <th>1</th>\n",
       "      <td>0.949853</td>\n",
       "      <td>0.924180</td>\n",
       "      <td>0.918269</td>\n",
       "      <td>1.000000</td>\n",
       "      <td>NaN</td>\n",
       "    </tr>\n",
       "    <tr>\n",
       "      <th>2</th>\n",
       "      <td>0.893805</td>\n",
       "      <td>0.842213</td>\n",
       "      <td>0.984375</td>\n",
       "      <td>1.431034</td>\n",
       "      <td>NaN</td>\n",
       "    </tr>\n",
       "    <tr>\n",
       "      <th>3</th>\n",
       "      <td>2.005900</td>\n",
       "      <td>1.942623</td>\n",
       "      <td>3.387019</td>\n",
       "      <td>2.353448</td>\n",
       "      <td>NaN</td>\n",
       "    </tr>\n",
       "    <tr>\n",
       "      <th>4</th>\n",
       "      <td>204.454277</td>\n",
       "      <td>285.819672</td>\n",
       "      <td>378.975962</td>\n",
       "      <td>205.853448</td>\n",
       "      <td>NaN</td>\n",
       "    </tr>\n",
       "  </tbody>\n",
       "</table>\n",
       "</div>"
      ],
      "text/plain": [
       "            0           1           2           3    4\n",
       "0  339.000000  488.000000  832.000000  116.000000  0.0\n",
       "1    0.949853    0.924180    0.918269    1.000000  NaN\n",
       "2    0.893805    0.842213    0.984375    1.431034  NaN\n",
       "3    2.005900    1.942623    3.387019    2.353448  NaN\n",
       "4  204.454277  285.819672  378.975962  205.853448  NaN"
      ]
     },
     "execution_count": 133,
     "metadata": {},
     "output_type": "execute_result"
    }
   ],
   "source": [
    "a = 10\n",
    "pd.DataFrame([SUM_Bid1_15[a],SUM_Bid1_15[a+1]/SUM_Bid1_15[a],SUM_Bid1_15[a+2]/SUM_Bid1_15[a],SUM_Bid1_15[a+3]/SUM_Bid1_15[a],SUM_Bid1_15[a+4]/SUM_Bid1_15[a]])"
   ]
  },
  {
   "cell_type": "code",
   "execution_count": 134,
   "metadata": {
    "collapsed": false
   },
   "outputs": [
    {
     "data": {
      "text/html": [
       "<div>\n",
       "<table border=\"1\" class=\"dataframe\">\n",
       "  <thead>\n",
       "    <tr style=\"text-align: right;\">\n",
       "      <th></th>\n",
       "      <th>0</th>\n",
       "      <th>1</th>\n",
       "      <th>2</th>\n",
       "      <th>3</th>\n",
       "      <th>4</th>\n",
       "    </tr>\n",
       "  </thead>\n",
       "  <tbody>\n",
       "    <tr>\n",
       "      <th>0</th>\n",
       "      <td>187.000000</td>\n",
       "      <td>315.000000</td>\n",
       "      <td>549.000000</td>\n",
       "      <td>84.000000</td>\n",
       "      <td>0.0</td>\n",
       "    </tr>\n",
       "    <tr>\n",
       "      <th>1</th>\n",
       "      <td>0.925134</td>\n",
       "      <td>0.831746</td>\n",
       "      <td>0.903461</td>\n",
       "      <td>1.000000</td>\n",
       "      <td>NaN</td>\n",
       "    </tr>\n",
       "    <tr>\n",
       "      <th>2</th>\n",
       "      <td>0.877005</td>\n",
       "      <td>0.355556</td>\n",
       "      <td>0.808743</td>\n",
       "      <td>1.130952</td>\n",
       "      <td>NaN</td>\n",
       "    </tr>\n",
       "    <tr>\n",
       "      <th>3</th>\n",
       "      <td>2.550802</td>\n",
       "      <td>2.619048</td>\n",
       "      <td>2.795993</td>\n",
       "      <td>1.928571</td>\n",
       "      <td>NaN</td>\n",
       "    </tr>\n",
       "    <tr>\n",
       "      <th>4</th>\n",
       "      <td>266.139037</td>\n",
       "      <td>328.688889</td>\n",
       "      <td>331.805100</td>\n",
       "      <td>188.404762</td>\n",
       "      <td>NaN</td>\n",
       "    </tr>\n",
       "  </tbody>\n",
       "</table>\n",
       "</div>"
      ],
      "text/plain": [
       "            0           1           2           3    4\n",
       "0  187.000000  315.000000  549.000000   84.000000  0.0\n",
       "1    0.925134    0.831746    0.903461    1.000000  NaN\n",
       "2    0.877005    0.355556    0.808743    1.130952  NaN\n",
       "3    2.550802    2.619048    2.795993    1.928571  NaN\n",
       "4  266.139037  328.688889  331.805100  188.404762  NaN"
      ]
     },
     "execution_count": 134,
     "metadata": {},
     "output_type": "execute_result"
    }
   ],
   "source": [
    "a = 15\n",
    "pd.DataFrame([SUM_Bid1_15[a],SUM_Bid1_15[a+1]/SUM_Bid1_15[a],SUM_Bid1_15[a+2]/SUM_Bid1_15[a],SUM_Bid1_15[a+3]/SUM_Bid1_15[a],SUM_Bid1_15[a+4]/SUM_Bid1_15[a]])"
   ]
  },
  {
   "cell_type": "code",
   "execution_count": 135,
   "metadata": {
    "collapsed": false
   },
   "outputs": [
    {
     "data": {
      "text/html": [
       "<div>\n",
       "<table border=\"1\" class=\"dataframe\">\n",
       "  <thead>\n",
       "    <tr style=\"text-align: right;\">\n",
       "      <th></th>\n",
       "      <th>0</th>\n",
       "      <th>1</th>\n",
       "      <th>2</th>\n",
       "      <th>3</th>\n",
       "      <th>4</th>\n",
       "    </tr>\n",
       "  </thead>\n",
       "  <tbody>\n",
       "    <tr>\n",
       "      <th>0</th>\n",
       "      <td>361.000000</td>\n",
       "      <td>890.000000</td>\n",
       "      <td>1432.000000</td>\n",
       "      <td>278.000000</td>\n",
       "      <td>0.0</td>\n",
       "    </tr>\n",
       "    <tr>\n",
       "      <th>1</th>\n",
       "      <td>0.972299</td>\n",
       "      <td>0.849438</td>\n",
       "      <td>0.935754</td>\n",
       "      <td>0.982014</td>\n",
       "      <td>NaN</td>\n",
       "    </tr>\n",
       "    <tr>\n",
       "      <th>2</th>\n",
       "      <td>0.961219</td>\n",
       "      <td>0.515730</td>\n",
       "      <td>0.851955</td>\n",
       "      <td>1.237410</td>\n",
       "      <td>NaN</td>\n",
       "    </tr>\n",
       "    <tr>\n",
       "      <th>3</th>\n",
       "      <td>2.385042</td>\n",
       "      <td>3.588764</td>\n",
       "      <td>3.057961</td>\n",
       "      <td>2.654676</td>\n",
       "      <td>NaN</td>\n",
       "    </tr>\n",
       "    <tr>\n",
       "      <th>4</th>\n",
       "      <td>227.216066</td>\n",
       "      <td>420.226966</td>\n",
       "      <td>412.754190</td>\n",
       "      <td>287.435252</td>\n",
       "      <td>NaN</td>\n",
       "    </tr>\n",
       "  </tbody>\n",
       "</table>\n",
       "</div>"
      ],
      "text/plain": [
       "            0           1            2           3    4\n",
       "0  361.000000  890.000000  1432.000000  278.000000  0.0\n",
       "1    0.972299    0.849438     0.935754    0.982014  NaN\n",
       "2    0.961219    0.515730     0.851955    1.237410  NaN\n",
       "3    2.385042    3.588764     3.057961    2.654676  NaN\n",
       "4  227.216066  420.226966   412.754190  287.435252  NaN"
      ]
     },
     "execution_count": 135,
     "metadata": {},
     "output_type": "execute_result"
    }
   ],
   "source": [
    "a = 20\n",
    "pd.DataFrame([SUM_Bid1_15[a],SUM_Bid1_15[a+1]/SUM_Bid1_15[a],SUM_Bid1_15[a+2]/SUM_Bid1_15[a],SUM_Bid1_15[a+3]/SUM_Bid1_15[a],SUM_Bid1_15[a+4]/SUM_Bid1_15[a]])"
   ]
  },
  {
   "cell_type": "code",
   "execution_count": 136,
   "metadata": {
    "collapsed": false
   },
   "outputs": [
    {
     "data": {
      "text/html": [
       "<div>\n",
       "<table border=\"1\" class=\"dataframe\">\n",
       "  <thead>\n",
       "    <tr style=\"text-align: right;\">\n",
       "      <th></th>\n",
       "      <th>0</th>\n",
       "      <th>1</th>\n",
       "      <th>2</th>\n",
       "      <th>3</th>\n",
       "      <th>4</th>\n",
       "    </tr>\n",
       "  </thead>\n",
       "  <tbody>\n",
       "    <tr>\n",
       "      <th>0</th>\n",
       "      <td>307.000000</td>\n",
       "      <td>323.000000</td>\n",
       "      <td>3185.000000</td>\n",
       "      <td>296.000000</td>\n",
       "      <td>22.000000</td>\n",
       "    </tr>\n",
       "    <tr>\n",
       "      <th>1</th>\n",
       "      <td>0.693811</td>\n",
       "      <td>0.860681</td>\n",
       "      <td>0.889168</td>\n",
       "      <td>0.868243</td>\n",
       "      <td>1.000000</td>\n",
       "    </tr>\n",
       "    <tr>\n",
       "      <th>2</th>\n",
       "      <td>0.553746</td>\n",
       "      <td>1.551084</td>\n",
       "      <td>1.876295</td>\n",
       "      <td>1.729730</td>\n",
       "      <td>2.000000</td>\n",
       "    </tr>\n",
       "    <tr>\n",
       "      <th>3</th>\n",
       "      <td>3.990228</td>\n",
       "      <td>2.919505</td>\n",
       "      <td>3.258399</td>\n",
       "      <td>2.820946</td>\n",
       "      <td>2.000000</td>\n",
       "    </tr>\n",
       "    <tr>\n",
       "      <th>4</th>\n",
       "      <td>414.716612</td>\n",
       "      <td>417.244582</td>\n",
       "      <td>510.149451</td>\n",
       "      <td>299.263514</td>\n",
       "      <td>181.818182</td>\n",
       "    </tr>\n",
       "  </tbody>\n",
       "</table>\n",
       "</div>"
      ],
      "text/plain": [
       "            0           1            2           3           4\n",
       "0  307.000000  323.000000  3185.000000  296.000000   22.000000\n",
       "1    0.693811    0.860681     0.889168    0.868243    1.000000\n",
       "2    0.553746    1.551084     1.876295    1.729730    2.000000\n",
       "3    3.990228    2.919505     3.258399    2.820946    2.000000\n",
       "4  414.716612  417.244582   510.149451  299.263514  181.818182"
      ]
     },
     "execution_count": 136,
     "metadata": {},
     "output_type": "execute_result"
    }
   ],
   "source": [
    "a = 0\n",
    "pd.DataFrame([SUM_Bid2_15[a],SUM_Bid2_15[a+1]/SUM_Bid2_15[a],SUM_Bid2_15[a+2]/SUM_Bid2_15[a],SUM_Bid2_15[a+3]/SUM_Bid2_15[a],SUM_Bid2_15[a+4]/SUM_Bid2_15[a]])"
   ]
  },
  {
   "cell_type": "code",
   "execution_count": 137,
   "metadata": {
    "collapsed": false
   },
   "outputs": [
    {
     "data": {
      "text/html": [
       "<div>\n",
       "<table border=\"1\" class=\"dataframe\">\n",
       "  <thead>\n",
       "    <tr style=\"text-align: right;\">\n",
       "      <th></th>\n",
       "      <th>0</th>\n",
       "      <th>1</th>\n",
       "      <th>2</th>\n",
       "      <th>3</th>\n",
       "      <th>4</th>\n",
       "    </tr>\n",
       "  </thead>\n",
       "  <tbody>\n",
       "    <tr>\n",
       "      <th>0</th>\n",
       "      <td>395.000000</td>\n",
       "      <td>501.000000</td>\n",
       "      <td>977.000000</td>\n",
       "      <td>119.000000</td>\n",
       "      <td>4.0</td>\n",
       "    </tr>\n",
       "    <tr>\n",
       "      <th>1</th>\n",
       "      <td>0.873418</td>\n",
       "      <td>0.818363</td>\n",
       "      <td>0.861822</td>\n",
       "      <td>0.957983</td>\n",
       "      <td>1.0</td>\n",
       "    </tr>\n",
       "    <tr>\n",
       "      <th>2</th>\n",
       "      <td>1.425316</td>\n",
       "      <td>1.433134</td>\n",
       "      <td>1.792221</td>\n",
       "      <td>2.294118</td>\n",
       "      <td>2.0</td>\n",
       "    </tr>\n",
       "    <tr>\n",
       "      <th>3</th>\n",
       "      <td>3.382278</td>\n",
       "      <td>3.337325</td>\n",
       "      <td>3.404299</td>\n",
       "      <td>3.310924</td>\n",
       "      <td>3.0</td>\n",
       "    </tr>\n",
       "    <tr>\n",
       "      <th>4</th>\n",
       "      <td>355.225316</td>\n",
       "      <td>400.506986</td>\n",
       "      <td>419.856704</td>\n",
       "      <td>248.176471</td>\n",
       "      <td>85.0</td>\n",
       "    </tr>\n",
       "  </tbody>\n",
       "</table>\n",
       "</div>"
      ],
      "text/plain": [
       "            0           1           2           3     4\n",
       "0  395.000000  501.000000  977.000000  119.000000   4.0\n",
       "1    0.873418    0.818363    0.861822    0.957983   1.0\n",
       "2    1.425316    1.433134    1.792221    2.294118   2.0\n",
       "3    3.382278    3.337325    3.404299    3.310924   3.0\n",
       "4  355.225316  400.506986  419.856704  248.176471  85.0"
      ]
     },
     "execution_count": 137,
     "metadata": {},
     "output_type": "execute_result"
    }
   ],
   "source": [
    "a = 5\n",
    "pd.DataFrame([SUM_Bid2_15[a],SUM_Bid2_15[a+1]/SUM_Bid2_15[a],SUM_Bid2_15[a+2]/SUM_Bid2_15[a],SUM_Bid2_15[a+3]/SUM_Bid2_15[a],SUM_Bid2_15[a+4]/SUM_Bid2_15[a]])"
   ]
  },
  {
   "cell_type": "code",
   "execution_count": 138,
   "metadata": {
    "collapsed": false
   },
   "outputs": [
    {
     "data": {
      "text/html": [
       "<div>\n",
       "<table border=\"1\" class=\"dataframe\">\n",
       "  <thead>\n",
       "    <tr style=\"text-align: right;\">\n",
       "      <th></th>\n",
       "      <th>0</th>\n",
       "      <th>1</th>\n",
       "      <th>2</th>\n",
       "      <th>3</th>\n",
       "      <th>4</th>\n",
       "    </tr>\n",
       "  </thead>\n",
       "  <tbody>\n",
       "    <tr>\n",
       "      <th>0</th>\n",
       "      <td>339.000000</td>\n",
       "      <td>488.000000</td>\n",
       "      <td>832.000000</td>\n",
       "      <td>116.000000</td>\n",
       "      <td>0.0</td>\n",
       "    </tr>\n",
       "    <tr>\n",
       "      <th>1</th>\n",
       "      <td>0.946903</td>\n",
       "      <td>0.838115</td>\n",
       "      <td>0.750000</td>\n",
       "      <td>0.982759</td>\n",
       "      <td>NaN</td>\n",
       "    </tr>\n",
       "    <tr>\n",
       "      <th>2</th>\n",
       "      <td>1.828909</td>\n",
       "      <td>1.592213</td>\n",
       "      <td>1.770433</td>\n",
       "      <td>2.431034</td>\n",
       "      <td>NaN</td>\n",
       "    </tr>\n",
       "    <tr>\n",
       "      <th>3</th>\n",
       "      <td>3.147493</td>\n",
       "      <td>3.491803</td>\n",
       "      <td>4.497596</td>\n",
       "      <td>3.439655</td>\n",
       "      <td>NaN</td>\n",
       "    </tr>\n",
       "    <tr>\n",
       "      <th>4</th>\n",
       "      <td>332.407080</td>\n",
       "      <td>402.108607</td>\n",
       "      <td>482.161058</td>\n",
       "      <td>298.293103</td>\n",
       "      <td>NaN</td>\n",
       "    </tr>\n",
       "  </tbody>\n",
       "</table>\n",
       "</div>"
      ],
      "text/plain": [
       "            0           1           2           3    4\n",
       "0  339.000000  488.000000  832.000000  116.000000  0.0\n",
       "1    0.946903    0.838115    0.750000    0.982759  NaN\n",
       "2    1.828909    1.592213    1.770433    2.431034  NaN\n",
       "3    3.147493    3.491803    4.497596    3.439655  NaN\n",
       "4  332.407080  402.108607  482.161058  298.293103  NaN"
      ]
     },
     "execution_count": 138,
     "metadata": {},
     "output_type": "execute_result"
    }
   ],
   "source": [
    "a = 10\n",
    "pd.DataFrame([SUM_Bid2_15[a],SUM_Bid2_15[a+1]/SUM_Bid2_15[a],SUM_Bid2_15[a+2]/SUM_Bid2_15[a],SUM_Bid2_15[a+3]/SUM_Bid2_15[a],SUM_Bid2_15[a+4]/SUM_Bid2_15[a]])"
   ]
  },
  {
   "cell_type": "code",
   "execution_count": 139,
   "metadata": {
    "collapsed": false
   },
   "outputs": [
    {
     "data": {
      "text/html": [
       "<div>\n",
       "<table border=\"1\" class=\"dataframe\">\n",
       "  <thead>\n",
       "    <tr style=\"text-align: right;\">\n",
       "      <th></th>\n",
       "      <th>0</th>\n",
       "      <th>1</th>\n",
       "      <th>2</th>\n",
       "      <th>3</th>\n",
       "      <th>4</th>\n",
       "    </tr>\n",
       "  </thead>\n",
       "  <tbody>\n",
       "    <tr>\n",
       "      <th>0</th>\n",
       "      <td>187.000000</td>\n",
       "      <td>315.000000</td>\n",
       "      <td>549.000000</td>\n",
       "      <td>84.000000</td>\n",
       "      <td>0.0</td>\n",
       "    </tr>\n",
       "    <tr>\n",
       "      <th>1</th>\n",
       "      <td>0.925134</td>\n",
       "      <td>0.755556</td>\n",
       "      <td>0.779599</td>\n",
       "      <td>1.000000</td>\n",
       "      <td>NaN</td>\n",
       "    </tr>\n",
       "    <tr>\n",
       "      <th>2</th>\n",
       "      <td>1.802139</td>\n",
       "      <td>0.952381</td>\n",
       "      <td>1.571949</td>\n",
       "      <td>2.130952</td>\n",
       "      <td>NaN</td>\n",
       "    </tr>\n",
       "    <tr>\n",
       "      <th>3</th>\n",
       "      <td>3.668449</td>\n",
       "      <td>4.447619</td>\n",
       "      <td>3.969035</td>\n",
       "      <td>3.107143</td>\n",
       "      <td>NaN</td>\n",
       "    </tr>\n",
       "    <tr>\n",
       "      <th>4</th>\n",
       "      <td>370.000000</td>\n",
       "      <td>447.609524</td>\n",
       "      <td>429.621129</td>\n",
       "      <td>361.666667</td>\n",
       "      <td>NaN</td>\n",
       "    </tr>\n",
       "  </tbody>\n",
       "</table>\n",
       "</div>"
      ],
      "text/plain": [
       "            0           1           2           3    4\n",
       "0  187.000000  315.000000  549.000000   84.000000  0.0\n",
       "1    0.925134    0.755556    0.779599    1.000000  NaN\n",
       "2    1.802139    0.952381    1.571949    2.130952  NaN\n",
       "3    3.668449    4.447619    3.969035    3.107143  NaN\n",
       "4  370.000000  447.609524  429.621129  361.666667  NaN"
      ]
     },
     "execution_count": 139,
     "metadata": {},
     "output_type": "execute_result"
    }
   ],
   "source": [
    "a = 15\n",
    "pd.DataFrame([SUM_Bid2_15[a],SUM_Bid2_15[a+1]/SUM_Bid2_15[a],SUM_Bid2_15[a+2]/SUM_Bid2_15[a],SUM_Bid2_15[a+3]/SUM_Bid2_15[a],SUM_Bid2_15[a+4]/SUM_Bid2_15[a]])"
   ]
  },
  {
   "cell_type": "code",
   "execution_count": 140,
   "metadata": {
    "collapsed": false
   },
   "outputs": [
    {
     "data": {
      "text/html": [
       "<div>\n",
       "<table border=\"1\" class=\"dataframe\">\n",
       "  <thead>\n",
       "    <tr style=\"text-align: right;\">\n",
       "      <th></th>\n",
       "      <th>0</th>\n",
       "      <th>1</th>\n",
       "      <th>2</th>\n",
       "      <th>3</th>\n",
       "      <th>4</th>\n",
       "    </tr>\n",
       "  </thead>\n",
       "  <tbody>\n",
       "    <tr>\n",
       "      <th>0</th>\n",
       "      <td>361.000000</td>\n",
       "      <td>890.000000</td>\n",
       "      <td>1432.000000</td>\n",
       "      <td>278.000000</td>\n",
       "      <td>0.0</td>\n",
       "    </tr>\n",
       "    <tr>\n",
       "      <th>1</th>\n",
       "      <td>0.972299</td>\n",
       "      <td>0.768539</td>\n",
       "      <td>0.807263</td>\n",
       "      <td>0.982014</td>\n",
       "      <td>NaN</td>\n",
       "    </tr>\n",
       "    <tr>\n",
       "      <th>2</th>\n",
       "      <td>1.933518</td>\n",
       "      <td>1.156180</td>\n",
       "      <td>1.580307</td>\n",
       "      <td>2.219424</td>\n",
       "      <td>NaN</td>\n",
       "    </tr>\n",
       "    <tr>\n",
       "      <th>3</th>\n",
       "      <td>3.465374</td>\n",
       "      <td>5.178652</td>\n",
       "      <td>4.216480</td>\n",
       "      <td>4.129496</td>\n",
       "      <td>NaN</td>\n",
       "    </tr>\n",
       "    <tr>\n",
       "      <th>4</th>\n",
       "      <td>325.626039</td>\n",
       "      <td>544.113483</td>\n",
       "      <td>528.382682</td>\n",
       "      <td>511.320144</td>\n",
       "      <td>NaN</td>\n",
       "    </tr>\n",
       "  </tbody>\n",
       "</table>\n",
       "</div>"
      ],
      "text/plain": [
       "            0           1            2           3    4\n",
       "0  361.000000  890.000000  1432.000000  278.000000  0.0\n",
       "1    0.972299    0.768539     0.807263    0.982014  NaN\n",
       "2    1.933518    1.156180     1.580307    2.219424  NaN\n",
       "3    3.465374    5.178652     4.216480    4.129496  NaN\n",
       "4  325.626039  544.113483   528.382682  511.320144  NaN"
      ]
     },
     "execution_count": 140,
     "metadata": {},
     "output_type": "execute_result"
    }
   ],
   "source": [
    "a = 20\n",
    "pd.DataFrame([SUM_Bid2_15[a],SUM_Bid2_15[a+1]/SUM_Bid2_15[a],SUM_Bid2_15[a+2]/SUM_Bid2_15[a],SUM_Bid2_15[a+3]/SUM_Bid2_15[a],SUM_Bid2_15[a+4]/SUM_Bid2_15[a]])"
   ]
  },
  {
   "cell_type": "code",
   "execution_count": null,
   "metadata": {
    "collapsed": true
   },
   "outputs": [],
   "source": []
  },
  {
   "cell_type": "code",
   "execution_count": 141,
   "metadata": {
    "collapsed": false
   },
   "outputs": [
    {
     "data": {
      "text/html": [
       "<div>\n",
       "<table border=\"1\" class=\"dataframe\">\n",
       "  <thead>\n",
       "    <tr style=\"text-align: right;\">\n",
       "      <th></th>\n",
       "      <th>0</th>\n",
       "      <th>1</th>\n",
       "      <th>2</th>\n",
       "      <th>3</th>\n",
       "      <th>4</th>\n",
       "    </tr>\n",
       "  </thead>\n",
       "  <tbody>\n",
       "    <tr>\n",
       "      <th>0</th>\n",
       "      <td>307.000000</td>\n",
       "      <td>323.000000</td>\n",
       "      <td>3185.000000</td>\n",
       "      <td>296.000000</td>\n",
       "      <td>22.000000</td>\n",
       "    </tr>\n",
       "    <tr>\n",
       "      <th>1</th>\n",
       "      <td>0.687296</td>\n",
       "      <td>0.476780</td>\n",
       "      <td>0.698587</td>\n",
       "      <td>0.868243</td>\n",
       "      <td>1.000000</td>\n",
       "    </tr>\n",
       "    <tr>\n",
       "      <th>2</th>\n",
       "      <td>1.224756</td>\n",
       "      <td>1.182663</td>\n",
       "      <td>2.298901</td>\n",
       "      <td>2.597973</td>\n",
       "      <td>3.000000</td>\n",
       "    </tr>\n",
       "    <tr>\n",
       "      <th>3</th>\n",
       "      <td>5.055375</td>\n",
       "      <td>5.071207</td>\n",
       "      <td>4.322763</td>\n",
       "      <td>3.837838</td>\n",
       "      <td>3.000000</td>\n",
       "    </tr>\n",
       "    <tr>\n",
       "      <th>4</th>\n",
       "      <td>478.934853</td>\n",
       "      <td>661.696594</td>\n",
       "      <td>615.751962</td>\n",
       "      <td>397.125000</td>\n",
       "      <td>181.818182</td>\n",
       "    </tr>\n",
       "  </tbody>\n",
       "</table>\n",
       "</div>"
      ],
      "text/plain": [
       "            0           1            2           3           4\n",
       "0  307.000000  323.000000  3185.000000  296.000000   22.000000\n",
       "1    0.687296    0.476780     0.698587    0.868243    1.000000\n",
       "2    1.224756    1.182663     2.298901    2.597973    3.000000\n",
       "3    5.055375    5.071207     4.322763    3.837838    3.000000\n",
       "4  478.934853  661.696594   615.751962  397.125000  181.818182"
      ]
     },
     "execution_count": 141,
     "metadata": {},
     "output_type": "execute_result"
    }
   ],
   "source": [
    "a = 0\n",
    "pd.DataFrame([SUM_Bid3_15[a],SUM_Bid3_15[a+1]/SUM_Bid3_15[a],SUM_Bid3_15[a+2]/SUM_Bid3_15[a],SUM_Bid3_15[a+3]/SUM_Bid3_15[a],SUM_Bid3_15[a+4]/SUM_Bid3_15[a]])"
   ]
  },
  {
   "cell_type": "code",
   "execution_count": 142,
   "metadata": {
    "collapsed": false
   },
   "outputs": [
    {
     "data": {
      "text/html": [
       "<div>\n",
       "<table border=\"1\" class=\"dataframe\">\n",
       "  <thead>\n",
       "    <tr style=\"text-align: right;\">\n",
       "      <th></th>\n",
       "      <th>0</th>\n",
       "      <th>1</th>\n",
       "      <th>2</th>\n",
       "      <th>3</th>\n",
       "      <th>4</th>\n",
       "    </tr>\n",
       "  </thead>\n",
       "  <tbody>\n",
       "    <tr>\n",
       "      <th>0</th>\n",
       "      <td>395.000000</td>\n",
       "      <td>501.000000</td>\n",
       "      <td>977.000000</td>\n",
       "      <td>119.000000</td>\n",
       "      <td>4.0</td>\n",
       "    </tr>\n",
       "    <tr>\n",
       "      <th>1</th>\n",
       "      <td>0.863291</td>\n",
       "      <td>0.453094</td>\n",
       "      <td>0.755374</td>\n",
       "      <td>0.957983</td>\n",
       "      <td>1.0</td>\n",
       "    </tr>\n",
       "    <tr>\n",
       "      <th>2</th>\n",
       "      <td>2.248101</td>\n",
       "      <td>0.780439</td>\n",
       "      <td>2.507677</td>\n",
       "      <td>3.252101</td>\n",
       "      <td>3.0</td>\n",
       "    </tr>\n",
       "    <tr>\n",
       "      <th>3</th>\n",
       "      <td>4.443038</td>\n",
       "      <td>5.419162</td>\n",
       "      <td>4.486182</td>\n",
       "      <td>4.680672</td>\n",
       "      <td>4.0</td>\n",
       "    </tr>\n",
       "    <tr>\n",
       "      <th>4</th>\n",
       "      <td>405.108861</td>\n",
       "      <td>656.650699</td>\n",
       "      <td>519.662231</td>\n",
       "      <td>378.193277</td>\n",
       "      <td>107.0</td>\n",
       "    </tr>\n",
       "  </tbody>\n",
       "</table>\n",
       "</div>"
      ],
      "text/plain": [
       "            0           1           2           3      4\n",
       "0  395.000000  501.000000  977.000000  119.000000    4.0\n",
       "1    0.863291    0.453094    0.755374    0.957983    1.0\n",
       "2    2.248101    0.780439    2.507677    3.252101    3.0\n",
       "3    4.443038    5.419162    4.486182    4.680672    4.0\n",
       "4  405.108861  656.650699  519.662231  378.193277  107.0"
      ]
     },
     "execution_count": 142,
     "metadata": {},
     "output_type": "execute_result"
    }
   ],
   "source": [
    "a = 5\n",
    "pd.DataFrame([SUM_Bid3_15[a],SUM_Bid3_15[a+1]/SUM_Bid3_15[a],SUM_Bid3_15[a+2]/SUM_Bid3_15[a],SUM_Bid3_15[a+3]/SUM_Bid3_15[a],SUM_Bid3_15[a+4]/SUM_Bid3_15[a]])"
   ]
  },
  {
   "cell_type": "code",
   "execution_count": 143,
   "metadata": {
    "collapsed": false
   },
   "outputs": [
    {
     "data": {
      "text/html": [
       "<div>\n",
       "<table border=\"1\" class=\"dataframe\">\n",
       "  <thead>\n",
       "    <tr style=\"text-align: right;\">\n",
       "      <th></th>\n",
       "      <th>0</th>\n",
       "      <th>1</th>\n",
       "      <th>2</th>\n",
       "      <th>3</th>\n",
       "      <th>4</th>\n",
       "    </tr>\n",
       "  </thead>\n",
       "  <tbody>\n",
       "    <tr>\n",
       "      <th>0</th>\n",
       "      <td>339.000000</td>\n",
       "      <td>488.000000</td>\n",
       "      <td>832.000000</td>\n",
       "      <td>116.000000</td>\n",
       "      <td>0.0</td>\n",
       "    </tr>\n",
       "    <tr>\n",
       "      <th>1</th>\n",
       "      <td>0.938053</td>\n",
       "      <td>0.461066</td>\n",
       "      <td>0.585337</td>\n",
       "      <td>0.982759</td>\n",
       "      <td>NaN</td>\n",
       "    </tr>\n",
       "    <tr>\n",
       "      <th>2</th>\n",
       "      <td>2.749263</td>\n",
       "      <td>0.926230</td>\n",
       "      <td>2.225962</td>\n",
       "      <td>3.413793</td>\n",
       "      <td>NaN</td>\n",
       "    </tr>\n",
       "    <tr>\n",
       "      <th>3</th>\n",
       "      <td>4.165192</td>\n",
       "      <td>5.678279</td>\n",
       "      <td>5.632212</td>\n",
       "      <td>4.887931</td>\n",
       "      <td>NaN</td>\n",
       "    </tr>\n",
       "    <tr>\n",
       "      <th>4</th>\n",
       "      <td>391.569322</td>\n",
       "      <td>690.176230</td>\n",
       "      <td>591.039663</td>\n",
       "      <td>477.922414</td>\n",
       "      <td>NaN</td>\n",
       "    </tr>\n",
       "  </tbody>\n",
       "</table>\n",
       "</div>"
      ],
      "text/plain": [
       "            0           1           2           3    4\n",
       "0  339.000000  488.000000  832.000000  116.000000  0.0\n",
       "1    0.938053    0.461066    0.585337    0.982759  NaN\n",
       "2    2.749263    0.926230    2.225962    3.413793  NaN\n",
       "3    4.165192    5.678279    5.632212    4.887931  NaN\n",
       "4  391.569322  690.176230  591.039663  477.922414  NaN"
      ]
     },
     "execution_count": 143,
     "metadata": {},
     "output_type": "execute_result"
    }
   ],
   "source": [
    "a = 10\n",
    "pd.DataFrame([SUM_Bid3_15[a],SUM_Bid3_15[a+1]/SUM_Bid3_15[a],SUM_Bid3_15[a+2]/SUM_Bid3_15[a],SUM_Bid3_15[a+3]/SUM_Bid3_15[a],SUM_Bid3_15[a+4]/SUM_Bid3_15[a]])"
   ]
  },
  {
   "cell_type": "code",
   "execution_count": 144,
   "metadata": {
    "collapsed": false
   },
   "outputs": [
    {
     "data": {
      "text/html": [
       "<div>\n",
       "<table border=\"1\" class=\"dataframe\">\n",
       "  <thead>\n",
       "    <tr style=\"text-align: right;\">\n",
       "      <th></th>\n",
       "      <th>0</th>\n",
       "      <th>1</th>\n",
       "      <th>2</th>\n",
       "      <th>3</th>\n",
       "      <th>4</th>\n",
       "    </tr>\n",
       "  </thead>\n",
       "  <tbody>\n",
       "    <tr>\n",
       "      <th>0</th>\n",
       "      <td>187.000000</td>\n",
       "      <td>315.000000</td>\n",
       "      <td>549.000000</td>\n",
       "      <td>84.000000</td>\n",
       "      <td>0.0</td>\n",
       "    </tr>\n",
       "    <tr>\n",
       "      <th>1</th>\n",
       "      <td>0.925134</td>\n",
       "      <td>0.711111</td>\n",
       "      <td>0.646630</td>\n",
       "      <td>1.000000</td>\n",
       "      <td>NaN</td>\n",
       "    </tr>\n",
       "    <tr>\n",
       "      <th>2</th>\n",
       "      <td>2.727273</td>\n",
       "      <td>1.577778</td>\n",
       "      <td>2.078324</td>\n",
       "      <td>3.130952</td>\n",
       "      <td>NaN</td>\n",
       "    </tr>\n",
       "    <tr>\n",
       "      <th>3</th>\n",
       "      <td>4.673797</td>\n",
       "      <td>5.774603</td>\n",
       "      <td>5.120219</td>\n",
       "      <td>4.369048</td>\n",
       "      <td>NaN</td>\n",
       "    </tr>\n",
       "    <tr>\n",
       "      <th>4</th>\n",
       "      <td>435.385027</td>\n",
       "      <td>564.301587</td>\n",
       "      <td>566.213115</td>\n",
       "      <td>545.702381</td>\n",
       "      <td>NaN</td>\n",
       "    </tr>\n",
       "  </tbody>\n",
       "</table>\n",
       "</div>"
      ],
      "text/plain": [
       "            0           1           2           3    4\n",
       "0  187.000000  315.000000  549.000000   84.000000  0.0\n",
       "1    0.925134    0.711111    0.646630    1.000000  NaN\n",
       "2    2.727273    1.577778    2.078324    3.130952  NaN\n",
       "3    4.673797    5.774603    5.120219    4.369048  NaN\n",
       "4  435.385027  564.301587  566.213115  545.702381  NaN"
      ]
     },
     "execution_count": 144,
     "metadata": {},
     "output_type": "execute_result"
    }
   ],
   "source": [
    "a = 15\n",
    "pd.DataFrame([SUM_Bid3_15[a],SUM_Bid3_15[a+1]/SUM_Bid3_15[a],SUM_Bid3_15[a+2]/SUM_Bid3_15[a],SUM_Bid3_15[a+3]/SUM_Bid3_15[a],SUM_Bid3_15[a+4]/SUM_Bid3_15[a]])"
   ]
  },
  {
   "cell_type": "code",
   "execution_count": 145,
   "metadata": {
    "collapsed": false
   },
   "outputs": [
    {
     "data": {
      "text/html": [
       "<div>\n",
       "<table border=\"1\" class=\"dataframe\">\n",
       "  <thead>\n",
       "    <tr style=\"text-align: right;\">\n",
       "      <th></th>\n",
       "      <th>0</th>\n",
       "      <th>1</th>\n",
       "      <th>2</th>\n",
       "      <th>3</th>\n",
       "      <th>4</th>\n",
       "    </tr>\n",
       "  </thead>\n",
       "  <tbody>\n",
       "    <tr>\n",
       "      <th>0</th>\n",
       "      <td>361.000000</td>\n",
       "      <td>890.000000</td>\n",
       "      <td>1432.000000</td>\n",
       "      <td>278.000000</td>\n",
       "      <td>0.0</td>\n",
       "    </tr>\n",
       "    <tr>\n",
       "      <th>1</th>\n",
       "      <td>0.950139</td>\n",
       "      <td>0.680899</td>\n",
       "      <td>0.729749</td>\n",
       "      <td>0.982014</td>\n",
       "      <td>NaN</td>\n",
       "    </tr>\n",
       "    <tr>\n",
       "      <th>2</th>\n",
       "      <td>2.795014</td>\n",
       "      <td>1.774157</td>\n",
       "      <td>2.262570</td>\n",
       "      <td>3.201439</td>\n",
       "      <td>NaN</td>\n",
       "    </tr>\n",
       "    <tr>\n",
       "      <th>3</th>\n",
       "      <td>4.565097</td>\n",
       "      <td>6.259551</td>\n",
       "      <td>5.307961</td>\n",
       "      <td>5.230216</td>\n",
       "      <td>NaN</td>\n",
       "    </tr>\n",
       "    <tr>\n",
       "      <th>4</th>\n",
       "      <td>400.470914</td>\n",
       "      <td>609.579775</td>\n",
       "      <td>612.990223</td>\n",
       "      <td>615.352518</td>\n",
       "      <td>NaN</td>\n",
       "    </tr>\n",
       "  </tbody>\n",
       "</table>\n",
       "</div>"
      ],
      "text/plain": [
       "            0           1            2           3    4\n",
       "0  361.000000  890.000000  1432.000000  278.000000  0.0\n",
       "1    0.950139    0.680899     0.729749    0.982014  NaN\n",
       "2    2.795014    1.774157     2.262570    3.201439  NaN\n",
       "3    4.565097    6.259551     5.307961    5.230216  NaN\n",
       "4  400.470914  609.579775   612.990223  615.352518  NaN"
      ]
     },
     "execution_count": 145,
     "metadata": {},
     "output_type": "execute_result"
    }
   ],
   "source": [
    "a = 20\n",
    "pd.DataFrame([SUM_Bid3_15[a],SUM_Bid3_15[a+1]/SUM_Bid3_15[a],SUM_Bid3_15[a+2]/SUM_Bid3_15[a],SUM_Bid3_15[a+3]/SUM_Bid3_15[a],SUM_Bid3_15[a+4]/SUM_Bid3_15[a]])"
   ]
  },
  {
   "cell_type": "code",
   "execution_count": null,
   "metadata": {
    "collapsed": true
   },
   "outputs": [],
   "source": []
  },
  {
   "cell_type": "code",
   "execution_count": 146,
   "metadata": {
    "collapsed": false
   },
   "outputs": [
    {
     "data": {
      "text/html": [
       "<div>\n",
       "<table border=\"1\" class=\"dataframe\">\n",
       "  <thead>\n",
       "    <tr style=\"text-align: right;\">\n",
       "      <th></th>\n",
       "      <th>0</th>\n",
       "      <th>1</th>\n",
       "      <th>2</th>\n",
       "      <th>3</th>\n",
       "      <th>4</th>\n",
       "    </tr>\n",
       "  </thead>\n",
       "  <tbody>\n",
       "    <tr>\n",
       "      <th>0</th>\n",
       "      <td>681.000000</td>\n",
       "      <td>2272.000000</td>\n",
       "      <td>5032.000000</td>\n",
       "      <td>814.000000</td>\n",
       "      <td>597.000000</td>\n",
       "    </tr>\n",
       "    <tr>\n",
       "      <th>1</th>\n",
       "      <td>0.897210</td>\n",
       "      <td>0.878961</td>\n",
       "      <td>0.853537</td>\n",
       "      <td>0.845209</td>\n",
       "      <td>0.812395</td>\n",
       "    </tr>\n",
       "    <tr>\n",
       "      <th>2</th>\n",
       "      <td>0.643172</td>\n",
       "      <td>0.638204</td>\n",
       "      <td>0.466614</td>\n",
       "      <td>0.552826</td>\n",
       "      <td>0.467337</td>\n",
       "    </tr>\n",
       "    <tr>\n",
       "      <th>3</th>\n",
       "      <td>2.008811</td>\n",
       "      <td>2.156250</td>\n",
       "      <td>2.588037</td>\n",
       "      <td>3.287469</td>\n",
       "      <td>3.716918</td>\n",
       "    </tr>\n",
       "    <tr>\n",
       "      <th>4</th>\n",
       "      <td>450.215859</td>\n",
       "      <td>251.857835</td>\n",
       "      <td>294.426868</td>\n",
       "      <td>350.970516</td>\n",
       "      <td>132.520938</td>\n",
       "    </tr>\n",
       "  </tbody>\n",
       "</table>\n",
       "</div>"
      ],
      "text/plain": [
       "            0            1            2           3           4\n",
       "0  681.000000  2272.000000  5032.000000  814.000000  597.000000\n",
       "1    0.897210     0.878961     0.853537    0.845209    0.812395\n",
       "2    0.643172     0.638204     0.466614    0.552826    0.467337\n",
       "3    2.008811     2.156250     2.588037    3.287469    3.716918\n",
       "4  450.215859   251.857835   294.426868  350.970516  132.520938"
      ]
     },
     "execution_count": 146,
     "metadata": {},
     "output_type": "execute_result"
    }
   ],
   "source": [
    "a = 0\n",
    "pd.DataFrame([SUM_Bid1_11[a],SUM_Bid1_11[a+1]/SUM_Bid1_11[a],SUM_Bid1_11[a+2]/SUM_Bid1_11[a],SUM_Bid1_11[a+3]/SUM_Bid1_11[a],SUM_Bid1_11[a+4]/SUM_Bid1_11[a]])"
   ]
  },
  {
   "cell_type": "code",
   "execution_count": 147,
   "metadata": {
    "collapsed": false
   },
   "outputs": [
    {
     "data": {
      "text/html": [
       "<div>\n",
       "<table border=\"1\" class=\"dataframe\">\n",
       "  <thead>\n",
       "    <tr style=\"text-align: right;\">\n",
       "      <th></th>\n",
       "      <th>0</th>\n",
       "      <th>1</th>\n",
       "      <th>2</th>\n",
       "      <th>3</th>\n",
       "      <th>4</th>\n",
       "    </tr>\n",
       "  </thead>\n",
       "  <tbody>\n",
       "    <tr>\n",
       "      <th>0</th>\n",
       "      <td>671.000000</td>\n",
       "      <td>2383.000000</td>\n",
       "      <td>6590.000000</td>\n",
       "      <td>1127.000000</td>\n",
       "      <td>671.000000</td>\n",
       "    </tr>\n",
       "    <tr>\n",
       "      <th>1</th>\n",
       "      <td>0.789866</td>\n",
       "      <td>0.812841</td>\n",
       "      <td>0.795448</td>\n",
       "      <td>0.741792</td>\n",
       "      <td>0.777943</td>\n",
       "    </tr>\n",
       "    <tr>\n",
       "      <th>2</th>\n",
       "      <td>-0.216095</td>\n",
       "      <td>0.295846</td>\n",
       "      <td>0.254476</td>\n",
       "      <td>0.110027</td>\n",
       "      <td>0.424739</td>\n",
       "    </tr>\n",
       "    <tr>\n",
       "      <th>3</th>\n",
       "      <td>3.339791</td>\n",
       "      <td>2.799832</td>\n",
       "      <td>2.859636</td>\n",
       "      <td>3.443656</td>\n",
       "      <td>4.159463</td>\n",
       "    </tr>\n",
       "    <tr>\n",
       "      <th>4</th>\n",
       "      <td>611.926975</td>\n",
       "      <td>374.715485</td>\n",
       "      <td>361.462671</td>\n",
       "      <td>383.092280</td>\n",
       "      <td>159.763040</td>\n",
       "    </tr>\n",
       "  </tbody>\n",
       "</table>\n",
       "</div>"
      ],
      "text/plain": [
       "            0            1            2            3           4\n",
       "0  671.000000  2383.000000  6590.000000  1127.000000  671.000000\n",
       "1    0.789866     0.812841     0.795448     0.741792    0.777943\n",
       "2   -0.216095     0.295846     0.254476     0.110027    0.424739\n",
       "3    3.339791     2.799832     2.859636     3.443656    4.159463\n",
       "4  611.926975   374.715485   361.462671   383.092280  159.763040"
      ]
     },
     "execution_count": 147,
     "metadata": {},
     "output_type": "execute_result"
    }
   ],
   "source": [
    "a = 5\n",
    "pd.DataFrame([SUM_Bid1_11[a],SUM_Bid1_11[a+1]/SUM_Bid1_11[a],SUM_Bid1_11[a+2]/SUM_Bid1_11[a],SUM_Bid1_11[a+3]/SUM_Bid1_11[a],SUM_Bid1_11[a+4]/SUM_Bid1_11[a]])"
   ]
  },
  {
   "cell_type": "code",
   "execution_count": 148,
   "metadata": {
    "collapsed": false
   },
   "outputs": [
    {
     "data": {
      "text/html": [
       "<div>\n",
       "<table border=\"1\" class=\"dataframe\">\n",
       "  <thead>\n",
       "    <tr style=\"text-align: right;\">\n",
       "      <th></th>\n",
       "      <th>0</th>\n",
       "      <th>1</th>\n",
       "      <th>2</th>\n",
       "      <th>3</th>\n",
       "      <th>4</th>\n",
       "    </tr>\n",
       "  </thead>\n",
       "  <tbody>\n",
       "    <tr>\n",
       "      <th>0</th>\n",
       "      <td>658.000000</td>\n",
       "      <td>2746.000000</td>\n",
       "      <td>7926.000000</td>\n",
       "      <td>1305.000000</td>\n",
       "      <td>673.000000</td>\n",
       "    </tr>\n",
       "    <tr>\n",
       "      <th>1</th>\n",
       "      <td>0.688450</td>\n",
       "      <td>0.764385</td>\n",
       "      <td>0.754353</td>\n",
       "      <td>0.704981</td>\n",
       "      <td>0.827637</td>\n",
       "    </tr>\n",
       "    <tr>\n",
       "      <th>2</th>\n",
       "      <td>-0.709726</td>\n",
       "      <td>-0.032775</td>\n",
       "      <td>0.178526</td>\n",
       "      <td>-0.055172</td>\n",
       "      <td>0.546805</td>\n",
       "    </tr>\n",
       "    <tr>\n",
       "      <th>3</th>\n",
       "      <td>4.077508</td>\n",
       "      <td>3.264385</td>\n",
       "      <td>3.122761</td>\n",
       "      <td>3.855172</td>\n",
       "      <td>3.998514</td>\n",
       "    </tr>\n",
       "    <tr>\n",
       "      <th>4</th>\n",
       "      <td>663.933131</td>\n",
       "      <td>435.257101</td>\n",
       "      <td>411.616326</td>\n",
       "      <td>429.982375</td>\n",
       "      <td>172.019316</td>\n",
       "    </tr>\n",
       "  </tbody>\n",
       "</table>\n",
       "</div>"
      ],
      "text/plain": [
       "            0            1            2            3           4\n",
       "0  658.000000  2746.000000  7926.000000  1305.000000  673.000000\n",
       "1    0.688450     0.764385     0.754353     0.704981    0.827637\n",
       "2   -0.709726    -0.032775     0.178526    -0.055172    0.546805\n",
       "3    4.077508     3.264385     3.122761     3.855172    3.998514\n",
       "4  663.933131   435.257101   411.616326   429.982375  172.019316"
      ]
     },
     "execution_count": 148,
     "metadata": {},
     "output_type": "execute_result"
    }
   ],
   "source": [
    "a = 10\n",
    "pd.DataFrame([SUM_Bid1_11[a],SUM_Bid1_11[a+1]/SUM_Bid1_11[a],SUM_Bid1_11[a+2]/SUM_Bid1_11[a],SUM_Bid1_11[a+3]/SUM_Bid1_11[a],SUM_Bid1_11[a+4]/SUM_Bid1_11[a]])"
   ]
  },
  {
   "cell_type": "code",
   "execution_count": 149,
   "metadata": {
    "collapsed": false
   },
   "outputs": [
    {
     "data": {
      "text/html": [
       "<div>\n",
       "<table border=\"1\" class=\"dataframe\">\n",
       "  <thead>\n",
       "    <tr style=\"text-align: right;\">\n",
       "      <th></th>\n",
       "      <th>0</th>\n",
       "      <th>1</th>\n",
       "      <th>2</th>\n",
       "      <th>3</th>\n",
       "      <th>4</th>\n",
       "    </tr>\n",
       "  </thead>\n",
       "  <tbody>\n",
       "    <tr>\n",
       "      <th>0</th>\n",
       "      <td>532.000000</td>\n",
       "      <td>2028.000000</td>\n",
       "      <td>6173.000000</td>\n",
       "      <td>1019.000000</td>\n",
       "      <td>333.000000</td>\n",
       "    </tr>\n",
       "    <tr>\n",
       "      <th>1</th>\n",
       "      <td>0.569549</td>\n",
       "      <td>0.709566</td>\n",
       "      <td>0.684918</td>\n",
       "      <td>0.687929</td>\n",
       "      <td>0.717718</td>\n",
       "    </tr>\n",
       "    <tr>\n",
       "      <th>2</th>\n",
       "      <td>-1.701128</td>\n",
       "      <td>-0.118343</td>\n",
       "      <td>-0.177709</td>\n",
       "      <td>-0.198234</td>\n",
       "      <td>0.240240</td>\n",
       "    </tr>\n",
       "    <tr>\n",
       "      <th>3</th>\n",
       "      <td>5.469925</td>\n",
       "      <td>3.441815</td>\n",
       "      <td>3.489227</td>\n",
       "      <td>4.112856</td>\n",
       "      <td>4.795796</td>\n",
       "    </tr>\n",
       "    <tr>\n",
       "      <th>4</th>\n",
       "      <td>736.625940</td>\n",
       "      <td>491.636095</td>\n",
       "      <td>466.537826</td>\n",
       "      <td>477.061825</td>\n",
       "      <td>171.651652</td>\n",
       "    </tr>\n",
       "  </tbody>\n",
       "</table>\n",
       "</div>"
      ],
      "text/plain": [
       "            0            1            2            3           4\n",
       "0  532.000000  2028.000000  6173.000000  1019.000000  333.000000\n",
       "1    0.569549     0.709566     0.684918     0.687929    0.717718\n",
       "2   -1.701128    -0.118343    -0.177709    -0.198234    0.240240\n",
       "3    5.469925     3.441815     3.489227     4.112856    4.795796\n",
       "4  736.625940   491.636095   466.537826   477.061825  171.651652"
      ]
     },
     "execution_count": 149,
     "metadata": {},
     "output_type": "execute_result"
    }
   ],
   "source": [
    "a = 15\n",
    "pd.DataFrame([SUM_Bid1_11[a],SUM_Bid1_11[a+1]/SUM_Bid1_11[a],SUM_Bid1_11[a+2]/SUM_Bid1_11[a],SUM_Bid1_11[a+3]/SUM_Bid1_11[a],SUM_Bid1_11[a+4]/SUM_Bid1_11[a]])"
   ]
  },
  {
   "cell_type": "code",
   "execution_count": 150,
   "metadata": {
    "collapsed": false
   },
   "outputs": [
    {
     "data": {
      "text/html": [
       "<div>\n",
       "<table border=\"1\" class=\"dataframe\">\n",
       "  <thead>\n",
       "    <tr style=\"text-align: right;\">\n",
       "      <th></th>\n",
       "      <th>0</th>\n",
       "      <th>1</th>\n",
       "      <th>2</th>\n",
       "      <th>3</th>\n",
       "      <th>4</th>\n",
       "    </tr>\n",
       "  </thead>\n",
       "  <tbody>\n",
       "    <tr>\n",
       "      <th>0</th>\n",
       "      <td>1053.000000</td>\n",
       "      <td>3431.000000</td>\n",
       "      <td>9100.000000</td>\n",
       "      <td>1812.000000</td>\n",
       "      <td>373.000000</td>\n",
       "    </tr>\n",
       "    <tr>\n",
       "      <th>1</th>\n",
       "      <td>0.448243</td>\n",
       "      <td>0.637715</td>\n",
       "      <td>0.600549</td>\n",
       "      <td>0.669426</td>\n",
       "      <td>0.734584</td>\n",
       "    </tr>\n",
       "    <tr>\n",
       "      <th>2</th>\n",
       "      <td>-2.925926</td>\n",
       "      <td>-0.528709</td>\n",
       "      <td>-0.590769</td>\n",
       "      <td>-0.530905</td>\n",
       "      <td>0.018767</td>\n",
       "    </tr>\n",
       "    <tr>\n",
       "      <th>3</th>\n",
       "      <td>6.446344</td>\n",
       "      <td>3.831245</td>\n",
       "      <td>3.998132</td>\n",
       "      <td>3.969647</td>\n",
       "      <td>4.495979</td>\n",
       "    </tr>\n",
       "    <tr>\n",
       "      <th>4</th>\n",
       "      <td>723.368471</td>\n",
       "      <td>512.988342</td>\n",
       "      <td>529.479231</td>\n",
       "      <td>487.352649</td>\n",
       "      <td>138.825737</td>\n",
       "    </tr>\n",
       "  </tbody>\n",
       "</table>\n",
       "</div>"
      ],
      "text/plain": [
       "             0            1            2            3           4\n",
       "0  1053.000000  3431.000000  9100.000000  1812.000000  373.000000\n",
       "1     0.448243     0.637715     0.600549     0.669426    0.734584\n",
       "2    -2.925926    -0.528709    -0.590769    -0.530905    0.018767\n",
       "3     6.446344     3.831245     3.998132     3.969647    4.495979\n",
       "4   723.368471   512.988342   529.479231   487.352649  138.825737"
      ]
     },
     "execution_count": 150,
     "metadata": {},
     "output_type": "execute_result"
    }
   ],
   "source": [
    "a = 20\n",
    "pd.DataFrame([SUM_Bid1_11[a],SUM_Bid1_11[a+1]/SUM_Bid1_11[a],SUM_Bid1_11[a+2]/SUM_Bid1_11[a],SUM_Bid1_11[a+3]/SUM_Bid1_11[a],SUM_Bid1_11[a+4]/SUM_Bid1_11[a]])"
   ]
  },
  {
   "cell_type": "code",
   "execution_count": null,
   "metadata": {
    "collapsed": true
   },
   "outputs": [],
   "source": []
  },
  {
   "cell_type": "code",
   "execution_count": 151,
   "metadata": {
    "collapsed": false
   },
   "outputs": [
    {
     "data": {
      "text/html": [
       "<div>\n",
       "<table border=\"1\" class=\"dataframe\">\n",
       "  <thead>\n",
       "    <tr style=\"text-align: right;\">\n",
       "      <th></th>\n",
       "      <th>0</th>\n",
       "      <th>1</th>\n",
       "      <th>2</th>\n",
       "      <th>3</th>\n",
       "      <th>4</th>\n",
       "    </tr>\n",
       "  </thead>\n",
       "  <tbody>\n",
       "    <tr>\n",
       "      <th>0</th>\n",
       "      <td>681.000000</td>\n",
       "      <td>2272.000000</td>\n",
       "      <td>5032.000000</td>\n",
       "      <td>814.000000</td>\n",
       "      <td>597.000000</td>\n",
       "    </tr>\n",
       "    <tr>\n",
       "      <th>1</th>\n",
       "      <td>0.681351</td>\n",
       "      <td>0.789173</td>\n",
       "      <td>0.756359</td>\n",
       "      <td>0.748157</td>\n",
       "      <td>0.775544</td>\n",
       "    </tr>\n",
       "    <tr>\n",
       "      <th>2</th>\n",
       "      <td>1.042584</td>\n",
       "      <td>1.137324</td>\n",
       "      <td>1.065580</td>\n",
       "      <td>1.055283</td>\n",
       "      <td>1.167504</td>\n",
       "    </tr>\n",
       "    <tr>\n",
       "      <th>3</th>\n",
       "      <td>3.665198</td>\n",
       "      <td>3.519366</td>\n",
       "      <td>3.932432</td>\n",
       "      <td>4.660934</td>\n",
       "      <td>5.087102</td>\n",
       "    </tr>\n",
       "    <tr>\n",
       "      <th>4</th>\n",
       "      <td>671.098385</td>\n",
       "      <td>424.057658</td>\n",
       "      <td>435.360692</td>\n",
       "      <td>475.216216</td>\n",
       "      <td>234.668342</td>\n",
       "    </tr>\n",
       "  </tbody>\n",
       "</table>\n",
       "</div>"
      ],
      "text/plain": [
       "            0            1            2           3           4\n",
       "0  681.000000  2272.000000  5032.000000  814.000000  597.000000\n",
       "1    0.681351     0.789173     0.756359    0.748157    0.775544\n",
       "2    1.042584     1.137324     1.065580    1.055283    1.167504\n",
       "3    3.665198     3.519366     3.932432    4.660934    5.087102\n",
       "4  671.098385   424.057658   435.360692  475.216216  234.668342"
      ]
     },
     "execution_count": 151,
     "metadata": {},
     "output_type": "execute_result"
    }
   ],
   "source": [
    "a = 0\n",
    "pd.DataFrame([SUM_Bid2_11[a],SUM_Bid2_11[a+1]/SUM_Bid2_11[a],SUM_Bid2_11[a+2]/SUM_Bid2_11[a],SUM_Bid2_11[a+3]/SUM_Bid2_11[a],SUM_Bid2_11[a+4]/SUM_Bid2_11[a]])"
   ]
  },
  {
   "cell_type": "code",
   "execution_count": 152,
   "metadata": {
    "collapsed": false
   },
   "outputs": [
    {
     "data": {
      "text/html": [
       "<div>\n",
       "<table border=\"1\" class=\"dataframe\">\n",
       "  <thead>\n",
       "    <tr style=\"text-align: right;\">\n",
       "      <th></th>\n",
       "      <th>0</th>\n",
       "      <th>1</th>\n",
       "      <th>2</th>\n",
       "      <th>3</th>\n",
       "      <th>4</th>\n",
       "    </tr>\n",
       "  </thead>\n",
       "  <tbody>\n",
       "    <tr>\n",
       "      <th>0</th>\n",
       "      <td>671.000000</td>\n",
       "      <td>2383.000000</td>\n",
       "      <td>6590.000000</td>\n",
       "      <td>1127.000000</td>\n",
       "      <td>671.000000</td>\n",
       "    </tr>\n",
       "    <tr>\n",
       "      <th>1</th>\n",
       "      <td>0.576751</td>\n",
       "      <td>0.664289</td>\n",
       "      <td>0.657815</td>\n",
       "      <td>0.564330</td>\n",
       "      <td>0.719821</td>\n",
       "    </tr>\n",
       "    <tr>\n",
       "      <th>2</th>\n",
       "      <td>-0.514158</td>\n",
       "      <td>0.484264</td>\n",
       "      <td>0.658270</td>\n",
       "      <td>0.468500</td>\n",
       "      <td>1.061103</td>\n",
       "    </tr>\n",
       "    <tr>\n",
       "      <th>3</th>\n",
       "      <td>5.472429</td>\n",
       "      <td>4.337809</td>\n",
       "      <td>4.222914</td>\n",
       "      <td>4.749778</td>\n",
       "      <td>5.429210</td>\n",
       "    </tr>\n",
       "    <tr>\n",
       "      <th>4</th>\n",
       "      <td>877.450075</td>\n",
       "      <td>569.543433</td>\n",
       "      <td>517.181032</td>\n",
       "      <td>561.022183</td>\n",
       "      <td>205.684054</td>\n",
       "    </tr>\n",
       "  </tbody>\n",
       "</table>\n",
       "</div>"
      ],
      "text/plain": [
       "            0            1            2            3           4\n",
       "0  671.000000  2383.000000  6590.000000  1127.000000  671.000000\n",
       "1    0.576751     0.664289     0.657815     0.564330    0.719821\n",
       "2   -0.514158     0.484264     0.658270     0.468500    1.061103\n",
       "3    5.472429     4.337809     4.222914     4.749778    5.429210\n",
       "4  877.450075   569.543433   517.181032   561.022183  205.684054"
      ]
     },
     "execution_count": 152,
     "metadata": {},
     "output_type": "execute_result"
    }
   ],
   "source": [
    "a = 5\n",
    "pd.DataFrame([SUM_Bid2_11[a],SUM_Bid2_11[a+1]/SUM_Bid2_11[a],SUM_Bid2_11[a+2]/SUM_Bid2_11[a],SUM_Bid2_11[a+3]/SUM_Bid2_11[a],SUM_Bid2_11[a+4]/SUM_Bid2_11[a]])"
   ]
  },
  {
   "cell_type": "code",
   "execution_count": 153,
   "metadata": {
    "collapsed": false
   },
   "outputs": [
    {
     "data": {
      "text/html": [
       "<div>\n",
       "<table border=\"1\" class=\"dataframe\">\n",
       "  <thead>\n",
       "    <tr style=\"text-align: right;\">\n",
       "      <th></th>\n",
       "      <th>0</th>\n",
       "      <th>1</th>\n",
       "      <th>2</th>\n",
       "      <th>3</th>\n",
       "      <th>4</th>\n",
       "    </tr>\n",
       "  </thead>\n",
       "  <tbody>\n",
       "    <tr>\n",
       "      <th>0</th>\n",
       "      <td>658.000000</td>\n",
       "      <td>2746.000000</td>\n",
       "      <td>7926.000000</td>\n",
       "      <td>1305.000000</td>\n",
       "      <td>673.000000</td>\n",
       "    </tr>\n",
       "    <tr>\n",
       "      <th>1</th>\n",
       "      <td>0.519757</td>\n",
       "      <td>0.609978</td>\n",
       "      <td>0.578224</td>\n",
       "      <td>0.501916</td>\n",
       "      <td>0.774146</td>\n",
       "    </tr>\n",
       "    <tr>\n",
       "      <th>2</th>\n",
       "      <td>-0.866261</td>\n",
       "      <td>0.191916</td>\n",
       "      <td>0.424552</td>\n",
       "      <td>0.214559</td>\n",
       "      <td>1.267459</td>\n",
       "    </tr>\n",
       "    <tr>\n",
       "      <th>3</th>\n",
       "      <td>5.863222</td>\n",
       "      <td>4.707210</td>\n",
       "      <td>4.444991</td>\n",
       "      <td>5.156322</td>\n",
       "      <td>5.234770</td>\n",
       "    </tr>\n",
       "    <tr>\n",
       "      <th>4</th>\n",
       "      <td>848.943769</td>\n",
       "      <td>610.981063</td>\n",
       "      <td>567.324249</td>\n",
       "      <td>614.866667</td>\n",
       "      <td>222.268945</td>\n",
       "    </tr>\n",
       "  </tbody>\n",
       "</table>\n",
       "</div>"
      ],
      "text/plain": [
       "            0            1            2            3           4\n",
       "0  658.000000  2746.000000  7926.000000  1305.000000  673.000000\n",
       "1    0.519757     0.609978     0.578224     0.501916    0.774146\n",
       "2   -0.866261     0.191916     0.424552     0.214559    1.267459\n",
       "3    5.863222     4.707210     4.444991     5.156322    5.234770\n",
       "4  848.943769   610.981063   567.324249   614.866667  222.268945"
      ]
     },
     "execution_count": 153,
     "metadata": {},
     "output_type": "execute_result"
    }
   ],
   "source": [
    "a = 10\n",
    "pd.DataFrame([SUM_Bid2_11[a],SUM_Bid2_11[a+1]/SUM_Bid2_11[a],SUM_Bid2_11[a+2]/SUM_Bid2_11[a],SUM_Bid2_11[a+3]/SUM_Bid2_11[a],SUM_Bid2_11[a+4]/SUM_Bid2_11[a]])"
   ]
  },
  {
   "cell_type": "code",
   "execution_count": 154,
   "metadata": {
    "collapsed": false
   },
   "outputs": [
    {
     "data": {
      "text/html": [
       "<div>\n",
       "<table border=\"1\" class=\"dataframe\">\n",
       "  <thead>\n",
       "    <tr style=\"text-align: right;\">\n",
       "      <th></th>\n",
       "      <th>0</th>\n",
       "      <th>1</th>\n",
       "      <th>2</th>\n",
       "      <th>3</th>\n",
       "      <th>4</th>\n",
       "    </tr>\n",
       "  </thead>\n",
       "  <tbody>\n",
       "    <tr>\n",
       "      <th>0</th>\n",
       "      <td>532.000000</td>\n",
       "      <td>2028.000000</td>\n",
       "      <td>6173.000000</td>\n",
       "      <td>1019.000000</td>\n",
       "      <td>333.000000</td>\n",
       "    </tr>\n",
       "    <tr>\n",
       "      <th>1</th>\n",
       "      <td>0.387218</td>\n",
       "      <td>0.496548</td>\n",
       "      <td>0.499109</td>\n",
       "      <td>0.451423</td>\n",
       "      <td>0.642643</td>\n",
       "    </tr>\n",
       "    <tr>\n",
       "      <th>2</th>\n",
       "      <td>-2.287594</td>\n",
       "      <td>-0.177022</td>\n",
       "      <td>0.009882</td>\n",
       "      <td>0.040236</td>\n",
       "      <td>0.849850</td>\n",
       "    </tr>\n",
       "    <tr>\n",
       "      <th>3</th>\n",
       "      <td>7.411654</td>\n",
       "      <td>5.025148</td>\n",
       "      <td>4.787462</td>\n",
       "      <td>5.289500</td>\n",
       "      <td>5.939940</td>\n",
       "    </tr>\n",
       "    <tr>\n",
       "      <th>4</th>\n",
       "      <td>932.073308</td>\n",
       "      <td>654.364892</td>\n",
       "      <td>622.114855</td>\n",
       "      <td>658.031403</td>\n",
       "      <td>191.702703</td>\n",
       "    </tr>\n",
       "  </tbody>\n",
       "</table>\n",
       "</div>"
      ],
      "text/plain": [
       "            0            1            2            3           4\n",
       "0  532.000000  2028.000000  6173.000000  1019.000000  333.000000\n",
       "1    0.387218     0.496548     0.499109     0.451423    0.642643\n",
       "2   -2.287594    -0.177022     0.009882     0.040236    0.849850\n",
       "3    7.411654     5.025148     4.787462     5.289500    5.939940\n",
       "4  932.073308   654.364892   622.114855   658.031403  191.702703"
      ]
     },
     "execution_count": 154,
     "metadata": {},
     "output_type": "execute_result"
    }
   ],
   "source": [
    "a = 15\n",
    "pd.DataFrame([SUM_Bid2_11[a],SUM_Bid2_11[a+1]/SUM_Bid2_11[a],SUM_Bid2_11[a+2]/SUM_Bid2_11[a],SUM_Bid2_11[a+3]/SUM_Bid2_11[a],SUM_Bid2_11[a+4]/SUM_Bid2_11[a]])"
   ]
  },
  {
   "cell_type": "code",
   "execution_count": 155,
   "metadata": {
    "collapsed": false
   },
   "outputs": [
    {
     "data": {
      "text/html": [
       "<div>\n",
       "<table border=\"1\" class=\"dataframe\">\n",
       "  <thead>\n",
       "    <tr style=\"text-align: right;\">\n",
       "      <th></th>\n",
       "      <th>0</th>\n",
       "      <th>1</th>\n",
       "      <th>2</th>\n",
       "      <th>3</th>\n",
       "      <th>4</th>\n",
       "    </tr>\n",
       "  </thead>\n",
       "  <tbody>\n",
       "    <tr>\n",
       "      <th>0</th>\n",
       "      <td>1053.000000</td>\n",
       "      <td>3431.000000</td>\n",
       "      <td>9100.000000</td>\n",
       "      <td>1812.000000</td>\n",
       "      <td>373.000000</td>\n",
       "    </tr>\n",
       "    <tr>\n",
       "      <th>1</th>\n",
       "      <td>0.303894</td>\n",
       "      <td>0.450015</td>\n",
       "      <td>0.428022</td>\n",
       "      <td>0.513797</td>\n",
       "      <td>0.683646</td>\n",
       "    </tr>\n",
       "    <tr>\n",
       "      <th>2</th>\n",
       "      <td>-3.203229</td>\n",
       "      <td>-0.608569</td>\n",
       "      <td>-0.457033</td>\n",
       "      <td>-0.193157</td>\n",
       "      <td>0.640751</td>\n",
       "    </tr>\n",
       "    <tr>\n",
       "      <th>3</th>\n",
       "      <td>8.144349</td>\n",
       "      <td>5.379773</td>\n",
       "      <td>5.345604</td>\n",
       "      <td>5.135210</td>\n",
       "      <td>5.766756</td>\n",
       "    </tr>\n",
       "    <tr>\n",
       "      <th>4</th>\n",
       "      <td>841.364672</td>\n",
       "      <td>669.260565</td>\n",
       "      <td>682.354615</td>\n",
       "      <td>614.055740</td>\n",
       "      <td>175.766756</td>\n",
       "    </tr>\n",
       "  </tbody>\n",
       "</table>\n",
       "</div>"
      ],
      "text/plain": [
       "             0            1            2            3           4\n",
       "0  1053.000000  3431.000000  9100.000000  1812.000000  373.000000\n",
       "1     0.303894     0.450015     0.428022     0.513797    0.683646\n",
       "2    -3.203229    -0.608569    -0.457033    -0.193157    0.640751\n",
       "3     8.144349     5.379773     5.345604     5.135210    5.766756\n",
       "4   841.364672   669.260565   682.354615   614.055740  175.766756"
      ]
     },
     "execution_count": 155,
     "metadata": {},
     "output_type": "execute_result"
    }
   ],
   "source": [
    "a = 20\n",
    "pd.DataFrame([SUM_Bid2_11[a],SUM_Bid2_11[a+1]/SUM_Bid2_11[a],SUM_Bid2_11[a+2]/SUM_Bid2_11[a],SUM_Bid2_11[a+3]/SUM_Bid2_11[a],SUM_Bid2_11[a+4]/SUM_Bid2_11[a]])"
   ]
  },
  {
   "cell_type": "code",
   "execution_count": null,
   "metadata": {
    "collapsed": true
   },
   "outputs": [],
   "source": []
  },
  {
   "cell_type": "code",
   "execution_count": 156,
   "metadata": {
    "collapsed": false
   },
   "outputs": [
    {
     "data": {
      "text/html": [
       "<div>\n",
       "<table border=\"1\" class=\"dataframe\">\n",
       "  <thead>\n",
       "    <tr style=\"text-align: right;\">\n",
       "      <th></th>\n",
       "      <th>0</th>\n",
       "      <th>1</th>\n",
       "      <th>2</th>\n",
       "      <th>3</th>\n",
       "      <th>4</th>\n",
       "    </tr>\n",
       "  </thead>\n",
       "  <tbody>\n",
       "    <tr>\n",
       "      <th>0</th>\n",
       "      <td>681.000000</td>\n",
       "      <td>2272.000000</td>\n",
       "      <td>5032.000000</td>\n",
       "      <td>814.000000</td>\n",
       "      <td>597.000000</td>\n",
       "    </tr>\n",
       "    <tr>\n",
       "      <th>1</th>\n",
       "      <td>0.502203</td>\n",
       "      <td>0.624560</td>\n",
       "      <td>0.577901</td>\n",
       "      <td>0.654791</td>\n",
       "      <td>0.713568</td>\n",
       "    </tr>\n",
       "    <tr>\n",
       "      <th>2</th>\n",
       "      <td>1.547724</td>\n",
       "      <td>1.415933</td>\n",
       "      <td>1.319555</td>\n",
       "      <td>1.613022</td>\n",
       "      <td>1.845896</td>\n",
       "    </tr>\n",
       "    <tr>\n",
       "      <th>3</th>\n",
       "      <td>4.716593</td>\n",
       "      <td>4.801937</td>\n",
       "      <td>5.166335</td>\n",
       "      <td>5.730958</td>\n",
       "      <td>6.107203</td>\n",
       "    </tr>\n",
       "    <tr>\n",
       "      <th>4</th>\n",
       "      <td>801.387665</td>\n",
       "      <td>581.121039</td>\n",
       "      <td>588.632353</td>\n",
       "      <td>595.540541</td>\n",
       "      <td>260.932998</td>\n",
       "    </tr>\n",
       "  </tbody>\n",
       "</table>\n",
       "</div>"
      ],
      "text/plain": [
       "            0            1            2           3           4\n",
       "0  681.000000  2272.000000  5032.000000  814.000000  597.000000\n",
       "1    0.502203     0.624560     0.577901    0.654791    0.713568\n",
       "2    1.547724     1.415933     1.319555    1.613022    1.845896\n",
       "3    4.716593     4.801937     5.166335    5.730958    6.107203\n",
       "4  801.387665   581.121039   588.632353  595.540541  260.932998"
      ]
     },
     "execution_count": 156,
     "metadata": {},
     "output_type": "execute_result"
    }
   ],
   "source": [
    "a = 0\n",
    "pd.DataFrame([SUM_Bid3_11[a],SUM_Bid3_11[a+1]/SUM_Bid3_11[a],SUM_Bid3_11[a+2]/SUM_Bid3_11[a],SUM_Bid3_11[a+3]/SUM_Bid3_11[a],SUM_Bid3_11[a+4]/SUM_Bid3_11[a]])"
   ]
  },
  {
   "cell_type": "code",
   "execution_count": 157,
   "metadata": {
    "collapsed": false
   },
   "outputs": [
    {
     "data": {
      "text/html": [
       "<div>\n",
       "<table border=\"1\" class=\"dataframe\">\n",
       "  <thead>\n",
       "    <tr style=\"text-align: right;\">\n",
       "      <th></th>\n",
       "      <th>0</th>\n",
       "      <th>1</th>\n",
       "      <th>2</th>\n",
       "      <th>3</th>\n",
       "      <th>4</th>\n",
       "    </tr>\n",
       "  </thead>\n",
       "  <tbody>\n",
       "    <tr>\n",
       "      <th>0</th>\n",
       "      <td>671.000000</td>\n",
       "      <td>2383.000000</td>\n",
       "      <td>6590.000000</td>\n",
       "      <td>1127.000000</td>\n",
       "      <td>671.000000</td>\n",
       "    </tr>\n",
       "    <tr>\n",
       "      <th>1</th>\n",
       "      <td>0.375559</td>\n",
       "      <td>0.473353</td>\n",
       "      <td>0.495599</td>\n",
       "      <td>0.465839</td>\n",
       "      <td>0.622951</td>\n",
       "    </tr>\n",
       "    <tr>\n",
       "      <th>2</th>\n",
       "      <td>-0.186289</td>\n",
       "      <td>0.628619</td>\n",
       "      <td>0.871472</td>\n",
       "      <td>0.819876</td>\n",
       "      <td>1.530551</td>\n",
       "    </tr>\n",
       "    <tr>\n",
       "      <th>3</th>\n",
       "      <td>6.584203</td>\n",
       "      <td>5.566093</td>\n",
       "      <td>5.469044</td>\n",
       "      <td>5.826974</td>\n",
       "      <td>6.512668</td>\n",
       "    </tr>\n",
       "    <tr>\n",
       "      <th>4</th>\n",
       "      <td>1021.140089</td>\n",
       "      <td>710.910617</td>\n",
       "      <td>657.741123</td>\n",
       "      <td>653.744454</td>\n",
       "      <td>222.675112</td>\n",
       "    </tr>\n",
       "  </tbody>\n",
       "</table>\n",
       "</div>"
      ],
      "text/plain": [
       "             0            1            2            3           4\n",
       "0   671.000000  2383.000000  6590.000000  1127.000000  671.000000\n",
       "1     0.375559     0.473353     0.495599     0.465839    0.622951\n",
       "2    -0.186289     0.628619     0.871472     0.819876    1.530551\n",
       "3     6.584203     5.566093     5.469044     5.826974    6.512668\n",
       "4  1021.140089   710.910617   657.741123   653.744454  222.675112"
      ]
     },
     "execution_count": 157,
     "metadata": {},
     "output_type": "execute_result"
    }
   ],
   "source": [
    "a = 5\n",
    "pd.DataFrame([SUM_Bid3_11[a],SUM_Bid3_11[a+1]/SUM_Bid3_11[a],SUM_Bid3_11[a+2]/SUM_Bid3_11[a],SUM_Bid3_11[a+3]/SUM_Bid3_11[a],SUM_Bid3_11[a+4]/SUM_Bid3_11[a]])"
   ]
  },
  {
   "cell_type": "code",
   "execution_count": 158,
   "metadata": {
    "collapsed": false
   },
   "outputs": [
    {
     "data": {
      "text/html": [
       "<div>\n",
       "<table border=\"1\" class=\"dataframe\">\n",
       "  <thead>\n",
       "    <tr style=\"text-align: right;\">\n",
       "      <th></th>\n",
       "      <th>0</th>\n",
       "      <th>1</th>\n",
       "      <th>2</th>\n",
       "      <th>3</th>\n",
       "      <th>4</th>\n",
       "    </tr>\n",
       "  </thead>\n",
       "  <tbody>\n",
       "    <tr>\n",
       "      <th>0</th>\n",
       "      <td>658.000000</td>\n",
       "      <td>2746.000000</td>\n",
       "      <td>7926.000000</td>\n",
       "      <td>1305.000000</td>\n",
       "      <td>673.000000</td>\n",
       "    </tr>\n",
       "    <tr>\n",
       "      <th>1</th>\n",
       "      <td>0.360182</td>\n",
       "      <td>0.442098</td>\n",
       "      <td>0.458617</td>\n",
       "      <td>0.351724</td>\n",
       "      <td>0.671620</td>\n",
       "    </tr>\n",
       "    <tr>\n",
       "      <th>2</th>\n",
       "      <td>-0.571429</td>\n",
       "      <td>0.234523</td>\n",
       "      <td>0.727101</td>\n",
       "      <td>0.358621</td>\n",
       "      <td>1.751857</td>\n",
       "    </tr>\n",
       "    <tr>\n",
       "      <th>3</th>\n",
       "      <td>6.968085</td>\n",
       "      <td>6.025856</td>\n",
       "      <td>5.554252</td>\n",
       "      <td>6.228352</td>\n",
       "      <td>6.334324</td>\n",
       "    </tr>\n",
       "    <tr>\n",
       "      <th>4</th>\n",
       "      <td>996.006079</td>\n",
       "      <td>744.319738</td>\n",
       "      <td>673.741862</td>\n",
       "      <td>716.855939</td>\n",
       "      <td>232.203566</td>\n",
       "    </tr>\n",
       "  </tbody>\n",
       "</table>\n",
       "</div>"
      ],
      "text/plain": [
       "            0            1            2            3           4\n",
       "0  658.000000  2746.000000  7926.000000  1305.000000  673.000000\n",
       "1    0.360182     0.442098     0.458617     0.351724    0.671620\n",
       "2   -0.571429     0.234523     0.727101     0.358621    1.751857\n",
       "3    6.968085     6.025856     5.554252     6.228352    6.334324\n",
       "4  996.006079   744.319738   673.741862   716.855939  232.203566"
      ]
     },
     "execution_count": 158,
     "metadata": {},
     "output_type": "execute_result"
    }
   ],
   "source": [
    "a = 10\n",
    "pd.DataFrame([SUM_Bid3_11[a],SUM_Bid3_11[a+1]/SUM_Bid3_11[a],SUM_Bid3_11[a+2]/SUM_Bid3_11[a],SUM_Bid3_11[a+3]/SUM_Bid3_11[a],SUM_Bid3_11[a+4]/SUM_Bid3_11[a]])"
   ]
  },
  {
   "cell_type": "code",
   "execution_count": 159,
   "metadata": {
    "collapsed": false
   },
   "outputs": [
    {
     "data": {
      "text/html": [
       "<div>\n",
       "<table border=\"1\" class=\"dataframe\">\n",
       "  <thead>\n",
       "    <tr style=\"text-align: right;\">\n",
       "      <th></th>\n",
       "      <th>0</th>\n",
       "      <th>1</th>\n",
       "      <th>2</th>\n",
       "      <th>3</th>\n",
       "      <th>4</th>\n",
       "    </tr>\n",
       "  </thead>\n",
       "  <tbody>\n",
       "    <tr>\n",
       "      <th>0</th>\n",
       "      <td>532.000000</td>\n",
       "      <td>2028.000000</td>\n",
       "      <td>6173.000000</td>\n",
       "      <td>1019.000000</td>\n",
       "      <td>333.000000</td>\n",
       "    </tr>\n",
       "    <tr>\n",
       "      <th>1</th>\n",
       "      <td>0.274436</td>\n",
       "      <td>0.354043</td>\n",
       "      <td>0.396242</td>\n",
       "      <td>0.319921</td>\n",
       "      <td>0.465465</td>\n",
       "    </tr>\n",
       "    <tr>\n",
       "      <th>2</th>\n",
       "      <td>-2.167293</td>\n",
       "      <td>-0.049803</td>\n",
       "      <td>0.298882</td>\n",
       "      <td>0.187439</td>\n",
       "      <td>0.942943</td>\n",
       "    </tr>\n",
       "    <tr>\n",
       "      <th>3</th>\n",
       "      <td>8.592105</td>\n",
       "      <td>6.207101</td>\n",
       "      <td>5.869755</td>\n",
       "      <td>6.355250</td>\n",
       "      <td>7.090090</td>\n",
       "    </tr>\n",
       "    <tr>\n",
       "      <th>4</th>\n",
       "      <td>1067.043233</td>\n",
       "      <td>761.539448</td>\n",
       "      <td>711.534748</td>\n",
       "      <td>749.997056</td>\n",
       "      <td>136.702703</td>\n",
       "    </tr>\n",
       "  </tbody>\n",
       "</table>\n",
       "</div>"
      ],
      "text/plain": [
       "             0            1            2            3           4\n",
       "0   532.000000  2028.000000  6173.000000  1019.000000  333.000000\n",
       "1     0.274436     0.354043     0.396242     0.319921    0.465465\n",
       "2    -2.167293    -0.049803     0.298882     0.187439    0.942943\n",
       "3     8.592105     6.207101     5.869755     6.355250    7.090090\n",
       "4  1067.043233   761.539448   711.534748   749.997056  136.702703"
      ]
     },
     "execution_count": 159,
     "metadata": {},
     "output_type": "execute_result"
    }
   ],
   "source": [
    "a = 15\n",
    "pd.DataFrame([SUM_Bid3_11[a],SUM_Bid3_11[a+1]/SUM_Bid3_11[a],SUM_Bid3_11[a+2]/SUM_Bid3_11[a],SUM_Bid3_11[a+3]/SUM_Bid3_11[a],SUM_Bid3_11[a+4]/SUM_Bid3_11[a]])"
   ]
  },
  {
   "cell_type": "code",
   "execution_count": 160,
   "metadata": {
    "collapsed": false
   },
   "outputs": [
    {
     "data": {
      "text/html": [
       "<div>\n",
       "<table border=\"1\" class=\"dataframe\">\n",
       "  <thead>\n",
       "    <tr style=\"text-align: right;\">\n",
       "      <th></th>\n",
       "      <th>0</th>\n",
       "      <th>1</th>\n",
       "      <th>2</th>\n",
       "      <th>3</th>\n",
       "      <th>4</th>\n",
       "    </tr>\n",
       "  </thead>\n",
       "  <tbody>\n",
       "    <tr>\n",
       "      <th>0</th>\n",
       "      <td>1053.000000</td>\n",
       "      <td>3431.000000</td>\n",
       "      <td>9100.000000</td>\n",
       "      <td>1812.000000</td>\n",
       "      <td>373.000000</td>\n",
       "    </tr>\n",
       "    <tr>\n",
       "      <th>1</th>\n",
       "      <td>0.249763</td>\n",
       "      <td>0.292918</td>\n",
       "      <td>0.336703</td>\n",
       "      <td>0.387969</td>\n",
       "      <td>0.597855</td>\n",
       "    </tr>\n",
       "    <tr>\n",
       "      <th>2</th>\n",
       "      <td>-2.966762</td>\n",
       "      <td>-0.586418</td>\n",
       "      <td>-0.203736</td>\n",
       "      <td>0.057395</td>\n",
       "      <td>0.989276</td>\n",
       "    </tr>\n",
       "    <tr>\n",
       "      <th>3</th>\n",
       "      <td>9.170940</td>\n",
       "      <td>6.559604</td>\n",
       "      <td>6.429011</td>\n",
       "      <td>6.198124</td>\n",
       "      <td>6.903485</td>\n",
       "    </tr>\n",
       "    <tr>\n",
       "      <th>4</th>\n",
       "      <td>894.863248</td>\n",
       "      <td>780.984553</td>\n",
       "      <td>750.077473</td>\n",
       "      <td>700.118653</td>\n",
       "      <td>194.367292</td>\n",
       "    </tr>\n",
       "  </tbody>\n",
       "</table>\n",
       "</div>"
      ],
      "text/plain": [
       "             0            1            2            3           4\n",
       "0  1053.000000  3431.000000  9100.000000  1812.000000  373.000000\n",
       "1     0.249763     0.292918     0.336703     0.387969    0.597855\n",
       "2    -2.966762    -0.586418    -0.203736     0.057395    0.989276\n",
       "3     9.170940     6.559604     6.429011     6.198124    6.903485\n",
       "4   894.863248   780.984553   750.077473   700.118653  194.367292"
      ]
     },
     "execution_count": 160,
     "metadata": {},
     "output_type": "execute_result"
    }
   ],
   "source": [
    "a = 20\n",
    "pd.DataFrame([SUM_Bid3_11[a],SUM_Bid3_11[a+1]/SUM_Bid3_11[a],SUM_Bid3_11[a+2]/SUM_Bid3_11[a],SUM_Bid3_11[a+3]/SUM_Bid3_11[a],SUM_Bid3_11[a+4]/SUM_Bid3_11[a]])"
   ]
  },
  {
   "cell_type": "code",
   "execution_count": null,
   "metadata": {
    "collapsed": true
   },
   "outputs": [],
   "source": []
  },
  {
   "cell_type": "code",
   "execution_count": 161,
   "metadata": {
    "collapsed": false
   },
   "outputs": [
    {
     "data": {
      "text/html": [
       "<div>\n",
       "<table border=\"1\" class=\"dataframe\">\n",
       "  <thead>\n",
       "    <tr style=\"text-align: right;\">\n",
       "      <th></th>\n",
       "      <th>0</th>\n",
       "      <th>1</th>\n",
       "      <th>2</th>\n",
       "      <th>3</th>\n",
       "      <th>4</th>\n",
       "    </tr>\n",
       "  </thead>\n",
       "  <tbody>\n",
       "    <tr>\n",
       "      <th>0</th>\n",
       "      <td>76.000000</td>\n",
       "      <td>232.000000</td>\n",
       "      <td>18728.000000</td>\n",
       "      <td>757.000000</td>\n",
       "      <td>92.000000</td>\n",
       "    </tr>\n",
       "    <tr>\n",
       "      <th>1</th>\n",
       "      <td>0.302632</td>\n",
       "      <td>0.137931</td>\n",
       "      <td>0.164513</td>\n",
       "      <td>0.367239</td>\n",
       "      <td>0.804348</td>\n",
       "    </tr>\n",
       "    <tr>\n",
       "      <th>2</th>\n",
       "      <td>-1.328947</td>\n",
       "      <td>0.344828</td>\n",
       "      <td>-0.260572</td>\n",
       "      <td>0.664465</td>\n",
       "      <td>0.630435</td>\n",
       "    </tr>\n",
       "    <tr>\n",
       "      <th>3</th>\n",
       "      <td>3.881579</td>\n",
       "      <td>2.008621</td>\n",
       "      <td>1.855938</td>\n",
       "      <td>1.381770</td>\n",
       "      <td>2.456522</td>\n",
       "    </tr>\n",
       "    <tr>\n",
       "      <th>4</th>\n",
       "      <td>851.421053</td>\n",
       "      <td>816.077586</td>\n",
       "      <td>823.567493</td>\n",
       "      <td>635.462351</td>\n",
       "      <td>65.608696</td>\n",
       "    </tr>\n",
       "  </tbody>\n",
       "</table>\n",
       "</div>"
      ],
      "text/plain": [
       "            0           1             2           3          4\n",
       "0   76.000000  232.000000  18728.000000  757.000000  92.000000\n",
       "1    0.302632    0.137931      0.164513    0.367239   0.804348\n",
       "2   -1.328947    0.344828     -0.260572    0.664465   0.630435\n",
       "3    3.881579    2.008621      1.855938    1.381770   2.456522\n",
       "4  851.421053  816.077586    823.567493  635.462351  65.608696"
      ]
     },
     "execution_count": 161,
     "metadata": {},
     "output_type": "execute_result"
    }
   ],
   "source": [
    "a = 0\n",
    "pd.DataFrame([SUM_Bid1_13[a],SUM_Bid1_13[a+1]/SUM_Bid1_13[a],SUM_Bid1_13[a+2]/SUM_Bid1_13[a],SUM_Bid1_13[a+3]/SUM_Bid1_13[a],SUM_Bid1_13[a+4]/SUM_Bid1_13[a]])"
   ]
  },
  {
   "cell_type": "code",
   "execution_count": 162,
   "metadata": {
    "collapsed": false
   },
   "outputs": [
    {
     "data": {
      "text/html": [
       "<div>\n",
       "<table border=\"1\" class=\"dataframe\">\n",
       "  <thead>\n",
       "    <tr style=\"text-align: right;\">\n",
       "      <th></th>\n",
       "      <th>0</th>\n",
       "      <th>1</th>\n",
       "      <th>2</th>\n",
       "      <th>3</th>\n",
       "      <th>4</th>\n",
       "    </tr>\n",
       "  </thead>\n",
       "  <tbody>\n",
       "    <tr>\n",
       "      <th>0</th>\n",
       "      <td>43.000000</td>\n",
       "      <td>334.000000</td>\n",
       "      <td>14565.000000</td>\n",
       "      <td>573.000000</td>\n",
       "      <td>190.000000</td>\n",
       "    </tr>\n",
       "    <tr>\n",
       "      <th>1</th>\n",
       "      <td>0.279070</td>\n",
       "      <td>0.212575</td>\n",
       "      <td>0.111500</td>\n",
       "      <td>0.717277</td>\n",
       "      <td>0.842105</td>\n",
       "    </tr>\n",
       "    <tr>\n",
       "      <th>2</th>\n",
       "      <td>-1.534884</td>\n",
       "      <td>0.053892</td>\n",
       "      <td>0.069001</td>\n",
       "      <td>0.040140</td>\n",
       "      <td>0.731579</td>\n",
       "    </tr>\n",
       "    <tr>\n",
       "      <th>3</th>\n",
       "      <td>4.302326</td>\n",
       "      <td>2.700599</td>\n",
       "      <td>1.310539</td>\n",
       "      <td>2.650960</td>\n",
       "      <td>2.636842</td>\n",
       "    </tr>\n",
       "    <tr>\n",
       "      <th>4</th>\n",
       "      <td>1286.837209</td>\n",
       "      <td>742.727545</td>\n",
       "      <td>839.450875</td>\n",
       "      <td>410.188482</td>\n",
       "      <td>221.463158</td>\n",
       "    </tr>\n",
       "  </tbody>\n",
       "</table>\n",
       "</div>"
      ],
      "text/plain": [
       "             0           1             2           3           4\n",
       "0    43.000000  334.000000  14565.000000  573.000000  190.000000\n",
       "1     0.279070    0.212575      0.111500    0.717277    0.842105\n",
       "2    -1.534884    0.053892      0.069001    0.040140    0.731579\n",
       "3     4.302326    2.700599      1.310539    2.650960    2.636842\n",
       "4  1286.837209  742.727545    839.450875  410.188482  221.463158"
      ]
     },
     "execution_count": 162,
     "metadata": {},
     "output_type": "execute_result"
    }
   ],
   "source": [
    "a = 5\n",
    "pd.DataFrame([SUM_Bid1_13[a],SUM_Bid1_13[a+1]/SUM_Bid1_13[a],SUM_Bid1_13[a+2]/SUM_Bid1_13[a],SUM_Bid1_13[a+3]/SUM_Bid1_13[a],SUM_Bid1_13[a+4]/SUM_Bid1_13[a]])"
   ]
  },
  {
   "cell_type": "code",
   "execution_count": 163,
   "metadata": {
    "collapsed": false
   },
   "outputs": [
    {
     "data": {
      "text/html": [
       "<div>\n",
       "<table border=\"1\" class=\"dataframe\">\n",
       "  <thead>\n",
       "    <tr style=\"text-align: right;\">\n",
       "      <th></th>\n",
       "      <th>0</th>\n",
       "      <th>1</th>\n",
       "      <th>2</th>\n",
       "      <th>3</th>\n",
       "      <th>4</th>\n",
       "    </tr>\n",
       "  </thead>\n",
       "  <tbody>\n",
       "    <tr>\n",
       "      <th>0</th>\n",
       "      <td>89.000000</td>\n",
       "      <td>560.000000</td>\n",
       "      <td>6979.000000</td>\n",
       "      <td>784.000000</td>\n",
       "      <td>147.000000</td>\n",
       "    </tr>\n",
       "    <tr>\n",
       "      <th>1</th>\n",
       "      <td>0.269663</td>\n",
       "      <td>0.178571</td>\n",
       "      <td>0.286717</td>\n",
       "      <td>0.744898</td>\n",
       "      <td>0.571429</td>\n",
       "    </tr>\n",
       "    <tr>\n",
       "      <th>2</th>\n",
       "      <td>-0.910112</td>\n",
       "      <td>0.366071</td>\n",
       "      <td>0.044419</td>\n",
       "      <td>0.082908</td>\n",
       "      <td>0.612245</td>\n",
       "    </tr>\n",
       "    <tr>\n",
       "      <th>3</th>\n",
       "      <td>4.235955</td>\n",
       "      <td>2.730357</td>\n",
       "      <td>2.149878</td>\n",
       "      <td>3.173469</td>\n",
       "      <td>3.646259</td>\n",
       "    </tr>\n",
       "    <tr>\n",
       "      <th>4</th>\n",
       "      <td>1302.404494</td>\n",
       "      <td>791.312500</td>\n",
       "      <td>727.229546</td>\n",
       "      <td>496.503827</td>\n",
       "      <td>101.394558</td>\n",
       "    </tr>\n",
       "  </tbody>\n",
       "</table>\n",
       "</div>"
      ],
      "text/plain": [
       "             0           1            2           3           4\n",
       "0    89.000000  560.000000  6979.000000  784.000000  147.000000\n",
       "1     0.269663    0.178571     0.286717    0.744898    0.571429\n",
       "2    -0.910112    0.366071     0.044419    0.082908    0.612245\n",
       "3     4.235955    2.730357     2.149878    3.173469    3.646259\n",
       "4  1302.404494  791.312500   727.229546  496.503827  101.394558"
      ]
     },
     "execution_count": 163,
     "metadata": {},
     "output_type": "execute_result"
    }
   ],
   "source": [
    "a = 10\n",
    "pd.DataFrame([SUM_Bid1_13[a],SUM_Bid1_13[a+1]/SUM_Bid1_13[a],SUM_Bid1_13[a+2]/SUM_Bid1_13[a],SUM_Bid1_13[a+3]/SUM_Bid1_13[a],SUM_Bid1_13[a+4]/SUM_Bid1_13[a]])"
   ]
  },
  {
   "cell_type": "code",
   "execution_count": 164,
   "metadata": {
    "collapsed": false
   },
   "outputs": [
    {
     "data": {
      "text/html": [
       "<div>\n",
       "<table border=\"1\" class=\"dataframe\">\n",
       "  <thead>\n",
       "    <tr style=\"text-align: right;\">\n",
       "      <th></th>\n",
       "      <th>0</th>\n",
       "      <th>1</th>\n",
       "      <th>2</th>\n",
       "      <th>3</th>\n",
       "      <th>4</th>\n",
       "    </tr>\n",
       "  </thead>\n",
       "  <tbody>\n",
       "    <tr>\n",
       "      <th>0</th>\n",
       "      <td>79.000000</td>\n",
       "      <td>459.000000</td>\n",
       "      <td>5920.000000</td>\n",
       "      <td>476.000000</td>\n",
       "      <td>106.000000</td>\n",
       "    </tr>\n",
       "    <tr>\n",
       "      <th>1</th>\n",
       "      <td>0.379747</td>\n",
       "      <td>0.126362</td>\n",
       "      <td>0.301351</td>\n",
       "      <td>0.766807</td>\n",
       "      <td>0.726415</td>\n",
       "    </tr>\n",
       "    <tr>\n",
       "      <th>2</th>\n",
       "      <td>-1.215190</td>\n",
       "      <td>0.122004</td>\n",
       "      <td>-0.098986</td>\n",
       "      <td>0.443277</td>\n",
       "      <td>0.688679</td>\n",
       "    </tr>\n",
       "    <tr>\n",
       "      <th>3</th>\n",
       "      <td>4.253165</td>\n",
       "      <td>3.041394</td>\n",
       "      <td>2.440203</td>\n",
       "      <td>2.894958</td>\n",
       "      <td>3.386792</td>\n",
       "    </tr>\n",
       "    <tr>\n",
       "      <th>4</th>\n",
       "      <td>909.392405</td>\n",
       "      <td>817.095861</td>\n",
       "      <td>735.653716</td>\n",
       "      <td>455.544118</td>\n",
       "      <td>214.320755</td>\n",
       "    </tr>\n",
       "  </tbody>\n",
       "</table>\n",
       "</div>"
      ],
      "text/plain": [
       "            0           1            2           3           4\n",
       "0   79.000000  459.000000  5920.000000  476.000000  106.000000\n",
       "1    0.379747    0.126362     0.301351    0.766807    0.726415\n",
       "2   -1.215190    0.122004    -0.098986    0.443277    0.688679\n",
       "3    4.253165    3.041394     2.440203    2.894958    3.386792\n",
       "4  909.392405  817.095861   735.653716  455.544118  214.320755"
      ]
     },
     "execution_count": 164,
     "metadata": {},
     "output_type": "execute_result"
    }
   ],
   "source": [
    "a = 15\n",
    "pd.DataFrame([SUM_Bid1_13[a],SUM_Bid1_13[a+1]/SUM_Bid1_13[a],SUM_Bid1_13[a+2]/SUM_Bid1_13[a],SUM_Bid1_13[a+3]/SUM_Bid1_13[a],SUM_Bid1_13[a+4]/SUM_Bid1_13[a]])"
   ]
  },
  {
   "cell_type": "code",
   "execution_count": 165,
   "metadata": {
    "collapsed": false
   },
   "outputs": [
    {
     "data": {
      "text/html": [
       "<div>\n",
       "<table border=\"1\" class=\"dataframe\">\n",
       "  <thead>\n",
       "    <tr style=\"text-align: right;\">\n",
       "      <th></th>\n",
       "      <th>0</th>\n",
       "      <th>1</th>\n",
       "      <th>2</th>\n",
       "      <th>3</th>\n",
       "      <th>4</th>\n",
       "    </tr>\n",
       "  </thead>\n",
       "  <tbody>\n",
       "    <tr>\n",
       "      <th>0</th>\n",
       "      <td>130.000000</td>\n",
       "      <td>1048.000000</td>\n",
       "      <td>18939.000000</td>\n",
       "      <td>548.000000</td>\n",
       "      <td>146.000000</td>\n",
       "    </tr>\n",
       "    <tr>\n",
       "      <th>1</th>\n",
       "      <td>0.153846</td>\n",
       "      <td>0.166985</td>\n",
       "      <td>0.200961</td>\n",
       "      <td>0.531022</td>\n",
       "      <td>0.746575</td>\n",
       "    </tr>\n",
       "    <tr>\n",
       "      <th>2</th>\n",
       "      <td>-2.361538</td>\n",
       "      <td>-0.687023</td>\n",
       "      <td>-0.053118</td>\n",
       "      <td>-2.093066</td>\n",
       "      <td>0.712329</td>\n",
       "    </tr>\n",
       "    <tr>\n",
       "      <th>3</th>\n",
       "      <td>5.353846</td>\n",
       "      <td>3.208015</td>\n",
       "      <td>2.065949</td>\n",
       "      <td>5.572993</td>\n",
       "      <td>3.061644</td>\n",
       "    </tr>\n",
       "    <tr>\n",
       "      <th>4</th>\n",
       "      <td>1025.661538</td>\n",
       "      <td>794.950382</td>\n",
       "      <td>808.758593</td>\n",
       "      <td>609.191606</td>\n",
       "      <td>309.438356</td>\n",
       "    </tr>\n",
       "  </tbody>\n",
       "</table>\n",
       "</div>"
      ],
      "text/plain": [
       "             0            1             2           3           4\n",
       "0   130.000000  1048.000000  18939.000000  548.000000  146.000000\n",
       "1     0.153846     0.166985      0.200961    0.531022    0.746575\n",
       "2    -2.361538    -0.687023     -0.053118   -2.093066    0.712329\n",
       "3     5.353846     3.208015      2.065949    5.572993    3.061644\n",
       "4  1025.661538   794.950382    808.758593  609.191606  309.438356"
      ]
     },
     "execution_count": 165,
     "metadata": {},
     "output_type": "execute_result"
    }
   ],
   "source": [
    "a = 20\n",
    "pd.DataFrame([SUM_Bid1_13[a],SUM_Bid1_13[a+1]/SUM_Bid1_13[a],SUM_Bid1_13[a+2]/SUM_Bid1_13[a],SUM_Bid1_13[a+3]/SUM_Bid1_13[a],SUM_Bid1_13[a+4]/SUM_Bid1_13[a]])"
   ]
  },
  {
   "cell_type": "code",
   "execution_count": null,
   "metadata": {
    "collapsed": true
   },
   "outputs": [],
   "source": []
  },
  {
   "cell_type": "code",
   "execution_count": 166,
   "metadata": {
    "collapsed": false
   },
   "outputs": [
    {
     "data": {
      "text/html": [
       "<div>\n",
       "<table border=\"1\" class=\"dataframe\">\n",
       "  <thead>\n",
       "    <tr style=\"text-align: right;\">\n",
       "      <th></th>\n",
       "      <th>0</th>\n",
       "      <th>1</th>\n",
       "      <th>2</th>\n",
       "      <th>3</th>\n",
       "      <th>4</th>\n",
       "    </tr>\n",
       "  </thead>\n",
       "  <tbody>\n",
       "    <tr>\n",
       "      <th>0</th>\n",
       "      <td>76.000000</td>\n",
       "      <td>232.000000</td>\n",
       "      <td>18728.000000</td>\n",
       "      <td>757.000000</td>\n",
       "      <td>92.000000</td>\n",
       "    </tr>\n",
       "    <tr>\n",
       "      <th>1</th>\n",
       "      <td>0.236842</td>\n",
       "      <td>0.043103</td>\n",
       "      <td>0.068988</td>\n",
       "      <td>0.315720</td>\n",
       "      <td>0.695652</td>\n",
       "    </tr>\n",
       "    <tr>\n",
       "      <th>2</th>\n",
       "      <td>-1.355263</td>\n",
       "      <td>0.362069</td>\n",
       "      <td>-0.306386</td>\n",
       "      <td>0.920740</td>\n",
       "      <td>1.369565</td>\n",
       "    </tr>\n",
       "    <tr>\n",
       "      <th>3</th>\n",
       "      <td>5.144737</td>\n",
       "      <td>3.103448</td>\n",
       "      <td>3.005073</td>\n",
       "      <td>2.499339</td>\n",
       "      <td>3.619565</td>\n",
       "    </tr>\n",
       "    <tr>\n",
       "      <th>4</th>\n",
       "      <td>1026.407895</td>\n",
       "      <td>862.909483</td>\n",
       "      <td>869.261747</td>\n",
       "      <td>724.019815</td>\n",
       "      <td>204.413043</td>\n",
       "    </tr>\n",
       "  </tbody>\n",
       "</table>\n",
       "</div>"
      ],
      "text/plain": [
       "             0           1             2           3           4\n",
       "0    76.000000  232.000000  18728.000000  757.000000   92.000000\n",
       "1     0.236842    0.043103      0.068988    0.315720    0.695652\n",
       "2    -1.355263    0.362069     -0.306386    0.920740    1.369565\n",
       "3     5.144737    3.103448      3.005073    2.499339    3.619565\n",
       "4  1026.407895  862.909483    869.261747  724.019815  204.413043"
      ]
     },
     "execution_count": 166,
     "metadata": {},
     "output_type": "execute_result"
    }
   ],
   "source": [
    "a = 0\n",
    "pd.DataFrame([SUM_Bid2_13[a],SUM_Bid2_13[a+1]/SUM_Bid2_13[a],SUM_Bid2_13[a+2]/SUM_Bid2_13[a],SUM_Bid2_13[a+3]/SUM_Bid2_13[a],SUM_Bid2_13[a+4]/SUM_Bid2_13[a]])"
   ]
  },
  {
   "cell_type": "code",
   "execution_count": 167,
   "metadata": {
    "collapsed": false
   },
   "outputs": [
    {
     "data": {
      "text/html": [
       "<div>\n",
       "<table border=\"1\" class=\"dataframe\">\n",
       "  <thead>\n",
       "    <tr style=\"text-align: right;\">\n",
       "      <th></th>\n",
       "      <th>0</th>\n",
       "      <th>1</th>\n",
       "      <th>2</th>\n",
       "      <th>3</th>\n",
       "      <th>4</th>\n",
       "    </tr>\n",
       "  </thead>\n",
       "  <tbody>\n",
       "    <tr>\n",
       "      <th>0</th>\n",
       "      <td>43.000000</td>\n",
       "      <td>334.000000</td>\n",
       "      <td>14565.000000</td>\n",
       "      <td>573.000000</td>\n",
       "      <td>190.000000</td>\n",
       "    </tr>\n",
       "    <tr>\n",
       "      <th>1</th>\n",
       "      <td>0.209302</td>\n",
       "      <td>0.035928</td>\n",
       "      <td>0.056231</td>\n",
       "      <td>0.623037</td>\n",
       "      <td>0.542105</td>\n",
       "    </tr>\n",
       "    <tr>\n",
       "      <th>2</th>\n",
       "      <td>-1.604651</td>\n",
       "      <td>-0.218563</td>\n",
       "      <td>0.104360</td>\n",
       "      <td>0.554974</td>\n",
       "      <td>1.526316</td>\n",
       "    </tr>\n",
       "    <tr>\n",
       "      <th>3</th>\n",
       "      <td>5.581395</td>\n",
       "      <td>3.841317</td>\n",
       "      <td>2.363749</td>\n",
       "      <td>3.902269</td>\n",
       "      <td>3.684211</td>\n",
       "    </tr>\n",
       "    <tr>\n",
       "      <th>4</th>\n",
       "      <td>2543.976744</td>\n",
       "      <td>869.832335</td>\n",
       "      <td>870.374597</td>\n",
       "      <td>599.040140</td>\n",
       "      <td>187.526316</td>\n",
       "    </tr>\n",
       "  </tbody>\n",
       "</table>\n",
       "</div>"
      ],
      "text/plain": [
       "             0           1             2           3           4\n",
       "0    43.000000  334.000000  14565.000000  573.000000  190.000000\n",
       "1     0.209302    0.035928      0.056231    0.623037    0.542105\n",
       "2    -1.604651   -0.218563      0.104360    0.554974    1.526316\n",
       "3     5.581395    3.841317      2.363749    3.902269    3.684211\n",
       "4  2543.976744  869.832335    870.374597  599.040140  187.526316"
      ]
     },
     "execution_count": 167,
     "metadata": {},
     "output_type": "execute_result"
    }
   ],
   "source": [
    "a = 5\n",
    "pd.DataFrame([SUM_Bid2_13[a],SUM_Bid2_13[a+1]/SUM_Bid2_13[a],SUM_Bid2_13[a+2]/SUM_Bid2_13[a],SUM_Bid2_13[a+3]/SUM_Bid2_13[a],SUM_Bid2_13[a+4]/SUM_Bid2_13[a]])"
   ]
  },
  {
   "cell_type": "code",
   "execution_count": 168,
   "metadata": {
    "collapsed": false
   },
   "outputs": [
    {
     "data": {
      "text/html": [
       "<div>\n",
       "<table border=\"1\" class=\"dataframe\">\n",
       "  <thead>\n",
       "    <tr style=\"text-align: right;\">\n",
       "      <th></th>\n",
       "      <th>0</th>\n",
       "      <th>1</th>\n",
       "      <th>2</th>\n",
       "      <th>3</th>\n",
       "      <th>4</th>\n",
       "    </tr>\n",
       "  </thead>\n",
       "  <tbody>\n",
       "    <tr>\n",
       "      <th>0</th>\n",
       "      <td>89.000000</td>\n",
       "      <td>560.000000</td>\n",
       "      <td>6979.000000</td>\n",
       "      <td>784.000000</td>\n",
       "      <td>147.000000</td>\n",
       "    </tr>\n",
       "    <tr>\n",
       "      <th>1</th>\n",
       "      <td>0.179775</td>\n",
       "      <td>0.067857</td>\n",
       "      <td>0.199169</td>\n",
       "      <td>0.556122</td>\n",
       "      <td>0.462585</td>\n",
       "    </tr>\n",
       "    <tr>\n",
       "      <th>2</th>\n",
       "      <td>-1.089888</td>\n",
       "      <td>0.398214</td>\n",
       "      <td>0.155753</td>\n",
       "      <td>0.307398</td>\n",
       "      <td>1.149660</td>\n",
       "    </tr>\n",
       "    <tr>\n",
       "      <th>3</th>\n",
       "      <td>5.606742</td>\n",
       "      <td>3.792857</td>\n",
       "      <td>3.261499</td>\n",
       "      <td>4.651786</td>\n",
       "      <td>4.653061</td>\n",
       "    </tr>\n",
       "    <tr>\n",
       "      <th>4</th>\n",
       "      <td>1547.146067</td>\n",
       "      <td>865.251786</td>\n",
       "      <td>807.494483</td>\n",
       "      <td>709.463010</td>\n",
       "      <td>149.659864</td>\n",
       "    </tr>\n",
       "  </tbody>\n",
       "</table>\n",
       "</div>"
      ],
      "text/plain": [
       "             0           1            2           3           4\n",
       "0    89.000000  560.000000  6979.000000  784.000000  147.000000\n",
       "1     0.179775    0.067857     0.199169    0.556122    0.462585\n",
       "2    -1.089888    0.398214     0.155753    0.307398    1.149660\n",
       "3     5.606742    3.792857     3.261499    4.651786    4.653061\n",
       "4  1547.146067  865.251786   807.494483  709.463010  149.659864"
      ]
     },
     "execution_count": 168,
     "metadata": {},
     "output_type": "execute_result"
    }
   ],
   "source": [
    "a = 10\n",
    "pd.DataFrame([SUM_Bid2_13[a],SUM_Bid2_13[a+1]/SUM_Bid2_13[a],SUM_Bid2_13[a+2]/SUM_Bid2_13[a],SUM_Bid2_13[a+3]/SUM_Bid2_13[a],SUM_Bid2_13[a+4]/SUM_Bid2_13[a]])"
   ]
  },
  {
   "cell_type": "code",
   "execution_count": 169,
   "metadata": {
    "collapsed": false
   },
   "outputs": [
    {
     "data": {
      "text/html": [
       "<div>\n",
       "<table border=\"1\" class=\"dataframe\">\n",
       "  <thead>\n",
       "    <tr style=\"text-align: right;\">\n",
       "      <th></th>\n",
       "      <th>0</th>\n",
       "      <th>1</th>\n",
       "      <th>2</th>\n",
       "      <th>3</th>\n",
       "      <th>4</th>\n",
       "    </tr>\n",
       "  </thead>\n",
       "  <tbody>\n",
       "    <tr>\n",
       "      <th>0</th>\n",
       "      <td>79.000000</td>\n",
       "      <td>459.000000</td>\n",
       "      <td>5920.000000</td>\n",
       "      <td>476.000000</td>\n",
       "      <td>106.000000</td>\n",
       "    </tr>\n",
       "    <tr>\n",
       "      <th>1</th>\n",
       "      <td>0.037975</td>\n",
       "      <td>0.069717</td>\n",
       "      <td>0.184122</td>\n",
       "      <td>0.560924</td>\n",
       "      <td>0.424528</td>\n",
       "    </tr>\n",
       "    <tr>\n",
       "      <th>2</th>\n",
       "      <td>-2.544304</td>\n",
       "      <td>0.111111</td>\n",
       "      <td>0.009291</td>\n",
       "      <td>0.638655</td>\n",
       "      <td>1.292453</td>\n",
       "    </tr>\n",
       "    <tr>\n",
       "      <th>3</th>\n",
       "      <td>6.645570</td>\n",
       "      <td>4.104575</td>\n",
       "      <td>3.562500</td>\n",
       "      <td>4.392857</td>\n",
       "      <td>4.443396</td>\n",
       "    </tr>\n",
       "    <tr>\n",
       "      <th>4</th>\n",
       "      <td>1564.911392</td>\n",
       "      <td>858.172113</td>\n",
       "      <td>825.241385</td>\n",
       "      <td>674.563025</td>\n",
       "      <td>193.113208</td>\n",
       "    </tr>\n",
       "  </tbody>\n",
       "</table>\n",
       "</div>"
      ],
      "text/plain": [
       "             0           1            2           3           4\n",
       "0    79.000000  459.000000  5920.000000  476.000000  106.000000\n",
       "1     0.037975    0.069717     0.184122    0.560924    0.424528\n",
       "2    -2.544304    0.111111     0.009291    0.638655    1.292453\n",
       "3     6.645570    4.104575     3.562500    4.392857    4.443396\n",
       "4  1564.911392  858.172113   825.241385  674.563025  193.113208"
      ]
     },
     "execution_count": 169,
     "metadata": {},
     "output_type": "execute_result"
    }
   ],
   "source": [
    "a = 15\n",
    "pd.DataFrame([SUM_Bid2_13[a],SUM_Bid2_13[a+1]/SUM_Bid2_13[a],SUM_Bid2_13[a+2]/SUM_Bid2_13[a],SUM_Bid2_13[a+3]/SUM_Bid2_13[a],SUM_Bid2_13[a+4]/SUM_Bid2_13[a]])"
   ]
  },
  {
   "cell_type": "code",
   "execution_count": 170,
   "metadata": {
    "collapsed": false
   },
   "outputs": [
    {
     "data": {
      "text/html": [
       "<div>\n",
       "<table border=\"1\" class=\"dataframe\">\n",
       "  <thead>\n",
       "    <tr style=\"text-align: right;\">\n",
       "      <th></th>\n",
       "      <th>0</th>\n",
       "      <th>1</th>\n",
       "      <th>2</th>\n",
       "      <th>3</th>\n",
       "      <th>4</th>\n",
       "    </tr>\n",
       "  </thead>\n",
       "  <tbody>\n",
       "    <tr>\n",
       "      <th>0</th>\n",
       "      <td>130.000000</td>\n",
       "      <td>1048.000000</td>\n",
       "      <td>18939.000000</td>\n",
       "      <td>548.000000</td>\n",
       "      <td>146.000000</td>\n",
       "    </tr>\n",
       "    <tr>\n",
       "      <th>1</th>\n",
       "      <td>0.023077</td>\n",
       "      <td>0.129771</td>\n",
       "      <td>0.097629</td>\n",
       "      <td>0.383212</td>\n",
       "      <td>0.164384</td>\n",
       "    </tr>\n",
       "    <tr>\n",
       "      <th>2</th>\n",
       "      <td>-2.861538</td>\n",
       "      <td>-0.640267</td>\n",
       "      <td>0.016949</td>\n",
       "      <td>-1.895985</td>\n",
       "      <td>1.157534</td>\n",
       "    </tr>\n",
       "    <tr>\n",
       "      <th>3</th>\n",
       "      <td>6.892308</td>\n",
       "      <td>4.309160</td>\n",
       "      <td>3.095887</td>\n",
       "      <td>6.872263</td>\n",
       "      <td>4.061644</td>\n",
       "    </tr>\n",
       "    <tr>\n",
       "      <th>4</th>\n",
       "      <td>1726.607692</td>\n",
       "      <td>831.361641</td>\n",
       "      <td>860.858599</td>\n",
       "      <td>782.744526</td>\n",
       "      <td>44.643836</td>\n",
       "    </tr>\n",
       "  </tbody>\n",
       "</table>\n",
       "</div>"
      ],
      "text/plain": [
       "             0            1             2           3           4\n",
       "0   130.000000  1048.000000  18939.000000  548.000000  146.000000\n",
       "1     0.023077     0.129771      0.097629    0.383212    0.164384\n",
       "2    -2.861538    -0.640267      0.016949   -1.895985    1.157534\n",
       "3     6.892308     4.309160      3.095887    6.872263    4.061644\n",
       "4  1726.607692   831.361641    860.858599  782.744526   44.643836"
      ]
     },
     "execution_count": 170,
     "metadata": {},
     "output_type": "execute_result"
    }
   ],
   "source": [
    "a = 20\n",
    "pd.DataFrame([SUM_Bid2_13[a],SUM_Bid2_13[a+1]/SUM_Bid2_13[a],SUM_Bid2_13[a+2]/SUM_Bid2_13[a],SUM_Bid2_13[a+3]/SUM_Bid2_13[a],SUM_Bid2_13[a+4]/SUM_Bid2_13[a]])"
   ]
  },
  {
   "cell_type": "code",
   "execution_count": null,
   "metadata": {
    "collapsed": true
   },
   "outputs": [],
   "source": []
  },
  {
   "cell_type": "code",
   "execution_count": 171,
   "metadata": {
    "collapsed": false
   },
   "outputs": [
    {
     "data": {
      "text/html": [
       "<div>\n",
       "<table border=\"1\" class=\"dataframe\">\n",
       "  <thead>\n",
       "    <tr style=\"text-align: right;\">\n",
       "      <th></th>\n",
       "      <th>0</th>\n",
       "      <th>1</th>\n",
       "      <th>2</th>\n",
       "      <th>3</th>\n",
       "      <th>4</th>\n",
       "    </tr>\n",
       "  </thead>\n",
       "  <tbody>\n",
       "    <tr>\n",
       "      <th>0</th>\n",
       "      <td>76.000000</td>\n",
       "      <td>232.000000</td>\n",
       "      <td>18728.000000</td>\n",
       "      <td>757.000000</td>\n",
       "      <td>92.000000</td>\n",
       "    </tr>\n",
       "    <tr>\n",
       "      <th>1</th>\n",
       "      <td>0.105263</td>\n",
       "      <td>0.043103</td>\n",
       "      <td>0.027819</td>\n",
       "      <td>0.278732</td>\n",
       "      <td>0.478261</td>\n",
       "    </tr>\n",
       "    <tr>\n",
       "      <th>2</th>\n",
       "      <td>-1.776316</td>\n",
       "      <td>0.405172</td>\n",
       "      <td>-0.322939</td>\n",
       "      <td>1.165125</td>\n",
       "      <td>2.032609</td>\n",
       "    </tr>\n",
       "    <tr>\n",
       "      <th>3</th>\n",
       "      <td>6.671053</td>\n",
       "      <td>4.103448</td>\n",
       "      <td>4.013402</td>\n",
       "      <td>3.509908</td>\n",
       "      <td>4.619565</td>\n",
       "    </tr>\n",
       "    <tr>\n",
       "      <th>4</th>\n",
       "      <td>1385.513158</td>\n",
       "      <td>863.211207</td>\n",
       "      <td>886.918785</td>\n",
       "      <td>781.848085</td>\n",
       "      <td>125.119565</td>\n",
       "    </tr>\n",
       "  </tbody>\n",
       "</table>\n",
       "</div>"
      ],
      "text/plain": [
       "             0           1             2           3           4\n",
       "0    76.000000  232.000000  18728.000000  757.000000   92.000000\n",
       "1     0.105263    0.043103      0.027819    0.278732    0.478261\n",
       "2    -1.776316    0.405172     -0.322939    1.165125    2.032609\n",
       "3     6.671053    4.103448      4.013402    3.509908    4.619565\n",
       "4  1385.513158  863.211207    886.918785  781.848085  125.119565"
      ]
     },
     "execution_count": 171,
     "metadata": {},
     "output_type": "execute_result"
    }
   ],
   "source": [
    "a = 0\n",
    "pd.DataFrame([SUM_Bid3_13[a],SUM_Bid3_13[a+1]/SUM_Bid3_13[a],SUM_Bid3_13[a+2]/SUM_Bid3_13[a],SUM_Bid3_13[a+3]/SUM_Bid3_13[a],SUM_Bid3_13[a+4]/SUM_Bid3_13[a]])"
   ]
  },
  {
   "cell_type": "code",
   "execution_count": 172,
   "metadata": {
    "collapsed": false
   },
   "outputs": [
    {
     "data": {
      "text/html": [
       "<div>\n",
       "<table border=\"1\" class=\"dataframe\">\n",
       "  <thead>\n",
       "    <tr style=\"text-align: right;\">\n",
       "      <th></th>\n",
       "      <th>0</th>\n",
       "      <th>1</th>\n",
       "      <th>2</th>\n",
       "      <th>3</th>\n",
       "      <th>4</th>\n",
       "    </tr>\n",
       "  </thead>\n",
       "  <tbody>\n",
       "    <tr>\n",
       "      <th>0</th>\n",
       "      <td>43.000000</td>\n",
       "      <td>334.000000</td>\n",
       "      <td>14565.000000</td>\n",
       "      <td>573.000000</td>\n",
       "      <td>190.000000</td>\n",
       "    </tr>\n",
       "    <tr>\n",
       "      <th>1</th>\n",
       "      <td>0.046512</td>\n",
       "      <td>0.029940</td>\n",
       "      <td>0.036114</td>\n",
       "      <td>0.420593</td>\n",
       "      <td>0.289474</td>\n",
       "    </tr>\n",
       "    <tr>\n",
       "      <th>2</th>\n",
       "      <td>-2.209302</td>\n",
       "      <td>-0.206587</td>\n",
       "      <td>0.125644</td>\n",
       "      <td>0.848168</td>\n",
       "      <td>2.015789</td>\n",
       "    </tr>\n",
       "    <tr>\n",
       "      <th>3</th>\n",
       "      <td>7.232558</td>\n",
       "      <td>4.862275</td>\n",
       "      <td>3.372125</td>\n",
       "      <td>4.933682</td>\n",
       "      <td>4.684211</td>\n",
       "    </tr>\n",
       "    <tr>\n",
       "      <th>4</th>\n",
       "      <td>3688.744186</td>\n",
       "      <td>875.652695</td>\n",
       "      <td>884.053278</td>\n",
       "      <td>732.888307</td>\n",
       "      <td>103.989474</td>\n",
       "    </tr>\n",
       "  </tbody>\n",
       "</table>\n",
       "</div>"
      ],
      "text/plain": [
       "             0           1             2           3           4\n",
       "0    43.000000  334.000000  14565.000000  573.000000  190.000000\n",
       "1     0.046512    0.029940      0.036114    0.420593    0.289474\n",
       "2    -2.209302   -0.206587      0.125644    0.848168    2.015789\n",
       "3     7.232558    4.862275      3.372125    4.933682    4.684211\n",
       "4  3688.744186  875.652695    884.053278  732.888307  103.989474"
      ]
     },
     "execution_count": 172,
     "metadata": {},
     "output_type": "execute_result"
    }
   ],
   "source": [
    "a = 5\n",
    "pd.DataFrame([SUM_Bid3_13[a],SUM_Bid3_13[a+1]/SUM_Bid3_13[a],SUM_Bid3_13[a+2]/SUM_Bid3_13[a],SUM_Bid3_13[a+3]/SUM_Bid3_13[a],SUM_Bid3_13[a+4]/SUM_Bid3_13[a]])"
   ]
  },
  {
   "cell_type": "code",
   "execution_count": 173,
   "metadata": {
    "collapsed": false
   },
   "outputs": [
    {
     "data": {
      "text/html": [
       "<div>\n",
       "<table border=\"1\" class=\"dataframe\">\n",
       "  <thead>\n",
       "    <tr style=\"text-align: right;\">\n",
       "      <th></th>\n",
       "      <th>0</th>\n",
       "      <th>1</th>\n",
       "      <th>2</th>\n",
       "      <th>3</th>\n",
       "      <th>4</th>\n",
       "    </tr>\n",
       "  </thead>\n",
       "  <tbody>\n",
       "    <tr>\n",
       "      <th>0</th>\n",
       "      <td>89.000000</td>\n",
       "      <td>560.000000</td>\n",
       "      <td>6979.000000</td>\n",
       "      <td>784.000000</td>\n",
       "      <td>147.000000</td>\n",
       "    </tr>\n",
       "    <tr>\n",
       "      <th>1</th>\n",
       "      <td>0.011236</td>\n",
       "      <td>0.023214</td>\n",
       "      <td>0.129388</td>\n",
       "      <td>0.270408</td>\n",
       "      <td>0.299320</td>\n",
       "    </tr>\n",
       "    <tr>\n",
       "      <th>2</th>\n",
       "      <td>-1.730337</td>\n",
       "      <td>0.401786</td>\n",
       "      <td>0.257917</td>\n",
       "      <td>0.415816</td>\n",
       "      <td>1.537415</td>\n",
       "    </tr>\n",
       "    <tr>\n",
       "      <th>3</th>\n",
       "      <td>7.258427</td>\n",
       "      <td>4.805357</td>\n",
       "      <td>4.281272</td>\n",
       "      <td>5.727041</td>\n",
       "      <td>5.653061</td>\n",
       "    </tr>\n",
       "    <tr>\n",
       "      <th>4</th>\n",
       "      <td>1932.707865</td>\n",
       "      <td>880.891071</td>\n",
       "      <td>855.047571</td>\n",
       "      <td>814.390306</td>\n",
       "      <td>71.904762</td>\n",
       "    </tr>\n",
       "  </tbody>\n",
       "</table>\n",
       "</div>"
      ],
      "text/plain": [
       "             0           1            2           3           4\n",
       "0    89.000000  560.000000  6979.000000  784.000000  147.000000\n",
       "1     0.011236    0.023214     0.129388    0.270408    0.299320\n",
       "2    -1.730337    0.401786     0.257917    0.415816    1.537415\n",
       "3     7.258427    4.805357     4.281272    5.727041    5.653061\n",
       "4  1932.707865  880.891071   855.047571  814.390306   71.904762"
      ]
     },
     "execution_count": 173,
     "metadata": {},
     "output_type": "execute_result"
    }
   ],
   "source": [
    "a = 10\n",
    "pd.DataFrame([SUM_Bid3_13[a],SUM_Bid3_13[a+1]/SUM_Bid3_13[a],SUM_Bid3_13[a+2]/SUM_Bid3_13[a],SUM_Bid3_13[a+3]/SUM_Bid3_13[a],SUM_Bid3_13[a+4]/SUM_Bid3_13[a]])"
   ]
  },
  {
   "cell_type": "code",
   "execution_count": 174,
   "metadata": {
    "collapsed": false
   },
   "outputs": [
    {
     "data": {
      "text/html": [
       "<div>\n",
       "<table border=\"1\" class=\"dataframe\">\n",
       "  <thead>\n",
       "    <tr style=\"text-align: right;\">\n",
       "      <th></th>\n",
       "      <th>0</th>\n",
       "      <th>1</th>\n",
       "      <th>2</th>\n",
       "      <th>3</th>\n",
       "      <th>4</th>\n",
       "    </tr>\n",
       "  </thead>\n",
       "  <tbody>\n",
       "    <tr>\n",
       "      <th>0</th>\n",
       "      <td>79.000000</td>\n",
       "      <td>459.000000</td>\n",
       "      <td>5920.000000</td>\n",
       "      <td>476.000000</td>\n",
       "      <td>106.000000</td>\n",
       "    </tr>\n",
       "    <tr>\n",
       "      <th>1</th>\n",
       "      <td>0.000000</td>\n",
       "      <td>0.013072</td>\n",
       "      <td>0.092230</td>\n",
       "      <td>0.327731</td>\n",
       "      <td>0.113208</td>\n",
       "    </tr>\n",
       "    <tr>\n",
       "      <th>2</th>\n",
       "      <td>-2.696203</td>\n",
       "      <td>0.106754</td>\n",
       "      <td>0.111149</td>\n",
       "      <td>0.869748</td>\n",
       "      <td>1.575472</td>\n",
       "    </tr>\n",
       "    <tr>\n",
       "      <th>3</th>\n",
       "      <td>7.784810</td>\n",
       "      <td>5.104575</td>\n",
       "      <td>4.579730</td>\n",
       "      <td>5.418067</td>\n",
       "      <td>5.443396</td>\n",
       "    </tr>\n",
       "    <tr>\n",
       "      <th>4</th>\n",
       "      <td>1970.886076</td>\n",
       "      <td>889.074074</td>\n",
       "      <td>860.951520</td>\n",
       "      <td>769.514706</td>\n",
       "      <td>34.990566</td>\n",
       "    </tr>\n",
       "  </tbody>\n",
       "</table>\n",
       "</div>"
      ],
      "text/plain": [
       "             0           1            2           3           4\n",
       "0    79.000000  459.000000  5920.000000  476.000000  106.000000\n",
       "1     0.000000    0.013072     0.092230    0.327731    0.113208\n",
       "2    -2.696203    0.106754     0.111149    0.869748    1.575472\n",
       "3     7.784810    5.104575     4.579730    5.418067    5.443396\n",
       "4  1970.886076  889.074074   860.951520  769.514706   34.990566"
      ]
     },
     "execution_count": 174,
     "metadata": {},
     "output_type": "execute_result"
    }
   ],
   "source": [
    "a = 15\n",
    "pd.DataFrame([SUM_Bid3_13[a],SUM_Bid3_13[a+1]/SUM_Bid3_13[a],SUM_Bid3_13[a+2]/SUM_Bid3_13[a],SUM_Bid3_13[a+3]/SUM_Bid3_13[a],SUM_Bid3_13[a+4]/SUM_Bid3_13[a]])"
   ]
  },
  {
   "cell_type": "code",
   "execution_count": 175,
   "metadata": {
    "collapsed": false
   },
   "outputs": [
    {
     "data": {
      "text/html": [
       "<div>\n",
       "<table border=\"1\" class=\"dataframe\">\n",
       "  <thead>\n",
       "    <tr style=\"text-align: right;\">\n",
       "      <th></th>\n",
       "      <th>0</th>\n",
       "      <th>1</th>\n",
       "      <th>2</th>\n",
       "      <th>3</th>\n",
       "      <th>4</th>\n",
       "    </tr>\n",
       "  </thead>\n",
       "  <tbody>\n",
       "    <tr>\n",
       "      <th>0</th>\n",
       "      <td>130.000000</td>\n",
       "      <td>1048.000000</td>\n",
       "      <td>18939.000000</td>\n",
       "      <td>548.000000</td>\n",
       "      <td>146.000000</td>\n",
       "    </tr>\n",
       "    <tr>\n",
       "      <th>1</th>\n",
       "      <td>0.000000</td>\n",
       "      <td>0.001908</td>\n",
       "      <td>0.046676</td>\n",
       "      <td>0.200730</td>\n",
       "      <td>0.068493</td>\n",
       "    </tr>\n",
       "    <tr>\n",
       "      <th>2</th>\n",
       "      <td>-2.938462</td>\n",
       "      <td>-0.745229</td>\n",
       "      <td>0.044934</td>\n",
       "      <td>-1.713504</td>\n",
       "      <td>1.239726</td>\n",
       "    </tr>\n",
       "    <tr>\n",
       "      <th>3</th>\n",
       "      <td>7.961538</td>\n",
       "      <td>5.312977</td>\n",
       "      <td>4.099372</td>\n",
       "      <td>7.905109</td>\n",
       "      <td>5.061644</td>\n",
       "    </tr>\n",
       "    <tr>\n",
       "      <th>4</th>\n",
       "      <td>1841.538462</td>\n",
       "      <td>898.415076</td>\n",
       "      <td>886.174772</td>\n",
       "      <td>842.583942</td>\n",
       "      <td>20.952055</td>\n",
       "    </tr>\n",
       "  </tbody>\n",
       "</table>\n",
       "</div>"
      ],
      "text/plain": [
       "             0            1             2           3           4\n",
       "0   130.000000  1048.000000  18939.000000  548.000000  146.000000\n",
       "1     0.000000     0.001908      0.046676    0.200730    0.068493\n",
       "2    -2.938462    -0.745229      0.044934   -1.713504    1.239726\n",
       "3     7.961538     5.312977      4.099372    7.905109    5.061644\n",
       "4  1841.538462   898.415076    886.174772  842.583942   20.952055"
      ]
     },
     "execution_count": 175,
     "metadata": {},
     "output_type": "execute_result"
    }
   ],
   "source": [
    "a = 20\n",
    "pd.DataFrame([SUM_Bid3_13[a],SUM_Bid3_13[a+1]/SUM_Bid3_13[a],SUM_Bid3_13[a+2]/SUM_Bid3_13[a],SUM_Bid3_13[a+3]/SUM_Bid3_13[a],SUM_Bid3_13[a+4]/SUM_Bid3_13[a]])"
   ]
  },
  {
   "cell_type": "code",
   "execution_count": null,
   "metadata": {
    "collapsed": true
   },
   "outputs": [],
   "source": []
  },
  {
   "cell_type": "code",
   "execution_count": 176,
   "metadata": {
    "collapsed": false
   },
   "outputs": [
    {
     "data": {
      "text/html": [
       "<div>\n",
       "<table border=\"1\" class=\"dataframe\">\n",
       "  <thead>\n",
       "    <tr style=\"text-align: right;\">\n",
       "      <th></th>\n",
       "      <th>0</th>\n",
       "      <th>1</th>\n",
       "      <th>2</th>\n",
       "      <th>3</th>\n",
       "      <th>4</th>\n",
       "    </tr>\n",
       "  </thead>\n",
       "  <tbody>\n",
       "    <tr>\n",
       "      <th>0</th>\n",
       "      <td>2.0</td>\n",
       "      <td>565.000000</td>\n",
       "      <td>20376.000000</td>\n",
       "      <td>2052.000000</td>\n",
       "      <td>239.000000</td>\n",
       "    </tr>\n",
       "    <tr>\n",
       "      <th>1</th>\n",
       "      <td>1.0</td>\n",
       "      <td>0.479646</td>\n",
       "      <td>0.568856</td>\n",
       "      <td>0.487817</td>\n",
       "      <td>0.297071</td>\n",
       "    </tr>\n",
       "    <tr>\n",
       "      <th>2</th>\n",
       "      <td>1.0</td>\n",
       "      <td>-0.201770</td>\n",
       "      <td>0.275628</td>\n",
       "      <td>-0.035088</td>\n",
       "      <td>-1.493724</td>\n",
       "    </tr>\n",
       "    <tr>\n",
       "      <th>3</th>\n",
       "      <td>2.0</td>\n",
       "      <td>9.895575</td>\n",
       "      <td>1.711916</td>\n",
       "      <td>1.987817</td>\n",
       "      <td>5.230126</td>\n",
       "    </tr>\n",
       "    <tr>\n",
       "      <th>4</th>\n",
       "      <td>76492.5</td>\n",
       "      <td>507.515044</td>\n",
       "      <td>551.998380</td>\n",
       "      <td>575.867446</td>\n",
       "      <td>127.933054</td>\n",
       "    </tr>\n",
       "  </tbody>\n",
       "</table>\n",
       "</div>"
      ],
      "text/plain": [
       "         0           1             2            3           4\n",
       "0      2.0  565.000000  20376.000000  2052.000000  239.000000\n",
       "1      1.0    0.479646      0.568856     0.487817    0.297071\n",
       "2      1.0   -0.201770      0.275628    -0.035088   -1.493724\n",
       "3      2.0    9.895575      1.711916     1.987817    5.230126\n",
       "4  76492.5  507.515044    551.998380   575.867446  127.933054"
      ]
     },
     "execution_count": 176,
     "metadata": {},
     "output_type": "execute_result"
    }
   ],
   "source": [
    "a = 0\n",
    "pd.DataFrame([SUM_Bid1_16[a],SUM_Bid1_16[a+1]/SUM_Bid1_16[a],SUM_Bid1_16[a+2]/SUM_Bid1_16[a],SUM_Bid1_16[a+3]/SUM_Bid1_16[a],SUM_Bid1_16[a+4]/SUM_Bid1_16[a]])"
   ]
  },
  {
   "cell_type": "code",
   "execution_count": 177,
   "metadata": {
    "collapsed": false
   },
   "outputs": [
    {
     "data": {
      "text/html": [
       "<div>\n",
       "<table border=\"1\" class=\"dataframe\">\n",
       "  <thead>\n",
       "    <tr style=\"text-align: right;\">\n",
       "      <th></th>\n",
       "      <th>0</th>\n",
       "      <th>1</th>\n",
       "      <th>2</th>\n",
       "      <th>3</th>\n",
       "      <th>4</th>\n",
       "    </tr>\n",
       "  </thead>\n",
       "  <tbody>\n",
       "    <tr>\n",
       "      <th>0</th>\n",
       "      <td>7.000000</td>\n",
       "      <td>1111.000000</td>\n",
       "      <td>17899.000000</td>\n",
       "      <td>1643.000000</td>\n",
       "      <td>158.000000</td>\n",
       "    </tr>\n",
       "    <tr>\n",
       "      <th>1</th>\n",
       "      <td>1.000000</td>\n",
       "      <td>0.573357</td>\n",
       "      <td>0.524890</td>\n",
       "      <td>0.530128</td>\n",
       "      <td>0.411392</td>\n",
       "    </tr>\n",
       "    <tr>\n",
       "      <th>2</th>\n",
       "      <td>1.000000</td>\n",
       "      <td>0.249325</td>\n",
       "      <td>0.072876</td>\n",
       "      <td>0.110164</td>\n",
       "      <td>-0.474684</td>\n",
       "    </tr>\n",
       "    <tr>\n",
       "      <th>3</th>\n",
       "      <td>2.857143</td>\n",
       "      <td>2.378938</td>\n",
       "      <td>2.220515</td>\n",
       "      <td>2.257456</td>\n",
       "      <td>4.101266</td>\n",
       "    </tr>\n",
       "    <tr>\n",
       "      <th>4</th>\n",
       "      <td>12750.000000</td>\n",
       "      <td>566.766877</td>\n",
       "      <td>609.057210</td>\n",
       "      <td>627.395009</td>\n",
       "      <td>178.297468</td>\n",
       "    </tr>\n",
       "  </tbody>\n",
       "</table>\n",
       "</div>"
      ],
      "text/plain": [
       "              0            1             2            3           4\n",
       "0      7.000000  1111.000000  17899.000000  1643.000000  158.000000\n",
       "1      1.000000     0.573357      0.524890     0.530128    0.411392\n",
       "2      1.000000     0.249325      0.072876     0.110164   -0.474684\n",
       "3      2.857143     2.378938      2.220515     2.257456    4.101266\n",
       "4  12750.000000   566.766877    609.057210   627.395009  178.297468"
      ]
     },
     "execution_count": 177,
     "metadata": {},
     "output_type": "execute_result"
    }
   ],
   "source": [
    "a = 5\n",
    "pd.DataFrame([SUM_Bid1_16[a],SUM_Bid1_16[a+1]/SUM_Bid1_16[a],SUM_Bid1_16[a+2]/SUM_Bid1_16[a],SUM_Bid1_16[a+3]/SUM_Bid1_16[a],SUM_Bid1_16[a+4]/SUM_Bid1_16[a]])"
   ]
  },
  {
   "cell_type": "code",
   "execution_count": 178,
   "metadata": {
    "collapsed": false
   },
   "outputs": [
    {
     "data": {
      "text/html": [
       "<div>\n",
       "<table border=\"1\" class=\"dataframe\">\n",
       "  <thead>\n",
       "    <tr style=\"text-align: right;\">\n",
       "      <th></th>\n",
       "      <th>0</th>\n",
       "      <th>1</th>\n",
       "      <th>2</th>\n",
       "      <th>3</th>\n",
       "      <th>4</th>\n",
       "    </tr>\n",
       "  </thead>\n",
       "  <tbody>\n",
       "    <tr>\n",
       "      <th>0</th>\n",
       "      <td>6.000000</td>\n",
       "      <td>1628.000000</td>\n",
       "      <td>18016.000000</td>\n",
       "      <td>1319.000000</td>\n",
       "      <td>127.000000</td>\n",
       "    </tr>\n",
       "    <tr>\n",
       "      <th>1</th>\n",
       "      <td>1.000000</td>\n",
       "      <td>0.550983</td>\n",
       "      <td>0.446270</td>\n",
       "      <td>0.575436</td>\n",
       "      <td>0.629921</td>\n",
       "    </tr>\n",
       "    <tr>\n",
       "      <th>2</th>\n",
       "      <td>1.000000</td>\n",
       "      <td>-0.151720</td>\n",
       "      <td>-0.091519</td>\n",
       "      <td>0.277483</td>\n",
       "      <td>0.015748</td>\n",
       "    </tr>\n",
       "    <tr>\n",
       "      <th>3</th>\n",
       "      <td>2.166667</td>\n",
       "      <td>2.674447</td>\n",
       "      <td>2.498057</td>\n",
       "      <td>2.257771</td>\n",
       "      <td>3.858268</td>\n",
       "    </tr>\n",
       "    <tr>\n",
       "      <th>4</th>\n",
       "      <td>7912.000000</td>\n",
       "      <td>588.132064</td>\n",
       "      <td>664.859514</td>\n",
       "      <td>549.219864</td>\n",
       "      <td>184.692913</td>\n",
       "    </tr>\n",
       "  </tbody>\n",
       "</table>\n",
       "</div>"
      ],
      "text/plain": [
       "             0            1             2            3           4\n",
       "0     6.000000  1628.000000  18016.000000  1319.000000  127.000000\n",
       "1     1.000000     0.550983      0.446270     0.575436    0.629921\n",
       "2     1.000000    -0.151720     -0.091519     0.277483    0.015748\n",
       "3     2.166667     2.674447      2.498057     2.257771    3.858268\n",
       "4  7912.000000   588.132064    664.859514   549.219864  184.692913"
      ]
     },
     "execution_count": 178,
     "metadata": {},
     "output_type": "execute_result"
    }
   ],
   "source": [
    "a = 10\n",
    "pd.DataFrame([SUM_Bid1_16[a],SUM_Bid1_16[a+1]/SUM_Bid1_16[a],SUM_Bid1_16[a+2]/SUM_Bid1_16[a],SUM_Bid1_16[a+3]/SUM_Bid1_16[a],SUM_Bid1_16[a+4]/SUM_Bid1_16[a]])"
   ]
  },
  {
   "cell_type": "code",
   "execution_count": 179,
   "metadata": {
    "collapsed": false
   },
   "outputs": [
    {
     "data": {
      "text/html": [
       "<div>\n",
       "<table border=\"1\" class=\"dataframe\">\n",
       "  <thead>\n",
       "    <tr style=\"text-align: right;\">\n",
       "      <th></th>\n",
       "      <th>0</th>\n",
       "      <th>1</th>\n",
       "      <th>2</th>\n",
       "      <th>3</th>\n",
       "      <th>4</th>\n",
       "    </tr>\n",
       "  </thead>\n",
       "  <tbody>\n",
       "    <tr>\n",
       "      <th>0</th>\n",
       "      <td>1.0</td>\n",
       "      <td>1156.000000</td>\n",
       "      <td>12321.000000</td>\n",
       "      <td>1145.000000</td>\n",
       "      <td>103.000000</td>\n",
       "    </tr>\n",
       "    <tr>\n",
       "      <th>1</th>\n",
       "      <td>1.0</td>\n",
       "      <td>0.438581</td>\n",
       "      <td>0.431702</td>\n",
       "      <td>0.451528</td>\n",
       "      <td>0.640777</td>\n",
       "    </tr>\n",
       "    <tr>\n",
       "      <th>2</th>\n",
       "      <td>1.0</td>\n",
       "      <td>-0.208478</td>\n",
       "      <td>-0.170522</td>\n",
       "      <td>0.044541</td>\n",
       "      <td>0.087379</td>\n",
       "    </tr>\n",
       "    <tr>\n",
       "      <th>3</th>\n",
       "      <td>2.0</td>\n",
       "      <td>2.955017</td>\n",
       "      <td>2.688093</td>\n",
       "      <td>2.519651</td>\n",
       "      <td>3.932039</td>\n",
       "    </tr>\n",
       "    <tr>\n",
       "      <th>4</th>\n",
       "      <td>34178.0</td>\n",
       "      <td>643.929931</td>\n",
       "      <td>683.798718</td>\n",
       "      <td>601.392140</td>\n",
       "      <td>207.300971</td>\n",
       "    </tr>\n",
       "  </tbody>\n",
       "</table>\n",
       "</div>"
      ],
      "text/plain": [
       "         0            1             2            3           4\n",
       "0      1.0  1156.000000  12321.000000  1145.000000  103.000000\n",
       "1      1.0     0.438581      0.431702     0.451528    0.640777\n",
       "2      1.0    -0.208478     -0.170522     0.044541    0.087379\n",
       "3      2.0     2.955017      2.688093     2.519651    3.932039\n",
       "4  34178.0   643.929931    683.798718   601.392140  207.300971"
      ]
     },
     "execution_count": 179,
     "metadata": {},
     "output_type": "execute_result"
    }
   ],
   "source": [
    "a = 15\n",
    "pd.DataFrame([SUM_Bid1_16[a],SUM_Bid1_16[a+1]/SUM_Bid1_16[a],SUM_Bid1_16[a+2]/SUM_Bid1_16[a],SUM_Bid1_16[a+3]/SUM_Bid1_16[a],SUM_Bid1_16[a+4]/SUM_Bid1_16[a]])"
   ]
  },
  {
   "cell_type": "code",
   "execution_count": 180,
   "metadata": {
    "collapsed": false
   },
   "outputs": [
    {
     "data": {
      "text/html": [
       "<div>\n",
       "<table border=\"1\" class=\"dataframe\">\n",
       "  <thead>\n",
       "    <tr style=\"text-align: right;\">\n",
       "      <th></th>\n",
       "      <th>0</th>\n",
       "      <th>1</th>\n",
       "      <th>2</th>\n",
       "      <th>3</th>\n",
       "      <th>4</th>\n",
       "    </tr>\n",
       "  </thead>\n",
       "  <tbody>\n",
       "    <tr>\n",
       "      <th>0</th>\n",
       "      <td>53.000000</td>\n",
       "      <td>3170.000000</td>\n",
       "      <td>23496.000000</td>\n",
       "      <td>1191.000000</td>\n",
       "      <td>216.000000</td>\n",
       "    </tr>\n",
       "    <tr>\n",
       "      <th>1</th>\n",
       "      <td>1.000000</td>\n",
       "      <td>0.292744</td>\n",
       "      <td>0.361296</td>\n",
       "      <td>0.314022</td>\n",
       "      <td>0.916667</td>\n",
       "    </tr>\n",
       "    <tr>\n",
       "      <th>2</th>\n",
       "      <td>1.000000</td>\n",
       "      <td>-0.796215</td>\n",
       "      <td>-0.633129</td>\n",
       "      <td>-0.104114</td>\n",
       "      <td>0.824074</td>\n",
       "    </tr>\n",
       "    <tr>\n",
       "      <th>3</th>\n",
       "      <td>2.792453</td>\n",
       "      <td>4.207571</td>\n",
       "      <td>2.794646</td>\n",
       "      <td>2.736356</td>\n",
       "      <td>2.726852</td>\n",
       "    </tr>\n",
       "    <tr>\n",
       "      <th>4</th>\n",
       "      <td>1130.132075</td>\n",
       "      <td>675.446057</td>\n",
       "      <td>699.047668</td>\n",
       "      <td>702.225861</td>\n",
       "      <td>303.893519</td>\n",
       "    </tr>\n",
       "  </tbody>\n",
       "</table>\n",
       "</div>"
      ],
      "text/plain": [
       "             0            1             2            3           4\n",
       "0    53.000000  3170.000000  23496.000000  1191.000000  216.000000\n",
       "1     1.000000     0.292744      0.361296     0.314022    0.916667\n",
       "2     1.000000    -0.796215     -0.633129    -0.104114    0.824074\n",
       "3     2.792453     4.207571      2.794646     2.736356    2.726852\n",
       "4  1130.132075   675.446057    699.047668   702.225861  303.893519"
      ]
     },
     "execution_count": 180,
     "metadata": {},
     "output_type": "execute_result"
    }
   ],
   "source": [
    "a = 20\n",
    "pd.DataFrame([SUM_Bid1_16[a],SUM_Bid1_16[a+1]/SUM_Bid1_16[a],SUM_Bid1_16[a+2]/SUM_Bid1_16[a],SUM_Bid1_16[a+3]/SUM_Bid1_16[a],SUM_Bid1_16[a+4]/SUM_Bid1_16[a]])"
   ]
  },
  {
   "cell_type": "code",
   "execution_count": null,
   "metadata": {
    "collapsed": true
   },
   "outputs": [],
   "source": []
  },
  {
   "cell_type": "code",
   "execution_count": 181,
   "metadata": {
    "collapsed": false
   },
   "outputs": [
    {
     "data": {
      "text/html": [
       "<div>\n",
       "<table border=\"1\" class=\"dataframe\">\n",
       "  <thead>\n",
       "    <tr style=\"text-align: right;\">\n",
       "      <th></th>\n",
       "      <th>0</th>\n",
       "      <th>1</th>\n",
       "      <th>2</th>\n",
       "      <th>3</th>\n",
       "      <th>4</th>\n",
       "    </tr>\n",
       "  </thead>\n",
       "  <tbody>\n",
       "    <tr>\n",
       "      <th>0</th>\n",
       "      <td>2.0</td>\n",
       "      <td>565.000000</td>\n",
       "      <td>20376.000000</td>\n",
       "      <td>2052.000000</td>\n",
       "      <td>239.000000</td>\n",
       "    </tr>\n",
       "    <tr>\n",
       "      <th>1</th>\n",
       "      <td>0.0</td>\n",
       "      <td>0.364602</td>\n",
       "      <td>0.275275</td>\n",
       "      <td>0.273392</td>\n",
       "      <td>0.138075</td>\n",
       "    </tr>\n",
       "    <tr>\n",
       "      <th>2</th>\n",
       "      <td>2.0</td>\n",
       "      <td>0.123894</td>\n",
       "      <td>0.350883</td>\n",
       "      <td>0.243177</td>\n",
       "      <td>-1.389121</td>\n",
       "    </tr>\n",
       "    <tr>\n",
       "      <th>3</th>\n",
       "      <td>3.0</td>\n",
       "      <td>15.718584</td>\n",
       "      <td>2.891048</td>\n",
       "      <td>3.052632</td>\n",
       "      <td>6.230126</td>\n",
       "    </tr>\n",
       "    <tr>\n",
       "      <th>4</th>\n",
       "      <td>93600.0</td>\n",
       "      <td>673.830088</td>\n",
       "      <td>728.844817</td>\n",
       "      <td>742.235380</td>\n",
       "      <td>96.121339</td>\n",
       "    </tr>\n",
       "  </tbody>\n",
       "</table>\n",
       "</div>"
      ],
      "text/plain": [
       "         0           1             2            3           4\n",
       "0      2.0  565.000000  20376.000000  2052.000000  239.000000\n",
       "1      0.0    0.364602      0.275275     0.273392    0.138075\n",
       "2      2.0    0.123894      0.350883     0.243177   -1.389121\n",
       "3      3.0   15.718584      2.891048     3.052632    6.230126\n",
       "4  93600.0  673.830088    728.844817   742.235380   96.121339"
      ]
     },
     "execution_count": 181,
     "metadata": {},
     "output_type": "execute_result"
    }
   ],
   "source": [
    "a = 0\n",
    "pd.DataFrame([SUM_Bid2_16[a],SUM_Bid2_16[a+1]/SUM_Bid2_16[a],SUM_Bid2_16[a+2]/SUM_Bid2_16[a],SUM_Bid2_16[a+3]/SUM_Bid2_16[a],SUM_Bid2_16[a+4]/SUM_Bid2_16[a]])"
   ]
  },
  {
   "cell_type": "code",
   "execution_count": 182,
   "metadata": {
    "collapsed": false
   },
   "outputs": [
    {
     "data": {
      "text/html": [
       "<div>\n",
       "<table border=\"1\" class=\"dataframe\">\n",
       "  <thead>\n",
       "    <tr style=\"text-align: right;\">\n",
       "      <th></th>\n",
       "      <th>0</th>\n",
       "      <th>1</th>\n",
       "      <th>2</th>\n",
       "      <th>3</th>\n",
       "      <th>4</th>\n",
       "    </tr>\n",
       "  </thead>\n",
       "  <tbody>\n",
       "    <tr>\n",
       "      <th>0</th>\n",
       "      <td>7.000000</td>\n",
       "      <td>1111.000000</td>\n",
       "      <td>17899.000000</td>\n",
       "      <td>1643.000000</td>\n",
       "      <td>158.000000</td>\n",
       "    </tr>\n",
       "    <tr>\n",
       "      <th>1</th>\n",
       "      <td>0.000000</td>\n",
       "      <td>0.362736</td>\n",
       "      <td>0.222638</td>\n",
       "      <td>0.236762</td>\n",
       "      <td>0.297468</td>\n",
       "    </tr>\n",
       "    <tr>\n",
       "      <th>2</th>\n",
       "      <td>0.285714</td>\n",
       "      <td>0.498650</td>\n",
       "      <td>-0.001542</td>\n",
       "      <td>0.345709</td>\n",
       "      <td>-0.291139</td>\n",
       "    </tr>\n",
       "    <tr>\n",
       "      <th>3</th>\n",
       "      <td>3.857143</td>\n",
       "      <td>3.428443</td>\n",
       "      <td>3.366557</td>\n",
       "      <td>3.323189</td>\n",
       "      <td>5.101266</td>\n",
       "    </tr>\n",
       "    <tr>\n",
       "      <th>4</th>\n",
       "      <td>15171.428571</td>\n",
       "      <td>736.606661</td>\n",
       "      <td>777.050003</td>\n",
       "      <td>787.720633</td>\n",
       "      <td>180.987342</td>\n",
       "    </tr>\n",
       "  </tbody>\n",
       "</table>\n",
       "</div>"
      ],
      "text/plain": [
       "              0            1             2            3           4\n",
       "0      7.000000  1111.000000  17899.000000  1643.000000  158.000000\n",
       "1      0.000000     0.362736      0.222638     0.236762    0.297468\n",
       "2      0.285714     0.498650     -0.001542     0.345709   -0.291139\n",
       "3      3.857143     3.428443      3.366557     3.323189    5.101266\n",
       "4  15171.428571   736.606661    777.050003   787.720633  180.987342"
      ]
     },
     "execution_count": 182,
     "metadata": {},
     "output_type": "execute_result"
    }
   ],
   "source": [
    "a = 5\n",
    "pd.DataFrame([SUM_Bid2_16[a],SUM_Bid2_16[a+1]/SUM_Bid2_16[a],SUM_Bid2_16[a+2]/SUM_Bid2_16[a],SUM_Bid2_16[a+3]/SUM_Bid2_16[a],SUM_Bid2_16[a+4]/SUM_Bid2_16[a]])"
   ]
  },
  {
   "cell_type": "code",
   "execution_count": 183,
   "metadata": {
    "collapsed": false
   },
   "outputs": [
    {
     "data": {
      "text/html": [
       "<div>\n",
       "<table border=\"1\" class=\"dataframe\">\n",
       "  <thead>\n",
       "    <tr style=\"text-align: right;\">\n",
       "      <th></th>\n",
       "      <th>0</th>\n",
       "      <th>1</th>\n",
       "      <th>2</th>\n",
       "      <th>3</th>\n",
       "      <th>4</th>\n",
       "    </tr>\n",
       "  </thead>\n",
       "  <tbody>\n",
       "    <tr>\n",
       "      <th>0</th>\n",
       "      <td>6.000000</td>\n",
       "      <td>1628.000000</td>\n",
       "      <td>18016.000000</td>\n",
       "      <td>1319.000000</td>\n",
       "      <td>127.000000</td>\n",
       "    </tr>\n",
       "    <tr>\n",
       "      <th>1</th>\n",
       "      <td>0.000000</td>\n",
       "      <td>0.326167</td>\n",
       "      <td>0.194549</td>\n",
       "      <td>0.298711</td>\n",
       "      <td>0.606299</td>\n",
       "    </tr>\n",
       "    <tr>\n",
       "      <th>2</th>\n",
       "      <td>1.666667</td>\n",
       "      <td>0.080467</td>\n",
       "      <td>-0.101743</td>\n",
       "      <td>0.502654</td>\n",
       "      <td>0.622047</td>\n",
       "    </tr>\n",
       "    <tr>\n",
       "      <th>3</th>\n",
       "      <td>3.166667</td>\n",
       "      <td>3.703317</td>\n",
       "      <td>3.587811</td>\n",
       "      <td>3.329037</td>\n",
       "      <td>4.858268</td>\n",
       "    </tr>\n",
       "    <tr>\n",
       "      <th>4</th>\n",
       "      <td>8400.000000</td>\n",
       "      <td>744.773342</td>\n",
       "      <td>798.924512</td>\n",
       "      <td>733.037149</td>\n",
       "      <td>242.110236</td>\n",
       "    </tr>\n",
       "  </tbody>\n",
       "</table>\n",
       "</div>"
      ],
      "text/plain": [
       "             0            1             2            3           4\n",
       "0     6.000000  1628.000000  18016.000000  1319.000000  127.000000\n",
       "1     0.000000     0.326167      0.194549     0.298711    0.606299\n",
       "2     1.666667     0.080467     -0.101743     0.502654    0.622047\n",
       "3     3.166667     3.703317      3.587811     3.329037    4.858268\n",
       "4  8400.000000   744.773342    798.924512   733.037149  242.110236"
      ]
     },
     "execution_count": 183,
     "metadata": {},
     "output_type": "execute_result"
    }
   ],
   "source": [
    "a = 10\n",
    "pd.DataFrame([SUM_Bid2_16[a],SUM_Bid2_16[a+1]/SUM_Bid2_16[a],SUM_Bid2_16[a+2]/SUM_Bid2_16[a],SUM_Bid2_16[a+3]/SUM_Bid2_16[a],SUM_Bid2_16[a+4]/SUM_Bid2_16[a]])"
   ]
  },
  {
   "cell_type": "code",
   "execution_count": 184,
   "metadata": {
    "collapsed": false
   },
   "outputs": [
    {
     "data": {
      "text/html": [
       "<div>\n",
       "<table border=\"1\" class=\"dataframe\">\n",
       "  <thead>\n",
       "    <tr style=\"text-align: right;\">\n",
       "      <th></th>\n",
       "      <th>0</th>\n",
       "      <th>1</th>\n",
       "      <th>2</th>\n",
       "      <th>3</th>\n",
       "      <th>4</th>\n",
       "    </tr>\n",
       "  </thead>\n",
       "  <tbody>\n",
       "    <tr>\n",
       "      <th>0</th>\n",
       "      <td>1.0</td>\n",
       "      <td>1156.000000</td>\n",
       "      <td>12321.000000</td>\n",
       "      <td>1145.000000</td>\n",
       "      <td>103.000000</td>\n",
       "    </tr>\n",
       "    <tr>\n",
       "      <th>1</th>\n",
       "      <td>0.0</td>\n",
       "      <td>0.250000</td>\n",
       "      <td>0.154289</td>\n",
       "      <td>0.265502</td>\n",
       "      <td>0.640777</td>\n",
       "    </tr>\n",
       "    <tr>\n",
       "      <th>2</th>\n",
       "      <td>2.0</td>\n",
       "      <td>-0.113322</td>\n",
       "      <td>-0.202873</td>\n",
       "      <td>0.197380</td>\n",
       "      <td>0.728155</td>\n",
       "    </tr>\n",
       "    <tr>\n",
       "      <th>3</th>\n",
       "      <td>3.0</td>\n",
       "      <td>3.975779</td>\n",
       "      <td>3.761221</td>\n",
       "      <td>3.620961</td>\n",
       "      <td>4.932039</td>\n",
       "    </tr>\n",
       "    <tr>\n",
       "      <th>4</th>\n",
       "      <td>34200.0</td>\n",
       "      <td>763.416090</td>\n",
       "      <td>814.298109</td>\n",
       "      <td>737.790393</td>\n",
       "      <td>293.300971</td>\n",
       "    </tr>\n",
       "  </tbody>\n",
       "</table>\n",
       "</div>"
      ],
      "text/plain": [
       "         0            1             2            3           4\n",
       "0      1.0  1156.000000  12321.000000  1145.000000  103.000000\n",
       "1      0.0     0.250000      0.154289     0.265502    0.640777\n",
       "2      2.0    -0.113322     -0.202873     0.197380    0.728155\n",
       "3      3.0     3.975779      3.761221     3.620961    4.932039\n",
       "4  34200.0   763.416090    814.298109   737.790393  293.300971"
      ]
     },
     "execution_count": 184,
     "metadata": {},
     "output_type": "execute_result"
    }
   ],
   "source": [
    "a = 15\n",
    "pd.DataFrame([SUM_Bid2_16[a],SUM_Bid2_16[a+1]/SUM_Bid2_16[a],SUM_Bid2_16[a+2]/SUM_Bid2_16[a],SUM_Bid2_16[a+3]/SUM_Bid2_16[a],SUM_Bid2_16[a+4]/SUM_Bid2_16[a]])"
   ]
  },
  {
   "cell_type": "code",
   "execution_count": 185,
   "metadata": {
    "collapsed": false
   },
   "outputs": [
    {
     "data": {
      "text/html": [
       "<div>\n",
       "<table border=\"1\" class=\"dataframe\">\n",
       "  <thead>\n",
       "    <tr style=\"text-align: right;\">\n",
       "      <th></th>\n",
       "      <th>0</th>\n",
       "      <th>1</th>\n",
       "      <th>2</th>\n",
       "      <th>3</th>\n",
       "      <th>4</th>\n",
       "    </tr>\n",
       "  </thead>\n",
       "  <tbody>\n",
       "    <tr>\n",
       "      <th>0</th>\n",
       "      <td>53.000000</td>\n",
       "      <td>3170.000000</td>\n",
       "      <td>23496.000000</td>\n",
       "      <td>1191.000000</td>\n",
       "      <td>216.000000</td>\n",
       "    </tr>\n",
       "    <tr>\n",
       "      <th>1</th>\n",
       "      <td>0.000000</td>\n",
       "      <td>0.116404</td>\n",
       "      <td>0.111764</td>\n",
       "      <td>0.214945</td>\n",
       "      <td>0.879630</td>\n",
       "    </tr>\n",
       "    <tr>\n",
       "      <th>2</th>\n",
       "      <td>0.716981</td>\n",
       "      <td>-0.821136</td>\n",
       "      <td>-0.767824</td>\n",
       "      <td>0.064652</td>\n",
       "      <td>1.703704</td>\n",
       "    </tr>\n",
       "    <tr>\n",
       "      <th>3</th>\n",
       "      <td>3.792453</td>\n",
       "      <td>5.688013</td>\n",
       "      <td>3.846101</td>\n",
       "      <td>3.748111</td>\n",
       "      <td>3.726852</td>\n",
       "    </tr>\n",
       "    <tr>\n",
       "      <th>4</th>\n",
       "      <td>1341.509434</td>\n",
       "      <td>787.931230</td>\n",
       "      <td>806.263321</td>\n",
       "      <td>786.382872</td>\n",
       "      <td>398.439815</td>\n",
       "    </tr>\n",
       "  </tbody>\n",
       "</table>\n",
       "</div>"
      ],
      "text/plain": [
       "             0            1             2            3           4\n",
       "0    53.000000  3170.000000  23496.000000  1191.000000  216.000000\n",
       "1     0.000000     0.116404      0.111764     0.214945    0.879630\n",
       "2     0.716981    -0.821136     -0.767824     0.064652    1.703704\n",
       "3     3.792453     5.688013      3.846101     3.748111    3.726852\n",
       "4  1341.509434   787.931230    806.263321   786.382872  398.439815"
      ]
     },
     "execution_count": 185,
     "metadata": {},
     "output_type": "execute_result"
    }
   ],
   "source": [
    "a = 20\n",
    "pd.DataFrame([SUM_Bid2_16[a],SUM_Bid2_16[a+1]/SUM_Bid2_16[a],SUM_Bid2_16[a+2]/SUM_Bid2_16[a],SUM_Bid2_16[a+3]/SUM_Bid2_16[a],SUM_Bid2_16[a+4]/SUM_Bid2_16[a]])"
   ]
  },
  {
   "cell_type": "code",
   "execution_count": null,
   "metadata": {
    "collapsed": true
   },
   "outputs": [],
   "source": []
  },
  {
   "cell_type": "code",
   "execution_count": 186,
   "metadata": {
    "collapsed": false,
    "scrolled": true
   },
   "outputs": [
    {
     "data": {
      "text/html": [
       "<div>\n",
       "<table border=\"1\" class=\"dataframe\">\n",
       "  <thead>\n",
       "    <tr style=\"text-align: right;\">\n",
       "      <th></th>\n",
       "      <th>0</th>\n",
       "      <th>1</th>\n",
       "      <th>2</th>\n",
       "      <th>3</th>\n",
       "      <th>4</th>\n",
       "    </tr>\n",
       "  </thead>\n",
       "  <tbody>\n",
       "    <tr>\n",
       "      <th>0</th>\n",
       "      <td>2.0</td>\n",
       "      <td>565.000000</td>\n",
       "      <td>20376.000000</td>\n",
       "      <td>2052.000000</td>\n",
       "      <td>239.000000</td>\n",
       "    </tr>\n",
       "    <tr>\n",
       "      <th>1</th>\n",
       "      <td>0.0</td>\n",
       "      <td>0.182301</td>\n",
       "      <td>0.106989</td>\n",
       "      <td>0.095517</td>\n",
       "      <td>0.133891</td>\n",
       "    </tr>\n",
       "    <tr>\n",
       "      <th>2</th>\n",
       "      <td>2.0</td>\n",
       "      <td>0.208850</td>\n",
       "      <td>0.405291</td>\n",
       "      <td>0.318226</td>\n",
       "      <td>-1.255230</td>\n",
       "    </tr>\n",
       "    <tr>\n",
       "      <th>3</th>\n",
       "      <td>4.0</td>\n",
       "      <td>20.502655</td>\n",
       "      <td>3.909109</td>\n",
       "      <td>4.207602</td>\n",
       "      <td>7.230126</td>\n",
       "    </tr>\n",
       "    <tr>\n",
       "      <th>4</th>\n",
       "      <td>94050.0</td>\n",
       "      <td>744.964602</td>\n",
       "      <td>796.932862</td>\n",
       "      <td>805.858187</td>\n",
       "      <td>98.757322</td>\n",
       "    </tr>\n",
       "  </tbody>\n",
       "</table>\n",
       "</div>"
      ],
      "text/plain": [
       "         0           1             2            3           4\n",
       "0      2.0  565.000000  20376.000000  2052.000000  239.000000\n",
       "1      0.0    0.182301      0.106989     0.095517    0.133891\n",
       "2      2.0    0.208850      0.405291     0.318226   -1.255230\n",
       "3      4.0   20.502655      3.909109     4.207602    7.230126\n",
       "4  94050.0  744.964602    796.932862   805.858187   98.757322"
      ]
     },
     "execution_count": 186,
     "metadata": {},
     "output_type": "execute_result"
    }
   ],
   "source": [
    "a = 0\n",
    "pd.DataFrame([SUM_Bid3_16[a],SUM_Bid3_16[a+1]/SUM_Bid3_16[a],SUM_Bid3_16[a+2]/SUM_Bid3_16[a],SUM_Bid3_16[a+3]/SUM_Bid3_16[a],SUM_Bid3_16[a+4]/SUM_Bid3_16[a]])"
   ]
  },
  {
   "cell_type": "code",
   "execution_count": 187,
   "metadata": {
    "collapsed": false
   },
   "outputs": [
    {
     "data": {
      "text/html": [
       "<div>\n",
       "<table border=\"1\" class=\"dataframe\">\n",
       "  <thead>\n",
       "    <tr style=\"text-align: right;\">\n",
       "      <th></th>\n",
       "      <th>0</th>\n",
       "      <th>1</th>\n",
       "      <th>2</th>\n",
       "      <th>3</th>\n",
       "      <th>4</th>\n",
       "    </tr>\n",
       "  </thead>\n",
       "  <tbody>\n",
       "    <tr>\n",
       "      <th>0</th>\n",
       "      <td>7.000000</td>\n",
       "      <td>1111.000000</td>\n",
       "      <td>17899.000000</td>\n",
       "      <td>1643.000000</td>\n",
       "      <td>158.000000</td>\n",
       "    </tr>\n",
       "    <tr>\n",
       "      <th>1</th>\n",
       "      <td>0.000000</td>\n",
       "      <td>0.096310</td>\n",
       "      <td>0.096374</td>\n",
       "      <td>0.086427</td>\n",
       "      <td>0.284810</td>\n",
       "    </tr>\n",
       "    <tr>\n",
       "      <th>2</th>\n",
       "      <td>0.285714</td>\n",
       "      <td>0.456346</td>\n",
       "      <td>0.033924</td>\n",
       "      <td>0.449178</td>\n",
       "      <td>-0.006329</td>\n",
       "    </tr>\n",
       "    <tr>\n",
       "      <th>3</th>\n",
       "      <td>4.857143</td>\n",
       "      <td>4.429343</td>\n",
       "      <td>4.387508</td>\n",
       "      <td>4.357273</td>\n",
       "      <td>6.101266</td>\n",
       "    </tr>\n",
       "    <tr>\n",
       "      <th>4</th>\n",
       "      <td>15428.571429</td>\n",
       "      <td>865.545455</td>\n",
       "      <td>836.548746</td>\n",
       "      <td>847.940353</td>\n",
       "      <td>197.170886</td>\n",
       "    </tr>\n",
       "  </tbody>\n",
       "</table>\n",
       "</div>"
      ],
      "text/plain": [
       "              0            1             2            3           4\n",
       "0      7.000000  1111.000000  17899.000000  1643.000000  158.000000\n",
       "1      0.000000     0.096310      0.096374     0.086427    0.284810\n",
       "2      0.285714     0.456346      0.033924     0.449178   -0.006329\n",
       "3      4.857143     4.429343      4.387508     4.357273    6.101266\n",
       "4  15428.571429   865.545455    836.548746   847.940353  197.170886"
      ]
     },
     "execution_count": 187,
     "metadata": {},
     "output_type": "execute_result"
    }
   ],
   "source": [
    "a = 5\n",
    "pd.DataFrame([SUM_Bid3_16[a],SUM_Bid3_16[a+1]/SUM_Bid3_16[a],SUM_Bid3_16[a+2]/SUM_Bid3_16[a],SUM_Bid3_16[a+3]/SUM_Bid3_16[a],SUM_Bid3_16[a+4]/SUM_Bid3_16[a]])"
   ]
  },
  {
   "cell_type": "code",
   "execution_count": 188,
   "metadata": {
    "collapsed": false
   },
   "outputs": [
    {
     "data": {
      "text/html": [
       "<div>\n",
       "<table border=\"1\" class=\"dataframe\">\n",
       "  <thead>\n",
       "    <tr style=\"text-align: right;\">\n",
       "      <th></th>\n",
       "      <th>0</th>\n",
       "      <th>1</th>\n",
       "      <th>2</th>\n",
       "      <th>3</th>\n",
       "      <th>4</th>\n",
       "    </tr>\n",
       "  </thead>\n",
       "  <tbody>\n",
       "    <tr>\n",
       "      <th>0</th>\n",
       "      <td>6.000000</td>\n",
       "      <td>1628.000000</td>\n",
       "      <td>18016.000000</td>\n",
       "      <td>1319.000000</td>\n",
       "      <td>127.000000</td>\n",
       "    </tr>\n",
       "    <tr>\n",
       "      <th>1</th>\n",
       "      <td>0.000000</td>\n",
       "      <td>0.057125</td>\n",
       "      <td>0.073990</td>\n",
       "      <td>0.144049</td>\n",
       "      <td>0.598425</td>\n",
       "    </tr>\n",
       "    <tr>\n",
       "      <th>2</th>\n",
       "      <td>1.666667</td>\n",
       "      <td>-0.074324</td>\n",
       "      <td>-0.134825</td>\n",
       "      <td>0.648218</td>\n",
       "      <td>1.220472</td>\n",
       "    </tr>\n",
       "    <tr>\n",
       "      <th>3</th>\n",
       "      <td>4.166667</td>\n",
       "      <td>4.703317</td>\n",
       "      <td>4.618450</td>\n",
       "      <td>4.404852</td>\n",
       "      <td>5.858268</td>\n",
       "    </tr>\n",
       "    <tr>\n",
       "      <th>4</th>\n",
       "      <td>8550.000000</td>\n",
       "      <td>875.785012</td>\n",
       "      <td>859.226188</td>\n",
       "      <td>805.161486</td>\n",
       "      <td>330.826772</td>\n",
       "    </tr>\n",
       "  </tbody>\n",
       "</table>\n",
       "</div>"
      ],
      "text/plain": [
       "             0            1             2            3           4\n",
       "0     6.000000  1628.000000  18016.000000  1319.000000  127.000000\n",
       "1     0.000000     0.057125      0.073990     0.144049    0.598425\n",
       "2     1.666667    -0.074324     -0.134825     0.648218    1.220472\n",
       "3     4.166667     4.703317      4.618450     4.404852    5.858268\n",
       "4  8550.000000   875.785012    859.226188   805.161486  330.826772"
      ]
     },
     "execution_count": 188,
     "metadata": {},
     "output_type": "execute_result"
    }
   ],
   "source": [
    "a = 10\n",
    "pd.DataFrame([SUM_Bid3_16[a],SUM_Bid3_16[a+1]/SUM_Bid3_16[a],SUM_Bid3_16[a+2]/SUM_Bid3_16[a],SUM_Bid3_16[a+3]/SUM_Bid3_16[a],SUM_Bid3_16[a+4]/SUM_Bid3_16[a]])"
   ]
  },
  {
   "cell_type": "code",
   "execution_count": 189,
   "metadata": {
    "collapsed": false
   },
   "outputs": [
    {
     "data": {
      "text/html": [
       "<div>\n",
       "<table border=\"1\" class=\"dataframe\">\n",
       "  <thead>\n",
       "    <tr style=\"text-align: right;\">\n",
       "      <th></th>\n",
       "      <th>0</th>\n",
       "      <th>1</th>\n",
       "      <th>2</th>\n",
       "      <th>3</th>\n",
       "      <th>4</th>\n",
       "    </tr>\n",
       "  </thead>\n",
       "  <tbody>\n",
       "    <tr>\n",
       "      <th>0</th>\n",
       "      <td>1.0</td>\n",
       "      <td>1156.000000</td>\n",
       "      <td>12321.000000</td>\n",
       "      <td>1145.000000</td>\n",
       "      <td>103.000000</td>\n",
       "    </tr>\n",
       "    <tr>\n",
       "      <th>1</th>\n",
       "      <td>0.0</td>\n",
       "      <td>0.088235</td>\n",
       "      <td>0.065741</td>\n",
       "      <td>0.160699</td>\n",
       "      <td>0.601942</td>\n",
       "    </tr>\n",
       "    <tr>\n",
       "      <th>2</th>\n",
       "      <td>2.0</td>\n",
       "      <td>-0.064879</td>\n",
       "      <td>-0.233552</td>\n",
       "      <td>0.440175</td>\n",
       "      <td>1.330097</td>\n",
       "    </tr>\n",
       "    <tr>\n",
       "      <th>3</th>\n",
       "      <td>4.0</td>\n",
       "      <td>4.975779</td>\n",
       "      <td>4.791170</td>\n",
       "      <td>4.661135</td>\n",
       "      <td>5.932039</td>\n",
       "    </tr>\n",
       "    <tr>\n",
       "      <th>4</th>\n",
       "      <td>37800.0</td>\n",
       "      <td>859.988754</td>\n",
       "      <td>862.550605</td>\n",
       "      <td>800.602620</td>\n",
       "      <td>355.844660</td>\n",
       "    </tr>\n",
       "  </tbody>\n",
       "</table>\n",
       "</div>"
      ],
      "text/plain": [
       "         0            1             2            3           4\n",
       "0      1.0  1156.000000  12321.000000  1145.000000  103.000000\n",
       "1      0.0     0.088235      0.065741     0.160699    0.601942\n",
       "2      2.0    -0.064879     -0.233552     0.440175    1.330097\n",
       "3      4.0     4.975779      4.791170     4.661135    5.932039\n",
       "4  37800.0   859.988754    862.550605   800.602620  355.844660"
      ]
     },
     "execution_count": 189,
     "metadata": {},
     "output_type": "execute_result"
    }
   ],
   "source": [
    "a = 15\n",
    "pd.DataFrame([SUM_Bid3_16[a],SUM_Bid3_16[a+1]/SUM_Bid3_16[a],SUM_Bid3_16[a+2]/SUM_Bid3_16[a],SUM_Bid3_16[a+3]/SUM_Bid3_16[a],SUM_Bid3_16[a+4]/SUM_Bid3_16[a]])"
   ]
  },
  {
   "cell_type": "code",
   "execution_count": 190,
   "metadata": {
    "collapsed": false
   },
   "outputs": [
    {
     "data": {
      "text/html": [
       "<div>\n",
       "<table border=\"1\" class=\"dataframe\">\n",
       "  <thead>\n",
       "    <tr style=\"text-align: right;\">\n",
       "      <th></th>\n",
       "      <th>0</th>\n",
       "      <th>1</th>\n",
       "      <th>2</th>\n",
       "      <th>3</th>\n",
       "      <th>4</th>\n",
       "    </tr>\n",
       "  </thead>\n",
       "  <tbody>\n",
       "    <tr>\n",
       "      <th>0</th>\n",
       "      <td>53.000000</td>\n",
       "      <td>3170.000000</td>\n",
       "      <td>23496.000000</td>\n",
       "      <td>1191.000000</td>\n",
       "      <td>216.000000</td>\n",
       "    </tr>\n",
       "    <tr>\n",
       "      <th>1</th>\n",
       "      <td>0.000000</td>\n",
       "      <td>0.024921</td>\n",
       "      <td>0.055158</td>\n",
       "      <td>0.160369</td>\n",
       "      <td>0.800926</td>\n",
       "    </tr>\n",
       "    <tr>\n",
       "      <th>2</th>\n",
       "      <td>0.716981</td>\n",
       "      <td>-0.843849</td>\n",
       "      <td>-0.796595</td>\n",
       "      <td>0.268682</td>\n",
       "      <td>2.504630</td>\n",
       "    </tr>\n",
       "    <tr>\n",
       "      <th>3</th>\n",
       "      <td>4.792453</td>\n",
       "      <td>7.140379</td>\n",
       "      <td>4.887215</td>\n",
       "      <td>4.754828</td>\n",
       "      <td>4.726852</td>\n",
       "    </tr>\n",
       "    <tr>\n",
       "      <th>4</th>\n",
       "      <td>1630.188679</td>\n",
       "      <td>833.238170</td>\n",
       "      <td>840.080482</td>\n",
       "      <td>835.130982</td>\n",
       "      <td>477.768519</td>\n",
       "    </tr>\n",
       "  </tbody>\n",
       "</table>\n",
       "</div>"
      ],
      "text/plain": [
       "             0            1             2            3           4\n",
       "0    53.000000  3170.000000  23496.000000  1191.000000  216.000000\n",
       "1     0.000000     0.024921      0.055158     0.160369    0.800926\n",
       "2     0.716981    -0.843849     -0.796595     0.268682    2.504630\n",
       "3     4.792453     7.140379      4.887215     4.754828    4.726852\n",
       "4  1630.188679   833.238170    840.080482   835.130982  477.768519"
      ]
     },
     "execution_count": 190,
     "metadata": {},
     "output_type": "execute_result"
    }
   ],
   "source": [
    "a = 20\n",
    "pd.DataFrame([SUM_Bid3_16[a],SUM_Bid3_16[a+1]/SUM_Bid3_16[a],SUM_Bid3_16[a+2]/SUM_Bid3_16[a],SUM_Bid3_16[a+3]/SUM_Bid3_16[a],SUM_Bid3_16[a+4]/SUM_Bid3_16[a]])"
   ]
  },
  {
   "cell_type": "code",
   "execution_count": null,
   "metadata": {
    "collapsed": true
   },
   "outputs": [],
   "source": []
  },
  {
   "cell_type": "code",
   "execution_count": null,
   "metadata": {
    "collapsed": true
   },
   "outputs": [],
   "source": []
  },
  {
   "cell_type": "code",
   "execution_count": null,
   "metadata": {
    "collapsed": true
   },
   "outputs": [],
   "source": []
  },
  {
   "cell_type": "code",
   "execution_count": null,
   "metadata": {
    "collapsed": true
   },
   "outputs": [],
   "source": []
  },
  {
   "cell_type": "code",
   "execution_count": null,
   "metadata": {
    "collapsed": true
   },
   "outputs": [],
   "source": []
  },
  {
   "cell_type": "code",
   "execution_count": null,
   "metadata": {
    "collapsed": true
   },
   "outputs": [],
   "source": []
  },
  {
   "cell_type": "code",
   "execution_count": null,
   "metadata": {
    "collapsed": true
   },
   "outputs": [],
   "source": []
  },
  {
   "cell_type": "code",
   "execution_count": null,
   "metadata": {
    "collapsed": true
   },
   "outputs": [],
   "source": []
  },
  {
   "cell_type": "code",
   "execution_count": null,
   "metadata": {
    "collapsed": true
   },
   "outputs": [],
   "source": []
  },
  {
   "cell_type": "code",
   "execution_count": null,
   "metadata": {
    "collapsed": true
   },
   "outputs": [],
   "source": []
  },
  {
   "cell_type": "code",
   "execution_count": null,
   "metadata": {
    "collapsed": true
   },
   "outputs": [],
   "source": []
  },
  {
   "cell_type": "code",
   "execution_count": null,
   "metadata": {
    "collapsed": true
   },
   "outputs": [],
   "source": []
  },
  {
   "cell_type": "code",
   "execution_count": null,
   "metadata": {
    "collapsed": true
   },
   "outputs": [],
   "source": []
  },
  {
   "cell_type": "code",
   "execution_count": null,
   "metadata": {
    "collapsed": true
   },
   "outputs": [],
   "source": []
  }
 ],
 "metadata": {
  "kernelspec": {
   "display_name": "Python 2",
   "language": "python",
   "name": "python2"
  },
  "language_info": {
   "codemirror_mode": {
    "name": "ipython",
    "version": 2
   },
   "file_extension": ".py",
   "mimetype": "text/x-python",
   "name": "python",
   "nbconvert_exporter": "python",
   "pygments_lexer": "ipython2",
   "version": "2.7.11"
  }
 },
 "nbformat": 4,
 "nbformat_minor": 0
}
