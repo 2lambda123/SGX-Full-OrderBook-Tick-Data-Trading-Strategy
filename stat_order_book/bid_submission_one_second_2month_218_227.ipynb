{
 "cells": [
  {
   "cell_type": "code",
   "execution_count": 1,
   "metadata": {
    "collapsed": false
   },
   "outputs": [
    {
     "name": "stdout",
     "output_type": "stream",
     "text": [
      "Populating the interactive namespace from numpy and matplotlib\n"
     ]
    }
   ],
   "source": [
    "%pylab inline\n",
    "import numpy as np\n",
    "import pandas as pd\n",
    "import matplotlib.pyplot as plt"
   ]
  },
  {
   "cell_type": "code",
   "execution_count": 3,
   "metadata": {
    "collapsed": true
   },
   "outputs": [],
   "source": [
    "def order_book(month,day):\n",
    "    data1 = []\n",
    "    datapath = '/home/bigdatas16/SGX-OrderBook-Tick-Data-Trading-Strategy-/stat_order_book/CNF14_0'+str(month)+'_'+str(day)+'_order_book_final.csv'\n",
    "    data1 = pd.read_csv(datapath,sep='\\t',encoding = 'utf-8')\n",
    "    data_book = data1[['0','1','2','3']]\n",
    "    return data_book"
   ]
  },
  {
   "cell_type": "code",
   "execution_count": 4,
   "metadata": {
    "collapsed": true
   },
   "outputs": [],
   "source": [
    "def day_time(month,day):\n",
    "    data = []\n",
    "    datapath = '/home/bigdatas16/SGX-OrderBook-Tick-Data-Trading-Strategy-/CN_Futures_2014.0'+str(month)+'.'+str(day)+'.csv'\n",
    "    data = pd.read_csv(datapath)\n",
    "    data_CNG14 = data[data.Series == 'CNG14']\n",
    "    data = data_CNG14\n",
    "    market_open_time = data[data['TimeStamp'].str.contains('2014-0'+str(month)+'-'+str(day)+'D09:00')].index.tolist()[0] \n",
    "    market_close_time = data[data['TimeStamp'].str.contains('2014-0'+str(month)+'-'+str(day)+'D16:00')].index.tolist()[0] \n",
    "    data_open = data[market_open_time:market_close_time + 1]\n",
    "    timestamp_ = data_open.TimeStamp.unique()\n",
    "    return timestamp_"
   ]
  },
  {
   "cell_type": "code",
   "execution_count": 5,
   "metadata": {
    "collapsed": true
   },
   "outputs": [],
   "source": [
    "def time_transform(timestamp_time):\n",
    "    time_second = []\n",
    "    for i in range(0,len(timestamp_time),1):\n",
    "        second = float(timestamp_time[i][11])*36000 + float(timestamp_time[i][12])*3600 \\\n",
    "                +float(timestamp_time[i][14])*600 + float(timestamp_time[i][15])*60\\\n",
    "                +float(timestamp_time[i][17])*10 + float(timestamp_time[i][18])  \n",
    "        time_second.append(second - 32400.0)\n",
    "    return  time_second"
   ]
  },
  {
   "cell_type": "code",
   "execution_count": 6,
   "metadata": {
    "collapsed": true
   },
   "outputs": [],
   "source": [
    "def bid123_ask123_Q(data_book_28_open):\n",
    "    Bid1 = []\n",
    "    Bid2 = []\n",
    "    Bid3 = []\n",
    "    Bid1_Quantity = []\n",
    "    Bid2_Quantity = []\n",
    "    Bid3_Quantity = []\n",
    "    Ask1 = []\n",
    "    Ask2 = []\n",
    "    Ask3 = []\n",
    "    Ask1_Quantity = []\n",
    "    Ask2_Quantity = []\n",
    "    Ask3_Quantity = []\n",
    "\n",
    "    TimeStamp = []\n",
    "    for i in range(1,len(data_book_28_open),4):\n",
    "        #print data_book_28_open.iloc[i]['0']\n",
    "        #print data_book_28_open.iloc[i]['2']\n",
    "        Bid1.append(float(data_book_28_open.iloc[i]['0'])/100.0)\n",
    "        Bid1_Quantity.append(float(data_book_28_open.iloc[i]['1']))\n",
    "\n",
    "        Bid2.append(float(data_book_28_open.iloc[i + 1]['0'])/100.0)\n",
    "        Bid2_Quantity.append(float(data_book_28_open.iloc[i + 1]['1']))  \n",
    "\n",
    "        Bid3.append(float(data_book_28_open.iloc[i + 2]['0'])/100.0)\n",
    "        Bid3_Quantity.append(float(data_book_28_open.iloc[i + 2]['1']))  \n",
    "\n",
    "        Ask1.append(float(data_book_28_open.iloc[i]['2'])/100.0) \n",
    "        Ask1_Quantity.append(float(data_book_28_open.iloc[i]['3']))\n",
    "\n",
    "        Ask2.append(float(data_book_28_open.iloc[i + 1]['2'])/100.0) \n",
    "        Ask2_Quantity.append(float(data_book_28_open.iloc[i + 1]['3']))    \n",
    "\n",
    "        Ask3.append(float(data_book_28_open.iloc[i + 2]['2'])/100.0) \n",
    "        Ask3_Quantity.append(float(data_book_28_open.iloc[i + 2]['3']))    \n",
    "        TimeStamp.append(data_book_28_open.iloc[i-1][1])\n",
    "    return Bid1,Bid1_Quantity,Bid2,Bid2_Quantity,Bid3,Bid3_Quantity,Ask1,Ask1_Quantity,Ask2,Ask2_Quantity,Ask3,Ask3_Quantity,    "
   ]
  },
  {
   "cell_type": "code",
   "execution_count": 7,
   "metadata": {
    "collapsed": true
   },
   "outputs": [],
   "source": [
    "def rise_ask(Ask1,timestamp_time_second):\n",
    "    rise_ratio = []\n",
    "    index = np.where(np.array(timestamp_time_second) >= 600)[0][0]\n",
    "    for i in range(0,index):\n",
    "        rise_ratio_ = round((Ask1[i] - Ask1[0])*(1.0)/Ask1[0]*100,5)\n",
    "        rise_ratio.append(rise_ratio_)\n",
    "    for i in range(index,len(Ask1),1):\n",
    "        #print timestamp_time_second[:i]\n",
    "        #print timestamp_time_second[i] - 600\n",
    "        #print np.where(np.array(timestamp_time_second[:i]) >= timestamp_time_second[i] - 600)[0][0]\n",
    "        index_start = np.where(np.array(timestamp_time_second[:i]) >= timestamp_time_second[i] - 600)[0][0]\n",
    "        rise_ratio_ = round((Ask1[i] - Ask1[index_start])*(1.0)/Ask1[index_start]*100,5)\n",
    "        rise_ratio.append(rise_ratio_)\n",
    "    return rise_ratio\n"
   ]
  },
  {
   "cell_type": "code",
   "execution_count": 8,
   "metadata": {
    "collapsed": true
   },
   "outputs": [],
   "source": [
    "def rise_cal(i,rise_ratio_ask,timestamp_time_second,Bid,Ask,index,index_15_min,close_price,\\\n",
    "             N_1,N_2,N_3,N_4,N_5,N_1_T,N_2_T,N_3_T,N_4_T,N_5_T,\\\n",
    "             N_1_E,N_2_E,N_3_E,N_4_E,N_5_E,N_1_M,N_2_M,N_3_M,N_4_M,N_5_M,\\\n",
    "             N_1_TI,N_2_TI,N_3_TI,N_4_TI,N_5_TI):\n",
    "    \n",
    "    if rise_ratio_ask[index] <= -0.4:\n",
    "        N_1 = N_1 + 1\n",
    "        #print rise_ratio_ask[index]\n",
    "        if Bid[index] > min(Ask[(index+1):index + 1 + index_15_min + 1]):\n",
    "            N_1_T = N_1_T + 1\n",
    "            N_1_E = N_1_E + (Ask[index] - Bid[index])*(1.0)/(5.0)\n",
    "            #print N_1_E\n",
    "            first_min_index = np.where(np.array(Ask[(index+1):index + 1 + index_15_min + 1]) < Bid[index])[0][0]\n",
    "            N_1_M = N_1_M + (max(Ask[(index + 1):(index + 1 + first_min_index + 1)]) - Bid[index])*(1.0)/(5.0) \n",
    "            \n",
    "            time_start = timestamp_time_second[index]\n",
    "            time_traded = timestamp_time_second[index + first_min_index + 1]\n",
    "            N_1_TI = N_1_TI + (time_traded - time_start)\n",
    "            #print N_1_TI\n",
    "            pass\n",
    "\n",
    "        else:\n",
    "            if i < 25200 - 900:\n",
    "                N_1_E = N_1_E + (Ask[index] - Ask[index + index_15_min])*(1.0)/(5.0)\n",
    "                N_1_M = N_1_M + (max(Ask[(index + 1):(index + 1 + index_15_min + 1)]) - Bid[index])*(1.0)/(5.0) \n",
    "                #print N_1_M\n",
    "                N_1_TI = N_1_TI + (900.0)\n",
    "                #print N_1_TI\n",
    "            else:\n",
    "                N_1_E = N_1_E + (Ask[index] - close_price)*(1.0)/(5.0)\n",
    "                N_1_M = N_1_M + (max(Ask[(index+1):]) - Bid[index])*(1.0)/(5.0) \n",
    "                time_start = timestamp_time_second[index]\n",
    "                time_traded = timestamp_time_second[len(timestamp_time_second)-1]                \n",
    "                N_1_TI = N_1_TI + (time_traded - time_start)\n",
    "                #print N_1_TI\n",
    "            pass\n",
    "\n",
    "    elif -0.4 < rise_ratio_ask[index] <= -0.15:\n",
    "        N_2 = N_2 + 1\n",
    "        #print rise_ratio_ask[index]\n",
    "        if Bid[index] > min(Ask[(index+1):index + 1 + index_15_min + 1]):\n",
    "            #print 3\n",
    "            N_2_T = N_2_T + 1\n",
    "            N_2_E = N_2_E + (Ask[index] - Bid[index])*(1.0)/(5.0)\n",
    "            #print N_2_E\n",
    "            first_min_index = np.where(np.array(Ask[(index+1):index + 1 + index_15_min + 1]) < Bid[index])[0][0]\n",
    "            N_2_M = N_2_M + (max(Ask[(index + 1):(index + 1 + first_min_index + 1)]) - Bid[index])*(1.0)/(5.0) \n",
    "            \n",
    "            time_start = timestamp_time_second[index]\n",
    "            time_traded = timestamp_time_second[index + first_min_index + 1]\n",
    "            N_2_TI = N_2_TI + (time_traded - time_start)\n",
    "            #print N_2_TI\n",
    "            pass\n",
    "        else:\n",
    "            if i < 25200 - 900:\n",
    "                N_2_E = N_2_E + (Ask[index] - Ask[index + index_15_min])*(1.0)/(5.0)\n",
    "                N_2_M = N_2_M + (max(Ask[(index + 1):(index + 1 + index_15_min + 1)]) - Bid[index])*(1.0)/(5.0) \n",
    "                N_2_TI = N_2_TI + (900.0)\n",
    "                #print N_2_TI\n",
    "            else:\n",
    "                N_2_E = N_2_E + (Ask[index] - close_price)*(1.0)/(5.0)\n",
    "                N_2_M = N_3_M + (max(Ask[(index+1):]) - Bid[index])*(1.0)/(5.0)\n",
    "                time_start = timestamp_time_second[index]\n",
    "                time_traded = timestamp_time_second[len(timestamp_time_second)-1]                \n",
    "                N_2_TI = N_2_TI + (time_traded - time_start)\n",
    "                #print N_2_TI\n",
    "            pass\n",
    "\n",
    "    elif -0.15 < rise_ratio_ask[index] <= 0.15:\n",
    "        N_3 = N_3 + 1\n",
    "        #print rise_ratio_ask[index]\n",
    "        if Bid[index] > min(Ask[(index+1):index + 1 + index_15_min + 1]):\n",
    "            #print 5\n",
    "            N_3_T = N_3_T + 1\n",
    "            N_3_E = N_3_E + (Ask[index] - Bid[index])*(1.0)/(5.0)\n",
    "            #print N_3_E\n",
    "            first_min_index = np.where(np.array(Ask[(index+1):index + 1 + index_15_min + 1]) < Bid[index])[0][0]\n",
    "            N_3_M = N_3_M + (max(Ask[(index + 1):(index + 1 + first_min_index + 1)]) - Bid[index])*(1.0)/(5.0) \n",
    "            time_start = timestamp_time_second[index]\n",
    "            time_traded = timestamp_time_second[index + first_min_index + 1]\n",
    "            N_3_TI = N_3_TI + (time_traded - time_start)\n",
    "            #print N_3_TI\n",
    "            pass\n",
    "        else:\n",
    "            if i < 25200 - 900:\n",
    "                N_3_E = N_3_E + (Ask[index] - Ask[index + index_15_min])*(1.0)/(5.0)\n",
    "                N_3_M = N_3_M + (max(Ask[(index + 1):(index + 1 + index_15_min + 1)]) - Bid[index])*(1.0)/(5.0) \n",
    "                N_3_TI = N_3_TI + (900.0)\n",
    "                #print N_3_TI\n",
    "            else:\n",
    "                N_3_E = N_3_E + (Ask[index] - close_price)*(1.0)/(5.0)\n",
    "                N_3_M = N_3_M + (max(Ask[(index+1):]) - Bid[index])*(1.0)/(5.0)\n",
    "                time_start = timestamp_time_second[index]\n",
    "                time_traded = timestamp_time_second[len(timestamp_time_second)-1]                \n",
    "                N_3_TI = N_3_TI + (time_traded - time_start)\n",
    "                #print N_3_TI\n",
    "            pass\n",
    "\n",
    "    elif 0.15 < rise_ratio_ask[index] < 0.4:\n",
    "        N_4 = N_4 + 1\n",
    "        #print rise_ratio_ask[index]\n",
    "        if Bid[index] > min(Ask[(index+1):index + 1 + index_15_min + 1]):\n",
    "            #print 7\n",
    "            N_4_T = N_4_T + 1\n",
    "            N_4_E = N_4_E + (Ask[index] - Bid[index])*(1.0)/(5.0)\n",
    "            #print N_4_E\n",
    "            first_min_index = np.where(np.array(Ask[(index+1):index + 1 + index_15_min + 1]) < Bid[index])[0][0]\n",
    "            N_4_M = N_4_M + (max(Ask[(index + 1):(index + 1 + first_min_index + 1)]) - Bid[index])*(1.0)/(5.0) \n",
    "            time_start = timestamp_time_second[index]\n",
    "            time_traded = timestamp_time_second[index + first_min_index + 1]\n",
    "            N_4_TI = N_4_TI + (time_traded - time_start)\n",
    "            #print N_4_TI\n",
    "            pass\n",
    "        else:\n",
    "            if i < 25200 - 900:\n",
    "                N_4_E = N_4_E + (Ask[index] - Ask[index + index_15_min])*(1.0)/(5.0)\n",
    "                N_4_M = N_4_M + (max(Ask[(index + 1):(index + 1 + index_15_min + 1)]) - Bid[index])*(1.0)/(5.0) \n",
    "                N_4_TI = N_4_TI + (900.0)\n",
    "                #print N_4_TI\n",
    "            else:\n",
    "                N_4_E = N_4_E + (Ask[index] - close_price)*(1.0)/(5.0)\n",
    "                N_4_M = N_4_M + (max(Ask[(index+1):]) - Bid[index])*(1.0)/(5.0)\n",
    "                time_start = timestamp_time_second[index]\n",
    "                time_traded = timestamp_time_second[len(timestamp_time_second)-1]                \n",
    "                N_4_TI = N_4_TI + (time_traded - time_start)\n",
    "                #print N_4_TI\n",
    "            pass\n",
    "\n",
    "    elif 0.4 <= rise_ratio_ask[index]:\n",
    "        N_5 = N_5 + 1\n",
    "        #print rise_ratio_ask[index]\n",
    "        if Bid[index] > min(Ask[(index+1):index + 1 + index_15_min + 1]):\n",
    "            N_5_T = N_5_T + 1\n",
    "            N_5_E = N_5_E + (Ask[index] - Bid[index])*(1.0)/(5.0)\n",
    "            #print N_5_E      \n",
    "            first_min_index = np.where(np.array(Ask[(index+1):index + 1 + index_15_min + 1]) < Bid[index])[0][0]\n",
    "            N_5_M = N_5_M + (max(Ask[(index + 1):(index + 1 + first_min_index + 1)]) - Bid[index])*(1.0)/(5.0) \n",
    "            \n",
    "            time_start = timestamp_time_second[index]\n",
    "            time_traded = timestamp_time_second[index + first_min_index + 1]\n",
    "            N_5_TI = N_5_TI + (time_traded - time_start)\n",
    "            #print N_5_TI\n",
    "            pass\n",
    "        else:\n",
    "            if i < 25200 - 900:\n",
    "                N_5_E = N_5_E + (Ask[index] - Ask[index + index_15_min])*(1.0)/(5.0)\n",
    "                N_5_M = N_5_M + (max(Ask[(index + 1):(index + 1 + index_15_min + 1)]) - Bid[index])*(1.0)/(5.0) \n",
    "                N_1_TI = N_1_TI + (900.0)\n",
    "                #print N_5_TI\n",
    "            else:\n",
    "                N_5_E = N_5_E + (Ask[index] - close_price)*(1.0)/(5.0)\n",
    "                N_5_M = N_5_M + (max(Ask[(index+1):]) - Bid[index])*(1.0)/(5.0)\n",
    "                time_start = timestamp_time_second[index]\n",
    "                time_traded = timestamp_time_second[len(timestamp_time_second)-1]                \n",
    "                N_5_TI = N_5_TI + (time_traded - time_start)\n",
    "                #print N_5_TI \n",
    "            pass\n",
    "        \n",
    "    return N_1,N_2,N_3,N_4,N_5,N_1_T,N_2_T,N_3_T,N_4_T,N_5_T,N_1_E,N_2_E,N_3_E,N_4_E,N_5_E,N_1_M,N_2_M,N_3_M,N_4_M,N_5_M,\\\n",
    "           N_1_TI,N_2_TI,N_3_TI,N_4_TI,N_5_TI\n"
   ]
  },
  {
   "cell_type": "code",
   "execution_count": 9,
   "metadata": {
    "collapsed": true
   },
   "outputs": [],
   "source": [
    "def bid(time1,time2,Bid,Ask,close_price,timestamp_time_second,Bid1_Quantity,Bid2_Quantity,Bid3_Quantity,\\\n",
    "        Ask1_Quantity,Ask2_Quantity,Ask3_Quantity,weigth1,weigth2,weigth3):\n",
    "    [N_11,N_12,N_13,N_14,N_15,N_11_T,N_12_T,N_13_T,N_14_T,N_15_T,N_11_E,N_12_E,N_13_E,N_14_E,N_15_E,\\\n",
    "     N_11_M,N_12_M,N_13_M,N_14_M,N_15_M,N_11_TI,N_12_TI,N_13_TI,N_14_TI,N_15_TI] = [0 for i in  range(0,25,1)]\n",
    "    [N_21,N_22,N_23,N_24,N_25,N_21_T,N_22_T,N_23_T,N_24_T,N_25_T,N_21_E,N_22_E,N_23_E,N_24_E,N_25_E,\\\n",
    "     N_21_M,N_22_M,N_23_M,N_24_M,N_25_M,N_21_TI,N_22_TI,N_23_TI,N_24_TI,N_25_TI] = [0 for i in  range(0,25,1)]\n",
    "    [N_31,N_32,N_33,N_34,N_35,N_31_T,N_32_T,N_33_T,N_34_T,N_35_T,N_31_E,N_32_E,N_33_E,N_34_E,N_35_E,\\\n",
    "     N_31_M,N_32_M,N_33_M,N_34_M,N_35_M,N_31_TI,N_32_TI,N_33_TI,N_34_TI,N_35_TI] = [0 for i in  range(0,25,1)]\n",
    "    [N_41,N_42,N_43,N_44,N_45,N_41_T,N_42_T,N_43_T,N_44_T,N_45_T,N_41_E,N_42_E,N_43_E,N_44_E,N_45_E,\\\n",
    "     N_41_M,N_42_M,N_43_M,N_44_M,N_45_M,N_41_TI,N_42_TI,N_43_TI,N_44_TI,N_45_TI] = [0 for i in  range(0,25,1)]\n",
    "    [N_51,N_52,N_53,N_54,N_55,N_51_T,N_52_T,N_53_T,N_54_T,N_55_T,N_51_E,N_52_E,N_53_E,N_54_E,N_55_E,\\\n",
    "     N_51_M,N_52_M,N_53_M,N_54_M,N_55_M,N_51_TI,N_52_TI,N_53_TI,N_54_TI,N_55_TI] = [0 for i in  range(0,25,1)]\n",
    "\n",
    "    for i in range(time1,time2,1):\n",
    "        #print i\n",
    "        #print np.where(array(timestamp_time_second) <= i)[0]\n",
    "        index = np.where(array(timestamp_time_second) <= i)[0][-1]\n",
    "        #print i\n",
    "        #print index\n",
    "        #print timestamp_time_second[index]\n",
    "        if i < 25200 - 900:\n",
    "            index_15_min = np.where(np.array(timestamp_time_second[index:]) >= i + 900)[0][0]\n",
    "            #print index_15_min\n",
    "            #print timestamp_time_second[index+index_15_min]\n",
    "        #print 'time stamp = %d'%(timestamp_time_second[index])\n",
    "        #print index\n",
    "        #print index + index_15_min \n",
    "        #rint Bid1[index]\n",
    "        #print Ask1[index]\n",
    "        #print len(Ask1[(index+1):index + index_15_min])\n",
    "\n",
    "        #if Bid1[index] > min(Ask1[(index+1):index + index_15_min]):\n",
    "        #    first_min_index = np.where(np.array(Ask1[(index+1):index + index_15_min]) < Bid1[index])[0][0]\n",
    "        #    print 'mdd = %d'%((max(Ask1[(index + 1):(index + 1 + first_min_index)]) - Bid1[index])*(1.0)/(5.0))\n",
    "        #print min_Ask1_time_series[index + 1]\n",
    "        weighted_Bid = Bid1_Quantity[index] * weight1 + Bid2_Quantity[index] * weight2 + Bid3_Quantity[index] * weight3\n",
    "        weighted_Ask = Ask1_Quantity[index] * weight1 + Ask2_Quantity[index] * weight2 + Ask3_Quantity[index] * weight3  \n",
    "        #print weighted_Bid \n",
    "        #print weighted_Ask\n",
    "        #print (weighted_Bid*(1.0) / weighted_Ask)\n",
    "\n",
    "        if (weighted_Bid*(1.0) / weighted_Ask) <= 0.7:\n",
    "            N_11,N_12,N_13,N_14,N_15,N_11_T,N_12_T,N_13_T,N_14_T,N_15_T,N_11_E,N_12_E,N_13_E,N_14_E,N_15_E,\\\n",
    "            N_11_M,N_12_M,N_13_M,N_14_M,N_15_M,N_11_TI,N_12_TI,N_13_TI,N_14_TI,N_15_TI = rise_cal(i,rise_ratio_ask,timestamp_time_second,Bid,Ask,index,index_15_min,\\\n",
    "                                                          close_price,N_11,N_12,N_13,N_14,N_15,N_11_T,N_12_T,N_13_T,N_14_T,N_15_T,\\\n",
    "                                                          N_11_E,N_12_E,N_13_E,N_14_E,N_15_E,N_11_M,N_12_M,N_13_M,N_14_M,N_15_M,\\\n",
    "                                                          N_11_TI,N_12_TI,N_13_TI,N_14_TI,N_15_TI)                                               \n",
    "\n",
    "        elif 0.7 < (weighted_Bid*(1.0) / weighted_Ask) <= 0.9:\n",
    "            N_21,N_22,N_23,N_24,N_25,N_21_T,N_22_T,N_23_T,N_24_T,N_25_T,N_21_E,N_22_E,N_23_E,N_24_E,N_25_E,\\\n",
    "            N_21_M,N_22_M,N_23_M,N_24_M,N_25_M,N_21_TI,N_22_TI,N_23_TI,N_24_TI,N_25_TI = rise_cal(i,rise_ratio_ask,timestamp_time_second,Bid,Ask,index,index_15_min,\\\n",
    "                                                          close_price,N_21,N_22,N_23,N_24,N_25,N_21_T,N_22_T,N_23_T,N_24_T,N_25_T,\\\n",
    "                                                          N_21_E,N_22_E,N_23_E,N_24_E,N_25_E,N_21_M,N_22_M,N_23_M,N_24_M,N_25_M,\\\n",
    "                                                          N_21_TI,N_22_TI,N_23_TI,N_24_TI,N_25_TI)                                                \n",
    "\n",
    "        elif 0.9 < (weighted_Bid*(1.0) / weighted_Ask) <= 1.1:\n",
    "            N_31,N_32,N_33,N_34,N_35,N_31_T,N_32_T,N_33_T,N_34_T,N_35_T,N_31_E,N_32_E,N_33_E,N_34_E,N_35_E,\\\n",
    "            N_31_M,N_32_M,N_33_M,N_34_M,N_35_M,N_31_TI,N_32_TI,N_33_TI,N_34_TI,N_35_TI = rise_cal(i,rise_ratio_ask,timestamp_time_second,Bid,Ask,index,index_15_min,\\\n",
    "                                                          close_price,N_31,N_32,N_33,N_34,N_35,N_31_T,N_32_T,N_33_T,N_34_T,N_35_T,\\\n",
    "                                                          N_31_E,N_32_E,N_33_E,N_34_E,N_35_E,N_31_M,N_32_M,N_33_M,N_34_M,N_35_M,\\\n",
    "                                                          N_31_TI,N_32_TI,N_33_TI,N_34_TI,N_35_TI)                                    \n",
    "\n",
    "        elif 1.1 < (weighted_Bid*(1.0) / weighted_Ask) <= 1.3:\n",
    "            N_41,N_42,N_43,N_44,N_45,N_41_T,N_42_T,N_43_T,N_44_T,N_45_T,N_41_E,N_42_E,N_43_E,N_44_E,N_45_E,\\\n",
    "            N_41_M,N_42_M,N_43_M,N_44_M,N_45_M,N_41_TI,N_42_TI,N_43_TI,N_44_TI,N_45_TI = rise_cal(i,rise_ratio_ask,timestamp_time_second,Bid,Ask,index,index_15_min,\\\n",
    "                                                          close_price,N_41,N_42,N_43,N_44,N_45,N_41_T,N_42_T,N_43_T,N_44_T,N_45_T,\\\n",
    "                                                          N_41_E,N_42_E,N_43_E,N_44_E,N_45_E,N_41_M,N_42_M,N_43_M,N_44_M,N_45_M,\\\n",
    "                                                          N_41_TI,N_42_TI,N_43_TI,N_44_TI,N_45_TI)                              \n",
    "\n",
    "        elif 1.30 < (weighted_Bid*(1.0) / weighted_Ask):\n",
    "            N_51,N_52,N_53,N_54,N_55,N_51_T,N_52_T,N_53_T,N_54_T,N_55_T,N_51_E,N_52_E,N_53_E,N_54_E,N_55_E,\\\n",
    "            N_51_M,N_52_M,N_53_M,N_54_M,N_55_M,N_51_TI,N_52_TI,N_53_TI,N_54_TI,N_55_TI = rise_cal(i,rise_ratio_ask,timestamp_time_second,Bid,Ask,index,index_15_min,\\\n",
    "                                                          close_price,N_51,N_52,N_53,N_54,N_55,N_51_T,N_52_T,N_53_T,N_54_T,N_55_T,\\\n",
    "                                                          N_51_E,N_52_E,N_53_E,N_54_E,N_55_E,N_51_M,N_52_M,N_53_M,N_54_M,N_55_M,\\\n",
    "                                                          N_51_TI,N_52_TI,N_53_TI,N_54_TI,N_55_TI)                 \n",
    "\n",
    "    return [[N_11,N_12,N_13,N_14,N_15],[N_11_T,N_12_T,N_13_T,N_14_T,N_15_T],[N_11_E,N_12_E,N_13_E,N_14_E,N_15_E],\\\n",
    "             [N_11_M,N_12_M,N_13_M,N_14_M,N_15_M],[N_11_TI,N_12_TI,N_13_TI,N_14_TI,N_15_TI],\\\n",
    "            [N_21,N_22,N_23,N_24,N_25],[N_21_T,N_22_T,N_23_T,N_24_T,N_25_T],[N_21_E,N_22_E,N_23_E,N_24_E,N_25_E],\\\n",
    "             [N_21_M,N_22_M,N_23_M,N_24_M,N_25_M],[N_21_TI,N_22_TI,N_23_TI,N_24_TI,N_25_TI],\\\n",
    "            [N_31,N_32,N_33,N_34,N_35],[N_31_T,N_32_T,N_33_T,N_34_T,N_35_T],[N_31_E,N_32_E,N_33_E,N_34_E,N_35_E],\\\n",
    "             [N_31_M,N_32_M,N_33_M,N_34_M,N_35_M],[N_31_TI,N_32_TI,N_33_TI,N_34_TI,N_35_TI],\\\n",
    "            [N_41,N_42,N_43,N_44,N_45],[N_41_T,N_42_T,N_43_T,N_44_T,N_45_T],[N_41_E,N_42_E,N_43_E,N_44_E,N_45_E],\\\n",
    "             [N_41_M,N_42_M,N_43_M,N_44_M,N_45_M],[N_41_TI,N_42_TI,N_43_TI,N_44_TI,N_45_TI],\\\n",
    "            [N_51,N_52,N_53,N_54,N_55],[N_51_T,N_52_T,N_53_T,N_54_T,N_55_T],[N_51_E,N_52_E,N_53_E,N_54_E,N_55_E],\\\n",
    "             [N_51_M,N_52_M,N_53_M,N_54_M,N_55_M],[N_51_TI,N_52_TI,N_53_TI,N_54_TI,N_55_TI]] \n"
   ]
  },
  {
   "cell_type": "markdown",
   "metadata": {},
   "source": [
    "### day 2/18"
   ]
  },
  {
   "cell_type": "code",
   "execution_count": 28,
   "metadata": {
    "collapsed": false
   },
   "outputs": [],
   "source": [
    "data_book = order_book(2,'18')\n",
    "data_book_open = data_book[1028:301211+1]\n",
    "data_book_open = data_book_open.reset_index(drop = True)\n",
    "timestamp_time = day_time(2,'18')\n",
    "timestamp_time_second = time_transform(timestamp_time)"
   ]
  },
  {
   "cell_type": "code",
   "execution_count": 12,
   "metadata": {
    "collapsed": false,
    "scrolled": true
   },
   "outputs": [],
   "source": [
    "#data_book_open"
   ]
  },
  {
   "cell_type": "code",
   "execution_count": 29,
   "metadata": {
    "collapsed": false
   },
   "outputs": [
    {
     "name": "stdout",
     "output_type": "stream",
     "text": [
      "Total time = 116.894525\n"
     ]
    }
   ],
   "source": [
    "import time \n",
    "start = time.time()\n",
    "Bid1,Bid1_Quantity,Bid2,Bid2_Quantity,Bid3,Bid3_Quantity,Ask1,Ask1_Quantity,Ask2,Ask2_Quantity,Ask3,Ask3_Quantity = bid123_ask123_Q(data_book_open)\n",
    "end = time.time()  \n",
    "print \"Total time = %f\"%(end - start)"
   ]
  },
  {
   "cell_type": "code",
   "execution_count": 30,
   "metadata": {
    "collapsed": false
   },
   "outputs": [
    {
     "name": "stdout",
     "output_type": "stream",
     "text": [
      "Total time = 88.897154\n"
     ]
    }
   ],
   "source": [
    "import time \n",
    "start = time.time()\n",
    "rise_ratio_ask = rise_ask(Ask1,timestamp_time_second)\n",
    "end = time.time()  \n",
    "print \"Total time = %f\"%(end - start) "
   ]
  },
  {
   "cell_type": "code",
   "execution_count": 21,
   "metadata": {
    "collapsed": false,
    "scrolled": true
   },
   "outputs": [],
   "source": [
    "#hist(rise_ratio_ask,bins = 150)"
   ]
  },
  {
   "cell_type": "markdown",
   "metadata": {},
   "source": [
    "9:00~9:15"
   ]
  },
  {
   "cell_type": "code",
   "execution_count": 31,
   "metadata": {
    "collapsed": false
   },
   "outputs": [],
   "source": [
    "close_price = 6809\n",
    "weight1 = 0.50\n",
    "weight2 = 0.30\n",
    "weight3 = 0.20"
   ]
  },
  {
   "cell_type": "code",
   "execution_count": 32,
   "metadata": {
    "collapsed": false
   },
   "outputs": [],
   "source": [
    "time1 = 0\n",
    "time2 = 600\n",
    "mat28_1_15 = bid(time1,time2,Bid1,Ask1,close_price,timestamp_time_second,Bid1_Quantity,Bid2_Quantity,Bid3_Quantity,Ask1_Quantity,Ask2_Quantity,Ask3_Quantity,weight1,weight2,weight3)\n",
    "mat28_2_15 = bid(time1,time2,Bid2,Ask1,close_price,timestamp_time_second,Bid1_Quantity,Bid2_Quantity,Bid3_Quantity,Ask1_Quantity,Ask2_Quantity,Ask3_Quantity,weight1,weight2,weight3)\n",
    "mat28_3_15 = bid(time1,time2,Bid3,Ask1,close_price,timestamp_time_second,Bid1_Quantity,Bid2_Quantity,Bid3_Quantity,Ask1_Quantity,Ask2_Quantity,Ask3_Quantity,weight1,weight2,weight3)"
   ]
  },
  {
   "cell_type": "code",
   "execution_count": 33,
   "metadata": {
    "collapsed": false,
    "scrolled": true
   },
   "outputs": [],
   "source": [
    "#mat28_1_15,mat28_2_15, mat28_3_15"
   ]
  },
  {
   "cell_type": "markdown",
   "metadata": {},
   "source": [
    "9:15~11:00"
   ]
  },
  {
   "cell_type": "code",
   "execution_count": 34,
   "metadata": {
    "collapsed": true
   },
   "outputs": [],
   "source": [
    "time1 = 600\n",
    "time2 = 7200\n",
    "mat28_1_11 = bid(time1,time2,Bid1,Ask1,close_price,timestamp_time_second,Bid1_Quantity,Bid2_Quantity,Bid3_Quantity,Ask1_Quantity,Ask2_Quantity,Ask3_Quantity,weight1,weight2,weight3)\n",
    "mat28_2_11 = bid(time1,time2,Bid2,Ask1,close_price,timestamp_time_second,Bid1_Quantity,Bid2_Quantity,Bid3_Quantity,Ask1_Quantity,Ask2_Quantity,Ask3_Quantity,weight1,weight2,weight3)\n",
    "mat28_3_11 = bid(time1,time2,Bid3,Ask1,close_price,timestamp_time_second,Bid1_Quantity,Bid2_Quantity,Bid3_Quantity,Ask1_Quantity,Ask2_Quantity,Ask3_Quantity,weight1,weight2,weight3)"
   ]
  },
  {
   "cell_type": "markdown",
   "metadata": {},
   "source": [
    "11:00~13:00"
   ]
  },
  {
   "cell_type": "code",
   "execution_count": 35,
   "metadata": {
    "collapsed": true
   },
   "outputs": [],
   "source": [
    "time1 = 7200\n",
    "time2 = 14400\n",
    "mat28_1_13 = bid(time1,time2,Bid1,Ask1,close_price,timestamp_time_second,Bid1_Quantity,Bid2_Quantity,Bid3_Quantity,Ask1_Quantity,Ask2_Quantity,Ask3_Quantity,weight1,weight2,weight3)\n",
    "mat28_2_13 = bid(time1,time2,Bid2,Ask1,close_price,timestamp_time_second,Bid1_Quantity,Bid2_Quantity,Bid3_Quantity,Ask1_Quantity,Ask2_Quantity,Ask3_Quantity,weight1,weight2,weight3)\n",
    "mat28_3_13 = bid(time1,time2,Bid3,Ask1,close_price,timestamp_time_second,Bid1_Quantity,Bid2_Quantity,Bid3_Quantity,Ask1_Quantity,Ask2_Quantity,Ask3_Quantity,weight1,weight2,weight3)"
   ]
  },
  {
   "cell_type": "markdown",
   "metadata": {},
   "source": [
    "13:00~16:00"
   ]
  },
  {
   "cell_type": "code",
   "execution_count": 36,
   "metadata": {
    "collapsed": true
   },
   "outputs": [],
   "source": [
    "time1 = 14400\n",
    "time2 = 25200\n",
    "mat28_1_16 = bid(time1,time2,Bid1,Ask1,close_price,timestamp_time_second,Bid1_Quantity,Bid2_Quantity,Bid3_Quantity,Ask1_Quantity,Ask2_Quantity,Ask3_Quantity,weight1,weight2,weight3)\n",
    "mat28_2_16 = bid(time1,time2,Bid2,Ask1,close_price,timestamp_time_second,Bid1_Quantity,Bid2_Quantity,Bid3_Quantity,Ask1_Quantity,Ask2_Quantity,Ask3_Quantity,weight1,weight2,weight3)\n",
    "mat28_3_16 = bid(time1,time2,Bid3,Ask1,close_price,timestamp_time_second,Bid1_Quantity,Bid2_Quantity,Bid3_Quantity,Ask1_Quantity,Ask2_Quantity,Ask3_Quantity,weight1,weight2,weight3)"
   ]
  },
  {
   "cell_type": "code",
   "execution_count": 23,
   "metadata": {
    "collapsed": false,
    "scrolled": true
   },
   "outputs": [],
   "source": []
  },
  {
   "cell_type": "code",
   "execution_count": null,
   "metadata": {
    "collapsed": true
   },
   "outputs": [],
   "source": []
  },
  {
   "cell_type": "code",
   "execution_count": null,
   "metadata": {
    "collapsed": true
   },
   "outputs": [],
   "source": []
  },
  {
   "cell_type": "markdown",
   "metadata": {},
   "source": [
    "### Day 2/19"
   ]
  },
  {
   "cell_type": "code",
   "execution_count": 37,
   "metadata": {
    "collapsed": true
   },
   "outputs": [],
   "source": [
    "data_book = order_book(2,19)\n",
    "data_book_open = data_book[1152:344127+1] # 9:00 ~ 16:00\n",
    "data_book_open = data_book_open.reset_index(drop = True)\n",
    "timestamp_time = day_time(2,19)\n",
    "timestamp_time_second = time_transform(timestamp_time)"
   ]
  },
  {
   "cell_type": "code",
   "execution_count": 15,
   "metadata": {
    "collapsed": false,
    "scrolled": true
   },
   "outputs": [],
   "source": [
    "#data_book_open"
   ]
  },
  {
   "cell_type": "code",
   "execution_count": 38,
   "metadata": {
    "collapsed": false
   },
   "outputs": [
    {
     "name": "stdout",
     "output_type": "stream",
     "text": [
      "Total time = 117.621838\n"
     ]
    }
   ],
   "source": [
    "import time \n",
    "start = time.time()\n",
    "Bid1,Bid1_Quantity,Bid2,Bid2_Quantity,Bid3,Bid3_Quantity,Ask1,Ask1_Quantity,Ask2,Ask2_Quantity,Ask3,Ask3_Quantity = bid123_ask123_Q(data_book_open)\n",
    "end = time.time()  \n",
    "print \"Total time = %f\"%(end - start)"
   ]
  },
  {
   "cell_type": "code",
   "execution_count": 39,
   "metadata": {
    "collapsed": false,
    "scrolled": true
   },
   "outputs": [
    {
     "name": "stdout",
     "output_type": "stream",
     "text": [
      "Total time = 119.823896\n"
     ]
    }
   ],
   "source": [
    "import time \n",
    "start = time.time()\n",
    "rise_ratio_ask = rise_ask(Ask1,timestamp_time_second)\n",
    "end = time.time()  \n",
    "print \"Total time = %f\"%(end - start) "
   ]
  },
  {
   "cell_type": "code",
   "execution_count": 40,
   "metadata": {
    "collapsed": true
   },
   "outputs": [],
   "source": [
    "close_price = 6941\n",
    "weight1 = 0.50\n",
    "weight2 = 0.30\n",
    "weight3 = 0.20"
   ]
  },
  {
   "cell_type": "code",
   "execution_count": 41,
   "metadata": {
    "collapsed": true
   },
   "outputs": [],
   "source": [
    "time1 = 0\n",
    "time2 = 600\n",
    "mat29_1_15 = bid(time1,time2,Bid1,Ask1,close_price,timestamp_time_second,Bid1_Quantity,Bid2_Quantity,Bid3_Quantity,Ask1_Quantity,Ask2_Quantity,Ask3_Quantity,weight1,weight2,weight3)\n",
    "mat29_2_15 = bid(time1,time2,Bid2,Ask1,close_price,timestamp_time_second,Bid1_Quantity,Bid2_Quantity,Bid3_Quantity,Ask1_Quantity,Ask2_Quantity,Ask3_Quantity,weight1,weight2,weight3)\n",
    "mat29_3_15 = bid(time1,time2,Bid3,Ask1,close_price,timestamp_time_second,Bid1_Quantity,Bid2_Quantity,Bid3_Quantity,Ask1_Quantity,Ask2_Quantity,Ask3_Quantity,weight1,weight2,weight3)"
   ]
  },
  {
   "cell_type": "code",
   "execution_count": 42,
   "metadata": {
    "collapsed": true
   },
   "outputs": [],
   "source": [
    "time1 = 600\n",
    "time2 = 7200\n",
    "mat29_1_11 = bid(time1,time2,Bid1,Ask1,close_price,timestamp_time_second,Bid1_Quantity,Bid2_Quantity,Bid3_Quantity,Ask1_Quantity,Ask2_Quantity,Ask3_Quantity,weight1,weight2,weight3)\n",
    "mat29_2_11 = bid(time1,time2,Bid2,Ask1,close_price,timestamp_time_second,Bid1_Quantity,Bid2_Quantity,Bid3_Quantity,Ask1_Quantity,Ask2_Quantity,Ask3_Quantity,weight1,weight2,weight3)\n",
    "mat29_3_11 = bid(time1,time2,Bid3,Ask1,close_price,timestamp_time_second,Bid1_Quantity,Bid2_Quantity,Bid3_Quantity,Ask1_Quantity,Ask2_Quantity,Ask3_Quantity,weight1,weight2,weight3)"
   ]
  },
  {
   "cell_type": "code",
   "execution_count": 43,
   "metadata": {
    "collapsed": true
   },
   "outputs": [],
   "source": [
    "time1 = 7200\n",
    "time2 = 14400\n",
    "mat29_1_13 = bid(time1,time2,Bid1,Ask1,close_price,timestamp_time_second,Bid1_Quantity,Bid2_Quantity,Bid3_Quantity,Ask1_Quantity,Ask2_Quantity,Ask3_Quantity,weight1,weight2,weight3)\n",
    "mat29_2_13 = bid(time1,time2,Bid2,Ask1,close_price,timestamp_time_second,Bid1_Quantity,Bid2_Quantity,Bid3_Quantity,Ask1_Quantity,Ask2_Quantity,Ask3_Quantity,weight1,weight2,weight3)\n",
    "mat29_3_13 = bid(time1,time2,Bid3,Ask1,close_price,timestamp_time_second,Bid1_Quantity,Bid2_Quantity,Bid3_Quantity,Ask1_Quantity,Ask2_Quantity,Ask3_Quantity,weight1,weight2,weight3)"
   ]
  },
  {
   "cell_type": "code",
   "execution_count": 44,
   "metadata": {
    "collapsed": true
   },
   "outputs": [],
   "source": [
    "time1 = 14400\n",
    "time2 = 25200\n",
    "mat29_1_16 = bid(time1,time2,Bid1,Ask1,close_price,timestamp_time_second,Bid1_Quantity,Bid2_Quantity,Bid3_Quantity,Ask1_Quantity,Ask2_Quantity,Ask3_Quantity,weight1,weight2,weight3)\n",
    "mat29_2_16 = bid(time1,time2,Bid2,Ask1,close_price,timestamp_time_second,Bid1_Quantity,Bid2_Quantity,Bid3_Quantity,Ask1_Quantity,Ask2_Quantity,Ask3_Quantity,weight1,weight2,weight3)\n",
    "mat29_3_16 = bid(time1,time2,Bid3,Ask1,close_price,timestamp_time_second,Bid1_Quantity,Bid2_Quantity,Bid3_Quantity,Ask1_Quantity,Ask2_Quantity,Ask3_Quantity,weight1,weight2,weight3)"
   ]
  },
  {
   "cell_type": "code",
   "execution_count": null,
   "metadata": {
    "collapsed": true
   },
   "outputs": [],
   "source": []
  },
  {
   "cell_type": "code",
   "execution_count": null,
   "metadata": {
    "collapsed": true
   },
   "outputs": [],
   "source": []
  },
  {
   "cell_type": "markdown",
   "metadata": {},
   "source": [
    "### Day 2/24"
   ]
  },
  {
   "cell_type": "code",
   "execution_count": 45,
   "metadata": {
    "collapsed": true
   },
   "outputs": [],
   "source": [
    "data_book = order_book(2,24)\n",
    "data_book_open = data_book[660:438423+1] # 9:00 ~ 16:00\n",
    "data_book_open = data_book_open.reset_index(drop = True)\n",
    "timestamp_time = day_time(2,24)\n",
    "timestamp_time_second = time_transform(timestamp_time)"
   ]
  },
  {
   "cell_type": "code",
   "execution_count": 18,
   "metadata": {
    "collapsed": false,
    "scrolled": true
   },
   "outputs": [],
   "source": [
    "#data_book_open"
   ]
  },
  {
   "cell_type": "code",
   "execution_count": 46,
   "metadata": {
    "collapsed": false
   },
   "outputs": [
    {
     "name": "stdout",
     "output_type": "stream",
     "text": [
      "Total time = 148.730503\n"
     ]
    }
   ],
   "source": [
    "import time \n",
    "start = time.time()\n",
    "Bid1,Bid1_Quantity,Bid2,Bid2_Quantity,Bid3,Bid3_Quantity,Ask1,Ask1_Quantity,Ask2,Ask2_Quantity,Ask3,Ask3_Quantity = bid123_ask123_Q(data_book_open)\n",
    "end = time.time()  \n",
    "print \"Total time = %f\"%(end - start)"
   ]
  },
  {
   "cell_type": "code",
   "execution_count": 47,
   "metadata": {
    "collapsed": false
   },
   "outputs": [
    {
     "name": "stdout",
     "output_type": "stream",
     "text": [
      "Total time = 234.808093\n"
     ]
    }
   ],
   "source": [
    "import time \n",
    "start = time.time()\n",
    "rise_ratio_ask = rise_ask(Ask1,timestamp_time_second)\n",
    "end = time.time()  \n",
    "print \"Total time = %f\"%(end - start) "
   ]
  },
  {
   "cell_type": "code",
   "execution_count": 48,
   "metadata": {
    "collapsed": true
   },
   "outputs": [],
   "source": [
    "close_price = 6625\n",
    "weight1 = 0.50\n",
    "weight2 = 0.30\n",
    "weight3 = 0.20"
   ]
  },
  {
   "cell_type": "code",
   "execution_count": 49,
   "metadata": {
    "collapsed": true
   },
   "outputs": [],
   "source": [
    "time1 = 0\n",
    "time2 = 600\n",
    "mat27_1_15 = bid(time1,time2,Bid1,Ask1,close_price,timestamp_time_second,Bid1_Quantity,Bid2_Quantity,Bid3_Quantity,Ask1_Quantity,Ask2_Quantity,Ask3_Quantity,weight1,weight2,weight3)\n",
    "mat27_2_15 = bid(time1,time2,Bid2,Ask1,close_price,timestamp_time_second,Bid1_Quantity,Bid2_Quantity,Bid3_Quantity,Ask1_Quantity,Ask2_Quantity,Ask3_Quantity,weight1,weight2,weight3)\n",
    "mat27_3_15 = bid(time1,time2,Bid3,Ask1,close_price,timestamp_time_second,Bid1_Quantity,Bid2_Quantity,Bid3_Quantity,Ask1_Quantity,Ask2_Quantity,Ask3_Quantity,weight1,weight2,weight3)"
   ]
  },
  {
   "cell_type": "code",
   "execution_count": 50,
   "metadata": {
    "collapsed": false,
    "scrolled": true
   },
   "outputs": [],
   "source": [
    "time1 = 600\n",
    "time2 = 7200\n",
    "mat27_1_11 = bid(time1,time2,Bid1,Ask1,close_price,timestamp_time_second,Bid1_Quantity,Bid2_Quantity,Bid3_Quantity,Ask1_Quantity,Ask2_Quantity,Ask3_Quantity,weight1,weight2,weight3)\n",
    "mat27_2_11 = bid(time1,time2,Bid2,Ask1,close_price,timestamp_time_second,Bid1_Quantity,Bid2_Quantity,Bid3_Quantity,Ask1_Quantity,Ask2_Quantity,Ask3_Quantity,weight1,weight2,weight3)\n",
    "mat27_3_11 = bid(time1,time2,Bid3,Ask1,close_price,timestamp_time_second,Bid1_Quantity,Bid2_Quantity,Bid3_Quantity,Ask1_Quantity,Ask2_Quantity,Ask3_Quantity,weight1,weight2,weight3)"
   ]
  },
  {
   "cell_type": "code",
   "execution_count": 51,
   "metadata": {
    "collapsed": false,
    "scrolled": true
   },
   "outputs": [],
   "source": [
    "time1 = 7200\n",
    "time2 = 14400\n",
    "mat27_1_13 = bid(time1,time2,Bid1,Ask1,close_price,timestamp_time_second,Bid1_Quantity,Bid2_Quantity,Bid3_Quantity,Ask1_Quantity,Ask2_Quantity,Ask3_Quantity,weight1,weight2,weight3)\n",
    "mat27_2_13 = bid(time1,time2,Bid2,Ask1,close_price,timestamp_time_second,Bid1_Quantity,Bid2_Quantity,Bid3_Quantity,Ask1_Quantity,Ask2_Quantity,Ask3_Quantity,weight1,weight2,weight3)\n",
    "mat27_3_13 = bid(time1,time2,Bid3,Ask1,close_price,timestamp_time_second,Bid1_Quantity,Bid2_Quantity,Bid3_Quantity,Ask1_Quantity,Ask2_Quantity,Ask3_Quantity,weight1,weight2,weight3)"
   ]
  },
  {
   "cell_type": "code",
   "execution_count": 52,
   "metadata": {
    "collapsed": true
   },
   "outputs": [],
   "source": [
    "time1 = 14400\n",
    "time2 = 25200\n",
    "mat27_1_16 = bid(time1,time2,Bid1,Ask1,close_price,timestamp_time_second,Bid1_Quantity,Bid2_Quantity,Bid3_Quantity,Ask1_Quantity,Ask2_Quantity,Ask3_Quantity,weight1,weight2,weight3)\n",
    "mat27_2_16 = bid(time1,time2,Bid2,Ask1,close_price,timestamp_time_second,Bid1_Quantity,Bid2_Quantity,Bid3_Quantity,Ask1_Quantity,Ask2_Quantity,Ask3_Quantity,weight1,weight2,weight3)\n",
    "mat27_3_16 = bid(time1,time2,Bid3,Ask1,close_price,timestamp_time_second,Bid1_Quantity,Bid2_Quantity,Bid3_Quantity,Ask1_Quantity,Ask2_Quantity,Ask3_Quantity,weight1,weight2,weight3)"
   ]
  },
  {
   "cell_type": "code",
   "execution_count": 64,
   "metadata": {
    "collapsed": false,
    "scrolled": true
   },
   "outputs": [
    {
     "data": {
      "text/plain": [
       "[[0, 93, 409, 160, 0],\n",
       " [0, 23, 36, 59, 0],\n",
       " [0, 36.0, 185.0, 280.0, 0],\n",
       " [0, 471.0, 1969.0, 598.0, 0],\n",
       " [0, 70951.0, 305347.0, 125567.0, 0],\n",
       " [0, 497, 751, 353, 0],\n",
       " [0, 114, 54, 79, 0],\n",
       " [0, 21.0, 296.0, 450.0, 0],\n",
       " [0, 3395.0, 3477.0, 1347.0, 0],\n",
       " [0, 321364.0, 621900.0, 293292.0, 0],\n",
       " [0, 724, 1194, 515, 0],\n",
       " [0, 204, 60, 83, 0],\n",
       " [0, 136.0, 157.0, 172.0, 0],\n",
       " [0, 5984.0, 5996.0, 2181.0, 0],\n",
       " [0, 519666.0, 1040048.0, 417353.0, 0],\n",
       " [0, 485, 1743, 505, 0],\n",
       " [0, 176, 10, 36, 0],\n",
       " [0, 75.0, -957.0, -84.0, 0],\n",
       " [0, 2265.0, 8952.0, 2183.0, 0],\n",
       " [0, 370543.0, 1491145.0, 434385.0, 0],\n",
       " [0, 269, 2581, 521, 0],\n",
       " [0, 84, 51, 11, 0],\n",
       " [0, -18.0, -2288.0, 203.0, 0],\n",
       " [0, 1362.0, 13849.0, 1820.0, 0],\n",
       " [0, 216799.0, 2268083.0, 444982.0, 0]]"
      ]
     },
     "execution_count": 64,
     "metadata": {},
     "output_type": "execute_result"
    }
   ],
   "source": [
    "mat27_3_16"
   ]
  },
  {
   "cell_type": "code",
   "execution_count": null,
   "metadata": {
    "collapsed": false,
    "scrolled": true
   },
   "outputs": [],
   "source": []
  },
  {
   "cell_type": "code",
   "execution_count": 39,
   "metadata": {
    "collapsed": false,
    "scrolled": true
   },
   "outputs": [],
   "source": [
    "#pd.DataFrame(array(mat29_1)+array(mat28_1)+array(mat27_1))"
   ]
  },
  {
   "cell_type": "code",
   "execution_count": 69,
   "metadata": {
    "collapsed": false
   },
   "outputs": [
    {
     "data": {
      "text/plain": [
       "(array([ 0.5297619 ,  0.31147541,  0.54868819,  0.88974359,  1.        ]),\n",
       " array([-0.88095238, -0.22404372,  0.40665994,  0.96282051,  1.        ]),\n",
       " array([ 3.07738095,  3.01639344,  2.01437941,  2.08717949,  1.        ]),\n",
       " array([ 450.7202381 ,  657.93989071,  555.90792129,  428.22051282,\n",
       "         163.85714286]))"
      ]
     },
     "execution_count": 69,
     "metadata": {},
     "output_type": "execute_result"
    }
   ],
   "source": [
    "a = 0\n",
    "array(mat[a+1])*1.0/array(mat[a]),array(mat[a+2])/array(mat[a]),array(mat[a+3])/array(mat[a]),array(mat[a+4])/array(mat[a])"
   ]
  },
  {
   "cell_type": "code",
   "execution_count": null,
   "metadata": {
    "collapsed": true
   },
   "outputs": [],
   "source": []
  },
  {
   "cell_type": "code",
   "execution_count": null,
   "metadata": {
    "collapsed": true
   },
   "outputs": [],
   "source": []
  },
  {
   "cell_type": "code",
   "execution_count": null,
   "metadata": {
    "collapsed": true
   },
   "outputs": [],
   "source": []
  },
  {
   "cell_type": "markdown",
   "metadata": {},
   "source": [
    "### Day 2/25"
   ]
  },
  {
   "cell_type": "code",
   "execution_count": 53,
   "metadata": {
    "collapsed": true
   },
   "outputs": [],
   "source": [
    "data_book = order_book(2,25)\n",
    "data_book_open = data_book[1028:380387+1] # 9:00 ~ 16:00\n",
    "data_book_open = data_book_open.reset_index(drop = True)\n",
    "timestamp_time = day_time(2,25)\n",
    "timestamp_time_second = time_transform(timestamp_time)"
   ]
  },
  {
   "cell_type": "code",
   "execution_count": 54,
   "metadata": {
    "collapsed": false,
    "scrolled": true
   },
   "outputs": [],
   "source": [
    "#data_book_open"
   ]
  },
  {
   "cell_type": "code",
   "execution_count": 55,
   "metadata": {
    "collapsed": false,
    "scrolled": true
   },
   "outputs": [
    {
     "data": {
      "text/plain": [
       "94840"
      ]
     },
     "execution_count": 55,
     "metadata": {},
     "output_type": "execute_result"
    }
   ],
   "source": [
    "len(timestamp_time_second)"
   ]
  },
  {
   "cell_type": "code",
   "execution_count": 56,
   "metadata": {
    "collapsed": false
   },
   "outputs": [
    {
     "name": "stdout",
     "output_type": "stream",
     "text": [
      "Total time = 139.504858\n"
     ]
    }
   ],
   "source": [
    "import time \n",
    "start = time.time()\n",
    "Bid1,Bid1_Quantity,Bid2,Bid2_Quantity,Bid3,Bid3_Quantity,Ask1,Ask1_Quantity,Ask2,Ask2_Quantity,Ask3,Ask3_Quantity = bid123_ask123_Q(data_book_open)\n",
    "end = time.time()  \n",
    "print \"Total time = %f\"%(end - start)"
   ]
  },
  {
   "cell_type": "code",
   "execution_count": 57,
   "metadata": {
    "collapsed": false
   },
   "outputs": [
    {
     "data": {
      "text/plain": [
       "94840"
      ]
     },
     "execution_count": 57,
     "metadata": {},
     "output_type": "execute_result"
    }
   ],
   "source": [
    "len(Ask1)"
   ]
  },
  {
   "cell_type": "code",
   "execution_count": 58,
   "metadata": {
    "collapsed": false
   },
   "outputs": [
    {
     "name": "stdout",
     "output_type": "stream",
     "text": [
      "Total time = 322.512873\n"
     ]
    }
   ],
   "source": [
    "import time \n",
    "start = time.time()\n",
    "rise_ratio_ask = rise_ask(Ask1,timestamp_time_second)\n",
    "end = time.time()  \n",
    "print \"Total time = %f\"%(end - start) "
   ]
  },
  {
   "cell_type": "code",
   "execution_count": 59,
   "metadata": {
    "collapsed": true
   },
   "outputs": [],
   "source": [
    "close_price = 6497\n",
    "weight1 = 0.50\n",
    "weight2 = 0.30\n",
    "weight3 = 0.20"
   ]
  },
  {
   "cell_type": "code",
   "execution_count": 60,
   "metadata": {
    "collapsed": true
   },
   "outputs": [],
   "source": [
    "time1 = 0\n",
    "time2 = 600\n",
    "mat24_1_15 = bid(time1,time2,Bid1,Ask1,close_price,timestamp_time_second,Bid1_Quantity,Bid2_Quantity,Bid3_Quantity,Ask1_Quantity,Ask2_Quantity,Ask3_Quantity,weight1,weight2,weight3)\n",
    "mat24_2_15 = bid(time1,time2,Bid2,Ask1,close_price,timestamp_time_second,Bid1_Quantity,Bid2_Quantity,Bid3_Quantity,Ask1_Quantity,Ask2_Quantity,Ask3_Quantity,weight1,weight2,weight3)\n",
    "mat24_3_15 = bid(time1,time2,Bid3,Ask1,close_price,timestamp_time_second,Bid1_Quantity,Bid2_Quantity,Bid3_Quantity,Ask1_Quantity,Ask2_Quantity,Ask3_Quantity,weight1,weight2,weight3)"
   ]
  },
  {
   "cell_type": "code",
   "execution_count": 61,
   "metadata": {
    "collapsed": true
   },
   "outputs": [],
   "source": [
    "time1 = 600\n",
    "time2 = 7200\n",
    "mat24_1_11 = bid(time1,time2,Bid1,Ask1,close_price,timestamp_time_second,Bid1_Quantity,Bid2_Quantity,Bid3_Quantity,Ask1_Quantity,Ask2_Quantity,Ask3_Quantity,weight1,weight2,weight3)\n",
    "mat24_2_11 = bid(time1,time2,Bid2,Ask1,close_price,timestamp_time_second,Bid1_Quantity,Bid2_Quantity,Bid3_Quantity,Ask1_Quantity,Ask2_Quantity,Ask3_Quantity,weight1,weight2,weight3)\n",
    "mat24_3_11 = bid(time1,time2,Bid3,Ask1,close_price,timestamp_time_second,Bid1_Quantity,Bid2_Quantity,Bid3_Quantity,Ask1_Quantity,Ask2_Quantity,Ask3_Quantity,weight1,weight2,weight3)"
   ]
  },
  {
   "cell_type": "code",
   "execution_count": 62,
   "metadata": {
    "collapsed": true
   },
   "outputs": [],
   "source": [
    "time1 = 7200\n",
    "time2 = 14400\n",
    "mat24_1_13 = bid(time1,time2,Bid1,Ask1,close_price,timestamp_time_second,Bid1_Quantity,Bid2_Quantity,Bid3_Quantity,Ask1_Quantity,Ask2_Quantity,Ask3_Quantity,weight1,weight2,weight3)\n",
    "mat24_2_13 = bid(time1,time2,Bid2,Ask1,close_price,timestamp_time_second,Bid1_Quantity,Bid2_Quantity,Bid3_Quantity,Ask1_Quantity,Ask2_Quantity,Ask3_Quantity,weight1,weight2,weight3)\n",
    "mat24_3_13 = bid(time1,time2,Bid3,Ask1,close_price,timestamp_time_second,Bid1_Quantity,Bid2_Quantity,Bid3_Quantity,Ask1_Quantity,Ask2_Quantity,Ask3_Quantity,weight1,weight2,weight3)"
   ]
  },
  {
   "cell_type": "code",
   "execution_count": 63,
   "metadata": {
    "collapsed": true
   },
   "outputs": [],
   "source": [
    "time1 = 14400\n",
    "time2 = 25200\n",
    "mat24_1_16 = bid(time1,time2,Bid1,Ask1,close_price,timestamp_time_second,Bid1_Quantity,Bid2_Quantity,Bid3_Quantity,Ask1_Quantity,Ask2_Quantity,Ask3_Quantity,weight1,weight2,weight3)\n",
    "mat24_2_16 = bid(time1,time2,Bid2,Ask1,close_price,timestamp_time_second,Bid1_Quantity,Bid2_Quantity,Bid3_Quantity,Ask1_Quantity,Ask2_Quantity,Ask3_Quantity,weight1,weight2,weight3)\n",
    "mat24_3_16 = bid(time1,time2,Bid3,Ask1,close_price,timestamp_time_second,Bid1_Quantity,Bid2_Quantity,Bid3_Quantity,Ask1_Quantity,Ask2_Quantity,Ask3_Quantity,weight1,weight2,weight3)"
   ]
  },
  {
   "cell_type": "code",
   "execution_count": null,
   "metadata": {
    "collapsed": true
   },
   "outputs": [],
   "source": []
  },
  {
   "cell_type": "markdown",
   "metadata": {},
   "source": [
    "### Day 2/26"
   ]
  },
  {
   "cell_type": "code",
   "execution_count": 65,
   "metadata": {
    "collapsed": true
   },
   "outputs": [],
   "source": [
    "data_book = order_book(2,26)\n",
    "data_book_open = data_book[892:312443+1] # 9:00 ~ 16:00\n",
    "data_book_open = data_book_open.reset_index(drop = True)\n",
    "timestamp_time = day_time(2,26)\n",
    "timestamp_time_second = time_transform(timestamp_time)"
   ]
  },
  {
   "cell_type": "code",
   "execution_count": 24,
   "metadata": {
    "collapsed": false,
    "scrolled": true
   },
   "outputs": [],
   "source": [
    "#data_book_open "
   ]
  },
  {
   "cell_type": "code",
   "execution_count": 66,
   "metadata": {
    "collapsed": false
   },
   "outputs": [
    {
     "name": "stdout",
     "output_type": "stream",
     "text": [
      "Total time = 152.622173\n"
     ]
    }
   ],
   "source": [
    "import time \n",
    "start = time.time()\n",
    "Bid1,Bid1_Quantity,Bid2,Bid2_Quantity,Bid3,Bid3_Quantity,Ask1,Ask1_Quantity,Ask2,Ask2_Quantity,Ask3,Ask3_Quantity = bid123_ask123_Q(data_book_open)\n",
    "end = time.time()  \n",
    "print \"Total time = %f\"%(end - start)"
   ]
  },
  {
   "cell_type": "code",
   "execution_count": 67,
   "metadata": {
    "collapsed": false
   },
   "outputs": [
    {
     "name": "stdout",
     "output_type": "stream",
     "text": [
      "Total time = 220.477081\n"
     ]
    }
   ],
   "source": [
    "import time \n",
    "start = time.time()\n",
    "rise_ratio_ask = rise_ask(Ask1,timestamp_time_second)\n",
    "end = time.time()  \n",
    "print \"Total time = %f\"%(end - start) "
   ]
  },
  {
   "cell_type": "code",
   "execution_count": 68,
   "metadata": {
    "collapsed": true
   },
   "outputs": [],
   "source": [
    "close_price = 6503\n",
    "weight1 = 0.50\n",
    "weight2 = 0.30\n",
    "weight3 = 0.20"
   ]
  },
  {
   "cell_type": "code",
   "execution_count": 69,
   "metadata": {
    "collapsed": true
   },
   "outputs": [],
   "source": [
    "time1 = 0\n",
    "time2 = 600\n",
    "mat22_1_15 = bid(time1,time2,Bid1,Ask1,close_price,timestamp_time_second,Bid1_Quantity,Bid2_Quantity,Bid3_Quantity,Ask1_Quantity,Ask2_Quantity,Ask3_Quantity,weight1,weight2,weight3)\n",
    "mat22_2_15 = bid(time1,time2,Bid2,Ask1,close_price,timestamp_time_second,Bid1_Quantity,Bid2_Quantity,Bid3_Quantity,Ask1_Quantity,Ask2_Quantity,Ask3_Quantity,weight1,weight2,weight3)\n",
    "mat22_3_15 = bid(time1,time2,Bid3,Ask1,close_price,timestamp_time_second,Bid1_Quantity,Bid2_Quantity,Bid3_Quantity,Ask1_Quantity,Ask2_Quantity,Ask3_Quantity,weight1,weight2,weight3)"
   ]
  },
  {
   "cell_type": "code",
   "execution_count": 70,
   "metadata": {
    "collapsed": true
   },
   "outputs": [],
   "source": [
    "time1 = 600\n",
    "time2 = 7200\n",
    "mat22_1_11 = bid(time1,time2,Bid1,Ask1,close_price,timestamp_time_second,Bid1_Quantity,Bid2_Quantity,Bid3_Quantity,Ask1_Quantity,Ask2_Quantity,Ask3_Quantity,weight1,weight2,weight3)\n",
    "mat22_2_11 = bid(time1,time2,Bid2,Ask1,close_price,timestamp_time_second,Bid1_Quantity,Bid2_Quantity,Bid3_Quantity,Ask1_Quantity,Ask2_Quantity,Ask3_Quantity,weight1,weight2,weight3)\n",
    "mat22_3_11 = bid(time1,time2,Bid3,Ask1,close_price,timestamp_time_second,Bid1_Quantity,Bid2_Quantity,Bid3_Quantity,Ask1_Quantity,Ask2_Quantity,Ask3_Quantity,weight1,weight2,weight3)"
   ]
  },
  {
   "cell_type": "code",
   "execution_count": 71,
   "metadata": {
    "collapsed": true
   },
   "outputs": [],
   "source": [
    "time1 = 7200\n",
    "time2 = 14400\n",
    "mat22_1_13 = bid(time1,time2,Bid1,Ask1,close_price,timestamp_time_second,Bid1_Quantity,Bid2_Quantity,Bid3_Quantity,Ask1_Quantity,Ask2_Quantity,Ask3_Quantity,weight1,weight2,weight3)\n",
    "mat22_2_13 = bid(time1,time2,Bid2,Ask1,close_price,timestamp_time_second,Bid1_Quantity,Bid2_Quantity,Bid3_Quantity,Ask1_Quantity,Ask2_Quantity,Ask3_Quantity,weight1,weight2,weight3)\n",
    "mat22_3_13 = bid(time1,time2,Bid3,Ask1,close_price,timestamp_time_second,Bid1_Quantity,Bid2_Quantity,Bid3_Quantity,Ask1_Quantity,Ask2_Quantity,Ask3_Quantity,weight1,weight2,weight3)"
   ]
  },
  {
   "cell_type": "code",
   "execution_count": 72,
   "metadata": {
    "collapsed": true
   },
   "outputs": [],
   "source": [
    "time1 = 14400\n",
    "time2 = 25200\n",
    "mat22_1_16 = bid(time1,time2,Bid1,Ask1,close_price,timestamp_time_second,Bid1_Quantity,Bid2_Quantity,Bid3_Quantity,Ask1_Quantity,Ask2_Quantity,Ask3_Quantity,weight1,weight2,weight3)\n",
    "mat22_2_16 = bid(time1,time2,Bid2,Ask1,close_price,timestamp_time_second,Bid1_Quantity,Bid2_Quantity,Bid3_Quantity,Ask1_Quantity,Ask2_Quantity,Ask3_Quantity,weight1,weight2,weight3)\n",
    "mat22_3_16 = bid(time1,time2,Bid3,Ask1,close_price,timestamp_time_second,Bid1_Quantity,Bid2_Quantity,Bid3_Quantity,Ask1_Quantity,Ask2_Quantity,Ask3_Quantity,weight1,weight2,weight3)"
   ]
  },
  {
   "cell_type": "code",
   "execution_count": null,
   "metadata": {
    "collapsed": true
   },
   "outputs": [],
   "source": []
  },
  {
   "cell_type": "code",
   "execution_count": null,
   "metadata": {
    "collapsed": true
   },
   "outputs": [],
   "source": []
  },
  {
   "cell_type": "code",
   "execution_count": null,
   "metadata": {
    "collapsed": true
   },
   "outputs": [],
   "source": []
  },
  {
   "cell_type": "markdown",
   "metadata": {},
   "source": [
    "### Day 2/27"
   ]
  },
  {
   "cell_type": "code",
   "execution_count": 73,
   "metadata": {
    "collapsed": true
   },
   "outputs": [],
   "source": [
    "data_book = order_book(2,27)\n",
    "data_book_open = data_book[444:212171+1] # 9:00 ~ 16:00\n",
    "data_book_open = data_book_open.reset_index(drop = True)\n",
    "timestamp_time = day_time(2,27)\n",
    "timestamp_time_second = time_transform(timestamp_time)"
   ]
  },
  {
   "cell_type": "code",
   "execution_count": 74,
   "metadata": {
    "collapsed": false,
    "scrolled": true
   },
   "outputs": [],
   "source": [
    "#data_book_open"
   ]
  },
  {
   "cell_type": "code",
   "execution_count": 75,
   "metadata": {
    "collapsed": false
   },
   "outputs": [
    {
     "name": "stdout",
     "output_type": "stream",
     "text": [
      "Total time = 76.603320\n"
     ]
    }
   ],
   "source": [
    "import time \n",
    "start = time.time()\n",
    "Bid1,Bid1_Quantity,Bid2,Bid2_Quantity,Bid3,Bid3_Quantity,Ask1,Ask1_Quantity,Ask2,Ask2_Quantity,Ask3,Ask3_Quantity = bid123_ask123_Q(data_book_open)\n",
    "end = time.time()  \n",
    "print \"Total time = %f\"%(end - start)"
   ]
  },
  {
   "cell_type": "code",
   "execution_count": 76,
   "metadata": {
    "collapsed": false
   },
   "outputs": [
    {
     "name": "stdout",
     "output_type": "stream",
     "text": [
      "Total time = 119.709573\n"
     ]
    }
   ],
   "source": [
    "import time \n",
    "start = time.time()\n",
    "rise_ratio_ask = rise_ask(Ask1,timestamp_time_second)\n",
    "end = time.time()  \n",
    "print \"Total time = %f\"%(end - start) "
   ]
  },
  {
   "cell_type": "code",
   "execution_count": 77,
   "metadata": {
    "collapsed": true
   },
   "outputs": [],
   "source": [
    "close_price = 6535\n",
    "weight1 = 0.50\n",
    "weight2 = 0.30\n",
    "weight3 = 0.20"
   ]
  },
  {
   "cell_type": "code",
   "execution_count": 78,
   "metadata": {
    "collapsed": true
   },
   "outputs": [],
   "source": [
    "time1 = 0\n",
    "time2 = 600\n",
    "mat21_1_15 = bid(time1,time2,Bid1,Ask1,close_price,timestamp_time_second,Bid1_Quantity,Bid2_Quantity,Bid3_Quantity,Ask1_Quantity,Ask2_Quantity,Ask3_Quantity,weight1,weight2,weight3)\n",
    "mat21_2_15 = bid(time1,time2,Bid2,Ask1,close_price,timestamp_time_second,Bid1_Quantity,Bid2_Quantity,Bid3_Quantity,Ask1_Quantity,Ask2_Quantity,Ask3_Quantity,weight1,weight2,weight3)\n",
    "mat21_3_15 = bid(time1,time2,Bid3,Ask1,close_price,timestamp_time_second,Bid1_Quantity,Bid2_Quantity,Bid3_Quantity,Ask1_Quantity,Ask2_Quantity,Ask3_Quantity,weight1,weight2,weight3)"
   ]
  },
  {
   "cell_type": "code",
   "execution_count": 79,
   "metadata": {
    "collapsed": true
   },
   "outputs": [],
   "source": [
    "time1 = 600\n",
    "time2 = 7200\n",
    "mat21_1_11 = bid(time1,time2,Bid1,Ask1,close_price,timestamp_time_second,Bid1_Quantity,Bid2_Quantity,Bid3_Quantity,Ask1_Quantity,Ask2_Quantity,Ask3_Quantity,weight1,weight2,weight3)\n",
    "mat21_2_11 = bid(time1,time2,Bid2,Ask1,close_price,timestamp_time_second,Bid1_Quantity,Bid2_Quantity,Bid3_Quantity,Ask1_Quantity,Ask2_Quantity,Ask3_Quantity,weight1,weight2,weight3)\n",
    "mat21_3_11 = bid(time1,time2,Bid3,Ask1,close_price,timestamp_time_second,Bid1_Quantity,Bid2_Quantity,Bid3_Quantity,Ask1_Quantity,Ask2_Quantity,Ask3_Quantity,weight1,weight2,weight3)"
   ]
  },
  {
   "cell_type": "code",
   "execution_count": 80,
   "metadata": {
    "collapsed": true
   },
   "outputs": [],
   "source": [
    "time1 = 7200\n",
    "time2 = 14400\n",
    "mat21_1_13 = bid(time1,time2,Bid1,Ask1,close_price,timestamp_time_second,Bid1_Quantity,Bid2_Quantity,Bid3_Quantity,Ask1_Quantity,Ask2_Quantity,Ask3_Quantity,weight1,weight2,weight3)\n",
    "mat21_2_13 = bid(time1,time2,Bid2,Ask1,close_price,timestamp_time_second,Bid1_Quantity,Bid2_Quantity,Bid3_Quantity,Ask1_Quantity,Ask2_Quantity,Ask3_Quantity,weight1,weight2,weight3)\n",
    "mat21_3_13 = bid(time1,time2,Bid3,Ask1,close_price,timestamp_time_second,Bid1_Quantity,Bid2_Quantity,Bid3_Quantity,Ask1_Quantity,Ask2_Quantity,Ask3_Quantity,weight1,weight2,weight3)"
   ]
  },
  {
   "cell_type": "code",
   "execution_count": 81,
   "metadata": {
    "collapsed": true
   },
   "outputs": [],
   "source": [
    "time1 = 14400\n",
    "time2 = 25200\n",
    "mat21_1_16 = bid(time1,time2,Bid1,Ask1,close_price,timestamp_time_second,Bid1_Quantity,Bid2_Quantity,Bid3_Quantity,Ask1_Quantity,Ask2_Quantity,Ask3_Quantity,weight1,weight2,weight3)\n",
    "mat21_2_16 = bid(time1,time2,Bid2,Ask1,close_price,timestamp_time_second,Bid1_Quantity,Bid2_Quantity,Bid3_Quantity,Ask1_Quantity,Ask2_Quantity,Ask3_Quantity,weight1,weight2,weight3)\n",
    "mat21_3_16 = bid(time1,time2,Bid3,Ask1,close_price,timestamp_time_second,Bid1_Quantity,Bid2_Quantity,Bid3_Quantity,Ask1_Quantity,Ask2_Quantity,Ask3_Quantity,weight1,weight2,weight3)"
   ]
  },
  {
   "cell_type": "code",
   "execution_count": null,
   "metadata": {
    "collapsed": true
   },
   "outputs": [],
   "source": []
  },
  {
   "cell_type": "code",
   "execution_count": null,
   "metadata": {
    "collapsed": true
   },
   "outputs": [],
   "source": []
  },
  {
   "cell_type": "code",
   "execution_count": null,
   "metadata": {
    "collapsed": true
   },
   "outputs": [],
   "source": []
  },
  {
   "cell_type": "markdown",
   "metadata": {},
   "source": [
    "### Day 2/17"
   ]
  },
  {
   "cell_type": "code",
   "execution_count": 82,
   "metadata": {
    "collapsed": true
   },
   "outputs": [],
   "source": [
    "data_book = order_book(2,17)\n",
    "data_book_open = data_book[668:299679+1] # 9:00 ~ 16:00\n",
    "data_book_open = data_book_open.reset_index(drop = True)\n",
    "timestamp_time = day_time(2,17)\n",
    "timestamp_time_second = time_transform(timestamp_time)"
   ]
  },
  {
   "cell_type": "code",
   "execution_count": 59,
   "metadata": {
    "collapsed": false,
    "scrolled": true
   },
   "outputs": [],
   "source": [
    "#data_book_open"
   ]
  },
  {
   "cell_type": "code",
   "execution_count": 83,
   "metadata": {
    "collapsed": false
   },
   "outputs": [
    {
     "name": "stdout",
     "output_type": "stream",
     "text": [
      "Total time = 102.406580\n"
     ]
    }
   ],
   "source": [
    "import time \n",
    "start = time.time()\n",
    "Bid1,Bid1_Quantity,Bid2,Bid2_Quantity,Bid3,Bid3_Quantity,Ask1,Ask1_Quantity,Ask2,Ask2_Quantity,Ask3,Ask3_Quantity = bid123_ask123_Q(data_book_open)\n",
    "end = time.time()  \n",
    "print \"Total time = %f\"%(end - start)"
   ]
  },
  {
   "cell_type": "code",
   "execution_count": 84,
   "metadata": {
    "collapsed": false
   },
   "outputs": [
    {
     "name": "stdout",
     "output_type": "stream",
     "text": [
      "Total time = 261.770393\n"
     ]
    }
   ],
   "source": [
    "import time \n",
    "start = time.time()\n",
    "rise_ratio_ask = rise_ask(Ask1,timestamp_time_second)\n",
    "end = time.time()  \n",
    "print \"Total time = %f\"%(end - start) "
   ]
  },
  {
   "cell_type": "code",
   "execution_count": 85,
   "metadata": {
    "collapsed": true
   },
   "outputs": [],
   "source": [
    "close_price = 6936\n",
    "weight1 = 0.50\n",
    "weight2 = 0.30\n",
    "weight3 = 0.20"
   ]
  },
  {
   "cell_type": "code",
   "execution_count": 86,
   "metadata": {
    "collapsed": true
   },
   "outputs": [],
   "source": [
    "time1 = 0\n",
    "time2 = 600\n",
    "mat20_1_15 = bid(time1,time2,Bid1,Ask1,close_price,timestamp_time_second,Bid1_Quantity,Bid2_Quantity,Bid3_Quantity,Ask1_Quantity,Ask2_Quantity,Ask3_Quantity,weight1,weight2,weight3)\n",
    "mat20_2_15 = bid(time1,time2,Bid2,Ask1,close_price,timestamp_time_second,Bid1_Quantity,Bid2_Quantity,Bid3_Quantity,Ask1_Quantity,Ask2_Quantity,Ask3_Quantity,weight1,weight2,weight3)\n",
    "mat20_3_15 = bid(time1,time2,Bid3,Ask1,close_price,timestamp_time_second,Bid1_Quantity,Bid2_Quantity,Bid3_Quantity,Ask1_Quantity,Ask2_Quantity,Ask3_Quantity,weight1,weight2,weight3)"
   ]
  },
  {
   "cell_type": "code",
   "execution_count": 87,
   "metadata": {
    "collapsed": true
   },
   "outputs": [],
   "source": [
    "time1 = 600\n",
    "time2 = 7200\n",
    "mat20_1_11 = bid(time1,time2,Bid1,Ask1,close_price,timestamp_time_second,Bid1_Quantity,Bid2_Quantity,Bid3_Quantity,Ask1_Quantity,Ask2_Quantity,Ask3_Quantity,weight1,weight2,weight3)\n",
    "mat20_2_11 = bid(time1,time2,Bid2,Ask1,close_price,timestamp_time_second,Bid1_Quantity,Bid2_Quantity,Bid3_Quantity,Ask1_Quantity,Ask2_Quantity,Ask3_Quantity,weight1,weight2,weight3)\n",
    "mat20_3_11 = bid(time1,time2,Bid3,Ask1,close_price,timestamp_time_second,Bid1_Quantity,Bid2_Quantity,Bid3_Quantity,Ask1_Quantity,Ask2_Quantity,Ask3_Quantity,weight1,weight2,weight3)"
   ]
  },
  {
   "cell_type": "code",
   "execution_count": 88,
   "metadata": {
    "collapsed": true
   },
   "outputs": [],
   "source": [
    "time1 = 7200\n",
    "time2 = 14400\n",
    "mat20_1_13 = bid(time1,time2,Bid1,Ask1,close_price,timestamp_time_second,Bid1_Quantity,Bid2_Quantity,Bid3_Quantity,Ask1_Quantity,Ask2_Quantity,Ask3_Quantity,weight1,weight2,weight3)\n",
    "mat20_2_13 = bid(time1,time2,Bid2,Ask1,close_price,timestamp_time_second,Bid1_Quantity,Bid2_Quantity,Bid3_Quantity,Ask1_Quantity,Ask2_Quantity,Ask3_Quantity,weight1,weight2,weight3)\n",
    "mat20_3_13 = bid(time1,time2,Bid3,Ask1,close_price,timestamp_time_second,Bid1_Quantity,Bid2_Quantity,Bid3_Quantity,Ask1_Quantity,Ask2_Quantity,Ask3_Quantity,weight1,weight2,weight3)"
   ]
  },
  {
   "cell_type": "code",
   "execution_count": 89,
   "metadata": {
    "collapsed": true
   },
   "outputs": [],
   "source": [
    "time1 = 14400\n",
    "time2 = 25200\n",
    "mat20_1_16 = bid(time1,time2,Bid1,Ask1,close_price,timestamp_time_second,Bid1_Quantity,Bid2_Quantity,Bid3_Quantity,Ask1_Quantity,Ask2_Quantity,Ask3_Quantity,weight1,weight2,weight3)\n",
    "mat20_2_16 = bid(time1,time2,Bid2,Ask1,close_price,timestamp_time_second,Bid1_Quantity,Bid2_Quantity,Bid3_Quantity,Ask1_Quantity,Ask2_Quantity,Ask3_Quantity,weight1,weight2,weight3)\n",
    "mat20_3_16 = bid(time1,time2,Bid3,Ask1,close_price,timestamp_time_second,Bid1_Quantity,Bid2_Quantity,Bid3_Quantity,Ask1_Quantity,Ask2_Quantity,Ask3_Quantity,weight1,weight2,weight3)"
   ]
  },
  {
   "cell_type": "code",
   "execution_count": 90,
   "metadata": {
    "collapsed": false,
    "scrolled": true
   },
   "outputs": [
    {
     "data": {
      "text/plain": [
       "[[0, 35, 1420, 91, 0],\n",
       " [0, 0, 218, 0, 0],\n",
       " [0, -23.0, 666.7999999999913, 68.0, 0],\n",
       " [0, 163.0, 5199.0, 336.0, 0],\n",
       " [0, 31500.0, 1129939.0, 81900.0, 0],\n",
       " [0, 89, 2425, 103, 0],\n",
       " [0, 0, 253, 0, 0],\n",
       " [0, 9.0, 533.1999999999869, 83.0, 0],\n",
       " [0, 400.0, 9165.0, 387.0, 0],\n",
       " [0, 80100.0, 2073592.0, 92700.0, 0],\n",
       " [0, 92, 3273, 42, 0],\n",
       " [0, 0, 91, 0, 0],\n",
       " [0, 1.0, 308.4000000000007, 46.0, 0],\n",
       " [0, 394.0, 12289.0, 159.0, 0],\n",
       " [0, 82800.0, 2909407.0, 37800.0, 0],\n",
       " [0, 46, 1346, 26, 0],\n",
       " [0, 0, 63, 0, 0],\n",
       " [0, -1.0, 17.799999999999937, 27.0, 0],\n",
       " [0, 195.0, 5232.0, 100.0, 0],\n",
       " [0, 41400.0, 1164367.0, 23400.0, 0],\n",
       " [0, 82, 1729, 1, 0],\n",
       " [0, 0, 38, 0, 0],\n",
       " [0, -26.0, -957.200000000005, 2.0, 0],\n",
       " [0, 377.0, 7022.0, 3.0, 0],\n",
       " [0, 73800.0, 1327852.0, 900.0, 0]]"
      ]
     },
     "execution_count": 90,
     "metadata": {},
     "output_type": "execute_result"
    }
   ],
   "source": [
    "mat20_3_16"
   ]
  },
  {
   "cell_type": "code",
   "execution_count": null,
   "metadata": {
    "collapsed": true
   },
   "outputs": [],
   "source": []
  },
  {
   "cell_type": "code",
   "execution_count": null,
   "metadata": {
    "collapsed": true
   },
   "outputs": [],
   "source": []
  },
  {
   "cell_type": "code",
   "execution_count": null,
   "metadata": {
    "collapsed": true
   },
   "outputs": [],
   "source": []
  },
  {
   "cell_type": "code",
   "execution_count": null,
   "metadata": {
    "collapsed": true
   },
   "outputs": [],
   "source": []
  },
  {
   "cell_type": "code",
   "execution_count": null,
   "metadata": {
    "collapsed": true
   },
   "outputs": [],
   "source": []
  },
  {
   "cell_type": "code",
   "execution_count": 91,
   "metadata": {
    "collapsed": true
   },
   "outputs": [],
   "source": [
    "SUM_Bid1_15 = \\\n",
    "array(mat20_1_15)+array(mat21_1_15)+array(mat22_1_15)+\\\n",
    "array(mat24_1_15)+array(mat27_1_15)+array(mat28_1_15)+array(mat29_1_15)\n",
    "SUM_Bid2_15 = \\\n",
    "array(mat20_2_15)+array(mat21_2_15)+array(mat22_2_15)+\\\n",
    "array(mat24_2_15)+array(mat27_2_15)+array(mat28_2_15)+array(mat29_2_15)\n",
    "SUM_Bid3_15 = \\\n",
    "array(mat20_3_15)+array(mat21_3_15)+array(mat22_3_15)+\\\n",
    "array(mat24_3_15)+array(mat27_3_15)+array(mat28_3_15)+array(mat29_3_15)"
   ]
  },
  {
   "cell_type": "code",
   "execution_count": 92,
   "metadata": {
    "collapsed": false
   },
   "outputs": [],
   "source": [
    "SUM_Bid1_11 = \\\n",
    "array(mat20_1_11)+array(mat21_1_11)+array(mat22_1_11)+\\\n",
    "array(mat24_1_11)+array(mat27_1_11)+array(mat28_1_11)+array(mat29_1_11)\n",
    "SUM_Bid2_11 = \\\n",
    "array(mat20_2_11)+array(mat21_2_11)+array(mat22_2_11)+\\\n",
    "array(mat24_2_11)+array(mat27_2_11)+array(mat28_2_11)+array(mat29_2_11)\n",
    "SUM_Bid3_11 = \\\n",
    "array(mat20_3_11)+array(mat21_3_11)+array(mat22_3_11)+\\\n",
    "array(mat24_3_11)+array(mat27_3_11)+array(mat28_3_11)+array(mat29_3_11)"
   ]
  },
  {
   "cell_type": "code",
   "execution_count": 93,
   "metadata": {
    "collapsed": true
   },
   "outputs": [],
   "source": [
    "SUM_Bid1_13 = \\\n",
    "array(mat20_1_13)+array(mat21_1_13)+array(mat22_1_13)+\\\n",
    "array(mat24_1_13)+array(mat27_1_13)+array(mat28_1_13)+array(mat29_1_13)\n",
    "SUM_Bid2_13 = \\\n",
    "array(mat20_2_13)+array(mat21_2_13)+array(mat22_2_13)+\\\n",
    "array(mat24_2_13)+array(mat27_2_13)+array(mat28_2_13)+array(mat29_2_13)\n",
    "SUM_Bid3_13 = \\\n",
    "array(mat20_3_13)+array(mat21_3_13)+array(mat22_3_13)+\\\n",
    "array(mat24_3_13)+array(mat27_3_13)+array(mat28_3_13)+array(mat29_3_13)"
   ]
  },
  {
   "cell_type": "code",
   "execution_count": 94,
   "metadata": {
    "collapsed": true
   },
   "outputs": [],
   "source": [
    "SUM_Bid1_16 = \\\n",
    "array(mat20_1_16)+array(mat21_1_16)+array(mat22_1_16)+\\\n",
    "array(mat24_1_16)+array(mat27_1_16)+array(mat28_1_16)+array(mat29_1_16)\n",
    "SUM_Bid2_16 = \\\n",
    "array(mat20_2_16)+array(mat21_2_16)+array(mat22_2_16)+\\\n",
    "array(mat24_2_16)+array(mat27_2_16)+array(mat28_2_16)+array(mat29_2_16)\n",
    "SUM_Bid3_16 = \\\n",
    "array(mat20_3_16)+array(mat21_3_16)+array(mat22_3_16)+\\\n",
    "array(mat24_3_16)+array(mat27_3_16)+array(mat28_3_16)+array(mat29_3_16)"
   ]
  },
  {
   "cell_type": "code",
   "execution_count": 95,
   "metadata": {
    "collapsed": false,
    "scrolled": true
   },
   "outputs": [
    {
     "data": {
      "text/plain": [
       "array([[  0.00000000e+00,   4.87000000e+02,   1.33300000e+03,\n",
       "          1.98000000e+02,   0.00000000e+00],\n",
       "       [  0.00000000e+00,   3.62000000e+02,   3.09000000e+02,\n",
       "          1.98000000e+02,   0.00000000e+00],\n",
       "       [  0.00000000e+00,  -9.49000000e+02,  -3.17300000e+03,\n",
       "          1.98000000e+02,   0.00000000e+00],\n",
       "       [  0.00000000e+00,   2.19100000e+03,   7.86100000e+03,\n",
       "          4.50000000e+02,   0.00000000e+00],\n",
       "       [  0.00000000e+00,   3.01083000e+05,   1.00542300e+06,\n",
       "          1.09483000e+05,   0.00000000e+00],\n",
       "       [  0.00000000e+00,   1.60000000e+01,   3.85000000e+02,\n",
       "          1.20000000e+02,   0.00000000e+00],\n",
       "       [  0.00000000e+00,   1.60000000e+01,   1.89000000e+02,\n",
       "          1.20000000e+02,   0.00000000e+00],\n",
       "       [  0.00000000e+00,   1.60000000e+01,   7.00000000e+00,\n",
       "          1.20000000e+02,   0.00000000e+00],\n",
       "       [  0.00000000e+00,   2.50000000e+01,   1.59300000e+03,\n",
       "          3.48000000e+02,   0.00000000e+00],\n",
       "       [  0.00000000e+00,   1.02650000e+04,   2.90360000e+05,\n",
       "          6.92170000e+04,   0.00000000e+00],\n",
       "       [  0.00000000e+00,   3.00000000e+00,   7.33000000e+02,\n",
       "          6.20000000e+01,   0.00000000e+00],\n",
       "       [  0.00000000e+00,   3.00000000e+00,   2.35000000e+02,\n",
       "          6.20000000e+01,   0.00000000e+00],\n",
       "       [  0.00000000e+00,   3.00000000e+00,  -1.75100000e+03,\n",
       "          6.30000000e+01,   0.00000000e+00],\n",
       "       [  0.00000000e+00,   3.00000000e+00,   4.06600000e+03,\n",
       "          1.87000000e+02,   0.00000000e+00],\n",
       "       [  0.00000000e+00,   1.56000000e+03,   5.69525000e+05,\n",
       "          3.64500000e+04,   0.00000000e+00],\n",
       "       [  0.00000000e+00,   7.80000000e+01,   3.52000000e+02,\n",
       "          1.80000000e+01,   0.00000000e+00],\n",
       "       [  0.00000000e+00,   7.60000000e+01,   1.49000000e+02,\n",
       "          1.80000000e+01,   0.00000000e+00],\n",
       "       [  0.00000000e+00,   7.00000000e+01,  -2.66000000e+02,\n",
       "          2.00000000e+01,   0.00000000e+00],\n",
       "       [  0.00000000e+00,   1.01000000e+02,   1.34800000e+03,\n",
       "          5.60000000e+01,   0.00000000e+00],\n",
       "       [  0.00000000e+00,   4.71610000e+04,   2.46793000e+05,\n",
       "          1.09210000e+04,   0.00000000e+00],\n",
       "       [  0.00000000e+00,   4.10000000e+01,   1.87000000e+02,\n",
       "          1.87000000e+02,   0.00000000e+00],\n",
       "       [  0.00000000e+00,   1.10000000e+01,   3.40000000e+01,\n",
       "          1.87000000e+02,   0.00000000e+00],\n",
       "       [  0.00000000e+00,  -1.72000000e+02,  -9.24000000e+02,\n",
       "          2.07000000e+02,   0.00000000e+00],\n",
       "       [  0.00000000e+00,   2.55000000e+02,   1.52600000e+03,\n",
       "          5.81000000e+02,   0.00000000e+00],\n",
       "       [  0.00000000e+00,   3.53960000e+04,   1.63337000e+05,\n",
       "          8.79260000e+04,   0.00000000e+00]])"
      ]
     },
     "execution_count": 95,
     "metadata": {},
     "output_type": "execute_result"
    }
   ],
   "source": [
    "SUM_Bid1_15"
   ]
  },
  {
   "cell_type": "code",
   "execution_count": 96,
   "metadata": {
    "collapsed": false,
    "scrolled": true
   },
   "outputs": [
    {
     "data": {
      "text/plain": [
       "array([[  0.00000000e+00,   4.87000000e+02,   1.33300000e+03,\n",
       "          1.98000000e+02,   0.00000000e+00],\n",
       "       [  0.00000000e+00,   3.62000000e+02,   2.34000000e+02,\n",
       "          1.98000000e+02,   0.00000000e+00],\n",
       "       [  0.00000000e+00,  -5.87000000e+02,  -2.94900000e+03,\n",
       "          4.05000000e+02,   0.00000000e+00],\n",
       "       [  0.00000000e+00,   2.67800000e+03,   9.22600000e+03,\n",
       "          6.57000000e+02,   0.00000000e+00],\n",
       "       [  0.00000000e+00,   3.03814000e+05,   1.12332100e+06,\n",
       "          1.09483000e+05,   0.00000000e+00],\n",
       "       [  0.00000000e+00,   1.60000000e+01,   3.85000000e+02,\n",
       "          1.20000000e+02,   0.00000000e+00],\n",
       "       [  0.00000000e+00,   1.60000000e+01,   1.46000000e+02,\n",
       "          1.20000000e+02,   0.00000000e+00],\n",
       "       [  0.00000000e+00,   3.20000000e+01,   1.13000000e+02,\n",
       "          2.40000000e+02,   0.00000000e+00],\n",
       "       [  0.00000000e+00,   4.10000000e+01,   2.01800000e+03,\n",
       "          4.68000000e+02,   0.00000000e+00],\n",
       "       [  0.00000000e+00,   1.03930000e+04,   3.32386000e+05,\n",
       "          6.92170000e+04,   0.00000000e+00],\n",
       "       [  0.00000000e+00,   3.00000000e+00,   7.33000000e+02,\n",
       "          6.20000000e+01,   0.00000000e+00],\n",
       "       [  0.00000000e+00,   3.00000000e+00,   2.05000000e+02,\n",
       "          6.20000000e+01,   0.00000000e+00],\n",
       "       [  0.00000000e+00,   6.00000000e+00,  -1.55200000e+03,\n",
       "          1.25000000e+02,   0.00000000e+00],\n",
       "       [  0.00000000e+00,   6.00000000e+00,   4.80300000e+03,\n",
       "          2.49000000e+02,   0.00000000e+00],\n",
       "       [  0.00000000e+00,   1.58400000e+03,   5.93743000e+05,\n",
       "          3.64500000e+04,   0.00000000e+00],\n",
       "       [  0.00000000e+00,   7.80000000e+01,   3.52000000e+02,\n",
       "          1.80000000e+01,   0.00000000e+00],\n",
       "       [  0.00000000e+00,   7.60000000e+01,   1.18000000e+02,\n",
       "          1.80000000e+01,   0.00000000e+00],\n",
       "       [  0.00000000e+00,   1.46000000e+02,  -1.63000000e+02,\n",
       "          3.80000000e+01,   0.00000000e+00],\n",
       "       [  0.00000000e+00,   1.79000000e+02,   1.70000000e+03,\n",
       "          7.40000000e+01,   0.00000000e+00],\n",
       "       [  0.00000000e+00,   4.77690000e+04,   2.70868000e+05,\n",
       "          1.09210000e+04,   0.00000000e+00],\n",
       "       [  0.00000000e+00,   4.10000000e+01,   1.87000000e+02,\n",
       "          1.87000000e+02,   0.00000000e+00],\n",
       "       [  0.00000000e+00,   1.10000000e+01,   2.50000000e+01,\n",
       "          1.87000000e+02,   0.00000000e+00],\n",
       "       [  0.00000000e+00,  -1.61000000e+02,  -9.02000000e+02,\n",
       "          3.94000000e+02,   0.00000000e+00],\n",
       "       [  0.00000000e+00,   2.96000000e+02,   1.72000000e+03,\n",
       "          7.68000000e+02,   0.00000000e+00],\n",
       "       [  0.00000000e+00,   3.54440000e+04,   1.64720000e+05,\n",
       "          8.79260000e+04,   0.00000000e+00]])"
      ]
     },
     "execution_count": 96,
     "metadata": {},
     "output_type": "execute_result"
    }
   ],
   "source": [
    "SUM_Bid2_15"
   ]
  },
  {
   "cell_type": "code",
   "execution_count": 97,
   "metadata": {
    "collapsed": false,
    "scrolled": true
   },
   "outputs": [
    {
     "data": {
      "text/plain": [
       "array([[  0.00000000e+00,   4.87000000e+02,   1.33300000e+03,\n",
       "          1.98000000e+02,   0.00000000e+00],\n",
       "       [  0.00000000e+00,   3.62000000e+02,   2.19000000e+02,\n",
       "          1.98000000e+02,   0.00000000e+00],\n",
       "       [  0.00000000e+00,  -2.25000000e+02,  -2.72200000e+03,\n",
       "          6.03000000e+02,   0.00000000e+00],\n",
       "       [  0.00000000e+00,   3.16500000e+03,   1.05590000e+04,\n",
       "          8.55000000e+02,   0.00000000e+00],\n",
       "       [  0.00000000e+00,   3.04801000e+05,   1.14758200e+06,\n",
       "          1.09618000e+05,   0.00000000e+00],\n",
       "       [  0.00000000e+00,   1.60000000e+01,   3.85000000e+02,\n",
       "          1.20000000e+02,   0.00000000e+00],\n",
       "       [  0.00000000e+00,   1.60000000e+01,   1.46000000e+02,\n",
       "          1.20000000e+02,   0.00000000e+00],\n",
       "       [  0.00000000e+00,   4.80000000e+01,   2.59000000e+02,\n",
       "          3.60000000e+02,   0.00000000e+00],\n",
       "       [  0.00000000e+00,   5.70000000e+01,   2.40300000e+03,\n",
       "          5.88000000e+02,   0.00000000e+00],\n",
       "       [  0.00000000e+00,   1.04410000e+04,   3.33965000e+05,\n",
       "          6.92170000e+04,   0.00000000e+00],\n",
       "       [  0.00000000e+00,   3.00000000e+00,   7.33000000e+02,\n",
       "          6.20000000e+01,   0.00000000e+00],\n",
       "       [  0.00000000e+00,   3.00000000e+00,   2.05000000e+02,\n",
       "          6.20000000e+01,   0.00000000e+00],\n",
       "       [  0.00000000e+00,   9.00000000e+00,  -1.34700000e+03,\n",
       "          1.87000000e+02,   0.00000000e+00],\n",
       "       [  0.00000000e+00,   9.00000000e+00,   5.53600000e+03,\n",
       "          3.11000000e+02,   0.00000000e+00],\n",
       "       [  0.00000000e+00,   1.59300000e+03,   5.95998000e+05,\n",
       "          3.64650000e+04,   0.00000000e+00],\n",
       "       [  0.00000000e+00,   7.80000000e+01,   3.52000000e+02,\n",
       "          1.80000000e+01,   0.00000000e+00],\n",
       "       [  0.00000000e+00,   7.60000000e+01,   1.18000000e+02,\n",
       "          1.80000000e+01,   0.00000000e+00],\n",
       "       [  0.00000000e+00,   2.22000000e+02,  -4.50000000e+01,\n",
       "          5.60000000e+01,   0.00000000e+00],\n",
       "       [  0.00000000e+00,   2.57000000e+02,   2.05200000e+03,\n",
       "          9.20000000e+01,   0.00000000e+00],\n",
       "       [  0.00000000e+00,   4.79970000e+04,   2.72166000e+05,\n",
       "          1.09510000e+04,   0.00000000e+00],\n",
       "       [  0.00000000e+00,   4.10000000e+01,   1.87000000e+02,\n",
       "          1.87000000e+02,   0.00000000e+00],\n",
       "       [  0.00000000e+00,   1.10000000e+01,   1.80000000e+01,\n",
       "          1.87000000e+02,   0.00000000e+00],\n",
       "       [  0.00000000e+00,  -1.50000000e+02,  -8.92000000e+02,\n",
       "          5.81000000e+02,   0.00000000e+00],\n",
       "       [  0.00000000e+00,   3.37000000e+02,   1.90700000e+03,\n",
       "          9.55000000e+02,   0.00000000e+00],\n",
       "       [  0.00000000e+00,   3.54530000e+04,   1.65313000e+05,\n",
       "          8.82260000e+04,   0.00000000e+00]])"
      ]
     },
     "execution_count": 97,
     "metadata": {},
     "output_type": "execute_result"
    }
   ],
   "source": [
    "SUM_Bid3_15"
   ]
  },
  {
   "cell_type": "code",
   "execution_count": 98,
   "metadata": {
    "collapsed": false,
    "scrolled": true
   },
   "outputs": [
    {
     "data": {
      "text/plain": [
       "array([[  3.91000000e+02,   1.27600000e+03,   4.21000000e+03,\n",
       "          7.67000000e+02,   4.30000000e+02],\n",
       "       [  3.59000000e+02,   1.06800000e+03,   3.24200000e+03,\n",
       "          6.91000000e+02,   4.02000000e+02],\n",
       "       [  2.65000000e+02,   6.80000000e+02,   2.03400000e+03,\n",
       "          4.13000000e+02,   4.14000000e+02],\n",
       "       [  8.09000000e+02,   2.62800000e+03,   9.22300000e+03,\n",
       "          1.45400000e+03,   1.13400000e+03],\n",
       "       [  1.08169000e+05,   4.00851000e+05,   1.55153400e+06,\n",
       "          1.87000000e+05,   1.40225000e+05],\n",
       "       [  5.42000000e+02,   2.01100000e+03,   5.00500000e+03,\n",
       "          1.04700000e+03,   4.27000000e+02],\n",
       "       [  4.46000000e+02,   1.50700000e+03,   3.57700000e+03,\n",
       "          8.80000000e+02,   4.07000000e+02],\n",
       "       [  2.26000000e+02,   4.13000000e+02,   1.35500000e+03,\n",
       "          6.95000000e+02,   4.53000000e+02],\n",
       "       [  1.44600000e+03,   5.15500000e+03,   1.28910000e+04,\n",
       "          2.59400000e+03,   1.07900000e+03],\n",
       "       [  1.69801000e+05,   8.16769000e+05,   2.18329500e+06,\n",
       "          3.83228000e+05,   1.37278000e+05],\n",
       "       [  5.50000000e+02,   2.71200000e+03,   5.64400000e+03,\n",
       "          1.10000000e+03,   3.68000000e+02],\n",
       "       [  4.44000000e+02,   1.88400000e+03,   3.62900000e+03,\n",
       "          8.51000000e+02,   2.84000000e+02],\n",
       "       [  2.74000000e+02,   9.40000000e+02,   5.95000000e+02,\n",
       "          6.65000000e+02,   1.90000000e+02],\n",
       "       [  1.50900000e+03,   7.08400000e+03,   1.67430000e+04,\n",
       "          2.80300000e+03,   1.14200000e+03],\n",
       "       [  2.52505000e+05,   1.24308000e+06,   2.84651800e+06,\n",
       "          4.02508000e+05,   9.34370000e+04],\n",
       "       [  3.97000000e+02,   1.96200000e+03,   4.13200000e+03,\n",
       "          7.34000000e+02,   2.47000000e+02],\n",
       "       [  3.51000000e+02,   1.23300000e+03,   2.52900000e+03,\n",
       "          5.55000000e+02,   1.87000000e+02],\n",
       "       [  2.20000000e+02,   1.91000000e+02,   5.05000000e+02,\n",
       "          3.10000000e+02,   1.37000000e+02],\n",
       "       [  1.00900000e+03,   5.68500000e+03,   1.21140000e+04,\n",
       "          2.11900000e+03,   7.87000000e+02],\n",
       "       [  1.53970000e+05,   1.00911100e+06,   2.26133900e+06,\n",
       "          3.20369000e+05,   6.31990000e+04],\n",
       "       [  6.08000000e+02,   3.12700000e+03,   6.73100000e+03,\n",
       "          1.42600000e+03,   3.56000000e+02],\n",
       "       [  4.94000000e+02,   1.84200000e+03,   3.63100000e+03,\n",
       "          9.35000000e+02,   2.42000000e+02],\n",
       "       [  3.41000000e+02,   1.36000000e+02,  -4.30600000e+03,\n",
       "         -1.67000000e+02,   1.34000000e+02],\n",
       "       [  1.67300000e+03,   9.98100000e+03,   2.47940000e+04,\n",
       "          5.09000000e+03,   1.24100000e+03],\n",
       "       [  3.19535000e+05,   1.82586300e+06,   4.03870400e+06,\n",
       "          7.48526000e+05,   8.24990000e+04]])"
      ]
     },
     "execution_count": 98,
     "metadata": {},
     "output_type": "execute_result"
    }
   ],
   "source": [
    "SUM_Bid1_11"
   ]
  },
  {
   "cell_type": "code",
   "execution_count": 99,
   "metadata": {
    "collapsed": false,
    "scrolled": true
   },
   "outputs": [
    {
     "data": {
      "text/plain": [
       "array([[  3.91000000e+02,   1.27600000e+03,   4.21000000e+03,\n",
       "          7.67000000e+02,   4.30000000e+02],\n",
       "       [  2.99000000e+02,   8.32000000e+02,   2.49500000e+03,\n",
       "          5.54000000e+02,   3.91000000e+02],\n",
       "       [  4.52000000e+02,   1.17600000e+03,   3.71700000e+03,\n",
       "          7.24000000e+02,   7.82000000e+02],\n",
       "       [  1.33300000e+03,   4.22900000e+03,   1.44250000e+04,\n",
       "          2.58300000e+03,   1.61300000e+03],\n",
       "       [  1.94396000e+05,   6.46261000e+05,   2.35856000e+06,\n",
       "          3.51816000e+05,   1.98347000e+05],\n",
       "       [  5.42000000e+02,   2.01100000e+03,   5.00500000e+03,\n",
       "          1.04700000e+03,   4.27000000e+02],\n",
       "       [  3.74000000e+02,   1.15500000e+03,   2.56200000e+03,\n",
       "          6.34000000e+02,   3.69000000e+02],\n",
       "       [  4.35000000e+02,   1.18900000e+03,   2.93700000e+03,\n",
       "          1.17500000e+03,   7.62000000e+02],\n",
       "       [  2.16100000e+03,   7.58000000e+03,   1.91310000e+04,\n",
       "          3.83600000e+03,   1.61000000e+03],\n",
       "       [  3.03546000e+05,   1.18969600e+06,   3.18020700e+06,\n",
       "          5.77140000e+05,   1.72820000e+05],\n",
       "       [  5.50000000e+02,   2.71200000e+03,   5.64400000e+03,\n",
       "          1.10000000e+03,   3.68000000e+02],\n",
       "       [  3.41000000e+02,   1.47400000e+03,   2.45000000e+03,\n",
       "          6.42000000e+02,   2.11000000e+02],\n",
       "       [  4.40000000e+02,   1.88600000e+03,   1.67100000e+03,\n",
       "          1.08700000e+03,   2.82000000e+02],\n",
       "       [  2.15500000e+03,   1.04000000e+04,   2.36070000e+04,\n",
       "          4.25700000e+03,   1.75600000e+03],\n",
       "       [  4.12311000e+05,   1.69316600e+06,   3.80990500e+06,\n",
       "          5.94022000e+05,   1.06272000e+05],\n",
       "       [  3.97000000e+02,   1.96200000e+03,   4.13200000e+03,\n",
       "          7.34000000e+02,   2.47000000e+02],\n",
       "       [  2.59000000e+02,   8.75000000e+02,   1.81500000e+03,\n",
       "          3.84000000e+02,   1.65000000e+02],\n",
       "       [  3.41000000e+02,   6.51000000e+02,   1.54300000e+03,\n",
       "          5.45000000e+02,   2.88000000e+02],\n",
       "       [  1.54600000e+03,   7.98100000e+03,   1.68060000e+04,\n",
       "          3.06900000e+03,   1.07800000e+03],\n",
       "       [  2.59696000e+05,   1.36921500e+06,   2.88052400e+06,\n",
       "          4.37118000e+05,   7.94130000e+04],\n",
       "       [  6.08000000e+02,   3.12700000e+03,   6.73100000e+03,\n",
       "          1.42600000e+03,   3.56000000e+02],\n",
       "       [  3.95000000e+02,   1.21100000e+03,   2.47600000e+03,\n",
       "          6.77000000e+02,   2.06000000e+02],\n",
       "       [  5.88000000e+02,   8.49000000e+02,  -3.10300000e+03,\n",
       "          5.04000000e+02,   3.29000000e+02],\n",
       "       [  2.33500000e+03,   1.35180000e+04,   3.24500000e+04,\n",
       "          6.60100000e+03,   1.71300000e+03],\n",
       "       [  4.40873000e+05,   2.31598200e+06,   5.03944500e+06,\n",
       "          9.08745000e+05,   8.53970000e+04]])"
      ]
     },
     "execution_count": 99,
     "metadata": {},
     "output_type": "execute_result"
    }
   ],
   "source": [
    "SUM_Bid2_11"
   ]
  },
  {
   "cell_type": "code",
   "execution_count": 100,
   "metadata": {
    "collapsed": false,
    "scrolled": true
   },
   "outputs": [
    {
     "data": {
      "text/plain": [
       "array([[  3.91000000e+02,   1.27600000e+03,   4.21000000e+03,\n",
       "          7.67000000e+02,   4.30000000e+02],\n",
       "       [  2.07000000e+02,   6.43000000e+02,   1.51800000e+03,\n",
       "          4.02000000e+02,   3.23000000e+02],\n",
       "       [  4.95000000e+02,   1.53100000e+03,   4.92000000e+03,\n",
       "          1.13400000e+03,   1.11400000e+03],\n",
       "       [  1.77000000e+03,   5.75900000e+03,   1.90200000e+04,\n",
       "          3.39100000e+03,   2.09600000e+03],\n",
       "       [  3.26984000e+05,   8.42357000e+05,   2.97719200e+06,\n",
       "          4.81096000e+05,   1.90889000e+05],\n",
       "       [  5.42000000e+02,   2.01100000e+03,   5.00500000e+03,\n",
       "          1.04700000e+03,   4.27000000e+02],\n",
       "       [  2.68000000e+02,   9.69000000e+02,   1.64200000e+03,\n",
       "          4.09000000e+02,   3.34000000e+02],\n",
       "       [  4.39000000e+02,   1.95900000e+03,   4.24300000e+03,\n",
       "          1.45200000e+03,   1.09700000e+03],\n",
       "       [  2.82800000e+03,   9.72600000e+03,   2.43680000e+04,\n",
       "          4.95700000e+03,   2.05900000e+03],\n",
       "       [  4.32420000e+05,   1.40714400e+06,   3.75368100e+06,\n",
       "          7.39452000e+05,   1.76576000e+05],\n",
       "       [  5.50000000e+02,   2.71200000e+03,   5.64400000e+03,\n",
       "          1.10000000e+03,   3.68000000e+02],\n",
       "       [  3.05000000e+02,   1.12500000e+03,   1.54200000e+03,\n",
       "          4.82000000e+02,   1.84000000e+02],\n",
       "       [  6.54000000e+02,   2.73600000e+03,   2.79600000e+03,\n",
       "          1.46500000e+03,   4.74000000e+02],\n",
       "       [  2.73000000e+03,   1.32840000e+04,   2.94490000e+04,\n",
       "          5.42200000e+03,   2.12800000e+03],\n",
       "       [  4.91973000e+05,   1.97596400e+06,   4.49678700e+06,\n",
       "          7.68849000e+05,   9.83420000e+04],\n",
       "       [  3.97000000e+02,   1.96200000e+03,   4.13200000e+03,\n",
       "          7.34000000e+02,   2.47000000e+02],\n",
       "       [  2.40000000e+02,   6.57000000e+02,   1.03100000e+03,\n",
       "          2.89000000e+02,   1.36000000e+02],\n",
       "       [  5.47000000e+02,   1.10800000e+03,   2.21500000e+03,\n",
       "          7.49000000e+02,   4.26000000e+02],\n",
       "       [  1.95100000e+03,   9.99300000e+03,   2.11430000e+04,\n",
       "          3.83900000e+03,   1.33700000e+03],\n",
       "       [  3.24863000e+05,   1.51165900e+06,   3.33830700e+06,\n",
       "          5.32636000e+05,   7.37390000e+04],\n",
       "       [  6.08000000e+02,   3.12700000e+03,   6.73100000e+03,\n",
       "          1.42600000e+03,   3.56000000e+02],\n",
       "       [  3.71000000e+02,   8.10000000e+02,   1.49900000e+03,\n",
       "          5.09000000e+02,   1.69000000e+02],\n",
       "       [  9.23000000e+02,   1.19300000e+03,  -2.15800000e+03,\n",
       "          7.02000000e+02,   4.90000000e+02],\n",
       "       [  2.95300000e+03,   1.67480000e+04,   3.96070000e+04,\n",
       "          8.21400000e+03,   2.08200000e+03],\n",
       "       [  5.30305000e+05,   2.53345500e+06,   5.51173000e+06,\n",
       "          1.05683100e+06,   7.09670000e+04]])"
      ]
     },
     "execution_count": 100,
     "metadata": {},
     "output_type": "execute_result"
    }
   ],
   "source": [
    "SUM_Bid3_11"
   ]
  },
  {
   "cell_type": "code",
   "execution_count": 101,
   "metadata": {
    "collapsed": false,
    "scrolled": true
   },
   "outputs": [
    {
     "data": {
      "text/plain": [
       "array([[  1.20000000e+01,   1.43000000e+02,   1.19020000e+04,\n",
       "          1.23400000e+03,   4.00000000e+00],\n",
       "       [  0.00000000e+00,   4.10000000e+01,   5.04000000e+02,\n",
       "          2.59000000e+02,   2.00000000e+00],\n",
       "       [ -3.40000000e+01,  -1.40000000e+02,  -1.38400000e+03,\n",
       "          3.51000000e+02,   4.00000000e+00],\n",
       "       [  6.00000000e+01,   4.64000000e+02,   1.82460000e+04,\n",
       "          2.35700000e+03,   4.00000000e+00],\n",
       "       [  1.26000000e+04,   9.61780000e+04,   1.04114430e+07,\n",
       "          9.34191000e+05,   1.82000000e+02],\n",
       "       [  1.90000000e+01,   3.24000000e+02,   2.82400000e+03,\n",
       "          1.12800000e+03,   5.00000000e+00],\n",
       "       [  0.00000000e+00,   6.60000000e+01,   6.81000000e+02,\n",
       "          2.12000000e+02,   5.00000000e+00],\n",
       "       [ -7.00000000e+01,  -2.45000000e+02,  -1.37100000e+03,\n",
       "         -3.30000000e+01,   1.00000000e+01],\n",
       "       [  1.03000000e+02,   9.98000000e+02,   6.64800000e+03,\n",
       "          2.85600000e+03,   1.00000000e+01],\n",
       "       [  1.71000000e+04,   2.36533000e+05,   2.08639600e+06,\n",
       "          8.61237000e+05,   6.87000000e+02],\n",
       "       [  8.00000000e+00,   4.75000000e+02,   7.62400000e+03,\n",
       "          8.87000000e+02,   8.00000000e+00],\n",
       "       [  0.00000000e+00,   3.40000000e+01,   1.01400000e+03,\n",
       "          3.20000000e+02,   4.00000000e+00],\n",
       "       [ -2.90000000e+01,  -8.40000000e+02,  -1.65900000e+03,\n",
       "          4.00000000e+01,   0.00000000e+00],\n",
       "       [  4.30000000e+01,   2.09000000e+03,   1.43420000e+04,\n",
       "          2.52400000e+03,   2.80000000e+01],\n",
       "       [  1.08000000e+04,   4.01271000e+05,   6.39817000e+06,\n",
       "          5.68904000e+05,   7.44000000e+02],\n",
       "       [  1.30000000e+01,   4.71000000e+02,   5.16100000e+03,\n",
       "          6.17000000e+02,   0.00000000e+00],\n",
       "       [  0.00000000e+00,   4.80000000e+01,   4.51000000e+02,\n",
       "          2.26000000e+02,   0.00000000e+00],\n",
       "       [ -4.70000000e+01,  -4.03000000e+02,  -1.96600000e+03,\n",
       "         -3.78000000e+02,   0.00000000e+00],\n",
       "       [  7.10000000e+01,   1.23300000e+03,   1.09390000e+04,\n",
       "          1.98400000e+03,   0.00000000e+00],\n",
       "       [  1.17000000e+04,   3.87086000e+05,   4.33958300e+06,\n",
       "          3.91164000e+05,   0.00000000e+00],\n",
       "       [  6.10000000e+01,   1.03200000e+03,   1.54500000e+04,\n",
       "          9.98000000e+02,   0.00000000e+00],\n",
       "       [  0.00000000e+00,   6.50000000e+01,   9.06000000e+02,\n",
       "          2.21000000e+02,   0.00000000e+00],\n",
       "       [ -2.19000000e+02,  -1.02000000e+03,  -1.22910000e+04,\n",
       "         -3.60000000e+02,   0.00000000e+00],\n",
       "       [  3.31000000e+02,   2.85500000e+03,   3.52230000e+04,\n",
       "          2.20100000e+03,   0.00000000e+00],\n",
       "       [  5.49000000e+04,   8.74820000e+05,   1.35247390e+07,\n",
       "          7.35573000e+05,   0.00000000e+00]])"
      ]
     },
     "execution_count": 101,
     "metadata": {},
     "output_type": "execute_result"
    }
   ],
   "source": [
    "SUM_Bid1_13"
   ]
  },
  {
   "cell_type": "code",
   "execution_count": 102,
   "metadata": {
    "collapsed": false,
    "scrolled": true
   },
   "outputs": [
    {
     "data": {
      "text/plain": [
       "array([[  1.20000000e+01,   1.43000000e+02,   1.19020000e+04,\n",
       "          1.23400000e+03,   4.00000000e+00],\n",
       "       [  0.00000000e+00,   4.00000000e+00,   4.50000000e+01,\n",
       "          6.50000000e+01,   2.00000000e+00],\n",
       "       [ -3.40000000e+01,  -2.10000000e+02,  -1.77700000e+03,\n",
       "          4.83000000e+02,   6.00000000e+00],\n",
       "       [  7.20000000e+01,   6.97000000e+02,   3.09050000e+04,\n",
       "          3.66700000e+03,   8.00000000e+00],\n",
       "       [  1.26000000e+04,   1.25157000e+05,   1.06782870e+07,\n",
       "          1.06681700e+06,   3.76000000e+02],\n",
       "       [  1.90000000e+01,   3.24000000e+02,   2.82400000e+03,\n",
       "          1.12800000e+03,   5.00000000e+00],\n",
       "       [  0.00000000e+00,   4.20000000e+01,   1.32000000e+02,\n",
       "          1.01000000e+02,   0.00000000e+00],\n",
       "       [ -7.00000000e+01,  -2.76000000e+02,  -2.01900000e+03,\n",
       "         -1.38000000e+02,  -1.00000000e+01],\n",
       "       [  1.22000000e+02,   1.38500000e+03,   1.07980000e+04,\n",
       "          4.17100000e+03,   3.00000000e+01],\n",
       "       [  2.16000000e+04,   2.56340000e+05,   2.44895700e+06,\n",
       "          9.44089000e+05,   0.00000000e+00],\n",
       "       [  8.00000000e+00,   4.75000000e+02,   7.62400000e+03,\n",
       "          8.87000000e+02,   8.00000000e+00],\n",
       "       [  0.00000000e+00,   1.10000000e+01,   2.01000000e+02,\n",
       "          1.91000000e+02,   0.00000000e+00],\n",
       "       [ -2.90000000e+01,  -8.98000000e+02,  -2.27700000e+03,\n",
       "         -2.00000000e+01,  -1.60000000e+01],\n",
       "       [  5.10000000e+01,   2.60300000e+03,   2.22810000e+04,\n",
       "          3.60000000e+03,   4.80000000e+01],\n",
       "       [  1.44000000e+04,   4.18471000e+05,   6.72001300e+06,\n",
       "          6.66295000e+05,   0.00000000e+00],\n",
       "       [  1.30000000e+01,   4.71000000e+02,   5.16100000e+03,\n",
       "          6.17000000e+02,   0.00000000e+00],\n",
       "       [  0.00000000e+00,   8.00000000e+00,   1.15000000e+02,\n",
       "          1.58000000e+02,   0.00000000e+00],\n",
       "       [ -4.70000000e+01,  -5.24000000e+02,  -2.23100000e+03,\n",
       "         -4.14000000e+02,   0.00000000e+00],\n",
       "       [  8.40000000e+01,   1.77600000e+03,   1.63210000e+04,\n",
       "          2.75000000e+03,   0.00000000e+00],\n",
       "       [  1.17000000e+04,   4.17232000e+05,   4.56587100e+06,\n",
       "          4.59689000e+05,   0.00000000e+00],\n",
       "       [  6.10000000e+01,   1.03200000e+03,   1.54500000e+04,\n",
       "          9.98000000e+02,   0.00000000e+00],\n",
       "       [  0.00000000e+00,   4.70000000e+01,   5.45000000e+02,\n",
       "          9.90000000e+01,   0.00000000e+00],\n",
       "       [ -2.19000000e+02,  -1.04100000e+03,  -1.19610000e+04,\n",
       "         -5.70000000e+02,   0.00000000e+00],\n",
       "       [  3.92000000e+02,   3.93600000e+03,   5.08080000e+04,\n",
       "          3.46200000e+03,   0.00000000e+00],\n",
       "       [  5.49000000e+04,   8.90132000e+05,   1.37676790e+07,\n",
       "          8.40954000e+05,   0.00000000e+00]])"
      ]
     },
     "execution_count": 102,
     "metadata": {},
     "output_type": "execute_result"
    }
   ],
   "source": [
    "SUM_Bid2_13"
   ]
  },
  {
   "cell_type": "code",
   "execution_count": 103,
   "metadata": {
    "collapsed": false,
    "scrolled": true
   },
   "outputs": [
    {
     "data": {
      "text/plain": [
       "array([[  1.20000000e+01,   1.43000000e+02,   1.19020000e+04,\n",
       "          1.23400000e+03,   4.00000000e+00],\n",
       "       [  0.00000000e+00,   4.00000000e+00,   3.50000000e+01,\n",
       "          4.00000000e+01,   0.00000000e+00],\n",
       "       [ -3.40000000e+01,  -2.06000000e+02,  -1.76300000e+03,\n",
       "          4.53000000e+02,  -2.00000000e+00],\n",
       "       [  8.40000000e+01,   8.40000000e+02,   4.28100000e+04,\n",
       "          4.94100000e+03,   1.80000000e+01],\n",
       "       [  1.44000000e+04,   1.25441000e+05,   1.06883630e+07,\n",
       "          1.08756000e+06,   0.00000000e+00],\n",
       "       [  1.90000000e+01,   3.24000000e+02,   2.82400000e+03,\n",
       "          1.12800000e+03,   5.00000000e+00],\n",
       "       [  0.00000000e+00,   4.20000000e+01,   8.60000000e+01,\n",
       "          6.00000000e+01,   0.00000000e+00],\n",
       "       [ -7.00000000e+01,  -2.34000000e+02,  -2.06200000e+03,\n",
       "         -1.24000000e+02,  -1.00000000e+01],\n",
       "       [  1.41000000e+02,   1.70900000e+03,   1.36400000e+04,\n",
       "          5.33300000e+03,   3.50000000e+01],\n",
       "       [  2.16000000e+04,   2.59322000e+05,   2.49047700e+06,\n",
       "          9.76904000e+05,   0.00000000e+00],\n",
       "       [  8.00000000e+00,   4.75000000e+02,   7.62400000e+03,\n",
       "          8.87000000e+02,   8.00000000e+00],\n",
       "       [  0.00000000e+00,   1.10000000e+01,   1.10000000e+02,\n",
       "          1.03000000e+02,   0.00000000e+00],\n",
       "       [ -2.90000000e+01,  -8.87000000e+02,  -2.39100000e+03,\n",
       "          8.40000000e+01,  -1.60000000e+01],\n",
       "       [  5.90000000e+01,   3.07800000e+03,   2.99150000e+04,\n",
       "          4.51300000e+03,   5.60000000e+01],\n",
       "       [  1.44000000e+04,   4.19252000e+05,   6.79224900e+06,\n",
       "          7.32784000e+05,   0.00000000e+00],\n",
       "       [  1.30000000e+01,   4.71000000e+02,   5.16100000e+03,\n",
       "          6.17000000e+02,   0.00000000e+00],\n",
       "       [  0.00000000e+00,   8.00000000e+00,   3.20000000e+01,\n",
       "          1.07000000e+02,   0.00000000e+00],\n",
       "       [ -4.70000000e+01,  -5.16000000e+02,  -2.30600000e+03,\n",
       "         -2.92000000e+02,   0.00000000e+00],\n",
       "       [  9.70000000e+01,   2.24700000e+03,   2.15160000e+04,\n",
       "          3.37100000e+03,   0.00000000e+00],\n",
       "       [  1.17000000e+04,   4.17800000e+05,   4.62377600e+06,\n",
       "          4.96860000e+05,   0.00000000e+00],\n",
       "       [  6.10000000e+01,   1.03200000e+03,   1.54500000e+04,\n",
       "          9.98000000e+02,   0.00000000e+00],\n",
       "       [  0.00000000e+00,   4.70000000e+01,   4.03000000e+02,\n",
       "          9.00000000e+01,   0.00000000e+00],\n",
       "       [ -2.19000000e+02,  -9.94000000e+02,  -1.15810000e+04,\n",
       "         -4.76000000e+02,   0.00000000e+00],\n",
       "       [  4.53000000e+02,   4.96800000e+03,   6.62890000e+04,\n",
       "          4.46000000e+03,   0.00000000e+00],\n",
       "       [  5.49000000e+04,   8.93469000e+05,   1.38350750e+07,\n",
       "          8.50362000e+05,   0.00000000e+00]])"
      ]
     },
     "execution_count": 103,
     "metadata": {},
     "output_type": "execute_result"
    }
   ],
   "source": [
    "SUM_Bid3_13"
   ]
  },
  {
   "cell_type": "code",
   "execution_count": 104,
   "metadata": {
    "collapsed": false,
    "scrolled": true
   },
   "outputs": [
    {
     "data": {
      "text/plain": [
       "array([[  4.80000000e+01,   1.47500000e+03,   7.82900000e+03,\n",
       "          1.42800000e+03,   3.83000000e+02],\n",
       "       [  8.00000000e+00,   8.26000000e+02,   4.25900000e+03,\n",
       "          9.23000000e+02,   2.32000000e+02],\n",
       "       [ -2.97000000e+02,  -1.00000000e+01,   1.89360000e+03,\n",
       "          2.88000000e+02,  -3.70000000e+02],\n",
       "       [  3.96000000e+02,   3.85500000e+03,   1.28260000e+04,\n",
       "          2.98400000e+03,   1.42900000e+03],\n",
       "       [  1.72279000e+05,   7.72261000e+05,   4.15611900e+06,\n",
       "          6.98865000e+05,   5.03330000e+04],\n",
       "       [  5.60000000e+01,   2.22800000e+03,   1.08230000e+04,\n",
       "          1.63400000e+03,   3.99000000e+02],\n",
       "       [  1.20000000e+01,   1.29000000e+03,   5.53500000e+03,\n",
       "          7.97000000e+02,   1.43000000e+02],\n",
       "       [ -3.02000000e+02,   5.50000000e+02,   6.49200000e+02,\n",
       "         -5.22000000e+02,  -8.87000000e+02],\n",
       "       [  4.28000000e+02,   6.05100000e+03,   2.20300000e+04,\n",
       "          4.61900000e+03,   2.57300000e+03],\n",
       "       [  2.70604000e+05,   1.09843900e+06,   6.70176900e+06,\n",
       "          1.02437000e+06,   3.84030000e+04],\n",
       "       [  9.50000000e+01,   2.99800000e+03,   1.28380000e+04,\n",
       "          1.46000000e+03,   3.15000000e+02],\n",
       "       [  4.50000000e+01,   1.61900000e+03,   4.68800000e+03,\n",
       "          6.89000000e+02,   1.02000000e+02],\n",
       "       [ -1.96000000e+02,  -6.44000000e+02,   8.64200000e+02,\n",
       "         -2.93000000e+02,  -7.90000000e+02],\n",
       "       [  4.53000000e+02,   9.78000000e+03,   2.43790000e+04,\n",
       "          4.03000000e+03,   2.26400000e+03],\n",
       "       [  2.38605000e+05,   1.63947300e+06,   8.94178600e+06,\n",
       "          9.36129000e+05,   2.60900000e+04],\n",
       "       [  1.70000000e+02,   2.78400000e+03,   9.26900000e+03,\n",
       "          1.37700000e+03,   2.37000000e+02],\n",
       "       [  8.00000000e+01,   1.24900000e+03,   2.90900000e+03,\n",
       "          5.74000000e+02,   1.69000000e+02],\n",
       "       [ -4.73000000e+02,  -1.29300000e+03,  -3.00240000e+03,\n",
       "         -5.88000000e+02,  -2.60000000e+01],\n",
       "       [  9.76000000e+02,   7.65500000e+03,   1.96750000e+04,\n",
       "          3.81300000e+03,   1.03600000e+03],\n",
       "       [  1.48175000e+05,   1.71685400e+06,   6.35014900e+06,\n",
       "          9.29955000e+05,   6.45670000e+04],\n",
       "       [  3.16000000e+02,   3.80600000e+03,   1.12700000e+04,\n",
       "          1.90300000e+03,   4.59000000e+02],\n",
       "       [  1.24000000e+02,   2.06700000e+03,   3.30000000e+03,\n",
       "          5.75000000e+02,   3.81000000e+02],\n",
       "       [ -7.55000000e+02,  -1.14960000e+03,  -9.82760000e+03,\n",
       "         -1.97200000e+03,   5.70000000e+01],\n",
       "       [  1.72000000e+03,   1.50080000e+04,   2.98860000e+04,\n",
       "          5.88600000e+03,   1.66400000e+03],\n",
       "       [  2.59448000e+05,   2.17816800e+06,   7.45531900e+06,\n",
       "          1.42340300e+06,   1.52786000e+05]])"
      ]
     },
     "execution_count": 104,
     "metadata": {},
     "output_type": "execute_result"
    }
   ],
   "source": [
    "SUM_Bid1_16"
   ]
  },
  {
   "cell_type": "code",
   "execution_count": 105,
   "metadata": {
    "collapsed": false,
    "scrolled": true
   },
   "outputs": [
    {
     "data": {
      "text/plain": [
       "array([[  4.80000000e+01,   1.47500000e+03,   7.82900000e+03,\n",
       "          1.42800000e+03,   3.83000000e+02],\n",
       "       [  8.00000000e+00,   6.31000000e+02,   2.53300000e+03,\n",
       "          5.65000000e+02,   6.60000000e+01],\n",
       "       [ -2.89000000e+02,   4.22000000e+02,   3.21420000e+03,\n",
       "          5.10000000e+02,  -3.64000000e+02],\n",
       "       [  4.47000000e+02,   5.58800000e+03,   2.22560000e+04,\n",
       "          4.63800000e+03,   1.92500000e+03],\n",
       "       [  3.22224000e+05,   9.61252000e+05,   5.53539600e+06,\n",
       "          1.00015700e+06,   1.79200000e+04],\n",
       "       [  5.60000000e+01,   2.22800000e+03,   1.08230000e+04,\n",
       "          1.63400000e+03,   3.99000000e+02],\n",
       "       [  1.20000000e+01,   8.54000000e+02,   2.42000000e+03,\n",
       "          4.37000000e+02,   1.08000000e+02],\n",
       "       [ -2.90000000e+02,   1.08400000e+03,   6.50800000e+02,\n",
       "         -2.08000000e+02,  -7.93000000e+02],\n",
       "       [  4.86000000e+02,   8.87500000e+03,   3.37730000e+04,\n",
       "          6.32800000e+03,   2.99000000e+03],\n",
       "       [  3.02411000e+05,   1.44548000e+06,   8.18670600e+06,\n",
       "          1.25149100e+06,   4.47470000e+04],\n",
       "       [  9.50000000e+01,   2.99800000e+03,   1.28380000e+04,\n",
       "          1.46000000e+03,   3.15000000e+02],\n",
       "       [  4.50000000e+01,   1.13800000e+03,   2.77300000e+03,\n",
       "          4.29000000e+02,   9.70000000e+01],\n",
       "       [ -1.51000000e+02,   2.50000000e+01,   3.61040000e+03,\n",
       "          7.80000000e+01,  -6.92000000e+02],\n",
       "       [  5.60000000e+02,   1.36820000e+04,   3.76400000e+04,\n",
       "          5.58700000e+03,   2.58700000e+03],\n",
       "       [  2.45630000e+05,   2.01710500e+06,   1.00262470e+07,\n",
       "          1.10481500e+06,   4.33730000e+04],\n",
       "       [  1.70000000e+02,   2.78400000e+03,   9.26900000e+03,\n",
       "          1.37700000e+03,   2.37000000e+02],\n",
       "       [  7.80000000e+01,   1.00400000e+03,   1.76900000e+03,\n",
       "          4.35000000e+02,   1.65000000e+02],\n",
       "       [ -4.02000000e+02,  -6.54000000e+02,  -1.81720000e+03,\n",
       "         -1.74000000e+02,   1.35000000e+02],\n",
       "       [  1.16700000e+03,   1.07760000e+04,   2.94810000e+04,\n",
       "          5.21500000e+03,   1.27500000e+03],\n",
       "       [  1.56836000e+05,   1.98547400e+06,   7.04752500e+06,\n",
       "          1.05364400e+06,   8.24810000e+04],\n",
       "       [  3.16000000e+02,   3.80600000e+03,   1.12700000e+04,\n",
       "          1.90300000e+03,   4.59000000e+02],\n",
       "       [  1.02000000e+02,   1.66800000e+03,   2.30500000e+03,\n",
       "          3.10000000e+02,   3.69000000e+02],\n",
       "       [ -6.83000000e+02,   7.94000000e+01,  -8.12000000e+03,\n",
       "         -1.77200000e+03,   4.16000000e+02],\n",
       "       [  2.05500000e+03,   2.03630000e+04,   4.15380000e+04,\n",
       "          7.84300000e+03,   2.12300000e+03],\n",
       "       [  2.87426000e+05,   2.57832400e+06,   8.15350000e+06,\n",
       "          1.56446300e+06,   2.21473000e+05]])"
      ]
     },
     "execution_count": 105,
     "metadata": {},
     "output_type": "execute_result"
    }
   ],
   "source": [
    "SUM_Bid2_16"
   ]
  },
  {
   "cell_type": "code",
   "execution_count": null,
   "metadata": {
    "collapsed": true
   },
   "outputs": [],
   "source": []
  },
  {
   "cell_type": "code",
   "execution_count": null,
   "metadata": {
    "collapsed": true
   },
   "outputs": [],
   "source": []
  },
  {
   "cell_type": "code",
   "execution_count": null,
   "metadata": {
    "collapsed": true
   },
   "outputs": [],
   "source": []
  },
  {
   "cell_type": "code",
   "execution_count": null,
   "metadata": {
    "collapsed": true
   },
   "outputs": [],
   "source": []
  },
  {
   "cell_type": "code",
   "execution_count": null,
   "metadata": {
    "collapsed": true
   },
   "outputs": [],
   "source": []
  },
  {
   "cell_type": "code",
   "execution_count": 106,
   "metadata": {
    "collapsed": false
   },
   "outputs": [],
   "source": [
    "a = 0\n",
    "Bid1_15_1 = pd.DataFrame([SUM_Bid1_15[a],SUM_Bid1_15[a+1]/SUM_Bid1_15[a],SUM_Bid1_15[a+2]/SUM_Bid1_15[a],SUM_Bid1_15[a+3]/SUM_Bid1_15[a],SUM_Bid1_15[a+4]/SUM_Bid1_15[a]])"
   ]
  },
  {
   "cell_type": "code",
   "execution_count": 107,
   "metadata": {
    "collapsed": false
   },
   "outputs": [],
   "source": [
    "a = 5\n",
    "Bid1_15_2 = pd.DataFrame([SUM_Bid1_15[a],SUM_Bid1_15[a+1]/SUM_Bid1_15[a],SUM_Bid1_15[a+2]/SUM_Bid1_15[a],SUM_Bid1_15[a+3]/SUM_Bid1_15[a],SUM_Bid1_15[a+4]/SUM_Bid1_15[a]])"
   ]
  },
  {
   "cell_type": "code",
   "execution_count": 108,
   "metadata": {
    "collapsed": false
   },
   "outputs": [],
   "source": [
    "a = 10\n",
    "Bid1_15_3 = pd.DataFrame([SUM_Bid1_15[a],SUM_Bid1_15[a+1]/SUM_Bid1_15[a],SUM_Bid1_15[a+2]/SUM_Bid1_15[a],SUM_Bid1_15[a+3]/SUM_Bid1_15[a],SUM_Bid1_15[a+4]/SUM_Bid1_15[a]])"
   ]
  },
  {
   "cell_type": "code",
   "execution_count": 109,
   "metadata": {
    "collapsed": false
   },
   "outputs": [],
   "source": [
    "a = 15\n",
    "Bid1_15_4 = pd.DataFrame([SUM_Bid1_15[a],SUM_Bid1_15[a+1]/SUM_Bid1_15[a],SUM_Bid1_15[a+2]/SUM_Bid1_15[a],SUM_Bid1_15[a+3]/SUM_Bid1_15[a],SUM_Bid1_15[a+4]/SUM_Bid1_15[a]])"
   ]
  },
  {
   "cell_type": "code",
   "execution_count": 110,
   "metadata": {
    "collapsed": false
   },
   "outputs": [],
   "source": [
    "a = 20\n",
    "Bid1_15_5 = pd.DataFrame([SUM_Bid1_15[a],SUM_Bid1_15[a+1]/SUM_Bid1_15[a],SUM_Bid1_15[a+2]/SUM_Bid1_15[a],SUM_Bid1_15[a+3]/SUM_Bid1_15[a],SUM_Bid1_15[a+4]/SUM_Bid1_15[a]])"
   ]
  },
  {
   "cell_type": "code",
   "execution_count": 111,
   "metadata": {
    "collapsed": false,
    "scrolled": true
   },
   "outputs": [
    {
     "data": {
      "text/html": [
       "<div>\n",
       "<table border=\"1\" class=\"dataframe\">\n",
       "  <thead>\n",
       "    <tr style=\"text-align: right;\">\n",
       "      <th></th>\n",
       "      <th>0</th>\n",
       "      <th>1</th>\n",
       "      <th>2</th>\n",
       "      <th>3</th>\n",
       "      <th>4</th>\n",
       "    </tr>\n",
       "  </thead>\n",
       "  <tbody>\n",
       "    <tr>\n",
       "      <th>0</th>\n",
       "      <td>0.0</td>\n",
       "      <td>487.000000</td>\n",
       "      <td>1333.000000</td>\n",
       "      <td>198.000000</td>\n",
       "      <td>0.0</td>\n",
       "    </tr>\n",
       "    <tr>\n",
       "      <th>1</th>\n",
       "      <td>NaN</td>\n",
       "      <td>0.743326</td>\n",
       "      <td>0.231808</td>\n",
       "      <td>1.000000</td>\n",
       "      <td>NaN</td>\n",
       "    </tr>\n",
       "    <tr>\n",
       "      <th>2</th>\n",
       "      <td>NaN</td>\n",
       "      <td>-1.948665</td>\n",
       "      <td>-2.380345</td>\n",
       "      <td>1.000000</td>\n",
       "      <td>NaN</td>\n",
       "    </tr>\n",
       "    <tr>\n",
       "      <th>3</th>\n",
       "      <td>NaN</td>\n",
       "      <td>4.498973</td>\n",
       "      <td>5.897224</td>\n",
       "      <td>2.272727</td>\n",
       "      <td>NaN</td>\n",
       "    </tr>\n",
       "    <tr>\n",
       "      <th>4</th>\n",
       "      <td>NaN</td>\n",
       "      <td>618.240246</td>\n",
       "      <td>754.255814</td>\n",
       "      <td>552.944444</td>\n",
       "      <td>NaN</td>\n",
       "    </tr>\n",
       "    <tr>\n",
       "      <th>0</th>\n",
       "      <td>0.0</td>\n",
       "      <td>16.000000</td>\n",
       "      <td>385.000000</td>\n",
       "      <td>120.000000</td>\n",
       "      <td>0.0</td>\n",
       "    </tr>\n",
       "    <tr>\n",
       "      <th>1</th>\n",
       "      <td>NaN</td>\n",
       "      <td>1.000000</td>\n",
       "      <td>0.490909</td>\n",
       "      <td>1.000000</td>\n",
       "      <td>NaN</td>\n",
       "    </tr>\n",
       "    <tr>\n",
       "      <th>2</th>\n",
       "      <td>NaN</td>\n",
       "      <td>1.000000</td>\n",
       "      <td>0.018182</td>\n",
       "      <td>1.000000</td>\n",
       "      <td>NaN</td>\n",
       "    </tr>\n",
       "    <tr>\n",
       "      <th>3</th>\n",
       "      <td>NaN</td>\n",
       "      <td>1.562500</td>\n",
       "      <td>4.137662</td>\n",
       "      <td>2.900000</td>\n",
       "      <td>NaN</td>\n",
       "    </tr>\n",
       "    <tr>\n",
       "      <th>4</th>\n",
       "      <td>NaN</td>\n",
       "      <td>641.562500</td>\n",
       "      <td>754.181818</td>\n",
       "      <td>576.808333</td>\n",
       "      <td>NaN</td>\n",
       "    </tr>\n",
       "    <tr>\n",
       "      <th>0</th>\n",
       "      <td>0.0</td>\n",
       "      <td>3.000000</td>\n",
       "      <td>733.000000</td>\n",
       "      <td>62.000000</td>\n",
       "      <td>0.0</td>\n",
       "    </tr>\n",
       "    <tr>\n",
       "      <th>1</th>\n",
       "      <td>NaN</td>\n",
       "      <td>1.000000</td>\n",
       "      <td>0.320600</td>\n",
       "      <td>1.000000</td>\n",
       "      <td>NaN</td>\n",
       "    </tr>\n",
       "    <tr>\n",
       "      <th>2</th>\n",
       "      <td>NaN</td>\n",
       "      <td>1.000000</td>\n",
       "      <td>-2.388813</td>\n",
       "      <td>1.016129</td>\n",
       "      <td>NaN</td>\n",
       "    </tr>\n",
       "    <tr>\n",
       "      <th>3</th>\n",
       "      <td>NaN</td>\n",
       "      <td>1.000000</td>\n",
       "      <td>5.547067</td>\n",
       "      <td>3.016129</td>\n",
       "      <td>NaN</td>\n",
       "    </tr>\n",
       "    <tr>\n",
       "      <th>4</th>\n",
       "      <td>NaN</td>\n",
       "      <td>520.000000</td>\n",
       "      <td>776.978172</td>\n",
       "      <td>587.903226</td>\n",
       "      <td>NaN</td>\n",
       "    </tr>\n",
       "    <tr>\n",
       "      <th>0</th>\n",
       "      <td>0.0</td>\n",
       "      <td>78.000000</td>\n",
       "      <td>352.000000</td>\n",
       "      <td>18.000000</td>\n",
       "      <td>0.0</td>\n",
       "    </tr>\n",
       "    <tr>\n",
       "      <th>1</th>\n",
       "      <td>NaN</td>\n",
       "      <td>0.974359</td>\n",
       "      <td>0.423295</td>\n",
       "      <td>1.000000</td>\n",
       "      <td>NaN</td>\n",
       "    </tr>\n",
       "    <tr>\n",
       "      <th>2</th>\n",
       "      <td>NaN</td>\n",
       "      <td>0.897436</td>\n",
       "      <td>-0.755682</td>\n",
       "      <td>1.111111</td>\n",
       "      <td>NaN</td>\n",
       "    </tr>\n",
       "    <tr>\n",
       "      <th>3</th>\n",
       "      <td>NaN</td>\n",
       "      <td>1.294872</td>\n",
       "      <td>3.829545</td>\n",
       "      <td>3.111111</td>\n",
       "      <td>NaN</td>\n",
       "    </tr>\n",
       "    <tr>\n",
       "      <th>4</th>\n",
       "      <td>NaN</td>\n",
       "      <td>604.628205</td>\n",
       "      <td>701.116477</td>\n",
       "      <td>606.722222</td>\n",
       "      <td>NaN</td>\n",
       "    </tr>\n",
       "    <tr>\n",
       "      <th>0</th>\n",
       "      <td>0.0</td>\n",
       "      <td>41.000000</td>\n",
       "      <td>187.000000</td>\n",
       "      <td>187.000000</td>\n",
       "      <td>0.0</td>\n",
       "    </tr>\n",
       "    <tr>\n",
       "      <th>1</th>\n",
       "      <td>NaN</td>\n",
       "      <td>0.268293</td>\n",
       "      <td>0.181818</td>\n",
       "      <td>1.000000</td>\n",
       "      <td>NaN</td>\n",
       "    </tr>\n",
       "    <tr>\n",
       "      <th>2</th>\n",
       "      <td>NaN</td>\n",
       "      <td>-4.195122</td>\n",
       "      <td>-4.941176</td>\n",
       "      <td>1.106952</td>\n",
       "      <td>NaN</td>\n",
       "    </tr>\n",
       "    <tr>\n",
       "      <th>3</th>\n",
       "      <td>NaN</td>\n",
       "      <td>6.219512</td>\n",
       "      <td>8.160428</td>\n",
       "      <td>3.106952</td>\n",
       "      <td>NaN</td>\n",
       "    </tr>\n",
       "    <tr>\n",
       "      <th>4</th>\n",
       "      <td>NaN</td>\n",
       "      <td>863.317073</td>\n",
       "      <td>873.459893</td>\n",
       "      <td>470.192513</td>\n",
       "      <td>NaN</td>\n",
       "    </tr>\n",
       "  </tbody>\n",
       "</table>\n",
       "</div>"
      ],
      "text/plain": [
       "     0           1            2           3    4\n",
       "0  0.0  487.000000  1333.000000  198.000000  0.0\n",
       "1  NaN    0.743326     0.231808    1.000000  NaN\n",
       "2  NaN   -1.948665    -2.380345    1.000000  NaN\n",
       "3  NaN    4.498973     5.897224    2.272727  NaN\n",
       "4  NaN  618.240246   754.255814  552.944444  NaN\n",
       "0  0.0   16.000000   385.000000  120.000000  0.0\n",
       "1  NaN    1.000000     0.490909    1.000000  NaN\n",
       "2  NaN    1.000000     0.018182    1.000000  NaN\n",
       "3  NaN    1.562500     4.137662    2.900000  NaN\n",
       "4  NaN  641.562500   754.181818  576.808333  NaN\n",
       "0  0.0    3.000000   733.000000   62.000000  0.0\n",
       "1  NaN    1.000000     0.320600    1.000000  NaN\n",
       "2  NaN    1.000000    -2.388813    1.016129  NaN\n",
       "3  NaN    1.000000     5.547067    3.016129  NaN\n",
       "4  NaN  520.000000   776.978172  587.903226  NaN\n",
       "0  0.0   78.000000   352.000000   18.000000  0.0\n",
       "1  NaN    0.974359     0.423295    1.000000  NaN\n",
       "2  NaN    0.897436    -0.755682    1.111111  NaN\n",
       "3  NaN    1.294872     3.829545    3.111111  NaN\n",
       "4  NaN  604.628205   701.116477  606.722222  NaN\n",
       "0  0.0   41.000000   187.000000  187.000000  0.0\n",
       "1  NaN    0.268293     0.181818    1.000000  NaN\n",
       "2  NaN   -4.195122    -4.941176    1.106952  NaN\n",
       "3  NaN    6.219512     8.160428    3.106952  NaN\n",
       "4  NaN  863.317073   873.459893  470.192513  NaN"
      ]
     },
     "execution_count": 111,
     "metadata": {},
     "output_type": "execute_result"
    }
   ],
   "source": [
    "pd.concat([Bid1_15_1,Bid1_15_2,Bid1_15_3,Bid1_15_4,Bid1_15_5])"
   ]
  },
  {
   "cell_type": "code",
   "execution_count": 112,
   "metadata": {
    "collapsed": true
   },
   "outputs": [],
   "source": [
    "pd.concat([Bid1_15_1,Bid1_15_2,Bid1_15_3,Bid1_15_4,Bid1_15_5]).to_csv('bid1_15_218_227.csv')"
   ]
  },
  {
   "cell_type": "code",
   "execution_count": null,
   "metadata": {
    "collapsed": true
   },
   "outputs": [],
   "source": []
  },
  {
   "cell_type": "code",
   "execution_count": 113,
   "metadata": {
    "collapsed": false
   },
   "outputs": [],
   "source": [
    "a = 0\n",
    "Bid2_15_1 = pd.DataFrame([SUM_Bid2_15[a],SUM_Bid2_15[a+1]/SUM_Bid2_15[a],SUM_Bid2_15[a+2]/SUM_Bid2_15[a],SUM_Bid2_15[a+3]/SUM_Bid2_15[a],SUM_Bid2_15[a+4]/SUM_Bid2_15[a]])"
   ]
  },
  {
   "cell_type": "code",
   "execution_count": 114,
   "metadata": {
    "collapsed": false
   },
   "outputs": [],
   "source": [
    "a = 5\n",
    "Bid2_15_2 = pd.DataFrame([SUM_Bid2_15[a],SUM_Bid2_15[a+1]/SUM_Bid2_15[a],SUM_Bid2_15[a+2]/SUM_Bid2_15[a],SUM_Bid2_15[a+3]/SUM_Bid2_15[a],SUM_Bid2_15[a+4]/SUM_Bid2_15[a]])"
   ]
  },
  {
   "cell_type": "code",
   "execution_count": 115,
   "metadata": {
    "collapsed": false
   },
   "outputs": [],
   "source": [
    "a = 10\n",
    "Bid2_15_3 = pd.DataFrame([SUM_Bid2_15[a],SUM_Bid2_15[a+1]/SUM_Bid2_15[a],SUM_Bid2_15[a+2]/SUM_Bid2_15[a],SUM_Bid2_15[a+3]/SUM_Bid2_15[a],SUM_Bid2_15[a+4]/SUM_Bid2_15[a]])"
   ]
  },
  {
   "cell_type": "code",
   "execution_count": 116,
   "metadata": {
    "collapsed": false
   },
   "outputs": [],
   "source": [
    "a = 15\n",
    "Bid2_15_4 = pd.DataFrame([SUM_Bid2_15[a],SUM_Bid2_15[a+1]/SUM_Bid2_15[a],SUM_Bid2_15[a+2]/SUM_Bid2_15[a],SUM_Bid2_15[a+3]/SUM_Bid2_15[a],SUM_Bid2_15[a+4]/SUM_Bid2_15[a]])"
   ]
  },
  {
   "cell_type": "code",
   "execution_count": 117,
   "metadata": {
    "collapsed": false
   },
   "outputs": [],
   "source": [
    "a = 20\n",
    "Bid2_15_5 = pd.DataFrame([SUM_Bid2_15[a],SUM_Bid2_15[a+1]/SUM_Bid2_15[a],SUM_Bid2_15[a+2]/SUM_Bid2_15[a],SUM_Bid2_15[a+3]/SUM_Bid2_15[a],SUM_Bid2_15[a+4]/SUM_Bid2_15[a]])"
   ]
  },
  {
   "cell_type": "code",
   "execution_count": 118,
   "metadata": {
    "collapsed": false,
    "scrolled": true
   },
   "outputs": [
    {
     "data": {
      "text/html": [
       "<div>\n",
       "<table border=\"1\" class=\"dataframe\">\n",
       "  <thead>\n",
       "    <tr style=\"text-align: right;\">\n",
       "      <th></th>\n",
       "      <th>0</th>\n",
       "      <th>1</th>\n",
       "      <th>2</th>\n",
       "      <th>3</th>\n",
       "      <th>4</th>\n",
       "    </tr>\n",
       "  </thead>\n",
       "  <tbody>\n",
       "    <tr>\n",
       "      <th>0</th>\n",
       "      <td>0.0</td>\n",
       "      <td>487.000000</td>\n",
       "      <td>1333.000000</td>\n",
       "      <td>198.000000</td>\n",
       "      <td>0.0</td>\n",
       "    </tr>\n",
       "    <tr>\n",
       "      <th>1</th>\n",
       "      <td>NaN</td>\n",
       "      <td>0.743326</td>\n",
       "      <td>0.175544</td>\n",
       "      <td>1.000000</td>\n",
       "      <td>NaN</td>\n",
       "    </tr>\n",
       "    <tr>\n",
       "      <th>2</th>\n",
       "      <td>NaN</td>\n",
       "      <td>-1.205339</td>\n",
       "      <td>-2.212303</td>\n",
       "      <td>2.045455</td>\n",
       "      <td>NaN</td>\n",
       "    </tr>\n",
       "    <tr>\n",
       "      <th>3</th>\n",
       "      <td>NaN</td>\n",
       "      <td>5.498973</td>\n",
       "      <td>6.921230</td>\n",
       "      <td>3.318182</td>\n",
       "      <td>NaN</td>\n",
       "    </tr>\n",
       "    <tr>\n",
       "      <th>4</th>\n",
       "      <td>NaN</td>\n",
       "      <td>623.848049</td>\n",
       "      <td>842.701425</td>\n",
       "      <td>552.944444</td>\n",
       "      <td>NaN</td>\n",
       "    </tr>\n",
       "    <tr>\n",
       "      <th>0</th>\n",
       "      <td>0.0</td>\n",
       "      <td>16.000000</td>\n",
       "      <td>385.000000</td>\n",
       "      <td>120.000000</td>\n",
       "      <td>0.0</td>\n",
       "    </tr>\n",
       "    <tr>\n",
       "      <th>1</th>\n",
       "      <td>NaN</td>\n",
       "      <td>1.000000</td>\n",
       "      <td>0.379221</td>\n",
       "      <td>1.000000</td>\n",
       "      <td>NaN</td>\n",
       "    </tr>\n",
       "    <tr>\n",
       "      <th>2</th>\n",
       "      <td>NaN</td>\n",
       "      <td>2.000000</td>\n",
       "      <td>0.293506</td>\n",
       "      <td>2.000000</td>\n",
       "      <td>NaN</td>\n",
       "    </tr>\n",
       "    <tr>\n",
       "      <th>3</th>\n",
       "      <td>NaN</td>\n",
       "      <td>2.562500</td>\n",
       "      <td>5.241558</td>\n",
       "      <td>3.900000</td>\n",
       "      <td>NaN</td>\n",
       "    </tr>\n",
       "    <tr>\n",
       "      <th>4</th>\n",
       "      <td>NaN</td>\n",
       "      <td>649.562500</td>\n",
       "      <td>863.340260</td>\n",
       "      <td>576.808333</td>\n",
       "      <td>NaN</td>\n",
       "    </tr>\n",
       "    <tr>\n",
       "      <th>0</th>\n",
       "      <td>0.0</td>\n",
       "      <td>3.000000</td>\n",
       "      <td>733.000000</td>\n",
       "      <td>62.000000</td>\n",
       "      <td>0.0</td>\n",
       "    </tr>\n",
       "    <tr>\n",
       "      <th>1</th>\n",
       "      <td>NaN</td>\n",
       "      <td>1.000000</td>\n",
       "      <td>0.279673</td>\n",
       "      <td>1.000000</td>\n",
       "      <td>NaN</td>\n",
       "    </tr>\n",
       "    <tr>\n",
       "      <th>2</th>\n",
       "      <td>NaN</td>\n",
       "      <td>2.000000</td>\n",
       "      <td>-2.117326</td>\n",
       "      <td>2.016129</td>\n",
       "      <td>NaN</td>\n",
       "    </tr>\n",
       "    <tr>\n",
       "      <th>3</th>\n",
       "      <td>NaN</td>\n",
       "      <td>2.000000</td>\n",
       "      <td>6.552524</td>\n",
       "      <td>4.016129</td>\n",
       "      <td>NaN</td>\n",
       "    </tr>\n",
       "    <tr>\n",
       "      <th>4</th>\n",
       "      <td>NaN</td>\n",
       "      <td>528.000000</td>\n",
       "      <td>810.017735</td>\n",
       "      <td>587.903226</td>\n",
       "      <td>NaN</td>\n",
       "    </tr>\n",
       "    <tr>\n",
       "      <th>0</th>\n",
       "      <td>0.0</td>\n",
       "      <td>78.000000</td>\n",
       "      <td>352.000000</td>\n",
       "      <td>18.000000</td>\n",
       "      <td>0.0</td>\n",
       "    </tr>\n",
       "    <tr>\n",
       "      <th>1</th>\n",
       "      <td>NaN</td>\n",
       "      <td>0.974359</td>\n",
       "      <td>0.335227</td>\n",
       "      <td>1.000000</td>\n",
       "      <td>NaN</td>\n",
       "    </tr>\n",
       "    <tr>\n",
       "      <th>2</th>\n",
       "      <td>NaN</td>\n",
       "      <td>1.871795</td>\n",
       "      <td>-0.463068</td>\n",
       "      <td>2.111111</td>\n",
       "      <td>NaN</td>\n",
       "    </tr>\n",
       "    <tr>\n",
       "      <th>3</th>\n",
       "      <td>NaN</td>\n",
       "      <td>2.294872</td>\n",
       "      <td>4.829545</td>\n",
       "      <td>4.111111</td>\n",
       "      <td>NaN</td>\n",
       "    </tr>\n",
       "    <tr>\n",
       "      <th>4</th>\n",
       "      <td>NaN</td>\n",
       "      <td>612.423077</td>\n",
       "      <td>769.511364</td>\n",
       "      <td>606.722222</td>\n",
       "      <td>NaN</td>\n",
       "    </tr>\n",
       "    <tr>\n",
       "      <th>0</th>\n",
       "      <td>0.0</td>\n",
       "      <td>41.000000</td>\n",
       "      <td>187.000000</td>\n",
       "      <td>187.000000</td>\n",
       "      <td>0.0</td>\n",
       "    </tr>\n",
       "    <tr>\n",
       "      <th>1</th>\n",
       "      <td>NaN</td>\n",
       "      <td>0.268293</td>\n",
       "      <td>0.133690</td>\n",
       "      <td>1.000000</td>\n",
       "      <td>NaN</td>\n",
       "    </tr>\n",
       "    <tr>\n",
       "      <th>2</th>\n",
       "      <td>NaN</td>\n",
       "      <td>-3.926829</td>\n",
       "      <td>-4.823529</td>\n",
       "      <td>2.106952</td>\n",
       "      <td>NaN</td>\n",
       "    </tr>\n",
       "    <tr>\n",
       "      <th>3</th>\n",
       "      <td>NaN</td>\n",
       "      <td>7.219512</td>\n",
       "      <td>9.197861</td>\n",
       "      <td>4.106952</td>\n",
       "      <td>NaN</td>\n",
       "    </tr>\n",
       "    <tr>\n",
       "      <th>4</th>\n",
       "      <td>NaN</td>\n",
       "      <td>864.487805</td>\n",
       "      <td>880.855615</td>\n",
       "      <td>470.192513</td>\n",
       "      <td>NaN</td>\n",
       "    </tr>\n",
       "  </tbody>\n",
       "</table>\n",
       "</div>"
      ],
      "text/plain": [
       "     0           1            2           3    4\n",
       "0  0.0  487.000000  1333.000000  198.000000  0.0\n",
       "1  NaN    0.743326     0.175544    1.000000  NaN\n",
       "2  NaN   -1.205339    -2.212303    2.045455  NaN\n",
       "3  NaN    5.498973     6.921230    3.318182  NaN\n",
       "4  NaN  623.848049   842.701425  552.944444  NaN\n",
       "0  0.0   16.000000   385.000000  120.000000  0.0\n",
       "1  NaN    1.000000     0.379221    1.000000  NaN\n",
       "2  NaN    2.000000     0.293506    2.000000  NaN\n",
       "3  NaN    2.562500     5.241558    3.900000  NaN\n",
       "4  NaN  649.562500   863.340260  576.808333  NaN\n",
       "0  0.0    3.000000   733.000000   62.000000  0.0\n",
       "1  NaN    1.000000     0.279673    1.000000  NaN\n",
       "2  NaN    2.000000    -2.117326    2.016129  NaN\n",
       "3  NaN    2.000000     6.552524    4.016129  NaN\n",
       "4  NaN  528.000000   810.017735  587.903226  NaN\n",
       "0  0.0   78.000000   352.000000   18.000000  0.0\n",
       "1  NaN    0.974359     0.335227    1.000000  NaN\n",
       "2  NaN    1.871795    -0.463068    2.111111  NaN\n",
       "3  NaN    2.294872     4.829545    4.111111  NaN\n",
       "4  NaN  612.423077   769.511364  606.722222  NaN\n",
       "0  0.0   41.000000   187.000000  187.000000  0.0\n",
       "1  NaN    0.268293     0.133690    1.000000  NaN\n",
       "2  NaN   -3.926829    -4.823529    2.106952  NaN\n",
       "3  NaN    7.219512     9.197861    4.106952  NaN\n",
       "4  NaN  864.487805   880.855615  470.192513  NaN"
      ]
     },
     "execution_count": 118,
     "metadata": {},
     "output_type": "execute_result"
    }
   ],
   "source": [
    "pd.concat([Bid2_15_1,Bid2_15_2,Bid2_15_3,Bid2_15_4,Bid2_15_5])"
   ]
  },
  {
   "cell_type": "code",
   "execution_count": 120,
   "metadata": {
    "collapsed": false,
    "scrolled": true
   },
   "outputs": [],
   "source": [
    "pd.concat([Bid2_15_1,Bid2_15_2,Bid2_15_3,Bid2_15_4,Bid2_15_5]).to_csv('bid2_15_218_227.csv')"
   ]
  },
  {
   "cell_type": "code",
   "execution_count": null,
   "metadata": {
    "collapsed": true
   },
   "outputs": [],
   "source": []
  },
  {
   "cell_type": "code",
   "execution_count": null,
   "metadata": {
    "collapsed": true
   },
   "outputs": [],
   "source": []
  },
  {
   "cell_type": "code",
   "execution_count": 121,
   "metadata": {
    "collapsed": false
   },
   "outputs": [],
   "source": [
    "a = 0\n",
    "Bid3_15_1 = pd.DataFrame([SUM_Bid3_15[a],SUM_Bid3_15[a+1]/SUM_Bid3_15[a],SUM_Bid3_15[a+2]/SUM_Bid3_15[a],SUM_Bid3_15[a+3]/SUM_Bid3_15[a],SUM_Bid3_15[a+4]/SUM_Bid3_15[a]])"
   ]
  },
  {
   "cell_type": "code",
   "execution_count": 122,
   "metadata": {
    "collapsed": false
   },
   "outputs": [],
   "source": [
    "a = 5\n",
    "Bid3_15_2 = pd.DataFrame([SUM_Bid3_15[a],SUM_Bid3_15[a+1]/SUM_Bid3_15[a],SUM_Bid3_15[a+2]/SUM_Bid3_15[a],SUM_Bid3_15[a+3]/SUM_Bid3_15[a],SUM_Bid3_15[a+4]/SUM_Bid3_15[a]])"
   ]
  },
  {
   "cell_type": "code",
   "execution_count": 123,
   "metadata": {
    "collapsed": false
   },
   "outputs": [],
   "source": [
    "a = 10\n",
    "Bid3_15_3 = pd.DataFrame([SUM_Bid3_15[a],SUM_Bid3_15[a+1]/SUM_Bid3_15[a],SUM_Bid3_15[a+2]/SUM_Bid3_15[a],SUM_Bid3_15[a+3]/SUM_Bid3_15[a],SUM_Bid3_15[a+4]/SUM_Bid3_15[a]])"
   ]
  },
  {
   "cell_type": "code",
   "execution_count": 124,
   "metadata": {
    "collapsed": false
   },
   "outputs": [],
   "source": [
    "a = 15\n",
    "Bid3_15_4 = pd.DataFrame([SUM_Bid3_15[a],SUM_Bid3_15[a+1]/SUM_Bid3_15[a],SUM_Bid3_15[a+2]/SUM_Bid3_15[a],SUM_Bid3_15[a+3]/SUM_Bid3_15[a],SUM_Bid3_15[a+4]/SUM_Bid3_15[a]])"
   ]
  },
  {
   "cell_type": "code",
   "execution_count": 125,
   "metadata": {
    "collapsed": false
   },
   "outputs": [],
   "source": [
    "a = 20\n",
    "Bid3_15_5 = pd.DataFrame([SUM_Bid3_15[a],SUM_Bid3_15[a+1]/SUM_Bid3_15[a],SUM_Bid3_15[a+2]/SUM_Bid3_15[a],SUM_Bid3_15[a+3]/SUM_Bid3_15[a],SUM_Bid3_15[a+4]/SUM_Bid3_15[a]])"
   ]
  },
  {
   "cell_type": "code",
   "execution_count": 126,
   "metadata": {
    "collapsed": false,
    "scrolled": true
   },
   "outputs": [
    {
     "data": {
      "text/html": [
       "<div>\n",
       "<table border=\"1\" class=\"dataframe\">\n",
       "  <thead>\n",
       "    <tr style=\"text-align: right;\">\n",
       "      <th></th>\n",
       "      <th>0</th>\n",
       "      <th>1</th>\n",
       "      <th>2</th>\n",
       "      <th>3</th>\n",
       "      <th>4</th>\n",
       "    </tr>\n",
       "  </thead>\n",
       "  <tbody>\n",
       "    <tr>\n",
       "      <th>0</th>\n",
       "      <td>0.0</td>\n",
       "      <td>487.000000</td>\n",
       "      <td>1333.000000</td>\n",
       "      <td>198.000000</td>\n",
       "      <td>0.0</td>\n",
       "    </tr>\n",
       "    <tr>\n",
       "      <th>1</th>\n",
       "      <td>NaN</td>\n",
       "      <td>0.743326</td>\n",
       "      <td>0.164291</td>\n",
       "      <td>1.000000</td>\n",
       "      <td>NaN</td>\n",
       "    </tr>\n",
       "    <tr>\n",
       "      <th>2</th>\n",
       "      <td>NaN</td>\n",
       "      <td>-0.462012</td>\n",
       "      <td>-2.042011</td>\n",
       "      <td>3.045455</td>\n",
       "      <td>NaN</td>\n",
       "    </tr>\n",
       "    <tr>\n",
       "      <th>3</th>\n",
       "      <td>NaN</td>\n",
       "      <td>6.498973</td>\n",
       "      <td>7.921230</td>\n",
       "      <td>4.318182</td>\n",
       "      <td>NaN</td>\n",
       "    </tr>\n",
       "    <tr>\n",
       "      <th>4</th>\n",
       "      <td>NaN</td>\n",
       "      <td>625.874743</td>\n",
       "      <td>860.901725</td>\n",
       "      <td>553.626263</td>\n",
       "      <td>NaN</td>\n",
       "    </tr>\n",
       "    <tr>\n",
       "      <th>0</th>\n",
       "      <td>0.0</td>\n",
       "      <td>16.000000</td>\n",
       "      <td>385.000000</td>\n",
       "      <td>120.000000</td>\n",
       "      <td>0.0</td>\n",
       "    </tr>\n",
       "    <tr>\n",
       "      <th>1</th>\n",
       "      <td>NaN</td>\n",
       "      <td>1.000000</td>\n",
       "      <td>0.379221</td>\n",
       "      <td>1.000000</td>\n",
       "      <td>NaN</td>\n",
       "    </tr>\n",
       "    <tr>\n",
       "      <th>2</th>\n",
       "      <td>NaN</td>\n",
       "      <td>3.000000</td>\n",
       "      <td>0.672727</td>\n",
       "      <td>3.000000</td>\n",
       "      <td>NaN</td>\n",
       "    </tr>\n",
       "    <tr>\n",
       "      <th>3</th>\n",
       "      <td>NaN</td>\n",
       "      <td>3.562500</td>\n",
       "      <td>6.241558</td>\n",
       "      <td>4.900000</td>\n",
       "      <td>NaN</td>\n",
       "    </tr>\n",
       "    <tr>\n",
       "      <th>4</th>\n",
       "      <td>NaN</td>\n",
       "      <td>652.562500</td>\n",
       "      <td>867.441558</td>\n",
       "      <td>576.808333</td>\n",
       "      <td>NaN</td>\n",
       "    </tr>\n",
       "    <tr>\n",
       "      <th>0</th>\n",
       "      <td>0.0</td>\n",
       "      <td>3.000000</td>\n",
       "      <td>733.000000</td>\n",
       "      <td>62.000000</td>\n",
       "      <td>0.0</td>\n",
       "    </tr>\n",
       "    <tr>\n",
       "      <th>1</th>\n",
       "      <td>NaN</td>\n",
       "      <td>1.000000</td>\n",
       "      <td>0.279673</td>\n",
       "      <td>1.000000</td>\n",
       "      <td>NaN</td>\n",
       "    </tr>\n",
       "    <tr>\n",
       "      <th>2</th>\n",
       "      <td>NaN</td>\n",
       "      <td>3.000000</td>\n",
       "      <td>-1.837653</td>\n",
       "      <td>3.016129</td>\n",
       "      <td>NaN</td>\n",
       "    </tr>\n",
       "    <tr>\n",
       "      <th>3</th>\n",
       "      <td>NaN</td>\n",
       "      <td>3.000000</td>\n",
       "      <td>7.552524</td>\n",
       "      <td>5.016129</td>\n",
       "      <td>NaN</td>\n",
       "    </tr>\n",
       "    <tr>\n",
       "      <th>4</th>\n",
       "      <td>NaN</td>\n",
       "      <td>531.000000</td>\n",
       "      <td>813.094134</td>\n",
       "      <td>588.145161</td>\n",
       "      <td>NaN</td>\n",
       "    </tr>\n",
       "    <tr>\n",
       "      <th>0</th>\n",
       "      <td>0.0</td>\n",
       "      <td>78.000000</td>\n",
       "      <td>352.000000</td>\n",
       "      <td>18.000000</td>\n",
       "      <td>0.0</td>\n",
       "    </tr>\n",
       "    <tr>\n",
       "      <th>1</th>\n",
       "      <td>NaN</td>\n",
       "      <td>0.974359</td>\n",
       "      <td>0.335227</td>\n",
       "      <td>1.000000</td>\n",
       "      <td>NaN</td>\n",
       "    </tr>\n",
       "    <tr>\n",
       "      <th>2</th>\n",
       "      <td>NaN</td>\n",
       "      <td>2.846154</td>\n",
       "      <td>-0.127841</td>\n",
       "      <td>3.111111</td>\n",
       "      <td>NaN</td>\n",
       "    </tr>\n",
       "    <tr>\n",
       "      <th>3</th>\n",
       "      <td>NaN</td>\n",
       "      <td>3.294872</td>\n",
       "      <td>5.829545</td>\n",
       "      <td>5.111111</td>\n",
       "      <td>NaN</td>\n",
       "    </tr>\n",
       "    <tr>\n",
       "      <th>4</th>\n",
       "      <td>NaN</td>\n",
       "      <td>615.346154</td>\n",
       "      <td>773.198864</td>\n",
       "      <td>608.388889</td>\n",
       "      <td>NaN</td>\n",
       "    </tr>\n",
       "    <tr>\n",
       "      <th>0</th>\n",
       "      <td>0.0</td>\n",
       "      <td>41.000000</td>\n",
       "      <td>187.000000</td>\n",
       "      <td>187.000000</td>\n",
       "      <td>0.0</td>\n",
       "    </tr>\n",
       "    <tr>\n",
       "      <th>1</th>\n",
       "      <td>NaN</td>\n",
       "      <td>0.268293</td>\n",
       "      <td>0.096257</td>\n",
       "      <td>1.000000</td>\n",
       "      <td>NaN</td>\n",
       "    </tr>\n",
       "    <tr>\n",
       "      <th>2</th>\n",
       "      <td>NaN</td>\n",
       "      <td>-3.658537</td>\n",
       "      <td>-4.770053</td>\n",
       "      <td>3.106952</td>\n",
       "      <td>NaN</td>\n",
       "    </tr>\n",
       "    <tr>\n",
       "      <th>3</th>\n",
       "      <td>NaN</td>\n",
       "      <td>8.219512</td>\n",
       "      <td>10.197861</td>\n",
       "      <td>5.106952</td>\n",
       "      <td>NaN</td>\n",
       "    </tr>\n",
       "    <tr>\n",
       "      <th>4</th>\n",
       "      <td>NaN</td>\n",
       "      <td>864.707317</td>\n",
       "      <td>884.026738</td>\n",
       "      <td>471.796791</td>\n",
       "      <td>NaN</td>\n",
       "    </tr>\n",
       "  </tbody>\n",
       "</table>\n",
       "</div>"
      ],
      "text/plain": [
       "     0           1            2           3    4\n",
       "0  0.0  487.000000  1333.000000  198.000000  0.0\n",
       "1  NaN    0.743326     0.164291    1.000000  NaN\n",
       "2  NaN   -0.462012    -2.042011    3.045455  NaN\n",
       "3  NaN    6.498973     7.921230    4.318182  NaN\n",
       "4  NaN  625.874743   860.901725  553.626263  NaN\n",
       "0  0.0   16.000000   385.000000  120.000000  0.0\n",
       "1  NaN    1.000000     0.379221    1.000000  NaN\n",
       "2  NaN    3.000000     0.672727    3.000000  NaN\n",
       "3  NaN    3.562500     6.241558    4.900000  NaN\n",
       "4  NaN  652.562500   867.441558  576.808333  NaN\n",
       "0  0.0    3.000000   733.000000   62.000000  0.0\n",
       "1  NaN    1.000000     0.279673    1.000000  NaN\n",
       "2  NaN    3.000000    -1.837653    3.016129  NaN\n",
       "3  NaN    3.000000     7.552524    5.016129  NaN\n",
       "4  NaN  531.000000   813.094134  588.145161  NaN\n",
       "0  0.0   78.000000   352.000000   18.000000  0.0\n",
       "1  NaN    0.974359     0.335227    1.000000  NaN\n",
       "2  NaN    2.846154    -0.127841    3.111111  NaN\n",
       "3  NaN    3.294872     5.829545    5.111111  NaN\n",
       "4  NaN  615.346154   773.198864  608.388889  NaN\n",
       "0  0.0   41.000000   187.000000  187.000000  0.0\n",
       "1  NaN    0.268293     0.096257    1.000000  NaN\n",
       "2  NaN   -3.658537    -4.770053    3.106952  NaN\n",
       "3  NaN    8.219512    10.197861    5.106952  NaN\n",
       "4  NaN  864.707317   884.026738  471.796791  NaN"
      ]
     },
     "execution_count": 126,
     "metadata": {},
     "output_type": "execute_result"
    }
   ],
   "source": [
    "pd.concat([Bid3_15_1,Bid3_15_2,Bid3_15_3,Bid3_15_4,Bid3_15_5])"
   ]
  },
  {
   "cell_type": "code",
   "execution_count": 127,
   "metadata": {
    "collapsed": true
   },
   "outputs": [],
   "source": [
    "pd.concat([Bid3_15_1,Bid3_15_2,Bid3_15_3,Bid3_15_4,Bid3_15_5]).to_csv('bid3_15_218_227.csv')"
   ]
  },
  {
   "cell_type": "code",
   "execution_count": null,
   "metadata": {
    "collapsed": true
   },
   "outputs": [],
   "source": []
  },
  {
   "cell_type": "code",
   "execution_count": null,
   "metadata": {
    "collapsed": true
   },
   "outputs": [],
   "source": []
  },
  {
   "cell_type": "code",
   "execution_count": 128,
   "metadata": {
    "collapsed": false
   },
   "outputs": [],
   "source": [
    "a = 0\n",
    "Bid1_11_1 = pd.DataFrame([SUM_Bid1_11[a],SUM_Bid1_11[a+1]/SUM_Bid1_11[a],SUM_Bid1_11[a+2]/SUM_Bid1_11[a],SUM_Bid1_11[a+3]/SUM_Bid1_11[a],SUM_Bid1_11[a+4]/SUM_Bid1_11[a]])"
   ]
  },
  {
   "cell_type": "code",
   "execution_count": 129,
   "metadata": {
    "collapsed": false
   },
   "outputs": [],
   "source": [
    "a = 5\n",
    "Bid1_11_2 = pd.DataFrame([SUM_Bid1_11[a],SUM_Bid1_11[a+1]/SUM_Bid1_11[a],SUM_Bid1_11[a+2]/SUM_Bid1_11[a],SUM_Bid1_11[a+3]/SUM_Bid1_11[a],SUM_Bid1_11[a+4]/SUM_Bid1_11[a]])"
   ]
  },
  {
   "cell_type": "code",
   "execution_count": 130,
   "metadata": {
    "collapsed": false
   },
   "outputs": [],
   "source": [
    "a = 10\n",
    "Bid1_11_3 = pd.DataFrame([SUM_Bid1_11[a],SUM_Bid1_11[a+1]/SUM_Bid1_11[a],SUM_Bid1_11[a+2]/SUM_Bid1_11[a],SUM_Bid1_11[a+3]/SUM_Bid1_11[a],SUM_Bid1_11[a+4]/SUM_Bid1_11[a]])"
   ]
  },
  {
   "cell_type": "code",
   "execution_count": 131,
   "metadata": {
    "collapsed": false
   },
   "outputs": [],
   "source": [
    "a = 15\n",
    "Bid1_11_4 = pd.DataFrame([SUM_Bid1_11[a],SUM_Bid1_11[a+1]/SUM_Bid1_11[a],SUM_Bid1_11[a+2]/SUM_Bid1_11[a],SUM_Bid1_11[a+3]/SUM_Bid1_11[a],SUM_Bid1_11[a+4]/SUM_Bid1_11[a]])"
   ]
  },
  {
   "cell_type": "code",
   "execution_count": 132,
   "metadata": {
    "collapsed": false
   },
   "outputs": [],
   "source": [
    "a = 20\n",
    "Bid1_11_5 = pd.DataFrame([SUM_Bid1_11[a],SUM_Bid1_11[a+1]/SUM_Bid1_11[a],SUM_Bid1_11[a+2]/SUM_Bid1_11[a],SUM_Bid1_11[a+3]/SUM_Bid1_11[a],SUM_Bid1_11[a+4]/SUM_Bid1_11[a]])"
   ]
  },
  {
   "cell_type": "code",
   "execution_count": 133,
   "metadata": {
    "collapsed": false,
    "scrolled": true
   },
   "outputs": [
    {
     "data": {
      "text/html": [
       "<div>\n",
       "<table border=\"1\" class=\"dataframe\">\n",
       "  <thead>\n",
       "    <tr style=\"text-align: right;\">\n",
       "      <th></th>\n",
       "      <th>0</th>\n",
       "      <th>1</th>\n",
       "      <th>2</th>\n",
       "      <th>3</th>\n",
       "      <th>4</th>\n",
       "    </tr>\n",
       "  </thead>\n",
       "  <tbody>\n",
       "    <tr>\n",
       "      <th>0</th>\n",
       "      <td>391.000000</td>\n",
       "      <td>1276.000000</td>\n",
       "      <td>4210.000000</td>\n",
       "      <td>767.000000</td>\n",
       "      <td>430.000000</td>\n",
       "    </tr>\n",
       "    <tr>\n",
       "      <th>1</th>\n",
       "      <td>0.918159</td>\n",
       "      <td>0.836991</td>\n",
       "      <td>0.770071</td>\n",
       "      <td>0.900913</td>\n",
       "      <td>0.934884</td>\n",
       "    </tr>\n",
       "    <tr>\n",
       "      <th>2</th>\n",
       "      <td>0.677749</td>\n",
       "      <td>0.532915</td>\n",
       "      <td>0.483135</td>\n",
       "      <td>0.538462</td>\n",
       "      <td>0.962791</td>\n",
       "    </tr>\n",
       "    <tr>\n",
       "      <th>3</th>\n",
       "      <td>2.069054</td>\n",
       "      <td>2.059561</td>\n",
       "      <td>2.190736</td>\n",
       "      <td>1.895698</td>\n",
       "      <td>2.637209</td>\n",
       "    </tr>\n",
       "    <tr>\n",
       "      <th>4</th>\n",
       "      <td>276.647059</td>\n",
       "      <td>314.146552</td>\n",
       "      <td>368.535392</td>\n",
       "      <td>243.807040</td>\n",
       "      <td>326.104651</td>\n",
       "    </tr>\n",
       "    <tr>\n",
       "      <th>0</th>\n",
       "      <td>542.000000</td>\n",
       "      <td>2011.000000</td>\n",
       "      <td>5005.000000</td>\n",
       "      <td>1047.000000</td>\n",
       "      <td>427.000000</td>\n",
       "    </tr>\n",
       "    <tr>\n",
       "      <th>1</th>\n",
       "      <td>0.822878</td>\n",
       "      <td>0.749378</td>\n",
       "      <td>0.714685</td>\n",
       "      <td>0.840497</td>\n",
       "      <td>0.953162</td>\n",
       "    </tr>\n",
       "    <tr>\n",
       "      <th>2</th>\n",
       "      <td>0.416974</td>\n",
       "      <td>0.205370</td>\n",
       "      <td>0.270729</td>\n",
       "      <td>0.663801</td>\n",
       "      <td>1.060890</td>\n",
       "    </tr>\n",
       "    <tr>\n",
       "      <th>3</th>\n",
       "      <td>2.667897</td>\n",
       "      <td>2.563401</td>\n",
       "      <td>2.575624</td>\n",
       "      <td>2.477555</td>\n",
       "      <td>2.526932</td>\n",
       "    </tr>\n",
       "    <tr>\n",
       "      <th>4</th>\n",
       "      <td>313.285978</td>\n",
       "      <td>406.150671</td>\n",
       "      <td>436.222777</td>\n",
       "      <td>366.024833</td>\n",
       "      <td>321.494145</td>\n",
       "    </tr>\n",
       "    <tr>\n",
       "      <th>0</th>\n",
       "      <td>550.000000</td>\n",
       "      <td>2712.000000</td>\n",
       "      <td>5644.000000</td>\n",
       "      <td>1100.000000</td>\n",
       "      <td>368.000000</td>\n",
       "    </tr>\n",
       "    <tr>\n",
       "      <th>1</th>\n",
       "      <td>0.807273</td>\n",
       "      <td>0.694690</td>\n",
       "      <td>0.642984</td>\n",
       "      <td>0.773636</td>\n",
       "      <td>0.771739</td>\n",
       "    </tr>\n",
       "    <tr>\n",
       "      <th>2</th>\n",
       "      <td>0.498182</td>\n",
       "      <td>0.346608</td>\n",
       "      <td>0.105422</td>\n",
       "      <td>0.604545</td>\n",
       "      <td>0.516304</td>\n",
       "    </tr>\n",
       "    <tr>\n",
       "      <th>3</th>\n",
       "      <td>2.743636</td>\n",
       "      <td>2.612094</td>\n",
       "      <td>2.966513</td>\n",
       "      <td>2.548182</td>\n",
       "      <td>3.103261</td>\n",
       "    </tr>\n",
       "    <tr>\n",
       "      <th>4</th>\n",
       "      <td>459.100000</td>\n",
       "      <td>458.362832</td>\n",
       "      <td>504.344082</td>\n",
       "      <td>365.916364</td>\n",
       "      <td>253.904891</td>\n",
       "    </tr>\n",
       "    <tr>\n",
       "      <th>0</th>\n",
       "      <td>397.000000</td>\n",
       "      <td>1962.000000</td>\n",
       "      <td>4132.000000</td>\n",
       "      <td>734.000000</td>\n",
       "      <td>247.000000</td>\n",
       "    </tr>\n",
       "    <tr>\n",
       "      <th>1</th>\n",
       "      <td>0.884131</td>\n",
       "      <td>0.628440</td>\n",
       "      <td>0.612052</td>\n",
       "      <td>0.756131</td>\n",
       "      <td>0.757085</td>\n",
       "    </tr>\n",
       "    <tr>\n",
       "      <th>2</th>\n",
       "      <td>0.554156</td>\n",
       "      <td>0.097350</td>\n",
       "      <td>0.122217</td>\n",
       "      <td>0.422343</td>\n",
       "      <td>0.554656</td>\n",
       "    </tr>\n",
       "    <tr>\n",
       "      <th>3</th>\n",
       "      <td>2.541562</td>\n",
       "      <td>2.897554</td>\n",
       "      <td>2.931752</td>\n",
       "      <td>2.886921</td>\n",
       "      <td>3.186235</td>\n",
       "    </tr>\n",
       "    <tr>\n",
       "      <th>4</th>\n",
       "      <td>387.833753</td>\n",
       "      <td>514.327727</td>\n",
       "      <td>547.274685</td>\n",
       "      <td>436.470027</td>\n",
       "      <td>255.866397</td>\n",
       "    </tr>\n",
       "    <tr>\n",
       "      <th>0</th>\n",
       "      <td>608.000000</td>\n",
       "      <td>3127.000000</td>\n",
       "      <td>6731.000000</td>\n",
       "      <td>1426.000000</td>\n",
       "      <td>356.000000</td>\n",
       "    </tr>\n",
       "    <tr>\n",
       "      <th>1</th>\n",
       "      <td>0.812500</td>\n",
       "      <td>0.589063</td>\n",
       "      <td>0.539444</td>\n",
       "      <td>0.655680</td>\n",
       "      <td>0.679775</td>\n",
       "    </tr>\n",
       "    <tr>\n",
       "      <th>2</th>\n",
       "      <td>0.560855</td>\n",
       "      <td>0.043492</td>\n",
       "      <td>-0.639727</td>\n",
       "      <td>-0.117111</td>\n",
       "      <td>0.376404</td>\n",
       "    </tr>\n",
       "    <tr>\n",
       "      <th>3</th>\n",
       "      <td>2.751645</td>\n",
       "      <td>3.191877</td>\n",
       "      <td>3.683554</td>\n",
       "      <td>3.569425</td>\n",
       "      <td>3.485955</td>\n",
       "    </tr>\n",
       "    <tr>\n",
       "      <th>4</th>\n",
       "      <td>525.550987</td>\n",
       "      <td>583.902462</td>\n",
       "      <td>600.015451</td>\n",
       "      <td>524.913043</td>\n",
       "      <td>231.738764</td>\n",
       "    </tr>\n",
       "  </tbody>\n",
       "</table>\n",
       "</div>"
      ],
      "text/plain": [
       "            0            1            2            3           4\n",
       "0  391.000000  1276.000000  4210.000000   767.000000  430.000000\n",
       "1    0.918159     0.836991     0.770071     0.900913    0.934884\n",
       "2    0.677749     0.532915     0.483135     0.538462    0.962791\n",
       "3    2.069054     2.059561     2.190736     1.895698    2.637209\n",
       "4  276.647059   314.146552   368.535392   243.807040  326.104651\n",
       "0  542.000000  2011.000000  5005.000000  1047.000000  427.000000\n",
       "1    0.822878     0.749378     0.714685     0.840497    0.953162\n",
       "2    0.416974     0.205370     0.270729     0.663801    1.060890\n",
       "3    2.667897     2.563401     2.575624     2.477555    2.526932\n",
       "4  313.285978   406.150671   436.222777   366.024833  321.494145\n",
       "0  550.000000  2712.000000  5644.000000  1100.000000  368.000000\n",
       "1    0.807273     0.694690     0.642984     0.773636    0.771739\n",
       "2    0.498182     0.346608     0.105422     0.604545    0.516304\n",
       "3    2.743636     2.612094     2.966513     2.548182    3.103261\n",
       "4  459.100000   458.362832   504.344082   365.916364  253.904891\n",
       "0  397.000000  1962.000000  4132.000000   734.000000  247.000000\n",
       "1    0.884131     0.628440     0.612052     0.756131    0.757085\n",
       "2    0.554156     0.097350     0.122217     0.422343    0.554656\n",
       "3    2.541562     2.897554     2.931752     2.886921    3.186235\n",
       "4  387.833753   514.327727   547.274685   436.470027  255.866397\n",
       "0  608.000000  3127.000000  6731.000000  1426.000000  356.000000\n",
       "1    0.812500     0.589063     0.539444     0.655680    0.679775\n",
       "2    0.560855     0.043492    -0.639727    -0.117111    0.376404\n",
       "3    2.751645     3.191877     3.683554     3.569425    3.485955\n",
       "4  525.550987   583.902462   600.015451   524.913043  231.738764"
      ]
     },
     "execution_count": 133,
     "metadata": {},
     "output_type": "execute_result"
    }
   ],
   "source": [
    "pd.concat([Bid1_11_1,Bid1_11_2,Bid1_11_3,Bid1_11_4,Bid1_11_5])"
   ]
  },
  {
   "cell_type": "code",
   "execution_count": 134,
   "metadata": {
    "collapsed": true
   },
   "outputs": [],
   "source": [
    "pd.concat([Bid1_11_1,Bid1_11_2,Bid1_11_3,Bid1_11_4,Bid1_11_5]).to_csv('bid1_11_218_227.csv')"
   ]
  },
  {
   "cell_type": "code",
   "execution_count": null,
   "metadata": {
    "collapsed": true
   },
   "outputs": [],
   "source": []
  },
  {
   "cell_type": "code",
   "execution_count": 135,
   "metadata": {
    "collapsed": false
   },
   "outputs": [],
   "source": [
    "a = 0\n",
    "Bid2_11_1 = pd.DataFrame([SUM_Bid2_11[a],SUM_Bid2_11[a+1]/SUM_Bid2_11[a],SUM_Bid2_11[a+2]/SUM_Bid2_11[a],SUM_Bid2_11[a+3]/SUM_Bid2_11[a],SUM_Bid2_11[a+4]/SUM_Bid2_11[a]])"
   ]
  },
  {
   "cell_type": "code",
   "execution_count": 136,
   "metadata": {
    "collapsed": false
   },
   "outputs": [],
   "source": [
    "a = 5\n",
    "Bid2_11_2 = pd.DataFrame([SUM_Bid2_11[a],SUM_Bid2_11[a+1]/SUM_Bid2_11[a],SUM_Bid2_11[a+2]/SUM_Bid2_11[a],SUM_Bid2_11[a+3]/SUM_Bid2_11[a],SUM_Bid2_11[a+4]/SUM_Bid2_11[a]])"
   ]
  },
  {
   "cell_type": "code",
   "execution_count": 137,
   "metadata": {
    "collapsed": false
   },
   "outputs": [],
   "source": [
    "a = 10\n",
    "Bid2_11_3 = pd.DataFrame([SUM_Bid2_11[a],SUM_Bid2_11[a+1]/SUM_Bid2_11[a],SUM_Bid2_11[a+2]/SUM_Bid2_11[a],SUM_Bid2_11[a+3]/SUM_Bid2_11[a],SUM_Bid2_11[a+4]/SUM_Bid2_11[a]])"
   ]
  },
  {
   "cell_type": "code",
   "execution_count": 138,
   "metadata": {
    "collapsed": false
   },
   "outputs": [],
   "source": [
    "a = 15\n",
    "Bid2_11_4 = pd.DataFrame([SUM_Bid2_11[a],SUM_Bid2_11[a+1]/SUM_Bid2_11[a],SUM_Bid2_11[a+2]/SUM_Bid2_11[a],SUM_Bid2_11[a+3]/SUM_Bid2_11[a],SUM_Bid2_11[a+4]/SUM_Bid2_11[a]])"
   ]
  },
  {
   "cell_type": "code",
   "execution_count": 139,
   "metadata": {
    "collapsed": false
   },
   "outputs": [],
   "source": [
    "a = 20\n",
    "Bid2_11_5 = pd.DataFrame([SUM_Bid2_11[a],SUM_Bid2_11[a+1]/SUM_Bid2_11[a],SUM_Bid2_11[a+2]/SUM_Bid2_11[a],SUM_Bid2_11[a+3]/SUM_Bid2_11[a],SUM_Bid2_11[a+4]/SUM_Bid2_11[a]])"
   ]
  },
  {
   "cell_type": "code",
   "execution_count": 140,
   "metadata": {
    "collapsed": false,
    "scrolled": true
   },
   "outputs": [
    {
     "data": {
      "text/html": [
       "<div>\n",
       "<table border=\"1\" class=\"dataframe\">\n",
       "  <thead>\n",
       "    <tr style=\"text-align: right;\">\n",
       "      <th></th>\n",
       "      <th>0</th>\n",
       "      <th>1</th>\n",
       "      <th>2</th>\n",
       "      <th>3</th>\n",
       "      <th>4</th>\n",
       "    </tr>\n",
       "  </thead>\n",
       "  <tbody>\n",
       "    <tr>\n",
       "      <th>0</th>\n",
       "      <td>391.000000</td>\n",
       "      <td>1276.000000</td>\n",
       "      <td>4210.000000</td>\n",
       "      <td>767.000000</td>\n",
       "      <td>430.000000</td>\n",
       "    </tr>\n",
       "    <tr>\n",
       "      <th>1</th>\n",
       "      <td>0.764706</td>\n",
       "      <td>0.652038</td>\n",
       "      <td>0.592637</td>\n",
       "      <td>0.722295</td>\n",
       "      <td>0.909302</td>\n",
       "    </tr>\n",
       "    <tr>\n",
       "      <th>2</th>\n",
       "      <td>1.156010</td>\n",
       "      <td>0.921630</td>\n",
       "      <td>0.882898</td>\n",
       "      <td>0.943937</td>\n",
       "      <td>1.818605</td>\n",
       "    </tr>\n",
       "    <tr>\n",
       "      <th>3</th>\n",
       "      <td>3.409207</td>\n",
       "      <td>3.314263</td>\n",
       "      <td>3.426366</td>\n",
       "      <td>3.367666</td>\n",
       "      <td>3.751163</td>\n",
       "    </tr>\n",
       "    <tr>\n",
       "      <th>4</th>\n",
       "      <td>497.176471</td>\n",
       "      <td>506.474138</td>\n",
       "      <td>560.228029</td>\n",
       "      <td>458.691004</td>\n",
       "      <td>461.272093</td>\n",
       "    </tr>\n",
       "    <tr>\n",
       "      <th>0</th>\n",
       "      <td>542.000000</td>\n",
       "      <td>2011.000000</td>\n",
       "      <td>5005.000000</td>\n",
       "      <td>1047.000000</td>\n",
       "      <td>427.000000</td>\n",
       "    </tr>\n",
       "    <tr>\n",
       "      <th>1</th>\n",
       "      <td>0.690037</td>\n",
       "      <td>0.574341</td>\n",
       "      <td>0.511888</td>\n",
       "      <td>0.605540</td>\n",
       "      <td>0.864169</td>\n",
       "    </tr>\n",
       "    <tr>\n",
       "      <th>2</th>\n",
       "      <td>0.802583</td>\n",
       "      <td>0.591248</td>\n",
       "      <td>0.586813</td>\n",
       "      <td>1.122254</td>\n",
       "      <td>1.784543</td>\n",
       "    </tr>\n",
       "    <tr>\n",
       "      <th>3</th>\n",
       "      <td>3.987085</td>\n",
       "      <td>3.769269</td>\n",
       "      <td>3.822378</td>\n",
       "      <td>3.663801</td>\n",
       "      <td>3.770492</td>\n",
       "    </tr>\n",
       "    <tr>\n",
       "      <th>4</th>\n",
       "      <td>560.047970</td>\n",
       "      <td>591.594232</td>\n",
       "      <td>635.405994</td>\n",
       "      <td>551.232092</td>\n",
       "      <td>404.730679</td>\n",
       "    </tr>\n",
       "    <tr>\n",
       "      <th>0</th>\n",
       "      <td>550.000000</td>\n",
       "      <td>2712.000000</td>\n",
       "      <td>5644.000000</td>\n",
       "      <td>1100.000000</td>\n",
       "      <td>368.000000</td>\n",
       "    </tr>\n",
       "    <tr>\n",
       "      <th>1</th>\n",
       "      <td>0.620000</td>\n",
       "      <td>0.543510</td>\n",
       "      <td>0.434089</td>\n",
       "      <td>0.583636</td>\n",
       "      <td>0.573370</td>\n",
       "    </tr>\n",
       "    <tr>\n",
       "      <th>2</th>\n",
       "      <td>0.800000</td>\n",
       "      <td>0.695428</td>\n",
       "      <td>0.296067</td>\n",
       "      <td>0.988182</td>\n",
       "      <td>0.766304</td>\n",
       "    </tr>\n",
       "    <tr>\n",
       "      <th>3</th>\n",
       "      <td>3.918182</td>\n",
       "      <td>3.834808</td>\n",
       "      <td>4.182672</td>\n",
       "      <td>3.870000</td>\n",
       "      <td>4.771739</td>\n",
       "    </tr>\n",
       "    <tr>\n",
       "      <th>4</th>\n",
       "      <td>749.656364</td>\n",
       "      <td>624.323746</td>\n",
       "      <td>675.036322</td>\n",
       "      <td>540.020000</td>\n",
       "      <td>288.782609</td>\n",
       "    </tr>\n",
       "    <tr>\n",
       "      <th>0</th>\n",
       "      <td>397.000000</td>\n",
       "      <td>1962.000000</td>\n",
       "      <td>4132.000000</td>\n",
       "      <td>734.000000</td>\n",
       "      <td>247.000000</td>\n",
       "    </tr>\n",
       "    <tr>\n",
       "      <th>1</th>\n",
       "      <td>0.652393</td>\n",
       "      <td>0.445973</td>\n",
       "      <td>0.439255</td>\n",
       "      <td>0.523161</td>\n",
       "      <td>0.668016</td>\n",
       "    </tr>\n",
       "    <tr>\n",
       "      <th>2</th>\n",
       "      <td>0.858942</td>\n",
       "      <td>0.331804</td>\n",
       "      <td>0.373427</td>\n",
       "      <td>0.742507</td>\n",
       "      <td>1.165992</td>\n",
       "    </tr>\n",
       "    <tr>\n",
       "      <th>3</th>\n",
       "      <td>3.894207</td>\n",
       "      <td>4.067788</td>\n",
       "      <td>4.067280</td>\n",
       "      <td>4.181199</td>\n",
       "      <td>4.364372</td>\n",
       "    </tr>\n",
       "    <tr>\n",
       "      <th>4</th>\n",
       "      <td>654.146096</td>\n",
       "      <td>697.866972</td>\n",
       "      <td>697.125847</td>\n",
       "      <td>595.528610</td>\n",
       "      <td>321.510121</td>\n",
       "    </tr>\n",
       "    <tr>\n",
       "      <th>0</th>\n",
       "      <td>608.000000</td>\n",
       "      <td>3127.000000</td>\n",
       "      <td>6731.000000</td>\n",
       "      <td>1426.000000</td>\n",
       "      <td>356.000000</td>\n",
       "    </tr>\n",
       "    <tr>\n",
       "      <th>1</th>\n",
       "      <td>0.649671</td>\n",
       "      <td>0.387272</td>\n",
       "      <td>0.367850</td>\n",
       "      <td>0.474755</td>\n",
       "      <td>0.578652</td>\n",
       "    </tr>\n",
       "    <tr>\n",
       "      <th>2</th>\n",
       "      <td>0.967105</td>\n",
       "      <td>0.271506</td>\n",
       "      <td>-0.461001</td>\n",
       "      <td>0.353436</td>\n",
       "      <td>0.924157</td>\n",
       "    </tr>\n",
       "    <tr>\n",
       "      <th>3</th>\n",
       "      <td>3.840461</td>\n",
       "      <td>4.322993</td>\n",
       "      <td>4.820978</td>\n",
       "      <td>4.629032</td>\n",
       "      <td>4.811798</td>\n",
       "    </tr>\n",
       "    <tr>\n",
       "      <th>4</th>\n",
       "      <td>725.120066</td>\n",
       "      <td>740.640230</td>\n",
       "      <td>748.691873</td>\n",
       "      <td>637.268583</td>\n",
       "      <td>239.879213</td>\n",
       "    </tr>\n",
       "  </tbody>\n",
       "</table>\n",
       "</div>"
      ],
      "text/plain": [
       "            0            1            2            3           4\n",
       "0  391.000000  1276.000000  4210.000000   767.000000  430.000000\n",
       "1    0.764706     0.652038     0.592637     0.722295    0.909302\n",
       "2    1.156010     0.921630     0.882898     0.943937    1.818605\n",
       "3    3.409207     3.314263     3.426366     3.367666    3.751163\n",
       "4  497.176471   506.474138   560.228029   458.691004  461.272093\n",
       "0  542.000000  2011.000000  5005.000000  1047.000000  427.000000\n",
       "1    0.690037     0.574341     0.511888     0.605540    0.864169\n",
       "2    0.802583     0.591248     0.586813     1.122254    1.784543\n",
       "3    3.987085     3.769269     3.822378     3.663801    3.770492\n",
       "4  560.047970   591.594232   635.405994   551.232092  404.730679\n",
       "0  550.000000  2712.000000  5644.000000  1100.000000  368.000000\n",
       "1    0.620000     0.543510     0.434089     0.583636    0.573370\n",
       "2    0.800000     0.695428     0.296067     0.988182    0.766304\n",
       "3    3.918182     3.834808     4.182672     3.870000    4.771739\n",
       "4  749.656364   624.323746   675.036322   540.020000  288.782609\n",
       "0  397.000000  1962.000000  4132.000000   734.000000  247.000000\n",
       "1    0.652393     0.445973     0.439255     0.523161    0.668016\n",
       "2    0.858942     0.331804     0.373427     0.742507    1.165992\n",
       "3    3.894207     4.067788     4.067280     4.181199    4.364372\n",
       "4  654.146096   697.866972   697.125847   595.528610  321.510121\n",
       "0  608.000000  3127.000000  6731.000000  1426.000000  356.000000\n",
       "1    0.649671     0.387272     0.367850     0.474755    0.578652\n",
       "2    0.967105     0.271506    -0.461001     0.353436    0.924157\n",
       "3    3.840461     4.322993     4.820978     4.629032    4.811798\n",
       "4  725.120066   740.640230   748.691873   637.268583  239.879213"
      ]
     },
     "execution_count": 140,
     "metadata": {},
     "output_type": "execute_result"
    }
   ],
   "source": [
    "pd.concat([Bid2_11_1,Bid2_11_2,Bid2_11_3,Bid2_11_4,Bid2_11_5])"
   ]
  },
  {
   "cell_type": "code",
   "execution_count": 141,
   "metadata": {
    "collapsed": true
   },
   "outputs": [],
   "source": [
    "pd.concat([Bid2_11_1,Bid2_11_2,Bid2_11_3,Bid2_11_4,Bid2_11_5]).to_csv('bid2_11_218_227.csv')"
   ]
  },
  {
   "cell_type": "code",
   "execution_count": null,
   "metadata": {
    "collapsed": true
   },
   "outputs": [],
   "source": []
  },
  {
   "cell_type": "code",
   "execution_count": 142,
   "metadata": {
    "collapsed": false
   },
   "outputs": [],
   "source": [
    "a = 0\n",
    "Bid3_11_1 = pd.DataFrame([SUM_Bid3_11[a],SUM_Bid3_11[a+1]/SUM_Bid3_11[a],SUM_Bid3_11[a+2]/SUM_Bid3_11[a],SUM_Bid3_11[a+3]/SUM_Bid3_11[a],SUM_Bid3_11[a+4]/SUM_Bid3_11[a]])"
   ]
  },
  {
   "cell_type": "code",
   "execution_count": 143,
   "metadata": {
    "collapsed": false
   },
   "outputs": [],
   "source": [
    "a = 5\n",
    "Bid3_11_2 = pd.DataFrame([SUM_Bid3_11[a],SUM_Bid3_11[a+1]/SUM_Bid3_11[a],SUM_Bid3_11[a+2]/SUM_Bid3_11[a],SUM_Bid3_11[a+3]/SUM_Bid3_11[a],SUM_Bid3_11[a+4]/SUM_Bid3_11[a]])"
   ]
  },
  {
   "cell_type": "code",
   "execution_count": 144,
   "metadata": {
    "collapsed": false
   },
   "outputs": [],
   "source": [
    "a = 10\n",
    "Bid3_11_3 = pd.DataFrame([SUM_Bid3_11[a],SUM_Bid3_11[a+1]/SUM_Bid3_11[a],SUM_Bid3_11[a+2]/SUM_Bid3_11[a],SUM_Bid3_11[a+3]/SUM_Bid3_11[a],SUM_Bid3_11[a+4]/SUM_Bid3_11[a]])"
   ]
  },
  {
   "cell_type": "code",
   "execution_count": 145,
   "metadata": {
    "collapsed": false
   },
   "outputs": [],
   "source": [
    "a = 15\n",
    "Bid3_11_4 = pd.DataFrame([SUM_Bid3_11[a],SUM_Bid3_11[a+1]/SUM_Bid3_11[a],SUM_Bid3_11[a+2]/SUM_Bid3_11[a],SUM_Bid3_11[a+3]/SUM_Bid3_11[a],SUM_Bid3_11[a+4]/SUM_Bid3_11[a]])"
   ]
  },
  {
   "cell_type": "code",
   "execution_count": 146,
   "metadata": {
    "collapsed": false
   },
   "outputs": [],
   "source": [
    "a = 20\n",
    "Bid3_11_5 = pd.DataFrame([SUM_Bid3_11[a],SUM_Bid3_11[a+1]/SUM_Bid3_11[a],SUM_Bid3_11[a+2]/SUM_Bid3_11[a],SUM_Bid3_11[a+3]/SUM_Bid3_11[a],SUM_Bid3_11[a+4]/SUM_Bid3_11[a]])"
   ]
  },
  {
   "cell_type": "code",
   "execution_count": 147,
   "metadata": {
    "collapsed": false,
    "scrolled": true
   },
   "outputs": [
    {
     "data": {
      "text/html": [
       "<div>\n",
       "<table border=\"1\" class=\"dataframe\">\n",
       "  <thead>\n",
       "    <tr style=\"text-align: right;\">\n",
       "      <th></th>\n",
       "      <th>0</th>\n",
       "      <th>1</th>\n",
       "      <th>2</th>\n",
       "      <th>3</th>\n",
       "      <th>4</th>\n",
       "    </tr>\n",
       "  </thead>\n",
       "  <tbody>\n",
       "    <tr>\n",
       "      <th>0</th>\n",
       "      <td>391.000000</td>\n",
       "      <td>1276.000000</td>\n",
       "      <td>4210.000000</td>\n",
       "      <td>767.000000</td>\n",
       "      <td>430.000000</td>\n",
       "    </tr>\n",
       "    <tr>\n",
       "      <th>1</th>\n",
       "      <td>0.529412</td>\n",
       "      <td>0.503918</td>\n",
       "      <td>0.360570</td>\n",
       "      <td>0.524120</td>\n",
       "      <td>0.751163</td>\n",
       "    </tr>\n",
       "    <tr>\n",
       "      <th>2</th>\n",
       "      <td>1.265985</td>\n",
       "      <td>1.199843</td>\n",
       "      <td>1.168646</td>\n",
       "      <td>1.478488</td>\n",
       "      <td>2.590698</td>\n",
       "    </tr>\n",
       "    <tr>\n",
       "      <th>3</th>\n",
       "      <td>4.526854</td>\n",
       "      <td>4.513323</td>\n",
       "      <td>4.517815</td>\n",
       "      <td>4.421121</td>\n",
       "      <td>4.874419</td>\n",
       "    </tr>\n",
       "    <tr>\n",
       "      <th>4</th>\n",
       "      <td>836.276215</td>\n",
       "      <td>660.154389</td>\n",
       "      <td>707.171496</td>\n",
       "      <td>627.243807</td>\n",
       "      <td>443.927907</td>\n",
       "    </tr>\n",
       "    <tr>\n",
       "      <th>0</th>\n",
       "      <td>542.000000</td>\n",
       "      <td>2011.000000</td>\n",
       "      <td>5005.000000</td>\n",
       "      <td>1047.000000</td>\n",
       "      <td>427.000000</td>\n",
       "    </tr>\n",
       "    <tr>\n",
       "      <th>1</th>\n",
       "      <td>0.494465</td>\n",
       "      <td>0.481850</td>\n",
       "      <td>0.328072</td>\n",
       "      <td>0.390640</td>\n",
       "      <td>0.782201</td>\n",
       "    </tr>\n",
       "    <tr>\n",
       "      <th>2</th>\n",
       "      <td>0.809963</td>\n",
       "      <td>0.974142</td>\n",
       "      <td>0.847752</td>\n",
       "      <td>1.386819</td>\n",
       "      <td>2.569087</td>\n",
       "    </tr>\n",
       "    <tr>\n",
       "      <th>3</th>\n",
       "      <td>5.217712</td>\n",
       "      <td>4.836400</td>\n",
       "      <td>4.868731</td>\n",
       "      <td>4.734479</td>\n",
       "      <td>4.822014</td>\n",
       "    </tr>\n",
       "    <tr>\n",
       "      <th>4</th>\n",
       "      <td>797.822878</td>\n",
       "      <td>699.723521</td>\n",
       "      <td>749.986214</td>\n",
       "      <td>706.257880</td>\n",
       "      <td>413.526932</td>\n",
       "    </tr>\n",
       "    <tr>\n",
       "      <th>0</th>\n",
       "      <td>550.000000</td>\n",
       "      <td>2712.000000</td>\n",
       "      <td>5644.000000</td>\n",
       "      <td>1100.000000</td>\n",
       "      <td>368.000000</td>\n",
       "    </tr>\n",
       "    <tr>\n",
       "      <th>1</th>\n",
       "      <td>0.554545</td>\n",
       "      <td>0.414823</td>\n",
       "      <td>0.273210</td>\n",
       "      <td>0.438182</td>\n",
       "      <td>0.500000</td>\n",
       "    </tr>\n",
       "    <tr>\n",
       "      <th>2</th>\n",
       "      <td>1.189091</td>\n",
       "      <td>1.008850</td>\n",
       "      <td>0.495393</td>\n",
       "      <td>1.331818</td>\n",
       "      <td>1.288043</td>\n",
       "    </tr>\n",
       "    <tr>\n",
       "      <th>3</th>\n",
       "      <td>4.963636</td>\n",
       "      <td>4.898230</td>\n",
       "      <td>5.217753</td>\n",
       "      <td>4.929091</td>\n",
       "      <td>5.782609</td>\n",
       "    </tr>\n",
       "    <tr>\n",
       "      <th>4</th>\n",
       "      <td>894.496364</td>\n",
       "      <td>728.600295</td>\n",
       "      <td>796.737597</td>\n",
       "      <td>698.953636</td>\n",
       "      <td>267.233696</td>\n",
       "    </tr>\n",
       "    <tr>\n",
       "      <th>0</th>\n",
       "      <td>397.000000</td>\n",
       "      <td>1962.000000</td>\n",
       "      <td>4132.000000</td>\n",
       "      <td>734.000000</td>\n",
       "      <td>247.000000</td>\n",
       "    </tr>\n",
       "    <tr>\n",
       "      <th>1</th>\n",
       "      <td>0.604534</td>\n",
       "      <td>0.334862</td>\n",
       "      <td>0.249516</td>\n",
       "      <td>0.393733</td>\n",
       "      <td>0.550607</td>\n",
       "    </tr>\n",
       "    <tr>\n",
       "      <th>2</th>\n",
       "      <td>1.377834</td>\n",
       "      <td>0.564730</td>\n",
       "      <td>0.536060</td>\n",
       "      <td>1.020436</td>\n",
       "      <td>1.724696</td>\n",
       "    </tr>\n",
       "    <tr>\n",
       "      <th>3</th>\n",
       "      <td>4.914358</td>\n",
       "      <td>5.093272</td>\n",
       "      <td>5.116893</td>\n",
       "      <td>5.230245</td>\n",
       "      <td>5.412955</td>\n",
       "    </tr>\n",
       "    <tr>\n",
       "      <th>4</th>\n",
       "      <td>818.294710</td>\n",
       "      <td>770.468400</td>\n",
       "      <td>807.915537</td>\n",
       "      <td>725.662125</td>\n",
       "      <td>298.538462</td>\n",
       "    </tr>\n",
       "    <tr>\n",
       "      <th>0</th>\n",
       "      <td>608.000000</td>\n",
       "      <td>3127.000000</td>\n",
       "      <td>6731.000000</td>\n",
       "      <td>1426.000000</td>\n",
       "      <td>356.000000</td>\n",
       "    </tr>\n",
       "    <tr>\n",
       "      <th>1</th>\n",
       "      <td>0.610197</td>\n",
       "      <td>0.259034</td>\n",
       "      <td>0.222701</td>\n",
       "      <td>0.356942</td>\n",
       "      <td>0.474719</td>\n",
       "    </tr>\n",
       "    <tr>\n",
       "      <th>2</th>\n",
       "      <td>1.518092</td>\n",
       "      <td>0.381516</td>\n",
       "      <td>-0.320606</td>\n",
       "      <td>0.492286</td>\n",
       "      <td>1.376404</td>\n",
       "    </tr>\n",
       "    <tr>\n",
       "      <th>3</th>\n",
       "      <td>4.856908</td>\n",
       "      <td>5.355932</td>\n",
       "      <td>5.884267</td>\n",
       "      <td>5.760168</td>\n",
       "      <td>5.848315</td>\n",
       "    </tr>\n",
       "    <tr>\n",
       "      <th>4</th>\n",
       "      <td>872.212171</td>\n",
       "      <td>810.187080</td>\n",
       "      <td>818.857525</td>\n",
       "      <td>741.115708</td>\n",
       "      <td>199.345506</td>\n",
       "    </tr>\n",
       "  </tbody>\n",
       "</table>\n",
       "</div>"
      ],
      "text/plain": [
       "            0            1            2            3           4\n",
       "0  391.000000  1276.000000  4210.000000   767.000000  430.000000\n",
       "1    0.529412     0.503918     0.360570     0.524120    0.751163\n",
       "2    1.265985     1.199843     1.168646     1.478488    2.590698\n",
       "3    4.526854     4.513323     4.517815     4.421121    4.874419\n",
       "4  836.276215   660.154389   707.171496   627.243807  443.927907\n",
       "0  542.000000  2011.000000  5005.000000  1047.000000  427.000000\n",
       "1    0.494465     0.481850     0.328072     0.390640    0.782201\n",
       "2    0.809963     0.974142     0.847752     1.386819    2.569087\n",
       "3    5.217712     4.836400     4.868731     4.734479    4.822014\n",
       "4  797.822878   699.723521   749.986214   706.257880  413.526932\n",
       "0  550.000000  2712.000000  5644.000000  1100.000000  368.000000\n",
       "1    0.554545     0.414823     0.273210     0.438182    0.500000\n",
       "2    1.189091     1.008850     0.495393     1.331818    1.288043\n",
       "3    4.963636     4.898230     5.217753     4.929091    5.782609\n",
       "4  894.496364   728.600295   796.737597   698.953636  267.233696\n",
       "0  397.000000  1962.000000  4132.000000   734.000000  247.000000\n",
       "1    0.604534     0.334862     0.249516     0.393733    0.550607\n",
       "2    1.377834     0.564730     0.536060     1.020436    1.724696\n",
       "3    4.914358     5.093272     5.116893     5.230245    5.412955\n",
       "4  818.294710   770.468400   807.915537   725.662125  298.538462\n",
       "0  608.000000  3127.000000  6731.000000  1426.000000  356.000000\n",
       "1    0.610197     0.259034     0.222701     0.356942    0.474719\n",
       "2    1.518092     0.381516    -0.320606     0.492286    1.376404\n",
       "3    4.856908     5.355932     5.884267     5.760168    5.848315\n",
       "4  872.212171   810.187080   818.857525   741.115708  199.345506"
      ]
     },
     "execution_count": 147,
     "metadata": {},
     "output_type": "execute_result"
    }
   ],
   "source": [
    "pd.concat([Bid3_11_1,Bid3_11_2,Bid3_11_3,Bid3_11_4,Bid3_11_5])"
   ]
  },
  {
   "cell_type": "code",
   "execution_count": 148,
   "metadata": {
    "collapsed": true
   },
   "outputs": [],
   "source": [
    "pd.concat([Bid3_11_1,Bid3_11_2,Bid3_11_3,Bid3_11_4,Bid3_11_5]).to_csv('bid3_11_218_227.csv')"
   ]
  },
  {
   "cell_type": "code",
   "execution_count": null,
   "metadata": {
    "collapsed": true
   },
   "outputs": [],
   "source": []
  },
  {
   "cell_type": "code",
   "execution_count": 149,
   "metadata": {
    "collapsed": false
   },
   "outputs": [],
   "source": [
    "a = 0\n",
    "Bid1_13_1 = pd.DataFrame([SUM_Bid1_13[a],SUM_Bid1_13[a+1]/SUM_Bid1_13[a],SUM_Bid1_13[a+2]/SUM_Bid1_13[a],SUM_Bid1_13[a+3]/SUM_Bid1_13[a],SUM_Bid1_13[a+4]/SUM_Bid1_13[a]])"
   ]
  },
  {
   "cell_type": "code",
   "execution_count": 150,
   "metadata": {
    "collapsed": false
   },
   "outputs": [],
   "source": [
    "a = 5\n",
    "Bid1_13_2 = pd.DataFrame([SUM_Bid1_13[a],SUM_Bid1_13[a+1]/SUM_Bid1_13[a],SUM_Bid1_13[a+2]/SUM_Bid1_13[a],SUM_Bid1_13[a+3]/SUM_Bid1_13[a],SUM_Bid1_13[a+4]/SUM_Bid1_13[a]])"
   ]
  },
  {
   "cell_type": "code",
   "execution_count": 151,
   "metadata": {
    "collapsed": false
   },
   "outputs": [],
   "source": [
    "a = 10\n",
    "Bid1_13_3 = pd.DataFrame([SUM_Bid1_13[a],SUM_Bid1_13[a+1]/SUM_Bid1_13[a],SUM_Bid1_13[a+2]/SUM_Bid1_13[a],SUM_Bid1_13[a+3]/SUM_Bid1_13[a],SUM_Bid1_13[a+4]/SUM_Bid1_13[a]])"
   ]
  },
  {
   "cell_type": "code",
   "execution_count": 152,
   "metadata": {
    "collapsed": false
   },
   "outputs": [],
   "source": [
    "a = 15\n",
    "Bid1_13_4 = pd.DataFrame([SUM_Bid1_13[a],SUM_Bid1_13[a+1]/SUM_Bid1_13[a],SUM_Bid1_13[a+2]/SUM_Bid1_13[a],SUM_Bid1_13[a+3]/SUM_Bid1_13[a],SUM_Bid1_13[a+4]/SUM_Bid1_13[a]])"
   ]
  },
  {
   "cell_type": "code",
   "execution_count": 153,
   "metadata": {
    "collapsed": false
   },
   "outputs": [],
   "source": [
    "a = 20\n",
    "Bid1_13_5 = pd.DataFrame([SUM_Bid1_13[a],SUM_Bid1_13[a+1]/SUM_Bid1_13[a],SUM_Bid1_13[a+2]/SUM_Bid1_13[a],SUM_Bid1_13[a+3]/SUM_Bid1_13[a],SUM_Bid1_13[a+4]/SUM_Bid1_13[a]])"
   ]
  },
  {
   "cell_type": "code",
   "execution_count": 154,
   "metadata": {
    "collapsed": false,
    "scrolled": true
   },
   "outputs": [
    {
     "data": {
      "text/html": [
       "<div>\n",
       "<table border=\"1\" class=\"dataframe\">\n",
       "  <thead>\n",
       "    <tr style=\"text-align: right;\">\n",
       "      <th></th>\n",
       "      <th>0</th>\n",
       "      <th>1</th>\n",
       "      <th>2</th>\n",
       "      <th>3</th>\n",
       "      <th>4</th>\n",
       "    </tr>\n",
       "  </thead>\n",
       "  <tbody>\n",
       "    <tr>\n",
       "      <th>0</th>\n",
       "      <td>12.000000</td>\n",
       "      <td>143.000000</td>\n",
       "      <td>11902.000000</td>\n",
       "      <td>1234.000000</td>\n",
       "      <td>4.0</td>\n",
       "    </tr>\n",
       "    <tr>\n",
       "      <th>1</th>\n",
       "      <td>0.000000</td>\n",
       "      <td>0.286713</td>\n",
       "      <td>0.042346</td>\n",
       "      <td>0.209887</td>\n",
       "      <td>0.5</td>\n",
       "    </tr>\n",
       "    <tr>\n",
       "      <th>2</th>\n",
       "      <td>-2.833333</td>\n",
       "      <td>-0.979021</td>\n",
       "      <td>-0.116283</td>\n",
       "      <td>0.284441</td>\n",
       "      <td>1.0</td>\n",
       "    </tr>\n",
       "    <tr>\n",
       "      <th>3</th>\n",
       "      <td>5.000000</td>\n",
       "      <td>3.244755</td>\n",
       "      <td>1.533020</td>\n",
       "      <td>1.910049</td>\n",
       "      <td>1.0</td>\n",
       "    </tr>\n",
       "    <tr>\n",
       "      <th>4</th>\n",
       "      <td>1050.000000</td>\n",
       "      <td>672.573427</td>\n",
       "      <td>874.764157</td>\n",
       "      <td>757.042950</td>\n",
       "      <td>45.5</td>\n",
       "    </tr>\n",
       "    <tr>\n",
       "      <th>0</th>\n",
       "      <td>19.000000</td>\n",
       "      <td>324.000000</td>\n",
       "      <td>2824.000000</td>\n",
       "      <td>1128.000000</td>\n",
       "      <td>5.0</td>\n",
       "    </tr>\n",
       "    <tr>\n",
       "      <th>1</th>\n",
       "      <td>0.000000</td>\n",
       "      <td>0.203704</td>\n",
       "      <td>0.241147</td>\n",
       "      <td>0.187943</td>\n",
       "      <td>1.0</td>\n",
       "    </tr>\n",
       "    <tr>\n",
       "      <th>2</th>\n",
       "      <td>-3.684211</td>\n",
       "      <td>-0.756173</td>\n",
       "      <td>-0.485482</td>\n",
       "      <td>-0.029255</td>\n",
       "      <td>2.0</td>\n",
       "    </tr>\n",
       "    <tr>\n",
       "      <th>3</th>\n",
       "      <td>5.421053</td>\n",
       "      <td>3.080247</td>\n",
       "      <td>2.354108</td>\n",
       "      <td>2.531915</td>\n",
       "      <td>2.0</td>\n",
       "    </tr>\n",
       "    <tr>\n",
       "      <th>4</th>\n",
       "      <td>900.000000</td>\n",
       "      <td>730.040123</td>\n",
       "      <td>738.808782</td>\n",
       "      <td>763.507979</td>\n",
       "      <td>137.4</td>\n",
       "    </tr>\n",
       "    <tr>\n",
       "      <th>0</th>\n",
       "      <td>8.000000</td>\n",
       "      <td>475.000000</td>\n",
       "      <td>7624.000000</td>\n",
       "      <td>887.000000</td>\n",
       "      <td>8.0</td>\n",
       "    </tr>\n",
       "    <tr>\n",
       "      <th>1</th>\n",
       "      <td>0.000000</td>\n",
       "      <td>0.071579</td>\n",
       "      <td>0.133001</td>\n",
       "      <td>0.360767</td>\n",
       "      <td>0.5</td>\n",
       "    </tr>\n",
       "    <tr>\n",
       "      <th>2</th>\n",
       "      <td>-3.625000</td>\n",
       "      <td>-1.768421</td>\n",
       "      <td>-0.217602</td>\n",
       "      <td>0.045096</td>\n",
       "      <td>0.0</td>\n",
       "    </tr>\n",
       "    <tr>\n",
       "      <th>3</th>\n",
       "      <td>5.375000</td>\n",
       "      <td>4.400000</td>\n",
       "      <td>1.881165</td>\n",
       "      <td>2.845547</td>\n",
       "      <td>3.5</td>\n",
       "    </tr>\n",
       "    <tr>\n",
       "      <th>4</th>\n",
       "      <td>1350.000000</td>\n",
       "      <td>844.781053</td>\n",
       "      <td>839.214323</td>\n",
       "      <td>641.379932</td>\n",
       "      <td>93.0</td>\n",
       "    </tr>\n",
       "    <tr>\n",
       "      <th>0</th>\n",
       "      <td>13.000000</td>\n",
       "      <td>471.000000</td>\n",
       "      <td>5161.000000</td>\n",
       "      <td>617.000000</td>\n",
       "      <td>0.0</td>\n",
       "    </tr>\n",
       "    <tr>\n",
       "      <th>1</th>\n",
       "      <td>0.000000</td>\n",
       "      <td>0.101911</td>\n",
       "      <td>0.087386</td>\n",
       "      <td>0.366288</td>\n",
       "      <td>NaN</td>\n",
       "    </tr>\n",
       "    <tr>\n",
       "      <th>2</th>\n",
       "      <td>-3.615385</td>\n",
       "      <td>-0.855626</td>\n",
       "      <td>-0.380934</td>\n",
       "      <td>-0.612642</td>\n",
       "      <td>NaN</td>\n",
       "    </tr>\n",
       "    <tr>\n",
       "      <th>3</th>\n",
       "      <td>5.461538</td>\n",
       "      <td>2.617834</td>\n",
       "      <td>2.119550</td>\n",
       "      <td>3.215559</td>\n",
       "      <td>NaN</td>\n",
       "    </tr>\n",
       "    <tr>\n",
       "      <th>4</th>\n",
       "      <td>900.000000</td>\n",
       "      <td>821.838641</td>\n",
       "      <td>840.841504</td>\n",
       "      <td>633.977310</td>\n",
       "      <td>NaN</td>\n",
       "    </tr>\n",
       "    <tr>\n",
       "      <th>0</th>\n",
       "      <td>61.000000</td>\n",
       "      <td>1032.000000</td>\n",
       "      <td>15450.000000</td>\n",
       "      <td>998.000000</td>\n",
       "      <td>0.0</td>\n",
       "    </tr>\n",
       "    <tr>\n",
       "      <th>1</th>\n",
       "      <td>0.000000</td>\n",
       "      <td>0.062984</td>\n",
       "      <td>0.058641</td>\n",
       "      <td>0.221443</td>\n",
       "      <td>NaN</td>\n",
       "    </tr>\n",
       "    <tr>\n",
       "      <th>2</th>\n",
       "      <td>-3.590164</td>\n",
       "      <td>-0.988372</td>\n",
       "      <td>-0.795534</td>\n",
       "      <td>-0.360721</td>\n",
       "      <td>NaN</td>\n",
       "    </tr>\n",
       "    <tr>\n",
       "      <th>3</th>\n",
       "      <td>5.426230</td>\n",
       "      <td>2.766473</td>\n",
       "      <td>2.279806</td>\n",
       "      <td>2.205411</td>\n",
       "      <td>NaN</td>\n",
       "    </tr>\n",
       "    <tr>\n",
       "      <th>4</th>\n",
       "      <td>900.000000</td>\n",
       "      <td>847.693798</td>\n",
       "      <td>875.387638</td>\n",
       "      <td>737.047094</td>\n",
       "      <td>NaN</td>\n",
       "    </tr>\n",
       "  </tbody>\n",
       "</table>\n",
       "</div>"
      ],
      "text/plain": [
       "             0            1             2            3      4\n",
       "0    12.000000   143.000000  11902.000000  1234.000000    4.0\n",
       "1     0.000000     0.286713      0.042346     0.209887    0.5\n",
       "2    -2.833333    -0.979021     -0.116283     0.284441    1.0\n",
       "3     5.000000     3.244755      1.533020     1.910049    1.0\n",
       "4  1050.000000   672.573427    874.764157   757.042950   45.5\n",
       "0    19.000000   324.000000   2824.000000  1128.000000    5.0\n",
       "1     0.000000     0.203704      0.241147     0.187943    1.0\n",
       "2    -3.684211    -0.756173     -0.485482    -0.029255    2.0\n",
       "3     5.421053     3.080247      2.354108     2.531915    2.0\n",
       "4   900.000000   730.040123    738.808782   763.507979  137.4\n",
       "0     8.000000   475.000000   7624.000000   887.000000    8.0\n",
       "1     0.000000     0.071579      0.133001     0.360767    0.5\n",
       "2    -3.625000    -1.768421     -0.217602     0.045096    0.0\n",
       "3     5.375000     4.400000      1.881165     2.845547    3.5\n",
       "4  1350.000000   844.781053    839.214323   641.379932   93.0\n",
       "0    13.000000   471.000000   5161.000000   617.000000    0.0\n",
       "1     0.000000     0.101911      0.087386     0.366288    NaN\n",
       "2    -3.615385    -0.855626     -0.380934    -0.612642    NaN\n",
       "3     5.461538     2.617834      2.119550     3.215559    NaN\n",
       "4   900.000000   821.838641    840.841504   633.977310    NaN\n",
       "0    61.000000  1032.000000  15450.000000   998.000000    0.0\n",
       "1     0.000000     0.062984      0.058641     0.221443    NaN\n",
       "2    -3.590164    -0.988372     -0.795534    -0.360721    NaN\n",
       "3     5.426230     2.766473      2.279806     2.205411    NaN\n",
       "4   900.000000   847.693798    875.387638   737.047094    NaN"
      ]
     },
     "execution_count": 154,
     "metadata": {},
     "output_type": "execute_result"
    }
   ],
   "source": [
    "pd.concat([Bid1_13_1,Bid1_13_2,Bid1_13_3,Bid1_13_4,Bid1_13_5])"
   ]
  },
  {
   "cell_type": "code",
   "execution_count": 155,
   "metadata": {
    "collapsed": true
   },
   "outputs": [],
   "source": [
    "pd.concat([Bid1_13_1,Bid1_13_2,Bid1_13_3,Bid1_13_4,Bid1_13_5]).to_csv('bid1_13_218_227.csv')"
   ]
  },
  {
   "cell_type": "code",
   "execution_count": null,
   "metadata": {
    "collapsed": true
   },
   "outputs": [],
   "source": []
  },
  {
   "cell_type": "code",
   "execution_count": 156,
   "metadata": {
    "collapsed": false
   },
   "outputs": [],
   "source": [
    "a = 0\n",
    "Bid2_13_1 = pd.DataFrame([SUM_Bid2_13[a],SUM_Bid2_13[a+1]/SUM_Bid2_13[a],SUM_Bid2_13[a+2]/SUM_Bid2_13[a],SUM_Bid2_13[a+3]/SUM_Bid2_13[a],SUM_Bid2_13[a+4]/SUM_Bid2_13[a]])"
   ]
  },
  {
   "cell_type": "code",
   "execution_count": 157,
   "metadata": {
    "collapsed": false
   },
   "outputs": [],
   "source": [
    "a = 5\n",
    "Bid2_13_2 = pd.DataFrame([SUM_Bid2_13[a],SUM_Bid2_13[a+1]/SUM_Bid2_13[a],SUM_Bid2_13[a+2]/SUM_Bid2_13[a],SUM_Bid2_13[a+3]/SUM_Bid2_13[a],SUM_Bid2_13[a+4]/SUM_Bid2_13[a]])"
   ]
  },
  {
   "cell_type": "code",
   "execution_count": 158,
   "metadata": {
    "collapsed": false
   },
   "outputs": [],
   "source": [
    "a = 10\n",
    "Bid2_13_3 = pd.DataFrame([SUM_Bid2_13[a],SUM_Bid2_13[a+1]/SUM_Bid2_13[a],SUM_Bid2_13[a+2]/SUM_Bid2_13[a],SUM_Bid2_13[a+3]/SUM_Bid2_13[a],SUM_Bid2_13[a+4]/SUM_Bid2_13[a]])"
   ]
  },
  {
   "cell_type": "code",
   "execution_count": 159,
   "metadata": {
    "collapsed": false
   },
   "outputs": [],
   "source": [
    "a = 15\n",
    "Bid2_13_4 = pd.DataFrame([SUM_Bid2_13[a],SUM_Bid2_13[a+1]/SUM_Bid2_13[a],SUM_Bid2_13[a+2]/SUM_Bid2_13[a],SUM_Bid2_13[a+3]/SUM_Bid2_13[a],SUM_Bid2_13[a+4]/SUM_Bid2_13[a]])"
   ]
  },
  {
   "cell_type": "code",
   "execution_count": 160,
   "metadata": {
    "collapsed": false
   },
   "outputs": [],
   "source": [
    "a = 20\n",
    "Bid2_13_5 = pd.DataFrame([SUM_Bid2_13[a],SUM_Bid2_13[a+1]/SUM_Bid2_13[a],SUM_Bid2_13[a+2]/SUM_Bid2_13[a],SUM_Bid2_13[a+3]/SUM_Bid2_13[a],SUM_Bid2_13[a+4]/SUM_Bid2_13[a]])"
   ]
  },
  {
   "cell_type": "code",
   "execution_count": 161,
   "metadata": {
    "collapsed": false,
    "scrolled": true
   },
   "outputs": [
    {
     "data": {
      "text/html": [
       "<div>\n",
       "<table border=\"1\" class=\"dataframe\">\n",
       "  <thead>\n",
       "    <tr style=\"text-align: right;\">\n",
       "      <th></th>\n",
       "      <th>0</th>\n",
       "      <th>1</th>\n",
       "      <th>2</th>\n",
       "      <th>3</th>\n",
       "      <th>4</th>\n",
       "    </tr>\n",
       "  </thead>\n",
       "  <tbody>\n",
       "    <tr>\n",
       "      <th>0</th>\n",
       "      <td>12.000000</td>\n",
       "      <td>143.000000</td>\n",
       "      <td>11902.000000</td>\n",
       "      <td>1234.000000</td>\n",
       "      <td>4.0</td>\n",
       "    </tr>\n",
       "    <tr>\n",
       "      <th>1</th>\n",
       "      <td>0.000000</td>\n",
       "      <td>0.027972</td>\n",
       "      <td>0.003781</td>\n",
       "      <td>0.052674</td>\n",
       "      <td>0.5</td>\n",
       "    </tr>\n",
       "    <tr>\n",
       "      <th>2</th>\n",
       "      <td>-2.833333</td>\n",
       "      <td>-1.468531</td>\n",
       "      <td>-0.149303</td>\n",
       "      <td>0.391410</td>\n",
       "      <td>1.5</td>\n",
       "    </tr>\n",
       "    <tr>\n",
       "      <th>3</th>\n",
       "      <td>6.000000</td>\n",
       "      <td>4.874126</td>\n",
       "      <td>2.596622</td>\n",
       "      <td>2.971637</td>\n",
       "      <td>2.0</td>\n",
       "    </tr>\n",
       "    <tr>\n",
       "      <th>4</th>\n",
       "      <td>1050.000000</td>\n",
       "      <td>875.223776</td>\n",
       "      <td>897.184255</td>\n",
       "      <td>864.519449</td>\n",
       "      <td>94.0</td>\n",
       "    </tr>\n",
       "    <tr>\n",
       "      <th>0</th>\n",
       "      <td>19.000000</td>\n",
       "      <td>324.000000</td>\n",
       "      <td>2824.000000</td>\n",
       "      <td>1128.000000</td>\n",
       "      <td>5.0</td>\n",
       "    </tr>\n",
       "    <tr>\n",
       "      <th>1</th>\n",
       "      <td>0.000000</td>\n",
       "      <td>0.129630</td>\n",
       "      <td>0.046742</td>\n",
       "      <td>0.089539</td>\n",
       "      <td>0.0</td>\n",
       "    </tr>\n",
       "    <tr>\n",
       "      <th>2</th>\n",
       "      <td>-3.684211</td>\n",
       "      <td>-0.851852</td>\n",
       "      <td>-0.714943</td>\n",
       "      <td>-0.122340</td>\n",
       "      <td>-2.0</td>\n",
       "    </tr>\n",
       "    <tr>\n",
       "      <th>3</th>\n",
       "      <td>6.421053</td>\n",
       "      <td>4.274691</td>\n",
       "      <td>3.823654</td>\n",
       "      <td>3.697695</td>\n",
       "      <td>6.0</td>\n",
       "    </tr>\n",
       "    <tr>\n",
       "      <th>4</th>\n",
       "      <td>1136.842105</td>\n",
       "      <td>791.172840</td>\n",
       "      <td>867.194405</td>\n",
       "      <td>836.958333</td>\n",
       "      <td>0.0</td>\n",
       "    </tr>\n",
       "    <tr>\n",
       "      <th>0</th>\n",
       "      <td>8.000000</td>\n",
       "      <td>475.000000</td>\n",
       "      <td>7624.000000</td>\n",
       "      <td>887.000000</td>\n",
       "      <td>8.0</td>\n",
       "    </tr>\n",
       "    <tr>\n",
       "      <th>1</th>\n",
       "      <td>0.000000</td>\n",
       "      <td>0.023158</td>\n",
       "      <td>0.026364</td>\n",
       "      <td>0.215333</td>\n",
       "      <td>0.0</td>\n",
       "    </tr>\n",
       "    <tr>\n",
       "      <th>2</th>\n",
       "      <td>-3.625000</td>\n",
       "      <td>-1.890526</td>\n",
       "      <td>-0.298662</td>\n",
       "      <td>-0.022548</td>\n",
       "      <td>-2.0</td>\n",
       "    </tr>\n",
       "    <tr>\n",
       "      <th>3</th>\n",
       "      <td>6.375000</td>\n",
       "      <td>5.480000</td>\n",
       "      <td>2.922482</td>\n",
       "      <td>4.058625</td>\n",
       "      <td>6.0</td>\n",
       "    </tr>\n",
       "    <tr>\n",
       "      <th>4</th>\n",
       "      <td>1800.000000</td>\n",
       "      <td>880.991579</td>\n",
       "      <td>881.428778</td>\n",
       "      <td>751.178129</td>\n",
       "      <td>0.0</td>\n",
       "    </tr>\n",
       "    <tr>\n",
       "      <th>0</th>\n",
       "      <td>13.000000</td>\n",
       "      <td>471.000000</td>\n",
       "      <td>5161.000000</td>\n",
       "      <td>617.000000</td>\n",
       "      <td>0.0</td>\n",
       "    </tr>\n",
       "    <tr>\n",
       "      <th>1</th>\n",
       "      <td>0.000000</td>\n",
       "      <td>0.016985</td>\n",
       "      <td>0.022283</td>\n",
       "      <td>0.256078</td>\n",
       "      <td>NaN</td>\n",
       "    </tr>\n",
       "    <tr>\n",
       "      <th>2</th>\n",
       "      <td>-3.615385</td>\n",
       "      <td>-1.112527</td>\n",
       "      <td>-0.432281</td>\n",
       "      <td>-0.670989</td>\n",
       "      <td>NaN</td>\n",
       "    </tr>\n",
       "    <tr>\n",
       "      <th>3</th>\n",
       "      <td>6.461538</td>\n",
       "      <td>3.770701</td>\n",
       "      <td>3.162372</td>\n",
       "      <td>4.457050</td>\n",
       "      <td>NaN</td>\n",
       "    </tr>\n",
       "    <tr>\n",
       "      <th>4</th>\n",
       "      <td>900.000000</td>\n",
       "      <td>885.842887</td>\n",
       "      <td>884.687270</td>\n",
       "      <td>745.038898</td>\n",
       "      <td>NaN</td>\n",
       "    </tr>\n",
       "    <tr>\n",
       "      <th>0</th>\n",
       "      <td>61.000000</td>\n",
       "      <td>1032.000000</td>\n",
       "      <td>15450.000000</td>\n",
       "      <td>998.000000</td>\n",
       "      <td>0.0</td>\n",
       "    </tr>\n",
       "    <tr>\n",
       "      <th>1</th>\n",
       "      <td>0.000000</td>\n",
       "      <td>0.045543</td>\n",
       "      <td>0.035275</td>\n",
       "      <td>0.099198</td>\n",
       "      <td>NaN</td>\n",
       "    </tr>\n",
       "    <tr>\n",
       "      <th>2</th>\n",
       "      <td>-3.590164</td>\n",
       "      <td>-1.008721</td>\n",
       "      <td>-0.774175</td>\n",
       "      <td>-0.571142</td>\n",
       "      <td>NaN</td>\n",
       "    </tr>\n",
       "    <tr>\n",
       "      <th>3</th>\n",
       "      <td>6.426230</td>\n",
       "      <td>3.813953</td>\n",
       "      <td>3.288544</td>\n",
       "      <td>3.468938</td>\n",
       "      <td>NaN</td>\n",
       "    </tr>\n",
       "    <tr>\n",
       "      <th>4</th>\n",
       "      <td>900.000000</td>\n",
       "      <td>862.531008</td>\n",
       "      <td>891.111909</td>\n",
       "      <td>842.639279</td>\n",
       "      <td>NaN</td>\n",
       "    </tr>\n",
       "  </tbody>\n",
       "</table>\n",
       "</div>"
      ],
      "text/plain": [
       "             0            1             2            3     4\n",
       "0    12.000000   143.000000  11902.000000  1234.000000   4.0\n",
       "1     0.000000     0.027972      0.003781     0.052674   0.5\n",
       "2    -2.833333    -1.468531     -0.149303     0.391410   1.5\n",
       "3     6.000000     4.874126      2.596622     2.971637   2.0\n",
       "4  1050.000000   875.223776    897.184255   864.519449  94.0\n",
       "0    19.000000   324.000000   2824.000000  1128.000000   5.0\n",
       "1     0.000000     0.129630      0.046742     0.089539   0.0\n",
       "2    -3.684211    -0.851852     -0.714943    -0.122340  -2.0\n",
       "3     6.421053     4.274691      3.823654     3.697695   6.0\n",
       "4  1136.842105   791.172840    867.194405   836.958333   0.0\n",
       "0     8.000000   475.000000   7624.000000   887.000000   8.0\n",
       "1     0.000000     0.023158      0.026364     0.215333   0.0\n",
       "2    -3.625000    -1.890526     -0.298662    -0.022548  -2.0\n",
       "3     6.375000     5.480000      2.922482     4.058625   6.0\n",
       "4  1800.000000   880.991579    881.428778   751.178129   0.0\n",
       "0    13.000000   471.000000   5161.000000   617.000000   0.0\n",
       "1     0.000000     0.016985      0.022283     0.256078   NaN\n",
       "2    -3.615385    -1.112527     -0.432281    -0.670989   NaN\n",
       "3     6.461538     3.770701      3.162372     4.457050   NaN\n",
       "4   900.000000   885.842887    884.687270   745.038898   NaN\n",
       "0    61.000000  1032.000000  15450.000000   998.000000   0.0\n",
       "1     0.000000     0.045543      0.035275     0.099198   NaN\n",
       "2    -3.590164    -1.008721     -0.774175    -0.571142   NaN\n",
       "3     6.426230     3.813953      3.288544     3.468938   NaN\n",
       "4   900.000000   862.531008    891.111909   842.639279   NaN"
      ]
     },
     "execution_count": 161,
     "metadata": {},
     "output_type": "execute_result"
    }
   ],
   "source": [
    "pd.concat([Bid2_13_1,Bid2_13_2,Bid2_13_3,Bid2_13_4,Bid2_13_5])"
   ]
  },
  {
   "cell_type": "code",
   "execution_count": 162,
   "metadata": {
    "collapsed": true
   },
   "outputs": [],
   "source": [
    "pd.concat([Bid2_13_1,Bid2_13_2,Bid2_13_3,Bid2_13_4,Bid2_13_5]).to_csv('bid2_13_218_227.csv')"
   ]
  },
  {
   "cell_type": "code",
   "execution_count": null,
   "metadata": {
    "collapsed": true
   },
   "outputs": [],
   "source": []
  },
  {
   "cell_type": "code",
   "execution_count": null,
   "metadata": {
    "collapsed": true
   },
   "outputs": [],
   "source": []
  },
  {
   "cell_type": "code",
   "execution_count": null,
   "metadata": {
    "collapsed": true
   },
   "outputs": [],
   "source": []
  },
  {
   "cell_type": "code",
   "execution_count": 219,
   "metadata": {
    "collapsed": false
   },
   "outputs": [],
   "source": [
    "a = 0\n",
    "Bid3_13_1 = pd.DataFrame([SUM_Bid3_13[a],SUM_Bid3_13[a+1]/SUM_Bid3_13[a],SUM_Bid3_13[a+2]/SUM_Bid3_13[a],SUM_Bid3_13[a+3]/SUM_Bid3_13[a],SUM_Bid3_13[a+4]/SUM_Bid3_13[a]])"
   ]
  },
  {
   "cell_type": "code",
   "execution_count": 220,
   "metadata": {
    "collapsed": false
   },
   "outputs": [],
   "source": [
    "a = 5\n",
    "Bid3_13_2 = pd.DataFrame([SUM_Bid3_13[a],SUM_Bid3_13[a+1]/SUM_Bid3_13[a],SUM_Bid3_13[a+2]/SUM_Bid3_13[a],SUM_Bid3_13[a+3]/SUM_Bid3_13[a],SUM_Bid3_13[a+4]/SUM_Bid3_13[a]])"
   ]
  },
  {
   "cell_type": "code",
   "execution_count": 221,
   "metadata": {
    "collapsed": false
   },
   "outputs": [],
   "source": [
    "a = 10\n",
    "Bid3_13_3 = pd.DataFrame([SUM_Bid3_13[a],SUM_Bid3_13[a+1]/SUM_Bid3_13[a],SUM_Bid3_13[a+2]/SUM_Bid3_13[a],SUM_Bid3_13[a+3]/SUM_Bid3_13[a],SUM_Bid3_13[a+4]/SUM_Bid3_13[a]])"
   ]
  },
  {
   "cell_type": "code",
   "execution_count": 222,
   "metadata": {
    "collapsed": false
   },
   "outputs": [],
   "source": [
    "a = 15\n",
    "Bid3_13_4 = pd.DataFrame([SUM_Bid3_13[a],SUM_Bid3_13[a+1]/SUM_Bid3_13[a],SUM_Bid3_13[a+2]/SUM_Bid3_13[a],SUM_Bid3_13[a+3]/SUM_Bid3_13[a],SUM_Bid3_13[a+4]/SUM_Bid3_13[a]])"
   ]
  },
  {
   "cell_type": "code",
   "execution_count": 223,
   "metadata": {
    "collapsed": false
   },
   "outputs": [],
   "source": [
    "a = 20\n",
    "Bid3_13_5 = pd.DataFrame([SUM_Bid3_13[a],SUM_Bid3_13[a+1]/SUM_Bid3_13[a],SUM_Bid3_13[a+2]/SUM_Bid3_13[a],SUM_Bid3_13[a+3]/SUM_Bid3_13[a],SUM_Bid3_13[a+4]/SUM_Bid3_13[a]])"
   ]
  },
  {
   "cell_type": "code",
   "execution_count": 224,
   "metadata": {
    "collapsed": false,
    "scrolled": true
   },
   "outputs": [
    {
     "data": {
      "text/html": [
       "<div>\n",
       "<table border=\"1\" class=\"dataframe\">\n",
       "  <thead>\n",
       "    <tr style=\"text-align: right;\">\n",
       "      <th></th>\n",
       "      <th>0</th>\n",
       "      <th>1</th>\n",
       "      <th>2</th>\n",
       "      <th>3</th>\n",
       "      <th>4</th>\n",
       "    </tr>\n",
       "  </thead>\n",
       "  <tbody>\n",
       "    <tr>\n",
       "      <th>0</th>\n",
       "      <td>18.000000</td>\n",
       "      <td>80.000000</td>\n",
       "      <td>15700.000000</td>\n",
       "      <td>278.000000</td>\n",
       "      <td>22.000000</td>\n",
       "    </tr>\n",
       "    <tr>\n",
       "      <th>1</th>\n",
       "      <td>0.000000</td>\n",
       "      <td>0.000000</td>\n",
       "      <td>0.002102</td>\n",
       "      <td>0.057554</td>\n",
       "      <td>0.000000</td>\n",
       "    </tr>\n",
       "    <tr>\n",
       "      <th>2</th>\n",
       "      <td>-4.944444</td>\n",
       "      <td>-0.900000</td>\n",
       "      <td>0.069299</td>\n",
       "      <td>-0.794964</td>\n",
       "      <td>-0.136364</td>\n",
       "    </tr>\n",
       "    <tr>\n",
       "      <th>3</th>\n",
       "      <td>8.833333</td>\n",
       "      <td>4.525000</td>\n",
       "      <td>3.338790</td>\n",
       "      <td>4.913669</td>\n",
       "      <td>5.000000</td>\n",
       "    </tr>\n",
       "    <tr>\n",
       "      <th>4</th>\n",
       "      <td>2000.000000</td>\n",
       "      <td>900.000000</td>\n",
       "      <td>898.928917</td>\n",
       "      <td>896.949640</td>\n",
       "      <td>0.000000</td>\n",
       "    </tr>\n",
       "    <tr>\n",
       "      <th>0</th>\n",
       "      <td>41.000000</td>\n",
       "      <td>167.000000</td>\n",
       "      <td>3870.000000</td>\n",
       "      <td>390.000000</td>\n",
       "      <td>21.000000</td>\n",
       "    </tr>\n",
       "    <tr>\n",
       "      <th>1</th>\n",
       "      <td>0.000000</td>\n",
       "      <td>0.000000</td>\n",
       "      <td>0.004651</td>\n",
       "      <td>0.043590</td>\n",
       "      <td>0.000000</td>\n",
       "    </tr>\n",
       "    <tr>\n",
       "      <th>2</th>\n",
       "      <td>-5.097561</td>\n",
       "      <td>-1.856287</td>\n",
       "      <td>-0.904134</td>\n",
       "      <td>-0.833333</td>\n",
       "      <td>-0.285714</td>\n",
       "    </tr>\n",
       "    <tr>\n",
       "      <th>3</th>\n",
       "      <td>8.853659</td>\n",
       "      <td>5.508982</td>\n",
       "      <td>4.488889</td>\n",
       "      <td>5.169231</td>\n",
       "      <td>5.000000</td>\n",
       "    </tr>\n",
       "    <tr>\n",
       "      <th>4</th>\n",
       "      <td>1360.975610</td>\n",
       "      <td>900.000000</td>\n",
       "      <td>897.739535</td>\n",
       "      <td>871.964103</td>\n",
       "      <td>0.000000</td>\n",
       "    </tr>\n",
       "    <tr>\n",
       "      <th>0</th>\n",
       "      <td>28.000000</td>\n",
       "      <td>150.000000</td>\n",
       "      <td>7842.000000</td>\n",
       "      <td>633.000000</td>\n",
       "      <td>9.000000</td>\n",
       "    </tr>\n",
       "    <tr>\n",
       "      <th>1</th>\n",
       "      <td>0.000000</td>\n",
       "      <td>0.000000</td>\n",
       "      <td>0.004718</td>\n",
       "      <td>0.088468</td>\n",
       "      <td>0.000000</td>\n",
       "    </tr>\n",
       "    <tr>\n",
       "      <th>2</th>\n",
       "      <td>-5.107143</td>\n",
       "      <td>-1.800000</td>\n",
       "      <td>-0.484443</td>\n",
       "      <td>0.052133</td>\n",
       "      <td>-0.555556</td>\n",
       "    </tr>\n",
       "    <tr>\n",
       "      <th>3</th>\n",
       "      <td>9.000000</td>\n",
       "      <td>5.660000</td>\n",
       "      <td>4.019000</td>\n",
       "      <td>4.710900</td>\n",
       "      <td>5.111111</td>\n",
       "    </tr>\n",
       "    <tr>\n",
       "      <th>4</th>\n",
       "      <td>1189.285714</td>\n",
       "      <td>900.000000</td>\n",
       "      <td>897.344555</td>\n",
       "      <td>844.255924</td>\n",
       "      <td>0.000000</td>\n",
       "    </tr>\n",
       "    <tr>\n",
       "      <th>0</th>\n",
       "      <td>10.000000</td>\n",
       "      <td>93.000000</td>\n",
       "      <td>4544.000000</td>\n",
       "      <td>545.000000</td>\n",
       "      <td>25.000000</td>\n",
       "    </tr>\n",
       "    <tr>\n",
       "      <th>1</th>\n",
       "      <td>0.000000</td>\n",
       "      <td>0.000000</td>\n",
       "      <td>0.004842</td>\n",
       "      <td>0.055046</td>\n",
       "      <td>0.000000</td>\n",
       "    </tr>\n",
       "    <tr>\n",
       "      <th>2</th>\n",
       "      <td>-5.000000</td>\n",
       "      <td>-1.365591</td>\n",
       "      <td>-0.380722</td>\n",
       "      <td>-0.574312</td>\n",
       "      <td>-1.400000</td>\n",
       "    </tr>\n",
       "    <tr>\n",
       "      <th>3</th>\n",
       "      <td>8.800000</td>\n",
       "      <td>5.322581</td>\n",
       "      <td>4.177157</td>\n",
       "      <td>4.895413</td>\n",
       "      <td>5.880000</td>\n",
       "    </tr>\n",
       "    <tr>\n",
       "      <th>4</th>\n",
       "      <td>3150.000000</td>\n",
       "      <td>900.000000</td>\n",
       "      <td>896.943442</td>\n",
       "      <td>866.790826</td>\n",
       "      <td>0.000000</td>\n",
       "    </tr>\n",
       "    <tr>\n",
       "      <th>0</th>\n",
       "      <td>2.000000</td>\n",
       "      <td>302.000000</td>\n",
       "      <td>14969.000000</td>\n",
       "      <td>661.000000</td>\n",
       "      <td>0.000000</td>\n",
       "    </tr>\n",
       "    <tr>\n",
       "      <th>1</th>\n",
       "      <td>0.000000</td>\n",
       "      <td>0.000000</td>\n",
       "      <td>0.000468</td>\n",
       "      <td>0.043873</td>\n",
       "      <td>NaN</td>\n",
       "    </tr>\n",
       "    <tr>\n",
       "      <th>2</th>\n",
       "      <td>-4.000000</td>\n",
       "      <td>-1.791391</td>\n",
       "      <td>-0.504843</td>\n",
       "      <td>-0.756430</td>\n",
       "      <td>NaN</td>\n",
       "    </tr>\n",
       "    <tr>\n",
       "      <th>3</th>\n",
       "      <td>8.000000</td>\n",
       "      <td>5.500000</td>\n",
       "      <td>4.055381</td>\n",
       "      <td>5.160363</td>\n",
       "      <td>NaN</td>\n",
       "    </tr>\n",
       "    <tr>\n",
       "      <th>4</th>\n",
       "      <td>900.000000</td>\n",
       "      <td>900.000000</td>\n",
       "      <td>899.722293</td>\n",
       "      <td>873.095310</td>\n",
       "      <td>NaN</td>\n",
       "    </tr>\n",
       "  </tbody>\n",
       "</table>\n",
       "</div>"
      ],
      "text/plain": [
       "             0           1             2           3          4\n",
       "0    18.000000   80.000000  15700.000000  278.000000  22.000000\n",
       "1     0.000000    0.000000      0.002102    0.057554   0.000000\n",
       "2    -4.944444   -0.900000      0.069299   -0.794964  -0.136364\n",
       "3     8.833333    4.525000      3.338790    4.913669   5.000000\n",
       "4  2000.000000  900.000000    898.928917  896.949640   0.000000\n",
       "0    41.000000  167.000000   3870.000000  390.000000  21.000000\n",
       "1     0.000000    0.000000      0.004651    0.043590   0.000000\n",
       "2    -5.097561   -1.856287     -0.904134   -0.833333  -0.285714\n",
       "3     8.853659    5.508982      4.488889    5.169231   5.000000\n",
       "4  1360.975610  900.000000    897.739535  871.964103   0.000000\n",
       "0    28.000000  150.000000   7842.000000  633.000000   9.000000\n",
       "1     0.000000    0.000000      0.004718    0.088468   0.000000\n",
       "2    -5.107143   -1.800000     -0.484443    0.052133  -0.555556\n",
       "3     9.000000    5.660000      4.019000    4.710900   5.111111\n",
       "4  1189.285714  900.000000    897.344555  844.255924   0.000000\n",
       "0    10.000000   93.000000   4544.000000  545.000000  25.000000\n",
       "1     0.000000    0.000000      0.004842    0.055046   0.000000\n",
       "2    -5.000000   -1.365591     -0.380722   -0.574312  -1.400000\n",
       "3     8.800000    5.322581      4.177157    4.895413   5.880000\n",
       "4  3150.000000  900.000000    896.943442  866.790826   0.000000\n",
       "0     2.000000  302.000000  14969.000000  661.000000   0.000000\n",
       "1     0.000000    0.000000      0.000468    0.043873        NaN\n",
       "2    -4.000000   -1.791391     -0.504843   -0.756430        NaN\n",
       "3     8.000000    5.500000      4.055381    5.160363        NaN\n",
       "4   900.000000  900.000000    899.722293  873.095310        NaN"
      ]
     },
     "execution_count": 224,
     "metadata": {},
     "output_type": "execute_result"
    }
   ],
   "source": [
    "pd.concat([Bid3_13_1,Bid3_13_2,Bid3_13_3,Bid3_13_4,Bid3_13_5])"
   ]
  },
  {
   "cell_type": "code",
   "execution_count": 225,
   "metadata": {
    "collapsed": true
   },
   "outputs": [],
   "source": [
    "pd.concat([Bid3_13_1,Bid3_13_2,Bid3_13_3,Bid3_13_4,Bid3_13_5]).to_csv('bid3_13_218_227.csv')"
   ]
  },
  {
   "cell_type": "code",
   "execution_count": null,
   "metadata": {
    "collapsed": true
   },
   "outputs": [],
   "source": []
  },
  {
   "cell_type": "code",
   "execution_count": 226,
   "metadata": {
    "collapsed": false
   },
   "outputs": [],
   "source": [
    "a = 0\n",
    "Bid1_16_1 = pd.DataFrame([SUM_Bid1_16[a],SUM_Bid1_16[a+1]/SUM_Bid1_16[a],SUM_Bid1_16[a+2]/SUM_Bid1_16[a],SUM_Bid1_16[a+3]/SUM_Bid1_16[a],SUM_Bid1_16[a+4]/SUM_Bid1_16[a]])"
   ]
  },
  {
   "cell_type": "code",
   "execution_count": 227,
   "metadata": {
    "collapsed": false
   },
   "outputs": [],
   "source": [
    "a = 5\n",
    "Bid1_16_2 = pd.DataFrame([SUM_Bid1_16[a],SUM_Bid1_16[a+1]/SUM_Bid1_16[a],SUM_Bid1_16[a+2]/SUM_Bid1_16[a],SUM_Bid1_16[a+3]/SUM_Bid1_16[a],SUM_Bid1_16[a+4]/SUM_Bid1_16[a]])"
   ]
  },
  {
   "cell_type": "code",
   "execution_count": 228,
   "metadata": {
    "collapsed": false
   },
   "outputs": [],
   "source": [
    "a = 10\n",
    "Bid1_16_3 = pd.DataFrame([SUM_Bid1_16[a],SUM_Bid1_16[a+1]/SUM_Bid1_16[a],SUM_Bid1_16[a+2]/SUM_Bid1_16[a],SUM_Bid1_16[a+3]/SUM_Bid1_16[a],SUM_Bid1_16[a+4]/SUM_Bid1_16[a]])"
   ]
  },
  {
   "cell_type": "code",
   "execution_count": 229,
   "metadata": {
    "collapsed": false
   },
   "outputs": [],
   "source": [
    "a = 15\n",
    "Bid1_16_4 = pd.DataFrame([SUM_Bid1_16[a],SUM_Bid1_16[a+1]/SUM_Bid1_16[a],SUM_Bid1_16[a+2]/SUM_Bid1_16[a],SUM_Bid1_16[a+3]/SUM_Bid1_16[a],SUM_Bid1_16[a+4]/SUM_Bid1_16[a]])"
   ]
  },
  {
   "cell_type": "code",
   "execution_count": 230,
   "metadata": {
    "collapsed": false
   },
   "outputs": [],
   "source": [
    "a = 20\n",
    "Bid1_16_5 = pd.DataFrame([SUM_Bid1_16[a],SUM_Bid1_16[a+1]/SUM_Bid1_16[a],SUM_Bid1_16[a+2]/SUM_Bid1_16[a],SUM_Bid1_16[a+3]/SUM_Bid1_16[a],SUM_Bid1_16[a+4]/SUM_Bid1_16[a]])"
   ]
  },
  {
   "cell_type": "code",
   "execution_count": 231,
   "metadata": {
    "collapsed": false,
    "scrolled": true
   },
   "outputs": [
    {
     "data": {
      "text/html": [
       "<div>\n",
       "<table border=\"1\" class=\"dataframe\">\n",
       "  <thead>\n",
       "    <tr style=\"text-align: right;\">\n",
       "      <th></th>\n",
       "      <th>0</th>\n",
       "      <th>1</th>\n",
       "      <th>2</th>\n",
       "      <th>3</th>\n",
       "      <th>4</th>\n",
       "    </tr>\n",
       "  </thead>\n",
       "  <tbody>\n",
       "    <tr>\n",
       "      <th>0</th>\n",
       "      <td>19.000000</td>\n",
       "      <td>579.000000</td>\n",
       "      <td>15718.000000</td>\n",
       "      <td>967.000000</td>\n",
       "      <td>130.000000</td>\n",
       "    </tr>\n",
       "    <tr>\n",
       "      <th>1</th>\n",
       "      <td>0.000000</td>\n",
       "      <td>0.549223</td>\n",
       "      <td>0.425309</td>\n",
       "      <td>0.502585</td>\n",
       "      <td>0.800000</td>\n",
       "    </tr>\n",
       "    <tr>\n",
       "      <th>2</th>\n",
       "      <td>0.947368</td>\n",
       "      <td>0.258031</td>\n",
       "      <td>-0.863659</td>\n",
       "      <td>0.287487</td>\n",
       "      <td>0.792308</td>\n",
       "    </tr>\n",
       "    <tr>\n",
       "      <th>3</th>\n",
       "      <td>1.052632</td>\n",
       "      <td>5.849741</td>\n",
       "      <td>1.998473</td>\n",
       "      <td>2.356774</td>\n",
       "      <td>3.115385</td>\n",
       "    </tr>\n",
       "    <tr>\n",
       "      <th>4</th>\n",
       "      <td>2131.578947</td>\n",
       "      <td>449.625216</td>\n",
       "      <td>584.395025</td>\n",
       "      <td>581.586350</td>\n",
       "      <td>145.223077</td>\n",
       "    </tr>\n",
       "    <tr>\n",
       "      <th>0</th>\n",
       "      <td>67.000000</td>\n",
       "      <td>720.000000</td>\n",
       "      <td>13521.000000</td>\n",
       "      <td>847.000000</td>\n",
       "      <td>79.000000</td>\n",
       "    </tr>\n",
       "    <tr>\n",
       "      <th>1</th>\n",
       "      <td>0.000000</td>\n",
       "      <td>0.422222</td>\n",
       "      <td>0.429184</td>\n",
       "      <td>0.453365</td>\n",
       "      <td>0.683544</td>\n",
       "    </tr>\n",
       "    <tr>\n",
       "      <th>2</th>\n",
       "      <td>0.970149</td>\n",
       "      <td>0.107222</td>\n",
       "      <td>-0.067007</td>\n",
       "      <td>-0.298701</td>\n",
       "      <td>0.645570</td>\n",
       "    </tr>\n",
       "    <tr>\n",
       "      <th>3</th>\n",
       "      <td>1.029851</td>\n",
       "      <td>7.362500</td>\n",
       "      <td>2.112788</td>\n",
       "      <td>3.238489</td>\n",
       "      <td>4.291139</td>\n",
       "    </tr>\n",
       "    <tr>\n",
       "      <th>4</th>\n",
       "      <td>1235.820896</td>\n",
       "      <td>583.183333</td>\n",
       "      <td>668.164337</td>\n",
       "      <td>624.229044</td>\n",
       "      <td>185.455696</td>\n",
       "    </tr>\n",
       "    <tr>\n",
       "      <th>0</th>\n",
       "      <td>82.000000</td>\n",
       "      <td>519.000000</td>\n",
       "      <td>14728.000000</td>\n",
       "      <td>956.000000</td>\n",
       "      <td>135.000000</td>\n",
       "    </tr>\n",
       "    <tr>\n",
       "      <th>1</th>\n",
       "      <td>0.048780</td>\n",
       "      <td>0.335260</td>\n",
       "      <td>0.315318</td>\n",
       "      <td>0.559623</td>\n",
       "      <td>0.577778</td>\n",
       "    </tr>\n",
       "    <tr>\n",
       "      <th>2</th>\n",
       "      <td>0.609756</td>\n",
       "      <td>-0.602697</td>\n",
       "      <td>-0.191010</td>\n",
       "      <td>-0.348326</td>\n",
       "      <td>0.629630</td>\n",
       "    </tr>\n",
       "    <tr>\n",
       "      <th>3</th>\n",
       "      <td>1.341463</td>\n",
       "      <td>11.219653</td>\n",
       "      <td>2.338743</td>\n",
       "      <td>3.649582</td>\n",
       "      <td>4.392593</td>\n",
       "    </tr>\n",
       "    <tr>\n",
       "      <th>4</th>\n",
       "      <td>1495.853659</td>\n",
       "      <td>685.314066</td>\n",
       "      <td>749.877784</td>\n",
       "      <td>588.776151</td>\n",
       "      <td>109.651852</td>\n",
       "    </tr>\n",
       "    <tr>\n",
       "      <th>0</th>\n",
       "      <td>34.000000</td>\n",
       "      <td>721.000000</td>\n",
       "      <td>10283.000000</td>\n",
       "      <td>664.000000</td>\n",
       "      <td>42.000000</td>\n",
       "    </tr>\n",
       "    <tr>\n",
       "      <th>1</th>\n",
       "      <td>0.294118</td>\n",
       "      <td>0.490985</td>\n",
       "      <td>0.316834</td>\n",
       "      <td>0.435241</td>\n",
       "      <td>0.714286</td>\n",
       "    </tr>\n",
       "    <tr>\n",
       "      <th>2</th>\n",
       "      <td>0.411765</td>\n",
       "      <td>-0.739806</td>\n",
       "      <td>-0.357736</td>\n",
       "      <td>-0.685241</td>\n",
       "      <td>0.738095</td>\n",
       "    </tr>\n",
       "    <tr>\n",
       "      <th>3</th>\n",
       "      <td>1.617647</td>\n",
       "      <td>5.558946</td>\n",
       "      <td>2.619664</td>\n",
       "      <td>3.778614</td>\n",
       "      <td>3.666667</td>\n",
       "    </tr>\n",
       "    <tr>\n",
       "      <th>4</th>\n",
       "      <td>1039.294118</td>\n",
       "      <td>589.141470</td>\n",
       "      <td>765.596324</td>\n",
       "      <td>684.165663</td>\n",
       "      <td>102.380952</td>\n",
       "    </tr>\n",
       "    <tr>\n",
       "      <th>0</th>\n",
       "      <td>58.000000</td>\n",
       "      <td>1487.000000</td>\n",
       "      <td>12363.000000</td>\n",
       "      <td>809.000000</td>\n",
       "      <td>72.000000</td>\n",
       "    </tr>\n",
       "    <tr>\n",
       "      <th>1</th>\n",
       "      <td>0.000000</td>\n",
       "      <td>0.261601</td>\n",
       "      <td>0.305427</td>\n",
       "      <td>0.489493</td>\n",
       "      <td>0.819444</td>\n",
       "    </tr>\n",
       "    <tr>\n",
       "      <th>2</th>\n",
       "      <td>0.000000</td>\n",
       "      <td>-0.607935</td>\n",
       "      <td>-0.413492</td>\n",
       "      <td>-0.391842</td>\n",
       "      <td>0.777778</td>\n",
       "    </tr>\n",
       "    <tr>\n",
       "      <th>3</th>\n",
       "      <td>2.000000</td>\n",
       "      <td>4.521184</td>\n",
       "      <td>2.832565</td>\n",
       "      <td>3.616811</td>\n",
       "      <td>3.944444</td>\n",
       "    </tr>\n",
       "    <tr>\n",
       "      <th>4</th>\n",
       "      <td>1101.724138</td>\n",
       "      <td>752.334230</td>\n",
       "      <td>737.596215</td>\n",
       "      <td>669.823239</td>\n",
       "      <td>169.902778</td>\n",
       "    </tr>\n",
       "  </tbody>\n",
       "</table>\n",
       "</div>"
      ],
      "text/plain": [
       "             0            1             2           3           4\n",
       "0    19.000000   579.000000  15718.000000  967.000000  130.000000\n",
       "1     0.000000     0.549223      0.425309    0.502585    0.800000\n",
       "2     0.947368     0.258031     -0.863659    0.287487    0.792308\n",
       "3     1.052632     5.849741      1.998473    2.356774    3.115385\n",
       "4  2131.578947   449.625216    584.395025  581.586350  145.223077\n",
       "0    67.000000   720.000000  13521.000000  847.000000   79.000000\n",
       "1     0.000000     0.422222      0.429184    0.453365    0.683544\n",
       "2     0.970149     0.107222     -0.067007   -0.298701    0.645570\n",
       "3     1.029851     7.362500      2.112788    3.238489    4.291139\n",
       "4  1235.820896   583.183333    668.164337  624.229044  185.455696\n",
       "0    82.000000   519.000000  14728.000000  956.000000  135.000000\n",
       "1     0.048780     0.335260      0.315318    0.559623    0.577778\n",
       "2     0.609756    -0.602697     -0.191010   -0.348326    0.629630\n",
       "3     1.341463    11.219653      2.338743    3.649582    4.392593\n",
       "4  1495.853659   685.314066    749.877784  588.776151  109.651852\n",
       "0    34.000000   721.000000  10283.000000  664.000000   42.000000\n",
       "1     0.294118     0.490985      0.316834    0.435241    0.714286\n",
       "2     0.411765    -0.739806     -0.357736   -0.685241    0.738095\n",
       "3     1.617647     5.558946      2.619664    3.778614    3.666667\n",
       "4  1039.294118   589.141470    765.596324  684.165663  102.380952\n",
       "0    58.000000  1487.000000  12363.000000  809.000000   72.000000\n",
       "1     0.000000     0.261601      0.305427    0.489493    0.819444\n",
       "2     0.000000    -0.607935     -0.413492   -0.391842    0.777778\n",
       "3     2.000000     4.521184      2.832565    3.616811    3.944444\n",
       "4  1101.724138   752.334230    737.596215  669.823239  169.902778"
      ]
     },
     "execution_count": 231,
     "metadata": {},
     "output_type": "execute_result"
    }
   ],
   "source": [
    "pd.concat([Bid1_16_1,Bid1_16_2,Bid1_16_3,Bid1_16_4,Bid1_16_5])"
   ]
  },
  {
   "cell_type": "code",
   "execution_count": 233,
   "metadata": {
    "collapsed": false
   },
   "outputs": [],
   "source": [
    "pd.concat([Bid1_16_1,Bid1_16_2,Bid1_16_3,Bid1_16_4,Bid1_16_5]).to_csv('bid1_16_218_227.csv')"
   ]
  },
  {
   "cell_type": "code",
   "execution_count": null,
   "metadata": {
    "collapsed": true
   },
   "outputs": [],
   "source": []
  },
  {
   "cell_type": "code",
   "execution_count": null,
   "metadata": {
    "collapsed": true
   },
   "outputs": [],
   "source": []
  },
  {
   "cell_type": "code",
   "execution_count": null,
   "metadata": {
    "collapsed": true
   },
   "outputs": [],
   "source": []
  },
  {
   "cell_type": "code",
   "execution_count": 234,
   "metadata": {
    "collapsed": false
   },
   "outputs": [],
   "source": [
    "a = 0\n",
    "Bid2_16_1 = pd.DataFrame([SUM_Bid2_16[a],SUM_Bid2_16[a+1]/SUM_Bid2_16[a],SUM_Bid2_16[a+2]/SUM_Bid2_16[a],SUM_Bid2_16[a+3]/SUM_Bid2_16[a],SUM_Bid2_16[a+4]/SUM_Bid2_16[a]])"
   ]
  },
  {
   "cell_type": "code",
   "execution_count": 235,
   "metadata": {
    "collapsed": false
   },
   "outputs": [],
   "source": [
    "a = 5\n",
    "Bid2_16_2 = pd.DataFrame([SUM_Bid2_16[a],SUM_Bid2_16[a+1]/SUM_Bid2_16[a],SUM_Bid2_16[a+2]/SUM_Bid2_16[a],SUM_Bid2_16[a+3]/SUM_Bid2_16[a],SUM_Bid2_16[a+4]/SUM_Bid2_16[a]])"
   ]
  },
  {
   "cell_type": "code",
   "execution_count": 236,
   "metadata": {
    "collapsed": false
   },
   "outputs": [],
   "source": [
    "a = 10\n",
    "Bid2_16_3 = pd.DataFrame([SUM_Bid2_16[a],SUM_Bid2_16[a+1]/SUM_Bid2_16[a],SUM_Bid2_16[a+2]/SUM_Bid2_16[a],SUM_Bid2_16[a+3]/SUM_Bid2_16[a],SUM_Bid2_16[a+4]/SUM_Bid2_16[a]])"
   ]
  },
  {
   "cell_type": "code",
   "execution_count": 237,
   "metadata": {
    "collapsed": false
   },
   "outputs": [],
   "source": [
    "a = 15\n",
    "Bid2_16_4 = pd.DataFrame([SUM_Bid2_16[a],SUM_Bid2_16[a+1]/SUM_Bid2_16[a],SUM_Bid2_16[a+2]/SUM_Bid2_16[a],SUM_Bid2_16[a+3]/SUM_Bid2_16[a],SUM_Bid2_16[a+4]/SUM_Bid2_16[a]])"
   ]
  },
  {
   "cell_type": "code",
   "execution_count": 238,
   "metadata": {
    "collapsed": false
   },
   "outputs": [],
   "source": [
    "a = 20\n",
    "Bid2_16_5 = pd.DataFrame([SUM_Bid2_16[a],SUM_Bid2_16[a+1]/SUM_Bid2_16[a],SUM_Bid2_16[a+2]/SUM_Bid2_16[a],SUM_Bid2_16[a+3]/SUM_Bid2_16[a],SUM_Bid2_16[a+4]/SUM_Bid2_16[a]])"
   ]
  },
  {
   "cell_type": "code",
   "execution_count": 239,
   "metadata": {
    "collapsed": false,
    "scrolled": true
   },
   "outputs": [
    {
     "data": {
      "text/html": [
       "<div>\n",
       "<table border=\"1\" class=\"dataframe\">\n",
       "  <thead>\n",
       "    <tr style=\"text-align: right;\">\n",
       "      <th></th>\n",
       "      <th>0</th>\n",
       "      <th>1</th>\n",
       "      <th>2</th>\n",
       "      <th>3</th>\n",
       "      <th>4</th>\n",
       "    </tr>\n",
       "  </thead>\n",
       "  <tbody>\n",
       "    <tr>\n",
       "      <th>0</th>\n",
       "      <td>19.000000</td>\n",
       "      <td>579.000000</td>\n",
       "      <td>15718.000000</td>\n",
       "      <td>967.000000</td>\n",
       "      <td>130.000000</td>\n",
       "    </tr>\n",
       "    <tr>\n",
       "      <th>1</th>\n",
       "      <td>0.000000</td>\n",
       "      <td>0.174439</td>\n",
       "      <td>0.181448</td>\n",
       "      <td>0.283351</td>\n",
       "      <td>0.746154</td>\n",
       "    </tr>\n",
       "    <tr>\n",
       "      <th>2</th>\n",
       "      <td>0.947368</td>\n",
       "      <td>0.510190</td>\n",
       "      <td>-0.960224</td>\n",
       "      <td>0.454395</td>\n",
       "      <td>1.592308</td>\n",
       "    </tr>\n",
       "    <tr>\n",
       "      <th>3</th>\n",
       "      <td>2.052632</td>\n",
       "      <td>9.713299</td>\n",
       "      <td>3.064067</td>\n",
       "      <td>3.435367</td>\n",
       "      <td>4.115385</td>\n",
       "    </tr>\n",
       "    <tr>\n",
       "      <th>4</th>\n",
       "      <td>2463.157895</td>\n",
       "      <td>586.949914</td>\n",
       "      <td>725.552424</td>\n",
       "      <td>760.786970</td>\n",
       "      <td>319.361538</td>\n",
       "    </tr>\n",
       "    <tr>\n",
       "      <th>0</th>\n",
       "      <td>67.000000</td>\n",
       "      <td>720.000000</td>\n",
       "      <td>13521.000000</td>\n",
       "      <td>847.000000</td>\n",
       "      <td>79.000000</td>\n",
       "    </tr>\n",
       "    <tr>\n",
       "      <th>1</th>\n",
       "      <td>0.000000</td>\n",
       "      <td>0.370833</td>\n",
       "      <td>0.176540</td>\n",
       "      <td>0.244392</td>\n",
       "      <td>0.544304</td>\n",
       "    </tr>\n",
       "    <tr>\n",
       "      <th>2</th>\n",
       "      <td>0.970149</td>\n",
       "      <td>0.450278</td>\n",
       "      <td>-0.028282</td>\n",
       "      <td>-0.132704</td>\n",
       "      <td>1.329114</td>\n",
       "    </tr>\n",
       "    <tr>\n",
       "      <th>3</th>\n",
       "      <td>2.029851</td>\n",
       "      <td>11.145833</td>\n",
       "      <td>3.156793</td>\n",
       "      <td>4.330579</td>\n",
       "      <td>5.291139</td>\n",
       "    </tr>\n",
       "    <tr>\n",
       "      <th>4</th>\n",
       "      <td>1383.582090</td>\n",
       "      <td>688.226389</td>\n",
       "      <td>803.807928</td>\n",
       "      <td>754.744982</td>\n",
       "      <td>185.215190</td>\n",
       "    </tr>\n",
       "    <tr>\n",
       "      <th>0</th>\n",
       "      <td>82.000000</td>\n",
       "      <td>519.000000</td>\n",
       "      <td>14728.000000</td>\n",
       "      <td>956.000000</td>\n",
       "      <td>135.000000</td>\n",
       "    </tr>\n",
       "    <tr>\n",
       "      <th>1</th>\n",
       "      <td>0.000000</td>\n",
       "      <td>0.244701</td>\n",
       "      <td>0.105581</td>\n",
       "      <td>0.311715</td>\n",
       "      <td>0.525926</td>\n",
       "    </tr>\n",
       "    <tr>\n",
       "      <th>2</th>\n",
       "      <td>0.609756</td>\n",
       "      <td>-0.484393</td>\n",
       "      <td>-0.118169</td>\n",
       "      <td>0.035565</td>\n",
       "      <td>1.207407</td>\n",
       "    </tr>\n",
       "    <tr>\n",
       "      <th>3</th>\n",
       "      <td>2.341463</td>\n",
       "      <td>16.258189</td>\n",
       "      <td>3.357618</td>\n",
       "      <td>4.710251</td>\n",
       "      <td>5.392593</td>\n",
       "    </tr>\n",
       "    <tr>\n",
       "      <th>4</th>\n",
       "      <td>1602.439024</td>\n",
       "      <td>788.263969</td>\n",
       "      <td>849.589693</td>\n",
       "      <td>752.680962</td>\n",
       "      <td>194.422222</td>\n",
       "    </tr>\n",
       "    <tr>\n",
       "      <th>0</th>\n",
       "      <td>34.000000</td>\n",
       "      <td>721.000000</td>\n",
       "      <td>10283.000000</td>\n",
       "      <td>664.000000</td>\n",
       "      <td>42.000000</td>\n",
       "    </tr>\n",
       "    <tr>\n",
       "      <th>1</th>\n",
       "      <td>0.000000</td>\n",
       "      <td>0.299584</td>\n",
       "      <td>0.092288</td>\n",
       "      <td>0.216867</td>\n",
       "      <td>0.690476</td>\n",
       "    </tr>\n",
       "    <tr>\n",
       "      <th>2</th>\n",
       "      <td>0.411765</td>\n",
       "      <td>-0.924272</td>\n",
       "      <td>-0.491374</td>\n",
       "      <td>-0.432229</td>\n",
       "      <td>1.452381</td>\n",
       "    </tr>\n",
       "    <tr>\n",
       "      <th>3</th>\n",
       "      <td>2.617647</td>\n",
       "      <td>17.267684</td>\n",
       "      <td>3.678401</td>\n",
       "      <td>4.859940</td>\n",
       "      <td>4.666667</td>\n",
       "    </tr>\n",
       "    <tr>\n",
       "      <th>4</th>\n",
       "      <td>1244.117647</td>\n",
       "      <td>777.923717</td>\n",
       "      <td>858.580181</td>\n",
       "      <td>799.274096</td>\n",
       "      <td>199.071429</td>\n",
       "    </tr>\n",
       "    <tr>\n",
       "      <th>0</th>\n",
       "      <td>58.000000</td>\n",
       "      <td>1487.000000</td>\n",
       "      <td>12363.000000</td>\n",
       "      <td>809.000000</td>\n",
       "      <td>72.000000</td>\n",
       "    </tr>\n",
       "    <tr>\n",
       "      <th>1</th>\n",
       "      <td>0.000000</td>\n",
       "      <td>0.195696</td>\n",
       "      <td>0.125536</td>\n",
       "      <td>0.177998</td>\n",
       "      <td>0.763889</td>\n",
       "    </tr>\n",
       "    <tr>\n",
       "      <th>2</th>\n",
       "      <td>0.000000</td>\n",
       "      <td>-0.439005</td>\n",
       "      <td>-0.319049</td>\n",
       "      <td>-0.195303</td>\n",
       "      <td>1.597222</td>\n",
       "    </tr>\n",
       "    <tr>\n",
       "      <th>3</th>\n",
       "      <td>3.000000</td>\n",
       "      <td>12.567586</td>\n",
       "      <td>3.845345</td>\n",
       "      <td>4.651422</td>\n",
       "      <td>4.944444</td>\n",
       "    </tr>\n",
       "    <tr>\n",
       "      <th>4</th>\n",
       "      <td>1163.793103</td>\n",
       "      <td>821.735037</td>\n",
       "      <td>825.190811</td>\n",
       "      <td>825.841780</td>\n",
       "      <td>301.402778</td>\n",
       "    </tr>\n",
       "  </tbody>\n",
       "</table>\n",
       "</div>"
      ],
      "text/plain": [
       "             0            1             2           3           4\n",
       "0    19.000000   579.000000  15718.000000  967.000000  130.000000\n",
       "1     0.000000     0.174439      0.181448    0.283351    0.746154\n",
       "2     0.947368     0.510190     -0.960224    0.454395    1.592308\n",
       "3     2.052632     9.713299      3.064067    3.435367    4.115385\n",
       "4  2463.157895   586.949914    725.552424  760.786970  319.361538\n",
       "0    67.000000   720.000000  13521.000000  847.000000   79.000000\n",
       "1     0.000000     0.370833      0.176540    0.244392    0.544304\n",
       "2     0.970149     0.450278     -0.028282   -0.132704    1.329114\n",
       "3     2.029851    11.145833      3.156793    4.330579    5.291139\n",
       "4  1383.582090   688.226389    803.807928  754.744982  185.215190\n",
       "0    82.000000   519.000000  14728.000000  956.000000  135.000000\n",
       "1     0.000000     0.244701      0.105581    0.311715    0.525926\n",
       "2     0.609756    -0.484393     -0.118169    0.035565    1.207407\n",
       "3     2.341463    16.258189      3.357618    4.710251    5.392593\n",
       "4  1602.439024   788.263969    849.589693  752.680962  194.422222\n",
       "0    34.000000   721.000000  10283.000000  664.000000   42.000000\n",
       "1     0.000000     0.299584      0.092288    0.216867    0.690476\n",
       "2     0.411765    -0.924272     -0.491374   -0.432229    1.452381\n",
       "3     2.617647    17.267684      3.678401    4.859940    4.666667\n",
       "4  1244.117647   777.923717    858.580181  799.274096  199.071429\n",
       "0    58.000000  1487.000000  12363.000000  809.000000   72.000000\n",
       "1     0.000000     0.195696      0.125536    0.177998    0.763889\n",
       "2     0.000000    -0.439005     -0.319049   -0.195303    1.597222\n",
       "3     3.000000    12.567586      3.845345    4.651422    4.944444\n",
       "4  1163.793103   821.735037    825.190811  825.841780  301.402778"
      ]
     },
     "execution_count": 239,
     "metadata": {},
     "output_type": "execute_result"
    }
   ],
   "source": [
    "pd.concat([Bid2_16_1,Bid2_16_2,Bid2_16_3,Bid2_16_4,Bid2_16_5])"
   ]
  },
  {
   "cell_type": "code",
   "execution_count": 240,
   "metadata": {
    "collapsed": true
   },
   "outputs": [],
   "source": [
    "pd.concat([Bid2_16_1,Bid2_16_2,Bid2_16_3,Bid2_16_4,Bid2_16_5]).to_csv('bid2_16_218_227.csv')"
   ]
  },
  {
   "cell_type": "code",
   "execution_count": null,
   "metadata": {
    "collapsed": true
   },
   "outputs": [],
   "source": []
  },
  {
   "cell_type": "code",
   "execution_count": 241,
   "metadata": {
    "collapsed": false,
    "scrolled": true
   },
   "outputs": [],
   "source": [
    "a = 0\n",
    "Bid3_16_1 = pd.DataFrame([SUM_Bid3_16[a],SUM_Bid3_16[a+1]/SUM_Bid3_16[a],SUM_Bid3_16[a+2]/SUM_Bid3_16[a],SUM_Bid3_16[a+3]/SUM_Bid3_16[a],SUM_Bid3_16[a+4]/SUM_Bid3_16[a]])"
   ]
  },
  {
   "cell_type": "code",
   "execution_count": 242,
   "metadata": {
    "collapsed": false
   },
   "outputs": [],
   "source": [
    "a = 5\n",
    "Bid3_16_2 = pd.DataFrame([SUM_Bid3_16[a],SUM_Bid3_16[a+1]/SUM_Bid3_16[a],SUM_Bid3_16[a+2]/SUM_Bid3_16[a],SUM_Bid3_16[a+3]/SUM_Bid3_16[a],SUM_Bid3_16[a+4]/SUM_Bid3_16[a]])"
   ]
  },
  {
   "cell_type": "code",
   "execution_count": 243,
   "metadata": {
    "collapsed": false
   },
   "outputs": [],
   "source": [
    "a = 10\n",
    "Bid3_16_3 = pd.DataFrame([SUM_Bid3_16[a],SUM_Bid3_16[a+1]/SUM_Bid3_16[a],SUM_Bid3_16[a+2]/SUM_Bid3_16[a],SUM_Bid3_16[a+3]/SUM_Bid3_16[a],SUM_Bid3_16[a+4]/SUM_Bid3_16[a]])"
   ]
  },
  {
   "cell_type": "code",
   "execution_count": 244,
   "metadata": {
    "collapsed": false
   },
   "outputs": [],
   "source": [
    "a = 15\n",
    "Bid3_16_4 = pd.DataFrame([SUM_Bid3_16[a],SUM_Bid3_16[a+1]/SUM_Bid3_16[a],SUM_Bid3_16[a+2]/SUM_Bid3_16[a],SUM_Bid3_16[a+3]/SUM_Bid3_16[a],SUM_Bid3_16[a+4]/SUM_Bid3_16[a]])"
   ]
  },
  {
   "cell_type": "code",
   "execution_count": 245,
   "metadata": {
    "collapsed": false
   },
   "outputs": [],
   "source": [
    "a = 20\n",
    "Bid3_16_5 = pd.DataFrame([SUM_Bid3_16[a],SUM_Bid3_16[a+1]/SUM_Bid3_16[a],SUM_Bid3_16[a+2]/SUM_Bid3_16[a],SUM_Bid3_16[a+3]/SUM_Bid3_16[a],SUM_Bid3_16[a+4]/SUM_Bid3_16[a]])"
   ]
  },
  {
   "cell_type": "code",
   "execution_count": 246,
   "metadata": {
    "collapsed": false,
    "scrolled": true
   },
   "outputs": [
    {
     "data": {
      "text/html": [
       "<div>\n",
       "<table border=\"1\" class=\"dataframe\">\n",
       "  <thead>\n",
       "    <tr style=\"text-align: right;\">\n",
       "      <th></th>\n",
       "      <th>0</th>\n",
       "      <th>1</th>\n",
       "      <th>2</th>\n",
       "      <th>3</th>\n",
       "      <th>4</th>\n",
       "    </tr>\n",
       "  </thead>\n",
       "  <tbody>\n",
       "    <tr>\n",
       "      <th>0</th>\n",
       "      <td>19.000000</td>\n",
       "      <td>579.000000</td>\n",
       "      <td>15718.000000</td>\n",
       "      <td>967.000000</td>\n",
       "      <td>130.000000</td>\n",
       "    </tr>\n",
       "    <tr>\n",
       "      <th>1</th>\n",
       "      <td>0.000000</td>\n",
       "      <td>0.150259</td>\n",
       "      <td>0.085507</td>\n",
       "      <td>0.189245</td>\n",
       "      <td>0.569231</td>\n",
       "    </tr>\n",
       "    <tr>\n",
       "      <th>2</th>\n",
       "      <td>0.947368</td>\n",
       "      <td>0.660449</td>\n",
       "      <td>-0.907495</td>\n",
       "      <td>0.615719</td>\n",
       "      <td>2.338462</td>\n",
       "    </tr>\n",
       "    <tr>\n",
       "      <th>3</th>\n",
       "      <td>3.052632</td>\n",
       "      <td>13.466321</td>\n",
       "      <td>4.064639</td>\n",
       "      <td>4.435367</td>\n",
       "      <td>5.115385</td>\n",
       "    </tr>\n",
       "    <tr>\n",
       "      <th>4</th>\n",
       "      <td>3552.631579</td>\n",
       "      <td>640.008636</td>\n",
       "      <td>775.171141</td>\n",
       "      <td>830.152017</td>\n",
       "      <td>344.830769</td>\n",
       "    </tr>\n",
       "    <tr>\n",
       "      <th>0</th>\n",
       "      <td>67.000000</td>\n",
       "      <td>720.000000</td>\n",
       "      <td>13521.000000</td>\n",
       "      <td>847.000000</td>\n",
       "      <td>79.000000</td>\n",
       "    </tr>\n",
       "    <tr>\n",
       "      <th>1</th>\n",
       "      <td>0.000000</td>\n",
       "      <td>0.316667</td>\n",
       "      <td>0.094446</td>\n",
       "      <td>0.186541</td>\n",
       "      <td>0.430380</td>\n",
       "    </tr>\n",
       "    <tr>\n",
       "      <th>2</th>\n",
       "      <td>0.970149</td>\n",
       "      <td>0.760000</td>\n",
       "      <td>0.049848</td>\n",
       "      <td>0.056198</td>\n",
       "      <td>1.873418</td>\n",
       "    </tr>\n",
       "    <tr>\n",
       "      <th>3</th>\n",
       "      <td>3.029851</td>\n",
       "      <td>14.812500</td>\n",
       "      <td>4.159086</td>\n",
       "      <td>5.330579</td>\n",
       "      <td>6.291139</td>\n",
       "    </tr>\n",
       "    <tr>\n",
       "      <th>4</th>\n",
       "      <td>1504.477612</td>\n",
       "      <td>793.095833</td>\n",
       "      <td>844.908513</td>\n",
       "      <td>814.269185</td>\n",
       "      <td>231.708861</td>\n",
       "    </tr>\n",
       "    <tr>\n",
       "      <th>0</th>\n",
       "      <td>82.000000</td>\n",
       "      <td>519.000000</td>\n",
       "      <td>14728.000000</td>\n",
       "      <td>956.000000</td>\n",
       "      <td>135.000000</td>\n",
       "    </tr>\n",
       "    <tr>\n",
       "      <th>1</th>\n",
       "      <td>0.000000</td>\n",
       "      <td>0.211946</td>\n",
       "      <td>0.046782</td>\n",
       "      <td>0.144351</td>\n",
       "      <td>0.414815</td>\n",
       "    </tr>\n",
       "    <tr>\n",
       "      <th>2</th>\n",
       "      <td>0.609756</td>\n",
       "      <td>-0.291715</td>\n",
       "      <td>-0.098221</td>\n",
       "      <td>0.269874</td>\n",
       "      <td>1.733333</td>\n",
       "    </tr>\n",
       "    <tr>\n",
       "      <th>3</th>\n",
       "      <td>3.341463</td>\n",
       "      <td>21.084778</td>\n",
       "      <td>4.358908</td>\n",
       "      <td>5.710251</td>\n",
       "      <td>6.392593</td>\n",
       "    </tr>\n",
       "    <tr>\n",
       "      <th>4</th>\n",
       "      <td>1767.073171</td>\n",
       "      <td>833.701349</td>\n",
       "      <td>876.730581</td>\n",
       "      <td>835.976987</td>\n",
       "      <td>251.237037</td>\n",
       "    </tr>\n",
       "    <tr>\n",
       "      <th>0</th>\n",
       "      <td>34.000000</td>\n",
       "      <td>721.000000</td>\n",
       "      <td>10283.000000</td>\n",
       "      <td>664.000000</td>\n",
       "      <td>42.000000</td>\n",
       "    </tr>\n",
       "    <tr>\n",
       "      <th>1</th>\n",
       "      <td>0.000000</td>\n",
       "      <td>0.266297</td>\n",
       "      <td>0.031897</td>\n",
       "      <td>0.121988</td>\n",
       "      <td>0.642857</td>\n",
       "    </tr>\n",
       "    <tr>\n",
       "      <th>2</th>\n",
       "      <td>0.411765</td>\n",
       "      <td>-0.662136</td>\n",
       "      <td>-0.486803</td>\n",
       "      <td>-0.295181</td>\n",
       "      <td>2.142857</td>\n",
       "    </tr>\n",
       "    <tr>\n",
       "      <th>3</th>\n",
       "      <td>3.617647</td>\n",
       "      <td>21.970874</td>\n",
       "      <td>4.679276</td>\n",
       "      <td>5.859940</td>\n",
       "      <td>5.666667</td>\n",
       "    </tr>\n",
       "    <tr>\n",
       "      <th>4</th>\n",
       "      <td>1297.058824</td>\n",
       "      <td>817.357836</td>\n",
       "      <td>880.210931</td>\n",
       "      <td>848.096386</td>\n",
       "      <td>324.333333</td>\n",
       "    </tr>\n",
       "    <tr>\n",
       "      <th>0</th>\n",
       "      <td>58.000000</td>\n",
       "      <td>1487.000000</td>\n",
       "      <td>12363.000000</td>\n",
       "      <td>809.000000</td>\n",
       "      <td>72.000000</td>\n",
       "    </tr>\n",
       "    <tr>\n",
       "      <th>1</th>\n",
       "      <td>0.000000</td>\n",
       "      <td>0.147276</td>\n",
       "      <td>0.034215</td>\n",
       "      <td>0.097651</td>\n",
       "      <td>0.652778</td>\n",
       "    </tr>\n",
       "    <tr>\n",
       "      <th>2</th>\n",
       "      <td>0.000000</td>\n",
       "      <td>-0.305851</td>\n",
       "      <td>-0.314228</td>\n",
       "      <td>-0.119901</td>\n",
       "      <td>2.361111</td>\n",
       "    </tr>\n",
       "    <tr>\n",
       "      <th>3</th>\n",
       "      <td>4.000000</td>\n",
       "      <td>15.969738</td>\n",
       "      <td>4.845911</td>\n",
       "      <td>5.651422</td>\n",
       "      <td>5.944444</td>\n",
       "    </tr>\n",
       "    <tr>\n",
       "      <th>4</th>\n",
       "      <td>1287.931034</td>\n",
       "      <td>863.504371</td>\n",
       "      <td>861.765025</td>\n",
       "      <td>860.888752</td>\n",
       "      <td>378.555556</td>\n",
       "    </tr>\n",
       "  </tbody>\n",
       "</table>\n",
       "</div>"
      ],
      "text/plain": [
       "             0            1             2           3           4\n",
       "0    19.000000   579.000000  15718.000000  967.000000  130.000000\n",
       "1     0.000000     0.150259      0.085507    0.189245    0.569231\n",
       "2     0.947368     0.660449     -0.907495    0.615719    2.338462\n",
       "3     3.052632    13.466321      4.064639    4.435367    5.115385\n",
       "4  3552.631579   640.008636    775.171141  830.152017  344.830769\n",
       "0    67.000000   720.000000  13521.000000  847.000000   79.000000\n",
       "1     0.000000     0.316667      0.094446    0.186541    0.430380\n",
       "2     0.970149     0.760000      0.049848    0.056198    1.873418\n",
       "3     3.029851    14.812500      4.159086    5.330579    6.291139\n",
       "4  1504.477612   793.095833    844.908513  814.269185  231.708861\n",
       "0    82.000000   519.000000  14728.000000  956.000000  135.000000\n",
       "1     0.000000     0.211946      0.046782    0.144351    0.414815\n",
       "2     0.609756    -0.291715     -0.098221    0.269874    1.733333\n",
       "3     3.341463    21.084778      4.358908    5.710251    6.392593\n",
       "4  1767.073171   833.701349    876.730581  835.976987  251.237037\n",
       "0    34.000000   721.000000  10283.000000  664.000000   42.000000\n",
       "1     0.000000     0.266297      0.031897    0.121988    0.642857\n",
       "2     0.411765    -0.662136     -0.486803   -0.295181    2.142857\n",
       "3     3.617647    21.970874      4.679276    5.859940    5.666667\n",
       "4  1297.058824   817.357836    880.210931  848.096386  324.333333\n",
       "0    58.000000  1487.000000  12363.000000  809.000000   72.000000\n",
       "1     0.000000     0.147276      0.034215    0.097651    0.652778\n",
       "2     0.000000    -0.305851     -0.314228   -0.119901    2.361111\n",
       "3     4.000000    15.969738      4.845911    5.651422    5.944444\n",
       "4  1287.931034   863.504371    861.765025  860.888752  378.555556"
      ]
     },
     "execution_count": 246,
     "metadata": {},
     "output_type": "execute_result"
    }
   ],
   "source": [
    "pd.concat([Bid3_16_1,Bid3_16_2,Bid3_16_3,Bid3_16_4,Bid3_16_5])"
   ]
  },
  {
   "cell_type": "code",
   "execution_count": 247,
   "metadata": {
    "collapsed": true
   },
   "outputs": [],
   "source": [
    "pd.concat([Bid3_16_1,Bid3_16_2,Bid3_16_3,Bid3_16_4,Bid3_16_5]).to_csv('bid3_16_218_227.csv')"
   ]
  },
  {
   "cell_type": "code",
   "execution_count": null,
   "metadata": {
    "collapsed": true
   },
   "outputs": [],
   "source": []
  },
  {
   "cell_type": "code",
   "execution_count": null,
   "metadata": {
    "collapsed": true
   },
   "outputs": [],
   "source": []
  },
  {
   "cell_type": "code",
   "execution_count": null,
   "metadata": {
    "collapsed": true
   },
   "outputs": [],
   "source": []
  },
  {
   "cell_type": "code",
   "execution_count": null,
   "metadata": {
    "collapsed": true
   },
   "outputs": [],
   "source": []
  },
  {
   "cell_type": "code",
   "execution_count": null,
   "metadata": {
    "collapsed": true
   },
   "outputs": [],
   "source": []
  },
  {
   "cell_type": "code",
   "execution_count": null,
   "metadata": {
    "collapsed": true
   },
   "outputs": [],
   "source": []
  },
  {
   "cell_type": "code",
   "execution_count": null,
   "metadata": {
    "collapsed": true
   },
   "outputs": [],
   "source": []
  },
  {
   "cell_type": "code",
   "execution_count": null,
   "metadata": {
    "collapsed": true
   },
   "outputs": [],
   "source": []
  },
  {
   "cell_type": "code",
   "execution_count": null,
   "metadata": {
    "collapsed": true
   },
   "outputs": [],
   "source": []
  },
  {
   "cell_type": "code",
   "execution_count": null,
   "metadata": {
    "collapsed": true
   },
   "outputs": [],
   "source": []
  },
  {
   "cell_type": "code",
   "execution_count": null,
   "metadata": {
    "collapsed": true
   },
   "outputs": [],
   "source": []
  },
  {
   "cell_type": "code",
   "execution_count": null,
   "metadata": {
    "collapsed": true
   },
   "outputs": [],
   "source": []
  }
 ],
 "metadata": {
  "kernelspec": {
   "display_name": "Python 2",
   "language": "python",
   "name": "python2"
  },
  "language_info": {
   "codemirror_mode": {
    "name": "ipython",
    "version": 2
   },
   "file_extension": ".py",
   "mimetype": "text/x-python",
   "name": "python",
   "nbconvert_exporter": "python",
   "pygments_lexer": "ipython2",
   "version": "2.7.11"
  }
 },
 "nbformat": 4,
 "nbformat_minor": 0
}
