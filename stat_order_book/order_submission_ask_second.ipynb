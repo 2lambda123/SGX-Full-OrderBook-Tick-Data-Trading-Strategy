{
 "cells": [
  {
   "cell_type": "code",
   "execution_count": 1,
   "metadata": {
    "collapsed": false
   },
   "outputs": [
    {
     "name": "stdout",
     "output_type": "stream",
     "text": [
      "Populating the interactive namespace from numpy and matplotlib\n"
     ]
    }
   ],
   "source": [
    "%pylab inline\n",
    "import numpy as np\n",
    "import pandas as pd\n",
    "import matplotlib.pyplot as plt"
   ]
  },
  {
   "cell_type": "code",
   "execution_count": 2,
   "metadata": {
    "collapsed": true
   },
   "outputs": [],
   "source": [
    "def order_book(month,day):\n",
    "    data1 = []\n",
    "    datapath = '/home/bigdatas16/SGX-OrderBook-Tick-Data-Trading-Strategy-/stat_order_book/CNF14_0'+str(month)+'_'+str(day)+'_order_book_final.csv'\n",
    "    data1 = pd.read_csv(datapath,sep='\\t',encoding = 'utf-8')\n",
    "    data_book = data1[['0','1','2','3']]\n",
    "    return data_book"
   ]
  },
  {
   "cell_type": "code",
   "execution_count": 3,
   "metadata": {
    "collapsed": true
   },
   "outputs": [],
   "source": [
    "data_book = order_book(1,28)"
   ]
  },
  {
   "cell_type": "code",
   "execution_count": 4,
   "metadata": {
    "collapsed": true
   },
   "outputs": [],
   "source": [
    "data_book_open = data_book[213*4-3:67229*4+1]\n",
    "data_book_open = data_book_open.reset_index(drop = True)"
   ]
  },
  {
   "cell_type": "code",
   "execution_count": 5,
   "metadata": {
    "collapsed": true
   },
   "outputs": [],
   "source": [
    "def day_time(month,day):\n",
    "    data = []\n",
    "    datapath = '/home/bigdatas16/SGX-OrderBook-Tick-Data-Trading-Strategy-/CN_Futures_2014.0'+str(month)+'.'+str(day)+'.csv'\n",
    "    data = pd.read_csv(datapath)\n",
    "    data_CNF14 = data[data.Series == 'CNF14']\n",
    "    data = data_CNF14\n",
    "    market_open_time = data[data['TimeStamp'].str.contains('2014-0'+str(month)+'-'+str(day)+'D09:00')].index.tolist()[0] \n",
    "    market_close_time = data[data['TimeStamp'].str.contains('2014-0'+str(month)+'-'+str(day)+'D16:00')].index.tolist()[0] \n",
    "    data_open = data[market_open_time:market_close_time+1]\n",
    "    timestamp_ = data_open.TimeStamp.unique()\n",
    "    return timestamp_"
   ]
  },
  {
   "cell_type": "code",
   "execution_count": 6,
   "metadata": {
    "collapsed": true
   },
   "outputs": [],
   "source": [
    "timestamp_time = day_time(1,28)"
   ]
  },
  {
   "cell_type": "code",
   "execution_count": 7,
   "metadata": {
    "collapsed": true
   },
   "outputs": [],
   "source": [
    "def time_transform(timestamp_time):\n",
    "    time_second = []\n",
    "    for i in range(0,len(timestamp_time),1):\n",
    "        second = float(timestamp_time[i][11])*36000 + float(timestamp_time[i][12])*3600 \\\n",
    "                +float(timestamp_time[i][14])*600 + float(timestamp_time[i][15])*60\\\n",
    "                +float(timestamp_time[i][17])*10 + float(timestamp_time[i][18])  \n",
    "        time_second.append(second - 32400.0)\n",
    "    return  time_second"
   ]
  },
  {
   "cell_type": "code",
   "execution_count": 8,
   "metadata": {
    "collapsed": true
   },
   "outputs": [],
   "source": [
    "timestamp_time_second = time_transform(timestamp_time)"
   ]
  },
  {
   "cell_type": "code",
   "execution_count": 9,
   "metadata": {
    "collapsed": true
   },
   "outputs": [],
   "source": [
    "def bid123_ask123_Q(data_book_28_open):\n",
    "    Bid1 = []\n",
    "    Bid2 = []\n",
    "    Bid3 = []\n",
    "    Bid1_Quantity = []\n",
    "    Bid2_Quantity = []\n",
    "    Bid3_Quantity = []\n",
    "    Ask1 = []\n",
    "    Ask2 = []\n",
    "    Ask3 = []\n",
    "    Ask1_Quantity = []\n",
    "    Ask2_Quantity = []\n",
    "    Ask3_Quantity = []\n",
    "\n",
    "    TimeStamp = []\n",
    "    for i in range(1,len(data_book_28_open),4):\n",
    "        #print data_book_28_open.iloc[i]['0']\n",
    "        #print data_book_28_open.iloc[i]['2']\n",
    "        Bid1.append(float(data_book_28_open.iloc[i]['0'])/100.0)\n",
    "        Bid1_Quantity.append(float(data_book_28_open.iloc[i]['1']))\n",
    "\n",
    "        Bid2.append(float(data_book_28_open.iloc[i + 1]['0'])/100.0)\n",
    "        Bid2_Quantity.append(float(data_book_28_open.iloc[i + 1]['1']))  \n",
    "\n",
    "        Bid3.append(float(data_book_28_open.iloc[i + 2]['0'])/100.0)\n",
    "        Bid3_Quantity.append(float(data_book_28_open.iloc[i + 2]['1']))  \n",
    "\n",
    "        Ask1.append(float(data_book_28_open.iloc[i]['2'])/100.0) \n",
    "        Ask1_Quantity.append(float(data_book_28_open.iloc[i]['3']))\n",
    "\n",
    "        Ask2.append(float(data_book_28_open.iloc[i + 1]['2'])/100.0) \n",
    "        Ask2_Quantity.append(float(data_book_28_open.iloc[i + 1]['3']))    \n",
    "\n",
    "        Ask3.append(float(data_book_28_open.iloc[i + 2]['2'])/100.0) \n",
    "        Ask3_Quantity.append(float(data_book_28_open.iloc[i + 2]['3']))    \n",
    "        TimeStamp.append(data_book_28_open.iloc[i-1][1])\n",
    "    return Bid1,Bid1_Quantity,Bid2,Bid2_Quantity,Bid3,Bid3_Quantity,Ask1,Ask1_Quantity,Ask2,Ask2_Quantity,Ask3,Ask3_Quantity,    "
   ]
  },
  {
   "cell_type": "code",
   "execution_count": 10,
   "metadata": {
    "collapsed": false
   },
   "outputs": [
    {
     "name": "stdout",
     "output_type": "stream",
     "text": [
      "Total time = 160.163405\n"
     ]
    }
   ],
   "source": [
    "import time \n",
    "start = time.time()\n",
    "Bid1,Bid1_Quantity,Bid2,Bid2_Quantity,Bid3,Bid3_Quantity,Ask1,Ask1_Quantity,Ask2,Ask2_Quantity,Ask3,Ask3_Quantity = bid123_ask123_Q(data_book_open)\n",
    "end = time.time()  \n",
    "print \"Total time = %f\"%(end - start)"
   ]
  },
  {
   "cell_type": "code",
   "execution_count": 11,
   "metadata": {
    "collapsed": true
   },
   "outputs": [],
   "source": [
    "def rise_bid(Bid1,timestamp_time_second):\n",
    "    rise_ratio = []\n",
    "    for i in range(0,600):\n",
    "        rise_ratio_ = round((Bid1[i] - Bid1[0])*(1.0)/Bid1[0]*100,5)\n",
    "        rise_ratio.append(rise_ratio_)\n",
    "    for i in range(600,len(Bid1),1):\n",
    "        index_start = np.where(np.array(timestamp_time_second[:i]) >= timestamp_time_second[i] - 600)[0][0]\n",
    "        rise_ratio_ = round((Bid1[i] - Bid1[index_start])*(1.0)/Bid1[index_start]*100,5)\n",
    "        rise_ratio.append(rise_ratio_)\n",
    "    return rise_ratio"
   ]
  },
  {
   "cell_type": "code",
   "execution_count": 12,
   "metadata": {
    "collapsed": false
   },
   "outputs": [
    {
     "name": "stdout",
     "output_type": "stream",
     "text": [
      "Total time = 78.568311\n"
     ]
    }
   ],
   "source": [
    "import time \n",
    "start = time.time()\n",
    "rise_ratio_bid = rise_bid(Bid1,timestamp_time_second)\n",
    "end = time.time()  \n",
    "print \"Total time = %f\"%(end - start) "
   ]
  },
  {
   "cell_type": "code",
   "execution_count": 15,
   "metadata": {
    "collapsed": false
   },
   "outputs": [
    {
     "data": {
      "text/plain": [
       "<matplotlib.legend.Legend at 0x7f72a05e7ed0>"
      ]
     },
     "execution_count": 15,
     "metadata": {},
     "output_type": "execute_result"
    },
    {
     "data": {
      "image/png": "[encoded data removed]",
      "text/plain": [
       "<matplotlib.figure.Figure at 0x7f72a06b0fd0>"
      ]
     },
     "metadata": {},
     "output_type": "display_data"
    },
    {
     "data": {
      "image/png": "[encoded data removed]",
      "text/plain": [
       "<matplotlib.figure.Figure at 0x7f72a05a8310>"
      ]
     },
     "metadata": {},
     "output_type": "display_data"
    }
   ],
   "source": [
    "import matplotlib.pyplot as plt\n",
    "plt.figure(figsize = (17,7))\n",
    "plt.grid()\n",
    "plot(Ask1[0:len(Ask1)],label = 'Ask1')\n",
    "#plot(Ask2[0:len(Ask1)],label = 'Ask2')\n",
    "#plot(Ask3[0:data_trade_time_series_1530_1600],label = 'Ask3')\n",
    "#plot(min_Ask1_time_series[0:len(Ask1)],label = 'min Ask1')\n",
    "#plot(max_Bid1_time_series[0:len(Ask1)],label = 'max Bid1')\n",
    "\n",
    "plot(Bid1[0:len(Ask1)],label = 'Bid1')\n",
    "#plot(Bid2[0:len(Ask1)],label = 'Bid2')\n",
    "#plot(Bid3[0:data_trade_time_series_1530_1600],label = 'Bid3')\n",
    "plt.ylim(6670,6780)\n",
    "plt.legend(loc = 4)\n",
    "plt.figure(figsize = (17,5))\n",
    "plt.grid()\n",
    "plot(rise_ratio_bid,label = 'Rise Ratio')\n",
    "\n",
    "plt.axhline(0.4,color = 'g',linestyle = '-',label = 0.4)\n",
    "plt.axhline(0.15,color = 'r',linestyle = '-',label = 0.15)\n",
    "plt.axhline(-0.15,color = 'g',linestyle = '-',label = -0.15)\n",
    "plt.axhline(-0.4,color = 'g',linestyle = '-',label = -0.4)\n",
    "plt.ylim(-0.65,0.65)\n",
    "plt.legend(loc = 4)"
   ]
  },
  {
   "cell_type": "code",
   "execution_count": null,
   "metadata": {
    "collapsed": false
   },
   "outputs": [],
   "source": []
  },
  {
   "cell_type": "code",
   "execution_count": 161,
   "metadata": {
    "collapsed": true
   },
   "outputs": [],
   "source": [
    "def rise_cal(i,rise_ratio_bid,timestamp_time_second,Bid,Ask,index,index_15_min,close_price,\\\n",
    "             N_1,N_2,N_3,N_4,N_5,N_1_T,N_2_T,N_3_T,N_4_T,N_5_T,\\\n",
    "             N_1_E,N_2_E,N_3_E,N_4_E,N_5_E,N_1_M,N_2_M,N_3_M,N_4_M,N_5_M,\\\n",
    "             N_1_TI,N_2_TI,N_3_TI,N_4_TI,N_5_TI):\n",
    "    \n",
    "    if rise_ratio_bid[index] <= -0.4:\n",
    "        N_1 = N_1 + 1\n",
    "        #print rise_ratio_ask[index]\n",
    "        #Ask1[i] < max_Bid1_time_series[i+1]\n",
    "        if Ask1[index] < max(Bid1[(index+1):index + index_15_min + 1]):\n",
    "            N_1_T = N_1_T + 1\n",
    "            N_1_E = N_1_E + (Ask1[index] - Bid1[index])*(1.0)/(5.0)\n",
    "            #print N_1_E\n",
    "            first_max_index = np.where(np.array(Bid1[(index + 1):index + 1 + index_15_min + 1 ]) > Ask1[index])[0][0]\n",
    "            N_1_M = N_1_M + (Ask1[index] - min(Bid1[(index + 1):(index + 1 + first_max_index + 1)]))*(1.0)/(5.0) \n",
    "            \n",
    "            time_start = timestamp_time_second[index]\n",
    "            time_traded = timestamp_time_second[index + first_max_index + 1]\n",
    "            N_1_TI = N_1_TI + (time_traded - time_start)\n",
    "            #print N_1_TI\n",
    "            pass\n",
    "        else:\n",
    "            if i < 25200 - 900:\n",
    "                N_1_E = N_1_E + (Bid1[index + index_15_min] - Bid1[index])*(1.0)/(5.0)\n",
    "                N_1_M = N_1_M + (Ask1[index] - min(Bid1[(index+1):(index + 1 + index_15_min + 1 )]))*(1.0)/(5.0) \n",
    "                #print N_1_M\n",
    "                N_1_TI = N_1_TI + (900.0)\n",
    "                #print N_1_TI\n",
    "            else:\n",
    "                N_1_E = N_1_E + (close_price - Bid1[index])*(1.0)/(5.0)\n",
    "                N_1_M = N_1_M + (Ask1[index] - min(Bid1[(index+1):]))*(1.0)/(5.0) \n",
    "                time_start = timestamp_time_second[index]\n",
    "                time_traded = timestamp_time_second[len(timestamp_time_second)-1]                \n",
    "                N_1_TI = N_1_TI + (time_traded - time_start)\n",
    "                #print N_1_TI\n",
    "            pass\n",
    "\n",
    "    elif -0.4 < rise_ratio_bid[index] <= -0.15:\n",
    "        N_2 = N_2 + 1\n",
    "        #print rise_ratio_ask[index]\n",
    "        if Ask1[index] < max(Bid1[(index+1):index + index_15_min + 1]):\n",
    "            #print 3\n",
    "            N_2_T = N_2_T + 1\n",
    "            N_2_E = N_2_E + (Ask1[index] - Bid1[index])*(1.0)/(5.0)\n",
    "            #print N_2_E\n",
    "            first_max_index = np.where(np.array(Bid1[(index+1):index + 1 + index_15_min + 1 ]) > Ask1[index])[0][0]\n",
    "            N_2_M = N_2_M + (Ask1[index] - min(Bid1[(index + 1):(index + 1 + first_max_index + 1)]))*(1.0)/(5.0) \n",
    "            \n",
    "            time_start = timestamp_time_second[index]\n",
    "            time_traded = timestamp_time_second[index + first_max_index + 1]\n",
    "            N_2_TI = N_2_TI + (time_traded - time_start)\n",
    "            #print N_2_TI\n",
    "            pass\n",
    "        else:\n",
    "            if i < 25200 - 900:\n",
    "                N_2_E = N_2_E + (Bid1[index + index_15_min] - Bid1[index])*(1.0)/(5.0)\n",
    "                N_2_M = N_2_M + (Ask1[index] - min(Bid1[(index+1):(index + 1 + index_15_min + 1 )]))*(1.0)/(5.0) \n",
    "                N_2_TI = N_2_TI + (900.0)\n",
    "                #print N_2_TI\n",
    "            else:\n",
    "                N_2_E = N_2_E + (close_price - Bid1[index])*(1.0)/(5.0)\n",
    "                N_2_M = N_2_M + (Ask1[index] - min(Bid1[(index+1):]))*(1.0)/(5.0)\n",
    "                time_start = timestamp_time_second[index]\n",
    "                time_traded = timestamp_time_second[len(timestamp_time_second)-1]                \n",
    "                N_2_TI = N_2_TI + (time_traded - time_start)\n",
    "                #print N_2_TI\n",
    "            pass\n",
    "\n",
    "    elif -0.15 < rise_ratio_bid[index] <= 0.15:\n",
    "        N_3 = N_3 + 1\n",
    "        #print rise_ratio_ask[index]\n",
    "        if Ask1[index] < max(Bid1[(index+1):index + index_15_min + 1]):\n",
    "            #print 5\n",
    "            N_3_T = N_3_T + 1\n",
    "            N_3_E = N_3_E + (Ask1[index] - Bid1[index])*(1.0)/(5.0)\n",
    "            #print N_3_E\n",
    "            first_max_index = np.where(np.array(Bid1[(index + 1):index + 1 + index_15_min + 1]) > Ask1[index])[0][0]\n",
    "            N_3_M = N_3_M + (Ask1[index] - min(Bid1[(index + 1):(index + 1 + first_max_index + 1)]))*(1.0)/(5.0) \n",
    "            time_start = timestamp_time_second[index]\n",
    "            time_traded = timestamp_time_second[index + first_max_index + 1]\n",
    "            N_3_TI = N_3_TI + (time_traded - time_start)\n",
    "            #print N_3_TI\n",
    "            pass\n",
    "        else:\n",
    "            if i < 25200 - 900:\n",
    "                N_3_E = N_3_E + (Bid1[index + index_15_min] - Bid1[index])*(1.0)/(5.0)\n",
    "                N_3_M = N_3_M + (Ask1[index] - min(Bid1[(index+1):(index + 1 + index_15_min + 1 )]))*(1.0)/(5.0) \n",
    "                N_3_TI = N_3_TI + (900.0)\n",
    "                #print N_3_TI\n",
    "            else:\n",
    "                N_3_E = N_3_E + (close_price - Bid1[index])*(1.0)/(5.0)\n",
    "                N_3_M = N_3_M + (Ask1[index] - min(Bid1[(index+1):]))*(1.0)/(5.0)\n",
    "                time_start = timestamp_time_second[index]\n",
    "                time_traded = timestamp_time_second[len(timestamp_time_second)-1]                \n",
    "                N_3_TI = N_3_TI + (time_traded - time_start)\n",
    "                #print N_3_TI\n",
    "            pass\n",
    "\n",
    "    elif 0.15 < rise_ratio_bid[index] < 0.4:\n",
    "        N_4 = N_4 + 1\n",
    "        #print rise_ratio_ask[index]\n",
    "        if Ask1[index] < max(Bid1[(index+1):index + index_15_min + 1]):\n",
    "            #print 7\n",
    "            N_4_T = N_4_T + 1\n",
    "            N_4_E = N_4_E + (Ask1[index] - Bid1[index])*(1.0)/(5.0)\n",
    "            #print N_4_E\n",
    "            first_max_index = np.where(np.array(Bid1[(index+1):index + 1 + index_15_min + 1 ]) > Ask1[index])[0][0]\n",
    "            N_4_M = N_4_M + (Ask1[index] - min(Bid1[(index + 1):(index + 1 + first_max_index + 1)]))*(1.0)/(5.0) \n",
    "            time_start = timestamp_time_second[index]\n",
    "            time_traded = timestamp_time_second[index + first_max_index + 1]\n",
    "            N_4_TI = N_4_TI + (time_traded - time_start)\n",
    "            #print N_4_TI\n",
    "            pass\n",
    "        else:\n",
    "            if i < 25200 - 900:\n",
    "                N_4_E = N_4_E + (Bid1[index + index_15_min] - Bid1[index])*(1.0)/(5.0)\n",
    "                N_4_M = N_4_M + (Ask1[index] - min(Bid1[(index+1):(index + 1 + index_15_min + 1 )]))*(1.0)/(5.0) \n",
    "                N_4_TI = N_4_TI + (900.0)\n",
    "                #print N_4_TI\n",
    "            else:\n",
    "                N_4_E = N_4_E + (close_price - Bid1[index])*(1.0)/(5.0)\n",
    "                N_4_M = N_4_M + (Ask1[index] - min(Bid1[(index+1):]))*(1.0)/(5.0)\n",
    "                time_start = timestamp_time_second[index]\n",
    "                time_traded = timestamp_time_second[len(timestamp_time_second)-1]                \n",
    "                N_4_TI = N_4_TI + (time_traded - time_start)\n",
    "                #print N_4_TI\n",
    "            pass\n",
    "\n",
    "    elif 0.4 <= rise_ratio_bid[index]:\n",
    "        N_5 = N_5 + 1\n",
    "        #print rise_ratio_ask[index]\n",
    "        if Ask1[index] < max(Bid1[(index+1):index + index_15_min + 1]):\n",
    "            N_5_T = N_5_T + 1\n",
    "            N_5_E = N_5_E + (Ask1[index] - Bid1[index])*(1.0)/(5.0)\n",
    "            #print N_5_E      \n",
    "            first_max_index = np.where(np.array(Bid1[(index+1):index + 1 + index_15_min + 1 ]) > Ask1[index])[0][0]\n",
    "            N_5_M = N_5_M + (Ask1[index] - min(Bid1[(index + 1):(index + 1 + first_max_index + 1)]))*(1.0)/(5.0) \n",
    "            \n",
    "            time_start = timestamp_time_second[index]\n",
    "            time_traded = timestamp_time_second[index + first_max_index + 1]\n",
    "            N_5_TI = N_5_TI + (time_traded - time_start)\n",
    "            #print N_5_TI\n",
    "            pass\n",
    "        else:\n",
    "            if i < 25200 - 900:\n",
    "                N_5_E = N_5_E + (Bid1[index + index_15_min] - Bid1[index])*(1.0)/(5.0)\n",
    "                N_5_M = N_5_M + (Ask1[index] - min(Bid1[(index+1):(index + 1 + index_15_min + 1)]))*(1.0)/(5.0) \n",
    "                N_1_TI = N_1_TI + (900.0)\n",
    "                #print N_5_TI\n",
    "            else:\n",
    "                N_5_E = N_5_E + (close_price - Bid1[index])*(1.0)/(5.0)\n",
    "                N_5_M = N_5_M + (Ask1[index] - min(Bid1[(index+1):]))*(1.0)/(5.0)\n",
    "                time_start = timestamp_time_second[index]\n",
    "                time_traded = timestamp_time_second[len(timestamp_time_second)-1]                \n",
    "                N_5_TI = N_5_TI + (time_traded - time_start)\n",
    "                #print N_5_TI \n",
    "            pass\n",
    "        \n",
    "    return N_1,N_2,N_3,N_4,N_5,N_1_T,N_2_T,N_3_T,N_4_T,N_5_T,N_1_E,N_2_E,N_3_E,N_4_E,N_5_E,N_1_M,N_2_M,N_3_M,N_4_M,N_5_M,\\\n",
    "           N_1_TI,N_2_TI,N_3_TI,N_4_TI,N_5_TI"
   ]
  },
  {
   "cell_type": "code",
   "execution_count": 102,
   "metadata": {
    "collapsed": false
   },
   "outputs": [
    {
     "ename": "KeyboardInterrupt",
     "evalue": "",
     "output_type": "error",
     "traceback": [
      "\u001b[1;31m---------------------------------------------------------------------------\u001b[0m",
      "\u001b[1;31mKeyboardInterrupt\u001b[0m                         Traceback (most recent call last)",
      "\u001b[1;32m<ipython-input-102-87e23460e842>\u001b[0m in \u001b[0;36m<module>\u001b[1;34m()\u001b[0m\n\u001b[0;32m     11\u001b[0m     \u001b[1;31m#print i\u001b[0m\u001b[1;33m\u001b[0m\u001b[1;33m\u001b[0m\u001b[0m\n\u001b[0;32m     12\u001b[0m     \u001b[1;31m#print np.where(array(timestamp_time_second) <= i)[0]\u001b[0m\u001b[1;33m\u001b[0m\u001b[1;33m\u001b[0m\u001b[0m\n\u001b[1;32m---> 13\u001b[1;33m     \u001b[0mindex\u001b[0m \u001b[1;33m=\u001b[0m \u001b[0mnp\u001b[0m\u001b[1;33m.\u001b[0m\u001b[0mwhere\u001b[0m\u001b[1;33m(\u001b[0m\u001b[0marray\u001b[0m\u001b[1;33m(\u001b[0m\u001b[0mtimestamp_time_second\u001b[0m\u001b[1;33m)\u001b[0m \u001b[1;33m<=\u001b[0m \u001b[0mi\u001b[0m\u001b[1;33m)\u001b[0m\u001b[1;33m[\u001b[0m\u001b[1;36m0\u001b[0m\u001b[1;33m]\u001b[0m\u001b[1;33m[\u001b[0m\u001b[1;33m-\u001b[0m\u001b[1;36m1\u001b[0m\u001b[1;33m]\u001b[0m\u001b[1;33m\u001b[0m\u001b[0m\n\u001b[0m\u001b[0;32m     14\u001b[0m     \u001b[1;31m#print i\u001b[0m\u001b[1;33m\u001b[0m\u001b[1;33m\u001b[0m\u001b[0m\n\u001b[0;32m     15\u001b[0m     \u001b[1;31m#print index\u001b[0m\u001b[1;33m\u001b[0m\u001b[1;33m\u001b[0m\u001b[0m\n",
      "\u001b[1;31mKeyboardInterrupt\u001b[0m: "
     ]
    }
   ],
   "source": [
    "Bid = Bid1\n",
    "Ask = Ask1\n",
    "close_price = 6750\n",
    "[N_11,N_12,N_13,N_14,N_15,N_11_T,N_12_T,N_13_T,N_14_T,N_15_T,N_11_E,N_12_E,N_13_E,N_14_E,N_15_E,\\\n",
    " N_11_M,N_12_M,N_13_M,N_14_M,N_15_M,N_11_TI,N_12_TI,N_13_TI,N_14_TI,N_15_TI] = [0 for i in  range(0,25,1)]\n",
    "[N_21,N_22,N_23,N_24,N_25,N_21_T,N_22_T,N_23_T,N_24_T,N_25_T,N_21_E,N_22_E,N_23_E,N_24_E,N_25_E,\\\n",
    " N_21_M,N_22_M,N_23_M,N_24_M,N_25_M,N_21_TI,N_22_TI,N_23_TI,N_24_TI,N_25_TI] = [0 for i in  range(0,25,1)]\n",
    "[N_31,N_32,N_33,N_34,N_35,N_31_T,N_32_T,N_33_T,N_34_T,N_35_T,N_31_E,N_32_E,N_33_E,N_34_E,N_35_E,\\\n",
    " N_31_M,N_32_M,N_33_M,N_34_M,N_35_M,N_31_TI,N_32_TI,N_33_TI,N_34_TI,N_35_TI] = [0 for i in  range(0,25,1)]\n",
    "[N_41,N_42,N_43,N_44,N_45,N_41_T,N_42_T,N_43_T,N_44_T,N_45_T,N_41_E,N_42_E,N_43_E,N_44_E,N_45_E,\\\n",
    " N_41_M,N_42_M,N_43_M,N_44_M,N_45_M,N_41_TI,N_42_TI,N_43_TI,N_44_TI,N_45_TI] = [0 for i in  range(0,25,1)]\n",
    "[N_51,N_52,N_53,N_54,N_55,N_51_T,N_52_T,N_53_T,N_54_T,N_55_T,N_51_E,N_52_E,N_53_E,N_54_E,N_55_E,\\\n",
    " N_51_M,N_52_M,N_53_M,N_54_M,N_55_M,N_51_TI,N_52_TI,N_53_TI,N_54_TI,N_55_TI] = [0 for i in  range(0,25,1)]\n",
    "\n",
    "for i in range(0,25200,1):\n",
    "    #print i\n",
    "    #print np.where(array(timestamp_time_second) <= i)[0]\n",
    "    index = np.where(array(timestamp_time_second) <= i)[0][-1]\n",
    "    #print i\n",
    "    #print index\n",
    "    #print timestamp_time_second[index]\n",
    "    if i < 25200 - 900:\n",
    "        index_15_min = np.where(np.array(timestamp_time_second[index:]) >= i + 900)[0][0]\n",
    "        #print index_15_min\n",
    "        #print timestamp_time_second[index+index_15_min]\n",
    "    #print 'time stamp = %d'%(timestamp_time_second[index])\n",
    "    #print index\n",
    "    #print index + index_15_min \n",
    "    #rint Bid1[index]\n",
    "    #print Ask1[index]\n",
    "    #print len(Ask1[(index+1):index + index_15_min])\n",
    "    \n",
    "    #if Bid1[index] > min(Ask1[(index+1):index + index_15_min]):\n",
    "    #    first_min_index = np.where(np.array(Ask1[(index+1):index + index_15_min]) < Bid1[index])[0][0]\n",
    "    #    print 'mdd = %d'%((max(Ask1[(index + 1):(index + 1 + first_min_index)]) - Bid1[index])*(1.0)/(5.0))\n",
    "    #print min_Ask1_time_series[index + 1]\n",
    "    weighted_Bid = Bid1_Quantity[index] * weight1 + Bid2_Quantity[index] * weight2 + Bid3_Quantity[index] * weight3\n",
    "    weighted_Ask = Ask1_Quantity[index] * weight1 + Ask2_Quantity[index] * weight2 + Ask3_Quantity[index] * weight3  \n",
    "    #print weighted_Bid \n",
    "    #print weighted_Ask\n",
    "    #print (weighted_Bid*(1.0) / weighted_Ask)\n",
    "    \n",
    "    if (weighted_Bid*(1.0) / weighted_Ask) <= 0.7:\n",
    "        N_11,N_12,N_13,N_14,N_15,N_11_T,N_12_T,N_13_T,N_14_T,N_15_T,N_11_E,N_12_E,N_13_E,N_14_E,N_15_E,\\\n",
    "        N_11_M,N_12_M,N_13_M,N_14_M,N_15_M,N_11_TI,N_12_TI,N_13_TI,N_14_TI,N_15_TI = rise_cal(i,rise_ratio_bid,timestamp_time_second,Bid,Ask,index,index_15_min,\\\n",
    "                                                      close_price,N_11,N_12,N_13,N_14,N_15,N_11_T,N_12_T,N_13_T,N_14_T,N_15_T,\\\n",
    "                                                      N_11_E,N_12_E,N_13_E,N_14_E,N_15_E,N_11_M,N_12_M,N_13_M,N_14_M,N_15_M,\\\n",
    "                                                      N_11_TI,N_12_TI,N_13_TI,N_14_TI,N_15_TI)                                               \n",
    "\n",
    "    elif 0.7 < (weighted_Bid*(1.0) / weighted_Ask) <= 0.9:\n",
    "        N_21,N_22,N_23,N_24,N_25,N_21_T,N_22_T,N_23_T,N_24_T,N_25_T,N_21_E,N_22_E,N_23_E,N_24_E,N_25_E,\\\n",
    "        N_21_M,N_22_M,N_23_M,N_24_M,N_25_M,N_21_TI,N_22_TI,N_23_TI,N_24_TI,N_25_TI = rise_cal(i,rise_ratio_bid,timestamp_time_second,Bid,Ask,index,index_15_min,\\\n",
    "                                                      close_price,N_21,N_22,N_23,N_24,N_25,N_21_T,N_22_T,N_23_T,N_24_T,N_25_T,\\\n",
    "                                                      N_21_E,N_22_E,N_23_E,N_24_E,N_25_E,N_21_M,N_22_M,N_23_M,N_24_M,N_25_M,\\\n",
    "                                                      N_21_TI,N_22_TI,N_23_TI,N_24_TI,N_25_TI)                                                \n",
    "\n",
    "    elif 0.9 < (weighted_Bid*(1.0) / weighted_Ask) <= 1.1:\n",
    "        N_31,N_32,N_33,N_34,N_35,N_31_T,N_32_T,N_33_T,N_34_T,N_35_T,N_31_E,N_32_E,N_33_E,N_34_E,N_35_E,\\\n",
    "        N_31_M,N_32_M,N_33_M,N_34_M,N_35_M,N_31_TI,N_32_TI,N_33_TI,N_34_TI,N_35_TI = rise_cal(i,rise_ratio_bid,timestamp_time_second,Bid,Ask,index,index_15_min,\\\n",
    "                                                      close_price,N_31,N_32,N_33,N_34,N_35,N_31_T,N_32_T,N_33_T,N_34_T,N_35_T,\\\n",
    "                                                      N_31_E,N_32_E,N_33_E,N_34_E,N_35_E,N_31_M,N_32_M,N_33_M,N_34_M,N_35_M,\\\n",
    "                                                      N_31_TI,N_32_TI,N_33_TI,N_34_TI,N_35_TI)                                    \n",
    " \n",
    "    elif 1.1 < (weighted_Bid*(1.0) / weighted_Ask) <= 1.3:\n",
    "        N_41,N_42,N_43,N_44,N_45,N_41_T,N_42_T,N_43_T,N_44_T,N_45_T,N_41_E,N_42_E,N_43_E,N_44_E,N_45_E,\\\n",
    "        N_41_M,N_42_M,N_43_M,N_44_M,N_45_M,N_41_TI,N_42_TI,N_43_TI,N_44_TI,N_45_TI = rise_cal(i,rise_ratio_bid,timestamp_time_second,Bid,Ask,index,index_15_min,\\\n",
    "                                                      close_price,N_41,N_42,N_43,N_44,N_45,N_41_T,N_42_T,N_43_T,N_44_T,N_45_T,\\\n",
    "                                                      N_41_E,N_42_E,N_43_E,N_44_E,N_45_E,N_41_M,N_42_M,N_43_M,N_44_M,N_45_M,\\\n",
    "                                                      N_41_TI,N_42_TI,N_43_TI,N_44_TI,N_45_TI)                              \n",
    "\n",
    "    elif 1.30 < (weighted_Bid*(1.0) / weighted_Ask):\n",
    "        N_51,N_52,N_53,N_54,N_55,N_51_T,N_52_T,N_53_T,N_54_T,N_55_T,N_51_E,N_52_E,N_53_E,N_54_E,N_55_E,\\\n",
    "        N_51_M,N_52_M,N_53_M,N_54_M,N_55_M,N_51_TI,N_52_TI,N_53_TI,N_54_TI,N_55_TI = rise_cal(i,rise_ratio_bid,timestamp_time_second,Bid,Ask,index,index_15_min,\\\n",
    "                                                      close_price,N_51,N_52,N_53,N_54,N_55,N_51_T,N_52_T,N_53_T,N_54_T,N_55_T,\\\n",
    "                                                      N_51_E,N_52_E,N_53_E,N_54_E,N_55_E,N_51_M,N_52_M,N_53_M,N_54_M,N_55_M,\\\n",
    "                                                      N_51_TI,N_52_TI,N_53_TI,N_54_TI,N_55_TI)                 \n",
    "        \n",
    "        "
   ]
  },
  {
   "cell_type": "code",
   "execution_count": null,
   "metadata": {
    "collapsed": true
   },
   "outputs": [],
   "source": []
  },
  {
   "cell_type": "code",
   "execution_count": 165,
   "metadata": {
    "collapsed": true
   },
   "outputs": [],
   "source": [
    "def ask(time,Bid,Ask,close_price,timestamp_time_second,Bid1_Quantity,Bid2_Quantity,Bid3_Quantity,\\\n",
    "        Ask1_Quantity,Ask2_Quantity,Ask3_Quantity,weigth1,weigth2,weigth3):\n",
    "    [N_11,N_12,N_13,N_14,N_15,N_11_T,N_12_T,N_13_T,N_14_T,N_15_T,N_11_E,N_12_E,N_13_E,N_14_E,N_15_E,\\\n",
    "     N_11_M,N_12_M,N_13_M,N_14_M,N_15_M,N_11_TI,N_12_TI,N_13_TI,N_14_TI,N_15_TI] = [0 for i in  range(0,25,1)]\n",
    "    [N_21,N_22,N_23,N_24,N_25,N_21_T,N_22_T,N_23_T,N_24_T,N_25_T,N_21_E,N_22_E,N_23_E,N_24_E,N_25_E,\\\n",
    "     N_21_M,N_22_M,N_23_M,N_24_M,N_25_M,N_21_TI,N_22_TI,N_23_TI,N_24_TI,N_25_TI] = [0 for i in  range(0,25,1)]\n",
    "    [N_31,N_32,N_33,N_34,N_35,N_31_T,N_32_T,N_33_T,N_34_T,N_35_T,N_31_E,N_32_E,N_33_E,N_34_E,N_35_E,\\\n",
    "     N_31_M,N_32_M,N_33_M,N_34_M,N_35_M,N_31_TI,N_32_TI,N_33_TI,N_34_TI,N_35_TI] = [0 for i in  range(0,25,1)]\n",
    "    [N_41,N_42,N_43,N_44,N_45,N_41_T,N_42_T,N_43_T,N_44_T,N_45_T,N_41_E,N_42_E,N_43_E,N_44_E,N_45_E,\\\n",
    "     N_41_M,N_42_M,N_43_M,N_44_M,N_45_M,N_41_TI,N_42_TI,N_43_TI,N_44_TI,N_45_TI] = [0 for i in  range(0,25,1)]\n",
    "    [N_51,N_52,N_53,N_54,N_55,N_51_T,N_52_T,N_53_T,N_54_T,N_55_T,N_51_E,N_52_E,N_53_E,N_54_E,N_55_E,\\\n",
    "     N_51_M,N_52_M,N_53_M,N_54_M,N_55_M,N_51_TI,N_52_TI,N_53_TI,N_54_TI,N_55_TI] = [0 for i in  range(0,25,1)]\n",
    "\n",
    "    for i in range(0,time,1):\n",
    "        index = np.where(array(timestamp_time_second) <= i)[0][-1]\n",
    "        if i < 25200 - 900:\n",
    "            index_15_min = np.where(np.array(timestamp_time_second[index:]) >= i + 900)[0][0]\n",
    "\n",
    "        weighted_Bid = Bid1_Quantity[index] * weight1 + Bid2_Quantity[index] * weight2 + Bid3_Quantity[index] * weight3\n",
    "        weighted_Ask = Ask1_Quantity[index] * weight1 + Ask2_Quantity[index] * weight2 + Ask3_Quantity[index] * weight3  \n",
    "        if (weighted_Bid*(1.0) / weighted_Ask) <= 0.7:\n",
    "            N_11,N_12,N_13,N_14,N_15,N_11_T,N_12_T,N_13_T,N_14_T,N_15_T,N_11_E,N_12_E,N_13_E,N_14_E,N_15_E,\\\n",
    "            N_11_M,N_12_M,N_13_M,N_14_M,N_15_M,N_11_TI,N_12_TI,N_13_TI,N_14_TI,N_15_TI = rise_cal(i,rise_ratio_bid,timestamp_time_second,Bid,Ask,index,index_15_min,\\\n",
    "                                                          close_price,N_11,N_12,N_13,N_14,N_15,N_11_T,N_12_T,N_13_T,N_14_T,N_15_T,\\\n",
    "                                                          N_11_E,N_12_E,N_13_E,N_14_E,N_15_E,N_11_M,N_12_M,N_13_M,N_14_M,N_15_M,\\\n",
    "                                                          N_11_TI,N_12_TI,N_13_TI,N_14_TI,N_15_TI)                                               \n",
    "        elif 0.7 < (weighted_Bid*(1.0) / weighted_Ask) <= 0.9:\n",
    "            N_21,N_22,N_23,N_24,N_25,N_21_T,N_22_T,N_23_T,N_24_T,N_25_T,N_21_E,N_22_E,N_23_E,N_24_E,N_25_E,\\\n",
    "            N_21_M,N_22_M,N_23_M,N_24_M,N_25_M,N_21_TI,N_22_TI,N_23_TI,N_24_TI,N_25_TI = rise_cal(i,rise_ratio_bid,timestamp_time_second,Bid,Ask,index,index_15_min,\\\n",
    "                                                          close_price,N_21,N_22,N_23,N_24,N_25,N_21_T,N_22_T,N_23_T,N_24_T,N_25_T,\\\n",
    "                                                          N_21_E,N_22_E,N_23_E,N_24_E,N_25_E,N_21_M,N_22_M,N_23_M,N_24_M,N_25_M,\\\n",
    "                                                          N_21_TI,N_22_TI,N_23_TI,N_24_TI,N_25_TI)                                                \n",
    "        elif 0.9 < (weighted_Bid*(1.0) / weighted_Ask) <= 1.1:\n",
    "            N_31,N_32,N_33,N_34,N_35,N_31_T,N_32_T,N_33_T,N_34_T,N_35_T,N_31_E,N_32_E,N_33_E,N_34_E,N_35_E,\\\n",
    "            N_31_M,N_32_M,N_33_M,N_34_M,N_35_M,N_31_TI,N_32_TI,N_33_TI,N_34_TI,N_35_TI = rise_cal(i,rise_ratio_bid,timestamp_time_second,Bid,Ask,index,index_15_min,\\\n",
    "                                                          close_price,N_31,N_32,N_33,N_34,N_35,N_31_T,N_32_T,N_33_T,N_34_T,N_35_T,\\\n",
    "                                                          N_31_E,N_32_E,N_33_E,N_34_E,N_35_E,N_31_M,N_32_M,N_33_M,N_34_M,N_35_M,\\\n",
    "                                                          N_31_TI,N_32_TI,N_33_TI,N_34_TI,N_35_TI)                                    \n",
    "        elif 1.1 < (weighted_Bid*(1.0) / weighted_Ask) <= 1.3:\n",
    "            N_41,N_42,N_43,N_44,N_45,N_41_T,N_42_T,N_43_T,N_44_T,N_45_T,N_41_E,N_42_E,N_43_E,N_44_E,N_45_E,\\\n",
    "            N_41_M,N_42_M,N_43_M,N_44_M,N_45_M,N_41_TI,N_42_TI,N_43_TI,N_44_TI,N_45_TI = rise_cal(i,rise_ratio_bid,timestamp_time_second,Bid,Ask,index,index_15_min,\\\n",
    "                                                          close_price,N_41,N_42,N_43,N_44,N_45,N_41_T,N_42_T,N_43_T,N_44_T,N_45_T,\\\n",
    "                                                          N_41_E,N_42_E,N_43_E,N_44_E,N_45_E,N_41_M,N_42_M,N_43_M,N_44_M,N_45_M,\\\n",
    "                                                          N_41_TI,N_42_TI,N_43_TI,N_44_TI,N_45_TI)                              \n",
    "        elif 1.30 < (weighted_Bid*(1.0) / weighted_Ask):\n",
    "            N_51,N_52,N_53,N_54,N_55,N_51_T,N_52_T,N_53_T,N_54_T,N_55_T,N_51_E,N_52_E,N_53_E,N_54_E,N_55_E,\\\n",
    "            N_51_M,N_52_M,N_53_M,N_54_M,N_55_M,N_51_TI,N_52_TI,N_53_TI,N_54_TI,N_55_TI = rise_cal(i,rise_ratio_bid,timestamp_time_second,Bid,Ask,index,index_15_min,\\\n",
    "                                                          close_price,N_51,N_52,N_53,N_54,N_55,N_51_T,N_52_T,N_53_T,N_54_T,N_55_T,\\\n",
    "                                                          N_51_E,N_52_E,N_53_E,N_54_E,N_55_E,N_51_M,N_52_M,N_53_M,N_54_M,N_55_M,\\\n",
    "                                                          N_51_TI,N_52_TI,N_53_TI,N_54_TI,N_55_TI)                 \n",
    "    return [[N_11,N_12,N_13,N_14,N_15],[N_11_T,N_12_T,N_13_T,N_14_T,N_15_T],[N_11_E,N_12_E,N_13_E,N_14_E,N_15_E],\\\n",
    "             [N_11_M,N_12_M,N_13_M,N_14_M,N_15_M],[N_11_TI,N_12_TI,N_13_TI,N_14_TI,N_15_TI],\\\n",
    "            [N_21,N_22,N_23,N_24,N_25],[N_21_T,N_22_T,N_23_T,N_24_T,N_25_T],[N_21_E,N_22_E,N_23_E,N_24_E,N_25_E],\\\n",
    "             [N_21_M,N_22_M,N_23_M,N_24_M,N_25_M],[N_21_TI,N_22_TI,N_23_TI,N_24_TI,N_25_TI],\\\n",
    "            [N_31,N_32,N_33,N_34,N_35],[N_31_T,N_32_T,N_33_T,N_34_T,N_35_T],[N_31_E,N_32_E,N_33_E,N_34_E,N_35_E],\\\n",
    "             [N_31_M,N_32_M,N_33_M,N_34_M,N_35_M],[N_31_TI,N_32_TI,N_33_TI,N_34_TI,N_35_TI],\\\n",
    "            [N_41,N_42,N_43,N_44,N_45],[N_41_T,N_42_T,N_43_T,N_44_T,N_45_T],[N_41_E,N_42_E,N_43_E,N_44_E,N_45_E],\\\n",
    "             [N_41_M,N_42_M,N_43_M,N_44_M,N_45_M],[N_41_TI,N_42_TI,N_43_TI,N_44_TI,N_45_TI],\\\n",
    "            [N_51,N_52,N_53,N_54,N_55],[N_51_T,N_52_T,N_53_T,N_54_T,N_55_T],[N_51_E,N_52_E,N_53_E,N_54_E,N_55_E],\\\n",
    "             [N_51_M,N_52_M,N_53_M,N_54_M,N_55_M],[N_51_TI,N_52_TI,N_53_TI,N_54_TI,N_55_TI]] \n",
    "\n",
    "\n"
   ]
  },
  {
   "cell_type": "code",
   "execution_count": 166,
   "metadata": {
    "collapsed": false
   },
   "outputs": [],
   "source": [
    "Bid = Bid1\n",
    "Ask = Ask1\n",
    "close_price = 6750\n",
    "weight1 = 0.50\n",
    "weight2 = 0.30\n",
    "weight3 = 0.20\n",
    "time = 25200"
   ]
  },
  {
   "cell_type": "code",
   "execution_count": 167,
   "metadata": {
    "collapsed": false,
    "scrolled": true
   },
   "outputs": [
    {
     "ename": "TypeError",
     "evalue": "range() integer end argument expected, got module.",
     "output_type": "error",
     "traceback": [
      "\u001b[1;31m---------------------------------------------------------------------------\u001b[0m",
      "\u001b[1;31mTypeError\u001b[0m                                 Traceback (most recent call last)",
      "\u001b[1;32m<ipython-input-167-57cd823e5f15>\u001b[0m in \u001b[0;36m<module>\u001b[1;34m()\u001b[0m\n\u001b[0;32m      1\u001b[0m \u001b[1;32mimport\u001b[0m \u001b[0mtime\u001b[0m\u001b[1;33m\u001b[0m\u001b[0m\n\u001b[0;32m      2\u001b[0m \u001b[0mstart\u001b[0m \u001b[1;33m=\u001b[0m \u001b[0mtime\u001b[0m\u001b[1;33m.\u001b[0m\u001b[0mtime\u001b[0m\u001b[1;33m(\u001b[0m\u001b[1;33m)\u001b[0m\u001b[1;33m\u001b[0m\u001b[0m\n\u001b[1;32m----> 3\u001b[1;33m \u001b[0mmat\u001b[0m \u001b[1;33m=\u001b[0m \u001b[0mask\u001b[0m\u001b[1;33m(\u001b[0m\u001b[0mtime\u001b[0m\u001b[1;33m,\u001b[0m\u001b[0mBid\u001b[0m\u001b[1;33m,\u001b[0m\u001b[0mAsk\u001b[0m\u001b[1;33m,\u001b[0m\u001b[0mclose_price\u001b[0m\u001b[1;33m,\u001b[0m\u001b[0mtimestamp_time_second\u001b[0m\u001b[1;33m,\u001b[0m\u001b[0mBid1_Quantity\u001b[0m\u001b[1;33m,\u001b[0m\u001b[0mBid2_Quantity\u001b[0m\u001b[1;33m,\u001b[0m\u001b[0mBid3_Quantity\u001b[0m\u001b[1;33m,\u001b[0m          \u001b[0mAsk1_Quantity\u001b[0m\u001b[1;33m,\u001b[0m\u001b[0mAsk2_Quantity\u001b[0m\u001b[1;33m,\u001b[0m\u001b[0mAsk3_Quantity\u001b[0m\u001b[1;33m,\u001b[0m\u001b[0mweight1\u001b[0m\u001b[1;33m,\u001b[0m\u001b[0mweight2\u001b[0m\u001b[1;33m,\u001b[0m\u001b[0mweight3\u001b[0m\u001b[1;33m)\u001b[0m\u001b[1;33m\u001b[0m\u001b[0m\n\u001b[0m\u001b[0;32m      4\u001b[0m \u001b[0mend\u001b[0m \u001b[1;33m=\u001b[0m \u001b[0mtime\u001b[0m\u001b[1;33m.\u001b[0m\u001b[0mtime\u001b[0m\u001b[1;33m(\u001b[0m\u001b[1;33m)\u001b[0m\u001b[1;33m\u001b[0m\u001b[0m\n\u001b[0;32m      5\u001b[0m \u001b[1;32mprint\u001b[0m \u001b[1;34m\"Total time = %f\"\u001b[0m\u001b[1;33m%\u001b[0m\u001b[1;33m(\u001b[0m\u001b[0mend\u001b[0m \u001b[1;33m-\u001b[0m \u001b[0mstart\u001b[0m\u001b[1;33m)\u001b[0m\u001b[1;33m\u001b[0m\u001b[0m\n",
      "\u001b[1;32m<ipython-input-165-a7a0997c6641>\u001b[0m in \u001b[0;36mask\u001b[1;34m(time, Bid, Ask, close_price, timestamp_time_second, Bid1_Quantity, Bid2_Quantity, Bid3_Quantity, Ask1_Quantity, Ask2_Quantity, Ask3_Quantity, weigth1, weigth2, weigth3)\u001b[0m\n\u001b[0;32m      6\u001b[0m     \u001b[1;33m[\u001b[0m\u001b[0mN_51\u001b[0m\u001b[1;33m,\u001b[0m\u001b[0mN_52\u001b[0m\u001b[1;33m,\u001b[0m\u001b[0mN_53\u001b[0m\u001b[1;33m,\u001b[0m\u001b[0mN_54\u001b[0m\u001b[1;33m,\u001b[0m\u001b[0mN_55\u001b[0m\u001b[1;33m,\u001b[0m\u001b[0mN_51_T\u001b[0m\u001b[1;33m,\u001b[0m\u001b[0mN_52_T\u001b[0m\u001b[1;33m,\u001b[0m\u001b[0mN_53_T\u001b[0m\u001b[1;33m,\u001b[0m\u001b[0mN_54_T\u001b[0m\u001b[1;33m,\u001b[0m\u001b[0mN_55_T\u001b[0m\u001b[1;33m,\u001b[0m\u001b[0mN_51_E\u001b[0m\u001b[1;33m,\u001b[0m\u001b[0mN_52_E\u001b[0m\u001b[1;33m,\u001b[0m\u001b[0mN_53_E\u001b[0m\u001b[1;33m,\u001b[0m\u001b[0mN_54_E\u001b[0m\u001b[1;33m,\u001b[0m\u001b[0mN_55_E\u001b[0m\u001b[1;33m,\u001b[0m     \u001b[0mN_51_M\u001b[0m\u001b[1;33m,\u001b[0m\u001b[0mN_52_M\u001b[0m\u001b[1;33m,\u001b[0m\u001b[0mN_53_M\u001b[0m\u001b[1;33m,\u001b[0m\u001b[0mN_54_M\u001b[0m\u001b[1;33m,\u001b[0m\u001b[0mN_55_M\u001b[0m\u001b[1;33m,\u001b[0m\u001b[0mN_51_TI\u001b[0m\u001b[1;33m,\u001b[0m\u001b[0mN_52_TI\u001b[0m\u001b[1;33m,\u001b[0m\u001b[0mN_53_TI\u001b[0m\u001b[1;33m,\u001b[0m\u001b[0mN_54_TI\u001b[0m\u001b[1;33m,\u001b[0m\u001b[0mN_55_TI\u001b[0m\u001b[1;33m]\u001b[0m \u001b[1;33m=\u001b[0m \u001b[1;33m[\u001b[0m\u001b[1;36m0\u001b[0m \u001b[1;32mfor\u001b[0m \u001b[0mi\u001b[0m \u001b[1;32min\u001b[0m  \u001b[0mrange\u001b[0m\u001b[1;33m(\u001b[0m\u001b[1;36m0\u001b[0m\u001b[1;33m,\u001b[0m\u001b[1;36m25\u001b[0m\u001b[1;33m,\u001b[0m\u001b[1;36m1\u001b[0m\u001b[1;33m)\u001b[0m\u001b[1;33m]\u001b[0m\u001b[1;33m\u001b[0m\u001b[0m\n\u001b[0;32m      7\u001b[0m \u001b[1;33m\u001b[0m\u001b[0m\n\u001b[1;32m----> 8\u001b[1;33m     \u001b[1;32mfor\u001b[0m \u001b[0mi\u001b[0m \u001b[1;32min\u001b[0m \u001b[0mrange\u001b[0m\u001b[1;33m(\u001b[0m\u001b[1;36m0\u001b[0m\u001b[1;33m,\u001b[0m\u001b[0mtime\u001b[0m\u001b[1;33m,\u001b[0m\u001b[1;36m1\u001b[0m\u001b[1;33m)\u001b[0m\u001b[1;33m:\u001b[0m\u001b[1;33m\u001b[0m\u001b[0m\n\u001b[0m\u001b[0;32m      9\u001b[0m         \u001b[0mindex\u001b[0m \u001b[1;33m=\u001b[0m \u001b[0mnp\u001b[0m\u001b[1;33m.\u001b[0m\u001b[0mwhere\u001b[0m\u001b[1;33m(\u001b[0m\u001b[0marray\u001b[0m\u001b[1;33m(\u001b[0m\u001b[0mtimestamp_time_second\u001b[0m\u001b[1;33m)\u001b[0m \u001b[1;33m<=\u001b[0m \u001b[0mi\u001b[0m\u001b[1;33m)\u001b[0m\u001b[1;33m[\u001b[0m\u001b[1;36m0\u001b[0m\u001b[1;33m]\u001b[0m\u001b[1;33m[\u001b[0m\u001b[1;33m-\u001b[0m\u001b[1;36m1\u001b[0m\u001b[1;33m]\u001b[0m\u001b[1;33m\u001b[0m\u001b[0m\n\u001b[0;32m     10\u001b[0m         \u001b[1;32mif\u001b[0m \u001b[0mi\u001b[0m \u001b[1;33m<\u001b[0m \u001b[1;36m25200\u001b[0m \u001b[1;33m-\u001b[0m \u001b[1;36m900\u001b[0m\u001b[1;33m:\u001b[0m\u001b[1;33m\u001b[0m\u001b[0m\n",
      "\u001b[1;31mTypeError\u001b[0m: range() integer end argument expected, got module."
     ]
    }
   ],
   "source": [
    "import time \n",
    "start = time.time()\n",
    "mat = ask(time,Bid,Ask,close_price,timestamp_time_second,Bid1_Quantity,Bid2_Quantity,Bid3_Quantity,\\\n",
    "          Ask1_Quantity,Ask2_Quantity,Ask3_Quantity,weight1,weight2,weight3)\n",
    "end = time.time()  \n",
    "print \"Total time = %f\"%(end - start) "
   ]
  },
  {
   "cell_type": "code",
   "execution_count": null,
   "metadata": {
    "collapsed": true
   },
   "outputs": [],
   "source": []
  },
  {
   "cell_type": "code",
   "execution_count": 144,
   "metadata": {
    "collapsed": false
   },
   "outputs": [
    {
     "data": {
      "text/plain": [
       "(array([ nan,  nan,   1.,  nan,  nan]),\n",
       " array([ nan,  nan,   1.,  nan,  nan]),\n",
       " array([ nan,  nan,   2.,  nan,  nan]),\n",
       " array([   nan,    nan,  193.5,    nan,    nan]))"
      ]
     },
     "execution_count": 144,
     "metadata": {},
     "output_type": "execute_result"
    }
   ],
   "source": [
    "a = 0\n",
    "array(mat[a+1])*1.0/array(mat[a]),array(mat[a+2])/array(mat[a]),array(mat[a+3])/array(mat[a]),array(mat[a+4])/array(mat[a])"
   ]
  },
  {
   "cell_type": "code",
   "execution_count": 145,
   "metadata": {
    "collapsed": false
   },
   "outputs": [
    {
     "data": {
      "text/plain": [
       "(array([ nan,  nan,   1.,  nan,  nan]),\n",
       " array([ nan,  nan,   1.,  nan,  nan]),\n",
       " array([ nan,  nan,   1.,  nan,  nan]),\n",
       " array([          nan,           nan,  121.33333333,           nan,\n",
       "                  nan]))"
      ]
     },
     "execution_count": 145,
     "metadata": {},
     "output_type": "execute_result"
    }
   ],
   "source": [
    "a = a + 5\n",
    "array(mat[a+1])*1.0/array(mat[a]),array(mat[a+2])/array(mat[a]),array(mat[a+3])/array(mat[a]),array(mat[a+4])/array(mat[a])"
   ]
  },
  {
   "cell_type": "code",
   "execution_count": 146,
   "metadata": {
    "collapsed": false
   },
   "outputs": [
    {
     "data": {
      "text/plain": [
       "(array([ nan,  nan,  nan,  nan,  nan]),\n",
       " array([0, 0, 0, 0, 0]),\n",
       " array([0, 0, 0, 0, 0]),\n",
       " array([0, 0, 0, 0, 0]))"
      ]
     },
     "execution_count": 146,
     "metadata": {},
     "output_type": "execute_result"
    }
   ],
   "source": [
    "a = a + 5\n",
    "array(mat[a+1])*1.0/array(mat[a]),array(mat[a+2])/array(mat[a]),array(mat[a+3])/array(mat[a]),array(mat[a+4])/array(mat[a])"
   ]
  },
  {
   "cell_type": "code",
   "execution_count": 128,
   "metadata": {
    "collapsed": false
   },
   "outputs": [
    {
     "data": {
      "text/plain": [
       "(array([ nan,  nan,  nan,  nan,  nan]),\n",
       " array([0, 0, 0, 0, 0]),\n",
       " array([0, 0, 0, 0, 0]),\n",
       " array([0, 0, 0, 0, 0]))"
      ]
     },
     "execution_count": 128,
     "metadata": {},
     "output_type": "execute_result"
    }
   ],
   "source": [
    "a = a + 5\n",
    "array(mat[a+1])*1.0/array(mat[a]),array(mat[a+2])/array(mat[a]),array(mat[a+3])/array(mat[a]),array(mat[a+4])/array(mat[a])"
   ]
  },
  {
   "cell_type": "code",
   "execution_count": 147,
   "metadata": {
    "collapsed": false
   },
   "outputs": [
    {
     "data": {
      "text/plain": [
       "(array([ nan,  nan,  nan,  nan,  nan]),\n",
       " array([0, 0, 0, 0, 0]),\n",
       " array([0, 0, 0, 0, 0]),\n",
       " array([0, 0, 0, 0, 0]))"
      ]
     },
     "execution_count": 147,
     "metadata": {},
     "output_type": "execute_result"
    }
   ],
   "source": [
    "a = a + 5\n",
    "array(mat[a+1])*1.0/array(mat[a]),array(mat[a+2])/array(mat[a]),array(mat[a+3])/array(mat[a]),array(mat[a+4])/array(mat[a])"
   ]
  },
  {
   "cell_type": "code",
   "execution_count": null,
   "metadata": {
    "collapsed": true
   },
   "outputs": [],
   "source": []
  }
 ],
 "metadata": {
  "kernelspec": {
   "display_name": "Python 2",
   "language": "python",
   "name": "python2"
  },
  "language_info": {
   "codemirror_mode": {
    "name": "ipython",
    "version": 2
   },
   "file_extension": ".py",
   "mimetype": "text/x-python",
   "name": "python",
   "nbconvert_exporter": "python",
   "pygments_lexer": "ipython2",
   "version": "2.7.11"
  }
 },
 "nbformat": 4,
 "nbformat_minor": 0
}
