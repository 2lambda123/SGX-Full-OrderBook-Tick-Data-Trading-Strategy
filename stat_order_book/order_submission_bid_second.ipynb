{
 "cells": [
  {
   "cell_type": "code",
   "execution_count": 2,
   "metadata": {
    "collapsed": false
   },
   "outputs": [
    {
     "name": "stdout",
     "output_type": "stream",
     "text": [
      "Populating the interactive namespace from numpy and matplotlib\n"
     ]
    }
   ],
   "source": [
    "%pylab inline\n",
    "import numpy as np\n",
    "import pandas as pd\n",
    "import matplotlib.pyplot as plt"
   ]
  },
  {
   "cell_type": "code",
   "execution_count": 3,
   "metadata": {
    "collapsed": true
   },
   "outputs": [],
   "source": [
    "def order_book(month,day):\n",
    "    data1 = []\n",
    "    datapath = '/home/bigdatas16/SGX-OrderBook-Tick-Data-Trading-Strategy-/stat_order_book/CNF14_0'+str(month)+'_'+str(day)+'_order_book_final.csv'\n",
    "    data1 = pd.read_csv(datapath,sep='\\t',encoding = 'utf-8')\n",
    "    data_book = data1[['0','1','2','3']]\n",
    "    return data_book"
   ]
  },
  {
   "cell_type": "code",
   "execution_count": 4,
   "metadata": {
    "collapsed": true
   },
   "outputs": [],
   "source": [
    "data_book = order_book(1,28)"
   ]
  },
  {
   "cell_type": "code",
   "execution_count": 5,
   "metadata": {
    "collapsed": true
   },
   "outputs": [],
   "source": [
    "data_book_open = data_book[213*4-3:67229*4+1]\n",
    "data_book_open = data_book_open.reset_index(drop = True)"
   ]
  },
  {
   "cell_type": "code",
   "execution_count": 6,
   "metadata": {
    "collapsed": true
   },
   "outputs": [],
   "source": [
    "def day_time(month,day):\n",
    "    data = []\n",
    "    datapath = '/home/bigdatas16/SGX-OrderBook-Tick-Data-Trading-Strategy-/CN_Futures_2014.0'+str(month)+'.'+str(day)+'.csv'\n",
    "    data = pd.read_csv(datapath)\n",
    "    data_CNF14 = data[data.Series == 'CNF14']\n",
    "    data = data_CNF14\n",
    "    market_open_time = data[data['TimeStamp'].str.contains('2014-0'+str(month)+'-'+str(day)+'D09:00')].index.tolist()[0] \n",
    "    market_close_time = data[data['TimeStamp'].str.contains('2014-0'+str(month)+'-'+str(day)+'D16:00')].index.tolist()[0] \n",
    "    data_open = data[market_open_time:market_close_time+1]\n",
    "    timestamp_ = data_open.TimeStamp.unique()\n",
    "    return timestamp_"
   ]
  },
  {
   "cell_type": "code",
   "execution_count": 7,
   "metadata": {
    "collapsed": false
   },
   "outputs": [],
   "source": [
    "timestamp_time = day_time(1,28)"
   ]
  },
  {
   "cell_type": "code",
   "execution_count": 8,
   "metadata": {
    "collapsed": true
   },
   "outputs": [],
   "source": [
    "def time_transform(timestamp_time):\n",
    "    time_second = []\n",
    "    for i in range(0,len(timestamp_time),1):\n",
    "        second = float(timestamp_time[i][11])*36000 + float(timestamp_time[i][12])*3600 \\\n",
    "                +float(timestamp_time[i][14])*600 + float(timestamp_time[i][15])*60\\\n",
    "                +float(timestamp_time[i][17])*10 + float(timestamp_time[i][18])  \n",
    "        time_second.append(second - 32400.0)\n",
    "    return  time_second"
   ]
  },
  {
   "cell_type": "code",
   "execution_count": 9,
   "metadata": {
    "collapsed": true
   },
   "outputs": [],
   "source": [
    "timestamp_time_second = time_transform(timestamp_time)"
   ]
  },
  {
   "cell_type": "code",
   "execution_count": 10,
   "metadata": {
    "collapsed": false,
    "scrolled": true
   },
   "outputs": [
    {
     "data": {
      "text/plain": [
       "12050"
      ]
     },
     "execution_count": 10,
     "metadata": {},
     "output_type": "execute_result"
    }
   ],
   "source": [
    "len(unique(timestamp_time_second))"
   ]
  },
  {
   "cell_type": "code",
   "execution_count": 11,
   "metadata": {
    "collapsed": false
   },
   "outputs": [
    {
     "data": {
      "text/plain": [
       "5040"
      ]
     },
     "execution_count": 11,
     "metadata": {},
     "output_type": "execute_result"
    }
   ],
   "source": [
    "12*60*7"
   ]
  },
  {
   "cell_type": "code",
   "execution_count": 12,
   "metadata": {
    "collapsed": false,
    "scrolled": true
   },
   "outputs": [],
   "source": [
    "order_submission_ = [i for i in range(0,25200,1)]"
   ]
  },
  {
   "cell_type": "code",
   "execution_count": 13,
   "metadata": {
    "collapsed": false,
    "scrolled": true
   },
   "outputs": [
    {
     "data": {
      "text/plain": [
       "67017"
      ]
     },
     "execution_count": 13,
     "metadata": {},
     "output_type": "execute_result"
    }
   ],
   "source": [
    "len(timestamp_time_second)"
   ]
  },
  {
   "cell_type": "code",
   "execution_count": 29,
   "metadata": {
    "collapsed": false
   },
   "outputs": [
    {
     "data": {
      "text/plain": [
       "25200.0"
      ]
     },
     "execution_count": 29,
     "metadata": {},
     "output_type": "execute_result"
    }
   ],
   "source": [
    "timestamp_time_second[67016]"
   ]
  },
  {
   "cell_type": "code",
   "execution_count": null,
   "metadata": {
    "collapsed": true
   },
   "outputs": [],
   "source": [
    "np.where(order_submission_[])"
   ]
  },
  {
   "cell_type": "code",
   "execution_count": 32,
   "metadata": {
    "collapsed": false
   },
   "outputs": [],
   "source": [
    "#order_submission_"
   ]
  },
  {
   "cell_type": "code",
   "execution_count": 44,
   "metadata": {
    "collapsed": true
   },
   "outputs": [],
   "source": [
    "a = [0,1,1,1,3,3,3,5,5,5,5,7,8,9]\n",
    "b = [0,1,2,3,4,5,6,7,8,9]"
   ]
  },
  {
   "cell_type": "code",
   "execution_count": 45,
   "metadata": {
    "collapsed": false
   },
   "outputs": [
    {
     "data": {
      "text/plain": [
       "2"
      ]
     },
     "execution_count": 45,
     "metadata": {},
     "output_type": "execute_result"
    }
   ],
   "source": [
    "np.where(array(a[:3]) <= b[3])[0][2]"
   ]
  },
  {
   "cell_type": "code",
   "execution_count": 35,
   "metadata": {
    "collapsed": false
   },
   "outputs": [
    {
     "data": {
      "text/plain": [
       "[0, 1, 3]"
      ]
     },
     "execution_count": 35,
     "metadata": {},
     "output_type": "execute_result"
    }
   ],
   "source": [
    "a[:3]"
   ]
  },
  {
   "cell_type": "code",
   "execution_count": 37,
   "metadata": {
    "collapsed": false
   },
   "outputs": [
    {
     "data": {
      "text/plain": [
       "3"
      ]
     },
     "execution_count": 37,
     "metadata": {},
     "output_type": "execute_result"
    }
   ],
   "source": [
    "b[3]"
   ]
  },
  {
   "cell_type": "code",
   "execution_count": 10,
   "metadata": {
    "collapsed": false
   },
   "outputs": [],
   "source": [
    "def bid123_ask123_Q(data_book_28_open):\n",
    "    Bid1 = []\n",
    "    Bid2 = []\n",
    "    Bid3 = []\n",
    "    Bid1_Quantity = []\n",
    "    Bid2_Quantity = []\n",
    "    Bid3_Quantity = []\n",
    "    Ask1 = []\n",
    "    Ask2 = []\n",
    "    Ask3 = []\n",
    "    Ask1_Quantity = []\n",
    "    Ask2_Quantity = []\n",
    "    Ask3_Quantity = []\n",
    "\n",
    "    TimeStamp = []\n",
    "    for i in range(1,len(data_book_28_open),4):\n",
    "        #print data_book_28_open.iloc[i]['0']\n",
    "        #print data_book_28_open.iloc[i]['2']\n",
    "        Bid1.append(float(data_book_28_open.iloc[i]['0'])/100.0)\n",
    "        Bid1_Quantity.append(float(data_book_28_open.iloc[i]['1']))\n",
    "\n",
    "        Bid2.append(float(data_book_28_open.iloc[i + 1]['0'])/100.0)\n",
    "        Bid2_Quantity.append(float(data_book_28_open.iloc[i + 1]['1']))  \n",
    "\n",
    "        Bid3.append(float(data_book_28_open.iloc[i + 2]['0'])/100.0)\n",
    "        Bid3_Quantity.append(float(data_book_28_open.iloc[i + 2]['1']))  \n",
    "\n",
    "        Ask1.append(float(data_book_28_open.iloc[i]['2'])/100.0) \n",
    "        Ask1_Quantity.append(float(data_book_28_open.iloc[i]['3']))\n",
    "\n",
    "        Ask2.append(float(data_book_28_open.iloc[i + 1]['2'])/100.0) \n",
    "        Ask2_Quantity.append(float(data_book_28_open.iloc[i + 1]['3']))    \n",
    "\n",
    "        Ask3.append(float(data_book_28_open.iloc[i + 2]['2'])/100.0) \n",
    "        Ask3_Quantity.append(float(data_book_28_open.iloc[i + 2]['3']))    \n",
    "        TimeStamp.append(data_book_28_open.iloc[i-1][1])\n",
    "    return Bid1,Bid1_Quantity,Bid2,Bid2_Quantity,Bid3,Bid3_Quantity,Ask1,Ask1_Quantity,Ask2,Ask2_Quantity,Ask3,Ask3_Quantity,    "
   ]
  },
  {
   "cell_type": "code",
   "execution_count": 12,
   "metadata": {
    "collapsed": false
   },
   "outputs": [
    {
     "name": "stdout",
     "output_type": "stream",
     "text": [
      "Total time = 130.490071\n"
     ]
    }
   ],
   "source": [
    "import time \n",
    "start = time.time()\n",
    "Bid1,Bid1_Quantity,Bid2,Bid2_Quantity,Bid3,Bid3_Quantity,Ask1,Ask1_Quantity,Ask2,Ask2_Quantity,Ask3,Ask3_Quantity = bid123_ask123_Q(data_book_open)\n",
    "end = time.time()  \n",
    "print \"Total time = %f\"%(end - start)"
   ]
  },
  {
   "cell_type": "code",
   "execution_count": 13,
   "metadata": {
    "collapsed": false
   },
   "outputs": [
    {
     "name": "stdout",
     "output_type": "stream",
     "text": [
      "Total time = 147.373901\n"
     ]
    }
   ],
   "source": [
    "import time \n",
    "start = time.time()\n",
    "min_Ask1_time_series = []\n",
    "min_Ask1_time_series.append(0)\n",
    "for i in range(1,len(Ask1),1):\n",
    "    min_Ask1_time_series.append(min(Ask1[i:]))\n",
    "    \n",
    "#max_Bid1_time_series = []\n",
    "#max_Bid1_time_series.append(0)\n",
    "#for i in range(1,len(Ask1),1):\n",
    "#    max_Bid1_time_series.append(max(Bid1[i:]))\n",
    "end = time.time()  \n",
    "print \"Total time = %f\"%(end - start) "
   ]
  },
  {
   "cell_type": "code",
   "execution_count": 14,
   "metadata": {
    "collapsed": false,
    "scrolled": true
   },
   "outputs": [],
   "source": [
    "def rise_ask(Ask1,timestamp_time_second):\n",
    "    rise_ratio = []\n",
    "    for i in range(0,600):\n",
    "        rise_ratio_ = round((Ask1[i] - Ask1[0])*(1.0)/Ask1[0]*100,5)\n",
    "        rise_ratio.append(rise_ratio_)\n",
    "    for i in range(600,len(Ask1),1):\n",
    "        index_start = np.where(np.array(timestamp_time_second[:i]) >= timestamp_time_second[i] - 600)[0][0]\n",
    "        rise_ratio_ = round((Ask1[i] - Ask1[index_start])*(1.0)/Ask1[index_start]*100,5)\n",
    "        rise_ratio.append(rise_ratio_)\n",
    "    return rise_ratio"
   ]
  },
  {
   "cell_type": "code",
   "execution_count": 248,
   "metadata": {
    "collapsed": false
   },
   "outputs": [
    {
     "data": {
      "text/plain": [
       "[<matplotlib.lines.Line2D at 0x7f8725e1acd0>]"
      ]
     },
     "execution_count": 248,
     "metadata": {},
     "output_type": "execute_result"
    },
    {
     "data": {
      "image/png": "[encoded data removed]",
      "text/plain": [
       "<matplotlib.figure.Figure at 0x7f8725f30d10>"
      ]
     },
     "metadata": {},
     "output_type": "display_data"
    }
   ],
   "source": [
    "#plot(rise_ratio_ask)"
   ]
  },
  {
   "cell_type": "code",
   "execution_count": 26,
   "metadata": {
    "collapsed": false
   },
   "outputs": [
    {
     "data": {
      "text/plain": [
       "(array([ 1931,  1932,  1933, ..., 66814, 66815, 66816]),)"
      ]
     },
     "execution_count": 26,
     "metadata": {},
     "output_type": "execute_result"
    }
   ],
   "source": [
    "np.where(np.array(timestamp_time_second[200:]) >= timestamp_time_second[200] + 900)"
   ]
  },
  {
   "cell_type": "code",
   "execution_count": 41,
   "metadata": {
    "collapsed": false,
    "scrolled": true
   },
   "outputs": [
    {
     "data": {
      "text/plain": [
       "987.0"
      ]
     },
     "execution_count": 41,
     "metadata": {},
     "output_type": "execute_result"
    }
   ],
   "source": [
    "#timestamp_time_second[200]+900,\n",
    "timestamp_time_second[(200+1931):][0]#[0]#[1931]"
   ]
  },
  {
   "cell_type": "code",
   "execution_count": 15,
   "metadata": {
    "collapsed": false
   },
   "outputs": [
    {
     "name": "stdout",
     "output_type": "stream",
     "text": [
      "Total time = 99.017123\n"
     ]
    }
   ],
   "source": [
    "import time \n",
    "start = time.time()\n",
    "rise_ratio_ask = rise_ask(Ask1,timestamp_time_second)\n",
    "end = time.time()  \n",
    "print \"Total time = %f\"%(end - start) "
   ]
  },
  {
   "cell_type": "code",
   "execution_count": 19,
   "metadata": {
    "collapsed": true
   },
   "outputs": [],
   "source": [
    "def rise_bid(Bid1,timestamp_time_second):\n",
    "    rise_ratio = []\n",
    "    for i in range(0,600):\n",
    "        rise_ratio_ = round((Bid1[i] - Bid1[0])*(1.0)/Bid1[0]*100,5)\n",
    "        rise_ratio.append(rise_ratio_)\n",
    "    for i in range(600,len(Bid1),1):\n",
    "        index_start = np.where(np.array(timestamp_time_second[:i]) >= timestamp_time_second[i] - 600)[0][0]\n",
    "        rise_ratio_ = round((Bid1[i] - Bid1[index_start])*(1.0)/Bid1[index_start]*100,5)\n",
    "        rise_ratio.append(rise_ratio_)\n",
    "    return rise_ratio"
   ]
  },
  {
   "cell_type": "code",
   "execution_count": 20,
   "metadata": {
    "collapsed": false
   },
   "outputs": [
    {
     "name": "stdout",
     "output_type": "stream",
     "text": [
      "Total time = 90.770868\n"
     ]
    }
   ],
   "source": [
    "import time \n",
    "start = time.time()\n",
    "rise_ratio_bid = rise_bid(Bid1,timestamp_time_second)\n",
    "end = time.time()  \n",
    "print \"Total time = %f\"%(end - start) "
   ]
  },
  {
   "cell_type": "code",
   "execution_count": 266,
   "metadata": {
    "collapsed": false,
    "scrolled": true
   },
   "outputs": [
    {
     "data": {
      "text/plain": [
       "<matplotlib.legend.Legend at 0x7f871c86e350>"
      ]
     },
     "execution_count": 266,
     "metadata": {},
     "output_type": "execute_result"
    },
    {
     "data": {
      "image/png": "[encoded data removed]",
      "text/plain": [
       "<matplotlib.figure.Figure at 0x7f871ca6a0d0>"
      ]
     },
     "metadata": {},
     "output_type": "display_data"
    },
    {
     "data": {
      "image/png": "[encoded data removed]",
      "text/plain": [
       "<matplotlib.figure.Figure at 0x7f871c942c10>"
      ]
     },
     "metadata": {},
     "output_type": "display_data"
    }
   ],
   "source": [
    "import matplotlib.pyplot as plt\n",
    "plt.figure(figsize = (17,7))\n",
    "plt.grid()\n",
    "plot(Ask1[0:len(Ask1)],label = 'Ask1')\n",
    "#plot(Ask2[0:len(Ask1)],label = 'Ask2')\n",
    "#plot(Ask3[0:data_trade_time_series_1530_1600],label = 'Ask3')\n",
    "plot(min_Ask1_time_series[0:len(Ask1)],label = 'min Ask1')\n",
    "plot(max_Bid1_time_series[0:len(Ask1)],label = 'max Bid1')\n",
    "\n",
    "plot(Bid1[0:len(Ask1)],label = 'Bid1')\n",
    "#plot(Bid2[0:len(Ask1)],label = 'Bid2')\n",
    "#plot(Bid3[0:data_trade_time_series_1530_1600],label = 'Bid3')\n",
    "plt.ylim(6670,6780)\n",
    "plt.legend(loc = 4)\n",
    "plt.figure(figsize = (17,5))\n",
    "plt.grid()\n",
    "plot(rise_ratio_ask,label = 'Rise Ratio')\n",
    "\n",
    "plt.axhline(0.4,color = 'g',linestyle = '-',label = 0.4)\n",
    "plt.axhline(0.15,color = 'r',linestyle = '-',label = 0.15)\n",
    "plt.axhline(-0.15,color = 'g',linestyle = '-',label = -0.15)\n",
    "plt.axhline(-0.4,color = 'g',linestyle = '-',label = -0.4)\n",
    "plt.ylim(-0.65,0.65)\n",
    "plt.legend(loc = 4)\n"
   ]
  },
  {
   "cell_type": "code",
   "execution_count": null,
   "metadata": {
    "collapsed": true
   },
   "outputs": [],
   "source": []
  },
  {
   "cell_type": "code",
   "execution_count": 16,
   "metadata": {
    "collapsed": true
   },
   "outputs": [],
   "source": [
    "weight1 = 0.50\n",
    "weight2 = 0.30\n",
    "weight3 = 0.20"
   ]
  },
  {
   "cell_type": "code",
   "execution_count": 113,
   "metadata": {
    "collapsed": false
   },
   "outputs": [],
   "source": [
    "bidw = array(Bid1_Quantity) * weight1 + array(Bid2_Quantity) * weight2 + array(Bid3_Quantity) * weight3\n",
    "askw = array(Ask1_Quantity) * weight1 + array(Ask2_Quantity) * weight2 + array(Ask3_Quantity) * weight3"
   ]
  },
  {
   "cell_type": "code",
   "execution_count": 473,
   "metadata": {
    "collapsed": false,
    "scrolled": true
   },
   "outputs": [],
   "source": [
    "#hist(bidw/askw,bins=150)"
   ]
  },
  {
   "cell_type": "code",
   "execution_count": 474,
   "metadata": {
    "collapsed": false,
    "scrolled": true
   },
   "outputs": [],
   "source": [
    "#hist(bidw-askw,bins=150)"
   ]
  },
  {
   "cell_type": "code",
   "execution_count": 475,
   "metadata": {
    "collapsed": false,
    "scrolled": true
   },
   "outputs": [],
   "source": [
    "#hist(log(bidw/askw),bins=150)"
   ]
  },
  {
   "cell_type": "code",
   "execution_count": 198,
   "metadata": {
    "collapsed": false
   },
   "outputs": [],
   "source": [
    "def rise_cal(rise_ratio_ask,min_Ask1_time_series,Bid,index,\\\n",
    "             N_1,N_2,N_3,N_4,N_5,N_1_T,N_2_T,N_3_T,N_4_T,N_5_T,\\\n",
    "             N_1_E,N_2_E,N_3_E,N_4_E,N_5_E):\n",
    "    \n",
    "    if rise_ratio_ask[index] <= -0.4:\n",
    "        N_1 = N_1 + 1\n",
    "        #print rise_ratio_ask[index]\n",
    "        if Bid1[index] > min_Ask1_time_series[index+1]:\n",
    "            N_1_T = N_1_T + 1\n",
    "            N_1_E = N_1_E + (Ask1[index] - Bid1[index])*(1.0)/(5.0)\n",
    "            #print 1\n",
    "            #print N_1_T\n",
    "            pass\n",
    "\n",
    "        else:\n",
    "            \n",
    "            #print 2\n",
    "            pass\n",
    "\n",
    "    elif -0.4 < rise_ratio_ask[index] <= -0.15:\n",
    "        N_2 = N_2 + 1\n",
    "        #print rise_ratio_ask[index]\n",
    "        if Bid1[index] > min_Ask1_time_series[index+1]:\n",
    "            #print 3\n",
    "            N_2_T = N_2_T + 1\n",
    "            N_2_E = N_2_E + (Ask1[index] - Bid1[index])*(1.0)/(5.0)\n",
    "            #print N_2_T\n",
    "            pass\n",
    "        else:\n",
    "            #print 4\n",
    "            pass\n",
    "\n",
    "    elif -0.15 < rise_ratio_ask[index] <= 0.15:\n",
    "        N_3 = N_3 + 1\n",
    "        #print rise_ratio_ask[index]\n",
    "        if Bid1[index] > min_Ask1_time_series[index+1]:\n",
    "            #print 5\n",
    "            N_3_T = N_3_T + 1\n",
    "            N_3_E = N_3_E + (Ask1[index] - Bid1[index])*(1.0)/(5.0)\n",
    "            #print N_3_T\n",
    "            pass\n",
    "        else:\n",
    "            #print 6\n",
    "            pass\n",
    "\n",
    "    elif 0.15 < rise_ratio_ask[index] < 0.4:\n",
    "        N_4 = N_4 + 1\n",
    "        #print rise_ratio_ask[index]\n",
    "        if Bid1[index] > min_Ask1_time_series[index+1]:\n",
    "            #print 7\n",
    "            N_4_T = N_4_T + 1\n",
    "            N_4_E = N_4_E + (Ask1[index] - Bid1[index])*(1.0)/(5.0)\n",
    "            #print N_4_T\n",
    "            pass\n",
    "        else:\n",
    "            #print 8\n",
    "            pass\n",
    "\n",
    "    elif 0.4 <= rise_ratio_ask[index]:\n",
    "        N_5 = N_5 + 1\n",
    "        #print rise_ratio_ask[index]\n",
    "        if Bid1[index] > min_Ask1_time_series[index+1]:\n",
    "            N_5_T = N_5_T + 1\n",
    "            N_5_E = N_5_E + (Ask1[index] - Bid1[index])*(1.0)/(5.0)\n",
    "            #print N_5_T            \n",
    "            #print 9\n",
    "            pass\n",
    "\n",
    "        else:\n",
    "            #print 10  \n",
    "            pass\n",
    "    return N_1,N_2,N_3,N_4,N_5,N_1_T,N_2_T,N_3_T,N_4_T,N_5_T,N_1_E,N_2_E,N_3_E,N_4_E,N_5_E"
   ]
  },
  {
   "cell_type": "code",
   "execution_count": 147,
   "metadata": {
    "collapsed": false
   },
   "outputs": [
    {
     "data": {
      "text/plain": [
       "(0, 0, 0, 0, 0, 0, 0, 0, 0, 0)"
      ]
     },
     "execution_count": 147,
     "metadata": {},
     "output_type": "execute_result"
    }
   ],
   "source": [
    "[N_11,N_12,N_13,N_14,N_15,N_11_T,N_12_T,N_13_T,N_14_T,N_15_T] = [0 for i in  range(0,10,1)]\n",
    "N_11,N_12,N_13,N_14,N_15,N_11_T,N_12_T,N_13_T,N_14_T,N_15_T"
   ]
  },
  {
   "cell_type": "code",
   "execution_count": 35,
   "metadata": {
    "collapsed": false
   },
   "outputs": [
    {
     "data": {
      "text/plain": [
       "1931"
      ]
     },
     "execution_count": 35,
     "metadata": {},
     "output_type": "execute_result"
    }
   ],
   "source": [
    "np.where(np.array(timestamp_time_second[200:]) >= timestamp_time_second[200] + 900)[0][0]"
   ]
  },
  {
   "cell_type": "code",
   "execution_count": 476,
   "metadata": {
    "collapsed": false
   },
   "outputs": [
    {
     "data": {
      "text/plain": [
       "2375.0"
      ]
     },
     "execution_count": 476,
     "metadata": {},
     "output_type": "execute_result"
    }
   ],
   "source": [
    "timestamp_time_second[10000]"
   ]
  },
  {
   "cell_type": "code",
   "execution_count": 477,
   "metadata": {
    "collapsed": false,
    "scrolled": true
   },
   "outputs": [
    {
     "ename": "TypeError",
     "evalue": "rise_cal() takes exactly 28 arguments (20 given)",
     "output_type": "error",
     "traceback": [
      "\u001b[1;31m---------------------------------------------------------------------------\u001b[0m",
      "\u001b[1;31mTypeError\u001b[0m                                 Traceback (most recent call last)",
      "\u001b[1;32m<ipython-input-477-6851be0f29c1>\u001b[0m in \u001b[0;36m<module>\u001b[1;34m()\u001b[0m\n\u001b[0;32m     35\u001b[0m \u001b[1;33m\u001b[0m\u001b[0m\n\u001b[0;32m     36\u001b[0m     \u001b[1;32melif\u001b[0m \u001b[1;36m1.30\u001b[0m \u001b[1;33m<\u001b[0m \u001b[1;33m(\u001b[0m\u001b[0mweighted_Bid\u001b[0m\u001b[1;33m*\u001b[0m\u001b[1;33m(\u001b[0m\u001b[1;36m1.0\u001b[0m\u001b[1;33m)\u001b[0m \u001b[1;33m/\u001b[0m \u001b[0mweighted_Ask\u001b[0m\u001b[1;33m)\u001b[0m\u001b[1;33m:\u001b[0m\u001b[1;33m\u001b[0m\u001b[0m\n\u001b[1;32m---> 37\u001b[1;33m         \u001b[0mN_51\u001b[0m\u001b[1;33m,\u001b[0m\u001b[0mN_52\u001b[0m\u001b[1;33m,\u001b[0m\u001b[0mN_53\u001b[0m\u001b[1;33m,\u001b[0m\u001b[0mN_54\u001b[0m\u001b[1;33m,\u001b[0m\u001b[0mN_55\u001b[0m\u001b[1;33m,\u001b[0m\u001b[0mN_51_T\u001b[0m\u001b[1;33m,\u001b[0m\u001b[0mN_52_T\u001b[0m\u001b[1;33m,\u001b[0m\u001b[0mN_53_T\u001b[0m\u001b[1;33m,\u001b[0m\u001b[0mN_54_T\u001b[0m\u001b[1;33m,\u001b[0m\u001b[0mN_55_T\u001b[0m\u001b[1;33m,\u001b[0m\u001b[0mN_51_E\u001b[0m\u001b[1;33m,\u001b[0m\u001b[0mN_52_E\u001b[0m\u001b[1;33m,\u001b[0m\u001b[0mN_53_E\u001b[0m\u001b[1;33m,\u001b[0m\u001b[0mN_54_E\u001b[0m\u001b[1;33m,\u001b[0m\u001b[0mN_55_E\u001b[0m \u001b[1;33m=\u001b[0m         \u001b[0mrise_cal\u001b[0m\u001b[1;33m(\u001b[0m\u001b[0mrise_ratio_ask\u001b[0m\u001b[1;33m,\u001b[0m\u001b[0mmin_Ask1_time_series\u001b[0m\u001b[1;33m,\u001b[0m\u001b[0mBid\u001b[0m\u001b[1;33m,\u001b[0m\u001b[0mindex\u001b[0m\u001b[1;33m,\u001b[0m\u001b[0mindex_15_min\u001b[0m\u001b[1;33m,\u001b[0m\u001b[0mN_51\u001b[0m\u001b[1;33m,\u001b[0m\u001b[0mN_52\u001b[0m\u001b[1;33m,\u001b[0m\u001b[0mN_53\u001b[0m\u001b[1;33m,\u001b[0m\u001b[0mN_54\u001b[0m\u001b[1;33m,\u001b[0m\u001b[0mN_55\u001b[0m\u001b[1;33m,\u001b[0m\u001b[0mN_51_T\u001b[0m\u001b[1;33m,\u001b[0m\u001b[0mN_52_T\u001b[0m\u001b[1;33m,\u001b[0m\u001b[0mN_53_T\u001b[0m\u001b[1;33m,\u001b[0m\u001b[0mN_54_T\u001b[0m\u001b[1;33m,\u001b[0m\u001b[0mN_55_T\u001b[0m\u001b[1;33m,\u001b[0m\u001b[0mN_51_E\u001b[0m\u001b[1;33m,\u001b[0m\u001b[0mN_52_E\u001b[0m\u001b[1;33m,\u001b[0m\u001b[0mN_53_E\u001b[0m\u001b[1;33m,\u001b[0m\u001b[0mN_54_E\u001b[0m\u001b[1;33m,\u001b[0m\u001b[0mN_55_E\u001b[0m\u001b[1;33m)\u001b[0m\u001b[1;33m\u001b[0m\u001b[0m\n\u001b[0m",
      "\u001b[1;31mTypeError\u001b[0m: rise_cal() takes exactly 28 arguments (20 given)"
     ]
    }
   ],
   "source": [
    "Bid = Bid1\n",
    "[N_11,N_12,N_13,N_14,N_15,N_11_T,N_12_T,N_13_T,N_14_T,N_15_T,N_11_E,N_12_E,N_13_E,N_14_E,N_15_E] = \\\n",
    "[0 for i in  range(0,15,1)]\n",
    "[N_21,N_22,N_23,N_24,N_25,N_21_T,N_22_T,N_23_T,N_24_T,N_25_T,N_21_E,N_22_E,N_23_E,N_24_E,N_25_E] = \\\n",
    "[0 for i in  range(0,15,1)]\n",
    "[N_31,N_32,N_33,N_34,N_35,N_31_T,N_32_T,N_33_T,N_34_T,N_35_T,N_31_E,N_32_E,N_33_E,N_34_E,N_35_E] = \\\n",
    "[0 for i in  range(0,15,1)]\n",
    "[N_41,N_42,N_43,N_44,N_45,N_41_T,N_42_T,N_43_T,N_44_T,N_45_T,N_41_E,N_42_E,N_43_E,N_44_E,N_45_E] = \\\n",
    "[0 for i in  range(0,15,1)]\n",
    "[N_51,N_52,N_53,N_54,N_55,N_51_T,N_52_T,N_53_T,N_54_T,N_55_T,N_51_E,N_52_E,N_53_E,N_54_E,N_55_E] = \\\n",
    "[0 for i in  range(0,15,1)]\n",
    "\n",
    "for i in range(2000,2400,1):\n",
    "    #print i\n",
    "    #print np.where(array(timestamp_time_second) <= i)[0]\n",
    "    index = np.where(array(timestamp_time_second) <= i)[0][-1]\n",
    "    index_15_min = np.where(np.array(timestamp_time_second[i:]) >= timestamp_time_second[i] + 900)[0][0]\n",
    "    #print 'time stamp = %d'%(timestamp_time_second[index])\n",
    "    #print index\n",
    "    #print Bid1[index]\n",
    "    #print Ask1[index]\n",
    "    #print min_Ask1_time_series[index + 1]\n",
    "    weighted_Bid = Bid1_Quantity[index] * weight1 + Bid2_Quantity[index] * weight2 + Bid3_Quantity[index] * weight3\n",
    "    weighted_Ask = Ask1_Quantity[index] * weight1 + Ask2_Quantity[index] * weight2 + Ask3_Quantity[index] * weight3  \n",
    "    #print weighted_Bid \n",
    "    #print weighted_Ask\n",
    "    #print (weighted_Bid*(1.0) / weighted_Ask)\n",
    "    \n",
    "    if (weighted_Bid*(1.0) / weighted_Ask) <= 0.7:\n",
    "        N_11,N_12,N_13,N_14,N_15,N_11_T,N_12_T,N_13_T,N_14_T,N_15_T,N_11_E,N_12_E,N_13_E,N_14_E,N_15_E = \\\n",
    "        rise_cal(rise_ratio_ask,min_Ask1_time_series,Bid,index,index_15_min,N_11,N_12,N_13,N_14,N_15,N_11_T,N_12_T,N_13_T,N_14_T,N_15_T,N_11_E,N_12_E,N_13_E,N_14_E,N_15_E)                                               \n",
    "\n",
    "    elif 0.7 < (weighted_Bid*(1.0) / weighted_Ask) <= 0.9:\n",
    "        N_21,N_22,N_23,N_24,N_25,N_21_T,N_22_T,N_23_T,N_24_T,N_25_T,N_21_E,N_22_E,N_23_E,N_24_E,N_25_E = \\\n",
    "        rise_cal(rise_ratio_ask,min_Ask1_time_series,Bid,index,index_15_min,N_21,N_22,N_23,N_24,N_25,N_21_T,N_22_T,N_23_T,N_24_T,N_25_T,N_21_E,N_22_E,N_23_E,N_24_E,N_25_E)                                                \n",
    "\n",
    "    elif 0.9 < (weighted_Bid*(1.0) / weighted_Ask) <= 1.1:\n",
    "        N_31,N_32,N_33,N_34,N_35,N_31_T,N_32_T,N_33_T,N_34_T,N_35_T,N_31_E,N_32_E,N_33_E,N_34_E,N_35_E = \\\n",
    "        rise_cal(rise_ratio_ask,min_Ask1_time_series,Bid,index,index_15_min,N_31,N_32,N_33,N_34,N_35,N_31_T,N_32_T,N_33_T,N_34_T,N_35_T,N_31_E,N_32_E,N_33_E,N_34_E,N_35_E)                                    \n",
    " \n",
    "    elif 1.1 < (weighted_Bid*(1.0) / weighted_Ask) <= 1.3:\n",
    "        N_41,N_42,N_43,N_44,N_45,N_41_T,N_42_T,N_43_T,N_44_T,N_45_T,N_41_E,N_42_E,N_43_E,N_44_E,N_45_E = \\\n",
    "        rise_cal(rise_ratio_ask,min_Ask1_time_series,Bid,index,index_15_min,N_41,N_42,N_43,N_44,N_45,N_41_T,N_42_T,N_43_T,N_44_T,N_45_T,N_41_E,N_42_E,N_43_E,N_44_E,N_45_E)                              \n",
    "\n",
    "    elif 1.30 < (weighted_Bid*(1.0) / weighted_Ask):\n",
    "        N_51,N_52,N_53,N_54,N_55,N_51_T,N_52_T,N_53_T,N_54_T,N_55_T,N_51_E,N_52_E,N_53_E,N_54_E,N_55_E = \\\n",
    "        rise_cal(rise_ratio_ask,min_Ask1_time_series,Bid,index,index_15_min,N_51,N_52,N_53,N_54,N_55,N_51_T,N_52_T,N_53_T,N_54_T,N_55_T,N_51_E,N_52_E,N_53_E,N_54_E,N_55_E)                   "
   ]
  },
  {
   "cell_type": "code",
   "execution_count": null,
   "metadata": {
    "collapsed": true
   },
   "outputs": [],
   "source": []
  },
  {
   "cell_type": "code",
   "execution_count": null,
   "metadata": {
    "collapsed": true
   },
   "outputs": [],
   "source": []
  },
  {
   "cell_type": "code",
   "execution_count": null,
   "metadata": {
    "collapsed": true
   },
   "outputs": [],
   "source": []
  },
  {
   "cell_type": "code",
   "execution_count": null,
   "metadata": {
    "collapsed": true
   },
   "outputs": [],
   "source": []
  },
  {
   "cell_type": "code",
   "execution_count": null,
   "metadata": {
    "collapsed": true
   },
   "outputs": [],
   "source": []
  },
  {
   "cell_type": "code",
   "execution_count": null,
   "metadata": {
    "collapsed": true
   },
   "outputs": [],
   "source": []
  },
  {
   "cell_type": "code",
   "execution_count": null,
   "metadata": {
    "collapsed": true
   },
   "outputs": [],
   "source": []
  },
  {
   "cell_type": "code",
   "execution_count": 85,
   "metadata": {
    "collapsed": false
   },
   "outputs": [
    {
     "data": {
      "text/plain": [
       "67017"
      ]
     },
     "execution_count": 85,
     "metadata": {},
     "output_type": "execute_result"
    }
   ],
   "source": [
    "len(timestamp_time_second)"
   ]
  },
  {
   "cell_type": "code",
   "execution_count": 282,
   "metadata": {
    "collapsed": false
   },
   "outputs": [],
   "source": [
    "def rise_cal(i,rise_ratio_ask,timestamp_time_second,Bid,Ask,index,index_15_min,close_price,\\\n",
    "             N_1,N_2,N_3,N_4,N_5,N_1_T,N_2_T,N_3_T,N_4_T,N_5_T,\\\n",
    "             N_1_E,N_2_E,N_3_E,N_4_E,N_5_E,N_1_M,N_2_M,N_3_M,N_4_M,N_5_M):\n",
    "    \n",
    "    if rise_ratio_ask[index] <= -0.4:\n",
    "        N_1 = N_1 + 1\n",
    "        #print rise_ratio_ask[index]\n",
    "        if Bid1[index] > min_Ask1_time_series[index+1]:\n",
    "            N_1_T = N_1_T + 1\n",
    "            N_1_E = N_1_E + (Ask1[index] - Bid1[index])*(1.0)/(5.0)\n",
    "            #print N_1_E\n",
    "            first_min_index = np.where(np.array(Ask1[(index+1):]) < Bid1[index])[0][0]\n",
    "            N_1_M = N_1_M + (max(Ask1[(index + 1):(index + 1 + first_min_index)]) - Bid1[index])*(1.0)/(5.0) \n",
    "            print N_1_M\n",
    "            pass\n",
    "\n",
    "        else:\n",
    "            if i < 25200 - 900:\n",
    "                N_1_E = N_1_E + (Ask1[index] - Ask1[index + index_15_min])*(1.0)/(5.0)\n",
    "                \n",
    "            else:\n",
    "                N_1_E = N_1_E + (Ask1[index] - close_price)*(1.0)/(5.0)\n",
    "                \n",
    "                #print N_1_E\n",
    "            pass\n",
    "\n",
    "    elif -0.4 < rise_ratio_ask[index] <= -0.15:\n",
    "        N_2 = N_2 + 1\n",
    "        #print rise_ratio_ask[index]\n",
    "        if Bid1[index] > min_Ask1_time_series[index+1]:\n",
    "            #print 3\n",
    "            N_2_T = N_2_T + 1\n",
    "            N_2_E = N_2_E + (Ask1[index] - Bid1[index])*(1.0)/(5.0)\n",
    "            #print N_2_E\n",
    "            first_min_index = np.where(np.array(Ask1[(index+1):]) < Bid1[index])[0][0]\n",
    "            N_2_M = N_2_M + (max(Ask1[(index + 1):(index + 1 + first_min_index)]) - Bid1[index])*(1.0)/(5.0) \n",
    "            print N_2_M\n",
    "            pass\n",
    "        else:\n",
    "            if i < 25200 - 900:\n",
    "                N_2_E = N_2_E + (Ask1[index] - Ask1[index + index_15_min])*(1.0)/(5.0)\n",
    "            else:\n",
    "                N_2_E = N_2_E + (Ask1[index] - close_price)*(1.0)/(5.0)\n",
    "                #print E\n",
    "            pass\n",
    "\n",
    "    elif -0.15 < rise_ratio_ask[index] <= 0.15:\n",
    "        N_3 = N_3 + 1\n",
    "        #print rise_ratio_ask[index]\n",
    "        if Bid1[index] > min_Ask1_time_series[index+1]:\n",
    "            #print 5\n",
    "            N_3_T = N_3_T + 1\n",
    "            N_3_E = N_3_E + (Ask1[index] - Bid1[index])*(1.0)/(5.0)\n",
    "            #print N_3_E\n",
    "            first_min_index = np.where(np.array(Ask1[(index+1):]) < Bid1[index])[0][0]\n",
    "            N_3_M = N_3_M + (max(Ask1[(index + 1):(index + 1 + first_min_index)]) - Bid1[index])*(1.0)/(5.0) \n",
    "            print N_3_M\n",
    "            pass\n",
    "        else:\n",
    "            if i < 25200 - 900:\n",
    "                N_3_E = N_3_E + (Ask1[index] - Ask1[index + index_15_min])*(1.0)/(5.0)\n",
    "            #print N_3_E\n",
    "            else:\n",
    "                N_3_E = N_3_E + (Ask1[index] - close_price)*(1.0)/(5.0)\n",
    "                #print N_3_E\n",
    "            pass\n",
    "\n",
    "    elif 0.15 < rise_ratio_ask[index] < 0.4:\n",
    "        N_4 = N_4 + 1\n",
    "        #print rise_ratio_ask[index]\n",
    "        if Bid1[index] > min_Ask1_time_series[index+1]:\n",
    "            #print 7\n",
    "            N_4_T = N_4_T + 1\n",
    "            N_4_E = N_4_E + (Ask1[index] - Bid1[index])*(1.0)/(5.0)\n",
    "            #print N_4_E\n",
    "            first_min_index = np.where(np.array(Ask1[(index+1):]) < Bid1[index])[0][0]\n",
    "            N_4_M = N_4_M + (max(Ask1[(index + 1):(index + 1 + first_min_index)]) - Bid1[index])*(1.0)/(5.0) \n",
    "            print N_4_M\n",
    "            pass\n",
    "        else:\n",
    "            if i < 25200 - 900:\n",
    "                N_4_E = N_4_E + (Ask1[index] - Ask1[index + index_15_min])*(1.0)/(5.0)\n",
    "            #print N_4_E\n",
    "            else:\n",
    "                N_4_E = N_4_E + (Ask1[index] - close_price)*(1.0)/(5.0)\n",
    "                #print N_3_E\n",
    "            pass\n",
    "\n",
    "    elif 0.4 <= rise_ratio_ask[index]:\n",
    "        N_5 = N_5 + 1\n",
    "        #print rise_ratio_ask[index]\n",
    "        if Bid1[index] > min_Ask1_time_series[index+1]:\n",
    "            N_5_T = N_5_T + 1\n",
    "            N_5_E = N_5_E + (Ask1[index] - Bid1[index])*(1.0)/(5.0)\n",
    "            #print N_5_E      \n",
    "            first_min_index = np.where(np.array(Ask1[(index+1):]) < Bid1[index])[0][0]\n",
    "            N_5_M = N_5_M + (max(Ask1[(index + 1):(index + 1 + first_min_index)]) - Bid1[index])*(1.0)/(5.0) \n",
    "            print N_5_M\n",
    "            pass\n",
    "        else:\n",
    "            if i < 25200 - 900:\n",
    "                N_5_E = N_5_E + (Ask1[index] - Ask1[index + index_15_min])*(1.0)/(5.0)\n",
    "            else:\n",
    "                N_5_E = N_5_E + (Ask1[index] - close_price)*(1.0)/(5.0)\n",
    "                #print N_5_E  \n",
    "            pass\n",
    "    return N_1,N_2,N_3,N_4,N_5,N_1_T,N_2_T,N_3_T,N_4_T,N_5_T,N_1_E,N_2_E,N_3_E,N_4_E,N_5_E,N_1_M,N_2_M,N_3_M,N_4_M,N_5_M\n",
    "\n",
    "\n",
    "\n",
    "\n"
   ]
  },
  {
   "cell_type": "code",
   "execution_count": null,
   "metadata": {
    "collapsed": true
   },
   "outputs": [],
   "source": []
  },
  {
   "cell_type": "code",
   "execution_count": 190,
   "metadata": {
    "collapsed": true
   },
   "outputs": [],
   "source": [
    "def rise_cal(i,rise_ratio_ask,timestamp_time_second,Bid,Ask,index,index_15_min,close_price,\\\n",
    "             N_1,N_2,N_3,N_4,N_5,N_1_T,N_2_T,N_3_T,N_4_T,N_5_T,\\\n",
    "             N_1_E,N_2_E,N_3_E,N_4_E,N_5_E,N_1_M,N_2_M,N_3_M,N_4_M,N_5_M,\\\n",
    "             N_1_TI,N_2_TI,N_3_TI,N_4_TI,N_5_TI):\n",
    "    \n",
    "    if rise_ratio_ask[index] <= -0.4:\n",
    "        N_1 = N_1 + 1\n",
    "        #print rise_ratio_ask[index]\n",
    "        if Bid1[index] > min(Ask1[(index+1):index + 1 + index_15_min + 1]):\n",
    "            N_1_T = N_1_T + 1\n",
    "            N_1_E = N_1_E + (Ask1[index] - Bid1[index])*(1.0)/(5.0)\n",
    "            #print N_1_E\n",
    "            first_min_index = np.where(np.array(Ask1[(index+1):index + 1 + index_15_min + 1]) < Bid1[index])[0][0]\n",
    "            N_1_M = N_1_M + (max(Ask1[(index + 1):(index + 1 + first_min_index + 1)]) - Bid1[index])*(1.0)/(5.0) \n",
    "            \n",
    "            time_start = timestamp_time_second[index]\n",
    "            time_traded = timestamp_time_second[index + first_min_index + 1]\n",
    "            N_1_TI = N_1_TI + (time_traded - time_start)\n",
    "            #print N_1_TI\n",
    "            pass\n",
    "\n",
    "        else:\n",
    "            if i < 25200 - 900:\n",
    "                N_1_E = N_1_E + (Ask1[index] - Ask1[index + index_15_min])*(1.0)/(5.0)\n",
    "                N_1_M = N_1_M + (max(Ask1[(index + 1):(index + 1 + index_15_min + 1)]) - Bid1[index])*(1.0)/(5.0) \n",
    "                #print N_1_M\n",
    "                N_1_TI = N_1_TI + (900.0)\n",
    "                #print N_1_TI\n",
    "            else:\n",
    "                N_1_E = N_1_E + (Ask1[index] - close_price)*(1.0)/(5.0)\n",
    "                N_1_M = N_1_M + (max(Ask1[(index+1):]) - Bid1[index])*(1.0)/(5.0) \n",
    "                time_start = timestamp_time_second[index]\n",
    "                time_traded = timestamp_time_second[len(timestamp_time_second)-1]                \n",
    "                N_1_TI = N_1_TI + (time_traded - time_start)\n",
    "                #print N_1_TI\n",
    "            pass\n",
    "\n",
    "    elif -0.4 < rise_ratio_ask[index] <= -0.15:\n",
    "        N_2 = N_2 + 1\n",
    "        #print rise_ratio_ask[index]\n",
    "        if Bid1[index] > min(Ask1[(index+1):index + 1 + index_15_min + 1]):\n",
    "            #print 3\n",
    "            N_2_T = N_2_T + 1\n",
    "            N_2_E = N_2_E + (Ask1[index] - Bid1[index])*(1.0)/(5.0)\n",
    "            #print N_2_E\n",
    "            first_min_index = np.where(np.array(Ask1[(index+1):index + 1 + index_15_min + 1]) < Bid1[index])[0][0]\n",
    "            N_2_M = N_2_M + (max(Ask1[(index + 1):(index + 1 + first_min_index + 1)]) - Bid1[index])*(1.0)/(5.0) \n",
    "            \n",
    "            time_start = timestamp_time_second[index]\n",
    "            time_traded = timestamp_time_second[index + first_min_index + 1]\n",
    "            N_2_TI = N_2_TI + (time_traded - time_start)\n",
    "            #print N_2_TI\n",
    "            pass\n",
    "        else:\n",
    "            if i < 25200 - 900:\n",
    "                N_2_E = N_2_E + (Ask1[index] - Ask1[index + index_15_min])*(1.0)/(5.0)\n",
    "                N_2_M = N_2_M + (max(Ask1[(index + 1):(index + 1 + index_15_min + 1)]) - Bid1[index])*(1.0)/(5.0) \n",
    "                N_2_TI = N_2_TI + (900.0)\n",
    "                #print N_2_TI\n",
    "            else:\n",
    "                N_2_E = N_2_E + (Ask1[index] - close_price)*(1.0)/(5.0)\n",
    "                N_2_M = N_3_M + (max(Ask1[(index+1):]) - Bid1[index])*(1.0)/(5.0)\n",
    "                time_start = timestamp_time_second[index]\n",
    "                time_traded = timestamp_time_second[len(timestamp_time_second)-1]                \n",
    "                N_2_TI = N_2_TI + (time_traded - time_start)\n",
    "                #print N_2_TI\n",
    "            pass\n",
    "\n",
    "    elif -0.15 < rise_ratio_ask[index] <= 0.15:\n",
    "        N_3 = N_3 + 1\n",
    "        #print rise_ratio_ask[index]\n",
    "        if Bid1[index] > min(Ask1[(index+1):index + 1 + index_15_min + 1]):\n",
    "            #print 5\n",
    "            N_3_T = N_3_T + 1\n",
    "            N_3_E = N_3_E + (Ask1[index] - Bid1[index])*(1.0)/(5.0)\n",
    "            #print N_3_E\n",
    "            first_min_index = np.where(np.array(Ask1[(index+1):index + 1 + index_15_min + 1]) < Bid1[index])[0][0]\n",
    "            N_3_M = N_3_M + (max(Ask1[(index + 1):(index + 1 + first_min_index + 1)]) - Bid1[index])*(1.0)/(5.0) \n",
    "            time_start = timestamp_time_second[index]\n",
    "            time_traded = timestamp_time_second[index + first_min_index + 1]\n",
    "            N_3_TI = N_3_TI + (time_traded - time_start)\n",
    "            #print N_3_TI\n",
    "            pass\n",
    "        else:\n",
    "            if i < 25200 - 900:\n",
    "                N_3_E = N_3_E + (Ask1[index] - Ask1[index + index_15_min])*(1.0)/(5.0)\n",
    "                N_3_M = N_3_M + (max(Ask1[(index + 1):(index + 1 + index_15_min + 1)]) - Bid1[index])*(1.0)/(5.0) \n",
    "                N_3_TI = N_3_TI + (900.0)\n",
    "                #print N_3_TI\n",
    "            else:\n",
    "                N_3_E = N_3_E + (Ask1[index] - close_price)*(1.0)/(5.0)\n",
    "                N_3_M = N_3_M + (max(Ask1[(index+1):]) - Bid1[index])*(1.0)/(5.0)\n",
    "                time_start = timestamp_time_second[index]\n",
    "                time_traded = timestamp_time_second[len(timestamp_time_second)-1]                \n",
    "                N_3_TI = N_3_TI + (time_traded - time_start)\n",
    "                #print N_3_TI\n",
    "            pass\n",
    "\n",
    "    elif 0.15 < rise_ratio_ask[index] < 0.4:\n",
    "        N_4 = N_4 + 1\n",
    "        #print rise_ratio_ask[index]\n",
    "        if Bid1[index] > min(Ask1[(index+1):index + 1 + index_15_min + 1]):\n",
    "            #print 7\n",
    "            N_4_T = N_4_T + 1\n",
    "            N_4_E = N_4_E + (Ask1[index] - Bid1[index])*(1.0)/(5.0)\n",
    "            #print N_4_E\n",
    "            first_min_index = np.where(np.array(Ask1[(index+1):index + 1 + index_15_min + 1]) < Bid1[index])[0][0]\n",
    "            N_4_M = N_4_M + (max(Ask1[(index + 1):(index + 1 + first_min_index + 1)]) - Bid1[index])*(1.0)/(5.0) \n",
    "            time_start = timestamp_time_second[index]\n",
    "            time_traded = timestamp_time_second[index + first_min_index + 1]\n",
    "            N_4_TI = N_4_TI + (time_traded - time_start)\n",
    "            #print N_4_TI\n",
    "            pass\n",
    "        else:\n",
    "            if i < 25200 - 900:\n",
    "                N_4_E = N_4_E + (Ask1[index] - Ask1[index + index_15_min])*(1.0)/(5.0)\n",
    "                N_4_M = N_4_M + (max(Ask1[(index + 1):(index + 1 + index_15_min + 1)]) - Bid1[index])*(1.0)/(5.0) \n",
    "                N_4_TI = N_4_TI + (900.0)\n",
    "                #print N_4_TI\n",
    "            else:\n",
    "                N_4_E = N_4_E + (Ask1[index] - close_price)*(1.0)/(5.0)\n",
    "                N_4_M = N_4_M + (max(Ask1[(index+1):]) - Bid1[index])*(1.0)/(5.0)\n",
    "                time_start = timestamp_time_second[index]\n",
    "                time_traded = timestamp_time_second[len(timestamp_time_second)-1]                \n",
    "                N_4_TI = N_4_TI + (time_traded - time_start)\n",
    "                #print N_4_TI\n",
    "            pass\n",
    "\n",
    "    elif 0.4 <= rise_ratio_ask[index]:\n",
    "        N_5 = N_5 + 1\n",
    "        #print rise_ratio_ask[index]\n",
    "        if Bid1[index] > min(Ask1[(index+1):index + 1 + index_15_min + 1]):\n",
    "            N_5_T = N_5_T + 1\n",
    "            N_5_E = N_5_E + (Ask1[index] - Bid1[index])*(1.0)/(5.0)\n",
    "            #print N_5_E      \n",
    "            first_min_index = np.where(np.array(Ask1[(index+1):index + 1 + index_15_min + 1]) < Bid1[index])[0][0]\n",
    "            N_5_M = N_5_M + (max(Ask1[(index + 1):(index + 1 + first_min_index + 1)]) - Bid1[index])*(1.0)/(5.0) \n",
    "            \n",
    "            time_start = timestamp_time_second[index]\n",
    "            time_traded = timestamp_time_second[index + first_min_index + 1]\n",
    "            N_5_TI = N_5_TI + (time_traded - time_start)\n",
    "            #print N_5_TI\n",
    "            pass\n",
    "        else:\n",
    "            if i < 25200 - 900:\n",
    "                N_5_E = N_5_E + (Ask1[index] - Ask1[index + index_15_min])*(1.0)/(5.0)\n",
    "                N_5_M = N_5_M + (max(Ask1[(index + 1):(index + 1 + index_15_min + 1)]) - Bid1[index])*(1.0)/(5.0) \n",
    "                N_1_TI = N_1_TI + (900.0)\n",
    "                #print N_5_TI\n",
    "            else:\n",
    "                N_5_E = N_5_E + (Ask1[index] - close_price)*(1.0)/(5.0)\n",
    "                N_5_M = N_5_M + (max(Ask1[(index+1):]) - Bid1[index])*(1.0)/(5.0)\n",
    "                time_start = timestamp_time_second[index]\n",
    "                time_traded = timestamp_time_second[len(timestamp_time_second)-1]                \n",
    "                N_5_TI = N_5_TI + (time_traded - time_start)\n",
    "                #print N_5_TI \n",
    "            pass\n",
    "        \n",
    "    return N_1,N_2,N_3,N_4,N_5,N_1_T,N_2_T,N_3_T,N_4_T,N_5_T,N_1_E,N_2_E,N_3_E,N_4_E,N_5_E,N_1_M,N_2_M,N_3_M,N_4_M,N_5_M,\\\n",
    "           N_1_TI,N_2_TI,N_3_TI,N_4_TI,N_5_TI\n"
   ]
  },
  {
   "cell_type": "code",
   "execution_count": null,
   "metadata": {
    "collapsed": true
   },
   "outputs": [],
   "source": []
  },
  {
   "cell_type": "code",
   "execution_count": 311,
   "metadata": {
    "collapsed": false,
    "scrolled": true
   },
   "outputs": [],
   "source": [
    "#first_min_index = np.where(np.array(Ask1[(index+1):index + index_15_min]) < Bid1[index])[0][0]\n",
    "#N_5_M = N_5_M + (max(Ask1[(index + 1):(index + 1 + first_min_index)]) - Bid1[index])*(1.0)/(5.0)"
   ]
  },
  {
   "cell_type": "code",
   "execution_count": 111,
   "metadata": {
    "collapsed": false,
    "scrolled": true
   },
   "outputs": [],
   "source": [
    "Bid = Bid1\n",
    "Ask = Ask1\n",
    "close_price = 6750\n",
    "[N_11,N_12,N_13,N_14,N_15,N_11_T,N_12_T,N_13_T,N_14_T,N_15_T,N_11_E,N_12_E,N_13_E,N_14_E,N_15_E,\\\n",
    " N_11_M,N_12_M,N_13_M,N_14_M,N_15_M,N_11_TI,N_12_TI,N_13_TI,N_14_TI,N_15_TI] = [0 for i in  range(0,25,1)]\n",
    "[N_21,N_22,N_23,N_24,N_25,N_21_T,N_22_T,N_23_T,N_24_T,N_25_T,N_21_E,N_22_E,N_23_E,N_24_E,N_25_E,\\\n",
    " N_21_M,N_22_M,N_23_M,N_24_M,N_25_M,N_21_TI,N_22_TI,N_23_TI,N_24_TI,N_25_TI] = [0 for i in  range(0,25,1)]\n",
    "[N_31,N_32,N_33,N_34,N_35,N_31_T,N_32_T,N_33_T,N_34_T,N_35_T,N_31_E,N_32_E,N_33_E,N_34_E,N_35_E,\\\n",
    " N_31_M,N_32_M,N_33_M,N_34_M,N_35_M,N_31_TI,N_32_TI,N_33_TI,N_34_TI,N_35_TI] = [0 for i in  range(0,25,1)]\n",
    "[N_41,N_42,N_43,N_44,N_45,N_41_T,N_42_T,N_43_T,N_44_T,N_45_T,N_41_E,N_42_E,N_43_E,N_44_E,N_45_E,\\\n",
    " N_41_M,N_42_M,N_43_M,N_44_M,N_45_M,N_41_TI,N_42_TI,N_43_TI,N_44_TI,N_45_TI] = [0 for i in  range(0,25,1)]\n",
    "[N_51,N_52,N_53,N_54,N_55,N_51_T,N_52_T,N_53_T,N_54_T,N_55_T,N_51_E,N_52_E,N_53_E,N_54_E,N_55_E,\\\n",
    " N_51_M,N_52_M,N_53_M,N_54_M,N_55_M,N_51_TI,N_52_TI,N_53_TI,N_54_TI,N_55_TI] = [0 for i in  range(0,25,1)]\n",
    "\n",
    "for i in range(0,25200,1):\n",
    "    #print i\n",
    "    #print np.where(array(timestamp_time_second) <= i)[0]\n",
    "    index = np.where(array(timestamp_time_second) <= i)[0][-1]\n",
    "    #print i\n",
    "    #print index\n",
    "    #print timestamp_time_second[index]\n",
    "    if i < 25200 - 900:\n",
    "        index_15_min = np.where(np.array(timestamp_time_second[index:]) >= i + 900)[0][0]\n",
    "        #print index_15_min\n",
    "        #print timestamp_time_second[index+index_15_min]\n",
    "    #print 'time stamp = %d'%(timestamp_time_second[index])\n",
    "    #print index\n",
    "    #print index + index_15_min \n",
    "    #rint Bid1[index]\n",
    "    #print Ask1[index]\n",
    "    #print len(Ask1[(index+1):index + index_15_min])\n",
    "    \n",
    "    #if Bid1[index] > min(Ask1[(index+1):index + index_15_min]):\n",
    "    #    first_min_index = np.where(np.array(Ask1[(index+1):index + index_15_min]) < Bid1[index])[0][0]\n",
    "    #    print 'mdd = %d'%((max(Ask1[(index + 1):(index + 1 + first_min_index)]) - Bid1[index])*(1.0)/(5.0))\n",
    "    #print min_Ask1_time_series[index + 1]\n",
    "    weighted_Bid = Bid1_Quantity[index] * weight1 + Bid2_Quantity[index] * weight2 + Bid3_Quantity[index] * weight3\n",
    "    weighted_Ask = Ask1_Quantity[index] * weight1 + Ask2_Quantity[index] * weight2 + Ask3_Quantity[index] * weight3  \n",
    "    #print weighted_Bid \n",
    "    #print weighted_Ask\n",
    "    #print (weighted_Bid*(1.0) / weighted_Ask)\n",
    "    \n",
    "    if (weighted_Bid*(1.0) / weighted_Ask) <= 0.7:\n",
    "        N_11,N_12,N_13,N_14,N_15,N_11_T,N_12_T,N_13_T,N_14_T,N_15_T,N_11_E,N_12_E,N_13_E,N_14_E,N_15_E,\\\n",
    "        N_11_M,N_12_M,N_13_M,N_14_M,N_15_M,N_11_TI,N_12_TI,N_13_TI,N_14_TI,N_15_TI = rise_cal(i,rise_ratio_ask,timestamp_time_second,Bid,Ask,index,index_15_min,\\\n",
    "                                                      close_price,N_11,N_12,N_13,N_14,N_15,N_11_T,N_12_T,N_13_T,N_14_T,N_15_T,\\\n",
    "                                                      N_11_E,N_12_E,N_13_E,N_14_E,N_15_E,N_11_M,N_12_M,N_13_M,N_14_M,N_15_M,\\\n",
    "                                                      N_11_TI,N_12_TI,N_13_TI,N_14_TI,N_15_TI)                                               \n",
    "\n",
    "    elif 0.7 < (weighted_Bid*(1.0) / weighted_Ask) <= 0.9:\n",
    "        N_21,N_22,N_23,N_24,N_25,N_21_T,N_22_T,N_23_T,N_24_T,N_25_T,N_21_E,N_22_E,N_23_E,N_24_E,N_25_E,\\\n",
    "        N_21_M,N_22_M,N_23_M,N_24_M,N_25_M,N_21_TI,N_22_TI,N_23_TI,N_24_TI,N_25_TI = rise_cal(i,rise_ratio_ask,timestamp_time_second,Bid,Ask,index,index_15_min,\\\n",
    "                                                      close_price,N_21,N_22,N_23,N_24,N_25,N_21_T,N_22_T,N_23_T,N_24_T,N_25_T,\\\n",
    "                                                      N_21_E,N_22_E,N_23_E,N_24_E,N_25_E,N_21_M,N_22_M,N_23_M,N_24_M,N_25_M,\\\n",
    "                                                      N_21_TI,N_22_TI,N_23_TI,N_24_TI,N_25_TI)                                                \n",
    "\n",
    "    elif 0.9 < (weighted_Bid*(1.0) / weighted_Ask) <= 1.1:\n",
    "        N_31,N_32,N_33,N_34,N_35,N_31_T,N_32_T,N_33_T,N_34_T,N_35_T,N_31_E,N_32_E,N_33_E,N_34_E,N_35_E,\\\n",
    "        N_31_M,N_32_M,N_33_M,N_34_M,N_35_M,N_31_TI,N_32_TI,N_33_TI,N_34_TI,N_35_TI = rise_cal(i,rise_ratio_ask,timestamp_time_second,Bid,Ask,index,index_15_min,\\\n",
    "                                                      close_price,N_31,N_32,N_33,N_34,N_35,N_31_T,N_32_T,N_33_T,N_34_T,N_35_T,\\\n",
    "                                                      N_31_E,N_32_E,N_33_E,N_34_E,N_35_E,N_31_M,N_32_M,N_33_M,N_34_M,N_35_M,\\\n",
    "                                                      N_31_TI,N_32_TI,N_33_TI,N_34_TI,N_35_TI)                                    \n",
    " \n",
    "    elif 1.1 < (weighted_Bid*(1.0) / weighted_Ask) <= 1.3:\n",
    "        N_41,N_42,N_43,N_44,N_45,N_41_T,N_42_T,N_43_T,N_44_T,N_45_T,N_41_E,N_42_E,N_43_E,N_44_E,N_45_E,\\\n",
    "        N_41_M,N_42_M,N_43_M,N_44_M,N_45_M,N_41_TI,N_42_TI,N_43_TI,N_44_TI,N_45_TI = rise_cal(i,rise_ratio_ask,timestamp_time_second,Bid,Ask,index,index_15_min,\\\n",
    "                                                      close_price,N_41,N_42,N_43,N_44,N_45,N_41_T,N_42_T,N_43_T,N_44_T,N_45_T,\\\n",
    "                                                      N_41_E,N_42_E,N_43_E,N_44_E,N_45_E,N_41_M,N_42_M,N_43_M,N_44_M,N_45_M,\\\n",
    "                                                      N_41_TI,N_42_TI,N_43_TI,N_44_TI,N_45_TI)                              \n",
    "\n",
    "    elif 1.30 < (weighted_Bid*(1.0) / weighted_Ask):\n",
    "        N_51,N_52,N_53,N_54,N_55,N_51_T,N_52_T,N_53_T,N_54_T,N_55_T,N_51_E,N_52_E,N_53_E,N_54_E,N_55_E,\\\n",
    "        N_51_M,N_52_M,N_53_M,N_54_M,N_55_M,N_51_TI,N_52_TI,N_53_TI,N_54_TI,N_55_TI = rise_cal(i,rise_ratio_ask,timestamp_time_second,Bid,Ask,index,index_15_min,\\\n",
    "                                                      close_price,N_51,N_52,N_53,N_54,N_55,N_51_T,N_52_T,N_53_T,N_54_T,N_55_T,\\\n",
    "                                                      N_51_E,N_52_E,N_53_E,N_54_E,N_55_E,N_51_M,N_52_M,N_53_M,N_54_M,N_55_M,\\\n",
    "                                                      N_51_TI,N_52_TI,N_53_TI,N_54_TI,N_55_TI)                 \n",
    "        \n",
    "        "
   ]
  },
  {
   "cell_type": "code",
   "execution_count": 191,
   "metadata": {
    "collapsed": false,
    "scrolled": true
   },
   "outputs": [],
   "source": [
    "def bid(time,Bid,Ask,close_price,timestamp_time_second,Bid1_Quantity,Bid2_Quantity,Bid3_Quantity,\\\n",
    "        Ask1_Quantity,Ask2_Quantity,Ask3_Quantity,weigth1,weigth2,weigth3):\n",
    "    [N_11,N_12,N_13,N_14,N_15,N_11_T,N_12_T,N_13_T,N_14_T,N_15_T,N_11_E,N_12_E,N_13_E,N_14_E,N_15_E,\\\n",
    "     N_11_M,N_12_M,N_13_M,N_14_M,N_15_M,N_11_TI,N_12_TI,N_13_TI,N_14_TI,N_15_TI] = [0 for i in  range(0,25,1)]\n",
    "    [N_21,N_22,N_23,N_24,N_25,N_21_T,N_22_T,N_23_T,N_24_T,N_25_T,N_21_E,N_22_E,N_23_E,N_24_E,N_25_E,\\\n",
    "     N_21_M,N_22_M,N_23_M,N_24_M,N_25_M,N_21_TI,N_22_TI,N_23_TI,N_24_TI,N_25_TI] = [0 for i in  range(0,25,1)]\n",
    "    [N_31,N_32,N_33,N_34,N_35,N_31_T,N_32_T,N_33_T,N_34_T,N_35_T,N_31_E,N_32_E,N_33_E,N_34_E,N_35_E,\\\n",
    "     N_31_M,N_32_M,N_33_M,N_34_M,N_35_M,N_31_TI,N_32_TI,N_33_TI,N_34_TI,N_35_TI] = [0 for i in  range(0,25,1)]\n",
    "    [N_41,N_42,N_43,N_44,N_45,N_41_T,N_42_T,N_43_T,N_44_T,N_45_T,N_41_E,N_42_E,N_43_E,N_44_E,N_45_E,\\\n",
    "     N_41_M,N_42_M,N_43_M,N_44_M,N_45_M,N_41_TI,N_42_TI,N_43_TI,N_44_TI,N_45_TI] = [0 for i in  range(0,25,1)]\n",
    "    [N_51,N_52,N_53,N_54,N_55,N_51_T,N_52_T,N_53_T,N_54_T,N_55_T,N_51_E,N_52_E,N_53_E,N_54_E,N_55_E,\\\n",
    "     N_51_M,N_52_M,N_53_M,N_54_M,N_55_M,N_51_TI,N_52_TI,N_53_TI,N_54_TI,N_55_TI] = [0 for i in  range(0,25,1)]\n",
    "\n",
    "    for i in range(0,time,1):\n",
    "        #print i\n",
    "        #print np.where(array(timestamp_time_second) <= i)[0]\n",
    "        index = np.where(array(timestamp_time_second) <= i)[0][-1]\n",
    "        #print i\n",
    "        #print index\n",
    "        #print timestamp_time_second[index]\n",
    "        if i < 25200 - 900:\n",
    "            index_15_min = np.where(np.array(timestamp_time_second[index:]) >= i + 900)[0][0]\n",
    "            #print index_15_min\n",
    "            #print timestamp_time_second[index+index_15_min]\n",
    "        #print 'time stamp = %d'%(timestamp_time_second[index])\n",
    "        #print index\n",
    "        #print index + index_15_min \n",
    "        #rint Bid1[index]\n",
    "        #print Ask1[index]\n",
    "        #print len(Ask1[(index+1):index + index_15_min])\n",
    "\n",
    "        #if Bid1[index] > min(Ask1[(index+1):index + index_15_min]):\n",
    "        #    first_min_index = np.where(np.array(Ask1[(index+1):index + index_15_min]) < Bid1[index])[0][0]\n",
    "        #    print 'mdd = %d'%((max(Ask1[(index + 1):(index + 1 + first_min_index)]) - Bid1[index])*(1.0)/(5.0))\n",
    "        #print min_Ask1_time_series[index + 1]\n",
    "        weighted_Bid = Bid1_Quantity[index] * weight1 + Bid2_Quantity[index] * weight2 + Bid3_Quantity[index] * weight3\n",
    "        weighted_Ask = Ask1_Quantity[index] * weight1 + Ask2_Quantity[index] * weight2 + Ask3_Quantity[index] * weight3  \n",
    "        #print weighted_Bid \n",
    "        #print weighted_Ask\n",
    "        #print (weighted_Bid*(1.0) / weighted_Ask)\n",
    "\n",
    "        if (weighted_Bid*(1.0) / weighted_Ask) <= 0.7:\n",
    "            N_11,N_12,N_13,N_14,N_15,N_11_T,N_12_T,N_13_T,N_14_T,N_15_T,N_11_E,N_12_E,N_13_E,N_14_E,N_15_E,\\\n",
    "            N_11_M,N_12_M,N_13_M,N_14_M,N_15_M,N_11_TI,N_12_TI,N_13_TI,N_14_TI,N_15_TI = rise_cal(i,rise_ratio_ask,timestamp_time_second,Bid,Ask,index,index_15_min,\\\n",
    "                                                          close_price,N_11,N_12,N_13,N_14,N_15,N_11_T,N_12_T,N_13_T,N_14_T,N_15_T,\\\n",
    "                                                          N_11_E,N_12_E,N_13_E,N_14_E,N_15_E,N_11_M,N_12_M,N_13_M,N_14_M,N_15_M,\\\n",
    "                                                          N_11_TI,N_12_TI,N_13_TI,N_14_TI,N_15_TI)                                               \n",
    "\n",
    "        elif 0.7 < (weighted_Bid*(1.0) / weighted_Ask) <= 0.9:\n",
    "            N_21,N_22,N_23,N_24,N_25,N_21_T,N_22_T,N_23_T,N_24_T,N_25_T,N_21_E,N_22_E,N_23_E,N_24_E,N_25_E,\\\n",
    "            N_21_M,N_22_M,N_23_M,N_24_M,N_25_M,N_21_TI,N_22_TI,N_23_TI,N_24_TI,N_25_TI = rise_cal(i,rise_ratio_ask,timestamp_time_second,Bid,Ask,index,index_15_min,\\\n",
    "                                                          close_price,N_21,N_22,N_23,N_24,N_25,N_21_T,N_22_T,N_23_T,N_24_T,N_25_T,\\\n",
    "                                                          N_21_E,N_22_E,N_23_E,N_24_E,N_25_E,N_21_M,N_22_M,N_23_M,N_24_M,N_25_M,\\\n",
    "                                                          N_21_TI,N_22_TI,N_23_TI,N_24_TI,N_25_TI)                                                \n",
    "\n",
    "        elif 0.9 < (weighted_Bid*(1.0) / weighted_Ask) <= 1.1:\n",
    "            N_31,N_32,N_33,N_34,N_35,N_31_T,N_32_T,N_33_T,N_34_T,N_35_T,N_31_E,N_32_E,N_33_E,N_34_E,N_35_E,\\\n",
    "            N_31_M,N_32_M,N_33_M,N_34_M,N_35_M,N_31_TI,N_32_TI,N_33_TI,N_34_TI,N_35_TI = rise_cal(i,rise_ratio_ask,timestamp_time_second,Bid,Ask,index,index_15_min,\\\n",
    "                                                          close_price,N_31,N_32,N_33,N_34,N_35,N_31_T,N_32_T,N_33_T,N_34_T,N_35_T,\\\n",
    "                                                          N_31_E,N_32_E,N_33_E,N_34_E,N_35_E,N_31_M,N_32_M,N_33_M,N_34_M,N_35_M,\\\n",
    "                                                          N_31_TI,N_32_TI,N_33_TI,N_34_TI,N_35_TI)                                    \n",
    "\n",
    "        elif 1.1 < (weighted_Bid*(1.0) / weighted_Ask) <= 1.3:\n",
    "            N_41,N_42,N_43,N_44,N_45,N_41_T,N_42_T,N_43_T,N_44_T,N_45_T,N_41_E,N_42_E,N_43_E,N_44_E,N_45_E,\\\n",
    "            N_41_M,N_42_M,N_43_M,N_44_M,N_45_M,N_41_TI,N_42_TI,N_43_TI,N_44_TI,N_45_TI = rise_cal(i,rise_ratio_ask,timestamp_time_second,Bid,Ask,index,index_15_min,\\\n",
    "                                                          close_price,N_41,N_42,N_43,N_44,N_45,N_41_T,N_42_T,N_43_T,N_44_T,N_45_T,\\\n",
    "                                                          N_41_E,N_42_E,N_43_E,N_44_E,N_45_E,N_41_M,N_42_M,N_43_M,N_44_M,N_45_M,\\\n",
    "                                                          N_41_TI,N_42_TI,N_43_TI,N_44_TI,N_45_TI)                              \n",
    "\n",
    "        elif 1.30 < (weighted_Bid*(1.0) / weighted_Ask):\n",
    "            N_51,N_52,N_53,N_54,N_55,N_51_T,N_52_T,N_53_T,N_54_T,N_55_T,N_51_E,N_52_E,N_53_E,N_54_E,N_55_E,\\\n",
    "            N_51_M,N_52_M,N_53_M,N_54_M,N_55_M,N_51_TI,N_52_TI,N_53_TI,N_54_TI,N_55_TI = rise_cal(i,rise_ratio_ask,timestamp_time_second,Bid,Ask,index,index_15_min,\\\n",
    "                                                          close_price,N_51,N_52,N_53,N_54,N_55,N_51_T,N_52_T,N_53_T,N_54_T,N_55_T,\\\n",
    "                                                          N_51_E,N_52_E,N_53_E,N_54_E,N_55_E,N_51_M,N_52_M,N_53_M,N_54_M,N_55_M,\\\n",
    "                                                          N_51_TI,N_52_TI,N_53_TI,N_54_TI,N_55_TI)                 \n",
    "\n",
    "    return [[N_11,N_12,N_13,N_14,N_15],[N_11_T,N_12_T,N_13_T,N_14_T,N_15_T],[N_11_E,N_12_E,N_13_E,N_14_E,N_15_E],\\\n",
    "             [N_11_M,N_12_M,N_13_M,N_14_M,N_15_M],[N_11_TI,N_12_TI,N_13_TI,N_14_TI,N_15_TI],\\\n",
    "            [N_21,N_22,N_23,N_24,N_25],[N_21_T,N_22_T,N_23_T,N_24_T,N_25_T],[N_21_E,N_22_E,N_23_E,N_24_E,N_25_E],\\\n",
    "             [N_21_M,N_22_M,N_23_M,N_24_M,N_25_M],[N_21_TI,N_22_TI,N_23_TI,N_24_TI,N_25_TI],\\\n",
    "            [N_31,N_32,N_33,N_34,N_35],[N_31_T,N_32_T,N_33_T,N_34_T,N_35_T],[N_31_E,N_32_E,N_33_E,N_34_E,N_35_E],\\\n",
    "             [N_31_M,N_32_M,N_33_M,N_34_M,N_35_M],[N_31_TI,N_32_TI,N_33_TI,N_34_TI,N_35_TI],\\\n",
    "            [N_41,N_42,N_43,N_44,N_45],[N_41_T,N_42_T,N_43_T,N_44_T,N_45_T],[N_41_E,N_42_E,N_43_E,N_44_E,N_45_E],\\\n",
    "             [N_41_M,N_42_M,N_43_M,N_44_M,N_45_M],[N_41_TI,N_42_TI,N_43_TI,N_44_TI,N_45_TI],\\\n",
    "            [N_51,N_52,N_53,N_54,N_55],[N_51_T,N_52_T,N_53_T,N_54_T,N_55_T],[N_51_E,N_52_E,N_53_E,N_54_E,N_55_E],\\\n",
    "             [N_51_M,N_52_M,N_53_M,N_54_M,N_55_M],[N_51_TI,N_52_TI,N_53_TI,N_54_TI,N_55_TI]] \n"
   ]
  },
  {
   "cell_type": "code",
   "execution_count": null,
   "metadata": {
    "collapsed": true
   },
   "outputs": [],
   "source": []
  },
  {
   "cell_type": "code",
   "execution_count": 192,
   "metadata": {
    "collapsed": false,
    "scrolled": true
   },
   "outputs": [],
   "source": [
    "Bid = Bid1\n",
    "Ask = Ask1\n",
    "close_price = 6750\n",
    "time = 25200\n",
    "weigth1 = 0.5\n",
    "weigth2 = 0.3\n",
    "weigth3 = 0.2\n",
    "mat = bid(time,Bid,Ask,close_price,timestamp_time_second,Bid1_Quantity,Bid2_Quantity,Bid3_Quantity,\\\n",
    "          Ask1_Quantity,Ask2_Quantity,Ask3_Quantity,weigth1,weigth2,weigth3)"
   ]
  },
  {
   "cell_type": "code",
   "execution_count": 193,
   "metadata": {
    "collapsed": false,
    "scrolled": true
   },
   "outputs": [
    {
     "data": {
      "text/plain": [
       "array([[  1.20000000e+01,   1.58000000e+02,   6.14800000e+03,\n",
       "          5.64000000e+02,   4.30000000e+01],\n",
       "       [  1.20000000e+01,   9.70000000e+01,   1.88100000e+03,\n",
       "          2.46000000e+02,   3.10000000e+01],\n",
       "       [  1.20000000e+01,  -2.00000000e+00,  -1.86000000e+03,\n",
       "         -8.89000000e+02,  -2.10000000e+01],\n",
       "       [  2.50000000e+01,   2.89000000e+02,   1.15450000e+04,\n",
       "          2.48200000e+03,   1.58000000e+02],\n",
       "       [  1.44730000e+04,   7.07700000e+04,   4.37432100e+06,\n",
       "          3.47617000e+05,   5.03300000e+03],\n",
       "       [  4.10000000e+01,   4.76000000e+02,   5.11900000e+03,\n",
       "          5.74000000e+02,   4.00000000e+01],\n",
       "       [  4.10000000e+01,   2.61000000e+02,   1.41300000e+03,\n",
       "          3.21000000e+02,   3.50000000e+01],\n",
       "       [  4.30000000e+01,  -9.20000000e+01,  -2.11100000e+03,\n",
       "         -2.27000000e+02,   1.80000000e+01],\n",
       "       [  9.00000000e+01,   1.22100000e+03,   1.23830000e+04,\n",
       "          2.09800000e+03,   1.02000000e+02],\n",
       "       [  1.99340000e+04,   2.56593000e+05,   3.72252400e+06,\n",
       "          3.66124000e+05,   4.41000000e+03],\n",
       "       [  4.40000000e+01,   5.73000000e+02,   4.19300000e+03,\n",
       "          7.75000000e+02,   5.50000000e+01],\n",
       "       [  4.20000000e+01,   2.13000000e+02,   1.44100000e+03,\n",
       "          3.07000000e+02,   3.00000000e+01],\n",
       "       [  4.60000000e+01,  -9.39000000e+02,  -1.70000000e+03,\n",
       "         -9.15000000e+02,  -9.90000000e+01],\n",
       "       [  1.22000000e+02,   2.18100000e+03,   1.06360000e+04,\n",
       "          3.38900000e+03,   2.89000000e+02],\n",
       "       [  4.30530000e+04,   3.82084000e+05,   2.94309400e+06,\n",
       "          5.49381000e+05,   5.36200000e+03],\n",
       "       [  4.00000000e+01,   3.68000000e+02,   2.20000000e+03,\n",
       "          5.51000000e+02,   2.60000000e+01],\n",
       "       [  2.90000000e+01,   2.09000000e+02,   7.99000000e+02,\n",
       "          1.58000000e+02,   2.10000000e+01],\n",
       "       [ -1.90000000e+01,  -2.28000000e+02,  -2.07100000e+03,\n",
       "         -1.20200000e+03,  -4.00000000e+00],\n",
       "       [  1.16000000e+02,   1.05400000e+03,   7.15000000e+03,\n",
       "          2.57300000e+03,   7.00000000e+01],\n",
       "       [  2.11970000e+04,   1.91978000e+05,   1.54659100e+06,\n",
       "          3.95761000e+05,   3.40000000e+03],\n",
       "       [  4.90000000e+01,   4.55000000e+02,   2.19700000e+03,\n",
       "          4.96000000e+02,   3.00000000e+00],\n",
       "       [  4.30000000e+01,   1.95000000e+02,   7.78000000e+02,\n",
       "          1.63000000e+02,   3.00000000e+00],\n",
       "       [  1.80000000e+01,  -3.02000000e+02,  -2.08300000e+03,\n",
       "         -1.05200000e+03,   3.00000000e+00],\n",
       "       [  1.50000000e+02,   1.34400000e+03,   7.33200000e+03,\n",
       "          2.41900000e+03,   4.00000000e+00],\n",
       "       [  2.86660000e+04,   2.75413000e+05,   1.56246700e+06,\n",
       "          3.79870000e+05,   6.69000000e+02]])"
      ]
     },
     "execution_count": 193,
     "metadata": {},
     "output_type": "execute_result"
    }
   ],
   "source": [
    "array(mat)#+array(mat)#+mat"
   ]
  },
  {
   "cell_type": "code",
   "execution_count": null,
   "metadata": {
    "collapsed": true
   },
   "outputs": [],
   "source": []
  },
  {
   "cell_type": "code",
   "execution_count": 194,
   "metadata": {
    "collapsed": false
   },
   "outputs": [
    {
     "data": {
      "text/plain": [
       "(12, 158, 6148, 564, 43, 12, 97, 1873, 246, 31, 6925)"
      ]
     },
     "execution_count": 194,
     "metadata": {},
     "output_type": "execute_result"
    }
   ],
   "source": [
    "N_11,N_12,N_13,N_14,N_15,N_11_T,N_12_T,N_13_T,N_14_T,N_15_T,sum([N_11,N_12,N_13,N_14,N_15])"
   ]
  },
  {
   "cell_type": "code",
   "execution_count": 195,
   "metadata": {
    "collapsed": false
   },
   "outputs": [
    {
     "data": {
      "text/plain": [
       "array([ 1.        ,  0.61392405,  0.30465192,  0.43617021,  0.72093023])"
      ]
     },
     "execution_count": 195,
     "metadata": {},
     "output_type": "execute_result"
    }
   ],
   "source": [
    "array([N_11_T,N_12_T,N_13_T,N_14_T,N_15_T])*1.0/array([N_11,N_12,N_13,N_14,N_15])"
   ]
  },
  {
   "cell_type": "code",
   "execution_count": 196,
   "metadata": {
    "collapsed": false
   },
   "outputs": [
    {
     "data": {
      "text/plain": [
       "(41, 476, 5119, 574, 40, 41, 261, 1413, 321, 35, 6250)"
      ]
     },
     "execution_count": 196,
     "metadata": {},
     "output_type": "execute_result"
    }
   ],
   "source": [
    "N_21,N_22,N_23,N_24,N_25,N_21_T,N_22_T,N_23_T,N_24_T,N_25_T,sum([N_21,N_22,N_23,N_24,N_25])"
   ]
  },
  {
   "cell_type": "code",
   "execution_count": 116,
   "metadata": {
    "collapsed": false
   },
   "outputs": [
    {
     "data": {
      "text/plain": [
       "array([ 1.        ,  0.54831933,  0.27603047,  0.55923345,  0.875     ])"
      ]
     },
     "execution_count": 116,
     "metadata": {},
     "output_type": "execute_result"
    }
   ],
   "source": [
    "array([N_21_T,N_22_T,N_23_T,N_24_T,N_25_T])*1.0/array([N_21,N_22,N_23,N_24,N_25])"
   ]
  },
  {
   "cell_type": "code",
   "execution_count": 117,
   "metadata": {
    "collapsed": false
   },
   "outputs": [
    {
     "data": {
      "text/plain": [
       "(44, 573, 4193, 775, 55, 42, 213, 1441, 307, 30, 5640)"
      ]
     },
     "execution_count": 117,
     "metadata": {},
     "output_type": "execute_result"
    }
   ],
   "source": [
    "N_31,N_32,N_33,N_34,N_35,N_31_T,N_32_T,N_33_T,N_34_T,N_35_T,sum([N_31,N_32,N_33,N_34,N_35])"
   ]
  },
  {
   "cell_type": "code",
   "execution_count": 118,
   "metadata": {
    "collapsed": false
   },
   "outputs": [
    {
     "data": {
      "text/plain": [
       "array([ 0.95454545,  0.37172775,  0.34366802,  0.39612903,  0.54545455])"
      ]
     },
     "execution_count": 118,
     "metadata": {},
     "output_type": "execute_result"
    }
   ],
   "source": [
    "array([N_31_T,N_32_T,N_33_T,N_34_T,N_35_T])*1.0/array([N_31,N_32,N_33,N_34,N_35])"
   ]
  },
  {
   "cell_type": "code",
   "execution_count": 119,
   "metadata": {
    "collapsed": false
   },
   "outputs": [
    {
     "data": {
      "text/plain": [
       "(40, 368, 2200, 551, 26, 29, 209, 799, 158, 21, 3185)"
      ]
     },
     "execution_count": 119,
     "metadata": {},
     "output_type": "execute_result"
    }
   ],
   "source": [
    "N_41,N_42,N_43,N_44,N_45,N_41_T,N_42_T,N_43_T,N_44_T,N_45_T,sum([N_41,N_42,N_43,N_44,N_45])"
   ]
  },
  {
   "cell_type": "code",
   "execution_count": 120,
   "metadata": {
    "collapsed": false
   },
   "outputs": [
    {
     "data": {
      "text/plain": [
       "array([ 0.725     ,  0.56793478,  0.36318182,  0.28675136,  0.80769231])"
      ]
     },
     "execution_count": 120,
     "metadata": {},
     "output_type": "execute_result"
    }
   ],
   "source": [
    "array([N_41_T,N_42_T,N_43_T,N_44_T,N_45_T])*1.0/array([N_41,N_42,N_43,N_44,N_45])"
   ]
  },
  {
   "cell_type": "code",
   "execution_count": 121,
   "metadata": {
    "collapsed": false
   },
   "outputs": [
    {
     "data": {
      "text/plain": [
       "(49, 455, 2197, 496, 3, 43, 195, 778, 163, 3, 3200)"
      ]
     },
     "execution_count": 121,
     "metadata": {},
     "output_type": "execute_result"
    }
   ],
   "source": [
    "N_51,N_52,N_53,N_54,N_55,N_51_T,N_52_T,N_53_T,N_54_T,N_55_T,sum([N_51,N_52,N_53,N_54,N_55])"
   ]
  },
  {
   "cell_type": "code",
   "execution_count": 122,
   "metadata": {
    "collapsed": false
   },
   "outputs": [
    {
     "data": {
      "text/plain": [
       "array([ 0.87755102,  0.42857143,  0.35411925,  0.32862903,  1.        ])"
      ]
     },
     "execution_count": 122,
     "metadata": {},
     "output_type": "execute_result"
    }
   ],
   "source": [
    "array([N_51_T,N_52_T,N_53_T,N_54_T,N_55_T])*1.0/array([N_51,N_52,N_53,N_54,N_55])"
   ]
  },
  {
   "cell_type": "code",
   "execution_count": 123,
   "metadata": {
    "collapsed": false
   },
   "outputs": [
    {
     "data": {
      "text/plain": [
       "25200"
      ]
     },
     "execution_count": 123,
     "metadata": {},
     "output_type": "execute_result"
    }
   ],
   "source": [
    "3200 + 3185 + 5640 + 6250 + 6925"
   ]
  },
  {
   "cell_type": "code",
   "execution_count": 124,
   "metadata": {
    "collapsed": false
   },
   "outputs": [
    {
     "data": {
      "text/plain": [
       "(12.0, -2.0, -1852.0, -889.0, -21.0)"
      ]
     },
     "execution_count": 124,
     "metadata": {},
     "output_type": "execute_result"
    }
   ],
   "source": [
    "N_11_E,N_12_E,N_13_E,N_14_E,N_15_E"
   ]
  },
  {
   "cell_type": "code",
   "execution_count": 125,
   "metadata": {
    "collapsed": false
   },
   "outputs": [
    {
     "data": {
      "text/plain": [
       "array([ 1.        , -0.01265823, -0.30123617, -1.57624113, -0.48837209])"
      ]
     },
     "execution_count": 125,
     "metadata": {},
     "output_type": "execute_result"
    }
   ],
   "source": [
    "array([N_11_E,N_12_E,N_13_E,N_14_E,N_15_E])*1.0/array([N_11,N_12,N_13,N_14,N_15])"
   ]
  },
  {
   "cell_type": "code",
   "execution_count": 126,
   "metadata": {
    "collapsed": false
   },
   "outputs": [
    {
     "data": {
      "text/plain": [
       "(43.0, -92.0, -2111.0, -227.0, 18.0)"
      ]
     },
     "execution_count": 126,
     "metadata": {},
     "output_type": "execute_result"
    }
   ],
   "source": [
    "N_21_E,N_22_E,N_23_E,N_24_E,N_25_E "
   ]
  },
  {
   "cell_type": "code",
   "execution_count": 127,
   "metadata": {
    "collapsed": false
   },
   "outputs": [
    {
     "data": {
      "text/plain": [
       "array([ 1.04878049, -0.19327731, -0.41238523, -0.39547038,  0.45      ])"
      ]
     },
     "execution_count": 127,
     "metadata": {},
     "output_type": "execute_result"
    }
   ],
   "source": [
    "array([N_21_E,N_22_E,N_23_E,N_24_E,N_25_E])*1.0/array([N_21,N_22,N_23,N_24,N_25])"
   ]
  },
  {
   "cell_type": "code",
   "execution_count": 128,
   "metadata": {
    "collapsed": false
   },
   "outputs": [
    {
     "data": {
      "text/plain": [
       "(46.0, -939.0, -1700.0, -915.0, -99.0)"
      ]
     },
     "execution_count": 128,
     "metadata": {},
     "output_type": "execute_result"
    }
   ],
   "source": [
    "N_31_E,N_32_E,N_33_E,N_34_E,N_35_E"
   ]
  },
  {
   "cell_type": "code",
   "execution_count": 129,
   "metadata": {
    "collapsed": false
   },
   "outputs": [
    {
     "data": {
      "text/plain": [
       "array([ 1.04545455, -1.63874346, -0.40543763, -1.18064516, -1.8       ])"
      ]
     },
     "execution_count": 129,
     "metadata": {},
     "output_type": "execute_result"
    }
   ],
   "source": [
    "array([N_31_E,N_32_E,N_33_E,N_34_E,N_35_E])*1.0/array([N_31,N_32,N_33,N_34,N_35])"
   ]
  },
  {
   "cell_type": "code",
   "execution_count": 130,
   "metadata": {
    "collapsed": false
   },
   "outputs": [
    {
     "data": {
      "text/plain": [
       "(-19.0, -228.0, -2071.0, -1202.0, -4.0)"
      ]
     },
     "execution_count": 130,
     "metadata": {},
     "output_type": "execute_result"
    }
   ],
   "source": [
    "N_41_E,N_42_E,N_43_E,N_44_E,N_45_E"
   ]
  },
  {
   "cell_type": "code",
   "execution_count": 131,
   "metadata": {
    "collapsed": false
   },
   "outputs": [
    {
     "data": {
      "text/plain": [
       "array([-0.475     , -0.61956522, -0.94136364, -2.1814882 , -0.15384615])"
      ]
     },
     "execution_count": 131,
     "metadata": {},
     "output_type": "execute_result"
    }
   ],
   "source": [
    "array([N_41_E,N_42_E,N_43_E,N_44_E,N_45_E])*1.0/array([N_41,N_42,N_43,N_44,N_45])"
   ]
  },
  {
   "cell_type": "code",
   "execution_count": 132,
   "metadata": {
    "collapsed": false
   },
   "outputs": [
    {
     "data": {
      "text/plain": [
       "(18.0, -302.0, -2083.0, -1052.0, 3.0)"
      ]
     },
     "execution_count": 132,
     "metadata": {},
     "output_type": "execute_result"
    }
   ],
   "source": [
    "N_51_E,N_52_E,N_53_E,N_54_E,N_55_E "
   ]
  },
  {
   "cell_type": "code",
   "execution_count": 133,
   "metadata": {
    "collapsed": false
   },
   "outputs": [
    {
     "data": {
      "text/plain": [
       "array([ 0.36734694, -0.66373626, -0.94811106, -2.12096774,  1.        ])"
      ]
     },
     "execution_count": 133,
     "metadata": {},
     "output_type": "execute_result"
    }
   ],
   "source": [
    "array([N_51_E,N_52_E,N_53_E,N_54_E,N_55_E])*1.0/array([N_51,N_52,N_53,N_54,N_55])"
   ]
  },
  {
   "cell_type": "code",
   "execution_count": null,
   "metadata": {
    "collapsed": true
   },
   "outputs": [],
   "source": []
  },
  {
   "cell_type": "code",
   "execution_count": 134,
   "metadata": {
    "collapsed": false
   },
   "outputs": [
    {
     "data": {
      "text/plain": [
       "(25.0, 289.0, 11545.0, 2482.0, 158.0)"
      ]
     },
     "execution_count": 134,
     "metadata": {},
     "output_type": "execute_result"
    }
   ],
   "source": [
    "N_11_M,N_12_M,N_13_M,N_14_M,N_15_M"
   ]
  },
  {
   "cell_type": "code",
   "execution_count": 135,
   "metadata": {
    "collapsed": false
   },
   "outputs": [
    {
     "data": {
      "text/plain": [
       "array([ 2.08333333,  1.82911392,  1.87784645,  4.40070922,  3.6744186 ])"
      ]
     },
     "execution_count": 135,
     "metadata": {},
     "output_type": "execute_result"
    }
   ],
   "source": [
    "array([N_11_M,N_12_M,N_13_M,N_14_M,N_15_M])*1.0/array([N_11,N_12,N_13,N_14,N_15])"
   ]
  },
  {
   "cell_type": "code",
   "execution_count": 136,
   "metadata": {
    "collapsed": false
   },
   "outputs": [
    {
     "data": {
      "text/plain": [
       "(90.0, 1221.0, 12383.0, 2098.0, 102.0)"
      ]
     },
     "execution_count": 136,
     "metadata": {},
     "output_type": "execute_result"
    }
   ],
   "source": [
    "N_21_M,N_22_M,N_23_M,N_24_M,N_25_M"
   ]
  },
  {
   "cell_type": "code",
   "execution_count": 78,
   "metadata": {
    "collapsed": false
   },
   "outputs": [
    {
     "data": {
      "text/plain": [
       "array([ 2.19512195,  2.56512605,  2.41902715,  3.65505226,  2.55      ])"
      ]
     },
     "execution_count": 78,
     "metadata": {},
     "output_type": "execute_result"
    }
   ],
   "source": [
    "array([N_21_M,N_22_M,N_23_M,N_24_M,N_25_M])*1.0/array([N_21,N_22,N_23,N_24,N_25])"
   ]
  },
  {
   "cell_type": "code",
   "execution_count": 79,
   "metadata": {
    "collapsed": false
   },
   "outputs": [
    {
     "data": {
      "text/plain": [
       "(122.0, 2181.0, 10623.0, 3388.0, 289.0)"
      ]
     },
     "execution_count": 79,
     "metadata": {},
     "output_type": "execute_result"
    }
   ],
   "source": [
    "N_31_M,N_32_M,N_33_M,N_34_M,N_35_M"
   ]
  },
  {
   "cell_type": "code",
   "execution_count": 80,
   "metadata": {
    "collapsed": false
   },
   "outputs": [
    {
     "data": {
      "text/plain": [
       "array([ 2.77272727,  3.80628272,  2.53350823,  4.3716129 ,  5.25454545])"
      ]
     },
     "execution_count": 80,
     "metadata": {},
     "output_type": "execute_result"
    }
   ],
   "source": [
    "array([N_31_M,N_32_M,N_33_M,N_34_M,N_35_M])*1.0/array([N_31,N_32,N_33,N_34,N_35])"
   ]
  },
  {
   "cell_type": "code",
   "execution_count": 81,
   "metadata": {
    "collapsed": false
   },
   "outputs": [
    {
     "data": {
      "text/plain": [
       "(116.0, 1054.0, 7150.0, 2573.0, 70.0)"
      ]
     },
     "execution_count": 81,
     "metadata": {},
     "output_type": "execute_result"
    }
   ],
   "source": [
    "N_41_M,N_42_M,N_43_M,N_44_M,N_45_M"
   ]
  },
  {
   "cell_type": "code",
   "execution_count": 82,
   "metadata": {
    "collapsed": false
   },
   "outputs": [
    {
     "data": {
      "text/plain": [
       "array([ 2.9       ,  2.86413043,  3.25      ,  4.66969147,  2.69230769])"
      ]
     },
     "execution_count": 82,
     "metadata": {},
     "output_type": "execute_result"
    }
   ],
   "source": [
    "array([N_41_M,N_42_M,N_43_M,N_44_M,N_45_M])*1.0/array([N_41,N_42,N_43,N_44,N_45])"
   ]
  },
  {
   "cell_type": "code",
   "execution_count": 83,
   "metadata": {
    "collapsed": false
   },
   "outputs": [
    {
     "data": {
      "text/plain": [
       "(150.0, 1344.0, 7327.0, 2419.0, 4.0)"
      ]
     },
     "execution_count": 83,
     "metadata": {},
     "output_type": "execute_result"
    }
   ],
   "source": [
    "N_51_M,N_52_M,N_53_M,N_54_M,N_55_M "
   ]
  },
  {
   "cell_type": "code",
   "execution_count": 84,
   "metadata": {
    "collapsed": false
   },
   "outputs": [
    {
     "data": {
      "text/plain": [
       "array([ 3.06122449,  2.95384615,  3.33500228,  4.87701613,  1.33333333])"
      ]
     },
     "execution_count": 84,
     "metadata": {},
     "output_type": "execute_result"
    }
   ],
   "source": [
    "array([N_51_M,N_52_M,N_53_M,N_54_M,N_55_M])*1.0/array([N_51,N_52,N_53,N_54,N_55])"
   ]
  },
  {
   "cell_type": "code",
   "execution_count": null,
   "metadata": {
    "collapsed": true
   },
   "outputs": [],
   "source": []
  },
  {
   "cell_type": "code",
   "execution_count": 137,
   "metadata": {
    "collapsed": false
   },
   "outputs": [
    {
     "data": {
      "text/plain": [
       "(14473.0, 70745.0, 4367927.0, 347609.0, 5026.0)"
      ]
     },
     "execution_count": 137,
     "metadata": {},
     "output_type": "execute_result"
    }
   ],
   "source": [
    "N_11_TI,N_12_TI,N_13_TI,N_14_TI,N_15_TI"
   ]
  },
  {
   "cell_type": "code",
   "execution_count": 138,
   "metadata": {
    "collapsed": false
   },
   "outputs": [
    {
     "data": {
      "text/plain": [
       "array([ 1206.08333333,   447.75316456,   710.46307742,   616.32801418,\n",
       "         116.88372093])"
      ]
     },
     "execution_count": 138,
     "metadata": {},
     "output_type": "execute_result"
    }
   ],
   "source": [
    "array([N_11_TI,N_12_TI,N_13_TI,N_14_TI,N_15_TI])*1.0/array([N_11,N_12,N_13,N_14,N_15])"
   ]
  },
  {
   "cell_type": "code",
   "execution_count": 139,
   "metadata": {
    "collapsed": false
   },
   "outputs": [
    {
     "data": {
      "text/plain": [
       "(19934.0, 256571.0, 3722144.0, 366100.0, 4404.0)"
      ]
     },
     "execution_count": 139,
     "metadata": {},
     "output_type": "execute_result"
    }
   ],
   "source": [
    "N_21_TI,N_22_TI,N_23_TI,N_24_TI,N_25_TI"
   ]
  },
  {
   "cell_type": "code",
   "execution_count": 140,
   "metadata": {
    "collapsed": false
   },
   "outputs": [
    {
     "data": {
      "text/plain": [
       "array([ 486.19512195,  539.01470588,  727.12326626,  637.80487805,  110.1       ])"
      ]
     },
     "execution_count": 140,
     "metadata": {},
     "output_type": "execute_result"
    }
   ],
   "source": [
    "array([N_21_TI,N_22_TI,N_23_TI,N_24_TI,N_25_TI])*1.0/array([N_21,N_22,N_23,N_24,N_25])"
   ]
  },
  {
   "cell_type": "code",
   "execution_count": 141,
   "metadata": {
    "collapsed": false
   },
   "outputs": [
    {
     "data": {
      "text/plain": [
       "(43053.0, 382084.0, 2942868.0, 549293.0, 5361.0)"
      ]
     },
     "execution_count": 141,
     "metadata": {},
     "output_type": "execute_result"
    }
   ],
   "source": [
    "N_31_TI,N_32_TI,N_33_TI,N_34_TI,N_35_TI"
   ]
  },
  {
   "cell_type": "code",
   "execution_count": 142,
   "metadata": {
    "collapsed": false
   },
   "outputs": [
    {
     "data": {
      "text/plain": [
       "array([ 978.47727273,  666.81326353,  701.8526115 ,  708.76516129,\n",
       "         97.47272727])"
      ]
     },
     "execution_count": 142,
     "metadata": {},
     "output_type": "execute_result"
    }
   ],
   "source": [
    "array([N_31_TI,N_32_TI,N_33_TI,N_34_TI,N_35_TI])*1.0/array([N_31,N_32,N_33,N_34,N_35])"
   ]
  },
  {
   "cell_type": "code",
   "execution_count": 143,
   "metadata": {
    "collapsed": false
   },
   "outputs": [
    {
     "data": {
      "text/plain": [
       "(116.0, 1054.0, 7150.0, 2573.0, 70.0)"
      ]
     },
     "execution_count": 143,
     "metadata": {},
     "output_type": "execute_result"
    }
   ],
   "source": [
    "N_41_M,N_42_M,N_43_M,N_44_M,N_45_M"
   ]
  },
  {
   "cell_type": "code",
   "execution_count": 144,
   "metadata": {
    "collapsed": false
   },
   "outputs": [
    {
     "data": {
      "text/plain": [
       "array([ 2.9       ,  2.86413043,  3.25      ,  4.66969147,  2.69230769])"
      ]
     },
     "execution_count": 144,
     "metadata": {},
     "output_type": "execute_result"
    }
   ],
   "source": [
    "array([N_41_M,N_42_M,N_43_M,N_44_M,N_45_M])*1.0/array([N_41,N_42,N_43,N_44,N_45])"
   ]
  },
  {
   "cell_type": "code",
   "execution_count": 145,
   "metadata": {
    "collapsed": false
   },
   "outputs": [
    {
     "data": {
      "text/plain": [
       "(150.0, 1344.0, 7327.0, 2419.0, 4.0)"
      ]
     },
     "execution_count": 145,
     "metadata": {},
     "output_type": "execute_result"
    }
   ],
   "source": [
    "N_51_M,N_52_M,N_53_M,N_54_M,N_55_M "
   ]
  },
  {
   "cell_type": "code",
   "execution_count": 146,
   "metadata": {
    "collapsed": false
   },
   "outputs": [
    {
     "data": {
      "text/plain": [
       "array([ 3.06122449,  2.95384615,  3.33500228,  4.87701613,  1.33333333])"
      ]
     },
     "execution_count": 146,
     "metadata": {},
     "output_type": "execute_result"
    }
   ],
   "source": [
    "array([N_51_M,N_52_M,N_53_M,N_54_M,N_55_M])*1.0/array([N_51,N_52,N_53,N_54,N_55])"
   ]
  },
  {
   "cell_type": "code",
   "execution_count": null,
   "metadata": {
    "collapsed": true
   },
   "outputs": [],
   "source": []
  },
  {
   "cell_type": "code",
   "execution_count": 151,
   "metadata": {
    "collapsed": false
   },
   "outputs": [],
   "source": [
    "a = [[1,2,3],[1,2,3]]"
   ]
  },
  {
   "cell_type": "code",
   "execution_count": 152,
   "metadata": {
    "collapsed": false
   },
   "outputs": [
    {
     "data": {
      "text/plain": [
       "[1, 2, 3]"
      ]
     },
     "execution_count": 152,
     "metadata": {},
     "output_type": "execute_result"
    }
   ],
   "source": [
    "a[0]"
   ]
  },
  {
   "cell_type": "code",
   "execution_count": null,
   "metadata": {
    "collapsed": true
   },
   "outputs": [],
   "source": []
  },
  {
   "cell_type": "code",
   "execution_count": null,
   "metadata": {
    "collapsed": true
   },
   "outputs": [],
   "source": []
  },
  {
   "cell_type": "code",
   "execution_count": null,
   "metadata": {
    "collapsed": true
   },
   "outputs": [],
   "source": []
  }
 ],
 "metadata": {
  "kernelspec": {
   "display_name": "Python 2",
   "language": "python",
   "name": "python2"
  },
  "language_info": {
   "codemirror_mode": {
    "name": "ipython",
    "version": 2
   },
   "file_extension": ".py",
   "mimetype": "text/x-python",
   "name": "python",
   "nbconvert_exporter": "python",
   "pygments_lexer": "ipython2",
   "version": "2.7.11"
  }
 },
 "nbformat": 4,
 "nbformat_minor": 0
}
