{
 "cells": [
  {
   "cell_type": "code",
   "execution_count": 1,
   "metadata": {
    "collapsed": false
   },
   "outputs": [
    {
     "name": "stdout",
     "output_type": "stream",
     "text": [
      "Populating the interactive namespace from numpy and matplotlib\n"
     ]
    }
   ],
   "source": [
    "%pylab inline\n",
    "import numpy as np\n",
    "import pandas as pd\n",
    "import matplotlib.pyplot as plt"
   ]
  },
  {
   "cell_type": "code",
   "execution_count": 2,
   "metadata": {
    "collapsed": true
   },
   "outputs": [],
   "source": [
    "def order_book(month,day):\n",
    "    data1 = []\n",
    "    datapath = '/home/bigdatas16/SGX-OrderBook-Tick-Data-Trading-Strategy-/stat_order_book/CNF14_0'+str(month)+'_'+str(day)+'_order_book_final.csv'\n",
    "    data1 = pd.read_csv(datapath,sep='\\t',encoding = 'utf-8')\n",
    "    data_book = data1[['0','1','2','3']]\n",
    "    return data_book"
   ]
  },
  {
   "cell_type": "code",
   "execution_count": 3,
   "metadata": {
    "collapsed": true
   },
   "outputs": [],
   "source": [
    "def day_time(month,day):\n",
    "    data = []\n",
    "    datapath = '/home/bigdatas16/SGX-OrderBook-Tick-Data-Trading-Strategy-/CN_Futures_2014.0'+str(month)+'.'+str(day)+'.csv'\n",
    "    data = pd.read_csv(datapath)\n",
    "    data_CNF14 = data[data.Series == 'CNF14']\n",
    "    data = data_CNF14\n",
    "    market_open_time = data[data['TimeStamp'].str.contains('2014-0'+str(month)+'-'+str(day)+'D09:00')].index.tolist()[0] \n",
    "    market_close_time = data[data['TimeStamp'].str.contains('2014-0'+str(month)+'-'+str(day)+'D16:00')].index.tolist()[0] \n",
    "    data_open = data[market_open_time:market_close_time + 1]\n",
    "    timestamp_ = data_open.TimeStamp.unique()\n",
    "    return timestamp_"
   ]
  },
  {
   "cell_type": "code",
   "execution_count": 4,
   "metadata": {
    "collapsed": true
   },
   "outputs": [],
   "source": [
    "def time_transform(timestamp_time):\n",
    "    time_second = []\n",
    "    for i in range(0,len(timestamp_time),1):\n",
    "        second = float(timestamp_time[i][11])*36000 + float(timestamp_time[i][12])*3600 \\\n",
    "                +float(timestamp_time[i][14])*600 + float(timestamp_time[i][15])*60\\\n",
    "                +float(timestamp_time[i][17])*10 + float(timestamp_time[i][18])  \n",
    "        time_second.append(second - 32400.0)\n",
    "    return  time_second"
   ]
  },
  {
   "cell_type": "code",
   "execution_count": 5,
   "metadata": {
    "collapsed": true
   },
   "outputs": [],
   "source": [
    "def bid123_ask123_Q(data_book_28_open):\n",
    "    Bid1 = []\n",
    "    Bid2 = []\n",
    "    Bid3 = []\n",
    "    Bid1_Quantity = []\n",
    "    Bid2_Quantity = []\n",
    "    Bid3_Quantity = []\n",
    "    Ask1 = []\n",
    "    Ask2 = []\n",
    "    Ask3 = []\n",
    "    Ask1_Quantity = []\n",
    "    Ask2_Quantity = []\n",
    "    Ask3_Quantity = []\n",
    "\n",
    "    TimeStamp = []\n",
    "    for i in range(1,len(data_book_28_open),4):\n",
    "        #print data_book_28_open.iloc[i]['0']\n",
    "        #print data_book_28_open.iloc[i]['2']\n",
    "        Bid1.append(float(data_book_28_open.iloc[i]['0'])/100.0)\n",
    "        Bid1_Quantity.append(float(data_book_28_open.iloc[i]['1']))\n",
    "\n",
    "        Bid2.append(float(data_book_28_open.iloc[i + 1]['0'])/100.0)\n",
    "        Bid2_Quantity.append(float(data_book_28_open.iloc[i + 1]['1']))  \n",
    "\n",
    "        Bid3.append(float(data_book_28_open.iloc[i + 2]['0'])/100.0)\n",
    "        Bid3_Quantity.append(float(data_book_28_open.iloc[i + 2]['1']))  \n",
    "\n",
    "        Ask1.append(float(data_book_28_open.iloc[i]['2'])/100.0) \n",
    "        Ask1_Quantity.append(float(data_book_28_open.iloc[i]['3']))\n",
    "\n",
    "        Ask2.append(float(data_book_28_open.iloc[i + 1]['2'])/100.0) \n",
    "        Ask2_Quantity.append(float(data_book_28_open.iloc[i + 1]['3']))    \n",
    "\n",
    "        Ask3.append(float(data_book_28_open.iloc[i + 2]['2'])/100.0) \n",
    "        Ask3_Quantity.append(float(data_book_28_open.iloc[i + 2]['3']))    \n",
    "        TimeStamp.append(data_book_28_open.iloc[i-1][1])\n",
    "    return Bid1,Bid1_Quantity,Bid2,Bid2_Quantity,Bid3,Bid3_Quantity,Ask1,Ask1_Quantity,Ask2,Ask2_Quantity,Ask3,Ask3_Quantity,    "
   ]
  },
  {
   "cell_type": "code",
   "execution_count": 6,
   "metadata": {
    "collapsed": true
   },
   "outputs": [],
   "source": [
    "def rise_ask(Ask1,timestamp_time_second):\n",
    "    rise_ratio = []\n",
    "    index = np.where(np.array(timestamp_time_second) >= 600)[0][0]\n",
    "    for i in range(0,index):\n",
    "        rise_ratio_ = round((Ask1[i] - Ask1[0])*(1.0)/Ask1[0]*100,5)\n",
    "        rise_ratio.append(rise_ratio_)\n",
    "    for i in range(index,len(Ask1),1):\n",
    "        #print timestamp_time_second[:i]\n",
    "        #print timestamp_time_second[i] - 600\n",
    "        #print np.where(np.array(timestamp_time_second[:i]) >= timestamp_time_second[i] - 600)[0][0]\n",
    "        index_start = np.where(np.array(timestamp_time_second[:i]) >= timestamp_time_second[i] - 600)[0][0]\n",
    "        rise_ratio_ = round((Ask1[i] - Ask1[index_start])*(1.0)/Ask1[index_start]*100,5)\n",
    "        rise_ratio.append(rise_ratio_)\n",
    "    return rise_ratio"
   ]
  },
  {
   "cell_type": "code",
   "execution_count": 7,
   "metadata": {
    "collapsed": true
   },
   "outputs": [],
   "source": [
    "def rise_bid(Bid1,timestamp_time_second):\n",
    "    rise_ratio = []\n",
    "    index = np.where(np.array(timestamp_time_second) >= 600)[0][0]\n",
    "    for i in range(0,index):\n",
    "        rise_ratio_ = round((Bid1[i] - Bid1[0])*(1.0)/Bid1[0]*100,5)\n",
    "        rise_ratio.append(rise_ratio_)\n",
    "    for i in range(index,len(Bid1),1):\n",
    "        index_start = np.where(np.array(timestamp_time_second[:i]) >= timestamp_time_second[i] - 600)[0][0]\n",
    "        rise_ratio_ = round((Bid1[i] - Bid1[index_start])*(1.0)/Bid1[index_start]*100,5)\n",
    "        rise_ratio.append(rise_ratio_)\n",
    "    return rise_ratio"
   ]
  },
  {
   "cell_type": "code",
   "execution_count": null,
   "metadata": {
    "collapsed": true
   },
   "outputs": [],
   "source": []
  },
  {
   "cell_type": "code",
   "execution_count": null,
   "metadata": {
    "collapsed": true
   },
   "outputs": [],
   "source": []
  },
  {
   "cell_type": "code",
   "execution_count": null,
   "metadata": {
    "collapsed": true
   },
   "outputs": [],
   "source": []
  },
  {
   "cell_type": "markdown",
   "metadata": {},
   "source": [
    "### 1/16"
   ]
  },
  {
   "cell_type": "code",
   "execution_count": 8,
   "metadata": {
    "collapsed": true
   },
   "outputs": [],
   "source": [
    "data_book = order_book(1,16)\n",
    "data_book_open = data_book[1380:285495+1] # 9:00 ~ 16:00\n",
    "data_book_open = data_book_open.reset_index(drop = True)\n",
    "timestamp_time = day_time(1,16)\n",
    "timestamp_time_second = time_transform(timestamp_time)"
   ]
  },
  {
   "cell_type": "code",
   "execution_count": 13,
   "metadata": {
    "collapsed": false,
    "scrolled": true
   },
   "outputs": [],
   "source": [
    "#timestamp_time_second"
   ]
  },
  {
   "cell_type": "code",
   "execution_count": 9,
   "metadata": {
    "collapsed": false
   },
   "outputs": [
    {
     "name": "stdout",
     "output_type": "stream",
     "text": [
      "Total time = 109.191883\n"
     ]
    }
   ],
   "source": [
    "import time \n",
    "start = time.time()\n",
    "Bid1_16,Bid1_Quantity_16,Bid2_16,Bid2_Quantity_16,Bid3_16,Bid3_Quantity_16,Ask1_16,Ask1_Quantity_16,Ask2_16,Ask2_Quantity_16,Ask3_16,Ask3_Quantity_16 = bid123_ask123_Q(data_book_open)\n",
    "end = time.time()  \n",
    "print \"Total time = %f\"%(end - start)"
   ]
  },
  {
   "cell_type": "code",
   "execution_count": 10,
   "metadata": {
    "collapsed": false
   },
   "outputs": [
    {
     "name": "stdout",
     "output_type": "stream",
     "text": [
      "Total time = 85.405191\n"
     ]
    }
   ],
   "source": [
    "import time \n",
    "start = time.time()\n",
    "rise_ratio_ask_16 = rise_ask(Ask1_16,timestamp_time_second)\n",
    "end = time.time()  \n",
    "print \"Total time = %f\"%(end - start) "
   ]
  },
  {
   "cell_type": "code",
   "execution_count": 152,
   "metadata": {
    "collapsed": false
   },
   "outputs": [
    {
     "name": "stdout",
     "output_type": "stream",
     "text": [
      "Total time = 120.984360\n"
     ]
    }
   ],
   "source": [
    "import time \n",
    "start = time.time()\n",
    "rise_ratio_bid_16 = rise_bid(Bid1_16,timestamp_time_second)\n",
    "end = time.time()  \n",
    "print \"Total time = %f\"%(end - start) "
   ]
  },
  {
   "cell_type": "code",
   "execution_count": 13,
   "metadata": {
    "collapsed": false
   },
   "outputs": [
    {
     "data": {
      "text/plain": [
       "[<matplotlib.lines.Line2D at 0x7f8830dc16d0>]"
      ]
     },
     "execution_count": 13,
     "metadata": {},
     "output_type": "execute_result"
    },
    {
     "data": {
      "image/png": "[encoded data removed]",
      "text/plain": [
       "<matplotlib.figure.Figure at 0x7f883957cdd0>"
      ]
     },
     "metadata": {},
     "output_type": "display_data"
    }
   ],
   "source": [
    "plot(Bid1_Quantity_16)"
   ]
  },
  {
   "cell_type": "code",
   "execution_count": 16,
   "metadata": {
    "collapsed": false
   },
   "outputs": [],
   "source": [
    "bas_16 = array(Ask1_16) - array(Bid1_16)"
   ]
  },
  {
   "cell_type": "code",
   "execution_count": 28,
   "metadata": {
    "collapsed": false,
    "scrolled": true
   },
   "outputs": [],
   "source": [
    "bas_16_one_second = []\n",
    "for i in range(0,25200,1):\n",
    "    \n",
    "    index = np.where(array(timestamp_time_second) <= i)[0][-1]\n",
    "    bas_16_one_second.append(bas_16[index])"
   ]
  },
  {
   "cell_type": "code",
   "execution_count": 29,
   "metadata": {
    "collapsed": false
   },
   "outputs": [
    {
     "data": {
      "text/plain": [
       "25200"
      ]
     },
     "execution_count": 29,
     "metadata": {},
     "output_type": "execute_result"
    }
   ],
   "source": [
    "len(bas_16_one_second)"
   ]
  },
  {
   "cell_type": "code",
   "execution_count": 32,
   "metadata": {
    "collapsed": false,
    "scrolled": true
   },
   "outputs": [
    {
     "data": {
      "text/plain": [
       "(array([   300.,      0.,      0.,      0.,      0.,  21668.,      0.,\n",
       "             0.,      0.,   3232.]),\n",
       " array([ 0. ,  0.2,  0.4,  0.6,  0.8,  1. ,  1.2,  1.4,  1.6,  1.8,  2. ]),\n",
       " <a list of 10 Patch objects>)"
      ]
     },
     "execution_count": 32,
     "metadata": {},
     "output_type": "execute_result"
    },
    {
     "data": {
      "image/png": "[encoded data removed]",
      "text/plain": [
       "<matplotlib.figure.Figure at 0x7f8833e15210>"
      ]
     },
     "metadata": {},
     "output_type": "display_data"
    }
   ],
   "source": [
    "\n",
    "hist(array(bas_16_one_second)/5.0)"
   ]
  },
  {
   "cell_type": "code",
   "execution_count": null,
   "metadata": {
    "collapsed": true
   },
   "outputs": [],
   "source": []
  },
  {
   "cell_type": "code",
   "execution_count": 153,
   "metadata": {
    "collapsed": false,
    "scrolled": true
   },
   "outputs": [
    {
     "data": {
      "text/plain": [
       "22469.0"
      ]
     },
     "execution_count": 153,
     "metadata": {},
     "output_type": "execute_result"
    }
   ],
   "source": [
    "timestamp_time_second[70000]"
   ]
  },
  {
   "cell_type": "code",
   "execution_count": 102,
   "metadata": {
    "collapsed": false,
    "scrolled": true
   },
   "outputs": [
    {
     "name": "stdout",
     "output_type": "stream",
     "text": [
      "Total time = 287.141661\n"
     ]
    }
   ],
   "source": [
    "import time \n",
    "start = time.time()\n",
    "min15_Ask1_time_series = []\n",
    "min15_Ask1_time_series.append(0)\n",
    "i = 0\n",
    "for j in range(1,len(Ask1),1):\n",
    "    \n",
    "    index = np.where(array(timestamp_time_second) <= i)[0][-1]\n",
    "    #print 'i = %d'%(i)\n",
    "    #print 'index = %d'%(index)\n",
    "    #print 'timestamp = %d'%(timestamp_time_second[index])\n",
    "    if i < 25200 - 900:\n",
    "            index_15_min = np.where(np.array(timestamp_time_second[index:]) >= i + 900)[0][0]\n",
    "    min_15 = min(Ask1[(index+1):(index + 1 + index_15_min + 1)])\n",
    "    min15_Ask1_time_series.append(min_15)\n",
    "    if timestamp_time_second[j] > i:\n",
    "        i = i + 1\n",
    "    \n",
    "#max_Bid1_time_series = []\n",
    "#max_Bid1_time_series.append(0)\n",
    "#for i in range(1,len(Ask1),1):\n",
    "#    max_Bid1_time_series.append(max(Bid1[i:]))\n",
    "end = time.time()  \n",
    "print \"Total time = %f\"%(end - start) "
   ]
  },
  {
   "cell_type": "code",
   "execution_count": 103,
   "metadata": {
    "collapsed": false
   },
   "outputs": [
    {
     "name": "stdout",
     "output_type": "stream",
     "text": [
      "Total time = 262.486386\n"
     ]
    }
   ],
   "source": [
    "import time \n",
    "start = time.time()\n",
    "max_Bid1_time_series = []\n",
    "max_Bid1_time_series.append(0)\n",
    "i = 0\n",
    "for j in range(1,len(Bid1),1):\n",
    "    \n",
    "    index = np.where(array(timestamp_time_second) <= i)[0][-1]\n",
    "    #print 'i = %d'%(i)\n",
    "    #print 'index = %d'%(index)\n",
    "    #print 'timestamp = %d'%(timestamp_time_second[index])\n",
    "    if i < 25200 - 900:\n",
    "            index_15_max = np.where(np.array(timestamp_time_second[index:]) >= i + 900)[0][0]\n",
    "    max_15 = max(Bid1[(index+1):(index + 1 + index_15_max + 1)])\n",
    "    max_Bid1_time_series.append(max_15)\n",
    "    if timestamp_time_second[j] > i:\n",
    "        i = i + 1\n",
    "\n",
    "end = time.time()  \n",
    "print \"Total time = %f\"%(end - start) "
   ]
  },
  {
   "cell_type": "code",
   "execution_count": 90,
   "metadata": {
    "collapsed": false
   },
   "outputs": [
    {
     "data": {
      "text/plain": [
       "1000"
      ]
     },
     "execution_count": 90,
     "metadata": {},
     "output_type": "execute_result"
    }
   ],
   "source": [
    "len(min15_Ask1_time_series)"
   ]
  },
  {
   "cell_type": "code",
   "execution_count": 118,
   "metadata": {
    "collapsed": false,
    "scrolled": true
   },
   "outputs": [],
   "source": [
    "#min15_Ask1_time_series\n",
    "#max_Bid1_time_series"
   ]
  },
  {
   "cell_type": "code",
   "execution_count": 10,
   "metadata": {
    "collapsed": true
   },
   "outputs": [],
   "source": [
    "close_price = 6750\n",
    "weight1 = 0.50\n",
    "weight2 = 0.30\n",
    "weight3 = 0.20"
   ]
  },
  {
   "cell_type": "code",
   "execution_count": 344,
   "metadata": {
    "collapsed": false,
    "scrolled": true
   },
   "outputs": [
    {
     "data": {
      "text/plain": [
       "<matplotlib.legend.Legend at 0x7f2cb95861d0>"
      ]
     },
     "execution_count": 344,
     "metadata": {},
     "output_type": "execute_result"
    },
    {
     "data": {
      "image/png": "[encoded data removed]",
      "text/plain": [
       "<matplotlib.figure.Figure at 0x7f2cb97dfe90>"
      ]
     },
     "metadata": {},
     "output_type": "display_data"
    },
    {
     "data": {
      "image/png": "[encoded data removed]",
      "text/plain": [
       "<matplotlib.figure.Figure at 0x7f2cb970b490>"
      ]
     },
     "metadata": {},
     "output_type": "display_data"
    },
    {
     "data": {
      "image/png": "[encoded data removed]",
      "text/plain": [
       "<matplotlib.figure.Figure at 0x7f2cb96b4250>"
      ]
     },
     "metadata": {},
     "output_type": "display_data"
    }
   ],
   "source": [
    "import matplotlib.pyplot as plt\n",
    "plt.figure(figsize = (16,6))\n",
    "plt.grid()\n",
    "plot(Ask1_16[0:len(Ask1_16)],label = 'Ask1',color = 'b')\n",
    "#plot(Ask2[0:len(Ask1)],label = 'Ask2')\n",
    "#plot(Ask3[0:data_trade_time_series_1530_1600],label = 'Ask3')\n",
    "plot(min15_Ask1_time_series[0:len(Ask1_16)],label = 'min Ask1(15 min)', linewidth = 1.2,color = 'y')\n",
    "plot(max_Bid1_time_series[0:len(Ask1_16)],label = 'max Bid1(15 min)', linewidth = 1.2,color = 'g')\n",
    "\n",
    "plot(Bid1_16[0:len(Bid1_16)],label = 'Bid1',color = 'r')\n",
    "#plot(Bid2[0:len(Ask1)],label = 'Bid2')\n",
    "#plot(Bid3[0:data_trade_time_series_1530_1600],label = 'Bid3')\n",
    "plt.ylim(6710,6805)\n",
    "plt.legend(loc = 1)\n",
    "plt.figure(figsize = (16,3))\n",
    "plt.grid()\n",
    "plot(rise_ratio_ask_16,label = 'Ask1 Rise Ratio', linewidth = 1.2,color = 'b')\n",
    "\n",
    "plt.axhline(0.4,color = 'g',linestyle = '-',label = 0.4, linewidth = 1.2)\n",
    "plt.axhline(0.15,color = 'r',linestyle = '-',label = 0.15, linewidth = 1.2)\n",
    "plt.axhline(-0.15,color = 'g',linestyle = '-',label = -0.15, linewidth = 1.2)\n",
    "plt.axhline(-0.4,color = 'g',linestyle = '-',label = -0.4, linewidth = 1.2)\n",
    "plt.ylim(-0.65,0.65)\n",
    "plt.legend(loc = 1)\n",
    "\n",
    "plt.figure(figsize = (16,3))\n",
    "plt.grid()\n",
    "plot(rise_ratio_bid_16,label = 'Bid1 Rise Ratio', linewidth = 1.2,color = 'b')\n",
    "\n",
    "plt.axhline(0.4,color = 'g',linestyle = '-',label = 0.4, linewidth = 1.2)\n",
    "plt.axhline(0.15,color = 'r',linestyle = '-',label = 0.15, linewidth = 1.2)\n",
    "plt.axhline(-0.15,color = 'g',linestyle = '-',label = -0.15, linewidth = 1.2)\n",
    "plt.axhline(-0.4,color = 'g',linestyle = '-',label = -0.4, linewidth = 1.2)\n",
    "plt.ylim(-0.65,0.65)\n",
    "plt.legend(loc = 1)"
   ]
  },
  {
   "cell_type": "markdown",
   "metadata": {},
   "source": [
    "### Day 1/17"
   ]
  },
  {
   "cell_type": "code",
   "execution_count": 241,
   "metadata": {
    "collapsed": true
   },
   "outputs": [],
   "source": [
    "data_book = order_book(1,17)\n",
    "data_book_open = data_book[968:377687+1] # 9:00 ~ 16:00\n",
    "data_book_open = data_book_open.reset_index(drop = True)\n",
    "timestamp_time = day_time(1,17)\n",
    "timestamp_time_second = time_transform(timestamp_time)"
   ]
  },
  {
   "cell_type": "code",
   "execution_count": 242,
   "metadata": {
    "collapsed": false
   },
   "outputs": [
    {
     "name": "stdout",
     "output_type": "stream",
     "text": [
      "Total time = 207.678575\n"
     ]
    }
   ],
   "source": [
    "import time \n",
    "start = time.time()\n",
    "Bid1_17,Bid1_Quantity_17,Bid2_17,Bid2_Quantity_17,Bid3_17,Bid3_Quantity_17,Ask1_17,Ask1_Quantity_17,Ask2_17,Ask2_Quantity_17,Ask3_17,Ask3_Quantity_17 = bid123_ask123_Q(data_book_open)\n",
    "end = time.time()  \n",
    "print \"Total time = %f\"%(end - start)"
   ]
  },
  {
   "cell_type": "code",
   "execution_count": 117,
   "metadata": {
    "collapsed": false
   },
   "outputs": [
    {
     "name": "stdout",
     "output_type": "stream",
     "text": [
      "Total time = 269.750579\n"
     ]
    }
   ],
   "source": [
    "import time \n",
    "start = time.time()\n",
    "rise_ratio_ask_17 = rise_ask(Ask1_17,timestamp_time_second)\n",
    "end = time.time()  \n",
    "print \"Total time = %f\"%(end - start) "
   ]
  },
  {
   "cell_type": "code",
   "execution_count": 243,
   "metadata": {
    "collapsed": false
   },
   "outputs": [
    {
     "name": "stdout",
     "output_type": "stream",
     "text": [
      "Total time = 287.709610\n"
     ]
    }
   ],
   "source": [
    "import time \n",
    "start = time.time()\n",
    "rise_ratio_bid_17 = rise_bid(Bid1_17,timestamp_time_second)\n",
    "end = time.time()  \n",
    "print \"Total time = %f\"%(end - start) "
   ]
  },
  {
   "cell_type": "code",
   "execution_count": 119,
   "metadata": {
    "collapsed": true
   },
   "outputs": [],
   "source": [
    "close_price = 6680\n",
    "weight1 = 0.50\n",
    "weight2 = 0.30\n",
    "weight3 = 0.20"
   ]
  },
  {
   "cell_type": "markdown",
   "metadata": {},
   "source": [
    "### Day 1/20"
   ]
  },
  {
   "cell_type": "code",
   "execution_count": 244,
   "metadata": {
    "collapsed": true
   },
   "outputs": [],
   "source": [
    "data_book = order_book(1,20)\n",
    "data_book_open = data_book[1300:332255+1] # 9:00 ~ 16:00\n",
    "data_book_open = data_book_open.reset_index(drop = True)\n",
    "timestamp_time = day_time(1,20)\n",
    "timestamp_time_second = time_transform(timestamp_time)"
   ]
  },
  {
   "cell_type": "code",
   "execution_count": 245,
   "metadata": {
    "collapsed": false
   },
   "outputs": [
    {
     "name": "stdout",
     "output_type": "stream",
     "text": [
      "Total time = 171.396542\n"
     ]
    }
   ],
   "source": [
    "import time \n",
    "start = time.time()\n",
    "Bid1_20,Bid1_Quantity_20,Bid2_20,Bid2_Quantity_20,Bid3_20,Bid3_Quantity_20,Ask1_20,Ask1_Quantity_20,Ask2_20,Ask2_Quantity_20,Ask3_20,Ask3_Quantity_20 = bid123_ask123_Q(data_book_open)\n",
    "end = time.time()  \n",
    "print \"Total time = %f\"%(end - start)"
   ]
  },
  {
   "cell_type": "code",
   "execution_count": 122,
   "metadata": {
    "collapsed": false
   },
   "outputs": [
    {
     "name": "stdout",
     "output_type": "stream",
     "text": [
      "Total time = 185.169573\n"
     ]
    }
   ],
   "source": [
    "import time \n",
    "start = time.time()\n",
    "rise_ratio_ask_20 = rise_ask(Ask1_20,timestamp_time_second)\n",
    "end = time.time()  \n",
    "print \"Total time = %f\"%(end - start) "
   ]
  },
  {
   "cell_type": "code",
   "execution_count": 246,
   "metadata": {
    "collapsed": false
   },
   "outputs": [
    {
     "name": "stdout",
     "output_type": "stream",
     "text": [
      "Total time = 450.930993\n"
     ]
    }
   ],
   "source": [
    "import time \n",
    "start = time.time()\n",
    "rise_ratio_bid_20 = rise_bid(Bid1_20,timestamp_time_second)\n",
    "end = time.time()  \n",
    "print \"Total time = %f\"%(end - start) "
   ]
  },
  {
   "cell_type": "code",
   "execution_count": 123,
   "metadata": {
    "collapsed": true
   },
   "outputs": [],
   "source": [
    "close_price = 6655\n",
    "weight1 = 0.50\n",
    "weight2 = 0.30\n",
    "weight3 = 0.20"
   ]
  },
  {
   "cell_type": "code",
   "execution_count": null,
   "metadata": {
    "collapsed": true
   },
   "outputs": [],
   "source": []
  },
  {
   "cell_type": "code",
   "execution_count": null,
   "metadata": {
    "collapsed": true
   },
   "outputs": [],
   "source": []
  },
  {
   "cell_type": "markdown",
   "metadata": {},
   "source": [
    "### Day 1/21"
   ]
  },
  {
   "cell_type": "code",
   "execution_count": 247,
   "metadata": {
    "collapsed": true
   },
   "outputs": [],
   "source": [
    "data_book = order_book(1,21)\n",
    "data_book_open = data_book[1236:351679+1] # 9:00 ~ 16:00\n",
    "data_book_open = data_book_open.reset_index(drop = True)\n",
    "timestamp_time = day_time(1,21)\n",
    "timestamp_time_second = time_transform(timestamp_time)"
   ]
  },
  {
   "cell_type": "code",
   "execution_count": 248,
   "metadata": {
    "collapsed": false
   },
   "outputs": [
    {
     "name": "stdout",
     "output_type": "stream",
     "text": [
      "Total time = 182.635018\n"
     ]
    }
   ],
   "source": [
    "import time \n",
    "start = time.time()\n",
    "Bid1_21,Bid1_Quantity_21,Bid2_21,Bid2_Quantity_21,Bid3_21,Bid3_Quantity_21,Ask1_21,Ask1_Quantity_21,Ask2_21,Ask2_Quantity_21,Ask3_21,Ask3_Quantity_21 = bid123_ask123_Q(data_book_open)\n",
    "end = time.time()  \n",
    "print \"Total time = %f\"%(end - start)"
   ]
  },
  {
   "cell_type": "code",
   "execution_count": 126,
   "metadata": {
    "collapsed": false
   },
   "outputs": [
    {
     "name": "stdout",
     "output_type": "stream",
     "text": [
      "Total time = 286.437052\n"
     ]
    }
   ],
   "source": [
    "import time \n",
    "start = time.time()\n",
    "rise_ratio_ask_21 = rise_ask(Ask1_21,timestamp_time_second)\n",
    "end = time.time()  \n",
    "print \"Total time = %f\"%(end - start) "
   ]
  },
  {
   "cell_type": "code",
   "execution_count": 249,
   "metadata": {
    "collapsed": false
   },
   "outputs": [
    {
     "name": "stdout",
     "output_type": "stream",
     "text": [
      "Total time = 530.859111\n"
     ]
    }
   ],
   "source": [
    "import time \n",
    "start = time.time()\n",
    "rise_ratio_bid_21 = rise_bid(Bid1_21,timestamp_time_second)\n",
    "end = time.time()  \n",
    "print \"Total time = %f\"%(end - start) "
   ]
  },
  {
   "cell_type": "code",
   "execution_count": 127,
   "metadata": {
    "collapsed": true
   },
   "outputs": [],
   "source": [
    "close_price = 6710\n",
    "weight1 = 0.50\n",
    "weight2 = 0.30\n",
    "weight3 = 0.20"
   ]
  },
  {
   "cell_type": "code",
   "execution_count": null,
   "metadata": {
    "collapsed": true
   },
   "outputs": [],
   "source": []
  },
  {
   "cell_type": "code",
   "execution_count": null,
   "metadata": {
    "collapsed": true
   },
   "outputs": [],
   "source": []
  },
  {
   "cell_type": "code",
   "execution_count": null,
   "metadata": {
    "collapsed": true
   },
   "outputs": [],
   "source": []
  },
  {
   "cell_type": "code",
   "execution_count": null,
   "metadata": {
    "collapsed": true
   },
   "outputs": [],
   "source": []
  },
  {
   "cell_type": "markdown",
   "metadata": {},
   "source": [
    "### Day 1/22"
   ]
  },
  {
   "cell_type": "code",
   "execution_count": 250,
   "metadata": {
    "collapsed": true
   },
   "outputs": [],
   "source": [
    "data_book = order_book(1,22)\n",
    "data_book_open = data_book[1304:368779+1] # 9:00 ~ 16:00\n",
    "data_book_open = data_book_open.reset_index(drop = True)\n",
    "timestamp_time = day_time(1,22)\n",
    "timestamp_time_second = time_transform(timestamp_time)"
   ]
  },
  {
   "cell_type": "code",
   "execution_count": 251,
   "metadata": {
    "collapsed": false
   },
   "outputs": [
    {
     "name": "stdout",
     "output_type": "stream",
     "text": [
      "Total time = 189.205451\n"
     ]
    }
   ],
   "source": [
    "import time \n",
    "start = time.time()\n",
    "Bid1_22,Bid1_Quantity_22,Bid2_22,Bid2_Quantity_22,Bid3_22,Bid3_Quantity_22,Ask1_22,Ask1_Quantity_22,Ask2_22,Ask2_Quantity_22,Ask3_22,Ask3_Quantity_22 = bid123_ask123_Q(data_book_open)\n",
    "end = time.time()  \n",
    "print \"Total time = %f\"%(end - start)"
   ]
  },
  {
   "cell_type": "code",
   "execution_count": 130,
   "metadata": {
    "collapsed": false
   },
   "outputs": [
    {
     "name": "stdout",
     "output_type": "stream",
     "text": [
      "Total time = 220.428587\n"
     ]
    }
   ],
   "source": [
    "import time \n",
    "start = time.time()\n",
    "rise_ratio_ask_22 = rise_ask(Ask1_22,timestamp_time_second)\n",
    "end = time.time()  \n",
    "print \"Total time = %f\"%(end - start) "
   ]
  },
  {
   "cell_type": "code",
   "execution_count": 252,
   "metadata": {
    "collapsed": false
   },
   "outputs": [
    {
     "name": "stdout",
     "output_type": "stream",
     "text": [
      "Total time = 485.494036\n"
     ]
    }
   ],
   "source": [
    "import time \n",
    "start = time.time()\n",
    "rise_ratio_bid_22 = rise_bid(Bid1_22,timestamp_time_second)\n",
    "end = time.time()  \n",
    "print \"Total time = %f\"%(end - start) "
   ]
  },
  {
   "cell_type": "code",
   "execution_count": 131,
   "metadata": {
    "collapsed": true
   },
   "outputs": [],
   "source": [
    "close_price = 6870\n",
    "weight1 = 0.50\n",
    "weight2 = 0.30\n",
    "weight3 = 0.20"
   ]
  },
  {
   "cell_type": "code",
   "execution_count": null,
   "metadata": {
    "collapsed": true
   },
   "outputs": [],
   "source": []
  },
  {
   "cell_type": "markdown",
   "metadata": {},
   "source": [
    "### Day 1/24"
   ]
  },
  {
   "cell_type": "code",
   "execution_count": 253,
   "metadata": {
    "collapsed": true
   },
   "outputs": [],
   "source": [
    "data_book = order_book(1,24)\n",
    "data_book_open = data_book[920:331143 + 1] # 9:00 ~ 16:00\n",
    "data_book_open = data_book_open.reset_index(drop = True)\n",
    "timestamp_time = day_time(1,24)\n",
    "timestamp_time_second = time_transform(timestamp_time)"
   ]
  },
  {
   "cell_type": "code",
   "execution_count": 254,
   "metadata": {
    "collapsed": false
   },
   "outputs": [
    {
     "name": "stdout",
     "output_type": "stream",
     "text": [
      "Total time = 164.621089\n"
     ]
    }
   ],
   "source": [
    "import time \n",
    "start = time.time()\n",
    "Bid1_24,Bid1_Quantity_24,Bid2_24,Bid2_Quantity_24,Bid3_24,Bid3_Quantity_24,Ask1_24,Ask1_Quantity_24,Ask2_24,Ask2_Quantity_24,Ask3_24,Ask3_Quantity_24 = bid123_ask123_Q(data_book_open)\n",
    "end = time.time()  \n",
    "print \"Total time = %f\"%(end - start)"
   ]
  },
  {
   "cell_type": "code",
   "execution_count": 134,
   "metadata": {
    "collapsed": false
   },
   "outputs": [
    {
     "name": "stdout",
     "output_type": "stream",
     "text": [
      "Total time = 162.300534\n"
     ]
    }
   ],
   "source": [
    "import time \n",
    "start = time.time()\n",
    "rise_ratio_ask_24 = rise_ask(Ask1_24,timestamp_time_second)\n",
    "end = time.time()  \n",
    "print \"Total time = %f\"%(end - start) "
   ]
  },
  {
   "cell_type": "code",
   "execution_count": 255,
   "metadata": {
    "collapsed": false
   },
   "outputs": [
    {
     "name": "stdout",
     "output_type": "stream",
     "text": [
      "Total time = 381.218866\n"
     ]
    }
   ],
   "source": [
    "import time \n",
    "start = time.time()\n",
    "rise_ratio_bid_24 = rise_bid(Bid1_24,timestamp_time_second)\n",
    "end = time.time()  \n",
    "print \"Total time = %f\"%(end - start) "
   ]
  },
  {
   "cell_type": "code",
   "execution_count": 135,
   "metadata": {
    "collapsed": true
   },
   "outputs": [],
   "source": [
    "close_price = 6815\n",
    "weight1 = 0.50\n",
    "weight2 = 0.30\n",
    "weight3 = 0.20"
   ]
  },
  {
   "cell_type": "code",
   "execution_count": null,
   "metadata": {
    "collapsed": true
   },
   "outputs": [],
   "source": []
  },
  {
   "cell_type": "markdown",
   "metadata": {},
   "source": [
    "### Day 1/27"
   ]
  },
  {
   "cell_type": "code",
   "execution_count": 256,
   "metadata": {
    "collapsed": true
   },
   "outputs": [],
   "source": [
    "data_book = order_book(1,27)\n",
    "data_book_open = data_book[1112 : 266575 + 1] # 9:00 ~ 16:00\n",
    "data_book_open = data_book_open.reset_index(drop = True)\n",
    "timestamp_time = day_time(1,27)\n",
    "timestamp_time_second = time_transform(timestamp_time)"
   ]
  },
  {
   "cell_type": "code",
   "execution_count": 257,
   "metadata": {
    "collapsed": false
   },
   "outputs": [
    {
     "name": "stdout",
     "output_type": "stream",
     "text": [
      "Total time = 134.039084\n"
     ]
    }
   ],
   "source": [
    "import time \n",
    "start = time.time()\n",
    "Bid1_27,Bid1_Quantity_27,Bid2_27,Bid2_Quantity_27,Bid3_27,Bid3_Quantity_27,Ask1_27,Ask1_Quantity_27,Ask2_27,Ask2_Quantity_27,Ask3_27,Ask3_Quantity_27 = bid123_ask123_Q(data_book_open)\n",
    "end = time.time()  \n",
    "print \"Total time = %f\"%(end - start)"
   ]
  },
  {
   "cell_type": "code",
   "execution_count": 138,
   "metadata": {
    "collapsed": false
   },
   "outputs": [
    {
     "name": "stdout",
     "output_type": "stream",
     "text": [
      "Total time = 124.303481\n"
     ]
    }
   ],
   "source": [
    "import time \n",
    "start = time.time()\n",
    "rise_ratio_ask_27 = rise_ask(Ask1_27,timestamp_time_second)\n",
    "end = time.time()  \n",
    "print \"Total time = %f\"%(end - start) "
   ]
  },
  {
   "cell_type": "code",
   "execution_count": 258,
   "metadata": {
    "collapsed": false
   },
   "outputs": [
    {
     "name": "stdout",
     "output_type": "stream",
     "text": [
      "Total time = 237.341071\n"
     ]
    }
   ],
   "source": [
    "import time \n",
    "start = time.time()\n",
    "rise_ratio_bid_27 = rise_bid(Bid1_27,timestamp_time_second)\n",
    "end = time.time()  \n",
    "print \"Total time = %f\"%(end - start) "
   ]
  },
  {
   "cell_type": "code",
   "execution_count": 139,
   "metadata": {
    "collapsed": true
   },
   "outputs": [],
   "source": [
    "close_price = 6710\n",
    "weight1 = 0.50\n",
    "weight2 = 0.30\n",
    "weight3 = 0.20"
   ]
  },
  {
   "cell_type": "code",
   "execution_count": null,
   "metadata": {
    "collapsed": true
   },
   "outputs": [],
   "source": []
  },
  {
   "cell_type": "markdown",
   "metadata": {},
   "source": [
    "### Day 1/28"
   ]
  },
  {
   "cell_type": "code",
   "execution_count": 259,
   "metadata": {
    "collapsed": true
   },
   "outputs": [],
   "source": [
    "data_book = order_book(1,28)\n",
    "data_book_open = data_book[213*4-3 : 67229*4 + 1] # 9:00 ~ 16:00\n",
    "data_book_open = data_book_open.reset_index(drop = True)\n",
    "timestamp_time = day_time(1,28)\n",
    "timestamp_time_second = time_transform(timestamp_time)"
   ]
  },
  {
   "cell_type": "code",
   "execution_count": 260,
   "metadata": {
    "collapsed": false
   },
   "outputs": [
    {
     "name": "stdout",
     "output_type": "stream",
     "text": [
      "Total time = 133.678375\n"
     ]
    }
   ],
   "source": [
    "import time \n",
    "start = time.time()\n",
    "Bid1_28,Bid1_Quantity_28,Bid2_28,Bid2_Quantity_28,Bid3_28,Bid3_Quantity_28,Ask1_28,Ask1_Quantity_28,Ask2_28,Ask2_Quantity_28,Ask3_28,Ask3_Quantity_28 = bid123_ask123_Q(data_book_open)\n",
    "end = time.time()  \n",
    "print \"Total time = %f\"%(end - start)"
   ]
  },
  {
   "cell_type": "code",
   "execution_count": 142,
   "metadata": {
    "collapsed": false
   },
   "outputs": [
    {
     "name": "stdout",
     "output_type": "stream",
     "text": [
      "Total time = 100.058279\n"
     ]
    }
   ],
   "source": [
    "import time \n",
    "start = time.time()\n",
    "rise_ratio_ask_28 = rise_ask(Ask1_28,timestamp_time_second)\n",
    "end = time.time()  \n",
    "print \"Total time = %f\"%(end - start) "
   ]
  },
  {
   "cell_type": "code",
   "execution_count": 261,
   "metadata": {
    "collapsed": false
   },
   "outputs": [
    {
     "name": "stdout",
     "output_type": "stream",
     "text": [
      "Total time = 254.872605\n"
     ]
    }
   ],
   "source": [
    "import time \n",
    "start = time.time()\n",
    "rise_ratio_bid_28 = rise_bid(Bid1_28,timestamp_time_second)\n",
    "end = time.time()  \n",
    "print \"Total time = %f\"%(end - start) "
   ]
  },
  {
   "cell_type": "code",
   "execution_count": 143,
   "metadata": {
    "collapsed": true
   },
   "outputs": [],
   "source": [
    "close_price = 6750\n",
    "weight1 = 0.50\n",
    "weight2 = 0.30\n",
    "weight3 = 0.20"
   ]
  },
  {
   "cell_type": "code",
   "execution_count": null,
   "metadata": {
    "collapsed": true
   },
   "outputs": [],
   "source": []
  },
  {
   "cell_type": "markdown",
   "metadata": {},
   "source": [
    "### Day 1/29"
   ]
  },
  {
   "cell_type": "code",
   "execution_count": 262,
   "metadata": {
    "collapsed": true
   },
   "outputs": [],
   "source": [
    "data_book = order_book(1,29)\n",
    "data_book_open = data_book[602:128801 + 1] # 9:00 ~ 16:00\n",
    "data_book_open = data_book_open.reset_index(drop = True)\n",
    "timestamp_time = day_time(1,29)\n",
    "timestamp_time_second = time_transform(timestamp_time)"
   ]
  },
  {
   "cell_type": "code",
   "execution_count": 263,
   "metadata": {
    "collapsed": false
   },
   "outputs": [
    {
     "name": "stdout",
     "output_type": "stream",
     "text": [
      "Total time = 63.966075\n"
     ]
    }
   ],
   "source": [
    "import time \n",
    "start = time.time()\n",
    "Bid1_29,Bid1_Quantity_29,Bid2_29,Bid2_Quantity_29,Bid3_29,Bid3_Quantity_29,Ask1_29,Ask1_Quantity_29,Ask2_29,Ask2_Quantity_29,Ask3_29,Ask3_Quantity_29 = bid123_ask123_Q(data_book_open)\n",
    "end = time.time()  \n",
    "print \"Total time = %f\"%(end - start)"
   ]
  },
  {
   "cell_type": "code",
   "execution_count": 146,
   "metadata": {
    "collapsed": false
   },
   "outputs": [
    {
     "name": "stdout",
     "output_type": "stream",
     "text": [
      "Total time = 21.391618\n"
     ]
    }
   ],
   "source": [
    "import time \n",
    "start = time.time()\n",
    "rise_ratio_ask_29 = rise_ask(Ask1_29,timestamp_time_second)\n",
    "end = time.time()  \n",
    "print \"Total time = %f\"%(end - start) "
   ]
  },
  {
   "cell_type": "code",
   "execution_count": 264,
   "metadata": {
    "collapsed": false
   },
   "outputs": [
    {
     "name": "stdout",
     "output_type": "stream",
     "text": [
      "Total time = 49.096475\n"
     ]
    }
   ],
   "source": [
    "import time \n",
    "start = time.time()\n",
    "rise_ratio_bid_29 = rise_bid(Bid1_29,timestamp_time_second)\n",
    "end = time.time()  \n",
    "print \"Total time = %f\"%(end - start) "
   ]
  },
  {
   "cell_type": "code",
   "execution_count": 147,
   "metadata": {
    "collapsed": true
   },
   "outputs": [],
   "source": [
    "close_price = 6775\n",
    "weight1 = 0.50\n",
    "weight2 = 0.30\n",
    "weight3 = 0.20"
   ]
  },
  {
   "cell_type": "code",
   "execution_count": null,
   "metadata": {
    "collapsed": true
   },
   "outputs": [],
   "source": []
  },
  {
   "cell_type": "code",
   "execution_count": null,
   "metadata": {
    "collapsed": true
   },
   "outputs": [],
   "source": []
  },
  {
   "cell_type": "code",
   "execution_count": null,
   "metadata": {
    "collapsed": true
   },
   "outputs": [],
   "source": []
  },
  {
   "cell_type": "code",
   "execution_count": 162,
   "metadata": {
    "collapsed": false,
    "scrolled": true
   },
   "outputs": [],
   "source": [
    "Bid1_Quantity = Bid1_Quantity_16 + Bid1_Quantity_17 + Bid1_Quantity_20 \\\n",
    "              + Bid1_Quantity_21 + Bid1_Quantity_22 + Bid1_Quantity_24 + Bid1_Quantity_27\\\n",
    "              + Bid1_Quantity_28 + Bid1_Quantity_29"
   ]
  },
  {
   "cell_type": "code",
   "execution_count": 179,
   "metadata": {
    "collapsed": true
   },
   "outputs": [],
   "source": [
    "Bid2_Quantity = Bid2_Quantity_16 + Bid2_Quantity_17 + Bid2_Quantity_20 \\\n",
    "              + Bid2_Quantity_21 + Bid2_Quantity_22 + Bid2_Quantity_24 + Bid2_Quantity_27\\\n",
    "              + Bid2_Quantity_28 + Bid2_Quantity_29"
   ]
  },
  {
   "cell_type": "code",
   "execution_count": 180,
   "metadata": {
    "collapsed": true
   },
   "outputs": [],
   "source": [
    "Bid3_Quantity = Bid3_Quantity_16 + Bid3_Quantity_17 + Bid3_Quantity_20 \\\n",
    "              + Bid3_Quantity_21 + Bid3_Quantity_22 + Bid3_Quantity_24 + Bid3_Quantity_27\\\n",
    "              + Bid3_Quantity_28 + Bid3_Quantity_29"
   ]
  },
  {
   "cell_type": "code",
   "execution_count": 184,
   "metadata": {
    "collapsed": false
   },
   "outputs": [],
   "source": [
    "#len(Bid3_Quantity)"
   ]
  },
  {
   "cell_type": "code",
   "execution_count": 185,
   "metadata": {
    "collapsed": true
   },
   "outputs": [],
   "source": [
    "Bid_weighted = array(Bid1_Quantity)*0.50 + array(Bid2_Quantity)*0.3 + array(Bid3_Quantity)*0.2"
   ]
  },
  {
   "cell_type": "code",
   "execution_count": 186,
   "metadata": {
    "collapsed": false
   },
   "outputs": [
    {
     "data": {
      "text/plain": [
       "675417"
      ]
     },
     "execution_count": 186,
     "metadata": {},
     "output_type": "execute_result"
    }
   ],
   "source": [
    "len(Bid_weighted)"
   ]
  },
  {
   "cell_type": "code",
   "execution_count": 191,
   "metadata": {
    "collapsed": true
   },
   "outputs": [],
   "source": [
    "Ask1_Quantity = Ask1_Quantity_16 + Ask1_Quantity_17 + Ask1_Quantity_20 \\\n",
    "              + Ask1_Quantity_21 + Ask1_Quantity_22 + Ask1_Quantity_24 + Ask1_Quantity_27\\\n",
    "              + Ask1_Quantity_28 + Ask1_Quantity_29"
   ]
  },
  {
   "cell_type": "code",
   "execution_count": 192,
   "metadata": {
    "collapsed": true
   },
   "outputs": [],
   "source": [
    "Ask2_Quantity = Ask2_Quantity_16 + Ask2_Quantity_17 + Ask2_Quantity_20 \\\n",
    "              + Ask2_Quantity_21 + Ask2_Quantity_22 + Ask2_Quantity_24 + Ask2_Quantity_27\\\n",
    "              + Ask2_Quantity_28 + Ask2_Quantity_29"
   ]
  },
  {
   "cell_type": "code",
   "execution_count": 193,
   "metadata": {
    "collapsed": true
   },
   "outputs": [],
   "source": [
    "Ask3_Quantity = Ask3_Quantity_16 + Ask3_Quantity_17 + Ask3_Quantity_20 \\\n",
    "              + Ask3_Quantity_21 + Ask3_Quantity_22 + Ask3_Quantity_24 + Ask3_Quantity_27\\\n",
    "              + Ask3_Quantity_28 + Ask3_Quantity_29"
   ]
  },
  {
   "cell_type": "code",
   "execution_count": 194,
   "metadata": {
    "collapsed": true
   },
   "outputs": [],
   "source": [
    "Ask_weighted = array(Ask1_Quantity)*0.50 + array(Ask2_Quantity)*0.3 + array(Ask3_Quantity)*0.2"
   ]
  },
  {
   "cell_type": "code",
   "execution_count": 195,
   "metadata": {
    "collapsed": false
   },
   "outputs": [
    {
     "data": {
      "text/plain": [
       "675417"
      ]
     },
     "execution_count": 195,
     "metadata": {},
     "output_type": "execute_result"
    }
   ],
   "source": [
    "len(Ask_weighted)"
   ]
  },
  {
   "cell_type": "code",
   "execution_count": null,
   "metadata": {
    "collapsed": true
   },
   "outputs": [],
   "source": []
  },
  {
   "cell_type": "code",
   "execution_count": null,
   "metadata": {
    "collapsed": true
   },
   "outputs": [],
   "source": []
  },
  {
   "cell_type": "code",
   "execution_count": null,
   "metadata": {
    "collapsed": true
   },
   "outputs": [],
   "source": []
  },
  {
   "cell_type": "code",
   "execution_count": 210,
   "metadata": {
    "collapsed": false
   },
   "outputs": [
    {
     "data": {
      "text/plain": [
       "<matplotlib.legend.Legend at 0x7f2ced65db10>"
      ]
     },
     "execution_count": 210,
     "metadata": {},
     "output_type": "execute_result"
    },
    {
     "data": {
      "image/png": "[encoded data removed]",
      "text/plain": [
       "<matplotlib.figure.Figure at 0x7f2d10cffa90>"
      ]
     },
     "metadata": {},
     "output_type": "display_data"
    }
   ],
   "source": [
    "plt.figure(figsize = (15,15))\n",
    "plt.subplot(321)\n",
    "plt.grid()\n",
    "plt.hist(Bid1_Quantity,bins = 700,label = 'Bid1 Quantity')\n",
    "plt.xlabel(\"Quantity\")\n",
    "plt.ylabel(\"frequency\")\n",
    "plt.xlim(0,1000)\n",
    "plt.legend(loc = 1)\n",
    "\n",
    "plt.subplot(322)\n",
    "plt.grid()\n",
    "plt.hist(Bid2_Quantity,bins = 200,label = 'Bid2 Quantity')\n",
    "plt.xlabel(\"Quantity\")\n",
    "plt.ylabel(\"frequency\")\n",
    "plt.xlim(0,1500)\n",
    "plt.legend(loc = 1)\n",
    "\n",
    "plt.subplot(323)\n",
    "plt.grid()\n",
    "plt.hist(Bid3_Quantity,bins = 200,label = 'Bid3 Quantity')\n",
    "plt.xlabel(\"Quantity\")\n",
    "plt.ylabel(\"frequency\")\n",
    "plt.xlim(0,1500)\n",
    "plt.legend(loc = 1)\n",
    "\n",
    "plt.subplot(324)\n",
    "plt.grid()\n",
    "plt.hist(Bid_weighted,bins = 300,label = 'Bid weighted (50% 30% 20%) Quantity')\n",
    "plt.xlabel(\"Quantity\")\n",
    "plt.ylabel(\"frequency\")\n",
    "plt.xlim(0,1500)\n",
    "plt.legend(loc = 1)\n"
   ]
  },
  {
   "cell_type": "code",
   "execution_count": 211,
   "metadata": {
    "collapsed": false
   },
   "outputs": [
    {
     "data": {
      "text/plain": [
       "<matplotlib.legend.Legend at 0x7f2ce39a8cd0>"
      ]
     },
     "execution_count": 211,
     "metadata": {},
     "output_type": "execute_result"
    },
    {
     "data": {
      "image/png": "[encoded data removed]",
      "text/plain": [
       "<matplotlib.figure.Figure at 0x7f2ceb2d9250>"
      ]
     },
     "metadata": {},
     "output_type": "display_data"
    }
   ],
   "source": [
    "plt.figure(figsize = (15,15))\n",
    "plt.subplot(321)\n",
    "plt.grid()\n",
    "plt.hist(Ask1_Quantity,bins = 900,label = 'Ask1 Quantity')\n",
    "plt.xlabel(\"Quantity\")\n",
    "plt.ylabel(\"frequency\")\n",
    "plt.xlim(0,1000)\n",
    "plt.legend(loc = 1)\n",
    "\n",
    "plt.subplot(322)\n",
    "plt.grid()\n",
    "plt.hist(Ask2_Quantity,bins = 700,label = 'Ask2 Quantity')\n",
    "plt.xlabel(\"Quantity\")\n",
    "plt.ylabel(\"frequency\")\n",
    "plt.xlim(0,1500)\n",
    "plt.legend(loc = 1)\n",
    "\n",
    "plt.subplot(323)\n",
    "plt.grid()\n",
    "plt.hist(Ask3_Quantity,bins = 150,label = 'Ask3 Quantity')\n",
    "plt.xlabel(\"Quantity\")\n",
    "plt.ylabel(\"frequency\")\n",
    "plt.xlim(0,1500)\n",
    "plt.legend(loc = 1)\n",
    "\n",
    "plt.subplot(324)\n",
    "plt.grid()\n",
    "plt.hist(Ask_weighted,bins = 500,label = 'Ask weighted (50% 30% 20%) Quantity')\n",
    "plt.xlabel(\"Quantity\")\n",
    "plt.ylabel(\"frequency\")\n",
    "plt.xlim(0,1500)\n",
    "plt.legend(loc = 1)\n"
   ]
  },
  {
   "cell_type": "code",
   "execution_count": null,
   "metadata": {
    "collapsed": true
   },
   "outputs": [],
   "source": []
  },
  {
   "cell_type": "code",
   "execution_count": 212,
   "metadata": {
    "collapsed": true
   },
   "outputs": [],
   "source": [
    "divid_weighted = array(Bid_weighted) / array(Ask_weighted)"
   ]
  },
  {
   "cell_type": "code",
   "execution_count": 214,
   "metadata": {
    "collapsed": false
   },
   "outputs": [
    {
     "data": {
      "text/plain": [
       "675417"
      ]
     },
     "execution_count": 214,
     "metadata": {},
     "output_type": "execute_result"
    }
   ],
   "source": [
    "len(divid_weighted)"
   ]
  },
  {
   "cell_type": "code",
   "execution_count": 278,
   "metadata": {
    "collapsed": false
   },
   "outputs": [
    {
     "data": {
      "text/plain": [
       "<matplotlib.legend.Legend at 0x7f2cc1b61450>"
      ]
     },
     "execution_count": 278,
     "metadata": {},
     "output_type": "execute_result"
    },
    {
     "data": {
      "image/png": "[encoded data removed]",
      "text/plain": [
       "<matplotlib.figure.Figure at 0x7f2cc4d75550>"
      ]
     },
     "metadata": {},
     "output_type": "display_data"
    }
   ],
   "source": [
    "plt.figure(figsize = (7.5,5))\n",
    "plt.grid()\n",
    "plt.hist(divid_weighted,bins = 2000,label = 'Bid Quantity/Ask Quantity')\n",
    "plt.xlabel(\"divid\")\n",
    "plt.ylabel(\"frequency\")\n",
    "plt.xlim(0,4)\n",
    "plt.axvline(x = 0.7 , color = 'r',linestyle = '-',label = 0.7, linewidth = 2)\n",
    "plt.axvline(x = 0.9 , color = 'm',linestyle = '-',label = 0.9, linewidth = 2)\n",
    "plt.axvline(x = 1.1 , color = 'y',linestyle = '-',label = 1.1, linewidth = 2)\n",
    "plt.axvline(x = 1.3 , color = 'g',linestyle = '-',label = 1.3, linewidth = 2)\n",
    "plt.legend(loc = 1)"
   ]
  },
  {
   "cell_type": "code",
   "execution_count": 279,
   "metadata": {
    "collapsed": true
   },
   "outputs": [],
   "source": [
    "Ask1 = Ask1_16 + Ask1_17 + Ask1_20 + Ask1_21 + Ask1_22 + Ask1_24 + Ask1_27 + Ask1_28 + Ask1_29\n",
    "Bid1 = Bid1_16 + Bid1_17 + Bid1_20 + Bid1_21 + Bid1_22 + Bid1_24 + Bid1_27 + Bid1_28 + Bid1_29"
   ]
  },
  {
   "cell_type": "code",
   "execution_count": 283,
   "metadata": {
    "collapsed": true
   },
   "outputs": [],
   "source": [
    "Bas = array(Ask1)/5.0 - array(Bid1)/5.0"
   ]
  },
  {
   "cell_type": "code",
   "execution_count": 296,
   "metadata": {
    "collapsed": false
   },
   "outputs": [
    {
     "data": {
      "text/plain": [
       "(65968, 608044, 838)"
      ]
     },
     "execution_count": 296,
     "metadata": {},
     "output_type": "execute_result"
    }
   ],
   "source": [
    "len(Bas[Bas == 2]),len(Bas[Bas == 1]),len(Bas[Bas == 0])"
   ]
  },
  {
   "cell_type": "code",
   "execution_count": 309,
   "metadata": {
    "collapsed": false
   },
   "outputs": [
    {
     "data": {
      "text/plain": [
       "<matplotlib.legend.Legend at 0x7f2cc0524050>"
      ]
     },
     "execution_count": 309,
     "metadata": {},
     "output_type": "execute_result"
    },
    {
     "data": {
      "image/png": "[encoded data removed]",
      "text/plain": [
       "<matplotlib.figure.Figure at 0x7f2cc06d8410>"
      ]
     },
     "metadata": {},
     "output_type": "display_data"
    }
   ],
   "source": [
    "plt.figure(figsize = (7.5,5))\n",
    "plt.grid()\n",
    "hist(Bas,label = 'Bid Ask Spread')\n",
    "plt.xlabel(\"spread\")\n",
    "plt.ylabel(\"frequency\")\n",
    "plt.xlim(0,4)\n",
    "plt.legend(loc = 1)"
   ]
  },
  {
   "cell_type": "code",
   "execution_count": 300,
   "metadata": {
    "collapsed": false
   },
   "outputs": [],
   "source": [
    "rise_ratio_ask = rise_ratio_ask_16 + rise_ratio_ask_17 + rise_ratio_ask_20 + rise_ratio_ask_21 + rise_ratio_ask_22 + rise_ratio_ask_24 + rise_ratio_ask_27 + rise_ratio_ask_28 + rise_ratio_ask_29"
   ]
  },
  {
   "cell_type": "code",
   "execution_count": 325,
   "metadata": {
    "collapsed": false,
    "scrolled": true
   },
   "outputs": [
    {
     "data": {
      "text/plain": [
       "<matplotlib.legend.Legend at 0x7f2cbd009290>"
      ]
     },
     "execution_count": 325,
     "metadata": {},
     "output_type": "execute_result"
    },
    {
     "data": {
      "image/png": "[encoded data removed]",
      "text/plain": [
       "<matplotlib.figure.Figure at 0x7f2cbd2f8e90>"
      ]
     },
     "metadata": {},
     "output_type": "display_data"
    }
   ],
   "source": [
    "plt.figure(figsize = (7.5,5))\n",
    "plt.grid()\n",
    "hist(rise_ratio_ask,bins = 90)\n",
    "plt.title(\"Ask1 Rise Ratio\")\n",
    "plt.xlabel(\"Rise Ratio\")\n",
    "plt.ylabel(\"frequency\")\n",
    "plt.axvline(x = -0.4 , color = 'r',linestyle = '-',label = -0.4, linewidth = 2)\n",
    "plt.axvline(x = -0.15 , color = 'm',linestyle = '-',label = -0.15, linewidth = 2)\n",
    "plt.axvline(x = 0.15 , color = 'y',linestyle = '-',label = 0.15, linewidth = 2)\n",
    "plt.axvline(x = 0.4 , color = 'g',linestyle = '-',label = 0.4, linewidth = 2)\n",
    "plt.legend(loc = 1)"
   ]
  },
  {
   "cell_type": "code",
   "execution_count": 323,
   "metadata": {
    "collapsed": true
   },
   "outputs": [],
   "source": [
    "rise_ratio_bid = rise_ratio_bid_16 + rise_ratio_bid_17 + rise_ratio_bid_20 + rise_ratio_bid_21 + rise_ratio_bid_22 + rise_ratio_bid_24 + rise_ratio_bid_27 + rise_ratio_bid_28 + rise_ratio_bid_29"
   ]
  },
  {
   "cell_type": "code",
   "execution_count": 326,
   "metadata": {
    "collapsed": false
   },
   "outputs": [
    {
     "data": {
      "text/plain": [
       "<matplotlib.legend.Legend at 0x7f2cbcd661d0>"
      ]
     },
     "execution_count": 326,
     "metadata": {},
     "output_type": "execute_result"
    },
    {
     "data": {
      "image/png": "[encoded data removed]",
      "text/plain": [
       "<matplotlib.figure.Figure at 0x7f2cbe396610>"
      ]
     },
     "metadata": {},
     "output_type": "display_data"
    }
   ],
   "source": [
    "plt.figure(figsize = (7.5,5))\n",
    "plt.grid()\n",
    "hist(rise_ratio_bid,bins = 90)\n",
    "plt.title(\"Bid1 Rise Ratio\")\n",
    "plt.xlabel(\"Rise Ratio\")\n",
    "plt.ylabel(\"frequency\")\n",
    "plt.axvline(x = -0.4 , color = 'r',linestyle = '-',label = -0.4, linewidth = 2)\n",
    "plt.axvline(x = -0.15 , color = 'm',linestyle = '-',label = -0.15, linewidth = 2)\n",
    "plt.axvline(x = 0.15 , color = 'y',linestyle = '-',label = 0.15, linewidth = 2)\n",
    "plt.axvline(x = 0.4 , color = 'g',linestyle = '-',label = 0.4, linewidth = 2)\n",
    "plt.legend(loc = 1)"
   ]
  },
  {
   "cell_type": "code",
   "execution_count": null,
   "metadata": {
    "collapsed": true
   },
   "outputs": [],
   "source": []
  },
  {
   "cell_type": "code",
   "execution_count": null,
   "metadata": {
    "collapsed": true
   },
   "outputs": [],
   "source": []
  },
  {
   "cell_type": "code",
   "execution_count": null,
   "metadata": {
    "collapsed": true
   },
   "outputs": [],
   "source": []
  },
  {
   "cell_type": "code",
   "execution_count": null,
   "metadata": {
    "collapsed": true
   },
   "outputs": [],
   "source": []
  },
  {
   "cell_type": "code",
   "execution_count": null,
   "metadata": {
    "collapsed": true
   },
   "outputs": [],
   "source": []
  },
  {
   "cell_type": "code",
   "execution_count": null,
   "metadata": {
    "collapsed": true
   },
   "outputs": [],
   "source": []
  },
  {
   "cell_type": "code",
   "execution_count": null,
   "metadata": {
    "collapsed": true
   },
   "outputs": [],
   "source": []
  }
 ],
 "metadata": {
  "kernelspec": {
   "display_name": "Python 2",
   "language": "python",
   "name": "python2"
  },
  "language_info": {
   "codemirror_mode": {
    "name": "ipython",
    "version": 2
   },
   "file_extension": ".py",
   "mimetype": "text/x-python",
   "name": "python",
   "nbconvert_exporter": "python",
   "pygments_lexer": "ipython2",
   "version": "2.7.11"
  }
 },
 "nbformat": 4,
 "nbformat_minor": 0
}
